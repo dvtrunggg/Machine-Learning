{
 "cells": [
  {
   "cell_type": "code",
   "execution_count": 2,
   "id": "9a7b34f3",
   "metadata": {
    "ExecuteTime": {
     "end_time": "2022-01-26T15:16:41.035107Z",
     "start_time": "2022-01-26T15:16:40.726147Z"
    }
   },
   "outputs": [
    {
     "data": {
      "application/javascript": [
       "\n",
       "            setTimeout(function() {\n",
       "                var nbb_cell_id = 2;\n",
       "                var nbb_unformatted_code = \"import numpy as np\\nimport matplotlib.pyplot as plt\\nimport seaborn as sns\\nfrom sklearn.mixture import GaussianMixture\\n\\n%load_ext nb_black\";\n",
       "                var nbb_formatted_code = \"import numpy as np\\nimport matplotlib.pyplot as plt\\nimport seaborn as sns\\nfrom sklearn.mixture import GaussianMixture\\n\\n%load_ext nb_black\";\n",
       "                var nbb_cells = Jupyter.notebook.get_cells();\n",
       "                for (var i = 0; i < nbb_cells.length; ++i) {\n",
       "                    if (nbb_cells[i].input_prompt_number == nbb_cell_id) {\n",
       "                        if (nbb_cells[i].get_text() == nbb_unformatted_code) {\n",
       "                             nbb_cells[i].set_text(nbb_formatted_code);\n",
       "                        }\n",
       "                        break;\n",
       "                    }\n",
       "                }\n",
       "            }, 500);\n",
       "            "
      ],
      "text/plain": [
       "<IPython.core.display.Javascript object>"
      ]
     },
     "metadata": {},
     "output_type": "display_data"
    }
   ],
   "source": [
    "import numpy as np\n",
    "import matplotlib.pyplot as plt\n",
    "import seaborn as sns\n",
    "from sklearn.mixture import GaussianMixture\n",
    "\n",
    "%load_ext nb_black"
   ]
  },
  {
   "cell_type": "code",
   "execution_count": 4,
   "id": "a6733177",
   "metadata": {
    "ExecuteTime": {
     "end_time": "2022-01-26T15:16:52.261704Z",
     "start_time": "2022-01-26T15:16:52.241756Z"
    }
   },
   "outputs": [
    {
     "data": {
      "text/plain": [
       "array([[ 2.61755903,  2.49389168],\n",
       "       [ 1.7395701 ,  3.10180942],\n",
       "       [ 3.31414238,  3.10472391],\n",
       "       [ 1.24430187,  1.93071636],\n",
       "       [ 3.17727043,  3.66255088],\n",
       "       [ 3.62277406,  3.20621271],\n",
       "       [ 3.6392273 ,  1.92793743],\n",
       "       [ 4.79427604,  4.29135078],\n",
       "       [ 3.76536801,  4.04643937],\n",
       "       [ 4.44376284,  3.18056001],\n",
       "       [ 1.79005412,  1.58811366],\n",
       "       [ 3.5767677 ,  2.30243418],\n",
       "       [ 3.43730462,  3.5365168 ],\n",
       "       [ 3.86146269,  4.19749721],\n",
       "       [ 3.66767699,  3.40677817],\n",
       "       [ 2.70981877,  4.36654674],\n",
       "       [ 3.48509499,  2.53904958],\n",
       "       [ 2.81027134,  1.71831559],\n",
       "       [ 3.68957784,  1.9367956 ],\n",
       "       [ 4.0999267 ,  4.27600474],\n",
       "       [ 2.26285719,  2.41613364],\n",
       "       [ 3.23809663,  2.9687813 ],\n",
       "       [ 4.64435439,  4.00050615],\n",
       "       [ 2.93924841,  3.88476727],\n",
       "       [ 3.48111399,  1.90420293],\n",
       "       [ 2.88234452,  2.53791645],\n",
       "       [ 3.33190749,  3.8790074 ],\n",
       "       [ 1.66136486,  2.49432712],\n",
       "       [ 3.88890295,  3.61233499],\n",
       "       [ 2.26743194,  3.13998602],\n",
       "       [ 3.51161569,  3.34555725],\n",
       "       [ 4.52449595,  3.45457622],\n",
       "       [ 1.66672583,  2.87978379],\n",
       "       [ 2.61561426,  3.51320137],\n",
       "       [ 2.96504923,  2.38803658],\n",
       "       [ 1.98892708,  3.36458881],\n",
       "       [ 2.33231387,  3.7317737 ],\n",
       "       [ 4.97560528,  5.71073723],\n",
       "       [ 3.05586289,  2.78842258],\n",
       "       [ 3.80679451,  2.02905883],\n",
       "       [ 3.03677491,  3.35618611],\n",
       "       [ 1.90990887,  1.44635389],\n",
       "       [ 3.94753123,  3.49874609],\n",
       "       [ 2.03421749,  2.32826142],\n",
       "       [ 3.24429176,  3.70337211],\n",
       "       [ 2.47997999,  3.34636241],\n",
       "       [ 3.77447034,  3.48140041],\n",
       "       [ 4.00521598,  2.69620841],\n",
       "       [ 2.61839451,  2.85188944],\n",
       "       [ 3.10033694,  2.89051583],\n",
       "       [ 4.45406438,  4.07782777],\n",
       "       [ 3.66532248,  2.94774388],\n",
       "       [ 2.96356129,  3.32495536],\n",
       "       [ 1.23487047,  1.39101761],\n",
       "       [ 2.80293315,  2.7363467 ],\n",
       "       [ 4.72805851,  4.70434378],\n",
       "       [ 1.8445331 ,  4.04772382],\n",
       "       [ 3.03719681,  3.30690895],\n",
       "       [ 3.55369586,  2.50839844],\n",
       "       [ 1.64155353,  2.31410288],\n",
       "       [ 2.69916995,  1.88578908],\n",
       "       [ 2.37222948,  1.11837577],\n",
       "       [ 1.49549752,  3.45470059],\n",
       "       [ 4.13921867,  3.63270658],\n",
       "       [ 3.13603027,  2.68570795],\n",
       "       [ 4.35629324,  4.41761783],\n",
       "       [ 3.73835635,  4.1619503 ],\n",
       "       [ 3.1292063 ,  4.51550977],\n",
       "       [ 3.84459333,  3.55653275],\n",
       "       [ 2.82282734,  1.72190882],\n",
       "       [ 2.21198164,  3.38112566],\n",
       "       [ 4.35520594,  4.52034749],\n",
       "       [ 2.41791194,  3.11719558],\n",
       "       [ 4.6968885 ,  3.5158362 ],\n",
       "       [ 2.40034569,  2.66597686],\n",
       "       [ 2.62101603,  2.93088873],\n",
       "       [ 3.50436559,  3.71209961],\n",
       "       [ 3.05733568,  2.41840034],\n",
       "       [ 1.11929602,  1.54310507],\n",
       "       [ 3.77191454,  4.35915394],\n",
       "       [ 3.51978685,  4.22377672],\n",
       "       [ 2.3307409 ,  1.59670032],\n",
       "       [ 1.95372895,  2.32293144],\n",
       "       [ 1.41645543,  3.11299865],\n",
       "       [ 3.55656286,  2.88240074],\n",
       "       [ 4.16044734,  3.43076444],\n",
       "       [ 2.91639406,  3.22152967],\n",
       "       [ 2.38259263,  3.12244782],\n",
       "       [ 2.33833055,  3.63841096],\n",
       "       [ 2.02021963,  4.4532129 ],\n",
       "       [ 2.82371862,  2.0570536 ],\n",
       "       [ 3.74206715,  4.17360359],\n",
       "       [ 2.88056046,  3.51918192],\n",
       "       [ 2.60929348,  2.54415332],\n",
       "       [ 4.4348556 ,  3.07993505],\n",
       "       [ 3.01638193,  3.7823683 ],\n",
       "       [ 3.36562005,  2.25139742],\n",
       "       [ 2.6727831 ,  3.01742144],\n",
       "       [ 3.72179817,  3.85929408],\n",
       "       [ 3.4590884 ,  2.43678468],\n",
       "       [ 0.98850264,  1.90439829],\n",
       "       [ 1.4927276 ,  2.68700625],\n",
       "       [ 1.62519789,  1.1934404 ],\n",
       "       [ 0.34126392,  3.25318847],\n",
       "       [ 2.1429666 ,  1.2772986 ],\n",
       "       [ 1.74687364,  0.89237364],\n",
       "       [ 0.53591156,  0.98206794],\n",
       "       [ 2.87252264, -0.30806869],\n",
       "       [ 2.55549162,  0.68792331],\n",
       "       [ 1.79017396,  0.1158603 ],\n",
       "       [ 0.06129582,  2.76381861],\n",
       "       [ 0.88593947,  1.01045533],\n",
       "       [ 2.04485621,  1.04106406],\n",
       "       [ 2.70667086,  0.58434357],\n",
       "       [ 1.94078901,  0.83326599],\n",
       "       [ 2.77213034,  1.66263817],\n",
       "       [ 1.10279415,  1.07790649],\n",
       "       [ 0.26882035,  1.78551823],\n",
       "       [ 0.5484603 ,  0.93358574],\n",
       "       [ 2.80077106,  0.351717  ],\n",
       "       [ 0.8855381 ,  2.2472032 ],\n",
       "       [ 1.49000549,  1.27676059],\n",
       "       [ 2.58433546, -0.14192439],\n",
       "       [ 2.33410964,  1.48473371],\n",
       "       [ 0.50037707,  1.13397789],\n",
       "       [ 1.05206762,  1.64964893],\n",
       "       [ 2.36099246,  1.11280996],\n",
       "       [ 0.91014865,  2.81121783],\n",
       "       [ 2.15396289,  0.60652224],\n",
       "       [ 1.57241721,  2.1832368 ],\n",
       "       [ 1.86987141,  0.98631777],\n",
       "       [ 2.05670161,  0.01672072],\n",
       "       [ 1.27615771,  2.7743813 ],\n",
       "       [ 1.95505667,  1.82227657],\n",
       "       [ 0.91673425,  1.58355813],\n",
       "       [ 1.76248872,  2.42886929],\n",
       "       [ 2.13901386,  2.07295391],\n",
       "       [ 4.23360712, -0.59696417],\n",
       "       [ 1.30394152,  1.46444838],\n",
       "       [ 0.64561861,  0.81481713],\n",
       "       [ 1.84083658,  1.43578163],\n",
       "       [-0.06327618,  2.66182579],\n",
       "       [ 2.0510646 ,  0.56027606],\n",
       "       [ 0.78336571,  2.47128381],\n",
       "       [ 2.1872024 ,  1.21037285],\n",
       "       [ 1.78565351,  1.96465567],\n",
       "       [ 2.02035797,  0.72583603],\n",
       "       [ 1.29468895,  0.57167724],\n",
       "       [ 1.32809687,  1.87411568],\n",
       "       [ 1.40443042,  1.41385917],\n",
       "       [ 2.64199212,  0.03217742],\n",
       "       [ 1.50524652,  0.87331218],\n",
       "       [ 1.8051863 ,  1.50779015],\n",
       "       [-0.17136378,  3.30659117],\n",
       "       [ 1.23371749,  1.70861695],\n",
       "       [ 3.25875087, -0.27928843],\n",
       "       [ 2.39848006,  2.50953908],\n",
       "       [ 1.79413683,  1.43944074],\n",
       "       [ 1.07937561,  1.01537027],\n",
       "       [ 0.73759184,  2.84485299],\n",
       "       [ 0.41850033,  1.87709117],\n",
       "       [-0.33624703,  2.25037787],\n",
       "       [ 1.80730431,  2.88941532],\n",
       "       [ 2.1939032 ,  0.36744446],\n",
       "       [ 1.2131307 ,  1.39687874],\n",
       "       [ 2.95619537,  0.09691328],\n",
       "       [ 2.66281719,  0.70402593],\n",
       "       [ 2.94795427,  1.25261975],\n",
       "       [ 2.09738997,  0.65314226],\n",
       "       [ 0.27326248,  1.77331412],\n",
       "       [ 1.79654651,  2.21596191],\n",
       "       [ 3.0535347 ,  0.08948207],\n",
       "       [ 1.5631986 ,  2.04239879],\n",
       "       [ 2.12900156, -0.15182285],\n",
       "       [ 1.13381532,  2.09622802],\n",
       "       [ 1.40323582,  1.86512181],\n",
       "       [ 2.21690329,  0.96299965],\n",
       "       [ 0.95313342,  1.49353236],\n",
       "       [-0.0366444 ,  3.40367381],\n",
       "       [ 2.85260967,  0.65595456],\n",
       "       [ 2.70344866,  0.90622446],\n",
       "       [ 0.11397876,  2.25032345],\n",
       "       [ 0.77168046,  2.54805827],\n",
       "       [ 1.47672274,  2.99252678],\n",
       "       [ 1.4343159 ,  0.98184257],\n",
       "       [ 2.00412982,  0.36394625],\n",
       "       [ 1.70321186,  1.56104333],\n",
       "       [ 1.56527038,  2.07546301],\n",
       "       [ 2.05096418,  2.07493848],\n",
       "       [ 2.79751853,  2.30951544],\n",
       "       [ 0.59118751,  1.7448611 ],\n",
       "       [ 2.67417486,  0.69954666],\n",
       "       [ 1.98255371,  1.57050869],\n",
       "       [ 1.03548995,  1.90809702],\n",
       "       [ 1.69400743,  0.13259696],\n",
       "       [ 2.24334827,  1.42001538],\n",
       "       [ 0.82014277,  1.21491212],\n",
       "       [ 1.48956785,  1.8088977 ],\n",
       "       [ 2.37441377,  0.74466118],\n",
       "       [ 1.00366372,  1.11099529]])"
      ]
     },
     "execution_count": 4,
     "metadata": {},
     "output_type": "execute_result"
    },
    {
     "data": {
      "application/javascript": [
       "\n",
       "            setTimeout(function() {\n",
       "                var nbb_cell_id = 4;\n",
       "                var nbb_unformatted_code = \"X_train = np.load(\\\"data/data.npy\\\")\\nX_train \";\n",
       "                var nbb_formatted_code = \"X_train = np.load(\\\"data/data.npy\\\")\\nX_train\";\n",
       "                var nbb_cells = Jupyter.notebook.get_cells();\n",
       "                for (var i = 0; i < nbb_cells.length; ++i) {\n",
       "                    if (nbb_cells[i].input_prompt_number == nbb_cell_id) {\n",
       "                        if (nbb_cells[i].get_text() == nbb_unformatted_code) {\n",
       "                             nbb_cells[i].set_text(nbb_formatted_code);\n",
       "                        }\n",
       "                        break;\n",
       "                    }\n",
       "                }\n",
       "            }, 500);\n",
       "            "
      ],
      "text/plain": [
       "<IPython.core.display.Javascript object>"
      ]
     },
     "metadata": {},
     "output_type": "display_data"
    }
   ],
   "source": [
    "X_train = np.load(\"data/data.npy\")\n",
    "X_train"
   ]
  },
  {
   "cell_type": "code",
   "execution_count": 5,
   "id": "0488d701",
   "metadata": {
    "ExecuteTime": {
     "end_time": "2022-01-26T16:35:05.654184Z",
     "start_time": "2022-01-26T16:35:05.631247Z"
    }
   },
   "outputs": [
    {
     "data": {
      "text/plain": [
       "(200, 2)"
      ]
     },
     "execution_count": 5,
     "metadata": {},
     "output_type": "execute_result"
    },
    {
     "data": {
      "application/javascript": [
       "\n",
       "            setTimeout(function() {\n",
       "                var nbb_cell_id = 5;\n",
       "                var nbb_unformatted_code = \"X_train.shape\";\n",
       "                var nbb_formatted_code = \"X_train.shape\";\n",
       "                var nbb_cells = Jupyter.notebook.get_cells();\n",
       "                for (var i = 0; i < nbb_cells.length; ++i) {\n",
       "                    if (nbb_cells[i].input_prompt_number == nbb_cell_id) {\n",
       "                        if (nbb_cells[i].get_text() == nbb_unformatted_code) {\n",
       "                             nbb_cells[i].set_text(nbb_formatted_code);\n",
       "                        }\n",
       "                        break;\n",
       "                    }\n",
       "                }\n",
       "            }, 500);\n",
       "            "
      ],
      "text/plain": [
       "<IPython.core.display.Javascript object>"
      ]
     },
     "metadata": {},
     "output_type": "display_data"
    }
   ],
   "source": [
    "X_train.shape"
   ]
  },
  {
   "cell_type": "code",
   "execution_count": 6,
   "id": "41b29521",
   "metadata": {
    "ExecuteTime": {
     "end_time": "2022-01-26T16:35:22.151951Z",
     "start_time": "2022-01-26T16:35:22.144969Z"
    }
   },
   "outputs": [
    {
     "data": {
      "application/javascript": [
       "\n",
       "            setTimeout(function() {\n",
       "                var nbb_cell_id = 6;\n",
       "                var nbb_unformatted_code = \"# matrix: 200 d\\u00f2ng v\\u00e0 2 c\\u1ed9t\";\n",
       "                var nbb_formatted_code = \"# matrix: 200 d\\u00f2ng v\\u00e0 2 c\\u1ed9t\";\n",
       "                var nbb_cells = Jupyter.notebook.get_cells();\n",
       "                for (var i = 0; i < nbb_cells.length; ++i) {\n",
       "                    if (nbb_cells[i].input_prompt_number == nbb_cell_id) {\n",
       "                        if (nbb_cells[i].get_text() == nbb_unformatted_code) {\n",
       "                             nbb_cells[i].set_text(nbb_formatted_code);\n",
       "                        }\n",
       "                        break;\n",
       "                    }\n",
       "                }\n",
       "            }, 500);\n",
       "            "
      ],
      "text/plain": [
       "<IPython.core.display.Javascript object>"
      ]
     },
     "metadata": {},
     "output_type": "display_data"
    }
   ],
   "source": [
    "# matrix: 200 dòng và 2 cột"
   ]
  },
  {
   "cell_type": "code",
   "execution_count": 9,
   "id": "46d95d6d",
   "metadata": {
    "ExecuteTime": {
     "end_time": "2022-01-26T16:37:31.849524Z",
     "start_time": "2022-01-26T16:37:31.675987Z"
    }
   },
   "outputs": [
    {
     "data": {
      "image/png": "[encoded data removed]",
      "text/plain": [
       "<Figure size 432x432 with 1 Axes>"
      ]
     },
     "metadata": {
      "needs_background": "light"
     },
     "output_type": "display_data"
    },
    {
     "data": {
      "application/javascript": [
       "\n",
       "            setTimeout(function() {\n",
       "                var nbb_cell_id = 9;\n",
       "                var nbb_unformatted_code = \"plt.figure(figsize=(6, 6))\\nplt.plot(X_train[:, 0], X_train[:, 1], \\\"b^\\\")\\nplt.show()\";\n",
       "                var nbb_formatted_code = \"plt.figure(figsize=(6, 6))\\nplt.plot(X_train[:, 0], X_train[:, 1], \\\"b^\\\")\\nplt.show()\";\n",
       "                var nbb_cells = Jupyter.notebook.get_cells();\n",
       "                for (var i = 0; i < nbb_cells.length; ++i) {\n",
       "                    if (nbb_cells[i].input_prompt_number == nbb_cell_id) {\n",
       "                        if (nbb_cells[i].get_text() == nbb_unformatted_code) {\n",
       "                             nbb_cells[i].set_text(nbb_formatted_code);\n",
       "                        }\n",
       "                        break;\n",
       "                    }\n",
       "                }\n",
       "            }, 500);\n",
       "            "
      ],
      "text/plain": [
       "<IPython.core.display.Javascript object>"
      ]
     },
     "metadata": {},
     "output_type": "display_data"
    }
   ],
   "source": [
    "plt.figure(figsize=(6, 6))\n",
    "plt.plot(X_train[:, 0], X_train[:, 1], \"b^\")\n",
    "plt.show()"
   ]
  },
  {
   "cell_type": "code",
   "execution_count": 10,
   "id": "b1f6b441",
   "metadata": {
    "ExecuteTime": {
     "end_time": "2022-01-26T16:38:12.145370Z",
     "start_time": "2022-01-26T16:38:12.129413Z"
    }
   },
   "outputs": [
    {
     "data": {
      "text/plain": [
       "'\\n=> dữ liệu ko có sự phân cụm rõ ràng\\n=> ko nên sử dụng kmeans=> dùng GMM để phân cụm\\n'"
      ]
     },
     "execution_count": 10,
     "metadata": {},
     "output_type": "execute_result"
    },
    {
     "data": {
      "application/javascript": [
       "\n",
       "            setTimeout(function() {\n",
       "                var nbb_cell_id = 10;\n",
       "                var nbb_unformatted_code = \"\\\"\\\"\\\"\\n=> d\\u1eef li\\u1ec7u ko c\\u00f3 s\\u1ef1 ph\\u00e2n c\\u1ee5m r\\u00f5 r\\u00e0ng\\n=> ko n\\u00ean s\\u1eed d\\u1ee5ng kmeans=> d\\u00f9ng GMM \\u0111\\u1ec3 ph\\u00e2n c\\u1ee5m\\n\\\"\\\"\\\"\";\n",
       "                var nbb_formatted_code = \"\\\"\\\"\\\"\\n=> d\\u1eef li\\u1ec7u ko c\\u00f3 s\\u1ef1 ph\\u00e2n c\\u1ee5m r\\u00f5 r\\u00e0ng\\n=> ko n\\u00ean s\\u1eed d\\u1ee5ng kmeans=> d\\u00f9ng GMM \\u0111\\u1ec3 ph\\u00e2n c\\u1ee5m\\n\\\"\\\"\\\"\";\n",
       "                var nbb_cells = Jupyter.notebook.get_cells();\n",
       "                for (var i = 0; i < nbb_cells.length; ++i) {\n",
       "                    if (nbb_cells[i].input_prompt_number == nbb_cell_id) {\n",
       "                        if (nbb_cells[i].get_text() == nbb_unformatted_code) {\n",
       "                             nbb_cells[i].set_text(nbb_formatted_code);\n",
       "                        }\n",
       "                        break;\n",
       "                    }\n",
       "                }\n",
       "            }, 500);\n",
       "            "
      ],
      "text/plain": [
       "<IPython.core.display.Javascript object>"
      ]
     },
     "metadata": {},
     "output_type": "display_data"
    }
   ],
   "source": [
    "\"\"\"\n",
    "=> dữ liệu ko có sự phân cụm rõ ràng\n",
    "=> ko nên sử dụng kmeans=> dùng GMM để phân cụm\n",
    "\"\"\""
   ]
  },
  {
   "cell_type": "code",
   "execution_count": 12,
   "id": "d56434f4",
   "metadata": {
    "ExecuteTime": {
     "end_time": "2022-01-26T16:38:28.644296Z",
     "start_time": "2022-01-26T16:38:28.633326Z"
    }
   },
   "outputs": [
    {
     "data": {
      "application/javascript": [
       "\n",
       "            setTimeout(function() {\n",
       "                var nbb_cell_id = 12;\n",
       "                var nbb_unformatted_code = \"# x\\u00e1c \\u0111\\u1ecbnh gi\\u00e1 tr\\u1ecb K (K components)\\n#https://scikit-learn.org/stable/modules/clustering.html#silhouette-coefficient\\nfrom sklearn.metrics import silhouette_score\";\n",
       "                var nbb_formatted_code = \"# x\\u00e1c \\u0111\\u1ecbnh gi\\u00e1 tr\\u1ecb K (K components)\\n# https://scikit-learn.org/stable/modules/clustering.html#silhouette-coefficient\\nfrom sklearn.metrics import silhouette_score\";\n",
       "                var nbb_cells = Jupyter.notebook.get_cells();\n",
       "                for (var i = 0; i < nbb_cells.length; ++i) {\n",
       "                    if (nbb_cells[i].input_prompt_number == nbb_cell_id) {\n",
       "                        if (nbb_cells[i].get_text() == nbb_unformatted_code) {\n",
       "                             nbb_cells[i].set_text(nbb_formatted_code);\n",
       "                        }\n",
       "                        break;\n",
       "                    }\n",
       "                }\n",
       "            }, 500);\n",
       "            "
      ],
      "text/plain": [
       "<IPython.core.display.Javascript object>"
      ]
     },
     "metadata": {},
     "output_type": "display_data"
    }
   ],
   "source": [
    "# xác định giá trị K (K components)\n",
    "# https://scikit-learn.org/stable/modules/clustering.html#silhouette-coefficient\n",
    "from sklearn.metrics import silhouette_score"
   ]
  },
  {
   "cell_type": "code",
   "execution_count": 33,
   "id": "5ea4d957",
   "metadata": {
    "ExecuteTime": {
     "end_time": "2022-01-26T16:46:20.774668Z",
     "start_time": "2022-01-26T16:46:20.657991Z"
    }
   },
   "outputs": [
    {
     "data": {
      "application/javascript": [
       "\n",
       "            setTimeout(function() {\n",
       "                var nbb_cell_id = 33;\n",
       "                var nbb_unformatted_code = \"list_sil = []  # l\\u01b0u danh s\\u00e1ch c\\u00e1c gi\\u00e1 tr\\u1ecb silhouette theo k\\nK = range(2, 8)  # ch\\u1ee9a danh s\\u00e1ch c\\u00e1c gi\\u00e1 tr\\u1ecb k c\\u1ea7n x\\u00e9t: 2, 3, 4, 5, 6, 7, 8\\nfor k in K:\\n    gmm = GaussianMixture(n_components=k)\\n    gmm.fit(X_train)\\n    labels = gmm.predict(X_train)\\n    # k = 2 => 0, 1; k = 3 => 0, 1, 2\\n    sil = silhouette_score(X_train, labels, metric=\\\"euclidean\\\")\\n    list_sil.append(sil)\";\n",
       "                var nbb_formatted_code = \"list_sil = []  # l\\u01b0u danh s\\u00e1ch c\\u00e1c gi\\u00e1 tr\\u1ecb silhouette theo k\\nK = range(2, 8)  # ch\\u1ee9a danh s\\u00e1ch c\\u00e1c gi\\u00e1 tr\\u1ecb k c\\u1ea7n x\\u00e9t: 2, 3, 4, 5, 6, 7, 8\\nfor k in K:\\n    gmm = GaussianMixture(n_components=k)\\n    gmm.fit(X_train)\\n    labels = gmm.predict(X_train)\\n    # k = 2 => 0, 1; k = 3 => 0, 1, 2\\n    sil = silhouette_score(X_train, labels, metric=\\\"euclidean\\\")\\n    list_sil.append(sil)\";\n",
       "                var nbb_cells = Jupyter.notebook.get_cells();\n",
       "                for (var i = 0; i < nbb_cells.length; ++i) {\n",
       "                    if (nbb_cells[i].input_prompt_number == nbb_cell_id) {\n",
       "                        if (nbb_cells[i].get_text() == nbb_unformatted_code) {\n",
       "                             nbb_cells[i].set_text(nbb_formatted_code);\n",
       "                        }\n",
       "                        break;\n",
       "                    }\n",
       "                }\n",
       "            }, 500);\n",
       "            "
      ],
      "text/plain": [
       "<IPython.core.display.Javascript object>"
      ]
     },
     "metadata": {},
     "output_type": "display_data"
    }
   ],
   "source": [
    "list_sil = []  # lưu danh sách các giá trị silhouette theo k\n",
    "K = range(2, 8)  # chứa danh sách các giá trị k cần xét: 2, 3, 4, 5, 6, 7, 8\n",
    "for k in K:\n",
    "    gmm = GaussianMixture(n_components=k)\n",
    "    gmm.fit(X_train)\n",
    "    labels = gmm.predict(X_train)\n",
    "    # k = 2 => 0, 1; k = 3 => 0, 1, 2\n",
    "    sil = silhouette_score(X_train, labels, metric=\"euclidean\")\n",
    "    list_sil.append(sil)"
   ]
  },
  {
   "cell_type": "code",
   "execution_count": 34,
   "id": "10158bf2",
   "metadata": {
    "ExecuteTime": {
     "end_time": "2022-01-26T16:46:20.882019Z",
     "start_time": "2022-01-26T16:46:20.864066Z"
    }
   },
   "outputs": [
    {
     "data": {
      "text/plain": [
       "[0.4353701319430003,\n",
       " 0.3443272834023599,\n",
       " 0.36938145370806497,\n",
       " 0.3239277466807222,\n",
       " 0.3397272228320898,\n",
       " 0.3001215951888594]"
      ]
     },
     "execution_count": 34,
     "metadata": {},
     "output_type": "execute_result"
    },
    {
     "data": {
      "application/javascript": [
       "\n",
       "            setTimeout(function() {\n",
       "                var nbb_cell_id = 34;\n",
       "                var nbb_unformatted_code = \"list_sil\";\n",
       "                var nbb_formatted_code = \"list_sil\";\n",
       "                var nbb_cells = Jupyter.notebook.get_cells();\n",
       "                for (var i = 0; i < nbb_cells.length; ++i) {\n",
       "                    if (nbb_cells[i].input_prompt_number == nbb_cell_id) {\n",
       "                        if (nbb_cells[i].get_text() == nbb_unformatted_code) {\n",
       "                             nbb_cells[i].set_text(nbb_formatted_code);\n",
       "                        }\n",
       "                        break;\n",
       "                    }\n",
       "                }\n",
       "            }, 500);\n",
       "            "
      ],
      "text/plain": [
       "<IPython.core.display.Javascript object>"
      ]
     },
     "metadata": {},
     "output_type": "display_data"
    }
   ],
   "source": [
    "list_sil"
   ]
  },
  {
   "cell_type": "code",
   "execution_count": 35,
   "id": "6cce5e60",
   "metadata": {
    "ExecuteTime": {
     "end_time": "2022-01-26T16:46:21.901659Z",
     "start_time": "2022-01-26T16:46:21.779509Z"
    }
   },
   "outputs": [
    {
     "data": {
      "image/png": "[encoded data removed]",
      "text/plain": [
       "<Figure size 432x288 with 1 Axes>"
      ]
     },
     "metadata": {
      "needs_background": "light"
     },
     "output_type": "display_data"
    },
    {
     "data": {
      "application/javascript": [
       "\n",
       "            setTimeout(function() {\n",
       "                var nbb_cell_id = 35;\n",
       "                var nbb_unformatted_code = \"%matplotlib inline\\nplt.plot(K, list_sil, \\\"bx-\\\")\\nplt.xlabel(\\\"k\\\")\\nplt.ylabel(\\\"silhouette score\\\")\\nplt.title(\\\"The silhouette score & k\\\")\\nplt.show()\";\n",
       "                var nbb_formatted_code = \"%matplotlib inline\\nplt.plot(K, list_sil, \\\"bx-\\\")\\nplt.xlabel(\\\"k\\\")\\nplt.ylabel(\\\"silhouette score\\\")\\nplt.title(\\\"The silhouette score & k\\\")\\nplt.show()\";\n",
       "                var nbb_cells = Jupyter.notebook.get_cells();\n",
       "                for (var i = 0; i < nbb_cells.length; ++i) {\n",
       "                    if (nbb_cells[i].input_prompt_number == nbb_cell_id) {\n",
       "                        if (nbb_cells[i].get_text() == nbb_unformatted_code) {\n",
       "                             nbb_cells[i].set_text(nbb_formatted_code);\n",
       "                        }\n",
       "                        break;\n",
       "                    }\n",
       "                }\n",
       "            }, 500);\n",
       "            "
      ],
      "text/plain": [
       "<IPython.core.display.Javascript object>"
      ]
     },
     "metadata": {},
     "output_type": "display_data"
    }
   ],
   "source": [
    "%matplotlib inline\n",
    "plt.plot(K, list_sil, \"bx-\")\n",
    "plt.xlabel(\"k\")\n",
    "plt.ylabel(\"silhouette score\")\n",
    "plt.title(\"The silhouette score & k\")\n",
    "plt.show()"
   ]
  },
  {
   "cell_type": "code",
   "execution_count": 36,
   "id": "11a48903",
   "metadata": {
    "ExecuteTime": {
     "end_time": "2022-01-26T16:46:52.312212Z",
     "start_time": "2022-01-26T16:46:52.301273Z"
    }
   },
   "outputs": [
    {
     "data": {
      "text/plain": [
       "'\\n# mỗi lần chạy thì biểu đồ có thể khác nhau do nó chạy ngẫu nhiên X_train\\n=> chọn k = 2 (có giá trị silhouette_score cao nhất)\\n'"
      ]
     },
     "execution_count": 36,
     "metadata": {},
     "output_type": "execute_result"
    },
    {
     "data": {
      "application/javascript": [
       "\n",
       "            setTimeout(function() {\n",
       "                var nbb_cell_id = 36;\n",
       "                var nbb_unformatted_code = \"\\\"\\\"\\\"\\n# m\\u1ed7i l\\u1ea7n ch\\u1ea1y th\\u00ec bi\\u1ec3u \\u0111\\u1ed3 c\\u00f3 th\\u1ec3 kh\\u00e1c nhau do n\\u00f3 ch\\u1ea1y ng\\u1eabu nhi\\u00ean X_train\\n=> ch\\u1ecdn k = 2 (c\\u00f3 gi\\u00e1 tr\\u1ecb silhouette_score cao nh\\u1ea5t)\\n\\\"\\\"\\\"\";\n",
       "                var nbb_formatted_code = \"\\\"\\\"\\\"\\n# m\\u1ed7i l\\u1ea7n ch\\u1ea1y th\\u00ec bi\\u1ec3u \\u0111\\u1ed3 c\\u00f3 th\\u1ec3 kh\\u00e1c nhau do n\\u00f3 ch\\u1ea1y ng\\u1eabu nhi\\u00ean X_train\\n=> ch\\u1ecdn k = 2 (c\\u00f3 gi\\u00e1 tr\\u1ecb silhouette_score cao nh\\u1ea5t)\\n\\\"\\\"\\\"\";\n",
       "                var nbb_cells = Jupyter.notebook.get_cells();\n",
       "                for (var i = 0; i < nbb_cells.length; ++i) {\n",
       "                    if (nbb_cells[i].input_prompt_number == nbb_cell_id) {\n",
       "                        if (nbb_cells[i].get_text() == nbb_unformatted_code) {\n",
       "                             nbb_cells[i].set_text(nbb_formatted_code);\n",
       "                        }\n",
       "                        break;\n",
       "                    }\n",
       "                }\n",
       "            }, 500);\n",
       "            "
      ],
      "text/plain": [
       "<IPython.core.display.Javascript object>"
      ]
     },
     "metadata": {},
     "output_type": "display_data"
    }
   ],
   "source": [
    "\"\"\"\n",
    "# mỗi lần chạy thì biểu đồ có thể khác nhau do nó chạy ngẫu nhiên X_train\n",
    "=> chọn k = 2 (có giá trị silhouette_score cao nhất)\n",
    "\"\"\""
   ]
  },
  {
   "cell_type": "code",
   "execution_count": 37,
   "id": "58c65d89",
   "metadata": {
    "ExecuteTime": {
     "end_time": "2022-01-26T16:47:05.755435Z",
     "start_time": "2022-01-26T16:47:05.729994Z"
    }
   },
   "outputs": [
    {
     "data": {
      "text/plain": [
       "GaussianMixture(n_components=2)"
      ]
     },
     "execution_count": 37,
     "metadata": {},
     "output_type": "execute_result"
    },
    {
     "data": {
      "application/javascript": [
       "\n",
       "            setTimeout(function() {\n",
       "                var nbb_cell_id = 37;\n",
       "                var nbb_unformatted_code = \"# ch\\u1ecdn k=2 c\\u00f3 silhouette cao nh\\u1ea5t\\nmodel_gmm = GaussianMixture(n_components = 2)\\nmodel_gmm.fit(X_train)\";\n",
       "                var nbb_formatted_code = \"# ch\\u1ecdn k=2 c\\u00f3 silhouette cao nh\\u1ea5t\\nmodel_gmm = GaussianMixture(n_components=2)\\nmodel_gmm.fit(X_train)\";\n",
       "                var nbb_cells = Jupyter.notebook.get_cells();\n",
       "                for (var i = 0; i < nbb_cells.length; ++i) {\n",
       "                    if (nbb_cells[i].input_prompt_number == nbb_cell_id) {\n",
       "                        if (nbb_cells[i].get_text() == nbb_unformatted_code) {\n",
       "                             nbb_cells[i].set_text(nbb_formatted_code);\n",
       "                        }\n",
       "                        break;\n",
       "                    }\n",
       "                }\n",
       "            }, 500);\n",
       "            "
      ],
      "text/plain": [
       "<IPython.core.display.Javascript object>"
      ]
     },
     "metadata": {},
     "output_type": "display_data"
    }
   ],
   "source": [
    "# chọn k=2 có silhouette cao nhất\n",
    "model_gmm = GaussianMixture(n_components=2)\n",
    "model_gmm.fit(X_train)"
   ]
  },
  {
   "cell_type": "markdown",
   "id": "c1ed66c3",
   "metadata": {},
   "source": [
    "### Dự đoán"
   ]
  },
  {
   "cell_type": "code",
   "execution_count": 40,
   "id": "8fa5da4a",
   "metadata": {
    "ExecuteTime": {
     "end_time": "2022-01-26T16:47:47.861650Z",
     "start_time": "2022-01-26T16:47:47.843696Z"
    }
   },
   "outputs": [
    {
     "data": {
      "text/plain": [
       "array([0, 0, 0, 1, 0, 0, 0, 0, 0, 0, 1, 0, 0, 0, 0, 0, 0, 0, 0, 0, 0, 0,\n",
       "       0, 0, 0, 0, 0, 0, 0, 0, 0, 0, 0, 0, 0, 0, 0, 0, 0, 0, 0, 1, 0, 0,\n",
       "       0, 0, 0, 0, 0, 0, 0, 0, 0, 1, 0, 0, 0, 0, 0, 1, 0, 1, 0, 0, 0, 0,\n",
       "       0, 0, 0, 0, 0, 0, 0, 0, 0, 0, 0, 0, 1, 0, 0, 1, 0, 0, 0, 0, 0, 0,\n",
       "       0, 0, 0, 0, 0, 0, 0, 0, 0, 0, 0, 0, 1, 0, 1, 1, 1, 1, 1, 1, 1, 1,\n",
       "       1, 1, 1, 1, 1, 0, 1, 1, 1, 1, 1, 1, 1, 1, 1, 1, 1, 1, 1, 1, 1, 1,\n",
       "       1, 1, 1, 0, 0, 1, 1, 1, 1, 1, 1, 1, 1, 1, 1, 1, 1, 1, 1, 1, 1, 1,\n",
       "       1, 1, 0, 1, 1, 1, 1, 1, 0, 1, 1, 1, 1, 1, 1, 1, 0, 1, 1, 1, 1, 1,\n",
       "       1, 1, 1, 1, 1, 1, 1, 0, 1, 1, 1, 1, 0, 0, 1, 1, 1, 1, 1, 1, 1, 1,\n",
       "       1, 1], dtype=int64)"
      ]
     },
     "execution_count": 40,
     "metadata": {},
     "output_type": "execute_result"
    },
    {
     "data": {
      "application/javascript": [
       "\n",
       "            setTimeout(function() {\n",
       "                var nbb_cell_id = 40;\n",
       "                var nbb_unformatted_code = \"labels = model_gmm.predict(X_train)\\nlabels\";\n",
       "                var nbb_formatted_code = \"labels = model_gmm.predict(X_train)\\nlabels\";\n",
       "                var nbb_cells = Jupyter.notebook.get_cells();\n",
       "                for (var i = 0; i < nbb_cells.length; ++i) {\n",
       "                    if (nbb_cells[i].input_prompt_number == nbb_cell_id) {\n",
       "                        if (nbb_cells[i].get_text() == nbb_unformatted_code) {\n",
       "                             nbb_cells[i].set_text(nbb_formatted_code);\n",
       "                        }\n",
       "                        break;\n",
       "                    }\n",
       "                }\n",
       "            }, 500);\n",
       "            "
      ],
      "text/plain": [
       "<IPython.core.display.Javascript object>"
      ]
     },
     "metadata": {},
     "output_type": "display_data"
    }
   ],
   "source": [
    "labels = model_gmm.predict(X_train)\n",
    "labels"
   ]
  },
  {
   "cell_type": "code",
   "execution_count": 41,
   "id": "f07a757d",
   "metadata": {
    "ExecuteTime": {
     "end_time": "2022-01-26T16:48:36.786145Z",
     "start_time": "2022-01-26T16:48:36.773191Z"
    }
   },
   "outputs": [
    {
     "data": {
      "text/plain": [
       "'\\nta thấy các điểm data nhóm 0 và nhóm 1 đan xen nhau (nếu dùng KMeans thì nó sẽ phân hẳn ra 1 bên là nhóm 1, 1 bên là nhóm 0)\\n'"
      ]
     },
     "execution_count": 41,
     "metadata": {},
     "output_type": "execute_result"
    },
    {
     "data": {
      "application/javascript": [
       "\n",
       "            setTimeout(function() {\n",
       "                var nbb_cell_id = 41;\n",
       "                var nbb_unformatted_code = \"'''\\nta th\\u1ea5y c\\u00e1c \\u0111i\\u1ec3m data nh\\u00f3m 0 v\\u00e0 nh\\u00f3m 1 \\u0111an xen nhau (n\\u1ebfu d\\u00f9ng KMeans th\\u00ec n\\u00f3 s\\u1ebd ph\\u00e2n h\\u1eb3n ra 1 b\\u00ean l\\u00e0 nh\\u00f3m 1, 1 b\\u00ean l\\u00e0 nh\\u00f3m 0)\\n'''\";\n",
       "                var nbb_formatted_code = \"\\\"\\\"\\\"\\nta th\\u1ea5y c\\u00e1c \\u0111i\\u1ec3m data nh\\u00f3m 0 v\\u00e0 nh\\u00f3m 1 \\u0111an xen nhau (n\\u1ebfu d\\u00f9ng KMeans th\\u00ec n\\u00f3 s\\u1ebd ph\\u00e2n h\\u1eb3n ra 1 b\\u00ean l\\u00e0 nh\\u00f3m 1, 1 b\\u00ean l\\u00e0 nh\\u00f3m 0)\\n\\\"\\\"\\\"\";\n",
       "                var nbb_cells = Jupyter.notebook.get_cells();\n",
       "                for (var i = 0; i < nbb_cells.length; ++i) {\n",
       "                    if (nbb_cells[i].input_prompt_number == nbb_cell_id) {\n",
       "                        if (nbb_cells[i].get_text() == nbb_unformatted_code) {\n",
       "                             nbb_cells[i].set_text(nbb_formatted_code);\n",
       "                        }\n",
       "                        break;\n",
       "                    }\n",
       "                }\n",
       "            }, 500);\n",
       "            "
      ],
      "text/plain": [
       "<IPython.core.display.Javascript object>"
      ]
     },
     "metadata": {},
     "output_type": "display_data"
    }
   ],
   "source": [
    "\"\"\"\n",
    "ta thấy các điểm data nhóm 0 và nhóm 1 đan xen nhau (nếu dùng KMeans thì nó sẽ phân hẳn ra 1 bên là nhóm 1, 1 bên là nhóm 0)\n",
    "\"\"\""
   ]
  },
  {
   "cell_type": "code",
   "execution_count": 39,
   "id": "7b0e7e14",
   "metadata": {
    "ExecuteTime": {
     "end_time": "2022-01-26T16:47:18.323753Z",
     "start_time": "2022-01-26T16:47:18.191591Z"
    }
   },
   "outputs": [
    {
     "data": {
      "image/png": "[encoded data removed]",
      "text/plain": [
       "<Figure size 432x288 with 1 Axes>"
      ]
     },
     "metadata": {
      "needs_background": "light"
     },
     "output_type": "display_data"
    },
    {
     "data": {
      "application/javascript": [
       "\n",
       "            setTimeout(function() {\n",
       "                var nbb_cell_id = 39;\n",
       "                var nbb_unformatted_code = \"# tr\\u1ef1c quan h\\u00f3a k\\u1ebft qu\\u1ea3\\nplt.scatter(X_train[:, 0],X_train[:, 1], c=labels)\\nplt.show()\";\n",
       "                var nbb_formatted_code = \"# tr\\u1ef1c quan h\\u00f3a k\\u1ebft qu\\u1ea3\\nplt.scatter(X_train[:, 0], X_train[:, 1], c=labels)\\nplt.show()\";\n",
       "                var nbb_cells = Jupyter.notebook.get_cells();\n",
       "                for (var i = 0; i < nbb_cells.length; ++i) {\n",
       "                    if (nbb_cells[i].input_prompt_number == nbb_cell_id) {\n",
       "                        if (nbb_cells[i].get_text() == nbb_unformatted_code) {\n",
       "                             nbb_cells[i].set_text(nbb_formatted_code);\n",
       "                        }\n",
       "                        break;\n",
       "                    }\n",
       "                }\n",
       "            }, 500);\n",
       "            "
      ],
      "text/plain": [
       "<IPython.core.display.Javascript object>"
      ]
     },
     "metadata": {},
     "output_type": "display_data"
    }
   ],
   "source": [
    "# trực quan hóa kết quả\n",
    "plt.scatter(X_train[:, 0], X_train[:, 1], c=labels)\n",
    "plt.show()"
   ]
  },
  {
   "cell_type": "code",
   "execution_count": 43,
   "id": "bd7849ad",
   "metadata": {
    "ExecuteTime": {
     "end_time": "2022-01-26T16:49:36.394798Z",
     "start_time": "2022-01-26T16:49:36.377845Z"
    }
   },
   "outputs": [
    {
     "data": {
      "text/plain": [
       "'\\ndữ liệu phân chia thành 2 cụm (đã hội tụ rồi á nên mới ra kết quả, nếu chưa hội tụ thì nó sẽ vẫn còn loop :))\\n\\n'"
      ]
     },
     "execution_count": 43,
     "metadata": {},
     "output_type": "execute_result"
    },
    {
     "data": {
      "application/javascript": [
       "\n",
       "            setTimeout(function() {\n",
       "                var nbb_cell_id = 43;\n",
       "                var nbb_unformatted_code = \"\\\"\\\"\\\"\\nd\\u1eef li\\u1ec7u ph\\u00e2n chia th\\u00e0nh 2 c\\u1ee5m (\\u0111\\u00e3 h\\u1ed9i t\\u1ee5 r\\u1ed3i \\u00e1 n\\u00ean m\\u1edbi ra k\\u1ebft qu\\u1ea3, n\\u1ebfu ch\\u01b0a h\\u1ed9i t\\u1ee5 th\\u00ec n\\u00f3 s\\u1ebd v\\u1eabn c\\u00f2n loop :))\\n\\n\\\"\\\"\\\"\";\n",
       "                var nbb_formatted_code = \"\\\"\\\"\\\"\\nd\\u1eef li\\u1ec7u ph\\u00e2n chia th\\u00e0nh 2 c\\u1ee5m (\\u0111\\u00e3 h\\u1ed9i t\\u1ee5 r\\u1ed3i \\u00e1 n\\u00ean m\\u1edbi ra k\\u1ebft qu\\u1ea3, n\\u1ebfu ch\\u01b0a h\\u1ed9i t\\u1ee5 th\\u00ec n\\u00f3 s\\u1ebd v\\u1eabn c\\u00f2n loop :))\\n\\n\\\"\\\"\\\"\";\n",
       "                var nbb_cells = Jupyter.notebook.get_cells();\n",
       "                for (var i = 0; i < nbb_cells.length; ++i) {\n",
       "                    if (nbb_cells[i].input_prompt_number == nbb_cell_id) {\n",
       "                        if (nbb_cells[i].get_text() == nbb_unformatted_code) {\n",
       "                             nbb_cells[i].set_text(nbb_formatted_code);\n",
       "                        }\n",
       "                        break;\n",
       "                    }\n",
       "                }\n",
       "            }, 500);\n",
       "            "
      ],
      "text/plain": [
       "<IPython.core.display.Javascript object>"
      ]
     },
     "metadata": {},
     "output_type": "display_data"
    }
   ],
   "source": [
    "\"\"\"\n",
    "dữ liệu phân chia thành 2 cụm (đã hội tụ rồi á nên mới ra kết quả, nếu chưa hội tụ thì nó sẽ vẫn còn loop :))\n",
    "\n",
    "\"\"\""
   ]
  },
  {
   "cell_type": "code",
   "execution_count": 44,
   "id": "768545e7",
   "metadata": {
    "ExecuteTime": {
     "end_time": "2022-01-26T16:49:39.016244Z",
     "start_time": "2022-01-26T16:49:39.008266Z"
    }
   },
   "outputs": [
    {
     "data": {
      "application/javascript": [
       "\n",
       "            setTimeout(function() {\n",
       "                var nbb_cell_id = 44;\n",
       "                var nbb_unformatted_code = \"# Sau khi model \\u0111\\u00e3 h\\u1ed9i t\\u1ee5 c\\u1ea7n t\\u00ecm means, covariates v\\u00e0 Weights (Density)\\nDens = model_gmm.weights_\\nmeans = model_gmm.means_\\ncov = model_gmm.covariances_\";\n",
       "                var nbb_formatted_code = \"# Sau khi model \\u0111\\u00e3 h\\u1ed9i t\\u1ee5 c\\u1ea7n t\\u00ecm means, covariates v\\u00e0 Weights (Density)\\nDens = model_gmm.weights_\\nmeans = model_gmm.means_\\ncov = model_gmm.covariances_\";\n",
       "                var nbb_cells = Jupyter.notebook.get_cells();\n",
       "                for (var i = 0; i < nbb_cells.length; ++i) {\n",
       "                    if (nbb_cells[i].input_prompt_number == nbb_cell_id) {\n",
       "                        if (nbb_cells[i].get_text() == nbb_unformatted_code) {\n",
       "                             nbb_cells[i].set_text(nbb_formatted_code);\n",
       "                        }\n",
       "                        break;\n",
       "                    }\n",
       "                }\n",
       "            }, 500);\n",
       "            "
      ],
      "text/plain": [
       "<IPython.core.display.Javascript object>"
      ]
     },
     "metadata": {},
     "output_type": "display_data"
    }
   ],
   "source": [
    "# Sau khi model đã hội tụ cần tìm means, covariates và Weights (Density)\n",
    "Dens = model_gmm.weights_\n",
    "means = model_gmm.means_\n",
    "cov = model_gmm.covariances_"
   ]
  },
  {
   "cell_type": "code",
   "execution_count": 47,
   "id": "7a6f35df",
   "metadata": {
    "ExecuteTime": {
     "end_time": "2022-01-26T16:53:48.441150Z",
     "start_time": "2022-01-26T16:53:48.433172Z"
    }
   },
   "outputs": [
    {
     "name": "stdout",
     "output_type": "stream",
     "text": [
      "Density: [0.52279335 0.47720665] \n",
      "\n"
     ]
    },
    {
     "data": {
      "application/javascript": [
       "\n",
       "            setTimeout(function() {\n",
       "                var nbb_cell_id = 47;\n",
       "                var nbb_unformatted_code = \"print('Density:', Dens, '\\\\n')\";\n",
       "                var nbb_formatted_code = \"print(\\\"Density:\\\", Dens, \\\"\\\\n\\\")\";\n",
       "                var nbb_cells = Jupyter.notebook.get_cells();\n",
       "                for (var i = 0; i < nbb_cells.length; ++i) {\n",
       "                    if (nbb_cells[i].input_prompt_number == nbb_cell_id) {\n",
       "                        if (nbb_cells[i].get_text() == nbb_unformatted_code) {\n",
       "                             nbb_cells[i].set_text(nbb_formatted_code);\n",
       "                        }\n",
       "                        break;\n",
       "                    }\n",
       "                }\n",
       "            }, 500);\n",
       "            "
      ],
      "text/plain": [
       "<IPython.core.display.Javascript object>"
      ]
     },
     "metadata": {},
     "output_type": "display_data"
    }
   ],
   "source": [
    "print('Density:', Dens, '\\n')\n"
   ]
  },
  {
   "cell_type": "code",
   "execution_count": 48,
   "id": "82ff5739",
   "metadata": {
    "ExecuteTime": {
     "end_time": "2022-01-26T16:53:50.026983Z",
     "start_time": "2022-01-26T16:53:50.020003Z"
    }
   },
   "outputs": [
    {
     "data": {
      "text/plain": [
       "'\\nDensity: [0.52279335 0.47720665] \\ntừ Density, ta thấy cụm 1 chiếm 52.2%, cụm 2 chiếm 0.477 %\\n=> dữ liệu phân bố khá cân bằng\\n# nếu dữ liệu ko đồng đều => khi dùng các thuật toán classification sẽ bị mất cân bằng\\n=> khi này sẽ phải buil lại GMM với các giá trị k có silhouette_score lớn thứ nhì, thứ 3, ...\\n'"
      ]
     },
     "execution_count": 48,
     "metadata": {},
     "output_type": "execute_result"
    },
    {
     "data": {
      "application/javascript": [
       "\n",
       "            setTimeout(function() {\n",
       "                var nbb_cell_id = 48;\n",
       "                var nbb_unformatted_code = \"'''\\nDensity: [0.52279335 0.47720665] \\nt\\u1eeb Density, ta th\\u1ea5y c\\u1ee5m 1 chi\\u1ebfm 52.2%, c\\u1ee5m 2 chi\\u1ebfm 0.477 %\\n=> d\\u1eef li\\u1ec7u ph\\u00e2n b\\u1ed1 kh\\u00e1 c\\u00e2n b\\u1eb1ng\\n# n\\u1ebfu d\\u1eef li\\u1ec7u ko \\u0111\\u1ed3ng \\u0111\\u1ec1u => khi d\\u00f9ng c\\u00e1c thu\\u1eadt to\\u00e1n classification s\\u1ebd b\\u1ecb m\\u1ea5t c\\u00e2n b\\u1eb1ng\\n=> khi n\\u00e0y s\\u1ebd ph\\u1ea3i buil l\\u1ea1i GMM v\\u1edbi c\\u00e1c gi\\u00e1 tr\\u1ecb k c\\u00f3 silhouette_score l\\u1edbn th\\u1ee9 nh\\u00ec, th\\u1ee9 3, ...\\n'''\";\n",
       "                var nbb_formatted_code = \"\\\"\\\"\\\"\\nDensity: [0.52279335 0.47720665] \\nt\\u1eeb Density, ta th\\u1ea5y c\\u1ee5m 1 chi\\u1ebfm 52.2%, c\\u1ee5m 2 chi\\u1ebfm 0.477 %\\n=> d\\u1eef li\\u1ec7u ph\\u00e2n b\\u1ed1 kh\\u00e1 c\\u00e2n b\\u1eb1ng\\n# n\\u1ebfu d\\u1eef li\\u1ec7u ko \\u0111\\u1ed3ng \\u0111\\u1ec1u => khi d\\u00f9ng c\\u00e1c thu\\u1eadt to\\u00e1n classification s\\u1ebd b\\u1ecb m\\u1ea5t c\\u00e2n b\\u1eb1ng\\n=> khi n\\u00e0y s\\u1ebd ph\\u1ea3i buil l\\u1ea1i GMM v\\u1edbi c\\u00e1c gi\\u00e1 tr\\u1ecb k c\\u00f3 silhouette_score l\\u1edbn th\\u1ee9 nh\\u00ec, th\\u1ee9 3, ...\\n\\\"\\\"\\\"\";\n",
       "                var nbb_cells = Jupyter.notebook.get_cells();\n",
       "                for (var i = 0; i < nbb_cells.length; ++i) {\n",
       "                    if (nbb_cells[i].input_prompt_number == nbb_cell_id) {\n",
       "                        if (nbb_cells[i].get_text() == nbb_unformatted_code) {\n",
       "                             nbb_cells[i].set_text(nbb_formatted_code);\n",
       "                        }\n",
       "                        break;\n",
       "                    }\n",
       "                }\n",
       "            }, 500);\n",
       "            "
      ],
      "text/plain": [
       "<IPython.core.display.Javascript object>"
      ]
     },
     "metadata": {},
     "output_type": "display_data"
    }
   ],
   "source": [
    "\"\"\"\n",
    "Density: [0.52279335 0.47720665] \n",
    "từ Density, ta thấy cụm 1 chiếm 52.2%, cụm 2 chiếm 0.477 %\n",
    "=> dữ liệu phân bố khá cân bằng\n",
    "# nếu dữ liệu ko đồng đều => khi dùng các thuật toán classification sẽ bị mất cân bằng\n",
    "=> khi này sẽ phải buil lại GMM với các giá trị k có silhouette_score lớn thứ nhì, thứ 3, ...\n",
    "\"\"\""
   ]
  },
  {
   "cell_type": "code",
   "execution_count": 51,
   "id": "c514ece9",
   "metadata": {
    "ExecuteTime": {
     "end_time": "2022-01-26T16:54:09.127301Z",
     "start_time": "2022-01-26T16:54:09.104365Z"
    }
   },
   "outputs": [
    {
     "name": "stdout",
     "output_type": "stream",
     "text": [
      "\n",
      " means: [[3.0363831  3.09828041]\n",
      " [1.60629419 1.3470999 ]] \n",
      "\n"
     ]
    },
    {
     "data": {
      "application/javascript": [
       "\n",
       "            setTimeout(function() {\n",
       "                var nbb_cell_id = 51;\n",
       "                var nbb_unformatted_code = \"print('\\\\n means:', means,'\\\\n')\";\n",
       "                var nbb_formatted_code = \"print(\\\"\\\\n means:\\\", means, \\\"\\\\n\\\")\";\n",
       "                var nbb_cells = Jupyter.notebook.get_cells();\n",
       "                for (var i = 0; i < nbb_cells.length; ++i) {\n",
       "                    if (nbb_cells[i].input_prompt_number == nbb_cell_id) {\n",
       "                        if (nbb_cells[i].get_text() == nbb_unformatted_code) {\n",
       "                             nbb_cells[i].set_text(nbb_formatted_code);\n",
       "                        }\n",
       "                        break;\n",
       "                    }\n",
       "                }\n",
       "            }, 500);\n",
       "            "
      ],
      "text/plain": [
       "<IPython.core.display.Javascript object>"
      ]
     },
     "metadata": {},
     "output_type": "display_data"
    }
   ],
   "source": [
    "print('\\n means:', means,'\\n')\n"
   ]
  },
  {
   "cell_type": "code",
   "execution_count": 52,
   "id": "0f76aa96",
   "metadata": {
    "ExecuteTime": {
     "end_time": "2022-01-26T16:54:48.402029Z",
     "start_time": "2022-01-26T16:54:48.383083Z"
    }
   },
   "outputs": [
    {
     "data": {
      "text/plain": [
       "'\\n[[3.0363831  3.09828041]\\n [1.60629419 1.3470999 ]] \\n\\n=> vị trí trung tâm nhóm 1 là (3.0363831  3.09828041)\\n=> vị trí trung tâm nhóm 2 là (1.60629419 1.3470999)\\n\\n'"
      ]
     },
     "execution_count": 52,
     "metadata": {},
     "output_type": "execute_result"
    },
    {
     "data": {
      "application/javascript": [
       "\n",
       "            setTimeout(function() {\n",
       "                var nbb_cell_id = 52;\n",
       "                var nbb_unformatted_code = \"'''\\n[[3.0363831  3.09828041]\\n [1.60629419 1.3470999 ]] \\n\\n=> v\\u1ecb tr\\u00ed trung t\\u00e2m nh\\u00f3m 1 l\\u00e0 (3.0363831  3.09828041)\\n=> v\\u1ecb tr\\u00ed trung t\\u00e2m nh\\u00f3m 2 l\\u00e0 (1.60629419 1.3470999)\\n\\n'''\";\n",
       "                var nbb_formatted_code = \"\\\"\\\"\\\"\\n[[3.0363831  3.09828041]\\n [1.60629419 1.3470999 ]] \\n\\n=> v\\u1ecb tr\\u00ed trung t\\u00e2m nh\\u00f3m 1 l\\u00e0 (3.0363831  3.09828041)\\n=> v\\u1ecb tr\\u00ed trung t\\u00e2m nh\\u00f3m 2 l\\u00e0 (1.60629419 1.3470999)\\n\\n\\\"\\\"\\\"\";\n",
       "                var nbb_cells = Jupyter.notebook.get_cells();\n",
       "                for (var i = 0; i < nbb_cells.length; ++i) {\n",
       "                    if (nbb_cells[i].input_prompt_number == nbb_cell_id) {\n",
       "                        if (nbb_cells[i].get_text() == nbb_unformatted_code) {\n",
       "                             nbb_cells[i].set_text(nbb_formatted_code);\n",
       "                        }\n",
       "                        break;\n",
       "                    }\n",
       "                }\n",
       "            }, 500);\n",
       "            "
      ],
      "text/plain": [
       "<IPython.core.display.Javascript object>"
      ]
     },
     "metadata": {},
     "output_type": "display_data"
    }
   ],
   "source": [
    "\"\"\"\n",
    "[[3.0363831  3.09828041]\n",
    " [1.60629419 1.3470999 ]] \n",
    "\n",
    "=> vị trí trung tâm nhóm 1 là (3.0363831  3.09828041)\n",
    "=> vị trí trung tâm nhóm 2 là (1.60629419 1.3470999)\n",
    "\n",
    "\"\"\""
   ]
  },
  {
   "cell_type": "code",
   "execution_count": 53,
   "id": "f6485ff3",
   "metadata": {
    "ExecuteTime": {
     "end_time": "2022-01-26T16:54:48.587837Z",
     "start_time": "2022-01-26T16:54:48.577871Z"
    }
   },
   "outputs": [
    {
     "name": "stdout",
     "output_type": "stream",
     "text": [
      "Covariances: [[[ 0.8465178   0.38644336]\n",
      "  [ 0.38644336  0.73395863]]\n",
      "\n",
      " [[ 0.75275611 -0.5054196 ]\n",
      "  [-0.5054196   0.74286061]]]\n"
     ]
    },
    {
     "data": {
      "application/javascript": [
       "\n",
       "            setTimeout(function() {\n",
       "                var nbb_cell_id = 53;\n",
       "                var nbb_unformatted_code = \"print('Covariances:', cov)\";\n",
       "                var nbb_formatted_code = \"print(\\\"Covariances:\\\", cov)\";\n",
       "                var nbb_cells = Jupyter.notebook.get_cells();\n",
       "                for (var i = 0; i < nbb_cells.length; ++i) {\n",
       "                    if (nbb_cells[i].input_prompt_number == nbb_cell_id) {\n",
       "                        if (nbb_cells[i].get_text() == nbb_unformatted_code) {\n",
       "                             nbb_cells[i].set_text(nbb_formatted_code);\n",
       "                        }\n",
       "                        break;\n",
       "                    }\n",
       "                }\n",
       "            }, 500);\n",
       "            "
      ],
      "text/plain": [
       "<IPython.core.display.Javascript object>"
      ]
     },
     "metadata": {},
     "output_type": "display_data"
    }
   ],
   "source": [
    "print(\"Covariances:\", cov)"
   ]
  },
  {
   "cell_type": "code",
   "execution_count": 54,
   "id": "3e7e783e",
   "metadata": {
    "ExecuteTime": {
     "end_time": "2022-01-26T16:57:31.039236Z",
     "start_time": "2022-01-26T16:57:31.021285Z"
    }
   },
   "outputs": [
    {
     "data": {
      "text/plain": [
       "'\\nMa trận hiệp phương sai\\n[ 0.8465178   0.38644336]\\n=> nhóm 1: X tăng thì Y tăng \\n\\n[ 0.75275611 -0.5054196 ]\\n=> nhóm 2: X tang9 thì Y giảm (do có dấu - kìa)\\n'"
      ]
     },
     "execution_count": 54,
     "metadata": {},
     "output_type": "execute_result"
    },
    {
     "data": {
      "application/javascript": [
       "\n",
       "            setTimeout(function() {\n",
       "                var nbb_cell_id = 54;\n",
       "                var nbb_unformatted_code = \"'''\\nMa tr\\u1eadn hi\\u1ec7p ph\\u01b0\\u01a1ng sai\\n[ 0.8465178   0.38644336]\\n=> nh\\u00f3m 1: X t\\u0103ng th\\u00ec Y t\\u0103ng \\n\\n[ 0.75275611 -0.5054196 ]\\n=> nh\\u00f3m 2: X tang9 th\\u00ec Y gi\\u1ea3m (do c\\u00f3 d\\u1ea5u - k\\u00eca)\\n'''\";\n",
       "                var nbb_formatted_code = \"\\\"\\\"\\\"\\nMa tr\\u1eadn hi\\u1ec7p ph\\u01b0\\u01a1ng sai\\n[ 0.8465178   0.38644336]\\n=> nh\\u00f3m 1: X t\\u0103ng th\\u00ec Y t\\u0103ng \\n\\n[ 0.75275611 -0.5054196 ]\\n=> nh\\u00f3m 2: X tang9 th\\u00ec Y gi\\u1ea3m (do c\\u00f3 d\\u1ea5u - k\\u00eca)\\n\\\"\\\"\\\"\";\n",
       "                var nbb_cells = Jupyter.notebook.get_cells();\n",
       "                for (var i = 0; i < nbb_cells.length; ++i) {\n",
       "                    if (nbb_cells[i].input_prompt_number == nbb_cell_id) {\n",
       "                        if (nbb_cells[i].get_text() == nbb_unformatted_code) {\n",
       "                             nbb_cells[i].set_text(nbb_formatted_code);\n",
       "                        }\n",
       "                        break;\n",
       "                    }\n",
       "                }\n",
       "            }, 500);\n",
       "            "
      ],
      "text/plain": [
       "<IPython.core.display.Javascript object>"
      ]
     },
     "metadata": {},
     "output_type": "display_data"
    }
   ],
   "source": [
    "\"\"\"\n",
    "Ma trận hiệp phương sai\n",
    "[ 0.8465178   0.38644336]\n",
    "=> nhóm 1: X tăng thì Y tăng \n",
    "\n",
    "[ 0.75275611 -0.5054196 ]\n",
    "=> nhóm 2: X tang9 thì Y giảm (do có dấu - kìa)\n",
    "\"\"\""
   ]
  },
  {
   "cell_type": "code",
   "execution_count": 55,
   "id": "39155ab1",
   "metadata": {
    "ExecuteTime": {
     "end_time": "2022-01-26T16:57:38.936740Z",
     "start_time": "2022-01-26T16:57:38.798110Z"
    }
   },
   "outputs": [
    {
     "data": {
      "image/png": "[encoded data removed]",
      "text/plain": [
       "<Figure size 432x288 with 1 Axes>"
      ]
     },
     "metadata": {
      "needs_background": "light"
     },
     "output_type": "display_data"
    },
    {
     "data": {
      "application/javascript": [
       "\n",
       "            setTimeout(function() {\n",
       "                var nbb_cell_id = 55;\n",
       "                var nbb_unformatted_code = \"# tr\\u1ef1c quan h\\u00f3a k\\u1ebft qu\\u1ea3\\nplt.scatter(X_train[:, 0],X_train[:, 1], c=labels)\\nplt.scatter(means[:, 0],means[:, 1], color='red')\\nplt.show()\";\n",
       "                var nbb_formatted_code = \"# tr\\u1ef1c quan h\\u00f3a k\\u1ebft qu\\u1ea3\\nplt.scatter(X_train[:, 0], X_train[:, 1], c=labels)\\nplt.scatter(means[:, 0], means[:, 1], color=\\\"red\\\")\\nplt.show()\";\n",
       "                var nbb_cells = Jupyter.notebook.get_cells();\n",
       "                for (var i = 0; i < nbb_cells.length; ++i) {\n",
       "                    if (nbb_cells[i].input_prompt_number == nbb_cell_id) {\n",
       "                        if (nbb_cells[i].get_text() == nbb_unformatted_code) {\n",
       "                             nbb_cells[i].set_text(nbb_formatted_code);\n",
       "                        }\n",
       "                        break;\n",
       "                    }\n",
       "                }\n",
       "            }, 500);\n",
       "            "
      ],
      "text/plain": [
       "<IPython.core.display.Javascript object>"
      ]
     },
     "metadata": {},
     "output_type": "display_data"
    }
   ],
   "source": [
    "# trực quan hóa kết quả\n",
    "plt.scatter(X_train[:, 0], X_train[:, 1], c=labels)\n",
    "plt.scatter(means[:, 0], means[:, 1], color=\"red\")\n",
    "plt.show()"
   ]
  },
  {
   "cell_type": "code",
   "execution_count": 56,
   "id": "d1b0be8c",
   "metadata": {
    "ExecuteTime": {
     "end_time": "2022-01-26T16:57:48.811810Z",
     "start_time": "2022-01-26T16:57:48.633369Z"
    }
   },
   "outputs": [
    {
     "data": {
      "image/png": "[encoded data removed]",
      "text/plain": [
       "<Figure size 432x432 with 1 Axes>"
      ]
     },
     "metadata": {
      "needs_background": "light"
     },
     "output_type": "display_data"
    },
    {
     "data": {
      "application/javascript": [
       "\n",
       "            setTimeout(function() {\n",
       "                var nbb_cell_id = 56;\n",
       "                var nbb_unformatted_code = \"plt.figure(figsize=(6,6))\\nX, Y = np.meshgrid(np.linspace(-1, 6), np.linspace(-1, 6))\\nXX = np.array([X.ravel(), Y.ravel()]).T # ma tr\\u1eadn [[x,y]]\\nZ = model_gmm.score_samples(XX)\\nZ = Z.reshape((50, 50))\\n\\nplt.contour(X, Y, Z)\\nplt.scatter(X_train[:, 0],X_train[:, 1], c=labels)\\nplt.scatter(means[:, 0],means[:, 1], color='red')\\nplt.show()\";\n",
       "                var nbb_formatted_code = \"plt.figure(figsize=(6, 6))\\nX, Y = np.meshgrid(np.linspace(-1, 6), np.linspace(-1, 6))\\nXX = np.array([X.ravel(), Y.ravel()]).T  # ma tr\\u1eadn [[x,y]]\\nZ = model_gmm.score_samples(XX)\\nZ = Z.reshape((50, 50))\\n\\nplt.contour(X, Y, Z)\\nplt.scatter(X_train[:, 0], X_train[:, 1], c=labels)\\nplt.scatter(means[:, 0], means[:, 1], color=\\\"red\\\")\\nplt.show()\";\n",
       "                var nbb_cells = Jupyter.notebook.get_cells();\n",
       "                for (var i = 0; i < nbb_cells.length; ++i) {\n",
       "                    if (nbb_cells[i].input_prompt_number == nbb_cell_id) {\n",
       "                        if (nbb_cells[i].get_text() == nbb_unformatted_code) {\n",
       "                             nbb_cells[i].set_text(nbb_formatted_code);\n",
       "                        }\n",
       "                        break;\n",
       "                    }\n",
       "                }\n",
       "            }, 500);\n",
       "            "
      ],
      "text/plain": [
       "<IPython.core.display.Javascript object>"
      ]
     },
     "metadata": {},
     "output_type": "display_data"
    }
   ],
   "source": [
    "plt.figure(figsize=(6, 6))\n",
    "X, Y = np.meshgrid(np.linspace(-1, 6), np.linspace(-1, 6))\n",
    "XX = np.array([X.ravel(), Y.ravel()]).T  # ma trận [[x,y]]\n",
    "Z = model_gmm.score_samples(XX)\n",
    "Z = Z.reshape((50, 50))\n",
    "\n",
    "plt.contour(X, Y, Z)\n",
    "plt.scatter(X_train[:, 0], X_train[:, 1], c=labels)\n",
    "plt.scatter(means[:, 0], means[:, 1], color=\"red\")\n",
    "plt.show()"
   ]
  },
  {
   "cell_type": "code",
   "execution_count": 58,
   "id": "f5693967",
   "metadata": {
    "ExecuteTime": {
     "end_time": "2022-01-26T17:02:27.735286Z",
     "start_time": "2022-01-26T17:02:27.717334Z"
    }
   },
   "outputs": [
    {
     "data": {
      "text/plain": [
       "'\\nđa phần data tập trung ở độ lệch chuẩn 2\\nchỉ có 1 vài điểm vàng và tím nằm ở độ lệch chuẩn 3\\n'"
      ]
     },
     "execution_count": 58,
     "metadata": {},
     "output_type": "execute_result"
    },
    {
     "data": {
      "application/javascript": [
       "\n",
       "            setTimeout(function() {\n",
       "                var nbb_cell_id = 58;\n",
       "                var nbb_unformatted_code = \"\\\"\\\"\\\"\\n\\u0111a ph\\u1ea7n data t\\u1eadp trung \\u1edf \\u0111\\u1ed9 l\\u1ec7ch chu\\u1ea9n 2\\nch\\u1ec9 c\\u00f3 1 v\\u00e0i \\u0111i\\u1ec3m v\\u00e0ng v\\u00e0 t\\u00edm n\\u1eb1m \\u1edf \\u0111\\u1ed9 l\\u1ec7ch chu\\u1ea9n 3\\n\\\"\\\"\\\"\";\n",
       "                var nbb_formatted_code = \"\\\"\\\"\\\"\\n\\u0111a ph\\u1ea7n data t\\u1eadp trung \\u1edf \\u0111\\u1ed9 l\\u1ec7ch chu\\u1ea9n 2\\nch\\u1ec9 c\\u00f3 1 v\\u00e0i \\u0111i\\u1ec3m v\\u00e0ng v\\u00e0 t\\u00edm n\\u1eb1m \\u1edf \\u0111\\u1ed9 l\\u1ec7ch chu\\u1ea9n 3\\n\\\"\\\"\\\"\";\n",
       "                var nbb_cells = Jupyter.notebook.get_cells();\n",
       "                for (var i = 0; i < nbb_cells.length; ++i) {\n",
       "                    if (nbb_cells[i].input_prompt_number == nbb_cell_id) {\n",
       "                        if (nbb_cells[i].get_text() == nbb_unformatted_code) {\n",
       "                             nbb_cells[i].set_text(nbb_formatted_code);\n",
       "                        }\n",
       "                        break;\n",
       "                    }\n",
       "                }\n",
       "            }, 500);\n",
       "            "
      ],
      "text/plain": [
       "<IPython.core.display.Javascript object>"
      ]
     },
     "metadata": {},
     "output_type": "display_data"
    }
   ],
   "source": [
    "\"\"\"\n",
    "đa phần data tập trung ở 2 độ lệch chuẩn \n",
    "chỉ có 1 vài điểm vàng và tím nằm ở độ lệch chuẩn 3\n",
    "\"\"\""
   ]
  },
  {
   "cell_type": "code",
   "execution_count": null,
   "id": "7e7056d5",
   "metadata": {},
   "outputs": [],
   "source": []
  }
 ],
 "metadata": {
  "kernelspec": {
   "display_name": "Python 3 (ipykernel)",
   "language": "python",
   "name": "python3"
  },
  "language_info": {
   "codemirror_mode": {
    "name": "ipython",
    "version": 3
   },
   "file_extension": ".py",
   "mimetype": "text/x-python",
   "name": "python",
   "nbconvert_exporter": "python",
   "pygments_lexer": "ipython3",
   "version": "3.9.7"
  }
 },
 "nbformat": 4,
 "nbformat_minor": 5
}
