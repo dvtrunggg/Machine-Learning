{
 "cells": [
  {
   "cell_type": "code",
   "execution_count": 1,
   "id": "b4d9f66f",
   "metadata": {
    "ExecuteTime": {
     "end_time": "2022-01-24T10:54:12.379509Z",
     "start_time": "2022-01-24T10:54:10.088877Z"
    }
   },
   "outputs": [],
   "source": [
    "import pandas as pd\n",
    "import numpy as np\n",
    "import matplotlib.pyplot as plt"
   ]
  },
  {
   "cell_type": "code",
   "execution_count": 2,
   "id": "9af32bd1",
   "metadata": {
    "ExecuteTime": {
     "end_time": "2022-01-24T10:54:16.982210Z",
     "start_time": "2022-01-24T10:54:16.970244Z"
    }
   },
   "outputs": [
    {
     "data": {
      "text/plain": [
       "array([[ 5,  3],\n",
       "       [10, 15],\n",
       "       [15, 12],\n",
       "       [24, 10],\n",
       "       [85, 90],\n",
       "       [30, 30],\n",
       "       [85, 70],\n",
       "       [71, 80],\n",
       "       [60, 78],\n",
       "       [70, 55],\n",
       "       [80, 91]])"
      ]
     },
     "execution_count": 2,
     "metadata": {},
     "output_type": "execute_result"
    }
   ],
   "source": [
    "X = np.array([[5,3], [10,15], [15,12], [24,10], [85, 90], [30,30], [85,70], [71,80], [60,78], [70,55], [80,91]])\n",
    "X"
   ]
  },
  {
   "cell_type": "code",
   "execution_count": 3,
   "id": "37303a85",
   "metadata": {
    "ExecuteTime": {
     "end_time": "2022-01-24T10:54:25.736329Z",
     "start_time": "2022-01-24T10:54:24.323669Z"
    }
   },
   "outputs": [],
   "source": [
    "# vẽ dendrograms\n",
    "import scipy.cluster.hierarchy as shc"
   ]
  },
  {
   "cell_type": "code",
   "execution_count": 16,
   "id": "651ede22",
   "metadata": {
    "ExecuteTime": {
     "end_time": "2022-01-24T11:02:15.322137Z",
     "start_time": "2022-01-24T11:02:15.178246Z"
    }
   },
   "outputs": [
    {
     "data": {
      "image/png": "[encoded data removed]",
      "text/plain": [
       "<Figure size 720x288 with 1 Axes>"
      ]
     },
     "metadata": {
      "needs_background": "light"
     },
     "output_type": "display_data"
    }
   ],
   "source": [
    "plt.figure(figsize=(10, 4))\n",
    "plt.title(\"Dendrograms\")\n",
    "dend = shc.dendrogram(shc.linkage(X, method='ward', metric='euclidean'))  # 'euclidean' cho khoảng cách ngắn nhất"
   ]
  },
  {
   "cell_type": "code",
   "execution_count": 6,
   "id": "3b46f738",
   "metadata": {
    "ExecuteTime": {
     "end_time": "2022-01-24T10:58:53.178933Z",
     "start_time": "2022-01-24T10:58:53.156994Z"
    }
   },
   "outputs": [
    {
     "data": {
      "text/plain": [
       "'\\nNhìn vào Dendrograms, ta có thể phân thành 2 cụm, cụm 1(màu cam) có 5 điểm, cụm 2(màu xanh) có 5 điểm\\nPhân bố data giữa các cụm đồng đều => cân bằng\\n\\n=> chọn n_cluster = 2\\n'"
      ]
     },
     "execution_count": 6,
     "metadata": {},
     "output_type": "execute_result"
    }
   ],
   "source": [
    "'''\n",
    "Nhìn vào Dendrograms, ta có thể phân thành 2 cụm, cụm 1(màu cam) có 5 điểm, cụm 2(màu xanh) có 5 điểm\n",
    "Phân bố data giữa các cụm đồng đều => cân bằng\n",
    "\n",
    "=> chọn n_cluster = 2\n",
    "'''"
   ]
  },
  {
   "cell_type": "code",
   "execution_count": 7,
   "id": "dc3a3343",
   "metadata": {
    "ExecuteTime": {
     "end_time": "2022-01-24T10:59:00.513362Z",
     "start_time": "2022-01-24T10:58:59.366475Z"
    }
   },
   "outputs": [],
   "source": [
    "# dựa vào dendrogram -> chọn n_clusters = 2\n",
    "# sử dụng hierachical để phân cụm\n",
    "from sklearn.cluster import AgglomerativeClustering"
   ]
  },
  {
   "cell_type": "code",
   "execution_count": 8,
   "id": "bc5d400c",
   "metadata": {
    "ExecuteTime": {
     "end_time": "2022-01-24T10:59:08.093854Z",
     "start_time": "2022-01-24T10:59:08.072912Z"
    }
   },
   "outputs": [
    {
     "data": {
      "text/plain": [
       "AgglomerativeClustering()"
      ]
     },
     "execution_count": 8,
     "metadata": {},
     "output_type": "execute_result"
    }
   ],
   "source": [
    "# ở Dendrograms trên dùng euclidean thì chỗ này cũng phải dùng euclidean\n",
    "model = AgglomerativeClustering(n_clusters = 2, affinity='euclidean') \n",
    "model.fit(X)"
   ]
  },
  {
   "cell_type": "code",
   "execution_count": 9,
   "id": "30798668",
   "metadata": {
    "ExecuteTime": {
     "end_time": "2022-01-24T10:59:13.413017Z",
     "start_time": "2022-01-24T10:59:13.399057Z"
    }
   },
   "outputs": [
    {
     "data": {
      "text/plain": [
       "array([1, 1, 1, 1, 0, 1, 0, 0, 0, 0, 0], dtype=int64)"
      ]
     },
     "execution_count": 9,
     "metadata": {},
     "output_type": "execute_result"
    }
   ],
   "source": [
    "fit_labels = model.labels_\n",
    "fit_labels"
   ]
  },
  {
   "cell_type": "code",
   "execution_count": 17,
   "id": "e269e1cd",
   "metadata": {
    "ExecuteTime": {
     "end_time": "2022-01-24T11:02:41.311740Z",
     "start_time": "2022-01-24T11:02:41.210047Z"
    }
   },
   "outputs": [
    {
     "data": {
      "image/png": "[encoded data removed]",
      "text/plain": [
       "<Figure size 432x288 with 1 Axes>"
      ]
     },
     "metadata": {
      "needs_background": "light"
     },
     "output_type": "display_data"
    }
   ],
   "source": [
    "plt.scatter(X[:,0], X[:,1], c=model.labels_, cmap='rainbow')\n",
    "plt.show()"
   ]
  },
  {
   "cell_type": "code",
   "execution_count": 18,
   "id": "8b277170",
   "metadata": {
    "ExecuteTime": {
     "end_time": "2022-01-24T11:02:54.805013Z",
     "start_time": "2022-01-24T11:02:54.797035Z"
    }
   },
   "outputs": [
    {
     "data": {
      "text/plain": [
       "array([1, 0], dtype=int64)"
      ]
     },
     "execution_count": 18,
     "metadata": {},
     "output_type": "execute_result"
    }
   ],
   "source": [
    "X_test = np.array([[65, 75], [35, 40]])\n",
    "y_test = model.fit_predict(X_test)\n",
    "y_test"
   ]
  },
  {
   "cell_type": "code",
   "execution_count": 22,
   "id": "74667023",
   "metadata": {
    "ExecuteTime": {
     "end_time": "2022-01-24T11:06:52.533541Z",
     "start_time": "2022-01-24T11:06:52.425829Z"
    }
   },
   "outputs": [
    {
     "data": {
      "image/png": "[encoded data removed]",
      "text/plain": [
       "<Figure size 432x288 with 1 Axes>"
      ]
     },
     "metadata": {
      "needs_background": "light"
     },
     "output_type": "display_data"
    }
   ],
   "source": [
    "predict_label = model.labels_\n",
    "\n",
    "plt.scatter(X[:,0], X[:,1], c=fit_labels, cmap='rainbow')\n",
    "plt.scatter(X_test[:,0], X_test[:,1], c=predict_label, marker='^')\n",
    "plt.show()"
   ]
  },
  {
   "cell_type": "code",
   "execution_count": null,
   "id": "29319097",
   "metadata": {},
   "outputs": [],
   "source": []
  }
 ],
 "metadata": {
  "kernelspec": {
   "display_name": "Python 3 (ipykernel)",
   "language": "python",
   "name": "python3"
  },
  "language_info": {
   "codemirror_mode": {
    "name": "ipython",
    "version": 3
   },
   "file_extension": ".py",
   "mimetype": "text/x-python",
   "name": "python",
   "nbconvert_exporter": "python",
   "pygments_lexer": "ipython3",
   "version": "3.9.7"
  }
 },
 "nbformat": 4,
 "nbformat_minor": 5
}
