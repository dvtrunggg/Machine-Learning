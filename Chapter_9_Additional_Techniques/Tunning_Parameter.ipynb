{
 "cells": [
  {
   "cell_type": "code",
   "execution_count": 7,
   "id": "35036741",
   "metadata": {},
   "outputs": [
    {
     "data": {
      "application/javascript": [
       "\n",
       "            setTimeout(function() {\n",
       "                var nbb_cell_id = 7;\n",
       "                var nbb_unformatted_code = \"import pandas as pd\\nimport numpy as np\\nimport matplotlib.pyplot as plt\\nimport seaborn as sns\\n\\n%load_ext nb_black\";\n",
       "                var nbb_formatted_code = \"import pandas as pd\\nimport numpy as np\\nimport matplotlib.pyplot as plt\\nimport seaborn as sns\\n\\n%load_ext nb_black\";\n",
       "                var nbb_cells = Jupyter.notebook.get_cells();\n",
       "                for (var i = 0; i < nbb_cells.length; ++i) {\n",
       "                    if (nbb_cells[i].input_prompt_number == nbb_cell_id) {\n",
       "                        if (nbb_cells[i].get_text() == nbb_unformatted_code) {\n",
       "                             nbb_cells[i].set_text(nbb_formatted_code);\n",
       "                        }\n",
       "                        break;\n",
       "                    }\n",
       "                }\n",
       "            }, 500);\n",
       "            "
      ],
      "text/plain": [
       "<IPython.core.display.Javascript object>"
      ]
     },
     "metadata": {},
     "output_type": "display_data"
    }
   ],
   "source": [
    "import pandas as pd\n",
    "import numpy as np\n",
    "import matplotlib.pyplot as plt\n",
    "import seaborn as sns\n",
    "\n",
    "%load_ext nb_black"
   ]
  },
  {
   "cell_type": "code",
   "execution_count": 2,
   "id": "b2a1cdb4",
   "metadata": {},
   "outputs": [
    {
     "data": {
      "text/html": [
       "<div>\n",
       "<style scoped>\n",
       "    .dataframe tbody tr th:only-of-type {\n",
       "        vertical-align: middle;\n",
       "    }\n",
       "\n",
       "    .dataframe tbody tr th {\n",
       "        vertical-align: top;\n",
       "    }\n",
       "\n",
       "    .dataframe thead th {\n",
       "        text-align: right;\n",
       "    }\n",
       "</style>\n",
       "<table border=\"1\" class=\"dataframe\">\n",
       "  <thead>\n",
       "    <tr style=\"text-align: right;\">\n",
       "      <th></th>\n",
       "      <th>sepal_length</th>\n",
       "      <th>sepal_width</th>\n",
       "      <th>petal_length</th>\n",
       "      <th>petal_width</th>\n",
       "      <th>species</th>\n",
       "    </tr>\n",
       "  </thead>\n",
       "  <tbody>\n",
       "    <tr>\n",
       "      <th>0</th>\n",
       "      <td>5.1</td>\n",
       "      <td>3.5</td>\n",
       "      <td>1.4</td>\n",
       "      <td>0.2</td>\n",
       "      <td>setosa</td>\n",
       "    </tr>\n",
       "    <tr>\n",
       "      <th>1</th>\n",
       "      <td>4.9</td>\n",
       "      <td>3.0</td>\n",
       "      <td>1.4</td>\n",
       "      <td>0.2</td>\n",
       "      <td>setosa</td>\n",
       "    </tr>\n",
       "    <tr>\n",
       "      <th>2</th>\n",
       "      <td>4.7</td>\n",
       "      <td>3.2</td>\n",
       "      <td>1.3</td>\n",
       "      <td>0.2</td>\n",
       "      <td>setosa</td>\n",
       "    </tr>\n",
       "    <tr>\n",
       "      <th>3</th>\n",
       "      <td>4.6</td>\n",
       "      <td>3.1</td>\n",
       "      <td>1.5</td>\n",
       "      <td>0.2</td>\n",
       "      <td>setosa</td>\n",
       "    </tr>\n",
       "    <tr>\n",
       "      <th>4</th>\n",
       "      <td>5.0</td>\n",
       "      <td>3.6</td>\n",
       "      <td>1.4</td>\n",
       "      <td>0.2</td>\n",
       "      <td>setosa</td>\n",
       "    </tr>\n",
       "    <tr>\n",
       "      <th>...</th>\n",
       "      <td>...</td>\n",
       "      <td>...</td>\n",
       "      <td>...</td>\n",
       "      <td>...</td>\n",
       "      <td>...</td>\n",
       "    </tr>\n",
       "    <tr>\n",
       "      <th>145</th>\n",
       "      <td>6.7</td>\n",
       "      <td>3.0</td>\n",
       "      <td>5.2</td>\n",
       "      <td>2.3</td>\n",
       "      <td>virginica</td>\n",
       "    </tr>\n",
       "    <tr>\n",
       "      <th>146</th>\n",
       "      <td>6.3</td>\n",
       "      <td>2.5</td>\n",
       "      <td>5.0</td>\n",
       "      <td>1.9</td>\n",
       "      <td>virginica</td>\n",
       "    </tr>\n",
       "    <tr>\n",
       "      <th>147</th>\n",
       "      <td>6.5</td>\n",
       "      <td>3.0</td>\n",
       "      <td>5.2</td>\n",
       "      <td>2.0</td>\n",
       "      <td>virginica</td>\n",
       "    </tr>\n",
       "    <tr>\n",
       "      <th>148</th>\n",
       "      <td>6.2</td>\n",
       "      <td>3.4</td>\n",
       "      <td>5.4</td>\n",
       "      <td>2.3</td>\n",
       "      <td>virginica</td>\n",
       "    </tr>\n",
       "    <tr>\n",
       "      <th>149</th>\n",
       "      <td>5.9</td>\n",
       "      <td>3.0</td>\n",
       "      <td>5.1</td>\n",
       "      <td>1.8</td>\n",
       "      <td>virginica</td>\n",
       "    </tr>\n",
       "  </tbody>\n",
       "</table>\n",
       "<p>150 rows × 5 columns</p>\n",
       "</div>"
      ],
      "text/plain": [
       "     sepal_length  sepal_width  petal_length  petal_width    species\n",
       "0             5.1          3.5           1.4          0.2     setosa\n",
       "1             4.9          3.0           1.4          0.2     setosa\n",
       "2             4.7          3.2           1.3          0.2     setosa\n",
       "3             4.6          3.1           1.5          0.2     setosa\n",
       "4             5.0          3.6           1.4          0.2     setosa\n",
       "..            ...          ...           ...          ...        ...\n",
       "145           6.7          3.0           5.2          2.3  virginica\n",
       "146           6.3          2.5           5.0          1.9  virginica\n",
       "147           6.5          3.0           5.2          2.0  virginica\n",
       "148           6.2          3.4           5.4          2.3  virginica\n",
       "149           5.9          3.0           5.1          1.8  virginica\n",
       "\n",
       "[150 rows x 5 columns]"
      ]
     },
     "execution_count": 2,
     "metadata": {},
     "output_type": "execute_result"
    }
   ],
   "source": [
    "df = sns.load_dataset('iris')\n",
    "df"
   ]
  },
  {
   "cell_type": "code",
   "execution_count": 3,
   "id": "66194d8d",
   "metadata": {},
   "outputs": [],
   "source": [
    "X = df.drop(columns=['species'])\n",
    "y = df['species']"
   ]
  },
  {
   "cell_type": "code",
   "execution_count": 9,
   "id": "b8d5ba23",
   "metadata": {},
   "outputs": [
    {
     "data": {
      "application/javascript": [
       "\n",
       "            setTimeout(function() {\n",
       "                var nbb_cell_id = 9;\n",
       "                var nbb_unformatted_code = \"# t\\u00ecm t\\u1ef7 l\\u1ec7 chia t\\u1ed1t nh\\u1ea5t\\n# t\\u1ef1 l\\u00e0m\\n# v\\u00ed d\\u1ee5 t\\u1ef7 l\\u1ec7 chia t\\u1ed1t nh\\u1ea5t t\\u00ecm \\u0111\\u01b0\\u1ee3c l\\u00e0 75-25 (d\\u00f9ng cross-validation v\\u00e0 k-ford)\";\n",
       "                var nbb_formatted_code = \"# t\\u00ecm t\\u1ef7 l\\u1ec7 chia t\\u1ed1t nh\\u1ea5t\\n# t\\u1ef1 l\\u00e0m\\n# v\\u00ed d\\u1ee5 t\\u1ef7 l\\u1ec7 chia t\\u1ed1t nh\\u1ea5t t\\u00ecm \\u0111\\u01b0\\u1ee3c l\\u00e0 75-25 (d\\u00f9ng cross-validation v\\u00e0 k-ford)\";\n",
       "                var nbb_cells = Jupyter.notebook.get_cells();\n",
       "                for (var i = 0; i < nbb_cells.length; ++i) {\n",
       "                    if (nbb_cells[i].input_prompt_number == nbb_cell_id) {\n",
       "                        if (nbb_cells[i].get_text() == nbb_unformatted_code) {\n",
       "                             nbb_cells[i].set_text(nbb_formatted_code);\n",
       "                        }\n",
       "                        break;\n",
       "                    }\n",
       "                }\n",
       "            }, 500);\n",
       "            "
      ],
      "text/plain": [
       "<IPython.core.display.Javascript object>"
      ]
     },
     "metadata": {},
     "output_type": "display_data"
    }
   ],
   "source": [
    "# tìm tỷ lệ chia tốt nhất\n",
    "# tự làm\n",
    "# ví dụ tỷ lệ chia tốt nhất tìm được là 75-25 (dùng cross-validation và k-ford)"
   ]
  },
  {
   "cell_type": "code",
   "execution_count": 5,
   "id": "9fa22cef",
   "metadata": {},
   "outputs": [],
   "source": [
    "from sklearn.model_selection import train_test_split\n",
    "from sklearn.ensemble import RandomForestClassifier"
   ]
  },
  {
   "cell_type": "code",
   "execution_count": 8,
   "id": "3c35580a",
   "metadata": {},
   "outputs": [
    {
     "data": {
      "application/javascript": [
       "\n",
       "            setTimeout(function() {\n",
       "                var nbb_cell_id = 8;\n",
       "                var nbb_unformatted_code = \"X_train, X_test, y_train, y_test = train_test_split(X, y, test_size = 0.25, random_state =42)\";\n",
       "                var nbb_formatted_code = \"X_train, X_test, y_train, y_test = train_test_split(\\n    X, y, test_size=0.25, random_state=42\\n)\";\n",
       "                var nbb_cells = Jupyter.notebook.get_cells();\n",
       "                for (var i = 0; i < nbb_cells.length; ++i) {\n",
       "                    if (nbb_cells[i].input_prompt_number == nbb_cell_id) {\n",
       "                        if (nbb_cells[i].get_text() == nbb_unformatted_code) {\n",
       "                             nbb_cells[i].set_text(nbb_formatted_code);\n",
       "                        }\n",
       "                        break;\n",
       "                    }\n",
       "                }\n",
       "            }, 500);\n",
       "            "
      ],
      "text/plain": [
       "<IPython.core.display.Javascript object>"
      ]
     },
     "metadata": {},
     "output_type": "display_data"
    }
   ],
   "source": [
    "X_train, X_test, y_train, y_test = train_test_split(\n",
    "    X, y, test_size=0.25, random_state=42\n",
    ")"
   ]
  },
  {
   "cell_type": "markdown",
   "id": "20123747",
   "metadata": {},
   "source": [
    "## Grid Search\n",
    "- Có thể chọn ra dc parameters tốt nhất nhưng tốc độ chậm do dùng quy tắc vét cạn"
   ]
  },
  {
   "cell_type": "code",
   "execution_count": 10,
   "id": "ba4f718a",
   "metadata": {},
   "outputs": [
    {
     "data": {
      "application/javascript": [
       "\n",
       "            setTimeout(function() {\n",
       "                var nbb_cell_id = 10;\n",
       "                var nbb_unformatted_code = \"from sklearn.model_selection import GridSearchCV\";\n",
       "                var nbb_formatted_code = \"from sklearn.model_selection import GridSearchCV\";\n",
       "                var nbb_cells = Jupyter.notebook.get_cells();\n",
       "                for (var i = 0; i < nbb_cells.length; ++i) {\n",
       "                    if (nbb_cells[i].input_prompt_number == nbb_cell_id) {\n",
       "                        if (nbb_cells[i].get_text() == nbb_unformatted_code) {\n",
       "                             nbb_cells[i].set_text(nbb_formatted_code);\n",
       "                        }\n",
       "                        break;\n",
       "                    }\n",
       "                }\n",
       "            }, 500);\n",
       "            "
      ],
      "text/plain": [
       "<IPython.core.display.Javascript object>"
      ]
     },
     "metadata": {},
     "output_type": "display_data"
    }
   ],
   "source": [
    "from sklearn.model_selection import GridSearchCV"
   ]
  },
  {
   "cell_type": "code",
   "execution_count": 11,
   "id": "389edc81",
   "metadata": {},
   "outputs": [
    {
     "data": {
      "application/javascript": [
       "\n",
       "            setTimeout(function() {\n",
       "                var nbb_cell_id = 11;\n",
       "                var nbb_unformatted_code = \"# c\\u00e1c parameters c\\u1ee7a RandomForestClassifier()\\ngrid_param = {\\n    'n_estimators': [30, 50, 100, 150, 200],\\n    'max_features': ['auto', 'sqrt', 'log2'],\\n    'bootstrap': [True, False],\\n    'criterion': ['gini', 'entropy']\\n}\";\n",
       "                var nbb_formatted_code = \"# c\\u00e1c parameters c\\u1ee7a RandomForestClassifier()\\ngrid_param = {\\n    \\\"n_estimators\\\": [30, 50, 100, 150, 200],\\n    \\\"max_features\\\": [\\\"auto\\\", \\\"sqrt\\\", \\\"log2\\\"],\\n    \\\"bootstrap\\\": [True, False],\\n    \\\"criterion\\\": [\\\"gini\\\", \\\"entropy\\\"],\\n}\";\n",
       "                var nbb_cells = Jupyter.notebook.get_cells();\n",
       "                for (var i = 0; i < nbb_cells.length; ++i) {\n",
       "                    if (nbb_cells[i].input_prompt_number == nbb_cell_id) {\n",
       "                        if (nbb_cells[i].get_text() == nbb_unformatted_code) {\n",
       "                             nbb_cells[i].set_text(nbb_formatted_code);\n",
       "                        }\n",
       "                        break;\n",
       "                    }\n",
       "                }\n",
       "            }, 500);\n",
       "            "
      ],
      "text/plain": [
       "<IPython.core.display.Javascript object>"
      ]
     },
     "metadata": {},
     "output_type": "display_data"
    }
   ],
   "source": [
    "# các parameters của RandomForestClassifier()\n",
    "grid_param = {\n",
    "    \"n_estimators\": [30, 50, 100, 150, 200],\n",
    "    \"max_features\": [\"auto\", \"sqrt\", \"log2\"],\n",
    "    \"bootstrap\": [True, False],\n",
    "    \"criterion\": [\"gini\", \"entropy\"],\n",
    "}"
   ]
  },
  {
   "cell_type": "code",
   "execution_count": 15,
   "id": "90683f56",
   "metadata": {},
   "outputs": [
    {
     "name": "stdout",
     "output_type": "stream",
     "text": [
      "28  giây\n"
     ]
    },
    {
     "data": {
      "application/javascript": [
       "\n",
       "            setTimeout(function() {\n",
       "                var nbb_cell_id = 15;\n",
       "                var nbb_unformatted_code = \"from datetime import datetime\\n\\nstart_time = datetime.now()\\n# kfold = KFold(n_splits = 10, random_state = 42)\\n\\n# param_grid l\\u00e0 d\\u00f9ng c\\u00e1i grid search \\u00e1, cv l\\u00e0 cross-validation (= 5 l\\u1ea7n x\\u00e1c th\\u1ef1c)\\ngrid_cv = GridSearchCV(estimator=RandomForestClassifier(), param_grid=grid_param, cv=5)\\ngrid_cv.fit(X_train, y_train)\\nend_time = datetime.now()\\ntotal_time = end_time - start_time\\nseconds = total_time.days * 24 * 60 * 60 + total_time.seconds\\nprint(seconds, \\\" gi\\u00e2y\\\")\";\n",
       "                var nbb_formatted_code = \"from datetime import datetime\\n\\nstart_time = datetime.now()\\n# kfold = KFold(n_splits = 10, random_state = 42)\\n\\n# param_grid l\\u00e0 d\\u00f9ng c\\u00e1i grid search \\u00e1, cv l\\u00e0 cross-validation (= 5 l\\u1ea7n x\\u00e1c th\\u1ef1c)\\ngrid_cv = GridSearchCV(estimator=RandomForestClassifier(), param_grid=grid_param, cv=5)\\ngrid_cv.fit(X_train, y_train)\\nend_time = datetime.now()\\ntotal_time = end_time - start_time\\nseconds = total_time.days * 24 * 60 * 60 + total_time.seconds\\nprint(seconds, \\\" gi\\u00e2y\\\")\";\n",
       "                var nbb_cells = Jupyter.notebook.get_cells();\n",
       "                for (var i = 0; i < nbb_cells.length; ++i) {\n",
       "                    if (nbb_cells[i].input_prompt_number == nbb_cell_id) {\n",
       "                        if (nbb_cells[i].get_text() == nbb_unformatted_code) {\n",
       "                             nbb_cells[i].set_text(nbb_formatted_code);\n",
       "                        }\n",
       "                        break;\n",
       "                    }\n",
       "                }\n",
       "            }, 500);\n",
       "            "
      ],
      "text/plain": [
       "<IPython.core.display.Javascript object>"
      ]
     },
     "metadata": {},
     "output_type": "display_data"
    }
   ],
   "source": [
    "from datetime import datetime\n",
    "\n",
    "start_time = datetime.now()\n",
    "# kfold = KFold(n_splits = 10, random_state = 42)\n",
    "\n",
    "# param_grid là dùng cái grid search á, cv là cross-validation (= 5 lần xác thực)\n",
    "grid_cv = GridSearchCV(estimator=RandomForestClassifier(), param_grid=grid_param, cv=5)\n",
    "grid_cv.fit(X_train, y_train)\n",
    "end_time = datetime.now()\n",
    "total_time = end_time - start_time\n",
    "seconds = total_time.days * 24 * 60 * 60 + total_time.seconds\n",
    "print(seconds, \" giây\")"
   ]
  },
  {
   "cell_type": "code",
   "execution_count": 16,
   "id": "45b8dad6",
   "metadata": {},
   "outputs": [
    {
     "name": "stdout",
     "output_type": "stream",
     "text": [
      "Best param: {'bootstrap': True, 'criterion': 'gini', 'max_features': 'auto', 'n_estimators': 200}\n"
     ]
    },
    {
     "data": {
      "application/javascript": [
       "\n",
       "            setTimeout(function() {\n",
       "                var nbb_cell_id = 16;\n",
       "                var nbb_unformatted_code = \"print('Best param:', grid_cv.best_params_)\";\n",
       "                var nbb_formatted_code = \"print(\\\"Best param:\\\", grid_cv.best_params_)\";\n",
       "                var nbb_cells = Jupyter.notebook.get_cells();\n",
       "                for (var i = 0; i < nbb_cells.length; ++i) {\n",
       "                    if (nbb_cells[i].input_prompt_number == nbb_cell_id) {\n",
       "                        if (nbb_cells[i].get_text() == nbb_unformatted_code) {\n",
       "                             nbb_cells[i].set_text(nbb_formatted_code);\n",
       "                        }\n",
       "                        break;\n",
       "                    }\n",
       "                }\n",
       "            }, 500);\n",
       "            "
      ],
      "text/plain": [
       "<IPython.core.display.Javascript object>"
      ]
     },
     "metadata": {},
     "output_type": "display_data"
    }
   ],
   "source": [
    "print(\"Best param:\", grid_cv.best_params_)"
   ]
  },
  {
   "cell_type": "code",
   "execution_count": 17,
   "id": "f1403a93",
   "metadata": {},
   "outputs": [
    {
     "data": {
      "text/plain": [
       "\"\\nvậy, 'bootstrap': True, 'criterion': 'gini', 'max_features': 'auto', 'n_estimators': 200 \\nthì model random forest là tốt nhất\\n\""
      ]
     },
     "execution_count": 17,
     "metadata": {},
     "output_type": "execute_result"
    },
    {
     "data": {
      "application/javascript": [
       "\n",
       "            setTimeout(function() {\n",
       "                var nbb_cell_id = 17;\n",
       "                var nbb_unformatted_code = \"'''\\nv\\u1eady, 'bootstrap': True, 'criterion': 'gini', 'max_features': 'auto', 'n_estimators': 200 \\nth\\u00ec model random forest l\\u00e0 t\\u1ed1t nh\\u1ea5t\\n'''\";\n",
       "                var nbb_formatted_code = \"\\\"\\\"\\\"\\nv\\u1eady, 'bootstrap': True, 'criterion': 'gini', 'max_features': 'auto', 'n_estimators': 200 \\nth\\u00ec model random forest l\\u00e0 t\\u1ed1t nh\\u1ea5t\\n\\\"\\\"\\\"\";\n",
       "                var nbb_cells = Jupyter.notebook.get_cells();\n",
       "                for (var i = 0; i < nbb_cells.length; ++i) {\n",
       "                    if (nbb_cells[i].input_prompt_number == nbb_cell_id) {\n",
       "                        if (nbb_cells[i].get_text() == nbb_unformatted_code) {\n",
       "                             nbb_cells[i].set_text(nbb_formatted_code);\n",
       "                        }\n",
       "                        break;\n",
       "                    }\n",
       "                }\n",
       "            }, 500);\n",
       "            "
      ],
      "text/plain": [
       "<IPython.core.display.Javascript object>"
      ]
     },
     "metadata": {},
     "output_type": "display_data"
    }
   ],
   "source": [
    "\"\"\"\n",
    "vậy, 'bootstrap': True, 'criterion': 'gini', 'max_features': 'auto', 'n_estimators': 200 \n",
    "thì model random forest là tốt nhất\n",
    "\"\"\""
   ]
  },
  {
   "cell_type": "code",
   "execution_count": 21,
   "id": "aba911a3",
   "metadata": {},
   "outputs": [
    {
     "data": {
      "application/javascript": [
       "\n",
       "            setTimeout(function() {\n",
       "                var nbb_cell_id = 21;\n",
       "                var nbb_unformatted_code = \"# d\\u1ef1 \\u0111o\\u00e1n tr\\u00ean test data\\nyhat_test = grid_cv.predict(X_test)  # d\\u00f9ng lu\\u00f4n grid_cv, khi n\\u00e0y grid_cv l\\u00e0 model v\\u1edbi parameters t\\u1ed1t nh\\u1ea5t r\";\n",
       "                var nbb_formatted_code = \"# d\\u1ef1 \\u0111o\\u00e1n tr\\u00ean test data\\nyhat_test = grid_cv.predict(\\n    X_test\\n)  # d\\u00f9ng lu\\u00f4n grid_cv, khi n\\u00e0y grid_cv l\\u00e0 model v\\u1edbi parameters t\\u1ed1t nh\\u1ea5t r\";\n",
       "                var nbb_cells = Jupyter.notebook.get_cells();\n",
       "                for (var i = 0; i < nbb_cells.length; ++i) {\n",
       "                    if (nbb_cells[i].input_prompt_number == nbb_cell_id) {\n",
       "                        if (nbb_cells[i].get_text() == nbb_unformatted_code) {\n",
       "                             nbb_cells[i].set_text(nbb_formatted_code);\n",
       "                        }\n",
       "                        break;\n",
       "                    }\n",
       "                }\n",
       "            }, 500);\n",
       "            "
      ],
      "text/plain": [
       "<IPython.core.display.Javascript object>"
      ]
     },
     "metadata": {},
     "output_type": "display_data"
    }
   ],
   "source": [
    "# dự đoán trên test data\n",
    "yhat_test = grid_cv.predict(\n",
    "    X_test\n",
    ")  # dùng luôn grid_cv, khi này grid_cv là model với parameters tốt nhất r"
   ]
  },
  {
   "cell_type": "code",
   "execution_count": 19,
   "id": "93e4d692",
   "metadata": {},
   "outputs": [
    {
     "name": "stdout",
     "output_type": "stream",
     "text": [
      "Accuracy score: 1.0\n"
     ]
    },
    {
     "data": {
      "application/javascript": [
       "\n",
       "            setTimeout(function() {\n",
       "                var nbb_cell_id = 19;\n",
       "                var nbb_unformatted_code = \"# \\u0111o \\u0111\\u1ed9 ch\\u00ednh x\\u00e1c\\nfrom sklearn.metrics import accuracy_score\\nprint('Accuracy score:', accuracy_score(y_test, yhat_test))\";\n",
       "                var nbb_formatted_code = \"# \\u0111o \\u0111\\u1ed9 ch\\u00ednh x\\u00e1c\\nfrom sklearn.metrics import accuracy_score\\n\\nprint(\\\"Accuracy score:\\\", accuracy_score(y_test, yhat_test))\";\n",
       "                var nbb_cells = Jupyter.notebook.get_cells();\n",
       "                for (var i = 0; i < nbb_cells.length; ++i) {\n",
       "                    if (nbb_cells[i].input_prompt_number == nbb_cell_id) {\n",
       "                        if (nbb_cells[i].get_text() == nbb_unformatted_code) {\n",
       "                             nbb_cells[i].set_text(nbb_formatted_code);\n",
       "                        }\n",
       "                        break;\n",
       "                    }\n",
       "                }\n",
       "            }, 500);\n",
       "            "
      ],
      "text/plain": [
       "<IPython.core.display.Javascript object>"
      ]
     },
     "metadata": {},
     "output_type": "display_data"
    }
   ],
   "source": [
    "# đo độ chính xác\n",
    "from sklearn.metrics import accuracy_score\n",
    "\n",
    "print(\"Accuracy score:\", accuracy_score(y_test, yhat_test))"
   ]
  },
  {
   "cell_type": "code",
   "execution_count": 20,
   "id": "b8815681",
   "metadata": {},
   "outputs": [
    {
     "name": "stderr",
     "output_type": "stream",
     "text": [
      "C:\\Users\\trung\\AppData\\Local\\Programs\\Python\\Python39\\lib\\site-packages\\sklearn\\base.py:445: UserWarning: X does not have valid feature names, but RandomForestClassifier was fitted with feature names\n",
      "  warnings.warn(\n"
     ]
    },
    {
     "data": {
      "text/plain": [
       "array(['setosa'], dtype=object)"
      ]
     },
     "execution_count": 20,
     "metadata": {},
     "output_type": "execute_result"
    },
    {
     "data": {
      "application/javascript": [
       "\n",
       "            setTimeout(function() {\n",
       "                var nbb_cell_id = 20;\n",
       "                var nbb_unformatted_code = \"# d\\u1ef1 \\u0111o\\u00e1n gi\\u00e1 tr\\u1ecb m\\u1edbi\\nX_new = [[5.5, 3.6, 1.6, 0.25]]\\ny_new = grid_cv.predict(X_new)\\ny_new\";\n",
       "                var nbb_formatted_code = \"# d\\u1ef1 \\u0111o\\u00e1n gi\\u00e1 tr\\u1ecb m\\u1edbi\\nX_new = [[5.5, 3.6, 1.6, 0.25]]\\ny_new = grid_cv.predict(X_new)\\ny_new\";\n",
       "                var nbb_cells = Jupyter.notebook.get_cells();\n",
       "                for (var i = 0; i < nbb_cells.length; ++i) {\n",
       "                    if (nbb_cells[i].input_prompt_number == nbb_cell_id) {\n",
       "                        if (nbb_cells[i].get_text() == nbb_unformatted_code) {\n",
       "                             nbb_cells[i].set_text(nbb_formatted_code);\n",
       "                        }\n",
       "                        break;\n",
       "                    }\n",
       "                }\n",
       "            }, 500);\n",
       "            "
      ],
      "text/plain": [
       "<IPython.core.display.Javascript object>"
      ]
     },
     "metadata": {},
     "output_type": "display_data"
    }
   ],
   "source": [
    "# dự đoán giá trị mới\n",
    "X_new = [[5.5, 3.6, 1.6, 0.25]]\n",
    "y_new = grid_cv.predict(X_new)\n",
    "y_new"
   ]
  },
  {
   "cell_type": "markdown",
   "id": "3e9f0e2b",
   "metadata": {},
   "source": [
    "### Random Search\n",
    "- Tốc độ tốt hơn do nó chọn random, nhưng có thể bỏ qua trường hợp tốt nhất"
   ]
  },
  {
   "cell_type": "code",
   "execution_count": 26,
   "id": "b43f80c0",
   "metadata": {},
   "outputs": [
    {
     "data": {
      "application/javascript": [
       "\n",
       "            setTimeout(function() {\n",
       "                var nbb_cell_id = 26;\n",
       "                var nbb_unformatted_code = \"from sklearn.model_selection import RandomizedSearchCV\";\n",
       "                var nbb_formatted_code = \"from sklearn.model_selection import RandomizedSearchCV\";\n",
       "                var nbb_cells = Jupyter.notebook.get_cells();\n",
       "                for (var i = 0; i < nbb_cells.length; ++i) {\n",
       "                    if (nbb_cells[i].input_prompt_number == nbb_cell_id) {\n",
       "                        if (nbb_cells[i].get_text() == nbb_unformatted_code) {\n",
       "                             nbb_cells[i].set_text(nbb_formatted_code);\n",
       "                        }\n",
       "                        break;\n",
       "                    }\n",
       "                }\n",
       "            }, 500);\n",
       "            "
      ],
      "text/plain": [
       "<IPython.core.display.Javascript object>"
      ]
     },
     "metadata": {},
     "output_type": "display_data"
    }
   ],
   "source": [
    "from sklearn.model_selection import RandomizedSearchCV"
   ]
  },
  {
   "cell_type": "code",
   "execution_count": 27,
   "id": "15d9ac72",
   "metadata": {},
   "outputs": [
    {
     "data": {
      "application/javascript": [
       "\n",
       "            setTimeout(function() {\n",
       "                var nbb_cell_id = 27;\n",
       "                var nbb_unformatted_code = \"grid_param = {\\n    \\\"n_estimators\\\": [30, 50, 100, 150, 200],\\n    \\\"max_features\\\": [\\\"auto\\\", \\\"sqrt\\\", \\\"log2\\\"],\\n    \\\"bootstrap\\\": [True, False],\\n    \\\"criterion\\\": [\\\"gini\\\", \\\"entropy\\\"],\\n}\";\n",
       "                var nbb_formatted_code = \"grid_param = {\\n    \\\"n_estimators\\\": [30, 50, 100, 150, 200],\\n    \\\"max_features\\\": [\\\"auto\\\", \\\"sqrt\\\", \\\"log2\\\"],\\n    \\\"bootstrap\\\": [True, False],\\n    \\\"criterion\\\": [\\\"gini\\\", \\\"entropy\\\"],\\n}\";\n",
       "                var nbb_cells = Jupyter.notebook.get_cells();\n",
       "                for (var i = 0; i < nbb_cells.length; ++i) {\n",
       "                    if (nbb_cells[i].input_prompt_number == nbb_cell_id) {\n",
       "                        if (nbb_cells[i].get_text() == nbb_unformatted_code) {\n",
       "                             nbb_cells[i].set_text(nbb_formatted_code);\n",
       "                        }\n",
       "                        break;\n",
       "                    }\n",
       "                }\n",
       "            }, 500);\n",
       "            "
      ],
      "text/plain": [
       "<IPython.core.display.Javascript object>"
      ]
     },
     "metadata": {},
     "output_type": "display_data"
    }
   ],
   "source": [
    "grid_param = {\n",
    "    \"n_estimators\": [30, 50, 100, 150, 200],\n",
    "    \"max_features\": [\"auto\", \"sqrt\", \"log2\"],\n",
    "    \"bootstrap\": [True, False],\n",
    "    \"criterion\": [\"gini\", \"entropy\"],\n",
    "}"
   ]
  },
  {
   "cell_type": "code",
   "execution_count": 28,
   "id": "92722780",
   "metadata": {},
   "outputs": [
    {
     "data": {
      "application/javascript": [
       "\n",
       "            setTimeout(function() {\n",
       "                var nbb_cell_id = 28;\n",
       "                var nbb_unformatted_code = \"from datetime import datetime\";\n",
       "                var nbb_formatted_code = \"from datetime import datetime\";\n",
       "                var nbb_cells = Jupyter.notebook.get_cells();\n",
       "                for (var i = 0; i < nbb_cells.length; ++i) {\n",
       "                    if (nbb_cells[i].input_prompt_number == nbb_cell_id) {\n",
       "                        if (nbb_cells[i].get_text() == nbb_unformatted_code) {\n",
       "                             nbb_cells[i].set_text(nbb_formatted_code);\n",
       "                        }\n",
       "                        break;\n",
       "                    }\n",
       "                }\n",
       "            }, 500);\n",
       "            "
      ],
      "text/plain": [
       "<IPython.core.display.Javascript object>"
      ]
     },
     "metadata": {},
     "output_type": "display_data"
    }
   ],
   "source": [
    "from datetime import datetime"
   ]
  },
  {
   "cell_type": "code",
   "execution_count": 29,
   "id": "d4ccad16",
   "metadata": {
    "scrolled": true
   },
   "outputs": [
    {
     "name": "stdout",
     "output_type": "stream",
     "text": [
      "4  giây\n"
     ]
    },
    {
     "data": {
      "application/javascript": [
       "\n",
       "            setTimeout(function() {\n",
       "                var nbb_cell_id = 29;\n",
       "                var nbb_unformatted_code = \"start_time = datetime.now()\\n# kfold = KFold(n_splits = 10, random_state = 42)\\nrandom_cv = RandomizedSearchCV(\\n    estimator=RandomForestClassifier(),\\n    param_distributions=grid_param,\\n    cv=5,\\n    random_state=1,\\n)\\n\\nrandom_cv.fit(X_train, y_train)\\nend_time = datetime.now()\\ntotal_time = end_time - start_time\\nseconds = total_time.days * 24 * 60 * 60 + total_time.seconds\\nprint(seconds, \\\" gi\\u00e2y\\\")\";\n",
       "                var nbb_formatted_code = \"start_time = datetime.now()\\n# kfold = KFold(n_splits = 10, random_state = 42)\\nrandom_cv = RandomizedSearchCV(\\n    estimator=RandomForestClassifier(),\\n    param_distributions=grid_param,\\n    cv=5,\\n    random_state=1,\\n)\\n\\nrandom_cv.fit(X_train, y_train)\\nend_time = datetime.now()\\ntotal_time = end_time - start_time\\nseconds = total_time.days * 24 * 60 * 60 + total_time.seconds\\nprint(seconds, \\\" gi\\u00e2y\\\")\";\n",
       "                var nbb_cells = Jupyter.notebook.get_cells();\n",
       "                for (var i = 0; i < nbb_cells.length; ++i) {\n",
       "                    if (nbb_cells[i].input_prompt_number == nbb_cell_id) {\n",
       "                        if (nbb_cells[i].get_text() == nbb_unformatted_code) {\n",
       "                             nbb_cells[i].set_text(nbb_formatted_code);\n",
       "                        }\n",
       "                        break;\n",
       "                    }\n",
       "                }\n",
       "            }, 500);\n",
       "            "
      ],
      "text/plain": [
       "<IPython.core.display.Javascript object>"
      ]
     },
     "metadata": {},
     "output_type": "display_data"
    }
   ],
   "source": [
    "start_time = datetime.now()\n",
    "# kfold = KFold(n_splits = 10, random_state = 42)\n",
    "random_cv = RandomizedSearchCV(\n",
    "    estimator=RandomForestClassifier(),\n",
    "    param_distributions=grid_param,\n",
    "    cv=5,\n",
    "    random_state=1,\n",
    ")\n",
    "\n",
    "random_cv.fit(X_train, y_train)\n",
    "end_time = datetime.now()\n",
    "total_time = end_time - start_time\n",
    "seconds = total_time.days * 24 * 60 * 60 + total_time.seconds\n",
    "print(seconds, \" giây\")"
   ]
  },
  {
   "cell_type": "code",
   "execution_count": 30,
   "id": "72277dba",
   "metadata": {},
   "outputs": [
    {
     "name": "stdout",
     "output_type": "stream",
     "text": [
      "Best param: {'n_estimators': 200, 'max_features': 'log2', 'criterion': 'gini', 'bootstrap': False}\n"
     ]
    },
    {
     "data": {
      "application/javascript": [
       "\n",
       "            setTimeout(function() {\n",
       "                var nbb_cell_id = 30;\n",
       "                var nbb_unformatted_code = \"print('Best param:', random_cv.best_params_)\";\n",
       "                var nbb_formatted_code = \"print(\\\"Best param:\\\", random_cv.best_params_)\";\n",
       "                var nbb_cells = Jupyter.notebook.get_cells();\n",
       "                for (var i = 0; i < nbb_cells.length; ++i) {\n",
       "                    if (nbb_cells[i].input_prompt_number == nbb_cell_id) {\n",
       "                        if (nbb_cells[i].get_text() == nbb_unformatted_code) {\n",
       "                             nbb_cells[i].set_text(nbb_formatted_code);\n",
       "                        }\n",
       "                        break;\n",
       "                    }\n",
       "                }\n",
       "            }, 500);\n",
       "            "
      ],
      "text/plain": [
       "<IPython.core.display.Javascript object>"
      ]
     },
     "metadata": {},
     "output_type": "display_data"
    }
   ],
   "source": [
    "print(\"Best param:\", random_cv.best_params_)"
   ]
  },
  {
   "cell_type": "code",
   "execution_count": 33,
   "id": "ae3c640b",
   "metadata": {},
   "outputs": [
    {
     "name": "stdout",
     "output_type": "stream",
     "text": [
      "Best param: RandomForestClassifier(bootstrap=False, max_features='log2', n_estimators=200)\n"
     ]
    },
    {
     "data": {
      "application/javascript": [
       "\n",
       "            setTimeout(function() {\n",
       "                var nbb_cell_id = 33;\n",
       "                var nbb_unformatted_code = \"# model t\\u1ed1t nh\\u1ea5t\\nbest_model = random_cv.best_estimator_\\nprint(\\\"Best param:\\\", best_model)\";\n",
       "                var nbb_formatted_code = \"# model t\\u1ed1t nh\\u1ea5t\\nbest_model = random_cv.best_estimator_\\nprint(\\\"Best param:\\\", best_model)\";\n",
       "                var nbb_cells = Jupyter.notebook.get_cells();\n",
       "                for (var i = 0; i < nbb_cells.length; ++i) {\n",
       "                    if (nbb_cells[i].input_prompt_number == nbb_cell_id) {\n",
       "                        if (nbb_cells[i].get_text() == nbb_unformatted_code) {\n",
       "                             nbb_cells[i].set_text(nbb_formatted_code);\n",
       "                        }\n",
       "                        break;\n",
       "                    }\n",
       "                }\n",
       "            }, 500);\n",
       "            "
      ],
      "text/plain": [
       "<IPython.core.display.Javascript object>"
      ]
     },
     "metadata": {},
     "output_type": "display_data"
    }
   ],
   "source": [
    "# model tốt nhất\n",
    "best_model = random_cv.best_estimator_\n",
    "print(\"Best param:\", best_model)"
   ]
  },
  {
   "cell_type": "code",
   "execution_count": 34,
   "id": "f0b3119e",
   "metadata": {
    "scrolled": true
   },
   "outputs": [
    {
     "name": "stdout",
     "output_type": "stream",
     "text": [
      "Accuracy score: 1.0\n"
     ]
    },
    {
     "data": {
      "application/javascript": [
       "\n",
       "            setTimeout(function() {\n",
       "                var nbb_cell_id = 34;\n",
       "                var nbb_unformatted_code = \"# \\u0111o \\u0111\\u1ed9 ch\\u00ednh x\\u00e1c\\nfrom sklearn.metrics import accuracy_score\\nprint('Accuracy score:', accuracy_score(y_test, yhat_test))\";\n",
       "                var nbb_formatted_code = \"# \\u0111o \\u0111\\u1ed9 ch\\u00ednh x\\u00e1c\\nfrom sklearn.metrics import accuracy_score\\n\\nprint(\\\"Accuracy score:\\\", accuracy_score(y_test, yhat_test))\";\n",
       "                var nbb_cells = Jupyter.notebook.get_cells();\n",
       "                for (var i = 0; i < nbb_cells.length; ++i) {\n",
       "                    if (nbb_cells[i].input_prompt_number == nbb_cell_id) {\n",
       "                        if (nbb_cells[i].get_text() == nbb_unformatted_code) {\n",
       "                             nbb_cells[i].set_text(nbb_formatted_code);\n",
       "                        }\n",
       "                        break;\n",
       "                    }\n",
       "                }\n",
       "            }, 500);\n",
       "            "
      ],
      "text/plain": [
       "<IPython.core.display.Javascript object>"
      ]
     },
     "metadata": {},
     "output_type": "display_data"
    }
   ],
   "source": [
    "# đo độ chính xác\n",
    "from sklearn.metrics import accuracy_score\n",
    "\n",
    "print(\"Accuracy score:\", accuracy_score(y_test, yhat_test))"
   ]
  },
  {
   "cell_type": "code",
   "execution_count": 35,
   "id": "d79713a2",
   "metadata": {},
   "outputs": [
    {
     "name": "stderr",
     "output_type": "stream",
     "text": [
      "C:\\Users\\trung\\AppData\\Local\\Programs\\Python\\Python39\\lib\\site-packages\\sklearn\\base.py:445: UserWarning: X does not have valid feature names, but RandomForestClassifier was fitted with feature names\n",
      "  warnings.warn(\n"
     ]
    },
    {
     "data": {
      "text/plain": [
       "array(['setosa'], dtype=object)"
      ]
     },
     "execution_count": 35,
     "metadata": {},
     "output_type": "execute_result"
    },
    {
     "data": {
      "application/javascript": [
       "\n",
       "            setTimeout(function() {\n",
       "                var nbb_cell_id = 35;\n",
       "                var nbb_unformatted_code = \"# d\\u1ef1 \\u0111o\\u00e1n gi\\u00e1 tr\\u1ecb m\\u1edbi\\nX_new = [[5.5, 3.6, 1.6, 0.25]]\\ny_new = random_cv.predict(X_new)\\ny_new\";\n",
       "                var nbb_formatted_code = \"# d\\u1ef1 \\u0111o\\u00e1n gi\\u00e1 tr\\u1ecb m\\u1edbi\\nX_new = [[5.5, 3.6, 1.6, 0.25]]\\ny_new = random_cv.predict(X_new)\\ny_new\";\n",
       "                var nbb_cells = Jupyter.notebook.get_cells();\n",
       "                for (var i = 0; i < nbb_cells.length; ++i) {\n",
       "                    if (nbb_cells[i].input_prompt_number == nbb_cell_id) {\n",
       "                        if (nbb_cells[i].get_text() == nbb_unformatted_code) {\n",
       "                             nbb_cells[i].set_text(nbb_formatted_code);\n",
       "                        }\n",
       "                        break;\n",
       "                    }\n",
       "                }\n",
       "            }, 500);\n",
       "            "
      ],
      "text/plain": [
       "<IPython.core.display.Javascript object>"
      ]
     },
     "metadata": {},
     "output_type": "display_data"
    }
   ],
   "source": [
    "# dự đoán giá trị mới\n",
    "X_new = [[5.5, 3.6, 1.6, 0.25]]\n",
    "y_new = random_cv.predict(X_new)\n",
    "y_new"
   ]
  },
  {
   "cell_type": "code",
   "execution_count": null,
   "id": "b99ecfd2",
   "metadata": {},
   "outputs": [],
   "source": []
  }
 ],
 "metadata": {
  "kernelspec": {
   "display_name": "Python 3 (ipykernel)",
   "language": "python",
   "name": "python3"
  },
  "language_info": {
   "codemirror_mode": {
    "name": "ipython",
    "version": 3
   },
   "file_extension": ".py",
   "mimetype": "text/x-python",
   "name": "python",
   "nbconvert_exporter": "python",
   "pygments_lexer": "ipython3",
   "version": "3.9.7"
  }
 },
 "nbformat": 4,
 "nbformat_minor": 5
}
