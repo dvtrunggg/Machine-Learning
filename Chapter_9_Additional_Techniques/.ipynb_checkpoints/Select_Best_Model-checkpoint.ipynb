{
 "cells": [
  {
   "cell_type": "code",
   "execution_count": 82,
   "id": "728f2aff",
   "metadata": {},
   "outputs": [
    {
     "name": "stdout",
     "output_type": "stream",
     "text": [
      "The nb_black extension is already loaded. To reload it, use:\n",
      "  %reload_ext nb_black\n"
     ]
    },
    {
     "data": {
      "application/javascript": [
       "\n",
       "            setTimeout(function() {\n",
       "                var nbb_cell_id = 82;\n",
       "                var nbb_unformatted_code = \"import pandas as pd\\nimport numpy as np\\nimport matplotlib.pyplot as plt\\nimport seaborn as sns\\nimport warnings\\nimport time\\nfrom sklearn.metrics import accuracy_score\\nwarnings.filterwarnings(\\\"ignore\\\")\\n\\n%load_ext nb_black\";\n",
       "                var nbb_formatted_code = \"import pandas as pd\\nimport numpy as np\\nimport matplotlib.pyplot as plt\\nimport seaborn as sns\\nimport warnings\\nimport time\\nfrom sklearn.metrics import accuracy_score\\n\\nwarnings.filterwarnings(\\\"ignore\\\")\\n\\n%load_ext nb_black\";\n",
       "                var nbb_cells = Jupyter.notebook.get_cells();\n",
       "                for (var i = 0; i < nbb_cells.length; ++i) {\n",
       "                    if (nbb_cells[i].input_prompt_number == nbb_cell_id) {\n",
       "                        if (nbb_cells[i].get_text() == nbb_unformatted_code) {\n",
       "                             nbb_cells[i].set_text(nbb_formatted_code);\n",
       "                        }\n",
       "                        break;\n",
       "                    }\n",
       "                }\n",
       "            }, 500);\n",
       "            "
      ],
      "text/plain": [
       "<IPython.core.display.Javascript object>"
      ]
     },
     "metadata": {},
     "output_type": "display_data"
    }
   ],
   "source": [
    "import pandas as pd\n",
    "import numpy as np\n",
    "import matplotlib.pyplot as plt\n",
    "import seaborn as sns\n",
    "import warnings\n",
    "import time\n",
    "from sklearn.metrics import accuracy_score\n",
    "\n",
    "warnings.filterwarnings(\"ignore\")\n",
    "\n",
    "%load_ext nb_black"
   ]
  },
  {
   "cell_type": "code",
   "execution_count": 3,
   "id": "6c3d97a8",
   "metadata": {},
   "outputs": [
    {
     "data": {
      "text/html": [
       "<div>\n",
       "<style scoped>\n",
       "    .dataframe tbody tr th:only-of-type {\n",
       "        vertical-align: middle;\n",
       "    }\n",
       "\n",
       "    .dataframe tbody tr th {\n",
       "        vertical-align: top;\n",
       "    }\n",
       "\n",
       "    .dataframe thead th {\n",
       "        text-align: right;\n",
       "    }\n",
       "</style>\n",
       "<table border=\"1\" class=\"dataframe\">\n",
       "  <thead>\n",
       "    <tr style=\"text-align: right;\">\n",
       "      <th></th>\n",
       "      <th>sepal_length</th>\n",
       "      <th>sepal_width</th>\n",
       "      <th>petal_length</th>\n",
       "      <th>petal_width</th>\n",
       "      <th>species</th>\n",
       "    </tr>\n",
       "  </thead>\n",
       "  <tbody>\n",
       "    <tr>\n",
       "      <th>0</th>\n",
       "      <td>5.1</td>\n",
       "      <td>3.5</td>\n",
       "      <td>1.4</td>\n",
       "      <td>0.2</td>\n",
       "      <td>setosa</td>\n",
       "    </tr>\n",
       "    <tr>\n",
       "      <th>1</th>\n",
       "      <td>4.9</td>\n",
       "      <td>3.0</td>\n",
       "      <td>1.4</td>\n",
       "      <td>0.2</td>\n",
       "      <td>setosa</td>\n",
       "    </tr>\n",
       "    <tr>\n",
       "      <th>2</th>\n",
       "      <td>4.7</td>\n",
       "      <td>3.2</td>\n",
       "      <td>1.3</td>\n",
       "      <td>0.2</td>\n",
       "      <td>setosa</td>\n",
       "    </tr>\n",
       "    <tr>\n",
       "      <th>3</th>\n",
       "      <td>4.6</td>\n",
       "      <td>3.1</td>\n",
       "      <td>1.5</td>\n",
       "      <td>0.2</td>\n",
       "      <td>setosa</td>\n",
       "    </tr>\n",
       "    <tr>\n",
       "      <th>4</th>\n",
       "      <td>5.0</td>\n",
       "      <td>3.6</td>\n",
       "      <td>1.4</td>\n",
       "      <td>0.2</td>\n",
       "      <td>setosa</td>\n",
       "    </tr>\n",
       "    <tr>\n",
       "      <th>...</th>\n",
       "      <td>...</td>\n",
       "      <td>...</td>\n",
       "      <td>...</td>\n",
       "      <td>...</td>\n",
       "      <td>...</td>\n",
       "    </tr>\n",
       "    <tr>\n",
       "      <th>145</th>\n",
       "      <td>6.7</td>\n",
       "      <td>3.0</td>\n",
       "      <td>5.2</td>\n",
       "      <td>2.3</td>\n",
       "      <td>virginica</td>\n",
       "    </tr>\n",
       "    <tr>\n",
       "      <th>146</th>\n",
       "      <td>6.3</td>\n",
       "      <td>2.5</td>\n",
       "      <td>5.0</td>\n",
       "      <td>1.9</td>\n",
       "      <td>virginica</td>\n",
       "    </tr>\n",
       "    <tr>\n",
       "      <th>147</th>\n",
       "      <td>6.5</td>\n",
       "      <td>3.0</td>\n",
       "      <td>5.2</td>\n",
       "      <td>2.0</td>\n",
       "      <td>virginica</td>\n",
       "    </tr>\n",
       "    <tr>\n",
       "      <th>148</th>\n",
       "      <td>6.2</td>\n",
       "      <td>3.4</td>\n",
       "      <td>5.4</td>\n",
       "      <td>2.3</td>\n",
       "      <td>virginica</td>\n",
       "    </tr>\n",
       "    <tr>\n",
       "      <th>149</th>\n",
       "      <td>5.9</td>\n",
       "      <td>3.0</td>\n",
       "      <td>5.1</td>\n",
       "      <td>1.8</td>\n",
       "      <td>virginica</td>\n",
       "    </tr>\n",
       "  </tbody>\n",
       "</table>\n",
       "<p>150 rows × 5 columns</p>\n",
       "</div>"
      ],
      "text/plain": [
       "     sepal_length  sepal_width  petal_length  petal_width    species\n",
       "0             5.1          3.5           1.4          0.2     setosa\n",
       "1             4.9          3.0           1.4          0.2     setosa\n",
       "2             4.7          3.2           1.3          0.2     setosa\n",
       "3             4.6          3.1           1.5          0.2     setosa\n",
       "4             5.0          3.6           1.4          0.2     setosa\n",
       "..            ...          ...           ...          ...        ...\n",
       "145           6.7          3.0           5.2          2.3  virginica\n",
       "146           6.3          2.5           5.0          1.9  virginica\n",
       "147           6.5          3.0           5.2          2.0  virginica\n",
       "148           6.2          3.4           5.4          2.3  virginica\n",
       "149           5.9          3.0           5.1          1.8  virginica\n",
       "\n",
       "[150 rows x 5 columns]"
      ]
     },
     "execution_count": 3,
     "metadata": {},
     "output_type": "execute_result"
    },
    {
     "data": {
      "application/javascript": [
       "\n",
       "            setTimeout(function() {\n",
       "                var nbb_cell_id = 3;\n",
       "                var nbb_unformatted_code = \"df = sns.load_dataset('iris')\\ndf\";\n",
       "                var nbb_formatted_code = \"df = sns.load_dataset(\\\"iris\\\")\\ndf\";\n",
       "                var nbb_cells = Jupyter.notebook.get_cells();\n",
       "                for (var i = 0; i < nbb_cells.length; ++i) {\n",
       "                    if (nbb_cells[i].input_prompt_number == nbb_cell_id) {\n",
       "                        if (nbb_cells[i].get_text() == nbb_unformatted_code) {\n",
       "                             nbb_cells[i].set_text(nbb_formatted_code);\n",
       "                        }\n",
       "                        break;\n",
       "                    }\n",
       "                }\n",
       "            }, 500);\n",
       "            "
      ],
      "text/plain": [
       "<IPython.core.display.Javascript object>"
      ]
     },
     "metadata": {},
     "output_type": "display_data"
    }
   ],
   "source": [
    "df = sns.load_dataset(\"iris\")\n",
    "df"
   ]
  },
  {
   "cell_type": "code",
   "execution_count": 4,
   "id": "e8c1b4a9",
   "metadata": {},
   "outputs": [
    {
     "data": {
      "text/plain": [
       "array(['setosa', 'versicolor', 'virginica'], dtype=object)"
      ]
     },
     "execution_count": 4,
     "metadata": {},
     "output_type": "execute_result"
    },
    {
     "data": {
      "application/javascript": [
       "\n",
       "            setTimeout(function() {\n",
       "                var nbb_cell_id = 4;\n",
       "                var nbb_unformatted_code = \"df['species'].unique()\";\n",
       "                var nbb_formatted_code = \"df[\\\"species\\\"].unique()\";\n",
       "                var nbb_cells = Jupyter.notebook.get_cells();\n",
       "                for (var i = 0; i < nbb_cells.length; ++i) {\n",
       "                    if (nbb_cells[i].input_prompt_number == nbb_cell_id) {\n",
       "                        if (nbb_cells[i].get_text() == nbb_unformatted_code) {\n",
       "                             nbb_cells[i].set_text(nbb_formatted_code);\n",
       "                        }\n",
       "                        break;\n",
       "                    }\n",
       "                }\n",
       "            }, 500);\n",
       "            "
      ],
      "text/plain": [
       "<IPython.core.display.Javascript object>"
      ]
     },
     "metadata": {},
     "output_type": "display_data"
    }
   ],
   "source": [
    "df[\"species\"].unique()"
   ]
  },
  {
   "cell_type": "code",
   "execution_count": 72,
   "id": "a9c581e1",
   "metadata": {},
   "outputs": [
    {
     "data": {
      "application/javascript": [
       "\n",
       "            setTimeout(function() {\n",
       "                var nbb_cell_id = 72;\n",
       "                var nbb_unformatted_code = \"df[\\\"species_num\\\"] = df[\\\"species\\\"].map(\\n    lambda x: 0 if x == \\\"setosa\\\" else 1 if x == \\\"versicolor\\\" else 2\\n)\";\n",
       "                var nbb_formatted_code = \"df[\\\"species_num\\\"] = df[\\\"species\\\"].map(\\n    lambda x: 0 if x == \\\"setosa\\\" else 1 if x == \\\"versicolor\\\" else 2\\n)\";\n",
       "                var nbb_cells = Jupyter.notebook.get_cells();\n",
       "                for (var i = 0; i < nbb_cells.length; ++i) {\n",
       "                    if (nbb_cells[i].input_prompt_number == nbb_cell_id) {\n",
       "                        if (nbb_cells[i].get_text() == nbb_unformatted_code) {\n",
       "                             nbb_cells[i].set_text(nbb_formatted_code);\n",
       "                        }\n",
       "                        break;\n",
       "                    }\n",
       "                }\n",
       "            }, 500);\n",
       "            "
      ],
      "text/plain": [
       "<IPython.core.display.Javascript object>"
      ]
     },
     "metadata": {},
     "output_type": "display_data"
    }
   ],
   "source": [
    "df[\"species_num\"] = df[\"species\"].map(\n",
    "    lambda x: 0 if x == \"setosa\" else 1 if x == \"versicolor\" else 2\n",
    ")"
   ]
  },
  {
   "cell_type": "code",
   "execution_count": 17,
   "id": "1020f5d4",
   "metadata": {},
   "outputs": [
    {
     "data": {
      "application/javascript": [
       "\n",
       "            setTimeout(function() {\n",
       "                var nbb_cell_id = 17;\n",
       "                var nbb_unformatted_code = \"X = df.drop(columns=['species', 'species_num'])\\ny = df['species_num']\";\n",
       "                var nbb_formatted_code = \"X = df.drop(columns=[\\\"species\\\", \\\"species_num\\\"])\\ny = df[\\\"species_num\\\"]\";\n",
       "                var nbb_cells = Jupyter.notebook.get_cells();\n",
       "                for (var i = 0; i < nbb_cells.length; ++i) {\n",
       "                    if (nbb_cells[i].input_prompt_number == nbb_cell_id) {\n",
       "                        if (nbb_cells[i].get_text() == nbb_unformatted_code) {\n",
       "                             nbb_cells[i].set_text(nbb_formatted_code);\n",
       "                        }\n",
       "                        break;\n",
       "                    }\n",
       "                }\n",
       "            }, 500);\n",
       "            "
      ],
      "text/plain": [
       "<IPython.core.display.Javascript object>"
      ]
     },
     "metadata": {},
     "output_type": "display_data"
    }
   ],
   "source": [
    "X = df.drop(columns=[\"species\", \"species_num\"])\n",
    "y = df[\"species_num\"]"
   ]
  },
  {
   "cell_type": "markdown",
   "id": "63d56c58",
   "metadata": {},
   "source": [
    "### Lựa chọn model"
   ]
  },
  {
   "cell_type": "code",
   "execution_count": 18,
   "id": "bfff152c",
   "metadata": {},
   "outputs": [
    {
     "data": {
      "application/javascript": [
       "\n",
       "            setTimeout(function() {\n",
       "                var nbb_cell_id = 18;\n",
       "                var nbb_unformatted_code = \"from sklearn.linear_model import LogisticRegression\\nfrom sklearn.naive_bayes import GaussianNB\\nfrom sklearn.neighbors import KNeighborsClassifier\\nfrom sklearn.tree import DecisionTreeClassifier\\nfrom sklearn.ensemble import RandomForestClassifier\\nfrom sklearn.svm import SVC\";\n",
       "                var nbb_formatted_code = \"from sklearn.linear_model import LogisticRegression\\nfrom sklearn.naive_bayes import GaussianNB\\nfrom sklearn.neighbors import KNeighborsClassifier\\nfrom sklearn.tree import DecisionTreeClassifier\\nfrom sklearn.ensemble import RandomForestClassifier\\nfrom sklearn.svm import SVC\";\n",
       "                var nbb_cells = Jupyter.notebook.get_cells();\n",
       "                for (var i = 0; i < nbb_cells.length; ++i) {\n",
       "                    if (nbb_cells[i].input_prompt_number == nbb_cell_id) {\n",
       "                        if (nbb_cells[i].get_text() == nbb_unformatted_code) {\n",
       "                             nbb_cells[i].set_text(nbb_formatted_code);\n",
       "                        }\n",
       "                        break;\n",
       "                    }\n",
       "                }\n",
       "            }, 500);\n",
       "            "
      ],
      "text/plain": [
       "<IPython.core.display.Javascript object>"
      ]
     },
     "metadata": {},
     "output_type": "display_data"
    }
   ],
   "source": [
    "from sklearn.linear_model import LogisticRegression\n",
    "from sklearn.naive_bayes import GaussianNB\n",
    "from sklearn.neighbors import KNeighborsClassifier\n",
    "from sklearn.tree import DecisionTreeClassifier\n",
    "from sklearn.ensemble import RandomForestClassifier\n",
    "from sklearn.svm import SVC"
   ]
  },
  {
   "cell_type": "code",
   "execution_count": 19,
   "id": "d4e0125e",
   "metadata": {},
   "outputs": [
    {
     "data": {
      "application/javascript": [
       "\n",
       "            setTimeout(function() {\n",
       "                var nbb_cell_id = 19;\n",
       "                var nbb_unformatted_code = \"# t\\u00ednh \\u0111\\u1ed9 ch\\u00ednh x\\u00e1c theo: Logistic, GaussianNB, KNN, DecisionTree, RandomForest, SVM\\nfrom sklearn.metrics import accuracy_score\\nfrom sklearn.model_selection import cross_val_score\";\n",
       "                var nbb_formatted_code = \"# t\\u00ednh \\u0111\\u1ed9 ch\\u00ednh x\\u00e1c theo: Logistic, GaussianNB, KNN, DecisionTree, RandomForest, SVM\\nfrom sklearn.metrics import accuracy_score\\nfrom sklearn.model_selection import cross_val_score\";\n",
       "                var nbb_cells = Jupyter.notebook.get_cells();\n",
       "                for (var i = 0; i < nbb_cells.length; ++i) {\n",
       "                    if (nbb_cells[i].input_prompt_number == nbb_cell_id) {\n",
       "                        if (nbb_cells[i].get_text() == nbb_unformatted_code) {\n",
       "                             nbb_cells[i].set_text(nbb_formatted_code);\n",
       "                        }\n",
       "                        break;\n",
       "                    }\n",
       "                }\n",
       "            }, 500);\n",
       "            "
      ],
      "text/plain": [
       "<IPython.core.display.Javascript object>"
      ]
     },
     "metadata": {},
     "output_type": "display_data"
    }
   ],
   "source": [
    "# tính độ chính xác theo: Logistic, GaussianNB, KNN, DecisionTree, RandomForest, SVM\n",
    "from sklearn.metrics import accuracy_score\n",
    "from sklearn.model_selection import cross_val_score"
   ]
  },
  {
   "cell_type": "code",
   "execution_count": 68,
   "id": "9330c941",
   "metadata": {},
   "outputs": [
    {
     "data": {
      "application/javascript": [
       "\n",
       "            setTimeout(function() {\n",
       "                var nbb_cell_id = 68;\n",
       "                var nbb_unformatted_code = \"### c\\u00e1c thu\\u1eadt to\\u00e1n ...\\nmodels = [\\n        SVC(kernel=\\\"linear\\\"),  # do m\\u1ed1i quan h\\u1ec7 gi\\u1eefa X v\\u00e0 y l\\u00e0 tuy\\u1ebfn t\\u00ednh\\n\\n    LogisticRegression(\\n        # multi_class=\\\"multinomial\\\", solver=\\\"lbfgs\\\"\\n    ),  # multi_class \\u0111\\u1ec3 auto c\\u0169ng dc:)\\n    GaussianNB(),\\n    KNeighborsClassifier(n_neighbors=5),\\n    DecisionTreeClassifier(),\\n    RandomForestClassifier(n_estimators=100),\\n]\";\n",
       "                var nbb_formatted_code = \"### c\\u00e1c thu\\u1eadt to\\u00e1n ...\\nmodels = [\\n    SVC(kernel=\\\"linear\\\"),  # do m\\u1ed1i quan h\\u1ec7 gi\\u1eefa X v\\u00e0 y l\\u00e0 tuy\\u1ebfn t\\u00ednh\\n    LogisticRegression(\\n        # multi_class=\\\"multinomial\\\", solver=\\\"lbfgs\\\"\\n    ),  # multi_class \\u0111\\u1ec3 auto c\\u0169ng dc:)\\n    GaussianNB(),\\n    KNeighborsClassifier(n_neighbors=5),\\n    DecisionTreeClassifier(),\\n    RandomForestClassifier(n_estimators=100),\\n]\";\n",
       "                var nbb_cells = Jupyter.notebook.get_cells();\n",
       "                for (var i = 0; i < nbb_cells.length; ++i) {\n",
       "                    if (nbb_cells[i].input_prompt_number == nbb_cell_id) {\n",
       "                        if (nbb_cells[i].get_text() == nbb_unformatted_code) {\n",
       "                             nbb_cells[i].set_text(nbb_formatted_code);\n",
       "                        }\n",
       "                        break;\n",
       "                    }\n",
       "                }\n",
       "            }, 500);\n",
       "            "
      ],
      "text/plain": [
       "<IPython.core.display.Javascript object>"
      ]
     },
     "metadata": {},
     "output_type": "display_data"
    }
   ],
   "source": [
    "### các thuật toán ...\n",
    "models = [\n",
    "    SVC(kernel=\"linear\"),  # do mối quan hệ giữa X và y là tuyến tính\n",
    "    LogisticRegression(\n",
    "        # multi_class=\"multinomial\", solver=\"lbfgs\"\n",
    "    ),  # multi_class để auto cũng dc:)\n",
    "    GaussianNB(),\n",
    "    KNeighborsClassifier(n_neighbors=5),\n",
    "    DecisionTreeClassifier(),\n",
    "    RandomForestClassifier(n_estimators=100),\n",
    "]"
   ]
  },
  {
   "cell_type": "code",
   "execution_count": 69,
   "id": "add0065b",
   "metadata": {},
   "outputs": [
    {
     "data": {
      "application/javascript": [
       "\n",
       "            setTimeout(function() {\n",
       "                var nbb_cell_id = 69;\n",
       "                var nbb_unformatted_code = \"CV = 10  # s\\u1ed1 l\\u1ea7n l\\u1eb7p\\n# m\\u1ed7i l\\u1ea7n l\\u1eb7p -> l\\u01b0u l\\u1ea1i acc c\\u1ee7a 6 model -> m\\u1ed7i model s\\u1ebd c\\u00f3 10 gi\\u00e1 tr\\u1ecb Accuracy\\ncv_df = pd.DataFrame(index=range(CV * len(models)))\\ncv_entries = []  # l\\u01b0u 2 th\\u00f4ng tin g\\u1ed3m model_name v\\u00e0 accuracy_score mean\\n\\nfor model in models:  # duy\\u1ec7t qua t\\u1eebng model trong danh s\\u00e1ch c\\u00e1c model\\n    start = time.time()\\n    model_name = model.__class__.__name__  # l\\u1ea5y t\\u00ean c\\u1ee7a model\\n    accuracies = cross_val_score(model, X, y, scoring=\\\"accuracy\\\", cv=CV)\\n    end = time.time()\\n\\n    cv_entries.append([model_name, accuracies.mean(), abs(end - start)])\\n\\ncv_df = pd.DataFrame(cv_entries, columns=[\\\"model_name\\\", \\\"accuracy\\\", \\\"run_time\\\"])\";\n",
       "                var nbb_formatted_code = \"CV = 10  # s\\u1ed1 l\\u1ea7n l\\u1eb7p\\n# m\\u1ed7i l\\u1ea7n l\\u1eb7p -> l\\u01b0u l\\u1ea1i acc c\\u1ee7a 6 model -> m\\u1ed7i model s\\u1ebd c\\u00f3 10 gi\\u00e1 tr\\u1ecb Accuracy\\ncv_df = pd.DataFrame(index=range(CV * len(models)))\\ncv_entries = []  # l\\u01b0u 2 th\\u00f4ng tin g\\u1ed3m model_name v\\u00e0 accuracy_score mean\\n\\nfor model in models:  # duy\\u1ec7t qua t\\u1eebng model trong danh s\\u00e1ch c\\u00e1c model\\n    start = time.time()\\n    model_name = model.__class__.__name__  # l\\u1ea5y t\\u00ean c\\u1ee7a model\\n    accuracies = cross_val_score(model, X, y, scoring=\\\"accuracy\\\", cv=CV)\\n    end = time.time()\\n\\n    cv_entries.append([model_name, accuracies.mean(), abs(end - start)])\\n\\ncv_df = pd.DataFrame(cv_entries, columns=[\\\"model_name\\\", \\\"accuracy\\\", \\\"run_time\\\"])\";\n",
       "                var nbb_cells = Jupyter.notebook.get_cells();\n",
       "                for (var i = 0; i < nbb_cells.length; ++i) {\n",
       "                    if (nbb_cells[i].input_prompt_number == nbb_cell_id) {\n",
       "                        if (nbb_cells[i].get_text() == nbb_unformatted_code) {\n",
       "                             nbb_cells[i].set_text(nbb_formatted_code);\n",
       "                        }\n",
       "                        break;\n",
       "                    }\n",
       "                }\n",
       "            }, 500);\n",
       "            "
      ],
      "text/plain": [
       "<IPython.core.display.Javascript object>"
      ]
     },
     "metadata": {},
     "output_type": "display_data"
    }
   ],
   "source": [
    "CV = 10  # số lần lặp\n",
    "# mỗi lần lặp -> lưu lại acc của 6 model -> mỗi model sẽ có 10 giá trị Accuracy\n",
    "cv_df = pd.DataFrame(index=range(CV * len(models)))\n",
    "cv_entries = []  # lưu 2 thông tin gồm model_name và accuracy_score mean\n",
    "\n",
    "for model in models:  # duyệt qua từng model trong danh sách các model\n",
    "    start = time.time()\n",
    "    model_name = model.__class__.__name__  # lấy tên của model\n",
    "    accuracies = cross_val_score(model, X, y, scoring=\"accuracy\", cv=CV)\n",
    "    end = time.time()\n",
    "\n",
    "    cv_entries.append([model_name, accuracies.mean(), abs(end - start)])\n",
    "\n",
    "cv_df = pd.DataFrame(cv_entries, columns=[\"model_name\", \"accuracy\", \"run_time\"])"
   ]
  },
  {
   "cell_type": "code",
   "execution_count": 70,
   "id": "ad3ae535",
   "metadata": {},
   "outputs": [
    {
     "data": {
      "text/html": [
       "<div>\n",
       "<style scoped>\n",
       "    .dataframe tbody tr th:only-of-type {\n",
       "        vertical-align: middle;\n",
       "    }\n",
       "\n",
       "    .dataframe tbody tr th {\n",
       "        vertical-align: top;\n",
       "    }\n",
       "\n",
       "    .dataframe thead th {\n",
       "        text-align: right;\n",
       "    }\n",
       "</style>\n",
       "<table border=\"1\" class=\"dataframe\">\n",
       "  <thead>\n",
       "    <tr style=\"text-align: right;\">\n",
       "      <th></th>\n",
       "      <th>model_name</th>\n",
       "      <th>accuracy</th>\n",
       "      <th>run_time</th>\n",
       "    </tr>\n",
       "  </thead>\n",
       "  <tbody>\n",
       "    <tr>\n",
       "      <th>0</th>\n",
       "      <td>SVC</td>\n",
       "      <td>0.973333</td>\n",
       "      <td>0.033945</td>\n",
       "    </tr>\n",
       "    <tr>\n",
       "      <th>1</th>\n",
       "      <td>LogisticRegression</td>\n",
       "      <td>0.973333</td>\n",
       "      <td>0.199466</td>\n",
       "    </tr>\n",
       "    <tr>\n",
       "      <th>3</th>\n",
       "      <td>KNeighborsClassifier</td>\n",
       "      <td>0.966667</td>\n",
       "      <td>0.027926</td>\n",
       "    </tr>\n",
       "    <tr>\n",
       "      <th>4</th>\n",
       "      <td>DecisionTreeClassifier</td>\n",
       "      <td>0.960000</td>\n",
       "      <td>0.021904</td>\n",
       "    </tr>\n",
       "    <tr>\n",
       "      <th>5</th>\n",
       "      <td>RandomForestClassifier</td>\n",
       "      <td>0.960000</td>\n",
       "      <td>0.881686</td>\n",
       "    </tr>\n",
       "    <tr>\n",
       "      <th>2</th>\n",
       "      <td>GaussianNB</td>\n",
       "      <td>0.953333</td>\n",
       "      <td>0.026930</td>\n",
       "    </tr>\n",
       "  </tbody>\n",
       "</table>\n",
       "</div>"
      ],
      "text/plain": [
       "               model_name  accuracy  run_time\n",
       "0                     SVC  0.973333  0.033945\n",
       "1      LogisticRegression  0.973333  0.199466\n",
       "3    KNeighborsClassifier  0.966667  0.027926\n",
       "4  DecisionTreeClassifier  0.960000  0.021904\n",
       "5  RandomForestClassifier  0.960000  0.881686\n",
       "2              GaussianNB  0.953333  0.026930"
      ]
     },
     "execution_count": 70,
     "metadata": {},
     "output_type": "execute_result"
    },
    {
     "data": {
      "application/javascript": [
       "\n",
       "            setTimeout(function() {\n",
       "                var nbb_cell_id = 70;\n",
       "                var nbb_unformatted_code = \"cv_df = cv_df.sort_values(by=\\\"accuracy\\\", ascending=False)\\ncv_df\";\n",
       "                var nbb_formatted_code = \"cv_df = cv_df.sort_values(by=\\\"accuracy\\\", ascending=False)\\ncv_df\";\n",
       "                var nbb_cells = Jupyter.notebook.get_cells();\n",
       "                for (var i = 0; i < nbb_cells.length; ++i) {\n",
       "                    if (nbb_cells[i].input_prompt_number == nbb_cell_id) {\n",
       "                        if (nbb_cells[i].get_text() == nbb_unformatted_code) {\n",
       "                             nbb_cells[i].set_text(nbb_formatted_code);\n",
       "                        }\n",
       "                        break;\n",
       "                    }\n",
       "                }\n",
       "            }, 500);\n",
       "            "
      ],
      "text/plain": [
       "<IPython.core.display.Javascript object>"
      ]
     },
     "metadata": {},
     "output_type": "display_data"
    }
   ],
   "source": [
    "cv_df = cv_df.sort_values(by=\"accuracy\", ascending=False)\n",
    "cv_df"
   ]
  },
  {
   "cell_type": "code",
   "execution_count": 73,
   "id": "38ec512a",
   "metadata": {},
   "outputs": [
    {
     "data": {
      "text/plain": [
       "'\\n=> chọn thuật toán nào có accuracy cao nhưng lại đơn giản!\\n\\n'"
      ]
     },
     "execution_count": 73,
     "metadata": {},
     "output_type": "execute_result"
    },
    {
     "data": {
      "application/javascript": [
       "\n",
       "            setTimeout(function() {\n",
       "                var nbb_cell_id = 73;\n",
       "                var nbb_unformatted_code = \"'''\\n=> ch\\u1ecdn thu\\u1eadt to\\u00e1n n\\u00e0o c\\u00f3 accuracy cao nh\\u01b0ng l\\u1ea1i \\u0111\\u01a1n gi\\u1ea3n!\\n\\n'''\";\n",
       "                var nbb_formatted_code = \"\\\"\\\"\\\"\\n=> ch\\u1ecdn thu\\u1eadt to\\u00e1n n\\u00e0o c\\u00f3 accuracy cao nh\\u01b0ng l\\u1ea1i \\u0111\\u01a1n gi\\u1ea3n!\\n\\n\\\"\\\"\\\"\";\n",
       "                var nbb_cells = Jupyter.notebook.get_cells();\n",
       "                for (var i = 0; i < nbb_cells.length; ++i) {\n",
       "                    if (nbb_cells[i].input_prompt_number == nbb_cell_id) {\n",
       "                        if (nbb_cells[i].get_text() == nbb_unformatted_code) {\n",
       "                             nbb_cells[i].set_text(nbb_formatted_code);\n",
       "                        }\n",
       "                        break;\n",
       "                    }\n",
       "                }\n",
       "            }, 500);\n",
       "            "
      ],
      "text/plain": [
       "<IPython.core.display.Javascript object>"
      ]
     },
     "metadata": {},
     "output_type": "display_data"
    }
   ],
   "source": [
    "\"\"\"\n",
    "=> chọn thuật toán nào có accuracy cao nhưng lại đơn giản!\n",
    "\n",
    "\"\"\""
   ]
  },
  {
   "cell_type": "code",
   "execution_count": 78,
   "id": "a28501dc",
   "metadata": {},
   "outputs": [
    {
     "data": {
      "application/javascript": [
       "\n",
       "            setTimeout(function() {\n",
       "                var nbb_cell_id = 78;\n",
       "                var nbb_unformatted_code = \"from sklearn.model_selection import train_test_split\\nX_train, X_test, y_train, y_test = train_test_split(X,y)\";\n",
       "                var nbb_formatted_code = \"from sklearn.model_selection import train_test_split\\n\\nX_train, X_test, y_train, y_test = train_test_split(X, y)\";\n",
       "                var nbb_cells = Jupyter.notebook.get_cells();\n",
       "                for (var i = 0; i < nbb_cells.length; ++i) {\n",
       "                    if (nbb_cells[i].input_prompt_number == nbb_cell_id) {\n",
       "                        if (nbb_cells[i].get_text() == nbb_unformatted_code) {\n",
       "                             nbb_cells[i].set_text(nbb_formatted_code);\n",
       "                        }\n",
       "                        break;\n",
       "                    }\n",
       "                }\n",
       "            }, 500);\n",
       "            "
      ],
      "text/plain": [
       "<IPython.core.display.Javascript object>"
      ]
     },
     "metadata": {},
     "output_type": "display_data"
    }
   ],
   "source": [
    "from sklearn.model_selection import train_test_split\n",
    "\n",
    "X_train, X_test, y_train, y_test = train_test_split(X, y)"
   ]
  },
  {
   "cell_type": "code",
   "execution_count": 81,
   "id": "5c1410f5",
   "metadata": {},
   "outputs": [
    {
     "data": {
      "application/javascript": [
       "\n",
       "            setTimeout(function() {\n",
       "                var nbb_cell_id = 81;\n",
       "                var nbb_unformatted_code = \"CV = 10  # s\\u1ed1 l\\u1ea7n l\\u1eb7p\\n# m\\u1ed7i l\\u1ea7n l\\u1eb7p -> l\\u01b0u l\\u1ea1i acc c\\u1ee7a 6 model -> m\\u1ed7i model s\\u1ebd c\\u00f3 10 gi\\u00e1 tr\\u1ecb Accuracy\\ncv_df = pd.DataFrame(index=range(CV * len(models)))\\ncv_entries = []  # l\\u01b0u 2 th\\u00f4ng tin g\\u1ed3m model_name v\\u00e0 accuracy_score mean\\n\\nfor model in models:  # duy\\u1ec7t qua t\\u1eebng model trong danh s\\u00e1ch c\\u00e1c model\\n    start = time.time()\\n    model_name = model.__class__.__name__  # l\\u1ea5y t\\u00ean c\\u1ee7a model\\n    model1 = model.fit(X_train, y_train)\\n#     accuracies = cross_val_score(model, X, y, scoring=\\\"accuracy\\\", cv=CV)\\n#     end = time.time()\\n\\n#     cv_entries.append([model_name, accuracies.mean(), abs(end - start)])\\n\\n# cv_df = pd.DataFrame(cv_entries, columns=[\\\"model_name\\\", \\\"accuracy\\\", \\\"run_time\\\"])\";\n",
       "                var nbb_formatted_code = \"CV = 10  # s\\u1ed1 l\\u1ea7n l\\u1eb7p\\n# m\\u1ed7i l\\u1ea7n l\\u1eb7p -> l\\u01b0u l\\u1ea1i acc c\\u1ee7a 6 model -> m\\u1ed7i model s\\u1ebd c\\u00f3 10 gi\\u00e1 tr\\u1ecb Accuracy\\ncv_df = pd.DataFrame(index=range(CV * len(models)))\\ncv_entries = []  # l\\u01b0u 2 th\\u00f4ng tin g\\u1ed3m model_name v\\u00e0 accuracy_score mean\\n\\nfor model in models:  # duy\\u1ec7t qua t\\u1eebng model trong danh s\\u00e1ch c\\u00e1c model\\n    start = time.time()\\n    model_name = model.__class__.__name__  # l\\u1ea5y t\\u00ean c\\u1ee7a model\\n    model1 = model.fit(X_train, y_train)\\n#     accuracies = cross_val_score(model, X, y, scoring=\\\"accuracy\\\", cv=CV)\\n#     end = time.time()\\n\\n#     cv_entries.append([model_name, accuracies.mean(), abs(end - start)])\\n\\n# cv_df = pd.DataFrame(cv_entries, columns=[\\\"model_name\\\", \\\"accuracy\\\", \\\"run_time\\\"])\";\n",
       "                var nbb_cells = Jupyter.notebook.get_cells();\n",
       "                for (var i = 0; i < nbb_cells.length; ++i) {\n",
       "                    if (nbb_cells[i].input_prompt_number == nbb_cell_id) {\n",
       "                        if (nbb_cells[i].get_text() == nbb_unformatted_code) {\n",
       "                             nbb_cells[i].set_text(nbb_formatted_code);\n",
       "                        }\n",
       "                        break;\n",
       "                    }\n",
       "                }\n",
       "            }, 500);\n",
       "            "
      ],
      "text/plain": [
       "<IPython.core.display.Javascript object>"
      ]
     },
     "metadata": {},
     "output_type": "display_data"
    }
   ],
   "source": [
    "CV = 10  # số lần lặp\n",
    "# mỗi lần lặp -> lưu lại acc của 6 model -> mỗi model sẽ có 10 giá trị Accuracy\n",
    "cv_df = pd.DataFrame(index=range(CV * len(models)))\n",
    "cv_entries = []  # lưu 2 thông tin gồm model_name và accuracy_score mean\n",
    "\n",
    "for model in models:  # duyệt qua từng model trong danh sách các model\n",
    "    start = time.time()\n",
    "    model_name = model.__class__.__name__  # lấy tên của model\n",
    "    model1 = model.fit(X_train, y_train)\n",
    "    y_pred = model1.predict(X_test)\n",
    "    accuracies = accuracy_score(y_test,y_pred)*100,\"%\")\n",
    "    \n",
    "#     end = time.time()\n",
    "\n",
    "#     cv_entries.append([model_name, accuracies.mean(), abs(end - start)])\n",
    "\n",
    "# cv_df = pd.DataFrame(cv_entries, columns=[\"model_name\", \"accuracy\", \"run_time\"])"
   ]
  },
  {
   "cell_type": "code",
   "execution_count": null,
   "id": "4681bd68",
   "metadata": {},
   "outputs": [],
   "source": []
  }
 ],
 "metadata": {
  "kernelspec": {
   "display_name": "Python 3 (ipykernel)",
   "language": "python",
   "name": "python3"
  },
  "language_info": {
   "codemirror_mode": {
    "name": "ipython",
    "version": 3
   },
   "file_extension": ".py",
   "mimetype": "text/x-python",
   "name": "python",
   "nbconvert_exporter": "python",
   "pygments_lexer": "ipython3",
   "version": "3.9.7"
  }
 },
 "nbformat": 4,
 "nbformat_minor": 5
}
