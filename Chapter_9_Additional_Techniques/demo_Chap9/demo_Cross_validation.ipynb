{
 "cells": [
  {
   "cell_type": "code",
   "execution_count": 1,
   "id": "12d43ee0",
   "metadata": {},
   "outputs": [],
   "source": [
    "import pandas as pd\n",
    "import numpy as np\n",
    "import matplotlib.pyplot as plt\n",
    "import seaborn as sns"
   ]
  },
  {
   "cell_type": "code",
   "execution_count": 2,
   "id": "bedf67c1",
   "metadata": {},
   "outputs": [],
   "source": [
    "df = sns.load_dataset('iris')"
   ]
  },
  {
   "cell_type": "code",
   "execution_count": 3,
   "id": "6b253acd",
   "metadata": {},
   "outputs": [
    {
     "data": {
      "text/html": [
       "<div>\n",
       "<style scoped>\n",
       "    .dataframe tbody tr th:only-of-type {\n",
       "        vertical-align: middle;\n",
       "    }\n",
       "\n",
       "    .dataframe tbody tr th {\n",
       "        vertical-align: top;\n",
       "    }\n",
       "\n",
       "    .dataframe thead th {\n",
       "        text-align: right;\n",
       "    }\n",
       "</style>\n",
       "<table border=\"1\" class=\"dataframe\">\n",
       "  <thead>\n",
       "    <tr style=\"text-align: right;\">\n",
       "      <th></th>\n",
       "      <th>sepal_length</th>\n",
       "      <th>sepal_width</th>\n",
       "      <th>petal_length</th>\n",
       "      <th>petal_width</th>\n",
       "      <th>species</th>\n",
       "    </tr>\n",
       "  </thead>\n",
       "  <tbody>\n",
       "    <tr>\n",
       "      <th>0</th>\n",
       "      <td>5.1</td>\n",
       "      <td>3.5</td>\n",
       "      <td>1.4</td>\n",
       "      <td>0.2</td>\n",
       "      <td>setosa</td>\n",
       "    </tr>\n",
       "    <tr>\n",
       "      <th>1</th>\n",
       "      <td>4.9</td>\n",
       "      <td>3.0</td>\n",
       "      <td>1.4</td>\n",
       "      <td>0.2</td>\n",
       "      <td>setosa</td>\n",
       "    </tr>\n",
       "    <tr>\n",
       "      <th>2</th>\n",
       "      <td>4.7</td>\n",
       "      <td>3.2</td>\n",
       "      <td>1.3</td>\n",
       "      <td>0.2</td>\n",
       "      <td>setosa</td>\n",
       "    </tr>\n",
       "    <tr>\n",
       "      <th>3</th>\n",
       "      <td>4.6</td>\n",
       "      <td>3.1</td>\n",
       "      <td>1.5</td>\n",
       "      <td>0.2</td>\n",
       "      <td>setosa</td>\n",
       "    </tr>\n",
       "    <tr>\n",
       "      <th>4</th>\n",
       "      <td>5.0</td>\n",
       "      <td>3.6</td>\n",
       "      <td>1.4</td>\n",
       "      <td>0.2</td>\n",
       "      <td>setosa</td>\n",
       "    </tr>\n",
       "  </tbody>\n",
       "</table>\n",
       "</div>"
      ],
      "text/plain": [
       "   sepal_length  sepal_width  petal_length  petal_width species\n",
       "0           5.1          3.5           1.4          0.2  setosa\n",
       "1           4.9          3.0           1.4          0.2  setosa\n",
       "2           4.7          3.2           1.3          0.2  setosa\n",
       "3           4.6          3.1           1.5          0.2  setosa\n",
       "4           5.0          3.6           1.4          0.2  setosa"
      ]
     },
     "execution_count": 3,
     "metadata": {},
     "output_type": "execute_result"
    }
   ],
   "source": [
    "df.head()"
   ]
  },
  {
   "cell_type": "code",
   "execution_count": 4,
   "id": "1bff76f0",
   "metadata": {},
   "outputs": [],
   "source": [
    "X = df.drop(columns=['species'])\n",
    "y = df['species']"
   ]
  },
  {
   "cell_type": "code",
   "execution_count": 5,
   "id": "78d293a8",
   "metadata": {},
   "outputs": [],
   "source": [
    "# sử dụng Decision Tree \n",
    "# để dự đoán species theo các chỉ số: sepal_length, sepal_width, petal_length, petal_width"
   ]
  },
  {
   "cell_type": "code",
   "execution_count": 9,
   "id": "d1ed09c5",
   "metadata": {},
   "outputs": [],
   "source": [
    "from sklearn.tree import DecisionTreeClassifier\n",
    "from sklearn.model_selection import train_test_split\n",
    "from sklearn.metrics import accuracy_score"
   ]
  },
  {
   "cell_type": "markdown",
   "id": "eae63de2",
   "metadata": {},
   "source": [
    "### Train/Test split"
   ]
  },
  {
   "cell_type": "code",
   "execution_count": 15,
   "id": "a4f142a5",
   "metadata": {},
   "outputs": [
    {
     "name": "stdout",
     "output_type": "stream",
     "text": [
      "tỷ lệ [ 0.7 : 0.3 ], score train: 1.0 , score test: 0.93  diff of train-test: 0.06999999999999995\n",
      "tỷ lệ [ 0.75 : 0.25 ], score train: 1.0 , score test: 0.95  diff of train-test: 0.050000000000000044\n",
      "tỷ lệ [ 0.8 : 0.2 ], score train: 1.0 , score test: 0.9  diff of train-test: 0.09999999999999998\n"
     ]
    }
   ],
   "source": [
    "#thực hiện công việc này nhiều lần\n",
    "# bằng cách thêm 1 vòng lặp chạy 10 lần cho đoạn code này\n",
    "# sử dụng dictionary để lưu lại kết quả cho mỗi lần chạy\n",
    "# có các tỷ lệ 70%, 75%, 80% cho trainning và 30%, 25%, 20% cho Test\n",
    "lst_test_size = [0.3, 0.25, 0.2]\n",
    "for i in lst_test_size:\n",
    "    # phân tách dữ liệu theo từng tỷ lệ để build model\n",
    "    X_train, X_test, y_train, y_test = train_test_split(X, y, test_size = i)\n",
    "    model = DecisionTreeClassifier()\n",
    "    model.fit(X_train, y_train)\n",
    "    \n",
    "    #acc = accuracy_score()\n",
    "    train_score = round(model.score(X_train, y_train), 2)\n",
    "    test_score = round(model.score(X_test, y_test), 2)\n",
    "    \n",
    "    print('tỷ lệ [', 1-i,':',i,'], score train:', train_score, ', score test:', test_score,\n",
    "         ' diff of train-test:', abs(train_score - test_score))"
   ]
  },
  {
   "cell_type": "code",
   "execution_count": 14,
   "id": "cea348e9",
   "metadata": {},
   "outputs": [],
   "source": [
    "# sau khi chạy n lần\n",
    "# so sánh kết quả của n lần chạy giữa các tỷ lệ 70-30, 25-25 và 80-20\n",
    "# chọn ra tỷ lệ có kết quả tốt nhất"
   ]
  },
  {
   "cell_type": "code",
   "execution_count": null,
   "id": "7af73270",
   "metadata": {},
   "outputs": [],
   "source": []
  },
  {
   "cell_type": "markdown",
   "id": "ec418a74",
   "metadata": {},
   "source": [
    "## K-Folds"
   ]
  },
  {
   "cell_type": "code",
   "execution_count": 17,
   "id": "c07df4d2",
   "metadata": {},
   "outputs": [],
   "source": [
    "from sklearn.model_selection import KFold\n",
    "from sklearn.model_selection import cross_val_score"
   ]
  },
  {
   "cell_type": "code",
   "execution_count": 26,
   "id": "f7ddc2d5",
   "metadata": {},
   "outputs": [
    {
     "name": "stdout",
     "output_type": "stream",
     "text": [
      "Accuracy: 93.33% - std: 8.43%\n"
     ]
    }
   ],
   "source": [
    "model_k = DecisionTreeClassifier()\n",
    "kfold = KFold(n_splits = 10)\n",
    "results = cross_val_score(model_k, X, y, cv=kfold)\n",
    "print('Accuracy: %.2f%% - std: %.2f%%' %(results.mean() * 100, results.std()*100))"
   ]
  },
  {
   "cell_type": "code",
   "execution_count": 27,
   "id": "023e672e",
   "metadata": {},
   "outputs": [
    {
     "data": {
      "text/plain": [
       "array([1.        , 1.        , 1.        , 0.93333333, 0.93333333,\n",
       "       0.86666667, 1.        , 0.86666667, 0.73333333, 1.        ])"
      ]
     },
     "execution_count": 27,
     "metadata": {},
     "output_type": "execute_result"
    }
   ],
   "source": [
    "results"
   ]
  },
  {
   "cell_type": "code",
   "execution_count": null,
   "id": "a7316a58",
   "metadata": {},
   "outputs": [],
   "source": [
    "# dựa vào 2 cách thực hiện cross vallidation ở trên\n",
    "#==> có lựa chọn model hay không\n",
    "# nếu lựa chọn thì build model với tỉ lệ chia đã chọn ở trên\n",
    "# nếu không chọn => kiểm tra lại dữ liệu, xem lại model đã chọn có phù hợp với dữ liệu hay không?"
   ]
  }
 ],
 "metadata": {
  "kernelspec": {
   "display_name": "Python 3 (ipykernel)",
   "language": "python",
   "name": "python3"
  },
  "language_info": {
   "codemirror_mode": {
    "name": "ipython",
    "version": 3
   },
   "file_extension": ".py",
   "mimetype": "text/x-python",
   "name": "python",
   "nbconvert_exporter": "python",
   "pygments_lexer": "ipython3",
   "version": "3.8.10"
  }
 },
 "nbformat": 4,
 "nbformat_minor": 5
}
