{
 "cells": [
  {
   "cell_type": "code",
   "execution_count": 1,
   "id": "199758bf",
   "metadata": {},
   "outputs": [],
   "source": [
    "import pandas as pd\n",
    "import numpy as np\n",
    "import matplotlib.pyplot as plt\n",
    "import seaborn as sns"
   ]
  },
  {
   "cell_type": "code",
   "execution_count": 2,
   "id": "4114b24d",
   "metadata": {},
   "outputs": [],
   "source": [
    "df = sns.load_dataset('iris')"
   ]
  },
  {
   "cell_type": "code",
   "execution_count": 3,
   "id": "eaafde4e",
   "metadata": {},
   "outputs": [],
   "source": [
    "X = df.drop(columns=['species'])\n",
    "y = df['species']"
   ]
  },
  {
   "cell_type": "code",
   "execution_count": 4,
   "id": "f332b4c3",
   "metadata": {},
   "outputs": [],
   "source": [
    "# tìm tỷ lệ chia tốt nhất\n",
    "# tự làm\n",
    "# ví dụ tỷ lệ chia tốt nhất tìm được là 75-25"
   ]
  },
  {
   "cell_type": "code",
   "execution_count": 5,
   "id": "183fac0f",
   "metadata": {},
   "outputs": [],
   "source": [
    "from sklearn.model_selection import train_test_split\n",
    "from sklearn.ensemble import RandomForestClassifier"
   ]
  },
  {
   "cell_type": "code",
   "execution_count": 6,
   "id": "e89b9292",
   "metadata": {},
   "outputs": [],
   "source": [
    "X_train, X_test, y_train, y_test = train_test_split(X, y, test_size = 0.25, random_state =42)"
   ]
  },
  {
   "cell_type": "markdown",
   "id": "eb26a330",
   "metadata": {},
   "source": [
    "## sử dụng RandomSearch"
   ]
  },
  {
   "cell_type": "code",
   "execution_count": 7,
   "id": "87565b2c",
   "metadata": {},
   "outputs": [],
   "source": [
    "from sklearn.model_selection import RandomizedSearchCV"
   ]
  },
  {
   "cell_type": "code",
   "execution_count": 9,
   "id": "c75285c0",
   "metadata": {},
   "outputs": [],
   "source": [
    "grid_param = {\n",
    "    'n_estimators': [30, 50, 100, 150, 200],\n",
    "    'max_features': ['auto', 'sqrt', 'log2'],\n",
    "    'bootstrap': [True, False],\n",
    "    'criterion': ['gini', 'entropy']\n",
    "}"
   ]
  },
  {
   "cell_type": "code",
   "execution_count": 10,
   "id": "094ff870",
   "metadata": {},
   "outputs": [],
   "source": [
    "from datetime import datetime"
   ]
  },
  {
   "cell_type": "code",
   "execution_count": 11,
   "id": "6570233d",
   "metadata": {},
   "outputs": [],
   "source": [
    "start_time = datetime.now()"
   ]
  },
  {
   "cell_type": "code",
   "execution_count": 12,
   "id": "6600fff0",
   "metadata": {},
   "outputs": [],
   "source": [
    "#kfold = KFold(n_splits = 10, random_state = 42)\n",
    "random_cv = RandomizedSearchCV(estimator = RandomForestClassifier(), \n",
    "                               param_distributions = grid_param, cv=5, random_state = 1)"
   ]
  },
  {
   "cell_type": "code",
   "execution_count": 13,
   "id": "f587835a",
   "metadata": {},
   "outputs": [
    {
     "data": {
      "text/plain": [
       "RandomizedSearchCV(cv=5, estimator=RandomForestClassifier(),\n",
       "                   param_distributions={'bootstrap': [True, False],\n",
       "                                        'criterion': ['gini', 'entropy'],\n",
       "                                        'max_features': ['auto', 'sqrt',\n",
       "                                                         'log2'],\n",
       "                                        'n_estimators': [30, 50, 100, 150,\n",
       "                                                         200]},\n",
       "                   random_state=1)"
      ]
     },
     "execution_count": 13,
     "metadata": {},
     "output_type": "execute_result"
    }
   ],
   "source": [
    "random_cv.fit(X_train, y_train)"
   ]
  },
  {
   "cell_type": "code",
   "execution_count": 14,
   "id": "5243bc07",
   "metadata": {},
   "outputs": [
    {
     "name": "stdout",
     "output_type": "stream",
     "text": [
      "12  giây\n"
     ]
    }
   ],
   "source": [
    "end_time = datetime.now()\n",
    "total_time = end_time - start_time\n",
    "seconds = total_time.days * 24 * 60 * 60 + total_time.seconds\n",
    "print(seconds,' giây')"
   ]
  },
  {
   "cell_type": "code",
   "execution_count": 21,
   "id": "d492317e",
   "metadata": {},
   "outputs": [
    {
     "name": "stdout",
     "output_type": "stream",
     "text": [
      "Best param: {'n_estimators': 100, 'max_features': 'auto', 'criterion': 'gini', 'bootstrap': True}\n"
     ]
    }
   ],
   "source": [
    "print('Best param:', random_cv.best_params_)"
   ]
  },
  {
   "cell_type": "code",
   "execution_count": 16,
   "id": "f8939cb6",
   "metadata": {},
   "outputs": [
    {
     "name": "stdout",
     "output_type": "stream",
     "text": [
      "Best param: RandomForestClassifier()\n"
     ]
    }
   ],
   "source": [
    "best_model = random_cv.best_estimator_\n",
    "print('Best param:', best_model)"
   ]
  },
  {
   "cell_type": "code",
   "execution_count": 17,
   "id": "7f4f150d",
   "metadata": {},
   "outputs": [],
   "source": [
    "# dự đoán trên test data\n",
    "yhat_test = random_cv.predict(X_test)"
   ]
  },
  {
   "cell_type": "code",
   "execution_count": 18,
   "id": "ca339d74",
   "metadata": {},
   "outputs": [],
   "source": [
    "# đo độ chính xác\n",
    "from sklearn.metrics import accuracy_score"
   ]
  },
  {
   "cell_type": "code",
   "execution_count": 19,
   "id": "afb71a77",
   "metadata": {},
   "outputs": [
    {
     "name": "stdout",
     "output_type": "stream",
     "text": [
      "Accuracy score: 1.0\n"
     ]
    }
   ],
   "source": [
    "print('Accuracy score:', accuracy_score(y_test, yhat_test))"
   ]
  },
  {
   "cell_type": "code",
   "execution_count": 20,
   "id": "0fcbadf2",
   "metadata": {},
   "outputs": [
    {
     "name": "stderr",
     "output_type": "stream",
     "text": [
      "c:\\program files\\python38\\lib\\site-packages\\sklearn\\base.py:450: UserWarning: X does not have valid feature names, but RandomForestClassifier was fitted with feature names\n",
      "  warnings.warn(\n"
     ]
    },
    {
     "data": {
      "text/plain": [
       "array(['setosa'], dtype=object)"
      ]
     },
     "execution_count": 20,
     "metadata": {},
     "output_type": "execute_result"
    }
   ],
   "source": [
    "# dự đoán giá trị mới\n",
    "X_new = [[5.5, 3.6, 1.6, 0.25]]\n",
    "y_new = random_cv.predict(X_new)\n",
    "y_new"
   ]
  },
  {
   "cell_type": "code",
   "execution_count": null,
   "id": "a23f85ce",
   "metadata": {},
   "outputs": [],
   "source": []
  }
 ],
 "metadata": {
  "kernelspec": {
   "display_name": "Python 3 (ipykernel)",
   "language": "python",
   "name": "python3"
  },
  "language_info": {
   "codemirror_mode": {
    "name": "ipython",
    "version": 3
   },
   "file_extension": ".py",
   "mimetype": "text/x-python",
   "name": "python",
   "nbconvert_exporter": "python",
   "pygments_lexer": "ipython3",
   "version": "3.8.10"
  }
 },
 "nbformat": 4,
 "nbformat_minor": 5
}
