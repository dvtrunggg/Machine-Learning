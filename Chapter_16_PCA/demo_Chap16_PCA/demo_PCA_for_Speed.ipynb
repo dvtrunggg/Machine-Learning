{
 "cells": [
  {
   "cell_type": "code",
   "execution_count": 2,
   "id": "8dd98eb9",
   "metadata": {},
   "outputs": [],
   "source": [
    "import pandas as pd\n",
    "import numpy as np\n",
    "from sklearn.datasets import fetch_openml\n",
    "from sklearn.decomposition import PCA\n",
    "from sklearn.preprocessing import StandardScaler\n",
    "from sklearn.model_selection import train_test_split"
   ]
  },
  {
   "cell_type": "code",
   "execution_count": 3,
   "id": "ec8168cb",
   "metadata": {},
   "outputs": [],
   "source": [
    "from datetime import datetime"
   ]
  },
  {
   "cell_type": "code",
   "execution_count": 4,
   "id": "dc860c24",
   "metadata": {},
   "outputs": [
    {
     "name": "stdout",
     "output_type": "stream",
     "text": [
      "2022-01-22 21:42:25.355121\n"
     ]
    }
   ],
   "source": [
    "print(datetime.now())\n",
    "start = datetime.now()"
   ]
  },
  {
   "cell_type": "code",
   "execution_count": 5,
   "id": "62ca6055",
   "metadata": {},
   "outputs": [],
   "source": [
    "start = datetime.now()\n",
    "mnist = fetch_openml('mnist_784', version=1, cache=True)\n",
    "# mnist = fetch_mldata('MNIST original')\n",
    "end = datetime.now()"
   ]
  },
  {
   "cell_type": "code",
   "execution_count": 6,
   "id": "0826d05e",
   "metadata": {},
   "outputs": [
    {
     "name": "stdout",
     "output_type": "stream",
     "text": [
      "0 days +  52 giây\n"
     ]
    }
   ],
   "source": [
    "diff = end - start\n",
    "print(diff.days,'days + ', diff.seconds, 'giây')"
   ]
  },
  {
   "cell_type": "code",
   "execution_count": 7,
   "id": "28cd9cd5",
   "metadata": {},
   "outputs": [
    {
     "name": "stdout",
     "output_type": "stream",
     "text": [
      "**Author**: Yann LeCun, Corinna Cortes, Christopher J.C. Burges  \n",
      "**Source**: [MNIST Website](http://yann.lecun.com/exdb/mnist/) - Date unknown  \n",
      "**Please cite**:  \n",
      "\n",
      "The MNIST database of handwritten digits with 784 features, raw data available at: http://yann.lecun.com/exdb/mnist/. It can be split in a training set of the first 60,000 examples, and a test set of 10,000 examples  \n",
      "\n",
      "It is a subset of a larger set available from NIST. The digits have been size-normalized and centered in a fixed-size image. It is a good database for people who want to try learning techniques and pattern recognition methods on real-world data while spending minimal efforts on preprocessing and formatting. The original black and white (bilevel) images from NIST were size normalized to fit in a 20x20 pixel box while preserving their aspect ratio. The resulting images contain grey levels as a result of the anti-aliasing technique used by the normalization algorithm. the images were centered in a 28x28 image by computing the center of mass of the pixels, and translating the image so as to position this point at the center of the 28x28 field.  \n",
      "\n",
      "With some classification methods (particularly template-based methods, such as SVM and K-nearest neighbors), the error rate improves when the digits are centered by bounding box rather than center of mass. If you do this kind of pre-processing, you should report it in your publications. The MNIST database was constructed from NIST's NIST originally designated SD-3 as their training set and SD-1 as their test set. However, SD-3 is much cleaner and easier to recognize than SD-1. The reason for this can be found on the fact that SD-3 was collected among Census Bureau employees, while SD-1 was collected among high-school students. Drawing sensible conclusions from learning experiments requires that the result be independent of the choice of training set and test among the complete set of samples. Therefore it was necessary to build a new database by mixing NIST's datasets.  \n",
      "\n",
      "The MNIST training set is composed of 30,000 patterns from SD-3 and 30,000 patterns from SD-1. Our test set was composed of 5,000 patterns from SD-3 and 5,000 patterns from SD-1. The 60,000 pattern training set contained examples from approximately 250 writers. We made sure that the sets of writers of the training set and test set were disjoint. SD-1 contains 58,527 digit images written by 500 different writers. In contrast to SD-3, where blocks of data from each writer appeared in sequence, the data in SD-1 is scrambled. Writer identities for SD-1 is available and we used this information to unscramble the writers. We then split SD-1 in two: characters written by the first 250 writers went into our new training set. The remaining 250 writers were placed in our test set. Thus we had two sets with nearly 30,000 examples each. The new training set was completed with enough examples from SD-3, starting at pattern # 0, to make a full set of 60,000 training patterns. Similarly, the new test set was completed with SD-3 examples starting at pattern # 35,000 to make a full set with 60,000 test patterns. Only a subset of 10,000 test images (5,000 from SD-1 and 5,000 from SD-3) is available on this site. The full 60,000 sample training set is available.\n",
      "\n",
      "Downloaded from openml.org.\n"
     ]
    }
   ],
   "source": [
    "print(mnist.DESCR)"
   ]
  },
  {
   "cell_type": "code",
   "execution_count": 8,
   "id": "e12c7617",
   "metadata": {},
   "outputs": [
    {
     "data": {
      "text/plain": [
       "(70000, 784)"
      ]
     },
     "execution_count": 8,
     "metadata": {},
     "output_type": "execute_result"
    }
   ],
   "source": [
    "mnist.data.shape"
   ]
  },
  {
   "cell_type": "code",
   "execution_count": 9,
   "id": "764bd289",
   "metadata": {},
   "outputs": [
    {
     "data": {
      "text/plain": [
       "(70000,)"
      ]
     },
     "execution_count": 9,
     "metadata": {},
     "output_type": "execute_result"
    }
   ],
   "source": [
    "mnist.target.shape"
   ]
  },
  {
   "cell_type": "code",
   "execution_count": 10,
   "id": "9c3fe39c",
   "metadata": {},
   "outputs": [
    {
     "data": {
      "text/plain": [
       "0    5\n",
       "1    0\n",
       "2    4\n",
       "3    1\n",
       "4    9\n",
       "Name: class, dtype: category\n",
       "Categories (10, object): ['0', '1', '2', '3', ..., '6', '7', '8', '9']"
      ]
     },
     "execution_count": 10,
     "metadata": {},
     "output_type": "execute_result"
    }
   ],
   "source": [
    "mnist.target[:5]"
   ]
  },
  {
   "cell_type": "code",
   "execution_count": 11,
   "id": "3042cf59",
   "metadata": {},
   "outputs": [],
   "source": [
    "img_train, img_test, label_train, label_test = train_test_split(mnist.data, mnist.target,\n",
    "                                                               test_size=1/7.0, random_state=0)"
   ]
  },
  {
   "cell_type": "code",
   "execution_count": 12,
   "id": "03d88d6a",
   "metadata": {},
   "outputs": [
    {
     "data": {
      "text/plain": [
       "(60000, 784)"
      ]
     },
     "execution_count": 12,
     "metadata": {},
     "output_type": "execute_result"
    }
   ],
   "source": [
    "img_train.shape"
   ]
  },
  {
   "cell_type": "code",
   "execution_count": 13,
   "id": "b0608f69",
   "metadata": {},
   "outputs": [
    {
     "data": {
      "text/plain": [
       "(10000, 784)"
      ]
     },
     "execution_count": 13,
     "metadata": {},
     "output_type": "execute_result"
    }
   ],
   "source": [
    "img_test.shape"
   ]
  },
  {
   "cell_type": "code",
   "execution_count": 14,
   "id": "7b0057b1",
   "metadata": {},
   "outputs": [
    {
     "data": {
      "text/html": [
       "<div>\n",
       "<style scoped>\n",
       "    .dataframe tbody tr th:only-of-type {\n",
       "        vertical-align: middle;\n",
       "    }\n",
       "\n",
       "    .dataframe tbody tr th {\n",
       "        vertical-align: top;\n",
       "    }\n",
       "\n",
       "    .dataframe thead th {\n",
       "        text-align: right;\n",
       "    }\n",
       "</style>\n",
       "<table border=\"1\" class=\"dataframe\">\n",
       "  <thead>\n",
       "    <tr style=\"text-align: right;\">\n",
       "      <th></th>\n",
       "      <th>pixel1</th>\n",
       "      <th>pixel2</th>\n",
       "      <th>pixel3</th>\n",
       "      <th>pixel4</th>\n",
       "      <th>pixel5</th>\n",
       "      <th>pixel6</th>\n",
       "      <th>pixel7</th>\n",
       "      <th>pixel8</th>\n",
       "      <th>pixel9</th>\n",
       "      <th>pixel10</th>\n",
       "      <th>...</th>\n",
       "      <th>pixel775</th>\n",
       "      <th>pixel776</th>\n",
       "      <th>pixel777</th>\n",
       "      <th>pixel778</th>\n",
       "      <th>pixel779</th>\n",
       "      <th>pixel780</th>\n",
       "      <th>pixel781</th>\n",
       "      <th>pixel782</th>\n",
       "      <th>pixel783</th>\n",
       "      <th>pixel784</th>\n",
       "    </tr>\n",
       "  </thead>\n",
       "  <tbody>\n",
       "    <tr>\n",
       "      <th>28926</th>\n",
       "      <td>0.0</td>\n",
       "      <td>0.0</td>\n",
       "      <td>0.0</td>\n",
       "      <td>0.0</td>\n",
       "      <td>0.0</td>\n",
       "      <td>0.0</td>\n",
       "      <td>0.0</td>\n",
       "      <td>0.0</td>\n",
       "      <td>0.0</td>\n",
       "      <td>0.0</td>\n",
       "      <td>...</td>\n",
       "      <td>0.0</td>\n",
       "      <td>0.0</td>\n",
       "      <td>0.0</td>\n",
       "      <td>0.0</td>\n",
       "      <td>0.0</td>\n",
       "      <td>0.0</td>\n",
       "      <td>0.0</td>\n",
       "      <td>0.0</td>\n",
       "      <td>0.0</td>\n",
       "      <td>0.0</td>\n",
       "    </tr>\n",
       "  </tbody>\n",
       "</table>\n",
       "<p>1 rows × 784 columns</p>\n",
       "</div>"
      ],
      "text/plain": [
       "       pixel1  pixel2  pixel3  pixel4  pixel5  pixel6  pixel7  pixel8  pixel9  \\\n",
       "28926     0.0     0.0     0.0     0.0     0.0     0.0     0.0     0.0     0.0   \n",
       "\n",
       "       pixel10  ...  pixel775  pixel776  pixel777  pixel778  pixel779  \\\n",
       "28926      0.0  ...       0.0       0.0       0.0       0.0       0.0   \n",
       "\n",
       "       pixel780  pixel781  pixel782  pixel783  pixel784  \n",
       "28926       0.0       0.0       0.0       0.0       0.0  \n",
       "\n",
       "[1 rows x 784 columns]"
      ]
     },
     "execution_count": 14,
     "metadata": {},
     "output_type": "execute_result"
    }
   ],
   "source": [
    "img_train[:1]"
   ]
  },
  {
   "cell_type": "code",
   "execution_count": 15,
   "id": "92d04a01",
   "metadata": {},
   "outputs": [
    {
     "data": {
      "text/plain": [
       "StandardScaler()"
      ]
     },
     "execution_count": 15,
     "metadata": {},
     "output_type": "execute_result"
    }
   ],
   "source": [
    "# scale dữ liệu\n",
    "scaler = StandardScaler()\n",
    "scaler.fit(img_train)"
   ]
  },
  {
   "cell_type": "code",
   "execution_count": 16,
   "id": "c7282eac",
   "metadata": {},
   "outputs": [],
   "source": [
    "img_train_scale = scaler.transform(img_train)\n",
    "img_test_scale = scaler.transform(img_test)"
   ]
  },
  {
   "cell_type": "code",
   "execution_count": 31,
   "id": "8afa6ff5",
   "metadata": {},
   "outputs": [],
   "source": [
    "# build model với dữ liệu gốc --> nhận xét tốc độ\n",
    "# dùng SVM classification\n",
    "from sklearn.svm import SVC"
   ]
  },
  {
   "cell_type": "code",
   "execution_count": 32,
   "id": "a1188a6d",
   "metadata": {},
   "outputs": [],
   "source": [
    "model_o = SVC(gamma = 0.001, C=100)"
   ]
  },
  {
   "cell_type": "code",
   "execution_count": 33,
   "id": "c621982e",
   "metadata": {},
   "outputs": [
    {
     "name": "stdout",
     "output_type": "stream",
     "text": [
      "0 days +  353 giây\n"
     ]
    }
   ],
   "source": [
    "start = datetime.now()\n",
    "model_o.fit(img_train_scale, label_train)\n",
    "end = datetime.now()\n",
    "diff = end - start\n",
    "print(diff.days,'days + ', diff.seconds, 'giây')"
   ]
  },
  {
   "cell_type": "code",
   "execution_count": 34,
   "id": "6ff6bb3e",
   "metadata": {},
   "outputs": [],
   "source": [
    "label_pred_o = model_o.predict(img_test_scale)"
   ]
  },
  {
   "cell_type": "code",
   "execution_count": 35,
   "id": "ee47be2f",
   "metadata": {},
   "outputs": [
    {
     "name": "stdout",
     "output_type": "stream",
     "text": [
      "Accuracy: 97.31 %\n"
     ]
    }
   ],
   "source": [
    "from sklearn.metrics import accuracy_score\n",
    "print('Accuracy:', accuracy_score(label_test, label_pred_o) * 100, '%')"
   ]
  },
  {
   "cell_type": "code",
   "execution_count": 36,
   "id": "c982dc27",
   "metadata": {},
   "outputs": [],
   "source": [
    "# nhận xét: thời gian huấn luyện khá lâu (353 giây) \n",
    "# xem xét sử dụng PCA để tăng tốc độ huấn luyện"
   ]
  },
  {
   "cell_type": "markdown",
   "id": "7c5228b4",
   "metadata": {},
   "source": [
    "#### áp dụng PCA để tăng tốc độ"
   ]
  },
  {
   "cell_type": "code",
   "execution_count": 18,
   "id": "f80d2a11",
   "metadata": {},
   "outputs": [],
   "source": [
    "# áp dụng PCA để tăng tốc độ\n",
    "pca = PCA(n_components = 0.95) # giữ lại 95% thông tin của bộ dữ liệu"
   ]
  },
  {
   "cell_type": "code",
   "execution_count": 19,
   "id": "6995aebd",
   "metadata": {},
   "outputs": [
    {
     "data": {
      "text/plain": [
       "PCA(n_components=0.95)"
      ]
     },
     "execution_count": 19,
     "metadata": {},
     "output_type": "execute_result"
    }
   ],
   "source": [
    "pca.fit(img_train_scale)"
   ]
  },
  {
   "cell_type": "code",
   "execution_count": 20,
   "id": "5c31ec6c",
   "metadata": {},
   "outputs": [
    {
     "data": {
      "text/plain": [
       "327"
      ]
     },
     "execution_count": 20,
     "metadata": {},
     "output_type": "execute_result"
    }
   ],
   "source": [
    "pca.n_components_"
   ]
  },
  {
   "cell_type": "code",
   "execution_count": 21,
   "id": "c490c6bb",
   "metadata": {},
   "outputs": [],
   "source": [
    "# sau khi giảm còn lại 327 features với 95% thông tin của bộ dữ liệu"
   ]
  },
  {
   "cell_type": "code",
   "execution_count": 22,
   "id": "8524b984",
   "metadata": {},
   "outputs": [],
   "source": [
    "# apply kết quả vào cho dữ liệu train và test\n",
    "img_train_pca = pca.transform(img_train_scale)\n",
    "img_test_pca = pca.transform(img_test_scale)"
   ]
  },
  {
   "cell_type": "markdown",
   "id": "5f5d1efb",
   "metadata": {},
   "source": [
    "### build model với dữ liệu đã giảm chiều"
   ]
  },
  {
   "cell_type": "code",
   "execution_count": 23,
   "id": "608f1ab8",
   "metadata": {},
   "outputs": [],
   "source": [
    "# dùng SVM classification\n",
    "from sklearn.svm import SVC"
   ]
  },
  {
   "cell_type": "code",
   "execution_count": 24,
   "id": "ebacd26e",
   "metadata": {},
   "outputs": [],
   "source": [
    "model = SVC(gamma = 0.001, C=100)"
   ]
  },
  {
   "cell_type": "code",
   "execution_count": 25,
   "id": "cf98f7d7",
   "metadata": {},
   "outputs": [
    {
     "name": "stdout",
     "output_type": "stream",
     "text": [
      "0 days +  164 giây\n"
     ]
    }
   ],
   "source": [
    "start = datetime.now()\n",
    "model.fit(img_train_pca, label_train)\n",
    "end = datetime.now()\n",
    "diff = end - start\n",
    "print(diff.days,'days + ', diff.seconds, 'giây')"
   ]
  },
  {
   "cell_type": "code",
   "execution_count": 26,
   "id": "b7016a10",
   "metadata": {},
   "outputs": [],
   "source": [
    "label_pred = model.predict(img_test_pca)"
   ]
  },
  {
   "cell_type": "code",
   "execution_count": 27,
   "id": "08484555",
   "metadata": {},
   "outputs": [
    {
     "name": "stdout",
     "output_type": "stream",
     "text": [
      "Accuracy: 97.38 %\n"
     ]
    }
   ],
   "source": [
    "from sklearn.metrics import accuracy_score\n",
    "print('Accuracy:', accuracy_score(label_test, label_pred) * 100, '%')"
   ]
  },
  {
   "cell_type": "code",
   "execution_count": 28,
   "id": "fcb81c44",
   "metadata": {},
   "outputs": [
    {
     "name": "stdout",
     "output_type": "stream",
     "text": [
      "r2_score: 97.38 %\n"
     ]
    }
   ],
   "source": [
    "print('r2_score:', model.score(img_test_pca, label_test) * 100, '%')"
   ]
  },
  {
   "cell_type": "code",
   "execution_count": 29,
   "id": "59bf4f7c",
   "metadata": {},
   "outputs": [],
   "source": [
    "import matplotlib.pyplot as plt"
   ]
  },
  {
   "cell_type": "code",
   "execution_count": 30,
   "id": "d2817cc3",
   "metadata": {},
   "outputs": [
    {
     "data": {
      "image/png": "[encoded data removed]",
      "text/plain": [
       "<Figure size 432x432 with 1 Axes>"
      ]
     },
     "metadata": {
      "needs_background": "light"
     },
     "output_type": "display_data"
    }
   ],
   "source": [
    "# trực quan kết quả\n",
    "plt.figure(figsize=(6,6))\n",
    "plt.plot(np.cumsum(pca.explained_variance_ratio_))\n",
    "plt.xlabel('Number of components')\n",
    "plt.ylabel('Cumulative explained variance')\n",
    "plt.show()"
   ]
  },
  {
   "cell_type": "code",
   "execution_count": null,
   "id": "907bd07e",
   "metadata": {},
   "outputs": [],
   "source": [
    "# nhận xét: sau khi áp dụng PCA, thời gian huấn luyện nhanh hơn khá nhiều với 164 giây\n",
    "# trong khi vẫn đảm bảo 95% thông tin của bộ dữ liệu"
   ]
  }
 ],
 "metadata": {
  "kernelspec": {
   "display_name": "Python 3 (ipykernel)",
   "language": "python",
   "name": "python3"
  },
  "language_info": {
   "codemirror_mode": {
    "name": "ipython",
    "version": 3
   },
   "file_extension": ".py",
   "mimetype": "text/x-python",
   "name": "python",
   "nbconvert_exporter": "python",
   "pygments_lexer": "ipython3",
   "version": "3.8.10"
  }
 },
 "nbformat": 4,
 "nbformat_minor": 5
}
