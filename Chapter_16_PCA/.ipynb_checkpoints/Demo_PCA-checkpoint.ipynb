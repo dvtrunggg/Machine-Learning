{
 "cells": [
  {
   "cell_type": "code",
   "execution_count": 2,
   "id": "b9eef840",
   "metadata": {},
   "outputs": [
    {
     "data": {
      "application/javascript": [
       "\n",
       "            setTimeout(function() {\n",
       "                var nbb_cell_id = 2;\n",
       "                var nbb_unformatted_code = \"import pandas as pd\\nimport seaborn as sns\\nimport numpy as np\\nimport matplotlib.pyplot as plt\\nfrom sklearn.decomposition import PCA\\n\\n%load_ext nb_black\";\n",
       "                var nbb_formatted_code = \"import pandas as pd\\nimport seaborn as sns\\nimport numpy as np\\nimport matplotlib.pyplot as plt\\nfrom sklearn.decomposition import PCA\\n\\n%load_ext nb_black\";\n",
       "                var nbb_cells = Jupyter.notebook.get_cells();\n",
       "                for (var i = 0; i < nbb_cells.length; ++i) {\n",
       "                    if (nbb_cells[i].input_prompt_number == nbb_cell_id) {\n",
       "                        if (nbb_cells[i].get_text() == nbb_unformatted_code) {\n",
       "                             nbb_cells[i].set_text(nbb_formatted_code);\n",
       "                        }\n",
       "                        break;\n",
       "                    }\n",
       "                }\n",
       "            }, 500);\n",
       "            "
      ],
      "text/plain": [
       "<IPython.core.display.Javascript object>"
      ]
     },
     "metadata": {},
     "output_type": "display_data"
    }
   ],
   "source": [
    "import pandas as pd\n",
    "import seaborn as sns\n",
    "import numpy as np\n",
    "import matplotlib.pyplot as plt\n",
    "from sklearn.decomposition import PCA\n",
    "\n",
    "%load_ext nb_black"
   ]
  },
  {
   "cell_type": "markdown",
   "id": "323305a7",
   "metadata": {},
   "source": [
    "## PCA_Visualization"
   ]
  },
  {
   "cell_type": "code",
   "execution_count": 3,
   "id": "8bff26dd",
   "metadata": {},
   "outputs": [
    {
     "data": {
      "text/html": [
       "<div>\n",
       "<style scoped>\n",
       "    .dataframe tbody tr th:only-of-type {\n",
       "        vertical-align: middle;\n",
       "    }\n",
       "\n",
       "    .dataframe tbody tr th {\n",
       "        vertical-align: top;\n",
       "    }\n",
       "\n",
       "    .dataframe thead th {\n",
       "        text-align: right;\n",
       "    }\n",
       "</style>\n",
       "<table border=\"1\" class=\"dataframe\">\n",
       "  <thead>\n",
       "    <tr style=\"text-align: right;\">\n",
       "      <th></th>\n",
       "      <th>sepal_length</th>\n",
       "      <th>sepal_width</th>\n",
       "      <th>petal_length</th>\n",
       "      <th>petal_width</th>\n",
       "      <th>species</th>\n",
       "    </tr>\n",
       "  </thead>\n",
       "  <tbody>\n",
       "    <tr>\n",
       "      <th>0</th>\n",
       "      <td>5.1</td>\n",
       "      <td>3.5</td>\n",
       "      <td>1.4</td>\n",
       "      <td>0.2</td>\n",
       "      <td>setosa</td>\n",
       "    </tr>\n",
       "    <tr>\n",
       "      <th>1</th>\n",
       "      <td>4.9</td>\n",
       "      <td>3.0</td>\n",
       "      <td>1.4</td>\n",
       "      <td>0.2</td>\n",
       "      <td>setosa</td>\n",
       "    </tr>\n",
       "    <tr>\n",
       "      <th>2</th>\n",
       "      <td>4.7</td>\n",
       "      <td>3.2</td>\n",
       "      <td>1.3</td>\n",
       "      <td>0.2</td>\n",
       "      <td>setosa</td>\n",
       "    </tr>\n",
       "    <tr>\n",
       "      <th>3</th>\n",
       "      <td>4.6</td>\n",
       "      <td>3.1</td>\n",
       "      <td>1.5</td>\n",
       "      <td>0.2</td>\n",
       "      <td>setosa</td>\n",
       "    </tr>\n",
       "    <tr>\n",
       "      <th>4</th>\n",
       "      <td>5.0</td>\n",
       "      <td>3.6</td>\n",
       "      <td>1.4</td>\n",
       "      <td>0.2</td>\n",
       "      <td>setosa</td>\n",
       "    </tr>\n",
       "    <tr>\n",
       "      <th>...</th>\n",
       "      <td>...</td>\n",
       "      <td>...</td>\n",
       "      <td>...</td>\n",
       "      <td>...</td>\n",
       "      <td>...</td>\n",
       "    </tr>\n",
       "    <tr>\n",
       "      <th>145</th>\n",
       "      <td>6.7</td>\n",
       "      <td>3.0</td>\n",
       "      <td>5.2</td>\n",
       "      <td>2.3</td>\n",
       "      <td>virginica</td>\n",
       "    </tr>\n",
       "    <tr>\n",
       "      <th>146</th>\n",
       "      <td>6.3</td>\n",
       "      <td>2.5</td>\n",
       "      <td>5.0</td>\n",
       "      <td>1.9</td>\n",
       "      <td>virginica</td>\n",
       "    </tr>\n",
       "    <tr>\n",
       "      <th>147</th>\n",
       "      <td>6.5</td>\n",
       "      <td>3.0</td>\n",
       "      <td>5.2</td>\n",
       "      <td>2.0</td>\n",
       "      <td>virginica</td>\n",
       "    </tr>\n",
       "    <tr>\n",
       "      <th>148</th>\n",
       "      <td>6.2</td>\n",
       "      <td>3.4</td>\n",
       "      <td>5.4</td>\n",
       "      <td>2.3</td>\n",
       "      <td>virginica</td>\n",
       "    </tr>\n",
       "    <tr>\n",
       "      <th>149</th>\n",
       "      <td>5.9</td>\n",
       "      <td>3.0</td>\n",
       "      <td>5.1</td>\n",
       "      <td>1.8</td>\n",
       "      <td>virginica</td>\n",
       "    </tr>\n",
       "  </tbody>\n",
       "</table>\n",
       "<p>150 rows × 5 columns</p>\n",
       "</div>"
      ],
      "text/plain": [
       "     sepal_length  sepal_width  petal_length  petal_width    species\n",
       "0             5.1          3.5           1.4          0.2     setosa\n",
       "1             4.9          3.0           1.4          0.2     setosa\n",
       "2             4.7          3.2           1.3          0.2     setosa\n",
       "3             4.6          3.1           1.5          0.2     setosa\n",
       "4             5.0          3.6           1.4          0.2     setosa\n",
       "..            ...          ...           ...          ...        ...\n",
       "145           6.7          3.0           5.2          2.3  virginica\n",
       "146           6.3          2.5           5.0          1.9  virginica\n",
       "147           6.5          3.0           5.2          2.0  virginica\n",
       "148           6.2          3.4           5.4          2.3  virginica\n",
       "149           5.9          3.0           5.1          1.8  virginica\n",
       "\n",
       "[150 rows x 5 columns]"
      ]
     },
     "execution_count": 3,
     "metadata": {},
     "output_type": "execute_result"
    },
    {
     "data": {
      "application/javascript": [
       "\n",
       "            setTimeout(function() {\n",
       "                var nbb_cell_id = 3;\n",
       "                var nbb_unformatted_code = \"df = sns.load_dataset('iris')\\ndf\";\n",
       "                var nbb_formatted_code = \"df = sns.load_dataset(\\\"iris\\\")\\ndf\";\n",
       "                var nbb_cells = Jupyter.notebook.get_cells();\n",
       "                for (var i = 0; i < nbb_cells.length; ++i) {\n",
       "                    if (nbb_cells[i].input_prompt_number == nbb_cell_id) {\n",
       "                        if (nbb_cells[i].get_text() == nbb_unformatted_code) {\n",
       "                             nbb_cells[i].set_text(nbb_formatted_code);\n",
       "                        }\n",
       "                        break;\n",
       "                    }\n",
       "                }\n",
       "            }, 500);\n",
       "            "
      ],
      "text/plain": [
       "<IPython.core.display.Javascript object>"
      ]
     },
     "metadata": {},
     "output_type": "display_data"
    }
   ],
   "source": [
    "df = sns.load_dataset(\"iris\")\n",
    "df"
   ]
  },
  {
   "cell_type": "code",
   "execution_count": 6,
   "id": "a27529b9",
   "metadata": {},
   "outputs": [
    {
     "data": {
      "text/plain": [
       "'\\ndữ liệu cân bằng (ko có feature nào có giá trị quá lớn)\\nnếu ko cân bằng thì phải scale\\n'"
      ]
     },
     "execution_count": 6,
     "metadata": {},
     "output_type": "execute_result"
    },
    {
     "data": {
      "application/javascript": [
       "\n",
       "            setTimeout(function() {\n",
       "                var nbb_cell_id = 6;\n",
       "                var nbb_unformatted_code = \"\\\"\\\"\\\"\\nd\\u1eef li\\u1ec7u c\\u00e2n b\\u1eb1ng (ko c\\u00f3 feature n\\u00e0o c\\u00f3 gi\\u00e1 tr\\u1ecb qu\\u00e1 l\\u1edbn)\\nn\\u1ebfu ko c\\u00e2n b\\u1eb1ng th\\u00ec ph\\u1ea3i scale\\n\\\"\\\"\\\"\";\n",
       "                var nbb_formatted_code = \"\\\"\\\"\\\"\\nd\\u1eef li\\u1ec7u c\\u00e2n b\\u1eb1ng (ko c\\u00f3 feature n\\u00e0o c\\u00f3 gi\\u00e1 tr\\u1ecb qu\\u00e1 l\\u1edbn)\\nn\\u1ebfu ko c\\u00e2n b\\u1eb1ng th\\u00ec ph\\u1ea3i scale\\n\\\"\\\"\\\"\";\n",
       "                var nbb_cells = Jupyter.notebook.get_cells();\n",
       "                for (var i = 0; i < nbb_cells.length; ++i) {\n",
       "                    if (nbb_cells[i].input_prompt_number == nbb_cell_id) {\n",
       "                        if (nbb_cells[i].get_text() == nbb_unformatted_code) {\n",
       "                             nbb_cells[i].set_text(nbb_formatted_code);\n",
       "                        }\n",
       "                        break;\n",
       "                    }\n",
       "                }\n",
       "            }, 500);\n",
       "            "
      ],
      "text/plain": [
       "<IPython.core.display.Javascript object>"
      ]
     },
     "metadata": {},
     "output_type": "display_data"
    }
   ],
   "source": [
    "\"\"\"\n",
    "dữ liệu cân bằng (ko có feature nào có giá trị quá lớn)\n",
    "nếu ko cân bằng thì phải scale\n",
    "\"\"\""
   ]
  },
  {
   "cell_type": "code",
   "execution_count": 4,
   "id": "9e0ab3e8",
   "metadata": {},
   "outputs": [
    {
     "data": {
      "text/plain": [
       "array([[5.1, 3.5, 1.4, 0.2],\n",
       "       [4.9, 3. , 1.4, 0.2],\n",
       "       [4.7, 3.2, 1.3, 0.2],\n",
       "       [4.6, 3.1, 1.5, 0.2],\n",
       "       [5. , 3.6, 1.4, 0.2]])"
      ]
     },
     "execution_count": 4,
     "metadata": {},
     "output_type": "execute_result"
    },
    {
     "data": {
      "application/javascript": [
       "\n",
       "            setTimeout(function() {\n",
       "                var nbb_cell_id = 4;\n",
       "                var nbb_unformatted_code = \"features = ['sepal_length', 'sepal_width', 'petal_length', 'petal_width']\\nX = df[features].values\\n# X = df.loc[:, features].values\\nX[:5]\";\n",
       "                var nbb_formatted_code = \"features = [\\\"sepal_length\\\", \\\"sepal_width\\\", \\\"petal_length\\\", \\\"petal_width\\\"]\\nX = df[features].values\\n# X = df.loc[:, features].values\\nX[:5]\";\n",
       "                var nbb_cells = Jupyter.notebook.get_cells();\n",
       "                for (var i = 0; i < nbb_cells.length; ++i) {\n",
       "                    if (nbb_cells[i].input_prompt_number == nbb_cell_id) {\n",
       "                        if (nbb_cells[i].get_text() == nbb_unformatted_code) {\n",
       "                             nbb_cells[i].set_text(nbb_formatted_code);\n",
       "                        }\n",
       "                        break;\n",
       "                    }\n",
       "                }\n",
       "            }, 500);\n",
       "            "
      ],
      "text/plain": [
       "<IPython.core.display.Javascript object>"
      ]
     },
     "metadata": {},
     "output_type": "display_data"
    }
   ],
   "source": [
    "features = [\"sepal_length\", \"sepal_width\", \"petal_length\", \"petal_width\"]\n",
    "X = df[features].values\n",
    "# X = df.loc[:, features].values\n",
    "X[:5]"
   ]
  },
  {
   "cell_type": "code",
   "execution_count": 10,
   "id": "158649e3",
   "metadata": {},
   "outputs": [
    {
     "data": {
      "text/plain": [
       "'\\nPCA làm việc trên matrix, ko làm việc trên dataframe\\n=> cần chuyển về matrix nhaaa\\n'"
      ]
     },
     "execution_count": 10,
     "metadata": {},
     "output_type": "execute_result"
    },
    {
     "data": {
      "application/javascript": [
       "\n",
       "            setTimeout(function() {\n",
       "                var nbb_cell_id = 10;\n",
       "                var nbb_unformatted_code = \"'''\\nPCA l\\u00e0m vi\\u1ec7c tr\\u00ean matrix, ko l\\u00e0m vi\\u1ec7c tr\\u00ean dataframe\\n=> c\\u1ea7n chuy\\u1ec3n v\\u1ec1 matrix nhaaa\\n'''\";\n",
       "                var nbb_formatted_code = \"\\\"\\\"\\\"\\nPCA l\\u00e0m vi\\u1ec7c tr\\u00ean matrix, ko l\\u00e0m vi\\u1ec7c tr\\u00ean dataframe\\n=> c\\u1ea7n chuy\\u1ec3n v\\u1ec1 matrix nhaaa\\n\\\"\\\"\\\"\";\n",
       "                var nbb_cells = Jupyter.notebook.get_cells();\n",
       "                for (var i = 0; i < nbb_cells.length; ++i) {\n",
       "                    if (nbb_cells[i].input_prompt_number == nbb_cell_id) {\n",
       "                        if (nbb_cells[i].get_text() == nbb_unformatted_code) {\n",
       "                             nbb_cells[i].set_text(nbb_formatted_code);\n",
       "                        }\n",
       "                        break;\n",
       "                    }\n",
       "                }\n",
       "            }, 500);\n",
       "            "
      ],
      "text/plain": [
       "<IPython.core.display.Javascript object>"
      ]
     },
     "metadata": {},
     "output_type": "display_data"
    }
   ],
   "source": [
    "\"\"\"\n",
    "PCA làm việc trên matrix, ko làm việc trên dataframe\n",
    "=> cần chuyển về matrix nhaaa\n",
    "\"\"\""
   ]
  },
  {
   "cell_type": "code",
   "execution_count": 7,
   "id": "e6908e11",
   "metadata": {},
   "outputs": [
    {
     "data": {
      "application/javascript": [
       "\n",
       "            setTimeout(function() {\n",
       "                var nbb_cell_id = 7;\n",
       "                var nbb_unformatted_code = \"# scale d\\u1eef li\\u1ec7u\\nfrom sklearn.preprocessing import StandardScaler\";\n",
       "                var nbb_formatted_code = \"# scale d\\u1eef li\\u1ec7u\\nfrom sklearn.preprocessing import StandardScaler\";\n",
       "                var nbb_cells = Jupyter.notebook.get_cells();\n",
       "                for (var i = 0; i < nbb_cells.length; ++i) {\n",
       "                    if (nbb_cells[i].input_prompt_number == nbb_cell_id) {\n",
       "                        if (nbb_cells[i].get_text() == nbb_unformatted_code) {\n",
       "                             nbb_cells[i].set_text(nbb_formatted_code);\n",
       "                        }\n",
       "                        break;\n",
       "                    }\n",
       "                }\n",
       "            }, 500);\n",
       "            "
      ],
      "text/plain": [
       "<IPython.core.display.Javascript object>"
      ]
     },
     "metadata": {},
     "output_type": "display_data"
    }
   ],
   "source": [
    "# scale dữ liệu\n",
    "from sklearn.preprocessing import StandardScaler"
   ]
  },
  {
   "cell_type": "code",
   "execution_count": 12,
   "id": "696c09ca",
   "metadata": {},
   "outputs": [
    {
     "data": {
      "text/plain": [
       "array([[-0.90068117,  1.01900435, -1.34022653, -1.3154443 ],\n",
       "       [-1.14301691, -0.13197948, -1.34022653, -1.3154443 ],\n",
       "       [-1.38535265,  0.32841405, -1.39706395, -1.3154443 ],\n",
       "       [-1.50652052,  0.09821729, -1.2833891 , -1.3154443 ],\n",
       "       [-1.02184904,  1.24920112, -1.34022653, -1.3154443 ]])"
      ]
     },
     "execution_count": 12,
     "metadata": {},
     "output_type": "execute_result"
    },
    {
     "data": {
      "application/javascript": [
       "\n",
       "            setTimeout(function() {\n",
       "                var nbb_cell_id = 12;\n",
       "                var nbb_unformatted_code = \"scaler = StandardScaler()\\nX_scale = scaler.fit_transform(X)\\nX_scale[:5]\";\n",
       "                var nbb_formatted_code = \"scaler = StandardScaler()\\nX_scale = scaler.fit_transform(X)\\nX_scale[:5]\";\n",
       "                var nbb_cells = Jupyter.notebook.get_cells();\n",
       "                for (var i = 0; i < nbb_cells.length; ++i) {\n",
       "                    if (nbb_cells[i].input_prompt_number == nbb_cell_id) {\n",
       "                        if (nbb_cells[i].get_text() == nbb_unformatted_code) {\n",
       "                             nbb_cells[i].set_text(nbb_formatted_code);\n",
       "                        }\n",
       "                        break;\n",
       "                    }\n",
       "                }\n",
       "            }, 500);\n",
       "            "
      ],
      "text/plain": [
       "<IPython.core.display.Javascript object>"
      ]
     },
     "metadata": {},
     "output_type": "display_data"
    }
   ],
   "source": [
    "scaler = StandardScaler()\n",
    "X_scale = scaler.fit_transform(X)\n",
    "X_scale[:5]"
   ]
  },
  {
   "cell_type": "code",
   "execution_count": 13,
   "id": "58f248dc",
   "metadata": {},
   "outputs": [
    {
     "data": {
      "text/html": [
       "<div>\n",
       "<style scoped>\n",
       "    .dataframe tbody tr th:only-of-type {\n",
       "        vertical-align: middle;\n",
       "    }\n",
       "\n",
       "    .dataframe tbody tr th {\n",
       "        vertical-align: top;\n",
       "    }\n",
       "\n",
       "    .dataframe thead th {\n",
       "        text-align: right;\n",
       "    }\n",
       "</style>\n",
       "<table border=\"1\" class=\"dataframe\">\n",
       "  <thead>\n",
       "    <tr style=\"text-align: right;\">\n",
       "      <th></th>\n",
       "      <th>sepal_length</th>\n",
       "      <th>sepal_width</th>\n",
       "      <th>petal_length</th>\n",
       "      <th>petal_width</th>\n",
       "    </tr>\n",
       "  </thead>\n",
       "  <tbody>\n",
       "    <tr>\n",
       "      <th>0</th>\n",
       "      <td>-0.900681</td>\n",
       "      <td>1.019004</td>\n",
       "      <td>-1.340227</td>\n",
       "      <td>-1.315444</td>\n",
       "    </tr>\n",
       "    <tr>\n",
       "      <th>1</th>\n",
       "      <td>-1.143017</td>\n",
       "      <td>-0.131979</td>\n",
       "      <td>-1.340227</td>\n",
       "      <td>-1.315444</td>\n",
       "    </tr>\n",
       "    <tr>\n",
       "      <th>2</th>\n",
       "      <td>-1.385353</td>\n",
       "      <td>0.328414</td>\n",
       "      <td>-1.397064</td>\n",
       "      <td>-1.315444</td>\n",
       "    </tr>\n",
       "    <tr>\n",
       "      <th>3</th>\n",
       "      <td>-1.506521</td>\n",
       "      <td>0.098217</td>\n",
       "      <td>-1.283389</td>\n",
       "      <td>-1.315444</td>\n",
       "    </tr>\n",
       "    <tr>\n",
       "      <th>4</th>\n",
       "      <td>-1.021849</td>\n",
       "      <td>1.249201</td>\n",
       "      <td>-1.340227</td>\n",
       "      <td>-1.315444</td>\n",
       "    </tr>\n",
       "  </tbody>\n",
       "</table>\n",
       "</div>"
      ],
      "text/plain": [
       "   sepal_length  sepal_width  petal_length  petal_width\n",
       "0     -0.900681     1.019004     -1.340227    -1.315444\n",
       "1     -1.143017    -0.131979     -1.340227    -1.315444\n",
       "2     -1.385353     0.328414     -1.397064    -1.315444\n",
       "3     -1.506521     0.098217     -1.283389    -1.315444\n",
       "4     -1.021849     1.249201     -1.340227    -1.315444"
      ]
     },
     "execution_count": 13,
     "metadata": {},
     "output_type": "execute_result"
    },
    {
     "data": {
      "application/javascript": [
       "\n",
       "            setTimeout(function() {\n",
       "                var nbb_cell_id = 13;\n",
       "                var nbb_unformatted_code = \"# nh\\u00ecn \\u1edf dataframe s\\u1ebd d\\u1ec5 nh\\u00ecn v\\u00e0 h\\u00ecnh dung h\\u01a1n\\npd.DataFrame(X_scale, columns=features).head()\";\n",
       "                var nbb_formatted_code = \"# nh\\u00ecn \\u1edf dataframe s\\u1ebd d\\u1ec5 nh\\u00ecn v\\u00e0 h\\u00ecnh dung h\\u01a1n\\npd.DataFrame(X_scale, columns=features).head()\";\n",
       "                var nbb_cells = Jupyter.notebook.get_cells();\n",
       "                for (var i = 0; i < nbb_cells.length; ++i) {\n",
       "                    if (nbb_cells[i].input_prompt_number == nbb_cell_id) {\n",
       "                        if (nbb_cells[i].get_text() == nbb_unformatted_code) {\n",
       "                             nbb_cells[i].set_text(nbb_formatted_code);\n",
       "                        }\n",
       "                        break;\n",
       "                    }\n",
       "                }\n",
       "            }, 500);\n",
       "            "
      ],
      "text/plain": [
       "<IPython.core.display.Javascript object>"
      ]
     },
     "metadata": {},
     "output_type": "display_data"
    }
   ],
   "source": [
    "# nhìn ở dataframe sẽ dễ nhìn và hình dung hơn\n",
    "pd.DataFrame(X_scale, columns=features).head()"
   ]
  },
  {
   "cell_type": "code",
   "execution_count": 14,
   "id": "69943b65",
   "metadata": {},
   "outputs": [
    {
     "data": {
      "application/javascript": [
       "\n",
       "            setTimeout(function() {\n",
       "                var nbb_cell_id = 14;\n",
       "                var nbb_unformatted_code = \"# v\\u00ec 4 features ko th\\u1ec3 tr\\u1ef1c quan dc => chuy\\u1ec3n v\\u1ec1 2 ho\\u1eb7c 3 features\\n# gi\\u1ea3m chi\\u1ec1u v\\u1edbi PCA --> 2 feature \\u0111\\u1ec3 tr\\u1ef1c quan \\npca = PCA(n_components = 2)\";\n",
       "                var nbb_formatted_code = \"# v\\u00ec 4 features ko th\\u1ec3 tr\\u1ef1c quan dc => chuy\\u1ec3n v\\u1ec1 2 ho\\u1eb7c 3 features\\n# gi\\u1ea3m chi\\u1ec1u v\\u1edbi PCA --> 2 feature \\u0111\\u1ec3 tr\\u1ef1c quan\\npca = PCA(n_components=2)\";\n",
       "                var nbb_cells = Jupyter.notebook.get_cells();\n",
       "                for (var i = 0; i < nbb_cells.length; ++i) {\n",
       "                    if (nbb_cells[i].input_prompt_number == nbb_cell_id) {\n",
       "                        if (nbb_cells[i].get_text() == nbb_unformatted_code) {\n",
       "                             nbb_cells[i].set_text(nbb_formatted_code);\n",
       "                        }\n",
       "                        break;\n",
       "                    }\n",
       "                }\n",
       "            }, 500);\n",
       "            "
      ],
      "text/plain": [
       "<IPython.core.display.Javascript object>"
      ]
     },
     "metadata": {},
     "output_type": "display_data"
    }
   ],
   "source": [
    "# vì 4 features ko thể trực quan dc => chuyển về 2 hoặc 3 features\n",
    "# giảm chiều với PCA --> 2 feature để trực quan\n",
    "pca = PCA(n_components=2)"
   ]
  },
  {
   "cell_type": "code",
   "execution_count": 15,
   "id": "561a7919",
   "metadata": {},
   "outputs": [
    {
     "data": {
      "text/plain": [
       "array([[-2.26470281,  0.4800266 ],\n",
       "       [-2.08096115, -0.67413356],\n",
       "       [-2.36422905, -0.34190802],\n",
       "       [-2.29938422, -0.59739451],\n",
       "       [-2.38984217,  0.64683538]])"
      ]
     },
     "execution_count": 15,
     "metadata": {},
     "output_type": "execute_result"
    },
    {
     "data": {
      "application/javascript": [
       "\n",
       "            setTimeout(function() {\n",
       "                var nbb_cell_id = 15;\n",
       "                var nbb_unformatted_code = \"principalFeatures = pca.fit_transform(X_scale)\\nprincipalFeatures[:5]\";\n",
       "                var nbb_formatted_code = \"principalFeatures = pca.fit_transform(X_scale)\\nprincipalFeatures[:5]\";\n",
       "                var nbb_cells = Jupyter.notebook.get_cells();\n",
       "                for (var i = 0; i < nbb_cells.length; ++i) {\n",
       "                    if (nbb_cells[i].input_prompt_number == nbb_cell_id) {\n",
       "                        if (nbb_cells[i].get_text() == nbb_unformatted_code) {\n",
       "                             nbb_cells[i].set_text(nbb_formatted_code);\n",
       "                        }\n",
       "                        break;\n",
       "                    }\n",
       "                }\n",
       "            }, 500);\n",
       "            "
      ],
      "text/plain": [
       "<IPython.core.display.Javascript object>"
      ]
     },
     "metadata": {},
     "output_type": "display_data"
    }
   ],
   "source": [
    "principalFeatures = pca.fit_transform(X_scale)\n",
    "principalFeatures[:5]"
   ]
  },
  {
   "cell_type": "code",
   "execution_count": 17,
   "id": "1b355e19",
   "metadata": {},
   "outputs": [
    {
     "data": {
      "application/javascript": [
       "\n",
       "            setTimeout(function() {\n",
       "                var nbb_cell_id = 17;\n",
       "                var nbb_unformatted_code = \"# => ban \\u0111\\u1ea7u c\\u00f3 4 features, sau khi PCA th\\u00ec c\\u00f2n 2 features\";\n",
       "                var nbb_formatted_code = \"# => ban \\u0111\\u1ea7u c\\u00f3 4 features, sau khi PCA th\\u00ec c\\u00f2n 2 features\";\n",
       "                var nbb_cells = Jupyter.notebook.get_cells();\n",
       "                for (var i = 0; i < nbb_cells.length; ++i) {\n",
       "                    if (nbb_cells[i].input_prompt_number == nbb_cell_id) {\n",
       "                        if (nbb_cells[i].get_text() == nbb_unformatted_code) {\n",
       "                             nbb_cells[i].set_text(nbb_formatted_code);\n",
       "                        }\n",
       "                        break;\n",
       "                    }\n",
       "                }\n",
       "            }, 500);\n",
       "            "
      ],
      "text/plain": [
       "<IPython.core.display.Javascript object>"
      ]
     },
     "metadata": {},
     "output_type": "display_data"
    }
   ],
   "source": [
    "# => ban đầu có 4 features, sau khi PCA thì còn 2 features"
   ]
  },
  {
   "cell_type": "code",
   "execution_count": 16,
   "id": "56f53bee",
   "metadata": {},
   "outputs": [
    {
     "data": {
      "text/html": [
       "<div>\n",
       "<style scoped>\n",
       "    .dataframe tbody tr th:only-of-type {\n",
       "        vertical-align: middle;\n",
       "    }\n",
       "\n",
       "    .dataframe tbody tr th {\n",
       "        vertical-align: top;\n",
       "    }\n",
       "\n",
       "    .dataframe thead th {\n",
       "        text-align: right;\n",
       "    }\n",
       "</style>\n",
       "<table border=\"1\" class=\"dataframe\">\n",
       "  <thead>\n",
       "    <tr style=\"text-align: right;\">\n",
       "      <th></th>\n",
       "      <th>features 1</th>\n",
       "      <th>features 2</th>\n",
       "    </tr>\n",
       "  </thead>\n",
       "  <tbody>\n",
       "    <tr>\n",
       "      <th>0</th>\n",
       "      <td>-2.264703</td>\n",
       "      <td>0.480027</td>\n",
       "    </tr>\n",
       "    <tr>\n",
       "      <th>1</th>\n",
       "      <td>-2.080961</td>\n",
       "      <td>-0.674134</td>\n",
       "    </tr>\n",
       "    <tr>\n",
       "      <th>2</th>\n",
       "      <td>-2.364229</td>\n",
       "      <td>-0.341908</td>\n",
       "    </tr>\n",
       "    <tr>\n",
       "      <th>3</th>\n",
       "      <td>-2.299384</td>\n",
       "      <td>-0.597395</td>\n",
       "    </tr>\n",
       "    <tr>\n",
       "      <th>4</th>\n",
       "      <td>-2.389842</td>\n",
       "      <td>0.646835</td>\n",
       "    </tr>\n",
       "  </tbody>\n",
       "</table>\n",
       "</div>"
      ],
      "text/plain": [
       "   features 1  features 2\n",
       "0   -2.264703    0.480027\n",
       "1   -2.080961   -0.674134\n",
       "2   -2.364229   -0.341908\n",
       "3   -2.299384   -0.597395\n",
       "4   -2.389842    0.646835"
      ]
     },
     "execution_count": 16,
     "metadata": {},
     "output_type": "execute_result"
    },
    {
     "data": {
      "application/javascript": [
       "\n",
       "            setTimeout(function() {\n",
       "                var nbb_cell_id = 16;\n",
       "                var nbb_unformatted_code = \"principalDF = pd.DataFrame(principalFeatures, columns=['features 1', 'features 2'])\\nprincipalDF.head()\";\n",
       "                var nbb_formatted_code = \"principalDF = pd.DataFrame(principalFeatures, columns=[\\\"features 1\\\", \\\"features 2\\\"])\\nprincipalDF.head()\";\n",
       "                var nbb_cells = Jupyter.notebook.get_cells();\n",
       "                for (var i = 0; i < nbb_cells.length; ++i) {\n",
       "                    if (nbb_cells[i].input_prompt_number == nbb_cell_id) {\n",
       "                        if (nbb_cells[i].get_text() == nbb_unformatted_code) {\n",
       "                             nbb_cells[i].set_text(nbb_formatted_code);\n",
       "                        }\n",
       "                        break;\n",
       "                    }\n",
       "                }\n",
       "            }, 500);\n",
       "            "
      ],
      "text/plain": [
       "<IPython.core.display.Javascript object>"
      ]
     },
     "metadata": {},
     "output_type": "display_data"
    }
   ],
   "source": [
    "principalDF = pd.DataFrame(principalFeatures, columns=[\"features 1\", \"features 2\"])\n",
    "principalDF.head()"
   ]
  },
  {
   "cell_type": "code",
   "execution_count": 18,
   "id": "c610bd88",
   "metadata": {},
   "outputs": [
    {
     "data": {
      "text/plain": [
       "(150, 2)"
      ]
     },
     "execution_count": 18,
     "metadata": {},
     "output_type": "execute_result"
    },
    {
     "data": {
      "application/javascript": [
       "\n",
       "            setTimeout(function() {\n",
       "                var nbb_cell_id = 18;\n",
       "                var nbb_unformatted_code = \"principalDF.shape\";\n",
       "                var nbb_formatted_code = \"principalDF.shape\";\n",
       "                var nbb_cells = Jupyter.notebook.get_cells();\n",
       "                for (var i = 0; i < nbb_cells.length; ++i) {\n",
       "                    if (nbb_cells[i].input_prompt_number == nbb_cell_id) {\n",
       "                        if (nbb_cells[i].get_text() == nbb_unformatted_code) {\n",
       "                             nbb_cells[i].set_text(nbb_formatted_code);\n",
       "                        }\n",
       "                        break;\n",
       "                    }\n",
       "                }\n",
       "            }, 500);\n",
       "            "
      ],
      "text/plain": [
       "<IPython.core.display.Javascript object>"
      ]
     },
     "metadata": {},
     "output_type": "display_data"
    }
   ],
   "source": [
    "principalDF.shape"
   ]
  },
  {
   "cell_type": "code",
   "execution_count": 19,
   "id": "90f1c414",
   "metadata": {},
   "outputs": [
    {
     "data": {
      "text/plain": [
       "'\\n=> vẫn đảm bảo có 150 records\\n'"
      ]
     },
     "execution_count": 19,
     "metadata": {},
     "output_type": "execute_result"
    },
    {
     "data": {
      "application/javascript": [
       "\n",
       "            setTimeout(function() {\n",
       "                var nbb_cell_id = 19;\n",
       "                var nbb_unformatted_code = \"'''\\n=> v\\u1eabn \\u0111\\u1ea3m b\\u1ea3o c\\u00f3 150 records\\n'''\";\n",
       "                var nbb_formatted_code = \"\\\"\\\"\\\"\\n=> v\\u1eabn \\u0111\\u1ea3m b\\u1ea3o c\\u00f3 150 records\\n\\\"\\\"\\\"\";\n",
       "                var nbb_cells = Jupyter.notebook.get_cells();\n",
       "                for (var i = 0; i < nbb_cells.length; ++i) {\n",
       "                    if (nbb_cells[i].input_prompt_number == nbb_cell_id) {\n",
       "                        if (nbb_cells[i].get_text() == nbb_unformatted_code) {\n",
       "                             nbb_cells[i].set_text(nbb_formatted_code);\n",
       "                        }\n",
       "                        break;\n",
       "                    }\n",
       "                }\n",
       "            }, 500);\n",
       "            "
      ],
      "text/plain": [
       "<IPython.core.display.Javascript object>"
      ]
     },
     "metadata": {},
     "output_type": "display_data"
    }
   ],
   "source": [
    "\"\"\"\n",
    "=> vẫn đảm bảo có 150 records\n",
    "\"\"\""
   ]
  },
  {
   "cell_type": "code",
   "execution_count": 21,
   "id": "839845c7",
   "metadata": {},
   "outputs": [
    {
     "data": {
      "text/html": [
       "<div>\n",
       "<style scoped>\n",
       "    .dataframe tbody tr th:only-of-type {\n",
       "        vertical-align: middle;\n",
       "    }\n",
       "\n",
       "    .dataframe tbody tr th {\n",
       "        vertical-align: top;\n",
       "    }\n",
       "\n",
       "    .dataframe thead th {\n",
       "        text-align: right;\n",
       "    }\n",
       "</style>\n",
       "<table border=\"1\" class=\"dataframe\">\n",
       "  <thead>\n",
       "    <tr style=\"text-align: right;\">\n",
       "      <th></th>\n",
       "      <th>features 1</th>\n",
       "      <th>features 2</th>\n",
       "      <th>species</th>\n",
       "    </tr>\n",
       "  </thead>\n",
       "  <tbody>\n",
       "    <tr>\n",
       "      <th>0</th>\n",
       "      <td>-2.264703</td>\n",
       "      <td>0.480027</td>\n",
       "      <td>setosa</td>\n",
       "    </tr>\n",
       "    <tr>\n",
       "      <th>1</th>\n",
       "      <td>-2.080961</td>\n",
       "      <td>-0.674134</td>\n",
       "      <td>setosa</td>\n",
       "    </tr>\n",
       "    <tr>\n",
       "      <th>2</th>\n",
       "      <td>-2.364229</td>\n",
       "      <td>-0.341908</td>\n",
       "      <td>setosa</td>\n",
       "    </tr>\n",
       "    <tr>\n",
       "      <th>3</th>\n",
       "      <td>-2.299384</td>\n",
       "      <td>-0.597395</td>\n",
       "      <td>setosa</td>\n",
       "    </tr>\n",
       "    <tr>\n",
       "      <th>4</th>\n",
       "      <td>-2.389842</td>\n",
       "      <td>0.646835</td>\n",
       "      <td>setosa</td>\n",
       "    </tr>\n",
       "  </tbody>\n",
       "</table>\n",
       "</div>"
      ],
      "text/plain": [
       "   features 1  features 2 species\n",
       "0   -2.264703    0.480027  setosa\n",
       "1   -2.080961   -0.674134  setosa\n",
       "2   -2.364229   -0.341908  setosa\n",
       "3   -2.299384   -0.597395  setosa\n",
       "4   -2.389842    0.646835  setosa"
      ]
     },
     "execution_count": 21,
     "metadata": {},
     "output_type": "execute_result"
    },
    {
     "data": {
      "application/javascript": [
       "\n",
       "            setTimeout(function() {\n",
       "                var nbb_cell_id = 21;\n",
       "                var nbb_unformatted_code = \"principalDF = pd.concat([principalDF, df[['species']]], axis=1)\\nprincipalDF.head()\";\n",
       "                var nbb_formatted_code = \"principalDF = pd.concat([principalDF, df[[\\\"species\\\"]]], axis=1)\\nprincipalDF.head()\";\n",
       "                var nbb_cells = Jupyter.notebook.get_cells();\n",
       "                for (var i = 0; i < nbb_cells.length; ++i) {\n",
       "                    if (nbb_cells[i].input_prompt_number == nbb_cell_id) {\n",
       "                        if (nbb_cells[i].get_text() == nbb_unformatted_code) {\n",
       "                             nbb_cells[i].set_text(nbb_formatted_code);\n",
       "                        }\n",
       "                        break;\n",
       "                    }\n",
       "                }\n",
       "            }, 500);\n",
       "            "
      ],
      "text/plain": [
       "<IPython.core.display.Javascript object>"
      ]
     },
     "metadata": {},
     "output_type": "display_data"
    }
   ],
   "source": [
    "principalDF = pd.concat([principalDF, df[[\"species\"]]], axis=1)\n",
    "principalDF.head()"
   ]
  },
  {
   "cell_type": "markdown",
   "id": "56dd1217",
   "metadata": {},
   "source": [
    "### Visualization 2D Projection"
   ]
  },
  {
   "cell_type": "code",
   "execution_count": 22,
   "id": "dbcd1461",
   "metadata": {},
   "outputs": [
    {
     "data": {
      "image/png": "[encoded data removed]",
      "text/plain": [
       "<Figure size 432x288 with 1 Axes>"
      ]
     },
     "metadata": {
      "needs_background": "light"
     },
     "output_type": "display_data"
    },
    {
     "data": {
      "application/javascript": [
       "\n",
       "            setTimeout(function() {\n",
       "                var nbb_cell_id = 22;\n",
       "                var nbb_unformatted_code = \"plt.scatter(principalDF['features 1'], principalDF['features 2'])\\nplt.show()\";\n",
       "                var nbb_formatted_code = \"plt.scatter(principalDF[\\\"features 1\\\"], principalDF[\\\"features 2\\\"])\\nplt.show()\";\n",
       "                var nbb_cells = Jupyter.notebook.get_cells();\n",
       "                for (var i = 0; i < nbb_cells.length; ++i) {\n",
       "                    if (nbb_cells[i].input_prompt_number == nbb_cell_id) {\n",
       "                        if (nbb_cells[i].get_text() == nbb_unformatted_code) {\n",
       "                             nbb_cells[i].set_text(nbb_formatted_code);\n",
       "                        }\n",
       "                        break;\n",
       "                    }\n",
       "                }\n",
       "            }, 500);\n",
       "            "
      ],
      "text/plain": [
       "<IPython.core.display.Javascript object>"
      ]
     },
     "metadata": {},
     "output_type": "display_data"
    }
   ],
   "source": [
    "plt.scatter(principalDF[\"features 1\"], principalDF[\"features 2\"])\n",
    "plt.show()"
   ]
  },
  {
   "cell_type": "code",
   "execution_count": 23,
   "id": "5299f747",
   "metadata": {},
   "outputs": [
    {
     "data": {
      "image/png": "[encoded data removed]",
      "text/plain": [
       "<Figure size 432x432 with 1 Axes>"
      ]
     },
     "metadata": {
      "needs_background": "light"
     },
     "output_type": "display_data"
    },
    {
     "data": {
      "application/javascript": [
       "\n",
       "            setTimeout(function() {\n",
       "                var nbb_cell_id = 23;\n",
       "                var nbb_unformatted_code = \"fig = plt.figure(figsize=(6,6))\\nax = fig.add_subplot(1,1,1)\\nax.set_xlabel('Features 1')\\nax.set_ylabel('Features 2')\\nax.set_title('2 Features PCA')\\n\\ncolors = ['r', 'g', 'b']\\ntagets=['setosa', 'versicolor', 'virginica']\\n\\nfor target, color in zip(tagets, colors):\\n    df_target = principalDF[principalDF['species'] == target]\\n    ax.scatter(df_target['features 1'], df_target['features 2'], c = color)\\n\\nax.legend(tagets)\\nplt.show()\";\n",
       "                var nbb_formatted_code = \"fig = plt.figure(figsize=(6, 6))\\nax = fig.add_subplot(1, 1, 1)\\nax.set_xlabel(\\\"Features 1\\\")\\nax.set_ylabel(\\\"Features 2\\\")\\nax.set_title(\\\"2 Features PCA\\\")\\n\\ncolors = [\\\"r\\\", \\\"g\\\", \\\"b\\\"]\\ntagets = [\\\"setosa\\\", \\\"versicolor\\\", \\\"virginica\\\"]\\n\\nfor target, color in zip(tagets, colors):\\n    df_target = principalDF[principalDF[\\\"species\\\"] == target]\\n    ax.scatter(df_target[\\\"features 1\\\"], df_target[\\\"features 2\\\"], c=color)\\n\\nax.legend(tagets)\\nplt.show()\";\n",
       "                var nbb_cells = Jupyter.notebook.get_cells();\n",
       "                for (var i = 0; i < nbb_cells.length; ++i) {\n",
       "                    if (nbb_cells[i].input_prompt_number == nbb_cell_id) {\n",
       "                        if (nbb_cells[i].get_text() == nbb_unformatted_code) {\n",
       "                             nbb_cells[i].set_text(nbb_formatted_code);\n",
       "                        }\n",
       "                        break;\n",
       "                    }\n",
       "                }\n",
       "            }, 500);\n",
       "            "
      ],
      "text/plain": [
       "<IPython.core.display.Javascript object>"
      ]
     },
     "metadata": {},
     "output_type": "display_data"
    }
   ],
   "source": [
    "fig = plt.figure(figsize=(6, 6))\n",
    "ax = fig.add_subplot(1, 1, 1)\n",
    "ax.set_xlabel(\"Features 1\")\n",
    "ax.set_ylabel(\"Features 2\")\n",
    "ax.set_title(\"2 Features PCA\")\n",
    "\n",
    "colors = [\"r\", \"g\", \"b\"]\n",
    "tagets = [\"setosa\", \"versicolor\", \"virginica\"]\n",
    "\n",
    "for target, color in zip(tagets, colors):\n",
    "    df_target = principalDF[principalDF[\"species\"] == target]\n",
    "    ax.scatter(df_target[\"features 1\"], df_target[\"features 2\"], c=color)\n",
    "\n",
    "ax.legend(tagets)\n",
    "plt.show()"
   ]
  },
  {
   "cell_type": "markdown",
   "id": "cd2fa94b",
   "metadata": {},
   "source": [
    "### phân tích và nhận xét trên phương sai"
   ]
  },
  {
   "cell_type": "code",
   "execution_count": 28,
   "id": "07cde76e",
   "metadata": {},
   "outputs": [
    {
     "name": "stdout",
     "output_type": "stream",
     "text": [
      "[0.72962445 0.22850762]\n",
      "0.9581320720000164\n",
      "0.04186792799998362\n"
     ]
    },
    {
     "data": {
      "application/javascript": [
       "\n",
       "            setTimeout(function() {\n",
       "                var nbb_cell_id = 28;\n",
       "                var nbb_unformatted_code = \"evr = pca.explained_variance_ratio_\\nprint(evr)\\nprint(sum(evr))\\nprint(1 - sum(evr))\";\n",
       "                var nbb_formatted_code = \"evr = pca.explained_variance_ratio_\\nprint(evr)\\nprint(sum(evr))\\nprint(1 - sum(evr))\";\n",
       "                var nbb_cells = Jupyter.notebook.get_cells();\n",
       "                for (var i = 0; i < nbb_cells.length; ++i) {\n",
       "                    if (nbb_cells[i].input_prompt_number == nbb_cell_id) {\n",
       "                        if (nbb_cells[i].get_text() == nbb_unformatted_code) {\n",
       "                             nbb_cells[i].set_text(nbb_formatted_code);\n",
       "                        }\n",
       "                        break;\n",
       "                    }\n",
       "                }\n",
       "            }, 500);\n",
       "            "
      ],
      "text/plain": [
       "<IPython.core.display.Javascript object>"
      ]
     },
     "metadata": {},
     "output_type": "display_data"
    }
   ],
   "source": [
    "evr = pca.explained_variance_ratio_\n",
    "print(evr)\n",
    "print(sum(evr))\n",
    "print(1 - sum(evr))"
   ]
  },
  {
   "cell_type": "code",
   "execution_count": 26,
   "id": "204ba1a1",
   "metadata": {},
   "outputs": [
    {
     "data": {
      "text/plain": [
       "'\\narray([0.72962445, 0.22850762])\\nvới 2 thành phần chính sau khi giảm chiều \\nchứa ~ 95.81% (=0.72962445 + 0.22850762) thông tin của bộ dữ liệu\\n\\ntrong đó \\nthành phần thứ nhất chứa ~72.96% \\nvà thành phần 2 chứa ~22.85% thông tin của bộ dữ liệu\\n\\n'"
      ]
     },
     "execution_count": 26,
     "metadata": {},
     "output_type": "execute_result"
    },
    {
     "data": {
      "application/javascript": [
       "\n",
       "            setTimeout(function() {\n",
       "                var nbb_cell_id = 26;\n",
       "                var nbb_unformatted_code = \"'''\\narray([0.72962445, 0.22850762])\\nv\\u1edbi 2 th\\u00e0nh ph\\u1ea7n ch\\u00ednh sau khi gi\\u1ea3m chi\\u1ec1u \\nch\\u1ee9a ~ 95.81% (=0.72962445 + 0.22850762) th\\u00f4ng tin c\\u1ee7a b\\u1ed9 d\\u1eef li\\u1ec7u\\n\\ntrong \\u0111\\u00f3 \\nth\\u00e0nh ph\\u1ea7n th\\u1ee9 nh\\u1ea5t ch\\u1ee9a ~72.96% \\nv\\u00e0 th\\u00e0nh ph\\u1ea7n 2 ch\\u1ee9a ~22.85% th\\u00f4ng tin c\\u1ee7a b\\u1ed9 d\\u1eef li\\u1ec7u\\n\\n'''\";\n",
       "                var nbb_formatted_code = \"\\\"\\\"\\\"\\narray([0.72962445, 0.22850762])\\nv\\u1edbi 2 th\\u00e0nh ph\\u1ea7n ch\\u00ednh sau khi gi\\u1ea3m chi\\u1ec1u \\nch\\u1ee9a ~ 95.81% (=0.72962445 + 0.22850762) th\\u00f4ng tin c\\u1ee7a b\\u1ed9 d\\u1eef li\\u1ec7u\\n\\ntrong \\u0111\\u00f3 \\nth\\u00e0nh ph\\u1ea7n th\\u1ee9 nh\\u1ea5t ch\\u1ee9a ~72.96% \\nv\\u00e0 th\\u00e0nh ph\\u1ea7n 2 ch\\u1ee9a ~22.85% th\\u00f4ng tin c\\u1ee7a b\\u1ed9 d\\u1eef li\\u1ec7u\\n\\n\\\"\\\"\\\"\";\n",
       "                var nbb_cells = Jupyter.notebook.get_cells();\n",
       "                for (var i = 0; i < nbb_cells.length; ++i) {\n",
       "                    if (nbb_cells[i].input_prompt_number == nbb_cell_id) {\n",
       "                        if (nbb_cells[i].get_text() == nbb_unformatted_code) {\n",
       "                             nbb_cells[i].set_text(nbb_formatted_code);\n",
       "                        }\n",
       "                        break;\n",
       "                    }\n",
       "                }\n",
       "            }, 500);\n",
       "            "
      ],
      "text/plain": [
       "<IPython.core.display.Javascript object>"
      ]
     },
     "metadata": {},
     "output_type": "display_data"
    }
   ],
   "source": [
    "\"\"\"\n",
    "array([0.72962445, 0.22850762])\n",
    "với 2 thành phần chính sau khi giảm chiều \n",
    "chứa ~ 95.81% (=0.72962445 + 0.22850762) thông tin của bộ dữ liệu\n",
    "\n",
    "trong đó \n",
    "thành phần thứ nhất chứa ~72.96% \n",
    "và thành phần 2 chứa ~22.85% thông tin của bộ dữ liệu\n",
    "\n",
    "\"\"\""
   ]
  },
  {
   "cell_type": "code",
   "execution_count": 27,
   "id": "ae20accb",
   "metadata": {},
   "outputs": [
    {
     "data": {
      "text/plain": [
       "array([[ 0.52106591, -0.26934744,  0.5804131 ,  0.56485654],\n",
       "       [ 0.37741762,  0.92329566,  0.02449161,  0.06694199]])"
      ]
     },
     "execution_count": 27,
     "metadata": {},
     "output_type": "execute_result"
    },
    {
     "data": {
      "application/javascript": [
       "\n",
       "            setTimeout(function() {\n",
       "                var nbb_cell_id = 27;\n",
       "                var nbb_unformatted_code = \"vects = pca.components_\\nvects\";\n",
       "                var nbb_formatted_code = \"vects = pca.components_\\nvects\";\n",
       "                var nbb_cells = Jupyter.notebook.get_cells();\n",
       "                for (var i = 0; i < nbb_cells.length; ++i) {\n",
       "                    if (nbb_cells[i].input_prompt_number == nbb_cell_id) {\n",
       "                        if (nbb_cells[i].get_text() == nbb_unformatted_code) {\n",
       "                             nbb_cells[i].set_text(nbb_formatted_code);\n",
       "                        }\n",
       "                        break;\n",
       "                    }\n",
       "                }\n",
       "            }, 500);\n",
       "            "
      ],
      "text/plain": [
       "<IPython.core.display.Javascript object>"
      ]
     },
     "metadata": {},
     "output_type": "display_data"
    }
   ],
   "source": [
    "vects = pca.components_\n",
    "vects"
   ]
  },
  {
   "cell_type": "code",
   "execution_count": null,
   "id": "3df1ae7e",
   "metadata": {},
   "outputs": [],
   "source": [
    "'''\n",
    "component 1 chiếm 0.72962445\n",
    "component 2 chiếm 0.22850762\n",
    "\n",
    "        [ 0.52106591, -0.26934744,  0.5804131 ,  0.56485654] \n",
    "tương ứng sepal_length, sepal_width, petal_length, petal_width ( đúng thứ tự)\n",
    "\n",
    "\n",
    "\n",
    "'''"
   ]
  },
  {
   "cell_type": "markdown",
   "id": "4fcfb2bf",
   "metadata": {},
   "source": [
    "### Component 1"
   ]
  },
  {
   "cell_type": "code",
   "execution_count": 70,
   "id": "f99dfc97",
   "metadata": {},
   "outputs": [
    {
     "data": {
      "text/plain": [
       "petal_length    0.580413\n",
       "petal_width     0.564857\n",
       "sepal_length    0.521066\n",
       "sepal_width    -0.269347\n",
       "dtype: float64"
      ]
     },
     "execution_count": 70,
     "metadata": {},
     "output_type": "execute_result"
    },
    {
     "data": {
      "application/javascript": [
       "\n",
       "            setTimeout(function() {\n",
       "                var nbb_cell_id = 70;\n",
       "                var nbb_unformatted_code = \"com1 = pd.Series(vects[0], index = features)\\ncom1.sort_values(ascending=False)\";\n",
       "                var nbb_formatted_code = \"com1 = pd.Series(vects[0], index=features)\\ncom1.sort_values(ascending=False)\";\n",
       "                var nbb_cells = Jupyter.notebook.get_cells();\n",
       "                for (var i = 0; i < nbb_cells.length; ++i) {\n",
       "                    if (nbb_cells[i].input_prompt_number == nbb_cell_id) {\n",
       "                        if (nbb_cells[i].get_text() == nbb_unformatted_code) {\n",
       "                             nbb_cells[i].set_text(nbb_formatted_code);\n",
       "                        }\n",
       "                        break;\n",
       "                    }\n",
       "                }\n",
       "            }, 500);\n",
       "            "
      ],
      "text/plain": [
       "<IPython.core.display.Javascript object>"
      ]
     },
     "metadata": {},
     "output_type": "display_data"
    }
   ],
   "source": [
    "com1 = pd.Series(vects[0], index=features)\n",
    "com1.sort_values(ascending=False)"
   ]
  },
  {
   "cell_type": "code",
   "execution_count": 71,
   "id": "cf9a9d35",
   "metadata": {},
   "outputs": [
    {
     "data": {
      "text/plain": [
       "'### với component 1\\n\\n- High attribute: petal_length, petal_width và sepal_length\\n- Low attribute: sepal_width'"
      ]
     },
     "execution_count": 71,
     "metadata": {},
     "output_type": "execute_result"
    },
    {
     "data": {
      "application/javascript": [
       "\n",
       "            setTimeout(function() {\n",
       "                var nbb_cell_id = 71;\n",
       "                var nbb_unformatted_code = \"'''### v\\u1edbi component 1\\n\\n- High attribute: petal_length, petal_width v\\u00e0 sepal_length\\n- Low attribute: sepal_width'''\";\n",
       "                var nbb_formatted_code = \"\\\"\\\"\\\"### v\\u1edbi component 1\\n\\n- High attribute: petal_length, petal_width v\\u00e0 sepal_length\\n- Low attribute: sepal_width\\\"\\\"\\\"\";\n",
       "                var nbb_cells = Jupyter.notebook.get_cells();\n",
       "                for (var i = 0; i < nbb_cells.length; ++i) {\n",
       "                    if (nbb_cells[i].input_prompt_number == nbb_cell_id) {\n",
       "                        if (nbb_cells[i].get_text() == nbb_unformatted_code) {\n",
       "                             nbb_cells[i].set_text(nbb_formatted_code);\n",
       "                        }\n",
       "                        break;\n",
       "                    }\n",
       "                }\n",
       "            }, 500);\n",
       "            "
      ],
      "text/plain": [
       "<IPython.core.display.Javascript object>"
      ]
     },
     "metadata": {},
     "output_type": "display_data"
    }
   ],
   "source": [
    "\"\"\"### với component 1\n",
    "\n",
    "- High attribute: petal_length, petal_width và sepal_length\n",
    "- Low attribute: sepal_width\"\"\""
   ]
  },
  {
   "cell_type": "code",
   "execution_count": 72,
   "id": "30e02306",
   "metadata": {},
   "outputs": [
    {
     "data": {
      "text/plain": [
       "sepal_width     0.923296\n",
       "sepal_length    0.377418\n",
       "petal_width     0.066942\n",
       "petal_length    0.024492\n",
       "dtype: float64"
      ]
     },
     "execution_count": 72,
     "metadata": {},
     "output_type": "execute_result"
    },
    {
     "data": {
      "application/javascript": [
       "\n",
       "            setTimeout(function() {\n",
       "                var nbb_cell_id = 72;\n",
       "                var nbb_unformatted_code = \"com2 = pd.Series(vects[1], index = features)\\ncom2.sort_values(ascending=False)\";\n",
       "                var nbb_formatted_code = \"com2 = pd.Series(vects[1], index=features)\\ncom2.sort_values(ascending=False)\";\n",
       "                var nbb_cells = Jupyter.notebook.get_cells();\n",
       "                for (var i = 0; i < nbb_cells.length; ++i) {\n",
       "                    if (nbb_cells[i].input_prompt_number == nbb_cell_id) {\n",
       "                        if (nbb_cells[i].get_text() == nbb_unformatted_code) {\n",
       "                             nbb_cells[i].set_text(nbb_formatted_code);\n",
       "                        }\n",
       "                        break;\n",
       "                    }\n",
       "                }\n",
       "            }, 500);\n",
       "            "
      ],
      "text/plain": [
       "<IPython.core.display.Javascript object>"
      ]
     },
     "metadata": {},
     "output_type": "display_data"
    }
   ],
   "source": [
    "com2 = pd.Series(vects[1], index=features)\n",
    "com2.sort_values(ascending=False)"
   ]
  },
  {
   "cell_type": "code",
   "execution_count": 68,
   "id": "733319aa",
   "metadata": {},
   "outputs": [
    {
     "data": {
      "text/plain": [
       "'\\n### với component 2\\n\\n- High attribute: sepal_width\\n- Low attribute: petal_width và petal_length\\n'"
      ]
     },
     "execution_count": 68,
     "metadata": {},
     "output_type": "execute_result"
    },
    {
     "data": {
      "application/javascript": [
       "\n",
       "            setTimeout(function() {\n",
       "                var nbb_cell_id = 68;\n",
       "                var nbb_unformatted_code = \"'''\\n### v\\u1edbi component 2\\n\\n- High attribute: sepal_width\\n- Low attribute: petal_width v\\u00e0 petal_length\\n'''\";\n",
       "                var nbb_formatted_code = \"\\\"\\\"\\\"\\n### v\\u1edbi component 2\\n\\n- High attribute: sepal_width\\n- Low attribute: petal_width v\\u00e0 petal_length\\n\\\"\\\"\\\"\";\n",
       "                var nbb_cells = Jupyter.notebook.get_cells();\n",
       "                for (var i = 0; i < nbb_cells.length; ++i) {\n",
       "                    if (nbb_cells[i].input_prompt_number == nbb_cell_id) {\n",
       "                        if (nbb_cells[i].get_text() == nbb_unformatted_code) {\n",
       "                             nbb_cells[i].set_text(nbb_formatted_code);\n",
       "                        }\n",
       "                        break;\n",
       "                    }\n",
       "                }\n",
       "            }, 500);\n",
       "            "
      ],
      "text/plain": [
       "<IPython.core.display.Javascript object>"
      ]
     },
     "metadata": {},
     "output_type": "display_data"
    }
   ],
   "source": [
    "\"\"\"\n",
    "### với component 2\n",
    "\n",
    "- High attribute: sepal_width\n",
    "- Low attribute: petal_width và petal_length\n",
    "\"\"\""
   ]
  },
  {
   "cell_type": "markdown",
   "id": "53823d6a",
   "metadata": {},
   "source": [
    "## PCA For Speed"
   ]
  },
  {
   "cell_type": "code",
   "execution_count": 30,
   "id": "07a3b056",
   "metadata": {},
   "outputs": [
    {
     "data": {
      "application/javascript": [
       "\n",
       "            setTimeout(function() {\n",
       "                var nbb_cell_id = 30;\n",
       "                var nbb_unformatted_code = \"import pandas as pd\\nimport numpy as np\\nfrom sklearn.datasets import fetch_openml\\nfrom sklearn.decomposition import PCA\\nfrom sklearn.preprocessing import StandardScaler\\nfrom sklearn.model_selection import train_test_split\\nfrom datetime import datetime\";\n",
       "                var nbb_formatted_code = \"import pandas as pd\\nimport numpy as np\\nfrom sklearn.datasets import fetch_openml\\nfrom sklearn.decomposition import PCA\\nfrom sklearn.preprocessing import StandardScaler\\nfrom sklearn.model_selection import train_test_split\\nfrom datetime import datetime\";\n",
       "                var nbb_cells = Jupyter.notebook.get_cells();\n",
       "                for (var i = 0; i < nbb_cells.length; ++i) {\n",
       "                    if (nbb_cells[i].input_prompt_number == nbb_cell_id) {\n",
       "                        if (nbb_cells[i].get_text() == nbb_unformatted_code) {\n",
       "                             nbb_cells[i].set_text(nbb_formatted_code);\n",
       "                        }\n",
       "                        break;\n",
       "                    }\n",
       "                }\n",
       "            }, 500);\n",
       "            "
      ],
      "text/plain": [
       "<IPython.core.display.Javascript object>"
      ]
     },
     "metadata": {},
     "output_type": "display_data"
    }
   ],
   "source": [
    "import pandas as pd\n",
    "import numpy as np\n",
    "from sklearn.datasets import fetch_openml\n",
    "from sklearn.decomposition import PCA\n",
    "from sklearn.preprocessing import StandardScaler\n",
    "from sklearn.model_selection import train_test_split\n",
    "from datetime import datetime"
   ]
  },
  {
   "cell_type": "code",
   "execution_count": 31,
   "id": "d93ed4b2",
   "metadata": {},
   "outputs": [
    {
     "data": {
      "application/javascript": [
       "\n",
       "            setTimeout(function() {\n",
       "                var nbb_cell_id = 31;\n",
       "                var nbb_unformatted_code = \"start = datetime.now()\\nmnist = fetch_openml('mnist_784', version=1, cache=True)\\n# mnist = fetch_mldata('MNIST original')\\nend = datetime.now()\";\n",
       "                var nbb_formatted_code = \"start = datetime.now()\\nmnist = fetch_openml(\\\"mnist_784\\\", version=1, cache=True)\\n# mnist = fetch_mldata('MNIST original')\\nend = datetime.now()\";\n",
       "                var nbb_cells = Jupyter.notebook.get_cells();\n",
       "                for (var i = 0; i < nbb_cells.length; ++i) {\n",
       "                    if (nbb_cells[i].input_prompt_number == nbb_cell_id) {\n",
       "                        if (nbb_cells[i].get_text() == nbb_unformatted_code) {\n",
       "                             nbb_cells[i].set_text(nbb_formatted_code);\n",
       "                        }\n",
       "                        break;\n",
       "                    }\n",
       "                }\n",
       "            }, 500);\n",
       "            "
      ],
      "text/plain": [
       "<IPython.core.display.Javascript object>"
      ]
     },
     "metadata": {},
     "output_type": "display_data"
    }
   ],
   "source": [
    "start = datetime.now()\n",
    "mnist = fetch_openml(\"mnist_784\", version=1, cache=True)\n",
    "# mnist = fetch_mldata('MNIST original')\n",
    "end = datetime.now()"
   ]
  },
  {
   "cell_type": "code",
   "execution_count": 32,
   "id": "c666705f",
   "metadata": {},
   "outputs": [
    {
     "name": "stdout",
     "output_type": "stream",
     "text": [
      "0 days +  48 giây\n"
     ]
    },
    {
     "data": {
      "application/javascript": [
       "\n",
       "            setTimeout(function() {\n",
       "                var nbb_cell_id = 32;\n",
       "                var nbb_unformatted_code = \"diff = end - start\\nprint(diff.days,'days + ', diff.seconds, 'gi\\u00e2y')\";\n",
       "                var nbb_formatted_code = \"diff = end - start\\nprint(diff.days, \\\"days + \\\", diff.seconds, \\\"gi\\u00e2y\\\")\";\n",
       "                var nbb_cells = Jupyter.notebook.get_cells();\n",
       "                for (var i = 0; i < nbb_cells.length; ++i) {\n",
       "                    if (nbb_cells[i].input_prompt_number == nbb_cell_id) {\n",
       "                        if (nbb_cells[i].get_text() == nbb_unformatted_code) {\n",
       "                             nbb_cells[i].set_text(nbb_formatted_code);\n",
       "                        }\n",
       "                        break;\n",
       "                    }\n",
       "                }\n",
       "            }, 500);\n",
       "            "
      ],
      "text/plain": [
       "<IPython.core.display.Javascript object>"
      ]
     },
     "metadata": {},
     "output_type": "display_data"
    }
   ],
   "source": [
    "diff = end - start\n",
    "print(diff.days, \"days + \", diff.seconds, \"giây\")"
   ]
  },
  {
   "cell_type": "code",
   "execution_count": 33,
   "id": "7eea5a68",
   "metadata": {},
   "outputs": [
    {
     "name": "stdout",
     "output_type": "stream",
     "text": [
      "**Author**: Yann LeCun, Corinna Cortes, Christopher J.C. Burges  \n",
      "**Source**: [MNIST Website](http://yann.lecun.com/exdb/mnist/) - Date unknown  \n",
      "**Please cite**:  \n",
      "\n",
      "The MNIST database of handwritten digits with 784 features, raw data available at: http://yann.lecun.com/exdb/mnist/. It can be split in a training set of the first 60,000 examples, and a test set of 10,000 examples  \n",
      "\n",
      "It is a subset of a larger set available from NIST. The digits have been size-normalized and centered in a fixed-size image. It is a good database for people who want to try learning techniques and pattern recognition methods on real-world data while spending minimal efforts on preprocessing and formatting. The original black and white (bilevel) images from NIST were size normalized to fit in a 20x20 pixel box while preserving their aspect ratio. The resulting images contain grey levels as a result of the anti-aliasing technique used by the normalization algorithm. the images were centered in a 28x28 image by computing the center of mass of the pixels, and translating the image so as to position this point at the center of the 28x28 field.  \n",
      "\n",
      "With some classification methods (particularly template-based methods, such as SVM and K-nearest neighbors), the error rate improves when the digits are centered by bounding box rather than center of mass. If you do this kind of pre-processing, you should report it in your publications. The MNIST database was constructed from NIST's NIST originally designated SD-3 as their training set and SD-1 as their test set. However, SD-3 is much cleaner and easier to recognize than SD-1. The reason for this can be found on the fact that SD-3 was collected among Census Bureau employees, while SD-1 was collected among high-school students. Drawing sensible conclusions from learning experiments requires that the result be independent of the choice of training set and test among the complete set of samples. Therefore it was necessary to build a new database by mixing NIST's datasets.  \n",
      "\n",
      "The MNIST training set is composed of 30,000 patterns from SD-3 and 30,000 patterns from SD-1. Our test set was composed of 5,000 patterns from SD-3 and 5,000 patterns from SD-1. The 60,000 pattern training set contained examples from approximately 250 writers. We made sure that the sets of writers of the training set and test set were disjoint. SD-1 contains 58,527 digit images written by 500 different writers. In contrast to SD-3, where blocks of data from each writer appeared in sequence, the data in SD-1 is scrambled. Writer identities for SD-1 is available and we used this information to unscramble the writers. We then split SD-1 in two: characters written by the first 250 writers went into our new training set. The remaining 250 writers were placed in our test set. Thus we had two sets with nearly 30,000 examples each. The new training set was completed with enough examples from SD-3, starting at pattern # 0, to make a full set of 60,000 training patterns. Similarly, the new test set was completed with SD-3 examples starting at pattern # 35,000 to make a full set with 60,000 test patterns. Only a subset of 10,000 test images (5,000 from SD-1 and 5,000 from SD-3) is available on this site. The full 60,000 sample training set is available.\n",
      "\n",
      "Downloaded from openml.org.\n"
     ]
    },
    {
     "data": {
      "application/javascript": [
       "\n",
       "            setTimeout(function() {\n",
       "                var nbb_cell_id = 33;\n",
       "                var nbb_unformatted_code = \"print(mnist.DESCR)\";\n",
       "                var nbb_formatted_code = \"print(mnist.DESCR)\";\n",
       "                var nbb_cells = Jupyter.notebook.get_cells();\n",
       "                for (var i = 0; i < nbb_cells.length; ++i) {\n",
       "                    if (nbb_cells[i].input_prompt_number == nbb_cell_id) {\n",
       "                        if (nbb_cells[i].get_text() == nbb_unformatted_code) {\n",
       "                             nbb_cells[i].set_text(nbb_formatted_code);\n",
       "                        }\n",
       "                        break;\n",
       "                    }\n",
       "                }\n",
       "            }, 500);\n",
       "            "
      ],
      "text/plain": [
       "<IPython.core.display.Javascript object>"
      ]
     },
     "metadata": {},
     "output_type": "display_data"
    }
   ],
   "source": [
    "print(mnist.DESCR)"
   ]
  },
  {
   "cell_type": "code",
   "execution_count": 34,
   "id": "e840839c",
   "metadata": {},
   "outputs": [
    {
     "data": {
      "text/plain": [
       "(70000, 784)"
      ]
     },
     "execution_count": 34,
     "metadata": {},
     "output_type": "execute_result"
    },
    {
     "data": {
      "application/javascript": [
       "\n",
       "            setTimeout(function() {\n",
       "                var nbb_cell_id = 34;\n",
       "                var nbb_unformatted_code = \"mnist.data.shape\";\n",
       "                var nbb_formatted_code = \"mnist.data.shape\";\n",
       "                var nbb_cells = Jupyter.notebook.get_cells();\n",
       "                for (var i = 0; i < nbb_cells.length; ++i) {\n",
       "                    if (nbb_cells[i].input_prompt_number == nbb_cell_id) {\n",
       "                        if (nbb_cells[i].get_text() == nbb_unformatted_code) {\n",
       "                             nbb_cells[i].set_text(nbb_formatted_code);\n",
       "                        }\n",
       "                        break;\n",
       "                    }\n",
       "                }\n",
       "            }, 500);\n",
       "            "
      ],
      "text/plain": [
       "<IPython.core.display.Javascript object>"
      ]
     },
     "metadata": {},
     "output_type": "display_data"
    }
   ],
   "source": [
    "mnist.data.shape"
   ]
  },
  {
   "cell_type": "code",
   "execution_count": 38,
   "id": "9b1243e0",
   "metadata": {},
   "outputs": [
    {
     "data": {
      "text/plain": [
       "'\\nmnist có 70000 record, 784 features image(28 * 28)\\n'"
      ]
     },
     "execution_count": 38,
     "metadata": {},
     "output_type": "execute_result"
    },
    {
     "data": {
      "application/javascript": [
       "\n",
       "            setTimeout(function() {\n",
       "                var nbb_cell_id = 38;\n",
       "                var nbb_unformatted_code = \"\\\"\\\"\\\"\\nmnist c\\u00f3 70000 record, 784 features image(28 * 28)\\n\\\"\\\"\\\"\";\n",
       "                var nbb_formatted_code = \"\\\"\\\"\\\"\\nmnist c\\u00f3 70000 record, 784 features image(28 * 28)\\n\\\"\\\"\\\"\";\n",
       "                var nbb_cells = Jupyter.notebook.get_cells();\n",
       "                for (var i = 0; i < nbb_cells.length; ++i) {\n",
       "                    if (nbb_cells[i].input_prompt_number == nbb_cell_id) {\n",
       "                        if (nbb_cells[i].get_text() == nbb_unformatted_code) {\n",
       "                             nbb_cells[i].set_text(nbb_formatted_code);\n",
       "                        }\n",
       "                        break;\n",
       "                    }\n",
       "                }\n",
       "            }, 500);\n",
       "            "
      ],
      "text/plain": [
       "<IPython.core.display.Javascript object>"
      ]
     },
     "metadata": {},
     "output_type": "display_data"
    }
   ],
   "source": [
    "\"\"\"\n",
    "mnist có 70000 record, 784 features image(28 x 28)\n",
    "\"\"\""
   ]
  },
  {
   "cell_type": "code",
   "execution_count": 36,
   "id": "5c5f0a68",
   "metadata": {},
   "outputs": [
    {
     "data": {
      "text/plain": [
       "(70000,)"
      ]
     },
     "execution_count": 36,
     "metadata": {},
     "output_type": "execute_result"
    },
    {
     "data": {
      "application/javascript": [
       "\n",
       "            setTimeout(function() {\n",
       "                var nbb_cell_id = 36;\n",
       "                var nbb_unformatted_code = \"mnist.target.shape\";\n",
       "                var nbb_formatted_code = \"mnist.target.shape\";\n",
       "                var nbb_cells = Jupyter.notebook.get_cells();\n",
       "                for (var i = 0; i < nbb_cells.length; ++i) {\n",
       "                    if (nbb_cells[i].input_prompt_number == nbb_cell_id) {\n",
       "                        if (nbb_cells[i].get_text() == nbb_unformatted_code) {\n",
       "                             nbb_cells[i].set_text(nbb_formatted_code);\n",
       "                        }\n",
       "                        break;\n",
       "                    }\n",
       "                }\n",
       "            }, 500);\n",
       "            "
      ],
      "text/plain": [
       "<IPython.core.display.Javascript object>"
      ]
     },
     "metadata": {},
     "output_type": "display_data"
    }
   ],
   "source": [
    "mnist.target.shape"
   ]
  },
  {
   "cell_type": "code",
   "execution_count": 39,
   "id": "09304393",
   "metadata": {},
   "outputs": [
    {
     "data": {
      "text/plain": [
       "0    5\n",
       "1    0\n",
       "2    4\n",
       "3    1\n",
       "4    9\n",
       "Name: class, dtype: category\n",
       "Categories (10, object): ['0', '1', '2', '3', ..., '6', '7', '8', '9']"
      ]
     },
     "execution_count": 39,
     "metadata": {},
     "output_type": "execute_result"
    },
    {
     "data": {
      "application/javascript": [
       "\n",
       "            setTimeout(function() {\n",
       "                var nbb_cell_id = 39;\n",
       "                var nbb_unformatted_code = \"mnist.target[:5]\";\n",
       "                var nbb_formatted_code = \"mnist.target[:5]\";\n",
       "                var nbb_cells = Jupyter.notebook.get_cells();\n",
       "                for (var i = 0; i < nbb_cells.length; ++i) {\n",
       "                    if (nbb_cells[i].input_prompt_number == nbb_cell_id) {\n",
       "                        if (nbb_cells[i].get_text() == nbb_unformatted_code) {\n",
       "                             nbb_cells[i].set_text(nbb_formatted_code);\n",
       "                        }\n",
       "                        break;\n",
       "                    }\n",
       "                }\n",
       "            }, 500);\n",
       "            "
      ],
      "text/plain": [
       "<IPython.core.display.Javascript object>"
      ]
     },
     "metadata": {},
     "output_type": "display_data"
    }
   ],
   "source": [
    "mnist.target[:5]"
   ]
  },
  {
   "cell_type": "code",
   "execution_count": 41,
   "id": "c7608e00",
   "metadata": {},
   "outputs": [
    {
     "data": {
      "application/javascript": [
       "\n",
       "            setTimeout(function() {\n",
       "                var nbb_cell_id = 41;\n",
       "                var nbb_unformatted_code = \"img_train, img_test, label_train, label_test = train_test_split(\\n    mnist.data, mnist.target, test_size=1 / 7.0, random_state=0\\n)\\n\\n# test_size=1 / 7.0 ch\\u1ec9 l\\u00e0 \\u0111\\u1ec3 t\\u00e1ch cho n\\u00f3 tr\\u00f2n hoyy\";\n",
       "                var nbb_formatted_code = \"img_train, img_test, label_train, label_test = train_test_split(\\n    mnist.data, mnist.target, test_size=1 / 7.0, random_state=0\\n)\\n\\n# test_size=1 / 7.0 ch\\u1ec9 l\\u00e0 \\u0111\\u1ec3 t\\u00e1ch cho n\\u00f3 tr\\u00f2n hoyy\";\n",
       "                var nbb_cells = Jupyter.notebook.get_cells();\n",
       "                for (var i = 0; i < nbb_cells.length; ++i) {\n",
       "                    if (nbb_cells[i].input_prompt_number == nbb_cell_id) {\n",
       "                        if (nbb_cells[i].get_text() == nbb_unformatted_code) {\n",
       "                             nbb_cells[i].set_text(nbb_formatted_code);\n",
       "                        }\n",
       "                        break;\n",
       "                    }\n",
       "                }\n",
       "            }, 500);\n",
       "            "
      ],
      "text/plain": [
       "<IPython.core.display.Javascript object>"
      ]
     },
     "metadata": {},
     "output_type": "display_data"
    }
   ],
   "source": [
    "img_train, img_test, label_train, label_test = train_test_split(\n",
    "    mnist.data, mnist.target, test_size=1 / 7.0, random_state=0\n",
    ")\n",
    "\n",
    "# test_size=1 / 7.0 chỉ là để tách cho nó tròn hoyy 60.000 test records thôi"
   ]
  },
  {
   "cell_type": "code",
   "execution_count": 42,
   "id": "08d6891e",
   "metadata": {},
   "outputs": [
    {
     "data": {
      "text/plain": [
       "(60000, 784)"
      ]
     },
     "execution_count": 42,
     "metadata": {},
     "output_type": "execute_result"
    },
    {
     "data": {
      "application/javascript": [
       "\n",
       "            setTimeout(function() {\n",
       "                var nbb_cell_id = 42;\n",
       "                var nbb_unformatted_code = \"img_train.shape\";\n",
       "                var nbb_formatted_code = \"img_train.shape\";\n",
       "                var nbb_cells = Jupyter.notebook.get_cells();\n",
       "                for (var i = 0; i < nbb_cells.length; ++i) {\n",
       "                    if (nbb_cells[i].input_prompt_number == nbb_cell_id) {\n",
       "                        if (nbb_cells[i].get_text() == nbb_unformatted_code) {\n",
       "                             nbb_cells[i].set_text(nbb_formatted_code);\n",
       "                        }\n",
       "                        break;\n",
       "                    }\n",
       "                }\n",
       "            }, 500);\n",
       "            "
      ],
      "text/plain": [
       "<IPython.core.display.Javascript object>"
      ]
     },
     "metadata": {},
     "output_type": "display_data"
    }
   ],
   "source": [
    "img_train.shape"
   ]
  },
  {
   "cell_type": "code",
   "execution_count": 43,
   "id": "475ad1bb",
   "metadata": {},
   "outputs": [
    {
     "data": {
      "text/plain": [
       "(10000, 784)"
      ]
     },
     "execution_count": 43,
     "metadata": {},
     "output_type": "execute_result"
    },
    {
     "data": {
      "application/javascript": [
       "\n",
       "            setTimeout(function() {\n",
       "                var nbb_cell_id = 43;\n",
       "                var nbb_unformatted_code = \"img_test.shape\";\n",
       "                var nbb_formatted_code = \"img_test.shape\";\n",
       "                var nbb_cells = Jupyter.notebook.get_cells();\n",
       "                for (var i = 0; i < nbb_cells.length; ++i) {\n",
       "                    if (nbb_cells[i].input_prompt_number == nbb_cell_id) {\n",
       "                        if (nbb_cells[i].get_text() == nbb_unformatted_code) {\n",
       "                             nbb_cells[i].set_text(nbb_formatted_code);\n",
       "                        }\n",
       "                        break;\n",
       "                    }\n",
       "                }\n",
       "            }, 500);\n",
       "            "
      ],
      "text/plain": [
       "<IPython.core.display.Javascript object>"
      ]
     },
     "metadata": {},
     "output_type": "display_data"
    }
   ],
   "source": [
    "img_test.shape"
   ]
  },
  {
   "cell_type": "code",
   "execution_count": 45,
   "id": "1f59342d",
   "metadata": {},
   "outputs": [
    {
     "data": {
      "text/html": [
       "<div>\n",
       "<style scoped>\n",
       "    .dataframe tbody tr th:only-of-type {\n",
       "        vertical-align: middle;\n",
       "    }\n",
       "\n",
       "    .dataframe tbody tr th {\n",
       "        vertical-align: top;\n",
       "    }\n",
       "\n",
       "    .dataframe thead th {\n",
       "        text-align: right;\n",
       "    }\n",
       "</style>\n",
       "<table border=\"1\" class=\"dataframe\">\n",
       "  <thead>\n",
       "    <tr style=\"text-align: right;\">\n",
       "      <th></th>\n",
       "      <th>pixel1</th>\n",
       "      <th>pixel2</th>\n",
       "      <th>pixel3</th>\n",
       "      <th>pixel4</th>\n",
       "      <th>pixel5</th>\n",
       "      <th>pixel6</th>\n",
       "      <th>pixel7</th>\n",
       "      <th>pixel8</th>\n",
       "      <th>pixel9</th>\n",
       "      <th>pixel10</th>\n",
       "      <th>...</th>\n",
       "      <th>pixel775</th>\n",
       "      <th>pixel776</th>\n",
       "      <th>pixel777</th>\n",
       "      <th>pixel778</th>\n",
       "      <th>pixel779</th>\n",
       "      <th>pixel780</th>\n",
       "      <th>pixel781</th>\n",
       "      <th>pixel782</th>\n",
       "      <th>pixel783</th>\n",
       "      <th>pixel784</th>\n",
       "    </tr>\n",
       "  </thead>\n",
       "  <tbody>\n",
       "    <tr>\n",
       "      <th>28926</th>\n",
       "      <td>0.0</td>\n",
       "      <td>0.0</td>\n",
       "      <td>0.0</td>\n",
       "      <td>0.0</td>\n",
       "      <td>0.0</td>\n",
       "      <td>0.0</td>\n",
       "      <td>0.0</td>\n",
       "      <td>0.0</td>\n",
       "      <td>0.0</td>\n",
       "      <td>0.0</td>\n",
       "      <td>...</td>\n",
       "      <td>0.0</td>\n",
       "      <td>0.0</td>\n",
       "      <td>0.0</td>\n",
       "      <td>0.0</td>\n",
       "      <td>0.0</td>\n",
       "      <td>0.0</td>\n",
       "      <td>0.0</td>\n",
       "      <td>0.0</td>\n",
       "      <td>0.0</td>\n",
       "      <td>0.0</td>\n",
       "    </tr>\n",
       "  </tbody>\n",
       "</table>\n",
       "<p>1 rows × 784 columns</p>\n",
       "</div>"
      ],
      "text/plain": [
       "       pixel1  pixel2  pixel3  pixel4  pixel5  pixel6  pixel7  pixel8  pixel9  \\\n",
       "28926     0.0     0.0     0.0     0.0     0.0     0.0     0.0     0.0     0.0   \n",
       "\n",
       "       pixel10  ...  pixel775  pixel776  pixel777  pixel778  pixel779  \\\n",
       "28926      0.0  ...       0.0       0.0       0.0       0.0       0.0   \n",
       "\n",
       "       pixel780  pixel781  pixel782  pixel783  pixel784  \n",
       "28926       0.0       0.0       0.0       0.0       0.0  \n",
       "\n",
       "[1 rows x 784 columns]"
      ]
     },
     "execution_count": 45,
     "metadata": {},
     "output_type": "execute_result"
    },
    {
     "data": {
      "application/javascript": [
       "\n",
       "            setTimeout(function() {\n",
       "                var nbb_cell_id = 45;\n",
       "                var nbb_unformatted_code = \"img_train[:1]\";\n",
       "                var nbb_formatted_code = \"img_train[:1]\";\n",
       "                var nbb_cells = Jupyter.notebook.get_cells();\n",
       "                for (var i = 0; i < nbb_cells.length; ++i) {\n",
       "                    if (nbb_cells[i].input_prompt_number == nbb_cell_id) {\n",
       "                        if (nbb_cells[i].get_text() == nbb_unformatted_code) {\n",
       "                             nbb_cells[i].set_text(nbb_formatted_code);\n",
       "                        }\n",
       "                        break;\n",
       "                    }\n",
       "                }\n",
       "            }, 500);\n",
       "            "
      ],
      "text/plain": [
       "<IPython.core.display.Javascript object>"
      ]
     },
     "metadata": {},
     "output_type": "display_data"
    }
   ],
   "source": [
    "img_train[:1]"
   ]
  },
  {
   "cell_type": "markdown",
   "id": "33b96859",
   "metadata": {},
   "source": [
    "### Sclare data"
   ]
  },
  {
   "cell_type": "code",
   "execution_count": 46,
   "id": "ba571d1f",
   "metadata": {},
   "outputs": [
    {
     "data": {
      "text/plain": [
       "StandardScaler()"
      ]
     },
     "execution_count": 46,
     "metadata": {},
     "output_type": "execute_result"
    },
    {
     "data": {
      "application/javascript": [
       "\n",
       "            setTimeout(function() {\n",
       "                var nbb_cell_id = 46;\n",
       "                var nbb_unformatted_code = \"# scale d\\u1eef li\\u1ec7u\\nscaler = StandardScaler()\\nscaler.fit(img_train)\";\n",
       "                var nbb_formatted_code = \"# scale d\\u1eef li\\u1ec7u\\nscaler = StandardScaler()\\nscaler.fit(img_train)\";\n",
       "                var nbb_cells = Jupyter.notebook.get_cells();\n",
       "                for (var i = 0; i < nbb_cells.length; ++i) {\n",
       "                    if (nbb_cells[i].input_prompt_number == nbb_cell_id) {\n",
       "                        if (nbb_cells[i].get_text() == nbb_unformatted_code) {\n",
       "                             nbb_cells[i].set_text(nbb_formatted_code);\n",
       "                        }\n",
       "                        break;\n",
       "                    }\n",
       "                }\n",
       "            }, 500);\n",
       "            "
      ],
      "text/plain": [
       "<IPython.core.display.Javascript object>"
      ]
     },
     "metadata": {},
     "output_type": "display_data"
    }
   ],
   "source": [
    "# scale dữ liệu\n",
    "scaler = StandardScaler()\n",
    "scaler.fit(img_train)"
   ]
  },
  {
   "cell_type": "code",
   "execution_count": 47,
   "id": "99b1c3e7",
   "metadata": {},
   "outputs": [
    {
     "data": {
      "application/javascript": [
       "\n",
       "            setTimeout(function() {\n",
       "                var nbb_cell_id = 47;\n",
       "                var nbb_unformatted_code = \"img_train_scale = scaler.transform(img_train)\\nimg_test_scale = scaler.transform(img_test)\";\n",
       "                var nbb_formatted_code = \"img_train_scale = scaler.transform(img_train)\\nimg_test_scale = scaler.transform(img_test)\";\n",
       "                var nbb_cells = Jupyter.notebook.get_cells();\n",
       "                for (var i = 0; i < nbb_cells.length; ++i) {\n",
       "                    if (nbb_cells[i].input_prompt_number == nbb_cell_id) {\n",
       "                        if (nbb_cells[i].get_text() == nbb_unformatted_code) {\n",
       "                             nbb_cells[i].set_text(nbb_formatted_code);\n",
       "                        }\n",
       "                        break;\n",
       "                    }\n",
       "                }\n",
       "            }, 500);\n",
       "            "
      ],
      "text/plain": [
       "<IPython.core.display.Javascript object>"
      ]
     },
     "metadata": {},
     "output_type": "display_data"
    }
   ],
   "source": [
    "img_train_scale = scaler.transform(img_train)\n",
    "img_test_scale = scaler.transform(img_test)"
   ]
  },
  {
   "cell_type": "code",
   "execution_count": 62,
   "id": "f9db3287",
   "metadata": {},
   "outputs": [
    {
     "data": {
      "application/javascript": [
       "\n",
       "            setTimeout(function() {\n",
       "                var nbb_cell_id = 62;\n",
       "                var nbb_unformatted_code = \"from sklearn.metrics import confusion_matrix, accuracy_score, classification_report\\n\\n# h\\u00e0m \\u0111\\u00e1nh gi\\u00e1\\ndef evaluate(model, X_train, X_test, y_train, y_test):\\n    yhat_test = model.predict(X_test)\\n    yhat_train = model.predict(X_train)\\n\\n    print(\\\"***TRAINIG RESULTS***: \\\\n==================================================\\\")\\n    clf_report = pd.DataFrame(\\n        classification_report(y_train, yhat_train, output_dict=True)\\n    )\\n    print(\\\"Confusion matrix: \\\\n\\\", confusion_matrix(y_train, yhat_train))\\n    print(\\\"Train Accuracy Score:\\\", accuracy_score(y_train, yhat_train))\\n    print(\\\"Classification Report: \\\\n\\\", classification_report(y_train, yhat_train))\\n\\n    print(\\\"***TEST RESULTS***: \\\\n===================================================\\\")\\n    print(\\\"Test Accuracy:\\\", accuracy_score(y_test, yhat_test))\\n    clf_report = pd.DataFrame(\\n        classification_report(y_test, yhat_test, output_dict=True)\\n    )\\n    print(\\\"Confusion matrix: \\\\n\\\", confusion_matrix(y_test, yhat_test))\\n    print(\\\"Test Accuracy Score:\\\", accuracy_score(y_test, yhat_test))\\n    print(\\\"Classification Report: \\\\n\\\", classification_report(y_test, yhat_test))\";\n",
       "                var nbb_formatted_code = \"from sklearn.metrics import confusion_matrix, accuracy_score, classification_report\\n\\n# h\\u00e0m \\u0111\\u00e1nh gi\\u00e1\\ndef evaluate(model, X_train, X_test, y_train, y_test):\\n    yhat_test = model.predict(X_test)\\n    yhat_train = model.predict(X_train)\\n\\n    print(\\\"***TRAINIG RESULTS***: \\\\n==================================================\\\")\\n    clf_report = pd.DataFrame(\\n        classification_report(y_train, yhat_train, output_dict=True)\\n    )\\n    print(\\\"Confusion matrix: \\\\n\\\", confusion_matrix(y_train, yhat_train))\\n    print(\\\"Train Accuracy Score:\\\", accuracy_score(y_train, yhat_train))\\n    print(\\\"Classification Report: \\\\n\\\", classification_report(y_train, yhat_train))\\n\\n    print(\\\"***TEST RESULTS***: \\\\n===================================================\\\")\\n    print(\\\"Test Accuracy:\\\", accuracy_score(y_test, yhat_test))\\n    clf_report = pd.DataFrame(\\n        classification_report(y_test, yhat_test, output_dict=True)\\n    )\\n    print(\\\"Confusion matrix: \\\\n\\\", confusion_matrix(y_test, yhat_test))\\n    print(\\\"Test Accuracy Score:\\\", accuracy_score(y_test, yhat_test))\\n    print(\\\"Classification Report: \\\\n\\\", classification_report(y_test, yhat_test))\";\n",
       "                var nbb_cells = Jupyter.notebook.get_cells();\n",
       "                for (var i = 0; i < nbb_cells.length; ++i) {\n",
       "                    if (nbb_cells[i].input_prompt_number == nbb_cell_id) {\n",
       "                        if (nbb_cells[i].get_text() == nbb_unformatted_code) {\n",
       "                             nbb_cells[i].set_text(nbb_formatted_code);\n",
       "                        }\n",
       "                        break;\n",
       "                    }\n",
       "                }\n",
       "            }, 500);\n",
       "            "
      ],
      "text/plain": [
       "<IPython.core.display.Javascript object>"
      ]
     },
     "metadata": {},
     "output_type": "display_data"
    }
   ],
   "source": [
    "from sklearn.metrics import confusion_matrix, accuracy_score, classification_report\n",
    "\n",
    "# hàm đánh giá\n",
    "def evaluate(model, X_train, X_test, y_train, y_test):\n",
    "    yhat_test = model.predict(X_test)\n",
    "    yhat_train = model.predict(X_train)\n",
    "\n",
    "    print(\"***TRAINIG RESULTS***: \\n==================================================\")\n",
    "    clf_report = pd.DataFrame(\n",
    "        classification_report(y_train, yhat_train, output_dict=True)\n",
    "    )\n",
    "    print(\"Confusion matrix: \\n\", confusion_matrix(y_train, yhat_train))\n",
    "    print(\"Train Accuracy Score:\", accuracy_score(y_train, yhat_train))\n",
    "    print(\"Classification Report: \\n\", classification_report(y_train, yhat_train))\n",
    "\n",
    "    print(\"***TEST RESULTS***: \\n===================================================\")\n",
    "    print(\"Test Accuracy:\", accuracy_score(y_test, yhat_test))\n",
    "    clf_report = pd.DataFrame(\n",
    "        classification_report(y_test, yhat_test, output_dict=True)\n",
    "    )\n",
    "    print(\"Confusion matrix: \\n\", confusion_matrix(y_test, yhat_test))\n",
    "    print(\"Test Accuracy Score:\", accuracy_score(y_test, yhat_test))\n",
    "    print(\"Classification Report: \\n\", classification_report(y_test, yhat_test))"
   ]
  },
  {
   "cell_type": "markdown",
   "id": "b3b49ad0",
   "metadata": {},
   "source": [
    "### Build với data gốc"
   ]
  },
  {
   "cell_type": "code",
   "execution_count": 48,
   "id": "193edd64",
   "metadata": {
    "code_folding": []
   },
   "outputs": [
    {
     "data": {
      "application/javascript": [
       "\n",
       "            setTimeout(function() {\n",
       "                var nbb_cell_id = 48;\n",
       "                var nbb_unformatted_code = \"# build model v\\u1edbi d\\u1eef li\\u1ec7u g\\u1ed1c --> nh\\u1eadn x\\u00e9t t\\u1ed1c \\u0111\\u1ed9\\n# d\\u00f9ng SVM classification\\nfrom sklearn.svm import SVC\";\n",
       "                var nbb_formatted_code = \"# build model v\\u1edbi d\\u1eef li\\u1ec7u g\\u1ed1c --> nh\\u1eadn x\\u00e9t t\\u1ed1c \\u0111\\u1ed9\\n# d\\u00f9ng SVM classification\\nfrom sklearn.svm import SVC\";\n",
       "                var nbb_cells = Jupyter.notebook.get_cells();\n",
       "                for (var i = 0; i < nbb_cells.length; ++i) {\n",
       "                    if (nbb_cells[i].input_prompt_number == nbb_cell_id) {\n",
       "                        if (nbb_cells[i].get_text() == nbb_unformatted_code) {\n",
       "                             nbb_cells[i].set_text(nbb_formatted_code);\n",
       "                        }\n",
       "                        break;\n",
       "                    }\n",
       "                }\n",
       "            }, 500);\n",
       "            "
      ],
      "text/plain": [
       "<IPython.core.display.Javascript object>"
      ]
     },
     "metadata": {},
     "output_type": "display_data"
    }
   ],
   "source": [
    "# build model với dữ liệu gốc --> nhận xét tốc độ\n",
    "# dùng SVM classification\n",
    "from sklearn.svm import SVC"
   ]
  },
  {
   "cell_type": "code",
   "execution_count": 50,
   "id": "77600d8d",
   "metadata": {},
   "outputs": [
    {
     "name": "stdout",
     "output_type": "stream",
     "text": [
      "0 days +  256 giây\n"
     ]
    },
    {
     "data": {
      "application/javascript": [
       "\n",
       "            setTimeout(function() {\n",
       "                var nbb_cell_id = 50;\n",
       "                var nbb_unformatted_code = \"start = datetime.now()\\nmodel_o = SVC(gamma=0.001, C=100).fit(img_train_scale, label_train)\\nend = datetime.now()\\ndiff = end - start\\nprint(diff.days, \\\"days + \\\", diff.seconds, \\\"gi\\u00e2y\\\")\";\n",
       "                var nbb_formatted_code = \"start = datetime.now()\\nmodel_o = SVC(gamma=0.001, C=100).fit(img_train_scale, label_train)\\nend = datetime.now()\\ndiff = end - start\\nprint(diff.days, \\\"days + \\\", diff.seconds, \\\"gi\\u00e2y\\\")\";\n",
       "                var nbb_cells = Jupyter.notebook.get_cells();\n",
       "                for (var i = 0; i < nbb_cells.length; ++i) {\n",
       "                    if (nbb_cells[i].input_prompt_number == nbb_cell_id) {\n",
       "                        if (nbb_cells[i].get_text() == nbb_unformatted_code) {\n",
       "                             nbb_cells[i].set_text(nbb_formatted_code);\n",
       "                        }\n",
       "                        break;\n",
       "                    }\n",
       "                }\n",
       "            }, 500);\n",
       "            "
      ],
      "text/plain": [
       "<IPython.core.display.Javascript object>"
      ]
     },
     "metadata": {},
     "output_type": "display_data"
    }
   ],
   "source": [
    "start = datetime.now()\n",
    "model_o = SVC(gamma=0.001, C=100).fit(img_train_scale, label_train)\n",
    "end = datetime.now()\n",
    "diff = end - start\n",
    "print(diff.days, \"days + \", diff.seconds, \"giây\")"
   ]
  },
  {
   "cell_type": "code",
   "execution_count": 67,
   "id": "f0475e8e",
   "metadata": {},
   "outputs": [
    {
     "name": "stdout",
     "output_type": "stream",
     "text": [
      "Accuracy: 97.31 %\n"
     ]
    },
    {
     "data": {
      "application/javascript": [
       "\n",
       "            setTimeout(function() {\n",
       "                var nbb_cell_id = 67;\n",
       "                var nbb_unformatted_code = \"label_pred_o = model_o.predict(img_test_scale)\\nprint('Accuracy:', accuracy_score(label_test, label_pred_o) * 100, '%')\";\n",
       "                var nbb_formatted_code = \"label_pred_o = model_o.predict(img_test_scale)\\nprint(\\\"Accuracy:\\\", accuracy_score(label_test, label_pred_o) * 100, \\\"%\\\")\";\n",
       "                var nbb_cells = Jupyter.notebook.get_cells();\n",
       "                for (var i = 0; i < nbb_cells.length; ++i) {\n",
       "                    if (nbb_cells[i].input_prompt_number == nbb_cell_id) {\n",
       "                        if (nbb_cells[i].get_text() == nbb_unformatted_code) {\n",
       "                             nbb_cells[i].set_text(nbb_formatted_code);\n",
       "                        }\n",
       "                        break;\n",
       "                    }\n",
       "                }\n",
       "            }, 500);\n",
       "            "
      ],
      "text/plain": [
       "<IPython.core.display.Javascript object>"
      ]
     },
     "metadata": {},
     "output_type": "display_data"
    }
   ],
   "source": [
    "label_pred_o = model_o.predict(img_test_scale)\n",
    "print(\"Accuracy:\", accuracy_score(label_test, label_pred_o) * 100, \"%\")"
   ]
  },
  {
   "cell_type": "code",
   "execution_count": null,
   "id": "ca059779",
   "metadata": {},
   "outputs": [],
   "source": []
  },
  {
   "cell_type": "markdown",
   "id": "021f051e",
   "metadata": {},
   "source": [
    "### áp dụng PCA để tăng tốc độ"
   ]
  },
  {
   "cell_type": "code",
   "execution_count": 55,
   "id": "3809b549",
   "metadata": {},
   "outputs": [
    {
     "data": {
      "application/javascript": [
       "\n",
       "            setTimeout(function() {\n",
       "                var nbb_cell_id = 55;\n",
       "                var nbb_unformatted_code = \"# \\u00e1p d\\u1ee5ng PCA \\u0111\\u1ec3 t\\u0103ng t\\u1ed1c \\u0111\\u1ed9\\npca = PCA(n_components=0.95).fit(img_train_scale)  # gi\\u1eef l\\u1ea1i 95% th\\u00f4ng tin c\\u1ee7a b\\u1ed9 d\\u1eef li\\u1ec7u\";\n",
       "                var nbb_formatted_code = \"# \\u00e1p d\\u1ee5ng PCA \\u0111\\u1ec3 t\\u0103ng t\\u1ed1c \\u0111\\u1ed9\\npca = PCA(n_components=0.95).fit(\\n    img_train_scale\\n)  # gi\\u1eef l\\u1ea1i 95% th\\u00f4ng tin c\\u1ee7a b\\u1ed9 d\\u1eef li\\u1ec7u\";\n",
       "                var nbb_cells = Jupyter.notebook.get_cells();\n",
       "                for (var i = 0; i < nbb_cells.length; ++i) {\n",
       "                    if (nbb_cells[i].input_prompt_number == nbb_cell_id) {\n",
       "                        if (nbb_cells[i].get_text() == nbb_unformatted_code) {\n",
       "                             nbb_cells[i].set_text(nbb_formatted_code);\n",
       "                        }\n",
       "                        break;\n",
       "                    }\n",
       "                }\n",
       "            }, 500);\n",
       "            "
      ],
      "text/plain": [
       "<IPython.core.display.Javascript object>"
      ]
     },
     "metadata": {},
     "output_type": "display_data"
    }
   ],
   "source": [
    "# áp dụng PCA để tăng tốc độ\n",
    "pca = PCA(n_components=0.95).fit(\n",
    "    img_train_scale\n",
    ")  # giữ lại 95% thông tin của bộ dữ liệu"
   ]
  },
  {
   "cell_type": "code",
   "execution_count": 56,
   "id": "d099981f",
   "metadata": {},
   "outputs": [
    {
     "data": {
      "text/plain": [
       "327"
      ]
     },
     "execution_count": 56,
     "metadata": {},
     "output_type": "execute_result"
    },
    {
     "data": {
      "application/javascript": [
       "\n",
       "            setTimeout(function() {\n",
       "                var nbb_cell_id = 56;\n",
       "                var nbb_unformatted_code = \"pca.n_components_\";\n",
       "                var nbb_formatted_code = \"pca.n_components_\";\n",
       "                var nbb_cells = Jupyter.notebook.get_cells();\n",
       "                for (var i = 0; i < nbb_cells.length; ++i) {\n",
       "                    if (nbb_cells[i].input_prompt_number == nbb_cell_id) {\n",
       "                        if (nbb_cells[i].get_text() == nbb_unformatted_code) {\n",
       "                             nbb_cells[i].set_text(nbb_formatted_code);\n",
       "                        }\n",
       "                        break;\n",
       "                    }\n",
       "                }\n",
       "            }, 500);\n",
       "            "
      ],
      "text/plain": [
       "<IPython.core.display.Javascript object>"
      ]
     },
     "metadata": {},
     "output_type": "display_data"
    }
   ],
   "source": [
    "pca.n_components_"
   ]
  },
  {
   "cell_type": "code",
   "execution_count": 58,
   "id": "16db9ce5",
   "metadata": {},
   "outputs": [
    {
     "data": {
      "text/plain": [
       "'\\n=> # sau khi giảm còn lại 327 features với 95% thông tin của bộ dữ liệu\\n'"
      ]
     },
     "execution_count": 58,
     "metadata": {},
     "output_type": "execute_result"
    },
    {
     "data": {
      "application/javascript": [
       "\n",
       "            setTimeout(function() {\n",
       "                var nbb_cell_id = 58;\n",
       "                var nbb_unformatted_code = \"'''\\n=> # sau khi gi\\u1ea3m c\\u00f2n l\\u1ea1i 327 features v\\u1edbi 95% th\\u00f4ng tin c\\u1ee7a b\\u1ed9 d\\u1eef li\\u1ec7u\\n'''\";\n",
       "                var nbb_formatted_code = \"\\\"\\\"\\\"\\n=> # sau khi gi\\u1ea3m c\\u00f2n l\\u1ea1i 327 features v\\u1edbi 95% th\\u00f4ng tin c\\u1ee7a b\\u1ed9 d\\u1eef li\\u1ec7u\\n\\\"\\\"\\\"\";\n",
       "                var nbb_cells = Jupyter.notebook.get_cells();\n",
       "                for (var i = 0; i < nbb_cells.length; ++i) {\n",
       "                    if (nbb_cells[i].input_prompt_number == nbb_cell_id) {\n",
       "                        if (nbb_cells[i].get_text() == nbb_unformatted_code) {\n",
       "                             nbb_cells[i].set_text(nbb_formatted_code);\n",
       "                        }\n",
       "                        break;\n",
       "                    }\n",
       "                }\n",
       "            }, 500);\n",
       "            "
      ],
      "text/plain": [
       "<IPython.core.display.Javascript object>"
      ]
     },
     "metadata": {},
     "output_type": "display_data"
    }
   ],
   "source": [
    "\"\"\"\n",
    "=> # sau khi giảm còn lại 327 features với 95% thông tin của bộ dữ liệu\n",
    "\"\"\""
   ]
  },
  {
   "cell_type": "code",
   "execution_count": 59,
   "id": "7d7bee34",
   "metadata": {},
   "outputs": [
    {
     "data": {
      "application/javascript": [
       "\n",
       "            setTimeout(function() {\n",
       "                var nbb_cell_id = 59;\n",
       "                var nbb_unformatted_code = \"# apply k\\u1ebft qu\\u1ea3 v\\u00e0o cho d\\u1eef li\\u1ec7u train v\\u00e0 test\\nimg_train_pca = pca.transform(img_train_scale)\\nimg_test_pca = pca.transform(img_test_scale)\";\n",
       "                var nbb_formatted_code = \"# apply k\\u1ebft qu\\u1ea3 v\\u00e0o cho d\\u1eef li\\u1ec7u train v\\u00e0 test\\nimg_train_pca = pca.transform(img_train_scale)\\nimg_test_pca = pca.transform(img_test_scale)\";\n",
       "                var nbb_cells = Jupyter.notebook.get_cells();\n",
       "                for (var i = 0; i < nbb_cells.length; ++i) {\n",
       "                    if (nbb_cells[i].input_prompt_number == nbb_cell_id) {\n",
       "                        if (nbb_cells[i].get_text() == nbb_unformatted_code) {\n",
       "                             nbb_cells[i].set_text(nbb_formatted_code);\n",
       "                        }\n",
       "                        break;\n",
       "                    }\n",
       "                }\n",
       "            }, 500);\n",
       "            "
      ],
      "text/plain": [
       "<IPython.core.display.Javascript object>"
      ]
     },
     "metadata": {},
     "output_type": "display_data"
    }
   ],
   "source": [
    "# apply kết quả vào cho dữ liệu train và test\n",
    "img_train_pca = pca.transform(img_train_scale)\n",
    "img_test_pca = pca.transform(img_test_scale)"
   ]
  },
  {
   "cell_type": "markdown",
   "id": "d723c21f",
   "metadata": {},
   "source": [
    "### build model với dữ liệu đã giảm chiều"
   ]
  },
  {
   "cell_type": "code",
   "execution_count": 60,
   "id": "43a30770",
   "metadata": {},
   "outputs": [
    {
     "name": "stdout",
     "output_type": "stream",
     "text": [
      "0 days +  137 giây\n"
     ]
    },
    {
     "data": {
      "application/javascript": [
       "\n",
       "            setTimeout(function() {\n",
       "                var nbb_cell_id = 60;\n",
       "                var nbb_unformatted_code = \"start = datetime.now()\\nmodel = SVC(gamma = 0.001, C=100).fit(img_train_pca, label_train)\\nend = datetime.now()\\ndiff = end - start\\nprint(diff.days,'days + ', diff.seconds, 'gi\\u00e2y')\";\n",
       "                var nbb_formatted_code = \"start = datetime.now()\\nmodel = SVC(gamma=0.001, C=100).fit(img_train_pca, label_train)\\nend = datetime.now()\\ndiff = end - start\\nprint(diff.days, \\\"days + \\\", diff.seconds, \\\"gi\\u00e2y\\\")\";\n",
       "                var nbb_cells = Jupyter.notebook.get_cells();\n",
       "                for (var i = 0; i < nbb_cells.length; ++i) {\n",
       "                    if (nbb_cells[i].input_prompt_number == nbb_cell_id) {\n",
       "                        if (nbb_cells[i].get_text() == nbb_unformatted_code) {\n",
       "                             nbb_cells[i].set_text(nbb_formatted_code);\n",
       "                        }\n",
       "                        break;\n",
       "                    }\n",
       "                }\n",
       "            }, 500);\n",
       "            "
      ],
      "text/plain": [
       "<IPython.core.display.Javascript object>"
      ]
     },
     "metadata": {},
     "output_type": "display_data"
    }
   ],
   "source": [
    "start = datetime.now()\n",
    "model = SVC(gamma=0.001, C=100).fit(img_train_pca, label_train)\n",
    "end = datetime.now()\n",
    "diff = end - start\n",
    "print(diff.days, \"days + \", diff.seconds, \"giây\")"
   ]
  },
  {
   "cell_type": "code",
   "execution_count": 61,
   "id": "613ea4a9",
   "metadata": {},
   "outputs": [
    {
     "data": {
      "text/plain": [
       "'\\n=> thời gian nhanh hơn nhiều so với ko sử dụng PCA\\n'"
      ]
     },
     "execution_count": 61,
     "metadata": {},
     "output_type": "execute_result"
    },
    {
     "data": {
      "application/javascript": [
       "\n",
       "            setTimeout(function() {\n",
       "                var nbb_cell_id = 61;\n",
       "                var nbb_unformatted_code = \"'''\\n=> th\\u1eddi gian nhanh h\\u01a1n nhi\\u1ec1u so v\\u1edbi ko s\\u1eed d\\u1ee5ng PCA\\n'''\";\n",
       "                var nbb_formatted_code = \"\\\"\\\"\\\"\\n=> th\\u1eddi gian nhanh h\\u01a1n nhi\\u1ec1u so v\\u1edbi ko s\\u1eed d\\u1ee5ng PCA\\n\\\"\\\"\\\"\";\n",
       "                var nbb_cells = Jupyter.notebook.get_cells();\n",
       "                for (var i = 0; i < nbb_cells.length; ++i) {\n",
       "                    if (nbb_cells[i].input_prompt_number == nbb_cell_id) {\n",
       "                        if (nbb_cells[i].get_text() == nbb_unformatted_code) {\n",
       "                             nbb_cells[i].set_text(nbb_formatted_code);\n",
       "                        }\n",
       "                        break;\n",
       "                    }\n",
       "                }\n",
       "            }, 500);\n",
       "            "
      ],
      "text/plain": [
       "<IPython.core.display.Javascript object>"
      ]
     },
     "metadata": {},
     "output_type": "display_data"
    }
   ],
   "source": [
    "\"\"\"\n",
    "=> thời gian nhanh hơn nhiều so với ko sử dụng PCA\n",
    "\"\"\""
   ]
  },
  {
   "cell_type": "code",
   "execution_count": 63,
   "id": "b35840ab",
   "metadata": {},
   "outputs": [
    {
     "name": "stdout",
     "output_type": "stream",
     "text": [
      "***TRAINIG RESULTS***: \n",
      "==================================================\n",
      "Confusion matrix: \n",
      " [[5907    0    0    0    0    0    0    0    0    0]\n",
      " [   0 6735    0    0    0    0    0    1    0    0]\n",
      " [   0    0 5950    0    0    0    0    0    0    0]\n",
      " [   0    0    0 6128    0    0    0    0    0    0]\n",
      " [   0    0    0    0 5860    0    0    0    0    2]\n",
      " [   0    0    0    0    0 5450    0    0    0    0]\n",
      " [   0    0    0    0    0    0 5887    0    0    0]\n",
      " [   0    0    0    0    0    0    0 6229    0    0]\n",
      " [   0    0    0    0    0    0    0    0 5862    0]\n",
      " [   0    0    0    0    0    0    0    0    0 5989]]\n",
      "Train Accuracy Score: 0.99995\n",
      "Classification Report: \n",
      "               precision    recall  f1-score   support\n",
      "\n",
      "           0       1.00      1.00      1.00      5907\n",
      "           1       1.00      1.00      1.00      6736\n",
      "           2       1.00      1.00      1.00      5950\n",
      "           3       1.00      1.00      1.00      6128\n",
      "           4       1.00      1.00      1.00      5862\n",
      "           5       1.00      1.00      1.00      5450\n",
      "           6       1.00      1.00      1.00      5887\n",
      "           7       1.00      1.00      1.00      6229\n",
      "           8       1.00      1.00      1.00      5862\n",
      "           9       1.00      1.00      1.00      5989\n",
      "\n",
      "    accuracy                           1.00     60000\n",
      "   macro avg       1.00      1.00      1.00     60000\n",
      "weighted avg       1.00      1.00      1.00     60000\n",
      "\n",
      "***TEST RESULTS***: \n",
      "===================================================\n",
      "Test Accuracy: 0.9738\n",
      "Confusion matrix: \n",
      " [[ 985    0    3    1    0    1    4    1    1    0]\n",
      " [   0 1130    4    0    0    0    0    4    2    1]\n",
      " [   4    3 1012    6    2    0    1    8    3    1]\n",
      " [   0    1   17  974    0    4    0    5    9    3]\n",
      " [   1    0    2    0  945    1    1    3    1    8]\n",
      " [   0    0    5    6    1  831   10    3    6    1]\n",
      " [   4    0    1    0    3    5  965    9    2    0]\n",
      " [   0    4    8    1    7    0    0 1037    0    7]\n",
      " [   1    6    4    5    2    5    4    3  928    5]\n",
      " [   2    1    2    5    9    3    0   13    3  931]]\n",
      "Test Accuracy Score: 0.9738\n",
      "Classification Report: \n",
      "               precision    recall  f1-score   support\n",
      "\n",
      "           0       0.99      0.99      0.99       996\n",
      "           1       0.99      0.99      0.99      1141\n",
      "           2       0.96      0.97      0.96      1040\n",
      "           3       0.98      0.96      0.97      1013\n",
      "           4       0.98      0.98      0.98       962\n",
      "           5       0.98      0.96      0.97       863\n",
      "           6       0.98      0.98      0.98       989\n",
      "           7       0.95      0.97      0.96      1064\n",
      "           8       0.97      0.96      0.97       963\n",
      "           9       0.97      0.96      0.97       969\n",
      "\n",
      "    accuracy                           0.97     10000\n",
      "   macro avg       0.97      0.97      0.97     10000\n",
      "weighted avg       0.97      0.97      0.97     10000\n",
      "\n"
     ]
    },
    {
     "data": {
      "application/javascript": [
       "\n",
       "            setTimeout(function() {\n",
       "                var nbb_cell_id = 63;\n",
       "                var nbb_unformatted_code = \"evaluate(model, img_train_pca, img_test_pca, label_train, label_test)\";\n",
       "                var nbb_formatted_code = \"evaluate(model, img_train_pca, img_test_pca, label_train, label_test)\";\n",
       "                var nbb_cells = Jupyter.notebook.get_cells();\n",
       "                for (var i = 0; i < nbb_cells.length; ++i) {\n",
       "                    if (nbb_cells[i].input_prompt_number == nbb_cell_id) {\n",
       "                        if (nbb_cells[i].get_text() == nbb_unformatted_code) {\n",
       "                             nbb_cells[i].set_text(nbb_formatted_code);\n",
       "                        }\n",
       "                        break;\n",
       "                    }\n",
       "                }\n",
       "            }, 500);\n",
       "            "
      ],
      "text/plain": [
       "<IPython.core.display.Javascript object>"
      ]
     },
     "metadata": {},
     "output_type": "display_data"
    }
   ],
   "source": [
    "evaluate(model, img_train_pca, img_test_pca, label_train, label_test)"
   ]
  },
  {
   "cell_type": "code",
   "execution_count": 64,
   "id": "08a0dc0f",
   "metadata": {},
   "outputs": [
    {
     "data": {
      "image/png": "[encoded data removed]",
      "text/plain": [
       "<Figure size 432x432 with 1 Axes>"
      ]
     },
     "metadata": {
      "needs_background": "light"
     },
     "output_type": "display_data"
    },
    {
     "data": {
      "application/javascript": [
       "\n",
       "            setTimeout(function() {\n",
       "                var nbb_cell_id = 64;\n",
       "                var nbb_unformatted_code = \"# tr\\u1ef1c quan k\\u1ebft qu\\u1ea3\\nplt.figure(figsize=(6,6))\\nplt.plot(np.cumsum(pca.explained_variance_ratio_))\\nplt.xlabel('Number of components')\\nplt.ylabel('Cumulative explained variance')\\nplt.show()\";\n",
       "                var nbb_formatted_code = \"# tr\\u1ef1c quan k\\u1ebft qu\\u1ea3\\nplt.figure(figsize=(6, 6))\\nplt.plot(np.cumsum(pca.explained_variance_ratio_))\\nplt.xlabel(\\\"Number of components\\\")\\nplt.ylabel(\\\"Cumulative explained variance\\\")\\nplt.show()\";\n",
       "                var nbb_cells = Jupyter.notebook.get_cells();\n",
       "                for (var i = 0; i < nbb_cells.length; ++i) {\n",
       "                    if (nbb_cells[i].input_prompt_number == nbb_cell_id) {\n",
       "                        if (nbb_cells[i].get_text() == nbb_unformatted_code) {\n",
       "                             nbb_cells[i].set_text(nbb_formatted_code);\n",
       "                        }\n",
       "                        break;\n",
       "                    }\n",
       "                }\n",
       "            }, 500);\n",
       "            "
      ],
      "text/plain": [
       "<IPython.core.display.Javascript object>"
      ]
     },
     "metadata": {},
     "output_type": "display_data"
    }
   ],
   "source": [
    "# trực quan kết quả\n",
    "plt.figure(figsize=(6, 6))\n",
    "plt.plot(np.cumsum(pca.explained_variance_ratio_))\n",
    "plt.xlabel(\"Number of components\")\n",
    "plt.ylabel(\"Cumulative explained variance\")\n",
    "plt.show()"
   ]
  },
  {
   "cell_type": "code",
   "execution_count": 66,
   "id": "96df338f",
   "metadata": {},
   "outputs": [
    {
     "data": {
      "text/plain": [
       "'\\nVới 50 features thì score khoảng 55%\\nvới 327 thì score khoảng 97%\\n'"
      ]
     },
     "execution_count": 66,
     "metadata": {},
     "output_type": "execute_result"
    },
    {
     "data": {
      "application/javascript": [
       "\n",
       "            setTimeout(function() {\n",
       "                var nbb_cell_id = 66;\n",
       "                var nbb_unformatted_code = \"'''\\nV\\u1edbi 50 features th\\u00ec score kho\\u1ea3ng 55%\\nv\\u1edbi 327 th\\u00ec score kho\\u1ea3ng 97%\\n'''\";\n",
       "                var nbb_formatted_code = \"\\\"\\\"\\\"\\nV\\u1edbi 50 features th\\u00ec score kho\\u1ea3ng 55%\\nv\\u1edbi 327 th\\u00ec score kho\\u1ea3ng 97%\\n\\\"\\\"\\\"\";\n",
       "                var nbb_cells = Jupyter.notebook.get_cells();\n",
       "                for (var i = 0; i < nbb_cells.length; ++i) {\n",
       "                    if (nbb_cells[i].input_prompt_number == nbb_cell_id) {\n",
       "                        if (nbb_cells[i].get_text() == nbb_unformatted_code) {\n",
       "                             nbb_cells[i].set_text(nbb_formatted_code);\n",
       "                        }\n",
       "                        break;\n",
       "                    }\n",
       "                }\n",
       "            }, 500);\n",
       "            "
      ],
      "text/plain": [
       "<IPython.core.display.Javascript object>"
      ]
     },
     "metadata": {},
     "output_type": "display_data"
    }
   ],
   "source": [
    "\"\"\"\n",
    "Với 50 features thì score khoảng 55%\n",
    "với 327 thì score khoảng 97%\n",
    "\"\"\""
   ]
  },
  {
   "cell_type": "code",
   "execution_count": 65,
   "id": "43f6514f",
   "metadata": {},
   "outputs": [
    {
     "data": {
      "application/javascript": [
       "\n",
       "            setTimeout(function() {\n",
       "                var nbb_cell_id = 65;\n",
       "                var nbb_unformatted_code = \"# nh\\u1eadn x\\u00e9t: sau khi \\u00e1p d\\u1ee5ng PCA, th\\u1eddi gian hu\\u1ea5n luy\\u1ec7n nhanh h\\u01a1n kh\\u00e1 nhi\\u1ec1u v\\u1edbi 164 gi\\u00e2y\\n# trong khi v\\u1eabn \\u0111\\u1ea3m b\\u1ea3o 95% th\\u00f4ng tin c\\u1ee7a b\\u1ed9 d\\u1eef li\\u1ec7u\";\n",
       "                var nbb_formatted_code = \"# nh\\u1eadn x\\u00e9t: sau khi \\u00e1p d\\u1ee5ng PCA, th\\u1eddi gian hu\\u1ea5n luy\\u1ec7n nhanh h\\u01a1n kh\\u00e1 nhi\\u1ec1u v\\u1edbi 164 gi\\u00e2y\\n# trong khi v\\u1eabn \\u0111\\u1ea3m b\\u1ea3o 95% th\\u00f4ng tin c\\u1ee7a b\\u1ed9 d\\u1eef li\\u1ec7u\";\n",
       "                var nbb_cells = Jupyter.notebook.get_cells();\n",
       "                for (var i = 0; i < nbb_cells.length; ++i) {\n",
       "                    if (nbb_cells[i].input_prompt_number == nbb_cell_id) {\n",
       "                        if (nbb_cells[i].get_text() == nbb_unformatted_code) {\n",
       "                             nbb_cells[i].set_text(nbb_formatted_code);\n",
       "                        }\n",
       "                        break;\n",
       "                    }\n",
       "                }\n",
       "            }, 500);\n",
       "            "
      ],
      "text/plain": [
       "<IPython.core.display.Javascript object>"
      ]
     },
     "metadata": {},
     "output_type": "display_data"
    }
   ],
   "source": [
    "# nhận xét: sau khi áp dụng PCA, thời gian huấn luyện nhanh hơn khá nhiều với 164 giây\n",
    "# trong khi vẫn đảm bảo 95% thông tin của bộ dữ liệu"
   ]
  },
  {
   "cell_type": "code",
   "execution_count": null,
   "id": "58cf6414",
   "metadata": {},
   "outputs": [],
   "source": []
  }
 ],
 "metadata": {
  "kernelspec": {
   "display_name": "Python 3 (ipykernel)",
   "language": "python",
   "name": "python3"
  },
  "language_info": {
   "codemirror_mode": {
    "name": "ipython",
    "version": 3
   },
   "file_extension": ".py",
   "mimetype": "text/x-python",
   "name": "python",
   "nbconvert_exporter": "python",
   "pygments_lexer": "ipython3",
   "version": "3.9.7"
  }
 },
 "nbformat": 4,
 "nbformat_minor": 5
}
