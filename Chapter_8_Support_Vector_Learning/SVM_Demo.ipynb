{
 "cells": [
  {
   "cell_type": "code",
   "execution_count": 95,
   "id": "c622a6c8",
   "metadata": {},
   "outputs": [
    {
     "name": "stdout",
     "output_type": "stream",
     "text": [
      "The nb_black extension is already loaded. To reload it, use:\n",
      "  %reload_ext nb_black\n"
     ]
    },
    {
     "data": {
      "application/javascript": [
       "\n",
       "            setTimeout(function() {\n",
       "                var nbb_cell_id = 95;\n",
       "                var nbb_unformatted_code = \"import numpy as np\\nfrom sklearn import datasets\\nimport matplotlib.pyplot as plt\\nimport seaborn as sns\\nimport pandas as pd\\n\\n%matplotlib inline\\n%matplotlib widget\\n\\n%load_ext nb_black\";\n",
       "                var nbb_formatted_code = \"import numpy as np\\nfrom sklearn import datasets\\nimport matplotlib.pyplot as plt\\nimport seaborn as sns\\nimport pandas as pd\\n\\n%matplotlib inline\\n%matplotlib widget\\n\\n%load_ext nb_black\";\n",
       "                var nbb_cells = Jupyter.notebook.get_cells();\n",
       "                for (var i = 0; i < nbb_cells.length; ++i) {\n",
       "                    if (nbb_cells[i].input_prompt_number == nbb_cell_id) {\n",
       "                        if (nbb_cells[i].get_text() == nbb_unformatted_code) {\n",
       "                             nbb_cells[i].set_text(nbb_formatted_code);\n",
       "                        }\n",
       "                        break;\n",
       "                    }\n",
       "                }\n",
       "            }, 500);\n",
       "            "
      ],
      "text/plain": [
       "<IPython.core.display.Javascript object>"
      ]
     },
     "metadata": {},
     "output_type": "display_data"
    }
   ],
   "source": [
    "import numpy as np\n",
    "from sklearn import datasets\n",
    "import matplotlib.pyplot as plt\n",
    "import seaborn as sns\n",
    "import pandas as pd\n",
    "\n",
    "%matplotlib inline\n",
    "%matplotlib widget\n",
    "\n",
    "%load_ext nb_black"
   ]
  },
  {
   "cell_type": "markdown",
   "id": "8b1bdf46",
   "metadata": {},
   "source": [
    "## SVM  (SVC for Classification)"
   ]
  },
  {
   "cell_type": "code",
   "execution_count": 2,
   "id": "48decb01",
   "metadata": {},
   "outputs": [
    {
     "data": {
      "text/plain": [
       "'\\nNhận diện chữ số viết tay\\n'"
      ]
     },
     "execution_count": 2,
     "metadata": {},
     "output_type": "execute_result"
    },
    {
     "data": {
      "application/javascript": [
       "\n",
       "            setTimeout(function() {\n",
       "                var nbb_cell_id = 2;\n",
       "                var nbb_unformatted_code = \"\\\"\\\"\\\"\\nNh\\u1eadn di\\u1ec7n ch\\u1eef s\\u1ed1 vi\\u1ebft tay\\n\\\"\\\"\\\"\";\n",
       "                var nbb_formatted_code = \"\\\"\\\"\\\"\\nNh\\u1eadn di\\u1ec7n ch\\u1eef s\\u1ed1 vi\\u1ebft tay\\n\\\"\\\"\\\"\";\n",
       "                var nbb_cells = Jupyter.notebook.get_cells();\n",
       "                for (var i = 0; i < nbb_cells.length; ++i) {\n",
       "                    if (nbb_cells[i].input_prompt_number == nbb_cell_id) {\n",
       "                        if (nbb_cells[i].get_text() == nbb_unformatted_code) {\n",
       "                             nbb_cells[i].set_text(nbb_formatted_code);\n",
       "                        }\n",
       "                        break;\n",
       "                    }\n",
       "                }\n",
       "            }, 500);\n",
       "            "
      ],
      "text/plain": [
       "<IPython.core.display.Javascript object>"
      ]
     },
     "metadata": {},
     "output_type": "display_data"
    }
   ],
   "source": [
    "\"\"\"\n",
    "Nhận diện chữ số viết tay\n",
    "\"\"\""
   ]
  },
  {
   "cell_type": "code",
   "execution_count": 3,
   "id": "081e60e3",
   "metadata": {},
   "outputs": [
    {
     "data": {
      "application/javascript": [
       "\n",
       "            setTimeout(function() {\n",
       "                var nbb_cell_id = 3;\n",
       "                var nbb_unformatted_code = \"digits = datasets.load_digits()\";\n",
       "                var nbb_formatted_code = \"digits = datasets.load_digits()\";\n",
       "                var nbb_cells = Jupyter.notebook.get_cells();\n",
       "                for (var i = 0; i < nbb_cells.length; ++i) {\n",
       "                    if (nbb_cells[i].input_prompt_number == nbb_cell_id) {\n",
       "                        if (nbb_cells[i].get_text() == nbb_unformatted_code) {\n",
       "                             nbb_cells[i].set_text(nbb_formatted_code);\n",
       "                        }\n",
       "                        break;\n",
       "                    }\n",
       "                }\n",
       "            }, 500);\n",
       "            "
      ],
      "text/plain": [
       "<IPython.core.display.Javascript object>"
      ]
     },
     "metadata": {},
     "output_type": "display_data"
    }
   ],
   "source": [
    "digits = datasets.load_digits()"
   ]
  },
  {
   "cell_type": "code",
   "execution_count": 12,
   "id": "b43c4ce6",
   "metadata": {},
   "outputs": [
    {
     "data": {
      "application/vnd.jupyter.widget-view+json": {
       "model_id": "189c113863e347ce8ff48ff091f16e09",
       "version_major": 2,
       "version_minor": 0
      },
      "image/png": "[encoded data removed]",
      "text/html": [
       "\n",
       "            <div style=\"display: inline-block;\">\n",
       "                <div class=\"jupyter-widgets widget-label\" style=\"text-align: center;\">\n",
       "                    Figure\n",
       "                </div>\n",
       "                <img src='data:image/png;base64,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' width=720.0/>\n",
       "            </div>\n",
       "        "
      ],
      "text/plain": [
       "Canvas(toolbar=Toolbar(toolitems=[('Home', 'Reset original view', 'home', 'home'), ('Back', 'Back to previous …"
      ]
     },
     "metadata": {},
     "output_type": "display_data"
    },
    {
     "data": {
      "application/javascript": [
       "\n",
       "            setTimeout(function() {\n",
       "                var nbb_cell_id = 12;\n",
       "                var nbb_unformatted_code = \"fig, axes = plt.subplots(10, 10, figsize=(10, 8))\\nfor i, ax in enumerate(axes.flat):\\n    ax.imshow(digits.images[i])\";\n",
       "                var nbb_formatted_code = \"fig, axes = plt.subplots(10, 10, figsize=(10, 8))\\nfor i, ax in enumerate(axes.flat):\\n    ax.imshow(digits.images[i])\";\n",
       "                var nbb_cells = Jupyter.notebook.get_cells();\n",
       "                for (var i = 0; i < nbb_cells.length; ++i) {\n",
       "                    if (nbb_cells[i].input_prompt_number == nbb_cell_id) {\n",
       "                        if (nbb_cells[i].get_text() == nbb_unformatted_code) {\n",
       "                             nbb_cells[i].set_text(nbb_formatted_code);\n",
       "                        }\n",
       "                        break;\n",
       "                    }\n",
       "                }\n",
       "            }, 500);\n",
       "            "
      ],
      "text/plain": [
       "<IPython.core.display.Javascript object>"
      ]
     },
     "metadata": {},
     "output_type": "display_data"
    }
   ],
   "source": [
    "fig, axes = plt.subplots(10, 10, figsize=(10, 8))\n",
    "for i, ax in enumerate(axes.flat):\n",
    "    ax.imshow(digits.images[i])\n"
   ]
  },
  {
   "cell_type": "code",
   "execution_count": 4,
   "id": "96d21f7c",
   "metadata": {},
   "outputs": [
    {
     "data": {
      "text/plain": [
       "(1797, 64)"
      ]
     },
     "execution_count": 4,
     "metadata": {},
     "output_type": "execute_result"
    },
    {
     "data": {
      "application/javascript": [
       "\n",
       "            setTimeout(function() {\n",
       "                var nbb_cell_id = 4;\n",
       "                var nbb_unformatted_code = \"digits.data.shape\";\n",
       "                var nbb_formatted_code = \"digits.data.shape\";\n",
       "                var nbb_cells = Jupyter.notebook.get_cells();\n",
       "                for (var i = 0; i < nbb_cells.length; ++i) {\n",
       "                    if (nbb_cells[i].input_prompt_number == nbb_cell_id) {\n",
       "                        if (nbb_cells[i].get_text() == nbb_unformatted_code) {\n",
       "                             nbb_cells[i].set_text(nbb_formatted_code);\n",
       "                        }\n",
       "                        break;\n",
       "                    }\n",
       "                }\n",
       "            }, 500);\n",
       "            "
      ],
      "text/plain": [
       "<IPython.core.display.Javascript object>"
      ]
     },
     "metadata": {},
     "output_type": "display_data"
    }
   ],
   "source": [
    "digits.data.shape"
   ]
  },
  {
   "cell_type": "code",
   "execution_count": 5,
   "id": "b05832d0",
   "metadata": {},
   "outputs": [
    {
     "data": {
      "text/plain": [
       "'\\ncó 1797 sample (hình), mỗi hình có 8x8 = 64 pixels\\n'"
      ]
     },
     "execution_count": 5,
     "metadata": {},
     "output_type": "execute_result"
    },
    {
     "data": {
      "application/javascript": [
       "\n",
       "            setTimeout(function() {\n",
       "                var nbb_cell_id = 5;\n",
       "                var nbb_unformatted_code = \"\\\"\\\"\\\"\\nc\\u00f3 1797 sample (h\\u00ecnh), m\\u1ed7i h\\u00ecnh c\\u00f3 8x8 = 64 pixels\\n\\\"\\\"\\\"\";\n",
       "                var nbb_formatted_code = \"\\\"\\\"\\\"\\nc\\u00f3 1797 sample (h\\u00ecnh), m\\u1ed7i h\\u00ecnh c\\u00f3 8x8 = 64 pixels\\n\\\"\\\"\\\"\";\n",
       "                var nbb_cells = Jupyter.notebook.get_cells();\n",
       "                for (var i = 0; i < nbb_cells.length; ++i) {\n",
       "                    if (nbb_cells[i].input_prompt_number == nbb_cell_id) {\n",
       "                        if (nbb_cells[i].get_text() == nbb_unformatted_code) {\n",
       "                             nbb_cells[i].set_text(nbb_formatted_code);\n",
       "                        }\n",
       "                        break;\n",
       "                    }\n",
       "                }\n",
       "            }, 500);\n",
       "            "
      ],
      "text/plain": [
       "<IPython.core.display.Javascript object>"
      ]
     },
     "metadata": {},
     "output_type": "display_data"
    }
   ],
   "source": [
    "\"\"\"\n",
    "có 1797 sample (hình), mỗi hình có 8x8 = 64 pixels\n",
    "\"\"\""
   ]
  },
  {
   "cell_type": "code",
   "execution_count": 6,
   "id": "06e98112",
   "metadata": {},
   "outputs": [
    {
     "data": {
      "text/plain": [
       "array([ 0.,  0.,  5., 13.,  9.,  1.,  0.,  0.,  0.,  0., 13., 15., 10.,\n",
       "       15.,  5.,  0.,  0.,  3., 15.,  2.,  0., 11.,  8.,  0.,  0.,  4.,\n",
       "       12.,  0.,  0.,  8.,  8.,  0.,  0.,  5.,  8.,  0.,  0.,  9.,  8.,\n",
       "        0.,  0.,  4., 11.,  0.,  1., 12.,  7.,  0.,  0.,  2., 14.,  5.,\n",
       "       10., 12.,  0.,  0.,  0.,  0.,  6., 13., 10.,  0.,  0.,  0.])"
      ]
     },
     "execution_count": 6,
     "metadata": {},
     "output_type": "execute_result"
    },
    {
     "data": {
      "application/javascript": [
       "\n",
       "            setTimeout(function() {\n",
       "                var nbb_cell_id = 6;\n",
       "                var nbb_unformatted_code = \"img1 = digits.data[0]\\nimg1\";\n",
       "                var nbb_formatted_code = \"img1 = digits.data[0]\\nimg1\";\n",
       "                var nbb_cells = Jupyter.notebook.get_cells();\n",
       "                for (var i = 0; i < nbb_cells.length; ++i) {\n",
       "                    if (nbb_cells[i].input_prompt_number == nbb_cell_id) {\n",
       "                        if (nbb_cells[i].get_text() == nbb_unformatted_code) {\n",
       "                             nbb_cells[i].set_text(nbb_formatted_code);\n",
       "                        }\n",
       "                        break;\n",
       "                    }\n",
       "                }\n",
       "            }, 500);\n",
       "            "
      ],
      "text/plain": [
       "<IPython.core.display.Javascript object>"
      ]
     },
     "metadata": {},
     "output_type": "display_data"
    }
   ],
   "source": [
    "img1 = digits.data[0]\n",
    "img1"
   ]
  },
  {
   "cell_type": "code",
   "execution_count": 13,
   "id": "e7974246",
   "metadata": {},
   "outputs": [
    {
     "data": {
      "text/plain": [
       "array([0, 1, 2, ..., 8, 9, 8])"
      ]
     },
     "execution_count": 13,
     "metadata": {},
     "output_type": "execute_result"
    },
    {
     "data": {
      "application/javascript": [
       "\n",
       "            setTimeout(function() {\n",
       "                var nbb_cell_id = 13;\n",
       "                var nbb_unformatted_code = \"digits.target\";\n",
       "                var nbb_formatted_code = \"digits.target\";\n",
       "                var nbb_cells = Jupyter.notebook.get_cells();\n",
       "                for (var i = 0; i < nbb_cells.length; ++i) {\n",
       "                    if (nbb_cells[i].input_prompt_number == nbb_cell_id) {\n",
       "                        if (nbb_cells[i].get_text() == nbb_unformatted_code) {\n",
       "                             nbb_cells[i].set_text(nbb_formatted_code);\n",
       "                        }\n",
       "                        break;\n",
       "                    }\n",
       "                }\n",
       "            }, 500);\n",
       "            "
      ],
      "text/plain": [
       "<IPython.core.display.Javascript object>"
      ]
     },
     "metadata": {},
     "output_type": "display_data"
    }
   ],
   "source": [
    "digits.target"
   ]
  },
  {
   "cell_type": "code",
   "execution_count": 16,
   "id": "f4a30ea0",
   "metadata": {},
   "outputs": [
    {
     "name": "stdout",
     "output_type": "stream",
     "text": [
      ".. _digits_dataset:\n",
      "\n",
      "Optical recognition of handwritten digits dataset\n",
      "--------------------------------------------------\n",
      "\n",
      "**Data Set Characteristics:**\n",
      "\n",
      "    :Number of Instances: 1797\n",
      "    :Number of Attributes: 64\n",
      "    :Attribute Information: 8x8 image of integer pixels in the range 0..16.\n",
      "    :Missing Attribute Values: None\n",
      "    :Creator: E. Alpaydin (alpaydin '@' boun.edu.tr)\n",
      "    :Date: July; 1998\n",
      "\n",
      "This is a copy of the test set of the UCI ML hand-written digits datasets\n",
      "https://archive.ics.uci.edu/ml/datasets/Optical+Recognition+of+Handwritten+Digits\n",
      "\n",
      "The data set contains images of hand-written digits: 10 classes where\n",
      "each class refers to a digit.\n",
      "\n",
      "Preprocessing programs made available by NIST were used to extract\n",
      "normalized bitmaps of handwritten digits from a preprinted form. From a\n",
      "total of 43 people, 30 contributed to the training set and different 13\n",
      "to the test set. 32x32 bitmaps are divided into nonoverlapping blocks of\n",
      "4x4 and the number of on pixels are counted in each block. This generates\n",
      "an input matrix of 8x8 where each element is an integer in the range\n",
      "0..16. This reduces dimensionality and gives invariance to small\n",
      "distortions.\n",
      "\n",
      "For info on NIST preprocessing routines, see M. D. Garris, J. L. Blue, G.\n",
      "T. Candela, D. L. Dimmick, J. Geist, P. J. Grother, S. A. Janet, and C.\n",
      "L. Wilson, NIST Form-Based Handprint Recognition System, NISTIR 5469,\n",
      "1994.\n",
      "\n",
      ".. topic:: References\n",
      "\n",
      "  - C. Kaynak (1995) Methods of Combining Multiple Classifiers and Their\n",
      "    Applications to Handwritten Digit Recognition, MSc Thesis, Institute of\n",
      "    Graduate Studies in Science and Engineering, Bogazici University.\n",
      "  - E. Alpaydin, C. Kaynak (1998) Cascading Classifiers, Kybernetika.\n",
      "  - Ken Tang and Ponnuthurai N. Suganthan and Xi Yao and A. Kai Qin.\n",
      "    Linear dimensionalityreduction using relevance weighted LDA. School of\n",
      "    Electrical and Electronic Engineering Nanyang Technological University.\n",
      "    2005.\n",
      "  - Claudio Gentile. A New Approximate Maximal Margin Classification\n",
      "    Algorithm. NIPS. 2000.\n",
      "\n"
     ]
    },
    {
     "data": {
      "application/javascript": [
       "\n",
       "            setTimeout(function() {\n",
       "                var nbb_cell_id = 16;\n",
       "                var nbb_unformatted_code = \"print(digits.DESCR)\";\n",
       "                var nbb_formatted_code = \"print(digits.DESCR)\";\n",
       "                var nbb_cells = Jupyter.notebook.get_cells();\n",
       "                for (var i = 0; i < nbb_cells.length; ++i) {\n",
       "                    if (nbb_cells[i].input_prompt_number == nbb_cell_id) {\n",
       "                        if (nbb_cells[i].get_text() == nbb_unformatted_code) {\n",
       "                             nbb_cells[i].set_text(nbb_formatted_code);\n",
       "                        }\n",
       "                        break;\n",
       "                    }\n",
       "                }\n",
       "            }, 500);\n",
       "            "
      ],
      "text/plain": [
       "<IPython.core.display.Javascript object>"
      ]
     },
     "metadata": {},
     "output_type": "display_data"
    }
   ],
   "source": [
    "print(digits.DESCR)"
   ]
  },
  {
   "cell_type": "code",
   "execution_count": 17,
   "id": "7a1f7661",
   "metadata": {},
   "outputs": [
    {
     "data": {
      "application/javascript": [
       "\n",
       "            setTimeout(function() {\n",
       "                var nbb_cell_id = 17;\n",
       "                var nbb_unformatted_code = \"X = digits.data\\ny = digits.target\";\n",
       "                var nbb_formatted_code = \"X = digits.data\\ny = digits.target\";\n",
       "                var nbb_cells = Jupyter.notebook.get_cells();\n",
       "                for (var i = 0; i < nbb_cells.length; ++i) {\n",
       "                    if (nbb_cells[i].input_prompt_number == nbb_cell_id) {\n",
       "                        if (nbb_cells[i].get_text() == nbb_unformatted_code) {\n",
       "                             nbb_cells[i].set_text(nbb_formatted_code);\n",
       "                        }\n",
       "                        break;\n",
       "                    }\n",
       "                }\n",
       "            }, 500);\n",
       "            "
      ],
      "text/plain": [
       "<IPython.core.display.Javascript object>"
      ]
     },
     "metadata": {},
     "output_type": "display_data"
    }
   ],
   "source": [
    "X = digits.data\n",
    "y = digits.target"
   ]
  },
  {
   "cell_type": "code",
   "execution_count": 19,
   "id": "567f198e",
   "metadata": {},
   "outputs": [
    {
     "data": {
      "application/javascript": [
       "\n",
       "            setTimeout(function() {\n",
       "                var nbb_cell_id = 19;\n",
       "                var nbb_unformatted_code = \"from sklearn.model_selection import train_test_split\\nfrom sklearn.svm import SVC\";\n",
       "                var nbb_formatted_code = \"from sklearn.model_selection import train_test_split\\nfrom sklearn.svm import SVC\";\n",
       "                var nbb_cells = Jupyter.notebook.get_cells();\n",
       "                for (var i = 0; i < nbb_cells.length; ++i) {\n",
       "                    if (nbb_cells[i].input_prompt_number == nbb_cell_id) {\n",
       "                        if (nbb_cells[i].get_text() == nbb_unformatted_code) {\n",
       "                             nbb_cells[i].set_text(nbb_formatted_code);\n",
       "                        }\n",
       "                        break;\n",
       "                    }\n",
       "                }\n",
       "            }, 500);\n",
       "            "
      ],
      "text/plain": [
       "<IPython.core.display.Javascript object>"
      ]
     },
     "metadata": {},
     "output_type": "display_data"
    }
   ],
   "source": [
    "from sklearn.model_selection import train_test_split\n",
    "from sklearn.svm import SVC"
   ]
  },
  {
   "cell_type": "code",
   "execution_count": 79,
   "id": "12395e63",
   "metadata": {},
   "outputs": [
    {
     "data": {
      "application/javascript": [
       "\n",
       "            setTimeout(function() {\n",
       "                var nbb_cell_id = 79;\n",
       "                var nbb_unformatted_code = \"X_train, X_test, y_train, y_test = train_test_split(\\n    X, y, test_size=0.2, random_state=42\\n)\";\n",
       "                var nbb_formatted_code = \"X_train, X_test, y_train, y_test = train_test_split(\\n    X, y, test_size=0.2, random_state=42\\n)\";\n",
       "                var nbb_cells = Jupyter.notebook.get_cells();\n",
       "                for (var i = 0; i < nbb_cells.length; ++i) {\n",
       "                    if (nbb_cells[i].input_prompt_number == nbb_cell_id) {\n",
       "                        if (nbb_cells[i].get_text() == nbb_unformatted_code) {\n",
       "                             nbb_cells[i].set_text(nbb_formatted_code);\n",
       "                        }\n",
       "                        break;\n",
       "                    }\n",
       "                }\n",
       "            }, 500);\n",
       "            "
      ],
      "text/plain": [
       "<IPython.core.display.Javascript object>"
      ]
     },
     "metadata": {},
     "output_type": "display_data"
    }
   ],
   "source": [
    "X_train, X_test, y_train, y_test = train_test_split(\n",
    "    X, y, test_size=0.2, random_state=42\n",
    ")"
   ]
  },
  {
   "cell_type": "code",
   "execution_count": 80,
   "id": "665fdaa8",
   "metadata": {},
   "outputs": [
    {
     "data": {
      "text/plain": [
       "SVC(C=100, gamma=0.01)"
      ]
     },
     "execution_count": 80,
     "metadata": {},
     "output_type": "execute_result"
    },
    {
     "data": {
      "application/javascript": [
       "\n",
       "            setTimeout(function() {\n",
       "                var nbb_cell_id = 80;\n",
       "                var nbb_unformatted_code = \"# kh\\u1edfi t\\u1ea1o v\\u00e0 hu\\u1ea5n luy\\u1ec7n model\\n\\n# m\\u1eb7c \\u0111\\u1ecbnh c = 1, c c\\u00e0ng nh\\u1ecf th\\u00ec 'con \\u0111\\u01b0\\u1eddng' c\\u00e0ng r\\u1ed9ng\\n# gamma l\\u00e0 tham s\\u1ed1 t\\u00f9y ch\\u1ec9nh, 0<=gamma<=1; gamma c\\u00e0ng nh\\u1ecf th\\u00ec \\u0111\\u1ed9 ch\\u00ednh x\\u00e1c model c\\u00e0ng cao\\n# n\\u1ebfu model b\\u1ecb overfitting th\\u00ec n\\u00ean cho gamma l\\u1edbn h\\u01a1n \\u0111\\u1ec3 ch\\u1ec9nh s\\u1eeda l\\u1ea1i model\\n\\n# c v\\u00e0 gamma l\\u00e0 tham s\\u1ed1 t\\u00f9y ch\\u1ec9nh \\u0111\\u1ec3 model ho\\u1ea1t \\u0111\\u1ed9ng t\\u1ed1t h\\u01a1n\\nmodel = SVC(C=100, gamma=0.01).fit(X_train, y_train)\\nmodel\";\n",
       "                var nbb_formatted_code = \"# kh\\u1edfi t\\u1ea1o v\\u00e0 hu\\u1ea5n luy\\u1ec7n model\\n\\n# m\\u1eb7c \\u0111\\u1ecbnh c = 1, c c\\u00e0ng nh\\u1ecf th\\u00ec 'con \\u0111\\u01b0\\u1eddng' c\\u00e0ng r\\u1ed9ng\\n# gamma l\\u00e0 tham s\\u1ed1 t\\u00f9y ch\\u1ec9nh, 0<=gamma<=1; gamma c\\u00e0ng nh\\u1ecf th\\u00ec \\u0111\\u1ed9 ch\\u00ednh x\\u00e1c model c\\u00e0ng cao\\n# n\\u1ebfu model b\\u1ecb overfitting th\\u00ec n\\u00ean cho gamma l\\u1edbn h\\u01a1n \\u0111\\u1ec3 ch\\u1ec9nh s\\u1eeda l\\u1ea1i model\\n\\n# c v\\u00e0 gamma l\\u00e0 tham s\\u1ed1 t\\u00f9y ch\\u1ec9nh \\u0111\\u1ec3 model ho\\u1ea1t \\u0111\\u1ed9ng t\\u1ed1t h\\u01a1n\\nmodel = SVC(C=100, gamma=0.01).fit(X_train, y_train)\\nmodel\";\n",
       "                var nbb_cells = Jupyter.notebook.get_cells();\n",
       "                for (var i = 0; i < nbb_cells.length; ++i) {\n",
       "                    if (nbb_cells[i].input_prompt_number == nbb_cell_id) {\n",
       "                        if (nbb_cells[i].get_text() == nbb_unformatted_code) {\n",
       "                             nbb_cells[i].set_text(nbb_formatted_code);\n",
       "                        }\n",
       "                        break;\n",
       "                    }\n",
       "                }\n",
       "            }, 500);\n",
       "            "
      ],
      "text/plain": [
       "<IPython.core.display.Javascript object>"
      ]
     },
     "metadata": {},
     "output_type": "display_data"
    }
   ],
   "source": [
    "# khởi tạo và huấn luyện model\n",
    "\n",
    "# mặc định c = 1, c càng nhỏ thì 'con đường' càng rộng\n",
    "# gamma là tham số tùy chỉnh, 0<=gamma<=1; gamma càng nhỏ thì độ chính xác model càng cao\n",
    "# nếu model bị overfitting thì nên cho gamma lớn hơn để chỉnh sửa lại model\n",
    "\n",
    "# c và gamma là tham số tùy chỉnh để model hoạt động tốt hơn\n",
    "model = SVC(C=100, gamma=0.01).fit(X_train, y_train)\n",
    "model"
   ]
  },
  {
   "cell_type": "code",
   "execution_count": 81,
   "id": "58a91f4c",
   "metadata": {},
   "outputs": [
    {
     "data": {
      "text/plain": [
       "SVC(C=100, gamma=0.001)"
      ]
     },
     "execution_count": 81,
     "metadata": {},
     "output_type": "execute_result"
    },
    {
     "data": {
      "application/javascript": [
       "\n",
       "            setTimeout(function() {\n",
       "                var nbb_cell_id = 81;\n",
       "                var nbb_unformatted_code = \"model2 = SVC(C=100, gamma=0.001).fit(X_train, y_train)\\nmodel2\";\n",
       "                var nbb_formatted_code = \"model2 = SVC(C=100, gamma=0.001).fit(X_train, y_train)\\nmodel2\";\n",
       "                var nbb_cells = Jupyter.notebook.get_cells();\n",
       "                for (var i = 0; i < nbb_cells.length; ++i) {\n",
       "                    if (nbb_cells[i].input_prompt_number == nbb_cell_id) {\n",
       "                        if (nbb_cells[i].get_text() == nbb_unformatted_code) {\n",
       "                             nbb_cells[i].set_text(nbb_formatted_code);\n",
       "                        }\n",
       "                        break;\n",
       "                    }\n",
       "                }\n",
       "            }, 500);\n",
       "            "
      ],
      "text/plain": [
       "<IPython.core.display.Javascript object>"
      ]
     },
     "metadata": {},
     "output_type": "display_data"
    }
   ],
   "source": [
    "model2 = SVC(C=100, gamma=0.001).fit(X_train, y_train)\n",
    "model2"
   ]
  },
  {
   "cell_type": "code",
   "execution_count": 82,
   "id": "6bc720e5",
   "metadata": {},
   "outputs": [
    {
     "data": {
      "text/plain": [
       "SVC()"
      ]
     },
     "execution_count": 82,
     "metadata": {},
     "output_type": "execute_result"
    },
    {
     "data": {
      "application/javascript": [
       "\n",
       "            setTimeout(function() {\n",
       "                var nbb_cell_id = 82;\n",
       "                var nbb_unformatted_code = \"# model 3 d\\u00f9ng tham s\\u1ed1 m\\u1eb7c \\u0111\\u1ecbnh\\nmodel3 = SVC().fit(X_train, y_train)\\nmodel3\";\n",
       "                var nbb_formatted_code = \"# model 3 d\\u00f9ng tham s\\u1ed1 m\\u1eb7c \\u0111\\u1ecbnh\\nmodel3 = SVC().fit(X_train, y_train)\\nmodel3\";\n",
       "                var nbb_cells = Jupyter.notebook.get_cells();\n",
       "                for (var i = 0; i < nbb_cells.length; ++i) {\n",
       "                    if (nbb_cells[i].input_prompt_number == nbb_cell_id) {\n",
       "                        if (nbb_cells[i].get_text() == nbb_unformatted_code) {\n",
       "                             nbb_cells[i].set_text(nbb_formatted_code);\n",
       "                        }\n",
       "                        break;\n",
       "                    }\n",
       "                }\n",
       "            }, 500);\n",
       "            "
      ],
      "text/plain": [
       "<IPython.core.display.Javascript object>"
      ]
     },
     "metadata": {},
     "output_type": "display_data"
    }
   ],
   "source": [
    "# model 3 dùng tham số mặc định\n",
    "model3 = SVC().fit(X_train, y_train)\n",
    "model3"
   ]
  },
  {
   "cell_type": "markdown",
   "id": "b57d412b",
   "metadata": {},
   "source": [
    "### Đo độ chính xác của model"
   ]
  },
  {
   "cell_type": "code",
   "execution_count": 83,
   "id": "e408d087",
   "metadata": {},
   "outputs": [
    {
     "data": {
      "application/javascript": [
       "\n",
       "            setTimeout(function() {\n",
       "                var nbb_cell_id = 83;\n",
       "                var nbb_unformatted_code = \"yhat_test = model.predict(X_test)\\nyhat_train = model.predict(X_train)\\n\\nyhat_test2 = model2.predict(X_test)\\nyhat_train2 = model2.predict(X_train)\\n\\nyhat_test3 = model3.predict(X_test)\\nyhat_train3 = model3.predict(X_train)\";\n",
       "                var nbb_formatted_code = \"yhat_test = model.predict(X_test)\\nyhat_train = model.predict(X_train)\\n\\nyhat_test2 = model2.predict(X_test)\\nyhat_train2 = model2.predict(X_train)\\n\\nyhat_test3 = model3.predict(X_test)\\nyhat_train3 = model3.predict(X_train)\";\n",
       "                var nbb_cells = Jupyter.notebook.get_cells();\n",
       "                for (var i = 0; i < nbb_cells.length; ++i) {\n",
       "                    if (nbb_cells[i].input_prompt_number == nbb_cell_id) {\n",
       "                        if (nbb_cells[i].get_text() == nbb_unformatted_code) {\n",
       "                             nbb_cells[i].set_text(nbb_formatted_code);\n",
       "                        }\n",
       "                        break;\n",
       "                    }\n",
       "                }\n",
       "            }, 500);\n",
       "            "
      ],
      "text/plain": [
       "<IPython.core.display.Javascript object>"
      ]
     },
     "metadata": {},
     "output_type": "display_data"
    }
   ],
   "source": [
    "yhat_test = model.predict(X_test)\n",
    "yhat_train = model.predict(X_train)\n",
    "\n",
    "yhat_test2 = model2.predict(X_test)\n",
    "yhat_train2 = model2.predict(X_train)\n",
    "\n",
    "yhat_test3 = model3.predict(X_test)\n",
    "yhat_train3 = model3.predict(X_train)"
   ]
  },
  {
   "cell_type": "code",
   "execution_count": 84,
   "id": "06659778",
   "metadata": {},
   "outputs": [
    {
     "name": "stdout",
     "output_type": "stream",
     "text": [
      "Test Accuracy score: 81.38888888888889 %\n",
      "Train Accuracy score: 100.0 %\n"
     ]
    },
    {
     "data": {
      "application/javascript": [
       "\n",
       "            setTimeout(function() {\n",
       "                var nbb_cell_id = 84;\n",
       "                var nbb_unformatted_code = \"from sklearn.metrics import accuracy_score\\n\\nprint(\\n    \\\"Test Accuracy score:\\\", accuracy_score(y_true=y_test, y_pred=yhat_test) * 100, \\\"%\\\"\\n)\\nprint(\\n    \\\"Train Accuracy score:\\\",\\n    accuracy_score(y_true=y_train, y_pred=yhat_train) * 100,\\n    \\\"%\\\",\\n)\";\n",
       "                var nbb_formatted_code = \"from sklearn.metrics import accuracy_score\\n\\nprint(\\n    \\\"Test Accuracy score:\\\", accuracy_score(y_true=y_test, y_pred=yhat_test) * 100, \\\"%\\\"\\n)\\nprint(\\n    \\\"Train Accuracy score:\\\",\\n    accuracy_score(y_true=y_train, y_pred=yhat_train) * 100,\\n    \\\"%\\\",\\n)\";\n",
       "                var nbb_cells = Jupyter.notebook.get_cells();\n",
       "                for (var i = 0; i < nbb_cells.length; ++i) {\n",
       "                    if (nbb_cells[i].input_prompt_number == nbb_cell_id) {\n",
       "                        if (nbb_cells[i].get_text() == nbb_unformatted_code) {\n",
       "                             nbb_cells[i].set_text(nbb_formatted_code);\n",
       "                        }\n",
       "                        break;\n",
       "                    }\n",
       "                }\n",
       "            }, 500);\n",
       "            "
      ],
      "text/plain": [
       "<IPython.core.display.Javascript object>"
      ]
     },
     "metadata": {},
     "output_type": "display_data"
    }
   ],
   "source": [
    "from sklearn.metrics import accuracy_score\n",
    "\n",
    "print(\n",
    "    \"Test Accuracy score:\", accuracy_score(y_true=y_test, y_pred=yhat_test) * 100, \"%\"\n",
    ")\n",
    "print(\n",
    "    \"Train Accuracy score:\",\n",
    "    accuracy_score(y_true=y_train, y_pred=yhat_train) * 100,\n",
    "    \"%\",\n",
    ")"
   ]
  },
  {
   "cell_type": "code",
   "execution_count": 85,
   "id": "f19c0da3",
   "metadata": {},
   "outputs": [
    {
     "name": "stdout",
     "output_type": "stream",
     "text": [
      "Test Accuracy score: 98.88888888888889 %\n",
      "Train Accuracy score: 100.0 %\n"
     ]
    },
    {
     "data": {
      "application/javascript": [
       "\n",
       "            setTimeout(function() {\n",
       "                var nbb_cell_id = 85;\n",
       "                var nbb_unformatted_code = \"print(\\n    \\\"Test Accuracy score:\\\", accuracy_score(y_true=y_test, y_pred=yhat_test2) * 100, \\\"%\\\"\\n)\\nprint(\\n    \\\"Train Accuracy score:\\\",\\n    accuracy_score(y_true=y_train, y_pred=yhat_train2) * 100,\\n    \\\"%\\\",\\n)\";\n",
       "                var nbb_formatted_code = \"print(\\n    \\\"Test Accuracy score:\\\", accuracy_score(y_true=y_test, y_pred=yhat_test2) * 100, \\\"%\\\"\\n)\\nprint(\\n    \\\"Train Accuracy score:\\\",\\n    accuracy_score(y_true=y_train, y_pred=yhat_train2) * 100,\\n    \\\"%\\\",\\n)\";\n",
       "                var nbb_cells = Jupyter.notebook.get_cells();\n",
       "                for (var i = 0; i < nbb_cells.length; ++i) {\n",
       "                    if (nbb_cells[i].input_prompt_number == nbb_cell_id) {\n",
       "                        if (nbb_cells[i].get_text() == nbb_unformatted_code) {\n",
       "                             nbb_cells[i].set_text(nbb_formatted_code);\n",
       "                        }\n",
       "                        break;\n",
       "                    }\n",
       "                }\n",
       "            }, 500);\n",
       "            "
      ],
      "text/plain": [
       "<IPython.core.display.Javascript object>"
      ]
     },
     "metadata": {},
     "output_type": "display_data"
    }
   ],
   "source": [
    "print(\n",
    "    \"Test Accuracy score:\", accuracy_score(y_true=y_test, y_pred=yhat_test2) * 100, \"%\"\n",
    ")\n",
    "print(\n",
    "    \"Train Accuracy score:\",\n",
    "    accuracy_score(y_true=y_train, y_pred=yhat_train2) * 100,\n",
    "    \"%\",\n",
    ")"
   ]
  },
  {
   "cell_type": "code",
   "execution_count": 86,
   "id": "83f279d7",
   "metadata": {},
   "outputs": [
    {
     "name": "stdout",
     "output_type": "stream",
     "text": [
      "Test Accuracy score: 98.61111111111111 %\n",
      "Train Accuracy score: 99.65205288796103 %\n"
     ]
    },
    {
     "data": {
      "application/javascript": [
       "\n",
       "            setTimeout(function() {\n",
       "                var nbb_cell_id = 86;\n",
       "                var nbb_unformatted_code = \"print(\\n    \\\"Test Accuracy score:\\\", accuracy_score(y_true=y_test, y_pred=yhat_test3) * 100, \\\"%\\\"\\n)\\nprint(\\n    \\\"Train Accuracy score:\\\",\\n    accuracy_score(y_true=y_train, y_pred=yhat_train3) * 100,\\n    \\\"%\\\",\\n)\";\n",
       "                var nbb_formatted_code = \"print(\\n    \\\"Test Accuracy score:\\\", accuracy_score(y_true=y_test, y_pred=yhat_test3) * 100, \\\"%\\\"\\n)\\nprint(\\n    \\\"Train Accuracy score:\\\",\\n    accuracy_score(y_true=y_train, y_pred=yhat_train3) * 100,\\n    \\\"%\\\",\\n)\";\n",
       "                var nbb_cells = Jupyter.notebook.get_cells();\n",
       "                for (var i = 0; i < nbb_cells.length; ++i) {\n",
       "                    if (nbb_cells[i].input_prompt_number == nbb_cell_id) {\n",
       "                        if (nbb_cells[i].get_text() == nbb_unformatted_code) {\n",
       "                             nbb_cells[i].set_text(nbb_formatted_code);\n",
       "                        }\n",
       "                        break;\n",
       "                    }\n",
       "                }\n",
       "            }, 500);\n",
       "            "
      ],
      "text/plain": [
       "<IPython.core.display.Javascript object>"
      ]
     },
     "metadata": {},
     "output_type": "display_data"
    }
   ],
   "source": [
    "print(\n",
    "    \"Test Accuracy score:\", accuracy_score(y_true=y_test, y_pred=yhat_test3) * 100, \"%\"\n",
    ")\n",
    "print(\n",
    "    \"Train Accuracy score:\",\n",
    "    accuracy_score(y_true=y_train, y_pred=yhat_train3) * 100,\n",
    "    \"%\",\n",
    ")"
   ]
  },
  {
   "cell_type": "code",
   "execution_count": 87,
   "id": "1ab4d25a",
   "metadata": {},
   "outputs": [
    {
     "data": {
      "text/plain": [
       "'\\n=> đọc kết quả tự trải nghiệm nha\\n'"
      ]
     },
     "execution_count": 87,
     "metadata": {},
     "output_type": "execute_result"
    },
    {
     "data": {
      "application/javascript": [
       "\n",
       "            setTimeout(function() {\n",
       "                var nbb_cell_id = 87;\n",
       "                var nbb_unformatted_code = \"\\\"\\\"\\\"\\n=> \\u0111\\u1ecdc k\\u1ebft qu\\u1ea3 t\\u1ef1 tr\\u1ea3i nghi\\u1ec7m nha\\n\\\"\\\"\\\"\";\n",
       "                var nbb_formatted_code = \"\\\"\\\"\\\"\\n=> \\u0111\\u1ecdc k\\u1ebft qu\\u1ea3 t\\u1ef1 tr\\u1ea3i nghi\\u1ec7m nha\\n\\\"\\\"\\\"\";\n",
       "                var nbb_cells = Jupyter.notebook.get_cells();\n",
       "                for (var i = 0; i < nbb_cells.length; ++i) {\n",
       "                    if (nbb_cells[i].input_prompt_number == nbb_cell_id) {\n",
       "                        if (nbb_cells[i].get_text() == nbb_unformatted_code) {\n",
       "                             nbb_cells[i].set_text(nbb_formatted_code);\n",
       "                        }\n",
       "                        break;\n",
       "                    }\n",
       "                }\n",
       "            }, 500);\n",
       "            "
      ],
      "text/plain": [
       "<IPython.core.display.Javascript object>"
      ]
     },
     "metadata": {},
     "output_type": "display_data"
    }
   ],
   "source": [
    "\"\"\"\n",
    "=> đọc kết quả tự trải nghiệm nha\n",
    "\"\"\""
   ]
  },
  {
   "cell_type": "code",
   "execution_count": 88,
   "id": "3c299cbd",
   "metadata": {},
   "outputs": [
    {
     "data": {
      "text/plain": [
       "array([ 0.,  0.,  0., 10., 15.,  0.,  0.,  0.,  0.,  0., 11., 15.,  3.,\n",
       "        0.,  0.,  0.,  0.,  7., 15.,  4.,  0.,  0.,  0.,  0.,  0., 12.,\n",
       "       11.,  1.,  3.,  8.,  2.,  0.,  0.,  4., 12., 15., 15., 16.,  9.,\n",
       "        0.,  0.,  0.,  0.,  8., 16.,  8.,  2.,  0.,  0.,  0.,  0., 10.,\n",
       "       12.,  0.,  0.,  0.,  0.,  0.,  0., 12.,  9.,  0.,  0.,  0.])"
      ]
     },
     "execution_count": 88,
     "metadata": {},
     "output_type": "execute_result"
    },
    {
     "data": {
      "application/javascript": [
       "\n",
       "            setTimeout(function() {\n",
       "                var nbb_cell_id = 88;\n",
       "                var nbb_unformatted_code = \"digits.data[110]\";\n",
       "                var nbb_formatted_code = \"digits.data[110]\";\n",
       "                var nbb_cells = Jupyter.notebook.get_cells();\n",
       "                for (var i = 0; i < nbb_cells.length; ++i) {\n",
       "                    if (nbb_cells[i].input_prompt_number == nbb_cell_id) {\n",
       "                        if (nbb_cells[i].get_text() == nbb_unformatted_code) {\n",
       "                             nbb_cells[i].set_text(nbb_formatted_code);\n",
       "                        }\n",
       "                        break;\n",
       "                    }\n",
       "                }\n",
       "            }, 500);\n",
       "            "
      ],
      "text/plain": [
       "<IPython.core.display.Javascript object>"
      ]
     },
     "metadata": {},
     "output_type": "display_data"
    }
   ],
   "source": [
    "digits.data[110]"
   ]
  },
  {
   "cell_type": "code",
   "execution_count": 89,
   "id": "27f928e4",
   "metadata": {},
   "outputs": [
    {
     "data": {
      "text/plain": [
       "4"
      ]
     },
     "execution_count": 89,
     "metadata": {},
     "output_type": "execute_result"
    },
    {
     "data": {
      "application/javascript": [
       "\n",
       "            setTimeout(function() {\n",
       "                var nbb_cell_id = 89;\n",
       "                var nbb_unformatted_code = \"digits.target[110]\";\n",
       "                var nbb_formatted_code = \"digits.target[110]\";\n",
       "                var nbb_cells = Jupyter.notebook.get_cells();\n",
       "                for (var i = 0; i < nbb_cells.length; ++i) {\n",
       "                    if (nbb_cells[i].input_prompt_number == nbb_cell_id) {\n",
       "                        if (nbb_cells[i].get_text() == nbb_unformatted_code) {\n",
       "                             nbb_cells[i].set_text(nbb_formatted_code);\n",
       "                        }\n",
       "                        break;\n",
       "                    }\n",
       "                }\n",
       "            }, 500);\n",
       "            "
      ],
      "text/plain": [
       "<IPython.core.display.Javascript object>"
      ]
     },
     "metadata": {},
     "output_type": "display_data"
    }
   ],
   "source": [
    "digits.target[110]"
   ]
  },
  {
   "cell_type": "code",
   "execution_count": 90,
   "id": "bafcc41c",
   "metadata": {},
   "outputs": [
    {
     "data": {
      "image/png": "[encoded data removed]",
      "text/plain": [
       "<Figure size 432x288 with 1 Axes>"
      ]
     },
     "metadata": {
      "needs_background": "light"
     },
     "output_type": "display_data"
    },
    {
     "data": {
      "application/javascript": [
       "\n",
       "            setTimeout(function() {\n",
       "                var nbb_cell_id = 90;\n",
       "                var nbb_unformatted_code = \"%matplotlib inline\\n\\nplt.imshow(digits.images[110])\\nplt.show()\";\n",
       "                var nbb_formatted_code = \"%matplotlib inline\\n\\nplt.imshow(digits.images[110])\\nplt.show()\";\n",
       "                var nbb_cells = Jupyter.notebook.get_cells();\n",
       "                for (var i = 0; i < nbb_cells.length; ++i) {\n",
       "                    if (nbb_cells[i].input_prompt_number == nbb_cell_id) {\n",
       "                        if (nbb_cells[i].get_text() == nbb_unformatted_code) {\n",
       "                             nbb_cells[i].set_text(nbb_formatted_code);\n",
       "                        }\n",
       "                        break;\n",
       "                    }\n",
       "                }\n",
       "            }, 500);\n",
       "            "
      ],
      "text/plain": [
       "<IPython.core.display.Javascript object>"
      ]
     },
     "metadata": {},
     "output_type": "display_data"
    }
   ],
   "source": [
    "%matplotlib inline\n",
    "\n",
    "plt.imshow(digits.images[110])\n",
    "plt.show()"
   ]
  },
  {
   "cell_type": "code",
   "execution_count": 91,
   "id": "8146944e",
   "metadata": {},
   "outputs": [
    {
     "data": {
      "text/plain": [
       "(array([4]), array([4]), array([4]))"
      ]
     },
     "execution_count": 91,
     "metadata": {},
     "output_type": "execute_result"
    },
    {
     "data": {
      "application/javascript": [
       "\n",
       "            setTimeout(function() {\n",
       "                var nbb_cell_id = 91;\n",
       "                var nbb_unformatted_code = \"num_predict_model1 = model.predict(np.array([digits.data[100]]))\\nnum_predict_model2 = model2.predict(np.array([digits.data[100]]))\\nnum_predict_model3 = model3.predict(np.array([digits.data[100]]))\\n\\nnum_predict_model1, num_predict_model2, num_predict_model3\";\n",
       "                var nbb_formatted_code = \"num_predict_model1 = model.predict(np.array([digits.data[100]]))\\nnum_predict_model2 = model2.predict(np.array([digits.data[100]]))\\nnum_predict_model3 = model3.predict(np.array([digits.data[100]]))\\n\\nnum_predict_model1, num_predict_model2, num_predict_model3\";\n",
       "                var nbb_cells = Jupyter.notebook.get_cells();\n",
       "                for (var i = 0; i < nbb_cells.length; ++i) {\n",
       "                    if (nbb_cells[i].input_prompt_number == nbb_cell_id) {\n",
       "                        if (nbb_cells[i].get_text() == nbb_unformatted_code) {\n",
       "                             nbb_cells[i].set_text(nbb_formatted_code);\n",
       "                        }\n",
       "                        break;\n",
       "                    }\n",
       "                }\n",
       "            }, 500);\n",
       "            "
      ],
      "text/plain": [
       "<IPython.core.display.Javascript object>"
      ]
     },
     "metadata": {},
     "output_type": "display_data"
    }
   ],
   "source": [
    "num_predict_model1 = model.predict(np.array([digits.data[100]]))\n",
    "num_predict_model2 = model2.predict(np.array([digits.data[100]]))\n",
    "num_predict_model3 = model3.predict(np.array([digits.data[100]]))\n",
    "\n",
    "num_predict_model1, num_predict_model2, num_predict_model3"
   ]
  },
  {
   "cell_type": "code",
   "execution_count": 92,
   "id": "cf5bdf56",
   "metadata": {},
   "outputs": [
    {
     "data": {
      "text/plain": [
       "'\\n=> dự đoán dúng\\n'"
      ]
     },
     "execution_count": 92,
     "metadata": {},
     "output_type": "execute_result"
    },
    {
     "data": {
      "application/javascript": [
       "\n",
       "            setTimeout(function() {\n",
       "                var nbb_cell_id = 92;\n",
       "                var nbb_unformatted_code = \"\\\"\\\"\\\"\\n=> d\\u1ef1 \\u0111o\\u00e1n d\\u00fang\\n\\\"\\\"\\\"\";\n",
       "                var nbb_formatted_code = \"\\\"\\\"\\\"\\n=> d\\u1ef1 \\u0111o\\u00e1n d\\u00fang\\n\\\"\\\"\\\"\";\n",
       "                var nbb_cells = Jupyter.notebook.get_cells();\n",
       "                for (var i = 0; i < nbb_cells.length; ++i) {\n",
       "                    if (nbb_cells[i].input_prompt_number == nbb_cell_id) {\n",
       "                        if (nbb_cells[i].get_text() == nbb_unformatted_code) {\n",
       "                             nbb_cells[i].set_text(nbb_formatted_code);\n",
       "                        }\n",
       "                        break;\n",
       "                    }\n",
       "                }\n",
       "            }, 500);\n",
       "            "
      ],
      "text/plain": [
       "<IPython.core.display.Javascript object>"
      ]
     },
     "metadata": {},
     "output_type": "display_data"
    }
   ],
   "source": [
    "\"\"\"\n",
    "=> dự đoán dúng\n",
    "\"\"\""
   ]
  },
  {
   "cell_type": "code",
   "execution_count": 93,
   "id": "ade48010",
   "metadata": {},
   "outputs": [
    {
     "name": "stdout",
     "output_type": "stream",
     "text": [
      "Confusion matrix\n",
      "[[33  0  0  0  0  0  0  0  0  0]\n",
      " [ 0 28  0  0  0  0  0  0  0  0]\n",
      " [ 0  0 33  0  0  0  0  0  0  0]\n",
      " [ 0  0  0 33  0  1  0  0  0  0]\n",
      " [ 0  0  0  0 46  0  0  0  0  0]\n",
      " [ 0  0  0  0  0 46  1  0  0  0]\n",
      " [ 0  0  0  0  0  0 35  0  0  0]\n",
      " [ 0  0  0  0  0  0  0 33  0  1]\n",
      " [ 0  0  0  0  0  0  0  0 30  0]\n",
      " [ 0  0  0  0  0  0  0  1  0 39]]\n"
     ]
    },
    {
     "data": {
      "application/javascript": [
       "\n",
       "            setTimeout(function() {\n",
       "                var nbb_cell_id = 93;\n",
       "                var nbb_unformatted_code = \"from sklearn.metrics import confusion_matrix, classification_report\\n\\nprint(\\\"Confusion matrix\\\")\\nprint(confusion_matrix(y_test, yhat_test2))\";\n",
       "                var nbb_formatted_code = \"from sklearn.metrics import confusion_matrix, classification_report\\n\\nprint(\\\"Confusion matrix\\\")\\nprint(confusion_matrix(y_test, yhat_test2))\";\n",
       "                var nbb_cells = Jupyter.notebook.get_cells();\n",
       "                for (var i = 0; i < nbb_cells.length; ++i) {\n",
       "                    if (nbb_cells[i].input_prompt_number == nbb_cell_id) {\n",
       "                        if (nbb_cells[i].get_text() == nbb_unformatted_code) {\n",
       "                             nbb_cells[i].set_text(nbb_formatted_code);\n",
       "                        }\n",
       "                        break;\n",
       "                    }\n",
       "                }\n",
       "            }, 500);\n",
       "            "
      ],
      "text/plain": [
       "<IPython.core.display.Javascript object>"
      ]
     },
     "metadata": {},
     "output_type": "display_data"
    }
   ],
   "source": [
    "from sklearn.metrics import confusion_matrix, classification_report\n",
    "\n",
    "print(\"Confusion matrix\")\n",
    "print(confusion_matrix(y_test, yhat_test2))"
   ]
  },
  {
   "cell_type": "code",
   "execution_count": 94,
   "id": "2152c9b4",
   "metadata": {},
   "outputs": [
    {
     "data": {
      "text/plain": [
       "'\\nvd: cột là actual, dòng là predict (ngược lại cũng chả sao)\\nđường chéo chính (dấu huyền) là số là dự đoán đúng, các ô còn lại là dự đoán sai\\n\\nvd: model2: số 9 dự đoán đúng là 39 mẫu, 1 mẫu dự đoán sai (thành số 7)\\n'"
      ]
     },
     "execution_count": 94,
     "metadata": {},
     "output_type": "execute_result"
    },
    {
     "data": {
      "application/javascript": [
       "\n",
       "            setTimeout(function() {\n",
       "                var nbb_cell_id = 94;\n",
       "                var nbb_unformatted_code = \"\\\"\\\"\\\"\\nvd: c\\u1ed9t l\\u00e0 actual, d\\u00f2ng l\\u00e0 predict (ng\\u01b0\\u1ee3c l\\u1ea1i c\\u0169ng ch\\u1ea3 sao)\\n\\u0111\\u01b0\\u1eddng ch\\u00e9o ch\\u00ednh (d\\u1ea5u huy\\u1ec1n) l\\u00e0 s\\u1ed1 l\\u00e0 d\\u1ef1 \\u0111o\\u00e1n \\u0111\\u00fang, c\\u00e1c \\u00f4 c\\u00f2n l\\u1ea1i l\\u00e0 d\\u1ef1 \\u0111o\\u00e1n sai\\n\\nvd: model2: s\\u1ed1 9 d\\u1ef1 \\u0111o\\u00e1n \\u0111\\u00fang l\\u00e0 39 m\\u1eabu, 1 m\\u1eabu d\\u1ef1 \\u0111o\\u00e1n sai (th\\u00e0nh s\\u1ed1 7)\\n\\\"\\\"\\\"\";\n",
       "                var nbb_formatted_code = \"\\\"\\\"\\\"\\nvd: c\\u1ed9t l\\u00e0 actual, d\\u00f2ng l\\u00e0 predict (ng\\u01b0\\u1ee3c l\\u1ea1i c\\u0169ng ch\\u1ea3 sao)\\n\\u0111\\u01b0\\u1eddng ch\\u00e9o ch\\u00ednh (d\\u1ea5u huy\\u1ec1n) l\\u00e0 s\\u1ed1 l\\u00e0 d\\u1ef1 \\u0111o\\u00e1n \\u0111\\u00fang, c\\u00e1c \\u00f4 c\\u00f2n l\\u1ea1i l\\u00e0 d\\u1ef1 \\u0111o\\u00e1n sai\\n\\nvd: model2: s\\u1ed1 9 d\\u1ef1 \\u0111o\\u00e1n \\u0111\\u00fang l\\u00e0 39 m\\u1eabu, 1 m\\u1eabu d\\u1ef1 \\u0111o\\u00e1n sai (th\\u00e0nh s\\u1ed1 7)\\n\\\"\\\"\\\"\";\n",
       "                var nbb_cells = Jupyter.notebook.get_cells();\n",
       "                for (var i = 0; i < nbb_cells.length; ++i) {\n",
       "                    if (nbb_cells[i].input_prompt_number == nbb_cell_id) {\n",
       "                        if (nbb_cells[i].get_text() == nbb_unformatted_code) {\n",
       "                             nbb_cells[i].set_text(nbb_formatted_code);\n",
       "                        }\n",
       "                        break;\n",
       "                    }\n",
       "                }\n",
       "            }, 500);\n",
       "            "
      ],
      "text/plain": [
       "<IPython.core.display.Javascript object>"
      ]
     },
     "metadata": {},
     "output_type": "display_data"
    }
   ],
   "source": [
    "\"\"\"\n",
    "vd: cột là actual, dòng là predict (ngược lại cũng chả sao)\n",
    "đường chéo chính (dấu huyền) là số là dự đoán đúng, các ô còn lại là dự đoán sai\n",
    "\n",
    "vd: model2: số 9 dự đoán đúng là 39 mẫu, 1 mẫu dự đoán sai (thành số 7)\n",
    "\"\"\""
   ]
  },
  {
   "cell_type": "code",
   "execution_count": 78,
   "id": "44cfe571",
   "metadata": {},
   "outputs": [
    {
     "name": "stdout",
     "output_type": "stream",
     "text": [
      "Classification report\n",
      "              precision    recall  f1-score   support\n",
      "\n",
      "           0       1.00      1.00      1.00        39\n",
      "           1       1.00      1.00      1.00        41\n",
      "           2       1.00      1.00      1.00        25\n",
      "           3       0.98      1.00      0.99        45\n",
      "           4       1.00      1.00      1.00        37\n",
      "           5       0.96      1.00      0.98        26\n",
      "           6       1.00      1.00      1.00        41\n",
      "           7       1.00      1.00      1.00        36\n",
      "           8       1.00      1.00      1.00        34\n",
      "           9       1.00      0.94      0.97        36\n",
      "\n",
      "    accuracy                           0.99       360\n",
      "   macro avg       0.99      0.99      0.99       360\n",
      "weighted avg       0.99      0.99      0.99       360\n",
      "\n"
     ]
    },
    {
     "data": {
      "application/javascript": [
       "\n",
       "            setTimeout(function() {\n",
       "                var nbb_cell_id = 78;\n",
       "                var nbb_unformatted_code = \"print(\\\"Classification report\\\")\\nprint(classification_report(y_test, yhat_test2))\";\n",
       "                var nbb_formatted_code = \"print(\\\"Classification report\\\")\\nprint(classification_report(y_test, yhat_test2))\";\n",
       "                var nbb_cells = Jupyter.notebook.get_cells();\n",
       "                for (var i = 0; i < nbb_cells.length; ++i) {\n",
       "                    if (nbb_cells[i].input_prompt_number == nbb_cell_id) {\n",
       "                        if (nbb_cells[i].get_text() == nbb_unformatted_code) {\n",
       "                             nbb_cells[i].set_text(nbb_formatted_code);\n",
       "                        }\n",
       "                        break;\n",
       "                    }\n",
       "                }\n",
       "            }, 500);\n",
       "            "
      ],
      "text/plain": [
       "<IPython.core.display.Javascript object>"
      ]
     },
     "metadata": {},
     "output_type": "display_data"
    }
   ],
   "source": [
    "print(\"Classification report\")\n",
    "print(classification_report(y_test, yhat_test2))"
   ]
  },
  {
   "cell_type": "markdown",
   "id": "9b54f2ab",
   "metadata": {},
   "source": [
    "## SVR  (SVM for Regression)"
   ]
  },
  {
   "cell_type": "code",
   "execution_count": 96,
   "id": "c52e676b",
   "metadata": {},
   "outputs": [
    {
     "data": {
      "text/html": [
       "<div>\n",
       "<style scoped>\n",
       "    .dataframe tbody tr th:only-of-type {\n",
       "        vertical-align: middle;\n",
       "    }\n",
       "\n",
       "    .dataframe tbody tr th {\n",
       "        vertical-align: top;\n",
       "    }\n",
       "\n",
       "    .dataframe thead th {\n",
       "        text-align: right;\n",
       "    }\n",
       "</style>\n",
       "<table border=\"1\" class=\"dataframe\">\n",
       "  <thead>\n",
       "    <tr style=\"text-align: right;\">\n",
       "      <th></th>\n",
       "      <th>x</th>\n",
       "      <th>y</th>\n",
       "    </tr>\n",
       "  </thead>\n",
       "  <tbody>\n",
       "    <tr>\n",
       "      <th>0</th>\n",
       "      <td>0.231357</td>\n",
       "      <td>0.961013</td>\n",
       "    </tr>\n",
       "    <tr>\n",
       "      <th>1</th>\n",
       "      <td>0.352302</td>\n",
       "      <td>0.241554</td>\n",
       "    </tr>\n",
       "    <tr>\n",
       "      <th>2</th>\n",
       "      <td>0.459084</td>\n",
       "      <td>0.258466</td>\n",
       "    </tr>\n",
       "    <tr>\n",
       "      <th>3</th>\n",
       "      <td>0.482941</td>\n",
       "      <td>0.367629</td>\n",
       "    </tr>\n",
       "    <tr>\n",
       "      <th>4</th>\n",
       "      <td>0.580748</td>\n",
       "      <td>0.486156</td>\n",
       "    </tr>\n",
       "  </tbody>\n",
       "</table>\n",
       "</div>"
      ],
      "text/plain": [
       "          x         y\n",
       "0  0.231357  0.961013\n",
       "1  0.352302  0.241554\n",
       "2  0.459084  0.258466\n",
       "3  0.482941  0.367629\n",
       "4  0.580748  0.486156"
      ]
     },
     "execution_count": 96,
     "metadata": {},
     "output_type": "execute_result"
    },
    {
     "data": {
      "application/javascript": [
       "\n",
       "            setTimeout(function() {\n",
       "                var nbb_cell_id = 96;\n",
       "                var nbb_unformatted_code = \"df = pd.read_csv('svr_data.csv')\\ndf.head()\";\n",
       "                var nbb_formatted_code = \"df = pd.read_csv(\\\"svr_data.csv\\\")\\ndf.head()\";\n",
       "                var nbb_cells = Jupyter.notebook.get_cells();\n",
       "                for (var i = 0; i < nbb_cells.length; ++i) {\n",
       "                    if (nbb_cells[i].input_prompt_number == nbb_cell_id) {\n",
       "                        if (nbb_cells[i].get_text() == nbb_unformatted_code) {\n",
       "                             nbb_cells[i].set_text(nbb_formatted_code);\n",
       "                        }\n",
       "                        break;\n",
       "                    }\n",
       "                }\n",
       "            }, 500);\n",
       "            "
      ],
      "text/plain": [
       "<IPython.core.display.Javascript object>"
      ]
     },
     "metadata": {},
     "output_type": "display_data"
    }
   ],
   "source": [
    "df = pd.read_csv(\"svr_data.csv\")\n",
    "df.head()\n",
    "\n"
   ]
  },
  {
   "cell_type": "code",
   "execution_count": 118,
   "id": "3e56475b",
   "metadata": {},
   "outputs": [
    {
     "name": "stdout",
     "output_type": "stream",
     "text": [
      "<class 'pandas.core.frame.DataFrame'>\n",
      "RangeIndex: 40 entries, 0 to 39\n",
      "Data columns (total 2 columns):\n",
      " #   Column  Non-Null Count  Dtype  \n",
      "---  ------  --------------  -----  \n",
      " 0   x       40 non-null     float64\n",
      " 1   y       40 non-null     float64\n",
      "dtypes: float64(2)\n",
      "memory usage: 768.0 bytes\n"
     ]
    },
    {
     "data": {
      "application/javascript": [
       "\n",
       "            setTimeout(function() {\n",
       "                var nbb_cell_id = 118;\n",
       "                var nbb_unformatted_code = \"df.info()\";\n",
       "                var nbb_formatted_code = \"df.info()\";\n",
       "                var nbb_cells = Jupyter.notebook.get_cells();\n",
       "                for (var i = 0; i < nbb_cells.length; ++i) {\n",
       "                    if (nbb_cells[i].input_prompt_number == nbb_cell_id) {\n",
       "                        if (nbb_cells[i].get_text() == nbb_unformatted_code) {\n",
       "                             nbb_cells[i].set_text(nbb_formatted_code);\n",
       "                        }\n",
       "                        break;\n",
       "                    }\n",
       "                }\n",
       "            }, 500);\n",
       "            "
      ],
      "text/plain": [
       "<IPython.core.display.Javascript object>"
      ]
     },
     "metadata": {},
     "output_type": "display_data"
    }
   ],
   "source": [
    "df.info()"
   ]
  },
  {
   "cell_type": "code",
   "execution_count": 111,
   "id": "9a3e78ab",
   "metadata": {},
   "outputs": [
    {
     "data": {
      "application/javascript": [
       "\n",
       "            setTimeout(function() {\n",
       "                var nbb_cell_id = 111;\n",
       "                var nbb_unformatted_code = \"X = df[['x']]\\ny = df.y\";\n",
       "                var nbb_formatted_code = \"X = df[[\\\"x\\\"]]\\ny = df.y\";\n",
       "                var nbb_cells = Jupyter.notebook.get_cells();\n",
       "                for (var i = 0; i < nbb_cells.length; ++i) {\n",
       "                    if (nbb_cells[i].input_prompt_number == nbb_cell_id) {\n",
       "                        if (nbb_cells[i].get_text() == nbb_unformatted_code) {\n",
       "                             nbb_cells[i].set_text(nbb_formatted_code);\n",
       "                        }\n",
       "                        break;\n",
       "                    }\n",
       "                }\n",
       "            }, 500);\n",
       "            "
      ],
      "text/plain": [
       "<IPython.core.display.Javascript object>"
      ]
     },
     "metadata": {},
     "output_type": "display_data"
    }
   ],
   "source": [
    "X = df[[\"x\"]]\n",
    "y = df.y"
   ]
  },
  {
   "cell_type": "code",
   "execution_count": 97,
   "id": "f2efb0a5",
   "metadata": {},
   "outputs": [
    {
     "data": {
      "application/vnd.jupyter.widget-view+json": {
       "model_id": "7775d8f3ac0e474fbdd4f232731e9bdd",
       "version_major": 2,
       "version_minor": 0
      },
      "image/png": "[encoded data removed]",
      "text/html": [
       "\n",
       "            <div style=\"display: inline-block;\">\n",
       "                <div class=\"jupyter-widgets widget-label\" style=\"text-align: center;\">\n",
       "                    Figure\n",
       "                </div>\n",
       "                <img src='data:image/png;base64,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' width=432.0/>\n",
       "            </div>\n",
       "        "
      ],
      "text/plain": [
       "Canvas(toolbar=Toolbar(toolitems=[('Home', 'Reset original view', 'home', 'home'), ('Back', 'Back to previous …"
      ]
     },
     "metadata": {},
     "output_type": "display_data"
    },
    {
     "data": {
      "application/javascript": [
       "\n",
       "            setTimeout(function() {\n",
       "                var nbb_cell_id = 97;\n",
       "                var nbb_unformatted_code = \"### xem m\\u1ed1i quan h\\u1ec7 gi\\u1eefa x v\\u00e0 y\\nplt.scatter(df['x'], df['y'])\\nplt.show()\";\n",
       "                var nbb_formatted_code = \"### xem m\\u1ed1i quan h\\u1ec7 gi\\u1eefa x v\\u00e0 y\\nplt.scatter(df[\\\"x\\\"], df[\\\"y\\\"])\\nplt.show()\";\n",
       "                var nbb_cells = Jupyter.notebook.get_cells();\n",
       "                for (var i = 0; i < nbb_cells.length; ++i) {\n",
       "                    if (nbb_cells[i].input_prompt_number == nbb_cell_id) {\n",
       "                        if (nbb_cells[i].get_text() == nbb_unformatted_code) {\n",
       "                             nbb_cells[i].set_text(nbb_formatted_code);\n",
       "                        }\n",
       "                        break;\n",
       "                    }\n",
       "                }\n",
       "            }, 500);\n",
       "            "
      ],
      "text/plain": [
       "<IPython.core.display.Javascript object>"
      ]
     },
     "metadata": {},
     "output_type": "display_data"
    }
   ],
   "source": [
    "### xem mối quan hệ giữa x và y\n",
    "plt.scatter(df[\"x\"], df[\"y\"])\n",
    "plt.show()"
   ]
  },
  {
   "cell_type": "code",
   "execution_count": 99,
   "id": "c3f24209",
   "metadata": {},
   "outputs": [
    {
     "data": {
      "text/plain": [
       "'\\n=> nhìn biểu đồ, các điểm dữ liệu nằm trên đường cong\\npolynomial có dạng bậc 3 (2 cực trị)\\n\\n## nếu ko chắc chắn thì build từ từ từ bậc 2 -> bậc n nào đó và chọn model có độ chính xác cao nhất\\n'"
      ]
     },
     "execution_count": 99,
     "metadata": {},
     "output_type": "execute_result"
    },
    {
     "data": {
      "application/javascript": [
       "\n",
       "            setTimeout(function() {\n",
       "                var nbb_cell_id = 99;\n",
       "                var nbb_unformatted_code = \"\\\"\\\"\\\"\\n=> nh\\u00ecn bi\\u1ec3u \\u0111\\u1ed3, c\\u00e1c \\u0111i\\u1ec3m d\\u1eef li\\u1ec7u n\\u1eb1m tr\\u00ean \\u0111\\u01b0\\u1eddng cong\\npolynomial c\\u00f3 d\\u1ea1ng b\\u1eadc 3 (2 c\\u1ef1c tr\\u1ecb)\\n\\n## n\\u1ebfu ko ch\\u1eafc ch\\u1eafn th\\u00ec build t\\u1eeb t\\u1eeb t\\u1eeb b\\u1eadc 2 -> b\\u1eadc n n\\u00e0o \\u0111\\u00f3 v\\u00e0 ch\\u1ecdn model c\\u00f3 \\u0111\\u1ed9 ch\\u00ednh x\\u00e1c cao nh\\u1ea5t\\n\\\"\\\"\\\"\";\n",
       "                var nbb_formatted_code = \"\\\"\\\"\\\"\\n=> nh\\u00ecn bi\\u1ec3u \\u0111\\u1ed3, c\\u00e1c \\u0111i\\u1ec3m d\\u1eef li\\u1ec7u n\\u1eb1m tr\\u00ean \\u0111\\u01b0\\u1eddng cong\\npolynomial c\\u00f3 d\\u1ea1ng b\\u1eadc 3 (2 c\\u1ef1c tr\\u1ecb)\\n\\n## n\\u1ebfu ko ch\\u1eafc ch\\u1eafn th\\u00ec build t\\u1eeb t\\u1eeb t\\u1eeb b\\u1eadc 2 -> b\\u1eadc n n\\u00e0o \\u0111\\u00f3 v\\u00e0 ch\\u1ecdn model c\\u00f3 \\u0111\\u1ed9 ch\\u00ednh x\\u00e1c cao nh\\u1ea5t\\n\\\"\\\"\\\"\";\n",
       "                var nbb_cells = Jupyter.notebook.get_cells();\n",
       "                for (var i = 0; i < nbb_cells.length; ++i) {\n",
       "                    if (nbb_cells[i].input_prompt_number == nbb_cell_id) {\n",
       "                        if (nbb_cells[i].get_text() == nbb_unformatted_code) {\n",
       "                             nbb_cells[i].set_text(nbb_formatted_code);\n",
       "                        }\n",
       "                        break;\n",
       "                    }\n",
       "                }\n",
       "            }, 500);\n",
       "            "
      ],
      "text/plain": [
       "<IPython.core.display.Javascript object>"
      ]
     },
     "metadata": {},
     "output_type": "display_data"
    }
   ],
   "source": [
    "\"\"\"\n",
    "=> nhìn biểu đồ, các điểm dữ liệu nằm trên đường cong\n",
    "polynomial có dạng bậc 3 (2 cực trị)\n",
    "\n",
    "## nếu ko chắc chắn thì build từ từ từ bậc 2 -> bậc n nào đó và chọn model có độ chính xác cao nhất\n",
    "\"\"\""
   ]
  },
  {
   "cell_type": "code",
   "execution_count": 120,
   "id": "344c7106",
   "metadata": {},
   "outputs": [
    {
     "data": {
      "application/javascript": [
       "\n",
       "            setTimeout(function() {\n",
       "                var nbb_cell_id = 120;\n",
       "                var nbb_unformatted_code = \"X_train, X_test, y_train, y_test = train_test_split(X,y,test_size=0.2, random_state=42)\";\n",
       "                var nbb_formatted_code = \"X_train, X_test, y_train, y_test = train_test_split(\\n    X, y, test_size=0.2, random_state=42\\n)\";\n",
       "                var nbb_cells = Jupyter.notebook.get_cells();\n",
       "                for (var i = 0; i < nbb_cells.length; ++i) {\n",
       "                    if (nbb_cells[i].input_prompt_number == nbb_cell_id) {\n",
       "                        if (nbb_cells[i].get_text() == nbb_unformatted_code) {\n",
       "                             nbb_cells[i].set_text(nbb_formatted_code);\n",
       "                        }\n",
       "                        break;\n",
       "                    }\n",
       "                }\n",
       "            }, 500);\n",
       "            "
      ],
      "text/plain": [
       "<IPython.core.display.Javascript object>"
      ]
     },
     "metadata": {},
     "output_type": "display_data"
    }
   ],
   "source": [
    "X_train, X_test, y_train, y_test = train_test_split(\n",
    "    X, y, test_size=0.2, random_state=42\n",
    ")"
   ]
  },
  {
   "cell_type": "code",
   "execution_count": 121,
   "id": "423f3f44",
   "metadata": {},
   "outputs": [
    {
     "data": {
      "application/javascript": [
       "\n",
       "            setTimeout(function() {\n",
       "                var nbb_cell_id = 121;\n",
       "                var nbb_unformatted_code = \"from sklearn.svm import SVR\\n\\nmodel_linear = SVR(kernel=\\\"linear\\\", C=100)\\nmodel_poly = SVR(kernel=\\\"poly\\\", C=100, degree=3)  # do \\u0111\\u00e3 nh\\u1eadn \\u0111\\u1ecbnh \\u0111\\u00e2y l\\u00e0 h\\u00e0m b\\u1eadc 3\\nmodel_rbf = SVR(\\n    kernel=\\\"rbf\\\", C=100, gamma=0.1\\n)  # rbf th\\u00ec ph\\u1ea3i c\\u00f3 gamma nha :). gamma c\\u00e0ng nh\\u1ecf th\\u00ec model cnag2 ch\\u00ednh x\\u00e1c, n\\u1ebfu model b\\u1ecb overfitting th\\u00ec ph\\u1ea3i cho gamma l\\u1edbn h\\u01a1n\";\n",
       "                var nbb_formatted_code = \"from sklearn.svm import SVR\\n\\nmodel_linear = SVR(kernel=\\\"linear\\\", C=100)\\nmodel_poly = SVR(kernel=\\\"poly\\\", C=100, degree=3)  # do \\u0111\\u00e3 nh\\u1eadn \\u0111\\u1ecbnh \\u0111\\u00e2y l\\u00e0 h\\u00e0m b\\u1eadc 3\\nmodel_rbf = SVR(\\n    kernel=\\\"rbf\\\", C=100, gamma=0.1\\n)  # rbf th\\u00ec ph\\u1ea3i c\\u00f3 gamma nha :). gamma c\\u00e0ng nh\\u1ecf th\\u00ec model cnag2 ch\\u00ednh x\\u00e1c, n\\u1ebfu model b\\u1ecb overfitting th\\u00ec ph\\u1ea3i cho gamma l\\u1edbn h\\u01a1n\";\n",
       "                var nbb_cells = Jupyter.notebook.get_cells();\n",
       "                for (var i = 0; i < nbb_cells.length; ++i) {\n",
       "                    if (nbb_cells[i].input_prompt_number == nbb_cell_id) {\n",
       "                        if (nbb_cells[i].get_text() == nbb_unformatted_code) {\n",
       "                             nbb_cells[i].set_text(nbb_formatted_code);\n",
       "                        }\n",
       "                        break;\n",
       "                    }\n",
       "                }\n",
       "            }, 500);\n",
       "            "
      ],
      "text/plain": [
       "<IPython.core.display.Javascript object>"
      ]
     },
     "metadata": {},
     "output_type": "display_data"
    }
   ],
   "source": [
    "from sklearn.svm import SVR\n",
    "\n",
    "model_linear = SVR(kernel=\"linear\", C=100)\n",
    "model_poly = SVR(kernel=\"poly\", C=100, degree=3)  # do đã nhận định đây là hàm bậc 3\n",
    "model_rbf = SVR(\n",
    "    kernel=\"rbf\", C=100, gamma=0.1\n",
    ")  # rbf thì phải có gamma nha :). gamma càng nhỏ thì model cnag2 chính xác, nếu model bị overfitting thì phải cho gamma lớn hơn"
   ]
  },
  {
   "cell_type": "code",
   "execution_count": 122,
   "id": "4b3fc812",
   "metadata": {},
   "outputs": [
    {
     "data": {
      "text/plain": [
       "SVR(C=100, gamma=0.1)"
      ]
     },
     "execution_count": 122,
     "metadata": {},
     "output_type": "execute_result"
    },
    {
     "data": {
      "application/javascript": [
       "\n",
       "            setTimeout(function() {\n",
       "                var nbb_cell_id = 122;\n",
       "                var nbb_unformatted_code = \"model_linear.fit(X_train, y_train)\\nmodel_poly.fit(X_train, y_train)\\nmodel_rbf.fit(X_train, y_train)\";\n",
       "                var nbb_formatted_code = \"model_linear.fit(X_train, y_train)\\nmodel_poly.fit(X_train, y_train)\\nmodel_rbf.fit(X_train, y_train)\";\n",
       "                var nbb_cells = Jupyter.notebook.get_cells();\n",
       "                for (var i = 0; i < nbb_cells.length; ++i) {\n",
       "                    if (nbb_cells[i].input_prompt_number == nbb_cell_id) {\n",
       "                        if (nbb_cells[i].get_text() == nbb_unformatted_code) {\n",
       "                             nbb_cells[i].set_text(nbb_formatted_code);\n",
       "                        }\n",
       "                        break;\n",
       "                    }\n",
       "                }\n",
       "            }, 500);\n",
       "            "
      ],
      "text/plain": [
       "<IPython.core.display.Javascript object>"
      ]
     },
     "metadata": {},
     "output_type": "display_data"
    }
   ],
   "source": [
    "model_linear.fit(X_train, y_train)\n",
    "model_poly.fit(X_train, y_train)\n",
    "model_rbf.fit(X_train, y_train)"
   ]
  },
  {
   "cell_type": "code",
   "execution_count": 126,
   "id": "524812b3",
   "metadata": {},
   "outputs": [
    {
     "data": {
      "application/javascript": [
       "\n",
       "            setTimeout(function() {\n",
       "                var nbb_cell_id = 126;\n",
       "                var nbb_unformatted_code = \"yhat_test_linear = model_linear.predict(X)\\nyhat_test_poly = model_poly.predict(X)\\nyhat_test_rbf = model_rbf.predict(X)\";\n",
       "                var nbb_formatted_code = \"yhat_test_linear = model_linear.predict(X)\\nyhat_test_poly = model_poly.predict(X)\\nyhat_test_rbf = model_rbf.predict(X)\";\n",
       "                var nbb_cells = Jupyter.notebook.get_cells();\n",
       "                for (var i = 0; i < nbb_cells.length; ++i) {\n",
       "                    if (nbb_cells[i].input_prompt_number == nbb_cell_id) {\n",
       "                        if (nbb_cells[i].get_text() == nbb_unformatted_code) {\n",
       "                             nbb_cells[i].set_text(nbb_formatted_code);\n",
       "                        }\n",
       "                        break;\n",
       "                    }\n",
       "                }\n",
       "            }, 500);\n",
       "            "
      ],
      "text/plain": [
       "<IPython.core.display.Javascript object>"
      ]
     },
     "metadata": {},
     "output_type": "display_data"
    }
   ],
   "source": [
    "yhat_test_linear = model_linear.predict(X)\n",
    "yhat_test_poly = model_poly.predict(X)\n",
    "yhat_test_rbf = model_rbf.predict(X)"
   ]
  },
  {
   "cell_type": "code",
   "execution_count": 127,
   "id": "3c842008",
   "metadata": {},
   "outputs": [
    {
     "data": {
      "application/vnd.jupyter.widget-view+json": {
       "model_id": "ae59603fd6894b44b584553d9b8ddae5",
       "version_major": 2,
       "version_minor": 0
      },
      "image/png": "[encoded data removed]",
      "text/html": [
       "\n",
       "            <div style=\"display: inline-block;\">\n",
       "                <div class=\"jupyter-widgets widget-label\" style=\"text-align: center;\">\n",
       "                    Figure\n",
       "                </div>\n",
       "                <img src='data:image/png;base64,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' width=1080.0/>\n",
       "            </div>\n",
       "        "
      ],
      "text/plain": [
       "Canvas(toolbar=Toolbar(toolitems=[('Home', 'Reset original view', 'home', 'home'), ('Back', 'Back to previous …"
      ]
     },
     "metadata": {},
     "output_type": "display_data"
    },
    {
     "data": {
      "application/javascript": [
       "\n",
       "            setTimeout(function() {\n",
       "                var nbb_cell_id = 127;\n",
       "                var nbb_unformatted_code = \"# tr\\u1ef1c quan h\\u00f3a k\\u1ebft qu\\u1ea3\\nplt.figure(figsize=(15, 5))\\nplt.subplot(1, 3, 1)\\nplt.scatter(X, y)\\nplt.plot(X, yhat_test_linear, color=\\\"red\\\")\\nplt.title(\\\"Linear Kernel\\\")\\n\\nplt.subplot(1, 3, 2)\\nplt.scatter(X, y)\\nplt.plot(X, yhat_test_poly, color=\\\"blue\\\")\\nplt.title(\\\"Polynomial Kernel\\\")\\n\\nplt.subplot(1, 3, 3)\\nplt.scatter(X, y)\\nplt.plot(X, yhat_test_rbf, color=\\\"green\\\")\\nplt.title(\\\"RBF Kernel\\\")\\nplt.show()\";\n",
       "                var nbb_formatted_code = \"# tr\\u1ef1c quan h\\u00f3a k\\u1ebft qu\\u1ea3\\nplt.figure(figsize=(15, 5))\\nplt.subplot(1, 3, 1)\\nplt.scatter(X, y)\\nplt.plot(X, yhat_test_linear, color=\\\"red\\\")\\nplt.title(\\\"Linear Kernel\\\")\\n\\nplt.subplot(1, 3, 2)\\nplt.scatter(X, y)\\nplt.plot(X, yhat_test_poly, color=\\\"blue\\\")\\nplt.title(\\\"Polynomial Kernel\\\")\\n\\nplt.subplot(1, 3, 3)\\nplt.scatter(X, y)\\nplt.plot(X, yhat_test_rbf, color=\\\"green\\\")\\nplt.title(\\\"RBF Kernel\\\")\\nplt.show()\";\n",
       "                var nbb_cells = Jupyter.notebook.get_cells();\n",
       "                for (var i = 0; i < nbb_cells.length; ++i) {\n",
       "                    if (nbb_cells[i].input_prompt_number == nbb_cell_id) {\n",
       "                        if (nbb_cells[i].get_text() == nbb_unformatted_code) {\n",
       "                             nbb_cells[i].set_text(nbb_formatted_code);\n",
       "                        }\n",
       "                        break;\n",
       "                    }\n",
       "                }\n",
       "            }, 500);\n",
       "            "
      ],
      "text/plain": [
       "<IPython.core.display.Javascript object>"
      ]
     },
     "metadata": {},
     "output_type": "display_data"
    }
   ],
   "source": [
    "# trực quan hóa kết quả\n",
    "plt.figure(figsize=(15, 5))\n",
    "plt.subplot(1, 3, 1)\n",
    "plt.scatter(X, y)\n",
    "plt.plot(X, yhat_test_linear, color=\"red\")\n",
    "plt.title(\"Linear Kernel\")\n",
    "\n",
    "plt.subplot(1, 3, 2)\n",
    "plt.scatter(X, y)\n",
    "plt.plot(X, yhat_test_poly, color=\"blue\")\n",
    "plt.title(\"Polynomial Kernel\")\n",
    "\n",
    "plt.subplot(1, 3, 3)\n",
    "plt.scatter(X, y)\n",
    "plt.plot(X, yhat_test_rbf, color=\"green\")\n",
    "plt.title(\"RBF Kernel\")\n",
    "plt.show()"
   ]
  },
  {
   "cell_type": "code",
   "execution_count": 128,
   "id": "d7f10335",
   "metadata": {},
   "outputs": [
    {
     "data": {
      "application/javascript": [
       "\n",
       "            setTimeout(function() {\n",
       "                var nbb_cell_id = 128;\n",
       "                var nbb_unformatted_code = \"# ### \\u0111\\u00e1nh gi\\u00e1 model\\n# from sklearn.metrics import r2_score\\n# print('R-square of model linear SVR', r2_score(model_linear.predict(X))\";\n",
       "                var nbb_formatted_code = \"# ### \\u0111\\u00e1nh gi\\u00e1 model\\n# from sklearn.metrics import r2_score\\n# print('R-square of model linear SVR', r2_score(model_linear.predict(X))\";\n",
       "                var nbb_cells = Jupyter.notebook.get_cells();\n",
       "                for (var i = 0; i < nbb_cells.length; ++i) {\n",
       "                    if (nbb_cells[i].input_prompt_number == nbb_cell_id) {\n",
       "                        if (nbb_cells[i].get_text() == nbb_unformatted_code) {\n",
       "                             nbb_cells[i].set_text(nbb_formatted_code);\n",
       "                        }\n",
       "                        break;\n",
       "                    }\n",
       "                }\n",
       "            }, 500);\n",
       "            "
      ],
      "text/plain": [
       "<IPython.core.display.Javascript object>"
      ]
     },
     "metadata": {},
     "output_type": "display_data"
    }
   ],
   "source": [
    "# ### đánh giá model\n",
    "# from sklearn.metrics import r2_score\n",
    "# print('R-square of model linear SVR', r2_score(model_linear.predict(X))\n"
   ]
  },
  {
   "cell_type": "code",
   "execution_count": null,
   "id": "8e4597ac",
   "metadata": {},
   "outputs": [],
   "source": []
  }
 ],
 "metadata": {
  "kernelspec": {
   "display_name": "Python 3 (ipykernel)",
   "language": "python",
   "name": "python3"
  },
  "language_info": {
   "codemirror_mode": {
    "name": "ipython",
    "version": 3
   },
   "file_extension": ".py",
   "mimetype": "text/x-python",
   "name": "python",
   "nbconvert_exporter": "python",
   "pygments_lexer": "ipython3",
   "version": "3.9.7"
  }
 },
 "nbformat": 4,
 "nbformat_minor": 5
}
