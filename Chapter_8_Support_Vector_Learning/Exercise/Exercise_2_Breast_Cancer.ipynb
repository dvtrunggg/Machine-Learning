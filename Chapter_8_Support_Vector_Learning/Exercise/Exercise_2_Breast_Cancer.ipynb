{
 "cells": [
  {
   "cell_type": "markdown",
   "id": "a3d4a9a4",
   "metadata": {},
   "source": [
    "## Chapter 8 - Exercise 2: Breast cancer\n",
    "\n",
    "#### Sử dụng tập dữ liệu ung thư, một vấn đề phân loại nhiều lớp rất nổi tiếng. Số liệu này được tính toán từ một hình ảnh số hóa của FNA về ung thư vú. Chúng mô tả các đặc điểm của nhân tế bào có trong hình ảnh.\n",
    "#### Dữ liệu này có hai loại ung thư: ác tính (có hại) và lành tính (không có hại). Ta có thể xây dựng một mô hình để phân loại loại ung thư.\n",
    "\n",
    "- Cho dữ liệu breast_cancer nằm trong sklearn.datasets\n",
    "#### Yêu cầu: đọc dữ liệu về, chuẩn hóa dữ liệu (nếu cần) và áp dụng thuật toán SVM để thực hiện việc dự đoán có bị ung thư hay không dựa trên thông tin được cung cấp\n",
    "1. Tạo X_train, X_test, y_train, y_test từ dữ liệu đọc được với tỷ lệ dữ liệu test là 0.3\n",
    "2. Áp dụng thuật toán SVM\n",
    "3. Tìm kết quả\n",
    "4. Kiểm tra độ chính xác\n",
    "5. So sánh hiệu suất của các thuật toán classification: RandomForestClassifier, SVC,\n",
    "GaussianNB, LogisticRegression\n",
    "6. Trực quan hóa kết quả. Trong các thuật toán trên, thuật toán nào phù hợp nhất với yêu cầu\n",
    "phân loại trên?"
   ]
  },
  {
   "cell_type": "code",
   "execution_count": 2,
   "id": "694a954e",
   "metadata": {},
   "outputs": [
    {
     "data": {
      "application/javascript": [
       "\n",
       "            setTimeout(function() {\n",
       "                var nbb_cell_id = 2;\n",
       "                var nbb_unformatted_code = \"import matplotlib.pyplot as plt\\nfrom sklearn import datasets\\nfrom sklearn import svm\\nfrom sklearn.model_selection import train_test_split\\nimport numpy as np\\nimport pandas as pd\\nfrom pandas_profiling import ProfileReport\\nimport seaborn as sns\\n%load_ext nb_black\";\n",
       "                var nbb_formatted_code = \"import matplotlib.pyplot as plt\\nfrom sklearn import datasets\\nfrom sklearn import svm\\nfrom sklearn.model_selection import train_test_split\\nimport numpy as np\\nimport pandas as pd\\nfrom pandas_profiling import ProfileReport\\nimport seaborn as sns\\n\\n%load_ext nb_black\";\n",
       "                var nbb_cells = Jupyter.notebook.get_cells();\n",
       "                for (var i = 0; i < nbb_cells.length; ++i) {\n",
       "                    if (nbb_cells[i].input_prompt_number == nbb_cell_id) {\n",
       "                        if (nbb_cells[i].get_text() == nbb_unformatted_code) {\n",
       "                             nbb_cells[i].set_text(nbb_formatted_code);\n",
       "                        }\n",
       "                        break;\n",
       "                    }\n",
       "                }\n",
       "            }, 500);\n",
       "            "
      ],
      "text/plain": [
       "<IPython.core.display.Javascript object>"
      ]
     },
     "metadata": {},
     "output_type": "display_data"
    }
   ],
   "source": [
    "import matplotlib.pyplot as plt\n",
    "from sklearn import datasets\n",
    "from sklearn import svm\n",
    "from sklearn.model_selection import train_test_split\n",
    "import numpy as np\n",
    "import pandas as pd\n",
    "from pandas_profiling import ProfileReport\n",
    "import seaborn as sns\n",
    "\n",
    "%load_ext nb_black"
   ]
  },
  {
   "cell_type": "markdown",
   "id": "687807f9",
   "metadata": {},
   "source": [
    "### Tập Features"
   ]
  },
  {
   "cell_type": "code",
   "execution_count": 5,
   "id": "0c1887a4",
   "metadata": {},
   "outputs": [
    {
     "data": {
      "text/plain": [
       "array(['mean radius', 'mean texture', 'mean perimeter', 'mean area',\n",
       "       'mean smoothness', 'mean compactness', 'mean concavity',\n",
       "       'mean concave points', 'mean symmetry', 'mean fractal dimension',\n",
       "       'radius error', 'texture error', 'perimeter error', 'area error',\n",
       "       'smoothness error', 'compactness error', 'concavity error',\n",
       "       'concave points error', 'symmetry error',\n",
       "       'fractal dimension error', 'worst radius', 'worst texture',\n",
       "       'worst perimeter', 'worst area', 'worst smoothness',\n",
       "       'worst compactness', 'worst concavity', 'worst concave points',\n",
       "       'worst symmetry', 'worst fractal dimension'], dtype='<U23')"
      ]
     },
     "execution_count": 5,
     "metadata": {},
     "output_type": "execute_result"
    },
    {
     "data": {
      "application/javascript": [
       "\n",
       "            setTimeout(function() {\n",
       "                var nbb_cell_id = 5;\n",
       "                var nbb_unformatted_code = \"cancer = datasets.load_breast_cancer()\\ncancer.feature_names\";\n",
       "                var nbb_formatted_code = \"cancer = datasets.load_breast_cancer()\\ncancer.feature_names\";\n",
       "                var nbb_cells = Jupyter.notebook.get_cells();\n",
       "                for (var i = 0; i < nbb_cells.length; ++i) {\n",
       "                    if (nbb_cells[i].input_prompt_number == nbb_cell_id) {\n",
       "                        if (nbb_cells[i].get_text() == nbb_unformatted_code) {\n",
       "                             nbb_cells[i].set_text(nbb_formatted_code);\n",
       "                        }\n",
       "                        break;\n",
       "                    }\n",
       "                }\n",
       "            }, 500);\n",
       "            "
      ],
      "text/plain": [
       "<IPython.core.display.Javascript object>"
      ]
     },
     "metadata": {},
     "output_type": "display_data"
    }
   ],
   "source": [
    "cancer = datasets.load_breast_cancer()\n",
    "cancer.feature_names"
   ]
  },
  {
   "cell_type": "markdown",
   "id": "7983bfba",
   "metadata": {},
   "source": [
    "### Tập target"
   ]
  },
  {
   "cell_type": "code",
   "execution_count": 6,
   "id": "eb3ac11c",
   "metadata": {},
   "outputs": [
    {
     "name": "stdout",
     "output_type": "stream",
     "text": [
      "Labels:  ['malignant' 'benign']\n"
     ]
    },
    {
     "data": {
      "application/javascript": [
       "\n",
       "            setTimeout(function() {\n",
       "                var nbb_cell_id = 6;\n",
       "                var nbb_unformatted_code = \"print(\\\"Labels: \\\", cancer.target_names)\";\n",
       "                var nbb_formatted_code = \"print(\\\"Labels: \\\", cancer.target_names)\";\n",
       "                var nbb_cells = Jupyter.notebook.get_cells();\n",
       "                for (var i = 0; i < nbb_cells.length; ++i) {\n",
       "                    if (nbb_cells[i].input_prompt_number == nbb_cell_id) {\n",
       "                        if (nbb_cells[i].get_text() == nbb_unformatted_code) {\n",
       "                             nbb_cells[i].set_text(nbb_formatted_code);\n",
       "                        }\n",
       "                        break;\n",
       "                    }\n",
       "                }\n",
       "            }, 500);\n",
       "            "
      ],
      "text/plain": [
       "<IPython.core.display.Javascript object>"
      ]
     },
     "metadata": {},
     "output_type": "display_data"
    }
   ],
   "source": [
    "print(\"Labels: \", cancer.target_names)"
   ]
  },
  {
   "cell_type": "code",
   "execution_count": 7,
   "id": "5a608ac3",
   "metadata": {},
   "outputs": [
    {
     "data": {
      "text/plain": [
       "(569, 30)"
      ]
     },
     "execution_count": 7,
     "metadata": {},
     "output_type": "execute_result"
    },
    {
     "data": {
      "application/javascript": [
       "\n",
       "            setTimeout(function() {\n",
       "                var nbb_cell_id = 7;\n",
       "                var nbb_unformatted_code = \"cancer.data.shape\";\n",
       "                var nbb_formatted_code = \"cancer.data.shape\";\n",
       "                var nbb_cells = Jupyter.notebook.get_cells();\n",
       "                for (var i = 0; i < nbb_cells.length; ++i) {\n",
       "                    if (nbb_cells[i].input_prompt_number == nbb_cell_id) {\n",
       "                        if (nbb_cells[i].get_text() == nbb_unformatted_code) {\n",
       "                             nbb_cells[i].set_text(nbb_formatted_code);\n",
       "                        }\n",
       "                        break;\n",
       "                    }\n",
       "                }\n",
       "            }, 500);\n",
       "            "
      ],
      "text/plain": [
       "<IPython.core.display.Javascript object>"
      ]
     },
     "metadata": {},
     "output_type": "display_data"
    }
   ],
   "source": [
    "cancer.data.shape"
   ]
  },
  {
   "cell_type": "code",
   "execution_count": 9,
   "id": "9cab4510",
   "metadata": {},
   "outputs": [
    {
     "data": {
      "text/plain": [
       "'\\n569 dòng, 30 cột\\n'"
      ]
     },
     "execution_count": 9,
     "metadata": {},
     "output_type": "execute_result"
    },
    {
     "data": {
      "application/javascript": [
       "\n",
       "            setTimeout(function() {\n",
       "                var nbb_cell_id = 9;\n",
       "                var nbb_unformatted_code = \"'''\\n569 d\\u00f2ng, 30 c\\u1ed9t\\n'''\";\n",
       "                var nbb_formatted_code = \"\\\"\\\"\\\"\\n569 d\\u00f2ng, 30 c\\u1ed9t\\n\\\"\\\"\\\"\";\n",
       "                var nbb_cells = Jupyter.notebook.get_cells();\n",
       "                for (var i = 0; i < nbb_cells.length; ++i) {\n",
       "                    if (nbb_cells[i].input_prompt_number == nbb_cell_id) {\n",
       "                        if (nbb_cells[i].get_text() == nbb_unformatted_code) {\n",
       "                             nbb_cells[i].set_text(nbb_formatted_code);\n",
       "                        }\n",
       "                        break;\n",
       "                    }\n",
       "                }\n",
       "            }, 500);\n",
       "            "
      ],
      "text/plain": [
       "<IPython.core.display.Javascript object>"
      ]
     },
     "metadata": {},
     "output_type": "display_data"
    }
   ],
   "source": [
    "'''\n",
    "569 dòng, 30 cột\n",
    "'''\n",
    "\n"
   ]
  },
  {
   "cell_type": "code",
   "execution_count": 10,
   "id": "2699acc0",
   "metadata": {},
   "outputs": [
    {
     "name": "stdout",
     "output_type": "stream",
     "text": [
      "[0 0 0]\n",
      "['malignant', 'benign']\n"
     ]
    },
    {
     "data": {
      "application/javascript": [
       "\n",
       "            setTimeout(function() {\n",
       "                var nbb_cell_id = 10;\n",
       "                var nbb_unformatted_code = \"print(cancer.target[[0, 1, 2]])\\nprint(list(cancer.target_names))\";\n",
       "                var nbb_formatted_code = \"print(cancer.target[[0, 1, 2]])\\nprint(list(cancer.target_names))\";\n",
       "                var nbb_cells = Jupyter.notebook.get_cells();\n",
       "                for (var i = 0; i < nbb_cells.length; ++i) {\n",
       "                    if (nbb_cells[i].input_prompt_number == nbb_cell_id) {\n",
       "                        if (nbb_cells[i].get_text() == nbb_unformatted_code) {\n",
       "                             nbb_cells[i].set_text(nbb_formatted_code);\n",
       "                        }\n",
       "                        break;\n",
       "                    }\n",
       "                }\n",
       "            }, 500);\n",
       "            "
      ],
      "text/plain": [
       "<IPython.core.display.Javascript object>"
      ]
     },
     "metadata": {},
     "output_type": "display_data"
    }
   ],
   "source": [
    "print(cancer.target[[0, 1, 2]])\n",
    "print(list(cancer.target_names))"
   ]
  },
  {
   "cell_type": "code",
   "execution_count": 11,
   "id": "5506c16f",
   "metadata": {},
   "outputs": [
    {
     "name": "stdout",
     "output_type": "stream",
     "text": [
      "[[1.799e+01 1.038e+01 1.228e+02 1.001e+03 1.184e-01 2.776e-01 3.001e-01\n",
      "  1.471e-01 2.419e-01 7.871e-02 1.095e+00 9.053e-01 8.589e+00 1.534e+02\n",
      "  6.399e-03 4.904e-02 5.373e-02 1.587e-02 3.003e-02 6.193e-03 2.538e+01\n",
      "  1.733e+01 1.846e+02 2.019e+03 1.622e-01 6.656e-01 7.119e-01 2.654e-01\n",
      "  4.601e-01 1.189e-01]\n",
      " [2.057e+01 1.777e+01 1.329e+02 1.326e+03 8.474e-02 7.864e-02 8.690e-02\n",
      "  7.017e-02 1.812e-01 5.667e-02 5.435e-01 7.339e-01 3.398e+00 7.408e+01\n",
      "  5.225e-03 1.308e-02 1.860e-02 1.340e-02 1.389e-02 3.532e-03 2.499e+01\n",
      "  2.341e+01 1.588e+02 1.956e+03 1.238e-01 1.866e-01 2.416e-01 1.860e-01\n",
      "  2.750e-01 8.902e-02]\n",
      " [1.969e+01 2.125e+01 1.300e+02 1.203e+03 1.096e-01 1.599e-01 1.974e-01\n",
      "  1.279e-01 2.069e-01 5.999e-02 7.456e-01 7.869e-01 4.585e+00 9.403e+01\n",
      "  6.150e-03 4.006e-02 3.832e-02 2.058e-02 2.250e-02 4.571e-03 2.357e+01\n",
      "  2.553e+01 1.525e+02 1.709e+03 1.444e-01 4.245e-01 4.504e-01 2.430e-01\n",
      "  3.613e-01 8.758e-02]\n",
      " [1.142e+01 2.038e+01 7.758e+01 3.861e+02 1.425e-01 2.839e-01 2.414e-01\n",
      "  1.052e-01 2.597e-01 9.744e-02 4.956e-01 1.156e+00 3.445e+00 2.723e+01\n",
      "  9.110e-03 7.458e-02 5.661e-02 1.867e-02 5.963e-02 9.208e-03 1.491e+01\n",
      "  2.650e+01 9.887e+01 5.677e+02 2.098e-01 8.663e-01 6.869e-01 2.575e-01\n",
      "  6.638e-01 1.730e-01]\n",
      " [2.029e+01 1.434e+01 1.351e+02 1.297e+03 1.003e-01 1.328e-01 1.980e-01\n",
      "  1.043e-01 1.809e-01 5.883e-02 7.572e-01 7.813e-01 5.438e+00 9.444e+01\n",
      "  1.149e-02 2.461e-02 5.688e-02 1.885e-02 1.756e-02 5.115e-03 2.254e+01\n",
      "  1.667e+01 1.522e+02 1.575e+03 1.374e-01 2.050e-01 4.000e-01 1.625e-01\n",
      "  2.364e-01 7.678e-02]]\n"
     ]
    },
    {
     "data": {
      "application/javascript": [
       "\n",
       "            setTimeout(function() {\n",
       "                var nbb_cell_id = 11;\n",
       "                var nbb_unformatted_code = \"# print the cancer data features (top 5 records)\\nprint(cancer.data[0:5])\";\n",
       "                var nbb_formatted_code = \"# print the cancer data features (top 5 records)\\nprint(cancer.data[0:5])\";\n",
       "                var nbb_cells = Jupyter.notebook.get_cells();\n",
       "                for (var i = 0; i < nbb_cells.length; ++i) {\n",
       "                    if (nbb_cells[i].input_prompt_number == nbb_cell_id) {\n",
       "                        if (nbb_cells[i].get_text() == nbb_unformatted_code) {\n",
       "                             nbb_cells[i].set_text(nbb_formatted_code);\n",
       "                        }\n",
       "                        break;\n",
       "                    }\n",
       "                }\n",
       "            }, 500);\n",
       "            "
      ],
      "text/plain": [
       "<IPython.core.display.Javascript object>"
      ]
     },
     "metadata": {},
     "output_type": "display_data"
    }
   ],
   "source": [
    "# print the cancer data features (top 5 records)\n",
    "print(cancer.data[0:5])"
   ]
  },
  {
   "cell_type": "code",
   "execution_count": 14,
   "id": "61ce6d3b",
   "metadata": {},
   "outputs": [
    {
     "name": "stdout",
     "output_type": "stream",
     "text": [
      ".. _breast_cancer_dataset:\n",
      "\n",
      "Breast cancer wisconsin (diagnostic) dataset\n",
      "--------------------------------------------\n",
      "\n",
      "**Data Set Characteristics:**\n",
      "\n",
      "    :Number of Instances: 569\n",
      "\n",
      "    :Number of Attributes: 30 numeric, predictive attributes and the class\n",
      "\n",
      "    :Attribute Information:\n",
      "        - radius (mean of distances from center to points on the perimeter)\n",
      "        - texture (standard deviation of gray-scale values)\n",
      "        - perimeter\n",
      "        - area\n",
      "        - smoothness (local variation in radius lengths)\n",
      "        - compactness (perimeter^2 / area - 1.0)\n",
      "        - concavity (severity of concave portions of the contour)\n",
      "        - concave points (number of concave portions of the contour)\n",
      "        - symmetry\n",
      "        - fractal dimension (\"coastline approximation\" - 1)\n",
      "\n",
      "        The mean, standard error, and \"worst\" or largest (mean of the three\n",
      "        worst/largest values) of these features were computed for each image,\n",
      "        resulting in 30 features.  For instance, field 0 is Mean Radius, field\n",
      "        10 is Radius SE, field 20 is Worst Radius.\n",
      "\n",
      "        - class:\n",
      "                - WDBC-Malignant\n",
      "                - WDBC-Benign\n",
      "\n",
      "    :Summary Statistics:\n",
      "\n",
      "    ===================================== ====== ======\n",
      "                                           Min    Max\n",
      "    ===================================== ====== ======\n",
      "    radius (mean):                        6.981  28.11\n",
      "    texture (mean):                       9.71   39.28\n",
      "    perimeter (mean):                     43.79  188.5\n",
      "    area (mean):                          143.5  2501.0\n",
      "    smoothness (mean):                    0.053  0.163\n",
      "    compactness (mean):                   0.019  0.345\n",
      "    concavity (mean):                     0.0    0.427\n",
      "    concave points (mean):                0.0    0.201\n",
      "    symmetry (mean):                      0.106  0.304\n",
      "    fractal dimension (mean):             0.05   0.097\n",
      "    radius (standard error):              0.112  2.873\n",
      "    texture (standard error):             0.36   4.885\n",
      "    perimeter (standard error):           0.757  21.98\n",
      "    area (standard error):                6.802  542.2\n",
      "    smoothness (standard error):          0.002  0.031\n",
      "    compactness (standard error):         0.002  0.135\n",
      "    concavity (standard error):           0.0    0.396\n",
      "    concave points (standard error):      0.0    0.053\n",
      "    symmetry (standard error):            0.008  0.079\n",
      "    fractal dimension (standard error):   0.001  0.03\n",
      "    radius (worst):                       7.93   36.04\n",
      "    texture (worst):                      12.02  49.54\n",
      "    perimeter (worst):                    50.41  251.2\n",
      "    area (worst):                         185.2  4254.0\n",
      "    smoothness (worst):                   0.071  0.223\n",
      "    compactness (worst):                  0.027  1.058\n",
      "    concavity (worst):                    0.0    1.252\n",
      "    concave points (worst):               0.0    0.291\n",
      "    symmetry (worst):                     0.156  0.664\n",
      "    fractal dimension (worst):            0.055  0.208\n",
      "    ===================================== ====== ======\n",
      "\n",
      "    :Missing Attribute Values: None\n",
      "\n",
      "    :Class Distribution: 212 - Malignant, 357 - Benign\n",
      "\n",
      "    :Creator:  Dr. William H. Wolberg, W. Nick Street, Olvi L. Mangasarian\n",
      "\n",
      "    :Donor: Nick Street\n",
      "\n",
      "    :Date: November, 1995\n",
      "\n",
      "This is a copy of UCI ML Breast Cancer Wisconsin (Diagnostic) datasets.\n",
      "https://goo.gl/U2Uwz2\n",
      "\n",
      "Features are computed from a digitized image of a fine needle\n",
      "aspirate (FNA) of a breast mass.  They describe\n",
      "characteristics of the cell nuclei present in the image.\n",
      "\n",
      "Separating plane described above was obtained using\n",
      "Multisurface Method-Tree (MSM-T) [K. P. Bennett, \"Decision Tree\n",
      "Construction Via Linear Programming.\" Proceedings of the 4th\n",
      "Midwest Artificial Intelligence and Cognitive Science Society,\n",
      "pp. 97-101, 1992], a classification method which uses linear\n",
      "programming to construct a decision tree.  Relevant features\n",
      "were selected using an exhaustive search in the space of 1-4\n",
      "features and 1-3 separating planes.\n",
      "\n",
      "The actual linear program used to obtain the separating plane\n",
      "in the 3-dimensional space is that described in:\n",
      "[K. P. Bennett and O. L. Mangasarian: \"Robust Linear\n",
      "Programming Discrimination of Two Linearly Inseparable Sets\",\n",
      "Optimization Methods and Software 1, 1992, 23-34].\n",
      "\n",
      "This database is also available through the UW CS ftp server:\n",
      "\n",
      "ftp ftp.cs.wisc.edu\n",
      "cd math-prog/cpo-dataset/machine-learn/WDBC/\n",
      "\n",
      ".. topic:: References\n",
      "\n",
      "   - W.N. Street, W.H. Wolberg and O.L. Mangasarian. Nuclear feature extraction \n",
      "     for breast tumor diagnosis. IS&T/SPIE 1993 International Symposium on \n",
      "     Electronic Imaging: Science and Technology, volume 1905, pages 861-870,\n",
      "     San Jose, CA, 1993.\n",
      "   - O.L. Mangasarian, W.N. Street and W.H. Wolberg. Breast cancer diagnosis and \n",
      "     prognosis via linear programming. Operations Research, 43(4), pages 570-577, \n",
      "     July-August 1995.\n",
      "   - W.H. Wolberg, W.N. Street, and O.L. Mangasarian. Machine learning techniques\n",
      "     to diagnose breast cancer from fine-needle aspirates. Cancer Letters 77 (1994) \n",
      "     163-171.\n"
     ]
    },
    {
     "data": {
      "application/javascript": [
       "\n",
       "            setTimeout(function() {\n",
       "                var nbb_cell_id = 14;\n",
       "                var nbb_unformatted_code = \"print(cancer.DESCR)\";\n",
       "                var nbb_formatted_code = \"print(cancer.DESCR)\";\n",
       "                var nbb_cells = Jupyter.notebook.get_cells();\n",
       "                for (var i = 0; i < nbb_cells.length; ++i) {\n",
       "                    if (nbb_cells[i].input_prompt_number == nbb_cell_id) {\n",
       "                        if (nbb_cells[i].get_text() == nbb_unformatted_code) {\n",
       "                             nbb_cells[i].set_text(nbb_formatted_code);\n",
       "                        }\n",
       "                        break;\n",
       "                    }\n",
       "                }\n",
       "            }, 500);\n",
       "            "
      ],
      "text/plain": [
       "<IPython.core.display.Javascript object>"
      ]
     },
     "metadata": {},
     "output_type": "display_data"
    }
   ],
   "source": [
    "print(cancer.DESCR)"
   ]
  },
  {
   "cell_type": "code",
   "execution_count": 17,
   "id": "d1e7c25f",
   "metadata": {},
   "outputs": [
    {
     "name": "stdout",
     "output_type": "stream",
     "text": [
      "[[1.799e+01 1.038e+01 1.228e+02 1.001e+03 1.184e-01]\n",
      " [2.057e+01 1.777e+01 1.329e+02 1.326e+03 8.474e-02]\n",
      " [1.969e+01 2.125e+01 1.300e+02 1.203e+03 1.096e-01]\n",
      " ...\n",
      " [1.660e+01 2.808e+01 1.083e+02 8.581e+02 8.455e-02]\n",
      " [2.060e+01 2.933e+01 1.401e+02 1.265e+03 1.178e-01]\n",
      " [7.760e+00 2.454e+01 4.792e+01 1.810e+02 5.263e-02]]\n",
      "[0 0 0 0 0]\n"
     ]
    },
    {
     "data": {
      "application/javascript": [
       "\n",
       "            setTimeout(function() {\n",
       "                var nbb_cell_id = 17;\n",
       "                var nbb_unformatted_code = \"print(cancer.data[:, :5])\\nprint(cancer.target[:5])\";\n",
       "                var nbb_formatted_code = \"print(cancer.data[:, :5])\\nprint(cancer.target[:5])\";\n",
       "                var nbb_cells = Jupyter.notebook.get_cells();\n",
       "                for (var i = 0; i < nbb_cells.length; ++i) {\n",
       "                    if (nbb_cells[i].input_prompt_number == nbb_cell_id) {\n",
       "                        if (nbb_cells[i].get_text() == nbb_unformatted_code) {\n",
       "                             nbb_cells[i].set_text(nbb_formatted_code);\n",
       "                        }\n",
       "                        break;\n",
       "                    }\n",
       "                }\n",
       "            }, 500);\n",
       "            "
      ],
      "text/plain": [
       "<IPython.core.display.Javascript object>"
      ]
     },
     "metadata": {},
     "output_type": "display_data"
    }
   ],
   "source": [
    "print(cancer.data[:, :5])\n",
    "print(cancer.target[:5])"
   ]
  },
  {
   "cell_type": "code",
   "execution_count": 19,
   "id": "a8d180d4",
   "metadata": {},
   "outputs": [
    {
     "name": "stdout",
     "output_type": "stream",
     "text": [
      "malignant: 212\n",
      "benign: 357\n"
     ]
    },
    {
     "data": {
      "application/javascript": [
       "\n",
       "            setTimeout(function() {\n",
       "                var nbb_cell_id = 19;\n",
       "                var nbb_unformatted_code = \"# print the cancer labels (0:malignant, 1:benign) =>\\n# malignant (\\u00e1c t\\u00ednh), benign (l\\u00e0nh t\\u00ednh)\\nprint(\\\"malignant:\\\", cancer.target[cancer.target == 0].size)\\nprint(\\\"benign:\\\", cancer.target[cancer.target == 1].size)\";\n",
       "                var nbb_formatted_code = \"# print the cancer labels (0:malignant, 1:benign) =>\\n# malignant (\\u00e1c t\\u00ednh), benign (l\\u00e0nh t\\u00ednh)\\nprint(\\\"malignant:\\\", cancer.target[cancer.target == 0].size)\\nprint(\\\"benign:\\\", cancer.target[cancer.target == 1].size)\";\n",
       "                var nbb_cells = Jupyter.notebook.get_cells();\n",
       "                for (var i = 0; i < nbb_cells.length; ++i) {\n",
       "                    if (nbb_cells[i].input_prompt_number == nbb_cell_id) {\n",
       "                        if (nbb_cells[i].get_text() == nbb_unformatted_code) {\n",
       "                             nbb_cells[i].set_text(nbb_formatted_code);\n",
       "                        }\n",
       "                        break;\n",
       "                    }\n",
       "                }\n",
       "            }, 500);\n",
       "            "
      ],
      "text/plain": [
       "<IPython.core.display.Javascript object>"
      ]
     },
     "metadata": {},
     "output_type": "display_data"
    }
   ],
   "source": [
    "# print the cancer labels (0:malignant, 1:benign) =>\n",
    "# malignant (ác tính), benign (lành tính)\n",
    "print(\"malignant:\", cancer.target[cancer.target == 0].size)\n",
    "print(\"benign:\", cancer.target[cancer.target == 1].size)"
   ]
  },
  {
   "cell_type": "markdown",
   "id": "7deb8c52",
   "metadata": {},
   "source": [
    "### Chia tập train - test"
   ]
  },
  {
   "cell_type": "code",
   "execution_count": 23,
   "id": "4e6872f0",
   "metadata": {},
   "outputs": [
    {
     "data": {
      "application/javascript": [
       "\n",
       "            setTimeout(function() {\n",
       "                var nbb_cell_id = 23;\n",
       "                var nbb_unformatted_code = \"X = cancer.data\\ny = cancer.target\";\n",
       "                var nbb_formatted_code = \"X = cancer.data\\ny = cancer.target\";\n",
       "                var nbb_cells = Jupyter.notebook.get_cells();\n",
       "                for (var i = 0; i < nbb_cells.length; ++i) {\n",
       "                    if (nbb_cells[i].input_prompt_number == nbb_cell_id) {\n",
       "                        if (nbb_cells[i].get_text() == nbb_unformatted_code) {\n",
       "                             nbb_cells[i].set_text(nbb_formatted_code);\n",
       "                        }\n",
       "                        break;\n",
       "                    }\n",
       "                }\n",
       "            }, 500);\n",
       "            "
      ],
      "text/plain": [
       "<IPython.core.display.Javascript object>"
      ]
     },
     "metadata": {},
     "output_type": "display_data"
    }
   ],
   "source": [
    "X = cancer.data\n",
    "y = cancer.target"
   ]
  },
  {
   "cell_type": "code",
   "execution_count": 24,
   "id": "c51b2e94",
   "metadata": {},
   "outputs": [
    {
     "data": {
      "application/javascript": [
       "\n",
       "            setTimeout(function() {\n",
       "                var nbb_cell_id = 24;\n",
       "                var nbb_unformatted_code = \"from sklearn.model_selection import train_test_split\\nX_train, X_test, y_train, y_test = train_test_split(X, y,\\ntest_size=0.3,\\nrandom_state=42)\";\n",
       "                var nbb_formatted_code = \"from sklearn.model_selection import train_test_split\\n\\nX_train, X_test, y_train, y_test = train_test_split(\\n    X, y, test_size=0.3, random_state=42\\n)\";\n",
       "                var nbb_cells = Jupyter.notebook.get_cells();\n",
       "                for (var i = 0; i < nbb_cells.length; ++i) {\n",
       "                    if (nbb_cells[i].input_prompt_number == nbb_cell_id) {\n",
       "                        if (nbb_cells[i].get_text() == nbb_unformatted_code) {\n",
       "                             nbb_cells[i].set_text(nbb_formatted_code);\n",
       "                        }\n",
       "                        break;\n",
       "                    }\n",
       "                }\n",
       "            }, 500);\n",
       "            "
      ],
      "text/plain": [
       "<IPython.core.display.Javascript object>"
      ]
     },
     "metadata": {},
     "output_type": "display_data"
    }
   ],
   "source": [
    "from sklearn.model_selection import train_test_split\n",
    "\n",
    "X_train, X_test, y_train, y_test = train_test_split(\n",
    "    X, y, test_size=0.3, random_state=42\n",
    ")"
   ]
  },
  {
   "cell_type": "markdown",
   "id": "7171fe14",
   "metadata": {},
   "source": [
    "### sử dụng SVM - SVC"
   ]
  },
  {
   "cell_type": "code",
   "execution_count": 31,
   "id": "9849043e",
   "metadata": {},
   "outputs": [
    {
     "data": {
      "text/plain": [
       "SVC(kernel='linear')"
      ]
     },
     "execution_count": 31,
     "metadata": {},
     "output_type": "execute_result"
    },
    {
     "data": {
      "application/javascript": [
       "\n",
       "            setTimeout(function() {\n",
       "                var nbb_cell_id = 31;\n",
       "                var nbb_unformatted_code = \"clf = svm.SVC(kernel=\\\"linear\\\").fit(X_train, y_train)\\nclf\";\n",
       "                var nbb_formatted_code = \"clf = svm.SVC(kernel=\\\"linear\\\").fit(X_train, y_train)\\nclf\";\n",
       "                var nbb_cells = Jupyter.notebook.get_cells();\n",
       "                for (var i = 0; i < nbb_cells.length; ++i) {\n",
       "                    if (nbb_cells[i].input_prompt_number == nbb_cell_id) {\n",
       "                        if (nbb_cells[i].get_text() == nbb_unformatted_code) {\n",
       "                             nbb_cells[i].set_text(nbb_formatted_code);\n",
       "                        }\n",
       "                        break;\n",
       "                    }\n",
       "                }\n",
       "            }, 500);\n",
       "            "
      ],
      "text/plain": [
       "<IPython.core.display.Javascript object>"
      ]
     },
     "metadata": {},
     "output_type": "display_data"
    }
   ],
   "source": [
    "clf = svm.SVC(kernel=\"linear\").fit(X_train, y_train)\n",
    "clf"
   ]
  },
  {
   "cell_type": "code",
   "execution_count": 32,
   "id": "ed4e4e85",
   "metadata": {},
   "outputs": [
    {
     "name": "stdout",
     "output_type": "stream",
     "text": [
      "R-squared in train dataset:  0.964824120603015\n",
      "R-squared in test dataset:  0.9649122807017544\n"
     ]
    },
    {
     "data": {
      "application/javascript": [
       "\n",
       "            setTimeout(function() {\n",
       "                var nbb_cell_id = 32;\n",
       "                var nbb_unformatted_code = \"# Ki\\u1ec3m tra \\u0111\\u1ed9 ch\\u00ednh x\\u00e1c\\nprint(\\\"R-squared in train dataset: \\\", clf.score(X_train, y_train))\\nprint(\\\"R-squared in test dataset: \\\", clf.score(X_test, y_test))\";\n",
       "                var nbb_formatted_code = \"# Ki\\u1ec3m tra \\u0111\\u1ed9 ch\\u00ednh x\\u00e1c\\nprint(\\\"R-squared in train dataset: \\\", clf.score(X_train, y_train))\\nprint(\\\"R-squared in test dataset: \\\", clf.score(X_test, y_test))\";\n",
       "                var nbb_cells = Jupyter.notebook.get_cells();\n",
       "                for (var i = 0; i < nbb_cells.length; ++i) {\n",
       "                    if (nbb_cells[i].input_prompt_number == nbb_cell_id) {\n",
       "                        if (nbb_cells[i].get_text() == nbb_unformatted_code) {\n",
       "                             nbb_cells[i].set_text(nbb_formatted_code);\n",
       "                        }\n",
       "                        break;\n",
       "                    }\n",
       "                }\n",
       "            }, 500);\n",
       "            "
      ],
      "text/plain": [
       "<IPython.core.display.Javascript object>"
      ]
     },
     "metadata": {},
     "output_type": "display_data"
    }
   ],
   "source": [
    "# Kiểm tra độ chính xác\n",
    "print(\"R-squared in train dataset: \", clf.score(X_train, y_train))\n",
    "print(\"R-squared in test dataset: \", clf.score(X_test, y_test))"
   ]
  },
  {
   "cell_type": "code",
   "execution_count": 37,
   "id": "7f66c8ba",
   "metadata": {},
   "outputs": [
    {
     "data": {
      "application/javascript": [
       "\n",
       "            setTimeout(function() {\n",
       "                var nbb_cell_id = 37;\n",
       "                var nbb_unformatted_code = \"from sklearn.metrics import confusion_matrix, accuracy_score, classification_report\\ndef evalute(model, X_train, X_test, y_train, y_test):\\n    yhat_test = model.predict(X_test)\\n    yhat_train = model.predict(X_train)\\n    \\n    print(\\\"***TRAINIG RESULTS***: \\\\n==================================================\\\")\\n    clf_report = pd.DataFrame(classification_report(y_train, yhat_train, output_dict=True))\\n    print('Confusion matrix: \\\\n', confusion_matrix(y_train, yhat_train))\\n    print(\\\"Train Accuracy Score:\\\", accuracy_score(y_train, yhat_train))\\n    print('Classification Report: \\\\n', classification_report(y_train, yhat_train))\\n    \\n    print(\\\"\\\\n***TEST RESULTS***: \\\\n===================================================\\\")\\n    print(\\\"Test Accuracy:\\\", accuracy_score(y_test, yhat_test))\\n    clf_report = pd.DataFrame(classification_report(y_test, yhat_test, output_dict=True))\\n    print('Confusion matrix: \\\\n', confusion_matrix(y_test, yhat_test))\\n    print(\\\"Test Accuracy Score:\\\", accuracy_score(y_test, yhat_test))\\n    print('Classification Report: \\\\n', classification_report(y_test, yhat_test))\";\n",
       "                var nbb_formatted_code = \"from sklearn.metrics import confusion_matrix, accuracy_score, classification_report\\n\\n\\ndef evalute(model, X_train, X_test, y_train, y_test):\\n    yhat_test = model.predict(X_test)\\n    yhat_train = model.predict(X_train)\\n\\n    print(\\\"***TRAINIG RESULTS***: \\\\n==================================================\\\")\\n    clf_report = pd.DataFrame(\\n        classification_report(y_train, yhat_train, output_dict=True)\\n    )\\n    print(\\\"Confusion matrix: \\\\n\\\", confusion_matrix(y_train, yhat_train))\\n    print(\\\"Train Accuracy Score:\\\", accuracy_score(y_train, yhat_train))\\n    print(\\\"Classification Report: \\\\n\\\", classification_report(y_train, yhat_train))\\n\\n    print(\\\"\\\\n***TEST RESULTS***: \\\\n===================================================\\\")\\n    print(\\\"Test Accuracy:\\\", accuracy_score(y_test, yhat_test))\\n    clf_report = pd.DataFrame(\\n        classification_report(y_test, yhat_test, output_dict=True)\\n    )\\n    print(\\\"Confusion matrix: \\\\n\\\", confusion_matrix(y_test, yhat_test))\\n    print(\\\"Test Accuracy Score:\\\", accuracy_score(y_test, yhat_test))\\n    print(\\\"Classification Report: \\\\n\\\", classification_report(y_test, yhat_test))\";\n",
       "                var nbb_cells = Jupyter.notebook.get_cells();\n",
       "                for (var i = 0; i < nbb_cells.length; ++i) {\n",
       "                    if (nbb_cells[i].input_prompt_number == nbb_cell_id) {\n",
       "                        if (nbb_cells[i].get_text() == nbb_unformatted_code) {\n",
       "                             nbb_cells[i].set_text(nbb_formatted_code);\n",
       "                        }\n",
       "                        break;\n",
       "                    }\n",
       "                }\n",
       "            }, 500);\n",
       "            "
      ],
      "text/plain": [
       "<IPython.core.display.Javascript object>"
      ]
     },
     "metadata": {},
     "output_type": "display_data"
    }
   ],
   "source": [
    "from sklearn.metrics import confusion_matrix, accuracy_score, classification_report\n",
    "def evalute(model, X_train, X_test, y_train, y_test):\n",
    "    yhat_test = model.predict(X_test)\n",
    "    yhat_train = model.predict(X_train)\n",
    "    \n",
    "    print(\"***TRAINIG RESULTS***: \\n==================================================\")\n",
    "    clf_report = pd.DataFrame(classification_report(y_train, yhat_train, output_dict=True))\n",
    "    print('Confusion matrix: \\n', confusion_matrix(y_train, yhat_train))\n",
    "    print(\"Train Accuracy Score:\", accuracy_score(y_train, yhat_train))\n",
    "    print('Classification Report: \\n', classification_report(y_train, yhat_train))\n",
    "    \n",
    "    print(\"\\n***TEST RESULTS***: \\n===================================================\")\n",
    "    print(\"Test Accuracy:\", accuracy_score(y_test, yhat_test))\n",
    "    clf_report = pd.DataFrame(classification_report(y_test, yhat_test, output_dict=True))\n",
    "    print('Confusion matrix: \\n', confusion_matrix(y_test, yhat_test))\n",
    "    print(\"Test Accuracy Score:\", accuracy_score(y_test, yhat_test))\n",
    "    print('Classification Report: \\n', classification_report(y_test, yhat_test))\n"
   ]
  },
  {
   "cell_type": "code",
   "execution_count": 38,
   "id": "78e82ac8",
   "metadata": {},
   "outputs": [
    {
     "name": "stdout",
     "output_type": "stream",
     "text": [
      "***TRAINIG RESULTS***: \n",
      "==================================================\n",
      "Confusion matrix: \n",
      " [[138  11]\n",
      " [  3 246]]\n",
      "Train Accuracy Score: 0.964824120603015\n",
      "Classification Report: \n",
      "               precision    recall  f1-score   support\n",
      "\n",
      "           0       0.98      0.93      0.95       149\n",
      "           1       0.96      0.99      0.97       249\n",
      "\n",
      "    accuracy                           0.96       398\n",
      "   macro avg       0.97      0.96      0.96       398\n",
      "weighted avg       0.97      0.96      0.96       398\n",
      "\n",
      "\n",
      "***TEST RESULTS***: \n",
      "===================================================\n",
      "Test Accuracy: 0.9649122807017544\n",
      "Confusion matrix: \n",
      " [[ 59   4]\n",
      " [  2 106]]\n",
      "Test Accuracy Score: 0.9649122807017544\n",
      "Classification Report: \n",
      "               precision    recall  f1-score   support\n",
      "\n",
      "           0       0.97      0.94      0.95        63\n",
      "           1       0.96      0.98      0.97       108\n",
      "\n",
      "    accuracy                           0.96       171\n",
      "   macro avg       0.97      0.96      0.96       171\n",
      "weighted avg       0.96      0.96      0.96       171\n",
      "\n"
     ]
    },
    {
     "data": {
      "application/javascript": [
       "\n",
       "            setTimeout(function() {\n",
       "                var nbb_cell_id = 38;\n",
       "                var nbb_unformatted_code = \"evalute(clf, X_train, X_test, y_train, y_test)\";\n",
       "                var nbb_formatted_code = \"evalute(clf, X_train, X_test, y_train, y_test)\";\n",
       "                var nbb_cells = Jupyter.notebook.get_cells();\n",
       "                for (var i = 0; i < nbb_cells.length; ++i) {\n",
       "                    if (nbb_cells[i].input_prompt_number == nbb_cell_id) {\n",
       "                        if (nbb_cells[i].get_text() == nbb_unformatted_code) {\n",
       "                             nbb_cells[i].set_text(nbb_formatted_code);\n",
       "                        }\n",
       "                        break;\n",
       "                    }\n",
       "                }\n",
       "            }, 500);\n",
       "            "
      ],
      "text/plain": [
       "<IPython.core.display.Javascript object>"
      ]
     },
     "metadata": {},
     "output_type": "display_data"
    }
   ],
   "source": [
    "evalute(clf, X_train, X_test, y_train, y_test)"
   ]
  },
  {
   "cell_type": "code",
   "execution_count": 40,
   "id": "2e832b89",
   "metadata": {},
   "outputs": [
    {
     "data": {
      "text/plain": [
       "'\\nHigh accuracy: ~0.95\\nHigh precision: ~0.95, High recall: ~0.98\\nHigh training R^2 score and High testing score, nearly the same\\n=> The good model\\n'"
      ]
     },
     "execution_count": 40,
     "metadata": {},
     "output_type": "execute_result"
    },
    {
     "data": {
      "application/javascript": [
       "\n",
       "            setTimeout(function() {\n",
       "                var nbb_cell_id = 40;\n",
       "                var nbb_unformatted_code = \"\\\"\\\"\\\"\\nR-square c\\u1ee7a c\\u1ea3 train v\\u00e0 test \\u0111\\u1ec1u cao\\nAccuracy, recall,  precision, f1-score c\\u1ee7a c\\u1ea3 train v\\u00e0 test \\u0111\\u1ec1u cao\\n\\n=> model t\\u1ed1t\\n\\\"\\\"\\\"\\n\\n'''\\nHigh accuracy: ~0.95\\nHigh precision: ~0.95, High recall: ~0.98\\nHigh training R^2 score and High testing score, nearly the same\\n=> The good model\\n'''\";\n",
       "                var nbb_formatted_code = \"\\\"\\\"\\\"\\nR-square c\\u1ee7a c\\u1ea3 train v\\u00e0 test \\u0111\\u1ec1u cao\\nAccuracy, recall,  precision, f1-score c\\u1ee7a c\\u1ea3 train v\\u00e0 test \\u0111\\u1ec1u cao\\n\\n=> model t\\u1ed1t\\n\\\"\\\"\\\"\\n\\n\\\"\\\"\\\"\\nHigh accuracy: ~0.95\\nHigh precision: ~0.95, High recall: ~0.98\\nHigh training R^2 score and High testing score, nearly the same\\n=> The good model\\n\\\"\\\"\\\"\";\n",
       "                var nbb_cells = Jupyter.notebook.get_cells();\n",
       "                for (var i = 0; i < nbb_cells.length; ++i) {\n",
       "                    if (nbb_cells[i].input_prompt_number == nbb_cell_id) {\n",
       "                        if (nbb_cells[i].get_text() == nbb_unformatted_code) {\n",
       "                             nbb_cells[i].set_text(nbb_formatted_code);\n",
       "                        }\n",
       "                        break;\n",
       "                    }\n",
       "                }\n",
       "            }, 500);\n",
       "            "
      ],
      "text/plain": [
       "<IPython.core.display.Javascript object>"
      ]
     },
     "metadata": {},
     "output_type": "display_data"
    }
   ],
   "source": [
    "\"\"\"\n",
    "R-square của cả train và test đều cao\n",
    "Accuracy, recall,  precision, f1-score của cả train và test đều cao\n",
    "\n",
    "=> model tốt\n",
    "\"\"\"\n",
    "\n",
    "\"\"\"\n",
    "High accuracy: ~0.95\n",
    "High precision: ~0.95, High recall: ~0.98\n",
    "High training R^2 score and High testing score, nearly the same\n",
    "=> The good model\n",
    "\"\"\""
   ]
  },
  {
   "cell_type": "markdown",
   "id": "359637fd",
   "metadata": {},
   "source": [
    "## Lựa chọn model phù hợp\n",
    "- Ta chọn ra model phù hợp nhất đối với data set này"
   ]
  },
  {
   "cell_type": "code",
   "execution_count": 41,
   "id": "e092f359",
   "metadata": {},
   "outputs": [
    {
     "data": {
      "application/javascript": [
       "\n",
       "            setTimeout(function() {\n",
       "                var nbb_cell_id = 41;\n",
       "                var nbb_unformatted_code = \"from sklearn.linear_model import LogisticRegression\\nfrom sklearn.ensemble import RandomForestClassifier\\nfrom sklearn.svm import SVC\\nfrom sklearn.naive_bayes import GaussianNB\";\n",
       "                var nbb_formatted_code = \"from sklearn.linear_model import LogisticRegression\\nfrom sklearn.ensemble import RandomForestClassifier\\nfrom sklearn.svm import SVC\\nfrom sklearn.naive_bayes import GaussianNB\";\n",
       "                var nbb_cells = Jupyter.notebook.get_cells();\n",
       "                for (var i = 0; i < nbb_cells.length; ++i) {\n",
       "                    if (nbb_cells[i].input_prompt_number == nbb_cell_id) {\n",
       "                        if (nbb_cells[i].get_text() == nbb_unformatted_code) {\n",
       "                             nbb_cells[i].set_text(nbb_formatted_code);\n",
       "                        }\n",
       "                        break;\n",
       "                    }\n",
       "                }\n",
       "            }, 500);\n",
       "            "
      ],
      "text/plain": [
       "<IPython.core.display.Javascript object>"
      ]
     },
     "metadata": {},
     "output_type": "display_data"
    }
   ],
   "source": [
    "from sklearn.linear_model import LogisticRegression\n",
    "from sklearn.ensemble import RandomForestClassifier\n",
    "from sklearn.svm import SVC\n",
    "from sklearn.naive_bayes import GaussianNB"
   ]
  },
  {
   "cell_type": "code",
   "execution_count": 46,
   "id": "63454134",
   "metadata": {},
   "outputs": [
    {
     "name": "stdout",
     "output_type": "stream",
     "text": [
      "[0.92105263 0.95614035 0.99122807 0.97368421 0.98230088]\n",
      "[0.94736842 0.92982456 0.97368421 0.92105263 0.95575221]\n",
      "[0.92105263 0.92105263 0.94736842 0.94736842 0.95575221]\n",
      "[0.92982456 0.93859649 0.97368421 0.94736842 0.96460177]\n"
     ]
    },
    {
     "data": {
      "application/javascript": [
       "\n",
       "            setTimeout(function() {\n",
       "                var nbb_cell_id = 46;\n",
       "                var nbb_unformatted_code = \"# T\\u00ednh \\u0111\\u1ed9 ch\\u00ednh x\\u00e1c theo: Logistic, Naive Bayes, SVM, KNN\\nfrom sklearn.model_selection import cross_val_score\\n\\nmodels = [\\n    RandomForestClassifier(n_estimators=200),\\n    SVC(kernel=\\\"linear\\\"),\\n    GaussianNB(),\\n    LogisticRegression(solver=\\\"liblinear\\\"),  # solver='lbfgs',\\n]\\nCV = 5  # s\\u1ed1 l\\u1ea7n l\\u1eb7p\\ncv_df = pd.DataFrame(index=range(CV * len(models)))  # l\\u01b0u k\\u1ebft qu\\u1ea3 acc c\\u1ee7a 4 model\\nentries = []  # l\\u01b0u 2 th\\u00f4ng tin l\\u00e0 model_name v\\u00e0 accuracies.mean()\\nfor model in models:  # duy\\u1ec7t t\\u1eebng model trong ds model\\n    model_name = model.__class__.__name__\\n    accuracies = cross_val_score(model, X, y, scoring=\\\"accuracy\\\", cv=CV)\\n    print(accuracies)\\n    entries.append([model_name, accuracies.mean()])\\ncv_df = pd.DataFrame(entries, columns=[\\\"model_name\\\", \\\"accuracy\\\"]).sort_values(by=\\\"accuracy\\\", ascending=False)\";\n",
       "                var nbb_formatted_code = \"# T\\u00ednh \\u0111\\u1ed9 ch\\u00ednh x\\u00e1c theo: Logistic, Naive Bayes, SVM, KNN\\nfrom sklearn.model_selection import cross_val_score\\n\\nmodels = [\\n    RandomForestClassifier(n_estimators=200),\\n    SVC(kernel=\\\"linear\\\"),\\n    GaussianNB(),\\n    LogisticRegression(solver=\\\"liblinear\\\"),  # solver='lbfgs',\\n]\\nCV = 5  # s\\u1ed1 l\\u1ea7n l\\u1eb7p\\ncv_df = pd.DataFrame(index=range(CV * len(models)))  # l\\u01b0u k\\u1ebft qu\\u1ea3 acc c\\u1ee7a 4 model\\nentries = []  # l\\u01b0u 2 th\\u00f4ng tin l\\u00e0 model_name v\\u00e0 accuracies.mean()\\nfor model in models:  # duy\\u1ec7t t\\u1eebng model trong ds model\\n    model_name = model.__class__.__name__\\n    accuracies = cross_val_score(model, X, y, scoring=\\\"accuracy\\\", cv=CV)\\n    print(accuracies)\\n    entries.append([model_name, accuracies.mean()])\\ncv_df = pd.DataFrame(entries, columns=[\\\"model_name\\\", \\\"accuracy\\\"]).sort_values(\\n    by=\\\"accuracy\\\", ascending=False\\n)\";\n",
       "                var nbb_cells = Jupyter.notebook.get_cells();\n",
       "                for (var i = 0; i < nbb_cells.length; ++i) {\n",
       "                    if (nbb_cells[i].input_prompt_number == nbb_cell_id) {\n",
       "                        if (nbb_cells[i].get_text() == nbb_unformatted_code) {\n",
       "                             nbb_cells[i].set_text(nbb_formatted_code);\n",
       "                        }\n",
       "                        break;\n",
       "                    }\n",
       "                }\n",
       "            }, 500);\n",
       "            "
      ],
      "text/plain": [
       "<IPython.core.display.Javascript object>"
      ]
     },
     "metadata": {},
     "output_type": "display_data"
    }
   ],
   "source": [
    "# Tính độ chính xác theo: Logistic, Naive Bayes, SVM, KNN\n",
    "from sklearn.model_selection import cross_val_score\n",
    "\n",
    "models = [\n",
    "    RandomForestClassifier(n_estimators=200),\n",
    "    SVC(kernel=\"linear\"),\n",
    "    GaussianNB(),\n",
    "    LogisticRegression(solver=\"liblinear\"),  # solver='lbfgs',\n",
    "]\n",
    "\n",
    "CV = 5  # số lần lặp\n",
    "cv_df = pd.DataFrame(index=range(CV * len(models)))  # lưu kết quả acc của 4 model\n",
    "entries = []  # lưu 2 thông tin là model_name và accuracies.mean()\n",
    "for model in models:  # duyệt từng model trong ds model\n",
    "    model_name = model.__class__.__name__\n",
    "    accuracies = cross_val_score(model, X, y, scoring=\"accuracy\", cv=CV)\n",
    "    print(accuracies)\n",
    "    entries.append([model_name, accuracies.mean()])\n"
   ]
  },
  {
   "cell_type": "code",
   "execution_count": 48,
   "id": "b2459215",
   "metadata": {},
   "outputs": [
    {
     "data": {
      "text/html": [
       "<div>\n",
       "<style scoped>\n",
       "    .dataframe tbody tr th:only-of-type {\n",
       "        vertical-align: middle;\n",
       "    }\n",
       "\n",
       "    .dataframe tbody tr th {\n",
       "        vertical-align: top;\n",
       "    }\n",
       "\n",
       "    .dataframe thead th {\n",
       "        text-align: right;\n",
       "    }\n",
       "</style>\n",
       "<table border=\"1\" class=\"dataframe\">\n",
       "  <thead>\n",
       "    <tr style=\"text-align: right;\">\n",
       "      <th></th>\n",
       "      <th>model_name</th>\n",
       "      <th>accuracy</th>\n",
       "    </tr>\n",
       "  </thead>\n",
       "  <tbody>\n",
       "    <tr>\n",
       "      <th>0</th>\n",
       "      <td>RandomForestClassifier</td>\n",
       "      <td>0.964881</td>\n",
       "    </tr>\n",
       "    <tr>\n",
       "      <th>3</th>\n",
       "      <td>LogisticRegression</td>\n",
       "      <td>0.950815</td>\n",
       "    </tr>\n",
       "    <tr>\n",
       "      <th>1</th>\n",
       "      <td>SVC</td>\n",
       "      <td>0.945536</td>\n",
       "    </tr>\n",
       "    <tr>\n",
       "      <th>2</th>\n",
       "      <td>GaussianNB</td>\n",
       "      <td>0.938519</td>\n",
       "    </tr>\n",
       "  </tbody>\n",
       "</table>\n",
       "</div>"
      ],
      "text/plain": [
       "               model_name  accuracy\n",
       "0  RandomForestClassifier  0.964881\n",
       "3      LogisticRegression  0.950815\n",
       "1                     SVC  0.945536\n",
       "2              GaussianNB  0.938519"
      ]
     },
     "execution_count": 48,
     "metadata": {},
     "output_type": "execute_result"
    },
    {
     "data": {
      "application/javascript": [
       "\n",
       "            setTimeout(function() {\n",
       "                var nbb_cell_id = 48;\n",
       "                var nbb_unformatted_code = \"cv_df = pd.DataFrame(entries, columns=[\\\"model_name\\\", \\\"accuracy\\\"]).sort_values(\\n    by=\\\"accuracy\\\", ascending=False\\n)\\ncv_df\";\n",
       "                var nbb_formatted_code = \"cv_df = pd.DataFrame(entries, columns=[\\\"model_name\\\", \\\"accuracy\\\"]).sort_values(\\n    by=\\\"accuracy\\\", ascending=False\\n)\\ncv_df\";\n",
       "                var nbb_cells = Jupyter.notebook.get_cells();\n",
       "                for (var i = 0; i < nbb_cells.length; ++i) {\n",
       "                    if (nbb_cells[i].input_prompt_number == nbb_cell_id) {\n",
       "                        if (nbb_cells[i].get_text() == nbb_unformatted_code) {\n",
       "                             nbb_cells[i].set_text(nbb_formatted_code);\n",
       "                        }\n",
       "                        break;\n",
       "                    }\n",
       "                }\n",
       "            }, 500);\n",
       "            "
      ],
      "text/plain": [
       "<IPython.core.display.Javascript object>"
      ]
     },
     "metadata": {},
     "output_type": "display_data"
    }
   ],
   "source": [
    "cv_df = pd.DataFrame(entries, columns=[\"model_name\", \"accuracy\"]).sort_values(\n",
    "    by=\"accuracy\", ascending=False\n",
    ")\n",
    "cv_df"
   ]
  },
  {
   "cell_type": "code",
   "execution_count": 49,
   "id": "7fe4df96",
   "metadata": {},
   "outputs": [
    {
     "data": {
      "image/png": "[encoded data removed]",
      "text/plain": [
       "<Figure size 576x432 with 1 Axes>"
      ]
     },
     "metadata": {
      "needs_background": "light"
     },
     "output_type": "display_data"
    },
    {
     "data": {
      "application/javascript": [
       "\n",
       "            setTimeout(function() {\n",
       "                var nbb_cell_id = 49;\n",
       "                var nbb_unformatted_code = \"plt.figure(figsize=(8, 6))\\n\\nplt.bar(cv_df[\\\"model_name\\\"], cv_df[\\\"accuracy\\\"])\\nplt.xlabel(\\\"model_name\\\")\\nplt.ylabel(\\\"Mean of accuracies\\\")\\nplt.xticks(rotation=\\\"vertical\\\")\\nplt.title(\\\"Accuracies of Algorithms\\\")\\nplt.show()\";\n",
       "                var nbb_formatted_code = \"plt.figure(figsize=(8, 6))\\n\\nplt.bar(cv_df[\\\"model_name\\\"], cv_df[\\\"accuracy\\\"])\\nplt.xlabel(\\\"model_name\\\")\\nplt.ylabel(\\\"Mean of accuracies\\\")\\nplt.xticks(rotation=\\\"vertical\\\")\\nplt.title(\\\"Accuracies of Algorithms\\\")\\nplt.show()\";\n",
       "                var nbb_cells = Jupyter.notebook.get_cells();\n",
       "                for (var i = 0; i < nbb_cells.length; ++i) {\n",
       "                    if (nbb_cells[i].input_prompt_number == nbb_cell_id) {\n",
       "                        if (nbb_cells[i].get_text() == nbb_unformatted_code) {\n",
       "                             nbb_cells[i].set_text(nbb_formatted_code);\n",
       "                        }\n",
       "                        break;\n",
       "                    }\n",
       "                }\n",
       "            }, 500);\n",
       "            "
      ],
      "text/plain": [
       "<IPython.core.display.Javascript object>"
      ]
     },
     "metadata": {},
     "output_type": "display_data"
    }
   ],
   "source": [
    "plt.figure(figsize=(8, 6))\n",
    "\n",
    "plt.bar(cv_df[\"model_name\"], cv_df[\"accuracy\"])\n",
    "plt.xlabel(\"model_name\")\n",
    "plt.ylabel(\"Mean of accuracies\")\n",
    "plt.xticks(rotation=\"vertical\")\n",
    "plt.title(\"Accuracies of Algorithms\")\n",
    "plt.show()"
   ]
  },
  {
   "cell_type": "code",
   "execution_count": 50,
   "id": "52c4a592",
   "metadata": {},
   "outputs": [
    {
     "data": {
      "text/plain": [
       "'\\n=> model có điểm cao nhất là RandomForestClassifier\\nnhưng ở đây ta sẽ chọn logistic regression model vì model này đơn giản mà vẫn đem lại high score (xếp thứ 2)\\n'"
      ]
     },
     "execution_count": 50,
     "metadata": {},
     "output_type": "execute_result"
    },
    {
     "data": {
      "application/javascript": [
       "\n",
       "            setTimeout(function() {\n",
       "                var nbb_cell_id = 50;\n",
       "                var nbb_unformatted_code = \"'''\\n=> model c\\u00f3 \\u0111i\\u1ec3m cao nh\\u1ea5t l\\u00e0 RandomForestClassifier\\nnh\\u01b0ng \\u1edf \\u0111\\u00e2y ta s\\u1ebd ch\\u1ecdn logistic regression model v\\u00ec model n\\u00e0y \\u0111\\u01a1n gi\\u1ea3n m\\u00e0 v\\u1eabn \\u0111em l\\u1ea1i high score (x\\u1ebfp th\\u1ee9 2)\\n'''\";\n",
       "                var nbb_formatted_code = \"\\\"\\\"\\\"\\n=> model c\\u00f3 \\u0111i\\u1ec3m cao nh\\u1ea5t l\\u00e0 RandomForestClassifier\\nnh\\u01b0ng \\u1edf \\u0111\\u00e2y ta s\\u1ebd ch\\u1ecdn logistic regression model v\\u00ec model n\\u00e0y \\u0111\\u01a1n gi\\u1ea3n m\\u00e0 v\\u1eabn \\u0111em l\\u1ea1i high score (x\\u1ebfp th\\u1ee9 2)\\n\\\"\\\"\\\"\";\n",
       "                var nbb_cells = Jupyter.notebook.get_cells();\n",
       "                for (var i = 0; i < nbb_cells.length; ++i) {\n",
       "                    if (nbb_cells[i].input_prompt_number == nbb_cell_id) {\n",
       "                        if (nbb_cells[i].get_text() == nbb_unformatted_code) {\n",
       "                             nbb_cells[i].set_text(nbb_formatted_code);\n",
       "                        }\n",
       "                        break;\n",
       "                    }\n",
       "                }\n",
       "            }, 500);\n",
       "            "
      ],
      "text/plain": [
       "<IPython.core.display.Javascript object>"
      ]
     },
     "metadata": {},
     "output_type": "display_data"
    }
   ],
   "source": [
    "\"\"\"\n",
    "=> model có điểm cao nhất là RandomForestClassifier\n",
    "nhưng ở đây ta sẽ chọn logistic regression model vì model này đơn giản mà vẫn đem lại high score (xếp thứ 2)\n",
    "\"\"\""
   ]
  },
  {
   "cell_type": "code",
   "execution_count": null,
   "id": "e7355e5d",
   "metadata": {},
   "outputs": [],
   "source": []
  }
 ],
 "metadata": {
  "kernelspec": {
   "display_name": "Python 3 (ipykernel)",
   "language": "python",
   "name": "python3"
  },
  "language_info": {
   "codemirror_mode": {
    "name": "ipython",
    "version": 3
   },
   "file_extension": ".py",
   "mimetype": "text/x-python",
   "name": "python",
   "nbconvert_exporter": "python",
   "pygments_lexer": "ipython3",
   "version": "3.9.7"
  }
 },
 "nbformat": 4,
 "nbformat_minor": 5
}
