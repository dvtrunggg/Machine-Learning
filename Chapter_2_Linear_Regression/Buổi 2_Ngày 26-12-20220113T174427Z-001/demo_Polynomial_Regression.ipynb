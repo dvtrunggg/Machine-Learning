{
 "cells": [
  {
   "cell_type": "code",
   "execution_count": 1,
   "id": "a7944826",
   "metadata": {},
   "outputs": [],
   "source": [
    "import pandas as pd\n",
    "import numpy as np\n",
    "import matplotlib.pyplot as plt\n",
    "import seaborn as sns"
   ]
  },
  {
   "cell_type": "code",
   "execution_count": 2,
   "id": "2430f99b",
   "metadata": {},
   "outputs": [],
   "source": [
    "# đọc dữ liệu\n",
    "df = pd.read_csv('data/location_rev.csv')"
   ]
  },
  {
   "cell_type": "code",
   "execution_count": 3,
   "id": "57633153",
   "metadata": {},
   "outputs": [
    {
     "name": "stdout",
     "output_type": "stream",
     "text": [
      "<class 'pandas.core.frame.DataFrame'>\n",
      "RangeIndex: 1000 entries, 0 to 999\n",
      "Data columns (total 6 columns):\n",
      " #   Column               Non-Null Count  Dtype  \n",
      "---  ------               --------------  -----  \n",
      " 0   revenue              1000 non-null   float64\n",
      " 1   num_competitors      1000 non-null   float64\n",
      " 2   median_income        1000 non-null   float64\n",
      " 3   num_loyalty_members  1000 non-null   float64\n",
      " 4   population_density   1000 non-null   float64\n",
      " 5   location_age         1000 non-null   float64\n",
      "dtypes: float64(6)\n",
      "memory usage: 47.0 KB\n"
     ]
    }
   ],
   "source": [
    "df.info()"
   ]
  },
  {
   "cell_type": "code",
   "execution_count": 12,
   "id": "f5948809",
   "metadata": {},
   "outputs": [],
   "source": [
    "# bước 1: Lựa chọn thuật toán --> LinearRegression\n",
    "from sklearn.linear_model import LinearRegression\n",
    "from sklearn.preprocessing import PolynomialFeatures\n",
    "from sklearn.model_selection import train_test_split"
   ]
  },
  {
   "cell_type": "code",
   "execution_count": 6,
   "id": "6e65dc67",
   "metadata": {},
   "outputs": [],
   "source": [
    "# bước 2: chuẩn bị tập X và y\n",
    "X = df[['median_income']]\n",
    "y = df['revenue']"
   ]
  },
  {
   "cell_type": "code",
   "execution_count": 7,
   "id": "2da52312",
   "metadata": {},
   "outputs": [],
   "source": [
    "# khởi tạo\n",
    "pf = PolynomialFeatures(degree=2)"
   ]
  },
  {
   "cell_type": "code",
   "execution_count": 8,
   "id": "6eb0806a",
   "metadata": {},
   "outputs": [],
   "source": [
    "# biến đổi X -> nâng lên đa thức bậc 2 theo X\n",
    "X_pf = pf.fit_transform(X)"
   ]
  },
  {
   "cell_type": "code",
   "execution_count": 9,
   "id": "a0448c02",
   "metadata": {},
   "outputs": [
    {
     "data": {
      "text/plain": [
       "(1000, 3)"
      ]
     },
     "execution_count": 9,
     "metadata": {},
     "output_type": "execute_result"
    }
   ],
   "source": [
    "X_pf.shape"
   ]
  },
  {
   "cell_type": "code",
   "execution_count": 10,
   "id": "67852da7",
   "metadata": {},
   "outputs": [
    {
     "data": {
      "text/plain": [
       "array([[1.00000000e+00, 3.05275700e+04, 9.31932530e+08],\n",
       "       [1.00000000e+00, 3.01854900e+04, 9.11163807e+08],\n",
       "       [1.00000000e+00, 3.21822400e+04, 1.03569657e+09],\n",
       "       [1.00000000e+00, 2.97286500e+04, 8.83792631e+08],\n",
       "       [1.00000000e+00, 3.06911700e+04, 9.41947916e+08]])"
      ]
     },
     "execution_count": 10,
     "metadata": {},
     "output_type": "execute_result"
    }
   ],
   "source": [
    "X_pf[:5]"
   ]
  },
  {
   "cell_type": "code",
   "execution_count": 13,
   "id": "ab2b4487",
   "metadata": {},
   "outputs": [],
   "source": [
    "X_train, X_test, y_train, y_test = train_test_split(X_pf, y, test_size=0.2, random_state= 12) # mặc định 75:25"
   ]
  },
  {
   "cell_type": "code",
   "execution_count": 14,
   "id": "916f8811",
   "metadata": {},
   "outputs": [],
   "source": [
    "model = LinearRegression()"
   ]
  },
  {
   "cell_type": "code",
   "execution_count": 15,
   "id": "dcaa9158",
   "metadata": {},
   "outputs": [
    {
     "data": {
      "text/plain": [
       "LinearRegression()"
      ]
     },
     "execution_count": 15,
     "metadata": {},
     "output_type": "execute_result"
    }
   ],
   "source": [
    "model.fit(X_train, y_train)"
   ]
  },
  {
   "cell_type": "code",
   "execution_count": 16,
   "id": "57757644",
   "metadata": {},
   "outputs": [
    {
     "name": "stdout",
     "output_type": "stream",
     "text": [
      "R-squared train dataset: 0.35948666992975775\n",
      "R-squared test dataset: 0.3723816423215234\n"
     ]
    }
   ],
   "source": [
    "# đo giá trị R^2 (R-squared) trên train và test\n",
    "print('R-squared train dataset:', model.score(X_train, y_train))\n",
    "print('R-squared test dataset:', model.score(X_test, y_test))"
   ]
  },
  {
   "cell_type": "markdown",
   "id": "e9ee8876",
   "metadata": {},
   "source": [
    "#### Nâng lên bậc 3"
   ]
  },
  {
   "cell_type": "code",
   "execution_count": 17,
   "id": "f99b85bd",
   "metadata": {},
   "outputs": [],
   "source": [
    "pf3 = PolynomialFeatures(degree=3)"
   ]
  },
  {
   "cell_type": "code",
   "execution_count": 18,
   "id": "b362a1c6",
   "metadata": {},
   "outputs": [],
   "source": [
    "X_pf3 = pf3.fit_transform(X)"
   ]
  },
  {
   "cell_type": "code",
   "execution_count": 19,
   "id": "f3cfa895",
   "metadata": {},
   "outputs": [
    {
     "data": {
      "text/plain": [
       "(1000, 4)"
      ]
     },
     "execution_count": 19,
     "metadata": {},
     "output_type": "execute_result"
    }
   ],
   "source": [
    "X_pf3.shape"
   ]
  },
  {
   "cell_type": "code",
   "execution_count": 20,
   "id": "063d0829",
   "metadata": {},
   "outputs": [
    {
     "data": {
      "text/plain": [
       "array([[1.00000000e+00, 3.05275700e+04, 9.31932530e+08, 2.84496355e+13],\n",
       "       [1.00000000e+00, 3.01854900e+04, 9.11163807e+08, 2.75039260e+13],\n",
       "       [1.00000000e+00, 3.21822400e+04, 1.03569657e+09, 3.33310356e+13],\n",
       "       [1.00000000e+00, 2.97286500e+04, 8.83792631e+08, 2.62739618e+13],\n",
       "       [1.00000000e+00, 3.06911700e+04, 9.41947916e+08, 2.89094836e+13]])"
      ]
     },
     "execution_count": 20,
     "metadata": {},
     "output_type": "execute_result"
    }
   ],
   "source": [
    "X_pf3[:5]"
   ]
  },
  {
   "cell_type": "code",
   "execution_count": 21,
   "id": "2f952ab9",
   "metadata": {},
   "outputs": [],
   "source": [
    "X_train3, X_test3, y_train3, y_test3 = train_test_split(X_pf3, y, test_size=0.2, random_state= 12) # mặc định 75:25"
   ]
  },
  {
   "cell_type": "code",
   "execution_count": 22,
   "id": "59b604f1",
   "metadata": {},
   "outputs": [],
   "source": [
    "model3 = LinearRegression()"
   ]
  },
  {
   "cell_type": "code",
   "execution_count": 23,
   "id": "c2d6e4d7",
   "metadata": {},
   "outputs": [
    {
     "data": {
      "text/plain": [
       "LinearRegression()"
      ]
     },
     "execution_count": 23,
     "metadata": {},
     "output_type": "execute_result"
    }
   ],
   "source": [
    "model3.fit(X_train3, y_train3)"
   ]
  },
  {
   "cell_type": "code",
   "execution_count": 24,
   "id": "5256450b",
   "metadata": {},
   "outputs": [
    {
     "name": "stdout",
     "output_type": "stream",
     "text": [
      "R-squared train dataset: 0.3595843203706591\n",
      "R-squared test dataset: 0.3751466927756172\n"
     ]
    }
   ],
   "source": [
    "# đo giá trị R^2 (R-squared) trên train và test\n",
    "print('R-squared train dataset:', model3.score(X_train3, y_train3))\n",
    "print('R-squared test dataset:', model3.score(X_test3, y_test3))"
   ]
  },
  {
   "cell_type": "markdown",
   "id": "a4fed4e6",
   "metadata": {},
   "source": [
    "## Multi Polynomial Regression"
   ]
  },
  {
   "cell_type": "code",
   "execution_count": 25,
   "id": "9101efc6",
   "metadata": {},
   "outputs": [],
   "source": [
    "# dự đoán revenue dựa vào num_competitors, median_income, num_loyalty_members, population_density và\n",
    "# location_age\n",
    "X2 = df.drop(columns=['revenue'])\n",
    "y2 = df['revenue']"
   ]
  },
  {
   "cell_type": "code",
   "execution_count": 26,
   "id": "bfd0cdfc",
   "metadata": {},
   "outputs": [],
   "source": [
    "pf2 = PolynomialFeatures(degree=2)"
   ]
  },
  {
   "cell_type": "code",
   "execution_count": 27,
   "id": "ee27c51e",
   "metadata": {},
   "outputs": [],
   "source": [
    "X2_pf = pf2.fit_transform(X2)"
   ]
  },
  {
   "cell_type": "code",
   "execution_count": 28,
   "id": "acd7aa53",
   "metadata": {},
   "outputs": [
    {
     "data": {
      "text/plain": [
       "((1000, 5), (1000, 21))"
      ]
     },
     "execution_count": 28,
     "metadata": {},
     "output_type": "execute_result"
    }
   ],
   "source": [
    "X2.shape, X2_pf.shape"
   ]
  },
  {
   "cell_type": "code",
   "execution_count": 29,
   "id": "e13400d7",
   "metadata": {},
   "outputs": [],
   "source": [
    "# tách dữ liệu train và test\n",
    "X2_train, X2_test, y2_train, y2_test = train_test_split(X2_pf, y2, test_size=0.2, random_state=12)"
   ]
  },
  {
   "cell_type": "code",
   "execution_count": 30,
   "id": "1fa28450",
   "metadata": {},
   "outputs": [],
   "source": [
    "model = LinearRegression()"
   ]
  },
  {
   "cell_type": "code",
   "execution_count": 31,
   "id": "4a189cb3",
   "metadata": {},
   "outputs": [
    {
     "data": {
      "text/plain": [
       "LinearRegression()"
      ]
     },
     "execution_count": 31,
     "metadata": {},
     "output_type": "execute_result"
    }
   ],
   "source": [
    "model.fit(X2_train, y2_train)"
   ]
  },
  {
   "cell_type": "code",
   "execution_count": 32,
   "id": "576e485b",
   "metadata": {},
   "outputs": [
    {
     "name": "stdout",
     "output_type": "stream",
     "text": [
      "R-squared train dataset: 0.8166606601043906\n",
      "R-squared test dataset: 0.8094083497444698\n"
     ]
    }
   ],
   "source": [
    "# đo giá trị R^2 (R-squared) trên train và test\n",
    "print('R-squared train dataset:', model.score(X2_train, y2_train))\n",
    "print('R-squared test dataset:', model.score(X2_test, y2_test))"
   ]
  },
  {
   "cell_type": "code",
   "execution_count": null,
   "id": "4d5bec4e",
   "metadata": {},
   "outputs": [],
   "source": []
  }
 ],
 "metadata": {
  "kernelspec": {
   "display_name": "Python 3",
   "language": "python",
   "name": "python3"
  },
  "language_info": {
   "codemirror_mode": {
    "name": "ipython",
    "version": 3
   },
   "file_extension": ".py",
   "mimetype": "text/x-python",
   "name": "python",
   "nbconvert_exporter": "python",
   "pygments_lexer": "ipython3",
   "version": "3.6.8"
  }
 },
 "nbformat": 4,
 "nbformat_minor": 5
}
