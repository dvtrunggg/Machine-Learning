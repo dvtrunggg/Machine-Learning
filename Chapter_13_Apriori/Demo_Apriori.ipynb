{
 "cells": [
  {
   "cell_type": "code",
   "execution_count": 5,
   "id": "23845953",
   "metadata": {
    "ExecuteTime": {
     "end_time": "2022-01-25T07:33:32.365844Z",
     "start_time": "2022-01-25T07:33:32.354881Z"
    }
   },
   "outputs": [
    {
     "data": {
      "application/javascript": [
       "\n",
       "            setTimeout(function() {\n",
       "                var nbb_cell_id = 5;\n",
       "                var nbb_unformatted_code = \"import pandas as pd\\nimport numpy as np\\nimport matplotlib.pyplot as plt\\nimport seaborn as sns\\nimport warnings\\nfrom mlxtend.frequent_patterns import apriori\\nfrom mlxtend.preprocessing import TransactionEncoder\";\n",
       "                var nbb_formatted_code = \"import pandas as pd\\nimport numpy as np\\nimport matplotlib.pyplot as plt\\nimport seaborn as sns\\nimport warnings\\nfrom mlxtend.frequent_patterns import apriori\\nfrom mlxtend.preprocessing import TransactionEncoder\";\n",
       "                var nbb_cells = Jupyter.notebook.get_cells();\n",
       "                for (var i = 0; i < nbb_cells.length; ++i) {\n",
       "                    if (nbb_cells[i].input_prompt_number == nbb_cell_id) {\n",
       "                        if (nbb_cells[i].get_text() == nbb_unformatted_code) {\n",
       "                             nbb_cells[i].set_text(nbb_formatted_code);\n",
       "                        }\n",
       "                        break;\n",
       "                    }\n",
       "                }\n",
       "            }, 500);\n",
       "            "
      ],
      "text/plain": [
       "<IPython.core.display.Javascript object>"
      ]
     },
     "metadata": {},
     "output_type": "display_data"
    }
   ],
   "source": [
    "import pandas as pd\n",
    "import numpy as np\n",
    "import matplotlib.pyplot as plt\n",
    "import seaborn as sns\n",
    "import warnings\n",
    "from mlxtend.frequent_patterns import apriori\n",
    "from mlxtend.preprocessing import TransactionEncoder"
   ]
  },
  {
   "cell_type": "code",
   "execution_count": 7,
   "id": "51adbb7c",
   "metadata": {
    "ExecuteTime": {
     "end_time": "2022-01-25T07:33:35.407624Z",
     "start_time": "2022-01-25T07:33:35.388641Z"
    }
   },
   "outputs": [
    {
     "name": "stdout",
     "output_type": "stream",
     "text": [
      "The nb_black extension is already loaded. To reload it, use:\n",
      "  %reload_ext nb_black\n"
     ]
    },
    {
     "data": {
      "application/javascript": [
       "\n",
       "            setTimeout(function() {\n",
       "                var nbb_cell_id = 7;\n",
       "                var nbb_unformatted_code = \"%load_ext nb_black\\nwarnings.filterwarnings(\\\"ignore\\\")\";\n",
       "                var nbb_formatted_code = \"%load_ext nb_black\\nwarnings.filterwarnings(\\\"ignore\\\")\";\n",
       "                var nbb_cells = Jupyter.notebook.get_cells();\n",
       "                for (var i = 0; i < nbb_cells.length; ++i) {\n",
       "                    if (nbb_cells[i].input_prompt_number == nbb_cell_id) {\n",
       "                        if (nbb_cells[i].get_text() == nbb_unformatted_code) {\n",
       "                             nbb_cells[i].set_text(nbb_formatted_code);\n",
       "                        }\n",
       "                        break;\n",
       "                    }\n",
       "                }\n",
       "            }, 500);\n",
       "            "
      ],
      "text/plain": [
       "<IPython.core.display.Javascript object>"
      ]
     },
     "metadata": {},
     "output_type": "display_data"
    }
   ],
   "source": [
    "%load_ext nb_black\n",
    "warnings.filterwarnings(\"ignore\")"
   ]
  },
  {
   "cell_type": "code",
   "execution_count": 8,
   "id": "2c319772",
   "metadata": {
    "ExecuteTime": {
     "end_time": "2022-01-25T07:34:04.629743Z",
     "start_time": "2022-01-25T07:34:04.593837Z"
    }
   },
   "outputs": [
    {
     "data": {
      "application/javascript": [
       "\n",
       "            setTimeout(function() {\n",
       "                var nbb_cell_id = 8;\n",
       "                var nbb_unformatted_code = \"# t\\u1ea1o danh s\\u00e1ch l\\u01b0u c\\u00e1c giao d\\u1ecbch (transaction)\\ndataset = [['Eggs', 'Milk', 'Onion', 'Nutmeg', 'Kidney Beans', 'Yogurt'],\\n           ['Dill', 'Onion', 'Nutmeg', 'Eggs', 'Yogurt'],\\n           ['Milk', 'Apple', 'Kidney Beans', 'Eggs'],\\n           ['Milk', 'Unicorn', 'Corn', 'Kidney Beans', 'Yogurt'],\\n           ['Corn', 'Onion', 'Kidney Beans', 'Ice cream', 'Eggs'],\\n           ['Orange', 'Corn', 'Eggs', 'Yogurt'],           \\n           ['Milk', 'Apple', 'Orange', 'Eggs'], \\n           ['Corn', 'Coke', 'Kidney Beans', 'Ice cream'],\\n           ['Dill', 'Onion', 'Nutmeg'],\\n           ['Coke', 'Apple', 'Ice cream']\\n        ]\";\n",
       "                var nbb_formatted_code = \"# t\\u1ea1o danh s\\u00e1ch l\\u01b0u c\\u00e1c giao d\\u1ecbch (transaction)\\ndataset = [\\n    [\\\"Eggs\\\", \\\"Milk\\\", \\\"Onion\\\", \\\"Nutmeg\\\", \\\"Kidney Beans\\\", \\\"Yogurt\\\"],\\n    [\\\"Dill\\\", \\\"Onion\\\", \\\"Nutmeg\\\", \\\"Eggs\\\", \\\"Yogurt\\\"],\\n    [\\\"Milk\\\", \\\"Apple\\\", \\\"Kidney Beans\\\", \\\"Eggs\\\"],\\n    [\\\"Milk\\\", \\\"Unicorn\\\", \\\"Corn\\\", \\\"Kidney Beans\\\", \\\"Yogurt\\\"],\\n    [\\\"Corn\\\", \\\"Onion\\\", \\\"Kidney Beans\\\", \\\"Ice cream\\\", \\\"Eggs\\\"],\\n    [\\\"Orange\\\", \\\"Corn\\\", \\\"Eggs\\\", \\\"Yogurt\\\"],\\n    [\\\"Milk\\\", \\\"Apple\\\", \\\"Orange\\\", \\\"Eggs\\\"],\\n    [\\\"Corn\\\", \\\"Coke\\\", \\\"Kidney Beans\\\", \\\"Ice cream\\\"],\\n    [\\\"Dill\\\", \\\"Onion\\\", \\\"Nutmeg\\\"],\\n    [\\\"Coke\\\", \\\"Apple\\\", \\\"Ice cream\\\"],\\n]\";\n",
       "                var nbb_cells = Jupyter.notebook.get_cells();\n",
       "                for (var i = 0; i < nbb_cells.length; ++i) {\n",
       "                    if (nbb_cells[i].input_prompt_number == nbb_cell_id) {\n",
       "                        if (nbb_cells[i].get_text() == nbb_unformatted_code) {\n",
       "                             nbb_cells[i].set_text(nbb_formatted_code);\n",
       "                        }\n",
       "                        break;\n",
       "                    }\n",
       "                }\n",
       "            }, 500);\n",
       "            "
      ],
      "text/plain": [
       "<IPython.core.display.Javascript object>"
      ]
     },
     "metadata": {},
     "output_type": "display_data"
    }
   ],
   "source": [
    "# tạo danh sách lưu các giao dịch (transaction)\n",
    "dataset = [\n",
    "    [\"Eggs\", \"Milk\", \"Onion\", \"Nutmeg\", \"Kidney Beans\", \"Yogurt\"],\n",
    "    [\"Dill\", \"Onion\", \"Nutmeg\", \"Eggs\", \"Yogurt\"],\n",
    "    [\"Milk\", \"Apple\", \"Kidney Beans\", \"Eggs\"],\n",
    "    [\"Milk\", \"Unicorn\", \"Corn\", \"Kidney Beans\", \"Yogurt\"],\n",
    "    [\"Corn\", \"Onion\", \"Kidney Beans\", \"Ice cream\", \"Eggs\"],\n",
    "    [\"Orange\", \"Corn\", \"Eggs\", \"Yogurt\"],\n",
    "    [\"Milk\", \"Apple\", \"Orange\", \"Eggs\"],\n",
    "    [\"Corn\", \"Coke\", \"Kidney Beans\", \"Ice cream\"],\n",
    "    [\"Dill\", \"Onion\", \"Nutmeg\"],\n",
    "    [\"Coke\", \"Apple\", \"Ice cream\"],\n",
    "]"
   ]
  },
  {
   "cell_type": "code",
   "execution_count": 10,
   "id": "caca1fca",
   "metadata": {
    "ExecuteTime": {
     "end_time": "2022-01-25T07:34:36.113557Z",
     "start_time": "2022-01-25T07:34:36.099596Z"
    }
   },
   "outputs": [
    {
     "data": {
      "application/javascript": [
       "\n",
       "            setTimeout(function() {\n",
       "                var nbb_cell_id = 10;\n",
       "                var nbb_unformatted_code = \"# t\\u1ea1o m\\u1ed7i feature th\\u00e0nh 1 c\\u1ed9t trong TransactionEncoder\\n\\n# bi\\u1ebfn \\u0111\\u1ed5i d\\u1eef li\\u1ec7u\\nt_encode = TransactionEncoder()\\n# t_array = t_encode.fit(dataset).transform(dataset)\\nt_array = t_encode.fit_transform(dataset)\\ndf = pd.DataFrame(t_array, columns=t_encode.columns_)\";\n",
       "                var nbb_formatted_code = \"# t\\u1ea1o m\\u1ed7i feature th\\u00e0nh 1 c\\u1ed9t trong TransactionEncoder\\n\\n# bi\\u1ebfn \\u0111\\u1ed5i d\\u1eef li\\u1ec7u\\nt_encode = TransactionEncoder()\\n# t_array = t_encode.fit(dataset).transform(dataset)\\nt_array = t_encode.fit_transform(dataset)\\ndf = pd.DataFrame(t_array, columns=t_encode.columns_)\";\n",
       "                var nbb_cells = Jupyter.notebook.get_cells();\n",
       "                for (var i = 0; i < nbb_cells.length; ++i) {\n",
       "                    if (nbb_cells[i].input_prompt_number == nbb_cell_id) {\n",
       "                        if (nbb_cells[i].get_text() == nbb_unformatted_code) {\n",
       "                             nbb_cells[i].set_text(nbb_formatted_code);\n",
       "                        }\n",
       "                        break;\n",
       "                    }\n",
       "                }\n",
       "            }, 500);\n",
       "            "
      ],
      "text/plain": [
       "<IPython.core.display.Javascript object>"
      ]
     },
     "metadata": {},
     "output_type": "display_data"
    }
   ],
   "source": [
    "# tạo mỗi feature thành 1 cột trong TransactionEncoder\n",
    "\n",
    "# biến đổi dữ liệu\n",
    "t_encode = TransactionEncoder()\n",
    "# t_array = t_encode.fit(dataset).transform(dataset)\n",
    "t_array = t_encode.fit_transform(dataset)\n",
    "df = pd.DataFrame(t_array, columns=t_encode.columns_)"
   ]
  },
  {
   "cell_type": "code",
   "execution_count": 11,
   "id": "85709d79",
   "metadata": {
    "ExecuteTime": {
     "end_time": "2022-01-25T07:34:40.985564Z",
     "start_time": "2022-01-25T07:34:40.945686Z"
    }
   },
   "outputs": [
    {
     "data": {
      "text/html": [
       "<div>\n",
       "<style scoped>\n",
       "    .dataframe tbody tr th:only-of-type {\n",
       "        vertical-align: middle;\n",
       "    }\n",
       "\n",
       "    .dataframe tbody tr th {\n",
       "        vertical-align: top;\n",
       "    }\n",
       "\n",
       "    .dataframe thead th {\n",
       "        text-align: right;\n",
       "    }\n",
       "</style>\n",
       "<table border=\"1\" class=\"dataframe\">\n",
       "  <thead>\n",
       "    <tr style=\"text-align: right;\">\n",
       "      <th></th>\n",
       "      <th>Apple</th>\n",
       "      <th>Coke</th>\n",
       "      <th>Corn</th>\n",
       "      <th>Dill</th>\n",
       "      <th>Eggs</th>\n",
       "      <th>Ice cream</th>\n",
       "      <th>Kidney Beans</th>\n",
       "      <th>Milk</th>\n",
       "      <th>Nutmeg</th>\n",
       "      <th>Onion</th>\n",
       "      <th>Orange</th>\n",
       "      <th>Unicorn</th>\n",
       "      <th>Yogurt</th>\n",
       "    </tr>\n",
       "  </thead>\n",
       "  <tbody>\n",
       "    <tr>\n",
       "      <th>0</th>\n",
       "      <td>False</td>\n",
       "      <td>False</td>\n",
       "      <td>False</td>\n",
       "      <td>False</td>\n",
       "      <td>True</td>\n",
       "      <td>False</td>\n",
       "      <td>True</td>\n",
       "      <td>True</td>\n",
       "      <td>True</td>\n",
       "      <td>True</td>\n",
       "      <td>False</td>\n",
       "      <td>False</td>\n",
       "      <td>True</td>\n",
       "    </tr>\n",
       "    <tr>\n",
       "      <th>1</th>\n",
       "      <td>False</td>\n",
       "      <td>False</td>\n",
       "      <td>False</td>\n",
       "      <td>True</td>\n",
       "      <td>True</td>\n",
       "      <td>False</td>\n",
       "      <td>False</td>\n",
       "      <td>False</td>\n",
       "      <td>True</td>\n",
       "      <td>True</td>\n",
       "      <td>False</td>\n",
       "      <td>False</td>\n",
       "      <td>True</td>\n",
       "    </tr>\n",
       "    <tr>\n",
       "      <th>2</th>\n",
       "      <td>True</td>\n",
       "      <td>False</td>\n",
       "      <td>False</td>\n",
       "      <td>False</td>\n",
       "      <td>True</td>\n",
       "      <td>False</td>\n",
       "      <td>True</td>\n",
       "      <td>True</td>\n",
       "      <td>False</td>\n",
       "      <td>False</td>\n",
       "      <td>False</td>\n",
       "      <td>False</td>\n",
       "      <td>False</td>\n",
       "    </tr>\n",
       "    <tr>\n",
       "      <th>3</th>\n",
       "      <td>False</td>\n",
       "      <td>False</td>\n",
       "      <td>True</td>\n",
       "      <td>False</td>\n",
       "      <td>False</td>\n",
       "      <td>False</td>\n",
       "      <td>True</td>\n",
       "      <td>True</td>\n",
       "      <td>False</td>\n",
       "      <td>False</td>\n",
       "      <td>False</td>\n",
       "      <td>True</td>\n",
       "      <td>True</td>\n",
       "    </tr>\n",
       "    <tr>\n",
       "      <th>4</th>\n",
       "      <td>False</td>\n",
       "      <td>False</td>\n",
       "      <td>True</td>\n",
       "      <td>False</td>\n",
       "      <td>True</td>\n",
       "      <td>True</td>\n",
       "      <td>True</td>\n",
       "      <td>False</td>\n",
       "      <td>False</td>\n",
       "      <td>True</td>\n",
       "      <td>False</td>\n",
       "      <td>False</td>\n",
       "      <td>False</td>\n",
       "    </tr>\n",
       "    <tr>\n",
       "      <th>5</th>\n",
       "      <td>False</td>\n",
       "      <td>False</td>\n",
       "      <td>True</td>\n",
       "      <td>False</td>\n",
       "      <td>True</td>\n",
       "      <td>False</td>\n",
       "      <td>False</td>\n",
       "      <td>False</td>\n",
       "      <td>False</td>\n",
       "      <td>False</td>\n",
       "      <td>True</td>\n",
       "      <td>False</td>\n",
       "      <td>True</td>\n",
       "    </tr>\n",
       "    <tr>\n",
       "      <th>6</th>\n",
       "      <td>True</td>\n",
       "      <td>False</td>\n",
       "      <td>False</td>\n",
       "      <td>False</td>\n",
       "      <td>True</td>\n",
       "      <td>False</td>\n",
       "      <td>False</td>\n",
       "      <td>True</td>\n",
       "      <td>False</td>\n",
       "      <td>False</td>\n",
       "      <td>True</td>\n",
       "      <td>False</td>\n",
       "      <td>False</td>\n",
       "    </tr>\n",
       "    <tr>\n",
       "      <th>7</th>\n",
       "      <td>False</td>\n",
       "      <td>True</td>\n",
       "      <td>True</td>\n",
       "      <td>False</td>\n",
       "      <td>False</td>\n",
       "      <td>True</td>\n",
       "      <td>True</td>\n",
       "      <td>False</td>\n",
       "      <td>False</td>\n",
       "      <td>False</td>\n",
       "      <td>False</td>\n",
       "      <td>False</td>\n",
       "      <td>False</td>\n",
       "    </tr>\n",
       "    <tr>\n",
       "      <th>8</th>\n",
       "      <td>False</td>\n",
       "      <td>False</td>\n",
       "      <td>False</td>\n",
       "      <td>True</td>\n",
       "      <td>False</td>\n",
       "      <td>False</td>\n",
       "      <td>False</td>\n",
       "      <td>False</td>\n",
       "      <td>True</td>\n",
       "      <td>True</td>\n",
       "      <td>False</td>\n",
       "      <td>False</td>\n",
       "      <td>False</td>\n",
       "    </tr>\n",
       "    <tr>\n",
       "      <th>9</th>\n",
       "      <td>True</td>\n",
       "      <td>True</td>\n",
       "      <td>False</td>\n",
       "      <td>False</td>\n",
       "      <td>False</td>\n",
       "      <td>True</td>\n",
       "      <td>False</td>\n",
       "      <td>False</td>\n",
       "      <td>False</td>\n",
       "      <td>False</td>\n",
       "      <td>False</td>\n",
       "      <td>False</td>\n",
       "      <td>False</td>\n",
       "    </tr>\n",
       "  </tbody>\n",
       "</table>\n",
       "</div>"
      ],
      "text/plain": [
       "   Apple   Coke   Corn   Dill   Eggs  Ice cream  Kidney Beans   Milk  Nutmeg  \\\n",
       "0  False  False  False  False   True      False          True   True    True   \n",
       "1  False  False  False   True   True      False         False  False    True   \n",
       "2   True  False  False  False   True      False          True   True   False   \n",
       "3  False  False   True  False  False      False          True   True   False   \n",
       "4  False  False   True  False   True       True          True  False   False   \n",
       "5  False  False   True  False   True      False         False  False   False   \n",
       "6   True  False  False  False   True      False         False   True   False   \n",
       "7  False   True   True  False  False       True          True  False   False   \n",
       "8  False  False  False   True  False      False         False  False    True   \n",
       "9   True   True  False  False  False       True         False  False   False   \n",
       "\n",
       "   Onion  Orange  Unicorn  Yogurt  \n",
       "0   True   False    False    True  \n",
       "1   True   False    False    True  \n",
       "2  False   False    False   False  \n",
       "3  False   False     True    True  \n",
       "4   True   False    False   False  \n",
       "5  False    True    False    True  \n",
       "6  False    True    False   False  \n",
       "7  False   False    False   False  \n",
       "8   True   False    False   False  \n",
       "9  False   False    False   False  "
      ]
     },
     "execution_count": 11,
     "metadata": {},
     "output_type": "execute_result"
    },
    {
     "data": {
      "application/javascript": [
       "\n",
       "            setTimeout(function() {\n",
       "                var nbb_cell_id = 11;\n",
       "                var nbb_unformatted_code = \"df\";\n",
       "                var nbb_formatted_code = \"df\";\n",
       "                var nbb_cells = Jupyter.notebook.get_cells();\n",
       "                for (var i = 0; i < nbb_cells.length; ++i) {\n",
       "                    if (nbb_cells[i].input_prompt_number == nbb_cell_id) {\n",
       "                        if (nbb_cells[i].get_text() == nbb_unformatted_code) {\n",
       "                             nbb_cells[i].set_text(nbb_formatted_code);\n",
       "                        }\n",
       "                        break;\n",
       "                    }\n",
       "                }\n",
       "            }, 500);\n",
       "            "
      ],
      "text/plain": [
       "<IPython.core.display.Javascript object>"
      ]
     },
     "metadata": {},
     "output_type": "display_data"
    }
   ],
   "source": [
    "df"
   ]
  },
  {
   "cell_type": "code",
   "execution_count": 15,
   "id": "6e44d6c8",
   "metadata": {
    "ExecuteTime": {
     "end_time": "2022-01-25T07:36:42.990034Z",
     "start_time": "2022-01-25T07:36:42.980060Z"
    }
   },
   "outputs": [
    {
     "data": {
      "text/plain": [
       "'\\nô nào True nghĩa là có giao dịch, False là ko có giao dịch\\n'"
      ]
     },
     "execution_count": 15,
     "metadata": {},
     "output_type": "execute_result"
    },
    {
     "data": {
      "application/javascript": [
       "\n",
       "            setTimeout(function() {\n",
       "                var nbb_cell_id = 15;\n",
       "                var nbb_unformatted_code = \"'''\\n\\u00f4 n\\u00e0o True ngh\\u0129a l\\u00e0 c\\u00f3 giao d\\u1ecbch, False l\\u00e0 ko c\\u00f3 giao d\\u1ecbch\\n'''\";\n",
       "                var nbb_formatted_code = \"\\\"\\\"\\\"\\n\\u00f4 n\\u00e0o True ngh\\u0129a l\\u00e0 c\\u00f3 giao d\\u1ecbch, False l\\u00e0 ko c\\u00f3 giao d\\u1ecbch\\n\\\"\\\"\\\"\";\n",
       "                var nbb_cells = Jupyter.notebook.get_cells();\n",
       "                for (var i = 0; i < nbb_cells.length; ++i) {\n",
       "                    if (nbb_cells[i].input_prompt_number == nbb_cell_id) {\n",
       "                        if (nbb_cells[i].get_text() == nbb_unformatted_code) {\n",
       "                             nbb_cells[i].set_text(nbb_formatted_code);\n",
       "                        }\n",
       "                        break;\n",
       "                    }\n",
       "                }\n",
       "            }, 500);\n",
       "            "
      ],
      "text/plain": [
       "<IPython.core.display.Javascript object>"
      ]
     },
     "metadata": {},
     "output_type": "display_data"
    }
   ],
   "source": [
    "\"\"\"\n",
    "ô nào True nghĩa là có giao dịch, False là ko có giao dịch\n",
    "\"\"\""
   ]
  },
  {
   "cell_type": "code",
   "execution_count": 14,
   "id": "9550bea0",
   "metadata": {
    "ExecuteTime": {
     "end_time": "2022-01-25T07:36:12.941958Z",
     "start_time": "2022-01-25T07:36:12.927995Z"
    }
   },
   "outputs": [
    {
     "data": {
      "text/plain": [
       "Apple           False\n",
       "Coke            False\n",
       "Corn            False\n",
       "Dill            False\n",
       "Eggs            False\n",
       "Ice cream       False\n",
       "Kidney Beans    False\n",
       "Milk            False\n",
       "Nutmeg          False\n",
       "Onion           False\n",
       "Orange          False\n",
       "Unicorn         False\n",
       "Yogurt          False\n",
       "dtype: bool"
      ]
     },
     "execution_count": 14,
     "metadata": {},
     "output_type": "execute_result"
    },
    {
     "data": {
      "application/javascript": [
       "\n",
       "            setTimeout(function() {\n",
       "                var nbb_cell_id = 14;\n",
       "                var nbb_unformatted_code = \"df.isnull().any()\";\n",
       "                var nbb_formatted_code = \"df.isnull().any()\";\n",
       "                var nbb_cells = Jupyter.notebook.get_cells();\n",
       "                for (var i = 0; i < nbb_cells.length; ++i) {\n",
       "                    if (nbb_cells[i].input_prompt_number == nbb_cell_id) {\n",
       "                        if (nbb_cells[i].get_text() == nbb_unformatted_code) {\n",
       "                             nbb_cells[i].set_text(nbb_formatted_code);\n",
       "                        }\n",
       "                        break;\n",
       "                    }\n",
       "                }\n",
       "            }, 500);\n",
       "            "
      ],
      "text/plain": [
       "<IPython.core.display.Javascript object>"
      ]
     },
     "metadata": {},
     "output_type": "display_data"
    }
   ],
   "source": [
    "df.isnull().any()"
   ]
  },
  {
   "cell_type": "code",
   "execution_count": 22,
   "id": "0d562d71",
   "metadata": {
    "ExecuteTime": {
     "end_time": "2022-01-25T08:32:29.749481Z",
     "start_time": "2022-01-25T08:32:29.724518Z"
    }
   },
   "outputs": [
    {
     "name": "stdout",
     "output_type": "stream",
     "text": [
      "    support              itemsets\n",
      "0       0.3               (Apple)\n",
      "1       0.4                (Corn)\n",
      "2       0.6                (Eggs)\n",
      "3       0.3           (Ice cream)\n",
      "4       0.5        (Kidney Beans)\n",
      "5       0.4                (Milk)\n",
      "6       0.3              (Nutmeg)\n",
      "7       0.4               (Onion)\n",
      "8       0.4              (Yogurt)\n",
      "9       0.3  (Corn, Kidney Beans)\n",
      "10      0.3  (Kidney Beans, Eggs)\n",
      "11      0.3          (Milk, Eggs)\n",
      "12      0.3         (Eggs, Onion)\n",
      "13      0.3        (Yogurt, Eggs)\n",
      "14      0.3  (Milk, Kidney Beans)\n",
      "15      0.3       (Nutmeg, Onion)\n"
     ]
    },
    {
     "data": {
      "application/javascript": [
       "\n",
       "            setTimeout(function() {\n",
       "                var nbb_cell_id = 22;\n",
       "                var nbb_unformatted_code = \"# s\\u1eed d\\u1ee5ng apriori v\\u1edbi gi\\u00e1 tr\\u1ecb ng\\u01b0\\u1ee1ng d\\u1ef1a tr\\u00ean s\\u1ed1 transaction\\n\\n# use_colnames=True : s\\u1eed d\\u1ee5ng t\\u00ean c\\u1ed9t\\n# min_support n\\u1ebfu s\\u1ed1 giao d\\u1ecbch nh\\u1ecf th\\u00ec min_support c\\u00f3 th\\u1ec3 \\u0111\\u1ec3 nh\\u1ecf, c\\u00f3 n\\u1ebfu giao d\\u1ecbch l\\u1edbn th\\u00ec ph\\u1ea3i \\u0111\\u1ec3 min_support l\\u1edbn\\n# min_support = 0.3: vd: v\\u1edbi 10.000 giao d\\u1ecbch, x\\u00e9t c\\u00e1c giao d\\u1ecbch c\\u00f3 3000 l\\u1ea7n tr\\u1edf l\\u00ean\\n# max_len: s\\u1ed1 l\\u01b0\\u1ee3ng s\\u1ea3n ph\\u1ea9m t\\u1ed1i \\u0111a c\\u1ea7n x\\u00e9t\\n\\nfrequent_itemset = apriori(df, min_support=0.3, use_colnames=True, max_len=None)\\nprint(frequent_itemset)\";\n",
       "                var nbb_formatted_code = \"# s\\u1eed d\\u1ee5ng apriori v\\u1edbi gi\\u00e1 tr\\u1ecb ng\\u01b0\\u1ee1ng d\\u1ef1a tr\\u00ean s\\u1ed1 transaction\\n\\n# use_colnames=True : s\\u1eed d\\u1ee5ng t\\u00ean c\\u1ed9t\\n# min_support n\\u1ebfu s\\u1ed1 giao d\\u1ecbch nh\\u1ecf th\\u00ec min_support c\\u00f3 th\\u1ec3 \\u0111\\u1ec3 nh\\u1ecf, c\\u00f3 n\\u1ebfu giao d\\u1ecbch l\\u1edbn th\\u00ec ph\\u1ea3i \\u0111\\u1ec3 min_support l\\u1edbn\\n# min_support = 0.3: vd: v\\u1edbi 10.000 giao d\\u1ecbch, x\\u00e9t c\\u00e1c giao d\\u1ecbch c\\u00f3 3000 l\\u1ea7n tr\\u1edf l\\u00ean\\n# max_len: s\\u1ed1 l\\u01b0\\u1ee3ng s\\u1ea3n ph\\u1ea9m t\\u1ed1i \\u0111a c\\u1ea7n x\\u00e9t\\n\\nfrequent_itemset = apriori(df, min_support=0.3, use_colnames=True, max_len=None)\\nprint(frequent_itemset)\";\n",
       "                var nbb_cells = Jupyter.notebook.get_cells();\n",
       "                for (var i = 0; i < nbb_cells.length; ++i) {\n",
       "                    if (nbb_cells[i].input_prompt_number == nbb_cell_id) {\n",
       "                        if (nbb_cells[i].get_text() == nbb_unformatted_code) {\n",
       "                             nbb_cells[i].set_text(nbb_formatted_code);\n",
       "                        }\n",
       "                        break;\n",
       "                    }\n",
       "                }\n",
       "            }, 500);\n",
       "            "
      ],
      "text/plain": [
       "<IPython.core.display.Javascript object>"
      ]
     },
     "metadata": {},
     "output_type": "display_data"
    }
   ],
   "source": [
    "# sử dụng apriori với giá trị ngưỡng dựa trên số transaction\n",
    "\n",
    "# use_colnames=True : sử dụng tên cột\n",
    "# min_support nếu số giao dịch nhỏ thì min_support có thể để nhỏ, có nếu giao dịch lớn thì phải để min_support lớn\n",
    "# min_support = 0.3: vd: với 10.000 giao dịch, xét các giao dịch có 3000 lần trở lên\n",
    "# max_len: số lượng sản phẩm tối đa cần xét\n",
    "\n",
    "frequent_itemset = apriori(df, min_support=0.3, use_colnames=True, max_len=None)\n",
    "print(frequent_itemset)"
   ]
  },
  {
   "cell_type": "code",
   "execution_count": 23,
   "id": "d6c56bad",
   "metadata": {
    "ExecuteTime": {
     "end_time": "2022-01-25T08:32:30.293515Z",
     "start_time": "2022-01-25T08:32:30.274567Z"
    }
   },
   "outputs": [
    {
     "data": {
      "application/javascript": [
       "\n",
       "            setTimeout(function() {\n",
       "                var nbb_cell_id = 23;\n",
       "                var nbb_unformatted_code = \"# t\\u00ednh confidence\\nfrom mlxtend.frequent_patterns import association_rules\";\n",
       "                var nbb_formatted_code = \"# t\\u00ednh confidence\\nfrom mlxtend.frequent_patterns import association_rules\";\n",
       "                var nbb_cells = Jupyter.notebook.get_cells();\n",
       "                for (var i = 0; i < nbb_cells.length; ++i) {\n",
       "                    if (nbb_cells[i].input_prompt_number == nbb_cell_id) {\n",
       "                        if (nbb_cells[i].get_text() == nbb_unformatted_code) {\n",
       "                             nbb_cells[i].set_text(nbb_formatted_code);\n",
       "                        }\n",
       "                        break;\n",
       "                    }\n",
       "                }\n",
       "            }, 500);\n",
       "            "
      ],
      "text/plain": [
       "<IPython.core.display.Javascript object>"
      ]
     },
     "metadata": {},
     "output_type": "display_data"
    }
   ],
   "source": [
    "# tính confidence\n",
    "from mlxtend.frequent_patterns import association_rules"
   ]
  },
  {
   "cell_type": "code",
   "execution_count": 32,
   "id": "ec399bf6",
   "metadata": {
    "ExecuteTime": {
     "end_time": "2022-01-25T08:45:42.974954Z",
     "start_time": "2022-01-25T08:45:42.958998Z"
    }
   },
   "outputs": [
    {
     "data": {
      "application/javascript": [
       "\n",
       "            setTimeout(function() {\n",
       "                var nbb_cell_id = 32;\n",
       "                var nbb_unformatted_code = \"# min_threshold=0.3: gi\\u00e1 tr\\u1ecb metric=\\\"confidence\\\" th\\u1ea5p nh\\u1ea5t l\\u00e0 0.3\\nrules = association_rules(frequent_itemset, metric=\\\"confidence\\\", min_threshold=0.3)\";\n",
       "                var nbb_formatted_code = \"# min_threshold=0.3: gi\\u00e1 tr\\u1ecb metric=\\\"confidence\\\" th\\u1ea5p nh\\u1ea5t l\\u00e0 0.3\\nrules = association_rules(frequent_itemset, metric=\\\"confidence\\\", min_threshold=0.3)\";\n",
       "                var nbb_cells = Jupyter.notebook.get_cells();\n",
       "                for (var i = 0; i < nbb_cells.length; ++i) {\n",
       "                    if (nbb_cells[i].input_prompt_number == nbb_cell_id) {\n",
       "                        if (nbb_cells[i].get_text() == nbb_unformatted_code) {\n",
       "                             nbb_cells[i].set_text(nbb_formatted_code);\n",
       "                        }\n",
       "                        break;\n",
       "                    }\n",
       "                }\n",
       "            }, 500);\n",
       "            "
      ],
      "text/plain": [
       "<IPython.core.display.Javascript object>"
      ]
     },
     "metadata": {},
     "output_type": "display_data"
    }
   ],
   "source": [
    "# min_threshold=0.3: giá trị metric=\"confidence\" thấp nhất là 0.3\n",
    "rules = association_rules(frequent_itemset, metric=\"confidence\", min_threshold=0.3)"
   ]
  },
  {
   "cell_type": "code",
   "execution_count": 25,
   "id": "4bf2bc59",
   "metadata": {
    "ExecuteTime": {
     "end_time": "2022-01-25T08:32:56.300141Z",
     "start_time": "2022-01-25T08:32:56.278183Z"
    }
   },
   "outputs": [
    {
     "data": {
      "text/plain": [
       "'\\nantecedents -> consequents\\n\\n\\n'"
      ]
     },
     "execution_count": 25,
     "metadata": {},
     "output_type": "execute_result"
    },
    {
     "data": {
      "application/javascript": [
       "\n",
       "            setTimeout(function() {\n",
       "                var nbb_cell_id = 25;\n",
       "                var nbb_unformatted_code = \"'''\\nantecedents -> consequents\\n\\n\\n'''\";\n",
       "                var nbb_formatted_code = \"\\\"\\\"\\\"\\nantecedents -> consequents\\n\\n\\n\\\"\\\"\\\"\";\n",
       "                var nbb_cells = Jupyter.notebook.get_cells();\n",
       "                for (var i = 0; i < nbb_cells.length; ++i) {\n",
       "                    if (nbb_cells[i].input_prompt_number == nbb_cell_id) {\n",
       "                        if (nbb_cells[i].get_text() == nbb_unformatted_code) {\n",
       "                             nbb_cells[i].set_text(nbb_formatted_code);\n",
       "                        }\n",
       "                        break;\n",
       "                    }\n",
       "                }\n",
       "            }, 500);\n",
       "            "
      ],
      "text/plain": [
       "<IPython.core.display.Javascript object>"
      ]
     },
     "metadata": {},
     "output_type": "display_data"
    }
   ],
   "source": [
    "\"\"\"\n",
    "antecedents -> consequents\n",
    "\n",
    "\n",
    "\"\"\""
   ]
  },
  {
   "cell_type": "code",
   "execution_count": 28,
   "id": "5901002c",
   "metadata": {
    "ExecuteTime": {
     "end_time": "2022-01-25T08:33:17.825101Z",
     "start_time": "2022-01-25T08:33:17.802128Z"
    }
   },
   "outputs": [
    {
     "data": {
      "text/html": [
       "<div>\n",
       "<style scoped>\n",
       "    .dataframe tbody tr th:only-of-type {\n",
       "        vertical-align: middle;\n",
       "    }\n",
       "\n",
       "    .dataframe tbody tr th {\n",
       "        vertical-align: top;\n",
       "    }\n",
       "\n",
       "    .dataframe thead th {\n",
       "        text-align: right;\n",
       "    }\n",
       "</style>\n",
       "<table border=\"1\" class=\"dataframe\">\n",
       "  <thead>\n",
       "    <tr style=\"text-align: right;\">\n",
       "      <th></th>\n",
       "      <th>antecedents</th>\n",
       "      <th>consequents</th>\n",
       "      <th>antecedent support</th>\n",
       "      <th>consequent support</th>\n",
       "      <th>support</th>\n",
       "      <th>confidence</th>\n",
       "      <th>lift</th>\n",
       "      <th>leverage</th>\n",
       "      <th>conviction</th>\n",
       "    </tr>\n",
       "  </thead>\n",
       "  <tbody>\n",
       "    <tr>\n",
       "      <th>0</th>\n",
       "      <td>(Corn)</td>\n",
       "      <td>(Kidney Beans)</td>\n",
       "      <td>0.4</td>\n",
       "      <td>0.5</td>\n",
       "      <td>0.3</td>\n",
       "      <td>0.75</td>\n",
       "      <td>1.5</td>\n",
       "      <td>0.10</td>\n",
       "      <td>2.0</td>\n",
       "    </tr>\n",
       "    <tr>\n",
       "      <th>1</th>\n",
       "      <td>(Kidney Beans)</td>\n",
       "      <td>(Corn)</td>\n",
       "      <td>0.5</td>\n",
       "      <td>0.4</td>\n",
       "      <td>0.3</td>\n",
       "      <td>0.60</td>\n",
       "      <td>1.5</td>\n",
       "      <td>0.10</td>\n",
       "      <td>1.5</td>\n",
       "    </tr>\n",
       "    <tr>\n",
       "      <th>2</th>\n",
       "      <td>(Milk)</td>\n",
       "      <td>(Kidney Beans)</td>\n",
       "      <td>0.4</td>\n",
       "      <td>0.5</td>\n",
       "      <td>0.3</td>\n",
       "      <td>0.75</td>\n",
       "      <td>1.5</td>\n",
       "      <td>0.10</td>\n",
       "      <td>2.0</td>\n",
       "    </tr>\n",
       "    <tr>\n",
       "      <th>3</th>\n",
       "      <td>(Kidney Beans)</td>\n",
       "      <td>(Milk)</td>\n",
       "      <td>0.5</td>\n",
       "      <td>0.4</td>\n",
       "      <td>0.3</td>\n",
       "      <td>0.60</td>\n",
       "      <td>1.5</td>\n",
       "      <td>0.10</td>\n",
       "      <td>1.5</td>\n",
       "    </tr>\n",
       "    <tr>\n",
       "      <th>4</th>\n",
       "      <td>(Nutmeg)</td>\n",
       "      <td>(Onion)</td>\n",
       "      <td>0.3</td>\n",
       "      <td>0.4</td>\n",
       "      <td>0.3</td>\n",
       "      <td>1.00</td>\n",
       "      <td>2.5</td>\n",
       "      <td>0.18</td>\n",
       "      <td>inf</td>\n",
       "    </tr>\n",
       "    <tr>\n",
       "      <th>5</th>\n",
       "      <td>(Onion)</td>\n",
       "      <td>(Nutmeg)</td>\n",
       "      <td>0.4</td>\n",
       "      <td>0.3</td>\n",
       "      <td>0.3</td>\n",
       "      <td>0.75</td>\n",
       "      <td>2.5</td>\n",
       "      <td>0.18</td>\n",
       "      <td>2.8</td>\n",
       "    </tr>\n",
       "  </tbody>\n",
       "</table>\n",
       "</div>"
      ],
      "text/plain": [
       "      antecedents     consequents  antecedent support  consequent support  \\\n",
       "0          (Corn)  (Kidney Beans)                 0.4                 0.5   \n",
       "1  (Kidney Beans)          (Corn)                 0.5                 0.4   \n",
       "2          (Milk)  (Kidney Beans)                 0.4                 0.5   \n",
       "3  (Kidney Beans)          (Milk)                 0.5                 0.4   \n",
       "4        (Nutmeg)         (Onion)                 0.3                 0.4   \n",
       "5         (Onion)        (Nutmeg)                 0.4                 0.3   \n",
       "\n",
       "   support  confidence  lift  leverage  conviction  \n",
       "0      0.3        0.75   1.5      0.10         2.0  \n",
       "1      0.3        0.60   1.5      0.10         1.5  \n",
       "2      0.3        0.75   1.5      0.10         2.0  \n",
       "3      0.3        0.60   1.5      0.10         1.5  \n",
       "4      0.3        1.00   2.5      0.18         inf  \n",
       "5      0.3        0.75   2.5      0.18         2.8  "
      ]
     },
     "execution_count": 28,
     "metadata": {},
     "output_type": "execute_result"
    },
    {
     "data": {
      "application/javascript": [
       "\n",
       "            setTimeout(function() {\n",
       "                var nbb_cell_id = 28;\n",
       "                var nbb_unformatted_code = \"# c\\u0169ng gi\\u1ed1ng th\\u00f4i v\\u00ec n\\u00f3 t\\u00ednh h\\u1ebft c\\u00e1c gi\\u00e1 tr\\u1ecb lift, confidence, ...\\nrules = association_rules(frequent_itemset, metric=\\\"lift\\\", min_threshold=1.4)\\nrules\";\n",
       "                var nbb_formatted_code = \"# c\\u0169ng gi\\u1ed1ng th\\u00f4i v\\u00ec n\\u00f3 t\\u00ednh h\\u1ebft c\\u00e1c gi\\u00e1 tr\\u1ecb lift, confidence, ...\\nrules = association_rules(frequent_itemset, metric=\\\"lift\\\", min_threshold=1.4)\\nrules\";\n",
       "                var nbb_cells = Jupyter.notebook.get_cells();\n",
       "                for (var i = 0; i < nbb_cells.length; ++i) {\n",
       "                    if (nbb_cells[i].input_prompt_number == nbb_cell_id) {\n",
       "                        if (nbb_cells[i].get_text() == nbb_unformatted_code) {\n",
       "                             nbb_cells[i].set_text(nbb_formatted_code);\n",
       "                        }\n",
       "                        break;\n",
       "                    }\n",
       "                }\n",
       "            }, 500);\n",
       "            "
      ],
      "text/plain": [
       "<IPython.core.display.Javascript object>"
      ]
     },
     "metadata": {},
     "output_type": "display_data"
    }
   ],
   "source": [
    "# cũng giống thôi vì nó tính hết các giá trị lift, confidence, ... nên ko cần phải truyền cũng dc\n",
    "\n",
    "# min_threshold=1.4: giá trị metric=\"lift\" thấp nhất là 1.4\n",
    "\n",
    "rules2 = association_rules(frequent_itemset, metric=\"lift\", min_threshold=1.4)\n",
    "rules2"
   ]
  },
  {
   "cell_type": "code",
   "execution_count": 34,
   "id": "b8004e32",
   "metadata": {
    "ExecuteTime": {
     "end_time": "2022-01-25T08:45:57.201672Z",
     "start_time": "2022-01-25T08:45:57.175019Z"
    }
   },
   "outputs": [
    {
     "name": "stdout",
     "output_type": "stream",
     "text": [
      "(4, antecedents           (Milk)\n",
      "consequents           (Eggs)\n",
      "antecedent support       0.4\n",
      "consequent support       0.6\n",
      "support                  0.3\n",
      "confidence              0.75\n",
      "lift                    1.25\n",
      "leverage                0.06\n",
      "conviction               1.6\n",
      "Name: 4, dtype: object)\n",
      "(10, antecedents                   (Milk)\n",
      "consequents           (Kidney Beans)\n",
      "antecedent support               0.4\n",
      "consequent support               0.5\n",
      "support                          0.3\n",
      "confidence                      0.75\n",
      "lift                             1.5\n",
      "leverage                         0.1\n",
      "conviction                       2.0\n",
      "Name: 10, dtype: object)\n"
     ]
    },
    {
     "data": {
      "application/javascript": [
       "\n",
       "            setTimeout(function() {\n",
       "                var nbb_cell_id = 34;\n",
       "                var nbb_unformatted_code = \"# \\\"ki\\u1ec3m tra c\\u00f3 giao d\\u1ecbch n\\u00e0o c\\u00f3 Milk hay kh\\u00f4ng? n\\u1ebfu c\\u00f3 th\\u00ec n\\u00f3 k\\u1ebft h\\u1ee3p v\\u1edbi sp n\\u00e0o?\\\"\\nfor row in rules.iterrows():\\n    if \\\"Milk\\\" in row[1][0]:\\n        print(row)\";\n",
       "                var nbb_formatted_code = \"# \\\"ki\\u1ec3m tra c\\u00f3 giao d\\u1ecbch n\\u00e0o c\\u00f3 Milk hay kh\\u00f4ng? n\\u1ebfu c\\u00f3 th\\u00ec n\\u00f3 k\\u1ebft h\\u1ee3p v\\u1edbi sp n\\u00e0o?\\\"\\nfor row in rules.iterrows():\\n    if \\\"Milk\\\" in row[1][0]:\\n        print(row)\";\n",
       "                var nbb_cells = Jupyter.notebook.get_cells();\n",
       "                for (var i = 0; i < nbb_cells.length; ++i) {\n",
       "                    if (nbb_cells[i].input_prompt_number == nbb_cell_id) {\n",
       "                        if (nbb_cells[i].get_text() == nbb_unformatted_code) {\n",
       "                             nbb_cells[i].set_text(nbb_formatted_code);\n",
       "                        }\n",
       "                        break;\n",
       "                    }\n",
       "                }\n",
       "            }, 500);\n",
       "            "
      ],
      "text/plain": [
       "<IPython.core.display.Javascript object>"
      ]
     },
     "metadata": {},
     "output_type": "display_data"
    }
   ],
   "source": [
    "# \"kiểm tra có giao dịch nào có Milk hay không? nếu có thì nó kết hợp với sp nào?\"\n",
    "for row in rules.iterrows():\n",
    "    if \"Milk\" in row[1][0]:\n",
    "        print(row)"
   ]
  },
  {
   "cell_type": "code",
   "execution_count": 35,
   "id": "352b2200",
   "metadata": {
    "ExecuteTime": {
     "end_time": "2022-01-25T08:46:25.941064Z",
     "start_time": "2022-01-25T08:46:25.922574Z"
    }
   },
   "outputs": [
    {
     "data": {
      "text/plain": [
       "'\\n=> khi mua trứng thì có thể mua kèm sữa\\n'"
      ]
     },
     "execution_count": 35,
     "metadata": {},
     "output_type": "execute_result"
    },
    {
     "data": {
      "application/javascript": [
       "\n",
       "            setTimeout(function() {\n",
       "                var nbb_cell_id = 35;\n",
       "                var nbb_unformatted_code = \"'''\\n=> khi mua tr\\u1ee9ng th\\u00ec c\\u00f3 th\\u1ec3 mua k\\u00e8m s\\u1eefa\\n'''\";\n",
       "                var nbb_formatted_code = \"\\\"\\\"\\\"\\n=> khi mua tr\\u1ee9ng th\\u00ec c\\u00f3 th\\u1ec3 mua k\\u00e8m s\\u1eefa\\n\\\"\\\"\\\"\";\n",
       "                var nbb_cells = Jupyter.notebook.get_cells();\n",
       "                for (var i = 0; i < nbb_cells.length; ++i) {\n",
       "                    if (nbb_cells[i].input_prompt_number == nbb_cell_id) {\n",
       "                        if (nbb_cells[i].get_text() == nbb_unformatted_code) {\n",
       "                             nbb_cells[i].set_text(nbb_formatted_code);\n",
       "                        }\n",
       "                        break;\n",
       "                    }\n",
       "                }\n",
       "            }, 500);\n",
       "            "
      ],
      "text/plain": [
       "<IPython.core.display.Javascript object>"
      ]
     },
     "metadata": {},
     "output_type": "display_data"
    }
   ],
   "source": [
    "\"\"\"\n",
    "=> khi mua trứng thì có thể mua kèm sữa\n",
    "\"\"\""
   ]
  },
  {
   "cell_type": "code",
   "execution_count": 36,
   "id": "5c875f9f",
   "metadata": {
    "ExecuteTime": {
     "end_time": "2022-01-25T08:46:45.271716Z",
     "start_time": "2022-01-25T08:46:45.109904Z"
    }
   },
   "outputs": [
    {
     "data": {
      "image/png": "[encoded data removed]",
      "text/plain": [
       "<Figure size 432x288 with 1 Axes>"
      ]
     },
     "metadata": {
      "needs_background": "light"
     },
     "output_type": "display_data"
    },
    {
     "data": {
      "application/javascript": [
       "\n",
       "            setTimeout(function() {\n",
       "                var nbb_cell_id = 36;\n",
       "                var nbb_unformatted_code = \"sns.swarmplot(data=rules, x='support', y ='confidence', size=8)\\nplt.show()\";\n",
       "                var nbb_formatted_code = \"sns.swarmplot(data=rules, x=\\\"support\\\", y=\\\"confidence\\\", size=8)\\nplt.show()\";\n",
       "                var nbb_cells = Jupyter.notebook.get_cells();\n",
       "                for (var i = 0; i < nbb_cells.length; ++i) {\n",
       "                    if (nbb_cells[i].input_prompt_number == nbb_cell_id) {\n",
       "                        if (nbb_cells[i].get_text() == nbb_unformatted_code) {\n",
       "                             nbb_cells[i].set_text(nbb_formatted_code);\n",
       "                        }\n",
       "                        break;\n",
       "                    }\n",
       "                }\n",
       "            }, 500);\n",
       "            "
      ],
      "text/plain": [
       "<IPython.core.display.Javascript object>"
      ]
     },
     "metadata": {},
     "output_type": "display_data"
    }
   ],
   "source": [
    "sns.swarmplot(data=rules, x=\"support\", y=\"confidence\", size=8)\n",
    "plt.show()"
   ]
  },
  {
   "cell_type": "code",
   "execution_count": 37,
   "id": "9b7d189b",
   "metadata": {
    "ExecuteTime": {
     "end_time": "2022-01-25T08:48:24.932545Z",
     "start_time": "2022-01-25T08:48:24.922599Z"
    }
   },
   "outputs": [
    {
     "data": {
      "text/plain": [
       "'\\ncó 4 giao dịch = confidence = 0.5\\ncó 3 giao dịch = confidence = 0.6\\n\\n...\\n\\n'"
      ]
     },
     "execution_count": 37,
     "metadata": {},
     "output_type": "execute_result"
    },
    {
     "data": {
      "application/javascript": [
       "\n",
       "            setTimeout(function() {\n",
       "                var nbb_cell_id = 37;\n",
       "                var nbb_unformatted_code = \"'''\\nc\\u00f3 4 giao d\\u1ecbch = confidence = 0.5\\nc\\u00f3 3 giao d\\u1ecbch = confidence = 0.6\\n\\n...\\n\\n'''\";\n",
       "                var nbb_formatted_code = \"\\\"\\\"\\\"\\nc\\u00f3 4 giao d\\u1ecbch = confidence = 0.5\\nc\\u00f3 3 giao d\\u1ecbch = confidence = 0.6\\n\\n...\\n\\n\\\"\\\"\\\"\";\n",
       "                var nbb_cells = Jupyter.notebook.get_cells();\n",
       "                for (var i = 0; i < nbb_cells.length; ++i) {\n",
       "                    if (nbb_cells[i].input_prompt_number == nbb_cell_id) {\n",
       "                        if (nbb_cells[i].get_text() == nbb_unformatted_code) {\n",
       "                             nbb_cells[i].set_text(nbb_formatted_code);\n",
       "                        }\n",
       "                        break;\n",
       "                    }\n",
       "                }\n",
       "            }, 500);\n",
       "            "
      ],
      "text/plain": [
       "<IPython.core.display.Javascript object>"
      ]
     },
     "metadata": {},
     "output_type": "display_data"
    }
   ],
   "source": [
    "\"\"\"\n",
    "có 4 giao dịch = confidence = 0.5\n",
    "có 3 giao dịch = confidence = 0.6\n",
    "\n",
    "...\n",
    "\n",
    "\"\"\""
   ]
  },
  {
   "cell_type": "code",
   "execution_count": null,
   "id": "11fda450",
   "metadata": {},
   "outputs": [],
   "source": []
  }
 ],
 "metadata": {
  "kernelspec": {
   "display_name": "Python 3 (ipykernel)",
   "language": "python",
   "name": "python3"
  },
  "language_info": {
   "codemirror_mode": {
    "name": "ipython",
    "version": 3
   },
   "file_extension": ".py",
   "mimetype": "text/x-python",
   "name": "python",
   "nbconvert_exporter": "python",
   "pygments_lexer": "ipython3",
   "version": "3.9.7"
  }
 },
 "nbformat": 4,
 "nbformat_minor": 5
}
