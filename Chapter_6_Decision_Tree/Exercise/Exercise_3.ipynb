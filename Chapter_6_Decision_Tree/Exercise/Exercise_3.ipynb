{
 "cells": [
  {
   "cell_type": "markdown",
   "id": "7a887e57",
   "metadata": {},
   "source": [
    "## Chapter 6 - Exercise 3: NBA Players\n",
    "\n",
    "#### Cho dữ liệu nba_2013.csv\n",
    "#### Sử dụng thuật toán Decision Tree để dự đoán số điểm (points) mà các cầu thủ NBA ghi được trong mùa giải 2013-2014.\n",
    "#### Mỗi hàng trong dữ liệu chứa thông tin về player thực hiện trong mùa giải 2013-2014 NBA. \n",
    "- (với player -- tên player/ pos -- vị trí của player/ g -- số trận mà player đã tham gia/ gs -- số trận mà\n",
    "player đã bắt đầu/ pts -- tổng số point mà player đã ghi được)\n",
    "1. Đọc dữ liệu và gán cho biến data. Xem thông tin data: shape, type, head(), tail(), info. Tiền xử\n",
    "lý dữ liệu (nếu cần)\n",
    "2. Tạo inputs data với các cột không có giá trị null trừ cột 'player', 'bref_team_id', 'season',\n",
    "'season_end', 'pts', và outputs data với 1 cột là 'pts' => Vẽ biểu đồ quan sát mối liên hệ giữa\n",
    "inputs và outputs data\n",
    "3. Từ inputs data và outputs data => Tạo X_train, X_test, y_train, y_test với tỷ lệ 80:20\n",
    "4. Thực hiện Decision Tree với X_train, y_train\n",
    "5. Dự đoán y từ X_test => so sánh với y_test\n",
    "6. Xem kết quả => Nhận xét model\n",
    "7. Ghi model nếu model phù hợp"
   ]
  },
  {
   "cell_type": "code",
   "execution_count": 32,
   "id": "062731c1",
   "metadata": {},
   "outputs": [
    {
     "name": "stdout",
     "output_type": "stream",
     "text": [
      "The nb_black extension is already loaded. To reload it, use:\n",
      "  %reload_ext nb_black\n"
     ]
    },
    {
     "data": {
      "application/javascript": [
       "\n",
       "            setTimeout(function() {\n",
       "                var nbb_cell_id = 32;\n",
       "                var nbb_unformatted_code = \"import warnings\\n\\nwarnings.filterwarnings(\\\"ignore\\\")\\nimport numpy as np\\nimport pandas as pd\\nimport matplotlib.pyplot as plt\\nimport seaborn as sns\\nfrom pandas_profiling import ProfileReport\\nfrom sklearn.tree import DecisionTreeClassifier\\nfrom sklearn.ensemble import RandomForestClassifier\\nfrom sklearn.model_selection import train_test_split\\nfrom imblearn.over_sampling import SMOTE\\nfrom sklearn.preprocessing import StandardScaler\\nfrom collections import Counter\\nfrom sklearn.metrics import classification_report, confusion_matrix, accuracy_score\\nfrom sklearn.tree import DecisionTreeRegressor\\n%load_ext nb_black\\n%matplotlib inline\";\n",
       "                var nbb_formatted_code = \"import warnings\\n\\nwarnings.filterwarnings(\\\"ignore\\\")\\nimport numpy as np\\nimport pandas as pd\\nimport matplotlib.pyplot as plt\\nimport seaborn as sns\\nfrom pandas_profiling import ProfileReport\\nfrom sklearn.tree import DecisionTreeClassifier\\nfrom sklearn.ensemble import RandomForestClassifier\\nfrom sklearn.model_selection import train_test_split\\nfrom imblearn.over_sampling import SMOTE\\nfrom sklearn.preprocessing import StandardScaler\\nfrom collections import Counter\\nfrom sklearn.metrics import classification_report, confusion_matrix, accuracy_score\\nfrom sklearn.tree import DecisionTreeRegressor\\n\\n%load_ext nb_black\\n%matplotlib inline\";\n",
       "                var nbb_cells = Jupyter.notebook.get_cells();\n",
       "                for (var i = 0; i < nbb_cells.length; ++i) {\n",
       "                    if (nbb_cells[i].input_prompt_number == nbb_cell_id) {\n",
       "                        if (nbb_cells[i].get_text() == nbb_unformatted_code) {\n",
       "                             nbb_cells[i].set_text(nbb_formatted_code);\n",
       "                        }\n",
       "                        break;\n",
       "                    }\n",
       "                }\n",
       "            }, 500);\n",
       "            "
      ],
      "text/plain": [
       "<IPython.core.display.Javascript object>"
      ]
     },
     "metadata": {},
     "output_type": "display_data"
    }
   ],
   "source": [
    "import warnings\n",
    "\n",
    "warnings.filterwarnings(\"ignore\")\n",
    "import numpy as np\n",
    "import pandas as pd\n",
    "import matplotlib.pyplot as plt\n",
    "import seaborn as sns\n",
    "from pandas_profiling import ProfileReport\n",
    "from sklearn.tree import DecisionTreeClassifier\n",
    "from sklearn.ensemble import RandomForestClassifier\n",
    "from sklearn.model_selection import train_test_split\n",
    "from imblearn.over_sampling import SMOTE\n",
    "from sklearn.preprocessing import StandardScaler\n",
    "from collections import Counter\n",
    "from sklearn.metrics import classification_report, confusion_matrix, accuracy_score\n",
    "from sklearn.tree import DecisionTreeRegressor\n",
    "%load_ext nb_black\n",
    "%matplotlib inline\n"
   ]
  },
  {
   "cell_type": "code",
   "execution_count": 22,
   "id": "7d206baf",
   "metadata": {},
   "outputs": [
    {
     "data": {
      "text/html": [
       "<div>\n",
       "<style scoped>\n",
       "    .dataframe tbody tr th:only-of-type {\n",
       "        vertical-align: middle;\n",
       "    }\n",
       "\n",
       "    .dataframe tbody tr th {\n",
       "        vertical-align: top;\n",
       "    }\n",
       "\n",
       "    .dataframe thead th {\n",
       "        text-align: right;\n",
       "    }\n",
       "</style>\n",
       "<table border=\"1\" class=\"dataframe\">\n",
       "  <thead>\n",
       "    <tr style=\"text-align: right;\">\n",
       "      <th></th>\n",
       "      <th>player</th>\n",
       "      <th>pos</th>\n",
       "      <th>age</th>\n",
       "      <th>bref_team_id</th>\n",
       "      <th>g</th>\n",
       "      <th>gs</th>\n",
       "      <th>mp</th>\n",
       "      <th>fg</th>\n",
       "      <th>fga</th>\n",
       "      <th>fg.</th>\n",
       "      <th>...</th>\n",
       "      <th>drb</th>\n",
       "      <th>trb</th>\n",
       "      <th>ast</th>\n",
       "      <th>stl</th>\n",
       "      <th>blk</th>\n",
       "      <th>tov</th>\n",
       "      <th>pf</th>\n",
       "      <th>pts</th>\n",
       "      <th>season</th>\n",
       "      <th>season_end</th>\n",
       "    </tr>\n",
       "  </thead>\n",
       "  <tbody>\n",
       "    <tr>\n",
       "      <th>0</th>\n",
       "      <td>Quincy Acy</td>\n",
       "      <td>SF</td>\n",
       "      <td>23</td>\n",
       "      <td>TOT</td>\n",
       "      <td>63</td>\n",
       "      <td>0</td>\n",
       "      <td>847</td>\n",
       "      <td>66</td>\n",
       "      <td>141</td>\n",
       "      <td>0.468</td>\n",
       "      <td>...</td>\n",
       "      <td>144</td>\n",
       "      <td>216</td>\n",
       "      <td>28</td>\n",
       "      <td>23</td>\n",
       "      <td>26</td>\n",
       "      <td>30</td>\n",
       "      <td>122</td>\n",
       "      <td>171</td>\n",
       "      <td>2013-2014</td>\n",
       "      <td>2013</td>\n",
       "    </tr>\n",
       "    <tr>\n",
       "      <th>1</th>\n",
       "      <td>Steven Adams</td>\n",
       "      <td>C</td>\n",
       "      <td>20</td>\n",
       "      <td>OKC</td>\n",
       "      <td>81</td>\n",
       "      <td>20</td>\n",
       "      <td>1197</td>\n",
       "      <td>93</td>\n",
       "      <td>185</td>\n",
       "      <td>0.503</td>\n",
       "      <td>...</td>\n",
       "      <td>190</td>\n",
       "      <td>332</td>\n",
       "      <td>43</td>\n",
       "      <td>40</td>\n",
       "      <td>57</td>\n",
       "      <td>71</td>\n",
       "      <td>203</td>\n",
       "      <td>265</td>\n",
       "      <td>2013-2014</td>\n",
       "      <td>2013</td>\n",
       "    </tr>\n",
       "    <tr>\n",
       "      <th>2</th>\n",
       "      <td>Jeff Adrien</td>\n",
       "      <td>PF</td>\n",
       "      <td>27</td>\n",
       "      <td>TOT</td>\n",
       "      <td>53</td>\n",
       "      <td>12</td>\n",
       "      <td>961</td>\n",
       "      <td>143</td>\n",
       "      <td>275</td>\n",
       "      <td>0.520</td>\n",
       "      <td>...</td>\n",
       "      <td>204</td>\n",
       "      <td>306</td>\n",
       "      <td>38</td>\n",
       "      <td>24</td>\n",
       "      <td>36</td>\n",
       "      <td>39</td>\n",
       "      <td>108</td>\n",
       "      <td>362</td>\n",
       "      <td>2013-2014</td>\n",
       "      <td>2013</td>\n",
       "    </tr>\n",
       "    <tr>\n",
       "      <th>3</th>\n",
       "      <td>Arron Afflalo</td>\n",
       "      <td>SG</td>\n",
       "      <td>28</td>\n",
       "      <td>ORL</td>\n",
       "      <td>73</td>\n",
       "      <td>73</td>\n",
       "      <td>2552</td>\n",
       "      <td>464</td>\n",
       "      <td>1011</td>\n",
       "      <td>0.459</td>\n",
       "      <td>...</td>\n",
       "      <td>230</td>\n",
       "      <td>262</td>\n",
       "      <td>248</td>\n",
       "      <td>35</td>\n",
       "      <td>3</td>\n",
       "      <td>146</td>\n",
       "      <td>136</td>\n",
       "      <td>1330</td>\n",
       "      <td>2013-2014</td>\n",
       "      <td>2013</td>\n",
       "    </tr>\n",
       "    <tr>\n",
       "      <th>4</th>\n",
       "      <td>Alexis Ajinca</td>\n",
       "      <td>C</td>\n",
       "      <td>25</td>\n",
       "      <td>NOP</td>\n",
       "      <td>56</td>\n",
       "      <td>30</td>\n",
       "      <td>951</td>\n",
       "      <td>136</td>\n",
       "      <td>249</td>\n",
       "      <td>0.546</td>\n",
       "      <td>...</td>\n",
       "      <td>183</td>\n",
       "      <td>277</td>\n",
       "      <td>40</td>\n",
       "      <td>23</td>\n",
       "      <td>46</td>\n",
       "      <td>63</td>\n",
       "      <td>187</td>\n",
       "      <td>328</td>\n",
       "      <td>2013-2014</td>\n",
       "      <td>2013</td>\n",
       "    </tr>\n",
       "    <tr>\n",
       "      <th>...</th>\n",
       "      <td>...</td>\n",
       "      <td>...</td>\n",
       "      <td>...</td>\n",
       "      <td>...</td>\n",
       "      <td>...</td>\n",
       "      <td>...</td>\n",
       "      <td>...</td>\n",
       "      <td>...</td>\n",
       "      <td>...</td>\n",
       "      <td>...</td>\n",
       "      <td>...</td>\n",
       "      <td>...</td>\n",
       "      <td>...</td>\n",
       "      <td>...</td>\n",
       "      <td>...</td>\n",
       "      <td>...</td>\n",
       "      <td>...</td>\n",
       "      <td>...</td>\n",
       "      <td>...</td>\n",
       "      <td>...</td>\n",
       "      <td>...</td>\n",
       "    </tr>\n",
       "    <tr>\n",
       "      <th>476</th>\n",
       "      <td>Tony Wroten</td>\n",
       "      <td>SG</td>\n",
       "      <td>20</td>\n",
       "      <td>PHI</td>\n",
       "      <td>72</td>\n",
       "      <td>16</td>\n",
       "      <td>1765</td>\n",
       "      <td>345</td>\n",
       "      <td>808</td>\n",
       "      <td>0.427</td>\n",
       "      <td>...</td>\n",
       "      <td>159</td>\n",
       "      <td>228</td>\n",
       "      <td>217</td>\n",
       "      <td>78</td>\n",
       "      <td>16</td>\n",
       "      <td>204</td>\n",
       "      <td>151</td>\n",
       "      <td>939</td>\n",
       "      <td>2013-2014</td>\n",
       "      <td>2013</td>\n",
       "    </tr>\n",
       "    <tr>\n",
       "      <th>477</th>\n",
       "      <td>Nick Young</td>\n",
       "      <td>SG</td>\n",
       "      <td>28</td>\n",
       "      <td>LAL</td>\n",
       "      <td>64</td>\n",
       "      <td>9</td>\n",
       "      <td>1810</td>\n",
       "      <td>387</td>\n",
       "      <td>889</td>\n",
       "      <td>0.435</td>\n",
       "      <td>...</td>\n",
       "      <td>137</td>\n",
       "      <td>166</td>\n",
       "      <td>95</td>\n",
       "      <td>46</td>\n",
       "      <td>12</td>\n",
       "      <td>95</td>\n",
       "      <td>156</td>\n",
       "      <td>1144</td>\n",
       "      <td>2013-2014</td>\n",
       "      <td>2013</td>\n",
       "    </tr>\n",
       "    <tr>\n",
       "      <th>478</th>\n",
       "      <td>Thaddeus Young</td>\n",
       "      <td>PF</td>\n",
       "      <td>25</td>\n",
       "      <td>PHI</td>\n",
       "      <td>79</td>\n",
       "      <td>78</td>\n",
       "      <td>2718</td>\n",
       "      <td>582</td>\n",
       "      <td>1283</td>\n",
       "      <td>0.454</td>\n",
       "      <td>...</td>\n",
       "      <td>310</td>\n",
       "      <td>476</td>\n",
       "      <td>182</td>\n",
       "      <td>167</td>\n",
       "      <td>36</td>\n",
       "      <td>165</td>\n",
       "      <td>213</td>\n",
       "      <td>1417</td>\n",
       "      <td>2013-2014</td>\n",
       "      <td>2013</td>\n",
       "    </tr>\n",
       "    <tr>\n",
       "      <th>479</th>\n",
       "      <td>Cody Zeller</td>\n",
       "      <td>C</td>\n",
       "      <td>21</td>\n",
       "      <td>CHA</td>\n",
       "      <td>82</td>\n",
       "      <td>3</td>\n",
       "      <td>1416</td>\n",
       "      <td>172</td>\n",
       "      <td>404</td>\n",
       "      <td>0.426</td>\n",
       "      <td>...</td>\n",
       "      <td>235</td>\n",
       "      <td>353</td>\n",
       "      <td>92</td>\n",
       "      <td>40</td>\n",
       "      <td>41</td>\n",
       "      <td>87</td>\n",
       "      <td>170</td>\n",
       "      <td>490</td>\n",
       "      <td>2013-2014</td>\n",
       "      <td>2013</td>\n",
       "    </tr>\n",
       "    <tr>\n",
       "      <th>480</th>\n",
       "      <td>Tyler Zeller</td>\n",
       "      <td>C</td>\n",
       "      <td>24</td>\n",
       "      <td>CLE</td>\n",
       "      <td>70</td>\n",
       "      <td>9</td>\n",
       "      <td>1049</td>\n",
       "      <td>156</td>\n",
       "      <td>290</td>\n",
       "      <td>0.538</td>\n",
       "      <td>...</td>\n",
       "      <td>179</td>\n",
       "      <td>282</td>\n",
       "      <td>36</td>\n",
       "      <td>18</td>\n",
       "      <td>38</td>\n",
       "      <td>60</td>\n",
       "      <td>137</td>\n",
       "      <td>399</td>\n",
       "      <td>2013-2014</td>\n",
       "      <td>2013</td>\n",
       "    </tr>\n",
       "  </tbody>\n",
       "</table>\n",
       "<p>481 rows × 31 columns</p>\n",
       "</div>"
      ],
      "text/plain": [
       "             player pos  age bref_team_id   g  gs    mp   fg   fga    fg.  \\\n",
       "0        Quincy Acy  SF   23          TOT  63   0   847   66   141  0.468   \n",
       "1      Steven Adams   C   20          OKC  81  20  1197   93   185  0.503   \n",
       "2       Jeff Adrien  PF   27          TOT  53  12   961  143   275  0.520   \n",
       "3     Arron Afflalo  SG   28          ORL  73  73  2552  464  1011  0.459   \n",
       "4     Alexis Ajinca   C   25          NOP  56  30   951  136   249  0.546   \n",
       "..              ...  ..  ...          ...  ..  ..   ...  ...   ...    ...   \n",
       "476     Tony Wroten  SG   20          PHI  72  16  1765  345   808  0.427   \n",
       "477      Nick Young  SG   28          LAL  64   9  1810  387   889  0.435   \n",
       "478  Thaddeus Young  PF   25          PHI  79  78  2718  582  1283  0.454   \n",
       "479     Cody Zeller   C   21          CHA  82   3  1416  172   404  0.426   \n",
       "480    Tyler Zeller   C   24          CLE  70   9  1049  156   290  0.538   \n",
       "\n",
       "     ...  drb  trb  ast  stl  blk  tov   pf   pts     season  season_end  \n",
       "0    ...  144  216   28   23   26   30  122   171  2013-2014        2013  \n",
       "1    ...  190  332   43   40   57   71  203   265  2013-2014        2013  \n",
       "2    ...  204  306   38   24   36   39  108   362  2013-2014        2013  \n",
       "3    ...  230  262  248   35    3  146  136  1330  2013-2014        2013  \n",
       "4    ...  183  277   40   23   46   63  187   328  2013-2014        2013  \n",
       "..   ...  ...  ...  ...  ...  ...  ...  ...   ...        ...         ...  \n",
       "476  ...  159  228  217   78   16  204  151   939  2013-2014        2013  \n",
       "477  ...  137  166   95   46   12   95  156  1144  2013-2014        2013  \n",
       "478  ...  310  476  182  167   36  165  213  1417  2013-2014        2013  \n",
       "479  ...  235  353   92   40   41   87  170   490  2013-2014        2013  \n",
       "480  ...  179  282   36   18   38   60  137   399  2013-2014        2013  \n",
       "\n",
       "[481 rows x 31 columns]"
      ]
     },
     "execution_count": 22,
     "metadata": {},
     "output_type": "execute_result"
    },
    {
     "data": {
      "application/javascript": [
       "\n",
       "            setTimeout(function() {\n",
       "                var nbb_cell_id = 22;\n",
       "                var nbb_unformatted_code = \"df = pd.read_csv(\\\"data/nba_2013.csv\\\")\\ndf\";\n",
       "                var nbb_formatted_code = \"df = pd.read_csv(\\\"data/nba_2013.csv\\\")\\ndf\";\n",
       "                var nbb_cells = Jupyter.notebook.get_cells();\n",
       "                for (var i = 0; i < nbb_cells.length; ++i) {\n",
       "                    if (nbb_cells[i].input_prompt_number == nbb_cell_id) {\n",
       "                        if (nbb_cells[i].get_text() == nbb_unformatted_code) {\n",
       "                             nbb_cells[i].set_text(nbb_formatted_code);\n",
       "                        }\n",
       "                        break;\n",
       "                    }\n",
       "                }\n",
       "            }, 500);\n",
       "            "
      ],
      "text/plain": [
       "<IPython.core.display.Javascript object>"
      ]
     },
     "metadata": {},
     "output_type": "display_data"
    }
   ],
   "source": [
    "df = pd.read_csv(\"data/nba_2013.csv\")\n",
    "df"
   ]
  },
  {
   "cell_type": "markdown",
   "id": "66c19b50",
   "metadata": {},
   "source": [
    "### Exploratory Data Anlasis (EDA)"
   ]
  },
  {
   "cell_type": "code",
   "execution_count": 23,
   "id": "26af7094",
   "metadata": {},
   "outputs": [
    {
     "name": "stdout",
     "output_type": "stream",
     "text": [
      "<class 'pandas.core.frame.DataFrame'>\n",
      "RangeIndex: 481 entries, 0 to 480\n",
      "Data columns (total 31 columns):\n",
      " #   Column        Non-Null Count  Dtype  \n",
      "---  ------        --------------  -----  \n",
      " 0   player        481 non-null    object \n",
      " 1   pos           481 non-null    object \n",
      " 2   age           481 non-null    int64  \n",
      " 3   bref_team_id  481 non-null    object \n",
      " 4   g             481 non-null    int64  \n",
      " 5   gs            481 non-null    int64  \n",
      " 6   mp            481 non-null    int64  \n",
      " 7   fg            481 non-null    int64  \n",
      " 8   fga           481 non-null    int64  \n",
      " 9   fg.           479 non-null    float64\n",
      " 10  x3p           481 non-null    int64  \n",
      " 11  x3pa          481 non-null    int64  \n",
      " 12  x3p.          414 non-null    float64\n",
      " 13  x2p           481 non-null    int64  \n",
      " 14  x2pa          481 non-null    int64  \n",
      " 15  x2p.          478 non-null    float64\n",
      " 16  efg.          479 non-null    float64\n",
      " 17  ft            481 non-null    int64  \n",
      " 18  fta           481 non-null    int64  \n",
      " 19  ft.           461 non-null    float64\n",
      " 20  orb           481 non-null    int64  \n",
      " 21  drb           481 non-null    int64  \n",
      " 22  trb           481 non-null    int64  \n",
      " 23  ast           481 non-null    int64  \n",
      " 24  stl           481 non-null    int64  \n",
      " 25  blk           481 non-null    int64  \n",
      " 26  tov           481 non-null    int64  \n",
      " 27  pf            481 non-null    int64  \n",
      " 28  pts           481 non-null    int64  \n",
      " 29  season        481 non-null    object \n",
      " 30  season_end    481 non-null    int64  \n",
      "dtypes: float64(5), int64(22), object(4)\n",
      "memory usage: 116.6+ KB\n"
     ]
    },
    {
     "data": {
      "application/javascript": [
       "\n",
       "            setTimeout(function() {\n",
       "                var nbb_cell_id = 23;\n",
       "                var nbb_unformatted_code = \"df.info()\";\n",
       "                var nbb_formatted_code = \"df.info()\";\n",
       "                var nbb_cells = Jupyter.notebook.get_cells();\n",
       "                for (var i = 0; i < nbb_cells.length; ++i) {\n",
       "                    if (nbb_cells[i].input_prompt_number == nbb_cell_id) {\n",
       "                        if (nbb_cells[i].get_text() == nbb_unformatted_code) {\n",
       "                             nbb_cells[i].set_text(nbb_formatted_code);\n",
       "                        }\n",
       "                        break;\n",
       "                    }\n",
       "                }\n",
       "            }, 500);\n",
       "            "
      ],
      "text/plain": [
       "<IPython.core.display.Javascript object>"
      ]
     },
     "metadata": {},
     "output_type": "display_data"
    }
   ],
   "source": [
    "df.info()"
   ]
  },
  {
   "cell_type": "code",
   "execution_count": 24,
   "id": "b0122f9a",
   "metadata": {},
   "outputs": [
    {
     "data": {
      "text/plain": [
       "'\\n=> có null, sử dụng interpolate để giải quyết\\n'"
      ]
     },
     "execution_count": 24,
     "metadata": {},
     "output_type": "execute_result"
    },
    {
     "data": {
      "application/javascript": [
       "\n",
       "            setTimeout(function() {\n",
       "                var nbb_cell_id = 24;\n",
       "                var nbb_unformatted_code = \"\\\"\\\"\\\"\\n=> c\\u00f3 null, s\\u1eed d\\u1ee5ng interpolate \\u0111\\u1ec3 gi\\u1ea3i quy\\u1ebft\\n\\\"\\\"\\\"\";\n",
       "                var nbb_formatted_code = \"\\\"\\\"\\\"\\n=> c\\u00f3 null, s\\u1eed d\\u1ee5ng interpolate \\u0111\\u1ec3 gi\\u1ea3i quy\\u1ebft\\n\\\"\\\"\\\"\";\n",
       "                var nbb_cells = Jupyter.notebook.get_cells();\n",
       "                for (var i = 0; i < nbb_cells.length; ++i) {\n",
       "                    if (nbb_cells[i].input_prompt_number == nbb_cell_id) {\n",
       "                        if (nbb_cells[i].get_text() == nbb_unformatted_code) {\n",
       "                             nbb_cells[i].set_text(nbb_formatted_code);\n",
       "                        }\n",
       "                        break;\n",
       "                    }\n",
       "                }\n",
       "            }, 500);\n",
       "            "
      ],
      "text/plain": [
       "<IPython.core.display.Javascript object>"
      ]
     },
     "metadata": {},
     "output_type": "display_data"
    }
   ],
   "source": [
    "\"\"\"\n",
    "=> có null, sử dụng interpolate để giải quyết\n",
    "\"\"\""
   ]
  },
  {
   "cell_type": "code",
   "execution_count": 25,
   "id": "e7eebdfc",
   "metadata": {},
   "outputs": [
    {
     "data": {
      "application/javascript": [
       "\n",
       "            setTimeout(function() {\n",
       "                var nbb_cell_id = 25;\n",
       "                var nbb_unformatted_code = \"df_new = df.interpolate()\";\n",
       "                var nbb_formatted_code = \"df_new = df.interpolate()\";\n",
       "                var nbb_cells = Jupyter.notebook.get_cells();\n",
       "                for (var i = 0; i < nbb_cells.length; ++i) {\n",
       "                    if (nbb_cells[i].input_prompt_number == nbb_cell_id) {\n",
       "                        if (nbb_cells[i].get_text() == nbb_unformatted_code) {\n",
       "                             nbb_cells[i].set_text(nbb_formatted_code);\n",
       "                        }\n",
       "                        break;\n",
       "                    }\n",
       "                }\n",
       "            }, 500);\n",
       "            "
      ],
      "text/plain": [
       "<IPython.core.display.Javascript object>"
      ]
     },
     "metadata": {},
     "output_type": "display_data"
    }
   ],
   "source": [
    "df_new = df.interpolate()"
   ]
  },
  {
   "cell_type": "code",
   "execution_count": 26,
   "id": "14a88986",
   "metadata": {},
   "outputs": [
    {
     "data": {
      "application/javascript": [
       "\n",
       "            setTimeout(function() {\n",
       "                var nbb_cell_id = 26;\n",
       "                var nbb_unformatted_code = \"# profile = ProfileReport(df_new)\\n# profile\";\n",
       "                var nbb_formatted_code = \"# profile = ProfileReport(df_new)\\n# profile\";\n",
       "                var nbb_cells = Jupyter.notebook.get_cells();\n",
       "                for (var i = 0; i < nbb_cells.length; ++i) {\n",
       "                    if (nbb_cells[i].input_prompt_number == nbb_cell_id) {\n",
       "                        if (nbb_cells[i].get_text() == nbb_unformatted_code) {\n",
       "                             nbb_cells[i].set_text(nbb_formatted_code);\n",
       "                        }\n",
       "                        break;\n",
       "                    }\n",
       "                }\n",
       "            }, 500);\n",
       "            "
      ],
      "text/plain": [
       "<IPython.core.display.Javascript object>"
      ]
     },
     "metadata": {},
     "output_type": "display_data"
    }
   ],
   "source": [
    "# profile = ProfileReport(df_new)\n",
    "# profile"
   ]
  },
  {
   "cell_type": "code",
   "execution_count": 20,
   "id": "abe05672",
   "metadata": {},
   "outputs": [
    {
     "data": {
      "application/vnd.jupyter.widget-view+json": {
       "model_id": "27dccf54809d4c378498699729348705",
       "version_major": 2,
       "version_minor": 0
      },
      "text/plain": [
       "Export report to file:   0%|          | 0/1 [00:00<?, ?it/s]"
      ]
     },
     "metadata": {},
     "output_type": "display_data"
    },
    {
     "data": {
      "application/javascript": [
       "\n",
       "            setTimeout(function() {\n",
       "                var nbb_cell_id = 20;\n",
       "                var nbb_unformatted_code = \"profile.to_file(\\\"Exercise3_Exploratory_Data_Analysis.html\\\")\";\n",
       "                var nbb_formatted_code = \"profile.to_file(\\\"Exercise3_Exploratory_Data_Analysis.html\\\")\";\n",
       "                var nbb_cells = Jupyter.notebook.get_cells();\n",
       "                for (var i = 0; i < nbb_cells.length; ++i) {\n",
       "                    if (nbb_cells[i].input_prompt_number == nbb_cell_id) {\n",
       "                        if (nbb_cells[i].get_text() == nbb_unformatted_code) {\n",
       "                             nbb_cells[i].set_text(nbb_formatted_code);\n",
       "                        }\n",
       "                        break;\n",
       "                    }\n",
       "                }\n",
       "            }, 500);\n",
       "            "
      ],
      "text/plain": [
       "<IPython.core.display.Javascript object>"
      ]
     },
     "metadata": {},
     "output_type": "display_data"
    }
   ],
   "source": [
    "#profile.to_file(\"Exercise3_Exploratory_Data_Analysis.html\")"
   ]
  },
  {
   "cell_type": "code",
   "execution_count": 29,
   "id": "ad87e667",
   "metadata": {},
   "outputs": [
    {
     "data": {
      "application/javascript": [
       "\n",
       "            setTimeout(function() {\n",
       "                var nbb_cell_id = 29;\n",
       "                var nbb_unformatted_code = \"X = df_new.drop(columns=['pts'])\\ny = df_new.pts\";\n",
       "                var nbb_formatted_code = \"X = df_new.drop(columns=[\\\"pts\\\"])\\ny = df_new.pts\";\n",
       "                var nbb_cells = Jupyter.notebook.get_cells();\n",
       "                for (var i = 0; i < nbb_cells.length; ++i) {\n",
       "                    if (nbb_cells[i].input_prompt_number == nbb_cell_id) {\n",
       "                        if (nbb_cells[i].get_text() == nbb_unformatted_code) {\n",
       "                             nbb_cells[i].set_text(nbb_formatted_code);\n",
       "                        }\n",
       "                        break;\n",
       "                    }\n",
       "                }\n",
       "            }, 500);\n",
       "            "
      ],
      "text/plain": [
       "<IPython.core.display.Javascript object>"
      ]
     },
     "metadata": {},
     "output_type": "display_data"
    }
   ],
   "source": [
    "X = df_new.drop(columns=[\"pts\"])\n",
    "y = df_new.pts"
   ]
  },
  {
   "cell_type": "code",
   "execution_count": 34,
   "id": "940f73bc",
   "metadata": {},
   "outputs": [
    {
     "data": {
      "application/javascript": [
       "\n",
       "            setTimeout(function() {\n",
       "                var nbb_cell_id = 34;\n",
       "                var nbb_unformatted_code = \"X_new = pd.get_dummies(data = X)\";\n",
       "                var nbb_formatted_code = \"X_new = pd.get_dummies(data=X)\";\n",
       "                var nbb_cells = Jupyter.notebook.get_cells();\n",
       "                for (var i = 0; i < nbb_cells.length; ++i) {\n",
       "                    if (nbb_cells[i].input_prompt_number == nbb_cell_id) {\n",
       "                        if (nbb_cells[i].get_text() == nbb_unformatted_code) {\n",
       "                             nbb_cells[i].set_text(nbb_formatted_code);\n",
       "                        }\n",
       "                        break;\n",
       "                    }\n",
       "                }\n",
       "            }, 500);\n",
       "            "
      ],
      "text/plain": [
       "<IPython.core.display.Javascript object>"
      ]
     },
     "metadata": {},
     "output_type": "display_data"
    }
   ],
   "source": [
    "X_new = pd.get_dummies(data=X)"
   ]
  },
  {
   "cell_type": "markdown",
   "id": "327ea945",
   "metadata": {},
   "source": [
    "### Applying machine learning algorithm"
   ]
  },
  {
   "cell_type": "code",
   "execution_count": 35,
   "id": "edd9d03b",
   "metadata": {},
   "outputs": [
    {
     "data": {
      "application/javascript": [
       "\n",
       "            setTimeout(function() {\n",
       "                var nbb_cell_id = 35;\n",
       "                var nbb_unformatted_code = \"X_train, X_test, y_train, y_test = train_test_split(\\n    X_new, y, test_size=0.2, random_state=50\\n)\";\n",
       "                var nbb_formatted_code = \"X_train, X_test, y_train, y_test = train_test_split(\\n    X_new, y, test_size=0.2, random_state=50\\n)\";\n",
       "                var nbb_cells = Jupyter.notebook.get_cells();\n",
       "                for (var i = 0; i < nbb_cells.length; ++i) {\n",
       "                    if (nbb_cells[i].input_prompt_number == nbb_cell_id) {\n",
       "                        if (nbb_cells[i].get_text() == nbb_unformatted_code) {\n",
       "                             nbb_cells[i].set_text(nbb_formatted_code);\n",
       "                        }\n",
       "                        break;\n",
       "                    }\n",
       "                }\n",
       "            }, 500);\n",
       "            "
      ],
      "text/plain": [
       "<IPython.core.display.Javascript object>"
      ]
     },
     "metadata": {},
     "output_type": "display_data"
    }
   ],
   "source": [
    "X_train, X_test, y_train, y_test = train_test_split(\n",
    "    X_new, y, test_size=0.2, random_state=42\n",
    ")"
   ]
  },
  {
   "cell_type": "code",
   "execution_count": 36,
   "id": "22ef51b7",
   "metadata": {},
   "outputs": [
    {
     "data": {
      "application/javascript": [
       "\n",
       "            setTimeout(function() {\n",
       "                var nbb_cell_id = 36;\n",
       "                var nbb_unformatted_code = \"# v\\u00ec plt (tarhet) l\\u00e0 continuous variable => s\\u1eed d\\u1ee5ng decision tree regressor\\nmodel = DecisionTreeRegressor().fit(X_train, y_train)\";\n",
       "                var nbb_formatted_code = \"# v\\u00ec plt (tarhet) l\\u00e0 continuous variable => s\\u1eed d\\u1ee5ng decision tree regressor\\nmodel = DecisionTreeRegressor().fit(X_train, y_train)\";\n",
       "                var nbb_cells = Jupyter.notebook.get_cells();\n",
       "                for (var i = 0; i < nbb_cells.length; ++i) {\n",
       "                    if (nbb_cells[i].input_prompt_number == nbb_cell_id) {\n",
       "                        if (nbb_cells[i].get_text() == nbb_unformatted_code) {\n",
       "                             nbb_cells[i].set_text(nbb_formatted_code);\n",
       "                        }\n",
       "                        break;\n",
       "                    }\n",
       "                }\n",
       "            }, 500);\n",
       "            "
      ],
      "text/plain": [
       "<IPython.core.display.Javascript object>"
      ]
     },
     "metadata": {},
     "output_type": "display_data"
    }
   ],
   "source": [
    "# vì plt (tarhet) là continuous variable => sử dụng decision tree regressor\n",
    "model = DecisionTreeRegressor().fit(X_train, y_train)"
   ]
  },
  {
   "cell_type": "markdown",
   "id": "983dd3f0",
   "metadata": {},
   "source": [
    "### Đánh giá"
   ]
  },
  {
   "cell_type": "code",
   "execution_count": 37,
   "id": "251a2b53",
   "metadata": {},
   "outputs": [
    {
     "name": "stdout",
     "output_type": "stream",
     "text": [
      "The Train/ Score is:  100.0 %\n",
      "The Test/ Score accuracy is:  98.58860124960313 %\n",
      "Mean Squared Error: 3010.814432989691\n"
     ]
    },
    {
     "data": {
      "application/javascript": [
       "\n",
       "            setTimeout(function() {\n",
       "                var nbb_cell_id = 37;\n",
       "                var nbb_unformatted_code = \"# Ki\\u1ec3m tra \\u0111\\u1ed9 ch\\u00ednh x\\u00e1c\\nfrom sklearn import metrics\\n\\nprint(\\\"The Train/ Score is: \\\", model.score(X_train,y_train)*100,\\\"%\\\")\\nprint(\\\"The Test/ Score accuracy is: \\\", model.score(X_test,y_test)*100,\\\"%\\\")\\ny_pred = model.predict(X_test)\\nprint('Mean Squared Error:', metrics.mean_squared_error(y_test, y_pred))\";\n",
       "                var nbb_formatted_code = \"# Ki\\u1ec3m tra \\u0111\\u1ed9 ch\\u00ednh x\\u00e1c\\nfrom sklearn import metrics\\n\\nprint(\\\"The Train/ Score is: \\\", model.score(X_train, y_train) * 100, \\\"%\\\")\\nprint(\\\"The Test/ Score accuracy is: \\\", model.score(X_test, y_test) * 100, \\\"%\\\")\\ny_pred = model.predict(X_test)\\nprint(\\\"Mean Squared Error:\\\", metrics.mean_squared_error(y_test, y_pred))\";\n",
       "                var nbb_cells = Jupyter.notebook.get_cells();\n",
       "                for (var i = 0; i < nbb_cells.length; ++i) {\n",
       "                    if (nbb_cells[i].input_prompt_number == nbb_cell_id) {\n",
       "                        if (nbb_cells[i].get_text() == nbb_unformatted_code) {\n",
       "                             nbb_cells[i].set_text(nbb_formatted_code);\n",
       "                        }\n",
       "                        break;\n",
       "                    }\n",
       "                }\n",
       "            }, 500);\n",
       "            "
      ],
      "text/plain": [
       "<IPython.core.display.Javascript object>"
      ]
     },
     "metadata": {},
     "output_type": "display_data"
    }
   ],
   "source": [
    "# Kiểm tra độ chính xác\n",
    "from sklearn import metrics\n",
    "\n",
    "print(\"The Train/ Score is: \", model.score(X_train, y_train) * 100, \"%\")\n",
    "print(\"The Test/ Score accuracy is: \", model.score(X_test, y_test) * 100, \"%\")\n",
    "y_pred = model.predict(X_test)\n",
    "print(\"Mean Squared Error:\", metrics.mean_squared_error(y_test, y_pred))"
   ]
  },
  {
   "cell_type": "code",
   "execution_count": 38,
   "id": "36127371",
   "metadata": {},
   "outputs": [
    {
     "data": {
      "text/plain": [
       "'\\nTraining và Testing cùng có R^2 cao và gần bằng nhau\\nMô hình trên cho R^2 cao ~ 0.99, cho thấy nó fit 99% dữ liệu\\nMSE vừa phải => mô hình phù hợp\\n'"
      ]
     },
     "execution_count": 38,
     "metadata": {},
     "output_type": "execute_result"
    },
    {
     "data": {
      "application/javascript": [
       "\n",
       "            setTimeout(function() {\n",
       "                var nbb_cell_id = 38;\n",
       "                var nbb_unformatted_code = \"'''\\nTraining v\\u00e0 Testing c\\u00f9ng c\\u00f3 R^2 cao v\\u00e0 g\\u1ea7n b\\u1eb1ng nhau\\nM\\u00f4 h\\u00ecnh tr\\u00ean cho R^2 cao ~ 0.99, cho th\\u1ea5y n\\u00f3 fit 99% d\\u1eef li\\u1ec7u\\nMSE v\\u1eeba ph\\u1ea3i => m\\u00f4 h\\u00ecnh ph\\u00f9 h\\u1ee3p\\n'''\";\n",
       "                var nbb_formatted_code = \"\\\"\\\"\\\"\\nTraining v\\u00e0 Testing c\\u00f9ng c\\u00f3 R^2 cao v\\u00e0 g\\u1ea7n b\\u1eb1ng nhau\\nM\\u00f4 h\\u00ecnh tr\\u00ean cho R^2 cao ~ 0.99, cho th\\u1ea5y n\\u00f3 fit 99% d\\u1eef li\\u1ec7u\\nMSE v\\u1eeba ph\\u1ea3i => m\\u00f4 h\\u00ecnh ph\\u00f9 h\\u1ee3p\\n\\\"\\\"\\\"\";\n",
       "                var nbb_cells = Jupyter.notebook.get_cells();\n",
       "                for (var i = 0; i < nbb_cells.length; ++i) {\n",
       "                    if (nbb_cells[i].input_prompt_number == nbb_cell_id) {\n",
       "                        if (nbb_cells[i].get_text() == nbb_unformatted_code) {\n",
       "                             nbb_cells[i].set_text(nbb_formatted_code);\n",
       "                        }\n",
       "                        break;\n",
       "                    }\n",
       "                }\n",
       "            }, 500);\n",
       "            "
      ],
      "text/plain": [
       "<IPython.core.display.Javascript object>"
      ]
     },
     "metadata": {},
     "output_type": "display_data"
    }
   ],
   "source": [
    "\"\"\"\n",
    "Training và Testing cùng có R^2 cao và gần bằng nhau\n",
    "Mô hình trên cho R^2 cao ~ 0.99, cho thấy nó fit 99% dữ liệu\n",
    "MSE vừa phải => mô hình phù hợp\n",
    "\"\"\""
   ]
  },
  {
   "cell_type": "code",
   "execution_count": null,
   "id": "f61b77d4",
   "metadata": {},
   "outputs": [],
   "source": []
  }
 ],
 "metadata": {
  "kernelspec": {
   "display_name": "Python 3 (ipykernel)",
   "language": "python",
   "name": "python3"
  },
  "language_info": {
   "codemirror_mode": {
    "name": "ipython",
    "version": 3
   },
   "file_extension": ".py",
   "mimetype": "text/x-python",
   "name": "python",
   "nbconvert_exporter": "python",
   "pygments_lexer": "ipython3",
   "version": "3.9.7"
  }
 },
 "nbformat": 4,
 "nbformat_minor": 5
}
