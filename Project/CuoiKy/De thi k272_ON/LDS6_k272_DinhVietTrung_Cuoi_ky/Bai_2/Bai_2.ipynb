{
 "cells": [
  {
   "cell_type": "markdown",
   "id": "5d431255",
   "metadata": {
    "ExecuteTime": {
     "end_time": "2022-01-27T15:10:30.234665Z",
     "start_time": "2022-01-27T15:10:30.215716Z"
    }
   },
   "source": [
    "## Bài 2. Groceries dataset \n",
    "#### Cho dữ liệu ItemList.xlsx \n",
    "#### Yêu cầu: Đọc dữ liệu, chuẩn hóa dữ liệu (nếu cần) và chọn một thuật toán thích hợp trong  nhóm Association rule learning để tính toán mức độ kết hợp giữa các item. \n",
    "1. Áp dụng thuật toán (tự lựa chọn các tham số phù hợp cho thuật toán, lưu ý với số\n",
    "lượng transaction càng nhiều thì các ngưỡng nên đặt càng nhỏ). In kết quả. Vẽ biểu \n",
    "đồ. \n",
    "2. Tìm kiếm thông tin từ kết quả: trong thông tin kết quả có 'sausage' không? Nếu có thì \n",
    "'sausage' kết hợp với item nào? \n",
    "3. Cho biết 15 sản phẩm được mua nhiều nhất. Vẽ biểu đồ. \n",
    "4. Cho biết 15 sản phẩm được mua ít nhất. Vẽ biểu đồ. "
   ]
  },
  {
   "cell_type": "code",
   "execution_count": 2,
   "id": "631c221a",
   "metadata": {
    "ExecuteTime": {
     "end_time": "2022-01-30T12:48:34.170853Z",
     "start_time": "2022-01-30T12:48:32.849926Z"
    }
   },
   "outputs": [],
   "source": [
    "import pandas as pd\n",
    "import numpy as np\n",
    "import matplotlib.pyplot as plt\n",
    "import seaborn as sns\n",
    "import warnings\n",
    "from mlxtend.preprocessing import TransactionEncoder\n",
    "from mlxtend.frequent_patterns import apriori\n",
    "from collections import defaultdict\n"
   ]
  },
  {
   "cell_type": "code",
   "execution_count": 3,
   "id": "f4790c1c",
   "metadata": {
    "ExecuteTime": {
     "end_time": "2022-01-30T12:48:34.294408Z",
     "start_time": "2022-01-30T12:48:34.171872Z"
    }
   },
   "outputs": [
    {
     "data": {
      "application/javascript": [
       "\n",
       "            setTimeout(function() {\n",
       "                var nbb_cell_id = 3;\n",
       "                var nbb_unformatted_code = \"%load_ext nb_black\\nwarnings.filterwarnings(\\\"ignore\\\")\";\n",
       "                var nbb_formatted_code = \"%load_ext nb_black\\nwarnings.filterwarnings(\\\"ignore\\\")\";\n",
       "                var nbb_cells = Jupyter.notebook.get_cells();\n",
       "                for (var i = 0; i < nbb_cells.length; ++i) {\n",
       "                    if (nbb_cells[i].input_prompt_number == nbb_cell_id) {\n",
       "                        if (nbb_cells[i].get_text() == nbb_unformatted_code) {\n",
       "                             nbb_cells[i].set_text(nbb_formatted_code);\n",
       "                        }\n",
       "                        break;\n",
       "                    }\n",
       "                }\n",
       "            }, 500);\n",
       "            "
      ],
      "text/plain": [
       "<IPython.core.display.Javascript object>"
      ]
     },
     "metadata": {},
     "output_type": "display_data"
    }
   ],
   "source": [
    "%load_ext nb_black\n",
    "warnings.filterwarnings(\"ignore\")"
   ]
  },
  {
   "cell_type": "code",
   "execution_count": 4,
   "id": "20d45e3e",
   "metadata": {
    "ExecuteTime": {
     "end_time": "2022-01-30T12:48:35.114416Z",
     "start_time": "2022-01-30T12:48:34.296377Z"
    }
   },
   "outputs": [
    {
     "data": {
      "application/javascript": [
       "\n",
       "            setTimeout(function() {\n",
       "                var nbb_cell_id = 4;\n",
       "                var nbb_unformatted_code = \"df = pd.read_excel(\\\"ItemList.xlsx\\\", header=None)\";\n",
       "                var nbb_formatted_code = \"df = pd.read_excel(\\\"ItemList.xlsx\\\", header=None)\";\n",
       "                var nbb_cells = Jupyter.notebook.get_cells();\n",
       "                for (var i = 0; i < nbb_cells.length; ++i) {\n",
       "                    if (nbb_cells[i].input_prompt_number == nbb_cell_id) {\n",
       "                        if (nbb_cells[i].get_text() == nbb_unformatted_code) {\n",
       "                             nbb_cells[i].set_text(nbb_formatted_code);\n",
       "                        }\n",
       "                        break;\n",
       "                    }\n",
       "                }\n",
       "            }, 500);\n",
       "            "
      ],
      "text/plain": [
       "<IPython.core.display.Javascript object>"
      ]
     },
     "metadata": {},
     "output_type": "display_data"
    }
   ],
   "source": [
    "df = pd.read_excel(\"ItemList.xlsx\", header=None)"
   ]
  },
  {
   "cell_type": "markdown",
   "id": "1d0c994c",
   "metadata": {},
   "source": [
    "### Phân tích khai phá dữ liệu"
   ]
  },
  {
   "cell_type": "code",
   "execution_count": 5,
   "id": "b4b97ce9",
   "metadata": {
    "ExecuteTime": {
     "end_time": "2022-01-30T12:48:35.145339Z",
     "start_time": "2022-01-30T12:48:35.116410Z"
    }
   },
   "outputs": [
    {
     "data": {
      "text/html": [
       "<div>\n",
       "<style scoped>\n",
       "    .dataframe tbody tr th:only-of-type {\n",
       "        vertical-align: middle;\n",
       "    }\n",
       "\n",
       "    .dataframe tbody tr th {\n",
       "        vertical-align: top;\n",
       "    }\n",
       "\n",
       "    .dataframe thead th {\n",
       "        text-align: right;\n",
       "    }\n",
       "</style>\n",
       "<table border=\"1\" class=\"dataframe\">\n",
       "  <thead>\n",
       "    <tr style=\"text-align: right;\">\n",
       "      <th></th>\n",
       "      <th>0</th>\n",
       "      <th>1</th>\n",
       "      <th>2</th>\n",
       "      <th>3</th>\n",
       "      <th>4</th>\n",
       "      <th>5</th>\n",
       "      <th>6</th>\n",
       "      <th>7</th>\n",
       "      <th>8</th>\n",
       "      <th>9</th>\n",
       "      <th>10</th>\n",
       "    </tr>\n",
       "  </thead>\n",
       "  <tbody>\n",
       "    <tr>\n",
       "      <th>0</th>\n",
       "      <td>sausage</td>\n",
       "      <td>whole milk</td>\n",
       "      <td>semi-finished bread</td>\n",
       "      <td>yogurt</td>\n",
       "      <td>NaN</td>\n",
       "      <td>NaN</td>\n",
       "      <td>NaN</td>\n",
       "      <td>NaN</td>\n",
       "      <td>NaN</td>\n",
       "      <td>NaN</td>\n",
       "      <td>NaN</td>\n",
       "    </tr>\n",
       "    <tr>\n",
       "      <th>1</th>\n",
       "      <td>whole milk</td>\n",
       "      <td>pastry</td>\n",
       "      <td>salty snack</td>\n",
       "      <td>NaN</td>\n",
       "      <td>NaN</td>\n",
       "      <td>NaN</td>\n",
       "      <td>NaN</td>\n",
       "      <td>NaN</td>\n",
       "      <td>NaN</td>\n",
       "      <td>NaN</td>\n",
       "      <td>NaN</td>\n",
       "    </tr>\n",
       "    <tr>\n",
       "      <th>2</th>\n",
       "      <td>canned beer</td>\n",
       "      <td>misc. beverages</td>\n",
       "      <td>NaN</td>\n",
       "      <td>NaN</td>\n",
       "      <td>NaN</td>\n",
       "      <td>NaN</td>\n",
       "      <td>NaN</td>\n",
       "      <td>NaN</td>\n",
       "      <td>NaN</td>\n",
       "      <td>NaN</td>\n",
       "      <td>NaN</td>\n",
       "    </tr>\n",
       "    <tr>\n",
       "      <th>3</th>\n",
       "      <td>sausage</td>\n",
       "      <td>hygiene articles</td>\n",
       "      <td>NaN</td>\n",
       "      <td>NaN</td>\n",
       "      <td>NaN</td>\n",
       "      <td>NaN</td>\n",
       "      <td>NaN</td>\n",
       "      <td>NaN</td>\n",
       "      <td>NaN</td>\n",
       "      <td>NaN</td>\n",
       "      <td>NaN</td>\n",
       "    </tr>\n",
       "    <tr>\n",
       "      <th>4</th>\n",
       "      <td>soda</td>\n",
       "      <td>pickled vegetables</td>\n",
       "      <td>NaN</td>\n",
       "      <td>NaN</td>\n",
       "      <td>NaN</td>\n",
       "      <td>NaN</td>\n",
       "      <td>NaN</td>\n",
       "      <td>NaN</td>\n",
       "      <td>NaN</td>\n",
       "      <td>NaN</td>\n",
       "      <td>NaN</td>\n",
       "    </tr>\n",
       "    <tr>\n",
       "      <th>...</th>\n",
       "      <td>...</td>\n",
       "      <td>...</td>\n",
       "      <td>...</td>\n",
       "      <td>...</td>\n",
       "      <td>...</td>\n",
       "      <td>...</td>\n",
       "      <td>...</td>\n",
       "      <td>...</td>\n",
       "      <td>...</td>\n",
       "      <td>...</td>\n",
       "      <td>...</td>\n",
       "    </tr>\n",
       "    <tr>\n",
       "      <th>14958</th>\n",
       "      <td>tropical fruit</td>\n",
       "      <td>berries</td>\n",
       "      <td>other vegetables</td>\n",
       "      <td>yogurt</td>\n",
       "      <td>kitchen towels</td>\n",
       "      <td>napkins</td>\n",
       "      <td>NaN</td>\n",
       "      <td>NaN</td>\n",
       "      <td>NaN</td>\n",
       "      <td>NaN</td>\n",
       "      <td>NaN</td>\n",
       "    </tr>\n",
       "    <tr>\n",
       "      <th>14959</th>\n",
       "      <td>bottled water</td>\n",
       "      <td>herbs</td>\n",
       "      <td>NaN</td>\n",
       "      <td>NaN</td>\n",
       "      <td>NaN</td>\n",
       "      <td>NaN</td>\n",
       "      <td>NaN</td>\n",
       "      <td>NaN</td>\n",
       "      <td>NaN</td>\n",
       "      <td>NaN</td>\n",
       "      <td>NaN</td>\n",
       "    </tr>\n",
       "    <tr>\n",
       "      <th>14960</th>\n",
       "      <td>fruit/vegetable juice</td>\n",
       "      <td>onions</td>\n",
       "      <td>NaN</td>\n",
       "      <td>NaN</td>\n",
       "      <td>NaN</td>\n",
       "      <td>NaN</td>\n",
       "      <td>NaN</td>\n",
       "      <td>NaN</td>\n",
       "      <td>NaN</td>\n",
       "      <td>NaN</td>\n",
       "      <td>NaN</td>\n",
       "    </tr>\n",
       "    <tr>\n",
       "      <th>14961</th>\n",
       "      <td>soda</td>\n",
       "      <td>root vegetables</td>\n",
       "      <td>semi-finished bread</td>\n",
       "      <td>NaN</td>\n",
       "      <td>NaN</td>\n",
       "      <td>NaN</td>\n",
       "      <td>NaN</td>\n",
       "      <td>NaN</td>\n",
       "      <td>NaN</td>\n",
       "      <td>NaN</td>\n",
       "      <td>NaN</td>\n",
       "    </tr>\n",
       "    <tr>\n",
       "      <th>14962</th>\n",
       "      <td>bottled beer</td>\n",
       "      <td>other vegetables</td>\n",
       "      <td>NaN</td>\n",
       "      <td>NaN</td>\n",
       "      <td>NaN</td>\n",
       "      <td>NaN</td>\n",
       "      <td>NaN</td>\n",
       "      <td>NaN</td>\n",
       "      <td>NaN</td>\n",
       "      <td>NaN</td>\n",
       "      <td>NaN</td>\n",
       "    </tr>\n",
       "  </tbody>\n",
       "</table>\n",
       "<p>14963 rows × 11 columns</p>\n",
       "</div>"
      ],
      "text/plain": [
       "                          0                   1                    2       3   \\\n",
       "0                    sausage          whole milk  semi-finished bread  yogurt   \n",
       "1                 whole milk              pastry          salty snack     NaN   \n",
       "2                canned beer     misc. beverages                  NaN     NaN   \n",
       "3                    sausage    hygiene articles                  NaN     NaN   \n",
       "4                       soda  pickled vegetables                  NaN     NaN   \n",
       "...                      ...                 ...                  ...     ...   \n",
       "14958         tropical fruit             berries     other vegetables  yogurt   \n",
       "14959          bottled water               herbs                  NaN     NaN   \n",
       "14960  fruit/vegetable juice              onions                  NaN     NaN   \n",
       "14961                   soda     root vegetables  semi-finished bread     NaN   \n",
       "14962           bottled beer    other vegetables                  NaN     NaN   \n",
       "\n",
       "                   4        5    6    7    8    9    10  \n",
       "0                 NaN      NaN  NaN  NaN  NaN  NaN  NaN  \n",
       "1                 NaN      NaN  NaN  NaN  NaN  NaN  NaN  \n",
       "2                 NaN      NaN  NaN  NaN  NaN  NaN  NaN  \n",
       "3                 NaN      NaN  NaN  NaN  NaN  NaN  NaN  \n",
       "4                 NaN      NaN  NaN  NaN  NaN  NaN  NaN  \n",
       "...               ...      ...  ...  ...  ...  ...  ...  \n",
       "14958  kitchen towels  napkins  NaN  NaN  NaN  NaN  NaN  \n",
       "14959             NaN      NaN  NaN  NaN  NaN  NaN  NaN  \n",
       "14960             NaN      NaN  NaN  NaN  NaN  NaN  NaN  \n",
       "14961             NaN      NaN  NaN  NaN  NaN  NaN  NaN  \n",
       "14962             NaN      NaN  NaN  NaN  NaN  NaN  NaN  \n",
       "\n",
       "[14963 rows x 11 columns]"
      ]
     },
     "execution_count": 5,
     "metadata": {},
     "output_type": "execute_result"
    },
    {
     "data": {
      "application/javascript": [
       "\n",
       "            setTimeout(function() {\n",
       "                var nbb_cell_id = 5;\n",
       "                var nbb_unformatted_code = \"df\";\n",
       "                var nbb_formatted_code = \"df\";\n",
       "                var nbb_cells = Jupyter.notebook.get_cells();\n",
       "                for (var i = 0; i < nbb_cells.length; ++i) {\n",
       "                    if (nbb_cells[i].input_prompt_number == nbb_cell_id) {\n",
       "                        if (nbb_cells[i].get_text() == nbb_unformatted_code) {\n",
       "                             nbb_cells[i].set_text(nbb_formatted_code);\n",
       "                        }\n",
       "                        break;\n",
       "                    }\n",
       "                }\n",
       "            }, 500);\n",
       "            "
      ],
      "text/plain": [
       "<IPython.core.display.Javascript object>"
      ]
     },
     "metadata": {},
     "output_type": "display_data"
    }
   ],
   "source": [
    "df"
   ]
  },
  {
   "cell_type": "code",
   "execution_count": 6,
   "id": "473a12e7",
   "metadata": {
    "ExecuteTime": {
     "end_time": "2022-01-30T12:48:35.176224Z",
     "start_time": "2022-01-30T12:48:35.146303Z"
    }
   },
   "outputs": [
    {
     "name": "stdout",
     "output_type": "stream",
     "text": [
      "<class 'pandas.core.frame.DataFrame'>\n",
      "RangeIndex: 14963 entries, 0 to 14962\n",
      "Data columns (total 11 columns):\n",
      " #   Column  Non-Null Count  Dtype \n",
      "---  ------  --------------  ----- \n",
      " 0   0       14963 non-null  object\n",
      " 1   1       14963 non-null  object\n",
      " 2   2       4883 non-null   object\n",
      " 3   3       2185 non-null   object\n",
      " 4   4       795 non-null    object\n",
      " 5   5       451 non-null    object\n",
      " 6   6       276 non-null    object\n",
      " 7   7       196 non-null    object\n",
      " 8   8       51 non-null     object\n",
      " 9   9       1 non-null      object\n",
      " 10  10      1 non-null      object\n",
      "dtypes: object(11)\n",
      "memory usage: 1.3+ MB\n"
     ]
    },
    {
     "data": {
      "application/javascript": [
       "\n",
       "            setTimeout(function() {\n",
       "                var nbb_cell_id = 6;\n",
       "                var nbb_unformatted_code = \"df.info()\";\n",
       "                var nbb_formatted_code = \"df.info()\";\n",
       "                var nbb_cells = Jupyter.notebook.get_cells();\n",
       "                for (var i = 0; i < nbb_cells.length; ++i) {\n",
       "                    if (nbb_cells[i].input_prompt_number == nbb_cell_id) {\n",
       "                        if (nbb_cells[i].get_text() == nbb_unformatted_code) {\n",
       "                             nbb_cells[i].set_text(nbb_formatted_code);\n",
       "                        }\n",
       "                        break;\n",
       "                    }\n",
       "                }\n",
       "            }, 500);\n",
       "            "
      ],
      "text/plain": [
       "<IPython.core.display.Javascript object>"
      ]
     },
     "metadata": {},
     "output_type": "display_data"
    }
   ],
   "source": [
    "df.info()"
   ]
  },
  {
   "cell_type": "code",
   "execution_count": 7,
   "id": "29705411",
   "metadata": {
    "ExecuteTime": {
     "end_time": "2022-01-30T12:48:35.191183Z",
     "start_time": "2022-01-30T12:48:35.178251Z"
    }
   },
   "outputs": [
    {
     "data": {
      "application/javascript": [
       "\n",
       "            setTimeout(function() {\n",
       "                var nbb_cell_id = 7;\n",
       "                var nbb_unformatted_code = \"# l\\u1ea5y c\\u00e1c values c\\u1ee7a dataframe t\\u1ea1o th\\u00e0nh matrix\\ndata = df.values\";\n",
       "                var nbb_formatted_code = \"# l\\u1ea5y c\\u00e1c values c\\u1ee7a dataframe t\\u1ea1o th\\u00e0nh matrix\\ndata = df.values\";\n",
       "                var nbb_cells = Jupyter.notebook.get_cells();\n",
       "                for (var i = 0; i < nbb_cells.length; ++i) {\n",
       "                    if (nbb_cells[i].input_prompt_number == nbb_cell_id) {\n",
       "                        if (nbb_cells[i].get_text() == nbb_unformatted_code) {\n",
       "                             nbb_cells[i].set_text(nbb_formatted_code);\n",
       "                        }\n",
       "                        break;\n",
       "                    }\n",
       "                }\n",
       "            }, 500);\n",
       "            "
      ],
      "text/plain": [
       "<IPython.core.display.Javascript object>"
      ]
     },
     "metadata": {},
     "output_type": "display_data"
    }
   ],
   "source": [
    "# lấy các values của dataframe tạo thành matrix\n",
    "data = df.values"
   ]
  },
  {
   "cell_type": "markdown",
   "id": "ed2c588e",
   "metadata": {},
   "source": [
    "#### Chuyển dataframe sang matrix transaction"
   ]
  },
  {
   "cell_type": "code",
   "execution_count": 8,
   "id": "df71bbeb",
   "metadata": {
    "ExecuteTime": {
     "end_time": "2022-01-30T12:48:35.655289Z",
     "start_time": "2022-01-30T12:48:35.193187Z"
    }
   },
   "outputs": [
    {
     "data": {
      "application/javascript": [
       "\n",
       "            setTimeout(function() {\n",
       "                var nbb_cell_id = 8;\n",
       "                var nbb_unformatted_code = \"# c\\u00e1ch 1\\nrecords = []\\nfor i in range(0, df.shape[0]):\\n    records.append([str(df.values[i, j]) for j in range(0, df.shape[1])])\";\n",
       "                var nbb_formatted_code = \"# c\\u00e1ch 1\\nrecords = []\\nfor i in range(0, df.shape[0]):\\n    records.append([str(df.values[i, j]) for j in range(0, df.shape[1])])\";\n",
       "                var nbb_cells = Jupyter.notebook.get_cells();\n",
       "                for (var i = 0; i < nbb_cells.length; ++i) {\n",
       "                    if (nbb_cells[i].input_prompt_number == nbb_cell_id) {\n",
       "                        if (nbb_cells[i].get_text() == nbb_unformatted_code) {\n",
       "                             nbb_cells[i].set_text(nbb_formatted_code);\n",
       "                        }\n",
       "                        break;\n",
       "                    }\n",
       "                }\n",
       "            }, 500);\n",
       "            "
      ],
      "text/plain": [
       "<IPython.core.display.Javascript object>"
      ]
     },
     "metadata": {},
     "output_type": "display_data"
    }
   ],
   "source": [
    "# cách 1\n",
    "records = []\n",
    "for i in range(0, df.shape[0]):\n",
    "    records.append([str(df.values[i, j]) for j in range(0, df.shape[1])])"
   ]
  },
  {
   "cell_type": "code",
   "execution_count": 9,
   "id": "4bf1a223",
   "metadata": {
    "ExecuteTime": {
     "end_time": "2022-01-30T12:48:35.717163Z",
     "start_time": "2022-01-30T12:48:35.656245Z"
    }
   },
   "outputs": [
    {
     "data": {
      "text/plain": [
       "(14963, 168)"
      ]
     },
     "execution_count": 9,
     "metadata": {},
     "output_type": "execute_result"
    },
    {
     "data": {
      "application/javascript": [
       "\n",
       "            setTimeout(function() {\n",
       "                var nbb_cell_id = 9;\n",
       "                var nbb_unformatted_code = \"te = TransactionEncoder()\\nte_ary = te.fit(records).transform(records)\\ndf_new1_temp = pd.DataFrame(te_ary, columns=te.columns_)\\ndf_new1_temp.shape\";\n",
       "                var nbb_formatted_code = \"te = TransactionEncoder()\\nte_ary = te.fit(records).transform(records)\\ndf_new1_temp = pd.DataFrame(te_ary, columns=te.columns_)\\ndf_new1_temp.shape\";\n",
       "                var nbb_cells = Jupyter.notebook.get_cells();\n",
       "                for (var i = 0; i < nbb_cells.length; ++i) {\n",
       "                    if (nbb_cells[i].input_prompt_number == nbb_cell_id) {\n",
       "                        if (nbb_cells[i].get_text() == nbb_unformatted_code) {\n",
       "                             nbb_cells[i].set_text(nbb_formatted_code);\n",
       "                        }\n",
       "                        break;\n",
       "                    }\n",
       "                }\n",
       "            }, 500);\n",
       "            "
      ],
      "text/plain": [
       "<IPython.core.display.Javascript object>"
      ]
     },
     "metadata": {},
     "output_type": "display_data"
    }
   ],
   "source": [
    "te = TransactionEncoder()\n",
    "te_ary = te.fit(records).transform(records)\n",
    "df_new1_temp = pd.DataFrame(te_ary, columns=te.columns_)\n",
    "df_new1_temp.shape"
   ]
  },
  {
   "cell_type": "code",
   "execution_count": 10,
   "id": "2ae076f9",
   "metadata": {
    "ExecuteTime": {
     "end_time": "2022-01-30T12:48:35.732088Z",
     "start_time": "2022-01-30T12:48:35.719149Z"
    }
   },
   "outputs": [
    {
     "data": {
      "application/javascript": [
       "\n",
       "            setTimeout(function() {\n",
       "                var nbb_cell_id = 10;\n",
       "                var nbb_unformatted_code = \"df_new1 = df_new1_temp.drop([\\\"nan\\\"], axis=1)\";\n",
       "                var nbb_formatted_code = \"df_new1 = df_new1_temp.drop([\\\"nan\\\"], axis=1)\";\n",
       "                var nbb_cells = Jupyter.notebook.get_cells();\n",
       "                for (var i = 0; i < nbb_cells.length; ++i) {\n",
       "                    if (nbb_cells[i].input_prompt_number == nbb_cell_id) {\n",
       "                        if (nbb_cells[i].get_text() == nbb_unformatted_code) {\n",
       "                             nbb_cells[i].set_text(nbb_formatted_code);\n",
       "                        }\n",
       "                        break;\n",
       "                    }\n",
       "                }\n",
       "            }, 500);\n",
       "            "
      ],
      "text/plain": [
       "<IPython.core.display.Javascript object>"
      ]
     },
     "metadata": {},
     "output_type": "display_data"
    }
   ],
   "source": [
    "df_new1 = df_new1_temp.drop([\"nan\"], axis=1)"
   ]
  },
  {
   "cell_type": "code",
   "execution_count": 11,
   "id": "31de231d",
   "metadata": {
    "ExecuteTime": {
     "end_time": "2022-01-30T12:48:35.748044Z",
     "start_time": "2022-01-30T12:48:35.735080Z"
    }
   },
   "outputs": [
    {
     "data": {
      "text/plain": [
       "(14963, 167)"
      ]
     },
     "execution_count": 11,
     "metadata": {},
     "output_type": "execute_result"
    },
    {
     "data": {
      "application/javascript": [
       "\n",
       "            setTimeout(function() {\n",
       "                var nbb_cell_id = 11;\n",
       "                var nbb_unformatted_code = \"df_new1.shape\";\n",
       "                var nbb_formatted_code = \"df_new1.shape\";\n",
       "                var nbb_cells = Jupyter.notebook.get_cells();\n",
       "                for (var i = 0; i < nbb_cells.length; ++i) {\n",
       "                    if (nbb_cells[i].input_prompt_number == nbb_cell_id) {\n",
       "                        if (nbb_cells[i].get_text() == nbb_unformatted_code) {\n",
       "                             nbb_cells[i].set_text(nbb_formatted_code);\n",
       "                        }\n",
       "                        break;\n",
       "                    }\n",
       "                }\n",
       "            }, 500);\n",
       "            "
      ],
      "text/plain": [
       "<IPython.core.display.Javascript object>"
      ]
     },
     "metadata": {},
     "output_type": "display_data"
    }
   ],
   "source": [
    "df_new1.shape"
   ]
  },
  {
   "cell_type": "code",
   "execution_count": 12,
   "id": "9f787d07",
   "metadata": {
    "ExecuteTime": {
     "end_time": "2022-01-30T12:48:35.778961Z",
     "start_time": "2022-01-30T12:48:35.750040Z"
    }
   },
   "outputs": [
    {
     "data": {
      "text/html": [
       "<div>\n",
       "<style scoped>\n",
       "    .dataframe tbody tr th:only-of-type {\n",
       "        vertical-align: middle;\n",
       "    }\n",
       "\n",
       "    .dataframe tbody tr th {\n",
       "        vertical-align: top;\n",
       "    }\n",
       "\n",
       "    .dataframe thead th {\n",
       "        text-align: right;\n",
       "    }\n",
       "</style>\n",
       "<table border=\"1\" class=\"dataframe\">\n",
       "  <thead>\n",
       "    <tr style=\"text-align: right;\">\n",
       "      <th></th>\n",
       "      <th>Instant food products</th>\n",
       "      <th>UHT-milk</th>\n",
       "      <th>abrasive cleaner</th>\n",
       "      <th>artif. sweetener</th>\n",
       "      <th>baby cosmetics</th>\n",
       "      <th>bags</th>\n",
       "      <th>baking powder</th>\n",
       "      <th>bathroom cleaner</th>\n",
       "      <th>beef</th>\n",
       "      <th>berries</th>\n",
       "      <th>...</th>\n",
       "      <th>turkey</th>\n",
       "      <th>vinegar</th>\n",
       "      <th>waffles</th>\n",
       "      <th>whipped/sour cream</th>\n",
       "      <th>whisky</th>\n",
       "      <th>white bread</th>\n",
       "      <th>white wine</th>\n",
       "      <th>whole milk</th>\n",
       "      <th>yogurt</th>\n",
       "      <th>zwieback</th>\n",
       "    </tr>\n",
       "  </thead>\n",
       "  <tbody>\n",
       "    <tr>\n",
       "      <th>0</th>\n",
       "      <td>False</td>\n",
       "      <td>False</td>\n",
       "      <td>False</td>\n",
       "      <td>False</td>\n",
       "      <td>False</td>\n",
       "      <td>False</td>\n",
       "      <td>False</td>\n",
       "      <td>False</td>\n",
       "      <td>False</td>\n",
       "      <td>False</td>\n",
       "      <td>...</td>\n",
       "      <td>False</td>\n",
       "      <td>False</td>\n",
       "      <td>False</td>\n",
       "      <td>False</td>\n",
       "      <td>False</td>\n",
       "      <td>False</td>\n",
       "      <td>False</td>\n",
       "      <td>True</td>\n",
       "      <td>True</td>\n",
       "      <td>False</td>\n",
       "    </tr>\n",
       "    <tr>\n",
       "      <th>1</th>\n",
       "      <td>False</td>\n",
       "      <td>False</td>\n",
       "      <td>False</td>\n",
       "      <td>False</td>\n",
       "      <td>False</td>\n",
       "      <td>False</td>\n",
       "      <td>False</td>\n",
       "      <td>False</td>\n",
       "      <td>False</td>\n",
       "      <td>False</td>\n",
       "      <td>...</td>\n",
       "      <td>False</td>\n",
       "      <td>False</td>\n",
       "      <td>False</td>\n",
       "      <td>False</td>\n",
       "      <td>False</td>\n",
       "      <td>False</td>\n",
       "      <td>False</td>\n",
       "      <td>True</td>\n",
       "      <td>False</td>\n",
       "      <td>False</td>\n",
       "    </tr>\n",
       "    <tr>\n",
       "      <th>2</th>\n",
       "      <td>False</td>\n",
       "      <td>False</td>\n",
       "      <td>False</td>\n",
       "      <td>False</td>\n",
       "      <td>False</td>\n",
       "      <td>False</td>\n",
       "      <td>False</td>\n",
       "      <td>False</td>\n",
       "      <td>False</td>\n",
       "      <td>False</td>\n",
       "      <td>...</td>\n",
       "      <td>False</td>\n",
       "      <td>False</td>\n",
       "      <td>False</td>\n",
       "      <td>False</td>\n",
       "      <td>False</td>\n",
       "      <td>False</td>\n",
       "      <td>False</td>\n",
       "      <td>False</td>\n",
       "      <td>False</td>\n",
       "      <td>False</td>\n",
       "    </tr>\n",
       "    <tr>\n",
       "      <th>3</th>\n",
       "      <td>False</td>\n",
       "      <td>False</td>\n",
       "      <td>False</td>\n",
       "      <td>False</td>\n",
       "      <td>False</td>\n",
       "      <td>False</td>\n",
       "      <td>False</td>\n",
       "      <td>False</td>\n",
       "      <td>False</td>\n",
       "      <td>False</td>\n",
       "      <td>...</td>\n",
       "      <td>False</td>\n",
       "      <td>False</td>\n",
       "      <td>False</td>\n",
       "      <td>False</td>\n",
       "      <td>False</td>\n",
       "      <td>False</td>\n",
       "      <td>False</td>\n",
       "      <td>False</td>\n",
       "      <td>False</td>\n",
       "      <td>False</td>\n",
       "    </tr>\n",
       "    <tr>\n",
       "      <th>4</th>\n",
       "      <td>False</td>\n",
       "      <td>False</td>\n",
       "      <td>False</td>\n",
       "      <td>False</td>\n",
       "      <td>False</td>\n",
       "      <td>False</td>\n",
       "      <td>False</td>\n",
       "      <td>False</td>\n",
       "      <td>False</td>\n",
       "      <td>False</td>\n",
       "      <td>...</td>\n",
       "      <td>False</td>\n",
       "      <td>False</td>\n",
       "      <td>False</td>\n",
       "      <td>False</td>\n",
       "      <td>False</td>\n",
       "      <td>False</td>\n",
       "      <td>False</td>\n",
       "      <td>False</td>\n",
       "      <td>False</td>\n",
       "      <td>False</td>\n",
       "    </tr>\n",
       "  </tbody>\n",
       "</table>\n",
       "<p>5 rows × 167 columns</p>\n",
       "</div>"
      ],
      "text/plain": [
       "   Instant food products  UHT-milk  abrasive cleaner  artif. sweetener  \\\n",
       "0                  False     False             False             False   \n",
       "1                  False     False             False             False   \n",
       "2                  False     False             False             False   \n",
       "3                  False     False             False             False   \n",
       "4                  False     False             False             False   \n",
       "\n",
       "   baby cosmetics   bags  baking powder  bathroom cleaner   beef  berries  \\\n",
       "0           False  False          False             False  False    False   \n",
       "1           False  False          False             False  False    False   \n",
       "2           False  False          False             False  False    False   \n",
       "3           False  False          False             False  False    False   \n",
       "4           False  False          False             False  False    False   \n",
       "\n",
       "   ...  turkey  vinegar  waffles  whipped/sour cream  whisky  white bread  \\\n",
       "0  ...   False    False    False               False   False        False   \n",
       "1  ...   False    False    False               False   False        False   \n",
       "2  ...   False    False    False               False   False        False   \n",
       "3  ...   False    False    False               False   False        False   \n",
       "4  ...   False    False    False               False   False        False   \n",
       "\n",
       "   white wine  whole milk  yogurt  zwieback  \n",
       "0       False        True    True     False  \n",
       "1       False        True   False     False  \n",
       "2       False       False   False     False  \n",
       "3       False       False   False     False  \n",
       "4       False       False   False     False  \n",
       "\n",
       "[5 rows x 167 columns]"
      ]
     },
     "execution_count": 12,
     "metadata": {},
     "output_type": "execute_result"
    },
    {
     "data": {
      "application/javascript": [
       "\n",
       "            setTimeout(function() {\n",
       "                var nbb_cell_id = 12;\n",
       "                var nbb_unformatted_code = \"df_new1.head()\";\n",
       "                var nbb_formatted_code = \"df_new1.head()\";\n",
       "                var nbb_cells = Jupyter.notebook.get_cells();\n",
       "                for (var i = 0; i < nbb_cells.length; ++i) {\n",
       "                    if (nbb_cells[i].input_prompt_number == nbb_cell_id) {\n",
       "                        if (nbb_cells[i].get_text() == nbb_unformatted_code) {\n",
       "                             nbb_cells[i].set_text(nbb_formatted_code);\n",
       "                        }\n",
       "                        break;\n",
       "                    }\n",
       "                }\n",
       "            }, 500);\n",
       "            "
      ],
      "text/plain": [
       "<IPython.core.display.Javascript object>"
      ]
     },
     "metadata": {},
     "output_type": "display_data"
    }
   ],
   "source": [
    "df_new1.head()"
   ]
  },
  {
   "cell_type": "code",
   "execution_count": 13,
   "id": "bfd7d598",
   "metadata": {
    "ExecuteTime": {
     "end_time": "2022-01-30T12:48:35.840835Z",
     "start_time": "2022-01-30T12:48:35.780955Z"
    }
   },
   "outputs": [
    {
     "data": {
      "application/javascript": [
       "\n",
       "            setTimeout(function() {\n",
       "                var nbb_cell_id = 13;\n",
       "                var nbb_unformatted_code = \"# c\\u00e1ch 2\\ndata_new2 = []\\nfor rows in data:\\n    temp_list = []\\n    for i in rows:\\n        if i is not np.nan:\\n            temp_list.append(i)\\n    data_new2.append(temp_list)\";\n",
       "                var nbb_formatted_code = \"# c\\u00e1ch 2\\ndata_new2 = []\\nfor rows in data:\\n    temp_list = []\\n    for i in rows:\\n        if i is not np.nan:\\n            temp_list.append(i)\\n    data_new2.append(temp_list)\";\n",
       "                var nbb_cells = Jupyter.notebook.get_cells();\n",
       "                for (var i = 0; i < nbb_cells.length; ++i) {\n",
       "                    if (nbb_cells[i].input_prompt_number == nbb_cell_id) {\n",
       "                        if (nbb_cells[i].get_text() == nbb_unformatted_code) {\n",
       "                             nbb_cells[i].set_text(nbb_formatted_code);\n",
       "                        }\n",
       "                        break;\n",
       "                    }\n",
       "                }\n",
       "            }, 500);\n",
       "            "
      ],
      "text/plain": [
       "<IPython.core.display.Javascript object>"
      ]
     },
     "metadata": {},
     "output_type": "display_data"
    }
   ],
   "source": [
    "# cách 2\n",
    "data_new2 = []\n",
    "for rows in data:\n",
    "    temp_list = []\n",
    "    for i in rows:\n",
    "        if i is not np.nan:\n",
    "            temp_list.append(i)\n",
    "    data_new2.append(temp_list)"
   ]
  },
  {
   "cell_type": "code",
   "execution_count": 14,
   "id": "6ad546f8",
   "metadata": {
    "ExecuteTime": {
     "end_time": "2022-01-30T12:48:35.856754Z",
     "start_time": "2022-01-30T12:48:35.842791Z"
    }
   },
   "outputs": [
    {
     "name": "stdout",
     "output_type": "stream",
     "text": [
      "14963\n"
     ]
    },
    {
     "data": {
      "text/plain": [
       "[['sausage', 'whole milk', 'semi-finished bread', 'yogurt'],\n",
       " ['whole milk', 'pastry', 'salty snack'],\n",
       " ['canned beer', 'misc. beverages'],\n",
       " ['sausage', 'hygiene articles'],\n",
       " ['soda', 'pickled vegetables']]"
      ]
     },
     "execution_count": 14,
     "metadata": {},
     "output_type": "execute_result"
    },
    {
     "data": {
      "application/javascript": [
       "\n",
       "            setTimeout(function() {\n",
       "                var nbb_cell_id = 14;\n",
       "                var nbb_unformatted_code = \"print(len(data_new2))\\ndata_new2[:5]\";\n",
       "                var nbb_formatted_code = \"print(len(data_new2))\\ndata_new2[:5]\";\n",
       "                var nbb_cells = Jupyter.notebook.get_cells();\n",
       "                for (var i = 0; i < nbb_cells.length; ++i) {\n",
       "                    if (nbb_cells[i].input_prompt_number == nbb_cell_id) {\n",
       "                        if (nbb_cells[i].get_text() == nbb_unformatted_code) {\n",
       "                             nbb_cells[i].set_text(nbb_formatted_code);\n",
       "                        }\n",
       "                        break;\n",
       "                    }\n",
       "                }\n",
       "            }, 500);\n",
       "            "
      ],
      "text/plain": [
       "<IPython.core.display.Javascript object>"
      ]
     },
     "metadata": {},
     "output_type": "display_data"
    }
   ],
   "source": [
    "print(len(data_new2))\n",
    "data_new2[:5]"
   ]
  },
  {
   "cell_type": "code",
   "execution_count": 15,
   "id": "2c15bc8e",
   "metadata": {
    "ExecuteTime": {
     "end_time": "2022-01-30T12:48:35.902629Z",
     "start_time": "2022-01-30T12:48:35.857752Z"
    }
   },
   "outputs": [
    {
     "data": {
      "text/html": [
       "<div>\n",
       "<style scoped>\n",
       "    .dataframe tbody tr th:only-of-type {\n",
       "        vertical-align: middle;\n",
       "    }\n",
       "\n",
       "    .dataframe tbody tr th {\n",
       "        vertical-align: top;\n",
       "    }\n",
       "\n",
       "    .dataframe thead th {\n",
       "        text-align: right;\n",
       "    }\n",
       "</style>\n",
       "<table border=\"1\" class=\"dataframe\">\n",
       "  <thead>\n",
       "    <tr style=\"text-align: right;\">\n",
       "      <th></th>\n",
       "      <th>Instant food products</th>\n",
       "      <th>UHT-milk</th>\n",
       "      <th>abrasive cleaner</th>\n",
       "      <th>artif. sweetener</th>\n",
       "      <th>baby cosmetics</th>\n",
       "      <th>bags</th>\n",
       "      <th>baking powder</th>\n",
       "      <th>bathroom cleaner</th>\n",
       "      <th>beef</th>\n",
       "      <th>berries</th>\n",
       "      <th>...</th>\n",
       "      <th>turkey</th>\n",
       "      <th>vinegar</th>\n",
       "      <th>waffles</th>\n",
       "      <th>whipped/sour cream</th>\n",
       "      <th>whisky</th>\n",
       "      <th>white bread</th>\n",
       "      <th>white wine</th>\n",
       "      <th>whole milk</th>\n",
       "      <th>yogurt</th>\n",
       "      <th>zwieback</th>\n",
       "    </tr>\n",
       "  </thead>\n",
       "  <tbody>\n",
       "    <tr>\n",
       "      <th>0</th>\n",
       "      <td>False</td>\n",
       "      <td>False</td>\n",
       "      <td>False</td>\n",
       "      <td>False</td>\n",
       "      <td>False</td>\n",
       "      <td>False</td>\n",
       "      <td>False</td>\n",
       "      <td>False</td>\n",
       "      <td>False</td>\n",
       "      <td>False</td>\n",
       "      <td>...</td>\n",
       "      <td>False</td>\n",
       "      <td>False</td>\n",
       "      <td>False</td>\n",
       "      <td>False</td>\n",
       "      <td>False</td>\n",
       "      <td>False</td>\n",
       "      <td>False</td>\n",
       "      <td>True</td>\n",
       "      <td>True</td>\n",
       "      <td>False</td>\n",
       "    </tr>\n",
       "    <tr>\n",
       "      <th>1</th>\n",
       "      <td>False</td>\n",
       "      <td>False</td>\n",
       "      <td>False</td>\n",
       "      <td>False</td>\n",
       "      <td>False</td>\n",
       "      <td>False</td>\n",
       "      <td>False</td>\n",
       "      <td>False</td>\n",
       "      <td>False</td>\n",
       "      <td>False</td>\n",
       "      <td>...</td>\n",
       "      <td>False</td>\n",
       "      <td>False</td>\n",
       "      <td>False</td>\n",
       "      <td>False</td>\n",
       "      <td>False</td>\n",
       "      <td>False</td>\n",
       "      <td>False</td>\n",
       "      <td>True</td>\n",
       "      <td>False</td>\n",
       "      <td>False</td>\n",
       "    </tr>\n",
       "    <tr>\n",
       "      <th>2</th>\n",
       "      <td>False</td>\n",
       "      <td>False</td>\n",
       "      <td>False</td>\n",
       "      <td>False</td>\n",
       "      <td>False</td>\n",
       "      <td>False</td>\n",
       "      <td>False</td>\n",
       "      <td>False</td>\n",
       "      <td>False</td>\n",
       "      <td>False</td>\n",
       "      <td>...</td>\n",
       "      <td>False</td>\n",
       "      <td>False</td>\n",
       "      <td>False</td>\n",
       "      <td>False</td>\n",
       "      <td>False</td>\n",
       "      <td>False</td>\n",
       "      <td>False</td>\n",
       "      <td>False</td>\n",
       "      <td>False</td>\n",
       "      <td>False</td>\n",
       "    </tr>\n",
       "    <tr>\n",
       "      <th>3</th>\n",
       "      <td>False</td>\n",
       "      <td>False</td>\n",
       "      <td>False</td>\n",
       "      <td>False</td>\n",
       "      <td>False</td>\n",
       "      <td>False</td>\n",
       "      <td>False</td>\n",
       "      <td>False</td>\n",
       "      <td>False</td>\n",
       "      <td>False</td>\n",
       "      <td>...</td>\n",
       "      <td>False</td>\n",
       "      <td>False</td>\n",
       "      <td>False</td>\n",
       "      <td>False</td>\n",
       "      <td>False</td>\n",
       "      <td>False</td>\n",
       "      <td>False</td>\n",
       "      <td>False</td>\n",
       "      <td>False</td>\n",
       "      <td>False</td>\n",
       "    </tr>\n",
       "    <tr>\n",
       "      <th>4</th>\n",
       "      <td>False</td>\n",
       "      <td>False</td>\n",
       "      <td>False</td>\n",
       "      <td>False</td>\n",
       "      <td>False</td>\n",
       "      <td>False</td>\n",
       "      <td>False</td>\n",
       "      <td>False</td>\n",
       "      <td>False</td>\n",
       "      <td>False</td>\n",
       "      <td>...</td>\n",
       "      <td>False</td>\n",
       "      <td>False</td>\n",
       "      <td>False</td>\n",
       "      <td>False</td>\n",
       "      <td>False</td>\n",
       "      <td>False</td>\n",
       "      <td>False</td>\n",
       "      <td>False</td>\n",
       "      <td>False</td>\n",
       "      <td>False</td>\n",
       "    </tr>\n",
       "  </tbody>\n",
       "</table>\n",
       "<p>5 rows × 167 columns</p>\n",
       "</div>"
      ],
      "text/plain": [
       "   Instant food products  UHT-milk  abrasive cleaner  artif. sweetener  \\\n",
       "0                  False     False             False             False   \n",
       "1                  False     False             False             False   \n",
       "2                  False     False             False             False   \n",
       "3                  False     False             False             False   \n",
       "4                  False     False             False             False   \n",
       "\n",
       "   baby cosmetics   bags  baking powder  bathroom cleaner   beef  berries  \\\n",
       "0           False  False          False             False  False    False   \n",
       "1           False  False          False             False  False    False   \n",
       "2           False  False          False             False  False    False   \n",
       "3           False  False          False             False  False    False   \n",
       "4           False  False          False             False  False    False   \n",
       "\n",
       "   ...  turkey  vinegar  waffles  whipped/sour cream  whisky  white bread  \\\n",
       "0  ...   False    False    False               False   False        False   \n",
       "1  ...   False    False    False               False   False        False   \n",
       "2  ...   False    False    False               False   False        False   \n",
       "3  ...   False    False    False               False   False        False   \n",
       "4  ...   False    False    False               False   False        False   \n",
       "\n",
       "   white wine  whole milk  yogurt  zwieback  \n",
       "0       False        True    True     False  \n",
       "1       False        True   False     False  \n",
       "2       False       False   False     False  \n",
       "3       False       False   False     False  \n",
       "4       False       False   False     False  \n",
       "\n",
       "[5 rows x 167 columns]"
      ]
     },
     "execution_count": 15,
     "metadata": {},
     "output_type": "execute_result"
    },
    {
     "data": {
      "application/javascript": [
       "\n",
       "            setTimeout(function() {\n",
       "                var nbb_cell_id = 15;\n",
       "                var nbb_unformatted_code = \"# bi\\u1ebfn \\u0111\\u1ed5i d\\u1eef li\\u1ec7u\\nt_encode = TransactionEncoder()\\nt_array = t_encode.fit_transform(data_new2)\\ndf_new2 = pd.DataFrame(t_array, columns=t_encode.columns_)\\ndf_new2.head()\";\n",
       "                var nbb_formatted_code = \"# bi\\u1ebfn \\u0111\\u1ed5i d\\u1eef li\\u1ec7u\\nt_encode = TransactionEncoder()\\nt_array = t_encode.fit_transform(data_new2)\\ndf_new2 = pd.DataFrame(t_array, columns=t_encode.columns_)\\ndf_new2.head()\";\n",
       "                var nbb_cells = Jupyter.notebook.get_cells();\n",
       "                for (var i = 0; i < nbb_cells.length; ++i) {\n",
       "                    if (nbb_cells[i].input_prompt_number == nbb_cell_id) {\n",
       "                        if (nbb_cells[i].get_text() == nbb_unformatted_code) {\n",
       "                             nbb_cells[i].set_text(nbb_formatted_code);\n",
       "                        }\n",
       "                        break;\n",
       "                    }\n",
       "                }\n",
       "            }, 500);\n",
       "            "
      ],
      "text/plain": [
       "<IPython.core.display.Javascript object>"
      ]
     },
     "metadata": {},
     "output_type": "display_data"
    }
   ],
   "source": [
    "# biến đổi dữ liệu\n",
    "t_encode = TransactionEncoder()\n",
    "t_array = t_encode.fit_transform(data_new2)\n",
    "df_new2 = pd.DataFrame(t_array, columns=t_encode.columns_)\n",
    "df_new2.head()"
   ]
  },
  {
   "cell_type": "code",
   "execution_count": 16,
   "id": "b8c003a3",
   "metadata": {
    "ExecuteTime": {
     "end_time": "2022-01-30T12:48:35.918628Z",
     "start_time": "2022-01-30T12:48:35.903629Z"
    }
   },
   "outputs": [
    {
     "data": {
      "text/plain": [
       "(14963, 167)"
      ]
     },
     "execution_count": 16,
     "metadata": {},
     "output_type": "execute_result"
    },
    {
     "data": {
      "application/javascript": [
       "\n",
       "            setTimeout(function() {\n",
       "                var nbb_cell_id = 16;\n",
       "                var nbb_unformatted_code = \"df_new2.shape\";\n",
       "                var nbb_formatted_code = \"df_new2.shape\";\n",
       "                var nbb_cells = Jupyter.notebook.get_cells();\n",
       "                for (var i = 0; i < nbb_cells.length; ++i) {\n",
       "                    if (nbb_cells[i].input_prompt_number == nbb_cell_id) {\n",
       "                        if (nbb_cells[i].get_text() == nbb_unformatted_code) {\n",
       "                             nbb_cells[i].set_text(nbb_formatted_code);\n",
       "                        }\n",
       "                        break;\n",
       "                    }\n",
       "                }\n",
       "            }, 500);\n",
       "            "
      ],
      "text/plain": [
       "<IPython.core.display.Javascript object>"
      ]
     },
     "metadata": {},
     "output_type": "display_data"
    }
   ],
   "source": [
    "df_new2.shape"
   ]
  },
  {
   "cell_type": "code",
   "execution_count": 17,
   "id": "5eb2a37a",
   "metadata": {
    "ExecuteTime": {
     "end_time": "2022-01-30T12:48:35.948540Z",
     "start_time": "2022-01-30T12:48:35.920619Z"
    }
   },
   "outputs": [
    {
     "name": "stdout",
     "output_type": "stream",
     "text": [
      "<class 'pandas.core.frame.DataFrame'>\n",
      "RangeIndex: 14963 entries, 0 to 14962\n",
      "Columns: 167 entries, Instant food products to zwieback\n",
      "dtypes: bool(167)\n",
      "memory usage: 2.4 MB\n"
     ]
    },
    {
     "data": {
      "application/javascript": [
       "\n",
       "            setTimeout(function() {\n",
       "                var nbb_cell_id = 17;\n",
       "                var nbb_unformatted_code = \"df_new2.info()\";\n",
       "                var nbb_formatted_code = \"df_new2.info()\";\n",
       "                var nbb_cells = Jupyter.notebook.get_cells();\n",
       "                for (var i = 0; i < nbb_cells.length; ++i) {\n",
       "                    if (nbb_cells[i].input_prompt_number == nbb_cell_id) {\n",
       "                        if (nbb_cells[i].get_text() == nbb_unformatted_code) {\n",
       "                             nbb_cells[i].set_text(nbb_formatted_code);\n",
       "                        }\n",
       "                        break;\n",
       "                    }\n",
       "                }\n",
       "            }, 500);\n",
       "            "
      ],
      "text/plain": [
       "<IPython.core.display.Javascript object>"
      ]
     },
     "metadata": {},
     "output_type": "display_data"
    }
   ],
   "source": [
    "df_new2.info()"
   ]
  },
  {
   "cell_type": "markdown",
   "id": "4974a480",
   "metadata": {},
   "source": [
    "### Áp dụng thuật toán (tự lựa chọn các tham số phù hợp cho thuật toán \n",
    "- lưu ý với số lượng transaction càng nhiều thì các ngưỡng nên đặt càng nhỏ). In kết quả. Vẽ biểu đồ. "
   ]
  },
  {
   "cell_type": "markdown",
   "id": "7e562a5a",
   "metadata": {},
   "source": [
    "### Xây Association Model có thể dùng apriori và eclat. "
   ]
  },
  {
   "cell_type": "markdown",
   "id": "9b925f0c",
   "metadata": {},
   "source": [
    "## A. Sử dụng apropri\n",
    "- Vì dataset lớn (14963, 167) nên min_support phải là 1 con số nhỏ để có thể bao quát dc dữ liệu"
   ]
  },
  {
   "cell_type": "code",
   "execution_count": 18,
   "id": "c12977da",
   "metadata": {
    "ExecuteTime": {
     "end_time": "2022-01-30T12:48:37.769822Z",
     "start_time": "2022-01-30T12:48:35.950514Z"
    }
   },
   "outputs": [
    {
     "name": "stdout",
     "output_type": "stream",
     "text": [
      "      support                           itemsets\n",
      "0    0.004010            (Instant food products)\n",
      "1    0.021386                         (UHT-milk)\n",
      "2    0.001470                 (abrasive cleaner)\n",
      "3    0.001938                 (artif. sweetener)\n",
      "4    0.008087                    (baking powder)\n",
      "..        ...                                ...\n",
      "745  0.001136  (whole milk, rolls/buns, sausage)\n",
      "746  0.001002     (soda, whole milk, rolls/buns)\n",
      "747  0.001337   (yogurt, whole milk, rolls/buns)\n",
      "748  0.001069        (soda, whole milk, sausage)\n",
      "749  0.001470      (yogurt, whole milk, sausage)\n",
      "\n",
      "[750 rows x 2 columns]\n"
     ]
    },
    {
     "data": {
      "application/javascript": [
       "\n",
       "            setTimeout(function() {\n",
       "                var nbb_cell_id = 18;\n",
       "                var nbb_unformatted_code = \"frequent_itemsets1 = apriori(\\n    df_new1, min_support=0.001, use_colnames=True, max_len=None\\n)\\nprint(frequent_itemsets1)\";\n",
       "                var nbb_formatted_code = \"frequent_itemsets1 = apriori(\\n    df_new1, min_support=0.001, use_colnames=True, max_len=None\\n)\\nprint(frequent_itemsets1)\";\n",
       "                var nbb_cells = Jupyter.notebook.get_cells();\n",
       "                for (var i = 0; i < nbb_cells.length; ++i) {\n",
       "                    if (nbb_cells[i].input_prompt_number == nbb_cell_id) {\n",
       "                        if (nbb_cells[i].get_text() == nbb_unformatted_code) {\n",
       "                             nbb_cells[i].set_text(nbb_formatted_code);\n",
       "                        }\n",
       "                        break;\n",
       "                    }\n",
       "                }\n",
       "            }, 500);\n",
       "            "
      ],
      "text/plain": [
       "<IPython.core.display.Javascript object>"
      ]
     },
     "metadata": {},
     "output_type": "display_data"
    }
   ],
   "source": [
    "frequent_itemsets1 = apriori(\n",
    "    df_new1, min_support=0.001, use_colnames=True, max_len=None\n",
    ")\n",
    "print(frequent_itemsets1)"
   ]
  },
  {
   "cell_type": "markdown",
   "id": "853bdee9",
   "metadata": {},
   "source": [
    "## <p style=\"color:blue\">Nhận xét</p>"
   ]
  },
  {
   "cell_type": "code",
   "execution_count": 19,
   "id": "164d81c2",
   "metadata": {
    "ExecuteTime": {
     "end_time": "2022-01-30T12:48:37.785773Z",
     "start_time": "2022-01-30T12:48:37.771810Z"
    }
   },
   "outputs": [
    {
     "data": {
      "text/plain": [
       "'\\nTừ kết quả trên, ta thấy dc tập các mặt hàng dc xuất hiện nhiều lần:\\nvd: abrasive cleaner, artif. sweetener, baking powder, sausage, whole milk, rolls/buns ...\\n'"
      ]
     },
     "execution_count": 19,
     "metadata": {},
     "output_type": "execute_result"
    },
    {
     "data": {
      "application/javascript": [
       "\n",
       "            setTimeout(function() {\n",
       "                var nbb_cell_id = 19;\n",
       "                var nbb_unformatted_code = \"\\\"\\\"\\\"\\nT\\u1eeb k\\u1ebft qu\\u1ea3 tr\\u00ean, ta th\\u1ea5y dc t\\u1eadp c\\u00e1c m\\u1eb7t h\\u00e0ng dc xu\\u1ea5t hi\\u1ec7n nhi\\u1ec1u l\\u1ea7n:\\nvd: abrasive cleaner, artif. sweetener, baking powder, sausage, whole milk, rolls/buns ...\\n\\\"\\\"\\\"\";\n",
       "                var nbb_formatted_code = \"\\\"\\\"\\\"\\nT\\u1eeb k\\u1ebft qu\\u1ea3 tr\\u00ean, ta th\\u1ea5y dc t\\u1eadp c\\u00e1c m\\u1eb7t h\\u00e0ng dc xu\\u1ea5t hi\\u1ec7n nhi\\u1ec1u l\\u1ea7n:\\nvd: abrasive cleaner, artif. sweetener, baking powder, sausage, whole milk, rolls/buns ...\\n\\\"\\\"\\\"\";\n",
       "                var nbb_cells = Jupyter.notebook.get_cells();\n",
       "                for (var i = 0; i < nbb_cells.length; ++i) {\n",
       "                    if (nbb_cells[i].input_prompt_number == nbb_cell_id) {\n",
       "                        if (nbb_cells[i].get_text() == nbb_unformatted_code) {\n",
       "                             nbb_cells[i].set_text(nbb_formatted_code);\n",
       "                        }\n",
       "                        break;\n",
       "                    }\n",
       "                }\n",
       "            }, 500);\n",
       "            "
      ],
      "text/plain": [
       "<IPython.core.display.Javascript object>"
      ]
     },
     "metadata": {},
     "output_type": "display_data"
    }
   ],
   "source": [
    "\"\"\"\n",
    "Từ kết quả trên, ta thấy dc tập các mặt hàng dc xuất hiện nhiều lần:\n",
    "vd: abrasive cleaner, artif. sweetener, baking powder, sausage, whole milk, rolls/buns ...\n",
    "\"\"\""
   ]
  },
  {
   "cell_type": "code",
   "execution_count": 20,
   "id": "1828d73f",
   "metadata": {
    "ExecuteTime": {
     "end_time": "2022-01-30T12:48:37.800735Z",
     "start_time": "2022-01-30T12:48:37.786770Z"
    }
   },
   "outputs": [
    {
     "data": {
      "application/javascript": [
       "\n",
       "            setTimeout(function() {\n",
       "                var nbb_cell_id = 20;\n",
       "                var nbb_unformatted_code = \"from mlxtend.frequent_patterns import association_rules\";\n",
       "                var nbb_formatted_code = \"from mlxtend.frequent_patterns import association_rules\";\n",
       "                var nbb_cells = Jupyter.notebook.get_cells();\n",
       "                for (var i = 0; i < nbb_cells.length; ++i) {\n",
       "                    if (nbb_cells[i].input_prompt_number == nbb_cell_id) {\n",
       "                        if (nbb_cells[i].get_text() == nbb_unformatted_code) {\n",
       "                             nbb_cells[i].set_text(nbb_formatted_code);\n",
       "                        }\n",
       "                        break;\n",
       "                    }\n",
       "                }\n",
       "            }, 500);\n",
       "            "
      ],
      "text/plain": [
       "<IPython.core.display.Javascript object>"
      ]
     },
     "metadata": {},
     "output_type": "display_data"
    }
   ],
   "source": [
    "from mlxtend.frequent_patterns import association_rules\n"
   ]
  },
  {
   "cell_type": "code",
   "execution_count": 21,
   "id": "f55bf2db",
   "metadata": {
    "ExecuteTime": {
     "end_time": "2022-01-30T12:48:37.847633Z",
     "start_time": "2022-01-30T12:48:37.802726Z"
    }
   },
   "outputs": [
    {
     "data": {
      "text/html": [
       "<div>\n",
       "<style scoped>\n",
       "    .dataframe tbody tr th:only-of-type {\n",
       "        vertical-align: middle;\n",
       "    }\n",
       "\n",
       "    .dataframe tbody tr th {\n",
       "        vertical-align: top;\n",
       "    }\n",
       "\n",
       "    .dataframe thead th {\n",
       "        text-align: right;\n",
       "    }\n",
       "</style>\n",
       "<table border=\"1\" class=\"dataframe\">\n",
       "  <thead>\n",
       "    <tr style=\"text-align: right;\">\n",
       "      <th></th>\n",
       "      <th>antecedents</th>\n",
       "      <th>consequents</th>\n",
       "      <th>antecedent support</th>\n",
       "      <th>consequent support</th>\n",
       "      <th>support</th>\n",
       "      <th>confidence</th>\n",
       "      <th>lift</th>\n",
       "      <th>leverage</th>\n",
       "      <th>conviction</th>\n",
       "    </tr>\n",
       "  </thead>\n",
       "  <tbody>\n",
       "    <tr>\n",
       "      <th>0</th>\n",
       "      <td>(bottled water)</td>\n",
       "      <td>(UHT-milk)</td>\n",
       "      <td>0.060683</td>\n",
       "      <td>0.021386</td>\n",
       "      <td>0.001069</td>\n",
       "      <td>0.017621</td>\n",
       "      <td>0.823954</td>\n",
       "      <td>-0.000228</td>\n",
       "      <td>0.996168</td>\n",
       "    </tr>\n",
       "    <tr>\n",
       "      <th>1</th>\n",
       "      <td>(UHT-milk)</td>\n",
       "      <td>(bottled water)</td>\n",
       "      <td>0.021386</td>\n",
       "      <td>0.060683</td>\n",
       "      <td>0.001069</td>\n",
       "      <td>0.050000</td>\n",
       "      <td>0.823954</td>\n",
       "      <td>-0.000228</td>\n",
       "      <td>0.988755</td>\n",
       "    </tr>\n",
       "    <tr>\n",
       "      <th>2</th>\n",
       "      <td>(other vegetables)</td>\n",
       "      <td>(UHT-milk)</td>\n",
       "      <td>0.122101</td>\n",
       "      <td>0.021386</td>\n",
       "      <td>0.002139</td>\n",
       "      <td>0.017515</td>\n",
       "      <td>0.818993</td>\n",
       "      <td>-0.000473</td>\n",
       "      <td>0.996060</td>\n",
       "    </tr>\n",
       "    <tr>\n",
       "      <th>3</th>\n",
       "      <td>(UHT-milk)</td>\n",
       "      <td>(other vegetables)</td>\n",
       "      <td>0.021386</td>\n",
       "      <td>0.122101</td>\n",
       "      <td>0.002139</td>\n",
       "      <td>0.100000</td>\n",
       "      <td>0.818993</td>\n",
       "      <td>-0.000473</td>\n",
       "      <td>0.975443</td>\n",
       "    </tr>\n",
       "    <tr>\n",
       "      <th>4</th>\n",
       "      <td>(rolls/buns)</td>\n",
       "      <td>(UHT-milk)</td>\n",
       "      <td>0.110005</td>\n",
       "      <td>0.021386</td>\n",
       "      <td>0.001804</td>\n",
       "      <td>0.016403</td>\n",
       "      <td>0.767013</td>\n",
       "      <td>-0.000548</td>\n",
       "      <td>0.994934</td>\n",
       "    </tr>\n",
       "    <tr>\n",
       "      <th>...</th>\n",
       "      <td>...</td>\n",
       "      <td>...</td>\n",
       "      <td>...</td>\n",
       "      <td>...</td>\n",
       "      <td>...</td>\n",
       "      <td>...</td>\n",
       "      <td>...</td>\n",
       "      <td>...</td>\n",
       "      <td>...</td>\n",
       "    </tr>\n",
       "    <tr>\n",
       "      <th>1233</th>\n",
       "      <td>(yogurt, sausage)</td>\n",
       "      <td>(whole milk)</td>\n",
       "      <td>0.005748</td>\n",
       "      <td>0.157923</td>\n",
       "      <td>0.001470</td>\n",
       "      <td>0.255814</td>\n",
       "      <td>1.619866</td>\n",
       "      <td>0.000563</td>\n",
       "      <td>1.131541</td>\n",
       "    </tr>\n",
       "    <tr>\n",
       "      <th>1234</th>\n",
       "      <td>(whole milk, sausage)</td>\n",
       "      <td>(yogurt)</td>\n",
       "      <td>0.008955</td>\n",
       "      <td>0.085879</td>\n",
       "      <td>0.001470</td>\n",
       "      <td>0.164179</td>\n",
       "      <td>1.911760</td>\n",
       "      <td>0.000701</td>\n",
       "      <td>1.093681</td>\n",
       "    </tr>\n",
       "    <tr>\n",
       "      <th>1235</th>\n",
       "      <td>(yogurt)</td>\n",
       "      <td>(whole milk, sausage)</td>\n",
       "      <td>0.085879</td>\n",
       "      <td>0.008955</td>\n",
       "      <td>0.001470</td>\n",
       "      <td>0.017121</td>\n",
       "      <td>1.911760</td>\n",
       "      <td>0.000701</td>\n",
       "      <td>1.008307</td>\n",
       "    </tr>\n",
       "    <tr>\n",
       "      <th>1236</th>\n",
       "      <td>(whole milk)</td>\n",
       "      <td>(yogurt, sausage)</td>\n",
       "      <td>0.157923</td>\n",
       "      <td>0.005748</td>\n",
       "      <td>0.001470</td>\n",
       "      <td>0.009310</td>\n",
       "      <td>1.619866</td>\n",
       "      <td>0.000563</td>\n",
       "      <td>1.003596</td>\n",
       "    </tr>\n",
       "    <tr>\n",
       "      <th>1237</th>\n",
       "      <td>(sausage)</td>\n",
       "      <td>(yogurt, whole milk)</td>\n",
       "      <td>0.060349</td>\n",
       "      <td>0.011161</td>\n",
       "      <td>0.001470</td>\n",
       "      <td>0.024363</td>\n",
       "      <td>2.182917</td>\n",
       "      <td>0.000797</td>\n",
       "      <td>1.013532</td>\n",
       "    </tr>\n",
       "  </tbody>\n",
       "</table>\n",
       "<p>1238 rows × 9 columns</p>\n",
       "</div>"
      ],
      "text/plain": [
       "                antecedents            consequents  antecedent support  \\\n",
       "0           (bottled water)             (UHT-milk)            0.060683   \n",
       "1                (UHT-milk)        (bottled water)            0.021386   \n",
       "2        (other vegetables)             (UHT-milk)            0.122101   \n",
       "3                (UHT-milk)     (other vegetables)            0.021386   \n",
       "4              (rolls/buns)             (UHT-milk)            0.110005   \n",
       "...                     ...                    ...                 ...   \n",
       "1233      (yogurt, sausage)           (whole milk)            0.005748   \n",
       "1234  (whole milk, sausage)               (yogurt)            0.008955   \n",
       "1235               (yogurt)  (whole milk, sausage)            0.085879   \n",
       "1236           (whole milk)      (yogurt, sausage)            0.157923   \n",
       "1237              (sausage)   (yogurt, whole milk)            0.060349   \n",
       "\n",
       "      consequent support   support  confidence      lift  leverage  conviction  \n",
       "0               0.021386  0.001069    0.017621  0.823954 -0.000228    0.996168  \n",
       "1               0.060683  0.001069    0.050000  0.823954 -0.000228    0.988755  \n",
       "2               0.021386  0.002139    0.017515  0.818993 -0.000473    0.996060  \n",
       "3               0.122101  0.002139    0.100000  0.818993 -0.000473    0.975443  \n",
       "4               0.021386  0.001804    0.016403  0.767013 -0.000548    0.994934  \n",
       "...                  ...       ...         ...       ...       ...         ...  \n",
       "1233            0.157923  0.001470    0.255814  1.619866  0.000563    1.131541  \n",
       "1234            0.085879  0.001470    0.164179  1.911760  0.000701    1.093681  \n",
       "1235            0.008955  0.001470    0.017121  1.911760  0.000701    1.008307  \n",
       "1236            0.005748  0.001470    0.009310  1.619866  0.000563    1.003596  \n",
       "1237            0.011161  0.001470    0.024363  2.182917  0.000797    1.013532  \n",
       "\n",
       "[1238 rows x 9 columns]"
      ]
     },
     "execution_count": 21,
     "metadata": {},
     "output_type": "execute_result"
    },
    {
     "data": {
      "application/javascript": [
       "\n",
       "            setTimeout(function() {\n",
       "                var nbb_cell_id = 21;\n",
       "                var nbb_unformatted_code = \"# x\\u00e2y d\\u1ef1ng lu\\u1eadt k\\u1ebft h\\u1ee3p\\nassociation_rules(frequent_itemsets1, metric=\\\"confidence\\\", min_threshold=0.001)\";\n",
       "                var nbb_formatted_code = \"# x\\u00e2y d\\u1ef1ng lu\\u1eadt k\\u1ebft h\\u1ee3p\\nassociation_rules(frequent_itemsets1, metric=\\\"confidence\\\", min_threshold=0.001)\";\n",
       "                var nbb_cells = Jupyter.notebook.get_cells();\n",
       "                for (var i = 0; i < nbb_cells.length; ++i) {\n",
       "                    if (nbb_cells[i].input_prompt_number == nbb_cell_id) {\n",
       "                        if (nbb_cells[i].get_text() == nbb_unformatted_code) {\n",
       "                             nbb_cells[i].set_text(nbb_formatted_code);\n",
       "                        }\n",
       "                        break;\n",
       "                    }\n",
       "                }\n",
       "            }, 500);\n",
       "            "
      ],
      "text/plain": [
       "<IPython.core.display.Javascript object>"
      ]
     },
     "metadata": {},
     "output_type": "display_data"
    }
   ],
   "source": [
    "# xây dựng luật kết hợp\n",
    "association_rules(frequent_itemsets1, metric=\"confidence\", min_threshold=0.001)"
   ]
  },
  {
   "cell_type": "code",
   "execution_count": 22,
   "id": "74367b59",
   "metadata": {
    "ExecuteTime": {
     "end_time": "2022-01-30T12:48:37.894482Z",
     "start_time": "2022-01-30T12:48:37.849602Z"
    }
   },
   "outputs": [
    {
     "data": {
      "text/html": [
       "<div>\n",
       "<style scoped>\n",
       "    .dataframe tbody tr th:only-of-type {\n",
       "        vertical-align: middle;\n",
       "    }\n",
       "\n",
       "    .dataframe tbody tr th {\n",
       "        vertical-align: top;\n",
       "    }\n",
       "\n",
       "    .dataframe thead th {\n",
       "        text-align: right;\n",
       "    }\n",
       "</style>\n",
       "<table border=\"1\" class=\"dataframe\">\n",
       "  <thead>\n",
       "    <tr style=\"text-align: right;\">\n",
       "      <th></th>\n",
       "      <th>antecedents</th>\n",
       "      <th>consequents</th>\n",
       "      <th>antecedent support</th>\n",
       "      <th>consequent support</th>\n",
       "      <th>support</th>\n",
       "      <th>confidence</th>\n",
       "      <th>lift</th>\n",
       "      <th>leverage</th>\n",
       "      <th>conviction</th>\n",
       "    </tr>\n",
       "  </thead>\n",
       "  <tbody>\n",
       "    <tr>\n",
       "      <th>0</th>\n",
       "      <td>(beverages)</td>\n",
       "      <td>(sausage)</td>\n",
       "      <td>0.016574</td>\n",
       "      <td>0.060349</td>\n",
       "      <td>0.001537</td>\n",
       "      <td>0.092742</td>\n",
       "      <td>1.536764</td>\n",
       "      <td>0.000537</td>\n",
       "      <td>1.035704</td>\n",
       "    </tr>\n",
       "    <tr>\n",
       "      <th>1</th>\n",
       "      <td>(sausage)</td>\n",
       "      <td>(beverages)</td>\n",
       "      <td>0.060349</td>\n",
       "      <td>0.016574</td>\n",
       "      <td>0.001537</td>\n",
       "      <td>0.025471</td>\n",
       "      <td>1.536764</td>\n",
       "      <td>0.000537</td>\n",
       "      <td>1.009129</td>\n",
       "    </tr>\n",
       "    <tr>\n",
       "      <th>2</th>\n",
       "      <td>(specialty chocolate)</td>\n",
       "      <td>(citrus fruit)</td>\n",
       "      <td>0.015973</td>\n",
       "      <td>0.053131</td>\n",
       "      <td>0.001403</td>\n",
       "      <td>0.087866</td>\n",
       "      <td>1.653762</td>\n",
       "      <td>0.000555</td>\n",
       "      <td>1.038081</td>\n",
       "    </tr>\n",
       "    <tr>\n",
       "      <th>3</th>\n",
       "      <td>(citrus fruit)</td>\n",
       "      <td>(specialty chocolate)</td>\n",
       "      <td>0.053131</td>\n",
       "      <td>0.015973</td>\n",
       "      <td>0.001403</td>\n",
       "      <td>0.026415</td>\n",
       "      <td>1.653762</td>\n",
       "      <td>0.000555</td>\n",
       "      <td>1.010726</td>\n",
       "    </tr>\n",
       "    <tr>\n",
       "      <th>4</th>\n",
       "      <td>(curd)</td>\n",
       "      <td>(sausage)</td>\n",
       "      <td>0.033683</td>\n",
       "      <td>0.060349</td>\n",
       "      <td>0.002941</td>\n",
       "      <td>0.087302</td>\n",
       "      <td>1.446615</td>\n",
       "      <td>0.000908</td>\n",
       "      <td>1.029531</td>\n",
       "    </tr>\n",
       "    <tr>\n",
       "      <th>5</th>\n",
       "      <td>(sausage)</td>\n",
       "      <td>(curd)</td>\n",
       "      <td>0.060349</td>\n",
       "      <td>0.033683</td>\n",
       "      <td>0.002941</td>\n",
       "      <td>0.048726</td>\n",
       "      <td>1.446615</td>\n",
       "      <td>0.000908</td>\n",
       "      <td>1.015814</td>\n",
       "    </tr>\n",
       "    <tr>\n",
       "      <th>6</th>\n",
       "      <td>(yogurt)</td>\n",
       "      <td>(detergent)</td>\n",
       "      <td>0.085879</td>\n",
       "      <td>0.008621</td>\n",
       "      <td>0.001069</td>\n",
       "      <td>0.012451</td>\n",
       "      <td>1.444261</td>\n",
       "      <td>0.000329</td>\n",
       "      <td>1.003878</td>\n",
       "    </tr>\n",
       "    <tr>\n",
       "      <th>7</th>\n",
       "      <td>(detergent)</td>\n",
       "      <td>(yogurt)</td>\n",
       "      <td>0.008621</td>\n",
       "      <td>0.085879</td>\n",
       "      <td>0.001069</td>\n",
       "      <td>0.124031</td>\n",
       "      <td>1.444261</td>\n",
       "      <td>0.000329</td>\n",
       "      <td>1.043555</td>\n",
       "    </tr>\n",
       "    <tr>\n",
       "      <th>8</th>\n",
       "      <td>(flour)</td>\n",
       "      <td>(tropical fruit)</td>\n",
       "      <td>0.009757</td>\n",
       "      <td>0.067767</td>\n",
       "      <td>0.001069</td>\n",
       "      <td>0.109589</td>\n",
       "      <td>1.617141</td>\n",
       "      <td>0.000408</td>\n",
       "      <td>1.046969</td>\n",
       "    </tr>\n",
       "    <tr>\n",
       "      <th>9</th>\n",
       "      <td>(tropical fruit)</td>\n",
       "      <td>(flour)</td>\n",
       "      <td>0.067767</td>\n",
       "      <td>0.009757</td>\n",
       "      <td>0.001069</td>\n",
       "      <td>0.015779</td>\n",
       "      <td>1.617141</td>\n",
       "      <td>0.000408</td>\n",
       "      <td>1.006118</td>\n",
       "    </tr>\n",
       "    <tr>\n",
       "      <th>10</th>\n",
       "      <td>(pip fruit)</td>\n",
       "      <td>(hard cheese)</td>\n",
       "      <td>0.049054</td>\n",
       "      <td>0.014703</td>\n",
       "      <td>0.001069</td>\n",
       "      <td>0.021798</td>\n",
       "      <td>1.482586</td>\n",
       "      <td>0.000348</td>\n",
       "      <td>1.007254</td>\n",
       "    </tr>\n",
       "    <tr>\n",
       "      <th>11</th>\n",
       "      <td>(hard cheese)</td>\n",
       "      <td>(pip fruit)</td>\n",
       "      <td>0.014703</td>\n",
       "      <td>0.049054</td>\n",
       "      <td>0.001069</td>\n",
       "      <td>0.072727</td>\n",
       "      <td>1.482586</td>\n",
       "      <td>0.000348</td>\n",
       "      <td>1.025530</td>\n",
       "    </tr>\n",
       "    <tr>\n",
       "      <th>12</th>\n",
       "      <td>(napkins)</td>\n",
       "      <td>(pastry)</td>\n",
       "      <td>0.022121</td>\n",
       "      <td>0.051728</td>\n",
       "      <td>0.001738</td>\n",
       "      <td>0.078550</td>\n",
       "      <td>1.518529</td>\n",
       "      <td>0.000593</td>\n",
       "      <td>1.029109</td>\n",
       "    </tr>\n",
       "    <tr>\n",
       "      <th>13</th>\n",
       "      <td>(pastry)</td>\n",
       "      <td>(napkins)</td>\n",
       "      <td>0.051728</td>\n",
       "      <td>0.022121</td>\n",
       "      <td>0.001738</td>\n",
       "      <td>0.033592</td>\n",
       "      <td>1.518529</td>\n",
       "      <td>0.000593</td>\n",
       "      <td>1.011869</td>\n",
       "    </tr>\n",
       "    <tr>\n",
       "      <th>14</th>\n",
       "      <td>(root vegetables)</td>\n",
       "      <td>(processed cheese)</td>\n",
       "      <td>0.069572</td>\n",
       "      <td>0.010158</td>\n",
       "      <td>0.001069</td>\n",
       "      <td>0.015370</td>\n",
       "      <td>1.513019</td>\n",
       "      <td>0.000363</td>\n",
       "      <td>1.005293</td>\n",
       "    </tr>\n",
       "    <tr>\n",
       "      <th>15</th>\n",
       "      <td>(processed cheese)</td>\n",
       "      <td>(root vegetables)</td>\n",
       "      <td>0.010158</td>\n",
       "      <td>0.069572</td>\n",
       "      <td>0.001069</td>\n",
       "      <td>0.105263</td>\n",
       "      <td>1.513019</td>\n",
       "      <td>0.000363</td>\n",
       "      <td>1.039891</td>\n",
       "    </tr>\n",
       "    <tr>\n",
       "      <th>16</th>\n",
       "      <td>(yogurt)</td>\n",
       "      <td>(soft cheese)</td>\n",
       "      <td>0.085879</td>\n",
       "      <td>0.010025</td>\n",
       "      <td>0.001270</td>\n",
       "      <td>0.014786</td>\n",
       "      <td>1.474952</td>\n",
       "      <td>0.000409</td>\n",
       "      <td>1.004833</td>\n",
       "    </tr>\n",
       "    <tr>\n",
       "      <th>17</th>\n",
       "      <td>(soft cheese)</td>\n",
       "      <td>(yogurt)</td>\n",
       "      <td>0.010025</td>\n",
       "      <td>0.085879</td>\n",
       "      <td>0.001270</td>\n",
       "      <td>0.126667</td>\n",
       "      <td>1.474952</td>\n",
       "      <td>0.000409</td>\n",
       "      <td>1.046704</td>\n",
       "    </tr>\n",
       "    <tr>\n",
       "      <th>18</th>\n",
       "      <td>(soda, whole milk)</td>\n",
       "      <td>(sausage)</td>\n",
       "      <td>0.011629</td>\n",
       "      <td>0.060349</td>\n",
       "      <td>0.001069</td>\n",
       "      <td>0.091954</td>\n",
       "      <td>1.523708</td>\n",
       "      <td>0.000368</td>\n",
       "      <td>1.034806</td>\n",
       "    </tr>\n",
       "    <tr>\n",
       "      <th>19</th>\n",
       "      <td>(sausage)</td>\n",
       "      <td>(soda, whole milk)</td>\n",
       "      <td>0.060349</td>\n",
       "      <td>0.011629</td>\n",
       "      <td>0.001069</td>\n",
       "      <td>0.017719</td>\n",
       "      <td>1.523708</td>\n",
       "      <td>0.000368</td>\n",
       "      <td>1.006200</td>\n",
       "    </tr>\n",
       "    <tr>\n",
       "      <th>20</th>\n",
       "      <td>(yogurt, whole milk)</td>\n",
       "      <td>(sausage)</td>\n",
       "      <td>0.011161</td>\n",
       "      <td>0.060349</td>\n",
       "      <td>0.001470</td>\n",
       "      <td>0.131737</td>\n",
       "      <td>2.182917</td>\n",
       "      <td>0.000797</td>\n",
       "      <td>1.082219</td>\n",
       "    </tr>\n",
       "    <tr>\n",
       "      <th>21</th>\n",
       "      <td>(yogurt, sausage)</td>\n",
       "      <td>(whole milk)</td>\n",
       "      <td>0.005748</td>\n",
       "      <td>0.157923</td>\n",
       "      <td>0.001470</td>\n",
       "      <td>0.255814</td>\n",
       "      <td>1.619866</td>\n",
       "      <td>0.000563</td>\n",
       "      <td>1.131541</td>\n",
       "    </tr>\n",
       "    <tr>\n",
       "      <th>22</th>\n",
       "      <td>(whole milk, sausage)</td>\n",
       "      <td>(yogurt)</td>\n",
       "      <td>0.008955</td>\n",
       "      <td>0.085879</td>\n",
       "      <td>0.001470</td>\n",
       "      <td>0.164179</td>\n",
       "      <td>1.911760</td>\n",
       "      <td>0.000701</td>\n",
       "      <td>1.093681</td>\n",
       "    </tr>\n",
       "    <tr>\n",
       "      <th>23</th>\n",
       "      <td>(yogurt)</td>\n",
       "      <td>(whole milk, sausage)</td>\n",
       "      <td>0.085879</td>\n",
       "      <td>0.008955</td>\n",
       "      <td>0.001470</td>\n",
       "      <td>0.017121</td>\n",
       "      <td>1.911760</td>\n",
       "      <td>0.000701</td>\n",
       "      <td>1.008307</td>\n",
       "    </tr>\n",
       "    <tr>\n",
       "      <th>24</th>\n",
       "      <td>(whole milk)</td>\n",
       "      <td>(yogurt, sausage)</td>\n",
       "      <td>0.157923</td>\n",
       "      <td>0.005748</td>\n",
       "      <td>0.001470</td>\n",
       "      <td>0.009310</td>\n",
       "      <td>1.619866</td>\n",
       "      <td>0.000563</td>\n",
       "      <td>1.003596</td>\n",
       "    </tr>\n",
       "    <tr>\n",
       "      <th>25</th>\n",
       "      <td>(sausage)</td>\n",
       "      <td>(yogurt, whole milk)</td>\n",
       "      <td>0.060349</td>\n",
       "      <td>0.011161</td>\n",
       "      <td>0.001470</td>\n",
       "      <td>0.024363</td>\n",
       "      <td>2.182917</td>\n",
       "      <td>0.000797</td>\n",
       "      <td>1.013532</td>\n",
       "    </tr>\n",
       "  </tbody>\n",
       "</table>\n",
       "</div>"
      ],
      "text/plain": [
       "              antecedents            consequents  antecedent support  \\\n",
       "0             (beverages)              (sausage)            0.016574   \n",
       "1               (sausage)            (beverages)            0.060349   \n",
       "2   (specialty chocolate)         (citrus fruit)            0.015973   \n",
       "3          (citrus fruit)  (specialty chocolate)            0.053131   \n",
       "4                  (curd)              (sausage)            0.033683   \n",
       "5               (sausage)                 (curd)            0.060349   \n",
       "6                (yogurt)            (detergent)            0.085879   \n",
       "7             (detergent)               (yogurt)            0.008621   \n",
       "8                 (flour)       (tropical fruit)            0.009757   \n",
       "9        (tropical fruit)                (flour)            0.067767   \n",
       "10            (pip fruit)          (hard cheese)            0.049054   \n",
       "11          (hard cheese)            (pip fruit)            0.014703   \n",
       "12              (napkins)               (pastry)            0.022121   \n",
       "13               (pastry)              (napkins)            0.051728   \n",
       "14      (root vegetables)     (processed cheese)            0.069572   \n",
       "15     (processed cheese)      (root vegetables)            0.010158   \n",
       "16               (yogurt)          (soft cheese)            0.085879   \n",
       "17          (soft cheese)               (yogurt)            0.010025   \n",
       "18     (soda, whole milk)              (sausage)            0.011629   \n",
       "19              (sausage)     (soda, whole milk)            0.060349   \n",
       "20   (yogurt, whole milk)              (sausage)            0.011161   \n",
       "21      (yogurt, sausage)           (whole milk)            0.005748   \n",
       "22  (whole milk, sausage)               (yogurt)            0.008955   \n",
       "23               (yogurt)  (whole milk, sausage)            0.085879   \n",
       "24           (whole milk)      (yogurt, sausage)            0.157923   \n",
       "25              (sausage)   (yogurt, whole milk)            0.060349   \n",
       "\n",
       "    consequent support   support  confidence      lift  leverage  conviction  \n",
       "0             0.060349  0.001537    0.092742  1.536764  0.000537    1.035704  \n",
       "1             0.016574  0.001537    0.025471  1.536764  0.000537    1.009129  \n",
       "2             0.053131  0.001403    0.087866  1.653762  0.000555    1.038081  \n",
       "3             0.015973  0.001403    0.026415  1.653762  0.000555    1.010726  \n",
       "4             0.060349  0.002941    0.087302  1.446615  0.000908    1.029531  \n",
       "5             0.033683  0.002941    0.048726  1.446615  0.000908    1.015814  \n",
       "6             0.008621  0.001069    0.012451  1.444261  0.000329    1.003878  \n",
       "7             0.085879  0.001069    0.124031  1.444261  0.000329    1.043555  \n",
       "8             0.067767  0.001069    0.109589  1.617141  0.000408    1.046969  \n",
       "9             0.009757  0.001069    0.015779  1.617141  0.000408    1.006118  \n",
       "10            0.014703  0.001069    0.021798  1.482586  0.000348    1.007254  \n",
       "11            0.049054  0.001069    0.072727  1.482586  0.000348    1.025530  \n",
       "12            0.051728  0.001738    0.078550  1.518529  0.000593    1.029109  \n",
       "13            0.022121  0.001738    0.033592  1.518529  0.000593    1.011869  \n",
       "14            0.010158  0.001069    0.015370  1.513019  0.000363    1.005293  \n",
       "15            0.069572  0.001069    0.105263  1.513019  0.000363    1.039891  \n",
       "16            0.010025  0.001270    0.014786  1.474952  0.000409    1.004833  \n",
       "17            0.085879  0.001270    0.126667  1.474952  0.000409    1.046704  \n",
       "18            0.060349  0.001069    0.091954  1.523708  0.000368    1.034806  \n",
       "19            0.011629  0.001069    0.017719  1.523708  0.000368    1.006200  \n",
       "20            0.060349  0.001470    0.131737  2.182917  0.000797    1.082219  \n",
       "21            0.157923  0.001470    0.255814  1.619866  0.000563    1.131541  \n",
       "22            0.085879  0.001470    0.164179  1.911760  0.000701    1.093681  \n",
       "23            0.008955  0.001470    0.017121  1.911760  0.000701    1.008307  \n",
       "24            0.005748  0.001470    0.009310  1.619866  0.000563    1.003596  \n",
       "25            0.011161  0.001470    0.024363  2.182917  0.000797    1.013532  "
      ]
     },
     "execution_count": 22,
     "metadata": {},
     "output_type": "execute_result"
    },
    {
     "data": {
      "application/javascript": [
       "\n",
       "            setTimeout(function() {\n",
       "                var nbb_cell_id = 22;\n",
       "                var nbb_unformatted_code = \"# x\\u00e2y d\\u1ef1ng lu\\u1eadt k\\u1ebft h\\u1ee3p\\nrules = association_rules(frequent_itemsets1, metric=\\\"lift\\\", min_threshold=1.4)\\nrules\";\n",
       "                var nbb_formatted_code = \"# x\\u00e2y d\\u1ef1ng lu\\u1eadt k\\u1ebft h\\u1ee3p\\nrules = association_rules(frequent_itemsets1, metric=\\\"lift\\\", min_threshold=1.4)\\nrules\";\n",
       "                var nbb_cells = Jupyter.notebook.get_cells();\n",
       "                for (var i = 0; i < nbb_cells.length; ++i) {\n",
       "                    if (nbb_cells[i].input_prompt_number == nbb_cell_id) {\n",
       "                        if (nbb_cells[i].get_text() == nbb_unformatted_code) {\n",
       "                             nbb_cells[i].set_text(nbb_formatted_code);\n",
       "                        }\n",
       "                        break;\n",
       "                    }\n",
       "                }\n",
       "            }, 500);\n",
       "            "
      ],
      "text/plain": [
       "<IPython.core.display.Javascript object>"
      ]
     },
     "metadata": {},
     "output_type": "display_data"
    }
   ],
   "source": [
    "# xây dựng luật kết hợp\n",
    "rules = association_rules(frequent_itemsets1, metric=\"lift\", min_threshold=1.4)\n",
    "rules"
   ]
  },
  {
   "cell_type": "markdown",
   "id": "621923b4",
   "metadata": {},
   "source": [
    "### Tìm kiếm thông tin từ kết quả: trong thông tin kết quả có 'sausage' không? Nếu có thì 'sausage' kết hợp với item nào?"
   ]
  },
  {
   "cell_type": "code",
   "execution_count": 23,
   "id": "f12fcc2f",
   "metadata": {
    "ExecuteTime": {
     "end_time": "2022-01-30T12:48:37.941356Z",
     "start_time": "2022-01-30T12:48:37.896475Z"
    }
   },
   "outputs": [
    {
     "name": "stdout",
     "output_type": "stream",
     "text": [
      "----------------------------------\n",
      "(1, antecedents             (sausage)\n",
      "consequents           (beverages)\n",
      "antecedent support       0.060349\n",
      "consequent support       0.016574\n",
      "support                  0.001537\n",
      "confidence               0.025471\n",
      "lift                     1.536764\n",
      "leverage                 0.000537\n",
      "conviction               1.009129\n",
      "Name: 1, dtype: object)\n",
      "----------------------------------\n",
      "(5, antecedents           (sausage)\n",
      "consequents              (curd)\n",
      "antecedent support     0.060349\n",
      "consequent support     0.033683\n",
      "support                0.002941\n",
      "confidence             0.048726\n",
      "lift                   1.446615\n",
      "leverage               0.000908\n",
      "conviction             1.015814\n",
      "Name: 5, dtype: object)\n",
      "----------------------------------\n",
      "(19, antecedents                    (sausage)\n",
      "consequents           (soda, whole milk)\n",
      "antecedent support              0.060349\n",
      "consequent support              0.011629\n",
      "support                         0.001069\n",
      "confidence                      0.017719\n",
      "lift                            1.523708\n",
      "leverage                        0.000368\n",
      "conviction                        1.0062\n",
      "Name: 19, dtype: object)\n",
      "----------------------------------\n",
      "(21, antecedents           (yogurt, sausage)\n",
      "consequents                (whole milk)\n",
      "antecedent support             0.005748\n",
      "consequent support             0.157923\n",
      "support                         0.00147\n",
      "confidence                     0.255814\n",
      "lift                           1.619866\n",
      "leverage                       0.000563\n",
      "conviction                     1.131541\n",
      "Name: 21, dtype: object)\n",
      "----------------------------------\n",
      "(22, antecedents           (whole milk, sausage)\n",
      "consequents                        (yogurt)\n",
      "antecedent support                 0.008955\n",
      "consequent support                 0.085879\n",
      "support                             0.00147\n",
      "confidence                         0.164179\n",
      "lift                                1.91176\n",
      "leverage                           0.000701\n",
      "conviction                         1.093681\n",
      "Name: 22, dtype: object)\n",
      "----------------------------------\n",
      "(25, antecedents                      (sausage)\n",
      "consequents           (yogurt, whole milk)\n",
      "antecedent support                0.060349\n",
      "consequent support                0.011161\n",
      "support                            0.00147\n",
      "confidence                        0.024363\n",
      "lift                              2.182917\n",
      "leverage                          0.000797\n",
      "conviction                        1.013532\n",
      "Name: 25, dtype: object)\n"
     ]
    },
    {
     "data": {
      "application/javascript": [
       "\n",
       "            setTimeout(function() {\n",
       "                var nbb_cell_id = 23;\n",
       "                var nbb_unformatted_code = \"for row in rules.iterrows(): \\n    if \\\"sausage\\\" in row[1][0]:\\n        print('----------------------------------')\\n        print(row)\";\n",
       "                var nbb_formatted_code = \"for row in rules.iterrows():\\n    if \\\"sausage\\\" in row[1][0]:\\n        print(\\\"----------------------------------\\\")\\n        print(row)\";\n",
       "                var nbb_cells = Jupyter.notebook.get_cells();\n",
       "                for (var i = 0; i < nbb_cells.length; ++i) {\n",
       "                    if (nbb_cells[i].input_prompt_number == nbb_cell_id) {\n",
       "                        if (nbb_cells[i].get_text() == nbb_unformatted_code) {\n",
       "                             nbb_cells[i].set_text(nbb_formatted_code);\n",
       "                        }\n",
       "                        break;\n",
       "                    }\n",
       "                }\n",
       "            }, 500);\n",
       "            "
      ],
      "text/plain": [
       "<IPython.core.display.Javascript object>"
      ]
     },
     "metadata": {},
     "output_type": "display_data"
    }
   ],
   "source": [
    "for row in rules.iterrows(): \n",
    "    if \"sausage\" in row[1][0]:\n",
    "        print('----------------------------------')\n",
    "        print(row)\n"
   ]
  },
  {
   "cell_type": "markdown",
   "id": "b8a06b31",
   "metadata": {},
   "source": [
    "## <p style=\"color:blue\">Nhận xét</p>"
   ]
  },
  {
   "cell_type": "code",
   "execution_count": 24,
   "id": "602aedf6",
   "metadata": {
    "ExecuteTime": {
     "end_time": "2022-01-30T12:48:37.957313Z",
     "start_time": "2022-01-30T12:48:37.942352Z"
    }
   },
   "outputs": [
    {
     "data": {
      "text/plain": [
       "'\\nVậy khi khách hàng mua sausage, họ có thể mua kèm thêm:\\nsausage - beverages,\\nsausage - curd,\\nsausage - (whole milk, soda),\\nsausage - (whole milk, yogurt)\\n\\nhay họ có thể mua kết hợp:\\n(sausage, whole milk) - yogurt\\n(sausage, yogurt) - whole milk\\n'"
      ]
     },
     "execution_count": 24,
     "metadata": {},
     "output_type": "execute_result"
    },
    {
     "data": {
      "application/javascript": [
       "\n",
       "            setTimeout(function() {\n",
       "                var nbb_cell_id = 24;\n",
       "                var nbb_unformatted_code = \"\\\"\\\"\\\"\\nV\\u1eady khi kh\\u00e1ch h\\u00e0ng mua sausage, h\\u1ecd c\\u00f3 th\\u1ec3 mua k\\u00e8m th\\u00eam:\\nsausage - beverages,\\nsausage - curd,\\nsausage - (whole milk, soda),\\nsausage - (whole milk, yogurt)\\n\\nhay h\\u1ecd c\\u00f3 th\\u1ec3 mua k\\u1ebft h\\u1ee3p:\\n(sausage, whole milk) - yogurt\\n(sausage, yogurt) - whole milk\\n\\\"\\\"\\\"\";\n",
       "                var nbb_formatted_code = \"\\\"\\\"\\\"\\nV\\u1eady khi kh\\u00e1ch h\\u00e0ng mua sausage, h\\u1ecd c\\u00f3 th\\u1ec3 mua k\\u00e8m th\\u00eam:\\nsausage - beverages,\\nsausage - curd,\\nsausage - (whole milk, soda),\\nsausage - (whole milk, yogurt)\\n\\nhay h\\u1ecd c\\u00f3 th\\u1ec3 mua k\\u1ebft h\\u1ee3p:\\n(sausage, whole milk) - yogurt\\n(sausage, yogurt) - whole milk\\n\\\"\\\"\\\"\";\n",
       "                var nbb_cells = Jupyter.notebook.get_cells();\n",
       "                for (var i = 0; i < nbb_cells.length; ++i) {\n",
       "                    if (nbb_cells[i].input_prompt_number == nbb_cell_id) {\n",
       "                        if (nbb_cells[i].get_text() == nbb_unformatted_code) {\n",
       "                             nbb_cells[i].set_text(nbb_formatted_code);\n",
       "                        }\n",
       "                        break;\n",
       "                    }\n",
       "                }\n",
       "            }, 500);\n",
       "            "
      ],
      "text/plain": [
       "<IPython.core.display.Javascript object>"
      ]
     },
     "metadata": {},
     "output_type": "display_data"
    }
   ],
   "source": [
    "\"\"\"\n",
    "Vậy khi khách hàng mua sausage, họ có thể mua kèm thêm:\n",
    "sausage - beverages,\n",
    "sausage - curd,\n",
    "sausage - (whole milk, soda),\n",
    "sausage - (whole milk, yogurt)\n",
    "\n",
    "hay họ có thể mua kết hợp:\n",
    "(sausage, whole milk) - yogurt\n",
    "(sausage, yogurt) - whole milk\n",
    "\"\"\""
   ]
  },
  {
   "cell_type": "code",
   "execution_count": 25,
   "id": "64253568",
   "metadata": {
    "ExecuteTime": {
     "end_time": "2022-01-30T12:48:38.233239Z",
     "start_time": "2022-01-30T12:48:37.958328Z"
    }
   },
   "outputs": [
    {
     "data": {
      "image/png": "[encoded data removed]",
      "text/plain": [
       "<Figure size 1080x360 with 1 Axes>"
      ]
     },
     "metadata": {
      "needs_background": "light"
     },
     "output_type": "display_data"
    },
    {
     "data": {
      "application/javascript": [
       "\n",
       "            setTimeout(function() {\n",
       "                var nbb_cell_id = 25;\n",
       "                var nbb_unformatted_code = \"plt.figure(figsize=(15, 5))\\nsns.swarmplot(data=round(rules, 8), x=\\\"support\\\", y=\\\"confidence\\\", size=12)\\nplt.show()\";\n",
       "                var nbb_formatted_code = \"plt.figure(figsize=(15, 5))\\nsns.swarmplot(data=round(rules, 8), x=\\\"support\\\", y=\\\"confidence\\\", size=12)\\nplt.show()\";\n",
       "                var nbb_cells = Jupyter.notebook.get_cells();\n",
       "                for (var i = 0; i < nbb_cells.length; ++i) {\n",
       "                    if (nbb_cells[i].input_prompt_number == nbb_cell_id) {\n",
       "                        if (nbb_cells[i].get_text() == nbb_unformatted_code) {\n",
       "                             nbb_cells[i].set_text(nbb_formatted_code);\n",
       "                        }\n",
       "                        break;\n",
       "                    }\n",
       "                }\n",
       "            }, 500);\n",
       "            "
      ],
      "text/plain": [
       "<IPython.core.display.Javascript object>"
      ]
     },
     "metadata": {},
     "output_type": "display_data"
    }
   ],
   "source": [
    "plt.figure(figsize=(15, 5))\n",
    "sns.swarmplot(data=round(rules, 8), x=\"support\", y=\"confidence\", size=12)\n",
    "plt.show()"
   ]
  },
  {
   "cell_type": "markdown",
   "id": "c88fb763",
   "metadata": {},
   "source": [
    "## <p style=\"color:blue\">Nhận xét</p>"
   ]
  },
  {
   "cell_type": "code",
   "execution_count": 26,
   "id": "a5d61bec",
   "metadata": {
    "ExecuteTime": {
     "end_time": "2022-01-30T12:48:38.249218Z",
     "start_time": "2022-01-30T12:48:38.235208Z"
    }
   },
   "outputs": [
    {
     "data": {
      "text/plain": [
       "'\\nNhìn biểu đồ trực quan, ta thấy ở mức support ~ 0.000106, có 10 giao dịch, \\ntrong đó có 5 giao dịch có confidence thuộc khoảng [0.02, 0.04]\\n            5 giao dịch có confidence trong khoảng [0.07, 0.14]\\n            \\nTương tự cho các mốc giá trị support và confidence còn lại\\n'"
      ]
     },
     "execution_count": 26,
     "metadata": {},
     "output_type": "execute_result"
    },
    {
     "data": {
      "application/javascript": [
       "\n",
       "            setTimeout(function() {\n",
       "                var nbb_cell_id = 26;\n",
       "                var nbb_unformatted_code = \"\\\"\\\"\\\"\\nNh\\u00ecn bi\\u1ec3u \\u0111\\u1ed3 tr\\u1ef1c quan, ta th\\u1ea5y \\u1edf m\\u1ee9c support ~ 0.000106, c\\u00f3 10 giao d\\u1ecbch, \\ntrong \\u0111\\u00f3 c\\u00f3 5 giao d\\u1ecbch c\\u00f3 confidence thu\\u1ed9c kho\\u1ea3ng [0.02, 0.04]\\n            5 giao d\\u1ecbch c\\u00f3 confidence trong kho\\u1ea3ng [0.07, 0.14]\\n            \\nT\\u01b0\\u01a1ng t\\u1ef1 cho c\\u00e1c m\\u1ed1c gi\\u00e1 tr\\u1ecb support v\\u00e0 confidence c\\u00f2n l\\u1ea1i\\n\\\"\\\"\\\"\";\n",
       "                var nbb_formatted_code = \"\\\"\\\"\\\"\\nNh\\u00ecn bi\\u1ec3u \\u0111\\u1ed3 tr\\u1ef1c quan, ta th\\u1ea5y \\u1edf m\\u1ee9c support ~ 0.000106, c\\u00f3 10 giao d\\u1ecbch, \\ntrong \\u0111\\u00f3 c\\u00f3 5 giao d\\u1ecbch c\\u00f3 confidence thu\\u1ed9c kho\\u1ea3ng [0.02, 0.04]\\n            5 giao d\\u1ecbch c\\u00f3 confidence trong kho\\u1ea3ng [0.07, 0.14]\\n            \\nT\\u01b0\\u01a1ng t\\u1ef1 cho c\\u00e1c m\\u1ed1c gi\\u00e1 tr\\u1ecb support v\\u00e0 confidence c\\u00f2n l\\u1ea1i\\n\\\"\\\"\\\"\";\n",
       "                var nbb_cells = Jupyter.notebook.get_cells();\n",
       "                for (var i = 0; i < nbb_cells.length; ++i) {\n",
       "                    if (nbb_cells[i].input_prompt_number == nbb_cell_id) {\n",
       "                        if (nbb_cells[i].get_text() == nbb_unformatted_code) {\n",
       "                             nbb_cells[i].set_text(nbb_formatted_code);\n",
       "                        }\n",
       "                        break;\n",
       "                    }\n",
       "                }\n",
       "            }, 500);\n",
       "            "
      ],
      "text/plain": [
       "<IPython.core.display.Javascript object>"
      ]
     },
     "metadata": {},
     "output_type": "display_data"
    }
   ],
   "source": [
    "\"\"\"\n",
    "Nhìn biểu đồ trực quan, ta thấy ở mức support ~ 0.000106, có 10 giao dịch, \n",
    "trong đó có 5 giao dịch có confidence thuộc khoảng [0.02, 0.04]\n",
    "            5 giao dịch có confidence trong khoảng [0.07, 0.14]\n",
    "            \n",
    "Tương tự cho các mốc giá trị support và confidence còn lại\n",
    "\"\"\""
   ]
  },
  {
   "cell_type": "code",
   "execution_count": 27,
   "id": "83394d91",
   "metadata": {
    "ExecuteTime": {
     "end_time": "2022-01-30T12:48:38.264170Z",
     "start_time": "2022-01-30T12:48:38.251165Z"
    }
   },
   "outputs": [
    {
     "data": {
      "application/javascript": [
       "\n",
       "            setTimeout(function() {\n",
       "                var nbb_cell_id = 27;\n",
       "                var nbb_unformatted_code = \"support = rules[\\\"support\\\"].values\\nconfidence = rules[\\\"confidence\\\"].values\\nlift = rules[\\\"lift\\\"].values\";\n",
       "                var nbb_formatted_code = \"support = rules[\\\"support\\\"].values\\nconfidence = rules[\\\"confidence\\\"].values\\nlift = rules[\\\"lift\\\"].values\";\n",
       "                var nbb_cells = Jupyter.notebook.get_cells();\n",
       "                for (var i = 0; i < nbb_cells.length; ++i) {\n",
       "                    if (nbb_cells[i].input_prompt_number == nbb_cell_id) {\n",
       "                        if (nbb_cells[i].get_text() == nbb_unformatted_code) {\n",
       "                             nbb_cells[i].set_text(nbb_formatted_code);\n",
       "                        }\n",
       "                        break;\n",
       "                    }\n",
       "                }\n",
       "            }, 500);\n",
       "            "
      ],
      "text/plain": [
       "<IPython.core.display.Javascript object>"
      ]
     },
     "metadata": {},
     "output_type": "display_data"
    }
   ],
   "source": [
    "support = rules[\"support\"].values\n",
    "confidence = rules[\"confidence\"].values\n",
    "lift = rules[\"lift\"].values"
   ]
  },
  {
   "cell_type": "markdown",
   "id": "be1e6a58",
   "metadata": {},
   "source": [
    "### B. Xây đựng bằng ECLAT"
   ]
  },
  {
   "cell_type": "code",
   "execution_count": 28,
   "id": "adc4449b",
   "metadata": {
    "ExecuteTime": {
     "end_time": "2022-01-30T12:48:38.295092Z",
     "start_time": "2022-01-30T12:48:38.265164Z"
    }
   },
   "outputs": [
    {
     "data": {
      "application/javascript": [
       "\n",
       "            setTimeout(function() {\n",
       "                var nbb_cell_id = 28;\n",
       "                var nbb_unformatted_code = \"def tidlists(transactions):\\n    tl = defaultdict(set)\\n    for tid, t in enumerate(transactions):\\n        for item in t:\\n            tl[item].add(tid)\\n    return list(tl.items())\\n\\n\\nclass IntersectAll:\\n    def __and__(self, other):\\n        return other\\n\\n\\nIntersectAll = IntersectAll()\\n\\n\\ndef eclat(items, minsup=0, minlen=1):\\n    frequent_itemsets = {(): IntersectAll}\\n\\n    def recurse(items, prefix):\\n        while len(items) > 0:\\n            item, item_tidlist = items.pop()\\n            l = prefix + (item,)  # l is the (ordered) tuple of items we are looking for\\n            new_tidlist = frequent_itemsets[prefix] & item_tidlist\\n            if (\\n                len(new_tidlist) >= minsup\\n            ):  # add frequent_itemsets to the new frequent_itemsets\\n                frequent_itemsets[l] = new_tidlist\\n\\n            # define the new l-conditional database\\n            new_items = []\\n            for new_item, _item_tidlist in items:\\n                new_item_tidlist = _item_tidlist & item_tidlist\\n                if len(new_item_tidlist) >= minsup:\\n                    new_items.append((new_item, new_item_tidlist))\\n\\n            # recurse, with l as prefix\\n            recurse(new_items, l)\\n\\n    recurse(items.copy(), ())\\n    return {k: len(v) for k, v in frequent_itemsets.items() if len(k) >= minlen}\";\n",
       "                var nbb_formatted_code = \"def tidlists(transactions):\\n    tl = defaultdict(set)\\n    for tid, t in enumerate(transactions):\\n        for item in t:\\n            tl[item].add(tid)\\n    return list(tl.items())\\n\\n\\nclass IntersectAll:\\n    def __and__(self, other):\\n        return other\\n\\n\\nIntersectAll = IntersectAll()\\n\\n\\ndef eclat(items, minsup=0, minlen=1):\\n    frequent_itemsets = {(): IntersectAll}\\n\\n    def recurse(items, prefix):\\n        while len(items) > 0:\\n            item, item_tidlist = items.pop()\\n            l = prefix + (item,)  # l is the (ordered) tuple of items we are looking for\\n            new_tidlist = frequent_itemsets[prefix] & item_tidlist\\n            if (\\n                len(new_tidlist) >= minsup\\n            ):  # add frequent_itemsets to the new frequent_itemsets\\n                frequent_itemsets[l] = new_tidlist\\n\\n            # define the new l-conditional database\\n            new_items = []\\n            for new_item, _item_tidlist in items:\\n                new_item_tidlist = _item_tidlist & item_tidlist\\n                if len(new_item_tidlist) >= minsup:\\n                    new_items.append((new_item, new_item_tidlist))\\n\\n            # recurse, with l as prefix\\n            recurse(new_items, l)\\n\\n    recurse(items.copy(), ())\\n    return {k: len(v) for k, v in frequent_itemsets.items() if len(k) >= minlen}\";\n",
       "                var nbb_cells = Jupyter.notebook.get_cells();\n",
       "                for (var i = 0; i < nbb_cells.length; ++i) {\n",
       "                    if (nbb_cells[i].input_prompt_number == nbb_cell_id) {\n",
       "                        if (nbb_cells[i].get_text() == nbb_unformatted_code) {\n",
       "                             nbb_cells[i].set_text(nbb_formatted_code);\n",
       "                        }\n",
       "                        break;\n",
       "                    }\n",
       "                }\n",
       "            }, 500);\n",
       "            "
      ],
      "text/plain": [
       "<IPython.core.display.Javascript object>"
      ]
     },
     "metadata": {},
     "output_type": "display_data"
    }
   ],
   "source": [
    "def tidlists(transactions):\n",
    "    tl = defaultdict(set)\n",
    "    for tid, t in enumerate(transactions):\n",
    "        for item in t:\n",
    "            tl[item].add(tid)\n",
    "    return list(tl.items())\n",
    "\n",
    "\n",
    "class IntersectAll:\n",
    "    def __and__(self, other):\n",
    "        return other\n",
    "\n",
    "\n",
    "IntersectAll = IntersectAll()\n",
    "\n",
    "\n",
    "def eclat(items, minsup=0, minlen=1):\n",
    "    frequent_itemsets = {(): IntersectAll}\n",
    "\n",
    "    def recurse(items, prefix):\n",
    "        while len(items) > 0:\n",
    "            item, item_tidlist = items.pop()\n",
    "            l = prefix + (item,)  # l is the (ordered) tuple of items we are looking for\n",
    "            new_tidlist = frequent_itemsets[prefix] & item_tidlist\n",
    "            if (\n",
    "                len(new_tidlist) >= minsup\n",
    "            ):  # add frequent_itemsets to the new frequent_itemsets\n",
    "                frequent_itemsets[l] = new_tidlist\n",
    "\n",
    "            # define the new l-conditional database\n",
    "            new_items = []\n",
    "            for new_item, _item_tidlist in items:\n",
    "                new_item_tidlist = _item_tidlist & item_tidlist\n",
    "                if len(new_item_tidlist) >= minsup:\n",
    "                    new_items.append((new_item, new_item_tidlist))\n",
    "\n",
    "            # recurse, with l as prefix\n",
    "            recurse(new_items, l)\n",
    "\n",
    "    recurse(items.copy(), ())\n",
    "    return {k: len(v) for k, v in frequent_itemsets.items() if len(k) >= minlen}"
   ]
  },
  {
   "cell_type": "code",
   "execution_count": 29,
   "id": "3546e2ba",
   "metadata": {
    "ExecuteTime": {
     "end_time": "2022-01-30T12:48:38.311021Z",
     "start_time": "2022-01-30T12:48:38.300070Z"
    }
   },
   "outputs": [
    {
     "name": "stdout",
     "output_type": "stream",
     "text": [
      "{('e', 'i'): 62, ('e', 'i', ' '): 51, ('e', 'c'): 65, ('e', 'c', ' '): 50, ('e', 'r'): 82, ('e', 'r', ' '): 60, ('e', 'r', 'a'): 57, ('e', ' '): 80, ('e', ' ', 'a'): 57, ('e', ' ', 's'): 54, ('e', 'a'): 77, ('e', 't'): 58, ('e', 's'): 71, ('e', 'n'): 52, ('i', ' '): 61, ('i', 's'): 51, ('c', 'r'): 50, ('c', ' '): 63, ('c', 'a'): 59, ('c', 's'): 52, ('r', ' '): 71, ('r', ' ', 'a'): 54, ('r', 'a'): 69, ('r', 't'): 50, ('r', 's'): 61, ('o', ' '): 54, (' ', 'a'): 71, (' ', 't'): 60, (' ', 's'): 68, (' ', 'n'): 50, ('a', 't'): 52, ('a', 's'): 67, ('t', 's'): 50}\n"
     ]
    },
    {
     "data": {
      "application/javascript": [
       "\n",
       "            setTimeout(function() {\n",
       "                var nbb_cell_id = 29;\n",
       "                var nbb_unformatted_code = \"# Danh m\\u1ee5c \\u0111\\u01a1n h\\u00e0ng theo m\\u1eb7t h\\u00e0ng\\ntl = tidlists(df_new1)\\nresult = eclat(tl, minsup=50, minlen=2)\\nprint(result)\";\n",
       "                var nbb_formatted_code = \"# Danh m\\u1ee5c \\u0111\\u01a1n h\\u00e0ng theo m\\u1eb7t h\\u00e0ng\\ntl = tidlists(df_new1)\\nresult = eclat(tl, minsup=50, minlen=2)\\nprint(result)\";\n",
       "                var nbb_cells = Jupyter.notebook.get_cells();\n",
       "                for (var i = 0; i < nbb_cells.length; ++i) {\n",
       "                    if (nbb_cells[i].input_prompt_number == nbb_cell_id) {\n",
       "                        if (nbb_cells[i].get_text() == nbb_unformatted_code) {\n",
       "                             nbb_cells[i].set_text(nbb_formatted_code);\n",
       "                        }\n",
       "                        break;\n",
       "                    }\n",
       "                }\n",
       "            }, 500);\n",
       "            "
      ],
      "text/plain": [
       "<IPython.core.display.Javascript object>"
      ]
     },
     "metadata": {},
     "output_type": "display_data"
    }
   ],
   "source": [
    "# Danh mục đơn hàng theo mặt hàng\n",
    "tl = tidlists(df_new1)\n",
    "result = eclat(tl, minsup=50, minlen=2)\n",
    "print(result)"
   ]
  },
  {
   "cell_type": "code",
   "execution_count": 30,
   "id": "a6b7655e",
   "metadata": {
    "ExecuteTime": {
     "end_time": "2022-01-30T12:48:38.325968Z",
     "start_time": "2022-01-30T12:48:38.312004Z"
    }
   },
   "outputs": [
    {
     "data": {
      "application/javascript": [
       "\n",
       "            setTimeout(function() {\n",
       "                var nbb_cell_id = 30;\n",
       "                var nbb_unformatted_code = \"keys = result.values()\\ntitles = result.keys()\\nlist_titles = []\\nfor item in titles:\\n    list_titles.append(\\\",\\\".join(item))\";\n",
       "                var nbb_formatted_code = \"keys = result.values()\\ntitles = result.keys()\\nlist_titles = []\\nfor item in titles:\\n    list_titles.append(\\\",\\\".join(item))\";\n",
       "                var nbb_cells = Jupyter.notebook.get_cells();\n",
       "                for (var i = 0; i < nbb_cells.length; ++i) {\n",
       "                    if (nbb_cells[i].input_prompt_number == nbb_cell_id) {\n",
       "                        if (nbb_cells[i].get_text() == nbb_unformatted_code) {\n",
       "                             nbb_cells[i].set_text(nbb_formatted_code);\n",
       "                        }\n",
       "                        break;\n",
       "                    }\n",
       "                }\n",
       "            }, 500);\n",
       "            "
      ],
      "text/plain": [
       "<IPython.core.display.Javascript object>"
      ]
     },
     "metadata": {},
     "output_type": "display_data"
    }
   ],
   "source": [
    "keys = result.values()\n",
    "titles = result.keys()\n",
    "list_titles = []\n",
    "for item in titles:\n",
    "    list_titles.append(\",\".join(item))"
   ]
  },
  {
   "cell_type": "code",
   "execution_count": 31,
   "id": "398b36fd",
   "metadata": {
    "ExecuteTime": {
     "end_time": "2022-01-30T12:48:38.572346Z",
     "start_time": "2022-01-30T12:48:38.326964Z"
    }
   },
   "outputs": [
    {
     "data": {
      "image/png": "[encoded data removed]",
      "text/plain": [
       "<Figure size 1296x432 with 1 Axes>"
      ]
     },
     "metadata": {
      "needs_background": "light"
     },
     "output_type": "display_data"
    },
    {
     "data": {
      "application/javascript": [
       "\n",
       "            setTimeout(function() {\n",
       "                var nbb_cell_id = 31;\n",
       "                var nbb_unformatted_code = \"plt.figure(figsize=(18, 6))\\n\\ny = np.array(list(keys))\\nc = np.empty((y.shape[0],), dtype=str)\\nc[y <= 50] = \\\"red\\\"\\nc[y > 50] = \\\"green\\\"\\n\\nplt.bar(list_titles, keys, color=c.tolist())\\nplt.title(\\\"Association items with Support\\\", color=\\\"red\\\", fontsize=30)\\nplt.ylabel(\\\"Support\\\", color=\\\"red\\\", fontsize=20)\\nplt.xticks(rotation=85)\\nplt.xlabel(\\\"Itemsets\\\", color=\\\"red\\\", fontsize=20)\\nplt.show()\";\n",
       "                var nbb_formatted_code = \"plt.figure(figsize=(18, 6))\\n\\ny = np.array(list(keys))\\nc = np.empty((y.shape[0],), dtype=str)\\nc[y <= 50] = \\\"red\\\"\\nc[y > 50] = \\\"green\\\"\\n\\nplt.bar(list_titles, keys, color=c.tolist())\\nplt.title(\\\"Association items with Support\\\", color=\\\"red\\\", fontsize=30)\\nplt.ylabel(\\\"Support\\\", color=\\\"red\\\", fontsize=20)\\nplt.xticks(rotation=85)\\nplt.xlabel(\\\"Itemsets\\\", color=\\\"red\\\", fontsize=20)\\nplt.show()\";\n",
       "                var nbb_cells = Jupyter.notebook.get_cells();\n",
       "                for (var i = 0; i < nbb_cells.length; ++i) {\n",
       "                    if (nbb_cells[i].input_prompt_number == nbb_cell_id) {\n",
       "                        if (nbb_cells[i].get_text() == nbb_unformatted_code) {\n",
       "                             nbb_cells[i].set_text(nbb_formatted_code);\n",
       "                        }\n",
       "                        break;\n",
       "                    }\n",
       "                }\n",
       "            }, 500);\n",
       "            "
      ],
      "text/plain": [
       "<IPython.core.display.Javascript object>"
      ]
     },
     "metadata": {},
     "output_type": "display_data"
    }
   ],
   "source": [
    "plt.figure(figsize=(18, 6))\n",
    "\n",
    "y = np.array(list(keys))\n",
    "c = np.empty((y.shape[0],), dtype=str)\n",
    "c[y <= 50] = \"red\"\n",
    "c[y > 50] = \"green\"\n",
    "\n",
    "plt.bar(list_titles, keys, color=c.tolist())\n",
    "plt.title(\"Association items with Support\", color=\"red\", fontsize=30)\n",
    "plt.ylabel(\"Support\", color=\"red\", fontsize=20)\n",
    "plt.xticks(rotation=85)\n",
    "plt.xlabel(\"Itemsets\", color=\"red\", fontsize=20)\n",
    "plt.show()"
   ]
  },
  {
   "cell_type": "code",
   "execution_count": 47,
   "id": "d01d3c3f",
   "metadata": {
    "ExecuteTime": {
     "end_time": "2022-01-30T12:49:16.124252Z",
     "start_time": "2022-01-30T12:49:16.099356Z"
    }
   },
   "outputs": [
    {
     "name": "stdout",
     "output_type": "stream",
     "text": [
      "organic sausage : False    14941\n",
      "True        22\n",
      "Name: organic sausage, dtype: int64\n",
      "sausage : False    14060\n",
      "True       903\n",
      "Name: sausage, dtype: int64\n"
     ]
    },
    {
     "data": {
      "application/javascript": [
       "\n",
       "            setTimeout(function() {\n",
       "                var nbb_cell_id = 47;\n",
       "                var nbb_unformatted_code = \"# Trong k\\u1ebft qu\\u1ea3 c\\u00f3 sausage & k\\u1ebft h\\u1ee3p v\\u1edbi c\\u00e1c item sau:\\nfor k, v in result.items():\\n    if \\\"sausage\\\" in k:\\n        print(k, \\\":\\\", v)\";\n",
       "                var nbb_formatted_code = \"# Trong k\\u1ebft qu\\u1ea3 c\\u00f3 sausage & k\\u1ebft h\\u1ee3p v\\u1edbi c\\u00e1c item sau:\\nfor k, v in result.items():\\n    if \\\"sausage\\\" in k:\\n        print(k, \\\":\\\", v)\";\n",
       "                var nbb_cells = Jupyter.notebook.get_cells();\n",
       "                for (var i = 0; i < nbb_cells.length; ++i) {\n",
       "                    if (nbb_cells[i].input_prompt_number == nbb_cell_id) {\n",
       "                        if (nbb_cells[i].get_text() == nbb_unformatted_code) {\n",
       "                             nbb_cells[i].set_text(nbb_formatted_code);\n",
       "                        }\n",
       "                        break;\n",
       "                    }\n",
       "                }\n",
       "            }, 500);\n",
       "            "
      ],
      "text/plain": [
       "<IPython.core.display.Javascript object>"
      ]
     },
     "metadata": {},
     "output_type": "display_data"
    }
   ],
   "source": [
    "# Trong kết quả có sausage & kết hợp với các item sau:\n",
    "for k, v in result.items():\n",
    "    if \"sausage\" in k:\n",
    "        print(k, \":\", v)"
   ]
  },
  {
   "cell_type": "markdown",
   "id": "577e0e41",
   "metadata": {},
   "source": [
    "## <p style=\"color:blue\">Nhận xét</p>"
   ]
  },
  {
   "cell_type": "code",
   "execution_count": 33,
   "id": "be3158e3",
   "metadata": {
    "ExecuteTime": {
     "end_time": "2022-01-30T12:48:38.603225Z",
     "start_time": "2022-01-30T12:48:38.589279Z"
    }
   },
   "outputs": [
    {
     "data": {
      "text/plain": [
       "'\\nNhìn chung, việc xây đựng luật kết hợp bằng thuật toán Apriori và Eclat đều cho ra kết quả tốt.\\nTuy nhiên, với tập dataset nhỏ và vừa, có thể áp dụng Eclat chẳng hạn.\\n\\nỞ đây, em sẽ chọn Apriori cho việc build model vì Apriori có khả năng ứng dụng cao, thích hợp với mọi bài toán!\\n'"
      ]
     },
     "execution_count": 33,
     "metadata": {},
     "output_type": "execute_result"
    },
    {
     "data": {
      "application/javascript": [
       "\n",
       "            setTimeout(function() {\n",
       "                var nbb_cell_id = 33;\n",
       "                var nbb_unformatted_code = \"\\\"\\\"\\\"\\nNh\\u00ecn chung, vi\\u1ec7c x\\u00e2y \\u0111\\u1ef1ng lu\\u1eadt k\\u1ebft h\\u1ee3p b\\u1eb1ng thu\\u1eadt to\\u00e1n Apriori v\\u00e0 Eclat \\u0111\\u1ec1u cho ra k\\u1ebft qu\\u1ea3 t\\u1ed1t.\\nTuy nhi\\u00ean, v\\u1edbi t\\u1eadp dataset nh\\u1ecf v\\u00e0 v\\u1eeba, c\\u00f3 th\\u1ec3 \\u00e1p d\\u1ee5ng Eclat ch\\u1eb3ng h\\u1ea1n.\\n\\n\\u1ede \\u0111\\u00e2y, em s\\u1ebd ch\\u1ecdn Apriori cho vi\\u1ec7c build model v\\u00ec Apriori c\\u00f3 kh\\u1ea3 n\\u0103ng \\u1ee9ng d\\u1ee5ng cao, th\\u00edch h\\u1ee3p v\\u1edbi m\\u1ecdi b\\u00e0i to\\u00e1n!\\n\\\"\\\"\\\"\";\n",
       "                var nbb_formatted_code = \"\\\"\\\"\\\"\\nNh\\u00ecn chung, vi\\u1ec7c x\\u00e2y \\u0111\\u1ef1ng lu\\u1eadt k\\u1ebft h\\u1ee3p b\\u1eb1ng thu\\u1eadt to\\u00e1n Apriori v\\u00e0 Eclat \\u0111\\u1ec1u cho ra k\\u1ebft qu\\u1ea3 t\\u1ed1t.\\nTuy nhi\\u00ean, v\\u1edbi t\\u1eadp dataset nh\\u1ecf v\\u00e0 v\\u1eeba, c\\u00f3 th\\u1ec3 \\u00e1p d\\u1ee5ng Eclat ch\\u1eb3ng h\\u1ea1n.\\n\\n\\u1ede \\u0111\\u00e2y, em s\\u1ebd ch\\u1ecdn Apriori cho vi\\u1ec7c build model v\\u00ec Apriori c\\u00f3 kh\\u1ea3 n\\u0103ng \\u1ee9ng d\\u1ee5ng cao, th\\u00edch h\\u1ee3p v\\u1edbi m\\u1ecdi b\\u00e0i to\\u00e1n!\\n\\\"\\\"\\\"\";\n",
       "                var nbb_cells = Jupyter.notebook.get_cells();\n",
       "                for (var i = 0; i < nbb_cells.length; ++i) {\n",
       "                    if (nbb_cells[i].input_prompt_number == nbb_cell_id) {\n",
       "                        if (nbb_cells[i].get_text() == nbb_unformatted_code) {\n",
       "                             nbb_cells[i].set_text(nbb_formatted_code);\n",
       "                        }\n",
       "                        break;\n",
       "                    }\n",
       "                }\n",
       "            }, 500);\n",
       "            "
      ],
      "text/plain": [
       "<IPython.core.display.Javascript object>"
      ]
     },
     "metadata": {},
     "output_type": "display_data"
    }
   ],
   "source": [
    "\"\"\"\n",
    "Nhìn chung, việc xây đựng luật kết hợp bằng thuật toán Apriori và Eclat đều cho ra kết quả tốt.\n",
    "Tuy nhiên, với tập dataset nhỏ và vừa, có thể áp dụng Eclat chẳng hạn.\n",
    "\n",
    "Ở đây, em sẽ chọn Apriori cho việc build model vì Apriori có khả năng ứng dụng cao, thích hợp với mọi bài toán!\n",
    "\"\"\""
   ]
  },
  {
   "cell_type": "markdown",
   "id": "5f28811e",
   "metadata": {},
   "source": [
    "### 15 sản phẩm được mua nhiều nhất. Vẽ biểu đồ."
   ]
  },
  {
   "cell_type": "code",
   "execution_count": 34,
   "id": "065bc0b7",
   "metadata": {
    "ExecuteTime": {
     "end_time": "2022-01-30T12:48:38.725674Z",
     "start_time": "2022-01-30T12:48:38.605221Z"
    }
   },
   "outputs": [
    {
     "data": {
      "text/html": [
       "<div>\n",
       "<style scoped>\n",
       "    .dataframe tbody tr th:only-of-type {\n",
       "        vertical-align: middle;\n",
       "    }\n",
       "\n",
       "    .dataframe tbody tr th {\n",
       "        vertical-align: top;\n",
       "    }\n",
       "\n",
       "    .dataframe thead th {\n",
       "        text-align: right;\n",
       "    }\n",
       "</style>\n",
       "<table border=\"1\" class=\"dataframe\">\n",
       "  <thead>\n",
       "    <tr style=\"text-align: right;\">\n",
       "      <th></th>\n",
       "      <th>Instant food products</th>\n",
       "      <th>UHT-milk</th>\n",
       "      <th>abrasive cleaner</th>\n",
       "      <th>artif. sweetener</th>\n",
       "      <th>baby cosmetics</th>\n",
       "      <th>bags</th>\n",
       "      <th>baking powder</th>\n",
       "      <th>bathroom cleaner</th>\n",
       "      <th>beef</th>\n",
       "      <th>berries</th>\n",
       "      <th>...</th>\n",
       "      <th>turkey</th>\n",
       "      <th>vinegar</th>\n",
       "      <th>waffles</th>\n",
       "      <th>whipped/sour cream</th>\n",
       "      <th>whisky</th>\n",
       "      <th>white bread</th>\n",
       "      <th>white wine</th>\n",
       "      <th>whole milk</th>\n",
       "      <th>yogurt</th>\n",
       "      <th>zwieback</th>\n",
       "    </tr>\n",
       "  </thead>\n",
       "  <tbody>\n",
       "    <tr>\n",
       "      <th>False</th>\n",
       "      <td>14903</td>\n",
       "      <td>14643</td>\n",
       "      <td>14941</td>\n",
       "      <td>14934</td>\n",
       "      <td>14960</td>\n",
       "      <td>14959</td>\n",
       "      <td>14842</td>\n",
       "      <td>14946</td>\n",
       "      <td>14455</td>\n",
       "      <td>14637</td>\n",
       "      <td>...</td>\n",
       "      <td>14883</td>\n",
       "      <td>14912</td>\n",
       "      <td>14686</td>\n",
       "      <td>14309</td>\n",
       "      <td>14955</td>\n",
       "      <td>14604</td>\n",
       "      <td>14788</td>\n",
       "      <td>12600</td>\n",
       "      <td>13678</td>\n",
       "      <td>14903</td>\n",
       "    </tr>\n",
       "    <tr>\n",
       "      <th>True</th>\n",
       "      <td>60</td>\n",
       "      <td>320</td>\n",
       "      <td>22</td>\n",
       "      <td>29</td>\n",
       "      <td>3</td>\n",
       "      <td>4</td>\n",
       "      <td>121</td>\n",
       "      <td>17</td>\n",
       "      <td>508</td>\n",
       "      <td>326</td>\n",
       "      <td>...</td>\n",
       "      <td>80</td>\n",
       "      <td>51</td>\n",
       "      <td>277</td>\n",
       "      <td>654</td>\n",
       "      <td>8</td>\n",
       "      <td>359</td>\n",
       "      <td>175</td>\n",
       "      <td>2363</td>\n",
       "      <td>1285</td>\n",
       "      <td>60</td>\n",
       "    </tr>\n",
       "  </tbody>\n",
       "</table>\n",
       "<p>2 rows × 167 columns</p>\n",
       "</div>"
      ],
      "text/plain": [
       "       Instant food products  UHT-milk  abrasive cleaner  artif. sweetener  \\\n",
       "False                  14903     14643             14941             14934   \n",
       "True                      60       320                22                29   \n",
       "\n",
       "       baby cosmetics   bags  baking powder  bathroom cleaner   beef  berries  \\\n",
       "False           14960  14959          14842             14946  14455    14637   \n",
       "True                3      4            121                17    508      326   \n",
       "\n",
       "       ...  turkey  vinegar  waffles  whipped/sour cream  whisky  white bread  \\\n",
       "False  ...   14883    14912    14686               14309   14955        14604   \n",
       "True   ...      80       51      277                 654       8          359   \n",
       "\n",
       "       white wine  whole milk  yogurt  zwieback  \n",
       "False       14788       12600   13678     14903  \n",
       "True          175        2363    1285        60  \n",
       "\n",
       "[2 rows x 167 columns]"
      ]
     },
     "execution_count": 34,
     "metadata": {},
     "output_type": "execute_result"
    },
    {
     "data": {
      "application/javascript": [
       "\n",
       "            setTimeout(function() {\n",
       "                var nbb_cell_id = 34;\n",
       "                var nbb_unformatted_code = \"result = df_new2.apply(pd.value_counts).fillna(0)\\nresult\";\n",
       "                var nbb_formatted_code = \"result = df_new2.apply(pd.value_counts).fillna(0)\\nresult\";\n",
       "                var nbb_cells = Jupyter.notebook.get_cells();\n",
       "                for (var i = 0; i < nbb_cells.length; ++i) {\n",
       "                    if (nbb_cells[i].input_prompt_number == nbb_cell_id) {\n",
       "                        if (nbb_cells[i].get_text() == nbb_unformatted_code) {\n",
       "                             nbb_cells[i].set_text(nbb_formatted_code);\n",
       "                        }\n",
       "                        break;\n",
       "                    }\n",
       "                }\n",
       "            }, 500);\n",
       "            "
      ],
      "text/plain": [
       "<IPython.core.display.Javascript object>"
      ]
     },
     "metadata": {},
     "output_type": "display_data"
    }
   ],
   "source": [
    "result = df_new2.apply(pd.value_counts).fillna(0)\n",
    "result"
   ]
  },
  {
   "cell_type": "code",
   "execution_count": 35,
   "id": "847e5b34",
   "metadata": {
    "ExecuteTime": {
     "end_time": "2022-01-30T12:48:38.740634Z",
     "start_time": "2022-01-30T12:48:38.727667Z"
    }
   },
   "outputs": [
    {
     "data": {
      "text/plain": [
       "Instant food products     60\n",
       "UHT-milk                 320\n",
       "abrasive cleaner          22\n",
       "artif. sweetener          29\n",
       "baby cosmetics             3\n",
       "bags                       4\n",
       "baking powder            121\n",
       "bathroom cleaner          17\n",
       "beef                     508\n",
       "berries                  326\n",
       "Name: True, dtype: int64"
      ]
     },
     "execution_count": 35,
     "metadata": {},
     "output_type": "execute_result"
    },
    {
     "data": {
      "application/javascript": [
       "\n",
       "            setTimeout(function() {\n",
       "                var nbb_cell_id = 35;\n",
       "                var nbb_unformatted_code = \"df_true = result.iloc[1, :]\\ndf_true[:10]\";\n",
       "                var nbb_formatted_code = \"df_true = result.iloc[1, :]\\ndf_true[:10]\";\n",
       "                var nbb_cells = Jupyter.notebook.get_cells();\n",
       "                for (var i = 0; i < nbb_cells.length; ++i) {\n",
       "                    if (nbb_cells[i].input_prompt_number == nbb_cell_id) {\n",
       "                        if (nbb_cells[i].get_text() == nbb_unformatted_code) {\n",
       "                             nbb_cells[i].set_text(nbb_formatted_code);\n",
       "                        }\n",
       "                        break;\n",
       "                    }\n",
       "                }\n",
       "            }, 500);\n",
       "            "
      ],
      "text/plain": [
       "<IPython.core.display.Javascript object>"
      ]
     },
     "metadata": {},
     "output_type": "display_data"
    }
   ],
   "source": [
    "df_true = result.iloc[1, :]\n",
    "df_true[:10]"
   ]
  },
  {
   "cell_type": "code",
   "execution_count": 36,
   "id": "48c862a3",
   "metadata": {
    "ExecuteTime": {
     "end_time": "2022-01-30T12:48:38.756592Z",
     "start_time": "2022-01-30T12:48:38.742629Z"
    }
   },
   "outputs": [
    {
     "data": {
      "text/plain": [
       "whole milk               2363\n",
       "other vegetables         1827\n",
       "rolls/buns               1646\n",
       "soda                     1453\n",
       "yogurt                   1285\n",
       "                         ... \n",
       "rubbing alcohol             5\n",
       "bags                        4\n",
       "baby cosmetics              3\n",
       "kitchen utensil             1\n",
       "preservation products       1\n",
       "Name: True, Length: 167, dtype: int64"
      ]
     },
     "execution_count": 36,
     "metadata": {},
     "output_type": "execute_result"
    },
    {
     "data": {
      "application/javascript": [
       "\n",
       "            setTimeout(function() {\n",
       "                var nbb_cell_id = 36;\n",
       "                var nbb_unformatted_code = \"x = df_true.sort_values(ascending=False)\\nx\";\n",
       "                var nbb_formatted_code = \"x = df_true.sort_values(ascending=False)\\nx\";\n",
       "                var nbb_cells = Jupyter.notebook.get_cells();\n",
       "                for (var i = 0; i < nbb_cells.length; ++i) {\n",
       "                    if (nbb_cells[i].input_prompt_number == nbb_cell_id) {\n",
       "                        if (nbb_cells[i].get_text() == nbb_unformatted_code) {\n",
       "                             nbb_cells[i].set_text(nbb_formatted_code);\n",
       "                        }\n",
       "                        break;\n",
       "                    }\n",
       "                }\n",
       "            }, 500);\n",
       "            "
      ],
      "text/plain": [
       "<IPython.core.display.Javascript object>"
      ]
     },
     "metadata": {},
     "output_type": "display_data"
    }
   ],
   "source": [
    "x = df_true.sort_values(ascending=False)\n",
    "x"
   ]
  },
  {
   "cell_type": "code",
   "execution_count": 37,
   "id": "a6b8216a",
   "metadata": {
    "ExecuteTime": {
     "end_time": "2022-01-30T12:48:38.771553Z",
     "start_time": "2022-01-30T12:48:38.757589Z"
    }
   },
   "outputs": [
    {
     "data": {
      "text/plain": [
       "whole milk          2363\n",
       "other vegetables    1827\n",
       "rolls/buns          1646\n",
       "soda                1453\n",
       "yogurt              1285\n",
       "root vegetables     1041\n",
       "tropical fruit      1014\n",
       "bottled water        908\n",
       "sausage              903\n",
       "citrus fruit         795\n",
       "pastry               774\n",
       "pip fruit            734\n",
       "shopping bags        712\n",
       "canned beer          702\n",
       "bottled beer         678\n",
       "Name: True, dtype: int64"
      ]
     },
     "execution_count": 37,
     "metadata": {},
     "output_type": "execute_result"
    },
    {
     "data": {
      "application/javascript": [
       "\n",
       "            setTimeout(function() {\n",
       "                var nbb_cell_id = 37;\n",
       "                var nbb_unformatted_code = \"best_products = x[:15]\\nbest_products\";\n",
       "                var nbb_formatted_code = \"best_products = x[:15]\\nbest_products\";\n",
       "                var nbb_cells = Jupyter.notebook.get_cells();\n",
       "                for (var i = 0; i < nbb_cells.length; ++i) {\n",
       "                    if (nbb_cells[i].input_prompt_number == nbb_cell_id) {\n",
       "                        if (nbb_cells[i].get_text() == nbb_unformatted_code) {\n",
       "                             nbb_cells[i].set_text(nbb_formatted_code);\n",
       "                        }\n",
       "                        break;\n",
       "                    }\n",
       "                }\n",
       "            }, 500);\n",
       "            "
      ],
      "text/plain": [
       "<IPython.core.display.Javascript object>"
      ]
     },
     "metadata": {},
     "output_type": "display_data"
    }
   ],
   "source": [
    "best_products = x[:15]\n",
    "best_products"
   ]
  },
  {
   "cell_type": "code",
   "execution_count": 38,
   "id": "3cb591d7",
   "metadata": {
    "ExecuteTime": {
     "end_time": "2022-01-30T12:48:38.787508Z",
     "start_time": "2022-01-30T12:48:38.772551Z"
    }
   },
   "outputs": [
    {
     "data": {
      "application/javascript": [
       "\n",
       "            setTimeout(function() {\n",
       "                var nbb_cell_id = 38;\n",
       "                var nbb_unformatted_code = \"pos = np.arange(len(best_products.values))\";\n",
       "                var nbb_formatted_code = \"pos = np.arange(len(best_products.values))\";\n",
       "                var nbb_cells = Jupyter.notebook.get_cells();\n",
       "                for (var i = 0; i < nbb_cells.length; ++i) {\n",
       "                    if (nbb_cells[i].input_prompt_number == nbb_cell_id) {\n",
       "                        if (nbb_cells[i].get_text() == nbb_unformatted_code) {\n",
       "                             nbb_cells[i].set_text(nbb_formatted_code);\n",
       "                        }\n",
       "                        break;\n",
       "                    }\n",
       "                }\n",
       "            }, 500);\n",
       "            "
      ],
      "text/plain": [
       "<IPython.core.display.Javascript object>"
      ]
     },
     "metadata": {},
     "output_type": "display_data"
    }
   ],
   "source": [
    "pos = np.arange(len(best_products.values))"
   ]
  },
  {
   "cell_type": "code",
   "execution_count": 39,
   "id": "5d4f7a93",
   "metadata": {
    "ExecuteTime": {
     "end_time": "2022-01-30T12:48:38.802468Z",
     "start_time": "2022-01-30T12:48:38.790501Z"
    }
   },
   "outputs": [
    {
     "data": {
      "text/plain": [
       "Index(['whole milk', 'other vegetables', 'rolls/buns', 'soda', 'yogurt',\n",
       "       'root vegetables', 'tropical fruit', 'bottled water', 'sausage',\n",
       "       'citrus fruit', 'pastry', 'pip fruit', 'shopping bags', 'canned beer',\n",
       "       'bottled beer'],\n",
       "      dtype='object')"
      ]
     },
     "execution_count": 39,
     "metadata": {},
     "output_type": "execute_result"
    },
    {
     "data": {
      "application/javascript": [
       "\n",
       "            setTimeout(function() {\n",
       "                var nbb_cell_id = 39;\n",
       "                var nbb_unformatted_code = \"best_products.index\";\n",
       "                var nbb_formatted_code = \"best_products.index\";\n",
       "                var nbb_cells = Jupyter.notebook.get_cells();\n",
       "                for (var i = 0; i < nbb_cells.length; ++i) {\n",
       "                    if (nbb_cells[i].input_prompt_number == nbb_cell_id) {\n",
       "                        if (nbb_cells[i].get_text() == nbb_unformatted_code) {\n",
       "                             nbb_cells[i].set_text(nbb_formatted_code);\n",
       "                        }\n",
       "                        break;\n",
       "                    }\n",
       "                }\n",
       "            }, 500);\n",
       "            "
      ],
      "text/plain": [
       "<IPython.core.display.Javascript object>"
      ]
     },
     "metadata": {},
     "output_type": "display_data"
    }
   ],
   "source": [
    "best_products.index"
   ]
  },
  {
   "cell_type": "code",
   "execution_count": 40,
   "id": "7b05923b",
   "metadata": {
    "ExecuteTime": {
     "end_time": "2022-01-30T12:48:38.987210Z",
     "start_time": "2022-01-30T12:48:38.804463Z"
    }
   },
   "outputs": [
    {
     "data": {
      "text/plain": [
       "Text(0.5, 1.0, 'Top 15 Selling Products')"
      ]
     },
     "execution_count": 40,
     "metadata": {},
     "output_type": "execute_result"
    },
    {
     "data": {
      "image/png": "[encoded data removed]",
      "text/plain": [
       "<Figure size 1080x432 with 1 Axes>"
      ]
     },
     "metadata": {
      "needs_background": "light"
     },
     "output_type": "display_data"
    },
    {
     "data": {
      "application/javascript": [
       "\n",
       "            setTimeout(function() {\n",
       "                var nbb_cell_id = 40;\n",
       "                var nbb_unformatted_code = \"plt.figure(figsize=(15,6))\\nplt.bar(pos, best_products.values, align='center')\\nplt.xticks(pos, best_products.keys(), rotation=30)\\nplt.ylabel('Buying Times', fontsize=15)\\nplt.xlabel('Names', fontsize=15)\\nplt.title('Top 15 Selling Products', fontsize=20)\";\n",
       "                var nbb_formatted_code = \"plt.figure(figsize=(15, 6))\\nplt.bar(pos, best_products.values, align=\\\"center\\\")\\nplt.xticks(pos, best_products.keys(), rotation=30)\\nplt.ylabel(\\\"Buying Times\\\", fontsize=15)\\nplt.xlabel(\\\"Names\\\", fontsize=15)\\nplt.title(\\\"Top 15 Selling Products\\\", fontsize=20)\";\n",
       "                var nbb_cells = Jupyter.notebook.get_cells();\n",
       "                for (var i = 0; i < nbb_cells.length; ++i) {\n",
       "                    if (nbb_cells[i].input_prompt_number == nbb_cell_id) {\n",
       "                        if (nbb_cells[i].get_text() == nbb_unformatted_code) {\n",
       "                             nbb_cells[i].set_text(nbb_formatted_code);\n",
       "                        }\n",
       "                        break;\n",
       "                    }\n",
       "                }\n",
       "            }, 500);\n",
       "            "
      ],
      "text/plain": [
       "<IPython.core.display.Javascript object>"
      ]
     },
     "metadata": {},
     "output_type": "display_data"
    }
   ],
   "source": [
    "plt.figure(figsize=(15,6))\n",
    "plt.bar(pos, best_products.values, align='center')\n",
    "plt.xticks(pos, best_products.keys(), rotation=30)\n",
    "plt.ylabel('Buying Times', fontsize=15)\n",
    "plt.xlabel('Names', fontsize=15)\n",
    "plt.title('Top 15 Selling Products', fontsize=20)\n"
   ]
  },
  {
   "cell_type": "code",
   "execution_count": 41,
   "id": "995d531b",
   "metadata": {
    "ExecuteTime": {
     "end_time": "2022-01-30T12:48:39.002492Z",
     "start_time": "2022-01-30T12:48:38.988972Z"
    }
   },
   "outputs": [
    {
     "data": {
      "text/plain": [
       "Index(['whole milk', 'other vegetables', 'rolls/buns', 'soda', 'yogurt',\n",
       "       'root vegetables', 'tropical fruit', 'bottled water', 'sausage',\n",
       "       'citrus fruit', 'pastry', 'pip fruit', 'shopping bags', 'canned beer',\n",
       "       'bottled beer'],\n",
       "      dtype='object')"
      ]
     },
     "execution_count": 41,
     "metadata": {},
     "output_type": "execute_result"
    },
    {
     "data": {
      "application/javascript": [
       "\n",
       "            setTimeout(function() {\n",
       "                var nbb_cell_id = 41;\n",
       "                var nbb_unformatted_code = \"best_products.index\";\n",
       "                var nbb_formatted_code = \"best_products.index\";\n",
       "                var nbb_cells = Jupyter.notebook.get_cells();\n",
       "                for (var i = 0; i < nbb_cells.length; ++i) {\n",
       "                    if (nbb_cells[i].input_prompt_number == nbb_cell_id) {\n",
       "                        if (nbb_cells[i].get_text() == nbb_unformatted_code) {\n",
       "                             nbb_cells[i].set_text(nbb_formatted_code);\n",
       "                        }\n",
       "                        break;\n",
       "                    }\n",
       "                }\n",
       "            }, 500);\n",
       "            "
      ],
      "text/plain": [
       "<IPython.core.display.Javascript object>"
      ]
     },
     "metadata": {},
     "output_type": "display_data"
    }
   ],
   "source": [
    "best_products.index"
   ]
  },
  {
   "cell_type": "markdown",
   "id": "5049bee4",
   "metadata": {},
   "source": [
    "## <p style=\"color:blue\">Nhận xét</p>"
   ]
  },
  {
   "cell_type": "code",
   "execution_count": 42,
   "id": "86444540",
   "metadata": {
    "ExecuteTime": {
     "end_time": "2022-01-30T12:48:39.018469Z",
     "start_time": "2022-01-30T12:48:39.004474Z"
    }
   },
   "outputs": [
    {
     "data": {
      "text/plain": [
       "\"\\nTừ số liệu và trực quan, ta thấy: \\n        'whole milk', 'other vegetables', 'rolls/buns', 'soda', 'yogurt',\\n       'root vegetables', 'tropical fruit', 'bottled water', 'sausage',\\n       'citrus fruit', 'pastry', 'pip fruit', 'shopping bags', 'canned beer',\\n       'bottled beer'\\n       \\nlà 15 sản phẩm bán chạy nhất\\n\""
      ]
     },
     "execution_count": 42,
     "metadata": {},
     "output_type": "execute_result"
    },
    {
     "data": {
      "application/javascript": [
       "\n",
       "            setTimeout(function() {\n",
       "                var nbb_cell_id = 42;\n",
       "                var nbb_unformatted_code = \"\\\"\\\"\\\"\\nT\\u1eeb s\\u1ed1 li\\u1ec7u v\\u00e0 tr\\u1ef1c quan, ta th\\u1ea5y: \\n        'whole milk', 'other vegetables', 'rolls/buns', 'soda', 'yogurt',\\n       'root vegetables', 'tropical fruit', 'bottled water', 'sausage',\\n       'citrus fruit', 'pastry', 'pip fruit', 'shopping bags', 'canned beer',\\n       'bottled beer'\\n       \\nl\\u00e0 15 s\\u1ea3n ph\\u1ea9m b\\u00e1n ch\\u1ea1y nh\\u1ea5t\\n\\\"\\\"\\\"\";\n",
       "                var nbb_formatted_code = \"\\\"\\\"\\\"\\nT\\u1eeb s\\u1ed1 li\\u1ec7u v\\u00e0 tr\\u1ef1c quan, ta th\\u1ea5y: \\n        'whole milk', 'other vegetables', 'rolls/buns', 'soda', 'yogurt',\\n       'root vegetables', 'tropical fruit', 'bottled water', 'sausage',\\n       'citrus fruit', 'pastry', 'pip fruit', 'shopping bags', 'canned beer',\\n       'bottled beer'\\n       \\nl\\u00e0 15 s\\u1ea3n ph\\u1ea9m b\\u00e1n ch\\u1ea1y nh\\u1ea5t\\n\\\"\\\"\\\"\";\n",
       "                var nbb_cells = Jupyter.notebook.get_cells();\n",
       "                for (var i = 0; i < nbb_cells.length; ++i) {\n",
       "                    if (nbb_cells[i].input_prompt_number == nbb_cell_id) {\n",
       "                        if (nbb_cells[i].get_text() == nbb_unformatted_code) {\n",
       "                             nbb_cells[i].set_text(nbb_formatted_code);\n",
       "                        }\n",
       "                        break;\n",
       "                    }\n",
       "                }\n",
       "            }, 500);\n",
       "            "
      ],
      "text/plain": [
       "<IPython.core.display.Javascript object>"
      ]
     },
     "metadata": {},
     "output_type": "display_data"
    }
   ],
   "source": [
    "\"\"\"\n",
    "Từ số liệu và trực quan, ta thấy: \n",
    "        'whole milk', 'other vegetables', 'rolls/buns', 'soda', 'yogurt',\n",
    "       'root vegetables', 'tropical fruit', 'bottled water', 'sausage',\n",
    "       'citrus fruit', 'pastry', 'pip fruit', 'shopping bags', 'canned beer',\n",
    "       'bottled beer'\n",
    "       \n",
    "là 15 sản phẩm bán chạy nhất\n",
    "\"\"\""
   ]
  },
  {
   "cell_type": "markdown",
   "id": "941c809b",
   "metadata": {},
   "source": [
    "### Cho biết 15 sản phẩm được mua ít nhất. Vẽ biểu đồ."
   ]
  },
  {
   "cell_type": "code",
   "execution_count": 43,
   "id": "475791b3",
   "metadata": {
    "ExecuteTime": {
     "end_time": "2022-01-30T12:48:39.034392Z",
     "start_time": "2022-01-30T12:48:39.020435Z"
    }
   },
   "outputs": [
    {
     "data": {
      "text/plain": [
       "specialty vegetables     11\n",
       "organic products         10\n",
       "decalcifier               9\n",
       "hair spray                9\n",
       "liqueur                   9\n",
       "whisky                    8\n",
       "salad dressing            6\n",
       "make up remover           5\n",
       "toilet cleaner            5\n",
       "frozen chicken            5\n",
       "rubbing alcohol           5\n",
       "bags                      4\n",
       "baby cosmetics            3\n",
       "kitchen utensil           1\n",
       "preservation products     1\n",
       "Name: True, dtype: int64"
      ]
     },
     "execution_count": 43,
     "metadata": {},
     "output_type": "execute_result"
    },
    {
     "data": {
      "application/javascript": [
       "\n",
       "            setTimeout(function() {\n",
       "                var nbb_cell_id = 43;\n",
       "                var nbb_unformatted_code = \"worst_products = x[-15:]\\nworst_products\";\n",
       "                var nbb_formatted_code = \"worst_products = x[-15:]\\nworst_products\";\n",
       "                var nbb_cells = Jupyter.notebook.get_cells();\n",
       "                for (var i = 0; i < nbb_cells.length; ++i) {\n",
       "                    if (nbb_cells[i].input_prompt_number == nbb_cell_id) {\n",
       "                        if (nbb_cells[i].get_text() == nbb_unformatted_code) {\n",
       "                             nbb_cells[i].set_text(nbb_formatted_code);\n",
       "                        }\n",
       "                        break;\n",
       "                    }\n",
       "                }\n",
       "            }, 500);\n",
       "            "
      ],
      "text/plain": [
       "<IPython.core.display.Javascript object>"
      ]
     },
     "metadata": {},
     "output_type": "display_data"
    }
   ],
   "source": [
    "worst_products = x[-15:]\n",
    "worst_products"
   ]
  },
  {
   "cell_type": "code",
   "execution_count": 44,
   "id": "22645a93",
   "metadata": {
    "ExecuteTime": {
     "end_time": "2022-01-30T12:48:39.219061Z",
     "start_time": "2022-01-30T12:48:39.035390Z"
    }
   },
   "outputs": [
    {
     "data": {
      "text/plain": [
       "Text(0.5, 1.0, '15 Worst Selling Products')"
      ]
     },
     "execution_count": 44,
     "metadata": {},
     "output_type": "execute_result"
    },
    {
     "data": {
      "image/png": "[encoded data removed]",
      "text/plain": [
       "<Figure size 1080x432 with 1 Axes>"
      ]
     },
     "metadata": {
      "needs_background": "light"
     },
     "output_type": "display_data"
    },
    {
     "data": {
      "application/javascript": [
       "\n",
       "            setTimeout(function() {\n",
       "                var nbb_cell_id = 44;\n",
       "                var nbb_unformatted_code = \"plt.figure(figsize=(15,6))\\nplt.bar(pos, worst_products.values, align='center')\\nplt.xticks(pos, worst_products.keys(), rotation=30)\\nplt.ylabel('Buying Times', fontsize=15)\\nplt.xlabel('Names', fontsize=15)\\nplt.title('15 Worst Selling Products', fontsize=20)\";\n",
       "                var nbb_formatted_code = \"plt.figure(figsize=(15, 6))\\nplt.bar(pos, worst_products.values, align=\\\"center\\\")\\nplt.xticks(pos, worst_products.keys(), rotation=30)\\nplt.ylabel(\\\"Buying Times\\\", fontsize=15)\\nplt.xlabel(\\\"Names\\\", fontsize=15)\\nplt.title(\\\"15 Worst Selling Products\\\", fontsize=20)\";\n",
       "                var nbb_cells = Jupyter.notebook.get_cells();\n",
       "                for (var i = 0; i < nbb_cells.length; ++i) {\n",
       "                    if (nbb_cells[i].input_prompt_number == nbb_cell_id) {\n",
       "                        if (nbb_cells[i].get_text() == nbb_unformatted_code) {\n",
       "                             nbb_cells[i].set_text(nbb_formatted_code);\n",
       "                        }\n",
       "                        break;\n",
       "                    }\n",
       "                }\n",
       "            }, 500);\n",
       "            "
      ],
      "text/plain": [
       "<IPython.core.display.Javascript object>"
      ]
     },
     "metadata": {},
     "output_type": "display_data"
    }
   ],
   "source": [
    "plt.figure(figsize=(15,6))\n",
    "plt.bar(pos, worst_products.values, align='center')\n",
    "plt.xticks(pos, worst_products.keys(), rotation=30)\n",
    "plt.ylabel('Buying Times', fontsize=15)\n",
    "plt.xlabel('Names', fontsize=15)\n",
    "plt.title('15 Worst Selling Products', fontsize=20)\n"
   ]
  },
  {
   "cell_type": "code",
   "execution_count": 45,
   "id": "509f0b2a",
   "metadata": {
    "ExecuteTime": {
     "end_time": "2022-01-30T12:48:39.234814Z",
     "start_time": "2022-01-30T12:48:39.220841Z"
    }
   },
   "outputs": [
    {
     "data": {
      "text/plain": [
       "Index(['specialty vegetables', 'organic products', 'decalcifier', 'hair spray',\n",
       "       'liqueur', 'whisky', 'salad dressing', 'make up remover',\n",
       "       'toilet cleaner', 'frozen chicken', 'rubbing alcohol', 'bags',\n",
       "       'baby cosmetics', 'kitchen utensil', 'preservation products'],\n",
       "      dtype='object')"
      ]
     },
     "execution_count": 45,
     "metadata": {},
     "output_type": "execute_result"
    },
    {
     "data": {
      "application/javascript": [
       "\n",
       "            setTimeout(function() {\n",
       "                var nbb_cell_id = 45;\n",
       "                var nbb_unformatted_code = \"worst_products.index\";\n",
       "                var nbb_formatted_code = \"worst_products.index\";\n",
       "                var nbb_cells = Jupyter.notebook.get_cells();\n",
       "                for (var i = 0; i < nbb_cells.length; ++i) {\n",
       "                    if (nbb_cells[i].input_prompt_number == nbb_cell_id) {\n",
       "                        if (nbb_cells[i].get_text() == nbb_unformatted_code) {\n",
       "                             nbb_cells[i].set_text(nbb_formatted_code);\n",
       "                        }\n",
       "                        break;\n",
       "                    }\n",
       "                }\n",
       "            }, 500);\n",
       "            "
      ],
      "text/plain": [
       "<IPython.core.display.Javascript object>"
      ]
     },
     "metadata": {},
     "output_type": "display_data"
    }
   ],
   "source": [
    "worst_products.index"
   ]
  },
  {
   "cell_type": "markdown",
   "id": "73098879",
   "metadata": {},
   "source": [
    "## <p style=\"color:blue\">Nhận xét</p>"
   ]
  },
  {
   "cell_type": "code",
   "execution_count": 46,
   "id": "e9c9561e",
   "metadata": {
    "ExecuteTime": {
     "end_time": "2022-01-30T12:48:39.250763Z",
     "start_time": "2022-01-30T12:48:39.236800Z"
    }
   },
   "outputs": [
    {
     "data": {
      "text/plain": [
       "\"\\nTừ số liệu và trực quan, ta thấy\\n    'specialty vegetables', 'organic products', 'decalcifier', 'hair spray',\\n       'liqueur', 'whisky', 'salad dressing', 'make up remover',\\n       'toilet cleaner', 'frozen chicken', 'rubbing alcohol', 'bags',\\n       'baby cosmetics', 'kitchen utensil', 'preservation products'\\nlà 15 sản phẩm được mua ít nhất.\\n\""
      ]
     },
     "execution_count": 46,
     "metadata": {},
     "output_type": "execute_result"
    },
    {
     "data": {
      "application/javascript": [
       "\n",
       "            setTimeout(function() {\n",
       "                var nbb_cell_id = 46;\n",
       "                var nbb_unformatted_code = \"\\\"\\\"\\\"\\nT\\u1eeb s\\u1ed1 li\\u1ec7u v\\u00e0 tr\\u1ef1c quan, ta th\\u1ea5y\\n    'specialty vegetables', 'organic products', 'decalcifier', 'hair spray',\\n       'liqueur', 'whisky', 'salad dressing', 'make up remover',\\n       'toilet cleaner', 'frozen chicken', 'rubbing alcohol', 'bags',\\n       'baby cosmetics', 'kitchen utensil', 'preservation products'\\nl\\u00e0 15 s\\u1ea3n ph\\u1ea9m \\u0111\\u01b0\\u1ee3c mua \\u00edt nh\\u1ea5t.\\n\\\"\\\"\\\"\";\n",
       "                var nbb_formatted_code = \"\\\"\\\"\\\"\\nT\\u1eeb s\\u1ed1 li\\u1ec7u v\\u00e0 tr\\u1ef1c quan, ta th\\u1ea5y\\n    'specialty vegetables', 'organic products', 'decalcifier', 'hair spray',\\n       'liqueur', 'whisky', 'salad dressing', 'make up remover',\\n       'toilet cleaner', 'frozen chicken', 'rubbing alcohol', 'bags',\\n       'baby cosmetics', 'kitchen utensil', 'preservation products'\\nl\\u00e0 15 s\\u1ea3n ph\\u1ea9m \\u0111\\u01b0\\u1ee3c mua \\u00edt nh\\u1ea5t.\\n\\\"\\\"\\\"\";\n",
       "                var nbb_cells = Jupyter.notebook.get_cells();\n",
       "                for (var i = 0; i < nbb_cells.length; ++i) {\n",
       "                    if (nbb_cells[i].input_prompt_number == nbb_cell_id) {\n",
       "                        if (nbb_cells[i].get_text() == nbb_unformatted_code) {\n",
       "                             nbb_cells[i].set_text(nbb_formatted_code);\n",
       "                        }\n",
       "                        break;\n",
       "                    }\n",
       "                }\n",
       "            }, 500);\n",
       "            "
      ],
      "text/plain": [
       "<IPython.core.display.Javascript object>"
      ]
     },
     "metadata": {},
     "output_type": "display_data"
    }
   ],
   "source": [
    "\"\"\"\n",
    "Từ số liệu và trực quan, ta thấy\n",
    "    'specialty vegetables', 'organic products', 'decalcifier', 'hair spray',\n",
    "       'liqueur', 'whisky', 'salad dressing', 'make up remover',\n",
    "       'toilet cleaner', 'frozen chicken', 'rubbing alcohol', 'bags',\n",
    "       'baby cosmetics', 'kitchen utensil', 'preservation products'\n",
    "là 15 sản phẩm được mua ít nhất.\n",
    "\"\"\""
   ]
  },
  {
   "cell_type": "code",
   "execution_count": null,
   "id": "d3b24fc9",
   "metadata": {},
   "outputs": [],
   "source": []
  }
 ],
 "metadata": {
  "kernelspec": {
   "display_name": "Python 3 (ipykernel)",
   "language": "python",
   "name": "python3"
  },
  "language_info": {
   "codemirror_mode": {
    "name": "ipython",
    "version": 3
   },
   "file_extension": ".py",
   "mimetype": "text/x-python",
   "name": "python",
   "nbconvert_exporter": "python",
   "pygments_lexer": "ipython3",
   "version": "3.9.7"
  }
 },
 "nbformat": 4,
 "nbformat_minor": 5
}
