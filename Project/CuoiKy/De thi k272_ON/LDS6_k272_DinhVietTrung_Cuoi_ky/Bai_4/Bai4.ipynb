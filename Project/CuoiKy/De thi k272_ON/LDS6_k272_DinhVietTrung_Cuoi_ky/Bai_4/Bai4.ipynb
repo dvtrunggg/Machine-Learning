{
 "cells": [
  {
   "cell_type": "code",
   "execution_count": 154,
   "id": "25b26913",
   "metadata": {
    "ExecuteTime": {
     "end_time": "2022-01-29T21:18:16.758772Z",
     "start_time": "2022-01-29T21:18:16.735834Z"
    }
   },
   "outputs": [
    {
     "data": {
      "application/javascript": [
       "\n",
       "            setTimeout(function() {\n",
       "                var nbb_cell_id = 154;\n",
       "                var nbb_unformatted_code = \"import pandas as pd\\nimport matplotlib.pyplot as plt\\nimport numpy as np\\nimport warnings\\nimport seaborn as sns\\nimport datetime\\nfrom sklearn.metrics import mean_squared_error\\n\\nfrom scipy.stats import chi2_contingency\\nfrom scipy.stats import chi2\\nfrom scipy.stats import iqr\\nfrom statsmodels.formula.api import ols\\nfrom statsmodels.stats.multicomp import pairwise_tukeyhsd\\nfrom sklearn.metrics import mean_absolute_error, mean_squared_error\\nimport statsmodels.api as sm\";\n",
       "                var nbb_formatted_code = \"import pandas as pd\\nimport matplotlib.pyplot as plt\\nimport numpy as np\\nimport warnings\\nimport seaborn as sns\\nimport datetime\\nfrom sklearn.metrics import mean_squared_error\\n\\nfrom scipy.stats import chi2_contingency\\nfrom scipy.stats import chi2\\nfrom scipy.stats import iqr\\nfrom statsmodels.formula.api import ols\\nfrom statsmodels.stats.multicomp import pairwise_tukeyhsd\\nfrom sklearn.metrics import mean_absolute_error, mean_squared_error\\nimport statsmodels.api as sm\";\n",
       "                var nbb_cells = Jupyter.notebook.get_cells();\n",
       "                for (var i = 0; i < nbb_cells.length; ++i) {\n",
       "                    if (nbb_cells[i].input_prompt_number == nbb_cell_id) {\n",
       "                        if (nbb_cells[i].get_text() == nbb_unformatted_code) {\n",
       "                             nbb_cells[i].set_text(nbb_formatted_code);\n",
       "                        }\n",
       "                        break;\n",
       "                    }\n",
       "                }\n",
       "            }, 500);\n",
       "            "
      ],
      "text/plain": [
       "<IPython.core.display.Javascript object>"
      ]
     },
     "metadata": {},
     "output_type": "display_data"
    }
   ],
   "source": [
    "import pandas as pd\n",
    "import matplotlib.pyplot as plt\n",
    "import numpy as np\n",
    "import warnings\n",
    "import seaborn as sns\n",
    "import datetime\n",
    "from sklearn.metrics import mean_squared_error\n",
    "\n",
    "from scipy.stats import chi2_contingency\n",
    "from scipy.stats import chi2\n",
    "from scipy.stats import iqr\n",
    "from statsmodels.formula.api import ols\n",
    "from statsmodels.stats.multicomp import pairwise_tukeyhsd\n",
    "from sklearn.metrics import mean_absolute_error, mean_squared_error\n",
    "import statsmodels.api as sm\n",
    "\n"
   ]
  },
  {
   "cell_type": "code",
   "execution_count": 2,
   "id": "8f385731",
   "metadata": {
    "ExecuteTime": {
     "end_time": "2022-01-29T17:23:58.292682Z",
     "start_time": "2022-01-29T17:23:58.168630Z"
    }
   },
   "outputs": [
    {
     "data": {
      "application/javascript": [
       "\n",
       "            setTimeout(function() {\n",
       "                var nbb_cell_id = 2;\n",
       "                var nbb_unformatted_code = \"warnings.filterwarnings(\\\"ignore\\\")\\n%load_ext nb_black\";\n",
       "                var nbb_formatted_code = \"warnings.filterwarnings(\\\"ignore\\\")\\n%load_ext nb_black\";\n",
       "                var nbb_cells = Jupyter.notebook.get_cells();\n",
       "                for (var i = 0; i < nbb_cells.length; ++i) {\n",
       "                    if (nbb_cells[i].input_prompt_number == nbb_cell_id) {\n",
       "                        if (nbb_cells[i].get_text() == nbb_unformatted_code) {\n",
       "                             nbb_cells[i].set_text(nbb_formatted_code);\n",
       "                        }\n",
       "                        break;\n",
       "                    }\n",
       "                }\n",
       "            }, 500);\n",
       "            "
      ],
      "text/plain": [
       "<IPython.core.display.Javascript object>"
      ]
     },
     "metadata": {},
     "output_type": "display_data"
    }
   ],
   "source": [
    "warnings.filterwarnings(\"ignore\")\n",
    "%load_ext nb_black"
   ]
  },
  {
   "cell_type": "code",
   "execution_count": 105,
   "id": "a3ca26eb",
   "metadata": {
    "ExecuteTime": {
     "end_time": "2022-01-29T18:06:55.807093Z",
     "start_time": "2022-01-29T18:06:55.783127Z"
    }
   },
   "outputs": [
    {
     "data": {
      "application/javascript": [
       "\n",
       "            setTimeout(function() {\n",
       "                var nbb_cell_id = 105;\n",
       "                var nbb_unformatted_code = \"df = pd.read_excel(\\\"champagne_new.xlsx\\\", index_col=0)\";\n",
       "                var nbb_formatted_code = \"df = pd.read_excel(\\\"champagne_new.xlsx\\\", index_col=0)\";\n",
       "                var nbb_cells = Jupyter.notebook.get_cells();\n",
       "                for (var i = 0; i < nbb_cells.length; ++i) {\n",
       "                    if (nbb_cells[i].input_prompt_number == nbb_cell_id) {\n",
       "                        if (nbb_cells[i].get_text() == nbb_unformatted_code) {\n",
       "                             nbb_cells[i].set_text(nbb_formatted_code);\n",
       "                        }\n",
       "                        break;\n",
       "                    }\n",
       "                }\n",
       "            }, 500);\n",
       "            "
      ],
      "text/plain": [
       "<IPython.core.display.Javascript object>"
      ]
     },
     "metadata": {},
     "output_type": "display_data"
    }
   ],
   "source": [
    "df = pd.read_excel(\"champagne_new.xlsx\", index_col=0)"
   ]
  },
  {
   "cell_type": "markdown",
   "id": "cbe54186",
   "metadata": {},
   "source": [
    "## Phân tích khai phá dữ liệu (EDA)"
   ]
  },
  {
   "cell_type": "code",
   "execution_count": 7,
   "id": "a984fe01",
   "metadata": {},
   "outputs": [
    {
     "data": {
      "text/html": [
       "<div>\n",
       "<style scoped>\n",
       "    .dataframe tbody tr th:only-of-type {\n",
       "        vertical-align: middle;\n",
       "    }\n",
       "\n",
       "    .dataframe tbody tr th {\n",
       "        vertical-align: top;\n",
       "    }\n",
       "\n",
       "    .dataframe thead th {\n",
       "        text-align: right;\n",
       "    }\n",
       "</style>\n",
       "<table border=\"1\" class=\"dataframe\">\n",
       "  <thead>\n",
       "    <tr style=\"text-align: right;\">\n",
       "      <th></th>\n",
       "      <th>Month</th>\n",
       "      <th>monthly_champange</th>\n",
       "    </tr>\n",
       "  </thead>\n",
       "  <tbody>\n",
       "    <tr>\n",
       "      <th>0</th>\n",
       "      <td>1964-01-01</td>\n",
       "      <td>2815</td>\n",
       "    </tr>\n",
       "    <tr>\n",
       "      <th>1</th>\n",
       "      <td>1964-02-01</td>\n",
       "      <td>2672</td>\n",
       "    </tr>\n",
       "    <tr>\n",
       "      <th>2</th>\n",
       "      <td>1964-03-01</td>\n",
       "      <td>2755</td>\n",
       "    </tr>\n",
       "    <tr>\n",
       "      <th>3</th>\n",
       "      <td>1964-04-01</td>\n",
       "      <td>2721</td>\n",
       "    </tr>\n",
       "    <tr>\n",
       "      <th>4</th>\n",
       "      <td>1964-05-01</td>\n",
       "      <td>2946</td>\n",
       "    </tr>\n",
       "    <tr>\n",
       "      <th>...</th>\n",
       "      <td>...</td>\n",
       "      <td>...</td>\n",
       "    </tr>\n",
       "    <tr>\n",
       "      <th>100</th>\n",
       "      <td>1972-05-01</td>\n",
       "      <td>4618</td>\n",
       "    </tr>\n",
       "    <tr>\n",
       "      <th>101</th>\n",
       "      <td>1972-06-01</td>\n",
       "      <td>5312</td>\n",
       "    </tr>\n",
       "    <tr>\n",
       "      <th>102</th>\n",
       "      <td>1972-07-01</td>\n",
       "      <td>4298</td>\n",
       "    </tr>\n",
       "    <tr>\n",
       "      <th>103</th>\n",
       "      <td>1972-08-01</td>\n",
       "      <td>1413</td>\n",
       "    </tr>\n",
       "    <tr>\n",
       "      <th>104</th>\n",
       "      <td>1972-09-01</td>\n",
       "      <td>5877</td>\n",
       "    </tr>\n",
       "  </tbody>\n",
       "</table>\n",
       "<p>105 rows × 2 columns</p>\n",
       "</div>"
      ],
      "text/plain": [
       "         Month  monthly_champange\n",
       "0   1964-01-01               2815\n",
       "1   1964-02-01               2672\n",
       "2   1964-03-01               2755\n",
       "3   1964-04-01               2721\n",
       "4   1964-05-01               2946\n",
       "..         ...                ...\n",
       "100 1972-05-01               4618\n",
       "101 1972-06-01               5312\n",
       "102 1972-07-01               4298\n",
       "103 1972-08-01               1413\n",
       "104 1972-09-01               5877\n",
       "\n",
       "[105 rows x 2 columns]"
      ]
     },
     "execution_count": 7,
     "metadata": {},
     "output_type": "execute_result"
    },
    {
     "data": {
      "application/javascript": [
       "\n",
       "            setTimeout(function() {\n",
       "                var nbb_cell_id = 7;\n",
       "                var nbb_unformatted_code = \"df\";\n",
       "                var nbb_formatted_code = \"df\";\n",
       "                var nbb_cells = Jupyter.notebook.get_cells();\n",
       "                for (var i = 0; i < nbb_cells.length; ++i) {\n",
       "                    if (nbb_cells[i].input_prompt_number == nbb_cell_id) {\n",
       "                        if (nbb_cells[i].get_text() == nbb_unformatted_code) {\n",
       "                             nbb_cells[i].set_text(nbb_formatted_code);\n",
       "                        }\n",
       "                        break;\n",
       "                    }\n",
       "                }\n",
       "            }, 500);\n",
       "            "
      ],
      "text/plain": [
       "<IPython.core.display.Javascript object>"
      ]
     },
     "metadata": {},
     "output_type": "display_data"
    }
   ],
   "source": [
    "df"
   ]
  },
  {
   "cell_type": "code",
   "execution_count": 9,
   "id": "00e6ecda",
   "metadata": {},
   "outputs": [
    {
     "name": "stdout",
     "output_type": "stream",
     "text": [
      "<class 'pandas.core.frame.DataFrame'>\n",
      "DatetimeIndex: 105 entries, 1964-01-01 to 1972-09-01\n",
      "Data columns (total 1 columns):\n",
      " #   Column             Non-Null Count  Dtype\n",
      "---  ------             --------------  -----\n",
      " 0   monthly_champange  105 non-null    int64\n",
      "dtypes: int64(1)\n",
      "memory usage: 1.6 KB\n"
     ]
    },
    {
     "data": {
      "application/javascript": [
       "\n",
       "            setTimeout(function() {\n",
       "                var nbb_cell_id = 9;\n",
       "                var nbb_unformatted_code = \"df.info()\";\n",
       "                var nbb_formatted_code = \"df.info()\";\n",
       "                var nbb_cells = Jupyter.notebook.get_cells();\n",
       "                for (var i = 0; i < nbb_cells.length; ++i) {\n",
       "                    if (nbb_cells[i].input_prompt_number == nbb_cell_id) {\n",
       "                        if (nbb_cells[i].get_text() == nbb_unformatted_code) {\n",
       "                             nbb_cells[i].set_text(nbb_formatted_code);\n",
       "                        }\n",
       "                        break;\n",
       "                    }\n",
       "                }\n",
       "            }, 500);\n",
       "            "
      ],
      "text/plain": [
       "<IPython.core.display.Javascript object>"
      ]
     },
     "metadata": {},
     "output_type": "display_data"
    }
   ],
   "source": [
    "df.info()"
   ]
  },
  {
   "cell_type": "code",
   "execution_count": 11,
   "id": "1c3117e5",
   "metadata": {},
   "outputs": [
    {
     "data": {
      "text/plain": [
       "DatetimeIndex(['1964-01-01', '1964-02-01', '1964-03-01', '1964-04-01',\n",
       "               '1964-05-01', '1964-06-01', '1964-07-01', '1964-08-01',\n",
       "               '1964-09-01', '1964-10-01',\n",
       "               ...\n",
       "               '1971-12-01', '1972-01-01', '1972-02-01', '1972-03-01',\n",
       "               '1972-04-01', '1972-05-01', '1972-06-01', '1972-07-01',\n",
       "               '1972-08-01', '1972-09-01'],\n",
       "              dtype='datetime64[ns]', name='Month', length=105, freq=None)"
      ]
     },
     "execution_count": 11,
     "metadata": {},
     "output_type": "execute_result"
    },
    {
     "data": {
      "application/javascript": [
       "\n",
       "            setTimeout(function() {\n",
       "                var nbb_cell_id = 11;\n",
       "                var nbb_unformatted_code = \"df.index\";\n",
       "                var nbb_formatted_code = \"df.index\";\n",
       "                var nbb_cells = Jupyter.notebook.get_cells();\n",
       "                for (var i = 0; i < nbb_cells.length; ++i) {\n",
       "                    if (nbb_cells[i].input_prompt_number == nbb_cell_id) {\n",
       "                        if (nbb_cells[i].get_text() == nbb_unformatted_code) {\n",
       "                             nbb_cells[i].set_text(nbb_formatted_code);\n",
       "                        }\n",
       "                        break;\n",
       "                    }\n",
       "                }\n",
       "            }, 500);\n",
       "            "
      ],
      "text/plain": [
       "<IPython.core.display.Javascript object>"
      ]
     },
     "metadata": {},
     "output_type": "display_data"
    }
   ],
   "source": [
    "df.index"
   ]
  },
  {
   "cell_type": "code",
   "execution_count": 14,
   "id": "1985205f",
   "metadata": {},
   "outputs": [
    {
     "data": {
      "text/plain": [
       "'\\nMonth đã có kiểu date type nên không cần chuyển sang datetype nữa\\n'"
      ]
     },
     "execution_count": 14,
     "metadata": {},
     "output_type": "execute_result"
    },
    {
     "data": {
      "application/javascript": [
       "\n",
       "            setTimeout(function() {\n",
       "                var nbb_cell_id = 14;\n",
       "                var nbb_unformatted_code = \"\\\"\\\"\\\"\\nMonth \\u0111\\u00e3 c\\u00f3 ki\\u1ec3u date type n\\u00ean kh\\u00f4ng c\\u1ea7n chuy\\u1ec3n sang datetype n\\u1eefa\\n\\\"\\\"\\\"\";\n",
       "                var nbb_formatted_code = \"\\\"\\\"\\\"\\nMonth \\u0111\\u00e3 c\\u00f3 ki\\u1ec3u date type n\\u00ean kh\\u00f4ng c\\u1ea7n chuy\\u1ec3n sang datetype n\\u1eefa\\n\\\"\\\"\\\"\";\n",
       "                var nbb_cells = Jupyter.notebook.get_cells();\n",
       "                for (var i = 0; i < nbb_cells.length; ++i) {\n",
       "                    if (nbb_cells[i].input_prompt_number == nbb_cell_id) {\n",
       "                        if (nbb_cells[i].get_text() == nbb_unformatted_code) {\n",
       "                             nbb_cells[i].set_text(nbb_formatted_code);\n",
       "                        }\n",
       "                        break;\n",
       "                    }\n",
       "                }\n",
       "            }, 500);\n",
       "            "
      ],
      "text/plain": [
       "<IPython.core.display.Javascript object>"
      ]
     },
     "metadata": {},
     "output_type": "display_data"
    }
   ],
   "source": [
    "\"\"\"\n",
    "Month đã có kiểu date type nên không cần chuyển sang datetype nữa\n",
    "\"\"\""
   ]
  },
  {
   "cell_type": "code",
   "execution_count": 16,
   "id": "3ad8ac3e",
   "metadata": {},
   "outputs": [
    {
     "data": {
      "text/plain": [
       "DatetimeIndex(['1964-01-01', '1964-02-01', '1964-03-01', '1964-04-01',\n",
       "               '1964-05-01', '1964-06-01', '1964-07-01', '1964-08-01',\n",
       "               '1964-09-01', '1964-10-01',\n",
       "               ...\n",
       "               '1971-12-01', '1972-01-01', '1972-02-01', '1972-03-01',\n",
       "               '1972-04-01', '1972-05-01', '1972-06-01', '1972-07-01',\n",
       "               '1972-08-01', '1972-09-01'],\n",
       "              dtype='datetime64[ns]', name='Month', length=105, freq=None)"
      ]
     },
     "execution_count": 16,
     "metadata": {},
     "output_type": "execute_result"
    },
    {
     "data": {
      "application/javascript": [
       "\n",
       "            setTimeout(function() {\n",
       "                var nbb_cell_id = 16;\n",
       "                var nbb_unformatted_code = \"# \\u0111\\u1ec3 \\u0111\\u1ec1 ph\\u00f2ng th\\u00f4i \\u1ea1 ^^\\ndf.index = pd.to_datetime(df.index)\\ndf.index\";\n",
       "                var nbb_formatted_code = \"# \\u0111\\u1ec3 \\u0111\\u1ec1 ph\\u00f2ng th\\u00f4i \\u1ea1 ^^\\ndf.index = pd.to_datetime(df.index)\\ndf.index\";\n",
       "                var nbb_cells = Jupyter.notebook.get_cells();\n",
       "                for (var i = 0; i < nbb_cells.length; ++i) {\n",
       "                    if (nbb_cells[i].input_prompt_number == nbb_cell_id) {\n",
       "                        if (nbb_cells[i].get_text() == nbb_unformatted_code) {\n",
       "                             nbb_cells[i].set_text(nbb_formatted_code);\n",
       "                        }\n",
       "                        break;\n",
       "                    }\n",
       "                }\n",
       "            }, 500);\n",
       "            "
      ],
      "text/plain": [
       "<IPython.core.display.Javascript object>"
      ]
     },
     "metadata": {},
     "output_type": "display_data"
    }
   ],
   "source": [
    "# để đề phòng thôi ạ ^^\n",
    "df.index = pd.to_datetime(df.index)\n",
    "df.index"
   ]
  },
  {
   "cell_type": "code",
   "execution_count": 17,
   "id": "01e2b0e1",
   "metadata": {},
   "outputs": [
    {
     "name": "stdout",
     "output_type": "stream",
     "text": [
      "<class 'pandas.core.frame.DataFrame'>\n",
      "DatetimeIndex: 105 entries, 1964-01-01 to 1972-09-01\n",
      "Data columns (total 1 columns):\n",
      " #   Column             Non-Null Count  Dtype\n",
      "---  ------             --------------  -----\n",
      " 0   monthly_champange  105 non-null    int64\n",
      "dtypes: int64(1)\n",
      "memory usage: 1.6 KB\n"
     ]
    },
    {
     "data": {
      "application/javascript": [
       "\n",
       "            setTimeout(function() {\n",
       "                var nbb_cell_id = 17;\n",
       "                var nbb_unformatted_code = \"df.info()\";\n",
       "                var nbb_formatted_code = \"df.info()\";\n",
       "                var nbb_cells = Jupyter.notebook.get_cells();\n",
       "                for (var i = 0; i < nbb_cells.length; ++i) {\n",
       "                    if (nbb_cells[i].input_prompt_number == nbb_cell_id) {\n",
       "                        if (nbb_cells[i].get_text() == nbb_unformatted_code) {\n",
       "                             nbb_cells[i].set_text(nbb_formatted_code);\n",
       "                        }\n",
       "                        break;\n",
       "                    }\n",
       "                }\n",
       "            }, 500);\n",
       "            "
      ],
      "text/plain": [
       "<IPython.core.display.Javascript object>"
      ]
     },
     "metadata": {},
     "output_type": "display_data"
    }
   ],
   "source": [
    "df.info()"
   ]
  },
  {
   "cell_type": "code",
   "execution_count": 18,
   "id": "7fb7ecfb",
   "metadata": {},
   "outputs": [
    {
     "data": {
      "text/plain": [
       "'\\nta nhận thấy data ko có null\\n'"
      ]
     },
     "execution_count": 18,
     "metadata": {},
     "output_type": "execute_result"
    },
    {
     "data": {
      "application/javascript": [
       "\n",
       "            setTimeout(function() {\n",
       "                var nbb_cell_id = 18;\n",
       "                var nbb_unformatted_code = \"'''\\nta nh\\u1eadn th\\u1ea5y data ko c\\u00f3 null\\n'''\";\n",
       "                var nbb_formatted_code = \"\\\"\\\"\\\"\\nta nh\\u1eadn th\\u1ea5y data ko c\\u00f3 null\\n\\\"\\\"\\\"\";\n",
       "                var nbb_cells = Jupyter.notebook.get_cells();\n",
       "                for (var i = 0; i < nbb_cells.length; ++i) {\n",
       "                    if (nbb_cells[i].input_prompt_number == nbb_cell_id) {\n",
       "                        if (nbb_cells[i].get_text() == nbb_unformatted_code) {\n",
       "                             nbb_cells[i].set_text(nbb_formatted_code);\n",
       "                        }\n",
       "                        break;\n",
       "                    }\n",
       "                }\n",
       "            }, 500);\n",
       "            "
      ],
      "text/plain": [
       "<IPython.core.display.Javascript object>"
      ]
     },
     "metadata": {},
     "output_type": "display_data"
    }
   ],
   "source": [
    "\"\"\"\n",
    "ta nhận thấy data ko có null\n",
    "\"\"\""
   ]
  },
  {
   "cell_type": "code",
   "execution_count": 51,
   "id": "05da05fc",
   "metadata": {},
   "outputs": [
    {
     "data": {
      "application/javascript": [
       "\n",
       "            setTimeout(function() {\n",
       "                var nbb_cell_id = 51;\n",
       "                var nbb_unformatted_code = \"# \\u0111\\u1ed5i t\\u00ean monthly_champange th\\u00e0nh sale cho d\\u1ec5 hi\\u1ec3u d\\u1eef li\\u1ec7u\\ndf.rename(columns={'monthly_champange':'Sales'}, inplace=True)\";\n",
       "                var nbb_formatted_code = \"# \\u0111\\u1ed5i t\\u00ean monthly_champange th\\u00e0nh sale cho d\\u1ec5 hi\\u1ec3u d\\u1eef li\\u1ec7u\\ndf.rename(columns={\\\"monthly_champange\\\": \\\"Sales\\\"}, inplace=True)\";\n",
       "                var nbb_cells = Jupyter.notebook.get_cells();\n",
       "                for (var i = 0; i < nbb_cells.length; ++i) {\n",
       "                    if (nbb_cells[i].input_prompt_number == nbb_cell_id) {\n",
       "                        if (nbb_cells[i].get_text() == nbb_unformatted_code) {\n",
       "                             nbb_cells[i].set_text(nbb_formatted_code);\n",
       "                        }\n",
       "                        break;\n",
       "                    }\n",
       "                }\n",
       "            }, 500);\n",
       "            "
      ],
      "text/plain": [
       "<IPython.core.display.Javascript object>"
      ]
     },
     "metadata": {},
     "output_type": "display_data"
    }
   ],
   "source": [
    "# đổi tên monthly_champange thành sale cho dễ hiểu dữ liệu\n",
    "df.rename(columns={\"monthly_champange\": \"Sales\"}, inplace=True)"
   ]
  },
  {
   "cell_type": "markdown",
   "id": "a19b5361",
   "metadata": {},
   "source": [
    "### Phân tích biến Sales (monthly_champange)"
   ]
  },
  {
   "cell_type": "code",
   "execution_count": 52,
   "id": "6738dfe6",
   "metadata": {},
   "outputs": [
    {
     "data": {
      "application/javascript": [
       "\n",
       "            setTimeout(function() {\n",
       "                var nbb_cell_id = 52;\n",
       "                var nbb_unformatted_code = \"def continuous_univariate_analysis(f):\\n    print(\\\"1\\\\ Describe: \\\\n\\\", f.describe(), \\\"\\\\n\\\")\\n    print(\\\"2\\\\ Meadian: \\\", f.median())\\n    print(\\\"3\\\\ Mode: \\\", f.mode)\\n    print(\\\"4\\\\ Range: \\\", f.values.ptp())\\n    print(\\\"5\\\\ Variance: \\\", f.var())\\n    print(\\\"6\\\\ S\\u1ed1 NaN: \\\", f.isnull().sum())\\n    print(\\\"7\\\\ \\\\tQ1 = \\\", np.quantile(f, 0.25))\\n    print(\\\"   \\\\tQ3 = \\\", np.quantile(f, 0.75))\\n    print(\\\"   \\\\tIQR = \\\", iqr(f))\\n\\n    print(\\\"8\\\\ Skew: \\\", f.skew())\\n    if f.skew() > 0:\\n        print(\\\"Ph\\u00e2n ph\\u1ed1i l\\u1ec7ch ph\\u1ea3i\\\")\\n    elif f.skew() == 0:\\n        print(\\\"Ph\\u00e2n ph\\u1ed1i \\u0111\\u1ed1i x\\u1ee9ng\\\")\\n    else:\\n        print(\\\"Ph\\u00e2n ph\\u1ed1i l\\u1ec7ch tr\\u00e1i\\\")\\n\\n    print(\\\"9\\\\ Kurtosis: \\\", f.kurtosis())\\n    if f.kurtosis() > 0:\\n        print(\\\"Ph\\u00e2n ph\\u1ed1i nh\\u1ecdn h\\u01a1n pp chu\\u1ea9n\\\")\\n    elif f.kurtosis() == 0:\\n        print(\\\"Ph\\u00e2n ph\\u1ed1i \\u0111\\u1ed1i x\\u1ee9ng\\\")\\n    else:\\n        print(\\\"Ph\\u00e2n ph\\u1ed1i b\\u1eb9t h\\u01a1n pp chu\\u1ea9n\\\")\";\n",
       "                var nbb_formatted_code = \"def continuous_univariate_analysis(f):\\n    print(\\\"1\\\\ Describe: \\\\n\\\", f.describe(), \\\"\\\\n\\\")\\n    print(\\\"2\\\\ Meadian: \\\", f.median())\\n    print(\\\"3\\\\ Mode: \\\", f.mode)\\n    print(\\\"4\\\\ Range: \\\", f.values.ptp())\\n    print(\\\"5\\\\ Variance: \\\", f.var())\\n    print(\\\"6\\\\ S\\u1ed1 NaN: \\\", f.isnull().sum())\\n    print(\\\"7\\\\ \\\\tQ1 = \\\", np.quantile(f, 0.25))\\n    print(\\\"   \\\\tQ3 = \\\", np.quantile(f, 0.75))\\n    print(\\\"   \\\\tIQR = \\\", iqr(f))\\n\\n    print(\\\"8\\\\ Skew: \\\", f.skew())\\n    if f.skew() > 0:\\n        print(\\\"Ph\\u00e2n ph\\u1ed1i l\\u1ec7ch ph\\u1ea3i\\\")\\n    elif f.skew() == 0:\\n        print(\\\"Ph\\u00e2n ph\\u1ed1i \\u0111\\u1ed1i x\\u1ee9ng\\\")\\n    else:\\n        print(\\\"Ph\\u00e2n ph\\u1ed1i l\\u1ec7ch tr\\u00e1i\\\")\\n\\n    print(\\\"9\\\\ Kurtosis: \\\", f.kurtosis())\\n    if f.kurtosis() > 0:\\n        print(\\\"Ph\\u00e2n ph\\u1ed1i nh\\u1ecdn h\\u01a1n pp chu\\u1ea9n\\\")\\n    elif f.kurtosis() == 0:\\n        print(\\\"Ph\\u00e2n ph\\u1ed1i \\u0111\\u1ed1i x\\u1ee9ng\\\")\\n    else:\\n        print(\\\"Ph\\u00e2n ph\\u1ed1i b\\u1eb9t h\\u01a1n pp chu\\u1ea9n\\\")\";\n",
       "                var nbb_cells = Jupyter.notebook.get_cells();\n",
       "                for (var i = 0; i < nbb_cells.length; ++i) {\n",
       "                    if (nbb_cells[i].input_prompt_number == nbb_cell_id) {\n",
       "                        if (nbb_cells[i].get_text() == nbb_unformatted_code) {\n",
       "                             nbb_cells[i].set_text(nbb_formatted_code);\n",
       "                        }\n",
       "                        break;\n",
       "                    }\n",
       "                }\n",
       "            }, 500);\n",
       "            "
      ],
      "text/plain": [
       "<IPython.core.display.Javascript object>"
      ]
     },
     "metadata": {},
     "output_type": "display_data"
    }
   ],
   "source": [
    "def continuous_univariate_analysis(f):\n",
    "    print(\"1\\ Describe: \\n\", f.describe(), \"\\n\")\n",
    "    print(\"2\\ Meadian: \", f.median())\n",
    "    print(\"3\\ Mode: \", f.mode)\n",
    "    print(\"4\\ Range: \", f.values.ptp())\n",
    "    print(\"5\\ Variance: \", f.var())\n",
    "    print(\"6\\ Số NaN: \", f.isnull().sum())\n",
    "    print(\"7\\ \\tQ1 = \", np.quantile(f, 0.25))\n",
    "    print(\"   \\tQ3 = \", np.quantile(f, 0.75))\n",
    "    print(\"   \\tIQR = \", iqr(f))\n",
    "\n",
    "    print(\"8\\ Skew: \", f.skew())\n",
    "    if f.skew() > 0:\n",
    "        print(\"Phân phối lệch phải\")\n",
    "    elif f.skew() == 0:\n",
    "        print(\"Phân phối đối xứng\")\n",
    "    else:\n",
    "        print(\"Phân phối lệch trái\")\n",
    "\n",
    "    print(\"9\\ Kurtosis: \", f.kurtosis())\n",
    "    if f.kurtosis() > 0:\n",
    "        print(\"Phân phối nhọn hơn pp chuẩn\")\n",
    "    elif f.kurtosis() == 0:\n",
    "        print(\"Phân phối đối xứng\")\n",
    "    else:\n",
    "        print(\"Phân phối bẹt hơn pp chuẩn\")"
   ]
  },
  {
   "cell_type": "code",
   "execution_count": 53,
   "id": "2b6fbaff",
   "metadata": {},
   "outputs": [
    {
     "data": {
      "application/javascript": [
       "\n",
       "            setTimeout(function() {\n",
       "                var nbb_cell_id = 53;\n",
       "                var nbb_unformatted_code = \"def visualize_histogram(f):\\n    # Histogram\\n    plt.subplot(1, 2, 1)\\n    sns.distplot(f)\\n\\n    plt.subplot(1, 2, 2)\\n    plt.hist(f)\\n    plt.show()\";\n",
       "                var nbb_formatted_code = \"def visualize_histogram(f):\\n    # Histogram\\n    plt.subplot(1, 2, 1)\\n    sns.distplot(f)\\n\\n    plt.subplot(1, 2, 2)\\n    plt.hist(f)\\n    plt.show()\";\n",
       "                var nbb_cells = Jupyter.notebook.get_cells();\n",
       "                for (var i = 0; i < nbb_cells.length; ++i) {\n",
       "                    if (nbb_cells[i].input_prompt_number == nbb_cell_id) {\n",
       "                        if (nbb_cells[i].get_text() == nbb_unformatted_code) {\n",
       "                             nbb_cells[i].set_text(nbb_formatted_code);\n",
       "                        }\n",
       "                        break;\n",
       "                    }\n",
       "                }\n",
       "            }, 500);\n",
       "            "
      ],
      "text/plain": [
       "<IPython.core.display.Javascript object>"
      ]
     },
     "metadata": {},
     "output_type": "display_data"
    }
   ],
   "source": [
    "def visualize_histogram(f):\n",
    "    # Histogram\n",
    "    plt.subplot(1, 2, 1)\n",
    "    sns.distplot(f)\n",
    "\n",
    "    plt.subplot(1, 2, 2)\n",
    "    plt.hist(f)\n",
    "    plt.show()"
   ]
  },
  {
   "cell_type": "code",
   "execution_count": 54,
   "id": "6008f63b",
   "metadata": {},
   "outputs": [
    {
     "data": {
      "application/javascript": [
       "\n",
       "            setTimeout(function() {\n",
       "                var nbb_cell_id = 54;\n",
       "                var nbb_unformatted_code = \"def visualize_boxplot(f):\\n    plt.boxplot(f)\\n    plt.show()\";\n",
       "                var nbb_formatted_code = \"def visualize_boxplot(f):\\n    plt.boxplot(f)\\n    plt.show()\";\n",
       "                var nbb_cells = Jupyter.notebook.get_cells();\n",
       "                for (var i = 0; i < nbb_cells.length; ++i) {\n",
       "                    if (nbb_cells[i].input_prompt_number == nbb_cell_id) {\n",
       "                        if (nbb_cells[i].get_text() == nbb_unformatted_code) {\n",
       "                             nbb_cells[i].set_text(nbb_formatted_code);\n",
       "                        }\n",
       "                        break;\n",
       "                    }\n",
       "                }\n",
       "            }, 500);\n",
       "            "
      ],
      "text/plain": [
       "<IPython.core.display.Javascript object>"
      ]
     },
     "metadata": {},
     "output_type": "display_data"
    }
   ],
   "source": [
    "def visualize_boxplot(f):\n",
    "    plt.boxplot(f)\n",
    "    plt.show()"
   ]
  },
  {
   "cell_type": "code",
   "execution_count": 55,
   "id": "6aebc524",
   "metadata": {},
   "outputs": [
    {
     "data": {
      "application/javascript": [
       "\n",
       "            setTimeout(function() {\n",
       "                var nbb_cell_id = 55;\n",
       "                var nbb_unformatted_code = \"def find_outliers(f):\\n    Q1 = np.quantile(f, 0.25)\\n    Q3 = np.quantile(f, 0.75)\\n    IQR = Q3 - Q1\\n\\n    # s\\u1ed1 l\\u01b0\\u1ee3ng outliers\\n    num_outliers = len(f[(f > Q3 + 1.5 * IQR) | (f < Q1 - 1.5 * IQR)])\\n\\n    # t\\u1ec9 l\\u1ec7 outliers so v\\u1edbi m\\u1eabu\\n    ratio = num_outliers / f.shape[0]\\n\\n    print(\\\"S\\u1ed1 l\\u01b0\\u1ee3ng outliers: \\\", num_outliers)\\n    print(\\\"T\\u1ec9 l\\u1ec7 outliers so v\\u1edbi m\\u1eabu\\\", ratio)\";\n",
       "                var nbb_formatted_code = \"def find_outliers(f):\\n    Q1 = np.quantile(f, 0.25)\\n    Q3 = np.quantile(f, 0.75)\\n    IQR = Q3 - Q1\\n\\n    # s\\u1ed1 l\\u01b0\\u1ee3ng outliers\\n    num_outliers = len(f[(f > Q3 + 1.5 * IQR) | (f < Q1 - 1.5 * IQR)])\\n\\n    # t\\u1ec9 l\\u1ec7 outliers so v\\u1edbi m\\u1eabu\\n    ratio = num_outliers / f.shape[0]\\n\\n    print(\\\"S\\u1ed1 l\\u01b0\\u1ee3ng outliers: \\\", num_outliers)\\n    print(\\\"T\\u1ec9 l\\u1ec7 outliers so v\\u1edbi m\\u1eabu\\\", ratio)\";\n",
       "                var nbb_cells = Jupyter.notebook.get_cells();\n",
       "                for (var i = 0; i < nbb_cells.length; ++i) {\n",
       "                    if (nbb_cells[i].input_prompt_number == nbb_cell_id) {\n",
       "                        if (nbb_cells[i].get_text() == nbb_unformatted_code) {\n",
       "                             nbb_cells[i].set_text(nbb_formatted_code);\n",
       "                        }\n",
       "                        break;\n",
       "                    }\n",
       "                }\n",
       "            }, 500);\n",
       "            "
      ],
      "text/plain": [
       "<IPython.core.display.Javascript object>"
      ]
     },
     "metadata": {},
     "output_type": "display_data"
    }
   ],
   "source": [
    "def find_outliers(f):\n",
    "    Q1 = np.quantile(f, 0.25)\n",
    "    Q3 = np.quantile(f, 0.75)\n",
    "    IQR = Q3 - Q1\n",
    "\n",
    "    # số lượng outliers\n",
    "    num_outliers = len(f[(f > Q3 + 1.5 * IQR) | (f < Q1 - 1.5 * IQR)])\n",
    "\n",
    "    # tỉ lệ outliers so với mẫu\n",
    "    ratio = num_outliers / f.shape[0]\n",
    "\n",
    "    print(\"Số lượng outliers: \", num_outliers)\n",
    "    print(\"Tỉ lệ outliers so với mẫu\", ratio)"
   ]
  },
  {
   "cell_type": "code",
   "execution_count": 56,
   "id": "9f659ff9",
   "metadata": {},
   "outputs": [
    {
     "name": "stdout",
     "output_type": "stream",
     "text": [
      "1\\ Describe: \n",
      " count      105.000000\n",
      "mean      4761.152381\n",
      "std       2553.502601\n",
      "min       1413.000000\n",
      "25%       3113.000000\n",
      "50%       4217.000000\n",
      "75%       5221.000000\n",
      "max      13916.000000\n",
      "Name: Sales, dtype: float64 \n",
      "\n",
      "2\\ Meadian:  4217.0\n",
      "3\\ Mode:  <bound method Series.mode of Month\n",
      "1964-01-01    2815\n",
      "1964-02-01    2672\n",
      "1964-03-01    2755\n",
      "1964-04-01    2721\n",
      "1964-05-01    2946\n",
      "              ... \n",
      "1972-05-01    4618\n",
      "1972-06-01    5312\n",
      "1972-07-01    4298\n",
      "1972-08-01    1413\n",
      "1972-09-01    5877\n",
      "Name: Sales, Length: 105, dtype: int64>\n",
      "4\\ Range:  12503\n",
      "5\\ Variance:  6520375.534249084\n",
      "6\\ Số NaN:  0\n",
      "7\\ \tQ1 =  3113.0\n",
      "   \tQ3 =  5221.0\n",
      "   \tIQR =  2108.0\n",
      "8\\ Skew:  1.639003039912007\n",
      "Phân phối lệch phải\n",
      "9\\ Kurtosis:  2.7028889288455717\n",
      "Phân phối nhọn hơn pp chuẩn\n"
     ]
    },
    {
     "data": {
      "image/png": "[encoded data removed]",
      "text/plain": [
       "<Figure size 432x288 with 2 Axes>"
      ]
     },
     "metadata": {
      "needs_background": "light"
     },
     "output_type": "display_data"
    },
    {
     "data": {
      "image/png": "[encoded data removed]",
      "text/plain": [
       "<Figure size 432x288 with 1 Axes>"
      ]
     },
     "metadata": {
      "needs_background": "light"
     },
     "output_type": "display_data"
    },
    {
     "name": "stdout",
     "output_type": "stream",
     "text": [
      "Số lượng outliers:  10\n",
      "Tỉ lệ outliers so với mẫu 0.09523809523809523\n"
     ]
    },
    {
     "data": {
      "application/javascript": [
       "\n",
       "            setTimeout(function() {\n",
       "                var nbb_cell_id = 56;\n",
       "                var nbb_unformatted_code = \"continuous_univariate_analysis(df.Sales)\\nvisualize_histogram(df.Sales)\\nvisualize_boxplot(df.Sales)\\nfind_outliers(df.Sales)\";\n",
       "                var nbb_formatted_code = \"continuous_univariate_analysis(df.Sales)\\nvisualize_histogram(df.Sales)\\nvisualize_boxplot(df.Sales)\\nfind_outliers(df.Sales)\";\n",
       "                var nbb_cells = Jupyter.notebook.get_cells();\n",
       "                for (var i = 0; i < nbb_cells.length; ++i) {\n",
       "                    if (nbb_cells[i].input_prompt_number == nbb_cell_id) {\n",
       "                        if (nbb_cells[i].get_text() == nbb_unformatted_code) {\n",
       "                             nbb_cells[i].set_text(nbb_formatted_code);\n",
       "                        }\n",
       "                        break;\n",
       "                    }\n",
       "                }\n",
       "            }, 500);\n",
       "            "
      ],
      "text/plain": [
       "<IPython.core.display.Javascript object>"
      ]
     },
     "metadata": {},
     "output_type": "display_data"
    }
   ],
   "source": [
    "continuous_univariate_analysis(df.Sales)\n",
    "visualize_histogram(df.Sales)\n",
    "visualize_boxplot(df.Sales)\n",
    "find_outliers(df.Sales)"
   ]
  },
  {
   "cell_type": "markdown",
   "id": "43f968cf",
   "metadata": {},
   "source": [
    "## <p style=\"color:blue\">Nhận xét</p>"
   ]
  },
  {
   "cell_type": "code",
   "execution_count": 4,
   "id": "6bfc33f5",
   "metadata": {
    "ExecuteTime": {
     "end_time": "2022-01-29T09:38:46.274511Z",
     "start_time": "2022-01-29T09:38:46.268563Z"
    }
   },
   "outputs": [
    {
     "data": {
      "text/plain": [
       "'\\nTừ phân tích, ta thấy phân phối của Sales hơi lệch phải,\\nko có giá trị null.\\n\\nCó 10 outliers nhưng các outliers này là hợp lệ nên ta giữ nguyên\\n'"
      ]
     },
     "execution_count": 4,
     "metadata": {},
     "output_type": "execute_result"
    },
    {
     "data": {
      "application/javascript": [
       "\n",
       "            setTimeout(function() {\n",
       "                var nbb_cell_id = 4;\n",
       "                var nbb_unformatted_code = \"\\\"\\\"\\\"\\nT\\u1eeb ph\\u00e2n t\\u00edch, ta th\\u1ea5y ph\\u00e2n ph\\u1ed1i c\\u1ee7a Sales h\\u01a1i l\\u1ec7ch ph\\u1ea3i,\\nko c\\u00f3 gi\\u00e1 tr\\u1ecb null.\\n\\nC\\u00f3 10 outliers nh\\u01b0ng c\\u00e1c outliers n\\u00e0y l\\u00e0 h\\u1ee3p l\\u1ec7 n\\u00ean ta gi\\u1eef nguy\\u00ean\\n\\\"\\\"\\\"\";\n",
       "                var nbb_formatted_code = \"\\\"\\\"\\\"\\nT\\u1eeb ph\\u00e2n t\\u00edch, ta th\\u1ea5y ph\\u00e2n ph\\u1ed1i c\\u1ee7a Sales h\\u01a1i l\\u1ec7ch ph\\u1ea3i,\\nko c\\u00f3 gi\\u00e1 tr\\u1ecb null.\\n\\nC\\u00f3 10 outliers nh\\u01b0ng c\\u00e1c outliers n\\u00e0y l\\u00e0 h\\u1ee3p l\\u1ec7 n\\u00ean ta gi\\u1eef nguy\\u00ean\\n\\\"\\\"\\\"\";\n",
       "                var nbb_cells = Jupyter.notebook.get_cells();\n",
       "                for (var i = 0; i < nbb_cells.length; ++i) {\n",
       "                    if (nbb_cells[i].input_prompt_number == nbb_cell_id) {\n",
       "                        if (nbb_cells[i].get_text() == nbb_unformatted_code) {\n",
       "                             nbb_cells[i].set_text(nbb_formatted_code);\n",
       "                        }\n",
       "                        break;\n",
       "                    }\n",
       "                }\n",
       "            }, 500);\n",
       "            "
      ],
      "text/plain": [
       "<IPython.core.display.Javascript object>"
      ]
     },
     "metadata": {},
     "output_type": "display_data"
    }
   ],
   "source": [
    "\"\"\"\n",
    "Từ phân tích, ta thấy phân phối của Sales hơi lệch phải,\n",
    "ko có giá trị null.\n",
    "\n",
    "Có 10 outliers nhưng các outliers này là hợp lệ nên ta giữ nguyên\n",
    "\"\"\""
   ]
  },
  {
   "cell_type": "code",
   "execution_count": 33,
   "id": "9ea4fb10",
   "metadata": {
    "ExecuteTime": {
     "end_time": "2022-01-29T17:29:25.775317Z",
     "start_time": "2022-01-29T17:29:25.622701Z"
    }
   },
   "outputs": [
    {
     "data": {
      "image/png": "[encoded data removed]",
      "text/plain": [
       "<Figure size 864x432 with 1 Axes>"
      ]
     },
     "metadata": {
      "needs_background": "light"
     },
     "output_type": "display_data"
    },
    {
     "data": {
      "application/javascript": [
       "\n",
       "            setTimeout(function() {\n",
       "                var nbb_cell_id = 33;\n",
       "                var nbb_unformatted_code = \"plt.figure(figsize=(12, 6))\\nplt.plot(df)\\nplt.ylabel(\\\"Sales\\\")\\nplt.xlabel(\\\"Year\\\")\\nplt.plot(df.rolling(window=12, center=True).mean())\\nplt.title(\\\"Monthly champagne sales millions from 1964 - 1973\\\")\\nplt.show()\";\n",
       "                var nbb_formatted_code = \"plt.figure(figsize=(12, 6))\\nplt.plot(df)\\nplt.ylabel(\\\"Sales\\\")\\nplt.xlabel(\\\"Year\\\")\\nplt.plot(df.rolling(window=12, center=True).mean())\\nplt.title(\\\"Monthly champagne sales millions from 1964 - 1973\\\")\\nplt.show()\";\n",
       "                var nbb_cells = Jupyter.notebook.get_cells();\n",
       "                for (var i = 0; i < nbb_cells.length; ++i) {\n",
       "                    if (nbb_cells[i].input_prompt_number == nbb_cell_id) {\n",
       "                        if (nbb_cells[i].get_text() == nbb_unformatted_code) {\n",
       "                             nbb_cells[i].set_text(nbb_formatted_code);\n",
       "                        }\n",
       "                        break;\n",
       "                    }\n",
       "                }\n",
       "            }, 500);\n",
       "            "
      ],
      "text/plain": [
       "<IPython.core.display.Javascript object>"
      ]
     },
     "metadata": {},
     "output_type": "display_data"
    }
   ],
   "source": [
    "plt.figure(figsize=(12, 6))\n",
    "plt.plot(df)\n",
    "plt.ylabel(\"Sales\")\n",
    "plt.xlabel(\"Year\")\n",
    "plt.plot(df.rolling(window=12, center=True).mean())\n",
    "plt.title(\"Monthly champagne sales millions from 1964 - 1973\")\n",
    "plt.show()"
   ]
  },
  {
   "cell_type": "markdown",
   "id": "6ec2a95e",
   "metadata": {},
   "source": [
    "## <p style=\"color:blue\">Nhận xét</p>"
   ]
  },
  {
   "cell_type": "code",
   "execution_count": 34,
   "id": "3886328b",
   "metadata": {
    "ExecuteTime": {
     "end_time": "2022-01-29T17:29:25.806242Z",
     "start_time": "2022-01-29T17:29:25.788255Z"
    }
   },
   "outputs": [
    {
     "data": {
      "text/plain": [
       "'\\n\\nNhận xét tổng quan:\\nừ 1965 - giữa năm 1969, data có xu hướng đi lên, \\ntuy nhiên từ giữa năm 1969 đến giữa năm 1970, data có xu hướng đi xuống\\nsau đó, từ data lại có xu hướng đi lên. \\nTừ 1970 đến 1971, data có xu hướng đi ngang\\n\\nChúng ta có thể thấy rằng có tính thời vụ (seasonality) trong dữ liệu, \\nvới các đỉnh lặp lại chính nó. Ngoài ra các đỉnh ngày càng cao hơn qua từng năm.\\n\\n'"
      ]
     },
     "execution_count": 34,
     "metadata": {},
     "output_type": "execute_result"
    },
    {
     "data": {
      "application/javascript": [
       "\n",
       "            setTimeout(function() {\n",
       "                var nbb_cell_id = 34;\n",
       "                var nbb_unformatted_code = \"\\\"\\\"\\\"\\n\\nNh\\u1eadn x\\u00e9t t\\u1ed5ng quan:\\n\\u1eeb 1965 - gi\\u1eefa n\\u0103m 1969, data c\\u00f3 xu h\\u01b0\\u1edbng \\u0111i l\\u00ean, \\ntuy nhi\\u00ean t\\u1eeb gi\\u1eefa n\\u0103m 1969 \\u0111\\u1ebfn gi\\u1eefa n\\u0103m 1970, data c\\u00f3 xu h\\u01b0\\u1edbng \\u0111i xu\\u1ed1ng\\nsau \\u0111\\u00f3, t\\u1eeb data l\\u1ea1i c\\u00f3 xu h\\u01b0\\u1edbng \\u0111i l\\u00ean. \\nT\\u1eeb 1970 \\u0111\\u1ebfn 1971, data c\\u00f3 xu h\\u01b0\\u1edbng \\u0111i ngang\\n\\nCh\\u00fang ta c\\u00f3 th\\u1ec3 th\\u1ea5y r\\u1eb1ng c\\u00f3 t\\u00ednh th\\u1eddi v\\u1ee5 (seasonality) trong d\\u1eef li\\u1ec7u, \\nv\\u1edbi c\\u00e1c \\u0111\\u1ec9nh l\\u1eb7p l\\u1ea1i ch\\u00ednh n\\u00f3. Ngo\\u00e0i ra c\\u00e1c \\u0111\\u1ec9nh ng\\u00e0y c\\u00e0ng cao h\\u01a1n qua t\\u1eebng n\\u0103m.\\n\\n\\\"\\\"\\\"\";\n",
       "                var nbb_formatted_code = \"\\\"\\\"\\\"\\n\\nNh\\u1eadn x\\u00e9t t\\u1ed5ng quan:\\n\\u1eeb 1965 - gi\\u1eefa n\\u0103m 1969, data c\\u00f3 xu h\\u01b0\\u1edbng \\u0111i l\\u00ean, \\ntuy nhi\\u00ean t\\u1eeb gi\\u1eefa n\\u0103m 1969 \\u0111\\u1ebfn gi\\u1eefa n\\u0103m 1970, data c\\u00f3 xu h\\u01b0\\u1edbng \\u0111i xu\\u1ed1ng\\nsau \\u0111\\u00f3, t\\u1eeb data l\\u1ea1i c\\u00f3 xu h\\u01b0\\u1edbng \\u0111i l\\u00ean. \\nT\\u1eeb 1970 \\u0111\\u1ebfn 1971, data c\\u00f3 xu h\\u01b0\\u1edbng \\u0111i ngang\\n\\nCh\\u00fang ta c\\u00f3 th\\u1ec3 th\\u1ea5y r\\u1eb1ng c\\u00f3 t\\u00ednh th\\u1eddi v\\u1ee5 (seasonality) trong d\\u1eef li\\u1ec7u, \\nv\\u1edbi c\\u00e1c \\u0111\\u1ec9nh l\\u1eb7p l\\u1ea1i ch\\u00ednh n\\u00f3. Ngo\\u00e0i ra c\\u00e1c \\u0111\\u1ec9nh ng\\u00e0y c\\u00e0ng cao h\\u01a1n qua t\\u1eebng n\\u0103m.\\n\\n\\\"\\\"\\\"\";\n",
       "                var nbb_cells = Jupyter.notebook.get_cells();\n",
       "                for (var i = 0; i < nbb_cells.length; ++i) {\n",
       "                    if (nbb_cells[i].input_prompt_number == nbb_cell_id) {\n",
       "                        if (nbb_cells[i].get_text() == nbb_unformatted_code) {\n",
       "                             nbb_cells[i].set_text(nbb_formatted_code);\n",
       "                        }\n",
       "                        break;\n",
       "                    }\n",
       "                }\n",
       "            }, 500);\n",
       "            "
      ],
      "text/plain": [
       "<IPython.core.display.Javascript object>"
      ]
     },
     "metadata": {},
     "output_type": "display_data"
    }
   ],
   "source": [
    "\"\"\"\n",
    "\n",
    "Nhận xét tổng quan:\n",
    "ừ 1965 - giữa năm 1969, data có xu hướng đi lên, \n",
    "tuy nhiên từ giữa năm 1969 đến giữa năm 1970, data có xu hướng đi xuống\n",
    "sau đó, từ data lại có xu hướng đi lên. \n",
    "Từ 1970 đến 1971, data có xu hướng đi ngang\n",
    "\n",
    "Chúng ta có thể thấy rằng có tính thời vụ (seasonality) trong dữ liệu, \n",
    "với các đỉnh lặp lại chính nó. Ngoài ra các đỉnh ngày càng cao hơn qua từng năm.\n",
    "\n",
    "\"\"\""
   ]
  },
  {
   "cell_type": "markdown",
   "id": "8997259b",
   "metadata": {},
   "source": [
    "## Decompose"
   ]
  },
  {
   "cell_type": "code",
   "execution_count": 35,
   "id": "00f9601d",
   "metadata": {
    "ExecuteTime": {
     "end_time": "2022-01-29T17:29:25.978736Z",
     "start_time": "2022-01-29T17:29:25.957793Z"
    }
   },
   "outputs": [
    {
     "data": {
      "application/javascript": [
       "\n",
       "            setTimeout(function() {\n",
       "                var nbb_cell_id = 35;\n",
       "                var nbb_unformatted_code = \"from statsmodels.tsa.seasonal import seasonal_decompose\";\n",
       "                var nbb_formatted_code = \"from statsmodels.tsa.seasonal import seasonal_decompose\";\n",
       "                var nbb_cells = Jupyter.notebook.get_cells();\n",
       "                for (var i = 0; i < nbb_cells.length; ++i) {\n",
       "                    if (nbb_cells[i].input_prompt_number == nbb_cell_id) {\n",
       "                        if (nbb_cells[i].get_text() == nbb_unformatted_code) {\n",
       "                             nbb_cells[i].set_text(nbb_formatted_code);\n",
       "                        }\n",
       "                        break;\n",
       "                    }\n",
       "                }\n",
       "            }, 500);\n",
       "            "
      ],
      "text/plain": [
       "<IPython.core.display.Javascript object>"
      ]
     },
     "metadata": {},
     "output_type": "display_data"
    }
   ],
   "source": [
    "from statsmodels.tsa.seasonal import seasonal_decompose\n"
   ]
  },
  {
   "cell_type": "code",
   "execution_count": 36,
   "id": "d1999b04",
   "metadata": {
    "ExecuteTime": {
     "end_time": "2022-01-29T17:29:26.487592Z",
     "start_time": "2022-01-29T17:29:26.112449Z"
    }
   },
   "outputs": [
    {
     "data": {
      "image/png": "[encoded data removed]",
      "text/plain": [
       "<Figure size 432x288 with 4 Axes>"
      ]
     },
     "metadata": {
      "needs_background": "light"
     },
     "output_type": "display_data"
    },
    {
     "data": {
      "application/javascript": [
       "\n",
       "            setTimeout(function() {\n",
       "                var nbb_cell_id = 36;\n",
       "                var nbb_unformatted_code = \"result = seasonal_decompose(df, model=\\\"multiplicative\\\")\\nresult.plot()\\nplt.show()\";\n",
       "                var nbb_formatted_code = \"result = seasonal_decompose(df, model=\\\"multiplicative\\\")\\nresult.plot()\\nplt.show()\";\n",
       "                var nbb_cells = Jupyter.notebook.get_cells();\n",
       "                for (var i = 0; i < nbb_cells.length; ++i) {\n",
       "                    if (nbb_cells[i].input_prompt_number == nbb_cell_id) {\n",
       "                        if (nbb_cells[i].get_text() == nbb_unformatted_code) {\n",
       "                             nbb_cells[i].set_text(nbb_formatted_code);\n",
       "                        }\n",
       "                        break;\n",
       "                    }\n",
       "                }\n",
       "            }, 500);\n",
       "            "
      ],
      "text/plain": [
       "<IPython.core.display.Javascript object>"
      ]
     },
     "metadata": {},
     "output_type": "display_data"
    }
   ],
   "source": [
    "result = seasonal_decompose(df, model=\"multiplicative\")\n",
    "result.plot()\n",
    "plt.show()"
   ]
  },
  {
   "cell_type": "code",
   "execution_count": 37,
   "id": "0514d6e0",
   "metadata": {
    "ExecuteTime": {
     "end_time": "2022-01-29T17:29:26.502551Z",
     "start_time": "2022-01-29T17:29:26.489588Z"
    }
   },
   "outputs": [
    {
     "data": {
      "application/javascript": [
       "\n",
       "            setTimeout(function() {\n",
       "                var nbb_cell_id = 37;\n",
       "                var nbb_unformatted_code = \"# X\\u00e9t t\\u1eebng th\\u00e0nh ph\\u1ea7n\";\n",
       "                var nbb_formatted_code = \"# X\\u00e9t t\\u1eebng th\\u00e0nh ph\\u1ea7n\";\n",
       "                var nbb_cells = Jupyter.notebook.get_cells();\n",
       "                for (var i = 0; i < nbb_cells.length; ++i) {\n",
       "                    if (nbb_cells[i].input_prompt_number == nbb_cell_id) {\n",
       "                        if (nbb_cells[i].get_text() == nbb_unformatted_code) {\n",
       "                             nbb_cells[i].set_text(nbb_formatted_code);\n",
       "                        }\n",
       "                        break;\n",
       "                    }\n",
       "                }\n",
       "            }, 500);\n",
       "            "
      ],
      "text/plain": [
       "<IPython.core.display.Javascript object>"
      ]
     },
     "metadata": {},
     "output_type": "display_data"
    }
   ],
   "source": [
    "# Xét từng thành phần"
   ]
  },
  {
   "cell_type": "code",
   "execution_count": 38,
   "id": "72469cf4",
   "metadata": {
    "ExecuteTime": {
     "end_time": "2022-01-29T17:29:26.642366Z",
     "start_time": "2022-01-29T17:29:26.504560Z"
    }
   },
   "outputs": [
    {
     "data": {
      "image/png": "[encoded data removed]",
      "text/plain": [
       "<Figure size 1008x360 with 1 Axes>"
      ]
     },
     "metadata": {
      "needs_background": "light"
     },
     "output_type": "display_data"
    },
    {
     "data": {
      "application/javascript": [
       "\n",
       "            setTimeout(function() {\n",
       "                var nbb_cell_id = 38;\n",
       "                var nbb_unformatted_code = \"# xem x\\u00e9t y\\u1ebfu t\\u1ed1 trend\\nplt.figure(figsize=(14, 5))\\nplt.plot(result.trend)\\nplt.show()\";\n",
       "                var nbb_formatted_code = \"# xem x\\u00e9t y\\u1ebfu t\\u1ed1 trend\\nplt.figure(figsize=(14, 5))\\nplt.plot(result.trend)\\nplt.show()\";\n",
       "                var nbb_cells = Jupyter.notebook.get_cells();\n",
       "                for (var i = 0; i < nbb_cells.length; ++i) {\n",
       "                    if (nbb_cells[i].input_prompt_number == nbb_cell_id) {\n",
       "                        if (nbb_cells[i].get_text() == nbb_unformatted_code) {\n",
       "                             nbb_cells[i].set_text(nbb_formatted_code);\n",
       "                        }\n",
       "                        break;\n",
       "                    }\n",
       "                }\n",
       "            }, 500);\n",
       "            "
      ],
      "text/plain": [
       "<IPython.core.display.Javascript object>"
      ]
     },
     "metadata": {},
     "output_type": "display_data"
    }
   ],
   "source": [
    "# xem xét yếu tố trend\n",
    "plt.figure(figsize=(14, 5))\n",
    "plt.plot(result.trend)\n",
    "plt.show()"
   ]
  },
  {
   "cell_type": "markdown",
   "id": "4752478d",
   "metadata": {},
   "source": [
    "## <p style=\"color:blue\">Nhận xét</p>"
   ]
  },
  {
   "cell_type": "code",
   "execution_count": 142,
   "id": "a283bde4",
   "metadata": {
    "ExecuteTime": {
     "end_time": "2022-01-29T21:06:57.202144Z",
     "start_time": "2022-01-29T21:06:57.191202Z"
    }
   },
   "outputs": [
    {
     "data": {
      "text/plain": [
       "'\\n# có trend\\nTa thấy: từ 1965 - giữa năm 1969, data có xu hướng đi lên, \\ntuy nhiên từ giữa năm 1969 đến giữa năm 1970, data có xu hướng đi xuống\\nsau đó, từ data lại có xu hướng đi lên\\n'"
      ]
     },
     "execution_count": 142,
     "metadata": {},
     "output_type": "execute_result"
    },
    {
     "data": {
      "application/javascript": [
       "\n",
       "            setTimeout(function() {\n",
       "                var nbb_cell_id = 142;\n",
       "                var nbb_unformatted_code = \"\\\"\\\"\\\"\\n# c\\u00f3 trend\\nTa th\\u1ea5y: t\\u1eeb 1965 - gi\\u1eefa n\\u0103m 1969, data c\\u00f3 xu h\\u01b0\\u1edbng \\u0111i l\\u00ean, \\ntuy nhi\\u00ean t\\u1eeb gi\\u1eefa n\\u0103m 1969 \\u0111\\u1ebfn gi\\u1eefa n\\u0103m 1970, data c\\u00f3 xu h\\u01b0\\u1edbng \\u0111i xu\\u1ed1ng\\nsau \\u0111\\u00f3, t\\u1eeb data l\\u1ea1i c\\u00f3 xu h\\u01b0\\u1edbng \\u0111i l\\u00ean\\n\\\"\\\"\\\"\";\n",
       "                var nbb_formatted_code = \"\\\"\\\"\\\"\\n# c\\u00f3 trend\\nTa th\\u1ea5y: t\\u1eeb 1965 - gi\\u1eefa n\\u0103m 1969, data c\\u00f3 xu h\\u01b0\\u1edbng \\u0111i l\\u00ean, \\ntuy nhi\\u00ean t\\u1eeb gi\\u1eefa n\\u0103m 1969 \\u0111\\u1ebfn gi\\u1eefa n\\u0103m 1970, data c\\u00f3 xu h\\u01b0\\u1edbng \\u0111i xu\\u1ed1ng\\nsau \\u0111\\u00f3, t\\u1eeb data l\\u1ea1i c\\u00f3 xu h\\u01b0\\u1edbng \\u0111i l\\u00ean\\n\\\"\\\"\\\"\";\n",
       "                var nbb_cells = Jupyter.notebook.get_cells();\n",
       "                for (var i = 0; i < nbb_cells.length; ++i) {\n",
       "                    if (nbb_cells[i].input_prompt_number == nbb_cell_id) {\n",
       "                        if (nbb_cells[i].get_text() == nbb_unformatted_code) {\n",
       "                             nbb_cells[i].set_text(nbb_formatted_code);\n",
       "                        }\n",
       "                        break;\n",
       "                    }\n",
       "                }\n",
       "            }, 500);\n",
       "            "
      ],
      "text/plain": [
       "<IPython.core.display.Javascript object>"
      ]
     },
     "metadata": {},
     "output_type": "display_data"
    }
   ],
   "source": [
    "\"\"\"\n",
    "# có trend\n",
    "Ta thấy: từ 1965 - giữa năm 1969, data có xu hướng đi lên, \n",
    "tuy nhiên từ giữa năm 1969 đến giữa năm 1970, data có xu hướng đi xuống\n",
    "sau đó, từ data lại có xu hướng đi lên\n",
    "\"\"\""
   ]
  },
  {
   "cell_type": "code",
   "execution_count": 40,
   "id": "6f9aa92f",
   "metadata": {
    "ExecuteTime": {
     "end_time": "2022-01-29T17:29:27.547407Z",
     "start_time": "2022-01-29T17:29:27.411770Z"
    }
   },
   "outputs": [
    {
     "data": {
      "image/png": "[encoded data removed]",
      "text/plain": [
       "<Figure size 1008x360 with 1 Axes>"
      ]
     },
     "metadata": {
      "needs_background": "light"
     },
     "output_type": "display_data"
    },
    {
     "data": {
      "application/javascript": [
       "\n",
       "            setTimeout(function() {\n",
       "                var nbb_cell_id = 40;\n",
       "                var nbb_unformatted_code = \"# xem x\\u00e9t y\\u1ebfu t\\u1ed1 seasonal\\nplt.figure(figsize=(14, 5))\\nplt.plot(result.seasonal)\\nplt.show()\";\n",
       "                var nbb_formatted_code = \"# xem x\\u00e9t y\\u1ebfu t\\u1ed1 seasonal\\nplt.figure(figsize=(14, 5))\\nplt.plot(result.seasonal)\\nplt.show()\";\n",
       "                var nbb_cells = Jupyter.notebook.get_cells();\n",
       "                for (var i = 0; i < nbb_cells.length; ++i) {\n",
       "                    if (nbb_cells[i].input_prompt_number == nbb_cell_id) {\n",
       "                        if (nbb_cells[i].get_text() == nbb_unformatted_code) {\n",
       "                             nbb_cells[i].set_text(nbb_formatted_code);\n",
       "                        }\n",
       "                        break;\n",
       "                    }\n",
       "                }\n",
       "            }, 500);\n",
       "            "
      ],
      "text/plain": [
       "<IPython.core.display.Javascript object>"
      ]
     },
     "metadata": {},
     "output_type": "display_data"
    }
   ],
   "source": [
    "# xem xét yếu tố seasonal\n",
    "plt.figure(figsize=(14, 5))\n",
    "plt.plot(result.seasonal)\n",
    "plt.show()"
   ]
  },
  {
   "cell_type": "markdown",
   "id": "f66624d6",
   "metadata": {},
   "source": [
    "## <p style=\"color:blue\">Nhận xét</p>"
   ]
  },
  {
   "cell_type": "code",
   "execution_count": 77,
   "id": "ec4f7883",
   "metadata": {},
   "outputs": [
    {
     "data": {
      "text/plain": [
       "'\\n- seasonal (mùa vụ): tăng giảm khá đều, tăng giảm theo đúng chu kỳ của nó\\n=> có tính mùa vụ\\n'"
      ]
     },
     "execution_count": 77,
     "metadata": {},
     "output_type": "execute_result"
    },
    {
     "data": {
      "application/javascript": [
       "\n",
       "            setTimeout(function() {\n",
       "                var nbb_cell_id = 77;\n",
       "                var nbb_unformatted_code = \"\\\"\\\"\\\"\\n- seasonal (m\\u00f9a v\\u1ee5): t\\u0103ng gi\\u1ea3m kh\\u00e1 \\u0111\\u1ec1u, t\\u0103ng gi\\u1ea3m theo \\u0111\\u00fang chu k\\u1ef3 c\\u1ee7a n\\u00f3\\n=> c\\u00f3 t\\u00ednh m\\u00f9a v\\u1ee5\\n\\\"\\\"\\\"\";\n",
       "                var nbb_formatted_code = \"\\\"\\\"\\\"\\n- seasonal (m\\u00f9a v\\u1ee5): t\\u0103ng gi\\u1ea3m kh\\u00e1 \\u0111\\u1ec1u, t\\u0103ng gi\\u1ea3m theo \\u0111\\u00fang chu k\\u1ef3 c\\u1ee7a n\\u00f3\\n=> c\\u00f3 t\\u00ednh m\\u00f9a v\\u1ee5\\n\\\"\\\"\\\"\";\n",
       "                var nbb_cells = Jupyter.notebook.get_cells();\n",
       "                for (var i = 0; i < nbb_cells.length; ++i) {\n",
       "                    if (nbb_cells[i].input_prompt_number == nbb_cell_id) {\n",
       "                        if (nbb_cells[i].get_text() == nbb_unformatted_code) {\n",
       "                             nbb_cells[i].set_text(nbb_formatted_code);\n",
       "                        }\n",
       "                        break;\n",
       "                    }\n",
       "                }\n",
       "            }, 500);\n",
       "            "
      ],
      "text/plain": [
       "<IPython.core.display.Javascript object>"
      ]
     },
     "metadata": {},
     "output_type": "display_data"
    }
   ],
   "source": [
    "\"\"\"\n",
    "- seasonal (mùa vụ): tăng giảm khá đều, tăng giảm theo đúng chu kỳ của nó\n",
    "=> có tính mùa vụ\n",
    "\"\"\""
   ]
  },
  {
   "cell_type": "code",
   "execution_count": 78,
   "id": "9e717f60",
   "metadata": {},
   "outputs": [
    {
     "data": {
      "image/png": "[encoded data removed]",
      "text/plain": [
       "<Figure size 1008x360 with 1 Axes>"
      ]
     },
     "metadata": {
      "needs_background": "light"
     },
     "output_type": "display_data"
    },
    {
     "data": {
      "application/javascript": [
       "\n",
       "            setTimeout(function() {\n",
       "                var nbb_cell_id = 78;\n",
       "                var nbb_unformatted_code = \"# xem x\\u00e9t y\\u1ebfu t\\u1ed1 resid\\nplt.figure(figsize=(14, 5))\\nplt.plot(result.resid)\\nplt.show()\";\n",
       "                var nbb_formatted_code = \"# xem x\\u00e9t y\\u1ebfu t\\u1ed1 resid\\nplt.figure(figsize=(14, 5))\\nplt.plot(result.resid)\\nplt.show()\";\n",
       "                var nbb_cells = Jupyter.notebook.get_cells();\n",
       "                for (var i = 0; i < nbb_cells.length; ++i) {\n",
       "                    if (nbb_cells[i].input_prompt_number == nbb_cell_id) {\n",
       "                        if (nbb_cells[i].get_text() == nbb_unformatted_code) {\n",
       "                             nbb_cells[i].set_text(nbb_formatted_code);\n",
       "                        }\n",
       "                        break;\n",
       "                    }\n",
       "                }\n",
       "            }, 500);\n",
       "            "
      ],
      "text/plain": [
       "<IPython.core.display.Javascript object>"
      ]
     },
     "metadata": {},
     "output_type": "display_data"
    }
   ],
   "source": [
    "# xem xét yếu tố resid\n",
    "plt.figure(figsize=(14, 5))\n",
    "plt.plot(result.resid)\n",
    "plt.show()"
   ]
  },
  {
   "cell_type": "markdown",
   "id": "bd47c924",
   "metadata": {},
   "source": [
    "## <p style=\"color:blue\">Nhận xét</p>"
   ]
  },
  {
   "cell_type": "code",
   "execution_count": 79,
   "id": "59a19cab",
   "metadata": {},
   "outputs": [
    {
     "data": {
      "text/plain": [
       "'\\nresid tăng giảm bất thường, có những đột biến, có biến động bất thường (Irregular fluctuation) là những thay đổi đột ngột ngẫu\\nnhiên và không thể đoán trước\\n'"
      ]
     },
     "execution_count": 79,
     "metadata": {},
     "output_type": "execute_result"
    },
    {
     "data": {
      "application/javascript": [
       "\n",
       "            setTimeout(function() {\n",
       "                var nbb_cell_id = 79;\n",
       "                var nbb_unformatted_code = \"'''\\nresid t\\u0103ng gi\\u1ea3m b\\u1ea5t th\\u01b0\\u1eddng, c\\u00f3 nh\\u1eefng \\u0111\\u1ed9t bi\\u1ebfn, c\\u00f3 bi\\u1ebfn \\u0111\\u1ed9ng b\\u1ea5t th\\u01b0\\u1eddng (Irregular fluctuation) l\\u00e0 nh\\u1eefng thay \\u0111\\u1ed5i \\u0111\\u1ed9t ng\\u1ed9t ng\\u1eabu\\nnhi\\u00ean v\\u00e0 kh\\u00f4ng th\\u1ec3 \\u0111o\\u00e1n tr\\u01b0\\u1edbc\\n'''\";\n",
       "                var nbb_formatted_code = \"\\\"\\\"\\\"\\nresid t\\u0103ng gi\\u1ea3m b\\u1ea5t th\\u01b0\\u1eddng, c\\u00f3 nh\\u1eefng \\u0111\\u1ed9t bi\\u1ebfn, c\\u00f3 bi\\u1ebfn \\u0111\\u1ed9ng b\\u1ea5t th\\u01b0\\u1eddng (Irregular fluctuation) l\\u00e0 nh\\u1eefng thay \\u0111\\u1ed5i \\u0111\\u1ed9t ng\\u1ed9t ng\\u1eabu\\nnhi\\u00ean v\\u00e0 kh\\u00f4ng th\\u1ec3 \\u0111o\\u00e1n tr\\u01b0\\u1edbc\\n\\\"\\\"\\\"\";\n",
       "                var nbb_cells = Jupyter.notebook.get_cells();\n",
       "                for (var i = 0; i < nbb_cells.length; ++i) {\n",
       "                    if (nbb_cells[i].input_prompt_number == nbb_cell_id) {\n",
       "                        if (nbb_cells[i].get_text() == nbb_unformatted_code) {\n",
       "                             nbb_cells[i].set_text(nbb_formatted_code);\n",
       "                        }\n",
       "                        break;\n",
       "                    }\n",
       "                }\n",
       "            }, 500);\n",
       "            "
      ],
      "text/plain": [
       "<IPython.core.display.Javascript object>"
      ]
     },
     "metadata": {},
     "output_type": "display_data"
    }
   ],
   "source": [
    "\"\"\"\n",
    "resid tăng giảm bất thường, có những đột biến, có biến động bất thường (Irregular fluctuation) là những thay đổi đột ngột ngẫu\n",
    "nhiên và không thể đoán trước\n",
    "\"\"\""
   ]
  },
  {
   "cell_type": "markdown",
   "id": "6477add3",
   "metadata": {},
   "source": [
    "## Build train and test sets"
   ]
  },
  {
   "cell_type": "code",
   "execution_count": 106,
   "id": "71cd3dd2",
   "metadata": {
    "ExecuteTime": {
     "end_time": "2022-01-29T18:07:04.030100Z",
     "start_time": "2022-01-29T18:07:04.007161Z"
    }
   },
   "outputs": [
    {
     "name": "stdout",
     "output_type": "stream",
     "text": [
      "train examples:  78\n",
      "test examples:  28\n"
     ]
    },
    {
     "data": {
      "application/javascript": [
       "\n",
       "            setTimeout(function() {\n",
       "                var nbb_cell_id = 106;\n",
       "                var nbb_unformatted_code = \"ts_train = df.loc[:\\\"1970-06-01\\\"]\\nts_test = df[\\\"1970-06-01\\\":]\\n\\nprint(\\\"train examples: \\\", ts_train.shape[0])\\nprint(\\\"test examples: \\\", ts_test.shape[0])\";\n",
       "                var nbb_formatted_code = \"ts_train = df.loc[:\\\"1970-06-01\\\"]\\nts_test = df[\\\"1970-06-01\\\":]\\n\\nprint(\\\"train examples: \\\", ts_train.shape[0])\\nprint(\\\"test examples: \\\", ts_test.shape[0])\";\n",
       "                var nbb_cells = Jupyter.notebook.get_cells();\n",
       "                for (var i = 0; i < nbb_cells.length; ++i) {\n",
       "                    if (nbb_cells[i].input_prompt_number == nbb_cell_id) {\n",
       "                        if (nbb_cells[i].get_text() == nbb_unformatted_code) {\n",
       "                             nbb_cells[i].set_text(nbb_formatted_code);\n",
       "                        }\n",
       "                        break;\n",
       "                    }\n",
       "                }\n",
       "            }, 500);\n",
       "            "
      ],
      "text/plain": [
       "<IPython.core.display.Javascript object>"
      ]
     },
     "metadata": {},
     "output_type": "display_data"
    }
   ],
   "source": [
    "ts_train = df.loc[:\"1970-06-01\"]\n",
    "ts_test = df[\"1970-06-01\":]\n",
    "\n",
    "print(\"train examples: \", ts_train.shape[0])\n",
    "print(\"test examples: \", ts_test.shape[0])"
   ]
  },
  {
   "cell_type": "code",
   "execution_count": 107,
   "id": "e7fdcf12",
   "metadata": {
    "ExecuteTime": {
     "end_time": "2022-01-29T18:07:04.481021Z",
     "start_time": "2022-01-29T18:07:04.465063Z"
    }
   },
   "outputs": [
    {
     "data": {
      "text/html": [
       "<div>\n",
       "<style scoped>\n",
       "    .dataframe tbody tr th:only-of-type {\n",
       "        vertical-align: middle;\n",
       "    }\n",
       "\n",
       "    .dataframe tbody tr th {\n",
       "        vertical-align: top;\n",
       "    }\n",
       "\n",
       "    .dataframe thead th {\n",
       "        text-align: right;\n",
       "    }\n",
       "</style>\n",
       "<table border=\"1\" class=\"dataframe\">\n",
       "  <thead>\n",
       "    <tr style=\"text-align: right;\">\n",
       "      <th></th>\n",
       "      <th>monthly_champange</th>\n",
       "    </tr>\n",
       "    <tr>\n",
       "      <th>Month</th>\n",
       "      <th></th>\n",
       "    </tr>\n",
       "  </thead>\n",
       "  <tbody>\n",
       "    <tr>\n",
       "      <th>1964-01-01</th>\n",
       "      <td>2815</td>\n",
       "    </tr>\n",
       "    <tr>\n",
       "      <th>1964-02-01</th>\n",
       "      <td>2672</td>\n",
       "    </tr>\n",
       "    <tr>\n",
       "      <th>1964-03-01</th>\n",
       "      <td>2755</td>\n",
       "    </tr>\n",
       "    <tr>\n",
       "      <th>1964-04-01</th>\n",
       "      <td>2721</td>\n",
       "    </tr>\n",
       "    <tr>\n",
       "      <th>1964-05-01</th>\n",
       "      <td>2946</td>\n",
       "    </tr>\n",
       "  </tbody>\n",
       "</table>\n",
       "</div>"
      ],
      "text/plain": [
       "            monthly_champange\n",
       "Month                        \n",
       "1964-01-01               2815\n",
       "1964-02-01               2672\n",
       "1964-03-01               2755\n",
       "1964-04-01               2721\n",
       "1964-05-01               2946"
      ]
     },
     "execution_count": 107,
     "metadata": {},
     "output_type": "execute_result"
    },
    {
     "data": {
      "application/javascript": [
       "\n",
       "            setTimeout(function() {\n",
       "                var nbb_cell_id = 107;\n",
       "                var nbb_unformatted_code = \"ts_train.head()\";\n",
       "                var nbb_formatted_code = \"ts_train.head()\";\n",
       "                var nbb_cells = Jupyter.notebook.get_cells();\n",
       "                for (var i = 0; i < nbb_cells.length; ++i) {\n",
       "                    if (nbb_cells[i].input_prompt_number == nbb_cell_id) {\n",
       "                        if (nbb_cells[i].get_text() == nbb_unformatted_code) {\n",
       "                             nbb_cells[i].set_text(nbb_formatted_code);\n",
       "                        }\n",
       "                        break;\n",
       "                    }\n",
       "                }\n",
       "            }, 500);\n",
       "            "
      ],
      "text/plain": [
       "<IPython.core.display.Javascript object>"
      ]
     },
     "metadata": {},
     "output_type": "display_data"
    }
   ],
   "source": [
    "ts_train.head()"
   ]
  },
  {
   "cell_type": "code",
   "execution_count": 108,
   "id": "5fdef232",
   "metadata": {
    "ExecuteTime": {
     "end_time": "2022-01-29T18:07:04.853908Z",
     "start_time": "2022-01-29T18:07:04.830968Z"
    }
   },
   "outputs": [
    {
     "data": {
      "text/plain": [
       "DatetimeIndex(['1964-01-01', '1964-02-01', '1964-03-01', '1964-04-01',\n",
       "               '1964-05-01', '1964-06-01', '1964-07-01', '1964-08-01',\n",
       "               '1964-09-01', '1964-10-01', '1964-11-01', '1964-12-01',\n",
       "               '1965-01-01', '1965-02-01', '1965-03-01', '1965-04-01',\n",
       "               '1965-05-01', '1965-06-01', '1965-07-01', '1965-08-01',\n",
       "               '1965-09-01', '1965-10-01', '1965-11-01', '1965-12-01',\n",
       "               '1966-01-01', '1966-02-01', '1966-03-01', '1966-04-01',\n",
       "               '1966-05-01', '1966-06-01', '1966-07-01', '1966-08-01',\n",
       "               '1966-09-01', '1966-10-01', '1966-11-01', '1966-12-01',\n",
       "               '1967-01-01', '1967-02-01', '1967-03-01', '1967-04-01',\n",
       "               '1967-05-01', '1967-06-01', '1967-07-01', '1967-08-01',\n",
       "               '1967-09-01', '1967-10-01', '1967-11-01', '1967-12-01',\n",
       "               '1968-01-01', '1968-02-01', '1968-03-01', '1968-04-01',\n",
       "               '1968-05-01', '1968-06-01', '1968-07-01', '1968-08-01',\n",
       "               '1968-09-01', '1968-10-01', '1968-11-01', '1968-12-01',\n",
       "               '1969-01-01', '1969-02-01', '1969-03-01', '1969-04-01',\n",
       "               '1969-05-01', '1969-06-01', '1969-07-01', '1969-08-01',\n",
       "               '1969-09-01', '1969-10-01', '1969-11-01', '1969-12-01',\n",
       "               '1970-01-01', '1970-02-01', '1970-03-01', '1970-04-01',\n",
       "               '1970-05-01', '1970-06-01'],\n",
       "              dtype='datetime64[ns]', name='Month', freq=None)"
      ]
     },
     "execution_count": 108,
     "metadata": {},
     "output_type": "execute_result"
    },
    {
     "data": {
      "application/javascript": [
       "\n",
       "            setTimeout(function() {\n",
       "                var nbb_cell_id = 108;\n",
       "                var nbb_unformatted_code = \"ts_train.index\";\n",
       "                var nbb_formatted_code = \"ts_train.index\";\n",
       "                var nbb_cells = Jupyter.notebook.get_cells();\n",
       "                for (var i = 0; i < nbb_cells.length; ++i) {\n",
       "                    if (nbb_cells[i].input_prompt_number == nbb_cell_id) {\n",
       "                        if (nbb_cells[i].get_text() == nbb_unformatted_code) {\n",
       "                             nbb_cells[i].set_text(nbb_formatted_code);\n",
       "                        }\n",
       "                        break;\n",
       "                    }\n",
       "                }\n",
       "            }, 500);\n",
       "            "
      ],
      "text/plain": [
       "<IPython.core.display.Javascript object>"
      ]
     },
     "metadata": {},
     "output_type": "display_data"
    }
   ],
   "source": [
    "ts_train.index"
   ]
  },
  {
   "cell_type": "markdown",
   "id": "b5d9f475",
   "metadata": {},
   "source": [
    "## Áp dụng auto_arima để xây dựng mô hình"
   ]
  },
  {
   "cell_type": "code",
   "execution_count": 109,
   "id": "9ac64a9b",
   "metadata": {
    "ExecuteTime": {
     "end_time": "2022-01-29T18:07:05.928479Z",
     "start_time": "2022-01-29T18:07:05.915531Z"
    }
   },
   "outputs": [
    {
     "data": {
      "application/javascript": [
       "\n",
       "            setTimeout(function() {\n",
       "                var nbb_cell_id = 109;\n",
       "                var nbb_unformatted_code = \"from pmdarima import auto_arima\";\n",
       "                var nbb_formatted_code = \"from pmdarima import auto_arima\";\n",
       "                var nbb_cells = Jupyter.notebook.get_cells();\n",
       "                for (var i = 0; i < nbb_cells.length; ++i) {\n",
       "                    if (nbb_cells[i].input_prompt_number == nbb_cell_id) {\n",
       "                        if (nbb_cells[i].get_text() == nbb_unformatted_code) {\n",
       "                             nbb_cells[i].set_text(nbb_formatted_code);\n",
       "                        }\n",
       "                        break;\n",
       "                    }\n",
       "                }\n",
       "            }, 500);\n",
       "            "
      ],
      "text/plain": [
       "<IPython.core.display.Javascript object>"
      ]
     },
     "metadata": {},
     "output_type": "display_data"
    }
   ],
   "source": [
    "from pmdarima import auto_arima"
   ]
  },
  {
   "cell_type": "code",
   "execution_count": 129,
   "id": "387559ac",
   "metadata": {
    "ExecuteTime": {
     "end_time": "2022-01-29T18:09:28.009312Z",
     "start_time": "2022-01-29T18:09:17.189711Z"
    }
   },
   "outputs": [
    {
     "name": "stdout",
     "output_type": "stream",
     "text": [
      "Performing stepwise search to minimize aic\n",
      " ARIMA(2,1,2)(1,1,1)[12]             : AIC=inf, Time=0.80 sec\n",
      " ARIMA(0,1,0)(0,1,0)[12]             : AIC=1524.662, Time=0.01 sec\n",
      " ARIMA(1,1,0)(1,1,0)[12]             : AIC=1507.071, Time=0.19 sec\n",
      " ARIMA(0,1,1)(0,1,1)[12]             : AIC=1490.517, Time=0.23 sec\n",
      " ARIMA(0,1,1)(0,1,0)[12]             : AIC=1491.853, Time=0.05 sec\n",
      " ARIMA(0,1,1)(1,1,1)[12]             : AIC=1491.669, Time=0.29 sec\n",
      " ARIMA(0,1,1)(0,1,2)[12]             : AIC=1491.700, Time=0.62 sec\n",
      " ARIMA(0,1,1)(1,1,0)[12]             : AIC=1490.003, Time=0.18 sec\n",
      " ARIMA(0,1,1)(2,1,0)[12]             : AIC=1491.649, Time=0.56 sec\n",
      " ARIMA(0,1,1)(2,1,1)[12]             : AIC=inf, Time=1.32 sec\n",
      " ARIMA(0,1,0)(1,1,0)[12]             : AIC=1516.612, Time=0.05 sec\n",
      " ARIMA(1,1,1)(1,1,0)[12]             : AIC=1485.190, Time=0.34 sec\n",
      " ARIMA(1,1,1)(0,1,0)[12]             : AIC=1488.819, Time=0.11 sec\n",
      " ARIMA(1,1,1)(2,1,0)[12]             : AIC=1486.738, Time=0.81 sec\n",
      " ARIMA(1,1,1)(1,1,1)[12]             : AIC=1486.804, Time=0.41 sec\n",
      " ARIMA(1,1,1)(0,1,1)[12]             : AIC=1486.124, Time=0.36 sec\n",
      " ARIMA(1,1,1)(2,1,1)[12]             : AIC=inf, Time=1.60 sec\n",
      " ARIMA(2,1,1)(1,1,0)[12]             : AIC=1487.125, Time=0.43 sec\n",
      " ARIMA(1,1,2)(1,1,0)[12]             : AIC=1487.101, Time=0.56 sec\n",
      " ARIMA(0,1,2)(1,1,0)[12]             : AIC=1485.224, Time=0.28 sec\n",
      " ARIMA(2,1,0)(1,1,0)[12]             : AIC=1500.172, Time=0.25 sec\n",
      " ARIMA(2,1,2)(1,1,0)[12]             : AIC=inf, Time=0.83 sec\n",
      " ARIMA(1,1,1)(1,1,0)[12] intercept   : AIC=inf, Time=0.50 sec\n",
      "\n",
      "Best model:  ARIMA(1,1,1)(1,1,0)[12]          \n",
      "Total fit time: 10.785 seconds\n"
     ]
    },
    {
     "data": {
      "application/javascript": [
       "\n",
       "            setTimeout(function() {\n",
       "                var nbb_cell_id = 129;\n",
       "                var nbb_unformatted_code = \"stepwise_model = auto_arima(\\n    df,\\n    start_p=2,\\n    start_q=2,\\n    max_p=5,\\n    max_q=5,\\n    m=12,\\n    start_P=1,\\n    seasonal=True,\\n    d=1,\\n    D=1,\\n    trace=True,\\n    error_action=\\\"ignore\\\",\\n    suppress_warnings=True,\\n    stepwise=True,\\n)\";\n",
       "                var nbb_formatted_code = \"stepwise_model = auto_arima(\\n    df,\\n    start_p=2,\\n    start_q=2,\\n    max_p=5,\\n    max_q=5,\\n    m=12,\\n    start_P=1,\\n    seasonal=True,\\n    d=1,\\n    D=1,\\n    trace=True,\\n    error_action=\\\"ignore\\\",\\n    suppress_warnings=True,\\n    stepwise=True,\\n)\";\n",
       "                var nbb_cells = Jupyter.notebook.get_cells();\n",
       "                for (var i = 0; i < nbb_cells.length; ++i) {\n",
       "                    if (nbb_cells[i].input_prompt_number == nbb_cell_id) {\n",
       "                        if (nbb_cells[i].get_text() == nbb_unformatted_code) {\n",
       "                             nbb_cells[i].set_text(nbb_formatted_code);\n",
       "                        }\n",
       "                        break;\n",
       "                    }\n",
       "                }\n",
       "            }, 500);\n",
       "            "
      ],
      "text/plain": [
       "<IPython.core.display.Javascript object>"
      ]
     },
     "metadata": {},
     "output_type": "display_data"
    }
   ],
   "source": [
    "stepwise_model = auto_arima(\n",
    "    df,\n",
    "    start_p=2,\n",
    "    start_q=2,\n",
    "    max_p=5,\n",
    "    max_q=5,\n",
    "    m=12,\n",
    "    start_P=1,\n",
    "    seasonal=True,\n",
    "    d=1,\n",
    "    D=1,\n",
    "    trace=True,\n",
    "    error_action=\"ignore\",\n",
    "    suppress_warnings=True,\n",
    "    stepwise=True,\n",
    ")"
   ]
  },
  {
   "cell_type": "code",
   "execution_count": 111,
   "id": "829de41d",
   "metadata": {
    "ExecuteTime": {
     "end_time": "2022-01-29T18:07:24.565523Z",
     "start_time": "2022-01-29T18:07:24.551572Z"
    }
   },
   "outputs": [
    {
     "data": {
      "text/plain": [
       "'\\n=> model tốt nhất là ARIMA(1,1,1)(1,1,0)[12]  \\n'"
      ]
     },
     "execution_count": 111,
     "metadata": {},
     "output_type": "execute_result"
    },
    {
     "data": {
      "application/javascript": [
       "\n",
       "            setTimeout(function() {\n",
       "                var nbb_cell_id = 111;\n",
       "                var nbb_unformatted_code = \"\\\"\\\"\\\"\\n=> model t\\u1ed1t nh\\u1ea5t l\\u00e0 ARIMA(1,1,1)(1,1,0)[12]  \\n\\\"\\\"\\\"\";\n",
       "                var nbb_formatted_code = \"\\\"\\\"\\\"\\n=> model t\\u1ed1t nh\\u1ea5t l\\u00e0 ARIMA(1,1,1)(1,1,0)[12]  \\n\\\"\\\"\\\"\";\n",
       "                var nbb_cells = Jupyter.notebook.get_cells();\n",
       "                for (var i = 0; i < nbb_cells.length; ++i) {\n",
       "                    if (nbb_cells[i].input_prompt_number == nbb_cell_id) {\n",
       "                        if (nbb_cells[i].get_text() == nbb_unformatted_code) {\n",
       "                             nbb_cells[i].set_text(nbb_formatted_code);\n",
       "                        }\n",
       "                        break;\n",
       "                    }\n",
       "                }\n",
       "            }, 500);\n",
       "            "
      ],
      "text/plain": [
       "<IPython.core.display.Javascript object>"
      ]
     },
     "metadata": {},
     "output_type": "display_data"
    }
   ],
   "source": [
    "\"\"\"\n",
    "=> model tốt nhất là ARIMA(1,1,1)(1,1,0)[12]  \n",
    "\"\"\""
   ]
  },
  {
   "cell_type": "code",
   "execution_count": 112,
   "id": "43898166",
   "metadata": {
    "ExecuteTime": {
     "end_time": "2022-01-29T18:07:24.580481Z",
     "start_time": "2022-01-29T18:07:24.567519Z"
    }
   },
   "outputs": [
    {
     "name": "stdout",
     "output_type": "stream",
     "text": [
      "1485.1904967252533\n"
     ]
    },
    {
     "data": {
      "application/javascript": [
       "\n",
       "            setTimeout(function() {\n",
       "                var nbb_cell_id = 112;\n",
       "                var nbb_unformatted_code = \"print(stepwise_model.aic())\";\n",
       "                var nbb_formatted_code = \"print(stepwise_model.aic())\";\n",
       "                var nbb_cells = Jupyter.notebook.get_cells();\n",
       "                for (var i = 0; i < nbb_cells.length; ++i) {\n",
       "                    if (nbb_cells[i].input_prompt_number == nbb_cell_id) {\n",
       "                        if (nbb_cells[i].get_text() == nbb_unformatted_code) {\n",
       "                             nbb_cells[i].set_text(nbb_formatted_code);\n",
       "                        }\n",
       "                        break;\n",
       "                    }\n",
       "                }\n",
       "            }, 500);\n",
       "            "
      ],
      "text/plain": [
       "<IPython.core.display.Javascript object>"
      ]
     },
     "metadata": {},
     "output_type": "display_data"
    }
   ],
   "source": [
    "print(stepwise_model.aic())"
   ]
  },
  {
   "cell_type": "markdown",
   "id": "dde89246",
   "metadata": {},
   "source": [
    "### Fit model"
   ]
  },
  {
   "cell_type": "code",
   "execution_count": 113,
   "id": "f7f9f4fd",
   "metadata": {
    "ExecuteTime": {
     "end_time": "2022-01-29T18:07:24.859142Z",
     "start_time": "2022-01-29T18:07:24.583474Z"
    }
   },
   "outputs": [
    {
     "data": {
      "text/plain": [
       "ARIMA(order=(1, 1, 1), scoring_args={}, seasonal_order=(1, 1, 0, 12),\n",
       "      suppress_warnings=True, with_intercept=False)"
      ]
     },
     "execution_count": 113,
     "metadata": {},
     "output_type": "execute_result"
    },
    {
     "data": {
      "application/javascript": [
       "\n",
       "            setTimeout(function() {\n",
       "                var nbb_cell_id = 113;\n",
       "                var nbb_unformatted_code = \"stepwise_model.fit(ts_train)\";\n",
       "                var nbb_formatted_code = \"stepwise_model.fit(ts_train)\";\n",
       "                var nbb_cells = Jupyter.notebook.get_cells();\n",
       "                for (var i = 0; i < nbb_cells.length; ++i) {\n",
       "                    if (nbb_cells[i].input_prompt_number == nbb_cell_id) {\n",
       "                        if (nbb_cells[i].get_text() == nbb_unformatted_code) {\n",
       "                             nbb_cells[i].set_text(nbb_formatted_code);\n",
       "                        }\n",
       "                        break;\n",
       "                    }\n",
       "                }\n",
       "            }, 500);\n",
       "            "
      ],
      "text/plain": [
       "<IPython.core.display.Javascript object>"
      ]
     },
     "metadata": {},
     "output_type": "display_data"
    }
   ],
   "source": [
    "stepwise_model.fit(ts_train)"
   ]
  },
  {
   "cell_type": "markdown",
   "id": "9dc54065",
   "metadata": {},
   "source": [
    "### Prediction"
   ]
  },
  {
   "cell_type": "code",
   "execution_count": 114,
   "id": "a4417ed3",
   "metadata": {
    "ExecuteTime": {
     "end_time": "2022-01-29T18:07:24.890092Z",
     "start_time": "2022-01-29T18:07:24.861137Z"
    }
   },
   "outputs": [
    {
     "data": {
      "text/plain": [
       "array([ 3234.60082448,  1569.58527382,  4979.37610421,  6646.5740942 ,\n",
       "       10513.30141447, 13519.63814245,  2500.56832624,  2739.80600248,\n",
       "        3216.14456638,  3546.82643904,  2831.79661104,  3802.91641616,\n",
       "        3025.30935948,  1357.88625284,  4767.10483146,  6433.18329348,\n",
       "       10304.09453664, 13317.37466433,  2281.51451036,  2522.10374004,\n",
       "        2998.09478242,  3331.33612535,  2609.92878753,  3586.76928084,\n",
       "        2810.86826403,  1143.60188073,  4552.8577109 ,  6219.00905021])"
      ]
     },
     "execution_count": 114,
     "metadata": {},
     "output_type": "execute_result"
    },
    {
     "data": {
      "application/javascript": [
       "\n",
       "            setTimeout(function() {\n",
       "                var nbb_cell_id = 114;\n",
       "                var nbb_unformatted_code = \"future_forecast = stepwise_model.predict(n_periods=len(ts_test))\\nfuture_forecast\";\n",
       "                var nbb_formatted_code = \"future_forecast = stepwise_model.predict(n_periods=len(ts_test))\\nfuture_forecast\";\n",
       "                var nbb_cells = Jupyter.notebook.get_cells();\n",
       "                for (var i = 0; i < nbb_cells.length; ++i) {\n",
       "                    if (nbb_cells[i].input_prompt_number == nbb_cell_id) {\n",
       "                        if (nbb_cells[i].get_text() == nbb_unformatted_code) {\n",
       "                             nbb_cells[i].set_text(nbb_formatted_code);\n",
       "                        }\n",
       "                        break;\n",
       "                    }\n",
       "                }\n",
       "            }, 500);\n",
       "            "
      ],
      "text/plain": [
       "<IPython.core.display.Javascript object>"
      ]
     },
     "metadata": {},
     "output_type": "display_data"
    }
   ],
   "source": [
    "future_forecast = stepwise_model.predict(n_periods=len(ts_test))\n",
    "future_forecast"
   ]
  },
  {
   "cell_type": "markdown",
   "id": "470f6eec",
   "metadata": {},
   "source": [
    "### Visualization"
   ]
  },
  {
   "cell_type": "code",
   "execution_count": 115,
   "id": "a1b3a7f0",
   "metadata": {
    "ExecuteTime": {
     "end_time": "2022-01-29T18:07:24.906018Z",
     "start_time": "2022-01-29T18:07:24.891057Z"
    }
   },
   "outputs": [
    {
     "data": {
      "text/html": [
       "<div>\n",
       "<style scoped>\n",
       "    .dataframe tbody tr th:only-of-type {\n",
       "        vertical-align: middle;\n",
       "    }\n",
       "\n",
       "    .dataframe tbody tr th {\n",
       "        vertical-align: top;\n",
       "    }\n",
       "\n",
       "    .dataframe thead th {\n",
       "        text-align: right;\n",
       "    }\n",
       "</style>\n",
       "<table border=\"1\" class=\"dataframe\">\n",
       "  <thead>\n",
       "    <tr style=\"text-align: right;\">\n",
       "      <th></th>\n",
       "      <th>Prediction</th>\n",
       "    </tr>\n",
       "    <tr>\n",
       "      <th>Month</th>\n",
       "      <th></th>\n",
       "    </tr>\n",
       "  </thead>\n",
       "  <tbody>\n",
       "    <tr>\n",
       "      <th>1970-06-01</th>\n",
       "      <td>3234.600824</td>\n",
       "    </tr>\n",
       "    <tr>\n",
       "      <th>1970-07-01</th>\n",
       "      <td>1569.585274</td>\n",
       "    </tr>\n",
       "    <tr>\n",
       "      <th>1970-08-01</th>\n",
       "      <td>4979.376104</td>\n",
       "    </tr>\n",
       "    <tr>\n",
       "      <th>1970-09-01</th>\n",
       "      <td>6646.574094</td>\n",
       "    </tr>\n",
       "    <tr>\n",
       "      <th>1970-10-01</th>\n",
       "      <td>10513.301414</td>\n",
       "    </tr>\n",
       "  </tbody>\n",
       "</table>\n",
       "</div>"
      ],
      "text/plain": [
       "              Prediction\n",
       "Month                   \n",
       "1970-06-01   3234.600824\n",
       "1970-07-01   1569.585274\n",
       "1970-08-01   4979.376104\n",
       "1970-09-01   6646.574094\n",
       "1970-10-01  10513.301414"
      ]
     },
     "execution_count": 115,
     "metadata": {},
     "output_type": "execute_result"
    },
    {
     "data": {
      "application/javascript": [
       "\n",
       "            setTimeout(function() {\n",
       "                var nbb_cell_id = 115;\n",
       "                var nbb_unformatted_code = \"future_forecast = pd.DataFrame(\\n    future_forecast, index=ts_test.index, columns=[\\\"Prediction\\\"]\\n)\\nfuture_forecast.head()\";\n",
       "                var nbb_formatted_code = \"future_forecast = pd.DataFrame(\\n    future_forecast, index=ts_test.index, columns=[\\\"Prediction\\\"]\\n)\\nfuture_forecast.head()\";\n",
       "                var nbb_cells = Jupyter.notebook.get_cells();\n",
       "                for (var i = 0; i < nbb_cells.length; ++i) {\n",
       "                    if (nbb_cells[i].input_prompt_number == nbb_cell_id) {\n",
       "                        if (nbb_cells[i].get_text() == nbb_unformatted_code) {\n",
       "                             nbb_cells[i].set_text(nbb_formatted_code);\n",
       "                        }\n",
       "                        break;\n",
       "                    }\n",
       "                }\n",
       "            }, 500);\n",
       "            "
      ],
      "text/plain": [
       "<IPython.core.display.Javascript object>"
      ]
     },
     "metadata": {},
     "output_type": "display_data"
    }
   ],
   "source": [
    "future_forecast = pd.DataFrame(\n",
    "    future_forecast, index=ts_test.index, columns=[\"Prediction\"]\n",
    ")\n",
    "future_forecast.head()"
   ]
  },
  {
   "cell_type": "code",
   "execution_count": 116,
   "id": "8a95eac3",
   "metadata": {
    "ExecuteTime": {
     "end_time": "2022-01-29T18:07:24.920976Z",
     "start_time": "2022-01-29T18:07:24.907032Z"
    }
   },
   "outputs": [
    {
     "data": {
      "application/javascript": [
       "\n",
       "            setTimeout(function() {\n",
       "                var nbb_cell_id = 116;\n",
       "                var nbb_unformatted_code = \"predict2 = future_forecast.copy()\";\n",
       "                var nbb_formatted_code = \"predict2 = future_forecast.copy()\";\n",
       "                var nbb_cells = Jupyter.notebook.get_cells();\n",
       "                for (var i = 0; i < nbb_cells.length; ++i) {\n",
       "                    if (nbb_cells[i].input_prompt_number == nbb_cell_id) {\n",
       "                        if (nbb_cells[i].get_text() == nbb_unformatted_code) {\n",
       "                             nbb_cells[i].set_text(nbb_formatted_code);\n",
       "                        }\n",
       "                        break;\n",
       "                    }\n",
       "                }\n",
       "            }, 500);\n",
       "            "
      ],
      "text/plain": [
       "<IPython.core.display.Javascript object>"
      ]
     },
     "metadata": {},
     "output_type": "display_data"
    }
   ],
   "source": [
    "predict2 = future_forecast.copy()"
   ]
  },
  {
   "cell_type": "code",
   "execution_count": 193,
   "id": "c711bc33",
   "metadata": {
    "ExecuteTime": {
     "end_time": "2022-01-29T21:42:54.307087Z",
     "start_time": "2022-01-29T21:42:54.144693Z"
    }
   },
   "outputs": [
    {
     "data": {
      "image/png": "[encoded data removed]",
      "text/plain": [
       "<Figure size 720x216 with 1 Axes>"
      ]
     },
     "metadata": {
      "needs_background": "light"
     },
     "output_type": "display_data"
    },
    {
     "data": {
      "application/javascript": [
       "\n",
       "            setTimeout(function() {\n",
       "                var nbb_cell_id = 193;\n",
       "                var nbb_unformatted_code = \"plt.figure(figsize=(10, 3))\\nplt.plot(ts_test, label=\\\"Actual\\\")\\nplt.plot(future_forecast, label=\\\"Prediction\\\")\\n# plt.xticks(rotation=85)\\nplt.legend()\\nplt.show()\";\n",
       "                var nbb_formatted_code = \"plt.figure(figsize=(10, 3))\\nplt.plot(ts_test, label=\\\"Actual\\\")\\nplt.plot(future_forecast, label=\\\"Prediction\\\")\\n# plt.xticks(rotation=85)\\nplt.legend()\\nplt.show()\";\n",
       "                var nbb_cells = Jupyter.notebook.get_cells();\n",
       "                for (var i = 0; i < nbb_cells.length; ++i) {\n",
       "                    if (nbb_cells[i].input_prompt_number == nbb_cell_id) {\n",
       "                        if (nbb_cells[i].get_text() == nbb_unformatted_code) {\n",
       "                             nbb_cells[i].set_text(nbb_formatted_code);\n",
       "                        }\n",
       "                        break;\n",
       "                    }\n",
       "                }\n",
       "            }, 500);\n",
       "            "
      ],
      "text/plain": [
       "<IPython.core.display.Javascript object>"
      ]
     },
     "metadata": {},
     "output_type": "display_data"
    }
   ],
   "source": [
    "plt.figure(figsize=(10, 3))\n",
    "plt.plot(ts_test, label=\"Actual\")\n",
    "plt.plot(future_forecast, label=\"Prediction\")\n",
    "# plt.xticks(rotation=85)\n",
    "plt.legend()\n",
    "plt.show()"
   ]
  },
  {
   "cell_type": "code",
   "execution_count": 188,
   "id": "de191d13",
   "metadata": {
    "ExecuteTime": {
     "end_time": "2022-01-29T21:39:58.466419Z",
     "start_time": "2022-01-29T21:39:58.443463Z"
    }
   },
   "outputs": [
    {
     "data": {
      "text/plain": [
       "'\\nNhìn chung, predict có xu hướng khá khớp so với actual.\\nTuy nhiên, bị lệch 1 đoạn, có thể do bị lệch dữ liệu => dùng shift để điều chỉnh lại dữ liệu\\n'"
      ]
     },
     "execution_count": 188,
     "metadata": {},
     "output_type": "execute_result"
    },
    {
     "data": {
      "application/javascript": [
       "\n",
       "            setTimeout(function() {\n",
       "                var nbb_cell_id = 188;\n",
       "                var nbb_unformatted_code = \"\\\"\\\"\\\"\\nNh\\u00ecn chung, predict c\\u00f3 xu h\\u01b0\\u1edbng kh\\u00e1 kh\\u1edbp so v\\u1edbi actual.\\nTuy nhi\\u00ean, b\\u1ecb l\\u1ec7ch 1 \\u0111o\\u1ea1n, c\\u00f3 th\\u1ec3 do b\\u1ecb l\\u1ec7ch d\\u1eef li\\u1ec7u => d\\u00f9ng shift \\u0111\\u1ec3 \\u0111i\\u1ec1u ch\\u1ec9nh l\\u1ea1i d\\u1eef li\\u1ec7u\\n\\\"\\\"\\\"\";\n",
       "                var nbb_formatted_code = \"\\\"\\\"\\\"\\nNh\\u00ecn chung, predict c\\u00f3 xu h\\u01b0\\u1edbng kh\\u00e1 kh\\u1edbp so v\\u1edbi actual.\\nTuy nhi\\u00ean, b\\u1ecb l\\u1ec7ch 1 \\u0111o\\u1ea1n, c\\u00f3 th\\u1ec3 do b\\u1ecb l\\u1ec7ch d\\u1eef li\\u1ec7u => d\\u00f9ng shift \\u0111\\u1ec3 \\u0111i\\u1ec1u ch\\u1ec9nh l\\u1ea1i d\\u1eef li\\u1ec7u\\n\\\"\\\"\\\"\";\n",
       "                var nbb_cells = Jupyter.notebook.get_cells();\n",
       "                for (var i = 0; i < nbb_cells.length; ++i) {\n",
       "                    if (nbb_cells[i].input_prompt_number == nbb_cell_id) {\n",
       "                        if (nbb_cells[i].get_text() == nbb_unformatted_code) {\n",
       "                             nbb_cells[i].set_text(nbb_formatted_code);\n",
       "                        }\n",
       "                        break;\n",
       "                    }\n",
       "                }\n",
       "            }, 500);\n",
       "            "
      ],
      "text/plain": [
       "<IPython.core.display.Javascript object>"
      ]
     },
     "metadata": {},
     "output_type": "display_data"
    }
   ],
   "source": [
    "\"\"\"\n",
    "Nhìn chung, predict có xu hướng khá khớp so với actual.\n",
    "Tuy nhiên, bị lệch 1 đoạn, có thể do bị lệch dữ liệu => dùng shift để điều chỉnh lại dữ liệu\n",
    "\"\"\""
   ]
  },
  {
   "cell_type": "code",
   "execution_count": 194,
   "id": "7ed53af8",
   "metadata": {
    "ExecuteTime": {
     "end_time": "2022-01-29T21:43:08.867220Z",
     "start_time": "2022-01-29T21:43:08.705654Z"
    }
   },
   "outputs": [
    {
     "data": {
      "image/png": "[encoded data removed]",
      "text/plain": [
       "<Figure size 720x216 with 1 Axes>"
      ]
     },
     "metadata": {
      "needs_background": "light"
     },
     "output_type": "display_data"
    },
    {
     "data": {
      "application/javascript": [
       "\n",
       "            setTimeout(function() {\n",
       "                var nbb_cell_id = 194;\n",
       "                var nbb_unformatted_code = \"plt.figure(figsize=(10, 3))\\nplt.plot(ts_test, label=\\\"Atual\\\")\\nplt.plot(future_forecast.shift(1), label=\\\"Prediction\\\")\\n# plt.xticks(rotation=85)\\nplt.legend()\\nplt.show()\";\n",
       "                var nbb_formatted_code = \"plt.figure(figsize=(10, 3))\\nplt.plot(ts_test, label=\\\"Atual\\\")\\nplt.plot(future_forecast.shift(1), label=\\\"Prediction\\\")\\n# plt.xticks(rotation=85)\\nplt.legend()\\nplt.show()\";\n",
       "                var nbb_cells = Jupyter.notebook.get_cells();\n",
       "                for (var i = 0; i < nbb_cells.length; ++i) {\n",
       "                    if (nbb_cells[i].input_prompt_number == nbb_cell_id) {\n",
       "                        if (nbb_cells[i].get_text() == nbb_unformatted_code) {\n",
       "                             nbb_cells[i].set_text(nbb_formatted_code);\n",
       "                        }\n",
       "                        break;\n",
       "                    }\n",
       "                }\n",
       "            }, 500);\n",
       "            "
      ],
      "text/plain": [
       "<IPython.core.display.Javascript object>"
      ]
     },
     "metadata": {},
     "output_type": "display_data"
    }
   ],
   "source": [
    "plt.figure(figsize=(10, 3))\n",
    "plt.plot(ts_test, label=\"Atual\")\n",
    "plt.plot(future_forecast.shift(1), label=\"Prediction\")\n",
    "# plt.xticks(rotation=85)\n",
    "plt.legend()\n",
    "plt.show()"
   ]
  },
  {
   "cell_type": "markdown",
   "id": "62c42b83",
   "metadata": {},
   "source": [
    "## <p style=\"color:blue\">Nhận xét</p>"
   ]
  },
  {
   "cell_type": "code",
   "execution_count": 118,
   "id": "086d9d66",
   "metadata": {
    "ExecuteTime": {
     "end_time": "2022-01-29T18:07:25.107181Z",
     "start_time": "2022-01-29T18:07:25.094193Z"
    }
   },
   "outputs": [
    {
     "data": {
      "text/plain": [
       "'\\nvề cơ bản, xu hướng dự đoán khá khớp với thực tế (test data).\\nTuy nhiên, vẫn có một khoảng sai lệch nhỏ, đặc biệt trong khoảng thời gian từ 1971-01 đến 1971-07 và 1972-01 đến 1972-07\\n'"
      ]
     },
     "execution_count": 118,
     "metadata": {},
     "output_type": "execute_result"
    },
    {
     "data": {
      "application/javascript": [
       "\n",
       "            setTimeout(function() {\n",
       "                var nbb_cell_id = 118;\n",
       "                var nbb_unformatted_code = \"\\\"\\\"\\\"\\nv\\u1ec1 c\\u01a1 b\\u1ea3n, xu h\\u01b0\\u1edbng d\\u1ef1 \\u0111o\\u00e1n kh\\u00e1 kh\\u1edbp v\\u1edbi th\\u1ef1c t\\u1ebf (test data).\\nTuy nhi\\u00ean, v\\u1eabn c\\u00f3 m\\u1ed9t kho\\u1ea3ng sai l\\u1ec7ch nh\\u1ecf, \\u0111\\u1eb7c bi\\u1ec7t trong kho\\u1ea3ng th\\u1eddi gian t\\u1eeb 1971-01 \\u0111\\u1ebfn 1971-07 v\\u00e0 1972-01 \\u0111\\u1ebfn 1972-07\\n\\\"\\\"\\\"\";\n",
       "                var nbb_formatted_code = \"\\\"\\\"\\\"\\nv\\u1ec1 c\\u01a1 b\\u1ea3n, xu h\\u01b0\\u1edbng d\\u1ef1 \\u0111o\\u00e1n kh\\u00e1 kh\\u1edbp v\\u1edbi th\\u1ef1c t\\u1ebf (test data).\\nTuy nhi\\u00ean, v\\u1eabn c\\u00f3 m\\u1ed9t kho\\u1ea3ng sai l\\u1ec7ch nh\\u1ecf, \\u0111\\u1eb7c bi\\u1ec7t trong kho\\u1ea3ng th\\u1eddi gian t\\u1eeb 1971-01 \\u0111\\u1ebfn 1971-07 v\\u00e0 1972-01 \\u0111\\u1ebfn 1972-07\\n\\\"\\\"\\\"\";\n",
       "                var nbb_cells = Jupyter.notebook.get_cells();\n",
       "                for (var i = 0; i < nbb_cells.length; ++i) {\n",
       "                    if (nbb_cells[i].input_prompt_number == nbb_cell_id) {\n",
       "                        if (nbb_cells[i].get_text() == nbb_unformatted_code) {\n",
       "                             nbb_cells[i].set_text(nbb_formatted_code);\n",
       "                        }\n",
       "                        break;\n",
       "                    }\n",
       "                }\n",
       "            }, 500);\n",
       "            "
      ],
      "text/plain": [
       "<IPython.core.display.Javascript object>"
      ]
     },
     "metadata": {},
     "output_type": "display_data"
    }
   ],
   "source": [
    "\"\"\"\n",
    "về cơ bản, xu hướng dự đoán khá khớp với thực tế (test data).\n",
    "Tuy nhiên, vẫn có một khoảng sai lệch nhỏ trong khoảng thời gian từ 1971-01 đến 1971-07 và 1972-01 đến 1972-07\n",
    "\"\"\""
   ]
  },
  {
   "cell_type": "code",
   "execution_count": 121,
   "id": "2908e065",
   "metadata": {
    "ExecuteTime": {
     "end_time": "2022-01-29T18:07:25.478166Z",
     "start_time": "2022-01-29T18:07:25.325574Z"
    }
   },
   "outputs": [
    {
     "data": {
      "image/png": "[encoded data removed]",
      "text/plain": [
       "<Figure size 720x216 with 1 Axes>"
      ]
     },
     "metadata": {
      "needs_background": "light"
     },
     "output_type": "display_data"
    },
    {
     "data": {
      "application/javascript": [
       "\n",
       "            setTimeout(function() {\n",
       "                var nbb_cell_id = 121;\n",
       "                var nbb_unformatted_code = \"plt.figure(figsize=(10, 3))\\nplt.plot(df, label=\\\"Champagne Saling\\\")\\nplt.plot(future_forecast.shift(1), label=\\\"Prediction\\\", color=\\\"red\\\")\\nplt.legend()\\nplt.show()\";\n",
       "                var nbb_formatted_code = \"plt.figure(figsize=(10, 3))\\nplt.plot(df, label=\\\"Champagne Saling\\\")\\nplt.plot(future_forecast.shift(1), label=\\\"Prediction\\\", color=\\\"red\\\")\\nplt.legend()\\nplt.show()\";\n",
       "                var nbb_cells = Jupyter.notebook.get_cells();\n",
       "                for (var i = 0; i < nbb_cells.length; ++i) {\n",
       "                    if (nbb_cells[i].input_prompt_number == nbb_cell_id) {\n",
       "                        if (nbb_cells[i].get_text() == nbb_unformatted_code) {\n",
       "                             nbb_cells[i].set_text(nbb_formatted_code);\n",
       "                        }\n",
       "                        break;\n",
       "                    }\n",
       "                }\n",
       "            }, 500);\n",
       "            "
      ],
      "text/plain": [
       "<IPython.core.display.Javascript object>"
      ]
     },
     "metadata": {},
     "output_type": "display_data"
    }
   ],
   "source": [
    "plt.figure(figsize=(10, 3))\n",
    "plt.plot(df, label=\"Champagne Saling\")\n",
    "plt.plot(future_forecast.shift(1), label=\"Prediction\", color=\"red\")\n",
    "plt.legend()\n",
    "plt.show()"
   ]
  },
  {
   "cell_type": "markdown",
   "id": "90ed8390",
   "metadata": {},
   "source": [
    "## <p style=\"color:blue\">Nhận xét</p>"
   ]
  },
  {
   "cell_type": "code",
   "execution_count": 122,
   "id": "6b6f2e5a",
   "metadata": {
    "ExecuteTime": {
     "end_time": "2022-01-29T18:07:25.494152Z",
     "start_time": "2022-01-29T18:07:25.480161Z"
    }
   },
   "outputs": [
    {
     "data": {
      "text/plain": [
       "'\\nNhìn chung, giá trị dự đoán khá khớp với thực tế\\n=> kết quả phù hợp\\n'"
      ]
     },
     "execution_count": 122,
     "metadata": {},
     "output_type": "execute_result"
    },
    {
     "data": {
      "application/javascript": [
       "\n",
       "            setTimeout(function() {\n",
       "                var nbb_cell_id = 122;\n",
       "                var nbb_unformatted_code = \"\\\"\\\"\\\"\\nNh\\u00ecn chung, gi\\u00e1 tr\\u1ecb d\\u1ef1 \\u0111o\\u00e1n kh\\u00e1 kh\\u1edbp v\\u1edbi th\\u1ef1c t\\u1ebf\\n=> k\\u1ebft qu\\u1ea3 ph\\u00f9 h\\u1ee3p\\n\\\"\\\"\\\"\";\n",
       "                var nbb_formatted_code = \"\\\"\\\"\\\"\\nNh\\u00ecn chung, gi\\u00e1 tr\\u1ecb d\\u1ef1 \\u0111o\\u00e1n kh\\u00e1 kh\\u1edbp v\\u1edbi th\\u1ef1c t\\u1ebf\\n=> k\\u1ebft qu\\u1ea3 ph\\u00f9 h\\u1ee3p\\n\\\"\\\"\\\"\";\n",
       "                var nbb_cells = Jupyter.notebook.get_cells();\n",
       "                for (var i = 0; i < nbb_cells.length; ++i) {\n",
       "                    if (nbb_cells[i].input_prompt_number == nbb_cell_id) {\n",
       "                        if (nbb_cells[i].get_text() == nbb_unformatted_code) {\n",
       "                             nbb_cells[i].set_text(nbb_formatted_code);\n",
       "                        }\n",
       "                        break;\n",
       "                    }\n",
       "                }\n",
       "            }, 500);\n",
       "            "
      ],
      "text/plain": [
       "<IPython.core.display.Javascript object>"
      ]
     },
     "metadata": {},
     "output_type": "display_data"
    }
   ],
   "source": [
    "\"\"\"\n",
    "Nhìn chung, giá trị dự đoán khá khớp với thực tế\n",
    "=> kết quả phù hợp\n",
    "\"\"\""
   ]
  },
  {
   "cell_type": "markdown",
   "id": "e2a01e27",
   "metadata": {},
   "source": [
    "### Dự đoán số tiền champagne bán được của 9 tháng tiếp theo"
   ]
  },
  {
   "cell_type": "code",
   "execution_count": 123,
   "id": "ed0f6439",
   "metadata": {
    "ExecuteTime": {
     "end_time": "2022-01-29T18:07:25.525072Z",
     "start_time": "2022-01-29T18:07:25.495123Z"
    }
   },
   "outputs": [
    {
     "data": {
      "text/plain": [
       "array([ 3234.60082448,  1569.58527382,  4979.37610421,  6646.5740942 ,\n",
       "       10513.30141447, 13519.63814245,  2500.56832624,  2739.80600248,\n",
       "        3216.14456638,  3546.82643904,  2831.79661104,  3802.91641616,\n",
       "        3025.30935948,  1357.88625284,  4767.10483146,  6433.18329348,\n",
       "       10304.09453664, 13317.37466433,  2281.51451036,  2522.10374004,\n",
       "        2998.09478242,  3331.33612535,  2609.92878753,  3586.76928084,\n",
       "        2810.86826403,  1143.60188073,  4552.8577109 ,  6219.00905021,\n",
       "       10089.64793486, 13102.47607193,  2067.70890924,  2308.2101576 ,\n",
       "        2784.22382239,  3117.29855291,  2396.3063683 ,  3372.77446515,\n",
       "        2596.76239121])"
      ]
     },
     "execution_count": 123,
     "metadata": {},
     "output_type": "execute_result"
    },
    {
     "data": {
      "application/javascript": [
       "\n",
       "            setTimeout(function() {\n",
       "                var nbb_cell_id = 123;\n",
       "                var nbb_unformatted_code = \"future_forecast2 = stepwise_model.predict(n_periods=len(ts_test) + 9)\\nfuture_forecast2\";\n",
       "                var nbb_formatted_code = \"future_forecast2 = stepwise_model.predict(n_periods=len(ts_test) + 9)\\nfuture_forecast2\";\n",
       "                var nbb_cells = Jupyter.notebook.get_cells();\n",
       "                for (var i = 0; i < nbb_cells.length; ++i) {\n",
       "                    if (nbb_cells[i].input_prompt_number == nbb_cell_id) {\n",
       "                        if (nbb_cells[i].get_text() == nbb_unformatted_code) {\n",
       "                             nbb_cells[i].set_text(nbb_formatted_code);\n",
       "                        }\n",
       "                        break;\n",
       "                    }\n",
       "                }\n",
       "            }, 500);\n",
       "            "
      ],
      "text/plain": [
       "<IPython.core.display.Javascript object>"
      ]
     },
     "metadata": {},
     "output_type": "display_data"
    }
   ],
   "source": [
    "future_forecast2 = stepwise_model.predict(n_periods=len(ts_test) + 9)\n",
    "future_forecast2"
   ]
  },
  {
   "cell_type": "code",
   "execution_count": 124,
   "id": "2376b3cc",
   "metadata": {
    "ExecuteTime": {
     "end_time": "2022-01-29T18:07:25.540033Z",
     "start_time": "2022-01-29T18:07:25.526039Z"
    }
   },
   "outputs": [
    {
     "data": {
      "text/plain": [
       "DatetimeIndex(['1972-09-01', '1972-10-01', '1972-11-01', '1972-12-01',\n",
       "               '1973-01-01', '1973-02-01', '1973-03-01', '1973-04-01',\n",
       "               '1973-05-01'],\n",
       "              dtype='datetime64[ns]', freq='MS')"
      ]
     },
     "execution_count": 124,
     "metadata": {},
     "output_type": "execute_result"
    },
    {
     "data": {
      "application/javascript": [
       "\n",
       "            setTimeout(function() {\n",
       "                var nbb_cell_id = 124;\n",
       "                var nbb_unformatted_code = \"months = pd.date_range(\\\"1972-09-01\\\", \\\"1973-05-01\\\", freq=\\\"MS\\\")\\nmonths\";\n",
       "                var nbb_formatted_code = \"months = pd.date_range(\\\"1972-09-01\\\", \\\"1973-05-01\\\", freq=\\\"MS\\\")\\nmonths\";\n",
       "                var nbb_cells = Jupyter.notebook.get_cells();\n",
       "                for (var i = 0; i < nbb_cells.length; ++i) {\n",
       "                    if (nbb_cells[i].input_prompt_number == nbb_cell_id) {\n",
       "                        if (nbb_cells[i].get_text() == nbb_unformatted_code) {\n",
       "                             nbb_cells[i].set_text(nbb_formatted_code);\n",
       "                        }\n",
       "                        break;\n",
       "                    }\n",
       "                }\n",
       "            }, 500);\n",
       "            "
      ],
      "text/plain": [
       "<IPython.core.display.Javascript object>"
      ]
     },
     "metadata": {},
     "output_type": "display_data"
    }
   ],
   "source": [
    "months = pd.date_range(\"1972-09-01\", \"1973-05-01\", freq=\"MS\")\n",
    "months"
   ]
  },
  {
   "cell_type": "code",
   "execution_count": 125,
   "id": "cb096782",
   "metadata": {
    "ExecuteTime": {
     "end_time": "2022-01-29T18:07:25.554965Z",
     "start_time": "2022-01-29T18:07:25.540999Z"
    }
   },
   "outputs": [
    {
     "data": {
      "text/html": [
       "<div>\n",
       "<style scoped>\n",
       "    .dataframe tbody tr th:only-of-type {\n",
       "        vertical-align: middle;\n",
       "    }\n",
       "\n",
       "    .dataframe tbody tr th {\n",
       "        vertical-align: top;\n",
       "    }\n",
       "\n",
       "    .dataframe thead th {\n",
       "        text-align: right;\n",
       "    }\n",
       "</style>\n",
       "<table border=\"1\" class=\"dataframe\">\n",
       "  <thead>\n",
       "    <tr style=\"text-align: right;\">\n",
       "      <th></th>\n",
       "      <th>Sales</th>\n",
       "    </tr>\n",
       "    <tr>\n",
       "      <th>DATE</th>\n",
       "      <th></th>\n",
       "    </tr>\n",
       "  </thead>\n",
       "  <tbody>\n",
       "    <tr>\n",
       "      <th>1972-09-01</th>\n",
       "      <td>10089.647935</td>\n",
       "    </tr>\n",
       "    <tr>\n",
       "      <th>1972-10-01</th>\n",
       "      <td>13102.476072</td>\n",
       "    </tr>\n",
       "    <tr>\n",
       "      <th>1972-11-01</th>\n",
       "      <td>2067.708909</td>\n",
       "    </tr>\n",
       "    <tr>\n",
       "      <th>1972-12-01</th>\n",
       "      <td>2308.210158</td>\n",
       "    </tr>\n",
       "    <tr>\n",
       "      <th>1973-01-01</th>\n",
       "      <td>2784.223822</td>\n",
       "    </tr>\n",
       "  </tbody>\n",
       "</table>\n",
       "</div>"
      ],
      "text/plain": [
       "                   Sales\n",
       "DATE                    \n",
       "1972-09-01  10089.647935\n",
       "1972-10-01  13102.476072\n",
       "1972-11-01   2067.708909\n",
       "1972-12-01   2308.210158\n",
       "1973-01-01   2784.223822"
      ]
     },
     "execution_count": 125,
     "metadata": {},
     "output_type": "execute_result"
    },
    {
     "data": {
      "application/javascript": [
       "\n",
       "            setTimeout(function() {\n",
       "                var nbb_cell_id = 125;\n",
       "                var nbb_unformatted_code = \"new_predict = pd.DataFrame({\\\"DATE\\\": months, \\\"Sales\\\": future_forecast2[len(ts_test) :]})\\nnew_predict.set_index(\\\"DATE\\\", inplace=True)\\nnew_predict.head()\";\n",
       "                var nbb_formatted_code = \"new_predict = pd.DataFrame({\\\"DATE\\\": months, \\\"Sales\\\": future_forecast2[len(ts_test) :]})\\nnew_predict.set_index(\\\"DATE\\\", inplace=True)\\nnew_predict.head()\";\n",
       "                var nbb_cells = Jupyter.notebook.get_cells();\n",
       "                for (var i = 0; i < nbb_cells.length; ++i) {\n",
       "                    if (nbb_cells[i].input_prompt_number == nbb_cell_id) {\n",
       "                        if (nbb_cells[i].get_text() == nbb_unformatted_code) {\n",
       "                             nbb_cells[i].set_text(nbb_formatted_code);\n",
       "                        }\n",
       "                        break;\n",
       "                    }\n",
       "                }\n",
       "            }, 500);\n",
       "            "
      ],
      "text/plain": [
       "<IPython.core.display.Javascript object>"
      ]
     },
     "metadata": {},
     "output_type": "display_data"
    }
   ],
   "source": [
    "new_predict = pd.DataFrame({\"DATE\": months, \"Sales\": future_forecast2[len(ts_test) :]})\n",
    "new_predict.set_index(\"DATE\", inplace=True)\n",
    "new_predict.head()"
   ]
  },
  {
   "cell_type": "code",
   "execution_count": 126,
   "id": "b34140fa",
   "metadata": {
    "ExecuteTime": {
     "end_time": "2022-01-29T18:07:25.711230Z",
     "start_time": "2022-01-29T18:07:25.556960Z"
    }
   },
   "outputs": [
    {
     "data": {
      "image/png": "[encoded data removed]",
      "text/plain": [
       "<Figure size 432x288 with 1 Axes>"
      ]
     },
     "metadata": {
      "needs_background": "light"
     },
     "output_type": "display_data"
    },
    {
     "data": {
      "application/javascript": [
       "\n",
       "            setTimeout(function() {\n",
       "                var nbb_cell_id = 126;\n",
       "                var nbb_unformatted_code = \"plt.plot(new_predict, label=\\\"Prediction\\\", color=\\\"red\\\")\\nplt.xticks(rotation=85)\\nplt.title(\\\"Prediction next 12 months\\\")\\nplt.show()\";\n",
       "                var nbb_formatted_code = \"plt.plot(new_predict, label=\\\"Prediction\\\", color=\\\"red\\\")\\nplt.xticks(rotation=85)\\nplt.title(\\\"Prediction next 12 months\\\")\\nplt.show()\";\n",
       "                var nbb_cells = Jupyter.notebook.get_cells();\n",
       "                for (var i = 0; i < nbb_cells.length; ++i) {\n",
       "                    if (nbb_cells[i].input_prompt_number == nbb_cell_id) {\n",
       "                        if (nbb_cells[i].get_text() == nbb_unformatted_code) {\n",
       "                             nbb_cells[i].set_text(nbb_formatted_code);\n",
       "                        }\n",
       "                        break;\n",
       "                    }\n",
       "                }\n",
       "            }, 500);\n",
       "            "
      ],
      "text/plain": [
       "<IPython.core.display.Javascript object>"
      ]
     },
     "metadata": {},
     "output_type": "display_data"
    }
   ],
   "source": [
    "plt.plot(new_predict, label=\"Prediction\", color=\"red\")\n",
    "plt.xticks(rotation=85)\n",
    "plt.title(\"Prediction next 12 months\")\n",
    "plt.show()"
   ]
  },
  {
   "cell_type": "markdown",
   "id": "c71e487d",
   "metadata": {},
   "source": [
    "## <p style=\"color:blue\">Nhận xét</p>"
   ]
  },
  {
   "cell_type": "code",
   "execution_count": 131,
   "id": "0bbf5b23",
   "metadata": {
    "ExecuteTime": {
     "end_time": "2022-01-29T18:27:12.407907Z",
     "start_time": "2022-01-29T18:27:12.394943Z"
    }
   },
   "outputs": [
    {
     "data": {
      "text/plain": [
       "'\\nta thấy xu hướng của dữ liệu:\\ntừ tháng 9-10/1972, có xu hướng đi lên,\\ntừ tháng 10 đến tháng 11, đi xuống,\\ntháng 11/1972 - 2/1973, có xu hướng đi lên\\n2-3/1973: đi xuống \\n3-4/1973: đi lên \\n4-5/1973: đi xuống \\n\\n'"
      ]
     },
     "execution_count": 131,
     "metadata": {},
     "output_type": "execute_result"
    },
    {
     "data": {
      "application/javascript": [
       "\n",
       "            setTimeout(function() {\n",
       "                var nbb_cell_id = 131;\n",
       "                var nbb_unformatted_code = \"'''\\nta th\\u1ea5y xu h\\u01b0\\u1edbng c\\u1ee7a d\\u1eef li\\u1ec7u:\\nt\\u1eeb th\\u00e1ng 9-10/1972, c\\u00f3 xu h\\u01b0\\u1edbng \\u0111i l\\u00ean,\\nt\\u1eeb th\\u00e1ng 10 \\u0111\\u1ebfn th\\u00e1ng 11, \\u0111i xu\\u1ed1ng,\\nth\\u00e1ng 11/1972 - 2/1973, c\\u00f3 xu h\\u01b0\\u1edbng \\u0111i l\\u00ean\\n2-3/1973: \\u0111i xu\\u1ed1ng \\n3-4/1973: \\u0111i l\\u00ean \\n4-5/1973: \\u0111i xu\\u1ed1ng \\n\\n'''\";\n",
       "                var nbb_formatted_code = \"\\\"\\\"\\\"\\nta th\\u1ea5y xu h\\u01b0\\u1edbng c\\u1ee7a d\\u1eef li\\u1ec7u:\\nt\\u1eeb th\\u00e1ng 9-10/1972, c\\u00f3 xu h\\u01b0\\u1edbng \\u0111i l\\u00ean,\\nt\\u1eeb th\\u00e1ng 10 \\u0111\\u1ebfn th\\u00e1ng 11, \\u0111i xu\\u1ed1ng,\\nth\\u00e1ng 11/1972 - 2/1973, c\\u00f3 xu h\\u01b0\\u1edbng \\u0111i l\\u00ean\\n2-3/1973: \\u0111i xu\\u1ed1ng \\n3-4/1973: \\u0111i l\\u00ean \\n4-5/1973: \\u0111i xu\\u1ed1ng \\n\\n\\\"\\\"\\\"\";\n",
       "                var nbb_cells = Jupyter.notebook.get_cells();\n",
       "                for (var i = 0; i < nbb_cells.length; ++i) {\n",
       "                    if (nbb_cells[i].input_prompt_number == nbb_cell_id) {\n",
       "                        if (nbb_cells[i].get_text() == nbb_unformatted_code) {\n",
       "                             nbb_cells[i].set_text(nbb_formatted_code);\n",
       "                        }\n",
       "                        break;\n",
       "                    }\n",
       "                }\n",
       "            }, 500);\n",
       "            "
      ],
      "text/plain": [
       "<IPython.core.display.Javascript object>"
      ]
     },
     "metadata": {},
     "output_type": "display_data"
    }
   ],
   "source": [
    "\"\"\"\n",
    "ta thấy xu hướng của dữ liệu:\n",
    "từ tháng 9-10/1972, có xu hướng đi lên,\n",
    "từ tháng 10 đến tháng 11, đi xuống,\n",
    "tháng 11/1972 - 2/1973, có xu hướng đi lên\n",
    "2-3/1973: đi xuống \n",
    "3-4/1973: đi lên \n",
    "4-5/1973: đi xuống \n",
    "\n",
    "\"\"\""
   ]
  },
  {
   "cell_type": "code",
   "execution_count": 127,
   "id": "c2e2edeb",
   "metadata": {
    "ExecuteTime": {
     "end_time": "2022-01-29T18:07:25.881187Z",
     "start_time": "2022-01-29T18:07:25.712359Z"
    }
   },
   "outputs": [
    {
     "data": {
      "image/png": "[encoded data removed]",
      "text/plain": [
       "<Figure size 720x216 with 1 Axes>"
      ]
     },
     "metadata": {
      "needs_background": "light"
     },
     "output_type": "display_data"
    },
    {
     "data": {
      "application/javascript": [
       "\n",
       "            setTimeout(function() {\n",
       "                var nbb_cell_id = 127;\n",
       "                var nbb_unformatted_code = \"plt.figure(figsize=(10, 3))\\nplt.plot(ts_train, label=\\\"Train\\\")\\nplt.plot(ts_test, label=\\\"Test\\\", color=\\\"orange\\\")\\nplt.plot(predict2.shift(1), label=\\\"Predict\\\", color=\\\"green\\\")\\nplt.plot(new_predict, label=\\\"9 next months\\\", color=\\\"red\\\")\\n\\nplt.legend()\\nplt.show()\";\n",
       "                var nbb_formatted_code = \"plt.figure(figsize=(10, 3))\\nplt.plot(ts_train, label=\\\"Train\\\")\\nplt.plot(ts_test, label=\\\"Test\\\", color=\\\"orange\\\")\\nplt.plot(predict2.shift(1), label=\\\"Predict\\\", color=\\\"green\\\")\\nplt.plot(new_predict, label=\\\"9 next months\\\", color=\\\"red\\\")\\n\\nplt.legend()\\nplt.show()\";\n",
       "                var nbb_cells = Jupyter.notebook.get_cells();\n",
       "                for (var i = 0; i < nbb_cells.length; ++i) {\n",
       "                    if (nbb_cells[i].input_prompt_number == nbb_cell_id) {\n",
       "                        if (nbb_cells[i].get_text() == nbb_unformatted_code) {\n",
       "                             nbb_cells[i].set_text(nbb_formatted_code);\n",
       "                        }\n",
       "                        break;\n",
       "                    }\n",
       "                }\n",
       "            }, 500);\n",
       "            "
      ],
      "text/plain": [
       "<IPython.core.display.Javascript object>"
      ]
     },
     "metadata": {},
     "output_type": "display_data"
    }
   ],
   "source": [
    "plt.figure(figsize=(10, 3))\n",
    "plt.plot(ts_train, label=\"Train\")\n",
    "plt.plot(ts_test, label=\"Test\", color=\"orange\")\n",
    "plt.plot(predict2.shift(1), label=\"Predict\", color=\"green\")\n",
    "plt.plot(new_predict, label=\"9 next months\", color=\"red\")\n",
    "\n",
    "plt.legend()\n",
    "plt.show()"
   ]
  },
  {
   "cell_type": "markdown",
   "id": "c6dd2389",
   "metadata": {},
   "source": [
    "## <p style=\"color:blue\">Nhận xét</p>"
   ]
  },
  {
   "cell_type": "code",
   "execution_count": 187,
   "id": "cb9e926e",
   "metadata": {
    "ExecuteTime": {
     "end_time": "2022-01-29T21:38:26.469175Z",
     "start_time": "2022-01-29T21:38:26.446236Z"
    }
   },
   "outputs": [
    {
     "data": {
      "text/plain": [
       "'\\nNhận xét:\\n predict data khá khớp với actual data, ở phần dự đoán 9 tháng, \\n tuy nhiên, ở một số đoạn thời gian từ tháng 2 đến tháng 7 mỗi năm có khoảng chênh lệch lớn\\n và có 1 đoạn bị đứt nét (không liên tục) là tháng 9/1972\\n \\n => thử thuật toán khác xem có cải thiện không!\\n'"
      ]
     },
     "execution_count": 187,
     "metadata": {},
     "output_type": "execute_result"
    },
    {
     "data": {
      "application/javascript": [
       "\n",
       "            setTimeout(function() {\n",
       "                var nbb_cell_id = 187;\n",
       "                var nbb_unformatted_code = \"\\\"\\\"\\\"\\nNh\\u1eadn x\\u00e9t:\\n predict data kh\\u00e1 kh\\u1edbp v\\u1edbi actual data, \\u1edf ph\\u1ea7n d\\u1ef1 \\u0111o\\u00e1n 9 th\\u00e1ng, \\n tuy nhi\\u00ean, \\u1edf m\\u1ed9t s\\u1ed1 \\u0111o\\u1ea1n th\\u1eddi gian t\\u1eeb th\\u00e1ng 2 \\u0111\\u1ebfn th\\u00e1ng 7 m\\u1ed7i n\\u0103m c\\u00f3 kho\\u1ea3ng ch\\u00eanh l\\u1ec7ch l\\u1edbn\\n v\\u00e0 c\\u00f3 1 \\u0111o\\u1ea1n b\\u1ecb \\u0111\\u1ee9t n\\u00e9t (kh\\u00f4ng li\\u00ean t\\u1ee5c) l\\u00e0 th\\u00e1ng 9/1972\\n \\n => th\\u1eed thu\\u1eadt to\\u00e1n kh\\u00e1c xem c\\u00f3 c\\u1ea3i thi\\u1ec7n kh\\u00f4ng!\\n\\\"\\\"\\\"\";\n",
       "                var nbb_formatted_code = \"\\\"\\\"\\\"\\nNh\\u1eadn x\\u00e9t:\\n predict data kh\\u00e1 kh\\u1edbp v\\u1edbi actual data, \\u1edf ph\\u1ea7n d\\u1ef1 \\u0111o\\u00e1n 9 th\\u00e1ng, \\n tuy nhi\\u00ean, \\u1edf m\\u1ed9t s\\u1ed1 \\u0111o\\u1ea1n th\\u1eddi gian t\\u1eeb th\\u00e1ng 2 \\u0111\\u1ebfn th\\u00e1ng 7 m\\u1ed7i n\\u0103m c\\u00f3 kho\\u1ea3ng ch\\u00eanh l\\u1ec7ch l\\u1edbn\\n v\\u00e0 c\\u00f3 1 \\u0111o\\u1ea1n b\\u1ecb \\u0111\\u1ee9t n\\u00e9t (kh\\u00f4ng li\\u00ean t\\u1ee5c) l\\u00e0 th\\u00e1ng 9/1972\\n \\n => th\\u1eed thu\\u1eadt to\\u00e1n kh\\u00e1c xem c\\u00f3 c\\u1ea3i thi\\u1ec7n kh\\u00f4ng!\\n\\\"\\\"\\\"\";\n",
       "                var nbb_cells = Jupyter.notebook.get_cells();\n",
       "                for (var i = 0; i < nbb_cells.length; ++i) {\n",
       "                    if (nbb_cells[i].input_prompt_number == nbb_cell_id) {\n",
       "                        if (nbb_cells[i].get_text() == nbb_unformatted_code) {\n",
       "                             nbb_cells[i].set_text(nbb_formatted_code);\n",
       "                        }\n",
       "                        break;\n",
       "                    }\n",
       "                }\n",
       "            }, 500);\n",
       "            "
      ],
      "text/plain": [
       "<IPython.core.display.Javascript object>"
      ]
     },
     "metadata": {},
     "output_type": "display_data"
    }
   ],
   "source": [
    "\"\"\"\n",
    "Nhận xét:\n",
    " predict data khá khớp với actual data, ở phần dự đoán 9 tháng, \n",
    " tuy nhiên, ở một số đoạn thời gian từ tháng 2 đến tháng 7 mỗi năm có khoảng chênh lệch lớn\n",
    " và có 1 đoạn bị đứt nét (không liên tục) là tháng 9/1972\n",
    " \n",
    " => thử thuật toán khác xem có cải thiện không!\n",
    "\"\"\""
   ]
  },
  {
   "cell_type": "markdown",
   "id": "ae80cd72",
   "metadata": {},
   "source": [
    "## Áp dụng holt-winters để xây dựng mô hình"
   ]
  },
  {
   "cell_type": "code",
   "execution_count": 132,
   "id": "3e526f19",
   "metadata": {
    "ExecuteTime": {
     "end_time": "2022-01-29T18:31:07.488235Z",
     "start_time": "2022-01-29T18:31:07.473299Z"
    }
   },
   "outputs": [
    {
     "data": {
      "application/javascript": [
       "\n",
       "            setTimeout(function() {\n",
       "                var nbb_cell_id = 132;\n",
       "                var nbb_unformatted_code = \"from statsmodels.tsa.holtwinters import ExponentialSmoothing\";\n",
       "                var nbb_formatted_code = \"from statsmodels.tsa.holtwinters import ExponentialSmoothing\";\n",
       "                var nbb_cells = Jupyter.notebook.get_cells();\n",
       "                for (var i = 0; i < nbb_cells.length; ++i) {\n",
       "                    if (nbb_cells[i].input_prompt_number == nbb_cell_id) {\n",
       "                        if (nbb_cells[i].get_text() == nbb_unformatted_code) {\n",
       "                             nbb_cells[i].set_text(nbb_formatted_code);\n",
       "                        }\n",
       "                        break;\n",
       "                    }\n",
       "                }\n",
       "            }, 500);\n",
       "            "
      ],
      "text/plain": [
       "<IPython.core.display.Javascript object>"
      ]
     },
     "metadata": {},
     "output_type": "display_data"
    }
   ],
   "source": [
    "from statsmodels.tsa.holtwinters import ExponentialSmoothing"
   ]
  },
  {
   "cell_type": "code",
   "execution_count": 134,
   "id": "e7b8bef4",
   "metadata": {
    "ExecuteTime": {
     "end_time": "2022-01-29T18:31:25.110345Z",
     "start_time": "2022-01-29T18:31:25.030053Z"
    }
   },
   "outputs": [
    {
     "data": {
      "application/javascript": [
       "\n",
       "            setTimeout(function() {\n",
       "                var nbb_cell_id = 134;\n",
       "                var nbb_unformatted_code = \"hw_model = ExponentialSmoothing(ts_train, seasonal=\\\"mul\\\", seasonal_periods=12).fit()\";\n",
       "                var nbb_formatted_code = \"hw_model = ExponentialSmoothing(ts_train, seasonal=\\\"mul\\\", seasonal_periods=12).fit()\";\n",
       "                var nbb_cells = Jupyter.notebook.get_cells();\n",
       "                for (var i = 0; i < nbb_cells.length; ++i) {\n",
       "                    if (nbb_cells[i].input_prompt_number == nbb_cell_id) {\n",
       "                        if (nbb_cells[i].get_text() == nbb_unformatted_code) {\n",
       "                             nbb_cells[i].set_text(nbb_formatted_code);\n",
       "                        }\n",
       "                        break;\n",
       "                    }\n",
       "                }\n",
       "            }, 500);\n",
       "            "
      ],
      "text/plain": [
       "<IPython.core.display.Javascript object>"
      ]
     },
     "metadata": {},
     "output_type": "display_data"
    }
   ],
   "source": [
    "hw_model = ExponentialSmoothing(ts_train, seasonal=\"mul\", seasonal_periods=12).fit()"
   ]
  },
  {
   "cell_type": "markdown",
   "id": "50b0a8ec",
   "metadata": {},
   "source": [
    "### Prediction"
   ]
  },
  {
   "cell_type": "code",
   "execution_count": 137,
   "id": "90172e95",
   "metadata": {
    "ExecuteTime": {
     "end_time": "2022-01-29T18:32:28.318239Z",
     "start_time": "2022-01-29T18:32:28.299290Z"
    }
   },
   "outputs": [
    {
     "data": {
      "application/javascript": [
       "\n",
       "            setTimeout(function() {\n",
       "                var nbb_cell_id = 137;\n",
       "                var nbb_unformatted_code = \"pred = hw_model.predict(start=ts_test.index[0], end=ts_test.index[-1])\";\n",
       "                var nbb_formatted_code = \"pred = hw_model.predict(start=ts_test.index[0], end=ts_test.index[-1])\";\n",
       "                var nbb_cells = Jupyter.notebook.get_cells();\n",
       "                for (var i = 0; i < nbb_cells.length; ++i) {\n",
       "                    if (nbb_cells[i].input_prompt_number == nbb_cell_id) {\n",
       "                        if (nbb_cells[i].get_text() == nbb_unformatted_code) {\n",
       "                             nbb_cells[i].set_text(nbb_formatted_code);\n",
       "                        }\n",
       "                        break;\n",
       "                    }\n",
       "                }\n",
       "            }, 500);\n",
       "            "
      ],
      "text/plain": [
       "<IPython.core.display.Javascript object>"
      ]
     },
     "metadata": {},
     "output_type": "display_data"
    }
   ],
   "source": [
    "pred = hw_model.predict(start=ts_test.index[0], end=ts_test.index[-1])"
   ]
  },
  {
   "cell_type": "code",
   "execution_count": 138,
   "id": "a16cb43b",
   "metadata": {
    "ExecuteTime": {
     "end_time": "2022-01-29T18:32:37.712384Z",
     "start_time": "2022-01-29T18:32:37.692439Z"
    }
   },
   "outputs": [
    {
     "data": {
      "text/plain": [
       "DatetimeIndex(['1970-06-01', '1970-07-01', '1970-08-01', '1970-09-01',\n",
       "               '1970-10-01', '1970-11-01', '1970-12-01', '1971-01-01',\n",
       "               '1971-02-01', '1971-03-01', '1971-04-01', '1971-05-01',\n",
       "               '1971-06-01', '1971-07-01', '1971-08-01', '1971-09-01',\n",
       "               '1971-10-01', '1971-11-01', '1971-12-01', '1972-01-01',\n",
       "               '1972-02-01', '1972-03-01', '1972-04-01', '1972-05-01',\n",
       "               '1972-06-01', '1972-07-01', '1972-08-01', '1972-09-01'],\n",
       "              dtype='datetime64[ns]', name='Month', freq=None)"
      ]
     },
     "execution_count": 138,
     "metadata": {},
     "output_type": "execute_result"
    },
    {
     "data": {
      "application/javascript": [
       "\n",
       "            setTimeout(function() {\n",
       "                var nbb_cell_id = 138;\n",
       "                var nbb_unformatted_code = \"ts_test.index\";\n",
       "                var nbb_formatted_code = \"ts_test.index\";\n",
       "                var nbb_cells = Jupyter.notebook.get_cells();\n",
       "                for (var i = 0; i < nbb_cells.length; ++i) {\n",
       "                    if (nbb_cells[i].input_prompt_number == nbb_cell_id) {\n",
       "                        if (nbb_cells[i].get_text() == nbb_unformatted_code) {\n",
       "                             nbb_cells[i].set_text(nbb_formatted_code);\n",
       "                        }\n",
       "                        break;\n",
       "                    }\n",
       "                }\n",
       "            }, 500);\n",
       "            "
      ],
      "text/plain": [
       "<IPython.core.display.Javascript object>"
      ]
     },
     "metadata": {},
     "output_type": "display_data"
    }
   ],
   "source": [
    "ts_test.index"
   ]
  },
  {
   "cell_type": "markdown",
   "id": "f61c0917",
   "metadata": {},
   "source": [
    "### Visualization"
   ]
  },
  {
   "cell_type": "code",
   "execution_count": 196,
   "id": "de300c1d",
   "metadata": {
    "ExecuteTime": {
     "end_time": "2022-01-29T21:44:05.421304Z",
     "start_time": "2022-01-29T21:44:05.263741Z"
    }
   },
   "outputs": [
    {
     "data": {
      "image/png": "[encoded data removed]",
      "text/plain": [
       "<Figure size 432x288 with 1 Axes>"
      ]
     },
     "metadata": {
      "needs_background": "light"
     },
     "output_type": "display_data"
    },
    {
     "data": {
      "application/javascript": [
       "\n",
       "            setTimeout(function() {\n",
       "                var nbb_cell_id = 196;\n",
       "                var nbb_unformatted_code = \"plt.plot(ts_test, label=\\\"Test\\\")\\nplt.plot(pred, label=\\\"Prediction\\\")\\n# plt.plot(pred + mae, label='Prediction')\\nplt.xticks(rotation=85)\\nplt.legend()\\nplt.show()\";\n",
       "                var nbb_formatted_code = \"plt.plot(ts_test, label=\\\"Test\\\")\\nplt.plot(pred, label=\\\"Prediction\\\")\\n# plt.plot(pred + mae, label='Prediction')\\nplt.xticks(rotation=85)\\nplt.legend()\\nplt.show()\";\n",
       "                var nbb_cells = Jupyter.notebook.get_cells();\n",
       "                for (var i = 0; i < nbb_cells.length; ++i) {\n",
       "                    if (nbb_cells[i].input_prompt_number == nbb_cell_id) {\n",
       "                        if (nbb_cells[i].get_text() == nbb_unformatted_code) {\n",
       "                             nbb_cells[i].set_text(nbb_formatted_code);\n",
       "                        }\n",
       "                        break;\n",
       "                    }\n",
       "                }\n",
       "            }, 500);\n",
       "            "
      ],
      "text/plain": [
       "<IPython.core.display.Javascript object>"
      ]
     },
     "metadata": {},
     "output_type": "display_data"
    }
   ],
   "source": [
    "plt.plot(ts_test, label=\"Test\")\n",
    "plt.plot(pred, label=\"Prediction\")\n",
    "# plt.plot(pred + mae, label='Prediction')\n",
    "plt.xticks(rotation=85)\n",
    "plt.legend()\n",
    "plt.show()"
   ]
  },
  {
   "cell_type": "markdown",
   "id": "c207d80a",
   "metadata": {},
   "source": [
    "## <p style=\"color:blue\">Nhận xét</p>"
   ]
  },
  {
   "cell_type": "code",
   "execution_count": 179,
   "id": "a4dad569",
   "metadata": {
    "ExecuteTime": {
     "end_time": "2022-01-29T21:31:04.283429Z",
     "start_time": "2022-01-29T21:31:04.274454Z"
    }
   },
   "outputs": [
    {
     "data": {
      "text/plain": [
       "'\\npredict data khá khớp với xu hướng của actual data\\ncó 1 phần chênh lệch nhỏ\\n\\n=> thử điều chỉnh sai số\\n'"
      ]
     },
     "execution_count": 179,
     "metadata": {},
     "output_type": "execute_result"
    },
    {
     "data": {
      "application/javascript": [
       "\n",
       "            setTimeout(function() {\n",
       "                var nbb_cell_id = 179;\n",
       "                var nbb_unformatted_code = \"\\\"\\\"\\\"\\npredict data kh\\u00e1 kh\\u1edbp v\\u1edbi xu h\\u01b0\\u1edbng c\\u1ee7a actual data\\nc\\u00f3 1 ph\\u1ea7n ch\\u00eanh l\\u1ec7ch nh\\u1ecf\\n\\n=> th\\u1eed \\u0111i\\u1ec1u ch\\u1ec9nh sai s\\u1ed1\\n\\\"\\\"\\\"\";\n",
       "                var nbb_formatted_code = \"\\\"\\\"\\\"\\npredict data kh\\u00e1 kh\\u1edbp v\\u1edbi xu h\\u01b0\\u1edbng c\\u1ee7a actual data\\nc\\u00f3 1 ph\\u1ea7n ch\\u00eanh l\\u1ec7ch nh\\u1ecf\\n\\n=> th\\u1eed \\u0111i\\u1ec1u ch\\u1ec9nh sai s\\u1ed1\\n\\\"\\\"\\\"\";\n",
       "                var nbb_cells = Jupyter.notebook.get_cells();\n",
       "                for (var i = 0; i < nbb_cells.length; ++i) {\n",
       "                    if (nbb_cells[i].input_prompt_number == nbb_cell_id) {\n",
       "                        if (nbb_cells[i].get_text() == nbb_unformatted_code) {\n",
       "                             nbb_cells[i].set_text(nbb_formatted_code);\n",
       "                        }\n",
       "                        break;\n",
       "                    }\n",
       "                }\n",
       "            }, 500);\n",
       "            "
      ],
      "text/plain": [
       "<IPython.core.display.Javascript object>"
      ]
     },
     "metadata": {},
     "output_type": "display_data"
    }
   ],
   "source": [
    "\"\"\"\n",
    "predict data khá khớp với xu hướng của actual data\n",
    "có 1 phần chênh lệch nhỏ\n",
    "\n",
    "=> thử điều chỉnh sai số\n",
    "\"\"\""
   ]
  },
  {
   "cell_type": "code",
   "execution_count": 168,
   "id": "8c628256",
   "metadata": {
    "ExecuteTime": {
     "end_time": "2022-01-29T21:22:27.347134Z",
     "start_time": "2022-01-29T21:22:27.325194Z"
    }
   },
   "outputs": [
    {
     "data": {
      "application/javascript": [
       "\n",
       "            setTimeout(function() {\n",
       "                var nbb_cell_id = 168;\n",
       "                var nbb_unformatted_code = \"mae = mean_absolute_error(ts_test, pred)\\npred_2 = mae+pred\";\n",
       "                var nbb_formatted_code = \"mae = mean_absolute_error(ts_test, pred)\\npred_2 = mae + pred\";\n",
       "                var nbb_cells = Jupyter.notebook.get_cells();\n",
       "                for (var i = 0; i < nbb_cells.length; ++i) {\n",
       "                    if (nbb_cells[i].input_prompt_number == nbb_cell_id) {\n",
       "                        if (nbb_cells[i].get_text() == nbb_unformatted_code) {\n",
       "                             nbb_cells[i].set_text(nbb_formatted_code);\n",
       "                        }\n",
       "                        break;\n",
       "                    }\n",
       "                }\n",
       "            }, 500);\n",
       "            "
      ],
      "text/plain": [
       "<IPython.core.display.Javascript object>"
      ]
     },
     "metadata": {},
     "output_type": "display_data"
    }
   ],
   "source": [
    "mae = mean_absolute_error(ts_test, pred)\n",
    "pred_2 = mae + pred"
   ]
  },
  {
   "cell_type": "code",
   "execution_count": 178,
   "id": "cbd0984e",
   "metadata": {
    "ExecuteTime": {
     "end_time": "2022-01-29T21:30:10.687084Z",
     "start_time": "2022-01-29T21:30:10.519521Z"
    }
   },
   "outputs": [
    {
     "data": {
      "image/png": "[encoded data removed]",
      "text/plain": [
       "<Figure size 432x288 with 1 Axes>"
      ]
     },
     "metadata": {
      "needs_background": "light"
     },
     "output_type": "display_data"
    },
    {
     "data": {
      "application/javascript": [
       "\n",
       "            setTimeout(function() {\n",
       "                var nbb_cell_id = 178;\n",
       "                var nbb_unformatted_code = \"plt.plot(ts_test, label=\\\"Test\\\")\\nplt.plot(pred_2, label=\\\"Prediction\\\")\\n# plt.plot(pred + mae, label='Prediction')\\nplt.xticks(rotation=85)\\nplt.legend()\\nplt.show()\";\n",
       "                var nbb_formatted_code = \"plt.plot(ts_test, label=\\\"Test\\\")\\nplt.plot(pred_2, label=\\\"Prediction\\\")\\n# plt.plot(pred + mae, label='Prediction')\\nplt.xticks(rotation=85)\\nplt.legend()\\nplt.show()\";\n",
       "                var nbb_cells = Jupyter.notebook.get_cells();\n",
       "                for (var i = 0; i < nbb_cells.length; ++i) {\n",
       "                    if (nbb_cells[i].input_prompt_number == nbb_cell_id) {\n",
       "                        if (nbb_cells[i].get_text() == nbb_unformatted_code) {\n",
       "                             nbb_cells[i].set_text(nbb_formatted_code);\n",
       "                        }\n",
       "                        break;\n",
       "                    }\n",
       "                }\n",
       "            }, 500);\n",
       "            "
      ],
      "text/plain": [
       "<IPython.core.display.Javascript object>"
      ]
     },
     "metadata": {},
     "output_type": "display_data"
    }
   ],
   "source": [
    "plt.plot(ts_test, label=\"Test\")\n",
    "plt.plot(pred_2, label=\"Prediction\")\n",
    "# plt.plot(pred + mae, label='Prediction')\n",
    "plt.xticks(rotation=85)\n",
    "plt.legend()\n",
    "plt.show()"
   ]
  },
  {
   "cell_type": "markdown",
   "id": "1794deeb",
   "metadata": {},
   "source": [
    "## <p style=\"color:blue\">Nhận xét</p>"
   ]
  },
  {
   "cell_type": "code",
   "execution_count": 180,
   "id": "590314cc",
   "metadata": {
    "ExecuteTime": {
     "end_time": "2022-01-29T21:31:42.076396Z",
     "start_time": "2022-01-29T21:31:42.057448Z"
    }
   },
   "outputs": [
    {
     "data": {
      "text/plain": [
       "'\\nSau khi điều chỉnh, predict và actual đã khớp nhau hơn\\n'"
      ]
     },
     "execution_count": 180,
     "metadata": {},
     "output_type": "execute_result"
    },
    {
     "data": {
      "application/javascript": [
       "\n",
       "            setTimeout(function() {\n",
       "                var nbb_cell_id = 180;\n",
       "                var nbb_unformatted_code = \"'''\\nSau khi \\u0111i\\u1ec1u ch\\u1ec9nh, predict v\\u00e0 actual \\u0111\\u00e3 kh\\u1edbp nhau h\\u01a1n\\n'''\";\n",
       "                var nbb_formatted_code = \"\\\"\\\"\\\"\\nSau khi \\u0111i\\u1ec1u ch\\u1ec9nh, predict v\\u00e0 actual \\u0111\\u00e3 kh\\u1edbp nhau h\\u01a1n\\n\\\"\\\"\\\"\";\n",
       "                var nbb_cells = Jupyter.notebook.get_cells();\n",
       "                for (var i = 0; i < nbb_cells.length; ++i) {\n",
       "                    if (nbb_cells[i].input_prompt_number == nbb_cell_id) {\n",
       "                        if (nbb_cells[i].get_text() == nbb_unformatted_code) {\n",
       "                             nbb_cells[i].set_text(nbb_formatted_code);\n",
       "                        }\n",
       "                        break;\n",
       "                    }\n",
       "                }\n",
       "            }, 500);\n",
       "            "
      ],
      "text/plain": [
       "<IPython.core.display.Javascript object>"
      ]
     },
     "metadata": {},
     "output_type": "display_data"
    }
   ],
   "source": [
    "\"\"\"\n",
    "Sau khi điều chỉnh, predict và actual đã khớp nhau hơn\n",
    "\"\"\""
   ]
  },
  {
   "cell_type": "code",
   "execution_count": 170,
   "id": "01890bef",
   "metadata": {
    "ExecuteTime": {
     "end_time": "2022-01-29T21:22:34.801750Z",
     "start_time": "2022-01-29T21:22:34.635195Z"
    }
   },
   "outputs": [
    {
     "data": {
      "image/png": "[encoded data removed]",
      "text/plain": [
       "<Figure size 432x288 with 1 Axes>"
      ]
     },
     "metadata": {
      "needs_background": "light"
     },
     "output_type": "display_data"
    },
    {
     "data": {
      "application/javascript": [
       "\n",
       "            setTimeout(function() {\n",
       "                var nbb_cell_id = 170;\n",
       "                var nbb_unformatted_code = \"plt.plot(ts_train, label=\\\"Train\\\")\\nplt.plot(ts_test, label=\\\"Test\\\")\\nplt.plot(pred_2, label=\\\"Holt-Winters\\\")\\nplt.xticks(rotation=85)\\nplt.legend()\\nplt.show()\";\n",
       "                var nbb_formatted_code = \"plt.plot(ts_train, label=\\\"Train\\\")\\nplt.plot(ts_test, label=\\\"Test\\\")\\nplt.plot(pred_2, label=\\\"Holt-Winters\\\")\\nplt.xticks(rotation=85)\\nplt.legend()\\nplt.show()\";\n",
       "                var nbb_cells = Jupyter.notebook.get_cells();\n",
       "                for (var i = 0; i < nbb_cells.length; ++i) {\n",
       "                    if (nbb_cells[i].input_prompt_number == nbb_cell_id) {\n",
       "                        if (nbb_cells[i].get_text() == nbb_unformatted_code) {\n",
       "                             nbb_cells[i].set_text(nbb_formatted_code);\n",
       "                        }\n",
       "                        break;\n",
       "                    }\n",
       "                }\n",
       "            }, 500);\n",
       "            "
      ],
      "text/plain": [
       "<IPython.core.display.Javascript object>"
      ]
     },
     "metadata": {},
     "output_type": "display_data"
    }
   ],
   "source": [
    "plt.plot(ts_train, label=\"Train\")\n",
    "plt.plot(ts_test, label=\"Test\")\n",
    "plt.plot(pred_2, label=\"Holt-Winters\")\n",
    "plt.xticks(rotation=85)\n",
    "plt.legend()\n",
    "plt.show()"
   ]
  },
  {
   "cell_type": "code",
   "execution_count": 172,
   "id": "4e2ce49d",
   "metadata": {
    "ExecuteTime": {
     "end_time": "2022-01-29T21:23:32.072446Z",
     "start_time": "2022-01-29T21:23:32.063469Z"
    }
   },
   "outputs": [
    {
     "data": {
      "text/plain": [
       "'\\nSau khi cộng thêm 1 phần sai số, phần predict đã khớp hơn so với lúc trước\\n'"
      ]
     },
     "execution_count": 172,
     "metadata": {},
     "output_type": "execute_result"
    },
    {
     "data": {
      "application/javascript": [
       "\n",
       "            setTimeout(function() {\n",
       "                var nbb_cell_id = 172;\n",
       "                var nbb_unformatted_code = \"\\\"\\\"\\\"\\nSau khi c\\u1ed9ng th\\u00eam 1 ph\\u1ea7n sai s\\u1ed1, ph\\u1ea7n predict \\u0111\\u00e3 kh\\u1edbp h\\u01a1n so v\\u1edbi l\\u00fac tr\\u01b0\\u1edbc\\n\\\"\\\"\\\"\";\n",
       "                var nbb_formatted_code = \"\\\"\\\"\\\"\\nSau khi c\\u1ed9ng th\\u00eam 1 ph\\u1ea7n sai s\\u1ed1, ph\\u1ea7n predict \\u0111\\u00e3 kh\\u1edbp h\\u01a1n so v\\u1edbi l\\u00fac tr\\u01b0\\u1edbc\\n\\\"\\\"\\\"\";\n",
       "                var nbb_cells = Jupyter.notebook.get_cells();\n",
       "                for (var i = 0; i < nbb_cells.length; ++i) {\n",
       "                    if (nbb_cells[i].input_prompt_number == nbb_cell_id) {\n",
       "                        if (nbb_cells[i].get_text() == nbb_unformatted_code) {\n",
       "                             nbb_cells[i].set_text(nbb_formatted_code);\n",
       "                        }\n",
       "                        break;\n",
       "                    }\n",
       "                }\n",
       "            }, 500);\n",
       "            "
      ],
      "text/plain": [
       "<IPython.core.display.Javascript object>"
      ]
     },
     "metadata": {},
     "output_type": "display_data"
    }
   ],
   "source": [
    "\"\"\"\n",
    "Sau khi cộng thêm 1 phần sai số, phần predict đã khớp hơn so với lúc trước\n",
    "\"\"\""
   ]
  },
  {
   "cell_type": "markdown",
   "id": "5138f34a",
   "metadata": {},
   "source": [
    "### Dự đoán số tiền champagne bán được của 9 tháng tiếp theo"
   ]
  },
  {
   "cell_type": "code",
   "execution_count": 155,
   "id": "d803de64",
   "metadata": {
    "ExecuteTime": {
     "end_time": "2022-01-29T21:18:32.286332Z",
     "start_time": "2022-01-29T21:18:32.271337Z"
    }
   },
   "outputs": [
    {
     "data": {
      "application/javascript": [
       "\n",
       "            setTimeout(function() {\n",
       "                var nbb_cell_id = 155;\n",
       "                var nbb_unformatted_code = \"start_date = datetime.datetime(1972, 9, 1)\\nend_date = datetime.datetime(1973, 5, 1)\";\n",
       "                var nbb_formatted_code = \"start_date = datetime.datetime(1972, 9, 1)\\nend_date = datetime.datetime(1973, 5, 1)\";\n",
       "                var nbb_cells = Jupyter.notebook.get_cells();\n",
       "                for (var i = 0; i < nbb_cells.length; ++i) {\n",
       "                    if (nbb_cells[i].input_prompt_number == nbb_cell_id) {\n",
       "                        if (nbb_cells[i].get_text() == nbb_unformatted_code) {\n",
       "                             nbb_cells[i].set_text(nbb_formatted_code);\n",
       "                        }\n",
       "                        break;\n",
       "                    }\n",
       "                }\n",
       "            }, 500);\n",
       "            "
      ],
      "text/plain": [
       "<IPython.core.display.Javascript object>"
      ]
     },
     "metadata": {},
     "output_type": "display_data"
    }
   ],
   "source": [
    "start_date = datetime.datetime(1972, 9, 1)\n",
    "end_date = datetime.datetime(1973, 5, 1)"
   ]
  },
  {
   "cell_type": "code",
   "execution_count": 156,
   "id": "0a78dba5",
   "metadata": {
    "ExecuteTime": {
     "end_time": "2022-01-29T21:18:33.225347Z",
     "start_time": "2022-01-29T21:18:33.200397Z"
    }
   },
   "outputs": [
    {
     "data": {
      "text/plain": [
       "1972-09-01    3896.551646\n",
       "1972-10-01    5206.033134\n",
       "1972-11-01    7719.541015\n",
       "1972-12-01    9551.403826\n",
       "1973-01-01    3153.501391\n",
       "1973-02-01    2944.759342\n",
       "1973-03-01    3366.479738\n",
       "1973-04-01    3443.004605\n",
       "1973-05-01    3668.426652\n",
       "Freq: MS, dtype: float64"
      ]
     },
     "execution_count": 156,
     "metadata": {},
     "output_type": "execute_result"
    },
    {
     "data": {
      "application/javascript": [
       "\n",
       "            setTimeout(function() {\n",
       "                var nbb_cell_id = 156;\n",
       "                var nbb_unformatted_code = \"pred_next_9 = hw_model.predict(start=start_date, end=end_date)\\npred_next_9\";\n",
       "                var nbb_formatted_code = \"pred_next_9 = hw_model.predict(start=start_date, end=end_date)\\npred_next_9\";\n",
       "                var nbb_cells = Jupyter.notebook.get_cells();\n",
       "                for (var i = 0; i < nbb_cells.length; ++i) {\n",
       "                    if (nbb_cells[i].input_prompt_number == nbb_cell_id) {\n",
       "                        if (nbb_cells[i].get_text() == nbb_unformatted_code) {\n",
       "                             nbb_cells[i].set_text(nbb_formatted_code);\n",
       "                        }\n",
       "                        break;\n",
       "                    }\n",
       "                }\n",
       "            }, 500);\n",
       "            "
      ],
      "text/plain": [
       "<IPython.core.display.Javascript object>"
      ]
     },
     "metadata": {},
     "output_type": "display_data"
    }
   ],
   "source": [
    "pred_next_9 = hw_model.predict(start=start_date, end=end_date)\n",
    "pred_next_9"
   ]
  },
  {
   "cell_type": "code",
   "execution_count": 174,
   "id": "2be413e7",
   "metadata": {
    "ExecuteTime": {
     "end_time": "2022-01-29T21:24:08.406873Z",
     "start_time": "2022-01-29T21:24:08.262709Z"
    }
   },
   "outputs": [
    {
     "data": {
      "image/png": "[encoded data removed]",
      "text/plain": [
       "<Figure size 1008x360 with 1 Axes>"
      ]
     },
     "metadata": {
      "needs_background": "light"
     },
     "output_type": "display_data"
    },
    {
     "data": {
      "application/javascript": [
       "\n",
       "            setTimeout(function() {\n",
       "                var nbb_cell_id = 174;\n",
       "                var nbb_unformatted_code = \"plt.figure(figsize=(14, 5))\\nplt.plot(pred_next_9.index, pred_next_9.values)\\nplt.show()\";\n",
       "                var nbb_formatted_code = \"plt.figure(figsize=(14, 5))\\nplt.plot(pred_next_9.index, pred_next_9.values)\\nplt.show()\";\n",
       "                var nbb_cells = Jupyter.notebook.get_cells();\n",
       "                for (var i = 0; i < nbb_cells.length; ++i) {\n",
       "                    if (nbb_cells[i].input_prompt_number == nbb_cell_id) {\n",
       "                        if (nbb_cells[i].get_text() == nbb_unformatted_code) {\n",
       "                             nbb_cells[i].set_text(nbb_formatted_code);\n",
       "                        }\n",
       "                        break;\n",
       "                    }\n",
       "                }\n",
       "            }, 500);\n",
       "            "
      ],
      "text/plain": [
       "<IPython.core.display.Javascript object>"
      ]
     },
     "metadata": {},
     "output_type": "display_data"
    }
   ],
   "source": [
    "plt.figure(figsize=(14, 5))\n",
    "plt.plot(pred_next_9.index, pred_next_9.values)\n",
    "plt.show()"
   ]
  },
  {
   "cell_type": "markdown",
   "id": "561ac875",
   "metadata": {},
   "source": [
    "## <p style=\"color:blue\">Nhận xét</p>"
   ]
  },
  {
   "cell_type": "code",
   "execution_count": null,
   "id": "323b7689",
   "metadata": {},
   "outputs": [],
   "source": [
    "'''\n",
    "dữ liệu có xu hướng tăng từ tháng 9 đến giữa tháng 12 năm 1972\n",
    "và giảm mạnh tới đầu tháng 1/1973.\n",
    "\n",
    "sau đó giảm nhẹ từ tháng 1 đến tháng 2 /1973 và tăng lại từ từ vào các tháng tiếp theo\n",
    "\n",
    "Lý do: có thể là trong dịp giáng sinh và năm mới, khách hàng có nhu cầu sử dụng champagne\n",
    "nên họ đã chuẩn bị trước từ khoảng tháng 10 (nhìn vào đồ thị, đây là thời điểm tăng mạnh nhất)\n",
    "\n",
    "Thời điểm giữa tháng 12 tới tháng 1, số liệu giảm mạnh do khách hàng đã mua sắm từ trước rồi \n",
    "và còn có thể do các cửa hàng nghỉ lễ nên không bán nữa. \n",
    "\n",
    "\n",
    "'''"
   ]
  },
  {
   "cell_type": "markdown",
   "id": "0e44c3a2",
   "metadata": {},
   "source": [
    "#### Biểu đồ khi chưa điều chỉnh sai số"
   ]
  },
  {
   "cell_type": "code",
   "execution_count": 190,
   "id": "aea2f2f9",
   "metadata": {
    "ExecuteTime": {
     "end_time": "2022-01-29T21:41:23.695352Z",
     "start_time": "2022-01-29T21:41:23.536036Z"
    }
   },
   "outputs": [
    {
     "data": {
      "image/png": "[encoded data removed]",
      "text/plain": [
       "<Figure size 720x360 with 1 Axes>"
      ]
     },
     "metadata": {
      "needs_background": "light"
     },
     "output_type": "display_data"
    },
    {
     "data": {
      "application/javascript": [
       "\n",
       "            setTimeout(function() {\n",
       "                var nbb_cell_id = 190;\n",
       "                var nbb_unformatted_code = \"plt.figure(figsize=(10, 5))\\nplt.plot(ts_train, label=\\\"Train\\\")\\nplt.plot(ts_test, label=\\\"Test\\\")\\nplt.plot(pred, label=\\\"Predict\\\")\\nplt.plot(pred_next_9, label=\\\"Next 9 months\\\")\\nplt.legend()\\nplt.show()\";\n",
       "                var nbb_formatted_code = \"plt.figure(figsize=(10, 5))\\nplt.plot(ts_train, label=\\\"Train\\\")\\nplt.plot(ts_test, label=\\\"Test\\\")\\nplt.plot(pred, label=\\\"Predict\\\")\\nplt.plot(pred_next_9, label=\\\"Next 9 months\\\")\\nplt.legend()\\nplt.show()\";\n",
       "                var nbb_cells = Jupyter.notebook.get_cells();\n",
       "                for (var i = 0; i < nbb_cells.length; ++i) {\n",
       "                    if (nbb_cells[i].input_prompt_number == nbb_cell_id) {\n",
       "                        if (nbb_cells[i].get_text() == nbb_unformatted_code) {\n",
       "                             nbb_cells[i].set_text(nbb_formatted_code);\n",
       "                        }\n",
       "                        break;\n",
       "                    }\n",
       "                }\n",
       "            }, 500);\n",
       "            "
      ],
      "text/plain": [
       "<IPython.core.display.Javascript object>"
      ]
     },
     "metadata": {},
     "output_type": "display_data"
    }
   ],
   "source": [
    "plt.figure(figsize=(10, 5))\n",
    "plt.plot(ts_train, label=\"Train\")\n",
    "plt.plot(ts_test, label=\"Test\")\n",
    "plt.plot(pred, label=\"Predict\")\n",
    "plt.plot(pred_next_9, label=\"Next 9 months\")\n",
    "plt.legend()\n",
    "plt.show()"
   ]
  },
  {
   "cell_type": "markdown",
   "id": "b27d974d",
   "metadata": {},
   "source": [
    "#### Biểu đồ sau khi điều chỉnh sai số"
   ]
  },
  {
   "cell_type": "code",
   "execution_count": 192,
   "id": "0122122a",
   "metadata": {
    "ExecuteTime": {
     "end_time": "2022-01-29T21:42:20.999963Z",
     "start_time": "2022-01-29T21:42:20.846340Z"
    }
   },
   "outputs": [
    {
     "data": {
      "image/png": "[encoded data removed]",
      "text/plain": [
       "<Figure size 720x360 with 1 Axes>"
      ]
     },
     "metadata": {
      "needs_background": "light"
     },
     "output_type": "display_data"
    },
    {
     "data": {
      "application/javascript": [
       "\n",
       "            setTimeout(function() {\n",
       "                var nbb_cell_id = 192;\n",
       "                var nbb_unformatted_code = \"pred_next_9_new = pred_next_9 + mae\\nplt.figure(figsize=(10, 5))\\nplt.plot(ts_train, label=\\\"Train\\\")\\nplt.plot(ts_test, label=\\\"Test\\\")\\nplt.plot(pred_2, label=\\\"Predict\\\")\\nplt.plot(pred_next_9_new, label=\\\"Next 9 months\\\")\\nplt.legend()\\nplt.show()\";\n",
       "                var nbb_formatted_code = \"pred_next_9_new = pred_next_9 + mae\\nplt.figure(figsize=(10, 5))\\nplt.plot(ts_train, label=\\\"Train\\\")\\nplt.plot(ts_test, label=\\\"Test\\\")\\nplt.plot(pred_2, label=\\\"Predict\\\")\\nplt.plot(pred_next_9_new, label=\\\"Next 9 months\\\")\\nplt.legend()\\nplt.show()\";\n",
       "                var nbb_cells = Jupyter.notebook.get_cells();\n",
       "                for (var i = 0; i < nbb_cells.length; ++i) {\n",
       "                    if (nbb_cells[i].input_prompt_number == nbb_cell_id) {\n",
       "                        if (nbb_cells[i].get_text() == nbb_unformatted_code) {\n",
       "                             nbb_cells[i].set_text(nbb_formatted_code);\n",
       "                        }\n",
       "                        break;\n",
       "                    }\n",
       "                }\n",
       "            }, 500);\n",
       "            "
      ],
      "text/plain": [
       "<IPython.core.display.Javascript object>"
      ]
     },
     "metadata": {},
     "output_type": "display_data"
    }
   ],
   "source": [
    "pred_next_9_new = pred_next_9 + mae\n",
    "plt.figure(figsize=(10, 5))\n",
    "plt.plot(ts_train, label=\"Train\")\n",
    "plt.plot(ts_test, label=\"Test\")\n",
    "plt.plot(pred_2, label=\"Predict\")\n",
    "plt.plot(pred_next_9_new, label=\"Next 9 months\")\n",
    "plt.legend()\n",
    "plt.show()"
   ]
  },
  {
   "cell_type": "markdown",
   "id": "fb5db5a3",
   "metadata": {},
   "source": [
    "## Đánh giá"
   ]
  },
  {
   "cell_type": "code",
   "execution_count": 186,
   "id": "99ab953f",
   "metadata": {
    "ExecuteTime": {
     "end_time": "2022-01-29T21:37:00.033514Z",
     "start_time": "2022-01-29T21:37:00.011526Z"
    }
   },
   "outputs": [
    {
     "data": {
      "text/plain": [
       "'\\nNhìn chung, Auto_Arima cho kết quả khá ổn, tuy nhiên có một vài khoảng thời gian chưa được chính xác (sai số có lớn)\\nHolt Winters cho kết quả tốt, sai số nhỏ\\n\\n=> chọn holt winters cho dataset này\\n'"
      ]
     },
     "execution_count": 186,
     "metadata": {},
     "output_type": "execute_result"
    },
    {
     "data": {
      "application/javascript": [
       "\n",
       "            setTimeout(function() {\n",
       "                var nbb_cell_id = 186;\n",
       "                var nbb_unformatted_code = \"'''\\nNh\\u00ecn chung, Auto_Arima cho k\\u1ebft qu\\u1ea3 kh\\u00e1 \\u1ed5n, tuy nhi\\u00ean c\\u00f3 m\\u1ed9t v\\u00e0i kho\\u1ea3ng th\\u1eddi gian ch\\u01b0a \\u0111\\u01b0\\u1ee3c ch\\u00ednh x\\u00e1c (sai s\\u1ed1 c\\u00f3 l\\u1edbn)\\nHolt Winters cho k\\u1ebft qu\\u1ea3 t\\u1ed1t, sai s\\u1ed1 nh\\u1ecf\\n\\n=> ch\\u1ecdn holt winters cho dataset n\\u00e0y\\n'''\";\n",
       "                var nbb_formatted_code = \"\\\"\\\"\\\"\\nNh\\u00ecn chung, Auto_Arima cho k\\u1ebft qu\\u1ea3 kh\\u00e1 \\u1ed5n, tuy nhi\\u00ean c\\u00f3 m\\u1ed9t v\\u00e0i kho\\u1ea3ng th\\u1eddi gian ch\\u01b0a \\u0111\\u01b0\\u1ee3c ch\\u00ednh x\\u00e1c (sai s\\u1ed1 c\\u00f3 l\\u1edbn)\\nHolt Winters cho k\\u1ebft qu\\u1ea3 t\\u1ed1t, sai s\\u1ed1 nh\\u1ecf\\n\\n=> ch\\u1ecdn holt winters cho dataset n\\u00e0y\\n\\\"\\\"\\\"\";\n",
       "                var nbb_cells = Jupyter.notebook.get_cells();\n",
       "                for (var i = 0; i < nbb_cells.length; ++i) {\n",
       "                    if (nbb_cells[i].input_prompt_number == nbb_cell_id) {\n",
       "                        if (nbb_cells[i].get_text() == nbb_unformatted_code) {\n",
       "                             nbb_cells[i].set_text(nbb_formatted_code);\n",
       "                        }\n",
       "                        break;\n",
       "                    }\n",
       "                }\n",
       "            }, 500);\n",
       "            "
      ],
      "text/plain": [
       "<IPython.core.display.Javascript object>"
      ]
     },
     "metadata": {},
     "output_type": "display_data"
    }
   ],
   "source": [
    "\"\"\"\n",
    "Nhìn chung, Auto_Arima cho kết quả khá ổn, tuy nhiên có một vài khoảng thời gian chưa được chính xác (sai số có lớn)\n",
    "Holt Winters cho kết quả tốt, sai số nhỏ\n",
    "\n",
    "=> chọn holt winters cho dataset này\n",
    "\"\"\""
   ]
  },
  {
   "cell_type": "code",
   "execution_count": null,
   "id": "c59a7383",
   "metadata": {},
   "outputs": [],
   "source": []
  }
 ],
 "metadata": {
  "kernelspec": {
   "display_name": "Python 3 (ipykernel)",
   "language": "python",
   "name": "python3"
  },
  "language_info": {
   "codemirror_mode": {
    "name": "ipython",
    "version": 3
   },
   "file_extension": ".py",
   "mimetype": "text/x-python",
   "name": "python",
   "nbconvert_exporter": "python",
   "pygments_lexer": "ipython3",
   "version": "3.9.7"
  }
 },
 "nbformat": 4,
 "nbformat_minor": 5
}
