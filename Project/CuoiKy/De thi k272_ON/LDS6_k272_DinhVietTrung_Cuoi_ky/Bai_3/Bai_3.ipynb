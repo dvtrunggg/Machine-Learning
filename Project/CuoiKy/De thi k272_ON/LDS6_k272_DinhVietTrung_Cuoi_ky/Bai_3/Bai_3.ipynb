{
 "cells": [
  {
   "cell_type": "markdown",
   "id": "a3b2945d",
   "metadata": {
    "ExecuteTime": {
     "end_time": "2022-01-30T12:09:04.342534Z",
     "start_time": "2022-01-30T12:09:04.326576Z"
    }
   },
   "source": [
    "## Bài 3. Pen-Based Recognition of Handwritten Digits \n",
    "- Cho dữ liệu penbased-5an-nn.csv \n",
    "### Yêu cầu 1: Đọc dữ liệu, chuẩn hóa dữ liệu (nếu cần) và chọn một thuật toán thích hợp để thực \n",
    "hiện việc xác định một mẫu là loại (class) nào (trong các loại 0, 1, 2, 3, 4, 5, 6, 7, 8, 9) dựa trên \n",
    "các thông tin được cung cấp. \n",
    "1. Áp dụng thuật toán thích hợp để xây dựng model. Dựa trên cơ sở nào để cho rằng \n",
    "thuật toán này thích hợp? \n",
    "2. Đánh giá model dựa trên train/test. \n",
    "3. Trực quan hóa kết quả (nếu có). Đưa ra một số nhận xét dựa trên kết quả. \n",
    "### Yêu cầu 2: Hãy áp dụng thuật toán PCA và thuật toán đã chọn ở Yêu cầu 1 để thực hiện \n",
    "việc xác định một mẫu là loại (class) nào (trong các loại 0, 1, 2, 3, 4, 5, 6, 7, 8, 9) dựa trên các \n",
    "thông tin được cung cấp. Nhận xét kết quả giữa việc có áp dụng PCA và không áp dụng \n",
    "PCA. \n",
    " \n"
   ]
  },
  {
   "cell_type": "code",
   "execution_count": 1,
   "id": "fc9073dd",
   "metadata": {
    "ExecuteTime": {
     "end_time": "2022-01-29T06:19:31.977342Z",
     "start_time": "2022-01-29T06:19:23.240766Z"
    }
   },
   "outputs": [],
   "source": [
    "import numpy as np\n",
    "import pandas as pd\n",
    "import matplotlib.pyplot as plt\n",
    "import seaborn as sns\n",
    "import warnings\n",
    "import time\n",
    "\n",
    "import statsmodels.api as sm\n",
    "from scipy.stats import chi2_contingency\n",
    "from scipy.stats import chi2\n",
    "from scipy.stats import iqr\n",
    "from statsmodels.formula.api import ols\n",
    "from statsmodels.stats.multicomp import pairwise_tukeyhsd\n",
    "from pandas_profiling import ProfileReport\n",
    "\n",
    "from sklearn import datasets\n",
    "from sklearn import svm\n",
    "from sklearn.model_selection import train_test_split\n",
    "from sklearn.decomposition import PCA\n",
    "from sklearn.preprocessing import StandardScaler, MinMaxScaler, RobustScaler\n",
    "\n",
    "from sklearn.linear_model import LogisticRegression\n",
    "from sklearn.tree import DecisionTreeClassifier\n",
    "import xgboost as xgb\n",
    "from sklearn.neighbors import KNeighborsClassifier\n",
    "from sklearn.ensemble import RandomForestClassifier\n",
    "\n",
    "from sklearn.model_selection import GridSearchCV\n",
    "from sklearn.model_selection import RandomizedSearchCV\n",
    "from sklearn.metrics import mean_squared_error, mean_absolute_error\n"
   ]
  },
  {
   "cell_type": "code",
   "execution_count": 2,
   "id": "4aaf3f0d",
   "metadata": {
    "ExecuteTime": {
     "end_time": "2022-01-29T06:19:32.164988Z",
     "start_time": "2022-01-29T06:19:31.978932Z"
    }
   },
   "outputs": [
    {
     "data": {
      "application/javascript": [
       "\n",
       "            setTimeout(function() {\n",
       "                var nbb_cell_id = 2;\n",
       "                var nbb_unformatted_code = \"warnings.filterwarnings(\\\"ignore\\\")\\n%load_ext nb_black\";\n",
       "                var nbb_formatted_code = \"warnings.filterwarnings(\\\"ignore\\\")\\n%load_ext nb_black\";\n",
       "                var nbb_cells = Jupyter.notebook.get_cells();\n",
       "                for (var i = 0; i < nbb_cells.length; ++i) {\n",
       "                    if (nbb_cells[i].input_prompt_number == nbb_cell_id) {\n",
       "                        if (nbb_cells[i].get_text() == nbb_unformatted_code) {\n",
       "                             nbb_cells[i].set_text(nbb_formatted_code);\n",
       "                        }\n",
       "                        break;\n",
       "                    }\n",
       "                }\n",
       "            }, 500);\n",
       "            "
      ],
      "text/plain": [
       "<IPython.core.display.Javascript object>"
      ]
     },
     "metadata": {},
     "output_type": "display_data"
    }
   ],
   "source": [
    "warnings.filterwarnings(\"ignore\")\n",
    "%load_ext nb_black"
   ]
  },
  {
   "cell_type": "code",
   "execution_count": 3,
   "id": "28442536",
   "metadata": {
    "ExecuteTime": {
     "end_time": "2022-01-29T06:19:32.179979Z",
     "start_time": "2022-01-29T06:19:32.166984Z"
    }
   },
   "outputs": [
    {
     "data": {
      "text/plain": [
       "['At1',\n",
       " 'At2',\n",
       " 'At3',\n",
       " 'At4',\n",
       " 'At5',\n",
       " 'At6',\n",
       " 'At7',\n",
       " 'At8',\n",
       " 'At9',\n",
       " 'At10',\n",
       " 'At11',\n",
       " 'At12',\n",
       " 'At13',\n",
       " 'At14',\n",
       " 'At15',\n",
       " 'At16',\n",
       " 'Class']"
      ]
     },
     "execution_count": 3,
     "metadata": {},
     "output_type": "execute_result"
    },
    {
     "data": {
      "application/javascript": [
       "\n",
       "            setTimeout(function() {\n",
       "                var nbb_cell_id = 3;\n",
       "                var nbb_unformatted_code = \"lst_name = list(range(1, 17))\\nlst_name = [\\\"At\\\" + (str(i)) for i in lst_name]\\nlst_name += [\\\"Class\\\"]\\nlst_name\";\n",
       "                var nbb_formatted_code = \"lst_name = list(range(1, 17))\\nlst_name = [\\\"At\\\" + (str(i)) for i in lst_name]\\nlst_name += [\\\"Class\\\"]\\nlst_name\";\n",
       "                var nbb_cells = Jupyter.notebook.get_cells();\n",
       "                for (var i = 0; i < nbb_cells.length; ++i) {\n",
       "                    if (nbb_cells[i].input_prompt_number == nbb_cell_id) {\n",
       "                        if (nbb_cells[i].get_text() == nbb_unformatted_code) {\n",
       "                             nbb_cells[i].set_text(nbb_formatted_code);\n",
       "                        }\n",
       "                        break;\n",
       "                    }\n",
       "                }\n",
       "            }, 500);\n",
       "            "
      ],
      "text/plain": [
       "<IPython.core.display.Javascript object>"
      ]
     },
     "metadata": {},
     "output_type": "display_data"
    }
   ],
   "source": [
    "lst_name = list(range(1, 17))\n",
    "lst_name = [\"At\" + (str(i)) for i in lst_name]\n",
    "lst_name += [\"Class\"]\n",
    "lst_name"
   ]
  },
  {
   "cell_type": "code",
   "execution_count": 4,
   "id": "62ae1019",
   "metadata": {
    "ExecuteTime": {
     "end_time": "2022-01-29T06:19:32.226824Z",
     "start_time": "2022-01-29T06:19:32.181945Z"
    }
   },
   "outputs": [
    {
     "data": {
      "application/javascript": [
       "\n",
       "            setTimeout(function() {\n",
       "                var nbb_cell_id = 4;\n",
       "                var nbb_unformatted_code = \"df = pd.read_csv(\\\"penbased-5an-nn.csv\\\", names=lst_name)\";\n",
       "                var nbb_formatted_code = \"df = pd.read_csv(\\\"penbased-5an-nn.csv\\\", names=lst_name)\";\n",
       "                var nbb_cells = Jupyter.notebook.get_cells();\n",
       "                for (var i = 0; i < nbb_cells.length; ++i) {\n",
       "                    if (nbb_cells[i].input_prompt_number == nbb_cell_id) {\n",
       "                        if (nbb_cells[i].get_text() == nbb_unformatted_code) {\n",
       "                             nbb_cells[i].set_text(nbb_formatted_code);\n",
       "                        }\n",
       "                        break;\n",
       "                    }\n",
       "                }\n",
       "            }, 500);\n",
       "            "
      ],
      "text/plain": [
       "<IPython.core.display.Javascript object>"
      ]
     },
     "metadata": {},
     "output_type": "display_data"
    }
   ],
   "source": [
    "df = pd.read_csv(\"penbased-5an-nn.csv\", names=lst_name)"
   ]
  },
  {
   "cell_type": "markdown",
   "id": "13bda50f",
   "metadata": {},
   "source": [
    "### Phân tích khai phá dữ liệu (EDA)"
   ]
  },
  {
   "cell_type": "code",
   "execution_count": 5,
   "id": "0fdadc08",
   "metadata": {
    "ExecuteTime": {
     "end_time": "2022-01-28T14:49:34.330224Z",
     "start_time": "2022-01-28T14:49:34.300273Z"
    }
   },
   "outputs": [
    {
     "data": {
      "text/html": [
       "<div>\n",
       "<style scoped>\n",
       "    .dataframe tbody tr th:only-of-type {\n",
       "        vertical-align: middle;\n",
       "    }\n",
       "\n",
       "    .dataframe tbody tr th {\n",
       "        vertical-align: top;\n",
       "    }\n",
       "\n",
       "    .dataframe thead th {\n",
       "        text-align: right;\n",
       "    }\n",
       "</style>\n",
       "<table border=\"1\" class=\"dataframe\">\n",
       "  <thead>\n",
       "    <tr style=\"text-align: right;\">\n",
       "      <th></th>\n",
       "      <th>At1</th>\n",
       "      <th>At2</th>\n",
       "      <th>At3</th>\n",
       "      <th>At4</th>\n",
       "      <th>At5</th>\n",
       "      <th>At6</th>\n",
       "      <th>At7</th>\n",
       "      <th>At8</th>\n",
       "      <th>At9</th>\n",
       "      <th>At10</th>\n",
       "      <th>At11</th>\n",
       "      <th>At12</th>\n",
       "      <th>At13</th>\n",
       "      <th>At14</th>\n",
       "      <th>At15</th>\n",
       "      <th>At16</th>\n",
       "      <th>Class</th>\n",
       "    </tr>\n",
       "  </thead>\n",
       "  <tbody>\n",
       "    <tr>\n",
       "      <th>0</th>\n",
       "      <td>0</td>\n",
       "      <td>57</td>\n",
       "      <td>31</td>\n",
       "      <td>68</td>\n",
       "      <td>72</td>\n",
       "      <td>90</td>\n",
       "      <td>100</td>\n",
       "      <td>100</td>\n",
       "      <td>76</td>\n",
       "      <td>75</td>\n",
       "      <td>50</td>\n",
       "      <td>51</td>\n",
       "      <td>28</td>\n",
       "      <td>25</td>\n",
       "      <td>16</td>\n",
       "      <td>0</td>\n",
       "      <td>1</td>\n",
       "    </tr>\n",
       "    <tr>\n",
       "      <th>1</th>\n",
       "      <td>99</td>\n",
       "      <td>80</td>\n",
       "      <td>63</td>\n",
       "      <td>100</td>\n",
       "      <td>25</td>\n",
       "      <td>76</td>\n",
       "      <td>79</td>\n",
       "      <td>68</td>\n",
       "      <td>100</td>\n",
       "      <td>62</td>\n",
       "      <td>97</td>\n",
       "      <td>23</td>\n",
       "      <td>54</td>\n",
       "      <td>0</td>\n",
       "      <td>0</td>\n",
       "      <td>16</td>\n",
       "      <td>9</td>\n",
       "    </tr>\n",
       "    <tr>\n",
       "      <th>2</th>\n",
       "      <td>0</td>\n",
       "      <td>73</td>\n",
       "      <td>19</td>\n",
       "      <td>99</td>\n",
       "      <td>72</td>\n",
       "      <td>100</td>\n",
       "      <td>70</td>\n",
       "      <td>73</td>\n",
       "      <td>32</td>\n",
       "      <td>48</td>\n",
       "      <td>5</td>\n",
       "      <td>18</td>\n",
       "      <td>46</td>\n",
       "      <td>0</td>\n",
       "      <td>100</td>\n",
       "      <td>72</td>\n",
       "      <td>2</td>\n",
       "    </tr>\n",
       "    <tr>\n",
       "      <th>3</th>\n",
       "      <td>12</td>\n",
       "      <td>77</td>\n",
       "      <td>20</td>\n",
       "      <td>62</td>\n",
       "      <td>78</td>\n",
       "      <td>40</td>\n",
       "      <td>50</td>\n",
       "      <td>0</td>\n",
       "      <td>1</td>\n",
       "      <td>17</td>\n",
       "      <td>0</td>\n",
       "      <td>64</td>\n",
       "      <td>23</td>\n",
       "      <td>98</td>\n",
       "      <td>100</td>\n",
       "      <td>100</td>\n",
       "      <td>5</td>\n",
       "    </tr>\n",
       "    <tr>\n",
       "      <th>4</th>\n",
       "      <td>0</td>\n",
       "      <td>98</td>\n",
       "      <td>36</td>\n",
       "      <td>42</td>\n",
       "      <td>80</td>\n",
       "      <td>85</td>\n",
       "      <td>68</td>\n",
       "      <td>42</td>\n",
       "      <td>56</td>\n",
       "      <td>0</td>\n",
       "      <td>25</td>\n",
       "      <td>23</td>\n",
       "      <td>50</td>\n",
       "      <td>37</td>\n",
       "      <td>100</td>\n",
       "      <td>32</td>\n",
       "      <td>7</td>\n",
       "    </tr>\n",
       "    <tr>\n",
       "      <th>...</th>\n",
       "      <td>...</td>\n",
       "      <td>...</td>\n",
       "      <td>...</td>\n",
       "      <td>...</td>\n",
       "      <td>...</td>\n",
       "      <td>...</td>\n",
       "      <td>...</td>\n",
       "      <td>...</td>\n",
       "      <td>...</td>\n",
       "      <td>...</td>\n",
       "      <td>...</td>\n",
       "      <td>...</td>\n",
       "      <td>...</td>\n",
       "      <td>...</td>\n",
       "      <td>...</td>\n",
       "      <td>...</td>\n",
       "      <td>...</td>\n",
       "    </tr>\n",
       "    <tr>\n",
       "      <th>10987</th>\n",
       "      <td>86</td>\n",
       "      <td>100</td>\n",
       "      <td>38</td>\n",
       "      <td>80</td>\n",
       "      <td>12</td>\n",
       "      <td>51</td>\n",
       "      <td>0</td>\n",
       "      <td>18</td>\n",
       "      <td>94</td>\n",
       "      <td>0</td>\n",
       "      <td>100</td>\n",
       "      <td>13</td>\n",
       "      <td>62</td>\n",
       "      <td>30</td>\n",
       "      <td>7</td>\n",
       "      <td>18</td>\n",
       "      <td>6</td>\n",
       "    </tr>\n",
       "    <tr>\n",
       "      <th>10988</th>\n",
       "      <td>0</td>\n",
       "      <td>92</td>\n",
       "      <td>48</td>\n",
       "      <td>100</td>\n",
       "      <td>76</td>\n",
       "      <td>74</td>\n",
       "      <td>70</td>\n",
       "      <td>41</td>\n",
       "      <td>57</td>\n",
       "      <td>9</td>\n",
       "      <td>38</td>\n",
       "      <td>0</td>\n",
       "      <td>46</td>\n",
       "      <td>80</td>\n",
       "      <td>100</td>\n",
       "      <td>20</td>\n",
       "      <td>7</td>\n",
       "    </tr>\n",
       "    <tr>\n",
       "      <th>10989</th>\n",
       "      <td>0</td>\n",
       "      <td>82</td>\n",
       "      <td>26</td>\n",
       "      <td>98</td>\n",
       "      <td>59</td>\n",
       "      <td>100</td>\n",
       "      <td>67</td>\n",
       "      <td>78</td>\n",
       "      <td>55</td>\n",
       "      <td>53</td>\n",
       "      <td>49</td>\n",
       "      <td>27</td>\n",
       "      <td>65</td>\n",
       "      <td>6</td>\n",
       "      <td>15</td>\n",
       "      <td>0</td>\n",
       "      <td>2</td>\n",
       "    </tr>\n",
       "    <tr>\n",
       "      <th>10990</th>\n",
       "      <td>5</td>\n",
       "      <td>90</td>\n",
       "      <td>55</td>\n",
       "      <td>100</td>\n",
       "      <td>78</td>\n",
       "      <td>84</td>\n",
       "      <td>90</td>\n",
       "      <td>65</td>\n",
       "      <td>71</td>\n",
       "      <td>51</td>\n",
       "      <td>100</td>\n",
       "      <td>23</td>\n",
       "      <td>52</td>\n",
       "      <td>5</td>\n",
       "      <td>0</td>\n",
       "      <td>0</td>\n",
       "      <td>3</td>\n",
       "    </tr>\n",
       "    <tr>\n",
       "      <th>10991</th>\n",
       "      <td>0</td>\n",
       "      <td>74</td>\n",
       "      <td>35</td>\n",
       "      <td>100</td>\n",
       "      <td>100</td>\n",
       "      <td>85</td>\n",
       "      <td>94</td>\n",
       "      <td>63</td>\n",
       "      <td>52</td>\n",
       "      <td>35</td>\n",
       "      <td>0</td>\n",
       "      <td>11</td>\n",
       "      <td>5</td>\n",
       "      <td>0</td>\n",
       "      <td>77</td>\n",
       "      <td>6</td>\n",
       "      <td>2</td>\n",
       "    </tr>\n",
       "  </tbody>\n",
       "</table>\n",
       "<p>10992 rows × 17 columns</p>\n",
       "</div>"
      ],
      "text/plain": [
       "       At1  At2  At3  At4  At5  At6  At7  At8  At9  At10  At11  At12  At13  \\\n",
       "0        0   57   31   68   72   90  100  100   76    75    50    51    28   \n",
       "1       99   80   63  100   25   76   79   68  100    62    97    23    54   \n",
       "2        0   73   19   99   72  100   70   73   32    48     5    18    46   \n",
       "3       12   77   20   62   78   40   50    0    1    17     0    64    23   \n",
       "4        0   98   36   42   80   85   68   42   56     0    25    23    50   \n",
       "...    ...  ...  ...  ...  ...  ...  ...  ...  ...   ...   ...   ...   ...   \n",
       "10987   86  100   38   80   12   51    0   18   94     0   100    13    62   \n",
       "10988    0   92   48  100   76   74   70   41   57     9    38     0    46   \n",
       "10989    0   82   26   98   59  100   67   78   55    53    49    27    65   \n",
       "10990    5   90   55  100   78   84   90   65   71    51   100    23    52   \n",
       "10991    0   74   35  100  100   85   94   63   52    35     0    11     5   \n",
       "\n",
       "       At14  At15  At16  Class  \n",
       "0        25    16     0      1  \n",
       "1         0     0    16      9  \n",
       "2         0   100    72      2  \n",
       "3        98   100   100      5  \n",
       "4        37   100    32      7  \n",
       "...     ...   ...   ...    ...  \n",
       "10987    30     7    18      6  \n",
       "10988    80   100    20      7  \n",
       "10989     6    15     0      2  \n",
       "10990     5     0     0      3  \n",
       "10991     0    77     6      2  \n",
       "\n",
       "[10992 rows x 17 columns]"
      ]
     },
     "execution_count": 5,
     "metadata": {},
     "output_type": "execute_result"
    },
    {
     "data": {
      "application/javascript": [
       "\n",
       "            setTimeout(function() {\n",
       "                var nbb_cell_id = 5;\n",
       "                var nbb_unformatted_code = \"df\";\n",
       "                var nbb_formatted_code = \"df\";\n",
       "                var nbb_cells = Jupyter.notebook.get_cells();\n",
       "                for (var i = 0; i < nbb_cells.length; ++i) {\n",
       "                    if (nbb_cells[i].input_prompt_number == nbb_cell_id) {\n",
       "                        if (nbb_cells[i].get_text() == nbb_unformatted_code) {\n",
       "                             nbb_cells[i].set_text(nbb_formatted_code);\n",
       "                        }\n",
       "                        break;\n",
       "                    }\n",
       "                }\n",
       "            }, 500);\n",
       "            "
      ],
      "text/plain": [
       "<IPython.core.display.Javascript object>"
      ]
     },
     "metadata": {},
     "output_type": "display_data"
    }
   ],
   "source": [
    "df"
   ]
  },
  {
   "cell_type": "code",
   "execution_count": 6,
   "id": "9c3783da",
   "metadata": {
    "ExecuteTime": {
     "end_time": "2022-01-28T14:49:34.361138Z",
     "start_time": "2022-01-28T14:49:34.332192Z"
    }
   },
   "outputs": [
    {
     "name": "stdout",
     "output_type": "stream",
     "text": [
      "<class 'pandas.core.frame.DataFrame'>\n",
      "RangeIndex: 10992 entries, 0 to 10991\n",
      "Data columns (total 17 columns):\n",
      " #   Column  Non-Null Count  Dtype\n",
      "---  ------  --------------  -----\n",
      " 0   At1     10992 non-null  int64\n",
      " 1   At2     10992 non-null  int64\n",
      " 2   At3     10992 non-null  int64\n",
      " 3   At4     10992 non-null  int64\n",
      " 4   At5     10992 non-null  int64\n",
      " 5   At6     10992 non-null  int64\n",
      " 6   At7     10992 non-null  int64\n",
      " 7   At8     10992 non-null  int64\n",
      " 8   At9     10992 non-null  int64\n",
      " 9   At10    10992 non-null  int64\n",
      " 10  At11    10992 non-null  int64\n",
      " 11  At12    10992 non-null  int64\n",
      " 12  At13    10992 non-null  int64\n",
      " 13  At14    10992 non-null  int64\n",
      " 14  At15    10992 non-null  int64\n",
      " 15  At16    10992 non-null  int64\n",
      " 16  Class   10992 non-null  int64\n",
      "dtypes: int64(17)\n",
      "memory usage: 1.4 MB\n"
     ]
    },
    {
     "data": {
      "application/javascript": [
       "\n",
       "            setTimeout(function() {\n",
       "                var nbb_cell_id = 6;\n",
       "                var nbb_unformatted_code = \"df.info()\";\n",
       "                var nbb_formatted_code = \"df.info()\";\n",
       "                var nbb_cells = Jupyter.notebook.get_cells();\n",
       "                for (var i = 0; i < nbb_cells.length; ++i) {\n",
       "                    if (nbb_cells[i].input_prompt_number == nbb_cell_id) {\n",
       "                        if (nbb_cells[i].get_text() == nbb_unformatted_code) {\n",
       "                             nbb_cells[i].set_text(nbb_formatted_code);\n",
       "                        }\n",
       "                        break;\n",
       "                    }\n",
       "                }\n",
       "            }, 500);\n",
       "            "
      ],
      "text/plain": [
       "<IPython.core.display.Javascript object>"
      ]
     },
     "metadata": {},
     "output_type": "display_data"
    }
   ],
   "source": [
    "df.info()"
   ]
  },
  {
   "cell_type": "code",
   "execution_count": 7,
   "id": "eb629a74",
   "metadata": {
    "ExecuteTime": {
     "end_time": "2022-01-28T14:49:34.934052Z",
     "start_time": "2022-01-28T14:49:34.919057Z"
    }
   },
   "outputs": [
    {
     "data": {
      "text/plain": [
       "'\\nNhận xét: data set có 17 features, 10992 records và không có giá trị null\\nType: Numeric\\n'"
      ]
     },
     "execution_count": 7,
     "metadata": {},
     "output_type": "execute_result"
    },
    {
     "data": {
      "application/javascript": [
       "\n",
       "            setTimeout(function() {\n",
       "                var nbb_cell_id = 7;\n",
       "                var nbb_unformatted_code = \"\\\"\\\"\\\"\\nNh\\u1eadn x\\u00e9t: data set c\\u00f3 17 features, 10992 records v\\u00e0 kh\\u00f4ng c\\u00f3 gi\\u00e1 tr\\u1ecb null\\nType: Numeric\\n\\\"\\\"\\\"\";\n",
       "                var nbb_formatted_code = \"\\\"\\\"\\\"\\nNh\\u1eadn x\\u00e9t: data set c\\u00f3 17 features, 10992 records v\\u00e0 kh\\u00f4ng c\\u00f3 gi\\u00e1 tr\\u1ecb null\\nType: Numeric\\n\\\"\\\"\\\"\";\n",
       "                var nbb_cells = Jupyter.notebook.get_cells();\n",
       "                for (var i = 0; i < nbb_cells.length; ++i) {\n",
       "                    if (nbb_cells[i].input_prompt_number == nbb_cell_id) {\n",
       "                        if (nbb_cells[i].get_text() == nbb_unformatted_code) {\n",
       "                             nbb_cells[i].set_text(nbb_formatted_code);\n",
       "                        }\n",
       "                        break;\n",
       "                    }\n",
       "                }\n",
       "            }, 500);\n",
       "            "
      ],
      "text/plain": [
       "<IPython.core.display.Javascript object>"
      ]
     },
     "metadata": {},
     "output_type": "display_data"
    }
   ],
   "source": [
    "\"\"\"\n",
    "Nhận xét: data set có 17 features, 10992 records và không có giá trị null\n",
    "Type: Numeric\n",
    "\"\"\""
   ]
  },
  {
   "cell_type": "code",
   "execution_count": 8,
   "id": "62a72298",
   "metadata": {
    "ExecuteTime": {
     "end_time": "2022-01-28T14:49:41.033762Z",
     "start_time": "2022-01-28T14:49:40.974920Z"
    }
   },
   "outputs": [
    {
     "data": {
      "text/html": [
       "<div>\n",
       "<style scoped>\n",
       "    .dataframe tbody tr th:only-of-type {\n",
       "        vertical-align: middle;\n",
       "    }\n",
       "\n",
       "    .dataframe tbody tr th {\n",
       "        vertical-align: top;\n",
       "    }\n",
       "\n",
       "    .dataframe thead th {\n",
       "        text-align: right;\n",
       "    }\n",
       "</style>\n",
       "<table border=\"1\" class=\"dataframe\">\n",
       "  <thead>\n",
       "    <tr style=\"text-align: right;\">\n",
       "      <th></th>\n",
       "      <th>At1</th>\n",
       "      <th>At2</th>\n",
       "      <th>At3</th>\n",
       "      <th>At4</th>\n",
       "      <th>At5</th>\n",
       "      <th>At6</th>\n",
       "      <th>At7</th>\n",
       "      <th>At8</th>\n",
       "      <th>At9</th>\n",
       "      <th>At10</th>\n",
       "      <th>At11</th>\n",
       "      <th>At12</th>\n",
       "      <th>At13</th>\n",
       "      <th>At14</th>\n",
       "      <th>At15</th>\n",
       "      <th>At16</th>\n",
       "      <th>Class</th>\n",
       "    </tr>\n",
       "  </thead>\n",
       "  <tbody>\n",
       "    <tr>\n",
       "      <th>count</th>\n",
       "      <td>10992.000000</td>\n",
       "      <td>10992.000000</td>\n",
       "      <td>10992.000000</td>\n",
       "      <td>10992.000000</td>\n",
       "      <td>10992.000000</td>\n",
       "      <td>10992.000000</td>\n",
       "      <td>10992.000000</td>\n",
       "      <td>10992.000000</td>\n",
       "      <td>10992.000000</td>\n",
       "      <td>10992.000000</td>\n",
       "      <td>10992.000000</td>\n",
       "      <td>10992.000000</td>\n",
       "      <td>10992.000000</td>\n",
       "      <td>10992.000000</td>\n",
       "      <td>10992.000000</td>\n",
       "      <td>10992.000000</td>\n",
       "      <td>10992.000000</td>\n",
       "    </tr>\n",
       "    <tr>\n",
       "      <th>mean</th>\n",
       "      <td>39.505277</td>\n",
       "      <td>83.219159</td>\n",
       "      <td>41.046488</td>\n",
       "      <td>82.074509</td>\n",
       "      <td>49.764374</td>\n",
       "      <td>64.793031</td>\n",
       "      <td>51.261372</td>\n",
       "      <td>44.677584</td>\n",
       "      <td>56.449236</td>\n",
       "      <td>34.557041</td>\n",
       "      <td>60.086881</td>\n",
       "      <td>35.706423</td>\n",
       "      <td>54.602074</td>\n",
       "      <td>35.654021</td>\n",
       "      <td>47.381823</td>\n",
       "      <td>29.784934</td>\n",
       "      <td>4.431587</td>\n",
       "    </tr>\n",
       "    <tr>\n",
       "      <th>std</th>\n",
       "      <td>34.185374</td>\n",
       "      <td>19.044205</td>\n",
       "      <td>26.651870</td>\n",
       "      <td>21.033427</td>\n",
       "      <td>33.839527</td>\n",
       "      <td>27.323795</td>\n",
       "      <td>30.513046</td>\n",
       "      <td>29.884245</td>\n",
       "      <td>33.933970</td>\n",
       "      <td>27.598896</td>\n",
       "      <td>36.953507</td>\n",
       "      <td>27.481161</td>\n",
       "      <td>22.819585</td>\n",
       "      <td>33.126822</td>\n",
       "      <td>41.267376</td>\n",
       "      <td>35.721699</td>\n",
       "      <td>2.876947</td>\n",
       "    </tr>\n",
       "    <tr>\n",
       "      <th>min</th>\n",
       "      <td>0.000000</td>\n",
       "      <td>0.000000</td>\n",
       "      <td>0.000000</td>\n",
       "      <td>0.000000</td>\n",
       "      <td>0.000000</td>\n",
       "      <td>0.000000</td>\n",
       "      <td>0.000000</td>\n",
       "      <td>0.000000</td>\n",
       "      <td>0.000000</td>\n",
       "      <td>0.000000</td>\n",
       "      <td>0.000000</td>\n",
       "      <td>0.000000</td>\n",
       "      <td>0.000000</td>\n",
       "      <td>0.000000</td>\n",
       "      <td>0.000000</td>\n",
       "      <td>0.000000</td>\n",
       "      <td>0.000000</td>\n",
       "    </tr>\n",
       "    <tr>\n",
       "      <th>25%</th>\n",
       "      <td>7.000000</td>\n",
       "      <td>75.000000</td>\n",
       "      <td>20.000000</td>\n",
       "      <td>70.000000</td>\n",
       "      <td>18.000000</td>\n",
       "      <td>48.000000</td>\n",
       "      <td>28.000000</td>\n",
       "      <td>23.000000</td>\n",
       "      <td>28.000000</td>\n",
       "      <td>8.000000</td>\n",
       "      <td>24.000000</td>\n",
       "      <td>12.000000</td>\n",
       "      <td>41.000000</td>\n",
       "      <td>6.000000</td>\n",
       "      <td>0.000000</td>\n",
       "      <td>0.000000</td>\n",
       "      <td>2.000000</td>\n",
       "    </tr>\n",
       "    <tr>\n",
       "      <th>50%</th>\n",
       "      <td>33.000000</td>\n",
       "      <td>88.000000</td>\n",
       "      <td>40.000000</td>\n",
       "      <td>89.000000</td>\n",
       "      <td>53.000000</td>\n",
       "      <td>70.000000</td>\n",
       "      <td>54.000000</td>\n",
       "      <td>43.000000</td>\n",
       "      <td>59.000000</td>\n",
       "      <td>34.000000</td>\n",
       "      <td>72.000000</td>\n",
       "      <td>31.000000</td>\n",
       "      <td>53.000000</td>\n",
       "      <td>28.000000</td>\n",
       "      <td>41.000000</td>\n",
       "      <td>11.000000</td>\n",
       "      <td>4.000000</td>\n",
       "    </tr>\n",
       "    <tr>\n",
       "      <th>75%</th>\n",
       "      <td>66.000000</td>\n",
       "      <td>100.000000</td>\n",
       "      <td>59.000000</td>\n",
       "      <td>100.000000</td>\n",
       "      <td>78.000000</td>\n",
       "      <td>86.000000</td>\n",
       "      <td>74.000000</td>\n",
       "      <td>65.000000</td>\n",
       "      <td>88.000000</td>\n",
       "      <td>55.000000</td>\n",
       "      <td>96.000000</td>\n",
       "      <td>57.000000</td>\n",
       "      <td>68.000000</td>\n",
       "      <td>51.000000</td>\n",
       "      <td>100.000000</td>\n",
       "      <td>55.000000</td>\n",
       "      <td>7.000000</td>\n",
       "    </tr>\n",
       "    <tr>\n",
       "      <th>max</th>\n",
       "      <td>100.000000</td>\n",
       "      <td>100.000000</td>\n",
       "      <td>100.000000</td>\n",
       "      <td>100.000000</td>\n",
       "      <td>100.000000</td>\n",
       "      <td>100.000000</td>\n",
       "      <td>100.000000</td>\n",
       "      <td>100.000000</td>\n",
       "      <td>100.000000</td>\n",
       "      <td>100.000000</td>\n",
       "      <td>100.000000</td>\n",
       "      <td>100.000000</td>\n",
       "      <td>100.000000</td>\n",
       "      <td>100.000000</td>\n",
       "      <td>100.000000</td>\n",
       "      <td>100.000000</td>\n",
       "      <td>9.000000</td>\n",
       "    </tr>\n",
       "  </tbody>\n",
       "</table>\n",
       "</div>"
      ],
      "text/plain": [
       "                At1           At2           At3           At4           At5  \\\n",
       "count  10992.000000  10992.000000  10992.000000  10992.000000  10992.000000   \n",
       "mean      39.505277     83.219159     41.046488     82.074509     49.764374   \n",
       "std       34.185374     19.044205     26.651870     21.033427     33.839527   \n",
       "min        0.000000      0.000000      0.000000      0.000000      0.000000   \n",
       "25%        7.000000     75.000000     20.000000     70.000000     18.000000   \n",
       "50%       33.000000     88.000000     40.000000     89.000000     53.000000   \n",
       "75%       66.000000    100.000000     59.000000    100.000000     78.000000   \n",
       "max      100.000000    100.000000    100.000000    100.000000    100.000000   \n",
       "\n",
       "                At6           At7           At8           At9          At10  \\\n",
       "count  10992.000000  10992.000000  10992.000000  10992.000000  10992.000000   \n",
       "mean      64.793031     51.261372     44.677584     56.449236     34.557041   \n",
       "std       27.323795     30.513046     29.884245     33.933970     27.598896   \n",
       "min        0.000000      0.000000      0.000000      0.000000      0.000000   \n",
       "25%       48.000000     28.000000     23.000000     28.000000      8.000000   \n",
       "50%       70.000000     54.000000     43.000000     59.000000     34.000000   \n",
       "75%       86.000000     74.000000     65.000000     88.000000     55.000000   \n",
       "max      100.000000    100.000000    100.000000    100.000000    100.000000   \n",
       "\n",
       "               At11          At12          At13          At14          At15  \\\n",
       "count  10992.000000  10992.000000  10992.000000  10992.000000  10992.000000   \n",
       "mean      60.086881     35.706423     54.602074     35.654021     47.381823   \n",
       "std       36.953507     27.481161     22.819585     33.126822     41.267376   \n",
       "min        0.000000      0.000000      0.000000      0.000000      0.000000   \n",
       "25%       24.000000     12.000000     41.000000      6.000000      0.000000   \n",
       "50%       72.000000     31.000000     53.000000     28.000000     41.000000   \n",
       "75%       96.000000     57.000000     68.000000     51.000000    100.000000   \n",
       "max      100.000000    100.000000    100.000000    100.000000    100.000000   \n",
       "\n",
       "               At16         Class  \n",
       "count  10992.000000  10992.000000  \n",
       "mean      29.784934      4.431587  \n",
       "std       35.721699      2.876947  \n",
       "min        0.000000      0.000000  \n",
       "25%        0.000000      2.000000  \n",
       "50%       11.000000      4.000000  \n",
       "75%       55.000000      7.000000  \n",
       "max      100.000000      9.000000  "
      ]
     },
     "execution_count": 8,
     "metadata": {},
     "output_type": "execute_result"
    },
    {
     "data": {
      "application/javascript": [
       "\n",
       "            setTimeout(function() {\n",
       "                var nbb_cell_id = 8;\n",
       "                var nbb_unformatted_code = \"df.describe()\";\n",
       "                var nbb_formatted_code = \"df.describe()\";\n",
       "                var nbb_cells = Jupyter.notebook.get_cells();\n",
       "                for (var i = 0; i < nbb_cells.length; ++i) {\n",
       "                    if (nbb_cells[i].input_prompt_number == nbb_cell_id) {\n",
       "                        if (nbb_cells[i].get_text() == nbb_unformatted_code) {\n",
       "                             nbb_cells[i].set_text(nbb_formatted_code);\n",
       "                        }\n",
       "                        break;\n",
       "                    }\n",
       "                }\n",
       "            }, 500);\n",
       "            "
      ],
      "text/plain": [
       "<IPython.core.display.Javascript object>"
      ]
     },
     "metadata": {},
     "output_type": "display_data"
    }
   ],
   "source": [
    "df.describe()"
   ]
  },
  {
   "cell_type": "markdown",
   "id": "d1f273d1",
   "metadata": {},
   "source": [
    "### <p style=\"color:red\">Xác định thuộc tính từ requirements</p>\n",
    "<p style=\"color:blue\">input: <> Class: tất cả các thuộc tính trừ Class</p>\n",
    "<p style=\"color:blue\">output: Class</p>\n",
    "\n",
    "##### variable type:\n",
    "- predictor: <> Class: các thuộc tính khác binaryClass\n",
    "- target: Class\n",
    "\n",
    "##### data type:\n",
    "- numeric\n"
   ]
  },
  {
   "cell_type": "code",
   "execution_count": 9,
   "id": "d29958e0",
   "metadata": {
    "ExecuteTime": {
     "end_time": "2022-01-28T14:49:41.466177Z",
     "start_time": "2022-01-28T14:49:41.446227Z"
    }
   },
   "outputs": [
    {
     "data": {
      "application/javascript": [
       "\n",
       "            setTimeout(function() {\n",
       "                var nbb_cell_id = 9;\n",
       "                var nbb_unformatted_code = \"numbers = [i for i in df.columns if df.dtypes[i] != \\\"object\\\"]\";\n",
       "                var nbb_formatted_code = \"numbers = [i for i in df.columns if df.dtypes[i] != \\\"object\\\"]\";\n",
       "                var nbb_cells = Jupyter.notebook.get_cells();\n",
       "                for (var i = 0; i < nbb_cells.length; ++i) {\n",
       "                    if (nbb_cells[i].input_prompt_number == nbb_cell_id) {\n",
       "                        if (nbb_cells[i].get_text() == nbb_unformatted_code) {\n",
       "                             nbb_cells[i].set_text(nbb_formatted_code);\n",
       "                        }\n",
       "                        break;\n",
       "                    }\n",
       "                }\n",
       "            }, 500);\n",
       "            "
      ],
      "text/plain": [
       "<IPython.core.display.Javascript object>"
      ]
     },
     "metadata": {},
     "output_type": "display_data"
    }
   ],
   "source": [
    "numbers = [i for i in df.columns if df.dtypes[i] != \"object\"]\n"
   ]
  },
  {
   "cell_type": "code",
   "execution_count": 10,
   "id": "d383df42",
   "metadata": {
    "ExecuteTime": {
     "end_time": "2022-01-28T14:49:42.599219Z",
     "start_time": "2022-01-28T14:49:42.560296Z"
    }
   },
   "outputs": [
    {
     "name": "stdout",
     "output_type": "stream",
     "text": [
      "0 / At1 \t len = 101 \n",
      "1 / At2 \t len = 101 \n",
      "2 / At3 \t len = 101 \n",
      "3 / At4 \t len = 101 \n",
      "4 / At5 \t len = 101 \n",
      "5 / At6 \t len = 101 \n",
      "6 / At7 \t len = 101 \n",
      "7 / At8 \t len = 101 \n",
      "8 / At9 \t len = 101 \n",
      "9 / At10 \t len = 101 \n",
      "10 / At11 \t len = 101 \n",
      "11 / At12 \t len = 101 \n",
      "12 / At13 \t len = 101 \n",
      "13 / At14 \t len = 101 \n",
      "14 / At15 \t len = 101 \n",
      "15 / At16 \t len = 101 \n",
      "16 / Class \t len = 10 [1 9 2 5 7 0 3 6 8 4]\n"
     ]
    },
    {
     "data": {
      "application/javascript": [
       "\n",
       "            setTimeout(function() {\n",
       "                var nbb_cell_id = 10;\n",
       "                var nbb_unformatted_code = \"### x\\u00e9t c\\u00e1c bi\\u1ebfn c\\u00f3 dtype != object\\ni = 0\\nfor obj in numbers:\\n    print(\\n        i,\\n        \\\"/\\\",\\n        obj,\\n        \\\"\\\\t len =\\\",\\n        len(df[obj].unique()),\\n        df[obj].unique() if len(df[obj].unique()) < 20 else \\\"\\\",\\n    )\\n    i = i + 1\";\n",
       "                var nbb_formatted_code = \"### x\\u00e9t c\\u00e1c bi\\u1ebfn c\\u00f3 dtype != object\\ni = 0\\nfor obj in numbers:\\n    print(\\n        i,\\n        \\\"/\\\",\\n        obj,\\n        \\\"\\\\t len =\\\",\\n        len(df[obj].unique()),\\n        df[obj].unique() if len(df[obj].unique()) < 20 else \\\"\\\",\\n    )\\n    i = i + 1\";\n",
       "                var nbb_cells = Jupyter.notebook.get_cells();\n",
       "                for (var i = 0; i < nbb_cells.length; ++i) {\n",
       "                    if (nbb_cells[i].input_prompt_number == nbb_cell_id) {\n",
       "                        if (nbb_cells[i].get_text() == nbb_unformatted_code) {\n",
       "                             nbb_cells[i].set_text(nbb_formatted_code);\n",
       "                        }\n",
       "                        break;\n",
       "                    }\n",
       "                }\n",
       "            }, 500);\n",
       "            "
      ],
      "text/plain": [
       "<IPython.core.display.Javascript object>"
      ]
     },
     "metadata": {},
     "output_type": "display_data"
    }
   ],
   "source": [
    "### xét các biến có dtype != object\n",
    "i = 0\n",
    "for obj in numbers:\n",
    "    print(\n",
    "        i,\n",
    "        \"/\",\n",
    "        obj,\n",
    "        \"\\t len =\",\n",
    "        len(df[obj].unique()),\n",
    "        df[obj].unique() if len(df[obj].unique()) < 20 else \"\",\n",
    "    )\n",
    "    i = i + 1"
   ]
  },
  {
   "cell_type": "markdown",
   "id": "e3b7105e",
   "metadata": {},
   "source": [
    "## <p style=\"color:blue\">Nhận xét</p>"
   ]
  },
  {
   "cell_type": "code",
   "execution_count": 11,
   "id": "fa80ad0d",
   "metadata": {
    "ExecuteTime": {
     "end_time": "2022-01-28T14:49:43.155551Z",
     "start_time": "2022-01-28T14:49:43.145605Z"
    }
   },
   "outputs": [
    {
     "data": {
      "text/plain": [
       "'\\nTừ kết quả trên, ta thấy:\\nContinuous Variables:  At1, At2, At3, At4, At5, At6, At7, At8, At9, At10,\\n                       At11, At12, At13, At14, At15, At16\\n                       \\nCategorical Variables: Class\\n'"
      ]
     },
     "execution_count": 11,
     "metadata": {},
     "output_type": "execute_result"
    },
    {
     "data": {
      "application/javascript": [
       "\n",
       "            setTimeout(function() {\n",
       "                var nbb_cell_id = 11;\n",
       "                var nbb_unformatted_code = \"\\\"\\\"\\\"\\nT\\u1eeb k\\u1ebft qu\\u1ea3 tr\\u00ean, ta th\\u1ea5y:\\nContinuous Variables:  At1, At2, At3, At4, At5, At6, At7, At8, At9, At10,\\n                       At11, At12, At13, At14, At15, At16\\n                       \\nCategorical Variables: Class\\n\\\"\\\"\\\"\";\n",
       "                var nbb_formatted_code = \"\\\"\\\"\\\"\\nT\\u1eeb k\\u1ebft qu\\u1ea3 tr\\u00ean, ta th\\u1ea5y:\\nContinuous Variables:  At1, At2, At3, At4, At5, At6, At7, At8, At9, At10,\\n                       At11, At12, At13, At14, At15, At16\\n                       \\nCategorical Variables: Class\\n\\\"\\\"\\\"\";\n",
       "                var nbb_cells = Jupyter.notebook.get_cells();\n",
       "                for (var i = 0; i < nbb_cells.length; ++i) {\n",
       "                    if (nbb_cells[i].input_prompt_number == nbb_cell_id) {\n",
       "                        if (nbb_cells[i].get_text() == nbb_unformatted_code) {\n",
       "                             nbb_cells[i].set_text(nbb_formatted_code);\n",
       "                        }\n",
       "                        break;\n",
       "                    }\n",
       "                }\n",
       "            }, 500);\n",
       "            "
      ],
      "text/plain": [
       "<IPython.core.display.Javascript object>"
      ]
     },
     "metadata": {},
     "output_type": "display_data"
    }
   ],
   "source": [
    "\"\"\"\n",
    "Từ kết quả trên, ta thấy:\n",
    "Continuous Variables:  At1, At2, At3, At4, At5, At6, At7, At8, At9, At10,\n",
    "                       At11, At12, At13, At14, At15, At16\n",
    "                       \n",
    "Categorical Variables: Class\n",
    "\"\"\""
   ]
  },
  {
   "cell_type": "markdown",
   "id": "a05febbe",
   "metadata": {},
   "source": [
    "### Phân tích đơn biến"
   ]
  },
  {
   "cell_type": "markdown",
   "id": "8ca7fd07",
   "metadata": {},
   "source": [
    "### Continuous"
   ]
  },
  {
   "cell_type": "code",
   "execution_count": 6,
   "id": "ddb34da7",
   "metadata": {
    "ExecuteTime": {
     "end_time": "2022-01-29T06:19:55.293105Z",
     "start_time": "2022-01-29T06:19:55.260230Z"
    }
   },
   "outputs": [
    {
     "data": {
      "application/javascript": [
       "\n",
       "            setTimeout(function() {\n",
       "                var nbb_cell_id = 6;\n",
       "                var nbb_unformatted_code = \"def continuous_univariate_analysis(f):\\n    print(\\\"1\\\\ Describe: \\\\n\\\", f.describe(), \\\"\\\\n\\\")\\n    print(\\\"2\\\\ Meadian: \\\", f.median())\\n    print(\\\"3\\\\ Mode: \\\", f.mode)\\n    print(\\\"4\\\\ Range: \\\", f.values.ptp())\\n    print(\\\"5\\\\ Variance: \\\", f.var())\\n    print(\\\"6\\\\ S\\u1ed1 NaN: \\\", f.isnull().sum())\\n    print(\\\"7\\\\ \\\\tQ1 = \\\", np.quantile(f, 0.25))\\n    print(\\\"   \\\\tQ3 = \\\", np.quantile(f, 0.75))\\n    print(\\\"   \\\\tIQR = \\\", iqr(f))\\n\\n    print(\\\"8\\\\ Skew: \\\", f.skew())\\n    if f.skew() > 0:\\n        print(\\\"Ph\\u00e2n ph\\u1ed1i l\\u1ec7ch ph\\u1ea3i\\\")\\n    elif f.skew() == 0:\\n        print(\\\"Ph\\u00e2n ph\\u1ed1i \\u0111\\u1ed1i x\\u1ee9ng\\\")\\n    else:\\n        print(\\\"Ph\\u00e2n ph\\u1ed1i l\\u1ec7ch tr\\u00e1i\\\")\\n\\n    print(\\\"9\\\\ Kurtosis: \\\", f.kurtosis())\\n    if f.kurtosis() > 0:\\n        print(\\\"Ph\\u00e2n ph\\u1ed1i nh\\u1ecdn h\\u01a1n pp chu\\u1ea9n\\\")\\n    elif f.kurtosis() == 0:\\n        print(\\\"Ph\\u00e2n ph\\u1ed1i \\u0111\\u1ed1i x\\u1ee9ng\\\")\\n    else:\\n        print(\\\"Ph\\u00e2n ph\\u1ed1i b\\u1eb9t h\\u01a1n pp chu\\u1ea9n\\\")\";\n",
       "                var nbb_formatted_code = \"def continuous_univariate_analysis(f):\\n    print(\\\"1\\\\ Describe: \\\\n\\\", f.describe(), \\\"\\\\n\\\")\\n    print(\\\"2\\\\ Meadian: \\\", f.median())\\n    print(\\\"3\\\\ Mode: \\\", f.mode)\\n    print(\\\"4\\\\ Range: \\\", f.values.ptp())\\n    print(\\\"5\\\\ Variance: \\\", f.var())\\n    print(\\\"6\\\\ S\\u1ed1 NaN: \\\", f.isnull().sum())\\n    print(\\\"7\\\\ \\\\tQ1 = \\\", np.quantile(f, 0.25))\\n    print(\\\"   \\\\tQ3 = \\\", np.quantile(f, 0.75))\\n    print(\\\"   \\\\tIQR = \\\", iqr(f))\\n\\n    print(\\\"8\\\\ Skew: \\\", f.skew())\\n    if f.skew() > 0:\\n        print(\\\"Ph\\u00e2n ph\\u1ed1i l\\u1ec7ch ph\\u1ea3i\\\")\\n    elif f.skew() == 0:\\n        print(\\\"Ph\\u00e2n ph\\u1ed1i \\u0111\\u1ed1i x\\u1ee9ng\\\")\\n    else:\\n        print(\\\"Ph\\u00e2n ph\\u1ed1i l\\u1ec7ch tr\\u00e1i\\\")\\n\\n    print(\\\"9\\\\ Kurtosis: \\\", f.kurtosis())\\n    if f.kurtosis() > 0:\\n        print(\\\"Ph\\u00e2n ph\\u1ed1i nh\\u1ecdn h\\u01a1n pp chu\\u1ea9n\\\")\\n    elif f.kurtosis() == 0:\\n        print(\\\"Ph\\u00e2n ph\\u1ed1i \\u0111\\u1ed1i x\\u1ee9ng\\\")\\n    else:\\n        print(\\\"Ph\\u00e2n ph\\u1ed1i b\\u1eb9t h\\u01a1n pp chu\\u1ea9n\\\")\";\n",
       "                var nbb_cells = Jupyter.notebook.get_cells();\n",
       "                for (var i = 0; i < nbb_cells.length; ++i) {\n",
       "                    if (nbb_cells[i].input_prompt_number == nbb_cell_id) {\n",
       "                        if (nbb_cells[i].get_text() == nbb_unformatted_code) {\n",
       "                             nbb_cells[i].set_text(nbb_formatted_code);\n",
       "                        }\n",
       "                        break;\n",
       "                    }\n",
       "                }\n",
       "            }, 500);\n",
       "            "
      ],
      "text/plain": [
       "<IPython.core.display.Javascript object>"
      ]
     },
     "metadata": {},
     "output_type": "display_data"
    }
   ],
   "source": [
    "def continuous_univariate_analysis(f):\n",
    "    print(\"1\\ Describe: \\n\", f.describe(), \"\\n\")\n",
    "    print(\"2\\ Meadian: \", f.median())\n",
    "    print(\"3\\ Mode: \", f.mode)\n",
    "    print(\"4\\ Range: \", f.values.ptp())\n",
    "    print(\"5\\ Variance: \", f.var())\n",
    "    print(\"6\\ Số NaN: \", f.isnull().sum())\n",
    "    print(\"7\\ \\tQ1 = \", np.quantile(f, 0.25))\n",
    "    print(\"   \\tQ3 = \", np.quantile(f, 0.75))\n",
    "    print(\"   \\tIQR = \", iqr(f))\n",
    "\n",
    "    print(\"8\\ Skew: \", f.skew())\n",
    "    if f.skew() > 0:\n",
    "        print(\"Phân phối lệch phải\")\n",
    "    elif f.skew() == 0:\n",
    "        print(\"Phân phối đối xứng\")\n",
    "    else:\n",
    "        print(\"Phân phối lệch trái\")\n",
    "\n",
    "    print(\"9\\ Kurtosis: \", f.kurtosis())\n",
    "    if f.kurtosis() > 0:\n",
    "        print(\"Phân phối nhọn hơn pp chuẩn\")\n",
    "    elif f.kurtosis() == 0:\n",
    "        print(\"Phân phối đối xứng\")\n",
    "    else:\n",
    "        print(\"Phân phối bẹt hơn pp chuẩn\")"
   ]
  },
  {
   "cell_type": "code",
   "execution_count": 7,
   "id": "a02db580",
   "metadata": {
    "ExecuteTime": {
     "end_time": "2022-01-29T06:19:55.464639Z",
     "start_time": "2022-01-29T06:19:55.450677Z"
    }
   },
   "outputs": [
    {
     "data": {
      "application/javascript": [
       "\n",
       "            setTimeout(function() {\n",
       "                var nbb_cell_id = 7;\n",
       "                var nbb_unformatted_code = \"def visualize_histogram(f):\\n    # Histogram\\n    plt.subplot(1, 2, 1)\\n    sns.distplot(f)\\n\\n    plt.subplot(1, 2, 2)\\n    plt.hist(f)\\n    plt.show()\";\n",
       "                var nbb_formatted_code = \"def visualize_histogram(f):\\n    # Histogram\\n    plt.subplot(1, 2, 1)\\n    sns.distplot(f)\\n\\n    plt.subplot(1, 2, 2)\\n    plt.hist(f)\\n    plt.show()\";\n",
       "                var nbb_cells = Jupyter.notebook.get_cells();\n",
       "                for (var i = 0; i < nbb_cells.length; ++i) {\n",
       "                    if (nbb_cells[i].input_prompt_number == nbb_cell_id) {\n",
       "                        if (nbb_cells[i].get_text() == nbb_unformatted_code) {\n",
       "                             nbb_cells[i].set_text(nbb_formatted_code);\n",
       "                        }\n",
       "                        break;\n",
       "                    }\n",
       "                }\n",
       "            }, 500);\n",
       "            "
      ],
      "text/plain": [
       "<IPython.core.display.Javascript object>"
      ]
     },
     "metadata": {},
     "output_type": "display_data"
    }
   ],
   "source": [
    "def visualize_histogram(f):\n",
    "    # Histogram\n",
    "    plt.subplot(1, 2, 1)\n",
    "    sns.distplot(f)\n",
    "\n",
    "    plt.subplot(1, 2, 2)\n",
    "    plt.hist(f)\n",
    "    plt.show()"
   ]
  },
  {
   "cell_type": "code",
   "execution_count": 8,
   "id": "1cebfcb7",
   "metadata": {
    "ExecuteTime": {
     "end_time": "2022-01-29T06:19:55.633819Z",
     "start_time": "2022-01-29T06:19:55.617871Z"
    }
   },
   "outputs": [
    {
     "data": {
      "application/javascript": [
       "\n",
       "            setTimeout(function() {\n",
       "                var nbb_cell_id = 8;\n",
       "                var nbb_unformatted_code = \"def visualize_boxplot(f):\\n    plt.boxplot(f)\\n    plt.show()\";\n",
       "                var nbb_formatted_code = \"def visualize_boxplot(f):\\n    plt.boxplot(f)\\n    plt.show()\";\n",
       "                var nbb_cells = Jupyter.notebook.get_cells();\n",
       "                for (var i = 0; i < nbb_cells.length; ++i) {\n",
       "                    if (nbb_cells[i].input_prompt_number == nbb_cell_id) {\n",
       "                        if (nbb_cells[i].get_text() == nbb_unformatted_code) {\n",
       "                             nbb_cells[i].set_text(nbb_formatted_code);\n",
       "                        }\n",
       "                        break;\n",
       "                    }\n",
       "                }\n",
       "            }, 500);\n",
       "            "
      ],
      "text/plain": [
       "<IPython.core.display.Javascript object>"
      ]
     },
     "metadata": {},
     "output_type": "display_data"
    }
   ],
   "source": [
    "def visualize_boxplot(f):\n",
    "    plt.boxplot(f)\n",
    "    plt.show()"
   ]
  },
  {
   "cell_type": "code",
   "execution_count": 9,
   "id": "e94f8311",
   "metadata": {
    "ExecuteTime": {
     "end_time": "2022-01-29T06:19:55.789981Z",
     "start_time": "2022-01-29T06:19:55.768034Z"
    }
   },
   "outputs": [
    {
     "data": {
      "application/javascript": [
       "\n",
       "            setTimeout(function() {\n",
       "                var nbb_cell_id = 9;\n",
       "                var nbb_unformatted_code = \"def find_outliers(f):\\n    Q1 = np.quantile(f, 0.25)\\n    Q3 = np.quantile(f, 0.75)\\n    IQR = Q3 - Q1\\n    \\n    # s\\u1ed1 l\\u01b0\\u1ee3ng outliers\\n    num_outliers = len(f[(f > Q3 + 1.5 * IQR) | (f < Q1 - 1.5 * IQR)])\\n    \\n    # t\\u1ec9 l\\u1ec7 outliers so v\\u1edbi m\\u1eabu\\n    ratio = (num_outliers / f.shape[0])\\n                       \\n    print('S\\u1ed1 l\\u01b0\\u1ee3ng outliers: ', num_outliers)\\n    print('T\\u1ec9 l\\u1ec7 outliers so v\\u1edbi m\\u1eabu', ratio)\";\n",
       "                var nbb_formatted_code = \"def find_outliers(f):\\n    Q1 = np.quantile(f, 0.25)\\n    Q3 = np.quantile(f, 0.75)\\n    IQR = Q3 - Q1\\n\\n    # s\\u1ed1 l\\u01b0\\u1ee3ng outliers\\n    num_outliers = len(f[(f > Q3 + 1.5 * IQR) | (f < Q1 - 1.5 * IQR)])\\n\\n    # t\\u1ec9 l\\u1ec7 outliers so v\\u1edbi m\\u1eabu\\n    ratio = num_outliers / f.shape[0]\\n\\n    print(\\\"S\\u1ed1 l\\u01b0\\u1ee3ng outliers: \\\", num_outliers)\\n    print(\\\"T\\u1ec9 l\\u1ec7 outliers so v\\u1edbi m\\u1eabu\\\", ratio)\";\n",
       "                var nbb_cells = Jupyter.notebook.get_cells();\n",
       "                for (var i = 0; i < nbb_cells.length; ++i) {\n",
       "                    if (nbb_cells[i].input_prompt_number == nbb_cell_id) {\n",
       "                        if (nbb_cells[i].get_text() == nbb_unformatted_code) {\n",
       "                             nbb_cells[i].set_text(nbb_formatted_code);\n",
       "                        }\n",
       "                        break;\n",
       "                    }\n",
       "                }\n",
       "            }, 500);\n",
       "            "
      ],
      "text/plain": [
       "<IPython.core.display.Javascript object>"
      ]
     },
     "metadata": {},
     "output_type": "display_data"
    }
   ],
   "source": [
    "def find_outliers(f):\n",
    "    Q1 = np.quantile(f, 0.25)\n",
    "    Q3 = np.quantile(f, 0.75)\n",
    "    IQR = Q3 - Q1\n",
    "    \n",
    "    # số lượng outliers\n",
    "    num_outliers = len(f[(f > Q3 + 1.5 * IQR) | (f < Q1 - 1.5 * IQR)])\n",
    "    \n",
    "    # tỉ lệ outliers so với mẫu\n",
    "    ratio = (num_outliers / f.shape[0])\n",
    "                       \n",
    "    print('Số lượng outliers: ', num_outliers)\n",
    "    print('Tỉ lệ outliers so với mẫu', ratio)\n"
   ]
  },
  {
   "cell_type": "code",
   "execution_count": 10,
   "id": "e0b5d337",
   "metadata": {
    "ExecuteTime": {
     "end_time": "2022-01-29T06:19:57.884809Z",
     "start_time": "2022-01-29T06:19:56.472607Z"
    }
   },
   "outputs": [
    {
     "name": "stdout",
     "output_type": "stream",
     "text": [
      "At1\n",
      "1\\ Describe: \n",
      " count    10992.000000\n",
      "mean        39.505277\n",
      "std         34.185374\n",
      "min          0.000000\n",
      "25%          7.000000\n",
      "50%         33.000000\n",
      "75%         66.000000\n",
      "max        100.000000\n",
      "Name: At1, dtype: float64 \n",
      "\n",
      "2\\ Meadian:  33.0\n",
      "3\\ Mode:  <bound method Series.mode of 0         0\n",
      "1        99\n",
      "2         0\n",
      "3        12\n",
      "4         0\n",
      "         ..\n",
      "10987    86\n",
      "10988     0\n",
      "10989     0\n",
      "10990     5\n",
      "10991     0\n",
      "Name: At1, Length: 10992, dtype: int64>\n",
      "4\\ Range:  100\n",
      "5\\ Variance:  1168.6397683522193\n",
      "6\\ Số NaN:  0\n",
      "7\\ \tQ1 =  7.0\n",
      "   \tQ3 =  66.0\n",
      "   \tIQR =  59.0\n",
      "8\\ Skew:  0.4704683179530289\n",
      "Phân phối lệch phải\n",
      "9\\ Kurtosis:  -1.0821780600678341\n",
      "Phân phối bẹt hơn pp chuẩn\n",
      "Số lượng outliers:  0\n",
      "Tỉ lệ outliers so với mẫu 0.0\n",
      "\n",
      "====================================================\n",
      "\n",
      "\n",
      "At2\n",
      "1\\ Describe: \n",
      " count    10992.000000\n",
      "mean        83.219159\n",
      "std         19.044205\n",
      "min          0.000000\n",
      "25%         75.000000\n",
      "50%         88.000000\n",
      "75%        100.000000\n",
      "max        100.000000\n",
      "Name: At2, dtype: float64 \n",
      "\n",
      "2\\ Meadian:  88.0\n",
      "3\\ Mode:  <bound method Series.mode of 0         57\n",
      "1         80\n",
      "2         73\n",
      "3         77\n",
      "4         98\n",
      "        ... \n",
      "10987    100\n",
      "10988     92\n",
      "10989     82\n",
      "10990     90\n",
      "10991     74\n",
      "Name: At2, Length: 10992, dtype: int64>\n",
      "4\\ Range:  100\n",
      "5\\ Variance:  362.68174370237017\n",
      "6\\ Số NaN:  0\n",
      "7\\ \tQ1 =  75.0\n",
      "   \tQ3 =  100.0\n",
      "   \tIQR =  25.0\n",
      "8\\ Skew:  -1.672400095112704\n",
      "Phân phối lệch trái\n",
      "9\\ Kurtosis:  3.2886110621347915\n",
      "Phân phối nhọn hơn pp chuẩn\n",
      "Số lượng outliers:  392\n",
      "Tỉ lệ outliers so với mẫu 0.03566229985443959\n",
      "\n",
      "====================================================\n",
      "\n",
      "\n",
      "At3\n",
      "1\\ Describe: \n",
      " count    10992.000000\n",
      "mean        41.046488\n",
      "std         26.651870\n",
      "min          0.000000\n",
      "25%         20.000000\n",
      "50%         40.000000\n",
      "75%         59.000000\n",
      "max        100.000000\n",
      "Name: At3, dtype: float64 \n",
      "\n",
      "2\\ Meadian:  40.0\n",
      "3\\ Mode:  <bound method Series.mode of 0        31\n",
      "1        63\n",
      "2        19\n",
      "3        20\n",
      "4        36\n",
      "         ..\n",
      "10987    38\n",
      "10988    48\n",
      "10989    26\n",
      "10990    55\n",
      "10991    35\n",
      "Name: At3, Length: 10992, dtype: int64>\n",
      "4\\ Range:  100\n",
      "5\\ Variance:  710.3221949277145\n",
      "6\\ Số NaN:  0\n",
      "7\\ \tQ1 =  20.0\n",
      "   \tQ3 =  59.0\n",
      "   \tIQR =  39.0\n",
      "8\\ Skew:  0.2642560482558006\n",
      "Phân phối lệch phải\n",
      "9\\ Kurtosis:  -0.6466985636562206\n",
      "Phân phối bẹt hơn pp chuẩn\n",
      "Số lượng outliers:  0\n",
      "Tỉ lệ outliers so với mẫu 0.0\n",
      "\n",
      "====================================================\n",
      "\n",
      "\n",
      "At4\n",
      "1\\ Describe: \n",
      " count    10992.000000\n",
      "mean        82.074509\n",
      "std         21.033427\n",
      "min          0.000000\n",
      "25%         70.000000\n",
      "50%         89.000000\n",
      "75%        100.000000\n",
      "max        100.000000\n",
      "Name: At4, dtype: float64 \n",
      "\n",
      "2\\ Meadian:  89.0\n",
      "3\\ Mode:  <bound method Series.mode of 0         68\n",
      "1        100\n",
      "2         99\n",
      "3         62\n",
      "4         42\n",
      "        ... \n",
      "10987     80\n",
      "10988    100\n",
      "10989     98\n",
      "10990    100\n",
      "10991    100\n",
      "Name: At4, Length: 10992, dtype: int64>\n",
      "4\\ Range:  100\n",
      "5\\ Variance:  442.4050566233429\n",
      "6\\ Số NaN:  0\n",
      "7\\ \tQ1 =  70.0\n",
      "   \tQ3 =  100.0\n",
      "   \tIQR =  30.0\n",
      "8\\ Skew:  -1.2538761382440204\n",
      "Phân phối lệch trái\n",
      "9\\ Kurtosis:  1.271503483217805\n",
      "Phân phối nhọn hơn pp chuẩn\n",
      "Số lượng outliers:  227\n",
      "Tỉ lệ outliers so với mẫu 0.020651382823871908\n",
      "\n",
      "====================================================\n",
      "\n",
      "\n",
      "At5\n",
      "1\\ Describe: \n",
      " count    10992.000000\n",
      "mean        49.764374\n",
      "std         33.839527\n",
      "min          0.000000\n",
      "25%         18.000000\n",
      "50%         53.000000\n",
      "75%         78.000000\n",
      "max        100.000000\n",
      "Name: At5, dtype: float64 \n",
      "\n",
      "2\\ Meadian:  53.0\n",
      "3\\ Mode:  <bound method Series.mode of 0         72\n",
      "1         25\n",
      "2         72\n",
      "3         78\n",
      "4         80\n",
      "        ... \n",
      "10987     12\n",
      "10988     76\n",
      "10989     59\n",
      "10990     78\n",
      "10991    100\n",
      "Name: At5, Length: 10992, dtype: int64>\n",
      "4\\ Range:  100\n",
      "5\\ Variance:  1145.113613765239\n",
      "6\\ Số NaN:  0\n",
      "7\\ \tQ1 =  18.0\n",
      "   \tQ3 =  78.0\n",
      "   \tIQR =  60.0\n",
      "8\\ Skew:  -0.07629880571098518\n",
      "Phân phối lệch trái\n",
      "9\\ Kurtosis:  -1.301339758485538\n",
      "Phân phối bẹt hơn pp chuẩn\n",
      "Số lượng outliers:  0\n",
      "Tỉ lệ outliers so với mẫu 0.0\n",
      "\n",
      "====================================================\n",
      "\n",
      "\n",
      "At6\n",
      "1\\ Describe: \n",
      " count    10992.000000\n",
      "mean        64.793031\n",
      "std         27.323795\n",
      "min          0.000000\n",
      "25%         48.000000\n",
      "50%         70.000000\n",
      "75%         86.000000\n",
      "max        100.000000\n",
      "Name: At6, dtype: float64 \n",
      "\n",
      "2\\ Meadian:  70.0\n",
      "3\\ Mode:  <bound method Series.mode of 0         90\n",
      "1         76\n",
      "2        100\n",
      "3         40\n",
      "4         85\n",
      "        ... \n",
      "10987     51\n",
      "10988     74\n",
      "10989    100\n",
      "10990     84\n",
      "10991     85\n",
      "Name: At6, Length: 10992, dtype: int64>\n",
      "4\\ Range:  100\n",
      "5\\ Variance:  746.5897685558398\n",
      "6\\ Số NaN:  0\n",
      "7\\ \tQ1 =  48.0\n",
      "   \tQ3 =  86.0\n",
      "   \tIQR =  38.0\n",
      "8\\ Skew:  -0.6993027793943273\n",
      "Phân phối lệch trái\n",
      "9\\ Kurtosis:  -0.2855377813237787\n",
      "Phân phối bẹt hơn pp chuẩn\n",
      "Số lượng outliers:  0\n",
      "Tỉ lệ outliers so với mẫu 0.0\n",
      "\n",
      "====================================================\n",
      "\n",
      "\n",
      "At7\n",
      "1\\ Describe: \n",
      " count    10992.000000\n",
      "mean        51.261372\n",
      "std         30.513046\n",
      "min          0.000000\n",
      "25%         28.000000\n",
      "50%         54.000000\n",
      "75%         74.000000\n",
      "max        100.000000\n",
      "Name: At7, dtype: float64 \n",
      "\n",
      "2\\ Meadian:  54.0\n",
      "3\\ Mode:  <bound method Series.mode of 0        100\n",
      "1         79\n",
      "2         70\n",
      "3         50\n",
      "4         68\n",
      "        ... \n",
      "10987      0\n",
      "10988     70\n",
      "10989     67\n",
      "10990     90\n",
      "10991     94\n",
      "Name: At7, Length: 10992, dtype: int64>\n",
      "4\\ Range:  100\n",
      "5\\ Variance:  931.045953826917\n",
      "6\\ Số NaN:  0\n",
      "7\\ \tQ1 =  28.0\n",
      "   \tQ3 =  74.0\n",
      "   \tIQR =  46.0\n",
      "8\\ Skew:  -0.13576889561110406\n",
      "Phân phối lệch trái\n",
      "9\\ Kurtosis:  -1.012389447341061\n",
      "Phân phối bẹt hơn pp chuẩn\n",
      "Số lượng outliers:  0\n",
      "Tỉ lệ outliers so với mẫu 0.0\n",
      "\n",
      "====================================================\n",
      "\n",
      "\n",
      "At8\n",
      "1\\ Describe: \n",
      " count    10992.000000\n",
      "mean        44.677584\n",
      "std         29.884245\n",
      "min          0.000000\n",
      "25%         23.000000\n",
      "50%         43.000000\n",
      "75%         65.000000\n",
      "max        100.000000\n",
      "Name: At8, dtype: float64 \n",
      "\n",
      "2\\ Meadian:  43.0\n",
      "3\\ Mode:  <bound method Series.mode of 0        100\n",
      "1         68\n",
      "2         73\n",
      "3          0\n",
      "4         42\n",
      "        ... \n",
      "10987     18\n",
      "10988     41\n",
      "10989     78\n",
      "10990     65\n",
      "10991     63\n",
      "Name: At8, Length: 10992, dtype: int64>\n",
      "4\\ Range:  100\n",
      "5\\ Variance:  893.0680881287417\n",
      "6\\ Số NaN:  0\n",
      "7\\ \tQ1 =  23.0\n",
      "   \tQ3 =  65.0\n",
      "   \tIQR =  42.0\n",
      "8\\ Skew:  0.17486572117775337\n",
      "Phân phối lệch phải\n",
      "9\\ Kurtosis:  -0.8425687976001632\n",
      "Phân phối bẹt hơn pp chuẩn\n",
      "Số lượng outliers:  0\n",
      "Tỉ lệ outliers so với mẫu 0.0\n",
      "\n",
      "====================================================\n",
      "\n",
      "\n",
      "At9\n",
      "1\\ Describe: \n",
      " count    10992.000000\n",
      "mean        56.449236\n",
      "std         33.933970\n",
      "min          0.000000\n",
      "25%         28.000000\n",
      "50%         59.000000\n",
      "75%         88.000000\n",
      "max        100.000000\n",
      "Name: At9, dtype: float64 \n",
      "\n",
      "2\\ Meadian:  59.0\n",
      "3\\ Mode:  <bound method Series.mode of 0         76\n",
      "1        100\n",
      "2         32\n",
      "3          1\n",
      "4         56\n",
      "        ... \n",
      "10987     94\n",
      "10988     57\n",
      "10989     55\n",
      "10990     71\n",
      "10991     52\n",
      "Name: At9, Length: 10992, dtype: int64>\n",
      "4\\ Range:  100\n",
      "5\\ Variance:  1151.514300207514\n",
      "6\\ Số NaN:  0\n",
      "7\\ \tQ1 =  28.0\n",
      "   \tQ3 =  88.0\n",
      "   \tIQR =  60.0\n",
      "8\\ Skew:  -0.24919093157262073\n",
      "Phân phối lệch trái\n",
      "9\\ Kurtosis:  -1.2534512965625653\n",
      "Phân phối bẹt hơn pp chuẩn\n",
      "Số lượng outliers:  0\n",
      "Tỉ lệ outliers so với mẫu 0.0\n",
      "\n",
      "====================================================\n",
      "\n",
      "\n",
      "At10\n",
      "1\\ Describe: \n",
      " count    10992.000000\n",
      "mean        34.557041\n",
      "std         27.598896\n",
      "min          0.000000\n",
      "25%          8.000000\n",
      "50%         34.000000\n",
      "75%         55.000000\n",
      "max        100.000000\n",
      "Name: At10, dtype: float64 \n",
      "\n",
      "2\\ Meadian:  34.0\n",
      "3\\ Mode:  <bound method Series.mode of 0        75\n",
      "1        62\n",
      "2        48\n",
      "3        17\n",
      "4         0\n",
      "         ..\n",
      "10987     0\n",
      "10988     9\n",
      "10989    53\n",
      "10990    51\n",
      "10991    35\n",
      "Name: At10, Length: 10992, dtype: int64>\n",
      "4\\ Range:  100\n",
      "5\\ Variance:  761.6990478563445\n",
      "6\\ Số NaN:  0\n",
      "7\\ \tQ1 =  8.0\n",
      "   \tQ3 =  55.0\n",
      "   \tIQR =  47.0\n",
      "8\\ Skew:  0.3411288470933241\n",
      "Phân phối lệch phải\n",
      "9\\ Kurtosis:  -0.9516290528685247\n",
      "Phân phối bẹt hơn pp chuẩn\n",
      "Số lượng outliers:  0\n",
      "Tỉ lệ outliers so với mẫu 0.0\n",
      "\n",
      "====================================================\n",
      "\n",
      "\n",
      "At11\n",
      "1\\ Describe: \n",
      " count    10992.000000\n",
      "mean        60.086881\n",
      "std         36.953507\n",
      "min          0.000000\n",
      "25%         24.000000\n",
      "50%         72.000000\n",
      "75%         96.000000\n",
      "max        100.000000\n",
      "Name: At11, dtype: float64 \n",
      "\n",
      "2\\ Meadian:  72.0\n",
      "3\\ Mode:  <bound method Series.mode of 0         50\n",
      "1         97\n",
      "2          5\n",
      "3          0\n",
      "4         25\n",
      "        ... \n",
      "10987    100\n",
      "10988     38\n",
      "10989     49\n",
      "10990    100\n",
      "10991      0\n",
      "Name: At11, Length: 10992, dtype: int64>\n",
      "4\\ Range:  100\n",
      "5\\ Variance:  1365.5616439171417\n",
      "6\\ Số NaN:  0\n",
      "7\\ \tQ1 =  24.0\n",
      "   \tQ3 =  96.0\n",
      "   \tIQR =  72.0\n",
      "8\\ Skew:  -0.4559997490846464\n",
      "Phân phối lệch trái\n",
      "9\\ Kurtosis:  -1.3325635687046988\n",
      "Phân phối bẹt hơn pp chuẩn\n",
      "Số lượng outliers:  0\n",
      "Tỉ lệ outliers so với mẫu 0.0\n",
      "\n",
      "====================================================\n",
      "\n",
      "\n",
      "At12\n"
     ]
    },
    {
     "name": "stdout",
     "output_type": "stream",
     "text": [
      "1\\ Describe: \n",
      " count    10992.000000\n",
      "mean        35.706423\n",
      "std         27.481161\n",
      "min          0.000000\n",
      "25%         12.000000\n",
      "50%         31.000000\n",
      "75%         57.000000\n",
      "max        100.000000\n",
      "Name: At12, dtype: float64 \n",
      "\n",
      "2\\ Meadian:  31.0\n",
      "3\\ Mode:  <bound method Series.mode of 0        51\n",
      "1        23\n",
      "2        18\n",
      "3        64\n",
      "4        23\n",
      "         ..\n",
      "10987    13\n",
      "10988     0\n",
      "10989    27\n",
      "10990    23\n",
      "10991    11\n",
      "Name: At12, Length: 10992, dtype: int64>\n",
      "4\\ Range:  100\n",
      "5\\ Variance:  755.2142322397033\n",
      "6\\ Số NaN:  0\n",
      "7\\ \tQ1 =  12.0\n",
      "   \tQ3 =  57.0\n",
      "   \tIQR =  45.0\n",
      "8\\ Skew:  0.45869006502819276\n",
      "Phân phối lệch phải\n",
      "9\\ Kurtosis:  -0.7887287470191735\n",
      "Phân phối bẹt hơn pp chuẩn\n",
      "Số lượng outliers:  0\n",
      "Tỉ lệ outliers so với mẫu 0.0\n",
      "\n",
      "====================================================\n",
      "\n",
      "\n",
      "At13\n",
      "1\\ Describe: \n",
      " count    10992.000000\n",
      "mean        54.602074\n",
      "std         22.819585\n",
      "min          0.000000\n",
      "25%         41.000000\n",
      "50%         53.000000\n",
      "75%         68.000000\n",
      "max        100.000000\n",
      "Name: At13, dtype: float64 \n",
      "\n",
      "2\\ Meadian:  53.0\n",
      "3\\ Mode:  <bound method Series.mode of 0        28\n",
      "1        54\n",
      "2        46\n",
      "3        23\n",
      "4        50\n",
      "         ..\n",
      "10987    62\n",
      "10988    46\n",
      "10989    65\n",
      "10990    52\n",
      "10991     5\n",
      "Name: At13, Length: 10992, dtype: int64>\n",
      "4\\ Range:  100\n",
      "5\\ Variance:  520.7334612598876\n",
      "6\\ Số NaN:  0\n",
      "7\\ \tQ1 =  41.0\n",
      "   \tQ3 =  68.0\n",
      "   \tIQR =  27.0\n",
      "8\\ Skew:  -0.005039021076262319\n",
      "Phân phối lệch trái\n",
      "9\\ Kurtosis:  -0.1406495958095988\n",
      "Phân phối bẹt hơn pp chuẩn\n",
      "Số lượng outliers:  187\n",
      "Tỉ lệ outliers so với mẫu 0.017012372634643377\n",
      "\n",
      "====================================================\n",
      "\n",
      "\n",
      "At14\n",
      "1\\ Describe: \n",
      " count    10992.000000\n",
      "mean        35.654021\n",
      "std         33.126822\n",
      "min          0.000000\n",
      "25%          6.000000\n",
      "50%         28.000000\n",
      "75%         51.000000\n",
      "max        100.000000\n",
      "Name: At14, dtype: float64 \n",
      "\n",
      "2\\ Meadian:  28.0\n",
      "3\\ Mode:  <bound method Series.mode of 0        25\n",
      "1         0\n",
      "2         0\n",
      "3        98\n",
      "4        37\n",
      "         ..\n",
      "10987    30\n",
      "10988    80\n",
      "10989     6\n",
      "10990     5\n",
      "10991     0\n",
      "Name: At14, Length: 10992, dtype: int64>\n",
      "4\\ Range:  100\n",
      "5\\ Variance:  1097.3863381191068\n",
      "6\\ Số NaN:  0\n",
      "7\\ \tQ1 =  6.0\n",
      "   \tQ3 =  51.0\n",
      "   \tIQR =  45.0\n",
      "8\\ Skew:  0.7996615554626196\n",
      "Phân phối lệch phải\n",
      "9\\ Kurtosis:  -0.6250068694165276\n",
      "Phân phối bẹt hơn pp chuẩn\n",
      "Số lượng outliers:  0\n",
      "Tỉ lệ outliers so với mẫu 0.0\n",
      "\n",
      "====================================================\n",
      "\n",
      "\n",
      "At15\n",
      "1\\ Describe: \n",
      " count    10992.000000\n",
      "mean        47.381823\n",
      "std         41.267376\n",
      "min          0.000000\n",
      "25%          0.000000\n",
      "50%         41.000000\n",
      "75%        100.000000\n",
      "max        100.000000\n",
      "Name: At15, dtype: float64 \n",
      "\n",
      "2\\ Meadian:  41.0\n",
      "3\\ Mode:  <bound method Series.mode of 0         16\n",
      "1          0\n",
      "2        100\n",
      "3        100\n",
      "4        100\n",
      "        ... \n",
      "10987      7\n",
      "10988    100\n",
      "10989     15\n",
      "10990      0\n",
      "10991     77\n",
      "Name: At15, Length: 10992, dtype: int64>\n",
      "4\\ Range:  100\n",
      "5\\ Variance:  1702.9963140991892\n",
      "6\\ Số NaN:  0\n",
      "7\\ \tQ1 =  0.0\n",
      "   \tQ3 =  100.0\n",
      "   \tIQR =  100.0\n",
      "8\\ Skew:  0.14102896811681137\n",
      "Phân phối lệch phải\n",
      "9\\ Kurtosis:  -1.665151590197638\n",
      "Phân phối bẹt hơn pp chuẩn\n",
      "Số lượng outliers:  0\n",
      "Tỉ lệ outliers so với mẫu 0.0\n",
      "\n",
      "====================================================\n",
      "\n",
      "\n",
      "At16\n",
      "1\\ Describe: \n",
      " count    10992.000000\n",
      "mean        29.784934\n",
      "std         35.721699\n",
      "min          0.000000\n",
      "25%          0.000000\n",
      "50%         11.000000\n",
      "75%         55.000000\n",
      "max        100.000000\n",
      "Name: At16, dtype: float64 \n",
      "\n",
      "2\\ Meadian:  11.0\n",
      "3\\ Mode:  <bound method Series.mode of 0          0\n",
      "1         16\n",
      "2         72\n",
      "3        100\n",
      "4         32\n",
      "        ... \n",
      "10987     18\n",
      "10988     20\n",
      "10989      0\n",
      "10990      0\n",
      "10991      6\n",
      "Name: At16, Length: 10992, dtype: int64>\n",
      "4\\ Range:  100\n",
      "5\\ Variance:  1276.0398130427475\n",
      "6\\ Số NaN:  0\n",
      "7\\ \tQ1 =  0.0\n",
      "   \tQ3 =  55.0\n",
      "   \tIQR =  55.0\n",
      "8\\ Skew:  0.888090172955735\n",
      "Phân phối lệch phải\n",
      "9\\ Kurtosis:  -0.7514308969104215\n",
      "Phân phối bẹt hơn pp chuẩn\n",
      "Số lượng outliers:  0\n",
      "Tỉ lệ outliers so với mẫu 0.0\n",
      "\n",
      "====================================================\n",
      "\n",
      "\n"
     ]
    },
    {
     "data": {
      "application/javascript": [
       "\n",
       "            setTimeout(function() {\n",
       "                var nbb_cell_id = 10;\n",
       "                var nbb_unformatted_code = \"df_continuous = df[\\n    [\\n        \\\"At1\\\",\\n        \\\"At2\\\",\\n        \\\"At3\\\",\\n        \\\"At4\\\",\\n        \\\"At5\\\",\\n        \\\"At6\\\",\\n        \\\"At7\\\",\\n        \\\"At8\\\",\\n        \\\"At9\\\",\\n        \\\"At10\\\",\\n        \\\"At11\\\",\\n        \\\"At12\\\",\\n        \\\"At13\\\",\\n        \\\"At14\\\",\\n        \\\"At15\\\",\\n        \\\"At16\\\",\\n    ]\\n]\\nfor i in df_continuous:\\n    print(i)\\n    continuous_univariate_analysis(df[i])\\n    visualize_histogram(df[i])\\n    visualize_boxplot(df[i])\\n    find_outliers(df[i])\\n    print(\\\"\\\\n====================================================\\\\n\\\\n\\\")\";\n",
       "                var nbb_formatted_code = \"df_continuous = df[\\n    [\\n        \\\"At1\\\",\\n        \\\"At2\\\",\\n        \\\"At3\\\",\\n        \\\"At4\\\",\\n        \\\"At5\\\",\\n        \\\"At6\\\",\\n        \\\"At7\\\",\\n        \\\"At8\\\",\\n        \\\"At9\\\",\\n        \\\"At10\\\",\\n        \\\"At11\\\",\\n        \\\"At12\\\",\\n        \\\"At13\\\",\\n        \\\"At14\\\",\\n        \\\"At15\\\",\\n        \\\"At16\\\",\\n    ]\\n]\\nfor i in df_continuous:\\n    print(i)\\n    continuous_univariate_analysis(df[i])\\n    visualize_histogram(df[i])\\n    visualize_boxplot(df[i])\\n    find_outliers(df[i])\\n    print(\\\"\\\\n====================================================\\\\n\\\\n\\\")\";\n",
       "                var nbb_cells = Jupyter.notebook.get_cells();\n",
       "                for (var i = 0; i < nbb_cells.length; ++i) {\n",
       "                    if (nbb_cells[i].input_prompt_number == nbb_cell_id) {\n",
       "                        if (nbb_cells[i].get_text() == nbb_unformatted_code) {\n",
       "                             nbb_cells[i].set_text(nbb_formatted_code);\n",
       "                        }\n",
       "                        break;\n",
       "                    }\n",
       "                }\n",
       "            }, 500);\n",
       "            "
      ],
      "text/plain": [
       "<IPython.core.display.Javascript object>"
      ]
     },
     "metadata": {},
     "output_type": "display_data"
    }
   ],
   "source": [
    "df_continuous = df[\n",
    "    [\n",
    "        \"At1\",\n",
    "        \"At2\",\n",
    "        \"At3\",\n",
    "        \"At4\",\n",
    "        \"At5\",\n",
    "        \"At6\",\n",
    "        \"At7\",\n",
    "        \"At8\",\n",
    "        \"At9\",\n",
    "        \"At10\",\n",
    "        \"At11\",\n",
    "        \"At12\",\n",
    "        \"At13\",\n",
    "        \"At14\",\n",
    "        \"At15\",\n",
    "        \"At16\",\n",
    "    ]\n",
    "]\n",
    "for i in df_continuous:\n",
    "    print(i)\n",
    "    continuous_univariate_analysis(df[i])\n",
    "    visualize_histogram(df[i])\n",
    "    visualize_boxplot(df[i])\n",
    "    find_outliers(df[i])\n",
    "    print(\"\\n====================================================\\n\\n\")"
   ]
  },
  {
   "cell_type": "markdown",
   "id": "b94f14f9",
   "metadata": {},
   "source": [
    "## <p style=\"color:blue\">Nhận xét</p>"
   ]
  },
  {
   "cell_type": "code",
   "execution_count": 114,
   "id": "533b33c5",
   "metadata": {},
   "outputs": [
    {
     "data": {
      "text/plain": [
       "'\\nTừ kết quả trên, ta thấy:\\nPhân phối của các biến trên khá xấu:\\nvd: At2 lệch trái, At16 lệch phải, ...\\n=> cân nhắc chuẩn hóa dữ liệu nếu model cho điểm xấu\\n\\n# phân bố dữ liệu của các biến đều thuộc [0, 100] \\n=> các features không có sự khác biệt quá lớn về độ lớn dữ liệu\\n=> ta sẽ build với model với data gốc trc, nếu model có score thấp thì cân nhắc chuẩn hóa\\n\\nMột vài biến có outliers như At2, At4, ...\\n- Đây là các outliers hợp lệ nên chúng ta sẽ giữ lại\\n'"
      ]
     },
     "execution_count": 114,
     "metadata": {},
     "output_type": "execute_result"
    },
    {
     "data": {
      "application/javascript": [
       "\n",
       "            setTimeout(function() {\n",
       "                var nbb_cell_id = 114;\n",
       "                var nbb_unformatted_code = \"\\\"\\\"\\\"\\nT\\u1eeb k\\u1ebft qu\\u1ea3 tr\\u00ean, ta th\\u1ea5y:\\nPh\\u00e2n ph\\u1ed1i c\\u1ee7a c\\u00e1c bi\\u1ebfn tr\\u00ean kh\\u00e1 x\\u1ea5u:\\nvd: At2 l\\u1ec7ch tr\\u00e1i, At16 l\\u1ec7ch ph\\u1ea3i, ...\\n=> c\\u00e2n nh\\u1eafc chu\\u1ea9n h\\u00f3a d\\u1eef li\\u1ec7u n\\u1ebfu model cho \\u0111i\\u1ec3m x\\u1ea5u\\n\\n# ph\\u00e2n b\\u1ed1 d\\u1eef li\\u1ec7u c\\u1ee7a c\\u00e1c bi\\u1ebfn \\u0111\\u1ec1u thu\\u1ed9c [0, 100] \\n=> c\\u00e1c features kh\\u00f4ng c\\u00f3 s\\u1ef1 kh\\u00e1c bi\\u1ec7t qu\\u00e1 l\\u1edbn v\\u1ec1 \\u0111\\u1ed9 l\\u1edbn d\\u1eef li\\u1ec7u\\n=> ta s\\u1ebd build v\\u1edbi model v\\u1edbi data g\\u1ed1c trc, n\\u1ebfu model c\\u00f3 score th\\u1ea5p th\\u00ec c\\u00e2n nh\\u1eafc chu\\u1ea9n h\\u00f3a\\n\\nM\\u1ed9t v\\u00e0i bi\\u1ebfn c\\u00f3 outliers nh\\u01b0 At2, At4, ...\\n- \\u0110\\u00e2y l\\u00e0 c\\u00e1c outliers h\\u1ee3p l\\u1ec7 n\\u00ean ch\\u00fang ta s\\u1ebd gi\\u1eef l\\u1ea1i\\n\\\"\\\"\\\"\";\n",
       "                var nbb_formatted_code = \"\\\"\\\"\\\"\\nT\\u1eeb k\\u1ebft qu\\u1ea3 tr\\u00ean, ta th\\u1ea5y:\\nPh\\u00e2n ph\\u1ed1i c\\u1ee7a c\\u00e1c bi\\u1ebfn tr\\u00ean kh\\u00e1 x\\u1ea5u:\\nvd: At2 l\\u1ec7ch tr\\u00e1i, At16 l\\u1ec7ch ph\\u1ea3i, ...\\n=> c\\u00e2n nh\\u1eafc chu\\u1ea9n h\\u00f3a d\\u1eef li\\u1ec7u n\\u1ebfu model cho \\u0111i\\u1ec3m x\\u1ea5u\\n\\n# ph\\u00e2n b\\u1ed1 d\\u1eef li\\u1ec7u c\\u1ee7a c\\u00e1c bi\\u1ebfn \\u0111\\u1ec1u thu\\u1ed9c [0, 100] \\n=> c\\u00e1c features kh\\u00f4ng c\\u00f3 s\\u1ef1 kh\\u00e1c bi\\u1ec7t qu\\u00e1 l\\u1edbn v\\u1ec1 \\u0111\\u1ed9 l\\u1edbn d\\u1eef li\\u1ec7u\\n=> ta s\\u1ebd build v\\u1edbi model v\\u1edbi data g\\u1ed1c trc, n\\u1ebfu model c\\u00f3 score th\\u1ea5p th\\u00ec c\\u00e2n nh\\u1eafc chu\\u1ea9n h\\u00f3a\\n\\nM\\u1ed9t v\\u00e0i bi\\u1ebfn c\\u00f3 outliers nh\\u01b0 At2, At4, ...\\n- \\u0110\\u00e2y l\\u00e0 c\\u00e1c outliers h\\u1ee3p l\\u1ec7 n\\u00ean ch\\u00fang ta s\\u1ebd gi\\u1eef l\\u1ea1i\\n\\\"\\\"\\\"\";\n",
       "                var nbb_cells = Jupyter.notebook.get_cells();\n",
       "                for (var i = 0; i < nbb_cells.length; ++i) {\n",
       "                    if (nbb_cells[i].input_prompt_number == nbb_cell_id) {\n",
       "                        if (nbb_cells[i].get_text() == nbb_unformatted_code) {\n",
       "                             nbb_cells[i].set_text(nbb_formatted_code);\n",
       "                        }\n",
       "                        break;\n",
       "                    }\n",
       "                }\n",
       "            }, 500);\n",
       "            "
      ],
      "text/plain": [
       "<IPython.core.display.Javascript object>"
      ]
     },
     "metadata": {},
     "output_type": "display_data"
    }
   ],
   "source": [
    "\"\"\"\n",
    "Từ kết quả trên, ta thấy:\n",
    "Phân phối của các biến trên khá xấu:\n",
    "vd: At2 lệch trái, At16 lệch phải, ...\n",
    "=> cân nhắc chuẩn hóa dữ liệu nếu model cho điểm xấu\n",
    "\n",
    "# phân bố dữ liệu của các biến đều thuộc [0, 100] \n",
    "=> các features không có sự khác biệt quá lớn về độ lớn dữ liệu\n",
    "=> ta sẽ build với model với data gốc trc, nếu model có score thấp thì cân nhắc chuẩn hóa\n",
    "\n",
    "Một vài biến có outliers như At2, At4, ...\n",
    "- Đây là các outliers hợp lệ nên chúng ta sẽ giữ lại\n",
    "\"\"\""
   ]
  },
  {
   "cell_type": "markdown",
   "id": "e3572834",
   "metadata": {},
   "source": [
    "### Categorical"
   ]
  },
  {
   "cell_type": "code",
   "execution_count": 75,
   "id": "60d95ee2",
   "metadata": {},
   "outputs": [
    {
     "data": {
      "application/javascript": [
       "\n",
       "            setTimeout(function() {\n",
       "                var nbb_cell_id = 75;\n",
       "                var nbb_unformatted_code = \"def categorical_univariate_variable(f):\\n    print(\\\"1\\\\ M\\u1eadt \\u0111\\u1ed9 ph\\u00e2n ph\\u1ed1i: \\\\n\\\", f.value_counts())\\n    print(\\\"2\\\\ S\\u1ed1 gi\\u00e1 tr\\u1ecb NaN: \\\\n\\\", f.isnull().sum())\\n    print(\\\"\\\\n\\\\n3\\\\ T\\u1ec9 l\\u1ec7 m\\u1eadt \\u0111\\u1ed9 ph\\u00e2n ph\\u1ed1i:\\\\n\\\", f.value_counts() / len(f))\\n    f.value_counts().plot.bar()\\n    plt.show()\";\n",
       "                var nbb_formatted_code = \"def categorical_univariate_variable(f):\\n    print(\\\"1\\\\ M\\u1eadt \\u0111\\u1ed9 ph\\u00e2n ph\\u1ed1i: \\\\n\\\", f.value_counts())\\n    print(\\\"2\\\\ S\\u1ed1 gi\\u00e1 tr\\u1ecb NaN: \\\\n\\\", f.isnull().sum())\\n    print(\\\"\\\\n\\\\n3\\\\ T\\u1ec9 l\\u1ec7 m\\u1eadt \\u0111\\u1ed9 ph\\u00e2n ph\\u1ed1i:\\\\n\\\", f.value_counts() / len(f))\\n    f.value_counts().plot.bar()\\n    plt.show()\";\n",
       "                var nbb_cells = Jupyter.notebook.get_cells();\n",
       "                for (var i = 0; i < nbb_cells.length; ++i) {\n",
       "                    if (nbb_cells[i].input_prompt_number == nbb_cell_id) {\n",
       "                        if (nbb_cells[i].get_text() == nbb_unformatted_code) {\n",
       "                             nbb_cells[i].set_text(nbb_formatted_code);\n",
       "                        }\n",
       "                        break;\n",
       "                    }\n",
       "                }\n",
       "            }, 500);\n",
       "            "
      ],
      "text/plain": [
       "<IPython.core.display.Javascript object>"
      ]
     },
     "metadata": {},
     "output_type": "display_data"
    }
   ],
   "source": [
    "def categorical_univariate_variable(f):\n",
    "    print(\"1\\ Mật độ phân phối: \\n\", f.value_counts())\n",
    "    print(\"2\\ Số giá trị NaN: \\n\", f.isnull().sum())\n",
    "    print(\"\\n\\n3\\ Tỉ lệ mật độ phân phối:\\n\", f.value_counts() / len(f))\n",
    "    f.value_counts().plot.bar()\n",
    "    plt.show()"
   ]
  },
  {
   "cell_type": "code",
   "execution_count": 76,
   "id": "4196bd7d",
   "metadata": {},
   "outputs": [
    {
     "name": "stdout",
     "output_type": "stream",
     "text": [
      "1\\ Mật độ phân phối: \n",
      " 2    1144\n",
      "4    1144\n",
      "1    1143\n",
      "0    1143\n",
      "7    1142\n",
      "6    1056\n",
      "9    1055\n",
      "5    1055\n",
      "3    1055\n",
      "8    1055\n",
      "Name: Class, dtype: int64\n",
      "2\\ Số giá trị NaN: \n",
      " 0\n",
      "\n",
      "\n",
      "3\\ Tỉ lệ mật độ phân phối:\n",
      " 2    0.104076\n",
      "4    0.104076\n",
      "1    0.103985\n",
      "0    0.103985\n",
      "7    0.103894\n",
      "6    0.096070\n",
      "9    0.095979\n",
      "5    0.095979\n",
      "3    0.095979\n",
      "8    0.095979\n",
      "Name: Class, dtype: float64\n"
     ]
    },
    {
     "data": {
      "image/png": "[encoded data removed]",
      "text/plain": [
       "<Figure size 432x288 with 1 Axes>"
      ]
     },
     "metadata": {
      "needs_background": "light"
     },
     "output_type": "display_data"
    },
    {
     "data": {
      "application/javascript": [
       "\n",
       "            setTimeout(function() {\n",
       "                var nbb_cell_id = 76;\n",
       "                var nbb_unformatted_code = \"categorical_univariate_variable(df.Class)\";\n",
       "                var nbb_formatted_code = \"categorical_univariate_variable(df.Class)\";\n",
       "                var nbb_cells = Jupyter.notebook.get_cells();\n",
       "                for (var i = 0; i < nbb_cells.length; ++i) {\n",
       "                    if (nbb_cells[i].input_prompt_number == nbb_cell_id) {\n",
       "                        if (nbb_cells[i].get_text() == nbb_unformatted_code) {\n",
       "                             nbb_cells[i].set_text(nbb_formatted_code);\n",
       "                        }\n",
       "                        break;\n",
       "                    }\n",
       "                }\n",
       "            }, 500);\n",
       "            "
      ],
      "text/plain": [
       "<IPython.core.display.Javascript object>"
      ]
     },
     "metadata": {},
     "output_type": "display_data"
    }
   ],
   "source": [
    "categorical_univariate_variable(df.Class)"
   ]
  },
  {
   "cell_type": "markdown",
   "id": "3b9f5cce",
   "metadata": {},
   "source": [
    "## <p style=\"color:blue\">Nhận xét</p>"
   ]
  },
  {
   "cell_type": "code",
   "execution_count": 77,
   "id": "c25f90cf",
   "metadata": {},
   "outputs": [
    {
     "data": {
      "text/plain": [
       "'\\n=> tỉ lệ phân phối của Class khá đồng đều -> ko xảy ra hiện tượng mất cân bằng dữ liệu\\n'"
      ]
     },
     "execution_count": 77,
     "metadata": {},
     "output_type": "execute_result"
    },
    {
     "data": {
      "application/javascript": [
       "\n",
       "            setTimeout(function() {\n",
       "                var nbb_cell_id = 77;\n",
       "                var nbb_unformatted_code = \"'''\\n=> t\\u1ec9 l\\u1ec7 ph\\u00e2n ph\\u1ed1i c\\u1ee7a Class kh\\u00e1 \\u0111\\u1ed3ng \\u0111\\u1ec1u -> ko x\\u1ea3y ra hi\\u1ec7n t\\u01b0\\u1ee3ng m\\u1ea5t c\\u00e2n b\\u1eb1ng d\\u1eef li\\u1ec7u\\n'''\";\n",
       "                var nbb_formatted_code = \"\\\"\\\"\\\"\\n=> t\\u1ec9 l\\u1ec7 ph\\u00e2n ph\\u1ed1i c\\u1ee7a Class kh\\u00e1 \\u0111\\u1ed3ng \\u0111\\u1ec1u -> ko x\\u1ea3y ra hi\\u1ec7n t\\u01b0\\u1ee3ng m\\u1ea5t c\\u00e2n b\\u1eb1ng d\\u1eef li\\u1ec7u\\n\\\"\\\"\\\"\";\n",
       "                var nbb_cells = Jupyter.notebook.get_cells();\n",
       "                for (var i = 0; i < nbb_cells.length; ++i) {\n",
       "                    if (nbb_cells[i].input_prompt_number == nbb_cell_id) {\n",
       "                        if (nbb_cells[i].get_text() == nbb_unformatted_code) {\n",
       "                             nbb_cells[i].set_text(nbb_formatted_code);\n",
       "                        }\n",
       "                        break;\n",
       "                    }\n",
       "                }\n",
       "            }, 500);\n",
       "            "
      ],
      "text/plain": [
       "<IPython.core.display.Javascript object>"
      ]
     },
     "metadata": {},
     "output_type": "display_data"
    }
   ],
   "source": [
    "\"\"\"\n",
    "=> tỉ lệ phân phối của Class khá đồng đều -> ko xảy ra hiện tượng mất cân bằng dữ liệu\n",
    "\"\"\""
   ]
  },
  {
   "cell_type": "markdown",
   "id": "6fcee67f",
   "metadata": {},
   "source": [
    "## Phân tích đa biến"
   ]
  },
  {
   "cell_type": "markdown",
   "id": "e075dd1a",
   "metadata": {},
   "source": [
    "### Continuous - Continuous"
   ]
  },
  {
   "cell_type": "code",
   "execution_count": 78,
   "id": "6e76b7ea",
   "metadata": {},
   "outputs": [
    {
     "data": {
      "text/html": [
       "<div>\n",
       "<style scoped>\n",
       "    .dataframe tbody tr th:only-of-type {\n",
       "        vertical-align: middle;\n",
       "    }\n",
       "\n",
       "    .dataframe tbody tr th {\n",
       "        vertical-align: top;\n",
       "    }\n",
       "\n",
       "    .dataframe thead th {\n",
       "        text-align: right;\n",
       "    }\n",
       "</style>\n",
       "<table border=\"1\" class=\"dataframe\">\n",
       "  <thead>\n",
       "    <tr style=\"text-align: right;\">\n",
       "      <th></th>\n",
       "      <th>At1</th>\n",
       "      <th>At2</th>\n",
       "      <th>At3</th>\n",
       "      <th>At4</th>\n",
       "      <th>At5</th>\n",
       "      <th>At6</th>\n",
       "      <th>At7</th>\n",
       "      <th>At8</th>\n",
       "      <th>At9</th>\n",
       "      <th>At10</th>\n",
       "      <th>At11</th>\n",
       "      <th>At12</th>\n",
       "      <th>At13</th>\n",
       "      <th>At14</th>\n",
       "      <th>At15</th>\n",
       "      <th>At16</th>\n",
       "    </tr>\n",
       "  </thead>\n",
       "  <tbody>\n",
       "    <tr>\n",
       "      <th>At1</th>\n",
       "      <td>1.000000</td>\n",
       "      <td>0.270335</td>\n",
       "      <td>0.253952</td>\n",
       "      <td>0.100083</td>\n",
       "      <td>-0.404851</td>\n",
       "      <td>-0.089432</td>\n",
       "      <td>-0.330658</td>\n",
       "      <td>-0.089241</td>\n",
       "      <td>-0.029766</td>\n",
       "      <td>-0.094864</td>\n",
       "      <td>0.173923</td>\n",
       "      <td>-0.099156</td>\n",
       "      <td>0.122924</td>\n",
       "      <td>-0.018918</td>\n",
       "      <td>-0.329582</td>\n",
       "      <td>0.030953</td>\n",
       "    </tr>\n",
       "    <tr>\n",
       "      <th>At2</th>\n",
       "      <td>0.270335</td>\n",
       "      <td>1.000000</td>\n",
       "      <td>-0.062490</td>\n",
       "      <td>0.151970</td>\n",
       "      <td>-0.240727</td>\n",
       "      <td>-0.187357</td>\n",
       "      <td>-0.256534</td>\n",
       "      <td>-0.294927</td>\n",
       "      <td>-0.066688</td>\n",
       "      <td>-0.246095</td>\n",
       "      <td>0.111370</td>\n",
       "      <td>-0.027100</td>\n",
       "      <td>0.096167</td>\n",
       "      <td>0.096668</td>\n",
       "      <td>-0.105416</td>\n",
       "      <td>0.105203</td>\n",
       "    </tr>\n",
       "    <tr>\n",
       "      <th>At3</th>\n",
       "      <td>0.253952</td>\n",
       "      <td>-0.062490</td>\n",
       "      <td>1.000000</td>\n",
       "      <td>0.360894</td>\n",
       "      <td>0.371526</td>\n",
       "      <td>0.402748</td>\n",
       "      <td>-0.170531</td>\n",
       "      <td>0.269797</td>\n",
       "      <td>-0.132522</td>\n",
       "      <td>-0.030975</td>\n",
       "      <td>-0.015425</td>\n",
       "      <td>-0.416876</td>\n",
       "      <td>-0.142400</td>\n",
       "      <td>-0.417420</td>\n",
       "      <td>-0.163612</td>\n",
       "      <td>-0.278020</td>\n",
       "    </tr>\n",
       "    <tr>\n",
       "      <th>At4</th>\n",
       "      <td>0.100083</td>\n",
       "      <td>0.151970</td>\n",
       "      <td>0.360894</td>\n",
       "      <td>1.000000</td>\n",
       "      <td>0.165842</td>\n",
       "      <td>0.546834</td>\n",
       "      <td>-0.028609</td>\n",
       "      <td>0.222433</td>\n",
       "      <td>-0.137490</td>\n",
       "      <td>-0.233875</td>\n",
       "      <td>-0.151956</td>\n",
       "      <td>-0.598830</td>\n",
       "      <td>-0.077215</td>\n",
       "      <td>-0.520989</td>\n",
       "      <td>0.090936</td>\n",
       "      <td>-0.307390</td>\n",
       "    </tr>\n",
       "    <tr>\n",
       "      <th>At5</th>\n",
       "      <td>-0.404851</td>\n",
       "      <td>-0.240727</td>\n",
       "      <td>0.371526</td>\n",
       "      <td>0.165842</td>\n",
       "      <td>1.000000</td>\n",
       "      <td>0.418285</td>\n",
       "      <td>0.392499</td>\n",
       "      <td>0.322133</td>\n",
       "      <td>-0.204193</td>\n",
       "      <td>0.043204</td>\n",
       "      <td>-0.291619</td>\n",
       "      <td>-0.275603</td>\n",
       "      <td>-0.311111</td>\n",
       "      <td>-0.254385</td>\n",
       "      <td>0.048434</td>\n",
       "      <td>-0.106677</td>\n",
       "    </tr>\n",
       "    <tr>\n",
       "      <th>At6</th>\n",
       "      <td>-0.089432</td>\n",
       "      <td>-0.187357</td>\n",
       "      <td>0.402748</td>\n",
       "      <td>0.546834</td>\n",
       "      <td>0.418285</td>\n",
       "      <td>1.000000</td>\n",
       "      <td>0.170619</td>\n",
       "      <td>0.699505</td>\n",
       "      <td>-0.031988</td>\n",
       "      <td>0.137813</td>\n",
       "      <td>-0.131214</td>\n",
       "      <td>-0.552569</td>\n",
       "      <td>-0.155968</td>\n",
       "      <td>-0.704015</td>\n",
       "      <td>0.081502</td>\n",
       "      <td>-0.527991</td>\n",
       "    </tr>\n",
       "    <tr>\n",
       "      <th>At7</th>\n",
       "      <td>-0.330658</td>\n",
       "      <td>-0.256534</td>\n",
       "      <td>-0.170531</td>\n",
       "      <td>-0.028609</td>\n",
       "      <td>0.392499</td>\n",
       "      <td>0.170619</td>\n",
       "      <td>1.000000</td>\n",
       "      <td>0.343613</td>\n",
       "      <td>0.397259</td>\n",
       "      <td>0.321034</td>\n",
       "      <td>-0.154084</td>\n",
       "      <td>0.087005</td>\n",
       "      <td>-0.326737</td>\n",
       "      <td>-0.078299</td>\n",
       "      <td>0.038929</td>\n",
       "      <td>-0.089508</td>\n",
       "    </tr>\n",
       "    <tr>\n",
       "      <th>At8</th>\n",
       "      <td>-0.089241</td>\n",
       "      <td>-0.294927</td>\n",
       "      <td>0.269797</td>\n",
       "      <td>0.222433</td>\n",
       "      <td>0.322133</td>\n",
       "      <td>0.699505</td>\n",
       "      <td>0.343613</td>\n",
       "      <td>1.000000</td>\n",
       "      <td>0.269030</td>\n",
       "      <td>0.583498</td>\n",
       "      <td>0.104928</td>\n",
       "      <td>-0.211768</td>\n",
       "      <td>-0.110898</td>\n",
       "      <td>-0.657508</td>\n",
       "      <td>-0.120300</td>\n",
       "      <td>-0.647238</td>\n",
       "    </tr>\n",
       "    <tr>\n",
       "      <th>At9</th>\n",
       "      <td>-0.029766</td>\n",
       "      <td>-0.066688</td>\n",
       "      <td>-0.132522</td>\n",
       "      <td>-0.137490</td>\n",
       "      <td>-0.204193</td>\n",
       "      <td>-0.031988</td>\n",
       "      <td>0.397259</td>\n",
       "      <td>0.269030</td>\n",
       "      <td>1.000000</td>\n",
       "      <td>0.484246</td>\n",
       "      <td>0.551981</td>\n",
       "      <td>0.267771</td>\n",
       "      <td>-0.057306</td>\n",
       "      <td>-0.091988</td>\n",
       "      <td>-0.356297</td>\n",
       "      <td>-0.247163</td>\n",
       "    </tr>\n",
       "    <tr>\n",
       "      <th>At10</th>\n",
       "      <td>-0.094864</td>\n",
       "      <td>-0.246095</td>\n",
       "      <td>-0.030975</td>\n",
       "      <td>-0.233875</td>\n",
       "      <td>0.043204</td>\n",
       "      <td>0.137813</td>\n",
       "      <td>0.321034</td>\n",
       "      <td>0.583498</td>\n",
       "      <td>0.484246</td>\n",
       "      <td>1.000000</td>\n",
       "      <td>0.349432</td>\n",
       "      <td>0.420669</td>\n",
       "      <td>0.026738</td>\n",
       "      <td>-0.197172</td>\n",
       "      <td>-0.300249</td>\n",
       "      <td>-0.411105</td>\n",
       "    </tr>\n",
       "    <tr>\n",
       "      <th>At11</th>\n",
       "      <td>0.173923</td>\n",
       "      <td>0.111370</td>\n",
       "      <td>-0.015425</td>\n",
       "      <td>-0.151956</td>\n",
       "      <td>-0.291619</td>\n",
       "      <td>-0.131214</td>\n",
       "      <td>-0.154084</td>\n",
       "      <td>0.104928</td>\n",
       "      <td>0.551981</td>\n",
       "      <td>0.349432</td>\n",
       "      <td>1.000000</td>\n",
       "      <td>0.248054</td>\n",
       "      <td>0.383122</td>\n",
       "      <td>-0.030438</td>\n",
       "      <td>-0.630060</td>\n",
       "      <td>-0.192658</td>\n",
       "    </tr>\n",
       "    <tr>\n",
       "      <th>At12</th>\n",
       "      <td>-0.099156</td>\n",
       "      <td>-0.027100</td>\n",
       "      <td>-0.416876</td>\n",
       "      <td>-0.598830</td>\n",
       "      <td>-0.275603</td>\n",
       "      <td>-0.552569</td>\n",
       "      <td>0.087005</td>\n",
       "      <td>-0.211768</td>\n",
       "      <td>0.267771</td>\n",
       "      <td>0.420669</td>\n",
       "      <td>0.248054</td>\n",
       "      <td>1.000000</td>\n",
       "      <td>0.142888</td>\n",
       "      <td>0.589089</td>\n",
       "      <td>-0.117172</td>\n",
       "      <td>0.257057</td>\n",
       "    </tr>\n",
       "    <tr>\n",
       "      <th>At13</th>\n",
       "      <td>0.122924</td>\n",
       "      <td>0.096167</td>\n",
       "      <td>-0.142400</td>\n",
       "      <td>-0.077215</td>\n",
       "      <td>-0.311111</td>\n",
       "      <td>-0.155968</td>\n",
       "      <td>-0.326737</td>\n",
       "      <td>-0.110898</td>\n",
       "      <td>-0.057306</td>\n",
       "      <td>0.026738</td>\n",
       "      <td>0.383122</td>\n",
       "      <td>0.142888</td>\n",
       "      <td>1.000000</td>\n",
       "      <td>0.108784</td>\n",
       "      <td>-0.003305</td>\n",
       "      <td>0.054448</td>\n",
       "    </tr>\n",
       "    <tr>\n",
       "      <th>At14</th>\n",
       "      <td>-0.018918</td>\n",
       "      <td>0.096668</td>\n",
       "      <td>-0.417420</td>\n",
       "      <td>-0.520989</td>\n",
       "      <td>-0.254385</td>\n",
       "      <td>-0.704015</td>\n",
       "      <td>-0.078299</td>\n",
       "      <td>-0.657508</td>\n",
       "      <td>-0.091988</td>\n",
       "      <td>-0.197172</td>\n",
       "      <td>-0.030438</td>\n",
       "      <td>0.589089</td>\n",
       "      <td>0.108784</td>\n",
       "      <td>1.000000</td>\n",
       "      <td>0.049753</td>\n",
       "      <td>0.774343</td>\n",
       "    </tr>\n",
       "    <tr>\n",
       "      <th>At15</th>\n",
       "      <td>-0.329582</td>\n",
       "      <td>-0.105416</td>\n",
       "      <td>-0.163612</td>\n",
       "      <td>0.090936</td>\n",
       "      <td>0.048434</td>\n",
       "      <td>0.081502</td>\n",
       "      <td>0.038929</td>\n",
       "      <td>-0.120300</td>\n",
       "      <td>-0.356297</td>\n",
       "      <td>-0.300249</td>\n",
       "      <td>-0.630060</td>\n",
       "      <td>-0.117172</td>\n",
       "      <td>-0.003305</td>\n",
       "      <td>0.049753</td>\n",
       "      <td>1.000000</td>\n",
       "      <td>0.112938</td>\n",
       "    </tr>\n",
       "    <tr>\n",
       "      <th>At16</th>\n",
       "      <td>0.030953</td>\n",
       "      <td>0.105203</td>\n",
       "      <td>-0.278020</td>\n",
       "      <td>-0.307390</td>\n",
       "      <td>-0.106677</td>\n",
       "      <td>-0.527991</td>\n",
       "      <td>-0.089508</td>\n",
       "      <td>-0.647238</td>\n",
       "      <td>-0.247163</td>\n",
       "      <td>-0.411105</td>\n",
       "      <td>-0.192658</td>\n",
       "      <td>0.257057</td>\n",
       "      <td>0.054448</td>\n",
       "      <td>0.774343</td>\n",
       "      <td>0.112938</td>\n",
       "      <td>1.000000</td>\n",
       "    </tr>\n",
       "  </tbody>\n",
       "</table>\n",
       "</div>"
      ],
      "text/plain": [
       "           At1       At2       At3       At4       At5       At6       At7  \\\n",
       "At1   1.000000  0.270335  0.253952  0.100083 -0.404851 -0.089432 -0.330658   \n",
       "At2   0.270335  1.000000 -0.062490  0.151970 -0.240727 -0.187357 -0.256534   \n",
       "At3   0.253952 -0.062490  1.000000  0.360894  0.371526  0.402748 -0.170531   \n",
       "At4   0.100083  0.151970  0.360894  1.000000  0.165842  0.546834 -0.028609   \n",
       "At5  -0.404851 -0.240727  0.371526  0.165842  1.000000  0.418285  0.392499   \n",
       "At6  -0.089432 -0.187357  0.402748  0.546834  0.418285  1.000000  0.170619   \n",
       "At7  -0.330658 -0.256534 -0.170531 -0.028609  0.392499  0.170619  1.000000   \n",
       "At8  -0.089241 -0.294927  0.269797  0.222433  0.322133  0.699505  0.343613   \n",
       "At9  -0.029766 -0.066688 -0.132522 -0.137490 -0.204193 -0.031988  0.397259   \n",
       "At10 -0.094864 -0.246095 -0.030975 -0.233875  0.043204  0.137813  0.321034   \n",
       "At11  0.173923  0.111370 -0.015425 -0.151956 -0.291619 -0.131214 -0.154084   \n",
       "At12 -0.099156 -0.027100 -0.416876 -0.598830 -0.275603 -0.552569  0.087005   \n",
       "At13  0.122924  0.096167 -0.142400 -0.077215 -0.311111 -0.155968 -0.326737   \n",
       "At14 -0.018918  0.096668 -0.417420 -0.520989 -0.254385 -0.704015 -0.078299   \n",
       "At15 -0.329582 -0.105416 -0.163612  0.090936  0.048434  0.081502  0.038929   \n",
       "At16  0.030953  0.105203 -0.278020 -0.307390 -0.106677 -0.527991 -0.089508   \n",
       "\n",
       "           At8       At9      At10      At11      At12      At13      At14  \\\n",
       "At1  -0.089241 -0.029766 -0.094864  0.173923 -0.099156  0.122924 -0.018918   \n",
       "At2  -0.294927 -0.066688 -0.246095  0.111370 -0.027100  0.096167  0.096668   \n",
       "At3   0.269797 -0.132522 -0.030975 -0.015425 -0.416876 -0.142400 -0.417420   \n",
       "At4   0.222433 -0.137490 -0.233875 -0.151956 -0.598830 -0.077215 -0.520989   \n",
       "At5   0.322133 -0.204193  0.043204 -0.291619 -0.275603 -0.311111 -0.254385   \n",
       "At6   0.699505 -0.031988  0.137813 -0.131214 -0.552569 -0.155968 -0.704015   \n",
       "At7   0.343613  0.397259  0.321034 -0.154084  0.087005 -0.326737 -0.078299   \n",
       "At8   1.000000  0.269030  0.583498  0.104928 -0.211768 -0.110898 -0.657508   \n",
       "At9   0.269030  1.000000  0.484246  0.551981  0.267771 -0.057306 -0.091988   \n",
       "At10  0.583498  0.484246  1.000000  0.349432  0.420669  0.026738 -0.197172   \n",
       "At11  0.104928  0.551981  0.349432  1.000000  0.248054  0.383122 -0.030438   \n",
       "At12 -0.211768  0.267771  0.420669  0.248054  1.000000  0.142888  0.589089   \n",
       "At13 -0.110898 -0.057306  0.026738  0.383122  0.142888  1.000000  0.108784   \n",
       "At14 -0.657508 -0.091988 -0.197172 -0.030438  0.589089  0.108784  1.000000   \n",
       "At15 -0.120300 -0.356297 -0.300249 -0.630060 -0.117172 -0.003305  0.049753   \n",
       "At16 -0.647238 -0.247163 -0.411105 -0.192658  0.257057  0.054448  0.774343   \n",
       "\n",
       "          At15      At16  \n",
       "At1  -0.329582  0.030953  \n",
       "At2  -0.105416  0.105203  \n",
       "At3  -0.163612 -0.278020  \n",
       "At4   0.090936 -0.307390  \n",
       "At5   0.048434 -0.106677  \n",
       "At6   0.081502 -0.527991  \n",
       "At7   0.038929 -0.089508  \n",
       "At8  -0.120300 -0.647238  \n",
       "At9  -0.356297 -0.247163  \n",
       "At10 -0.300249 -0.411105  \n",
       "At11 -0.630060 -0.192658  \n",
       "At12 -0.117172  0.257057  \n",
       "At13 -0.003305  0.054448  \n",
       "At14  0.049753  0.774343  \n",
       "At15  1.000000  0.112938  \n",
       "At16  0.112938  1.000000  "
      ]
     },
     "execution_count": 78,
     "metadata": {},
     "output_type": "execute_result"
    },
    {
     "data": {
      "application/javascript": [
       "\n",
       "            setTimeout(function() {\n",
       "                var nbb_cell_id = 78;\n",
       "                var nbb_unformatted_code = \"df_corr = df_continuous.corr()\\ndf_corr\";\n",
       "                var nbb_formatted_code = \"df_corr = df_continuous.corr()\\ndf_corr\";\n",
       "                var nbb_cells = Jupyter.notebook.get_cells();\n",
       "                for (var i = 0; i < nbb_cells.length; ++i) {\n",
       "                    if (nbb_cells[i].input_prompt_number == nbb_cell_id) {\n",
       "                        if (nbb_cells[i].get_text() == nbb_unformatted_code) {\n",
       "                             nbb_cells[i].set_text(nbb_formatted_code);\n",
       "                        }\n",
       "                        break;\n",
       "                    }\n",
       "                }\n",
       "            }, 500);\n",
       "            "
      ],
      "text/plain": [
       "<IPython.core.display.Javascript object>"
      ]
     },
     "metadata": {},
     "output_type": "display_data"
    }
   ],
   "source": [
    "df_corr = df_continuous.corr()\n",
    "df_corr"
   ]
  },
  {
   "cell_type": "code",
   "execution_count": 81,
   "id": "056dde3a",
   "metadata": {},
   "outputs": [
    {
     "data": {
      "image/png": "[encoded data removed]",
      "text/plain": [
       "<Figure size 1080x720 with 2 Axes>"
      ]
     },
     "metadata": {
      "needs_background": "light"
     },
     "output_type": "display_data"
    },
    {
     "data": {
      "application/javascript": [
       "\n",
       "            setTimeout(function() {\n",
       "                var nbb_cell_id = 81;\n",
       "                var nbb_unformatted_code = \"plt.figure(figsize=(15, 10))\\nsns.heatmap(df_corr, annot=True)\\nplt.show()\";\n",
       "                var nbb_formatted_code = \"plt.figure(figsize=(15, 10))\\nsns.heatmap(df_corr, annot=True)\\nplt.show()\";\n",
       "                var nbb_cells = Jupyter.notebook.get_cells();\n",
       "                for (var i = 0; i < nbb_cells.length; ++i) {\n",
       "                    if (nbb_cells[i].input_prompt_number == nbb_cell_id) {\n",
       "                        if (nbb_cells[i].get_text() == nbb_unformatted_code) {\n",
       "                             nbb_cells[i].set_text(nbb_formatted_code);\n",
       "                        }\n",
       "                        break;\n",
       "                    }\n",
       "                }\n",
       "            }, 500);\n",
       "            "
      ],
      "text/plain": [
       "<IPython.core.display.Javascript object>"
      ]
     },
     "metadata": {},
     "output_type": "display_data"
    }
   ],
   "source": [
    "plt.figure(figsize=(15, 10))\n",
    "sns.heatmap(df_corr, annot=True)\n",
    "plt.show()"
   ]
  },
  {
   "cell_type": "markdown",
   "id": "a2a08061",
   "metadata": {},
   "source": [
    "## <p style=\"color:blue\">Nhận xét</p>"
   ]
  },
  {
   "cell_type": "code",
   "execution_count": 82,
   "id": "a8fb0a69",
   "metadata": {},
   "outputs": [
    {
     "data": {
      "text/plain": [
       "'\\nTừ kết quả, ta thấy được độ tương quan giữa các biến liên tục với nhau:\\nvd: At1 có tương quan với At5 và At15\\nAt16 có tương quan với At6, At4, At10, và tương quan mạnh với At8\\n...\\n\\n\\n'"
      ]
     },
     "execution_count": 82,
     "metadata": {},
     "output_type": "execute_result"
    },
    {
     "data": {
      "application/javascript": [
       "\n",
       "            setTimeout(function() {\n",
       "                var nbb_cell_id = 82;\n",
       "                var nbb_unformatted_code = \"'''\\nT\\u1eeb k\\u1ebft qu\\u1ea3, ta th\\u1ea5y \\u0111\\u01b0\\u1ee3c \\u0111\\u1ed9 t\\u01b0\\u01a1ng quan gi\\u1eefa c\\u00e1c bi\\u1ebfn li\\u00ean t\\u1ee5c v\\u1edbi nhau:\\nvd: At1 c\\u00f3 t\\u01b0\\u01a1ng quan v\\u1edbi At5 v\\u00e0 At15\\nAt16 c\\u00f3 t\\u01b0\\u01a1ng quan v\\u1edbi At6, At4, At10, v\\u00e0 t\\u01b0\\u01a1ng quan m\\u1ea1nh v\\u1edbi At8\\n...\\n\\n\\n'''\";\n",
       "                var nbb_formatted_code = \"\\\"\\\"\\\"\\nT\\u1eeb k\\u1ebft qu\\u1ea3, ta th\\u1ea5y \\u0111\\u01b0\\u1ee3c \\u0111\\u1ed9 t\\u01b0\\u01a1ng quan gi\\u1eefa c\\u00e1c bi\\u1ebfn li\\u00ean t\\u1ee5c v\\u1edbi nhau:\\nvd: At1 c\\u00f3 t\\u01b0\\u01a1ng quan v\\u1edbi At5 v\\u00e0 At15\\nAt16 c\\u00f3 t\\u01b0\\u01a1ng quan v\\u1edbi At6, At4, At10, v\\u00e0 t\\u01b0\\u01a1ng quan m\\u1ea1nh v\\u1edbi At8\\n...\\n\\n\\n\\\"\\\"\\\"\";\n",
       "                var nbb_cells = Jupyter.notebook.get_cells();\n",
       "                for (var i = 0; i < nbb_cells.length; ++i) {\n",
       "                    if (nbb_cells[i].input_prompt_number == nbb_cell_id) {\n",
       "                        if (nbb_cells[i].get_text() == nbb_unformatted_code) {\n",
       "                             nbb_cells[i].set_text(nbb_formatted_code);\n",
       "                        }\n",
       "                        break;\n",
       "                    }\n",
       "                }\n",
       "            }, 500);\n",
       "            "
      ],
      "text/plain": [
       "<IPython.core.display.Javascript object>"
      ]
     },
     "metadata": {},
     "output_type": "display_data"
    }
   ],
   "source": [
    "\"\"\"\n",
    "Từ kết quả, ta thấy được độ tương quan giữa các biến liên tục với nhau:\n",
    "vd: \n",
    "At1 có tương quan với At5 và At15\n",
    "At16 có tương quan với At6, At4, At10, và tương quan mạnh với At8### Categorical - Continuous\n",
    "...\n",
    "\n",
    "\n",
    "\"\"\""
   ]
  },
  {
   "cell_type": "markdown",
   "id": "255c6971",
   "metadata": {},
   "source": [
    "### Categorical - Continuous"
   ]
  },
  {
   "cell_type": "code",
   "execution_count": 97,
   "id": "bfce4874",
   "metadata": {},
   "outputs": [
    {
     "data": {
      "application/javascript": [
       "\n",
       "            setTimeout(function() {\n",
       "                var nbb_cell_id = 97;\n",
       "                var nbb_unformatted_code = \"def cate_con(dataset, f1, f2):\\n#     plt.figure(figsize=(15, 8))\\n#     sns.boxplot(data=dataset, x=dataset[f1], y=dataset[f2])\\n#     plt.show()\\n\\n    model = ols(\\n        f1 + \\\"~ C(\\\" + f2 + \\\")\\\",\\n        data=dataset,\\n    ).fit()\\n    print(sm.stats.anova_lm(model, typ=2))\";\n",
       "                var nbb_formatted_code = \"def cate_con(dataset, f1, f2):\\n    #     plt.figure(figsize=(15, 8))\\n    #     sns.boxplot(data=dataset, x=dataset[f1], y=dataset[f2])\\n    #     plt.show()\\n\\n    model = ols(\\n        f1 + \\\"~ C(\\\" + f2 + \\\")\\\",\\n        data=dataset,\\n    ).fit()\\n    print(sm.stats.anova_lm(model, typ=2))\";\n",
       "                var nbb_cells = Jupyter.notebook.get_cells();\n",
       "                for (var i = 0; i < nbb_cells.length; ++i) {\n",
       "                    if (nbb_cells[i].input_prompt_number == nbb_cell_id) {\n",
       "                        if (nbb_cells[i].get_text() == nbb_unformatted_code) {\n",
       "                             nbb_cells[i].set_text(nbb_formatted_code);\n",
       "                        }\n",
       "                        break;\n",
       "                    }\n",
       "                }\n",
       "            }, 500);\n",
       "            "
      ],
      "text/plain": [
       "<IPython.core.display.Javascript object>"
      ]
     },
     "metadata": {},
     "output_type": "display_data"
    }
   ],
   "source": [
    "def cate_con(dataset, f1, f2):\n",
    "    #     plt.figure(figsize=(15, 8))\n",
    "    #     sns.boxplot(data=dataset, x=dataset[f1], y=dataset[f2])\n",
    "    #     plt.show()\n",
    "\n",
    "    model = ols(\n",
    "        f1 + \"~ C(\" + f2 + \")\",\n",
    "        data=dataset,\n",
    "    ).fit()\n",
    "    print(sm.stats.anova_lm(model, typ=2))"
   ]
  },
  {
   "cell_type": "code",
   "execution_count": 102,
   "id": "28106155",
   "metadata": {},
   "outputs": [
    {
     "name": "stdout",
     "output_type": "stream",
     "text": [
      "                sum_sq       df            F  PR(>F)\n",
      "C(Class)  5.972899e+06      9.0  1060.632574     0.0\n",
      "Residual  6.871620e+06  10982.0          NaN     NaN\n",
      "-------------------------------------------------------------\n",
      "\n",
      "                sum_sq       df           F  PR(>F)\n",
      "C(Class)  1.174397e+06      9.0  509.640359     0.0\n",
      "Residual  2.811838e+06  10982.0         NaN     NaN\n",
      "-------------------------------------------------------------\n",
      "\n",
      "                sum_sq       df           F  PR(>F)\n",
      "C(Class)  1.809478e+06      9.0  368.136936     0.0\n",
      "Residual  5.997673e+06  10982.0         NaN     NaN\n",
      "-------------------------------------------------------------\n",
      "\n",
      "                sum_sq       df           F  PR(>F)\n",
      "C(Class)  1.498425e+06      9.0  543.514918     0.0\n",
      "Residual  3.364049e+06  10982.0         NaN     NaN\n",
      "-------------------------------------------------------------\n",
      "\n",
      "                sum_sq       df            F  PR(>F)\n",
      "C(Class)  7.066943e+06      9.0  1562.464279     0.0\n",
      "Residual  5.519001e+06  10982.0          NaN     NaN\n",
      "-------------------------------------------------------------\n",
      "\n",
      "                sum_sq       df            F  PR(>F)\n",
      "C(Class)  4.211854e+06      9.0  1286.807457     0.0\n",
      "Residual  3.993914e+06  10982.0          NaN     NaN\n",
      "-------------------------------------------------------------\n",
      "\n",
      "                sum_sq       df         F  PR(>F)\n",
      "C(Class)  3.496097e+06      9.0  633.2192     0.0\n",
      "Residual  6.737029e+06  10982.0       NaN     NaN\n",
      "-------------------------------------------------------------\n",
      "\n",
      "                sum_sq       df            F  PR(>F)\n",
      "C(Class)  5.349625e+06      9.0  1461.622319     0.0\n",
      "Residual  4.466086e+06  10982.0          NaN     NaN\n",
      "-------------------------------------------------------------\n",
      "\n",
      "                sum_sq       df            F  PR(>F)\n",
      "C(Class)  6.268719e+06      9.0  1197.517131     0.0\n",
      "Residual  6.387575e+06  10982.0          NaN     NaN\n",
      "-------------------------------------------------------------\n",
      "\n",
      "                sum_sq       df            F  PR(>F)\n",
      "C(Class)  3.892709e+06      9.0  1060.468021     0.0\n",
      "Residual  4.479126e+06  10982.0          NaN     NaN\n",
      "-------------------------------------------------------------\n",
      "\n",
      "                sum_sq       df           F  PR(>F)\n",
      "C(Class)  7.875728e+06      9.0  1347.24846     0.0\n",
      "Residual  7.133160e+06  10982.0         NaN     NaN\n",
      "-------------------------------------------------------------\n",
      "\n",
      "                sum_sq       df            F  PR(>F)\n",
      "C(Class)  3.856802e+06      9.0  1059.048407     0.0\n",
      "Residual  4.443758e+06  10982.0          NaN     NaN\n",
      "-------------------------------------------------------------\n",
      "\n",
      "                sum_sq       df           F  PR(>F)\n",
      "C(Class)  1.062500e+06      9.0  278.163366     0.0\n",
      "Residual  4.660881e+06  10982.0         NaN     NaN\n",
      "-------------------------------------------------------------\n",
      "\n",
      "                sum_sq       df            F  PR(>F)\n",
      "C(Class)  7.359908e+06      9.0  1910.196392     0.0\n",
      "Residual  4.701466e+06  10982.0          NaN     NaN\n",
      "-------------------------------------------------------------\n",
      "\n",
      "                sum_sq       df            F  PR(>F)\n",
      "C(Class)  8.981897e+06      9.0  1125.740297     0.0\n",
      "Residual  9.735736e+06  10982.0          NaN     NaN\n",
      "-------------------------------------------------------------\n",
      "\n",
      "                sum_sq       df            F  PR(>F)\n",
      "C(Class)  9.086347e+06      9.0  2245.038306     0.0\n",
      "Residual  4.938607e+06  10982.0          NaN     NaN\n",
      "-------------------------------------------------------------\n",
      "\n"
     ]
    },
    {
     "data": {
      "application/javascript": [
       "\n",
       "            setTimeout(function() {\n",
       "                var nbb_cell_id = 102;\n",
       "                var nbb_unformatted_code = \"for i in df_continuous.columns:\\n    cate_con(df, i, \\\"Class\\\")\\n    print('-------------------------------------------------------------\\\\n')\";\n",
       "                var nbb_formatted_code = \"for i in df_continuous.columns:\\n    cate_con(df, i, \\\"Class\\\")\\n    print(\\\"-------------------------------------------------------------\\\\n\\\")\";\n",
       "                var nbb_cells = Jupyter.notebook.get_cells();\n",
       "                for (var i = 0; i < nbb_cells.length; ++i) {\n",
       "                    if (nbb_cells[i].input_prompt_number == nbb_cell_id) {\n",
       "                        if (nbb_cells[i].get_text() == nbb_unformatted_code) {\n",
       "                             nbb_cells[i].set_text(nbb_formatted_code);\n",
       "                        }\n",
       "                        break;\n",
       "                    }\n",
       "                }\n",
       "            }, 500);\n",
       "            "
      ],
      "text/plain": [
       "<IPython.core.display.Javascript object>"
      ]
     },
     "metadata": {},
     "output_type": "display_data"
    }
   ],
   "source": [
    "for i in df_continuous.columns:\n",
    "    cate_con(df, i, \"Class\")\n",
    "    print('-------------------------------------------------------------\\n')\n"
   ]
  },
  {
   "cell_type": "markdown",
   "id": "267ee7ba",
   "metadata": {},
   "source": [
    "### Phân tích tổng quát bằng ProfileReport"
   ]
  },
  {
   "cell_type": "code",
   "execution_count": 105,
   "id": "2cb4c80f",
   "metadata": {},
   "outputs": [
    {
     "data": {
      "application/javascript": [
       "\n",
       "            setTimeout(function() {\n",
       "                var nbb_cell_id = 105;\n",
       "                var nbb_unformatted_code = \"from pandas_profiling import ProfileReport\\n\\ndata_profile = ProfileReport(df)\";\n",
       "                var nbb_formatted_code = \"from pandas_profiling import ProfileReport\\n\\ndata_profile = ProfileReport(df)\";\n",
       "                var nbb_cells = Jupyter.notebook.get_cells();\n",
       "                for (var i = 0; i < nbb_cells.length; ++i) {\n",
       "                    if (nbb_cells[i].input_prompt_number == nbb_cell_id) {\n",
       "                        if (nbb_cells[i].get_text() == nbb_unformatted_code) {\n",
       "                             nbb_cells[i].set_text(nbb_formatted_code);\n",
       "                        }\n",
       "                        break;\n",
       "                    }\n",
       "                }\n",
       "            }, 500);\n",
       "            "
      ],
      "text/plain": [
       "<IPython.core.display.Javascript object>"
      ]
     },
     "metadata": {},
     "output_type": "display_data"
    }
   ],
   "source": [
    "# data_profile = ProfileReport(df)"
   ]
  },
  {
   "cell_type": "code",
   "execution_count": 107,
   "id": "4b1582f0",
   "metadata": {},
   "outputs": [
    {
     "data": {
      "application/vnd.jupyter.widget-view+json": {
       "model_id": "00cd23cbbc364931afa95d5e4658fd3d",
       "version_major": 2,
       "version_minor": 0
      },
      "text/plain": [
       "Summarize dataset:   0%|          | 0/5 [00:00<?, ?it/s]"
      ]
     },
     "metadata": {},
     "output_type": "display_data"
    },
    {
     "data": {
      "application/vnd.jupyter.widget-view+json": {
       "model_id": "4da227fc2eb049559b791b0e38eaebab",
       "version_major": 2,
       "version_minor": 0
      },
      "text/plain": [
       "Generate report structure:   0%|          | 0/1 [00:00<?, ?it/s]"
      ]
     },
     "metadata": {},
     "output_type": "display_data"
    },
    {
     "data": {
      "application/vnd.jupyter.widget-view+json": {
       "model_id": "93ce7297db5e4f129d19037b55c2f192",
       "version_major": 2,
       "version_minor": 0
      },
      "text/plain": [
       "Render HTML:   0%|          | 0/1 [00:00<?, ?it/s]"
      ]
     },
     "metadata": {},
     "output_type": "display_data"
    },
    {
     "data": {
      "application/vnd.jupyter.widget-view+json": {
       "model_id": "b1c7859e5eb144488f4f5004eec6b782",
       "version_major": 2,
       "version_minor": 0
      },
      "text/plain": [
       "Export report to file:   0%|          | 0/1 [00:00<?, ?it/s]"
      ]
     },
     "metadata": {},
     "output_type": "display_data"
    },
    {
     "data": {
      "application/javascript": [
       "\n",
       "            setTimeout(function() {\n",
       "                var nbb_cell_id = 107;\n",
       "                var nbb_unformatted_code = \"data_profile.to_file(\\\"Exercise_3_Pen_Based_Recognition.html\\\")\";\n",
       "                var nbb_formatted_code = \"data_profile.to_file(\\\"Exercise_3_Pen_Based_Recognition.html\\\")\";\n",
       "                var nbb_cells = Jupyter.notebook.get_cells();\n",
       "                for (var i = 0; i < nbb_cells.length; ++i) {\n",
       "                    if (nbb_cells[i].input_prompt_number == nbb_cell_id) {\n",
       "                        if (nbb_cells[i].get_text() == nbb_unformatted_code) {\n",
       "                             nbb_cells[i].set_text(nbb_formatted_code);\n",
       "                        }\n",
       "                        break;\n",
       "                    }\n",
       "                }\n",
       "            }, 500);\n",
       "            "
      ],
      "text/plain": [
       "<IPython.core.display.Javascript object>"
      ]
     },
     "metadata": {},
     "output_type": "display_data"
    }
   ],
   "source": [
    "# data_profile.to_file(\"Exercise_3_Pen_Based_Recognition.html\")"
   ]
  },
  {
   "cell_type": "code",
   "execution_count": 108,
   "id": "4e016b60",
   "metadata": {},
   "outputs": [
    {
     "data": {
      "text/plain": [
       "'\\nvì sử dụng ProfileReport sẽ tốn dung lượng của file nên em comment lại.\\nNếu thầy có sử dụng thì bỏ comment và chạy lại giúp em ạ.\\nEm có export kết quả của ProfileReport ra file HTML ạ.\\n'"
      ]
     },
     "execution_count": 108,
     "metadata": {},
     "output_type": "execute_result"
    },
    {
     "data": {
      "application/javascript": [
       "\n",
       "            setTimeout(function() {\n",
       "                var nbb_cell_id = 108;\n",
       "                var nbb_unformatted_code = \"\\\"\\\"\\\"\\nv\\u00ec s\\u1eed d\\u1ee5ng ProfileReport s\\u1ebd t\\u1ed1n dung l\\u01b0\\u1ee3ng c\\u1ee7a file n\\u00ean em comment l\\u1ea1i.\\nN\\u1ebfu th\\u1ea7y c\\u00f3 s\\u1eed d\\u1ee5ng th\\u00ec b\\u1ecf comment v\\u00e0 ch\\u1ea1y l\\u1ea1i gi\\u00fap em \\u1ea1.\\nEm c\\u00f3 export k\\u1ebft qu\\u1ea3 c\\u1ee7a ProfileReport ra file HTML \\u1ea1.\\n\\\"\\\"\\\"\\n#data_profile\";\n",
       "                var nbb_formatted_code = \"\\\"\\\"\\\"\\nv\\u00ec s\\u1eed d\\u1ee5ng ProfileReport s\\u1ebd t\\u1ed1n dung l\\u01b0\\u1ee3ng c\\u1ee7a file n\\u00ean em comment l\\u1ea1i.\\nN\\u1ebfu th\\u1ea7y c\\u00f3 s\\u1eed d\\u1ee5ng th\\u00ec b\\u1ecf comment v\\u00e0 ch\\u1ea1y l\\u1ea1i gi\\u00fap em \\u1ea1.\\nEm c\\u00f3 export k\\u1ebft qu\\u1ea3 c\\u1ee7a ProfileReport ra file HTML \\u1ea1.\\n\\\"\\\"\\\"\\n# data_profile\";\n",
       "                var nbb_cells = Jupyter.notebook.get_cells();\n",
       "                for (var i = 0; i < nbb_cells.length; ++i) {\n",
       "                    if (nbb_cells[i].input_prompt_number == nbb_cell_id) {\n",
       "                        if (nbb_cells[i].get_text() == nbb_unformatted_code) {\n",
       "                             nbb_cells[i].set_text(nbb_formatted_code);\n",
       "                        }\n",
       "                        break;\n",
       "                    }\n",
       "                }\n",
       "            }, 500);\n",
       "            "
      ],
      "text/plain": [
       "<IPython.core.display.Javascript object>"
      ]
     },
     "metadata": {},
     "output_type": "display_data"
    }
   ],
   "source": [
    "\"\"\"\n",
    "vì sử dụng ProfileReport sẽ tốn dung lượng của file nên em comment lại.\n",
    "Nếu thầy có sử dụng thì bỏ comment và chạy lại giúp em ạ.\n",
    "Em có export kết quả của ProfileReport ra file HTML ạ.\n",
    "\"\"\"\n",
    "# data_profile"
   ]
  },
  {
   "cell_type": "code",
   "execution_count": 109,
   "id": "9fe1a0dc",
   "metadata": {},
   "outputs": [
    {
     "data": {
      "text/plain": [
       "0"
      ]
     },
     "execution_count": 109,
     "metadata": {},
     "output_type": "execute_result"
    },
    {
     "data": {
      "application/javascript": [
       "\n",
       "            setTimeout(function() {\n",
       "                var nbb_cell_id = 109;\n",
       "                var nbb_unformatted_code = \"df.duplicated().sum()\";\n",
       "                var nbb_formatted_code = \"df.duplicated().sum()\";\n",
       "                var nbb_cells = Jupyter.notebook.get_cells();\n",
       "                for (var i = 0; i < nbb_cells.length; ++i) {\n",
       "                    if (nbb_cells[i].input_prompt_number == nbb_cell_id) {\n",
       "                        if (nbb_cells[i].get_text() == nbb_unformatted_code) {\n",
       "                             nbb_cells[i].set_text(nbb_formatted_code);\n",
       "                        }\n",
       "                        break;\n",
       "                    }\n",
       "                }\n",
       "            }, 500);\n",
       "            "
      ],
      "text/plain": [
       "<IPython.core.display.Javascript object>"
      ]
     },
     "metadata": {},
     "output_type": "display_data"
    }
   ],
   "source": [
    "df.duplicated().sum()"
   ]
  },
  {
   "cell_type": "code",
   "execution_count": 110,
   "id": "e3259128",
   "metadata": {},
   "outputs": [
    {
     "data": {
      "text/plain": [
       "'\\ndataset ko có giá trị duplicated\\n'"
      ]
     },
     "execution_count": 110,
     "metadata": {},
     "output_type": "execute_result"
    },
    {
     "data": {
      "application/javascript": [
       "\n",
       "            setTimeout(function() {\n",
       "                var nbb_cell_id = 110;\n",
       "                var nbb_unformatted_code = \"\\\"\\\"\\\"\\ndataset ko c\\u00f3 gi\\u00e1 tr\\u1ecb duplicated\\n\\\"\\\"\\\"\";\n",
       "                var nbb_formatted_code = \"\\\"\\\"\\\"\\ndataset ko c\\u00f3 gi\\u00e1 tr\\u1ecb duplicated\\n\\\"\\\"\\\"\";\n",
       "                var nbb_cells = Jupyter.notebook.get_cells();\n",
       "                for (var i = 0; i < nbb_cells.length; ++i) {\n",
       "                    if (nbb_cells[i].input_prompt_number == nbb_cell_id) {\n",
       "                        if (nbb_cells[i].get_text() == nbb_unformatted_code) {\n",
       "                             nbb_cells[i].set_text(nbb_formatted_code);\n",
       "                        }\n",
       "                        break;\n",
       "                    }\n",
       "                }\n",
       "            }, 500);\n",
       "            "
      ],
      "text/plain": [
       "<IPython.core.display.Javascript object>"
      ]
     },
     "metadata": {},
     "output_type": "display_data"
    }
   ],
   "source": [
    "\"\"\"\n",
    "dataset ko có giá trị duplicated\n",
    "\"\"\""
   ]
  },
  {
   "cell_type": "markdown",
   "id": "14e12d09",
   "metadata": {},
   "source": [
    "## Chuẩn hóa dữ liệu"
   ]
  },
  {
   "cell_type": "code",
   "execution_count": 209,
   "id": "0746c697",
   "metadata": {
    "ExecuteTime": {
     "end_time": "2022-01-29T08:37:33.908579Z",
     "start_time": "2022-01-29T08:37:33.889575Z"
    }
   },
   "outputs": [
    {
     "data": {
      "application/javascript": [
       "\n",
       "            setTimeout(function() {\n",
       "                var nbb_cell_id = 209;\n",
       "                var nbb_unformatted_code = \"rb = RobustScaler().fit_transform(df_continuous)\";\n",
       "                var nbb_formatted_code = \"rb = RobustScaler().fit_transform(df_continuous)\";\n",
       "                var nbb_cells = Jupyter.notebook.get_cells();\n",
       "                for (var i = 0; i < nbb_cells.length; ++i) {\n",
       "                    if (nbb_cells[i].input_prompt_number == nbb_cell_id) {\n",
       "                        if (nbb_cells[i].get_text() == nbb_unformatted_code) {\n",
       "                             nbb_cells[i].set_text(nbb_formatted_code);\n",
       "                        }\n",
       "                        break;\n",
       "                    }\n",
       "                }\n",
       "            }, 500);\n",
       "            "
      ],
      "text/plain": [
       "<IPython.core.display.Javascript object>"
      ]
     },
     "metadata": {},
     "output_type": "display_data"
    }
   ],
   "source": [
    "rb = RobustScaler().fit_transform(df_continuous)"
   ]
  },
  {
   "cell_type": "code",
   "execution_count": 210,
   "id": "ad78784b",
   "metadata": {
    "ExecuteTime": {
     "end_time": "2022-01-29T08:37:34.078926Z",
     "start_time": "2022-01-29T08:37:34.064000Z"
    }
   },
   "outputs": [
    {
     "data": {
      "application/javascript": [
       "\n",
       "            setTimeout(function() {\n",
       "                var nbb_cell_id = 210;\n",
       "                var nbb_unformatted_code = \"df_scaler = pd.DataFrame(rb, columns=df_continuous.columns)\\ndf_scaler[\\\"Class\\\"] = df.Class\";\n",
       "                var nbb_formatted_code = \"df_scaler = pd.DataFrame(rb, columns=df_continuous.columns)\\ndf_scaler[\\\"Class\\\"] = df.Class\";\n",
       "                var nbb_cells = Jupyter.notebook.get_cells();\n",
       "                for (var i = 0; i < nbb_cells.length; ++i) {\n",
       "                    if (nbb_cells[i].input_prompt_number == nbb_cell_id) {\n",
       "                        if (nbb_cells[i].get_text() == nbb_unformatted_code) {\n",
       "                             nbb_cells[i].set_text(nbb_formatted_code);\n",
       "                        }\n",
       "                        break;\n",
       "                    }\n",
       "                }\n",
       "            }, 500);\n",
       "            "
      ],
      "text/plain": [
       "<IPython.core.display.Javascript object>"
      ]
     },
     "metadata": {},
     "output_type": "display_data"
    }
   ],
   "source": [
    "df_scaler = pd.DataFrame(rb, columns=df_continuous.columns)\n",
    "df_scaler[\"Class\"] = df.Class"
   ]
  },
  {
   "cell_type": "code",
   "execution_count": 211,
   "id": "f8919861",
   "metadata": {
    "ExecuteTime": {
     "end_time": "2022-01-29T08:37:34.249926Z",
     "start_time": "2022-01-29T08:37:34.229979Z"
    }
   },
   "outputs": [
    {
     "data": {
      "text/html": [
       "<div>\n",
       "<style scoped>\n",
       "    .dataframe tbody tr th:only-of-type {\n",
       "        vertical-align: middle;\n",
       "    }\n",
       "\n",
       "    .dataframe tbody tr th {\n",
       "        vertical-align: top;\n",
       "    }\n",
       "\n",
       "    .dataframe thead th {\n",
       "        text-align: right;\n",
       "    }\n",
       "</style>\n",
       "<table border=\"1\" class=\"dataframe\">\n",
       "  <thead>\n",
       "    <tr style=\"text-align: right;\">\n",
       "      <th></th>\n",
       "      <th>At1</th>\n",
       "      <th>At2</th>\n",
       "      <th>At3</th>\n",
       "      <th>At4</th>\n",
       "      <th>At5</th>\n",
       "      <th>At6</th>\n",
       "      <th>At7</th>\n",
       "      <th>At8</th>\n",
       "      <th>At9</th>\n",
       "      <th>At10</th>\n",
       "      <th>At11</th>\n",
       "      <th>At12</th>\n",
       "      <th>At13</th>\n",
       "      <th>At14</th>\n",
       "      <th>At15</th>\n",
       "      <th>At16</th>\n",
       "      <th>Class</th>\n",
       "    </tr>\n",
       "  </thead>\n",
       "  <tbody>\n",
       "    <tr>\n",
       "      <th>0</th>\n",
       "      <td>-0.559322</td>\n",
       "      <td>-1.24</td>\n",
       "      <td>-0.230769</td>\n",
       "      <td>-0.700000</td>\n",
       "      <td>0.316667</td>\n",
       "      <td>0.526316</td>\n",
       "      <td>1.000000</td>\n",
       "      <td>1.357143</td>\n",
       "      <td>0.283333</td>\n",
       "      <td>0.872340</td>\n",
       "      <td>-0.305556</td>\n",
       "      <td>0.444444</td>\n",
       "      <td>-0.925926</td>\n",
       "      <td>-0.066667</td>\n",
       "      <td>-0.25</td>\n",
       "      <td>-0.200000</td>\n",
       "      <td>1</td>\n",
       "    </tr>\n",
       "    <tr>\n",
       "      <th>1</th>\n",
       "      <td>1.118644</td>\n",
       "      <td>-0.32</td>\n",
       "      <td>0.589744</td>\n",
       "      <td>0.366667</td>\n",
       "      <td>-0.466667</td>\n",
       "      <td>0.157895</td>\n",
       "      <td>0.543478</td>\n",
       "      <td>0.595238</td>\n",
       "      <td>0.683333</td>\n",
       "      <td>0.595745</td>\n",
       "      <td>0.347222</td>\n",
       "      <td>-0.177778</td>\n",
       "      <td>0.037037</td>\n",
       "      <td>-0.622222</td>\n",
       "      <td>-0.41</td>\n",
       "      <td>0.090909</td>\n",
       "      <td>9</td>\n",
       "    </tr>\n",
       "    <tr>\n",
       "      <th>2</th>\n",
       "      <td>-0.559322</td>\n",
       "      <td>-0.60</td>\n",
       "      <td>-0.538462</td>\n",
       "      <td>0.333333</td>\n",
       "      <td>0.316667</td>\n",
       "      <td>0.789474</td>\n",
       "      <td>0.347826</td>\n",
       "      <td>0.714286</td>\n",
       "      <td>-0.450000</td>\n",
       "      <td>0.297872</td>\n",
       "      <td>-0.930556</td>\n",
       "      <td>-0.288889</td>\n",
       "      <td>-0.259259</td>\n",
       "      <td>-0.622222</td>\n",
       "      <td>0.59</td>\n",
       "      <td>1.109091</td>\n",
       "      <td>2</td>\n",
       "    </tr>\n",
       "    <tr>\n",
       "      <th>3</th>\n",
       "      <td>-0.355932</td>\n",
       "      <td>-0.44</td>\n",
       "      <td>-0.512821</td>\n",
       "      <td>-0.900000</td>\n",
       "      <td>0.416667</td>\n",
       "      <td>-0.789474</td>\n",
       "      <td>-0.086957</td>\n",
       "      <td>-1.023810</td>\n",
       "      <td>-0.966667</td>\n",
       "      <td>-0.361702</td>\n",
       "      <td>-1.000000</td>\n",
       "      <td>0.733333</td>\n",
       "      <td>-1.111111</td>\n",
       "      <td>1.555556</td>\n",
       "      <td>0.59</td>\n",
       "      <td>1.618182</td>\n",
       "      <td>5</td>\n",
       "    </tr>\n",
       "    <tr>\n",
       "      <th>4</th>\n",
       "      <td>-0.559322</td>\n",
       "      <td>0.40</td>\n",
       "      <td>-0.102564</td>\n",
       "      <td>-1.566667</td>\n",
       "      <td>0.450000</td>\n",
       "      <td>0.394737</td>\n",
       "      <td>0.304348</td>\n",
       "      <td>-0.023810</td>\n",
       "      <td>-0.050000</td>\n",
       "      <td>-0.723404</td>\n",
       "      <td>-0.652778</td>\n",
       "      <td>-0.177778</td>\n",
       "      <td>-0.111111</td>\n",
       "      <td>0.200000</td>\n",
       "      <td>0.59</td>\n",
       "      <td>0.381818</td>\n",
       "      <td>7</td>\n",
       "    </tr>\n",
       "    <tr>\n",
       "      <th>...</th>\n",
       "      <td>...</td>\n",
       "      <td>...</td>\n",
       "      <td>...</td>\n",
       "      <td>...</td>\n",
       "      <td>...</td>\n",
       "      <td>...</td>\n",
       "      <td>...</td>\n",
       "      <td>...</td>\n",
       "      <td>...</td>\n",
       "      <td>...</td>\n",
       "      <td>...</td>\n",
       "      <td>...</td>\n",
       "      <td>...</td>\n",
       "      <td>...</td>\n",
       "      <td>...</td>\n",
       "      <td>...</td>\n",
       "      <td>...</td>\n",
       "    </tr>\n",
       "    <tr>\n",
       "      <th>10987</th>\n",
       "      <td>0.898305</td>\n",
       "      <td>0.48</td>\n",
       "      <td>-0.051282</td>\n",
       "      <td>-0.300000</td>\n",
       "      <td>-0.683333</td>\n",
       "      <td>-0.500000</td>\n",
       "      <td>-1.173913</td>\n",
       "      <td>-0.595238</td>\n",
       "      <td>0.583333</td>\n",
       "      <td>-0.723404</td>\n",
       "      <td>0.388889</td>\n",
       "      <td>-0.400000</td>\n",
       "      <td>0.333333</td>\n",
       "      <td>0.044444</td>\n",
       "      <td>-0.34</td>\n",
       "      <td>0.127273</td>\n",
       "      <td>6</td>\n",
       "    </tr>\n",
       "    <tr>\n",
       "      <th>10988</th>\n",
       "      <td>-0.559322</td>\n",
       "      <td>0.16</td>\n",
       "      <td>0.205128</td>\n",
       "      <td>0.366667</td>\n",
       "      <td>0.383333</td>\n",
       "      <td>0.105263</td>\n",
       "      <td>0.347826</td>\n",
       "      <td>-0.047619</td>\n",
       "      <td>-0.033333</td>\n",
       "      <td>-0.531915</td>\n",
       "      <td>-0.472222</td>\n",
       "      <td>-0.688889</td>\n",
       "      <td>-0.259259</td>\n",
       "      <td>1.155556</td>\n",
       "      <td>0.59</td>\n",
       "      <td>0.163636</td>\n",
       "      <td>7</td>\n",
       "    </tr>\n",
       "    <tr>\n",
       "      <th>10989</th>\n",
       "      <td>-0.559322</td>\n",
       "      <td>-0.24</td>\n",
       "      <td>-0.358974</td>\n",
       "      <td>0.300000</td>\n",
       "      <td>0.100000</td>\n",
       "      <td>0.789474</td>\n",
       "      <td>0.282609</td>\n",
       "      <td>0.833333</td>\n",
       "      <td>-0.066667</td>\n",
       "      <td>0.404255</td>\n",
       "      <td>-0.319444</td>\n",
       "      <td>-0.088889</td>\n",
       "      <td>0.444444</td>\n",
       "      <td>-0.488889</td>\n",
       "      <td>-0.26</td>\n",
       "      <td>-0.200000</td>\n",
       "      <td>2</td>\n",
       "    </tr>\n",
       "    <tr>\n",
       "      <th>10990</th>\n",
       "      <td>-0.474576</td>\n",
       "      <td>0.08</td>\n",
       "      <td>0.384615</td>\n",
       "      <td>0.366667</td>\n",
       "      <td>0.416667</td>\n",
       "      <td>0.368421</td>\n",
       "      <td>0.782609</td>\n",
       "      <td>0.523810</td>\n",
       "      <td>0.200000</td>\n",
       "      <td>0.361702</td>\n",
       "      <td>0.388889</td>\n",
       "      <td>-0.177778</td>\n",
       "      <td>-0.037037</td>\n",
       "      <td>-0.511111</td>\n",
       "      <td>-0.41</td>\n",
       "      <td>-0.200000</td>\n",
       "      <td>3</td>\n",
       "    </tr>\n",
       "    <tr>\n",
       "      <th>10991</th>\n",
       "      <td>-0.559322</td>\n",
       "      <td>-0.56</td>\n",
       "      <td>-0.128205</td>\n",
       "      <td>0.366667</td>\n",
       "      <td>0.783333</td>\n",
       "      <td>0.394737</td>\n",
       "      <td>0.869565</td>\n",
       "      <td>0.476190</td>\n",
       "      <td>-0.116667</td>\n",
       "      <td>0.021277</td>\n",
       "      <td>-1.000000</td>\n",
       "      <td>-0.444444</td>\n",
       "      <td>-1.777778</td>\n",
       "      <td>-0.622222</td>\n",
       "      <td>0.36</td>\n",
       "      <td>-0.090909</td>\n",
       "      <td>2</td>\n",
       "    </tr>\n",
       "  </tbody>\n",
       "</table>\n",
       "<p>10992 rows × 17 columns</p>\n",
       "</div>"
      ],
      "text/plain": [
       "            At1   At2       At3       At4       At5       At6       At7  \\\n",
       "0     -0.559322 -1.24 -0.230769 -0.700000  0.316667  0.526316  1.000000   \n",
       "1      1.118644 -0.32  0.589744  0.366667 -0.466667  0.157895  0.543478   \n",
       "2     -0.559322 -0.60 -0.538462  0.333333  0.316667  0.789474  0.347826   \n",
       "3     -0.355932 -0.44 -0.512821 -0.900000  0.416667 -0.789474 -0.086957   \n",
       "4     -0.559322  0.40 -0.102564 -1.566667  0.450000  0.394737  0.304348   \n",
       "...         ...   ...       ...       ...       ...       ...       ...   \n",
       "10987  0.898305  0.48 -0.051282 -0.300000 -0.683333 -0.500000 -1.173913   \n",
       "10988 -0.559322  0.16  0.205128  0.366667  0.383333  0.105263  0.347826   \n",
       "10989 -0.559322 -0.24 -0.358974  0.300000  0.100000  0.789474  0.282609   \n",
       "10990 -0.474576  0.08  0.384615  0.366667  0.416667  0.368421  0.782609   \n",
       "10991 -0.559322 -0.56 -0.128205  0.366667  0.783333  0.394737  0.869565   \n",
       "\n",
       "            At8       At9      At10      At11      At12      At13      At14  \\\n",
       "0      1.357143  0.283333  0.872340 -0.305556  0.444444 -0.925926 -0.066667   \n",
       "1      0.595238  0.683333  0.595745  0.347222 -0.177778  0.037037 -0.622222   \n",
       "2      0.714286 -0.450000  0.297872 -0.930556 -0.288889 -0.259259 -0.622222   \n",
       "3     -1.023810 -0.966667 -0.361702 -1.000000  0.733333 -1.111111  1.555556   \n",
       "4     -0.023810 -0.050000 -0.723404 -0.652778 -0.177778 -0.111111  0.200000   \n",
       "...         ...       ...       ...       ...       ...       ...       ...   \n",
       "10987 -0.595238  0.583333 -0.723404  0.388889 -0.400000  0.333333  0.044444   \n",
       "10988 -0.047619 -0.033333 -0.531915 -0.472222 -0.688889 -0.259259  1.155556   \n",
       "10989  0.833333 -0.066667  0.404255 -0.319444 -0.088889  0.444444 -0.488889   \n",
       "10990  0.523810  0.200000  0.361702  0.388889 -0.177778 -0.037037 -0.511111   \n",
       "10991  0.476190 -0.116667  0.021277 -1.000000 -0.444444 -1.777778 -0.622222   \n",
       "\n",
       "       At15      At16  Class  \n",
       "0     -0.25 -0.200000      1  \n",
       "1     -0.41  0.090909      9  \n",
       "2      0.59  1.109091      2  \n",
       "3      0.59  1.618182      5  \n",
       "4      0.59  0.381818      7  \n",
       "...     ...       ...    ...  \n",
       "10987 -0.34  0.127273      6  \n",
       "10988  0.59  0.163636      7  \n",
       "10989 -0.26 -0.200000      2  \n",
       "10990 -0.41 -0.200000      3  \n",
       "10991  0.36 -0.090909      2  \n",
       "\n",
       "[10992 rows x 17 columns]"
      ]
     },
     "execution_count": 211,
     "metadata": {},
     "output_type": "execute_result"
    },
    {
     "data": {
      "application/javascript": [
       "\n",
       "            setTimeout(function() {\n",
       "                var nbb_cell_id = 211;\n",
       "                var nbb_unformatted_code = \"df_scaler\";\n",
       "                var nbb_formatted_code = \"df_scaler\";\n",
       "                var nbb_cells = Jupyter.notebook.get_cells();\n",
       "                for (var i = 0; i < nbb_cells.length; ++i) {\n",
       "                    if (nbb_cells[i].input_prompt_number == nbb_cell_id) {\n",
       "                        if (nbb_cells[i].get_text() == nbb_unformatted_code) {\n",
       "                             nbb_cells[i].set_text(nbb_formatted_code);\n",
       "                        }\n",
       "                        break;\n",
       "                    }\n",
       "                }\n",
       "            }, 500);\n",
       "            "
      ],
      "text/plain": [
       "<IPython.core.display.Javascript object>"
      ]
     },
     "metadata": {},
     "output_type": "display_data"
    }
   ],
   "source": [
    "df_scaler"
   ]
  },
  {
   "cell_type": "markdown",
   "id": "f786a2ed",
   "metadata": {},
   "source": [
    "### Chia tập train và test"
   ]
  },
  {
   "cell_type": "code",
   "execution_count": 237,
   "id": "3dd4427c",
   "metadata": {
    "ExecuteTime": {
     "end_time": "2022-01-29T08:56:40.638932Z",
     "start_time": "2022-01-29T08:56:40.618983Z"
    }
   },
   "outputs": [
    {
     "data": {
      "application/javascript": [
       "\n",
       "            setTimeout(function() {\n",
       "                var nbb_cell_id = 237;\n",
       "                var nbb_unformatted_code = \"# # original dataset\\n# X_original = df.drop(columns=[\\\"Class\\\"])\\n# y_original = df[\\\"Class\\\"]\\n\\n# X_train_o, X_test_o, y_train, y_test = train_test_split(\\n#     X_original, y_original, test_size=0.2, random_state=42\\n# )\";\n",
       "                var nbb_formatted_code = \"# # original dataset\\n# X_original = df.drop(columns=[\\\"Class\\\"])\\n# y_original = df[\\\"Class\\\"]\\n\\n# X_train_o, X_test_o, y_train, y_test = train_test_split(\\n#     X_original, y_original, test_size=0.2, random_state=42\\n# )\";\n",
       "                var nbb_cells = Jupyter.notebook.get_cells();\n",
       "                for (var i = 0; i < nbb_cells.length; ++i) {\n",
       "                    if (nbb_cells[i].input_prompt_number == nbb_cell_id) {\n",
       "                        if (nbb_cells[i].get_text() == nbb_unformatted_code) {\n",
       "                             nbb_cells[i].set_text(nbb_formatted_code);\n",
       "                        }\n",
       "                        break;\n",
       "                    }\n",
       "                }\n",
       "            }, 500);\n",
       "            "
      ],
      "text/plain": [
       "<IPython.core.display.Javascript object>"
      ]
     },
     "metadata": {},
     "output_type": "display_data"
    }
   ],
   "source": [
    "# # original dataset\n",
    "# X_original = df.drop(columns=[\"Class\"])\n",
    "# y_original = df[\"Class\"]\n",
    "\n",
    "# X_train_o, X_test_o, y_train, y_test = train_test_split(\n",
    "#     X_original, y_original, test_size=0.2, random_state=42\n",
    "# )"
   ]
  },
  {
   "cell_type": "code",
   "execution_count": 213,
   "id": "416d0893",
   "metadata": {
    "ExecuteTime": {
     "end_time": "2022-01-29T08:37:36.642302Z",
     "start_time": "2022-01-29T08:37:36.613351Z"
    }
   },
   "outputs": [
    {
     "data": {
      "application/javascript": [
       "\n",
       "            setTimeout(function() {\n",
       "                var nbb_cell_id = 213;\n",
       "                var nbb_unformatted_code = \"# scaler dataset\\nX_scaler = df_scaler.drop(columns=[\\\"Class\\\"])\\ny_scaler = df_scaler[\\\"Class\\\"]\\n\\nX_train_s, X_test_s, y_train, y_test = train_test_split(\\n    X_scaler, y_scaler, test_size=0.2, random_state=42\\n)\";\n",
       "                var nbb_formatted_code = \"# scaler dataset\\nX_scaler = df_scaler.drop(columns=[\\\"Class\\\"])\\ny_scaler = df_scaler[\\\"Class\\\"]\\n\\nX_train_s, X_test_s, y_train, y_test = train_test_split(\\n    X_scaler, y_scaler, test_size=0.2, random_state=42\\n)\";\n",
       "                var nbb_cells = Jupyter.notebook.get_cells();\n",
       "                for (var i = 0; i < nbb_cells.length; ++i) {\n",
       "                    if (nbb_cells[i].input_prompt_number == nbb_cell_id) {\n",
       "                        if (nbb_cells[i].get_text() == nbb_unformatted_code) {\n",
       "                             nbb_cells[i].set_text(nbb_formatted_code);\n",
       "                        }\n",
       "                        break;\n",
       "                    }\n",
       "                }\n",
       "            }, 500);\n",
       "            "
      ],
      "text/plain": [
       "<IPython.core.display.Javascript object>"
      ]
     },
     "metadata": {},
     "output_type": "display_data"
    }
   ],
   "source": [
    "# scaler dataset\n",
    "X_scaler = df_scaler.drop(columns=[\"Class\"])\n",
    "y_scaler = df_scaler[\"Class\"]\n",
    "\n",
    "X_train_s, X_test_s, y_train, y_test = train_test_split(\n",
    "    X_scaler, y_scaler, test_size=0.2, random_state=42\n",
    ")"
   ]
  },
  {
   "cell_type": "markdown",
   "id": "fdf486d2",
   "metadata": {},
   "source": [
    "## Build model với dữ liệu gốc"
   ]
  },
  {
   "cell_type": "markdown",
   "id": "fad659f8",
   "metadata": {},
   "source": [
    "### Áp dụng thuật toán machine learning\n",
    "#### Vì là classification, ta sẽ xét các thuật toán sau\n",
    "- Logistic Regression\n",
    "- KNN\n",
    "- Decision Tree\n",
    "- Random Forest\n",
    "- Suport Vector Machine SVM (SVC)\n"
   ]
  },
  {
   "cell_type": "code",
   "execution_count": 18,
   "id": "c6d40da2",
   "metadata": {
    "ExecuteTime": {
     "end_time": "2022-01-29T06:20:19.162021Z",
     "start_time": "2022-01-29T06:20:19.138085Z"
    }
   },
   "outputs": [
    {
     "data": {
      "application/javascript": [
       "\n",
       "            setTimeout(function() {\n",
       "                var nbb_cell_id = 18;\n",
       "                var nbb_unformatted_code = \"from sklearn.metrics import confusion_matrix, accuracy_score, classification_report\\n\\n# h\\u00e0m \\u0111\\u00e1nh gi\\u00e1\\ndef evaluate(model, X_train, X_test, y_train, y_test):\\n    yhat_test = model.predict(X_test)\\n    yhat_train = model.predict(X_train)\\n\\n    print(\\\"***TRAINIG RESULTS***: \\\\n==================================================\\\")\\n    clf_report = pd.DataFrame(\\n        classification_report(y_train, yhat_train, output_dict=True)\\n    )\\n    print(\\\"Confusion matrix: \\\\n\\\", confusion_matrix(y_train, yhat_train))\\n    print(\\\"Train Accuracy Score:\\\", accuracy_score(y_train, yhat_train))\\n    print(\\\"Classification Report: \\\\n\\\", classification_report(y_train, yhat_train))\\n\\n    print(\\\"***TEST RESULTS***: \\\\n===================================================\\\")\\n    print(\\\"Test Accuracy:\\\", accuracy_score(y_test, yhat_test))\\n    clf_report = pd.DataFrame(\\n        classification_report(y_test, yhat_test, output_dict=True)\\n    )\\n    print(\\\"Confusion matrix: \\\\n\\\", confusion_matrix(y_test, yhat_test))\\n    print(\\\"Test Accuracy Score:\\\", accuracy_score(y_test, yhat_test))\\n    print(\\\"Classification Report: \\\\n\\\", classification_report(y_test, yhat_test))\";\n",
       "                var nbb_formatted_code = \"from sklearn.metrics import confusion_matrix, accuracy_score, classification_report\\n\\n# h\\u00e0m \\u0111\\u00e1nh gi\\u00e1\\ndef evaluate(model, X_train, X_test, y_train, y_test):\\n    yhat_test = model.predict(X_test)\\n    yhat_train = model.predict(X_train)\\n\\n    print(\\\"***TRAINIG RESULTS***: \\\\n==================================================\\\")\\n    clf_report = pd.DataFrame(\\n        classification_report(y_train, yhat_train, output_dict=True)\\n    )\\n    print(\\\"Confusion matrix: \\\\n\\\", confusion_matrix(y_train, yhat_train))\\n    print(\\\"Train Accuracy Score:\\\", accuracy_score(y_train, yhat_train))\\n    print(\\\"Classification Report: \\\\n\\\", classification_report(y_train, yhat_train))\\n\\n    print(\\\"***TEST RESULTS***: \\\\n===================================================\\\")\\n    print(\\\"Test Accuracy:\\\", accuracy_score(y_test, yhat_test))\\n    clf_report = pd.DataFrame(\\n        classification_report(y_test, yhat_test, output_dict=True)\\n    )\\n    print(\\\"Confusion matrix: \\\\n\\\", confusion_matrix(y_test, yhat_test))\\n    print(\\\"Test Accuracy Score:\\\", accuracy_score(y_test, yhat_test))\\n    print(\\\"Classification Report: \\\\n\\\", classification_report(y_test, yhat_test))\";\n",
       "                var nbb_cells = Jupyter.notebook.get_cells();\n",
       "                for (var i = 0; i < nbb_cells.length; ++i) {\n",
       "                    if (nbb_cells[i].input_prompt_number == nbb_cell_id) {\n",
       "                        if (nbb_cells[i].get_text() == nbb_unformatted_code) {\n",
       "                             nbb_cells[i].set_text(nbb_formatted_code);\n",
       "                        }\n",
       "                        break;\n",
       "                    }\n",
       "                }\n",
       "            }, 500);\n",
       "            "
      ],
      "text/plain": [
       "<IPython.core.display.Javascript object>"
      ]
     },
     "metadata": {},
     "output_type": "display_data"
    }
   ],
   "source": [
    "from sklearn.metrics import confusion_matrix, accuracy_score, classification_report\n",
    "\n",
    "# hàm đánh giá\n",
    "def evaluate(model, X_train, X_test, y_train, y_test):\n",
    "    yhat_test = model.predict(X_test)\n",
    "    yhat_train = model.predict(X_train)\n",
    "\n",
    "    print(\"***TRAINIG RESULTS***: \\n==================================================\")\n",
    "    clf_report = pd.DataFrame(\n",
    "        classification_report(y_train, yhat_train, output_dict=True)\n",
    "    )\n",
    "    print(\"Confusion matrix: \\n\", confusion_matrix(y_train, yhat_train))\n",
    "    print(\"Train Accuracy Score:\", accuracy_score(y_train, yhat_train))\n",
    "    print(\"Classification Report: \\n\", classification_report(y_train, yhat_train))\n",
    "\n",
    "    print(\"***TEST RESULTS***: \\n===================================================\")\n",
    "    print(\"Test Accuracy:\", accuracy_score(y_test, yhat_test))\n",
    "    clf_report = pd.DataFrame(\n",
    "        classification_report(y_test, yhat_test, output_dict=True)\n",
    "    )\n",
    "    print(\"Confusion matrix: \\n\", confusion_matrix(y_test, yhat_test))\n",
    "    print(\"Test Accuracy Score:\", accuracy_score(y_test, yhat_test))\n",
    "    print(\"Classification Report: \\n\", classification_report(y_test, yhat_test))"
   ]
  },
  {
   "cell_type": "code",
   "execution_count": 129,
   "id": "a529c575",
   "metadata": {
    "ExecuteTime": {
     "end_time": "2022-01-29T07:56:34.128558Z",
     "start_time": "2022-01-29T07:56:34.114713Z"
    }
   },
   "outputs": [
    {
     "data": {
      "application/javascript": [
       "\n",
       "            setTimeout(function() {\n",
       "                var nbb_cell_id = 129;\n",
       "                var nbb_unformatted_code = \"# t\\u1ed5ng quan c\\u00e1c model\\nmodels = [\\n    svm.SVC(kernel=\\\"linear\\\"),\\n    LogisticRegression(),\\n    KNeighborsClassifier(\\n        n_neighbors=5\\n    ),  # k =5 ch\\u1ec9 mang t\\u00ednh ch\\u1ea5t ng\\u1eabu nhi\\u00ean, \\u0111\\u01a1n gi\\u1ea3n \\u1edf \\u0111\\u00e2y ch\\u1ec9 x\\u00e9t th\\u1eed score c\\u1ee7a c\\u00e1c thu\\u1eadt to\\u00e1n\\n    DecisionTreeClassifier(),\\n    RandomForestClassifier(n_estimators=150),\\n]\";\n",
       "                var nbb_formatted_code = \"# t\\u1ed5ng quan c\\u00e1c model\\nmodels = [\\n    svm.SVC(kernel=\\\"linear\\\"),\\n    LogisticRegression(),\\n    KNeighborsClassifier(\\n        n_neighbors=5\\n    ),  # k =5 ch\\u1ec9 mang t\\u00ednh ch\\u1ea5t ng\\u1eabu nhi\\u00ean, \\u0111\\u01a1n gi\\u1ea3n \\u1edf \\u0111\\u00e2y ch\\u1ec9 x\\u00e9t th\\u1eed score c\\u1ee7a c\\u00e1c thu\\u1eadt to\\u00e1n\\n    DecisionTreeClassifier(),\\n    RandomForestClassifier(n_estimators=150),\\n]\";\n",
       "                var nbb_cells = Jupyter.notebook.get_cells();\n",
       "                for (var i = 0; i < nbb_cells.length; ++i) {\n",
       "                    if (nbb_cells[i].input_prompt_number == nbb_cell_id) {\n",
       "                        if (nbb_cells[i].get_text() == nbb_unformatted_code) {\n",
       "                             nbb_cells[i].set_text(nbb_formatted_code);\n",
       "                        }\n",
       "                        break;\n",
       "                    }\n",
       "                }\n",
       "            }, 500);\n",
       "            "
      ],
      "text/plain": [
       "<IPython.core.display.Javascript object>"
      ]
     },
     "metadata": {},
     "output_type": "display_data"
    }
   ],
   "source": [
    "# tổng quan các model\n",
    "models = [\n",
    "    svm.SVC(kernel=\"linear\"),\n",
    "    LogisticRegression(),\n",
    "    KNeighborsClassifier(\n",
    "        n_neighbors=5\n",
    "    ),  # k =5 chỉ mang tính chất ngẫu nhiên, đơn giản ở đây chỉ xét thử score của các thuật toán\n",
    "    DecisionTreeClassifier(),\n",
    "    RandomForestClassifier(n_estimators=150),\n",
    "]\n",
    "\n",
    "\n"
   ]
  },
  {
   "cell_type": "code",
   "execution_count": 130,
   "id": "ba9ffdfa",
   "metadata": {
    "ExecuteTime": {
     "end_time": "2022-01-29T07:56:34.485287Z",
     "start_time": "2022-01-29T07:56:34.455334Z"
    }
   },
   "outputs": [
    {
     "data": {
      "application/javascript": [
       "\n",
       "            setTimeout(function() {\n",
       "                var nbb_cell_id = 130;\n",
       "                var nbb_unformatted_code = \"def select_best_model(models, CV, X_train, X_test, y_train, y_test):\\n    cv_df = pd.DataFrame(index=range(CV * len(models)))\\n    cv_entries = []\\n\\n    for model in models:\\n        start = time.time()\\n        model_name = model.__class__.__name__\\n        model1 = model.fit(X_train, y_train)\\n        y_pred = model1.predict(X_test)\\n        accuracies = accuracy_score(y_test, y_pred)\\n        end = time.time()\\n        cv_entries.append([model_name, accuracies.mean(), abs(end - start)])\\n\\n    return pd.DataFrame(cv_entries, columns=[\\\"model_name\\\", \\\"accuracy\\\", \\\"run_time\\\"])\";\n",
       "                var nbb_formatted_code = \"def select_best_model(models, CV, X_train, X_test, y_train, y_test):\\n    cv_df = pd.DataFrame(index=range(CV * len(models)))\\n    cv_entries = []\\n\\n    for model in models:\\n        start = time.time()\\n        model_name = model.__class__.__name__\\n        model1 = model.fit(X_train, y_train)\\n        y_pred = model1.predict(X_test)\\n        accuracies = accuracy_score(y_test, y_pred)\\n        end = time.time()\\n        cv_entries.append([model_name, accuracies.mean(), abs(end - start)])\\n\\n    return pd.DataFrame(cv_entries, columns=[\\\"model_name\\\", \\\"accuracy\\\", \\\"run_time\\\"])\";\n",
       "                var nbb_cells = Jupyter.notebook.get_cells();\n",
       "                for (var i = 0; i < nbb_cells.length; ++i) {\n",
       "                    if (nbb_cells[i].input_prompt_number == nbb_cell_id) {\n",
       "                        if (nbb_cells[i].get_text() == nbb_unformatted_code) {\n",
       "                             nbb_cells[i].set_text(nbb_formatted_code);\n",
       "                        }\n",
       "                        break;\n",
       "                    }\n",
       "                }\n",
       "            }, 500);\n",
       "            "
      ],
      "text/plain": [
       "<IPython.core.display.Javascript object>"
      ]
     },
     "metadata": {},
     "output_type": "display_data"
    }
   ],
   "source": [
    "def select_best_model(models, CV, X_train, X_test, y_train, y_test):\n",
    "    cv_df = pd.DataFrame(index=range(CV * len(models)))\n",
    "    cv_entries = []\n",
    "\n",
    "    for model in models:\n",
    "        start = time.time()\n",
    "        model_name = model.__class__.__name__\n",
    "        model1 = model.fit(X_train, y_train)\n",
    "        y_pred = model1.predict(X_test)\n",
    "        accuracies = accuracy_score(y_test, y_pred)\n",
    "        end = time.time()\n",
    "        cv_entries.append([model_name, accuracies.mean(), abs(end - start)])\n",
    "\n",
    "    return pd.DataFrame(cv_entries, columns=[\"model_name\", \"accuracy\", \"run_time\"])"
   ]
  },
  {
   "cell_type": "code",
   "execution_count": 131,
   "id": "02ba63ca",
   "metadata": {
    "ExecuteTime": {
     "end_time": "2022-01-29T07:56:38.040718Z",
     "start_time": "2022-01-29T07:56:34.948972Z"
    }
   },
   "outputs": [
    {
     "name": "stdout",
     "output_type": "stream",
     "text": [
      "Run Time: 3.0806143283843994\n"
     ]
    },
    {
     "data": {
      "application/javascript": [
       "\n",
       "            setTimeout(function() {\n",
       "                var nbb_cell_id = 131;\n",
       "                var nbb_unformatted_code = \"# run v\\u1edbi scaler dataset\\nstart = time.time()\\ncv_df_scaler = select_best_model(models, 50, X_train_s, X_test_s, y_train, y_test)\\nend = time.time()\\n\\nprint(\\\"Run Time:\\\", end - start)\";\n",
       "                var nbb_formatted_code = \"# run v\\u1edbi scaler dataset\\nstart = time.time()\\ncv_df_scaler = select_best_model(models, 50, X_train_s, X_test_s, y_train, y_test)\\nend = time.time()\\n\\nprint(\\\"Run Time:\\\", end - start)\";\n",
       "                var nbb_cells = Jupyter.notebook.get_cells();\n",
       "                for (var i = 0; i < nbb_cells.length; ++i) {\n",
       "                    if (nbb_cells[i].input_prompt_number == nbb_cell_id) {\n",
       "                        if (nbb_cells[i].get_text() == nbb_unformatted_code) {\n",
       "                             nbb_cells[i].set_text(nbb_formatted_code);\n",
       "                        }\n",
       "                        break;\n",
       "                    }\n",
       "                }\n",
       "            }, 500);\n",
       "            "
      ],
      "text/plain": [
       "<IPython.core.display.Javascript object>"
      ]
     },
     "metadata": {},
     "output_type": "display_data"
    }
   ],
   "source": [
    "# run với scaler dataset\n",
    "start = time.time()\n",
    "cv_df_scaler = select_best_model(models, 50, X_train_s, X_test_s, y_train, y_test)\n",
    "end = time.time()\n",
    "\n",
    "print(\"Run Time:\", end - start)"
   ]
  },
  {
   "cell_type": "code",
   "execution_count": 132,
   "id": "26526954",
   "metadata": {
    "ExecuteTime": {
     "end_time": "2022-01-29T07:56:38.056675Z",
     "start_time": "2022-01-29T07:56:38.042691Z"
    }
   },
   "outputs": [
    {
     "data": {
      "text/html": [
       "<div>\n",
       "<style scoped>\n",
       "    .dataframe tbody tr th:only-of-type {\n",
       "        vertical-align: middle;\n",
       "    }\n",
       "\n",
       "    .dataframe tbody tr th {\n",
       "        vertical-align: top;\n",
       "    }\n",
       "\n",
       "    .dataframe thead th {\n",
       "        text-align: right;\n",
       "    }\n",
       "</style>\n",
       "<table border=\"1\" class=\"dataframe\">\n",
       "  <thead>\n",
       "    <tr style=\"text-align: right;\">\n",
       "      <th></th>\n",
       "      <th>model_name</th>\n",
       "      <th>accuracy</th>\n",
       "      <th>run_time</th>\n",
       "    </tr>\n",
       "  </thead>\n",
       "  <tbody>\n",
       "    <tr>\n",
       "      <th>0</th>\n",
       "      <td>SVC</td>\n",
       "      <td>0.909504</td>\n",
       "      <td>0.600120</td>\n",
       "    </tr>\n",
       "    <tr>\n",
       "      <th>1</th>\n",
       "      <td>LogisticRegression</td>\n",
       "      <td>0.862665</td>\n",
       "      <td>0.404648</td>\n",
       "    </tr>\n",
       "    <tr>\n",
       "      <th>2</th>\n",
       "      <td>KNeighborsClassifier</td>\n",
       "      <td>0.958618</td>\n",
       "      <td>0.356704</td>\n",
       "    </tr>\n",
       "    <tr>\n",
       "      <th>3</th>\n",
       "      <td>DecisionTreeClassifier</td>\n",
       "      <td>0.897681</td>\n",
       "      <td>0.054979</td>\n",
       "    </tr>\n",
       "    <tr>\n",
       "      <th>4</th>\n",
       "      <td>RandomForestClassifier</td>\n",
       "      <td>0.978627</td>\n",
       "      <td>1.657844</td>\n",
       "    </tr>\n",
       "  </tbody>\n",
       "</table>\n",
       "</div>"
      ],
      "text/plain": [
       "               model_name  accuracy  run_time\n",
       "0                     SVC  0.909504  0.600120\n",
       "1      LogisticRegression  0.862665  0.404648\n",
       "2    KNeighborsClassifier  0.958618  0.356704\n",
       "3  DecisionTreeClassifier  0.897681  0.054979\n",
       "4  RandomForestClassifier  0.978627  1.657844"
      ]
     },
     "execution_count": 132,
     "metadata": {},
     "output_type": "execute_result"
    },
    {
     "data": {
      "application/javascript": [
       "\n",
       "            setTimeout(function() {\n",
       "                var nbb_cell_id = 132;\n",
       "                var nbb_unformatted_code = \"cv_df_scaler\";\n",
       "                var nbb_formatted_code = \"cv_df_scaler\";\n",
       "                var nbb_cells = Jupyter.notebook.get_cells();\n",
       "                for (var i = 0; i < nbb_cells.length; ++i) {\n",
       "                    if (nbb_cells[i].input_prompt_number == nbb_cell_id) {\n",
       "                        if (nbb_cells[i].get_text() == nbb_unformatted_code) {\n",
       "                             nbb_cells[i].set_text(nbb_formatted_code);\n",
       "                        }\n",
       "                        break;\n",
       "                    }\n",
       "                }\n",
       "            }, 500);\n",
       "            "
      ],
      "text/plain": [
       "<IPython.core.display.Javascript object>"
      ]
     },
     "metadata": {},
     "output_type": "display_data"
    }
   ],
   "source": [
    "cv_df_scaler"
   ]
  },
  {
   "cell_type": "code",
   "execution_count": 127,
   "id": "2f8f690e",
   "metadata": {
    "ExecuteTime": {
     "end_time": "2022-01-29T07:56:22.394492Z",
     "start_time": "2022-01-29T07:56:22.385495Z"
    }
   },
   "outputs": [
    {
     "data": {
      "application/javascript": [
       "\n",
       "            setTimeout(function() {\n",
       "                var nbb_cell_id = 127;\n",
       "                var nbb_unformatted_code = \"# # run v\\u1edbi original dataset\\n# start = time.time()\\n# cv_df_scaler = select_best_model(models, 50, X_train_o, X_test_o, y_train, y_test)\\n# end = time.time()\\n\\n# print(\\\"Run Time:\\\", end - start)\";\n",
       "                var nbb_formatted_code = \"# # run v\\u1edbi original dataset\\n# start = time.time()\\n# cv_df_scaler = select_best_model(models, 50, X_train_o, X_test_o, y_train, y_test)\\n# end = time.time()\\n\\n# print(\\\"Run Time:\\\", end - start)\";\n",
       "                var nbb_cells = Jupyter.notebook.get_cells();\n",
       "                for (var i = 0; i < nbb_cells.length; ++i) {\n",
       "                    if (nbb_cells[i].input_prompt_number == nbb_cell_id) {\n",
       "                        if (nbb_cells[i].get_text() == nbb_unformatted_code) {\n",
       "                             nbb_cells[i].set_text(nbb_formatted_code);\n",
       "                        }\n",
       "                        break;\n",
       "                    }\n",
       "                }\n",
       "            }, 500);\n",
       "            "
      ],
      "text/plain": [
       "<IPython.core.display.Javascript object>"
      ]
     },
     "metadata": {},
     "output_type": "display_data"
    }
   ],
   "source": [
    "# # run với original dataset\n",
    "# start = time.time()\n",
    "# cv_df_scaler = select_best_model(models, 50, X_train_o, X_test_o, y_train, y_test)\n",
    "# end = time.time()\n",
    "\n",
    "# print(\"Run Time:\", end - start)"
   ]
  },
  {
   "cell_type": "code",
   "execution_count": 126,
   "id": "0edda6c2",
   "metadata": {
    "ExecuteTime": {
     "end_time": "2022-01-29T07:56:20.465560Z",
     "start_time": "2022-01-29T07:56:20.456584Z"
    }
   },
   "outputs": [
    {
     "data": {
      "application/javascript": [
       "\n",
       "            setTimeout(function() {\n",
       "                var nbb_cell_id = 126;\n",
       "                var nbb_unformatted_code = \"# cv_df_scaler\";\n",
       "                var nbb_formatted_code = \"# cv_df_scaler\";\n",
       "                var nbb_cells = Jupyter.notebook.get_cells();\n",
       "                for (var i = 0; i < nbb_cells.length; ++i) {\n",
       "                    if (nbb_cells[i].input_prompt_number == nbb_cell_id) {\n",
       "                        if (nbb_cells[i].get_text() == nbb_unformatted_code) {\n",
       "                             nbb_cells[i].set_text(nbb_formatted_code);\n",
       "                        }\n",
       "                        break;\n",
       "                    }\n",
       "                }\n",
       "            }, 500);\n",
       "            "
      ],
      "text/plain": [
       "<IPython.core.display.Javascript object>"
      ]
     },
     "metadata": {},
     "output_type": "display_data"
    }
   ],
   "source": [
    "# cv_df_scaler"
   ]
  },
  {
   "cell_type": "code",
   "execution_count": 71,
   "id": "8d287147",
   "metadata": {
    "ExecuteTime": {
     "end_time": "2022-01-28T14:00:58.820440Z",
     "start_time": "2022-01-28T14:00:58.811435Z"
    }
   },
   "outputs": [
    {
     "data": {
      "text/plain": [
       "'\\nNhìn tổng quan, các thuật toán đều cho score cao. \\nCác thuật toán có thể nâng cao score bằng các cách như tunning parameters, ada boots, ...\\n\\nCó thể chọn Decision Tree - thuật toán cho score cao và runtime ngắn\\n\\nỞ đây, em chọn RandomForestClassifier vì nó cho điểm cao nhất \\n\\n'"
      ]
     },
     "execution_count": 71,
     "metadata": {},
     "output_type": "execute_result"
    },
    {
     "data": {
      "application/javascript": [
       "\n",
       "            setTimeout(function() {\n",
       "                var nbb_cell_id = 71;\n",
       "                var nbb_unformatted_code = \"\\\"\\\"\\\"\\nNh\\u00ecn t\\u1ed5ng quan, c\\u00e1c thu\\u1eadt to\\u00e1n \\u0111\\u1ec1u cho score cao. \\nC\\u00e1c thu\\u1eadt to\\u00e1n c\\u00f3 th\\u1ec3 n\\u00e2ng cao score b\\u1eb1ng c\\u00e1c c\\u00e1ch nh\\u01b0 tunning parameters, ada boots, ...\\n\\nC\\u00f3 th\\u1ec3 ch\\u1ecdn Decision Tree - thu\\u1eadt to\\u00e1n cho score cao v\\u00e0 runtime ng\\u1eafn\\n\\n\\u1ede \\u0111\\u00e2y, em ch\\u1ecdn RandomForestClassifier v\\u00ec n\\u00f3 cho \\u0111i\\u1ec3m cao nh\\u1ea5t \\n\\n\\\"\\\"\\\"\";\n",
       "                var nbb_formatted_code = \"\\\"\\\"\\\"\\nNh\\u00ecn t\\u1ed5ng quan, c\\u00e1c thu\\u1eadt to\\u00e1n \\u0111\\u1ec1u cho score cao. \\nC\\u00e1c thu\\u1eadt to\\u00e1n c\\u00f3 th\\u1ec3 n\\u00e2ng cao score b\\u1eb1ng c\\u00e1c c\\u00e1ch nh\\u01b0 tunning parameters, ada boots, ...\\n\\nC\\u00f3 th\\u1ec3 ch\\u1ecdn Decision Tree - thu\\u1eadt to\\u00e1n cho score cao v\\u00e0 runtime ng\\u1eafn\\n\\n\\u1ede \\u0111\\u00e2y, em ch\\u1ecdn RandomForestClassifier v\\u00ec n\\u00f3 cho \\u0111i\\u1ec3m cao nh\\u1ea5t \\n\\n\\\"\\\"\\\"\";\n",
       "                var nbb_cells = Jupyter.notebook.get_cells();\n",
       "                for (var i = 0; i < nbb_cells.length; ++i) {\n",
       "                    if (nbb_cells[i].input_prompt_number == nbb_cell_id) {\n",
       "                        if (nbb_cells[i].get_text() == nbb_unformatted_code) {\n",
       "                             nbb_cells[i].set_text(nbb_formatted_code);\n",
       "                        }\n",
       "                        break;\n",
       "                    }\n",
       "                }\n",
       "            }, 500);\n",
       "            "
      ],
      "text/plain": [
       "<IPython.core.display.Javascript object>"
      ]
     },
     "metadata": {},
     "output_type": "display_data"
    }
   ],
   "source": [
    "\"\"\"\n",
    "Nhìn tổng quan, các thuật toán đều cho score cao. \n",
    "Các thuật toán có thể nâng cao score bằng các cách như tunning parameters, ada boots, ...\n",
    "\n",
    "Có thể chọn Decision Tree - thuật toán cho score cao và runtime ngắn\n",
    "\n",
    "Ở đây, em chọn RandomForestClassifier vì nó cho điểm cao nhất \n",
    "\n",
    "\"\"\""
   ]
  },
  {
   "cell_type": "code",
   "execution_count": 21,
   "id": "15365cf1",
   "metadata": {
    "ExecuteTime": {
     "end_time": "2022-01-29T06:24:28.731778Z",
     "start_time": "2022-01-29T06:22:28.761500Z"
    }
   },
   "outputs": [
    {
     "name": "stdout",
     "output_type": "stream",
     "text": [
      "{'max_depth': 35, 'n_estimators': 130}\n",
      "run time:  119.94831824302673\n"
     ]
    },
    {
     "data": {
      "application/javascript": [
       "\n",
       "            setTimeout(function() {\n",
       "                var nbb_cell_id = 21;\n",
       "                var nbb_unformatted_code = \"param_grid = {\\n    \\\"n_estimators\\\": [130, 150, 160, 170],\\n    \\\"max_depth\\\": [25, 30, 35, 40],\\n}\\nstart = time.time()\\nrf_model = GridSearchCV(RandomForestClassifier(), param_grid, cv=5)\\nrf_model.fit(X_train_s, y_train_s)\\nprint(rf_model.best_params_)\\nend = time.time()\\nprint(\\\"run time: \\\", end - start)\";\n",
       "                var nbb_formatted_code = \"param_grid = {\\n    \\\"n_estimators\\\": [130, 150, 160, 170],\\n    \\\"max_depth\\\": [25, 30, 35, 40],\\n}\\nstart = time.time()\\nrf_model = GridSearchCV(RandomForestClassifier(), param_grid, cv=5)\\nrf_model.fit(X_train_s, y_train_s)\\nprint(rf_model.best_params_)\\nend = time.time()\\nprint(\\\"run time: \\\", end - start)\";\n",
       "                var nbb_cells = Jupyter.notebook.get_cells();\n",
       "                for (var i = 0; i < nbb_cells.length; ++i) {\n",
       "                    if (nbb_cells[i].input_prompt_number == nbb_cell_id) {\n",
       "                        if (nbb_cells[i].get_text() == nbb_unformatted_code) {\n",
       "                             nbb_cells[i].set_text(nbb_formatted_code);\n",
       "                        }\n",
       "                        break;\n",
       "                    }\n",
       "                }\n",
       "            }, 500);\n",
       "            "
      ],
      "text/plain": [
       "<IPython.core.display.Javascript object>"
      ]
     },
     "metadata": {},
     "output_type": "display_data"
    }
   ],
   "source": [
    "# param_grid = {\n",
    "#     \"n_estimators\": [130, 150, 160, 170],\n",
    "#     \"max_depth\": [25, 30, 35, 40],\n",
    "# }\n",
    "# start = time.time()\n",
    "# rf_model = GridSearchCV(RandomForestClassifier(), param_grid, cv=5)\n",
    "# rf_model.fit(X_train_s, y_train)\n",
    "# print(rf_model.best_params_)\n",
    "# end = time.time()\n",
    "# print(\"run time: \", end - start)"
   ]
  },
  {
   "cell_type": "code",
   "execution_count": 28,
   "id": "b9e1d01a",
   "metadata": {
    "ExecuteTime": {
     "end_time": "2022-01-28T15:01:24.201985Z",
     "start_time": "2022-01-28T15:01:24.183018Z"
    }
   },
   "outputs": [
    {
     "data": {
      "text/plain": [
       "\"\\n=> 'n_estimators': 100, 'max_features': 'log2'\\n\""
      ]
     },
     "execution_count": 28,
     "metadata": {},
     "output_type": "execute_result"
    },
    {
     "data": {
      "application/javascript": [
       "\n",
       "            setTimeout(function() {\n",
       "                var nbb_cell_id = 28;\n",
       "                var nbb_unformatted_code = \"'''\\n=> 'n_estimators': 100, 'max_features': 'log2'\\n'''\";\n",
       "                var nbb_formatted_code = \"\\\"\\\"\\\"\\n=> 'n_estimators': 100, 'max_features': 'log2'\\n\\\"\\\"\\\"\";\n",
       "                var nbb_cells = Jupyter.notebook.get_cells();\n",
       "                for (var i = 0; i < nbb_cells.length; ++i) {\n",
       "                    if (nbb_cells[i].input_prompt_number == nbb_cell_id) {\n",
       "                        if (nbb_cells[i].get_text() == nbb_unformatted_code) {\n",
       "                             nbb_cells[i].set_text(nbb_formatted_code);\n",
       "                        }\n",
       "                        break;\n",
       "                    }\n",
       "                }\n",
       "            }, 500);\n",
       "            "
      ],
      "text/plain": [
       "<IPython.core.display.Javascript object>"
      ]
     },
     "metadata": {},
     "output_type": "display_data"
    }
   ],
   "source": [
    "\"\"\"\n",
    "=> 'n_estimators': 130, 'max_features': 'sqrt', 'max_depth': 35, 'bootstrap': False\n",
    "\"\"\""
   ]
  },
  {
   "cell_type": "code",
   "execution_count": 217,
   "id": "510dbb74",
   "metadata": {
    "ExecuteTime": {
     "end_time": "2022-01-29T08:39:10.259131Z",
     "start_time": "2022-01-29T08:39:09.112007Z"
    }
   },
   "outputs": [
    {
     "name": "stdout",
     "output_type": "stream",
     "text": [
      "run time:  1.1257808208465576\n"
     ]
    },
    {
     "data": {
      "application/javascript": [
       "\n",
       "            setTimeout(function() {\n",
       "                var nbb_cell_id = 217;\n",
       "                var nbb_unformatted_code = \"start = time.time()\\ns_rf_model = RandomForestClassifier().fit(X_train_s, y_train)\\nend = time.time()\\nprint(\\\"run time: \\\", end - start)\";\n",
       "                var nbb_formatted_code = \"start = time.time()\\ns_rf_model = RandomForestClassifier().fit(X_train_s, y_train)\\nend = time.time()\\nprint(\\\"run time: \\\", end - start)\";\n",
       "                var nbb_cells = Jupyter.notebook.get_cells();\n",
       "                for (var i = 0; i < nbb_cells.length; ++i) {\n",
       "                    if (nbb_cells[i].input_prompt_number == nbb_cell_id) {\n",
       "                        if (nbb_cells[i].get_text() == nbb_unformatted_code) {\n",
       "                             nbb_cells[i].set_text(nbb_formatted_code);\n",
       "                        }\n",
       "                        break;\n",
       "                    }\n",
       "                }\n",
       "            }, 500);\n",
       "            "
      ],
      "text/plain": [
       "<IPython.core.display.Javascript object>"
      ]
     },
     "metadata": {},
     "output_type": "display_data"
    }
   ],
   "source": [
    "start = time.time()\n",
    "s_rf_model = RandomForestClassifier().fit(X_train_s, y_train)\n",
    "end = time.time()\n",
    "print(\"run time: \", end - start)"
   ]
  },
  {
   "cell_type": "code",
   "execution_count": 218,
   "id": "b24fe0d2",
   "metadata": {
    "ExecuteTime": {
     "end_time": "2022-01-29T08:39:10.336790Z",
     "start_time": "2022-01-29T08:39:10.262125Z"
    }
   },
   "outputs": [
    {
     "data": {
      "text/plain": [
       "array([3, 1, 2, ..., 4, 4, 5], dtype=int64)"
      ]
     },
     "execution_count": 218,
     "metadata": {},
     "output_type": "execute_result"
    },
    {
     "data": {
      "application/javascript": [
       "\n",
       "            setTimeout(function() {\n",
       "                var nbb_cell_id = 218;\n",
       "                var nbb_unformatted_code = \"s_rf_model.predict(X_test_s)\";\n",
       "                var nbb_formatted_code = \"s_rf_model.predict(X_test_s)\";\n",
       "                var nbb_cells = Jupyter.notebook.get_cells();\n",
       "                for (var i = 0; i < nbb_cells.length; ++i) {\n",
       "                    if (nbb_cells[i].input_prompt_number == nbb_cell_id) {\n",
       "                        if (nbb_cells[i].get_text() == nbb_unformatted_code) {\n",
       "                             nbb_cells[i].set_text(nbb_formatted_code);\n",
       "                        }\n",
       "                        break;\n",
       "                    }\n",
       "                }\n",
       "            }, 500);\n",
       "            "
      ],
      "text/plain": [
       "<IPython.core.display.Javascript object>"
      ]
     },
     "metadata": {},
     "output_type": "display_data"
    }
   ],
   "source": [
    "s_rf_model.predict(X_test_s)"
   ]
  },
  {
   "cell_type": "code",
   "execution_count": 219,
   "id": "1fcb4b8b",
   "metadata": {
    "ExecuteTime": {
     "end_time": "2022-01-29T08:39:28.514541Z",
     "start_time": "2022-01-29T08:39:28.278959Z"
    }
   },
   "outputs": [
    {
     "name": "stdout",
     "output_type": "stream",
     "text": [
      "***TRAINIG RESULTS***: \n",
      "==================================================\n",
      "Confusion matrix: \n",
      " [[924   0   0   0   0   0   0   0   0   0]\n",
      " [  0 904   0   0   0   0   0   0   0   0]\n",
      " [  0   0 915   0   0   0   0   0   0   0]\n",
      " [  0   0   0 841   0   0   0   0   0   0]\n",
      " [  0   0   0   0 917   0   0   0   0   0]\n",
      " [  0   0   0   0   0 825   0   0   0   0]\n",
      " [  0   0   0   0   0   0 853   0   0   0]\n",
      " [  0   0   0   0   0   0   0 908   0   0]\n",
      " [  0   0   0   0   0   0   0   0 853   0]\n",
      " [  0   0   0   0   0   0   0   0   0 853]]\n",
      "Train Accuracy Score: 1.0\n",
      "Classification Report: \n",
      "               precision    recall  f1-score   support\n",
      "\n",
      "           0       1.00      1.00      1.00       924\n",
      "           1       1.00      1.00      1.00       904\n",
      "           2       1.00      1.00      1.00       915\n",
      "           3       1.00      1.00      1.00       841\n",
      "           4       1.00      1.00      1.00       917\n",
      "           5       1.00      1.00      1.00       825\n",
      "           6       1.00      1.00      1.00       853\n",
      "           7       1.00      1.00      1.00       908\n",
      "           8       1.00      1.00      1.00       853\n",
      "           9       1.00      1.00      1.00       853\n",
      "\n",
      "    accuracy                           1.00      8793\n",
      "   macro avg       1.00      1.00      1.00      8793\n",
      "weighted avg       1.00      1.00      1.00      8793\n",
      "\n",
      "***TEST RESULTS***: \n",
      "===================================================\n",
      "Test Accuracy: 0.9758981355161437\n",
      "Confusion matrix: \n",
      " [[217   0   0   0   0   0   0   0   2   0]\n",
      " [  0 223  12   1   1   0   0   0   0   2]\n",
      " [  0   4 222   1   0   0   0   2   0   0]\n",
      " [  0   1   0 213   0   0   0   0   0   0]\n",
      " [  0   0   0   0 226   0   1   0   0   0]\n",
      " [  0   0   0   3   0 223   0   0   0   4]\n",
      " [  1   0   0   0   0   0 202   0   0   0]\n",
      " [  0   3   1   1   1   1   0 226   1   0]\n",
      " [  3   0   0   0   0   1   0   1 197   0]\n",
      " [  0   0   0   1   2   0   0   0   2 197]]\n",
      "Test Accuracy Score: 0.9758981355161437\n",
      "Classification Report: \n",
      "               precision    recall  f1-score   support\n",
      "\n",
      "           0       0.98      0.99      0.99       219\n",
      "           1       0.97      0.93      0.95       239\n",
      "           2       0.94      0.97      0.96       229\n",
      "           3       0.97      1.00      0.98       214\n",
      "           4       0.98      1.00      0.99       227\n",
      "           5       0.99      0.97      0.98       230\n",
      "           6       1.00      1.00      1.00       203\n",
      "           7       0.99      0.97      0.98       234\n",
      "           8       0.98      0.98      0.98       202\n",
      "           9       0.97      0.98      0.97       202\n",
      "\n",
      "    accuracy                           0.98      2199\n",
      "   macro avg       0.98      0.98      0.98      2199\n",
      "weighted avg       0.98      0.98      0.98      2199\n",
      "\n"
     ]
    },
    {
     "data": {
      "application/javascript": [
       "\n",
       "            setTimeout(function() {\n",
       "                var nbb_cell_id = 219;\n",
       "                var nbb_unformatted_code = \"evaluate(s_rf_model, X_train_s, X_test_s, y_train_s, y_test_s)\";\n",
       "                var nbb_formatted_code = \"evaluate(s_rf_model, X_train_s, X_test_s, y_train_s, y_test_s)\";\n",
       "                var nbb_cells = Jupyter.notebook.get_cells();\n",
       "                for (var i = 0; i < nbb_cells.length; ++i) {\n",
       "                    if (nbb_cells[i].input_prompt_number == nbb_cell_id) {\n",
       "                        if (nbb_cells[i].get_text() == nbb_unformatted_code) {\n",
       "                             nbb_cells[i].set_text(nbb_formatted_code);\n",
       "                        }\n",
       "                        break;\n",
       "                    }\n",
       "                }\n",
       "            }, 500);\n",
       "            "
      ],
      "text/plain": [
       "<IPython.core.display.Javascript object>"
      ]
     },
     "metadata": {},
     "output_type": "display_data"
    }
   ],
   "source": [
    "evaluate(s_rf_model, X_train_s, X_test_s, y_train_s, y_test_s)"
   ]
  },
  {
   "cell_type": "code",
   "execution_count": 238,
   "id": "690423ac",
   "metadata": {
    "ExecuteTime": {
     "end_time": "2022-01-29T08:58:17.379008Z",
     "start_time": "2022-01-29T08:58:17.361021Z"
    }
   },
   "outputs": [
    {
     "data": {
      "text/plain": [
       "'\\nNhận xét chung: \\nmodel cho train và test score cao,\\ncác giá trị precision, recall và f1-score đều cao\\n=> mô hình phù hợp với dataset và khả dụng\\n'"
      ]
     },
     "execution_count": 238,
     "metadata": {},
     "output_type": "execute_result"
    },
    {
     "data": {
      "application/javascript": [
       "\n",
       "            setTimeout(function() {\n",
       "                var nbb_cell_id = 238;\n",
       "                var nbb_unformatted_code = \"'''\\nNh\\u1eadn x\\u00e9t chung: \\nmodel cho train v\\u00e0 test score cao,\\nc\\u00e1c gi\\u00e1 tr\\u1ecb precision, recall v\\u00e0 f1-score \\u0111\\u1ec1u cao\\n=> m\\u00f4 h\\u00ecnh ph\\u00f9 h\\u1ee3p v\\u1edbi dataset v\\u00e0 kh\\u1ea3 d\\u1ee5ng\\n'''\";\n",
       "                var nbb_formatted_code = \"\\\"\\\"\\\"\\nNh\\u1eadn x\\u00e9t chung: \\nmodel cho train v\\u00e0 test score cao,\\nc\\u00e1c gi\\u00e1 tr\\u1ecb precision, recall v\\u00e0 f1-score \\u0111\\u1ec1u cao\\n=> m\\u00f4 h\\u00ecnh ph\\u00f9 h\\u1ee3p v\\u1edbi dataset v\\u00e0 kh\\u1ea3 d\\u1ee5ng\\n\\\"\\\"\\\"\";\n",
       "                var nbb_cells = Jupyter.notebook.get_cells();\n",
       "                for (var i = 0; i < nbb_cells.length; ++i) {\n",
       "                    if (nbb_cells[i].input_prompt_number == nbb_cell_id) {\n",
       "                        if (nbb_cells[i].get_text() == nbb_unformatted_code) {\n",
       "                             nbb_cells[i].set_text(nbb_formatted_code);\n",
       "                        }\n",
       "                        break;\n",
       "                    }\n",
       "                }\n",
       "            }, 500);\n",
       "            "
      ],
      "text/plain": [
       "<IPython.core.display.Javascript object>"
      ]
     },
     "metadata": {},
     "output_type": "display_data"
    }
   ],
   "source": [
    "\"\"\"\n",
    "Nhận xét chung: \n",
    "model cho train và test score cao,\n",
    "các giá trị precision, recall và f1-score đều cao\n",
    "=> mô hình phù hợp với dataset và khả dụng\n",
    "\"\"\""
   ]
  },
  {
   "cell_type": "markdown",
   "id": "c6f80cc6",
   "metadata": {},
   "source": [
    "### Áp dụng PCA"
   ]
  },
  {
   "cell_type": "code",
   "execution_count": 230,
   "id": "ec8786cf",
   "metadata": {
    "ExecuteTime": {
     "end_time": "2022-01-29T08:40:39.693850Z",
     "start_time": "2022-01-29T08:40:39.667952Z"
    }
   },
   "outputs": [
    {
     "data": {
      "application/javascript": [
       "\n",
       "            setTimeout(function() {\n",
       "                var nbb_cell_id = 230;\n",
       "                var nbb_unformatted_code = \"# pca_o = PCA(n_components=data_o.shape[1]).fit(data_o)\\n#pca_s = PCA(n_components=0.95).fit(X_scaler)\\n\\npca_s = PCA(n_components=0.95).fit(X_train_s)\";\n",
       "                var nbb_formatted_code = \"# pca_o = PCA(n_components=data_o.shape[1]).fit(data_o)\\n# pca_s = PCA(n_components=0.95).fit(X_scaler)\\n\\npca_s = PCA(n_components=0.95).fit(X_train_s)\";\n",
       "                var nbb_cells = Jupyter.notebook.get_cells();\n",
       "                for (var i = 0; i < nbb_cells.length; ++i) {\n",
       "                    if (nbb_cells[i].input_prompt_number == nbb_cell_id) {\n",
       "                        if (nbb_cells[i].get_text() == nbb_unformatted_code) {\n",
       "                             nbb_cells[i].set_text(nbb_formatted_code);\n",
       "                        }\n",
       "                        break;\n",
       "                    }\n",
       "                }\n",
       "            }, 500);\n",
       "            "
      ],
      "text/plain": [
       "<IPython.core.display.Javascript object>"
      ]
     },
     "metadata": {},
     "output_type": "display_data"
    }
   ],
   "source": [
    "# pca_o = PCA(n_components=data_o.shape[1]).fit(data_o)\n",
    "#pca_s = PCA(n_components=0.95).fit(X_scaler)\n",
    "\n",
    "pca_s = PCA(n_components=0.95).fit(X_train_s)\n"
   ]
  },
  {
   "cell_type": "code",
   "execution_count": 231,
   "id": "60269de7",
   "metadata": {
    "ExecuteTime": {
     "end_time": "2022-01-29T08:40:40.653162Z",
     "start_time": "2022-01-29T08:40:40.640232Z"
    }
   },
   "outputs": [
    {
     "data": {
      "text/plain": [
       "11"
      ]
     },
     "execution_count": 231,
     "metadata": {},
     "output_type": "execute_result"
    },
    {
     "data": {
      "application/javascript": [
       "\n",
       "            setTimeout(function() {\n",
       "                var nbb_cell_id = 231;\n",
       "                var nbb_unformatted_code = \"pca_s.n_components_\";\n",
       "                var nbb_formatted_code = \"pca_s.n_components_\";\n",
       "                var nbb_cells = Jupyter.notebook.get_cells();\n",
       "                for (var i = 0; i < nbb_cells.length; ++i) {\n",
       "                    if (nbb_cells[i].input_prompt_number == nbb_cell_id) {\n",
       "                        if (nbb_cells[i].get_text() == nbb_unformatted_code) {\n",
       "                             nbb_cells[i].set_text(nbb_formatted_code);\n",
       "                        }\n",
       "                        break;\n",
       "                    }\n",
       "                }\n",
       "            }, 500);\n",
       "            "
      ],
      "text/plain": [
       "<IPython.core.display.Javascript object>"
      ]
     },
     "metadata": {},
     "output_type": "display_data"
    }
   ],
   "source": [
    "pca_s.n_components_"
   ]
  },
  {
   "cell_type": "code",
   "execution_count": 232,
   "id": "de6eb3b4",
   "metadata": {
    "ExecuteTime": {
     "end_time": "2022-01-29T08:40:53.792433Z",
     "start_time": "2022-01-29T08:40:53.775478Z"
    }
   },
   "outputs": [
    {
     "data": {
      "application/javascript": [
       "\n",
       "            setTimeout(function() {\n",
       "                var nbb_cell_id = 232;\n",
       "                var nbb_unformatted_code = \"X_train_pca = pca_s.transform(X_train_s)\\nX_test_pca = pca_s.transform(X_test_s)\";\n",
       "                var nbb_formatted_code = \"X_train_pca = pca_s.transform(X_train_s)\\nX_test_pca = pca_s.transform(X_test_s)\";\n",
       "                var nbb_cells = Jupyter.notebook.get_cells();\n",
       "                for (var i = 0; i < nbb_cells.length; ++i) {\n",
       "                    if (nbb_cells[i].input_prompt_number == nbb_cell_id) {\n",
       "                        if (nbb_cells[i].get_text() == nbb_unformatted_code) {\n",
       "                             nbb_cells[i].set_text(nbb_formatted_code);\n",
       "                        }\n",
       "                        break;\n",
       "                    }\n",
       "                }\n",
       "            }, 500);\n",
       "            "
      ],
      "text/plain": [
       "<IPython.core.display.Javascript object>"
      ]
     },
     "metadata": {},
     "output_type": "display_data"
    }
   ],
   "source": [
    "X_train_pca = pca_s.transform(X_train_s)\n",
    "X_test_pca = pca_s.transform(X_test_s)"
   ]
  },
  {
   "cell_type": "code",
   "execution_count": 235,
   "id": "8bf19001",
   "metadata": {
    "ExecuteTime": {
     "end_time": "2022-01-29T08:41:14.298207Z",
     "start_time": "2022-01-29T08:41:12.386010Z"
    }
   },
   "outputs": [
    {
     "name": "stdout",
     "output_type": "stream",
     "text": [
      "run time:  1.8905220031738281\n"
     ]
    },
    {
     "data": {
      "application/javascript": [
       "\n",
       "            setTimeout(function() {\n",
       "                var nbb_cell_id = 235;\n",
       "                var nbb_unformatted_code = \"start = time.time()\\ns_rf_model_pca = RandomForestClassifier().fit(X_train_pca, y_train)\\nend = time.time()\\nprint(\\\"run time: \\\", end - start)\";\n",
       "                var nbb_formatted_code = \"start = time.time()\\ns_rf_model_pca = RandomForestClassifier().fit(X_train_pca, y_train)\\nend = time.time()\\nprint(\\\"run time: \\\", end - start)\";\n",
       "                var nbb_cells = Jupyter.notebook.get_cells();\n",
       "                for (var i = 0; i < nbb_cells.length; ++i) {\n",
       "                    if (nbb_cells[i].input_prompt_number == nbb_cell_id) {\n",
       "                        if (nbb_cells[i].get_text() == nbb_unformatted_code) {\n",
       "                             nbb_cells[i].set_text(nbb_formatted_code);\n",
       "                        }\n",
       "                        break;\n",
       "                    }\n",
       "                }\n",
       "            }, 500);\n",
       "            "
      ],
      "text/plain": [
       "<IPython.core.display.Javascript object>"
      ]
     },
     "metadata": {},
     "output_type": "display_data"
    }
   ],
   "source": [
    "start = time.time()\n",
    "s_rf_model_pca = RandomForestClassifier().fit(X_train_pca, y_train)\n",
    "end = time.time()\n",
    "print(\"run time: \", end - start)"
   ]
  },
  {
   "cell_type": "code",
   "execution_count": 236,
   "id": "30b53d8a",
   "metadata": {
    "ExecuteTime": {
     "end_time": "2022-01-29T08:41:14.576269Z",
     "start_time": "2022-01-29T08:41:14.300051Z"
    }
   },
   "outputs": [
    {
     "name": "stdout",
     "output_type": "stream",
     "text": [
      "***TRAINIG RESULTS***: \n",
      "==================================================\n",
      "Confusion matrix: \n",
      " [[924   0   0   0   0   0   0   0   0   0]\n",
      " [  0 904   0   0   0   0   0   0   0   0]\n",
      " [  0   0 915   0   0   0   0   0   0   0]\n",
      " [  0   0   0 841   0   0   0   0   0   0]\n",
      " [  0   0   0   0 917   0   0   0   0   0]\n",
      " [  0   0   0   0   0 825   0   0   0   0]\n",
      " [  0   0   0   0   0   0 853   0   0   0]\n",
      " [  0   0   0   0   0   0   0 908   0   0]\n",
      " [  0   0   0   0   0   0   0   0 853   0]\n",
      " [  0   0   0   0   0   0   0   0   0 853]]\n",
      "Train Accuracy Score: 1.0\n",
      "Classification Report: \n",
      "               precision    recall  f1-score   support\n",
      "\n",
      "           0       1.00      1.00      1.00       924\n",
      "           1       1.00      1.00      1.00       904\n",
      "           2       1.00      1.00      1.00       915\n",
      "           3       1.00      1.00      1.00       841\n",
      "           4       1.00      1.00      1.00       917\n",
      "           5       1.00      1.00      1.00       825\n",
      "           6       1.00      1.00      1.00       853\n",
      "           7       1.00      1.00      1.00       908\n",
      "           8       1.00      1.00      1.00       853\n",
      "           9       1.00      1.00      1.00       853\n",
      "\n",
      "    accuracy                           1.00      8793\n",
      "   macro avg       1.00      1.00      1.00      8793\n",
      "weighted avg       1.00      1.00      1.00      8793\n",
      "\n",
      "***TEST RESULTS***: \n",
      "===================================================\n",
      "Test Accuracy: 0.9463392451114143\n",
      "Confusion matrix: \n",
      " [[214   0   0   0   0   0   2   0   3   0]\n",
      " [  0 214  14   3   0   0   2   2   1   3]\n",
      " [  0   9 215   1   0   0   0   4   0   0]\n",
      " [  0   2   0 208   1   1   0   0   0   2]\n",
      " [  1   0   0   1 219   1   4   0   0   1]\n",
      " [  0   1   0   4   0 215   3   0   1   6]\n",
      " [  2   0   0   0   1   0 199   1   0   0]\n",
      " [  0   5   5   1   1   1   0 219   1   1]\n",
      " [  2   0   0   1   0   1   0   0 195   3]\n",
      " [  0   6   0   5   5   1   0   1   1 183]]\n",
      "Test Accuracy Score: 0.9463392451114143\n",
      "Classification Report: \n",
      "               precision    recall  f1-score   support\n",
      "\n",
      "           0       0.98      0.98      0.98       219\n",
      "           1       0.90      0.90      0.90       239\n",
      "           2       0.92      0.94      0.93       229\n",
      "           3       0.93      0.97      0.95       214\n",
      "           4       0.96      0.96      0.96       227\n",
      "           5       0.98      0.93      0.96       230\n",
      "           6       0.95      0.98      0.96       203\n",
      "           7       0.96      0.94      0.95       234\n",
      "           8       0.97      0.97      0.97       202\n",
      "           9       0.92      0.91      0.91       202\n",
      "\n",
      "    accuracy                           0.95      2199\n",
      "   macro avg       0.95      0.95      0.95      2199\n",
      "weighted avg       0.95      0.95      0.95      2199\n",
      "\n"
     ]
    },
    {
     "data": {
      "application/javascript": [
       "\n",
       "            setTimeout(function() {\n",
       "                var nbb_cell_id = 236;\n",
       "                var nbb_unformatted_code = \"evaluate(s_rf_model_pca, X_train_s_pca, X_test_s_pca, y_train, y_test)\";\n",
       "                var nbb_formatted_code = \"evaluate(s_rf_model_pca, X_train_s_pca, X_test_s_pca, y_train, y_test)\";\n",
       "                var nbb_cells = Jupyter.notebook.get_cells();\n",
       "                for (var i = 0; i < nbb_cells.length; ++i) {\n",
       "                    if (nbb_cells[i].input_prompt_number == nbb_cell_id) {\n",
       "                        if (nbb_cells[i].get_text() == nbb_unformatted_code) {\n",
       "                             nbb_cells[i].set_text(nbb_formatted_code);\n",
       "                        }\n",
       "                        break;\n",
       "                    }\n",
       "                }\n",
       "            }, 500);\n",
       "            "
      ],
      "text/plain": [
       "<IPython.core.display.Javascript object>"
      ]
     },
     "metadata": {},
     "output_type": "display_data"
    }
   ],
   "source": [
    "evaluate(s_rf_model_pca, X_train_s_pca, X_test_s_pca, y_train, y_test)"
   ]
  },
  {
   "cell_type": "markdown",
   "id": "ddfb49e8",
   "metadata": {},
   "source": [
    "## <p style=\"color:blue\">Nhận xét</p>"
   ]
  },
  {
   "cell_type": "code",
   "execution_count": 1,
   "id": "c2d27718",
   "metadata": {
    "ExecuteTime": {
     "end_time": "2022-01-30T12:08:13.112538Z",
     "start_time": "2022-01-30T12:08:13.091596Z"
    }
   },
   "outputs": [
    {
     "data": {
      "text/plain": [
       "'\\nNhận xét: dù build model với dataset sau khi đã giảm chiều bằng PCA có score cao nhưng thời gian build model lại chậm hơn so với dataset gốc\\n=> không cần phải PCA dataset\\nNguyên nhân: có thể do dataset này còn nhỏ, số lượng features nhỏ nên việc PCA không hiệu quả.\\n\\nVới lại, vì dataset có kích thước nhỏ nên rõ ràng ta thấy thời gian chạy nhanh. Vì thế không cần phải giảm chiều dữ liệu!\\n'"
      ]
     },
     "execution_count": 1,
     "metadata": {},
     "output_type": "execute_result"
    }
   ],
   "source": [
    "\"\"\"\n",
    "Nhận xét: dù build model với dataset sau khi đã giảm chiều bằng PCA có score cao nhưng thời gian build model lại chậm hơn so với dataset gốc\n",
    "=> không cần phải PCA dataset\n",
    "Nguyên nhân: có thể do dataset này còn nhỏ, số lượng features nhỏ nên việc PCA không hiệu quả.\n",
    "\n",
    "Với lại, vì dataset có kích thước nhỏ nên rõ ràng ta thấy thời gian chạy nhanh. Vì thế không cần phải giảm chiều dữ liệu!\n",
    "\"\"\""
   ]
  },
  {
   "cell_type": "code",
   "execution_count": null,
   "id": "96688834",
   "metadata": {},
   "outputs": [],
   "source": []
  }
 ],
 "metadata": {
  "kernelspec": {
   "display_name": "Python 3 (ipykernel)",
   "language": "python",
   "name": "python3"
  },
  "language_info": {
   "codemirror_mode": {
    "name": "ipython",
    "version": 3
   },
   "file_extension": ".py",
   "mimetype": "text/x-python",
   "name": "python",
   "nbconvert_exporter": "python",
   "pygments_lexer": "ipython3",
   "version": "3.9.7"
  }
 },
 "nbformat": 4,
 "nbformat_minor": 5
}
