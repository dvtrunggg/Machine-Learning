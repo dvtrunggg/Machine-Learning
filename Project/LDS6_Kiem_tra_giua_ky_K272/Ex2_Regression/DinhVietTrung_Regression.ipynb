{
 "cells": [
  {
   "cell_type": "code",
   "execution_count": 33,
   "id": "f8767dd6",
   "metadata": {},
   "outputs": [
    {
     "name": "stdout",
     "output_type": "stream",
     "text": [
      "The nb_black extension is already loaded. To reload it, use:\n",
      "  %reload_ext nb_black\n"
     ]
    },
    {
     "data": {
      "application/javascript": "\n            setTimeout(function() {\n                var nbb_cell_id = 33;\n                var nbb_unformatted_code = \"import pandas as pd\\nimport numpy as np\\nimport seaborn as sns\\nimport matplotlib.pyplot as plt\\nimport scipy\\nimport scipy.stats\\nimport warnings\\nimport time\\n\\nfrom scipy.stats import chi2_contingency\\nfrom scipy.stats import chi2\\nfrom scipy.stats import iqr\\nfrom statsmodels.formula.api import ols\\nfrom statsmodels.stats.multicomp import pairwise_tukeyhsd\\nimport statsmodels.api as sm\\n\\nfrom sklearn.preprocessing import MinMaxScaler\\nfrom sklearn.preprocessing import RobustScaler\\nfrom scipy.stats import iqr\\nfrom sklearn.metrics import mean_squared_error, mean_absolute_error\\nfrom sklearn import preprocessing\\nfrom pandas_profiling import ProfileReport\\nfrom sklearn import svm\\nfrom sklearn.ensemble import RandomForestRegressor as rf_reg\\nfrom sklearn.model_selection import RandomizedSearchCV as randomCV\\nfrom sklearn.model_selection import train_test_split\\nfrom sklearn.metrics import mean_squared_error as MSE\\nfrom sklearn import feature_selection\\nfrom sklearn.metrics import r2_score\\nfrom sklearn.pipeline import make_pipeline\\nfrom sklearn.model_selection import cross_validate\\nfrom plotnine import *\\nfrom matplotlib import gridspec\\nfrom sklearn.preprocessing import StandardScaler\\nimport pprint\\nfrom sklearn.linear_model import LogisticRegression\\nfrom sklearn.linear_model import LinearRegression\\nfrom sklearn.ensemble import RandomForestRegressor\\nfrom sklearn.tree import DecisionTreeRegressor\\nfrom sklearn.model_selection import GridSearchCV\\nfrom sklearn.model_selection import RandomizedSearchCV\\nfrom sklearn.neighbors import KNeighborsRegressor\\n\\n%load_ext nb_black\\n%matplotlib inline\\nwarnings.filterwarnings(\\\"ignore\\\")\";\n                var nbb_formatted_code = \"import pandas as pd\\nimport numpy as np\\nimport seaborn as sns\\nimport matplotlib.pyplot as plt\\nimport scipy\\nimport scipy.stats\\nimport warnings\\nimport time\\n\\nfrom scipy.stats import chi2_contingency\\nfrom scipy.stats import chi2\\nfrom scipy.stats import iqr\\nfrom statsmodels.formula.api import ols\\nfrom statsmodels.stats.multicomp import pairwise_tukeyhsd\\nimport statsmodels.api as sm\\n\\nfrom sklearn.preprocessing import MinMaxScaler\\nfrom sklearn.preprocessing import RobustScaler\\nfrom scipy.stats import iqr\\nfrom sklearn.metrics import mean_squared_error, mean_absolute_error\\nfrom sklearn import preprocessing\\nfrom pandas_profiling import ProfileReport\\nfrom sklearn import svm\\nfrom sklearn.ensemble import RandomForestRegressor as rf_reg\\nfrom sklearn.model_selection import RandomizedSearchCV as randomCV\\nfrom sklearn.model_selection import train_test_split\\nfrom sklearn.metrics import mean_squared_error as MSE\\nfrom sklearn import feature_selection\\nfrom sklearn.metrics import r2_score\\nfrom sklearn.pipeline import make_pipeline\\nfrom sklearn.model_selection import cross_validate\\nfrom plotnine import *\\nfrom matplotlib import gridspec\\nfrom sklearn.preprocessing import StandardScaler\\nimport pprint\\nfrom sklearn.linear_model import LogisticRegression\\nfrom sklearn.linear_model import LinearRegression\\nfrom sklearn.ensemble import RandomForestRegressor\\nfrom sklearn.tree import DecisionTreeRegressor\\nfrom sklearn.model_selection import GridSearchCV\\nfrom sklearn.model_selection import RandomizedSearchCV\\nfrom sklearn.neighbors import KNeighborsRegressor\\n\\n%load_ext nb_black\\n%matplotlib inline\\nwarnings.filterwarnings(\\\"ignore\\\")\";\n                var nbb_cells = Jupyter.notebook.get_cells();\n                for (var i = 0; i < nbb_cells.length; ++i) {\n                    if (nbb_cells[i].input_prompt_number == nbb_cell_id) {\n                        if (nbb_cells[i].get_text() == nbb_unformatted_code) {\n                             nbb_cells[i].set_text(nbb_formatted_code);\n                        }\n                        break;\n                    }\n                }\n            }, 500);\n            ",
      "text/plain": [
       "<IPython.core.display.Javascript object>"
      ]
     },
     "metadata": {},
     "output_type": "display_data"
    }
   ],
   "source": [
    "import pandas as pd\n",
    "import numpy as np\n",
    "import seaborn as sns\n",
    "import matplotlib.pyplot as plt\n",
    "import scipy\n",
    "import scipy.stats\n",
    "import warnings\n",
    "import time\n",
    "\n",
    "from scipy.stats import chi2_contingency\n",
    "from scipy.stats import chi2\n",
    "from scipy.stats import iqr\n",
    "from statsmodels.formula.api import ols\n",
    "from statsmodels.stats.multicomp import pairwise_tukeyhsd\n",
    "import statsmodels.api as sm\n",
    "\n",
    "from sklearn.preprocessing import MinMaxScaler\n",
    "from sklearn.preprocessing import RobustScaler\n",
    "from scipy.stats import iqr\n",
    "from sklearn.metrics import mean_squared_error, mean_absolute_error\n",
    "from sklearn import preprocessing\n",
    "from pandas_profiling import ProfileReport\n",
    "from sklearn import svm\n",
    "from sklearn.ensemble import RandomForestRegressor as rf_reg\n",
    "from sklearn.model_selection import RandomizedSearchCV as randomCV\n",
    "from sklearn.model_selection import train_test_split\n",
    "from sklearn.metrics import mean_squared_error as MSE\n",
    "from sklearn import feature_selection\n",
    "from sklearn.metrics import r2_score\n",
    "from sklearn.pipeline import make_pipeline\n",
    "from sklearn.model_selection import cross_validate\n",
    "from plotnine import *\n",
    "from matplotlib import gridspec\n",
    "from sklearn.preprocessing import StandardScaler\n",
    "import pprint\n",
    "from sklearn.linear_model import LogisticRegression\n",
    "from sklearn.linear_model import LinearRegression\n",
    "from sklearn.ensemble import RandomForestRegressor\n",
    "from sklearn.tree import DecisionTreeRegressor\n",
    "from sklearn.model_selection import GridSearchCV\n",
    "from sklearn.model_selection import RandomizedSearchCV\n",
    "from sklearn.neighbors import KNeighborsRegressor\n",
    "\n",
    "%load_ext nb_black\n",
    "%matplotlib inline\n",
    "warnings.filterwarnings(\"ignore\")"
   ]
  },
  {
   "cell_type": "code",
   "execution_count": 34,
   "id": "f567c5bc",
   "metadata": {},
   "outputs": [
    {
     "data": {
      "application/javascript": "\n            setTimeout(function() {\n                var nbb_cell_id = 34;\n                var nbb_unformatted_code = \"df = pd.read_csv(\\\"data/bmw.csv\\\")\";\n                var nbb_formatted_code = \"df = pd.read_csv(\\\"data/bmw.csv\\\")\";\n                var nbb_cells = Jupyter.notebook.get_cells();\n                for (var i = 0; i < nbb_cells.length; ++i) {\n                    if (nbb_cells[i].input_prompt_number == nbb_cell_id) {\n                        if (nbb_cells[i].get_text() == nbb_unformatted_code) {\n                             nbb_cells[i].set_text(nbb_formatted_code);\n                        }\n                        break;\n                    }\n                }\n            }, 500);\n            ",
      "text/plain": [
       "<IPython.core.display.Javascript object>"
      ]
     },
     "metadata": {},
     "output_type": "display_data"
    }
   ],
   "source": [
    "df = pd.read_csv(\"data/bmw.csv\")"
   ]
  },
  {
   "cell_type": "markdown",
   "id": "d2092263",
   "metadata": {},
   "source": [
    "## Phân tích khám pha dữ liệu (EDA)"
   ]
  },
  {
   "cell_type": "code",
   "execution_count": 35,
   "id": "d36423a8",
   "metadata": {},
   "outputs": [
    {
     "data": {
      "text/html": [
       "<div>\n",
       "<style scoped>\n",
       "    .dataframe tbody tr th:only-of-type {\n",
       "        vertical-align: middle;\n",
       "    }\n",
       "\n",
       "    .dataframe tbody tr th {\n",
       "        vertical-align: top;\n",
       "    }\n",
       "\n",
       "    .dataframe thead th {\n",
       "        text-align: right;\n",
       "    }\n",
       "</style>\n",
       "<table border=\"1\" class=\"dataframe\">\n",
       "  <thead>\n",
       "    <tr style=\"text-align: right;\">\n",
       "      <th></th>\n",
       "      <th>model</th>\n",
       "      <th>year</th>\n",
       "      <th>price</th>\n",
       "      <th>transmission</th>\n",
       "      <th>mileage</th>\n",
       "      <th>fuelType</th>\n",
       "      <th>tax</th>\n",
       "      <th>mpg</th>\n",
       "      <th>engineSize</th>\n",
       "    </tr>\n",
       "  </thead>\n",
       "  <tbody>\n",
       "    <tr>\n",
       "      <th>0</th>\n",
       "      <td>5 Series</td>\n",
       "      <td>2014</td>\n",
       "      <td>11200</td>\n",
       "      <td>Automatic</td>\n",
       "      <td>67068</td>\n",
       "      <td>Diesel</td>\n",
       "      <td>125</td>\n",
       "      <td>57.6</td>\n",
       "      <td>2.0</td>\n",
       "    </tr>\n",
       "    <tr>\n",
       "      <th>1</th>\n",
       "      <td>6 Series</td>\n",
       "      <td>2018</td>\n",
       "      <td>27000</td>\n",
       "      <td>Automatic</td>\n",
       "      <td>14827</td>\n",
       "      <td>Petrol</td>\n",
       "      <td>145</td>\n",
       "      <td>42.8</td>\n",
       "      <td>2.0</td>\n",
       "    </tr>\n",
       "    <tr>\n",
       "      <th>2</th>\n",
       "      <td>5 Series</td>\n",
       "      <td>2016</td>\n",
       "      <td>16000</td>\n",
       "      <td>Automatic</td>\n",
       "      <td>62794</td>\n",
       "      <td>Diesel</td>\n",
       "      <td>160</td>\n",
       "      <td>51.4</td>\n",
       "      <td>3.0</td>\n",
       "    </tr>\n",
       "    <tr>\n",
       "      <th>3</th>\n",
       "      <td>1 Series</td>\n",
       "      <td>2017</td>\n",
       "      <td>12750</td>\n",
       "      <td>Automatic</td>\n",
       "      <td>26676</td>\n",
       "      <td>Diesel</td>\n",
       "      <td>145</td>\n",
       "      <td>72.4</td>\n",
       "      <td>1.5</td>\n",
       "    </tr>\n",
       "    <tr>\n",
       "      <th>4</th>\n",
       "      <td>7 Series</td>\n",
       "      <td>2014</td>\n",
       "      <td>14500</td>\n",
       "      <td>Automatic</td>\n",
       "      <td>39554</td>\n",
       "      <td>Diesel</td>\n",
       "      <td>160</td>\n",
       "      <td>50.4</td>\n",
       "      <td>3.0</td>\n",
       "    </tr>\n",
       "    <tr>\n",
       "      <th>...</th>\n",
       "      <td>...</td>\n",
       "      <td>...</td>\n",
       "      <td>...</td>\n",
       "      <td>...</td>\n",
       "      <td>...</td>\n",
       "      <td>...</td>\n",
       "      <td>...</td>\n",
       "      <td>...</td>\n",
       "      <td>...</td>\n",
       "    </tr>\n",
       "    <tr>\n",
       "      <th>10776</th>\n",
       "      <td>X3</td>\n",
       "      <td>2016</td>\n",
       "      <td>19000</td>\n",
       "      <td>Automatic</td>\n",
       "      <td>40818</td>\n",
       "      <td>Diesel</td>\n",
       "      <td>150</td>\n",
       "      <td>54.3</td>\n",
       "      <td>2.0</td>\n",
       "    </tr>\n",
       "    <tr>\n",
       "      <th>10777</th>\n",
       "      <td>5 Series</td>\n",
       "      <td>2016</td>\n",
       "      <td>14600</td>\n",
       "      <td>Automatic</td>\n",
       "      <td>42947</td>\n",
       "      <td>Diesel</td>\n",
       "      <td>125</td>\n",
       "      <td>60.1</td>\n",
       "      <td>2.0</td>\n",
       "    </tr>\n",
       "    <tr>\n",
       "      <th>10778</th>\n",
       "      <td>3 Series</td>\n",
       "      <td>2017</td>\n",
       "      <td>13100</td>\n",
       "      <td>Manual</td>\n",
       "      <td>25468</td>\n",
       "      <td>Petrol</td>\n",
       "      <td>200</td>\n",
       "      <td>42.8</td>\n",
       "      <td>2.0</td>\n",
       "    </tr>\n",
       "    <tr>\n",
       "      <th>10779</th>\n",
       "      <td>1 Series</td>\n",
       "      <td>2014</td>\n",
       "      <td>9930</td>\n",
       "      <td>Automatic</td>\n",
       "      <td>45000</td>\n",
       "      <td>Diesel</td>\n",
       "      <td>30</td>\n",
       "      <td>64.2</td>\n",
       "      <td>2.0</td>\n",
       "    </tr>\n",
       "    <tr>\n",
       "      <th>10780</th>\n",
       "      <td>X1</td>\n",
       "      <td>2017</td>\n",
       "      <td>15981</td>\n",
       "      <td>Automatic</td>\n",
       "      <td>59432</td>\n",
       "      <td>Diesel</td>\n",
       "      <td>125</td>\n",
       "      <td>57.6</td>\n",
       "      <td>2.0</td>\n",
       "    </tr>\n",
       "  </tbody>\n",
       "</table>\n",
       "<p>10781 rows × 9 columns</p>\n",
       "</div>"
      ],
      "text/plain": [
       "           model  year  price transmission  mileage fuelType  tax   mpg  \\\n",
       "0       5 Series  2014  11200    Automatic    67068   Diesel  125  57.6   \n",
       "1       6 Series  2018  27000    Automatic    14827   Petrol  145  42.8   \n",
       "2       5 Series  2016  16000    Automatic    62794   Diesel  160  51.4   \n",
       "3       1 Series  2017  12750    Automatic    26676   Diesel  145  72.4   \n",
       "4       7 Series  2014  14500    Automatic    39554   Diesel  160  50.4   \n",
       "...          ...   ...    ...          ...      ...      ...  ...   ...   \n",
       "10776         X3  2016  19000    Automatic    40818   Diesel  150  54.3   \n",
       "10777   5 Series  2016  14600    Automatic    42947   Diesel  125  60.1   \n",
       "10778   3 Series  2017  13100       Manual    25468   Petrol  200  42.8   \n",
       "10779   1 Series  2014   9930    Automatic    45000   Diesel   30  64.2   \n",
       "10780         X1  2017  15981    Automatic    59432   Diesel  125  57.6   \n",
       "\n",
       "       engineSize  \n",
       "0             2.0  \n",
       "1             2.0  \n",
       "2             3.0  \n",
       "3             1.5  \n",
       "4             3.0  \n",
       "...           ...  \n",
       "10776         2.0  \n",
       "10777         2.0  \n",
       "10778         2.0  \n",
       "10779         2.0  \n",
       "10780         2.0  \n",
       "\n",
       "[10781 rows x 9 columns]"
      ]
     },
     "execution_count": 35,
     "metadata": {},
     "output_type": "execute_result"
    },
    {
     "data": {
      "application/javascript": "\n            setTimeout(function() {\n                var nbb_cell_id = 35;\n                var nbb_unformatted_code = \"df\";\n                var nbb_formatted_code = \"df\";\n                var nbb_cells = Jupyter.notebook.get_cells();\n                for (var i = 0; i < nbb_cells.length; ++i) {\n                    if (nbb_cells[i].input_prompt_number == nbb_cell_id) {\n                        if (nbb_cells[i].get_text() == nbb_unformatted_code) {\n                             nbb_cells[i].set_text(nbb_formatted_code);\n                        }\n                        break;\n                    }\n                }\n            }, 500);\n            ",
      "text/plain": [
       "<IPython.core.display.Javascript object>"
      ]
     },
     "metadata": {},
     "output_type": "display_data"
    }
   ],
   "source": [
    "df"
   ]
  },
  {
   "cell_type": "code",
   "execution_count": 36,
   "id": "6bf2b910",
   "metadata": {},
   "outputs": [
    {
     "name": "stdout",
     "output_type": "stream",
     "text": [
      "<class 'pandas.core.frame.DataFrame'>\n",
      "RangeIndex: 10781 entries, 0 to 10780\n",
      "Data columns (total 9 columns):\n",
      " #   Column        Non-Null Count  Dtype  \n",
      "---  ------        --------------  -----  \n",
      " 0   model         10781 non-null  object \n",
      " 1   year          10781 non-null  int64  \n",
      " 2   price         10781 non-null  int64  \n",
      " 3   transmission  10781 non-null  object \n",
      " 4   mileage       10781 non-null  int64  \n",
      " 5   fuelType      10781 non-null  object \n",
      " 6   tax           10781 non-null  int64  \n",
      " 7   mpg           10781 non-null  float64\n",
      " 8   engineSize    10781 non-null  float64\n",
      "dtypes: float64(2), int64(4), object(3)\n",
      "memory usage: 758.2+ KB\n"
     ]
    },
    {
     "data": {
      "application/javascript": "\n            setTimeout(function() {\n                var nbb_cell_id = 36;\n                var nbb_unformatted_code = \"df.info()\";\n                var nbb_formatted_code = \"df.info()\";\n                var nbb_cells = Jupyter.notebook.get_cells();\n                for (var i = 0; i < nbb_cells.length; ++i) {\n                    if (nbb_cells[i].input_prompt_number == nbb_cell_id) {\n                        if (nbb_cells[i].get_text() == nbb_unformatted_code) {\n                             nbb_cells[i].set_text(nbb_formatted_code);\n                        }\n                        break;\n                    }\n                }\n            }, 500);\n            ",
      "text/plain": [
       "<IPython.core.display.Javascript object>"
      ]
     },
     "metadata": {},
     "output_type": "display_data"
    }
   ],
   "source": [
    "df.info()"
   ]
  },
  {
   "cell_type": "markdown",
   "id": "16eee0e4",
   "metadata": {},
   "source": [
    "### <p style=\"color:blue\">Nhận xét</p>"
   ]
  },
  {
   "cell_type": "code",
   "execution_count": 38,
   "id": "78252b02",
   "metadata": {},
   "outputs": [
    {
     "data": {
      "text/plain": [
       "'\\ndữ liệu ko có giá trị null\\ncó 2 kiểu dữ liệu trong dataset là object (string) và numeric\\n'"
      ]
     },
     "execution_count": 38,
     "metadata": {},
     "output_type": "execute_result"
    },
    {
     "data": {
      "application/javascript": "\n            setTimeout(function() {\n                var nbb_cell_id = 38;\n                var nbb_unformatted_code = \"\\\"\\\"\\\"\\nd\\u1eef li\\u1ec7u ko c\\u00f3 gi\\u00e1 tr\\u1ecb null\\nc\\u00f3 2 ki\\u1ec3u d\\u1eef li\\u1ec7u trong dataset l\\u00e0 object (string) v\\u00e0 numeric\\n\\\"\\\"\\\"\";\n                var nbb_formatted_code = \"\\\"\\\"\\\"\\nd\\u1eef li\\u1ec7u ko c\\u00f3 gi\\u00e1 tr\\u1ecb null\\nc\\u00f3 2 ki\\u1ec3u d\\u1eef li\\u1ec7u trong dataset l\\u00e0 object (string) v\\u00e0 numeric\\n\\\"\\\"\\\"\";\n                var nbb_cells = Jupyter.notebook.get_cells();\n                for (var i = 0; i < nbb_cells.length; ++i) {\n                    if (nbb_cells[i].input_prompt_number == nbb_cell_id) {\n                        if (nbb_cells[i].get_text() == nbb_unformatted_code) {\n                             nbb_cells[i].set_text(nbb_formatted_code);\n                        }\n                        break;\n                    }\n                }\n            }, 500);\n            ",
      "text/plain": [
       "<IPython.core.display.Javascript object>"
      ]
     },
     "metadata": {},
     "output_type": "display_data"
    }
   ],
   "source": [
    "\"\"\"\n",
    "dữ liệu ko có giá trị null\n",
    "có 2 kiểu dữ liệu trong dataset là object (string) và numeric\n",
    "\"\"\""
   ]
  },
  {
   "cell_type": "code",
   "execution_count": 6,
   "id": "d386f2af",
   "metadata": {},
   "outputs": [
    {
     "data": {
      "text/html": [
       "<div>\n",
       "<style scoped>\n",
       "    .dataframe tbody tr th:only-of-type {\n",
       "        vertical-align: middle;\n",
       "    }\n",
       "\n",
       "    .dataframe tbody tr th {\n",
       "        vertical-align: top;\n",
       "    }\n",
       "\n",
       "    .dataframe thead th {\n",
       "        text-align: right;\n",
       "    }\n",
       "</style>\n",
       "<table border=\"1\" class=\"dataframe\">\n",
       "  <thead>\n",
       "    <tr style=\"text-align: right;\">\n",
       "      <th></th>\n",
       "      <th>year</th>\n",
       "      <th>price</th>\n",
       "      <th>mileage</th>\n",
       "      <th>tax</th>\n",
       "      <th>mpg</th>\n",
       "      <th>engineSize</th>\n",
       "    </tr>\n",
       "  </thead>\n",
       "  <tbody>\n",
       "    <tr>\n",
       "      <th>count</th>\n",
       "      <td>10781.000000</td>\n",
       "      <td>10781.000000</td>\n",
       "      <td>10781.000000</td>\n",
       "      <td>10781.000000</td>\n",
       "      <td>10781.000000</td>\n",
       "      <td>10781.000000</td>\n",
       "    </tr>\n",
       "    <tr>\n",
       "      <th>mean</th>\n",
       "      <td>2017.078935</td>\n",
       "      <td>22733.408867</td>\n",
       "      <td>25496.986550</td>\n",
       "      <td>131.702068</td>\n",
       "      <td>56.399035</td>\n",
       "      <td>2.167767</td>\n",
       "    </tr>\n",
       "    <tr>\n",
       "      <th>std</th>\n",
       "      <td>2.349038</td>\n",
       "      <td>11415.528189</td>\n",
       "      <td>25143.192559</td>\n",
       "      <td>61.510755</td>\n",
       "      <td>31.336958</td>\n",
       "      <td>0.552054</td>\n",
       "    </tr>\n",
       "    <tr>\n",
       "      <th>min</th>\n",
       "      <td>1996.000000</td>\n",
       "      <td>1200.000000</td>\n",
       "      <td>1.000000</td>\n",
       "      <td>0.000000</td>\n",
       "      <td>5.500000</td>\n",
       "      <td>0.000000</td>\n",
       "    </tr>\n",
       "    <tr>\n",
       "      <th>25%</th>\n",
       "      <td>2016.000000</td>\n",
       "      <td>14950.000000</td>\n",
       "      <td>5529.000000</td>\n",
       "      <td>135.000000</td>\n",
       "      <td>45.600000</td>\n",
       "      <td>2.000000</td>\n",
       "    </tr>\n",
       "    <tr>\n",
       "      <th>50%</th>\n",
       "      <td>2017.000000</td>\n",
       "      <td>20462.000000</td>\n",
       "      <td>18347.000000</td>\n",
       "      <td>145.000000</td>\n",
       "      <td>53.300000</td>\n",
       "      <td>2.000000</td>\n",
       "    </tr>\n",
       "    <tr>\n",
       "      <th>75%</th>\n",
       "      <td>2019.000000</td>\n",
       "      <td>27940.000000</td>\n",
       "      <td>38206.000000</td>\n",
       "      <td>145.000000</td>\n",
       "      <td>62.800000</td>\n",
       "      <td>2.000000</td>\n",
       "    </tr>\n",
       "    <tr>\n",
       "      <th>max</th>\n",
       "      <td>2020.000000</td>\n",
       "      <td>123456.000000</td>\n",
       "      <td>214000.000000</td>\n",
       "      <td>580.000000</td>\n",
       "      <td>470.800000</td>\n",
       "      <td>6.600000</td>\n",
       "    </tr>\n",
       "  </tbody>\n",
       "</table>\n",
       "</div>"
      ],
      "text/plain": [
       "               year          price        mileage           tax           mpg  \\\n",
       "count  10781.000000   10781.000000   10781.000000  10781.000000  10781.000000   \n",
       "mean    2017.078935   22733.408867   25496.986550    131.702068     56.399035   \n",
       "std        2.349038   11415.528189   25143.192559     61.510755     31.336958   \n",
       "min     1996.000000    1200.000000       1.000000      0.000000      5.500000   \n",
       "25%     2016.000000   14950.000000    5529.000000    135.000000     45.600000   \n",
       "50%     2017.000000   20462.000000   18347.000000    145.000000     53.300000   \n",
       "75%     2019.000000   27940.000000   38206.000000    145.000000     62.800000   \n",
       "max     2020.000000  123456.000000  214000.000000    580.000000    470.800000   \n",
       "\n",
       "         engineSize  \n",
       "count  10781.000000  \n",
       "mean       2.167767  \n",
       "std        0.552054  \n",
       "min        0.000000  \n",
       "25%        2.000000  \n",
       "50%        2.000000  \n",
       "75%        2.000000  \n",
       "max        6.600000  "
      ]
     },
     "execution_count": 6,
     "metadata": {},
     "output_type": "execute_result"
    },
    {
     "data": {
      "application/javascript": "\n            setTimeout(function() {\n                var nbb_cell_id = 6;\n                var nbb_unformatted_code = \"df.describe()\";\n                var nbb_formatted_code = \"df.describe()\";\n                var nbb_cells = Jupyter.notebook.get_cells();\n                for (var i = 0; i < nbb_cells.length; ++i) {\n                    if (nbb_cells[i].input_prompt_number == nbb_cell_id) {\n                        if (nbb_cells[i].get_text() == nbb_unformatted_code) {\n                             nbb_cells[i].set_text(nbb_formatted_code);\n                        }\n                        break;\n                    }\n                }\n            }, 500);\n            ",
      "text/plain": [
       "<IPython.core.display.Javascript object>"
      ]
     },
     "metadata": {},
     "output_type": "display_data"
    }
   ],
   "source": [
    "df.describe()"
   ]
  },
  {
   "cell_type": "markdown",
   "id": "7d089574",
   "metadata": {},
   "source": [
    "### <p style=\"color:red\">Xác định thuộc tính từ requirements</p>\n",
    "<p style=\"color:blue\">input: <> price: tất cả các thuộc tính trừ price</p>\n",
    "<p style=\"color:blue\">output: price</p>\n",
    "\n",
    "##### variable type:\n",
    "- predictor: <> price: các thuộc tính khác price\n",
    "- target: price\n",
    "\n",
    "##### data type:\n",
    "- object (char/string)\n",
    "- numeric"
   ]
  },
  {
   "cell_type": "code",
   "execution_count": 39,
   "id": "f9f3905c",
   "metadata": {},
   "outputs": [
    {
     "data": {
      "application/javascript": "\n            setTimeout(function() {\n                var nbb_cell_id = 39;\n                var nbb_unformatted_code = \"numbers = [i for i in df.columns if df.dtypes[i] != \\\"object\\\"]\\nobjects = [i for i in df.columns if df.dtypes[i] == \\\"object\\\"]\";\n                var nbb_formatted_code = \"numbers = [i for i in df.columns if df.dtypes[i] != \\\"object\\\"]\\nobjects = [i for i in df.columns if df.dtypes[i] == \\\"object\\\"]\";\n                var nbb_cells = Jupyter.notebook.get_cells();\n                for (var i = 0; i < nbb_cells.length; ++i) {\n                    if (nbb_cells[i].input_prompt_number == nbb_cell_id) {\n                        if (nbb_cells[i].get_text() == nbb_unformatted_code) {\n                             nbb_cells[i].set_text(nbb_formatted_code);\n                        }\n                        break;\n                    }\n                }\n            }, 500);\n            ",
      "text/plain": [
       "<IPython.core.display.Javascript object>"
      ]
     },
     "metadata": {},
     "output_type": "display_data"
    }
   ],
   "source": [
    "numbers = [i for i in df.columns if df.dtypes[i] != \"object\"]\n",
    "objects = [i for i in df.columns if df.dtypes[i] == \"object\"]"
   ]
  },
  {
   "cell_type": "code",
   "execution_count": 40,
   "id": "6db4382d",
   "metadata": {},
   "outputs": [
    {
     "name": "stdout",
     "output_type": "stream",
     "text": [
      "0 / model \t len= 24 : [' 5 Series' ' 6 Series' ' 1 Series' ' 7 Series' ' 2 Series' ' 4 Series'\n",
      " ' X3' ' 3 Series' ' X5' ' X4' ' i3' ' X1' ' M4' ' X2' ' X6' ' 8 Series'\n",
      " ' Z4' ' X7' ' M5' ' i8' ' M2' ' M3' ' M6' ' Z3']\n",
      "1 / transmission \t len= 3 : ['Automatic' 'Manual' 'Semi-Auto']\n",
      "2 / fuelType \t len= 5 : ['Diesel' 'Petrol' 'Other' 'Hybrid' 'Electric']\n"
     ]
    },
    {
     "data": {
      "application/javascript": "\n            setTimeout(function() {\n                var nbb_cell_id = 40;\n                var nbb_unformatted_code = \"### x\\u00e9t c\\u00e1c bi\\u1ebfn c\\u00f3 dtype l\\u00e0 object\\ni = 0\\nfor obj in objects:\\n    print(i, \\\"/\\\", obj, \\\"\\\\t len=\\\", len(df[obj].unique()), \\\":\\\", df[obj].unique())\\n    i = i + 1\";\n                var nbb_formatted_code = \"### x\\u00e9t c\\u00e1c bi\\u1ebfn c\\u00f3 dtype l\\u00e0 object\\ni = 0\\nfor obj in objects:\\n    print(i, \\\"/\\\", obj, \\\"\\\\t len=\\\", len(df[obj].unique()), \\\":\\\", df[obj].unique())\\n    i = i + 1\";\n                var nbb_cells = Jupyter.notebook.get_cells();\n                for (var i = 0; i < nbb_cells.length; ++i) {\n                    if (nbb_cells[i].input_prompt_number == nbb_cell_id) {\n                        if (nbb_cells[i].get_text() == nbb_unformatted_code) {\n                             nbb_cells[i].set_text(nbb_formatted_code);\n                        }\n                        break;\n                    }\n                }\n            }, 500);\n            ",
      "text/plain": [
       "<IPython.core.display.Javascript object>"
      ]
     },
     "metadata": {},
     "output_type": "display_data"
    }
   ],
   "source": [
    "### xét các biến có dtype là object\n",
    "i = 0\n",
    "for obj in objects:\n",
    "    print(i, \"/\", obj, \"\\t len=\", len(df[obj].unique()), \":\", df[obj].unique())\n",
    "    i = i + 1"
   ]
  },
  {
   "cell_type": "code",
   "execution_count": 41,
   "id": "33abc2ce",
   "metadata": {},
   "outputs": [
    {
     "name": "stdout",
     "output_type": "stream",
     "text": [
      "0 / year \t len = 25 \n",
      "1 / price \t len = 3777 \n",
      "2 / mileage \t len = 8086 \n",
      "3 / tax \t len = 38 \n",
      "4 / mpg \t len = 102 \n",
      "5 / engineSize \t len = 17 [2.  3.  1.5 0.6 1.6 4.4 0.  2.2 2.5 4.  3.2 1.  5.  1.9 6.6 2.8 3.5]\n"
     ]
    },
    {
     "data": {
      "application/javascript": "\n            setTimeout(function() {\n                var nbb_cell_id = 41;\n                var nbb_unformatted_code = \"### x\\u00e9t c\\u00e1c bi\\u1ebfn c\\u00f3 dtype != object\\ni = 0\\nfor obj in numbers:\\n    print(\\n        i,\\n        \\\"/\\\",\\n        obj,\\n        \\\"\\\\t len =\\\",\\n        len(df[obj].unique()),\\n        df[obj].unique() if len(df[obj].unique()) < 20 else \\\"\\\",\\n    )\\n    i = i + 1\";\n                var nbb_formatted_code = \"### x\\u00e9t c\\u00e1c bi\\u1ebfn c\\u00f3 dtype != object\\ni = 0\\nfor obj in numbers:\\n    print(\\n        i,\\n        \\\"/\\\",\\n        obj,\\n        \\\"\\\\t len =\\\",\\n        len(df[obj].unique()),\\n        df[obj].unique() if len(df[obj].unique()) < 20 else \\\"\\\",\\n    )\\n    i = i + 1\";\n                var nbb_cells = Jupyter.notebook.get_cells();\n                for (var i = 0; i < nbb_cells.length; ++i) {\n                    if (nbb_cells[i].input_prompt_number == nbb_cell_id) {\n                        if (nbb_cells[i].get_text() == nbb_unformatted_code) {\n                             nbb_cells[i].set_text(nbb_formatted_code);\n                        }\n                        break;\n                    }\n                }\n            }, 500);\n            ",
      "text/plain": [
       "<IPython.core.display.Javascript object>"
      ]
     },
     "metadata": {},
     "output_type": "display_data"
    }
   ],
   "source": [
    "### xét các biến có dtype != object\n",
    "i = 0\n",
    "for obj in numbers:\n",
    "    print(\n",
    "        i,\n",
    "        \"/\",\n",
    "        obj,\n",
    "        \"\\t len =\",\n",
    "        len(df[obj].unique()),\n",
    "        df[obj].unique() if len(df[obj].unique()) < 20 else \"\",\n",
    "    )\n",
    "    i = i + 1"
   ]
  },
  {
   "cell_type": "markdown",
   "id": "199c48f7",
   "metadata": {},
   "source": [
    "### <p style=\"color:blue\">Nhận xét</p>"
   ]
  },
  {
   "cell_type": "code",
   "execution_count": 42,
   "id": "ac60b81e",
   "metadata": {},
   "outputs": [
    {
     "data": {
      "text/plain": [
       "'\\nTừ kết quả trên, ta thấy:\\nidentifier - categorical variables: fuelType, transmission, model, year, engineSize\\ncontinuous variable: price, mileage, mpg, tax\\n'"
      ]
     },
     "execution_count": 42,
     "metadata": {},
     "output_type": "execute_result"
    },
    {
     "data": {
      "application/javascript": "\n            setTimeout(function() {\n                var nbb_cell_id = 42;\n                var nbb_unformatted_code = \"\\\"\\\"\\\"\\nT\\u1eeb k\\u1ebft qu\\u1ea3 tr\\u00ean, ta th\\u1ea5y:\\nidentifier - categorical variables: fuelType, transmission, model, year, engineSize\\ncontinuous variable: price, mileage, mpg, tax\\n\\\"\\\"\\\"\";\n                var nbb_formatted_code = \"\\\"\\\"\\\"\\nT\\u1eeb k\\u1ebft qu\\u1ea3 tr\\u00ean, ta th\\u1ea5y:\\nidentifier - categorical variables: fuelType, transmission, model, year, engineSize\\ncontinuous variable: price, mileage, mpg, tax\\n\\\"\\\"\\\"\";\n                var nbb_cells = Jupyter.notebook.get_cells();\n                for (var i = 0; i < nbb_cells.length; ++i) {\n                    if (nbb_cells[i].input_prompt_number == nbb_cell_id) {\n                        if (nbb_cells[i].get_text() == nbb_unformatted_code) {\n                             nbb_cells[i].set_text(nbb_formatted_code);\n                        }\n                        break;\n                    }\n                }\n            }, 500);\n            ",
      "text/plain": [
       "<IPython.core.display.Javascript object>"
      ]
     },
     "metadata": {},
     "output_type": "display_data"
    }
   ],
   "source": [
    "\"\"\"\n",
    "Từ kết quả trên, ta thấy:\n",
    "identifier - categorical variables: fuelType, transmission, model, year, engineSize\n",
    "continuous variable: price, mileage, mpg, tax\n",
    "\"\"\""
   ]
  },
  {
   "cell_type": "markdown",
   "id": "2d3c58b2",
   "metadata": {},
   "source": [
    "## Phân tích đơn biến\n"
   ]
  },
  {
   "cell_type": "markdown",
   "id": "a6ee0e42",
   "metadata": {},
   "source": [
    "### Continuous Variable"
   ]
  },
  {
   "cell_type": "code",
   "execution_count": 43,
   "id": "9ae35ee4",
   "metadata": {},
   "outputs": [
    {
     "data": {
      "application/javascript": "\n            setTimeout(function() {\n                var nbb_cell_id = 43;\n                var nbb_unformatted_code = \"def continuous_univariate_analysis(f):\\n    print(\\\"1\\\\ Describe: \\\\n\\\", f.describe(), \\\"\\\\n\\\")\\n    print(\\\"2\\\\ Meadian: \\\", f.median())\\n    print(\\\"3\\\\ Mode: \\\", f.mode)\\n    print(\\\"4\\\\ Range: \\\", f.values.ptp())\\n    print(\\\"5\\\\ Variance: \\\", f.var())\\n    print(\\\"6\\\\ S\\u1ed1 NaN: \\\", f.isnull().sum())\\n    print(\\\"7\\\\ \\\\tQ1 = \\\", np.quantile(f, 0.25))\\n    print(\\\"   \\\\tQ3 = \\\", np.quantile(f, 0.75))\\n    print(\\\"   \\\\tIQR = \\\", iqr(f))\\n\\n    print(\\\"8\\\\ Skew: \\\", f.skew())\\n    if f.skew() > 0:\\n        print(\\\"Ph\\u00e2n ph\\u1ed1i l\\u1ec7ch ph\\u1ea3i\\\")\\n    elif f.skew() == 0:\\n        print(\\\"Ph\\u00e2n ph\\u1ed1i \\u0111\\u1ed1i x\\u1ee9ng\\\")\\n    else:\\n        print(\\\"Ph\\u00e2n ph\\u1ed1i l\\u1ec7ch tr\\u00e1i\\\")\\n\\n    print(\\\"9\\\\ Kurtosis: \\\", f.kurtosis())\\n    if f.kurtosis() > 0:\\n        print(\\\"Ph\\u00e2n ph\\u1ed1i nh\\u1ecdn h\\u01a1n pp chu\\u1ea9n\\\")\\n    elif f.kurtosis() == 0:\\n        print(\\\"Ph\\u00e2n ph\\u1ed1i \\u0111\\u1ed1i x\\u1ee9ng\\\")\\n    else:\\n        print(\\\"Ph\\u00e2n ph\\u1ed1i b\\u1eb9t h\\u01a1n pp chu\\u1ea9n\\\")\";\n                var nbb_formatted_code = \"def continuous_univariate_analysis(f):\\n    print(\\\"1\\\\ Describe: \\\\n\\\", f.describe(), \\\"\\\\n\\\")\\n    print(\\\"2\\\\ Meadian: \\\", f.median())\\n    print(\\\"3\\\\ Mode: \\\", f.mode)\\n    print(\\\"4\\\\ Range: \\\", f.values.ptp())\\n    print(\\\"5\\\\ Variance: \\\", f.var())\\n    print(\\\"6\\\\ S\\u1ed1 NaN: \\\", f.isnull().sum())\\n    print(\\\"7\\\\ \\\\tQ1 = \\\", np.quantile(f, 0.25))\\n    print(\\\"   \\\\tQ3 = \\\", np.quantile(f, 0.75))\\n    print(\\\"   \\\\tIQR = \\\", iqr(f))\\n\\n    print(\\\"8\\\\ Skew: \\\", f.skew())\\n    if f.skew() > 0:\\n        print(\\\"Ph\\u00e2n ph\\u1ed1i l\\u1ec7ch ph\\u1ea3i\\\")\\n    elif f.skew() == 0:\\n        print(\\\"Ph\\u00e2n ph\\u1ed1i \\u0111\\u1ed1i x\\u1ee9ng\\\")\\n    else:\\n        print(\\\"Ph\\u00e2n ph\\u1ed1i l\\u1ec7ch tr\\u00e1i\\\")\\n\\n    print(\\\"9\\\\ Kurtosis: \\\", f.kurtosis())\\n    if f.kurtosis() > 0:\\n        print(\\\"Ph\\u00e2n ph\\u1ed1i nh\\u1ecdn h\\u01a1n pp chu\\u1ea9n\\\")\\n    elif f.kurtosis() == 0:\\n        print(\\\"Ph\\u00e2n ph\\u1ed1i \\u0111\\u1ed1i x\\u1ee9ng\\\")\\n    else:\\n        print(\\\"Ph\\u00e2n ph\\u1ed1i b\\u1eb9t h\\u01a1n pp chu\\u1ea9n\\\")\";\n                var nbb_cells = Jupyter.notebook.get_cells();\n                for (var i = 0; i < nbb_cells.length; ++i) {\n                    if (nbb_cells[i].input_prompt_number == nbb_cell_id) {\n                        if (nbb_cells[i].get_text() == nbb_unformatted_code) {\n                             nbb_cells[i].set_text(nbb_formatted_code);\n                        }\n                        break;\n                    }\n                }\n            }, 500);\n            ",
      "text/plain": [
       "<IPython.core.display.Javascript object>"
      ]
     },
     "metadata": {},
     "output_type": "display_data"
    }
   ],
   "source": [
    "def continuous_univariate_analysis(f):\n",
    "    print(\"1\\ Describe: \\n\", f.describe(), \"\\n\")\n",
    "    print(\"2\\ Meadian: \", f.median())\n",
    "    print(\"3\\ Mode: \", f.mode)\n",
    "    print(\"4\\ Range: \", f.values.ptp())\n",
    "    print(\"5\\ Variance: \", f.var())\n",
    "    print(\"6\\ Số NaN: \", f.isnull().sum())\n",
    "    print(\"7\\ \\tQ1 = \", np.quantile(f, 0.25))\n",
    "    print(\"   \\tQ3 = \", np.quantile(f, 0.75))\n",
    "    print(\"   \\tIQR = \", iqr(f))\n",
    "\n",
    "    print(\"8\\ Skew: \", f.skew())\n",
    "    if f.skew() > 0:\n",
    "        print(\"Phân phối lệch phải\")\n",
    "    elif f.skew() == 0:\n",
    "        print(\"Phân phối đối xứng\")\n",
    "    else:\n",
    "        print(\"Phân phối lệch trái\")\n",
    "\n",
    "    print(\"9\\ Kurtosis: \", f.kurtosis())\n",
    "    if f.kurtosis() > 0:\n",
    "        print(\"Phân phối nhọn hơn pp chuẩn\")\n",
    "    elif f.kurtosis() == 0:\n",
    "        print(\"Phân phối đối xứng\")\n",
    "    else:\n",
    "        print(\"Phân phối bẹt hơn pp chuẩn\")"
   ]
  },
  {
   "cell_type": "code",
   "execution_count": 44,
   "id": "2bd35d88",
   "metadata": {},
   "outputs": [
    {
     "data": {
      "application/javascript": "\n            setTimeout(function() {\n                var nbb_cell_id = 44;\n                var nbb_unformatted_code = \"def visualize_histogram(f):\\n    # Histogram\\n    plt.subplot(1, 2, 1)\\n    sns.distplot(f)\\n\\n    plt.subplot(1, 2, 2)\\n    plt.hist(f)\\n    plt.show()\";\n                var nbb_formatted_code = \"def visualize_histogram(f):\\n    # Histogram\\n    plt.subplot(1, 2, 1)\\n    sns.distplot(f)\\n\\n    plt.subplot(1, 2, 2)\\n    plt.hist(f)\\n    plt.show()\";\n                var nbb_cells = Jupyter.notebook.get_cells();\n                for (var i = 0; i < nbb_cells.length; ++i) {\n                    if (nbb_cells[i].input_prompt_number == nbb_cell_id) {\n                        if (nbb_cells[i].get_text() == nbb_unformatted_code) {\n                             nbb_cells[i].set_text(nbb_formatted_code);\n                        }\n                        break;\n                    }\n                }\n            }, 500);\n            ",
      "text/plain": [
       "<IPython.core.display.Javascript object>"
      ]
     },
     "metadata": {},
     "output_type": "display_data"
    }
   ],
   "source": [
    "def visualize_histogram(f):\n",
    "    # Histogram\n",
    "    plt.subplot(1, 2, 1)\n",
    "    sns.distplot(f)\n",
    "\n",
    "    plt.subplot(1, 2, 2)\n",
    "    plt.hist(f)\n",
    "    plt.show()"
   ]
  },
  {
   "cell_type": "code",
   "execution_count": 45,
   "id": "fe57fa03",
   "metadata": {},
   "outputs": [
    {
     "data": {
      "application/javascript": "\n            setTimeout(function() {\n                var nbb_cell_id = 45;\n                var nbb_unformatted_code = \"def visualize_boxplot(f):\\n    plt.boxplot(f)\\n    plt.show()\";\n                var nbb_formatted_code = \"def visualize_boxplot(f):\\n    plt.boxplot(f)\\n    plt.show()\";\n                var nbb_cells = Jupyter.notebook.get_cells();\n                for (var i = 0; i < nbb_cells.length; ++i) {\n                    if (nbb_cells[i].input_prompt_number == nbb_cell_id) {\n                        if (nbb_cells[i].get_text() == nbb_unformatted_code) {\n                             nbb_cells[i].set_text(nbb_formatted_code);\n                        }\n                        break;\n                    }\n                }\n            }, 500);\n            ",
      "text/plain": [
       "<IPython.core.display.Javascript object>"
      ]
     },
     "metadata": {},
     "output_type": "display_data"
    }
   ],
   "source": [
    "def visualize_boxplot(f):\n",
    "    plt.boxplot(f)\n",
    "    plt.show()"
   ]
  },
  {
   "cell_type": "code",
   "execution_count": 46,
   "id": "efb69893",
   "metadata": {},
   "outputs": [
    {
     "data": {
      "application/javascript": "\n            setTimeout(function() {\n                var nbb_cell_id = 46;\n                var nbb_unformatted_code = \"def find_outliers(f):\\n    Q1 = np.quantile(f, 0.25)\\n    Q3 = np.quantile(f, 0.75)\\n    IQR = Q3 - Q1\\n\\n    # s\\u1ed1 l\\u01b0\\u1ee3ng outliers\\n    num_outliers = len(f[(f > Q3 + 1.5 * IQR) | (f < Q1 - 1.5 * IQR)])\\n\\n    # t\\u1ec9 l\\u1ec7 outliers so v\\u1edbi m\\u1eabu\\n    ratio = num_outliers / f.shape[0]\\n\\n    print(\\\"S\\u1ed1 l\\u01b0\\u1ee3ng outliers: \\\", num_outliers)\\n    print(\\\"T\\u1ec9 l\\u1ec7 outliers so v\\u1edbi m\\u1eabu\\\", ratio)\";\n                var nbb_formatted_code = \"def find_outliers(f):\\n    Q1 = np.quantile(f, 0.25)\\n    Q3 = np.quantile(f, 0.75)\\n    IQR = Q3 - Q1\\n\\n    # s\\u1ed1 l\\u01b0\\u1ee3ng outliers\\n    num_outliers = len(f[(f > Q3 + 1.5 * IQR) | (f < Q1 - 1.5 * IQR)])\\n\\n    # t\\u1ec9 l\\u1ec7 outliers so v\\u1edbi m\\u1eabu\\n    ratio = num_outliers / f.shape[0]\\n\\n    print(\\\"S\\u1ed1 l\\u01b0\\u1ee3ng outliers: \\\", num_outliers)\\n    print(\\\"T\\u1ec9 l\\u1ec7 outliers so v\\u1edbi m\\u1eabu\\\", ratio)\";\n                var nbb_cells = Jupyter.notebook.get_cells();\n                for (var i = 0; i < nbb_cells.length; ++i) {\n                    if (nbb_cells[i].input_prompt_number == nbb_cell_id) {\n                        if (nbb_cells[i].get_text() == nbb_unformatted_code) {\n                             nbb_cells[i].set_text(nbb_formatted_code);\n                        }\n                        break;\n                    }\n                }\n            }, 500);\n            ",
      "text/plain": [
       "<IPython.core.display.Javascript object>"
      ]
     },
     "metadata": {},
     "output_type": "display_data"
    }
   ],
   "source": [
    "def find_outliers(f):\n",
    "    Q1 = np.quantile(f, 0.25)\n",
    "    Q3 = np.quantile(f, 0.75)\n",
    "    IQR = Q3 - Q1\n",
    "\n",
    "    # số lượng outliers\n",
    "    num_outliers = len(f[(f > Q3 + 1.5 * IQR) | (f < Q1 - 1.5 * IQR)])\n",
    "\n",
    "    # tỉ lệ outliers so với mẫu\n",
    "    ratio = num_outliers / f.shape[0]\n",
    "\n",
    "    print(\"Số lượng outliers: \", num_outliers)\n",
    "    print(\"Tỉ lệ outliers so với mẫu\", ratio)"
   ]
  },
  {
   "cell_type": "code",
   "execution_count": 47,
   "id": "be3a9025",
   "metadata": {},
   "outputs": [
    {
     "name": "stdout",
     "output_type": "stream",
     "text": [
      "price\n",
      "1\\ Describe: \n",
      " count     10781.000000\n",
      "mean      22733.408867\n",
      "std       11415.528189\n",
      "min        1200.000000\n",
      "25%       14950.000000\n",
      "50%       20462.000000\n",
      "75%       27940.000000\n",
      "max      123456.000000\n",
      "Name: price, dtype: float64 \n",
      "\n",
      "2\\ Meadian:  20462.0\n",
      "3\\ Mode:  <bound method Series.mode of 0        11200\n",
      "1        27000\n",
      "2        16000\n",
      "3        12750\n",
      "4        14500\n",
      "         ...  \n",
      "10776    19000\n",
      "10777    14600\n",
      "10778    13100\n",
      "10779     9930\n",
      "10780    15981\n",
      "Name: price, Length: 10781, dtype: int64>\n",
      "4\\ Range:  122256\n",
      "5\\ Variance:  130314283.83466718\n",
      "6\\ Số NaN:  0\n",
      "7\\ \tQ1 =  14950.0\n",
      "   \tQ3 =  27940.0\n",
      "   \tIQR =  12990.0\n",
      "8\\ Skew:  1.5868864681260946\n",
      "Phân phối lệch phải\n",
      "9\\ Kurtosis:  4.021487604504699\n",
      "Phân phối nhọn hơn pp chuẩn\n"
     ]
    },
    {
     "data": {
      "image/png": "[encoded data removed]",
      "text/plain": [
       "<Figure size 432x288 with 2 Axes>"
      ]
     },
     "metadata": {
      "needs_background": "light"
     },
     "output_type": "display_data"
    },
    {
     "data": {
      "image/png": "[encoded data removed]",
      "text/plain": [
       "<Figure size 432x288 with 1 Axes>"
      ]
     },
     "metadata": {
      "needs_background": "light"
     },
     "output_type": "display_data"
    },
    {
     "name": "stdout",
     "output_type": "stream",
     "text": [
      "Số lượng outliers:  484\n",
      "Tỉ lệ outliers so với mẫu 0.04489379463871626\n",
      "\n",
      "====================================================\n",
      "\n",
      "\n",
      "mileage\n",
      "1\\ Describe: \n",
      " count     10781.000000\n",
      "mean      25496.986550\n",
      "std       25143.192559\n",
      "min           1.000000\n",
      "25%        5529.000000\n",
      "50%       18347.000000\n",
      "75%       38206.000000\n",
      "max      214000.000000\n",
      "Name: mileage, dtype: float64 \n",
      "\n",
      "2\\ Meadian:  18347.0\n",
      "3\\ Mode:  <bound method Series.mode of 0        67068\n",
      "1        14827\n",
      "2        62794\n",
      "3        26676\n",
      "4        39554\n",
      "         ...  \n",
      "10776    40818\n",
      "10777    42947\n",
      "10778    25468\n",
      "10779    45000\n",
      "10780    59432\n",
      "Name: mileage, Length: 10781, dtype: int64>\n",
      "4\\ Range:  213999\n",
      "5\\ Variance:  632180132.0739378\n",
      "6\\ Số NaN:  0\n",
      "7\\ \tQ1 =  5529.0\n",
      "   \tQ3 =  38206.0\n",
      "   \tIQR =  32677.0\n",
      "8\\ Skew:  1.38310055859714\n",
      "Phân phối lệch phải\n",
      "9\\ Kurtosis:  2.2259986493497004\n",
      "Phân phối nhọn hơn pp chuẩn\n"
     ]
    },
    {
     "data": {
      "image/png": "[encoded data removed]",
      "text/plain": [
       "<Figure size 432x288 with 2 Axes>"
      ]
     },
     "metadata": {
      "needs_background": "light"
     },
     "output_type": "display_data"
    },
    {
     "data": {
      "image/png": "[encoded data removed]",
      "text/plain": [
       "<Figure size 432x288 with 1 Axes>"
      ]
     },
     "metadata": {
      "needs_background": "light"
     },
     "output_type": "display_data"
    },
    {
     "name": "stdout",
     "output_type": "stream",
     "text": [
      "Số lượng outliers:  296\n",
      "Tỉ lệ outliers so với mẫu 0.02745570911789259\n",
      "\n",
      "====================================================\n",
      "\n",
      "\n",
      "mpg\n",
      "1\\ Describe: \n",
      " count    10781.000000\n",
      "mean        56.399035\n",
      "std         31.336958\n",
      "min          5.500000\n",
      "25%         45.600000\n",
      "50%         53.300000\n",
      "75%         62.800000\n",
      "max        470.800000\n",
      "Name: mpg, dtype: float64 \n",
      "\n",
      "2\\ Meadian:  53.3\n",
      "3\\ Mode:  <bound method Series.mode of 0        57.6\n",
      "1        42.8\n",
      "2        51.4\n",
      "3        72.4\n",
      "4        50.4\n",
      "         ... \n",
      "10776    54.3\n",
      "10777    60.1\n",
      "10778    42.8\n",
      "10779    64.2\n",
      "10780    57.6\n",
      "Name: mpg, Length: 10781, dtype: float64>\n",
      "4\\ Range:  465.3\n",
      "5\\ Variance:  982.004928568417\n",
      "6\\ Số NaN:  0\n",
      "7\\ \tQ1 =  45.6\n",
      "   \tQ3 =  62.8\n",
      "   \tIQR =  17.199999999999996\n",
      "8\\ Skew:  9.629234002651174\n",
      "Phân phối lệch phải\n",
      "9\\ Kurtosis:  120.45934608072444\n",
      "Phân phối nhọn hơn pp chuẩn\n"
     ]
    },
    {
     "data": {
      "image/png": "[encoded data removed]",
      "text/plain": [
       "<Figure size 432x288 with 2 Axes>"
      ]
     },
     "metadata": {
      "needs_background": "light"
     },
     "output_type": "display_data"
    },
    {
     "data": {
      "image/png": "[encoded data removed]",
      "text/plain": [
       "<Figure size 432x288 with 1 Axes>"
      ]
     },
     "metadata": {
      "needs_background": "light"
     },
     "output_type": "display_data"
    },
    {
     "name": "stdout",
     "output_type": "stream",
     "text": [
      "Số lượng outliers:  275\n",
      "Tỉ lệ outliers so với mẫu 0.025507837862906967\n",
      "\n",
      "====================================================\n",
      "\n",
      "\n",
      "tax\n",
      "1\\ Describe: \n",
      " count    10781.000000\n",
      "mean       131.702068\n",
      "std         61.510755\n",
      "min          0.000000\n",
      "25%        135.000000\n",
      "50%        145.000000\n",
      "75%        145.000000\n",
      "max        580.000000\n",
      "Name: tax, dtype: float64 \n",
      "\n",
      "2\\ Meadian:  145.0\n",
      "3\\ Mode:  <bound method Series.mode of 0        125\n",
      "1        145\n",
      "2        160\n",
      "3        145\n",
      "4        160\n",
      "        ... \n",
      "10776    150\n",
      "10777    125\n",
      "10778    200\n",
      "10779     30\n",
      "10780    125\n",
      "Name: tax, Length: 10781, dtype: int64>\n",
      "4\\ Range:  580\n",
      "5\\ Variance:  3783.5730096357584\n",
      "6\\ Số NaN:  0\n",
      "7\\ \tQ1 =  135.0\n",
      "   \tQ3 =  145.0\n",
      "   \tIQR =  10.0\n",
      "8\\ Skew:  0.8278284621659369\n",
      "Phân phối lệch phải\n",
      "9\\ Kurtosis:  9.25867753597994\n",
      "Phân phối nhọn hơn pp chuẩn\n"
     ]
    },
    {
     "data": {
      "image/png": "[encoded data removed]",
      "text/plain": [
       "<Figure size 432x288 with 2 Axes>"
      ]
     },
     "metadata": {
      "needs_background": "light"
     },
     "output_type": "display_data"
    },
    {
     "data": {
      "image/png": "[encoded data removed]",
      "text/plain": [
       "<Figure size 432x288 with 1 Axes>"
      ]
     },
     "metadata": {
      "needs_background": "light"
     },
     "output_type": "display_data"
    },
    {
     "name": "stdout",
     "output_type": "stream",
     "text": [
      "Số lượng outliers:  2733\n",
      "Tỉ lệ outliers so với mẫu 0.2535015304702718\n",
      "\n",
      "====================================================\n",
      "\n",
      "\n"
     ]
    },
    {
     "data": {
      "application/javascript": "\n            setTimeout(function() {\n                var nbb_cell_id = 47;\n                var nbb_unformatted_code = \"df_continuous = df[[\\\"price\\\", \\\"mileage\\\", \\\"mpg\\\", \\\"tax\\\"]]\\nfor i in df_continuous:\\n    print(i)\\n    continuous_univariate_analysis(df[i])\\n    visualize_histogram(df[i])\\n    visualize_boxplot(df[i])\\n    find_outliers(df[i])\\n    print(\\\"\\\\n====================================================\\\\n\\\\n\\\")\";\n                var nbb_formatted_code = \"df_continuous = df[[\\\"price\\\", \\\"mileage\\\", \\\"mpg\\\", \\\"tax\\\"]]\\nfor i in df_continuous:\\n    print(i)\\n    continuous_univariate_analysis(df[i])\\n    visualize_histogram(df[i])\\n    visualize_boxplot(df[i])\\n    find_outliers(df[i])\\n    print(\\\"\\\\n====================================================\\\\n\\\\n\\\")\";\n                var nbb_cells = Jupyter.notebook.get_cells();\n                for (var i = 0; i < nbb_cells.length; ++i) {\n                    if (nbb_cells[i].input_prompt_number == nbb_cell_id) {\n                        if (nbb_cells[i].get_text() == nbb_unformatted_code) {\n                             nbb_cells[i].set_text(nbb_formatted_code);\n                        }\n                        break;\n                    }\n                }\n            }, 500);\n            ",
      "text/plain": [
       "<IPython.core.display.Javascript object>"
      ]
     },
     "metadata": {},
     "output_type": "display_data"
    }
   ],
   "source": [
    "df_continuous = df[[\"price\", \"mileage\", \"mpg\", \"tax\"]]\n",
    "for i in df_continuous:\n",
    "    print(i)\n",
    "    continuous_univariate_analysis(df[i])\n",
    "    visualize_histogram(df[i])\n",
    "    visualize_boxplot(df[i])\n",
    "    find_outliers(df[i])\n",
    "    print(\"\\n====================================================\\n\\n\")"
   ]
  },
  {
   "cell_type": "markdown",
   "id": "7c61e289",
   "metadata": {},
   "source": [
    "### <p style=\"color:blue\">Nhận xét</p>"
   ]
  },
  {
   "cell_type": "code",
   "execution_count": 48,
   "id": "13c4eaa6",
   "metadata": {},
   "outputs": [
    {
     "data": {
      "text/plain": [
       "'\\nCác biến có phân phối khá xấu, đều bị lệch phải \\n=> cần phải chuẩn hóa dữ liệu\\nvd: data đều > 0 và bị lệch phải, phương sai lớn => có thể sử dụng log nomalization\\n\\nSố lượng outliers lớn\\n=> đây là các outliers hợp lệ (mang tính đặc trưng của data)\\n=> nếu model xây dựng có score thấp thì cân nhắc tách các outliers ra để xây dựng 1 model mới\\n'"
      ]
     },
     "execution_count": 48,
     "metadata": {},
     "output_type": "execute_result"
    },
    {
     "data": {
      "application/javascript": "\n            setTimeout(function() {\n                var nbb_cell_id = 48;\n                var nbb_unformatted_code = \"\\\"\\\"\\\"\\nC\\u00e1c bi\\u1ebfn c\\u00f3 ph\\u00e2n ph\\u1ed1i kh\\u00e1 x\\u1ea5u, \\u0111\\u1ec1u b\\u1ecb l\\u1ec7ch ph\\u1ea3i \\n=> c\\u1ea7n ph\\u1ea3i chu\\u1ea9n h\\u00f3a d\\u1eef li\\u1ec7u\\nvd: data \\u0111\\u1ec1u > 0 v\\u00e0 b\\u1ecb l\\u1ec7ch ph\\u1ea3i, ph\\u01b0\\u01a1ng sai l\\u1edbn => c\\u00f3 th\\u1ec3 s\\u1eed d\\u1ee5ng log nomalization\\n\\nS\\u1ed1 l\\u01b0\\u1ee3ng outliers l\\u1edbn\\n=> \\u0111\\u00e2y l\\u00e0 c\\u00e1c outliers h\\u1ee3p l\\u1ec7 (mang t\\u00ednh \\u0111\\u1eb7c tr\\u01b0ng c\\u1ee7a data)\\n=> n\\u1ebfu model x\\u00e2y d\\u1ef1ng c\\u00f3 score th\\u1ea5p th\\u00ec c\\u00e2n nh\\u1eafc t\\u00e1ch c\\u00e1c outliers ra \\u0111\\u1ec3 x\\u00e2y d\\u1ef1ng 1 model m\\u1edbi\\n\\\"\\\"\\\"\";\n                var nbb_formatted_code = \"\\\"\\\"\\\"\\nC\\u00e1c bi\\u1ebfn c\\u00f3 ph\\u00e2n ph\\u1ed1i kh\\u00e1 x\\u1ea5u, \\u0111\\u1ec1u b\\u1ecb l\\u1ec7ch ph\\u1ea3i \\n=> c\\u1ea7n ph\\u1ea3i chu\\u1ea9n h\\u00f3a d\\u1eef li\\u1ec7u\\nvd: data \\u0111\\u1ec1u > 0 v\\u00e0 b\\u1ecb l\\u1ec7ch ph\\u1ea3i, ph\\u01b0\\u01a1ng sai l\\u1edbn => c\\u00f3 th\\u1ec3 s\\u1eed d\\u1ee5ng log nomalization\\n\\nS\\u1ed1 l\\u01b0\\u1ee3ng outliers l\\u1edbn\\n=> \\u0111\\u00e2y l\\u00e0 c\\u00e1c outliers h\\u1ee3p l\\u1ec7 (mang t\\u00ednh \\u0111\\u1eb7c tr\\u01b0ng c\\u1ee7a data)\\n=> n\\u1ebfu model x\\u00e2y d\\u1ef1ng c\\u00f3 score th\\u1ea5p th\\u00ec c\\u00e2n nh\\u1eafc t\\u00e1ch c\\u00e1c outliers ra \\u0111\\u1ec3 x\\u00e2y d\\u1ef1ng 1 model m\\u1edbi\\n\\\"\\\"\\\"\";\n                var nbb_cells = Jupyter.notebook.get_cells();\n                for (var i = 0; i < nbb_cells.length; ++i) {\n                    if (nbb_cells[i].input_prompt_number == nbb_cell_id) {\n                        if (nbb_cells[i].get_text() == nbb_unformatted_code) {\n                             nbb_cells[i].set_text(nbb_formatted_code);\n                        }\n                        break;\n                    }\n                }\n            }, 500);\n            ",
      "text/plain": [
       "<IPython.core.display.Javascript object>"
      ]
     },
     "metadata": {},
     "output_type": "display_data"
    }
   ],
   "source": [
    "\"\"\"\n",
    "Các biến có phân phối khá xấu, đều bị lệch phải \n",
    "=> cần phải chuẩn hóa dữ liệu\n",
    "vd: data đều > 0 và bị lệch phải, phương sai lớn => có thể sử dụng log nomalization\n",
    "\n",
    "Số lượng outliers lớn\n",
    "=> đây là các outliers hợp lệ (mang tính đặc trưng của data)\n",
    "=> nếu model xây dựng có score thấp thì cân nhắc tách các outliers ra để xây dựng 1 model mới\n",
    "\"\"\""
   ]
  },
  {
   "cell_type": "markdown",
   "id": "b92baf10",
   "metadata": {},
   "source": [
    "### Categorical Variable"
   ]
  },
  {
   "cell_type": "code",
   "execution_count": 49,
   "id": "9c36725a",
   "metadata": {},
   "outputs": [
    {
     "data": {
      "application/javascript": "\n            setTimeout(function() {\n                var nbb_cell_id = 49;\n                var nbb_unformatted_code = \"def categorical_univariate_variable(f):\\n    print(\\\"1\\\\ M\\u1eadt \\u0111\\u1ed9 ph\\u00e2n ph\\u1ed1i: \\\\n\\\", f.value_counts())\\n    print(\\\"2\\\\ S\\u1ed1 gi\\u00e1 tr\\u1ecb NaN: \\\\n\\\", f.isnull().sum())\\n    print(\\\"\\\\n\\\\n3\\\\ T\\u1ec9 l\\u1ec7 m\\u1eadt \\u0111\\u1ed9 ph\\u00e2n ph\\u1ed1i:\\\\n\\\", f.value_counts() / len(f))\\n    f.value_counts().plot.bar()\\n    plt.show()\";\n                var nbb_formatted_code = \"def categorical_univariate_variable(f):\\n    print(\\\"1\\\\ M\\u1eadt \\u0111\\u1ed9 ph\\u00e2n ph\\u1ed1i: \\\\n\\\", f.value_counts())\\n    print(\\\"2\\\\ S\\u1ed1 gi\\u00e1 tr\\u1ecb NaN: \\\\n\\\", f.isnull().sum())\\n    print(\\\"\\\\n\\\\n3\\\\ T\\u1ec9 l\\u1ec7 m\\u1eadt \\u0111\\u1ed9 ph\\u00e2n ph\\u1ed1i:\\\\n\\\", f.value_counts() / len(f))\\n    f.value_counts().plot.bar()\\n    plt.show()\";\n                var nbb_cells = Jupyter.notebook.get_cells();\n                for (var i = 0; i < nbb_cells.length; ++i) {\n                    if (nbb_cells[i].input_prompt_number == nbb_cell_id) {\n                        if (nbb_cells[i].get_text() == nbb_unformatted_code) {\n                             nbb_cells[i].set_text(nbb_formatted_code);\n                        }\n                        break;\n                    }\n                }\n            }, 500);\n            ",
      "text/plain": [
       "<IPython.core.display.Javascript object>"
      ]
     },
     "metadata": {},
     "output_type": "display_data"
    }
   ],
   "source": [
    "def categorical_univariate_variable(f):\n",
    "    print(\"1\\ Mật độ phân phối: \\n\", f.value_counts())\n",
    "    print(\"2\\ Số giá trị NaN: \\n\", f.isnull().sum())\n",
    "    print(\"\\n\\n3\\ Tỉ lệ mật độ phân phối:\\n\", f.value_counts() / len(f))\n",
    "    f.value_counts().plot.bar()\n",
    "    plt.show()"
   ]
  },
  {
   "cell_type": "code",
   "execution_count": 50,
   "id": "c90b0c06",
   "metadata": {},
   "outputs": [
    {
     "name": "stdout",
     "output_type": "stream",
     "text": [
      "fuelType\n",
      "1\\ Mật độ phân phối: \n",
      " Diesel      7027\n",
      "Petrol      3417\n",
      "Hybrid       298\n",
      "Other         36\n",
      "Electric       3\n",
      "Name: fuelType, dtype: int64\n",
      "2\\ Số giá trị NaN: \n",
      " 0\n",
      "\n",
      "\n",
      "3\\ Tỉ lệ mật độ phân phối:\n",
      " Diesel      0.651795\n",
      "Petrol      0.316946\n",
      "Hybrid      0.027641\n",
      "Other       0.003339\n",
      "Electric    0.000278\n",
      "Name: fuelType, dtype: float64\n"
     ]
    },
    {
     "data": {
      "image/png": "[encoded data removed]",
      "text/plain": [
       "<Figure size 432x288 with 1 Axes>"
      ]
     },
     "metadata": {
      "needs_background": "light"
     },
     "output_type": "display_data"
    },
    {
     "name": "stdout",
     "output_type": "stream",
     "text": [
      "\n",
      "====================================================\n",
      "\n",
      "\n",
      "transmission\n",
      "1\\ Mật độ phân phối: \n",
      " Semi-Auto    4666\n",
      "Automatic    3588\n",
      "Manual       2527\n",
      "Name: transmission, dtype: int64\n",
      "2\\ Số giá trị NaN: \n",
      " 0\n",
      "\n",
      "\n",
      "3\\ Tỉ lệ mật độ phân phối:\n",
      " Semi-Auto    0.432798\n",
      "Automatic    0.332808\n",
      "Manual       0.234394\n",
      "Name: transmission, dtype: float64\n"
     ]
    },
    {
     "data": {
      "image/png": "[encoded data removed]",
      "text/plain": [
       "<Figure size 432x288 with 1 Axes>"
      ]
     },
     "metadata": {
      "needs_background": "light"
     },
     "output_type": "display_data"
    },
    {
     "name": "stdout",
     "output_type": "stream",
     "text": [
      "\n",
      "====================================================\n",
      "\n",
      "\n",
      "model\n",
      "1\\ Mật độ phân phối: \n",
      "  3 Series    2443\n",
      " 1 Series    1969\n",
      " 2 Series    1229\n",
      " 5 Series    1056\n",
      " 4 Series     995\n",
      " X1           804\n",
      " X3           551\n",
      " X5           468\n",
      " X2           288\n",
      " X4           179\n",
      " M4           125\n",
      " 6 Series     108\n",
      " Z4           108\n",
      " 7 Series     106\n",
      " X6           106\n",
      " X7            55\n",
      " i3            43\n",
      " 8 Series      39\n",
      " M5            29\n",
      " M3            27\n",
      " M2            21\n",
      " i8            17\n",
      " M6             8\n",
      " Z3             7\n",
      "Name: model, dtype: int64\n",
      "2\\ Số giá trị NaN: \n",
      " 0\n",
      "\n",
      "\n",
      "3\\ Tỉ lệ mật độ phân phối:\n",
      "  3 Series    0.226602\n",
      " 1 Series    0.182636\n",
      " 2 Series    0.113997\n",
      " 5 Series    0.097950\n",
      " 4 Series    0.092292\n",
      " X1          0.074576\n",
      " X3          0.051108\n",
      " X5          0.043410\n",
      " X2          0.026714\n",
      " X4          0.016603\n",
      " M4          0.011594\n",
      " 6 Series    0.010018\n",
      " Z4          0.010018\n",
      " 7 Series    0.009832\n",
      " X6          0.009832\n",
      " X7          0.005102\n",
      " i3          0.003988\n",
      " 8 Series    0.003617\n",
      " M5          0.002690\n",
      " M3          0.002504\n",
      " M2          0.001948\n",
      " i8          0.001577\n",
      " M6          0.000742\n",
      " Z3          0.000649\n",
      "Name: model, dtype: float64\n"
     ]
    },
    {
     "data": {
      "image/png": "[encoded data removed]",
      "text/plain": [
       "<Figure size 432x288 with 1 Axes>"
      ]
     },
     "metadata": {
      "needs_background": "light"
     },
     "output_type": "display_data"
    },
    {
     "name": "stdout",
     "output_type": "stream",
     "text": [
      "\n",
      "====================================================\n",
      "\n",
      "\n",
      "year\n",
      "1\\ Mật độ phân phối: \n",
      " 2019    3485\n",
      "2016    1882\n",
      "2017    1721\n",
      "2015     922\n",
      "2018     848\n",
      "2020     733\n",
      "2014     501\n",
      "2013     357\n",
      "2012     119\n",
      "2011      51\n",
      "2010      41\n",
      "2009      30\n",
      "2008      23\n",
      "2007      16\n",
      "2006      14\n",
      "2004      12\n",
      "2002       6\n",
      "2005       6\n",
      "1999       4\n",
      "2001       3\n",
      "2003       2\n",
      "2000       2\n",
      "1996       1\n",
      "1997       1\n",
      "1998       1\n",
      "Name: year, dtype: int64\n",
      "2\\ Số giá trị NaN: \n",
      " 0\n",
      "\n",
      "\n",
      "3\\ Tỉ lệ mật độ phân phối:\n",
      " 2019    0.323254\n",
      "2016    0.174566\n",
      "2017    0.159633\n",
      "2015    0.085521\n",
      "2018    0.078657\n",
      "2020    0.067990\n",
      "2014    0.046471\n",
      "2013    0.033114\n",
      "2012    0.011038\n",
      "2011    0.004731\n",
      "2010    0.003803\n",
      "2009    0.002783\n",
      "2008    0.002133\n",
      "2007    0.001484\n",
      "2006    0.001299\n",
      "2004    0.001113\n",
      "2002    0.000557\n",
      "2005    0.000557\n",
      "1999    0.000371\n",
      "2001    0.000278\n",
      "2003    0.000186\n",
      "2000    0.000186\n",
      "1996    0.000093\n",
      "1997    0.000093\n",
      "1998    0.000093\n",
      "Name: year, dtype: float64\n"
     ]
    },
    {
     "data": {
      "image/png": "[encoded data removed]",
      "text/plain": [
       "<Figure size 432x288 with 1 Axes>"
      ]
     },
     "metadata": {
      "needs_background": "light"
     },
     "output_type": "display_data"
    },
    {
     "name": "stdout",
     "output_type": "stream",
     "text": [
      "\n",
      "====================================================\n",
      "\n",
      "\n",
      "engineSize\n",
      "1\\ Mật độ phân phối: \n",
      " 2.0    6575\n",
      "3.0    2458\n",
      "1.5    1463\n",
      "1.6     109\n",
      "4.4      79\n",
      "0.0      47\n",
      "2.5      14\n",
      "0.6       7\n",
      "2.2       6\n",
      "4.0       6\n",
      "3.2       5\n",
      "1.9       5\n",
      "6.6       2\n",
      "2.8       2\n",
      "1.0       1\n",
      "5.0       1\n",
      "3.5       1\n",
      "Name: engineSize, dtype: int64\n",
      "2\\ Số giá trị NaN: \n",
      " 0\n",
      "\n",
      "\n",
      "3\\ Tỉ lệ mật độ phân phối:\n",
      " 2.0    0.609869\n",
      "3.0    0.227994\n",
      "1.5    0.135702\n",
      "1.6    0.010110\n",
      "4.4    0.007328\n",
      "0.0    0.004360\n",
      "2.5    0.001299\n",
      "0.6    0.000649\n",
      "2.2    0.000557\n",
      "4.0    0.000557\n",
      "3.2    0.000464\n",
      "1.9    0.000464\n",
      "6.6    0.000186\n",
      "2.8    0.000186\n",
      "1.0    0.000093\n",
      "5.0    0.000093\n",
      "3.5    0.000093\n",
      "Name: engineSize, dtype: float64\n"
     ]
    },
    {
     "data": {
      "image/png": "[encoded data removed]",
      "text/plain": [
       "<Figure size 432x288 with 1 Axes>"
      ]
     },
     "metadata": {
      "needs_background": "light"
     },
     "output_type": "display_data"
    },
    {
     "name": "stdout",
     "output_type": "stream",
     "text": [
      "\n",
      "====================================================\n",
      "\n",
      "\n"
     ]
    },
    {
     "data": {
      "application/javascript": "\n            setTimeout(function() {\n                var nbb_cell_id = 50;\n                var nbb_unformatted_code = \"df_cate = df[[\\\"fuelType\\\", \\\"transmission\\\", \\\"model\\\", \\\"year\\\", \\\"engineSize\\\"]]\\nfor i in df_cate:\\n    print(i)\\n    categorical_univariate_variable(df[i])\\n    print(\\\"\\\\n====================================================\\\\n\\\\n\\\")\";\n                var nbb_formatted_code = \"df_cate = df[[\\\"fuelType\\\", \\\"transmission\\\", \\\"model\\\", \\\"year\\\", \\\"engineSize\\\"]]\\nfor i in df_cate:\\n    print(i)\\n    categorical_univariate_variable(df[i])\\n    print(\\\"\\\\n====================================================\\\\n\\\\n\\\")\";\n                var nbb_cells = Jupyter.notebook.get_cells();\n                for (var i = 0; i < nbb_cells.length; ++i) {\n                    if (nbb_cells[i].input_prompt_number == nbb_cell_id) {\n                        if (nbb_cells[i].get_text() == nbb_unformatted_code) {\n                             nbb_cells[i].set_text(nbb_formatted_code);\n                        }\n                        break;\n                    }\n                }\n            }, 500);\n            ",
      "text/plain": [
       "<IPython.core.display.Javascript object>"
      ]
     },
     "metadata": {},
     "output_type": "display_data"
    }
   ],
   "source": [
    "df_cate = df[[\"fuelType\", \"transmission\", \"model\", \"year\", \"engineSize\"]]\n",
    "for i in df_cate:\n",
    "    print(i)\n",
    "    categorical_univariate_variable(df[i])\n",
    "    print(\"\\n====================================================\\n\\n\")"
   ]
  },
  {
   "cell_type": "markdown",
   "id": "15a1ab43",
   "metadata": {},
   "source": [
    "### <p style=\"color:blue\">Nhận xét</p>"
   ]
  },
  {
   "cell_type": "code",
   "execution_count": 51,
   "id": "1dd7608f",
   "metadata": {},
   "outputs": [
    {
     "data": {
      "text/plain": [
       "'\\nỞ một số features, dữ liệu phân bố không đều.\\nvd: fuelType, data tập trung ở Diesel, Petrol và một phần nhỏ Hybrid; còn Other và Electric thì gần như không thấy được trên biểu đồ\\n\\n=> cân nhắc gom các data thuộc các nhóm thiểu số thành 1 nhóm \\n'"
      ]
     },
     "execution_count": 51,
     "metadata": {},
     "output_type": "execute_result"
    },
    {
     "data": {
      "application/javascript": "\n            setTimeout(function() {\n                var nbb_cell_id = 51;\n                var nbb_unformatted_code = \"\\\"\\\"\\\"\\n\\u1ede m\\u1ed9t s\\u1ed1 features, d\\u1eef li\\u1ec7u ph\\u00e2n b\\u1ed1 kh\\u00f4ng \\u0111\\u1ec1u.\\nvd: fuelType, data t\\u1eadp trung \\u1edf Diesel, Petrol v\\u00e0 m\\u1ed9t ph\\u1ea7n nh\\u1ecf Hybrid; c\\u00f2n Other v\\u00e0 Electric th\\u00ec g\\u1ea7n nh\\u01b0 kh\\u00f4ng th\\u1ea5y \\u0111\\u01b0\\u1ee3c tr\\u00ean bi\\u1ec3u \\u0111\\u1ed3\\n\\n=> c\\u00e2n nh\\u1eafc gom c\\u00e1c data thu\\u1ed9c c\\u00e1c nh\\u00f3m thi\\u1ec3u s\\u1ed1 th\\u00e0nh 1 nh\\u00f3m \\n\\\"\\\"\\\"\";\n                var nbb_formatted_code = \"\\\"\\\"\\\"\\n\\u1ede m\\u1ed9t s\\u1ed1 features, d\\u1eef li\\u1ec7u ph\\u00e2n b\\u1ed1 kh\\u00f4ng \\u0111\\u1ec1u.\\nvd: fuelType, data t\\u1eadp trung \\u1edf Diesel, Petrol v\\u00e0 m\\u1ed9t ph\\u1ea7n nh\\u1ecf Hybrid; c\\u00f2n Other v\\u00e0 Electric th\\u00ec g\\u1ea7n nh\\u01b0 kh\\u00f4ng th\\u1ea5y \\u0111\\u01b0\\u1ee3c tr\\u00ean bi\\u1ec3u \\u0111\\u1ed3\\n\\n=> c\\u00e2n nh\\u1eafc gom c\\u00e1c data thu\\u1ed9c c\\u00e1c nh\\u00f3m thi\\u1ec3u s\\u1ed1 th\\u00e0nh 1 nh\\u00f3m \\n\\\"\\\"\\\"\";\n                var nbb_cells = Jupyter.notebook.get_cells();\n                for (var i = 0; i < nbb_cells.length; ++i) {\n                    if (nbb_cells[i].input_prompt_number == nbb_cell_id) {\n                        if (nbb_cells[i].get_text() == nbb_unformatted_code) {\n                             nbb_cells[i].set_text(nbb_formatted_code);\n                        }\n                        break;\n                    }\n                }\n            }, 500);\n            ",
      "text/plain": [
       "<IPython.core.display.Javascript object>"
      ]
     },
     "metadata": {},
     "output_type": "display_data"
    }
   ],
   "source": [
    "\"\"\"\n",
    "Ở một số features, dữ liệu phân bố không đều.\n",
    "vd: fuelType, data tập trung ở Diesel, Petrol và một phần nhỏ Hybrid; còn Other và Electric thì gần như không thấy được trên biểu đồ\n",
    "\n",
    "=> cân nhắc gom các data thuộc các nhóm thiểu số thành 1 nhóm \n",
    "\"\"\""
   ]
  },
  {
   "cell_type": "markdown",
   "id": "2c5faca9",
   "metadata": {},
   "source": [
    "### Phân tích đa biến"
   ]
  },
  {
   "cell_type": "markdown",
   "id": "3fcd2479",
   "metadata": {},
   "source": [
    "### Continuous - Continuous"
   ]
  },
  {
   "cell_type": "code",
   "execution_count": 52,
   "id": "48e0f098",
   "metadata": {},
   "outputs": [
    {
     "data": {
      "text/html": [
       "<div>\n",
       "<style scoped>\n",
       "    .dataframe tbody tr th:only-of-type {\n",
       "        vertical-align: middle;\n",
       "    }\n",
       "\n",
       "    .dataframe tbody tr th {\n",
       "        vertical-align: top;\n",
       "    }\n",
       "\n",
       "    .dataframe thead th {\n",
       "        text-align: right;\n",
       "    }\n",
       "</style>\n",
       "<table border=\"1\" class=\"dataframe\">\n",
       "  <thead>\n",
       "    <tr style=\"text-align: right;\">\n",
       "      <th></th>\n",
       "      <th>price</th>\n",
       "      <th>mileage</th>\n",
       "      <th>mpg</th>\n",
       "      <th>tax</th>\n",
       "    </tr>\n",
       "  </thead>\n",
       "  <tbody>\n",
       "    <tr>\n",
       "      <th>price</th>\n",
       "      <td>1.000000</td>\n",
       "      <td>-0.605397</td>\n",
       "      <td>-0.204882</td>\n",
       "      <td>0.263484</td>\n",
       "    </tr>\n",
       "    <tr>\n",
       "      <th>mileage</th>\n",
       "      <td>-0.605397</td>\n",
       "      <td>1.000000</td>\n",
       "      <td>0.118609</td>\n",
       "      <td>-0.170747</td>\n",
       "    </tr>\n",
       "    <tr>\n",
       "      <th>mpg</th>\n",
       "      <td>-0.204882</td>\n",
       "      <td>0.118609</td>\n",
       "      <td>1.000000</td>\n",
       "      <td>-0.351798</td>\n",
       "    </tr>\n",
       "    <tr>\n",
       "      <th>tax</th>\n",
       "      <td>0.263484</td>\n",
       "      <td>-0.170747</td>\n",
       "      <td>-0.351798</td>\n",
       "      <td>1.000000</td>\n",
       "    </tr>\n",
       "  </tbody>\n",
       "</table>\n",
       "</div>"
      ],
      "text/plain": [
       "            price   mileage       mpg       tax\n",
       "price    1.000000 -0.605397 -0.204882  0.263484\n",
       "mileage -0.605397  1.000000  0.118609 -0.170747\n",
       "mpg     -0.204882  0.118609  1.000000 -0.351798\n",
       "tax      0.263484 -0.170747 -0.351798  1.000000"
      ]
     },
     "execution_count": 52,
     "metadata": {},
     "output_type": "execute_result"
    },
    {
     "data": {
      "application/javascript": "\n            setTimeout(function() {\n                var nbb_cell_id = 52;\n                var nbb_unformatted_code = \"df_corr = df_continuous.corr()\\ndf_corr\";\n                var nbb_formatted_code = \"df_corr = df_continuous.corr()\\ndf_corr\";\n                var nbb_cells = Jupyter.notebook.get_cells();\n                for (var i = 0; i < nbb_cells.length; ++i) {\n                    if (nbb_cells[i].input_prompt_number == nbb_cell_id) {\n                        if (nbb_cells[i].get_text() == nbb_unformatted_code) {\n                             nbb_cells[i].set_text(nbb_formatted_code);\n                        }\n                        break;\n                    }\n                }\n            }, 500);\n            ",
      "text/plain": [
       "<IPython.core.display.Javascript object>"
      ]
     },
     "metadata": {},
     "output_type": "display_data"
    }
   ],
   "source": [
    "df_corr = df_continuous.corr()\n",
    "df_corr\n"
   ]
  },
  {
   "cell_type": "code",
   "execution_count": 53,
   "id": "f2a1087a",
   "metadata": {},
   "outputs": [
    {
     "data": {
      "image/png": "[encoded data removed]",
      "text/plain": [
       "<Figure size 720x576 with 2 Axes>"
      ]
     },
     "metadata": {
      "needs_background": "light"
     },
     "output_type": "display_data"
    },
    {
     "data": {
      "application/javascript": "\n            setTimeout(function() {\n                var nbb_cell_id = 53;\n                var nbb_unformatted_code = \"plt.figure(figsize=(10, 8))\\nsns.heatmap(df_corr, annot=True)\\nplt.show()\";\n                var nbb_formatted_code = \"plt.figure(figsize=(10, 8))\\nsns.heatmap(df_corr, annot=True)\\nplt.show()\";\n                var nbb_cells = Jupyter.notebook.get_cells();\n                for (var i = 0; i < nbb_cells.length; ++i) {\n                    if (nbb_cells[i].input_prompt_number == nbb_cell_id) {\n                        if (nbb_cells[i].get_text() == nbb_unformatted_code) {\n                             nbb_cells[i].set_text(nbb_formatted_code);\n                        }\n                        break;\n                    }\n                }\n            }, 500);\n            ",
      "text/plain": [
       "<IPython.core.display.Javascript object>"
      ]
     },
     "metadata": {},
     "output_type": "display_data"
    }
   ],
   "source": [
    "plt.figure(figsize=(10, 8))\n",
    "sns.heatmap(df_corr, annot=True)\n",
    "plt.show()"
   ]
  },
  {
   "cell_type": "code",
   "execution_count": 55,
   "id": "6eb88351",
   "metadata": {},
   "outputs": [
    {
     "data": {
      "text/plain": [
       "'\\nprice có tương quan mạnh với mileage\\ntax có tương quan với mpg\\n'"
      ]
     },
     "execution_count": 55,
     "metadata": {},
     "output_type": "execute_result"
    },
    {
     "data": {
      "application/javascript": "\n            setTimeout(function() {\n                var nbb_cell_id = 55;\n                var nbb_unformatted_code = \"\\\"\\\"\\\"\\nprice c\\u00f3 t\\u01b0\\u01a1ng quan m\\u1ea1nh v\\u1edbi mileage\\ntax c\\u00f3 t\\u01b0\\u01a1ng quan v\\u1edbi mpg\\n\\\"\\\"\\\"\";\n                var nbb_formatted_code = \"\\\"\\\"\\\"\\nprice c\\u00f3 t\\u01b0\\u01a1ng quan m\\u1ea1nh v\\u1edbi mileage\\ntax c\\u00f3 t\\u01b0\\u01a1ng quan v\\u1edbi mpg\\n\\\"\\\"\\\"\";\n                var nbb_cells = Jupyter.notebook.get_cells();\n                for (var i = 0; i < nbb_cells.length; ++i) {\n                    if (nbb_cells[i].input_prompt_number == nbb_cell_id) {\n                        if (nbb_cells[i].get_text() == nbb_unformatted_code) {\n                             nbb_cells[i].set_text(nbb_formatted_code);\n                        }\n                        break;\n                    }\n                }\n            }, 500);\n            ",
      "text/plain": [
       "<IPython.core.display.Javascript object>"
      ]
     },
     "metadata": {},
     "output_type": "display_data"
    }
   ],
   "source": [
    "\"\"\"\n",
    "price có tương quan mạnh với mileage\n",
    "tax có tương quan với mpg\n",
    "\"\"\""
   ]
  },
  {
   "cell_type": "markdown",
   "id": "f617cd5a",
   "metadata": {},
   "source": [
    "### Categorical - Continuous"
   ]
  },
  {
   "cell_type": "code",
   "execution_count": 56,
   "id": "0440096a",
   "metadata": {},
   "outputs": [
    {
     "data": {
      "text/html": [
       "<div>\n",
       "<style scoped>\n",
       "    .dataframe tbody tr th:only-of-type {\n",
       "        vertical-align: middle;\n",
       "    }\n",
       "\n",
       "    .dataframe tbody tr th {\n",
       "        vertical-align: top;\n",
       "    }\n",
       "\n",
       "    .dataframe thead th {\n",
       "        text-align: right;\n",
       "    }\n",
       "</style>\n",
       "<table border=\"1\" class=\"dataframe\">\n",
       "  <thead>\n",
       "    <tr style=\"text-align: right;\">\n",
       "      <th></th>\n",
       "      <th>df</th>\n",
       "      <th>sum_sq</th>\n",
       "      <th>mean_sq</th>\n",
       "      <th>F</th>\n",
       "      <th>PR(&gt;F)</th>\n",
       "    </tr>\n",
       "  </thead>\n",
       "  <tbody>\n",
       "    <tr>\n",
       "      <th>C(fuelType)</th>\n",
       "      <td>4.0</td>\n",
       "      <td>2.210244e+10</td>\n",
       "      <td>5.525610e+09</td>\n",
       "      <td>43.063999</td>\n",
       "      <td>6.671899e-36</td>\n",
       "    </tr>\n",
       "    <tr>\n",
       "      <th>Residual</th>\n",
       "      <td>10776.0</td>\n",
       "      <td>1.382686e+12</td>\n",
       "      <td>1.283116e+08</td>\n",
       "      <td>NaN</td>\n",
       "      <td>NaN</td>\n",
       "    </tr>\n",
       "  </tbody>\n",
       "</table>\n",
       "</div>"
      ],
      "text/plain": [
       "                  df        sum_sq       mean_sq          F        PR(>F)\n",
       "C(fuelType)      4.0  2.210244e+10  5.525610e+09  43.063999  6.671899e-36\n",
       "Residual     10776.0  1.382686e+12  1.283116e+08        NaN           NaN"
      ]
     },
     "execution_count": 56,
     "metadata": {},
     "output_type": "execute_result"
    },
    {
     "data": {
      "application/javascript": "\n            setTimeout(function() {\n                var nbb_cell_id = 56;\n                var nbb_unformatted_code = \"model = ols(\\n    \\\"price ~ C(fuelType)\\\",\\n    data=df,\\n).fit()\\nsm.stats.anova_lm(model)\";\n                var nbb_formatted_code = \"model = ols(\\n    \\\"price ~ C(fuelType)\\\",\\n    data=df,\\n).fit()\\nsm.stats.anova_lm(model)\";\n                var nbb_cells = Jupyter.notebook.get_cells();\n                for (var i = 0; i < nbb_cells.length; ++i) {\n                    if (nbb_cells[i].input_prompt_number == nbb_cell_id) {\n                        if (nbb_cells[i].get_text() == nbb_unformatted_code) {\n                             nbb_cells[i].set_text(nbb_formatted_code);\n                        }\n                        break;\n                    }\n                }\n            }, 500);\n            ",
      "text/plain": [
       "<IPython.core.display.Javascript object>"
      ]
     },
     "metadata": {},
     "output_type": "display_data"
    }
   ],
   "source": [
    "model = ols(\n",
    "    \"price ~ C(fuelType)\",\n",
    "    data=df,\n",
    ").fit()\n",
    "sm.stats.anova_lm(model)"
   ]
  },
  {
   "cell_type": "code",
   "execution_count": 57,
   "id": "a9c55bf4",
   "metadata": {},
   "outputs": [
    {
     "data": {
      "text/html": [
       "<div>\n",
       "<style scoped>\n",
       "    .dataframe tbody tr th:only-of-type {\n",
       "        vertical-align: middle;\n",
       "    }\n",
       "\n",
       "    .dataframe tbody tr th {\n",
       "        vertical-align: top;\n",
       "    }\n",
       "\n",
       "    .dataframe thead th {\n",
       "        text-align: right;\n",
       "    }\n",
       "</style>\n",
       "<table border=\"1\" class=\"dataframe\">\n",
       "  <thead>\n",
       "    <tr style=\"text-align: right;\">\n",
       "      <th></th>\n",
       "      <th>df</th>\n",
       "      <th>sum_sq</th>\n",
       "      <th>mean_sq</th>\n",
       "      <th>F</th>\n",
       "      <th>PR(&gt;F)</th>\n",
       "    </tr>\n",
       "  </thead>\n",
       "  <tbody>\n",
       "    <tr>\n",
       "      <th>C(transmission)</th>\n",
       "      <td>2.0</td>\n",
       "      <td>2.658521e+11</td>\n",
       "      <td>1.329261e+11</td>\n",
       "      <td>1257.908494</td>\n",
       "      <td>0.0</td>\n",
       "    </tr>\n",
       "    <tr>\n",
       "      <th>Residual</th>\n",
       "      <td>10778.0</td>\n",
       "      <td>1.138936e+12</td>\n",
       "      <td>1.056723e+08</td>\n",
       "      <td>NaN</td>\n",
       "      <td>NaN</td>\n",
       "    </tr>\n",
       "  </tbody>\n",
       "</table>\n",
       "</div>"
      ],
      "text/plain": [
       "                      df        sum_sq       mean_sq            F  PR(>F)\n",
       "C(transmission)      2.0  2.658521e+11  1.329261e+11  1257.908494     0.0\n",
       "Residual         10778.0  1.138936e+12  1.056723e+08          NaN     NaN"
      ]
     },
     "execution_count": 57,
     "metadata": {},
     "output_type": "execute_result"
    },
    {
     "data": {
      "application/javascript": "\n            setTimeout(function() {\n                var nbb_cell_id = 57;\n                var nbb_unformatted_code = \"model = ols(\\n    \\\"price ~ C(transmission)\\\",\\n    data=df,\\n).fit()\\nsm.stats.anova_lm(model)\";\n                var nbb_formatted_code = \"model = ols(\\n    \\\"price ~ C(transmission)\\\",\\n    data=df,\\n).fit()\\nsm.stats.anova_lm(model)\";\n                var nbb_cells = Jupyter.notebook.get_cells();\n                for (var i = 0; i < nbb_cells.length; ++i) {\n                    if (nbb_cells[i].input_prompt_number == nbb_cell_id) {\n                        if (nbb_cells[i].get_text() == nbb_unformatted_code) {\n                             nbb_cells[i].set_text(nbb_formatted_code);\n                        }\n                        break;\n                    }\n                }\n            }, 500);\n            ",
      "text/plain": [
       "<IPython.core.display.Javascript object>"
      ]
     },
     "metadata": {},
     "output_type": "display_data"
    }
   ],
   "source": [
    "model = ols(\n",
    "    \"price ~ C(transmission)\",\n",
    "    data=df,\n",
    ").fit()\n",
    "sm.stats.anova_lm(model)"
   ]
  },
  {
   "cell_type": "code",
   "execution_count": 58,
   "id": "0e86718c",
   "metadata": {},
   "outputs": [
    {
     "data": {
      "text/html": [
       "<div>\n",
       "<style scoped>\n",
       "    .dataframe tbody tr th:only-of-type {\n",
       "        vertical-align: middle;\n",
       "    }\n",
       "\n",
       "    .dataframe tbody tr th {\n",
       "        vertical-align: top;\n",
       "    }\n",
       "\n",
       "    .dataframe thead th {\n",
       "        text-align: right;\n",
       "    }\n",
       "</style>\n",
       "<table border=\"1\" class=\"dataframe\">\n",
       "  <thead>\n",
       "    <tr style=\"text-align: right;\">\n",
       "      <th></th>\n",
       "      <th>df</th>\n",
       "      <th>sum_sq</th>\n",
       "      <th>mean_sq</th>\n",
       "      <th>F</th>\n",
       "      <th>PR(&gt;F)</th>\n",
       "    </tr>\n",
       "  </thead>\n",
       "  <tbody>\n",
       "    <tr>\n",
       "      <th>C(model)</th>\n",
       "      <td>23.0</td>\n",
       "      <td>6.899629e+11</td>\n",
       "      <td>2.999839e+10</td>\n",
       "      <td>451.42879</td>\n",
       "      <td>0.0</td>\n",
       "    </tr>\n",
       "    <tr>\n",
       "      <th>Residual</th>\n",
       "      <td>10757.0</td>\n",
       "      <td>7.148251e+11</td>\n",
       "      <td>6.645209e+07</td>\n",
       "      <td>NaN</td>\n",
       "      <td>NaN</td>\n",
       "    </tr>\n",
       "  </tbody>\n",
       "</table>\n",
       "</div>"
      ],
      "text/plain": [
       "               df        sum_sq       mean_sq          F  PR(>F)\n",
       "C(model)     23.0  6.899629e+11  2.999839e+10  451.42879     0.0\n",
       "Residual  10757.0  7.148251e+11  6.645209e+07        NaN     NaN"
      ]
     },
     "execution_count": 58,
     "metadata": {},
     "output_type": "execute_result"
    },
    {
     "data": {
      "application/javascript": "\n            setTimeout(function() {\n                var nbb_cell_id = 58;\n                var nbb_unformatted_code = \"model = ols(\\n    \\\"price ~ C(model)\\\",\\n    data=df,\\n).fit()\\nsm.stats.anova_lm(model)\";\n                var nbb_formatted_code = \"model = ols(\\n    \\\"price ~ C(model)\\\",\\n    data=df,\\n).fit()\\nsm.stats.anova_lm(model)\";\n                var nbb_cells = Jupyter.notebook.get_cells();\n                for (var i = 0; i < nbb_cells.length; ++i) {\n                    if (nbb_cells[i].input_prompt_number == nbb_cell_id) {\n                        if (nbb_cells[i].get_text() == nbb_unformatted_code) {\n                             nbb_cells[i].set_text(nbb_formatted_code);\n                        }\n                        break;\n                    }\n                }\n            }, 500);\n            ",
      "text/plain": [
       "<IPython.core.display.Javascript object>"
      ]
     },
     "metadata": {},
     "output_type": "display_data"
    }
   ],
   "source": [
    "model = ols(\n",
    "    \"price ~ C(model)\",\n",
    "    data=df,\n",
    ").fit()\n",
    "sm.stats.anova_lm(model)"
   ]
  },
  {
   "cell_type": "code",
   "execution_count": 59,
   "id": "df70f57c",
   "metadata": {},
   "outputs": [
    {
     "data": {
      "text/html": [
       "<div>\n",
       "<style scoped>\n",
       "    .dataframe tbody tr th:only-of-type {\n",
       "        vertical-align: middle;\n",
       "    }\n",
       "\n",
       "    .dataframe tbody tr th {\n",
       "        vertical-align: top;\n",
       "    }\n",
       "\n",
       "    .dataframe thead th {\n",
       "        text-align: right;\n",
       "    }\n",
       "</style>\n",
       "<table border=\"1\" class=\"dataframe\">\n",
       "  <thead>\n",
       "    <tr style=\"text-align: right;\">\n",
       "      <th></th>\n",
       "      <th>df</th>\n",
       "      <th>sum_sq</th>\n",
       "      <th>mean_sq</th>\n",
       "      <th>F</th>\n",
       "      <th>PR(&gt;F)</th>\n",
       "    </tr>\n",
       "  </thead>\n",
       "  <tbody>\n",
       "    <tr>\n",
       "      <th>C(year)</th>\n",
       "      <td>24.0</td>\n",
       "      <td>6.660610e+11</td>\n",
       "      <td>2.775254e+10</td>\n",
       "      <td>404.082117</td>\n",
       "      <td>0.0</td>\n",
       "    </tr>\n",
       "    <tr>\n",
       "      <th>Residual</th>\n",
       "      <td>10756.0</td>\n",
       "      <td>7.387270e+11</td>\n",
       "      <td>6.868045e+07</td>\n",
       "      <td>NaN</td>\n",
       "      <td>NaN</td>\n",
       "    </tr>\n",
       "  </tbody>\n",
       "</table>\n",
       "</div>"
      ],
      "text/plain": [
       "               df        sum_sq       mean_sq           F  PR(>F)\n",
       "C(year)      24.0  6.660610e+11  2.775254e+10  404.082117     0.0\n",
       "Residual  10756.0  7.387270e+11  6.868045e+07         NaN     NaN"
      ]
     },
     "execution_count": 59,
     "metadata": {},
     "output_type": "execute_result"
    },
    {
     "data": {
      "application/javascript": "\n            setTimeout(function() {\n                var nbb_cell_id = 59;\n                var nbb_unformatted_code = \"model = ols(\\n    \\\"price ~ C(year)\\\",\\n    data=df,\\n).fit()\\nsm.stats.anova_lm(model)\";\n                var nbb_formatted_code = \"model = ols(\\n    \\\"price ~ C(year)\\\",\\n    data=df,\\n).fit()\\nsm.stats.anova_lm(model)\";\n                var nbb_cells = Jupyter.notebook.get_cells();\n                for (var i = 0; i < nbb_cells.length; ++i) {\n                    if (nbb_cells[i].input_prompt_number == nbb_cell_id) {\n                        if (nbb_cells[i].get_text() == nbb_unformatted_code) {\n                             nbb_cells[i].set_text(nbb_formatted_code);\n                        }\n                        break;\n                    }\n                }\n            }, 500);\n            ",
      "text/plain": [
       "<IPython.core.display.Javascript object>"
      ]
     },
     "metadata": {},
     "output_type": "display_data"
    }
   ],
   "source": [
    "model = ols(\n",
    "    \"price ~ C(year)\",\n",
    "    data=df,\n",
    ").fit()\n",
    "sm.stats.anova_lm(model)"
   ]
  },
  {
   "cell_type": "code",
   "execution_count": 60,
   "id": "8c7ccd14",
   "metadata": {},
   "outputs": [
    {
     "data": {
      "text/html": [
       "<div>\n",
       "<style scoped>\n",
       "    .dataframe tbody tr th:only-of-type {\n",
       "        vertical-align: middle;\n",
       "    }\n",
       "\n",
       "    .dataframe tbody tr th {\n",
       "        vertical-align: top;\n",
       "    }\n",
       "\n",
       "    .dataframe thead th {\n",
       "        text-align: right;\n",
       "    }\n",
       "</style>\n",
       "<table border=\"1\" class=\"dataframe\">\n",
       "  <thead>\n",
       "    <tr style=\"text-align: right;\">\n",
       "      <th></th>\n",
       "      <th>df</th>\n",
       "      <th>sum_sq</th>\n",
       "      <th>mean_sq</th>\n",
       "      <th>F</th>\n",
       "      <th>PR(&gt;F)</th>\n",
       "    </tr>\n",
       "  </thead>\n",
       "  <tbody>\n",
       "    <tr>\n",
       "      <th>C(engineSize)</th>\n",
       "      <td>16.0</td>\n",
       "      <td>3.388874e+11</td>\n",
       "      <td>2.118046e+10</td>\n",
       "      <td>213.890928</td>\n",
       "      <td>0.0</td>\n",
       "    </tr>\n",
       "    <tr>\n",
       "      <th>Residual</th>\n",
       "      <td>10764.0</td>\n",
       "      <td>1.065901e+12</td>\n",
       "      <td>9.902458e+07</td>\n",
       "      <td>NaN</td>\n",
       "      <td>NaN</td>\n",
       "    </tr>\n",
       "  </tbody>\n",
       "</table>\n",
       "</div>"
      ],
      "text/plain": [
       "                    df        sum_sq       mean_sq           F  PR(>F)\n",
       "C(engineSize)     16.0  3.388874e+11  2.118046e+10  213.890928     0.0\n",
       "Residual       10764.0  1.065901e+12  9.902458e+07         NaN     NaN"
      ]
     },
     "execution_count": 60,
     "metadata": {},
     "output_type": "execute_result"
    },
    {
     "data": {
      "application/javascript": "\n            setTimeout(function() {\n                var nbb_cell_id = 60;\n                var nbb_unformatted_code = \"model = ols(\\n    \\\"price ~ C(engineSize)\\\",\\n    data=df,\\n).fit()\\nsm.stats.anova_lm(model)\";\n                var nbb_formatted_code = \"model = ols(\\n    \\\"price ~ C(engineSize)\\\",\\n    data=df,\\n).fit()\\nsm.stats.anova_lm(model)\";\n                var nbb_cells = Jupyter.notebook.get_cells();\n                for (var i = 0; i < nbb_cells.length; ++i) {\n                    if (nbb_cells[i].input_prompt_number == nbb_cell_id) {\n                        if (nbb_cells[i].get_text() == nbb_unformatted_code) {\n                             nbb_cells[i].set_text(nbb_formatted_code);\n                        }\n                        break;\n                    }\n                }\n            }, 500);\n            ",
      "text/plain": [
       "<IPython.core.display.Javascript object>"
      ]
     },
     "metadata": {},
     "output_type": "display_data"
    }
   ],
   "source": [
    "model = ols(\n",
    "    \"price ~ C(engineSize)\",\n",
    "    data=df,\n",
    ").fit()\n",
    "sm.stats.anova_lm(model)"
   ]
  },
  {
   "cell_type": "markdown",
   "id": "31dc16ec",
   "metadata": {},
   "source": [
    "### Category - Category"
   ]
  },
  {
   "cell_type": "code",
   "execution_count": 61,
   "id": "ba1bc790",
   "metadata": {},
   "outputs": [
    {
     "data": {
      "application/javascript": "\n            setTimeout(function() {\n                var nbb_cell_id = 61;\n                var nbb_unformatted_code = \"def cate_cate(dataset, f1, f2):\\n    table = pd.crosstab(f1, f2)\\n    table.plot.bar(stacked=True)\\n    plt.show()\\n\\n    stat, p_value, dof, expected = chi2_contingency(table)\\n    # so s\\u00e1nh p-value\\n    proba = 0.95\\n    alpha = 1 - proba\\n\\n    print(\\\"Statistic: \\\", stat)\\n    print(\\\"p-value: \\\", p_value)\\n    print(\\\"Dof: \\\", dof)\\n    if p_value <= alpha:\\n        print(\\\"Dependent (reject H0)\\\")\\n    else:\\n        print(\\\"Independent (fail to H0)\\\")\";\n                var nbb_formatted_code = \"def cate_cate(dataset, f1, f2):\\n    table = pd.crosstab(f1, f2)\\n    table.plot.bar(stacked=True)\\n    plt.show()\\n\\n    stat, p_value, dof, expected = chi2_contingency(table)\\n    # so s\\u00e1nh p-value\\n    proba = 0.95\\n    alpha = 1 - proba\\n\\n    print(\\\"Statistic: \\\", stat)\\n    print(\\\"p-value: \\\", p_value)\\n    print(\\\"Dof: \\\", dof)\\n    if p_value <= alpha:\\n        print(\\\"Dependent (reject H0)\\\")\\n    else:\\n        print(\\\"Independent (fail to H0)\\\")\";\n                var nbb_cells = Jupyter.notebook.get_cells();\n                for (var i = 0; i < nbb_cells.length; ++i) {\n                    if (nbb_cells[i].input_prompt_number == nbb_cell_id) {\n                        if (nbb_cells[i].get_text() == nbb_unformatted_code) {\n                             nbb_cells[i].set_text(nbb_formatted_code);\n                        }\n                        break;\n                    }\n                }\n            }, 500);\n            ",
      "text/plain": [
       "<IPython.core.display.Javascript object>"
      ]
     },
     "metadata": {},
     "output_type": "display_data"
    }
   ],
   "source": [
    "def cate_cate(dataset, f1, f2):\n",
    "    table = pd.crosstab(f1, f2)\n",
    "    table.plot.bar(stacked=True)\n",
    "    plt.show()\n",
    "\n",
    "    stat, p_value, dof, expected = chi2_contingency(table)\n",
    "    # so sánh p-value\n",
    "    proba = 0.95\n",
    "    alpha = 1 - proba\n",
    "\n",
    "    print(\"Statistic: \", stat)\n",
    "    print(\"p-value: \", p_value)\n",
    "    print(\"Dof: \", dof)\n",
    "    if p_value <= alpha:\n",
    "        print(\"Dependent (reject H0)\")\n",
    "    else:\n",
    "        print(\"Independent (fail to H0)\")"
   ]
  },
  {
   "cell_type": "code",
   "execution_count": 62,
   "id": "b0213e38",
   "metadata": {},
   "outputs": [
    {
     "name": "stdout",
     "output_type": "stream",
     "text": [
      "fuelType & transmission\n"
     ]
    },
    {
     "data": {
      "image/png": "[encoded data removed]",
      "text/plain": [
       "<Figure size 432x288 with 1 Axes>"
      ]
     },
     "metadata": {
      "needs_background": "light"
     },
     "output_type": "display_data"
    },
    {
     "name": "stdout",
     "output_type": "stream",
     "text": [
      "Statistic:  350.20796124622575\n",
      "p-value:  8.175341301282378e-71\n",
      "Dof:  8\n",
      "Dependent (reject H0)\n",
      "\n",
      "\n",
      "fuelType & model\n"
     ]
    },
    {
     "data": {
      "image/png": "[encoded data removed]",
      "text/plain": [
       "<Figure size 432x288 with 1 Axes>"
      ]
     },
     "metadata": {
      "needs_background": "light"
     },
     "output_type": "display_data"
    },
    {
     "name": "stdout",
     "output_type": "stream",
     "text": [
      "Statistic:  4456.566819934104\n",
      "p-value:  0.0\n",
      "Dof:  92\n",
      "Dependent (reject H0)\n",
      "\n",
      "\n",
      "fuelType & year\n"
     ]
    },
    {
     "data": {
      "image/png": "[encoded data removed]",
      "text/plain": [
       "<Figure size 432x288 with 1 Axes>"
      ]
     },
     "metadata": {
      "needs_background": "light"
     },
     "output_type": "display_data"
    },
    {
     "name": "stdout",
     "output_type": "stream",
     "text": [
      "Statistic:  799.7037572545056\n",
      "p-value:  1.893526710095939e-111\n",
      "Dof:  96\n",
      "Dependent (reject H0)\n",
      "\n",
      "\n",
      "fuelType & engineSize\n"
     ]
    },
    {
     "data": {
      "image/png": "[encoded data removed]",
      "text/plain": [
       "<Figure size 432x288 with 1 Axes>"
      ]
     },
     "metadata": {
      "needs_background": "light"
     },
     "output_type": "display_data"
    },
    {
     "name": "stdout",
     "output_type": "stream",
     "text": [
      "Statistic:  8240.100636672132\n",
      "p-value:  0.0\n",
      "Dof:  64\n",
      "Dependent (reject H0)\n",
      "\n",
      "\n",
      "transmission & transmission\n"
     ]
    },
    {
     "data": {
      "image/png": "[encoded data removed]",
      "text/plain": [
       "<Figure size 432x288 with 1 Axes>"
      ]
     },
     "metadata": {
      "needs_background": "light"
     },
     "output_type": "display_data"
    },
    {
     "name": "stdout",
     "output_type": "stream",
     "text": [
      "Statistic:  21562.0\n",
      "p-value:  0.0\n",
      "Dof:  4\n",
      "Dependent (reject H0)\n",
      "\n",
      "\n",
      "transmission & model\n"
     ]
    },
    {
     "data": {
      "image/png": "[encoded data removed]",
      "text/plain": [
       "<Figure size 432x288 with 1 Axes>"
      ]
     },
     "metadata": {
      "needs_background": "light"
     },
     "output_type": "display_data"
    },
    {
     "name": "stdout",
     "output_type": "stream",
     "text": [
      "Statistic:  2436.8985352124582\n",
      "p-value:  0.0\n",
      "Dof:  46\n",
      "Dependent (reject H0)\n",
      "\n",
      "\n",
      "transmission & year\n"
     ]
    },
    {
     "data": {
      "image/png": "[encoded data removed]",
      "text/plain": [
       "<Figure size 432x288 with 1 Axes>"
      ]
     },
     "metadata": {
      "needs_background": "light"
     },
     "output_type": "display_data"
    },
    {
     "name": "stdout",
     "output_type": "stream",
     "text": [
      "Statistic:  1637.5260916269888\n",
      "p-value:  1.042871689539e-311\n",
      "Dof:  48\n",
      "Dependent (reject H0)\n",
      "\n",
      "\n",
      "transmission & engineSize\n"
     ]
    },
    {
     "data": {
      "image/png": "[encoded data removed]",
      "text/plain": [
       "<Figure size 432x288 with 1 Axes>"
      ]
     },
     "metadata": {
      "needs_background": "light"
     },
     "output_type": "display_data"
    },
    {
     "name": "stdout",
     "output_type": "stream",
     "text": [
      "Statistic:  2161.0939698486286\n",
      "p-value:  0.0\n",
      "Dof:  32\n",
      "Dependent (reject H0)\n",
      "\n",
      "\n",
      "model & transmission\n"
     ]
    },
    {
     "data": {
      "image/png": "[encoded data removed]",
      "text/plain": [
       "<Figure size 432x288 with 1 Axes>"
      ]
     },
     "metadata": {
      "needs_background": "light"
     },
     "output_type": "display_data"
    },
    {
     "name": "stdout",
     "output_type": "stream",
     "text": [
      "Statistic:  2436.898535212458\n",
      "p-value:  0.0\n",
      "Dof:  46\n",
      "Dependent (reject H0)\n",
      "\n",
      "\n",
      "model & model\n"
     ]
    },
    {
     "data": {
      "image/png": "[encoded data removed]",
      "text/plain": [
       "<Figure size 432x288 with 1 Axes>"
      ]
     },
     "metadata": {
      "needs_background": "light"
     },
     "output_type": "display_data"
    },
    {
     "name": "stdout",
     "output_type": "stream",
     "text": [
      "Statistic:  247963.0\n",
      "p-value:  0.0\n",
      "Dof:  529\n",
      "Dependent (reject H0)\n",
      "\n",
      "\n",
      "model & year\n"
     ]
    },
    {
     "data": {
      "image/png": "[encoded data removed]",
      "text/plain": [
       "<Figure size 432x288 with 1 Axes>"
      ]
     },
     "metadata": {
      "needs_background": "light"
     },
     "output_type": "display_data"
    },
    {
     "name": "stdout",
     "output_type": "stream",
     "text": [
      "Statistic:  10090.68128528567\n",
      "p-value:  0.0\n",
      "Dof:  552\n",
      "Dependent (reject H0)\n",
      "\n",
      "\n",
      "model & engineSize\n"
     ]
    },
    {
     "data": {
      "image/png": "[encoded data removed]",
      "text/plain": [
       "<Figure size 432x288 with 1 Axes>"
      ]
     },
     "metadata": {
      "needs_background": "light"
     },
     "output_type": "display_data"
    },
    {
     "name": "stdout",
     "output_type": "stream",
     "text": [
      "Statistic:  35332.854331555645\n",
      "p-value:  0.0\n",
      "Dof:  368\n",
      "Dependent (reject H0)\n",
      "\n",
      "\n",
      "year & transmission\n"
     ]
    },
    {
     "data": {
      "image/png": "[encoded data removed]",
      "text/plain": [
       "<Figure size 432x288 with 1 Axes>"
      ]
     },
     "metadata": {
      "needs_background": "light"
     },
     "output_type": "display_data"
    },
    {
     "name": "stdout",
     "output_type": "stream",
     "text": [
      "Statistic:  1637.5260916269888\n",
      "p-value:  1.042871689539e-311\n",
      "Dof:  48\n",
      "Dependent (reject H0)\n",
      "\n",
      "\n",
      "year & model\n"
     ]
    },
    {
     "data": {
      "image/png": "[encoded data removed]",
      "text/plain": [
       "<Figure size 432x288 with 1 Axes>"
      ]
     },
     "metadata": {
      "needs_background": "light"
     },
     "output_type": "display_data"
    },
    {
     "name": "stdout",
     "output_type": "stream",
     "text": [
      "Statistic:  10090.681285285671\n",
      "p-value:  0.0\n",
      "Dof:  552\n",
      "Dependent (reject H0)\n",
      "\n",
      "\n",
      "year & year\n"
     ]
    },
    {
     "data": {
      "image/png": "[encoded data removed]",
      "text/plain": [
       "<Figure size 432x288 with 1 Axes>"
      ]
     },
     "metadata": {
      "needs_background": "light"
     },
     "output_type": "display_data"
    },
    {
     "name": "stdout",
     "output_type": "stream",
     "text": [
      "Statistic:  258744.0\n",
      "p-value:  0.0\n",
      "Dof:  576\n",
      "Dependent (reject H0)\n",
      "\n",
      "\n",
      "year & engineSize\n"
     ]
    },
    {
     "data": {
      "image/png": "[encoded data removed]",
      "text/plain": [
       "<Figure size 432x288 with 1 Axes>"
      ]
     },
     "metadata": {
      "needs_background": "light"
     },
     "output_type": "display_data"
    },
    {
     "name": "stdout",
     "output_type": "stream",
     "text": [
      "Statistic:  28409.58016487677\n",
      "p-value:  0.0\n",
      "Dof:  384\n",
      "Dependent (reject H0)\n",
      "\n",
      "\n"
     ]
    },
    {
     "data": {
      "application/javascript": "\n            setTimeout(function() {\n                var nbb_cell_id = 62;\n                var nbb_unformatted_code = \"lst_cat = [\\\"fuelType\\\", \\\"transmission\\\", \\\"model\\\", \\\"year\\\", \\\"engineSize\\\"]\\n\\nfor i in range(len(lst_cat) - 1):\\n    for j in range(1, len(lst_cat)):\\n        print(lst_cat[i], \\\"&\\\", lst_cat[j])\\n        cate_cate(df, df[lst_cat[i]], df[lst_cat[j]])\\n        print(\\\"\\\\n\\\")\";\n                var nbb_formatted_code = \"lst_cat = [\\\"fuelType\\\", \\\"transmission\\\", \\\"model\\\", \\\"year\\\", \\\"engineSize\\\"]\\n\\nfor i in range(len(lst_cat) - 1):\\n    for j in range(1, len(lst_cat)):\\n        print(lst_cat[i], \\\"&\\\", lst_cat[j])\\n        cate_cate(df, df[lst_cat[i]], df[lst_cat[j]])\\n        print(\\\"\\\\n\\\")\";\n                var nbb_cells = Jupyter.notebook.get_cells();\n                for (var i = 0; i < nbb_cells.length; ++i) {\n                    if (nbb_cells[i].input_prompt_number == nbb_cell_id) {\n                        if (nbb_cells[i].get_text() == nbb_unformatted_code) {\n                             nbb_cells[i].set_text(nbb_formatted_code);\n                        }\n                        break;\n                    }\n                }\n            }, 500);\n            ",
      "text/plain": [
       "<IPython.core.display.Javascript object>"
      ]
     },
     "metadata": {},
     "output_type": "display_data"
    }
   ],
   "source": [
    "lst_cat = [\"fuelType\", \"transmission\", \"model\", \"year\", \"engineSize\"]\n",
    "\n",
    "for i in range(len(lst_cat) - 1):\n",
    "    for j in range(1, len(lst_cat)):\n",
    "        print(lst_cat[i], \"&\", lst_cat[j])\n",
    "        cate_cate(df, df[lst_cat[i]], df[lst_cat[j]])\n",
    "        print(\"\\n\")"
   ]
  },
  {
   "cell_type": "markdown",
   "id": "e26dc3c5",
   "metadata": {},
   "source": [
    "### Phân tích tổng quát bằng ProfileReport"
   ]
  },
  {
   "cell_type": "code",
   "execution_count": 63,
   "id": "0be2e945",
   "metadata": {},
   "outputs": [
    {
     "data": {
      "application/javascript": "\n            setTimeout(function() {\n                var nbb_cell_id = 63;\n                var nbb_unformatted_code = \"from pandas_profiling import ProfileReport\\n\\ndata_profile = ProfileReport(df)\";\n                var nbb_formatted_code = \"from pandas_profiling import ProfileReport\\n\\ndata_profile = ProfileReport(df)\";\n                var nbb_cells = Jupyter.notebook.get_cells();\n                for (var i = 0; i < nbb_cells.length; ++i) {\n                    if (nbb_cells[i].input_prompt_number == nbb_cell_id) {\n                        if (nbb_cells[i].get_text() == nbb_unformatted_code) {\n                             nbb_cells[i].set_text(nbb_formatted_code);\n                        }\n                        break;\n                    }\n                }\n            }, 500);\n            ",
      "text/plain": [
       "<IPython.core.display.Javascript object>"
      ]
     },
     "metadata": {},
     "output_type": "display_data"
    }
   ],
   "source": [
    "from pandas_profiling import ProfileReport\n",
    "\n",
    "data_profile = ProfileReport(df)"
   ]
  },
  {
   "cell_type": "code",
   "execution_count": 64,
   "id": "cca895b3",
   "metadata": {},
   "outputs": [
    {
     "data": {
      "application/vnd.jupyter.widget-view+json": {
       "model_id": "0bb200daf1cd4388b06a1261aaf0c6ef",
       "version_major": 2,
       "version_minor": 0
      },
      "text/plain": [
       "Summarize dataset:   0%|          | 0/5 [00:00<?, ?it/s]"
      ]
     },
     "metadata": {},
     "output_type": "display_data"
    },
    {
     "data": {
      "application/vnd.jupyter.widget-view+json": {
       "model_id": "bdd97a5b7466443988df646187e2da73",
       "version_major": 2,
       "version_minor": 0
      },
      "text/plain": [
       "Generate report structure:   0%|          | 0/1 [00:00<?, ?it/s]"
      ]
     },
     "metadata": {},
     "output_type": "display_data"
    },
    {
     "data": {
      "application/vnd.jupyter.widget-view+json": {
       "model_id": "a6a9ab097cb443b4975cc2b95083a5f6",
       "version_major": 2,
       "version_minor": 0
      },
      "text/plain": [
       "Render HTML:   0%|          | 0/1 [00:00<?, ?it/s]"
      ]
     },
     "metadata": {},
     "output_type": "display_data"
    },
    {
     "data": {
      "application/vnd.jupyter.widget-view+json": {
       "model_id": "679f3a7a3f114ef6b10608751c4cc296",
       "version_major": 2,
       "version_minor": 0
      },
      "text/plain": [
       "Export report to file:   0%|          | 0/1 [00:00<?, ?it/s]"
      ]
     },
     "metadata": {},
     "output_type": "display_data"
    },
    {
     "data": {
      "application/javascript": "\n            setTimeout(function() {\n                var nbb_cell_id = 64;\n                var nbb_unformatted_code = \"data_profile.to_file(\\\"Car_Prediction_Analysis.html\\\")\";\n                var nbb_formatted_code = \"data_profile.to_file(\\\"Car_Prediction_Analysis.html\\\")\";\n                var nbb_cells = Jupyter.notebook.get_cells();\n                for (var i = 0; i < nbb_cells.length; ++i) {\n                    if (nbb_cells[i].input_prompt_number == nbb_cell_id) {\n                        if (nbb_cells[i].get_text() == nbb_unformatted_code) {\n                             nbb_cells[i].set_text(nbb_formatted_code);\n                        }\n                        break;\n                    }\n                }\n            }, 500);\n            ",
      "text/plain": [
       "<IPython.core.display.Javascript object>"
      ]
     },
     "metadata": {},
     "output_type": "display_data"
    }
   ],
   "source": [
    "data_profile.to_file(\"Car_Prediction_Analysis.html\")"
   ]
  },
  {
   "cell_type": "code",
   "execution_count": 65,
   "id": "ea62cffd",
   "metadata": {},
   "outputs": [
    {
     "data": {
      "text/plain": [
       "'\\nvì hiển thị ProfileReport sẽ tốn dung lượng của file nên em comment lại.\\nNếu thầy có sử dụng thì bỏ comment và chạy lại giúp em ạ.\\nEm có export kết quả của ProfileReport ra file HTML ạ.\\n'"
      ]
     },
     "execution_count": 65,
     "metadata": {},
     "output_type": "execute_result"
    },
    {
     "data": {
      "application/javascript": "\n            setTimeout(function() {\n                var nbb_cell_id = 65;\n                var nbb_unformatted_code = \"\\\"\\\"\\\"\\nv\\u00ec hi\\u1ec3n th\\u1ecb ProfileReport s\\u1ebd t\\u1ed1n dung l\\u01b0\\u1ee3ng c\\u1ee7a file n\\u00ean em comment l\\u1ea1i.\\nN\\u1ebfu th\\u1ea7y c\\u00f3 s\\u1eed d\\u1ee5ng th\\u00ec b\\u1ecf comment v\\u00e0 ch\\u1ea1y l\\u1ea1i gi\\u00fap em \\u1ea1.\\nEm c\\u00f3 export k\\u1ebft qu\\u1ea3 c\\u1ee7a ProfileReport ra file HTML \\u1ea1.\\n\\\"\\\"\\\"\\n# data_profile\";\n                var nbb_formatted_code = \"\\\"\\\"\\\"\\nv\\u00ec hi\\u1ec3n th\\u1ecb ProfileReport s\\u1ebd t\\u1ed1n dung l\\u01b0\\u1ee3ng c\\u1ee7a file n\\u00ean em comment l\\u1ea1i.\\nN\\u1ebfu th\\u1ea7y c\\u00f3 s\\u1eed d\\u1ee5ng th\\u00ec b\\u1ecf comment v\\u00e0 ch\\u1ea1y l\\u1ea1i gi\\u00fap em \\u1ea1.\\nEm c\\u00f3 export k\\u1ebft qu\\u1ea3 c\\u1ee7a ProfileReport ra file HTML \\u1ea1.\\n\\\"\\\"\\\"\\n# data_profile\";\n                var nbb_cells = Jupyter.notebook.get_cells();\n                for (var i = 0; i < nbb_cells.length; ++i) {\n                    if (nbb_cells[i].input_prompt_number == nbb_cell_id) {\n                        if (nbb_cells[i].get_text() == nbb_unformatted_code) {\n                             nbb_cells[i].set_text(nbb_formatted_code);\n                        }\n                        break;\n                    }\n                }\n            }, 500);\n            ",
      "text/plain": [
       "<IPython.core.display.Javascript object>"
      ]
     },
     "metadata": {},
     "output_type": "display_data"
    }
   ],
   "source": [
    "\"\"\"\n",
    "vì hiển thị ProfileReport sẽ tốn dung lượng của file nên em comment lại.\n",
    "Nếu thầy có sử dụng thì bỏ comment và chạy lại giúp em ạ.\n",
    "Em có export kết quả của ProfileReport ra file HTML ạ.\n",
    "\"\"\"\n",
    "# data_profile"
   ]
  },
  {
   "cell_type": "markdown",
   "id": "8204f568",
   "metadata": {},
   "source": [
    "## Chuẩn hóa dữ liệu"
   ]
  },
  {
   "cell_type": "code",
   "execution_count": 66,
   "id": "ce3b2da9",
   "metadata": {},
   "outputs": [
    {
     "data": {
      "text/plain": [
       "'\\nSau khi phân tích tổng quan, có 62 dòng bị duplicate, do đó cần xử lý duplicate\\n'"
      ]
     },
     "execution_count": 66,
     "metadata": {},
     "output_type": "execute_result"
    },
    {
     "data": {
      "application/javascript": "\n            setTimeout(function() {\n                var nbb_cell_id = 66;\n                var nbb_unformatted_code = \"\\\"\\\"\\\"\\nSau khi ph\\u00e2n t\\u00edch t\\u1ed5ng quan, c\\u00f3 62 d\\u00f2ng b\\u1ecb duplicate, do \\u0111\\u00f3 c\\u1ea7n x\\u1eed l\\u00fd duplicate\\n\\\"\\\"\\\"\";\n                var nbb_formatted_code = \"\\\"\\\"\\\"\\nSau khi ph\\u00e2n t\\u00edch t\\u1ed5ng quan, c\\u00f3 62 d\\u00f2ng b\\u1ecb duplicate, do \\u0111\\u00f3 c\\u1ea7n x\\u1eed l\\u00fd duplicate\\n\\\"\\\"\\\"\";\n                var nbb_cells = Jupyter.notebook.get_cells();\n                for (var i = 0; i < nbb_cells.length; ++i) {\n                    if (nbb_cells[i].input_prompt_number == nbb_cell_id) {\n                        if (nbb_cells[i].get_text() == nbb_unformatted_code) {\n                             nbb_cells[i].set_text(nbb_formatted_code);\n                        }\n                        break;\n                    }\n                }\n            }, 500);\n            ",
      "text/plain": [
       "<IPython.core.display.Javascript object>"
      ]
     },
     "metadata": {},
     "output_type": "display_data"
    }
   ],
   "source": [
    "\"\"\"\n",
    "Sau khi phân tích tổng quan, có 62 dòng bị duplicate, do đó cần xử lý duplicate\n",
    "\"\"\""
   ]
  },
  {
   "cell_type": "code",
   "execution_count": 67,
   "id": "095a5429",
   "metadata": {},
   "outputs": [
    {
     "data": {
      "text/plain": [
       "(10664, 9)"
      ]
     },
     "execution_count": 67,
     "metadata": {},
     "output_type": "execute_result"
    },
    {
     "data": {
      "application/javascript": "\n            setTimeout(function() {\n                var nbb_cell_id = 67;\n                var nbb_unformatted_code = \"df = df.drop_duplicates()\\ndf.shape\";\n                var nbb_formatted_code = \"df = df.drop_duplicates()\\ndf.shape\";\n                var nbb_cells = Jupyter.notebook.get_cells();\n                for (var i = 0; i < nbb_cells.length; ++i) {\n                    if (nbb_cells[i].input_prompt_number == nbb_cell_id) {\n                        if (nbb_cells[i].get_text() == nbb_unformatted_code) {\n                             nbb_cells[i].set_text(nbb_formatted_code);\n                        }\n                        break;\n                    }\n                }\n            }, 500);\n            ",
      "text/plain": [
       "<IPython.core.display.Javascript object>"
      ]
     },
     "metadata": {},
     "output_type": "display_data"
    }
   ],
   "source": [
    "df = df.drop_duplicates()\n",
    "df.shape"
   ]
  },
  {
   "cell_type": "code",
   "execution_count": 68,
   "id": "588ec444",
   "metadata": {},
   "outputs": [
    {
     "data": {
      "application/javascript": "\n            setTimeout(function() {\n                var nbb_cell_id = 68;\n                var nbb_unformatted_code = \"# tr\\u01b0\\u1edbc h\\u1ebft, ta chu\\u1ea9n h\\u00f3a c\\u00e1c bi\\u1ebfn ki\\u1ec3u object sang numeric\\ndf_new = pd.get_dummies(\\n    df, columns=[\\\"model\\\", \\\"transmission\\\", \\\"fuelType\\\"], drop_first=True\\n)\";\n                var nbb_formatted_code = \"# tr\\u01b0\\u1edbc h\\u1ebft, ta chu\\u1ea9n h\\u00f3a c\\u00e1c bi\\u1ebfn ki\\u1ec3u object sang numeric\\ndf_new = pd.get_dummies(\\n    df, columns=[\\\"model\\\", \\\"transmission\\\", \\\"fuelType\\\"], drop_first=True\\n)\";\n                var nbb_cells = Jupyter.notebook.get_cells();\n                for (var i = 0; i < nbb_cells.length; ++i) {\n                    if (nbb_cells[i].input_prompt_number == nbb_cell_id) {\n                        if (nbb_cells[i].get_text() == nbb_unformatted_code) {\n                             nbb_cells[i].set_text(nbb_formatted_code);\n                        }\n                        break;\n                    }\n                }\n            }, 500);\n            ",
      "text/plain": [
       "<IPython.core.display.Javascript object>"
      ]
     },
     "metadata": {},
     "output_type": "display_data"
    }
   ],
   "source": [
    "# trước hết, ta chuẩn hóa các biến kiểu object sang numeric\n",
    "df_new = pd.get_dummies(\n",
    "    df, columns=[\"model\", \"transmission\", \"fuelType\"], drop_first=True\n",
    ")"
   ]
  },
  {
   "cell_type": "code",
   "execution_count": 69,
   "id": "910e96b6",
   "metadata": {},
   "outputs": [
    {
     "data": {
      "application/javascript": "\n            setTimeout(function() {\n                var nbb_cell_id = 69;\n                var nbb_unformatted_code = \"df_new.price = np.log(df_new.price)\";\n                var nbb_formatted_code = \"df_new.price = np.log(df_new.price)\";\n                var nbb_cells = Jupyter.notebook.get_cells();\n                for (var i = 0; i < nbb_cells.length; ++i) {\n                    if (nbb_cells[i].input_prompt_number == nbb_cell_id) {\n                        if (nbb_cells[i].get_text() == nbb_unformatted_code) {\n                             nbb_cells[i].set_text(nbb_formatted_code);\n                        }\n                        break;\n                    }\n                }\n            }, 500);\n            ",
      "text/plain": [
       "<IPython.core.display.Javascript object>"
      ]
     },
     "metadata": {},
     "output_type": "display_data"
    }
   ],
   "source": [
    "df_new.price = np.log(df_new.price)"
   ]
  },
  {
   "cell_type": "code",
   "execution_count": 70,
   "id": "77903ccf",
   "metadata": {},
   "outputs": [
    {
     "data": {
      "application/javascript": "\n            setTimeout(function() {\n                var nbb_cell_id = 70;\n                var nbb_unformatted_code = \"X = df_new.drop(columns=[\\\"price\\\"])\\ny = df_new[\\\"price\\\"]\";\n                var nbb_formatted_code = \"X = df_new.drop(columns=[\\\"price\\\"])\\ny = df_new[\\\"price\\\"]\";\n                var nbb_cells = Jupyter.notebook.get_cells();\n                for (var i = 0; i < nbb_cells.length; ++i) {\n                    if (nbb_cells[i].input_prompt_number == nbb_cell_id) {\n                        if (nbb_cells[i].get_text() == nbb_unformatted_code) {\n                             nbb_cells[i].set_text(nbb_formatted_code);\n                        }\n                        break;\n                    }\n                }\n            }, 500);\n            ",
      "text/plain": [
       "<IPython.core.display.Javascript object>"
      ]
     },
     "metadata": {},
     "output_type": "display_data"
    }
   ],
   "source": [
    "X = df_new.drop(columns=[\"price\"])\n",
    "y = df_new[\"price\"]"
   ]
  },
  {
   "cell_type": "code",
   "execution_count": 71,
   "id": "8e4ef69e",
   "metadata": {},
   "outputs": [
    {
     "data": {
      "application/javascript": "\n            setTimeout(function() {\n                var nbb_cell_id = 71;\n                var nbb_unformatted_code = \"def evaluate(model, X_train, X_test, y_train, y_test):\\n    print(\\\"Variance score: \\\", model.score(X, y))\\n    yhat_train = model.predict(X_train)\\n    yhat_test = model.predict(X_test)\\n\\n    print(\\n        \\\"\\\\n***TRAINIG RESULTS***: \\\\n==================================================\\\"\\n    )\\n    print(\\\"R-squared train dataset:\\\", model.score(X_train, y_train))\\n    print(\\\"MSE train dataset:\\\", mean_squared_error(y_train, yhat_train))\\n    print(\\\"RMSE train dataset:\\\", mean_squared_error(y_train, yhat_train, squared=False))\\n    print(\\\"MAE train dataset:\\\", mean_absolute_error(y_train, yhat_train))\\n\\n    print(\\\"\\\\n***TEST RESULTS***: \\\\n===================================================\\\")\\n    print(\\\"R-squared test dataset:\\\", model.score(X_test, y_test))\\n    print(\\\"MSE test dataset:\\\", mean_squared_error(y_test, yhat_test))\\n    print(\\\"RMSE test dataset:\\\", mean_squared_error(y_test, yhat_test, squared=False))\\n    print(\\\"MAE test dataset:\\\", mean_absolute_error(y_test, yhat_test))\\n\\n    plt.figure(figsize=(6, 6))\\n    plt.scatter(yhat_test, y_test)\\n    plt.plot([6, 15], [6, 15], \\\"r-\\\")\\n    plt.xlabel(\\\"Model predictions\\\")\\n    plt.ylabel(\\\"True value\\\")\\n    plt.show()\";\n                var nbb_formatted_code = \"def evaluate(model, X_train, X_test, y_train, y_test):\\n    print(\\\"Variance score: \\\", model.score(X, y))\\n    yhat_train = model.predict(X_train)\\n    yhat_test = model.predict(X_test)\\n\\n    print(\\n        \\\"\\\\n***TRAINIG RESULTS***: \\\\n==================================================\\\"\\n    )\\n    print(\\\"R-squared train dataset:\\\", model.score(X_train, y_train))\\n    print(\\\"MSE train dataset:\\\", mean_squared_error(y_train, yhat_train))\\n    print(\\\"RMSE train dataset:\\\", mean_squared_error(y_train, yhat_train, squared=False))\\n    print(\\\"MAE train dataset:\\\", mean_absolute_error(y_train, yhat_train))\\n\\n    print(\\\"\\\\n***TEST RESULTS***: \\\\n===================================================\\\")\\n    print(\\\"R-squared test dataset:\\\", model.score(X_test, y_test))\\n    print(\\\"MSE test dataset:\\\", mean_squared_error(y_test, yhat_test))\\n    print(\\\"RMSE test dataset:\\\", mean_squared_error(y_test, yhat_test, squared=False))\\n    print(\\\"MAE test dataset:\\\", mean_absolute_error(y_test, yhat_test))\\n\\n    plt.figure(figsize=(6, 6))\\n    plt.scatter(yhat_test, y_test)\\n    plt.plot([6, 15], [6, 15], \\\"r-\\\")\\n    plt.xlabel(\\\"Model predictions\\\")\\n    plt.ylabel(\\\"True value\\\")\\n    plt.show()\";\n                var nbb_cells = Jupyter.notebook.get_cells();\n                for (var i = 0; i < nbb_cells.length; ++i) {\n                    if (nbb_cells[i].input_prompt_number == nbb_cell_id) {\n                        if (nbb_cells[i].get_text() == nbb_unformatted_code) {\n                             nbb_cells[i].set_text(nbb_formatted_code);\n                        }\n                        break;\n                    }\n                }\n            }, 500);\n            ",
      "text/plain": [
       "<IPython.core.display.Javascript object>"
      ]
     },
     "metadata": {},
     "output_type": "display_data"
    }
   ],
   "source": [
    "def evaluate(model, X_train, X_test, y_train, y_test):\n",
    "    print(\"Variance score: \", model.score(X, y))\n",
    "    yhat_train = model.predict(X_train)\n",
    "    yhat_test = model.predict(X_test)\n",
    "\n",
    "    print(\n",
    "        \"\\n***TRAINIG RESULTS***: \\n==================================================\"\n",
    "    )\n",
    "    print(\"R-squared train dataset:\", model.score(X_train, y_train))\n",
    "    print(\"MSE train dataset:\", mean_squared_error(y_train, yhat_train))\n",
    "    print(\"RMSE train dataset:\", mean_squared_error(y_train, yhat_train, squared=False))\n",
    "    print(\"MAE train dataset:\", mean_absolute_error(y_train, yhat_train))\n",
    "\n",
    "    print(\"\\n***TEST RESULTS***: \\n===================================================\")\n",
    "    print(\"R-squared test dataset:\", model.score(X_test, y_test))\n",
    "    print(\"MSE test dataset:\", mean_squared_error(y_test, yhat_test))\n",
    "    print(\"RMSE test dataset:\", mean_squared_error(y_test, yhat_test, squared=False))\n",
    "    print(\"MAE test dataset:\", mean_absolute_error(y_test, yhat_test))\n",
    "\n",
    "    plt.figure(figsize=(6, 6))\n",
    "    plt.scatter(yhat_test, y_test)\n",
    "    plt.plot([6, 15], [6, 15], \"r-\")\n",
    "    plt.xlabel(\"Model predictions\")\n",
    "    plt.ylabel(\"True value\")\n",
    "    plt.show()"
   ]
  },
  {
   "cell_type": "markdown",
   "id": "f35c9aaa",
   "metadata": {},
   "source": [
    "### Áp dụng thuật toán machine learning\n",
    "- Linear regression\n",
    "- Decision Tree Regressor\n",
    "- Random Forest Regressor\n",
    "- KNeighborsRegressor\n",
    "- SVM (SVR)"
   ]
  },
  {
   "cell_type": "code",
   "execution_count": 72,
   "id": "5415c642",
   "metadata": {},
   "outputs": [
    {
     "data": {
      "text/plain": [
       "'\\nVì dataset ban đầu có 10781 records, sau khi xử lý duplicate thì còn lại 10664 records\\nVì số lượng records không nhiều nên ta quyết định chia tỷ lệ 80-20 cho train và test\\n'"
      ]
     },
     "execution_count": 72,
     "metadata": {},
     "output_type": "execute_result"
    },
    {
     "data": {
      "application/javascript": "\n            setTimeout(function() {\n                var nbb_cell_id = 72;\n                var nbb_unformatted_code = \"\\\"\\\"\\\"\\nV\\u00ec dataset ban \\u0111\\u1ea7u c\\u00f3 10781 records, sau khi x\\u1eed l\\u00fd duplicate th\\u00ec c\\u00f2n l\\u1ea1i 10664 records\\nV\\u00ec s\\u1ed1 l\\u01b0\\u1ee3ng records kh\\u00f4ng nhi\\u1ec1u n\\u00ean ta quy\\u1ebft \\u0111\\u1ecbnh chia t\\u1ef7 l\\u1ec7 80-20 cho train v\\u00e0 test\\n\\\"\\\"\\\"\";\n                var nbb_formatted_code = \"\\\"\\\"\\\"\\nV\\u00ec dataset ban \\u0111\\u1ea7u c\\u00f3 10781 records, sau khi x\\u1eed l\\u00fd duplicate th\\u00ec c\\u00f2n l\\u1ea1i 10664 records\\nV\\u00ec s\\u1ed1 l\\u01b0\\u1ee3ng records kh\\u00f4ng nhi\\u1ec1u n\\u00ean ta quy\\u1ebft \\u0111\\u1ecbnh chia t\\u1ef7 l\\u1ec7 80-20 cho train v\\u00e0 test\\n\\\"\\\"\\\"\";\n                var nbb_cells = Jupyter.notebook.get_cells();\n                for (var i = 0; i < nbb_cells.length; ++i) {\n                    if (nbb_cells[i].input_prompt_number == nbb_cell_id) {\n                        if (nbb_cells[i].get_text() == nbb_unformatted_code) {\n                             nbb_cells[i].set_text(nbb_formatted_code);\n                        }\n                        break;\n                    }\n                }\n            }, 500);\n            ",
      "text/plain": [
       "<IPython.core.display.Javascript object>"
      ]
     },
     "metadata": {},
     "output_type": "display_data"
    }
   ],
   "source": [
    "\"\"\"\n",
    "Vì dataset ban đầu có 10781 records, sau khi xử lý duplicate thì còn lại 10664 records\n",
    "Vì số lượng records không nhiều nên ta quyết định chia tỷ lệ 80-20 cho train và test\n",
    "\"\"\""
   ]
  },
  {
   "cell_type": "code",
   "execution_count": 73,
   "id": "1dd2e00b",
   "metadata": {},
   "outputs": [
    {
     "data": {
      "application/javascript": "\n            setTimeout(function() {\n                var nbb_cell_id = 73;\n                var nbb_unformatted_code = \"from sklearn.model_selection import train_test_split\\n\\nX_train, X_test, y_train, y_test = train_test_split(\\n    X, y, test_size=0.2, random_state=42\\n)\";\n                var nbb_formatted_code = \"from sklearn.model_selection import train_test_split\\n\\nX_train, X_test, y_train, y_test = train_test_split(\\n    X, y, test_size=0.2, random_state=42\\n)\";\n                var nbb_cells = Jupyter.notebook.get_cells();\n                for (var i = 0; i < nbb_cells.length; ++i) {\n                    if (nbb_cells[i].input_prompt_number == nbb_cell_id) {\n                        if (nbb_cells[i].get_text() == nbb_unformatted_code) {\n                             nbb_cells[i].set_text(nbb_formatted_code);\n                        }\n                        break;\n                    }\n                }\n            }, 500);\n            ",
      "text/plain": [
       "<IPython.core.display.Javascript object>"
      ]
     },
     "metadata": {},
     "output_type": "display_data"
    }
   ],
   "source": [
    "from sklearn.model_selection import train_test_split\n",
    "\n",
    "X_train, X_test, y_train, y_test = train_test_split(\n",
    "    X, y, test_size=0.2, random_state=42\n",
    ")\n"
   ]
  },
  {
   "cell_type": "code",
   "execution_count": 52,
   "id": "5ab96b6a",
   "metadata": {
    "code_folding": []
   },
   "outputs": [
    {
     "data": {
      "text/html": [
       "<div>\n",
       "<style scoped>\n",
       "    .dataframe tbody tr th:only-of-type {\n",
       "        vertical-align: middle;\n",
       "    }\n",
       "\n",
       "    .dataframe tbody tr th {\n",
       "        vertical-align: top;\n",
       "    }\n",
       "\n",
       "    .dataframe thead th {\n",
       "        text-align: right;\n",
       "    }\n",
       "</style>\n",
       "<table border=\"1\" class=\"dataframe\">\n",
       "  <thead>\n",
       "    <tr style=\"text-align: right;\">\n",
       "      <th></th>\n",
       "      <th>model_name</th>\n",
       "      <th>train_score</th>\n",
       "      <th>test_score</th>\n",
       "      <th>run_time</th>\n",
       "    </tr>\n",
       "  </thead>\n",
       "  <tbody>\n",
       "    <tr>\n",
       "      <th>0</th>\n",
       "      <td>LinearRegression</td>\n",
       "      <td>0.931802</td>\n",
       "      <td>0.935508</td>\n",
       "      <td>0.020960</td>\n",
       "    </tr>\n",
       "    <tr>\n",
       "      <th>1</th>\n",
       "      <td>KNeighborsRegressor</td>\n",
       "      <td>0.742173</td>\n",
       "      <td>0.602909</td>\n",
       "      <td>1.668523</td>\n",
       "    </tr>\n",
       "    <tr>\n",
       "      <th>2</th>\n",
       "      <td>DecisionTreeRegressor</td>\n",
       "      <td>0.999760</td>\n",
       "      <td>0.907427</td>\n",
       "      <td>0.041914</td>\n",
       "    </tr>\n",
       "    <tr>\n",
       "      <th>3</th>\n",
       "      <td>RandomForestRegressor</td>\n",
       "      <td>0.993179</td>\n",
       "      <td>0.958158</td>\n",
       "      <td>2.439450</td>\n",
       "    </tr>\n",
       "    <tr>\n",
       "      <th>4</th>\n",
       "      <td>SVR</td>\n",
       "      <td>0.576234</td>\n",
       "      <td>0.592839</td>\n",
       "      <td>9.654217</td>\n",
       "    </tr>\n",
       "  </tbody>\n",
       "</table>\n",
       "</div>"
      ],
      "text/plain": [
       "              model_name  train_score  test_score  run_time\n",
       "0       LinearRegression     0.931802    0.935508  0.020960\n",
       "1    KNeighborsRegressor     0.742173    0.602909  1.668523\n",
       "2  DecisionTreeRegressor     0.999760    0.907427  0.041914\n",
       "3  RandomForestRegressor     0.993179    0.958158  2.439450\n",
       "4                    SVR     0.576234    0.592839  9.654217"
      ]
     },
     "execution_count": 52,
     "metadata": {},
     "output_type": "execute_result"
    },
    {
     "data": {
      "application/javascript": "\n            setTimeout(function() {\n                var nbb_cell_id = 52;\n                var nbb_unformatted_code = \"# Quan s\\u00e1t t\\u1ed5ng quan c\\u00e1c model\\nmodels = [\\n    LinearRegression(),\\n    KNeighborsRegressor(),\\n    DecisionTreeRegressor(),\\n    RandomForestRegressor(),\\n    svm.SVR(),\\n]\\nCV = 5\\ncv_df = pd.DataFrame(index=range(CV * len(models)))\\ncv_entries = []\\n\\nfor model in models:\\n    start = time.time()\\n    model_name = model.__class__.__name__\\n    model1 = model.fit(X_train, y_train)\\n    y_pred = model1.predict(X_test)\\n    train_score = model.score(X_train, y_train)\\n    test_score = model.score(X_test, y_test)\\n    end = time.time()\\n    cv_entries.append(\\n        [model_name, train_score.mean(), test_score.mean(), abs(end - start)]\\n    )\\n\\ncv_df1 = pd.DataFrame(\\n    cv_entries, columns=[\\\"model_name\\\", \\\"train_score\\\", \\\"test_score\\\", \\\"run_time\\\"]\\n)\\n\\ncv_df1\";\n                var nbb_formatted_code = \"# Quan s\\u00e1t t\\u1ed5ng quan c\\u00e1c model\\nmodels = [\\n    LinearRegression(),\\n    KNeighborsRegressor(),\\n    DecisionTreeRegressor(),\\n    RandomForestRegressor(),\\n    svm.SVR(),\\n]\\nCV = 5\\ncv_df = pd.DataFrame(index=range(CV * len(models)))\\ncv_entries = []\\n\\nfor model in models:\\n    start = time.time()\\n    model_name = model.__class__.__name__\\n    model1 = model.fit(X_train, y_train)\\n    y_pred = model1.predict(X_test)\\n    train_score = model.score(X_train, y_train)\\n    test_score = model.score(X_test, y_test)\\n    end = time.time()\\n    cv_entries.append(\\n        [model_name, train_score.mean(), test_score.mean(), abs(end - start)]\\n    )\\n\\ncv_df1 = pd.DataFrame(\\n    cv_entries, columns=[\\\"model_name\\\", \\\"train_score\\\", \\\"test_score\\\", \\\"run_time\\\"]\\n)\\n\\ncv_df1\";\n                var nbb_cells = Jupyter.notebook.get_cells();\n                for (var i = 0; i < nbb_cells.length; ++i) {\n                    if (nbb_cells[i].input_prompt_number == nbb_cell_id) {\n                        if (nbb_cells[i].get_text() == nbb_unformatted_code) {\n                             nbb_cells[i].set_text(nbb_formatted_code);\n                        }\n                        break;\n                    }\n                }\n            }, 500);\n            ",
      "text/plain": [
       "<IPython.core.display.Javascript object>"
      ]
     },
     "metadata": {},
     "output_type": "display_data"
    }
   ],
   "source": [
    "# Quan sát tổng quan các model\n",
    "models = [\n",
    "    LinearRegression(),\n",
    "    KNeighborsRegressor(),\n",
    "    DecisionTreeRegressor(),\n",
    "    RandomForestRegressor(),\n",
    "    svm.SVR(),\n",
    "]\n",
    "CV = 5\n",
    "cv_df = pd.DataFrame(index=range(CV * len(models)))\n",
    "cv_entries = []\n",
    "\n",
    "for model in models:\n",
    "    start = time.time()\n",
    "    model_name = model.__class__.__name__\n",
    "    model1 = model.fit(X_train, y_train)\n",
    "    y_pred = model1.predict(X_test)\n",
    "    train_score = model.score(X_train, y_train)\n",
    "    test_score = model.score(X_test, y_test)\n",
    "    end = time.time()\n",
    "    cv_entries.append(\n",
    "        [model_name, train_score.mean(), test_score.mean(), abs(end - start)]\n",
    "    )\n",
    "\n",
    "cv_df1 = pd.DataFrame(\n",
    "    cv_entries, columns=[\"model_name\", \"train_score\", \"test_score\", \"run_time\"]\n",
    ")\n",
    "\n",
    "cv_df1"
   ]
  },
  {
   "cell_type": "code",
   "execution_count": 74,
   "id": "7a2bf6fd",
   "metadata": {},
   "outputs": [
    {
     "data": {
      "text/plain": [
       "'\\nNhìn chung thì SVR và KNN cho kết quả không tốt bằng các model còn lại\\n\\nTuy nhiên, ta thử chạy các thuật toán này để biết thông tin chi tiết hơn\\n'"
      ]
     },
     "execution_count": 74,
     "metadata": {},
     "output_type": "execute_result"
    },
    {
     "data": {
      "application/javascript": "\n            setTimeout(function() {\n                var nbb_cell_id = 74;\n                var nbb_unformatted_code = \"\\\"\\\"\\\"\\nNh\\u00ecn chung th\\u00ec SVR v\\u00e0 KNN cho k\\u1ebft qu\\u1ea3 kh\\u00f4ng t\\u1ed1t b\\u1eb1ng c\\u00e1c model c\\u00f2n l\\u1ea1i\\n\\nTuy nhi\\u00ean, ta th\\u1eed ch\\u1ea1y c\\u00e1c thu\\u1eadt to\\u00e1n n\\u00e0y \\u0111\\u1ec3 bi\\u1ebft th\\u00f4ng tin chi ti\\u1ebft h\\u01a1n\\n\\\"\\\"\\\"\";\n                var nbb_formatted_code = \"\\\"\\\"\\\"\\nNh\\u00ecn chung th\\u00ec SVR v\\u00e0 KNN cho k\\u1ebft qu\\u1ea3 kh\\u00f4ng t\\u1ed1t b\\u1eb1ng c\\u00e1c model c\\u00f2n l\\u1ea1i\\n\\nTuy nhi\\u00ean, ta th\\u1eed ch\\u1ea1y c\\u00e1c thu\\u1eadt to\\u00e1n n\\u00e0y \\u0111\\u1ec3 bi\\u1ebft th\\u00f4ng tin chi ti\\u1ebft h\\u01a1n\\n\\\"\\\"\\\"\";\n                var nbb_cells = Jupyter.notebook.get_cells();\n                for (var i = 0; i < nbb_cells.length; ++i) {\n                    if (nbb_cells[i].input_prompt_number == nbb_cell_id) {\n                        if (nbb_cells[i].get_text() == nbb_unformatted_code) {\n                             nbb_cells[i].set_text(nbb_formatted_code);\n                        }\n                        break;\n                    }\n                }\n            }, 500);\n            ",
      "text/plain": [
       "<IPython.core.display.Javascript object>"
      ]
     },
     "metadata": {},
     "output_type": "display_data"
    }
   ],
   "source": [
    "\"\"\"\n",
    "Nhìn chung thì SVR và KNN cho kết quả không tốt bằng các model còn lại\n",
    "\n",
    "Tuy nhiên, ta thử chạy các thuật toán này để biết thông tin chi tiết hơn\n",
    "\"\"\""
   ]
  },
  {
   "cell_type": "markdown",
   "id": "5aae5180",
   "metadata": {},
   "source": [
    "### Linear Regression"
   ]
  },
  {
   "cell_type": "code",
   "execution_count": 84,
   "id": "241a175c",
   "metadata": {},
   "outputs": [
    {
     "name": "stdout",
     "output_type": "stream",
     "text": [
      "Accuracy: 91.00% - std: 1.83%\n",
      "[0.91906826 0.92342148 0.89255917 0.88961446 0.90840725 0.88167525\n",
      " 0.93367994 0.9392045  0.91424289 0.89858579]\n"
     ]
    },
    {
     "data": {
      "application/javascript": "\n            setTimeout(function() {\n                var nbb_cell_id = 84;\n                var nbb_unformatted_code = \"from sklearn import model_selection\\nfrom sklearn.model_selection import KFold\\nfrom sklearn.model_selection import cross_val_score\\n\\nmodel_k = LinearRegression()\\nkfold = KFold(n_splits=10)\\nresults = cross_val_score(model_k, X, y, cv=kfold)\\nprint(\\\"Accuracy: %.2f%% - std: %.2f%%\\\" % (results.mean() * 100, results.std() * 100))\\nprint(results)\";\n                var nbb_formatted_code = \"from sklearn import model_selection\\nfrom sklearn.model_selection import KFold\\nfrom sklearn.model_selection import cross_val_score\\n\\nmodel_k = LinearRegression()\\nkfold = KFold(n_splits=10)\\nresults = cross_val_score(model_k, X, y, cv=kfold)\\nprint(\\\"Accuracy: %.2f%% - std: %.2f%%\\\" % (results.mean() * 100, results.std() * 100))\\nprint(results)\";\n                var nbb_cells = Jupyter.notebook.get_cells();\n                for (var i = 0; i < nbb_cells.length; ++i) {\n                    if (nbb_cells[i].input_prompt_number == nbb_cell_id) {\n                        if (nbb_cells[i].get_text() == nbb_unformatted_code) {\n                             nbb_cells[i].set_text(nbb_formatted_code);\n                        }\n                        break;\n                    }\n                }\n            }, 500);\n            ",
      "text/plain": [
       "<IPython.core.display.Javascript object>"
      ]
     },
     "metadata": {},
     "output_type": "display_data"
    }
   ],
   "source": [
    "from sklearn import model_selection\n",
    "from sklearn.model_selection import KFold\n",
    "from sklearn.model_selection import cross_val_score\n",
    "\n",
    "model_k = LinearRegression()\n",
    "kfold = KFold(n_splits=10)\n",
    "results = cross_val_score(model_k, X, y, cv=kfold)\n",
    "print(\"Accuracy: %.2f%% - std: %.2f%%\" % (results.mean() * 100, results.std() * 100))\n",
    "print(results)"
   ]
  },
  {
   "cell_type": "code",
   "execution_count": 85,
   "id": "eb2696b0",
   "metadata": {},
   "outputs": [
    {
     "data": {
      "text/plain": [
       "'\\nKết quả ổn định => có thể chọn thuật toán này\\n'"
      ]
     },
     "execution_count": 85,
     "metadata": {},
     "output_type": "execute_result"
    },
    {
     "data": {
      "application/javascript": "\n            setTimeout(function() {\n                var nbb_cell_id = 85;\n                var nbb_unformatted_code = \"'''\\nK\\u1ebft qu\\u1ea3 \\u1ed5n \\u0111\\u1ecbnh => c\\u00f3 th\\u1ec3 ch\\u1ecdn thu\\u1eadt to\\u00e1n n\\u00e0y\\n'''\";\n                var nbb_formatted_code = \"\\\"\\\"\\\"\\nK\\u1ebft qu\\u1ea3 \\u1ed5n \\u0111\\u1ecbnh => c\\u00f3 th\\u1ec3 ch\\u1ecdn thu\\u1eadt to\\u00e1n n\\u00e0y\\n\\\"\\\"\\\"\";\n                var nbb_cells = Jupyter.notebook.get_cells();\n                for (var i = 0; i < nbb_cells.length; ++i) {\n                    if (nbb_cells[i].input_prompt_number == nbb_cell_id) {\n                        if (nbb_cells[i].get_text() == nbb_unformatted_code) {\n                             nbb_cells[i].set_text(nbb_formatted_code);\n                        }\n                        break;\n                    }\n                }\n            }, 500);\n            ",
      "text/plain": [
       "<IPython.core.display.Javascript object>"
      ]
     },
     "metadata": {},
     "output_type": "display_data"
    }
   ],
   "source": [
    "\"\"\"\n",
    "Kết quả ổn định => có thể chọn thuật toán này\n",
    "\"\"\""
   ]
  },
  {
   "cell_type": "code",
   "execution_count": 75,
   "id": "2ee31272",
   "metadata": {},
   "outputs": [
    {
     "data": {
      "application/javascript": "\n            setTimeout(function() {\n                var nbb_cell_id = 75;\n                var nbb_unformatted_code = \"linear_model = LinearRegression().fit(X_train, y_train)\";\n                var nbb_formatted_code = \"linear_model = LinearRegression().fit(X_train, y_train)\";\n                var nbb_cells = Jupyter.notebook.get_cells();\n                for (var i = 0; i < nbb_cells.length; ++i) {\n                    if (nbb_cells[i].input_prompt_number == nbb_cell_id) {\n                        if (nbb_cells[i].get_text() == nbb_unformatted_code) {\n                             nbb_cells[i].set_text(nbb_formatted_code);\n                        }\n                        break;\n                    }\n                }\n            }, 500);\n            ",
      "text/plain": [
       "<IPython.core.display.Javascript object>"
      ]
     },
     "metadata": {},
     "output_type": "display_data"
    }
   ],
   "source": [
    "linear_model = LinearRegression().fit(X_train, y_train)"
   ]
  },
  {
   "cell_type": "code",
   "execution_count": 76,
   "id": "799b60d8",
   "metadata": {},
   "outputs": [
    {
     "name": "stdout",
     "output_type": "stream",
     "text": [
      "Variance score:  0.93252414028892\n",
      "\n",
      "***TRAINIG RESULTS***: \n",
      "==================================================\n",
      "R-squared train dataset: 0.9318020965647771\n",
      "MSE train dataset: 0.01608506298292783\n",
      "RMSE train dataset: 0.12682690165311075\n",
      "MAE train dataset: 0.0927152495191045\n",
      "\n",
      "***TEST RESULTS***: \n",
      "===================================================\n",
      "R-squared test dataset: 0.9355082368191615\n",
      "MSE test dataset: 0.014562819085559033\n",
      "RMSE test dataset: 0.12067650593864174\n",
      "MAE test dataset: 0.09071752802923028\n"
     ]
    },
    {
     "data": {
      "image/png": "[encoded data removed]",
      "text/plain": [
       "<Figure size 432x432 with 1 Axes>"
      ]
     },
     "metadata": {
      "needs_background": "light"
     },
     "output_type": "display_data"
    },
    {
     "data": {
      "application/javascript": "\n            setTimeout(function() {\n                var nbb_cell_id = 76;\n                var nbb_unformatted_code = \"evaluate(linear_model, X_train, X_test, y_train, y_test)\";\n                var nbb_formatted_code = \"evaluate(linear_model, X_train, X_test, y_train, y_test)\";\n                var nbb_cells = Jupyter.notebook.get_cells();\n                for (var i = 0; i < nbb_cells.length; ++i) {\n                    if (nbb_cells[i].input_prompt_number == nbb_cell_id) {\n                        if (nbb_cells[i].get_text() == nbb_unformatted_code) {\n                             nbb_cells[i].set_text(nbb_formatted_code);\n                        }\n                        break;\n                    }\n                }\n            }, 500);\n            ",
      "text/plain": [
       "<IPython.core.display.Javascript object>"
      ]
     },
     "metadata": {},
     "output_type": "display_data"
    }
   ],
   "source": [
    "evaluate(linear_model, X_train, X_test, y_train, y_test)"
   ]
  },
  {
   "cell_type": "markdown",
   "id": "df501df8",
   "metadata": {},
   "source": [
    "### <p style=\"color:blue\">Nhận xét</p>"
   ]
  },
  {
   "cell_type": "code",
   "execution_count": 78,
   "id": "8d8ba0df",
   "metadata": {},
   "outputs": [
    {
     "data": {
      "text/plain": [
       "'\\n=> mô hình đạt kết quả tốt,\\nVariance score cao,\\nR-squared của cả train và test đều cao (>90%)\\nRMSE, MAE, MSE của cả train và test đều thấp\\n\\n=> model phù hợp với dữ liệu\\n'"
      ]
     },
     "execution_count": 78,
     "metadata": {},
     "output_type": "execute_result"
    },
    {
     "data": {
      "application/javascript": "\n            setTimeout(function() {\n                var nbb_cell_id = 78;\n                var nbb_unformatted_code = \"\\\"\\\"\\\"\\n=> m\\u00f4 h\\u00ecnh \\u0111\\u1ea1t k\\u1ebft qu\\u1ea3 t\\u1ed1t,\\nVariance score cao,\\nR-squared c\\u1ee7a c\\u1ea3 train v\\u00e0 test \\u0111\\u1ec1u cao (>90%)\\nRMSE, MAE, MSE c\\u1ee7a c\\u1ea3 train v\\u00e0 test \\u0111\\u1ec1u th\\u1ea5p\\n\\n=> model ph\\u00f9 h\\u1ee3p v\\u1edbi d\\u1eef li\\u1ec7u\\n\\\"\\\"\\\"\";\n                var nbb_formatted_code = \"\\\"\\\"\\\"\\n=> m\\u00f4 h\\u00ecnh \\u0111\\u1ea1t k\\u1ebft qu\\u1ea3 t\\u1ed1t,\\nVariance score cao,\\nR-squared c\\u1ee7a c\\u1ea3 train v\\u00e0 test \\u0111\\u1ec1u cao (>90%)\\nRMSE, MAE, MSE c\\u1ee7a c\\u1ea3 train v\\u00e0 test \\u0111\\u1ec1u th\\u1ea5p\\n\\n=> model ph\\u00f9 h\\u1ee3p v\\u1edbi d\\u1eef li\\u1ec7u\\n\\\"\\\"\\\"\";\n                var nbb_cells = Jupyter.notebook.get_cells();\n                for (var i = 0; i < nbb_cells.length; ++i) {\n                    if (nbb_cells[i].input_prompt_number == nbb_cell_id) {\n                        if (nbb_cells[i].get_text() == nbb_unformatted_code) {\n                             nbb_cells[i].set_text(nbb_formatted_code);\n                        }\n                        break;\n                    }\n                }\n            }, 500);\n            ",
      "text/plain": [
       "<IPython.core.display.Javascript object>"
      ]
     },
     "metadata": {},
     "output_type": "display_data"
    }
   ],
   "source": [
    "\"\"\"\n",
    "=> mô hình đạt kết quả tốt,\n",
    "Variance score cao,\n",
    "R-squared của cả train và test đều cao (>90%)\n",
    "RMSE, MAE, MSE của cả train và test đều thấp\n",
    "\n",
    "=> model phù hợp với dữ liệu\n",
    "\"\"\""
   ]
  },
  {
   "cell_type": "markdown",
   "id": "93d3d43d",
   "metadata": {},
   "source": [
    "### Decision Tree"
   ]
  },
  {
   "cell_type": "code",
   "execution_count": 79,
   "id": "bd4fab17",
   "metadata": {},
   "outputs": [
    {
     "data": {
      "application/javascript": "\n            setTimeout(function() {\n                var nbb_cell_id = 79;\n                var nbb_unformatted_code = \"from sklearn.model_selection import GridSearchCV\\nfrom sklearn.model_selection import RandomizedSearchCV\";\n                var nbb_formatted_code = \"from sklearn.model_selection import GridSearchCV\\nfrom sklearn.model_selection import RandomizedSearchCV\";\n                var nbb_cells = Jupyter.notebook.get_cells();\n                for (var i = 0; i < nbb_cells.length; ++i) {\n                    if (nbb_cells[i].input_prompt_number == nbb_cell_id) {\n                        if (nbb_cells[i].get_text() == nbb_unformatted_code) {\n                             nbb_cells[i].set_text(nbb_formatted_code);\n                        }\n                        break;\n                    }\n                }\n            }, 500);\n            ",
      "text/plain": [
       "<IPython.core.display.Javascript object>"
      ]
     },
     "metadata": {},
     "output_type": "display_data"
    }
   ],
   "source": [
    "from sklearn.model_selection import GridSearchCV\n",
    "from sklearn.model_selection import RandomizedSearchCV"
   ]
  },
  {
   "cell_type": "code",
   "execution_count": 86,
   "id": "505b7faf",
   "metadata": {},
   "outputs": [
    {
     "name": "stdout",
     "output_type": "stream",
     "text": [
      "Accuracy: 88.80% - std: 2.36%\n",
      "[0.90234552 0.91893756 0.86015408 0.88659394 0.91498649 0.84846505\n",
      " 0.90378862 0.90325566 0.88208725 0.85964082]\n"
     ]
    },
    {
     "data": {
      "application/javascript": "\n            setTimeout(function() {\n                var nbb_cell_id = 86;\n                var nbb_unformatted_code = \"from sklearn import model_selection\\nfrom sklearn.model_selection import KFold\\nfrom sklearn.model_selection import cross_val_score\\n\\nmodel_k = DecisionTreeRegressor()\\nkfold = KFold(n_splits=10)\\nresults = cross_val_score(model_k, X, y, cv=kfold)\\nprint(\\\"Accuracy: %.2f%% - std: %.2f%%\\\" % (results.mean() * 100, results.std() * 100))\\nprint(results)\";\n                var nbb_formatted_code = \"from sklearn import model_selection\\nfrom sklearn.model_selection import KFold\\nfrom sklearn.model_selection import cross_val_score\\n\\nmodel_k = DecisionTreeRegressor()\\nkfold = KFold(n_splits=10)\\nresults = cross_val_score(model_k, X, y, cv=kfold)\\nprint(\\\"Accuracy: %.2f%% - std: %.2f%%\\\" % (results.mean() * 100, results.std() * 100))\\nprint(results)\";\n                var nbb_cells = Jupyter.notebook.get_cells();\n                for (var i = 0; i < nbb_cells.length; ++i) {\n                    if (nbb_cells[i].input_prompt_number == nbb_cell_id) {\n                        if (nbb_cells[i].get_text() == nbb_unformatted_code) {\n                             nbb_cells[i].set_text(nbb_formatted_code);\n                        }\n                        break;\n                    }\n                }\n            }, 500);\n            ",
      "text/plain": [
       "<IPython.core.display.Javascript object>"
      ]
     },
     "metadata": {},
     "output_type": "display_data"
    }
   ],
   "source": [
    "from sklearn import model_selection\n",
    "from sklearn.model_selection import KFold\n",
    "from sklearn.model_selection import cross_val_score\n",
    "\n",
    "model_k = DecisionTreeRegressor()\n",
    "kfold = KFold(n_splits=10)\n",
    "results = cross_val_score(model_k, X, y, cv=kfold)\n",
    "print(\"Accuracy: %.2f%% - std: %.2f%%\" % (results.mean() * 100, results.std() * 100))\n",
    "print(results)"
   ]
  },
  {
   "cell_type": "code",
   "execution_count": 87,
   "id": "631545be",
   "metadata": {},
   "outputs": [
    {
     "data": {
      "text/plain": [
       "'\\nKết quả ổn định => có thể chọn thuật toán này\\n'"
      ]
     },
     "execution_count": 87,
     "metadata": {},
     "output_type": "execute_result"
    },
    {
     "data": {
      "application/javascript": "\n            setTimeout(function() {\n                var nbb_cell_id = 87;\n                var nbb_unformatted_code = \"'''\\nK\\u1ebft qu\\u1ea3 \\u1ed5n \\u0111\\u1ecbnh => c\\u00f3 th\\u1ec3 ch\\u1ecdn thu\\u1eadt to\\u00e1n n\\u00e0y\\n'''\";\n                var nbb_formatted_code = \"\\\"\\\"\\\"\\nK\\u1ebft qu\\u1ea3 \\u1ed5n \\u0111\\u1ecbnh => c\\u00f3 th\\u1ec3 ch\\u1ecdn thu\\u1eadt to\\u00e1n n\\u00e0y\\n\\\"\\\"\\\"\";\n                var nbb_cells = Jupyter.notebook.get_cells();\n                for (var i = 0; i < nbb_cells.length; ++i) {\n                    if (nbb_cells[i].input_prompt_number == nbb_cell_id) {\n                        if (nbb_cells[i].get_text() == nbb_unformatted_code) {\n                             nbb_cells[i].set_text(nbb_formatted_code);\n                        }\n                        break;\n                    }\n                }\n            }, 500);\n            ",
      "text/plain": [
       "<IPython.core.display.Javascript object>"
      ]
     },
     "metadata": {},
     "output_type": "display_data"
    }
   ],
   "source": [
    "\"\"\"\n",
    "Kết quả ổn định => có thể chọn thuật toán này\n",
    "\"\"\""
   ]
  },
  {
   "cell_type": "code",
   "execution_count": 63,
   "id": "13392bf4",
   "metadata": {},
   "outputs": [
    {
     "name": "stdout",
     "output_type": "stream",
     "text": [
      "{'min_samples_split': 40, 'min_samples_leaf': 20, 'max_leaf_nodes': 120, 'max_depth': 10, 'criterion': 'mse'}\n",
      "run time:  16.481956243515015\n"
     ]
    },
    {
     "data": {
      "application/javascript": "\n            setTimeout(function() {\n                var nbb_cell_id = 63;\n                var nbb_unformatted_code = \"from sklearn.tree import DecisionTreeRegressor\\n\\ntree_param = {\\n    \\\"criterion\\\": [\\\"mse\\\", \\\"mae\\\"],\\n    \\\"min_samples_split\\\": [10, 20, 40, 60, 80, 120, 150, 200, 250],\\n    \\\"max_depth\\\": [2, 6, 8, 10, 15, 18, 20],\\n    \\\"min_samples_leaf\\\": [20, 40, 100, 130, 150, 200],\\n    \\\"max_leaf_nodes\\\": [5, 20, 100, 120, 150, 200],\\n}\\nstart = time.time()\\ndc_model = RandomizedSearchCV(\\n    estimator=DecisionTreeRegressor(), param_distributions=tree_param, cv=5\\n)\\ndc_model.fit(X_train, y_train)\\nprint(dc_model.best_params_)\\nend = time.time()\\nprint(\\\"run time: \\\", end - start)\";\n                var nbb_formatted_code = \"from sklearn.tree import DecisionTreeRegressor\\n\\ntree_param = {\\n    \\\"criterion\\\": [\\\"mse\\\", \\\"mae\\\"],\\n    \\\"min_samples_split\\\": [10, 20, 40, 60, 80, 120, 150, 200, 250],\\n    \\\"max_depth\\\": [2, 6, 8, 10, 15, 18, 20],\\n    \\\"min_samples_leaf\\\": [20, 40, 100, 130, 150, 200],\\n    \\\"max_leaf_nodes\\\": [5, 20, 100, 120, 150, 200],\\n}\\nstart = time.time()\\ndc_model = RandomizedSearchCV(\\n    estimator=DecisionTreeRegressor(), param_distributions=tree_param, cv=5\\n)\\ndc_model.fit(X_train, y_train)\\nprint(dc_model.best_params_)\\nend = time.time()\\nprint(\\\"run time: \\\", end - start)\";\n                var nbb_cells = Jupyter.notebook.get_cells();\n                for (var i = 0; i < nbb_cells.length; ++i) {\n                    if (nbb_cells[i].input_prompt_number == nbb_cell_id) {\n                        if (nbb_cells[i].get_text() == nbb_unformatted_code) {\n                             nbb_cells[i].set_text(nbb_formatted_code);\n                        }\n                        break;\n                    }\n                }\n            }, 500);\n            ",
      "text/plain": [
       "<IPython.core.display.Javascript object>"
      ]
     },
     "metadata": {},
     "output_type": "display_data"
    }
   ],
   "source": [
    "from sklearn.tree import DecisionTreeRegressor\n",
    "\n",
    "tree_param = {\n",
    "    \"criterion\": [\"mse\", \"mae\"],\n",
    "    \"min_samples_split\": [10, 20, 40, 60, 80, 120, 150, 200, 250],\n",
    "    \"max_depth\": [2, 6, 8, 10, 15, 18, 20],\n",
    "    \"min_samples_leaf\": [20, 40, 100, 130, 150, 200],\n",
    "    \"max_leaf_nodes\": [5, 20, 100, 120, 150, 200],\n",
    "}\n",
    "start = time.time()\n",
    "dc_model = RandomizedSearchCV(\n",
    "    estimator=DecisionTreeRegressor(), param_distributions=tree_param, cv=5\n",
    ")\n",
    "dc_model.fit(X_train, y_train)\n",
    "print(dc_model.best_params_)\n",
    "end = time.time()\n",
    "print(\"run time: \", end - start)"
   ]
  },
  {
   "cell_type": "code",
   "execution_count": 80,
   "id": "1b8416d4",
   "metadata": {},
   "outputs": [
    {
     "data": {
      "text/plain": [
       "\"\\nvới một vài trường hợp test thử, ta nhận thấy Decision Tree Regressor có params là\\n'min_samples_split': 40, 'min_samples_leaf': 20, 'max_leaf_nodes': 120, 'max_depth': 10, 'criterion': 'mse'\\n\\n\""
      ]
     },
     "execution_count": 80,
     "metadata": {},
     "output_type": "execute_result"
    },
    {
     "data": {
      "application/javascript": "\n            setTimeout(function() {\n                var nbb_cell_id = 80;\n                var nbb_unformatted_code = \"\\\"\\\"\\\"\\nv\\u1edbi m\\u1ed9t v\\u00e0i tr\\u01b0\\u1eddng h\\u1ee3p test th\\u1eed, ta nh\\u1eadn th\\u1ea5y Decision Tree Regressor c\\u00f3 params l\\u00e0\\n'min_samples_split': 40, 'min_samples_leaf': 20, 'max_leaf_nodes': 120, 'max_depth': 10, 'criterion': 'mse'\\n\\n\\\"\\\"\\\"\";\n                var nbb_formatted_code = \"\\\"\\\"\\\"\\nv\\u1edbi m\\u1ed9t v\\u00e0i tr\\u01b0\\u1eddng h\\u1ee3p test th\\u1eed, ta nh\\u1eadn th\\u1ea5y Decision Tree Regressor c\\u00f3 params l\\u00e0\\n'min_samples_split': 40, 'min_samples_leaf': 20, 'max_leaf_nodes': 120, 'max_depth': 10, 'criterion': 'mse'\\n\\n\\\"\\\"\\\"\";\n                var nbb_cells = Jupyter.notebook.get_cells();\n                for (var i = 0; i < nbb_cells.length; ++i) {\n                    if (nbb_cells[i].input_prompt_number == nbb_cell_id) {\n                        if (nbb_cells[i].get_text() == nbb_unformatted_code) {\n                             nbb_cells[i].set_text(nbb_formatted_code);\n                        }\n                        break;\n                    }\n                }\n            }, 500);\n            ",
      "text/plain": [
       "<IPython.core.display.Javascript object>"
      ]
     },
     "metadata": {},
     "output_type": "display_data"
    }
   ],
   "source": [
    "\"\"\"\n",
    "với một vài trường hợp test thử, ta nhận thấy Decision Tree Regressor có params là\n",
    "'min_samples_split': 40, 'min_samples_leaf': 20, 'max_leaf_nodes': 120, 'max_depth': 10, 'criterion': 'mse'\n",
    "\n",
    "\"\"\""
   ]
  },
  {
   "cell_type": "code",
   "execution_count": 65,
   "id": "9fb3679b",
   "metadata": {},
   "outputs": [
    {
     "name": "stdout",
     "output_type": "stream",
     "text": [
      "Variance score:  0.9092482527377145\n",
      "\n",
      "***TRAINIG RESULTS***: \n",
      "==================================================\n",
      "R-squared train dataset: 0.9102992215625626\n",
      "MSE train dataset: 0.02115670127827762\n",
      "RMSE train dataset: 0.14545343336710076\n",
      "MAE train dataset: 0.1028210376311685\n",
      "\n",
      "***TEST RESULTS***: \n",
      "===================================================\n",
      "R-squared test dataset: 0.9048144061374288\n",
      "MSE test dataset: 0.021493761599992604\n",
      "RMSE test dataset: 0.14660750867534925\n",
      "MAE test dataset: 0.10655150144563488\n"
     ]
    },
    {
     "data": {
      "image/png": "[encoded data removed]",
      "text/plain": [
       "<Figure size 432x432 with 1 Axes>"
      ]
     },
     "metadata": {
      "needs_background": "light"
     },
     "output_type": "display_data"
    },
    {
     "data": {
      "application/javascript": "\n            setTimeout(function() {\n                var nbb_cell_id = 65;\n                var nbb_unformatted_code = \"evaluate(dc_model, X_train, X_test, y_train, y_test)\";\n                var nbb_formatted_code = \"evaluate(dc_model, X_train, X_test, y_train, y_test)\";\n                var nbb_cells = Jupyter.notebook.get_cells();\n                for (var i = 0; i < nbb_cells.length; ++i) {\n                    if (nbb_cells[i].input_prompt_number == nbb_cell_id) {\n                        if (nbb_cells[i].get_text() == nbb_unformatted_code) {\n                             nbb_cells[i].set_text(nbb_formatted_code);\n                        }\n                        break;\n                    }\n                }\n            }, 500);\n            ",
      "text/plain": [
       "<IPython.core.display.Javascript object>"
      ]
     },
     "metadata": {},
     "output_type": "display_data"
    }
   ],
   "source": [
    "evaluate(dc_model, X_train, X_test, y_train, y_test)"
   ]
  },
  {
   "cell_type": "markdown",
   "id": "8218c30d",
   "metadata": {},
   "source": [
    "### <p style=\"color:blue\">Nhận xét</p>"
   ]
  },
  {
   "cell_type": "code",
   "execution_count": 81,
   "id": "30082c44",
   "metadata": {},
   "outputs": [
    {
     "data": {
      "text/plain": [
       "'\\n=> mô hình có kết quả tốt,\\nVariance score cao,\\nR-squared của cả train và test đều cao \\nRMSE, MAE, MSE của cả train và test đều thấp\\n\\n=> model phù hợp với dữ liệu\\n'"
      ]
     },
     "execution_count": 81,
     "metadata": {},
     "output_type": "execute_result"
    },
    {
     "data": {
      "application/javascript": "\n            setTimeout(function() {\n                var nbb_cell_id = 81;\n                var nbb_unformatted_code = \"\\\"\\\"\\\"\\n=> m\\u00f4 h\\u00ecnh c\\u00f3 k\\u1ebft qu\\u1ea3 t\\u1ed1t,\\nVariance score cao,\\nR-squared c\\u1ee7a c\\u1ea3 train v\\u00e0 test \\u0111\\u1ec1u cao \\nRMSE, MAE, MSE c\\u1ee7a c\\u1ea3 train v\\u00e0 test \\u0111\\u1ec1u th\\u1ea5p\\n\\n=> model ph\\u00f9 h\\u1ee3p v\\u1edbi d\\u1eef li\\u1ec7u\\n\\\"\\\"\\\"\";\n                var nbb_formatted_code = \"\\\"\\\"\\\"\\n=> m\\u00f4 h\\u00ecnh c\\u00f3 k\\u1ebft qu\\u1ea3 t\\u1ed1t,\\nVariance score cao,\\nR-squared c\\u1ee7a c\\u1ea3 train v\\u00e0 test \\u0111\\u1ec1u cao \\nRMSE, MAE, MSE c\\u1ee7a c\\u1ea3 train v\\u00e0 test \\u0111\\u1ec1u th\\u1ea5p\\n\\n=> model ph\\u00f9 h\\u1ee3p v\\u1edbi d\\u1eef li\\u1ec7u\\n\\\"\\\"\\\"\";\n                var nbb_cells = Jupyter.notebook.get_cells();\n                for (var i = 0; i < nbb_cells.length; ++i) {\n                    if (nbb_cells[i].input_prompt_number == nbb_cell_id) {\n                        if (nbb_cells[i].get_text() == nbb_unformatted_code) {\n                             nbb_cells[i].set_text(nbb_formatted_code);\n                        }\n                        break;\n                    }\n                }\n            }, 500);\n            ",
      "text/plain": [
       "<IPython.core.display.Javascript object>"
      ]
     },
     "metadata": {},
     "output_type": "display_data"
    }
   ],
   "source": [
    "\"\"\"\n",
    "=> mô hình có kết quả tốt,\n",
    "Variance score cao,\n",
    "R-squared của cả train và test đều cao \n",
    "RMSE, MAE, MSE của cả train và test đều thấp\n",
    "\n",
    "=> model phù hợp với dữ liệu\n",
    "\"\"\""
   ]
  },
  {
   "cell_type": "markdown",
   "id": "dc2e36c2",
   "metadata": {},
   "source": [
    "### KNN"
   ]
  },
  {
   "cell_type": "code",
   "execution_count": 88,
   "id": "d798c82d",
   "metadata": {},
   "outputs": [
    {
     "name": "stdout",
     "output_type": "stream",
     "text": [
      "Accuracy: 48.91% - std: 4.02%\n",
      "[0.50034048 0.51212554 0.48198244 0.45255671 0.51276178 0.45134345\n",
      " 0.57658956 0.51174931 0.45631521 0.43526293]\n"
     ]
    },
    {
     "data": {
      "application/javascript": "\n            setTimeout(function() {\n                var nbb_cell_id = 88;\n                var nbb_unformatted_code = \"from sklearn import model_selection\\nfrom sklearn.model_selection import KFold\\nfrom sklearn.model_selection import cross_val_score\\n\\nmodel_k = KNeighborsRegressor()\\nkfold = KFold(n_splits=10)\\nresults = cross_val_score(model_k, X, y, cv=kfold)\\nprint(\\\"Accuracy: %.2f%% - std: %.2f%%\\\" % (results.mean() * 100, results.std() * 100))\\nprint(results)\";\n                var nbb_formatted_code = \"from sklearn import model_selection\\nfrom sklearn.model_selection import KFold\\nfrom sklearn.model_selection import cross_val_score\\n\\nmodel_k = KNeighborsRegressor()\\nkfold = KFold(n_splits=10)\\nresults = cross_val_score(model_k, X, y, cv=kfold)\\nprint(\\\"Accuracy: %.2f%% - std: %.2f%%\\\" % (results.mean() * 100, results.std() * 100))\\nprint(results)\";\n                var nbb_cells = Jupyter.notebook.get_cells();\n                for (var i = 0; i < nbb_cells.length; ++i) {\n                    if (nbb_cells[i].input_prompt_number == nbb_cell_id) {\n                        if (nbb_cells[i].get_text() == nbb_unformatted_code) {\n                             nbb_cells[i].set_text(nbb_formatted_code);\n                        }\n                        break;\n                    }\n                }\n            }, 500);\n            ",
      "text/plain": [
       "<IPython.core.display.Javascript object>"
      ]
     },
     "metadata": {},
     "output_type": "display_data"
    }
   ],
   "source": [
    "from sklearn import model_selection\n",
    "from sklearn.model_selection import KFold\n",
    "from sklearn.model_selection import cross_val_score\n",
    "\n",
    "model_k = KNeighborsRegressor()\n",
    "kfold = KFold(n_splits=10)\n",
    "results = cross_val_score(model_k, X, y, cv=kfold)\n",
    "print(\"Accuracy: %.2f%% - std: %.2f%%\" % (results.mean() * 100, results.std() * 100))\n",
    "print(results)"
   ]
  },
  {
   "cell_type": "code",
   "execution_count": 89,
   "id": "adba204f",
   "metadata": {},
   "outputs": [
    {
     "data": {
      "text/plain": [
       "'\\nKết quả có vẻ thấp => ta thử kiểm chứng lại\\n'"
      ]
     },
     "execution_count": 89,
     "metadata": {},
     "output_type": "execute_result"
    },
    {
     "data": {
      "application/javascript": "\n            setTimeout(function() {\n                var nbb_cell_id = 89;\n                var nbb_unformatted_code = \"'''\\nK\\u1ebft qu\\u1ea3 c\\u00f3 v\\u1ebb th\\u1ea5p => ta th\\u1eed ki\\u1ec3m ch\\u1ee9ng l\\u1ea1i\\n'''\";\n                var nbb_formatted_code = \"\\\"\\\"\\\"\\nK\\u1ebft qu\\u1ea3 c\\u00f3 v\\u1ebb th\\u1ea5p => ta th\\u1eed ki\\u1ec3m ch\\u1ee9ng l\\u1ea1i\\n\\\"\\\"\\\"\";\n                var nbb_cells = Jupyter.notebook.get_cells();\n                for (var i = 0; i < nbb_cells.length; ++i) {\n                    if (nbb_cells[i].input_prompt_number == nbb_cell_id) {\n                        if (nbb_cells[i].get_text() == nbb_unformatted_code) {\n                             nbb_cells[i].set_text(nbb_formatted_code);\n                        }\n                        break;\n                    }\n                }\n            }, 500);\n            ",
      "text/plain": [
       "<IPython.core.display.Javascript object>"
      ]
     },
     "metadata": {},
     "output_type": "display_data"
    }
   ],
   "source": [
    "\"\"\"\n",
    "Kết quả có vẻ thấp => ta thử kiểm chứng lại\n",
    "\"\"\""
   ]
  },
  {
   "cell_type": "code",
   "execution_count": 67,
   "id": "a11e3ae1",
   "metadata": {},
   "outputs": [
    {
     "name": "stdout",
     "output_type": "stream",
     "text": [
      "{'n_neighbors': 17, 'weights': 'distance'}\n",
      "run time:  28.95602321624756\n"
     ]
    },
    {
     "data": {
      "application/javascript": "\n            setTimeout(function() {\n                var nbb_cell_id = 67;\n                var nbb_unformatted_code = \"from sklearn.neighbors import KNeighborsRegressor\\n\\nparams = {\\n    \\\"weights\\\": [\\\"uniform\\\", \\\"distance\\\"],\\n    \\\"n_neighbors\\\": list(range(3, 31, 2)),\\n}\\nstart = time.time()\\nknn_model = GridSearchCV(KNeighborsRegressor(), params, cv=5)\\nknn_model.fit(X_train, y_train)\\nprint(knn_model.best_params_)\\nend = time.time()\\nprint(\\\"run time: \\\", end - start)\";\n                var nbb_formatted_code = \"from sklearn.neighbors import KNeighborsRegressor\\n\\nparams = {\\n    \\\"weights\\\": [\\\"uniform\\\", \\\"distance\\\"],\\n    \\\"n_neighbors\\\": list(range(3, 31, 2)),\\n}\\nstart = time.time()\\nknn_model = GridSearchCV(KNeighborsRegressor(), params, cv=5)\\nknn_model.fit(X_train, y_train)\\nprint(knn_model.best_params_)\\nend = time.time()\\nprint(\\\"run time: \\\", end - start)\";\n                var nbb_cells = Jupyter.notebook.get_cells();\n                for (var i = 0; i < nbb_cells.length; ++i) {\n                    if (nbb_cells[i].input_prompt_number == nbb_cell_id) {\n                        if (nbb_cells[i].get_text() == nbb_unformatted_code) {\n                             nbb_cells[i].set_text(nbb_formatted_code);\n                        }\n                        break;\n                    }\n                }\n            }, 500);\n            ",
      "text/plain": [
       "<IPython.core.display.Javascript object>"
      ]
     },
     "metadata": {},
     "output_type": "display_data"
    }
   ],
   "source": [
    "from sklearn.neighbors import KNeighborsRegressor\n",
    "\n",
    "params = {\n",
    "    \"weights\": [\"uniform\", \"distance\"],\n",
    "    \"n_neighbors\": list(range(3, 31, 2)),\n",
    "}\n",
    "start = time.time()\n",
    "knn_model = GridSearchCV(KNeighborsRegressor(), params, cv=5)\n",
    "knn_model.fit(X_train, y_train)\n",
    "print(knn_model.best_params_)\n",
    "end = time.time()\n",
    "print(\"run time: \", end - start)"
   ]
  },
  {
   "cell_type": "code",
   "execution_count": 68,
   "id": "c99cdab5",
   "metadata": {},
   "outputs": [
    {
     "data": {
      "text/plain": [
       "\"\\nvới KNN Regressor, 'n_neighbors': 17, 'weights': 'distance' là các params phù hợp với dataset\\n\""
      ]
     },
     "execution_count": 68,
     "metadata": {},
     "output_type": "execute_result"
    },
    {
     "data": {
      "application/javascript": "\n            setTimeout(function() {\n                var nbb_cell_id = 68;\n                var nbb_unformatted_code = \"\\\"\\\"\\\"\\nv\\u1edbi KNN Regressor, 'n_neighbors': 17, 'weights': 'distance' l\\u00e0 c\\u00e1c params ph\\u00f9 h\\u1ee3p v\\u1edbi dataset\\n\\\"\\\"\\\"\";\n                var nbb_formatted_code = \"\\\"\\\"\\\"\\nv\\u1edbi KNN Regressor, 'n_neighbors': 17, 'weights': 'distance' l\\u00e0 c\\u00e1c params ph\\u00f9 h\\u1ee3p v\\u1edbi dataset\\n\\\"\\\"\\\"\";\n                var nbb_cells = Jupyter.notebook.get_cells();\n                for (var i = 0; i < nbb_cells.length; ++i) {\n                    if (nbb_cells[i].input_prompt_number == nbb_cell_id) {\n                        if (nbb_cells[i].get_text() == nbb_unformatted_code) {\n                             nbb_cells[i].set_text(nbb_formatted_code);\n                        }\n                        break;\n                    }\n                }\n            }, 500);\n            ",
      "text/plain": [
       "<IPython.core.display.Javascript object>"
      ]
     },
     "metadata": {},
     "output_type": "display_data"
    }
   ],
   "source": [
    "\"\"\"\n",
    "với KNN Regressor, 'n_neighbors': 17, 'weights': 'distance' là các params phù hợp với dataset\n",
    "\"\"\""
   ]
  },
  {
   "cell_type": "code",
   "execution_count": 69,
   "id": "84e9db5a",
   "metadata": {},
   "outputs": [
    {
     "name": "stdout",
     "output_type": "stream",
     "text": [
      "Variance score:  0.9284968740035673\n",
      "\n",
      "***TRAINIG RESULTS***: \n",
      "==================================================\n",
      "R-squared train dataset: 0.9997600772586889\n",
      "MSE train dataset: 5.6587845236203374e-05\n",
      "RMSE train dataset: 0.007522489297845719\n",
      "MAE train dataset: 0.0007007420316570837\n",
      "\n",
      "***TEST RESULTS***: \n",
      "===================================================\n",
      "R-squared test dataset: 0.6307584831856181\n",
      "MSE test dataset: 0.08337804927378537\n",
      "RMSE test dataset: 0.2887525744885842\n",
      "MAE test dataset: 0.21705221547156586\n"
     ]
    },
    {
     "data": {
      "image/png": "[encoded data removed]",
      "text/plain": [
       "<Figure size 432x432 with 1 Axes>"
      ]
     },
     "metadata": {
      "needs_background": "light"
     },
     "output_type": "display_data"
    },
    {
     "data": {
      "application/javascript": "\n            setTimeout(function() {\n                var nbb_cell_id = 69;\n                var nbb_unformatted_code = \"evaluate(knn_model, X_train, X_test, y_train, y_test)\";\n                var nbb_formatted_code = \"evaluate(knn_model, X_train, X_test, y_train, y_test)\";\n                var nbb_cells = Jupyter.notebook.get_cells();\n                for (var i = 0; i < nbb_cells.length; ++i) {\n                    if (nbb_cells[i].input_prompt_number == nbb_cell_id) {\n                        if (nbb_cells[i].get_text() == nbb_unformatted_code) {\n                             nbb_cells[i].set_text(nbb_formatted_code);\n                        }\n                        break;\n                    }\n                }\n            }, 500);\n            ",
      "text/plain": [
       "<IPython.core.display.Javascript object>"
      ]
     },
     "metadata": {},
     "output_type": "display_data"
    }
   ],
   "source": [
    "evaluate(knn_model, X_train, X_test, y_train, y_test)"
   ]
  },
  {
   "cell_type": "code",
   "execution_count": 135,
   "id": "577400f9",
   "metadata": {},
   "outputs": [
    {
     "data": {
      "text/plain": [
       "'\\n=> model dù có các điểm số cao nhưng R-squared test lại khá thấp so với R-squared train\\n=> overfitting\\n'"
      ]
     },
     "execution_count": 135,
     "metadata": {},
     "output_type": "execute_result"
    },
    {
     "data": {
      "application/javascript": "\n            setTimeout(function() {\n                var nbb_cell_id = 135;\n                var nbb_unformatted_code = \"'''\\n=> model d\\u00f9 c\\u00f3 c\\u00e1c \\u0111i\\u1ec3m s\\u1ed1 cao nh\\u01b0ng R-squared test l\\u1ea1i kh\\u00e1 th\\u1ea5p so v\\u1edbi R-squared train\\n=> overfitting\\n'''\";\n                var nbb_formatted_code = \"\\\"\\\"\\\"\\n=> model d\\u00f9 c\\u00f3 c\\u00e1c \\u0111i\\u1ec3m s\\u1ed1 cao nh\\u01b0ng R-squared test l\\u1ea1i kh\\u00e1 th\\u1ea5p so v\\u1edbi R-squared train\\n=> overfitting\\n\\\"\\\"\\\"\";\n                var nbb_cells = Jupyter.notebook.get_cells();\n                for (var i = 0; i < nbb_cells.length; ++i) {\n                    if (nbb_cells[i].input_prompt_number == nbb_cell_id) {\n                        if (nbb_cells[i].get_text() == nbb_unformatted_code) {\n                             nbb_cells[i].set_text(nbb_formatted_code);\n                        }\n                        break;\n                    }\n                }\n            }, 500);\n            ",
      "text/plain": [
       "<IPython.core.display.Javascript object>"
      ]
     },
     "metadata": {},
     "output_type": "display_data"
    }
   ],
   "source": [
    "\"\"\"\n",
    "=> model dù có các điểm số cao nhưng R-squared test lại khá thấp so với R-squared train\n",
    "=> overfitting\n",
    "\"\"\""
   ]
  },
  {
   "cell_type": "markdown",
   "id": "6d452d3a",
   "metadata": {},
   "source": [
    "### Random Forest Regressor"
   ]
  },
  {
   "cell_type": "code",
   "execution_count": 7,
   "id": "96d919c3",
   "metadata": {},
   "outputs": [
    {
     "data": {
      "application/javascript": "\n            setTimeout(function() {\n                var nbb_cell_id = 7;\n                var nbb_unformatted_code = \"from sklearn.ensemble import RandomForestRegressor\";\n                var nbb_formatted_code = \"from sklearn.ensemble import RandomForestRegressor\";\n                var nbb_cells = Jupyter.notebook.get_cells();\n                for (var i = 0; i < nbb_cells.length; ++i) {\n                    if (nbb_cells[i].input_prompt_number == nbb_cell_id) {\n                        if (nbb_cells[i].get_text() == nbb_unformatted_code) {\n                             nbb_cells[i].set_text(nbb_formatted_code);\n                        }\n                        break;\n                    }\n                }\n            }, 500);\n            ",
      "text/plain": [
       "<IPython.core.display.Javascript object>"
      ]
     },
     "metadata": {},
     "output_type": "display_data"
    }
   ],
   "source": [
    "from sklearn.ensemble import RandomForestRegressor\n"
   ]
  },
  {
   "cell_type": "code",
   "execution_count": 91,
   "id": "3375cec7",
   "metadata": {},
   "outputs": [
    {
     "name": "stdout",
     "output_type": "stream",
     "text": [
      "Accuracy: 93.44% - std: 1.63%\n",
      "[0.94240933 0.95306999 0.90996154 0.9194751  0.94668715 0.90972183\n",
      " 0.94966839 0.95096197 0.93914416 0.92278754]\n"
     ]
    },
    {
     "data": {
      "application/javascript": "\n            setTimeout(function() {\n                var nbb_cell_id = 91;\n                var nbb_unformatted_code = \"from sklearn import model_selection\\nfrom sklearn.model_selection import KFold\\nfrom sklearn.model_selection import cross_val_score\\n\\nmodel_k = RandomForestRegressor()\\nkfold = KFold(n_splits=10)\\nresults = cross_val_score(model_k, X, y, cv=kfold)\\nprint(\\\"Accuracy: %.2f%% - std: %.2f%%\\\" % (results.mean() * 100, results.std() * 100))\\nprint(results)\";\n                var nbb_formatted_code = \"from sklearn import model_selection\\nfrom sklearn.model_selection import KFold\\nfrom sklearn.model_selection import cross_val_score\\n\\nmodel_k = RandomForestRegressor()\\nkfold = KFold(n_splits=10)\\nresults = cross_val_score(model_k, X, y, cv=kfold)\\nprint(\\\"Accuracy: %.2f%% - std: %.2f%%\\\" % (results.mean() * 100, results.std() * 100))\\nprint(results)\";\n                var nbb_cells = Jupyter.notebook.get_cells();\n                for (var i = 0; i < nbb_cells.length; ++i) {\n                    if (nbb_cells[i].input_prompt_number == nbb_cell_id) {\n                        if (nbb_cells[i].get_text() == nbb_unformatted_code) {\n                             nbb_cells[i].set_text(nbb_formatted_code);\n                        }\n                        break;\n                    }\n                }\n            }, 500);\n            ",
      "text/plain": [
       "<IPython.core.display.Javascript object>"
      ]
     },
     "metadata": {},
     "output_type": "display_data"
    }
   ],
   "source": [
    "from sklearn import model_selection\n",
    "from sklearn.model_selection import KFold\n",
    "from sklearn.model_selection import cross_val_score\n",
    "\n",
    "model_k = RandomForestRegressor()\n",
    "kfold = KFold(n_splits=10)\n",
    "results = cross_val_score(model_k, X, y, cv=kfold)\n",
    "print(\"Accuracy: %.2f%% - std: %.2f%%\" % (results.mean() * 100, results.std() * 100))\n",
    "print(results)"
   ]
  },
  {
   "cell_type": "code",
   "execution_count": 93,
   "id": "714549ad",
   "metadata": {},
   "outputs": [
    {
     "data": {
      "text/plain": [
       "'\\nKết quả cao và ổn định => có thể sử dụng thuật toán này\\n'"
      ]
     },
     "execution_count": 93,
     "metadata": {},
     "output_type": "execute_result"
    },
    {
     "data": {
      "application/javascript": "\n            setTimeout(function() {\n                var nbb_cell_id = 93;\n                var nbb_unformatted_code = \"'''\\nK\\u1ebft qu\\u1ea3 cao v\\u00e0 \\u1ed5n \\u0111\\u1ecbnh => c\\u00f3 th\\u1ec3 s\\u1eed d\\u1ee5ng thu\\u1eadt to\\u00e1n n\\u00e0y\\n'''\";\n                var nbb_formatted_code = \"\\\"\\\"\\\"\\nK\\u1ebft qu\\u1ea3 cao v\\u00e0 \\u1ed5n \\u0111\\u1ecbnh => c\\u00f3 th\\u1ec3 s\\u1eed d\\u1ee5ng thu\\u1eadt to\\u00e1n n\\u00e0y\\n\\\"\\\"\\\"\";\n                var nbb_cells = Jupyter.notebook.get_cells();\n                for (var i = 0; i < nbb_cells.length; ++i) {\n                    if (nbb_cells[i].input_prompt_number == nbb_cell_id) {\n                        if (nbb_cells[i].get_text() == nbb_unformatted_code) {\n                             nbb_cells[i].set_text(nbb_formatted_code);\n                        }\n                        break;\n                    }\n                }\n            }, 500);\n            ",
      "text/plain": [
       "<IPython.core.display.Javascript object>"
      ]
     },
     "metadata": {},
     "output_type": "display_data"
    }
   ],
   "source": [
    "\"\"\"\n",
    "Kết quả cao và ổn định => có thể sử dụng thuật toán này\n",
    "\"\"\""
   ]
  },
  {
   "cell_type": "code",
   "execution_count": 99,
   "id": "204e0f42",
   "metadata": {},
   "outputs": [
    {
     "name": "stdout",
     "output_type": "stream",
     "text": [
      "{'random_state': 1, 'n_estimators': 25, 'min_samples_split': 4, 'max_features': 'log2'}\n",
      "run time:  11.697751522064209\n"
     ]
    },
    {
     "data": {
      "application/javascript": "\n            setTimeout(function() {\n                var nbb_cell_id = 99;\n                var nbb_unformatted_code = \"param_grid = {\\n    \\\"n_estimators\\\": [20, 25, 50],\\n    \\\"max_features\\\": [\\\"auto\\\", \\\"sqrt\\\", \\\"log2\\\"],\\n    \\\"min_samples_split\\\": [2, 3, 4, 5, 6, 7, 8, 9, 10],\\n    \\\"random_state\\\": [1, 42],\\n}\\nstart = time.time()\\nrf_model = RandomizedSearchCV(\\n    RandomForestRegressor(), param_distributions=param_grid, cv=5\\n)\\nrf_model.fit(X_train, y_train)\\nprint(rf_model.best_params_)\\nend = time.time()\\nprint(\\\"run time: \\\", end - start)\";\n                var nbb_formatted_code = \"param_grid = {\\n    \\\"n_estimators\\\": [20, 25, 50],\\n    \\\"max_features\\\": [\\\"auto\\\", \\\"sqrt\\\", \\\"log2\\\"],\\n    \\\"min_samples_split\\\": [2, 3, 4, 5, 6, 7, 8, 9, 10],\\n    \\\"random_state\\\": [1, 42],\\n}\\nstart = time.time()\\nrf_model = RandomizedSearchCV(\\n    RandomForestRegressor(), param_distributions=param_grid, cv=5\\n)\\nrf_model.fit(X_train, y_train)\\nprint(rf_model.best_params_)\\nend = time.time()\\nprint(\\\"run time: \\\", end - start)\";\n                var nbb_cells = Jupyter.notebook.get_cells();\n                for (var i = 0; i < nbb_cells.length; ++i) {\n                    if (nbb_cells[i].input_prompt_number == nbb_cell_id) {\n                        if (nbb_cells[i].get_text() == nbb_unformatted_code) {\n                             nbb_cells[i].set_text(nbb_formatted_code);\n                        }\n                        break;\n                    }\n                }\n            }, 500);\n            ",
      "text/plain": [
       "<IPython.core.display.Javascript object>"
      ]
     },
     "metadata": {},
     "output_type": "display_data"
    }
   ],
   "source": [
    "param_grid = {\n",
    "    \"n_estimators\": [20, 25, 50],\n",
    "    \"max_features\": [\"auto\", \"sqrt\", \"log2\"],\n",
    "    \"min_samples_split\": [2, 3, 4, 5, 6, 7, 8, 9, 10],\n",
    "    \"random_state\": [1, 42],\n",
    "}\n",
    "start = time.time()\n",
    "rf_model = RandomizedSearchCV(\n",
    "    RandomForestRegressor(), param_distributions=param_grid, cv=5\n",
    ")\n",
    "rf_model.fit(X_train, y_train)\n",
    "print(rf_model.best_params_)\n",
    "end = time.time()\n",
    "print(\"run time: \", end - start)"
   ]
  },
  {
   "cell_type": "code",
   "execution_count": 102,
   "id": "a8dbc051",
   "metadata": {},
   "outputs": [
    {
     "data": {
      "text/plain": [
       "\"\\nvậy, params khá tốt của model này trong dataset là\\n'random_state': 1, 'n_estimators': 25, 'min_samples_split': 4, 'max_features': 'log2'\\n\""
      ]
     },
     "execution_count": 102,
     "metadata": {},
     "output_type": "execute_result"
    },
    {
     "data": {
      "application/javascript": "\n            setTimeout(function() {\n                var nbb_cell_id = 102;\n                var nbb_unformatted_code = \"\\\"\\\"\\\"\\nv\\u1eady, params kh\\u00e1 t\\u1ed1t c\\u1ee7a model n\\u00e0y trong dataset l\\u00e0\\n'random_state': 1, 'n_estimators': 25, 'min_samples_split': 4, 'max_features': 'log2'\\n\\\"\\\"\\\"\";\n                var nbb_formatted_code = \"\\\"\\\"\\\"\\nv\\u1eady, params kh\\u00e1 t\\u1ed1t c\\u1ee7a model n\\u00e0y trong dataset l\\u00e0\\n'random_state': 1, 'n_estimators': 25, 'min_samples_split': 4, 'max_features': 'log2'\\n\\\"\\\"\\\"\";\n                var nbb_cells = Jupyter.notebook.get_cells();\n                for (var i = 0; i < nbb_cells.length; ++i) {\n                    if (nbb_cells[i].input_prompt_number == nbb_cell_id) {\n                        if (nbb_cells[i].get_text() == nbb_unformatted_code) {\n                             nbb_cells[i].set_text(nbb_formatted_code);\n                        }\n                        break;\n                    }\n                }\n            }, 500);\n            ",
      "text/plain": [
       "<IPython.core.display.Javascript object>"
      ]
     },
     "metadata": {},
     "output_type": "display_data"
    }
   ],
   "source": [
    "\"\"\"\n",
    "vậy, params khá tốt của model này trong dataset là\n",
    "'random_state': 1, 'n_estimators': 25, 'min_samples_split': 4, 'max_features': 'log2'\n",
    "\"\"\""
   ]
  },
  {
   "cell_type": "code",
   "execution_count": 101,
   "id": "6ed10fc8",
   "metadata": {},
   "outputs": [
    {
     "name": "stdout",
     "output_type": "stream",
     "text": [
      "Variance score:  0.9781180485298899\n",
      "\n",
      "***TRAINIG RESULTS***: \n",
      "==================================================\n",
      "R-squared train dataset: 0.9838030184581156\n",
      "MSE train dataset: 0.0038201976176876324\n",
      "RMSE train dataset: 0.06180774723032407\n",
      "MAE train dataset: 0.04112588007315092\n",
      "\n",
      "***TEST RESULTS***: \n",
      "===================================================\n",
      "R-squared test dataset: 0.9543584508005712\n",
      "MSE test dataset: 0.010306271545284832\n",
      "RMSE test dataset: 0.10151980863498922\n",
      "MAE test dataset: 0.07192209087009684\n"
     ]
    },
    {
     "data": {
      "image/png": "[encoded data removed]",
      "text/plain": [
       "<Figure size 432x432 with 1 Axes>"
      ]
     },
     "metadata": {
      "needs_background": "light"
     },
     "output_type": "display_data"
    },
    {
     "data": {
      "application/javascript": "\n            setTimeout(function() {\n                var nbb_cell_id = 101;\n                var nbb_unformatted_code = \"evaluate(rf_model, X_train, X_test, y_train, y_test)\";\n                var nbb_formatted_code = \"evaluate(rf_model, X_train, X_test, y_train, y_test)\";\n                var nbb_cells = Jupyter.notebook.get_cells();\n                for (var i = 0; i < nbb_cells.length; ++i) {\n                    if (nbb_cells[i].input_prompt_number == nbb_cell_id) {\n                        if (nbb_cells[i].get_text() == nbb_unformatted_code) {\n                             nbb_cells[i].set_text(nbb_formatted_code);\n                        }\n                        break;\n                    }\n                }\n            }, 500);\n            ",
      "text/plain": [
       "<IPython.core.display.Javascript object>"
      ]
     },
     "metadata": {},
     "output_type": "display_data"
    }
   ],
   "source": [
    "evaluate(rf_model, X_train, X_test, y_train, y_test)"
   ]
  },
  {
   "cell_type": "code",
   "execution_count": 141,
   "id": "c3d08afd",
   "metadata": {},
   "outputs": [
    {
     "data": {
      "text/plain": [
       "'\\n=> mô hình đạt kết quả tốt,\\nVariance score cao,\\nR-squared của cả train và test đều cao (>90%)\\nRMSE, MAE, MSE của cả train và test đều thấp\\n\\n=> model phù hợp với dữ liệu\\n'"
      ]
     },
     "execution_count": 141,
     "metadata": {},
     "output_type": "execute_result"
    },
    {
     "data": {
      "application/javascript": "\n            setTimeout(function() {\n                var nbb_cell_id = 141;\n                var nbb_unformatted_code = \"\\\"\\\"\\\"\\n=> m\\u00f4 h\\u00ecnh \\u0111\\u1ea1t k\\u1ebft qu\\u1ea3 t\\u1ed1t,\\nVariance score cao,\\nR-squared c\\u1ee7a c\\u1ea3 train v\\u00e0 test \\u0111\\u1ec1u cao (>90%)\\nRMSE, MAE, MSE c\\u1ee7a c\\u1ea3 train v\\u00e0 test \\u0111\\u1ec1u th\\u1ea5p\\n\\n=> model ph\\u00f9 h\\u1ee3p v\\u1edbi d\\u1eef li\\u1ec7u\\n\\\"\\\"\\\"\";\n                var nbb_formatted_code = \"\\\"\\\"\\\"\\n=> m\\u00f4 h\\u00ecnh \\u0111\\u1ea1t k\\u1ebft qu\\u1ea3 t\\u1ed1t,\\nVariance score cao,\\nR-squared c\\u1ee7a c\\u1ea3 train v\\u00e0 test \\u0111\\u1ec1u cao (>90%)\\nRMSE, MAE, MSE c\\u1ee7a c\\u1ea3 train v\\u00e0 test \\u0111\\u1ec1u th\\u1ea5p\\n\\n=> model ph\\u00f9 h\\u1ee3p v\\u1edbi d\\u1eef li\\u1ec7u\\n\\\"\\\"\\\"\";\n                var nbb_cells = Jupyter.notebook.get_cells();\n                for (var i = 0; i < nbb_cells.length; ++i) {\n                    if (nbb_cells[i].input_prompt_number == nbb_cell_id) {\n                        if (nbb_cells[i].get_text() == nbb_unformatted_code) {\n                             nbb_cells[i].set_text(nbb_formatted_code);\n                        }\n                        break;\n                    }\n                }\n            }, 500);\n            ",
      "text/plain": [
       "<IPython.core.display.Javascript object>"
      ]
     },
     "metadata": {},
     "output_type": "display_data"
    }
   ],
   "source": [
    "\"\"\"\n",
    "=> mô hình đạt kết quả tốt,\n",
    "Variance score cao,\n",
    "R-squared của cả train và test đều cao (>90%)\n",
    "RMSE, MAE, MSE của cả train và test đều thấp\n",
    "\n",
    "=> model phù hợp với dữ liệu\n",
    "\"\"\""
   ]
  },
  {
   "cell_type": "markdown",
   "id": "31e6e0c4",
   "metadata": {},
   "source": [
    "### SVM (SVR)"
   ]
  },
  {
   "cell_type": "code",
   "execution_count": 94,
   "id": "01ffadb4",
   "metadata": {},
   "outputs": [
    {
     "name": "stdout",
     "output_type": "stream",
     "text": [
      "Accuracy: 45.42% - std: 4.78%\n",
      "[0.46520212 0.47571365 0.41744949 0.39485149 0.46581376 0.38207172\n",
      " 0.52490022 0.5347265  0.45054179 0.43084884]\n"
     ]
    },
    {
     "data": {
      "application/javascript": "\n            setTimeout(function() {\n                var nbb_cell_id = 94;\n                var nbb_unformatted_code = \"model_k = svm.SVR()\\nkfold = KFold(n_splits=10)\\nresults = cross_val_score(model_k, X, y, cv=kfold)\\nprint(\\\"Accuracy: %.2f%% - std: %.2f%%\\\" % (results.mean() * 100, results.std() * 100))\\nprint(results)\";\n                var nbb_formatted_code = \"model_k = svm.SVR()\\nkfold = KFold(n_splits=10)\\nresults = cross_val_score(model_k, X, y, cv=kfold)\\nprint(\\\"Accuracy: %.2f%% - std: %.2f%%\\\" % (results.mean() * 100, results.std() * 100))\\nprint(results)\";\n                var nbb_cells = Jupyter.notebook.get_cells();\n                for (var i = 0; i < nbb_cells.length; ++i) {\n                    if (nbb_cells[i].input_prompt_number == nbb_cell_id) {\n                        if (nbb_cells[i].get_text() == nbb_unformatted_code) {\n                             nbb_cells[i].set_text(nbb_formatted_code);\n                        }\n                        break;\n                    }\n                }\n            }, 500);\n            ",
      "text/plain": [
       "<IPython.core.display.Javascript object>"
      ]
     },
     "metadata": {},
     "output_type": "display_data"
    }
   ],
   "source": [
    "model_k = svm.SVR()\n",
    "kfold = KFold(n_splits=10)\n",
    "results = cross_val_score(model_k, X, y, cv=kfold)\n",
    "print(\"Accuracy: %.2f%% - std: %.2f%%\" % (results.mean() * 100, results.std() * 100))\n",
    "print(results)"
   ]
  },
  {
   "cell_type": "code",
   "execution_count": 95,
   "id": "9178553f",
   "metadata": {},
   "outputs": [
    {
     "data": {
      "text/plain": [
       "'\\n=> kết quả thấp, ta cùng thử lại\\n'"
      ]
     },
     "execution_count": 95,
     "metadata": {},
     "output_type": "execute_result"
    },
    {
     "data": {
      "application/javascript": "\n            setTimeout(function() {\n                var nbb_cell_id = 95;\n                var nbb_unformatted_code = \"'''\\n=> k\\u1ebft qu\\u1ea3 th\\u1ea5p, ta c\\u00f9ng th\\u1eed l\\u1ea1i\\n'''\";\n                var nbb_formatted_code = \"\\\"\\\"\\\"\\n=> k\\u1ebft qu\\u1ea3 th\\u1ea5p, ta c\\u00f9ng th\\u1eed l\\u1ea1i\\n\\\"\\\"\\\"\";\n                var nbb_cells = Jupyter.notebook.get_cells();\n                for (var i = 0; i < nbb_cells.length; ++i) {\n                    if (nbb_cells[i].input_prompt_number == nbb_cell_id) {\n                        if (nbb_cells[i].get_text() == nbb_unformatted_code) {\n                             nbb_cells[i].set_text(nbb_formatted_code);\n                        }\n                        break;\n                    }\n                }\n            }, 500);\n            ",
      "text/plain": [
       "<IPython.core.display.Javascript object>"
      ]
     },
     "metadata": {},
     "output_type": "display_data"
    }
   ],
   "source": [
    "\"\"\"\n",
    "=> kết quả thấp, ta cùng thử lại\n",
    "\"\"\""
   ]
  },
  {
   "cell_type": "code",
   "execution_count": null,
   "id": "b56e5028",
   "metadata": {},
   "outputs": [],
   "source": [
    "parameters = {\n",
    "    \"C\": [0.1, 1, 10, 100],\n",
    "    \"gamma\": [1, 0.1, 0.01, 0.001],\n",
    "    \"kernel\": [\"rbf\", \"linear\"],\n",
    "}\n",
    "\n",
    "start = time.time()\n",
    "svr_model = RandomizedSearchCV(svm.SVR(), param_distributions=parameters, cv=5)\n",
    "svr_model.fit(X_train, y_train)\n",
    "print(svr_model.best_params_)\n",
    "end = time.time()\n",
    "print(\"run time: \", end - start)"
   ]
  },
  {
   "cell_type": "code",
   "execution_count": 158,
   "id": "d969ca47",
   "metadata": {},
   "outputs": [
    {
     "data": {
      "text/plain": [
       "\"\\nvậy, với SVR thì best params trong dictionary trên là\\n'C': 0.1, 'gamma': 1, 'kernel': 'rbf'\\n\""
      ]
     },
     "execution_count": 158,
     "metadata": {},
     "output_type": "execute_result"
    },
    {
     "data": {
      "application/javascript": "\n            setTimeout(function() {\n                var nbb_cell_id = 158;\n                var nbb_unformatted_code = \"\\\"\\\"\\\"\\nv\\u1eady, v\\u1edbi SVR th\\u00ec best params trong dictionary tr\\u00ean l\\u00e0\\n'C': 0.1, 'gamma': 1, 'kernel': 'rbf'\\n\\\"\\\"\\\"\";\n                var nbb_formatted_code = \"\\\"\\\"\\\"\\nv\\u1eady, v\\u1edbi SVR th\\u00ec best params trong dictionary tr\\u00ean l\\u00e0\\n'C': 0.1, 'gamma': 1, 'kernel': 'rbf'\\n\\\"\\\"\\\"\";\n                var nbb_cells = Jupyter.notebook.get_cells();\n                for (var i = 0; i < nbb_cells.length; ++i) {\n                    if (nbb_cells[i].input_prompt_number == nbb_cell_id) {\n                        if (nbb_cells[i].get_text() == nbb_unformatted_code) {\n                             nbb_cells[i].set_text(nbb_formatted_code);\n                        }\n                        break;\n                    }\n                }\n            }, 500);\n            ",
      "text/plain": [
       "<IPython.core.display.Javascript object>"
      ]
     },
     "metadata": {},
     "output_type": "display_data"
    }
   ],
   "source": [
    "\"\"\"\n",
    "vậy, với SVR thì best params trong dictionary trên là\n",
    "'C': 0.1, 'gamma': 1, 'kernel': 'rbf'\n",
    "\"\"\""
   ]
  },
  {
   "cell_type": "code",
   "execution_count": null,
   "id": "fe15182c",
   "metadata": {},
   "outputs": [],
   "source": [
    "evaluate(svr_model, X_train, X_test, y_train, y_test)"
   ]
  },
  {
   "cell_type": "markdown",
   "id": "3ed06f28",
   "metadata": {},
   "source": [
    "### XGBOOST"
   ]
  },
  {
   "cell_type": "code",
   "execution_count": 24,
   "id": "61395b08",
   "metadata": {},
   "outputs": [
    {
     "data": {
      "application/javascript": "\n            setTimeout(function() {\n                var nbb_cell_id = 24;\n                var nbb_unformatted_code = \"import xgboost as xgb\\n\\nn_estimators = [50, 100]\\nmax_depth = [2, 3, 5]\\n#booster = ['gbtree', 'gblinear']\\nbase_score = [0.2, 0.25, 0.5]\\nlearning_rate = [0.05, 0.1, 0.5]\\nmin_child_weight = [1, 2, 3]\\nsubsample = [0.5, 0.75]\\ncolsample_bytree = [0.5, 0.75]\\ncolsample_bynode = [0.5, 0.75]\\ncolsample_bylevel = [0.5, 0.75]\";\n                var nbb_formatted_code = \"import xgboost as xgb\\n\\nn_estimators = [50, 100]\\nmax_depth = [2, 3, 5]\\n# booster = ['gbtree', 'gblinear']\\nbase_score = [0.2, 0.25, 0.5]\\nlearning_rate = [0.05, 0.1, 0.5]\\nmin_child_weight = [1, 2, 3]\\nsubsample = [0.5, 0.75]\\ncolsample_bytree = [0.5, 0.75]\\ncolsample_bynode = [0.5, 0.75]\\ncolsample_bylevel = [0.5, 0.75]\";\n                var nbb_cells = Jupyter.notebook.get_cells();\n                for (var i = 0; i < nbb_cells.length; ++i) {\n                    if (nbb_cells[i].input_prompt_number == nbb_cell_id) {\n                        if (nbb_cells[i].get_text() == nbb_unformatted_code) {\n                             nbb_cells[i].set_text(nbb_formatted_code);\n                        }\n                        break;\n                    }\n                }\n            }, 500);\n            ",
      "text/plain": [
       "<IPython.core.display.Javascript object>"
      ]
     },
     "metadata": {},
     "output_type": "display_data"
    }
   ],
   "source": [
    "import xgboost as xgb\n",
    "\n",
    "n_estimators = [50, 100]\n",
    "max_depth = [2, 3, 5]\n",
    "#booster = ['gbtree', 'gblinear']\n",
    "base_score = [0.2, 0.25, 0.5]\n",
    "learning_rate = [0.05, 0.1, 0.5]\n",
    "min_child_weight = [1, 2, 3]\n",
    "subsample = [0.5, 0.75]\n",
    "colsample_bytree = [0.5, 0.75]\n",
    "colsample_bynode = [0.5, 0.75]\n",
    "colsample_bylevel = [0.5, 0.75]"
   ]
  },
  {
   "cell_type": "code",
   "execution_count": 26,
   "id": "96cb4941",
   "metadata": {},
   "outputs": [
    {
     "name": "stdout",
     "output_type": "stream",
     "text": [
      "Fitting 3 folds for each of 10 candidates, totalling 30 fits\n",
      "{'subsample': 0.75, 'n_estimators': 100, 'min_child_weight': 2, 'max_depth': 2, 'learning_rate': 0.5, 'base_score': 0.25}\n",
      "run time:  7.331140995025635\n"
     ]
    },
    {
     "data": {
      "application/javascript": "\n            setTimeout(function() {\n                var nbb_cell_id = 26;\n                var nbb_unformatted_code = \"params_grid = {\\n    \\\"n_estimators\\\": n_estimators,\\n    \\\"max_depth\\\": max_depth,\\n    \\\"learning_rate\\\": learning_rate,\\n    \\\"min_child_weight\\\": min_child_weight,\\n    \\\"base_score\\\": base_score,\\n    \\\"subsample\\\": subsample,\\n}\\n\\nstart = time.time()\\nxgb_model = RandomizedSearchCV(\\n    xgb.XGBRegressor(), params_grid, cv=3, scoring=\\\"f1\\\", n_jobs=-1, verbose=1\\n)\\nxgb_model.fit(X_train, y_train)\\nprint(xgb_model.best_params_)\\nend = time.time()\\nprint(\\\"run time: \\\", end - start)\";\n                var nbb_formatted_code = \"params_grid = {\\n    \\\"n_estimators\\\": n_estimators,\\n    \\\"max_depth\\\": max_depth,\\n    \\\"learning_rate\\\": learning_rate,\\n    \\\"min_child_weight\\\": min_child_weight,\\n    \\\"base_score\\\": base_score,\\n    \\\"subsample\\\": subsample,\\n}\\n\\nstart = time.time()\\nxgb_model = RandomizedSearchCV(\\n    xgb.XGBRegressor(), params_grid, cv=3, scoring=\\\"f1\\\", n_jobs=-1, verbose=1\\n)\\nxgb_model.fit(X_train, y_train)\\nprint(xgb_model.best_params_)\\nend = time.time()\\nprint(\\\"run time: \\\", end - start)\";\n                var nbb_cells = Jupyter.notebook.get_cells();\n                for (var i = 0; i < nbb_cells.length; ++i) {\n                    if (nbb_cells[i].input_prompt_number == nbb_cell_id) {\n                        if (nbb_cells[i].get_text() == nbb_unformatted_code) {\n                             nbb_cells[i].set_text(nbb_formatted_code);\n                        }\n                        break;\n                    }\n                }\n            }, 500);\n            ",
      "text/plain": [
       "<IPython.core.display.Javascript object>"
      ]
     },
     "metadata": {},
     "output_type": "display_data"
    }
   ],
   "source": [
    "params_grid = {\n",
    "    \"n_estimators\": n_estimators,\n",
    "    \"max_depth\": max_depth,\n",
    "    \"learning_rate\": learning_rate,\n",
    "    \"min_child_weight\": min_child_weight,\n",
    "    \"base_score\": base_score,\n",
    "    \"subsample\": subsample,\n",
    "}\n",
    "\n",
    "start = time.time()\n",
    "xgb_model = RandomizedSearchCV(\n",
    "    xgb.XGBRegressor(), params_grid, cv=3, scoring=\"f1\", n_jobs=-1, verbose=1\n",
    ")\n",
    "xgb_model.fit(X_train, y_train)\n",
    "print(xgb_model.best_params_)\n",
    "end = time.time()\n",
    "print(\"run time: \", end - start)"
   ]
  },
  {
   "cell_type": "code",
   "execution_count": 19,
   "id": "32fcef59",
   "metadata": {},
   "outputs": [
    {
     "data": {
      "text/plain": [
       "\"\\nvậy, best parameters của xgboost là:\\n'colsample_bytree': 0.3, 'gamma': 0.0, 'learning_rate': 0.05, 'max_depth': 3, 'min_child_weight': 1 \\n\\n\""
      ]
     },
     "execution_count": 19,
     "metadata": {},
     "output_type": "execute_result"
    },
    {
     "data": {
      "application/javascript": "\n            setTimeout(function() {\n                var nbb_cell_id = 19;\n                var nbb_unformatted_code = \"'''\\nv\\u1eady, best parameters c\\u1ee7a xgboost l\\u00e0:\\n'colsample_bytree': 0.3, 'gamma': 0.0, 'learning_rate': 0.05, 'max_depth': 3, 'min_child_weight': 1 \\n\\n'''\";\n                var nbb_formatted_code = \"\\\"\\\"\\\"\\nv\\u1eady, best parameters c\\u1ee7a xgboost l\\u00e0:\\n'colsample_bytree': 0.3, 'gamma': 0.0, 'learning_rate': 0.05, 'max_depth': 3, 'min_child_weight': 1 \\n\\n\\\"\\\"\\\"\";\n                var nbb_cells = Jupyter.notebook.get_cells();\n                for (var i = 0; i < nbb_cells.length; ++i) {\n                    if (nbb_cells[i].input_prompt_number == nbb_cell_id) {\n                        if (nbb_cells[i].get_text() == nbb_unformatted_code) {\n                             nbb_cells[i].set_text(nbb_formatted_code);\n                        }\n                        break;\n                    }\n                }\n            }, 500);\n            ",
      "text/plain": [
       "<IPython.core.display.Javascript object>"
      ]
     },
     "metadata": {},
     "output_type": "display_data"
    }
   ],
   "source": [
    "\"\"\"\n",
    "vậy, best parameters của xgboost là:\n",
    "'subsample': 0.75, 'n_estimators': 100, 'min_child_weight': 2, 'max_depth': 2, 'learning_rate': 0.5, 'base_score': 0.25\n",
    "\"\"\""
   ]
  },
  {
   "cell_type": "code",
   "execution_count": 30,
   "id": "4a90b18c",
   "metadata": {},
   "outputs": [
    {
     "data": {
      "application/javascript": "\n            setTimeout(function() {\n                var nbb_cell_id = 30;\n                var nbb_unformatted_code = \"xgb2_model = xgb.XGBRegressor(subsample= 0.75, n_estimators= 100, min_child_weight= 2, max_depth= 2, learning_rate= 0.5,base_score= 0.25).fit(X_train, y_train)\";\n                var nbb_formatted_code = \"xgb2_model = xgb.XGBRegressor(\\n    subsample=0.75,\\n    n_estimators=100,\\n    min_child_weight=2,\\n    max_depth=2,\\n    learning_rate=0.5,\\n    base_score=0.25,\\n).fit(X_train, y_train)\";\n                var nbb_cells = Jupyter.notebook.get_cells();\n                for (var i = 0; i < nbb_cells.length; ++i) {\n                    if (nbb_cells[i].input_prompt_number == nbb_cell_id) {\n                        if (nbb_cells[i].get_text() == nbb_unformatted_code) {\n                             nbb_cells[i].set_text(nbb_formatted_code);\n                        }\n                        break;\n                    }\n                }\n            }, 500);\n            ",
      "text/plain": [
       "<IPython.core.display.Javascript object>"
      ]
     },
     "metadata": {},
     "output_type": "display_data"
    }
   ],
   "source": [
    "xgb2_model = xgb.XGBRegressor(subsample= 0.75, n_estimators= 100, min_child_weight= 2, max_depth= 2, learning_rate= 0.5,base_score= 0.25).fit(X_train, y_train)\n"
   ]
  },
  {
   "cell_type": "code",
   "execution_count": 31,
   "id": "e665aa34",
   "metadata": {},
   "outputs": [
    {
     "name": "stdout",
     "output_type": "stream",
     "text": [
      "Variance score:  0.9480931212535614\n",
      "\n",
      "***TRAINIG RESULTS***: \n",
      "==================================================\n",
      "R-squared train dataset: 0.9491090085667917\n",
      "MSE train dataset: 0.012003078705261384\n",
      "RMSE train dataset: 0.10955856290250153\n",
      "MAE train dataset: 0.07961350349642397\n",
      "\n",
      "***TEST RESULTS***: \n",
      "===================================================\n",
      "R-squared test dataset: 0.9438244021436649\n",
      "MSE test dataset: 0.01268495429890788\n",
      "RMSE test dataset: 0.11262750240908248\n",
      "MAE test dataset: 0.08319711637689628\n"
     ]
    },
    {
     "data": {
      "image/png": "[encoded data removed]",
      "text/plain": [
       "<Figure size 432x432 with 1 Axes>"
      ]
     },
     "metadata": {
      "needs_background": "light"
     },
     "output_type": "display_data"
    },
    {
     "data": {
      "application/javascript": "\n            setTimeout(function() {\n                var nbb_cell_id = 31;\n                var nbb_unformatted_code = \"evaluate(xgb2_model, X_train, X_test, y_train, y_test)\";\n                var nbb_formatted_code = \"evaluate(xgb2_model, X_train, X_test, y_train, y_test)\";\n                var nbb_cells = Jupyter.notebook.get_cells();\n                for (var i = 0; i < nbb_cells.length; ++i) {\n                    if (nbb_cells[i].input_prompt_number == nbb_cell_id) {\n                        if (nbb_cells[i].get_text() == nbb_unformatted_code) {\n                             nbb_cells[i].set_text(nbb_formatted_code);\n                        }\n                        break;\n                    }\n                }\n            }, 500);\n            ",
      "text/plain": [
       "<IPython.core.display.Javascript object>"
      ]
     },
     "metadata": {},
     "output_type": "display_data"
    }
   ],
   "source": [
    "evaluate(xgb2_model, X_train, X_test, y_train, y_test)"
   ]
  },
  {
   "cell_type": "code",
   "execution_count": 32,
   "id": "6463f652",
   "metadata": {},
   "outputs": [
    {
     "data": {
      "text/plain": [
       "'\\n=> mô hình đạt kết quả tốt,\\nVariance score cao,\\nR-squared của cả train và test đều cao (>90%)\\nRMSE, MAE, MSE của cả train và test đều thấp\\n\\n=> model phù hợp với dữ liệu\\n'"
      ]
     },
     "execution_count": 32,
     "metadata": {},
     "output_type": "execute_result"
    },
    {
     "data": {
      "application/javascript": "\n            setTimeout(function() {\n                var nbb_cell_id = 32;\n                var nbb_unformatted_code = \"\\\"\\\"\\\"\\n=> m\\u00f4 h\\u00ecnh \\u0111\\u1ea1t k\\u1ebft qu\\u1ea3 t\\u1ed1t,\\nVariance score cao,\\nR-squared c\\u1ee7a c\\u1ea3 train v\\u00e0 test \\u0111\\u1ec1u cao (>90%)\\nRMSE, MAE, MSE c\\u1ee7a c\\u1ea3 train v\\u00e0 test \\u0111\\u1ec1u th\\u1ea5p\\n\\n=> model ph\\u00f9 h\\u1ee3p v\\u1edbi d\\u1eef li\\u1ec7u\\n\\\"\\\"\\\"\";\n                var nbb_formatted_code = \"\\\"\\\"\\\"\\n=> m\\u00f4 h\\u00ecnh \\u0111\\u1ea1t k\\u1ebft qu\\u1ea3 t\\u1ed1t,\\nVariance score cao,\\nR-squared c\\u1ee7a c\\u1ea3 train v\\u00e0 test \\u0111\\u1ec1u cao (>90%)\\nRMSE, MAE, MSE c\\u1ee7a c\\u1ea3 train v\\u00e0 test \\u0111\\u1ec1u th\\u1ea5p\\n\\n=> model ph\\u00f9 h\\u1ee3p v\\u1edbi d\\u1eef li\\u1ec7u\\n\\\"\\\"\\\"\";\n                var nbb_cells = Jupyter.notebook.get_cells();\n                for (var i = 0; i < nbb_cells.length; ++i) {\n                    if (nbb_cells[i].input_prompt_number == nbb_cell_id) {\n                        if (nbb_cells[i].get_text() == nbb_unformatted_code) {\n                             nbb_cells[i].set_text(nbb_formatted_code);\n                        }\n                        break;\n                    }\n                }\n            }, 500);\n            ",
      "text/plain": [
       "<IPython.core.display.Javascript object>"
      ]
     },
     "metadata": {},
     "output_type": "display_data"
    }
   ],
   "source": [
    "\"\"\"\n",
    "=> mô hình đạt kết quả tốt,\n",
    "Variance score cao,\n",
    "R-squared của cả train và test đều cao (>90%)\n",
    "RMSE, MAE, MSE của cả train và test đều thấp\n",
    "\n",
    "=> model phù hợp với dữ liệu\n",
    "\"\"\""
   ]
  },
  {
   "cell_type": "markdown",
   "id": "db99923d",
   "metadata": {},
   "source": [
    "## KẾT LUẬN"
   ]
  },
  {
   "cell_type": "code",
   "execution_count": 97,
   "id": "280f1597",
   "metadata": {},
   "outputs": [
    {
     "data": {
      "text/plain": [
       "'\\nNhìn chung, trong các thuật toán Linear Regression, KNN, SVM, XGBRegressor, DecisionTree, Random Forest\\nKNN, SVM đưa ra các kết quả thấp, overfitting\\n\\nLinear Regression, XGBRegressor, DecisionTree, Random Forest đưa ra các kết quả cao, phù hợp với model\\ncó thể chọn 1 trong các thuật toán này\\n\\nVd: em chọn thuật toán Random Forest vì đây là thuật toán đưa ra kết quả cao nhất.\\nTuy nhiên, chúng ta hoàn toàn có thể chọn Linear Regression hay DecisionTree, vừa có điểm số cao, vừa có thời gian chạy nhanh\\n'"
      ]
     },
     "execution_count": 97,
     "metadata": {},
     "output_type": "execute_result"
    },
    {
     "data": {
      "application/javascript": "\n            setTimeout(function() {\n                var nbb_cell_id = 97;\n                var nbb_unformatted_code = \"\\\"\\\"\\\"\\nNh\\u00ecn chung, trong c\\u00e1c thu\\u1eadt to\\u00e1n Linear Regression, KNN, SVM, XGBRegressor, DecisionTree, Random Forest\\nKNN, SVM \\u0111\\u01b0a ra c\\u00e1c k\\u1ebft qu\\u1ea3 th\\u1ea5p, overfitting\\n\\nLinear Regression, XGBRegressor, DecisionTree, Random Forest \\u0111\\u01b0a ra c\\u00e1c k\\u1ebft qu\\u1ea3 cao, ph\\u00f9 h\\u1ee3p v\\u1edbi model\\nc\\u00f3 th\\u1ec3 ch\\u1ecdn 1 trong c\\u00e1c thu\\u1eadt to\\u00e1n n\\u00e0y\\n\\nVd: em ch\\u1ecdn thu\\u1eadt to\\u00e1n Random Forest v\\u00ec \\u0111\\u00e2y l\\u00e0 thu\\u1eadt to\\u00e1n \\u0111\\u01b0a ra k\\u1ebft qu\\u1ea3 cao nh\\u1ea5t.\\nTuy nhi\\u00ean, ch\\u00fang ta ho\\u00e0n to\\u00e0n c\\u00f3 th\\u1ec3 ch\\u1ecdn Linear Regression hay DecisionTree, v\\u1eeba c\\u00f3 \\u0111i\\u1ec3m s\\u1ed1 cao, v\\u1eeba c\\u00f3 th\\u1eddi gian ch\\u1ea1y nhanh\\n\\\"\\\"\\\"\";\n                var nbb_formatted_code = \"\\\"\\\"\\\"\\nNh\\u00ecn chung, trong c\\u00e1c thu\\u1eadt to\\u00e1n Linear Regression, KNN, SVM, XGBRegressor, DecisionTree, Random Forest\\nKNN, SVM \\u0111\\u01b0a ra c\\u00e1c k\\u1ebft qu\\u1ea3 th\\u1ea5p, overfitting\\n\\nLinear Regression, XGBRegressor, DecisionTree, Random Forest \\u0111\\u01b0a ra c\\u00e1c k\\u1ebft qu\\u1ea3 cao, ph\\u00f9 h\\u1ee3p v\\u1edbi model\\nc\\u00f3 th\\u1ec3 ch\\u1ecdn 1 trong c\\u00e1c thu\\u1eadt to\\u00e1n n\\u00e0y\\n\\nVd: em ch\\u1ecdn thu\\u1eadt to\\u00e1n Random Forest v\\u00ec \\u0111\\u00e2y l\\u00e0 thu\\u1eadt to\\u00e1n \\u0111\\u01b0a ra k\\u1ebft qu\\u1ea3 cao nh\\u1ea5t.\\nTuy nhi\\u00ean, ch\\u00fang ta ho\\u00e0n to\\u00e0n c\\u00f3 th\\u1ec3 ch\\u1ecdn Linear Regression hay DecisionTree, v\\u1eeba c\\u00f3 \\u0111i\\u1ec3m s\\u1ed1 cao, v\\u1eeba c\\u00f3 th\\u1eddi gian ch\\u1ea1y nhanh\\n\\\"\\\"\\\"\";\n                var nbb_cells = Jupyter.notebook.get_cells();\n                for (var i = 0; i < nbb_cells.length; ++i) {\n                    if (nbb_cells[i].input_prompt_number == nbb_cell_id) {\n                        if (nbb_cells[i].get_text() == nbb_unformatted_code) {\n                             nbb_cells[i].set_text(nbb_formatted_code);\n                        }\n                        break;\n                    }\n                }\n            }, 500);\n            ",
      "text/plain": [
       "<IPython.core.display.Javascript object>"
      ]
     },
     "metadata": {},
     "output_type": "display_data"
    }
   ],
   "source": [
    "\"\"\"\n",
    "Nhìn chung, trong các thuật toán Linear Regression, KNN, SVM, XGBRegressor, DecisionTree, Random Forest\n",
    "KNN, SVM đưa ra các kết quả thấp, overfitting\n",
    "\n",
    "Linear Regression, XGBRegressor, DecisionTree, Random Forest đưa ra các kết quả cao, phù hợp với model\n",
    "có thể chọn 1 trong các thuật toán này\n",
    "\n",
    "Vd: em chọn thuật toán Random Forest vì đây là thuật toán đưa ra kết quả cao nhất.\n",
    "Tuy nhiên, chúng ta hoàn toàn có thể chọn Linear Regression hay DecisionTree, vừa có điểm số cao, vừa có thời gian chạy nhanh\n",
    "\"\"\""
   ]
  },
  {
   "cell_type": "markdown",
   "id": "cf0649c8",
   "metadata": {},
   "source": [
    "### Lưu model"
   ]
  },
  {
   "cell_type": "code",
   "execution_count": 103,
   "id": "4d00befe",
   "metadata": {},
   "outputs": [
    {
     "data": {
      "application/javascript": "\n            setTimeout(function() {\n                var nbb_cell_id = 103;\n                var nbb_unformatted_code = \"import pickle\\n\\nwith open(\\\"rdf_model_bmw\\\", \\\"wb\\\") as file:\\n    pickle.dump(rf_model, file)\";\n                var nbb_formatted_code = \"import pickle\\n\\nwith open(\\\"rdf_model_bmw\\\", \\\"wb\\\") as file:\\n    pickle.dump(rf_model, file)\";\n                var nbb_cells = Jupyter.notebook.get_cells();\n                for (var i = 0; i < nbb_cells.length; ++i) {\n                    if (nbb_cells[i].input_prompt_number == nbb_cell_id) {\n                        if (nbb_cells[i].get_text() == nbb_unformatted_code) {\n                             nbb_cells[i].set_text(nbb_formatted_code);\n                        }\n                        break;\n                    }\n                }\n            }, 500);\n            ",
      "text/plain": [
       "<IPython.core.display.Javascript object>"
      ]
     },
     "metadata": {},
     "output_type": "display_data"
    }
   ],
   "source": [
    "import pickle\n",
    "\n",
    "with open(\"rdf_model_bmw\", \"wb\") as file:\n",
    "    pickle.dump(rf_model, file)"
   ]
  },
  {
   "cell_type": "code",
   "execution_count": 104,
   "id": "436e7fa6",
   "metadata": {},
   "outputs": [
    {
     "data": {
      "application/javascript": "\n            setTimeout(function() {\n                var nbb_cell_id = 104;\n                var nbb_unformatted_code = \"# s\\u1eed d\\u1ee5ng (\\u0111\\u1ecdc model)\\nwith open(\\\"rdf_model_bmw\\\", \\\"rb\\\") as file:\\n    model_ecoli = pickle.load(file)\";\n                var nbb_formatted_code = \"# s\\u1eed d\\u1ee5ng (\\u0111\\u1ecdc model)\\nwith open(\\\"rdf_model_bmw\\\", \\\"rb\\\") as file:\\n    model_ecoli = pickle.load(file)\";\n                var nbb_cells = Jupyter.notebook.get_cells();\n                for (var i = 0; i < nbb_cells.length; ++i) {\n                    if (nbb_cells[i].input_prompt_number == nbb_cell_id) {\n                        if (nbb_cells[i].get_text() == nbb_unformatted_code) {\n                             nbb_cells[i].set_text(nbb_formatted_code);\n                        }\n                        break;\n                    }\n                }\n            }, 500);\n            ",
      "text/plain": [
       "<IPython.core.display.Javascript object>"
      ]
     },
     "metadata": {},
     "output_type": "display_data"
    }
   ],
   "source": [
    "# sử dụng (đọc model)\n",
    "with open(\"rdf_model_bmw\", \"rb\") as file:\n",
    "    model_ecoli = pickle.load(file)"
   ]
  },
  {
   "cell_type": "code",
   "execution_count": null,
   "id": "ce2f9d08",
   "metadata": {},
   "outputs": [],
   "source": []
  }
 ],
 "metadata": {
  "kernelspec": {
   "display_name": "Python 3 (ipykernel)",
   "language": "python",
   "name": "python3"
  },
  "language_info": {
   "codemirror_mode": {
    "name": "ipython",
    "version": 3
   },
   "file_extension": ".py",
   "mimetype": "text/x-python",
   "name": "python",
   "nbconvert_exporter": "python",
   "pygments_lexer": "ipython3",
   "version": "3.9.7"
  }
 },
 "nbformat": 4,
 "nbformat_minor": 5
}
