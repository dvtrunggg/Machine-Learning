{
 "cells": [
  {
   "cell_type": "markdown",
   "id": "e697f965",
   "metadata": {},
   "source": [
    "## Họ Tên: Đinh Viết Trung\n",
    "## Email: dvtrung99@gmail.com\n",
    "### SDT: 0906051685"
   ]
  },
  {
   "cell_type": "code",
   "execution_count": 59,
   "id": "1c78b7aa",
   "metadata": {},
   "outputs": [
    {
     "name": "stdout",
     "output_type": "stream",
     "text": [
      "The nb_black extension is already loaded. To reload it, use:\n",
      "  %reload_ext nb_black\n"
     ]
    },
    {
     "data": {
      "application/javascript": [
       "\n",
       "            setTimeout(function() {\n",
       "                var nbb_cell_id = 59;\n",
       "                var nbb_unformatted_code = \"import pandas as pd\\nimport numpy as np\\nimport seaborn as sns\\nimport matplotlib.pyplot as plt\\nimport scipy\\nimport scipy.stats\\nimport warnings\\nimport time\\n\\nfrom scipy.stats import chi2_contingency\\nfrom scipy.stats import chi2\\nfrom scipy.stats import iqr\\nfrom statsmodels.formula.api import ols\\nfrom statsmodels.stats.multicomp import pairwise_tukeyhsd\\nimport statsmodels.api as sm\\n\\nfrom sklearn.preprocessing import MinMaxScaler\\nfrom sklearn.preprocessing import RobustScaler\\nfrom scipy.stats import iqr\\nfrom sklearn.metrics import mean_squared_error, mean_absolute_error\\nfrom sklearn import preprocessing\\nfrom pandas_profiling import ProfileReport\\nfrom sklearn.ensemble import RandomForestClassifier\\nfrom sklearn import svm\\nfrom sklearn.model_selection import RandomizedSearchCV as randomCV\\nfrom sklearn.model_selection import train_test_split\\nfrom sklearn.metrics import mean_squared_error as MSE\\nfrom sklearn import feature_selection\\nfrom sklearn.metrics import r2_score\\nfrom sklearn.pipeline import make_pipeline\\nfrom sklearn.model_selection import cross_validate\\nfrom plotnine import *\\nfrom matplotlib import gridspec\\nfrom sklearn.preprocessing import StandardScaler\\nimport pprint\\nfrom sklearn.linear_model import LogisticRegression\\nfrom sklearn.tree import DecisionTreeClassifier\\nimport xgboost as xgb\\nfrom sklearn.neighbors import KNeighborsClassifier\\n\\n%load_ext nb_black\\n%matplotlib inline\\nwarnings.filterwarnings(\\\"ignore\\\")\";\n",
       "                var nbb_formatted_code = \"import pandas as pd\\nimport numpy as np\\nimport seaborn as sns\\nimport matplotlib.pyplot as plt\\nimport scipy\\nimport scipy.stats\\nimport warnings\\nimport time\\n\\nfrom scipy.stats import chi2_contingency\\nfrom scipy.stats import chi2\\nfrom scipy.stats import iqr\\nfrom statsmodels.formula.api import ols\\nfrom statsmodels.stats.multicomp import pairwise_tukeyhsd\\nimport statsmodels.api as sm\\n\\nfrom sklearn.preprocessing import MinMaxScaler\\nfrom sklearn.preprocessing import RobustScaler\\nfrom scipy.stats import iqr\\nfrom sklearn.metrics import mean_squared_error, mean_absolute_error\\nfrom sklearn import preprocessing\\nfrom pandas_profiling import ProfileReport\\nfrom sklearn.ensemble import RandomForestClassifier\\nfrom sklearn import svm\\nfrom sklearn.model_selection import RandomizedSearchCV as randomCV\\nfrom sklearn.model_selection import train_test_split\\nfrom sklearn.metrics import mean_squared_error as MSE\\nfrom sklearn import feature_selection\\nfrom sklearn.metrics import r2_score\\nfrom sklearn.pipeline import make_pipeline\\nfrom sklearn.model_selection import cross_validate\\nfrom plotnine import *\\nfrom matplotlib import gridspec\\nfrom sklearn.preprocessing import StandardScaler\\nimport pprint\\nfrom sklearn.linear_model import LogisticRegression\\nfrom sklearn.tree import DecisionTreeClassifier\\nimport xgboost as xgb\\nfrom sklearn.neighbors import KNeighborsClassifier\\n\\n%load_ext nb_black\\n%matplotlib inline\\nwarnings.filterwarnings(\\\"ignore\\\")\";\n",
       "                var nbb_cells = Jupyter.notebook.get_cells();\n",
       "                for (var i = 0; i < nbb_cells.length; ++i) {\n",
       "                    if (nbb_cells[i].input_prompt_number == nbb_cell_id) {\n",
       "                        if (nbb_cells[i].get_text() == nbb_unformatted_code) {\n",
       "                             nbb_cells[i].set_text(nbb_formatted_code);\n",
       "                        }\n",
       "                        break;\n",
       "                    }\n",
       "                }\n",
       "            }, 500);\n",
       "            "
      ],
      "text/plain": [
       "<IPython.core.display.Javascript object>"
      ]
     },
     "metadata": {},
     "output_type": "display_data"
    }
   ],
   "source": [
    "import pandas as pd\n",
    "import numpy as np\n",
    "import seaborn as sns\n",
    "import matplotlib.pyplot as plt\n",
    "import scipy\n",
    "import scipy.stats\n",
    "import warnings\n",
    "import time\n",
    "\n",
    "from scipy.stats import chi2_contingency\n",
    "from scipy.stats import chi2\n",
    "from scipy.stats import iqr\n",
    "from statsmodels.formula.api import ols\n",
    "from statsmodels.stats.multicomp import pairwise_tukeyhsd\n",
    "import statsmodels.api as sm\n",
    "\n",
    "from sklearn.preprocessing import MinMaxScaler\n",
    "from sklearn.preprocessing import RobustScaler\n",
    "from scipy.stats import iqr\n",
    "from sklearn.metrics import mean_squared_error, mean_absolute_error\n",
    "from sklearn import preprocessing\n",
    "from pandas_profiling import ProfileReport\n",
    "from sklearn.ensemble import RandomForestClassifier\n",
    "from sklearn import svm\n",
    "from sklearn.model_selection import RandomizedSearchCV as randomCV\n",
    "from sklearn.model_selection import train_test_split\n",
    "from sklearn.metrics import mean_squared_error as MSE\n",
    "from sklearn import feature_selection\n",
    "from sklearn.metrics import r2_score\n",
    "from sklearn.pipeline import make_pipeline\n",
    "from sklearn.model_selection import cross_validate\n",
    "from plotnine import *\n",
    "from matplotlib import gridspec\n",
    "from sklearn.preprocessing import StandardScaler\n",
    "import pprint\n",
    "from sklearn.linear_model import LogisticRegression\n",
    "from sklearn.tree import DecisionTreeClassifier\n",
    "import xgboost as xgb\n",
    "from sklearn.neighbors import KNeighborsClassifier\n",
    "\n",
    "%load_ext nb_black\n",
    "%matplotlib inline\n",
    "warnings.filterwarnings(\"ignore\")"
   ]
  },
  {
   "cell_type": "code",
   "execution_count": 13,
   "id": "2d56d6ba",
   "metadata": {},
   "outputs": [
    {
     "data": {
      "application/javascript": [
       "\n",
       "            setTimeout(function() {\n",
       "                var nbb_cell_id = 13;\n",
       "                var nbb_unformatted_code = \"df = pd.read_csv(\\\"data/ecoli.csv\\\")\";\n",
       "                var nbb_formatted_code = \"df = pd.read_csv(\\\"data/ecoli.csv\\\")\";\n",
       "                var nbb_cells = Jupyter.notebook.get_cells();\n",
       "                for (var i = 0; i < nbb_cells.length; ++i) {\n",
       "                    if (nbb_cells[i].input_prompt_number == nbb_cell_id) {\n",
       "                        if (nbb_cells[i].get_text() == nbb_unformatted_code) {\n",
       "                             nbb_cells[i].set_text(nbb_formatted_code);\n",
       "                        }\n",
       "                        break;\n",
       "                    }\n",
       "                }\n",
       "            }, 500);\n",
       "            "
      ],
      "text/plain": [
       "<IPython.core.display.Javascript object>"
      ]
     },
     "metadata": {},
     "output_type": "display_data"
    }
   ],
   "source": [
    "df = pd.read_csv(\"data/ecoli.csv\")"
   ]
  },
  {
   "cell_type": "markdown",
   "id": "8a200a98",
   "metadata": {},
   "source": [
    "## Phân tích khám phá dữ liệu (EDA)"
   ]
  },
  {
   "cell_type": "code",
   "execution_count": 14,
   "id": "1eabf6fd",
   "metadata": {},
   "outputs": [
    {
     "data": {
      "text/html": [
       "<div>\n",
       "<style scoped>\n",
       "    .dataframe tbody tr th:only-of-type {\n",
       "        vertical-align: middle;\n",
       "    }\n",
       "\n",
       "    .dataframe tbody tr th {\n",
       "        vertical-align: top;\n",
       "    }\n",
       "\n",
       "    .dataframe thead th {\n",
       "        text-align: right;\n",
       "    }\n",
       "</style>\n",
       "<table border=\"1\" class=\"dataframe\">\n",
       "  <thead>\n",
       "    <tr style=\"text-align: right;\">\n",
       "      <th></th>\n",
       "      <th>mcg</th>\n",
       "      <th>gvh</th>\n",
       "      <th>lip</th>\n",
       "      <th>chg</th>\n",
       "      <th>aac</th>\n",
       "      <th>alm1</th>\n",
       "      <th>alm2</th>\n",
       "      <th>binaryClass</th>\n",
       "    </tr>\n",
       "  </thead>\n",
       "  <tbody>\n",
       "    <tr>\n",
       "      <th>0</th>\n",
       "      <td>0.49</td>\n",
       "      <td>0.29</td>\n",
       "      <td>0.48</td>\n",
       "      <td>0.5</td>\n",
       "      <td>0.56</td>\n",
       "      <td>0.24</td>\n",
       "      <td>0.35</td>\n",
       "      <td>P</td>\n",
       "    </tr>\n",
       "    <tr>\n",
       "      <th>1</th>\n",
       "      <td>0.07</td>\n",
       "      <td>0.40</td>\n",
       "      <td>0.48</td>\n",
       "      <td>0.5</td>\n",
       "      <td>0.54</td>\n",
       "      <td>0.35</td>\n",
       "      <td>0.44</td>\n",
       "      <td>P</td>\n",
       "    </tr>\n",
       "    <tr>\n",
       "      <th>2</th>\n",
       "      <td>0.56</td>\n",
       "      <td>0.40</td>\n",
       "      <td>0.48</td>\n",
       "      <td>0.5</td>\n",
       "      <td>0.49</td>\n",
       "      <td>0.37</td>\n",
       "      <td>0.46</td>\n",
       "      <td>P</td>\n",
       "    </tr>\n",
       "    <tr>\n",
       "      <th>3</th>\n",
       "      <td>0.59</td>\n",
       "      <td>0.49</td>\n",
       "      <td>0.48</td>\n",
       "      <td>0.5</td>\n",
       "      <td>0.52</td>\n",
       "      <td>0.45</td>\n",
       "      <td>0.36</td>\n",
       "      <td>P</td>\n",
       "    </tr>\n",
       "    <tr>\n",
       "      <th>4</th>\n",
       "      <td>0.23</td>\n",
       "      <td>0.32</td>\n",
       "      <td>0.48</td>\n",
       "      <td>0.5</td>\n",
       "      <td>0.55</td>\n",
       "      <td>0.25</td>\n",
       "      <td>0.35</td>\n",
       "      <td>P</td>\n",
       "    </tr>\n",
       "    <tr>\n",
       "      <th>...</th>\n",
       "      <td>...</td>\n",
       "      <td>...</td>\n",
       "      <td>...</td>\n",
       "      <td>...</td>\n",
       "      <td>...</td>\n",
       "      <td>...</td>\n",
       "      <td>...</td>\n",
       "      <td>...</td>\n",
       "    </tr>\n",
       "    <tr>\n",
       "      <th>331</th>\n",
       "      <td>0.74</td>\n",
       "      <td>0.56</td>\n",
       "      <td>0.48</td>\n",
       "      <td>0.5</td>\n",
       "      <td>0.47</td>\n",
       "      <td>0.68</td>\n",
       "      <td>0.30</td>\n",
       "      <td>N</td>\n",
       "    </tr>\n",
       "    <tr>\n",
       "      <th>332</th>\n",
       "      <td>0.71</td>\n",
       "      <td>0.57</td>\n",
       "      <td>0.48</td>\n",
       "      <td>0.5</td>\n",
       "      <td>0.48</td>\n",
       "      <td>0.35</td>\n",
       "      <td>0.32</td>\n",
       "      <td>N</td>\n",
       "    </tr>\n",
       "    <tr>\n",
       "      <th>333</th>\n",
       "      <td>0.61</td>\n",
       "      <td>0.60</td>\n",
       "      <td>0.48</td>\n",
       "      <td>0.5</td>\n",
       "      <td>0.44</td>\n",
       "      <td>0.39</td>\n",
       "      <td>0.38</td>\n",
       "      <td>N</td>\n",
       "    </tr>\n",
       "    <tr>\n",
       "      <th>334</th>\n",
       "      <td>0.59</td>\n",
       "      <td>0.61</td>\n",
       "      <td>0.48</td>\n",
       "      <td>0.5</td>\n",
       "      <td>0.42</td>\n",
       "      <td>0.42</td>\n",
       "      <td>0.37</td>\n",
       "      <td>N</td>\n",
       "    </tr>\n",
       "    <tr>\n",
       "      <th>335</th>\n",
       "      <td>0.74</td>\n",
       "      <td>0.74</td>\n",
       "      <td>0.48</td>\n",
       "      <td>0.5</td>\n",
       "      <td>0.31</td>\n",
       "      <td>0.53</td>\n",
       "      <td>0.52</td>\n",
       "      <td>N</td>\n",
       "    </tr>\n",
       "  </tbody>\n",
       "</table>\n",
       "<p>336 rows × 8 columns</p>\n",
       "</div>"
      ],
      "text/plain": [
       "      mcg   gvh   lip  chg   aac  alm1  alm2 binaryClass\n",
       "0    0.49  0.29  0.48  0.5  0.56  0.24  0.35           P\n",
       "1    0.07  0.40  0.48  0.5  0.54  0.35  0.44           P\n",
       "2    0.56  0.40  0.48  0.5  0.49  0.37  0.46           P\n",
       "3    0.59  0.49  0.48  0.5  0.52  0.45  0.36           P\n",
       "4    0.23  0.32  0.48  0.5  0.55  0.25  0.35           P\n",
       "..    ...   ...   ...  ...   ...   ...   ...         ...\n",
       "331  0.74  0.56  0.48  0.5  0.47  0.68  0.30           N\n",
       "332  0.71  0.57  0.48  0.5  0.48  0.35  0.32           N\n",
       "333  0.61  0.60  0.48  0.5  0.44  0.39  0.38           N\n",
       "334  0.59  0.61  0.48  0.5  0.42  0.42  0.37           N\n",
       "335  0.74  0.74  0.48  0.5  0.31  0.53  0.52           N\n",
       "\n",
       "[336 rows x 8 columns]"
      ]
     },
     "execution_count": 14,
     "metadata": {},
     "output_type": "execute_result"
    },
    {
     "data": {
      "application/javascript": [
       "\n",
       "            setTimeout(function() {\n",
       "                var nbb_cell_id = 14;\n",
       "                var nbb_unformatted_code = \"df\";\n",
       "                var nbb_formatted_code = \"df\";\n",
       "                var nbb_cells = Jupyter.notebook.get_cells();\n",
       "                for (var i = 0; i < nbb_cells.length; ++i) {\n",
       "                    if (nbb_cells[i].input_prompt_number == nbb_cell_id) {\n",
       "                        if (nbb_cells[i].get_text() == nbb_unformatted_code) {\n",
       "                             nbb_cells[i].set_text(nbb_formatted_code);\n",
       "                        }\n",
       "                        break;\n",
       "                    }\n",
       "                }\n",
       "            }, 500);\n",
       "            "
      ],
      "text/plain": [
       "<IPython.core.display.Javascript object>"
      ]
     },
     "metadata": {},
     "output_type": "display_data"
    }
   ],
   "source": [
    "df"
   ]
  },
  {
   "cell_type": "code",
   "execution_count": 15,
   "id": "0a540a1f",
   "metadata": {},
   "outputs": [
    {
     "name": "stdout",
     "output_type": "stream",
     "text": [
      "<class 'pandas.core.frame.DataFrame'>\n",
      "RangeIndex: 336 entries, 0 to 335\n",
      "Data columns (total 8 columns):\n",
      " #   Column       Non-Null Count  Dtype  \n",
      "---  ------       --------------  -----  \n",
      " 0   mcg          336 non-null    float64\n",
      " 1   gvh          336 non-null    float64\n",
      " 2   lip          336 non-null    float64\n",
      " 3   chg          336 non-null    float64\n",
      " 4   aac          336 non-null    float64\n",
      " 5   alm1         336 non-null    float64\n",
      " 6   alm2         336 non-null    float64\n",
      " 7   binaryClass  336 non-null    object \n",
      "dtypes: float64(7), object(1)\n",
      "memory usage: 21.1+ KB\n"
     ]
    },
    {
     "data": {
      "application/javascript": [
       "\n",
       "            setTimeout(function() {\n",
       "                var nbb_cell_id = 15;\n",
       "                var nbb_unformatted_code = \"df.info()\";\n",
       "                var nbb_formatted_code = \"df.info()\";\n",
       "                var nbb_cells = Jupyter.notebook.get_cells();\n",
       "                for (var i = 0; i < nbb_cells.length; ++i) {\n",
       "                    if (nbb_cells[i].input_prompt_number == nbb_cell_id) {\n",
       "                        if (nbb_cells[i].get_text() == nbb_unformatted_code) {\n",
       "                             nbb_cells[i].set_text(nbb_formatted_code);\n",
       "                        }\n",
       "                        break;\n",
       "                    }\n",
       "                }\n",
       "            }, 500);\n",
       "            "
      ],
      "text/plain": [
       "<IPython.core.display.Javascript object>"
      ]
     },
     "metadata": {},
     "output_type": "display_data"
    }
   ],
   "source": [
    "df.info()"
   ]
  },
  {
   "cell_type": "markdown",
   "id": "372e1034",
   "metadata": {},
   "source": [
    "### <span style=\"color:red\">Nhận xét:</span>\n",
    "- <p style=\"color:blue\">không có dữ liệu null</p>\n",
    "- <p style=\"color:blue\">binaryClass có type kiểu object, các biến còn lại là kiểu numeric</p>\n",
    "\n"
   ]
  },
  {
   "cell_type": "code",
   "execution_count": 16,
   "id": "72d9743e",
   "metadata": {},
   "outputs": [
    {
     "data": {
      "text/html": [
       "<div>\n",
       "<style scoped>\n",
       "    .dataframe tbody tr th:only-of-type {\n",
       "        vertical-align: middle;\n",
       "    }\n",
       "\n",
       "    .dataframe tbody tr th {\n",
       "        vertical-align: top;\n",
       "    }\n",
       "\n",
       "    .dataframe thead th {\n",
       "        text-align: right;\n",
       "    }\n",
       "</style>\n",
       "<table border=\"1\" class=\"dataframe\">\n",
       "  <thead>\n",
       "    <tr style=\"text-align: right;\">\n",
       "      <th></th>\n",
       "      <th>mcg</th>\n",
       "      <th>gvh</th>\n",
       "      <th>lip</th>\n",
       "      <th>chg</th>\n",
       "      <th>aac</th>\n",
       "      <th>alm1</th>\n",
       "      <th>alm2</th>\n",
       "    </tr>\n",
       "  </thead>\n",
       "  <tbody>\n",
       "    <tr>\n",
       "      <th>count</th>\n",
       "      <td>336.000000</td>\n",
       "      <td>336.000000</td>\n",
       "      <td>336.000000</td>\n",
       "      <td>336.000000</td>\n",
       "      <td>336.000000</td>\n",
       "      <td>336.000000</td>\n",
       "      <td>336.000000</td>\n",
       "    </tr>\n",
       "    <tr>\n",
       "      <th>mean</th>\n",
       "      <td>0.500060</td>\n",
       "      <td>0.500000</td>\n",
       "      <td>0.495476</td>\n",
       "      <td>0.501488</td>\n",
       "      <td>0.500030</td>\n",
       "      <td>0.500179</td>\n",
       "      <td>0.499732</td>\n",
       "    </tr>\n",
       "    <tr>\n",
       "      <th>std</th>\n",
       "      <td>0.194634</td>\n",
       "      <td>0.148157</td>\n",
       "      <td>0.088495</td>\n",
       "      <td>0.027277</td>\n",
       "      <td>0.122376</td>\n",
       "      <td>0.215751</td>\n",
       "      <td>0.209411</td>\n",
       "    </tr>\n",
       "    <tr>\n",
       "      <th>min</th>\n",
       "      <td>0.000000</td>\n",
       "      <td>0.160000</td>\n",
       "      <td>0.480000</td>\n",
       "      <td>0.500000</td>\n",
       "      <td>0.000000</td>\n",
       "      <td>0.030000</td>\n",
       "      <td>0.000000</td>\n",
       "    </tr>\n",
       "    <tr>\n",
       "      <th>25%</th>\n",
       "      <td>0.340000</td>\n",
       "      <td>0.400000</td>\n",
       "      <td>0.480000</td>\n",
       "      <td>0.500000</td>\n",
       "      <td>0.420000</td>\n",
       "      <td>0.330000</td>\n",
       "      <td>0.350000</td>\n",
       "    </tr>\n",
       "    <tr>\n",
       "      <th>50%</th>\n",
       "      <td>0.500000</td>\n",
       "      <td>0.470000</td>\n",
       "      <td>0.480000</td>\n",
       "      <td>0.500000</td>\n",
       "      <td>0.495000</td>\n",
       "      <td>0.455000</td>\n",
       "      <td>0.430000</td>\n",
       "    </tr>\n",
       "    <tr>\n",
       "      <th>75%</th>\n",
       "      <td>0.662500</td>\n",
       "      <td>0.570000</td>\n",
       "      <td>0.480000</td>\n",
       "      <td>0.500000</td>\n",
       "      <td>0.570000</td>\n",
       "      <td>0.710000</td>\n",
       "      <td>0.710000</td>\n",
       "    </tr>\n",
       "    <tr>\n",
       "      <th>max</th>\n",
       "      <td>0.890000</td>\n",
       "      <td>1.000000</td>\n",
       "      <td>1.000000</td>\n",
       "      <td>1.000000</td>\n",
       "      <td>0.880000</td>\n",
       "      <td>1.000000</td>\n",
       "      <td>0.990000</td>\n",
       "    </tr>\n",
       "  </tbody>\n",
       "</table>\n",
       "</div>"
      ],
      "text/plain": [
       "              mcg         gvh         lip         chg         aac        alm1  \\\n",
       "count  336.000000  336.000000  336.000000  336.000000  336.000000  336.000000   \n",
       "mean     0.500060    0.500000    0.495476    0.501488    0.500030    0.500179   \n",
       "std      0.194634    0.148157    0.088495    0.027277    0.122376    0.215751   \n",
       "min      0.000000    0.160000    0.480000    0.500000    0.000000    0.030000   \n",
       "25%      0.340000    0.400000    0.480000    0.500000    0.420000    0.330000   \n",
       "50%      0.500000    0.470000    0.480000    0.500000    0.495000    0.455000   \n",
       "75%      0.662500    0.570000    0.480000    0.500000    0.570000    0.710000   \n",
       "max      0.890000    1.000000    1.000000    1.000000    0.880000    1.000000   \n",
       "\n",
       "             alm2  \n",
       "count  336.000000  \n",
       "mean     0.499732  \n",
       "std      0.209411  \n",
       "min      0.000000  \n",
       "25%      0.350000  \n",
       "50%      0.430000  \n",
       "75%      0.710000  \n",
       "max      0.990000  "
      ]
     },
     "execution_count": 16,
     "metadata": {},
     "output_type": "execute_result"
    },
    {
     "data": {
      "application/javascript": [
       "\n",
       "            setTimeout(function() {\n",
       "                var nbb_cell_id = 16;\n",
       "                var nbb_unformatted_code = \"df.describe()\";\n",
       "                var nbb_formatted_code = \"df.describe()\";\n",
       "                var nbb_cells = Jupyter.notebook.get_cells();\n",
       "                for (var i = 0; i < nbb_cells.length; ++i) {\n",
       "                    if (nbb_cells[i].input_prompt_number == nbb_cell_id) {\n",
       "                        if (nbb_cells[i].get_text() == nbb_unformatted_code) {\n",
       "                             nbb_cells[i].set_text(nbb_formatted_code);\n",
       "                        }\n",
       "                        break;\n",
       "                    }\n",
       "                }\n",
       "            }, 500);\n",
       "            "
      ],
      "text/plain": [
       "<IPython.core.display.Javascript object>"
      ]
     },
     "metadata": {},
     "output_type": "display_data"
    }
   ],
   "source": [
    "df.describe()"
   ]
  },
  {
   "cell_type": "markdown",
   "id": "37f10182",
   "metadata": {},
   "source": [
    "### Xác định các thuộc tính"
   ]
  },
  {
   "cell_type": "markdown",
   "id": "eb8355b1",
   "metadata": {},
   "source": [
    "<p style=\"color:red\">Xác định thuộc tính từ requirements</p>\n",
    "<p style=\"color:blue\">input: <> binaryClass: tất cả các thuộc tính trừ binaryClass</p>\n",
    "<p style=\"color:blue\">output: binaryClass</p>\n",
    "\n",
    "##### variable type:\n",
    "- predictor: <> binaryClass: các thuộc tính khác binaryClass\n",
    "- target: binaryClass\n",
    "\n",
    "##### data type:\n",
    "- object (char/string)\n",
    "- numeric\n"
   ]
  },
  {
   "cell_type": "code",
   "execution_count": 17,
   "id": "15cd9c5e",
   "metadata": {},
   "outputs": [
    {
     "data": {
      "application/javascript": [
       "\n",
       "            setTimeout(function() {\n",
       "                var nbb_cell_id = 17;\n",
       "                var nbb_unformatted_code = \"numbers = [i for i in df.columns if df.dtypes[i] != \\\"object\\\"]\\nobjects = [i for i in df.columns if df.dtypes[i] == \\\"object\\\"]\";\n",
       "                var nbb_formatted_code = \"numbers = [i for i in df.columns if df.dtypes[i] != \\\"object\\\"]\\nobjects = [i for i in df.columns if df.dtypes[i] == \\\"object\\\"]\";\n",
       "                var nbb_cells = Jupyter.notebook.get_cells();\n",
       "                for (var i = 0; i < nbb_cells.length; ++i) {\n",
       "                    if (nbb_cells[i].input_prompt_number == nbb_cell_id) {\n",
       "                        if (nbb_cells[i].get_text() == nbb_unformatted_code) {\n",
       "                             nbb_cells[i].set_text(nbb_formatted_code);\n",
       "                        }\n",
       "                        break;\n",
       "                    }\n",
       "                }\n",
       "            }, 500);\n",
       "            "
      ],
      "text/plain": [
       "<IPython.core.display.Javascript object>"
      ]
     },
     "metadata": {},
     "output_type": "display_data"
    }
   ],
   "source": [
    "numbers = [i for i in df.columns if df.dtypes[i] != \"object\"]\n",
    "objects = [i for i in df.columns if df.dtypes[i] == \"object\"]"
   ]
  },
  {
   "cell_type": "code",
   "execution_count": 18,
   "id": "14dd5166",
   "metadata": {},
   "outputs": [
    {
     "name": "stdout",
     "output_type": "stream",
     "text": [
      "0 / binaryClass \t len= 2 : ['P' 'N']\n"
     ]
    },
    {
     "data": {
      "application/javascript": [
       "\n",
       "            setTimeout(function() {\n",
       "                var nbb_cell_id = 18;\n",
       "                var nbb_unformatted_code = \"### x\\u00e9t c\\u00e1c bi\\u1ebfn c\\u00f3 dtype l\\u00e0 object\\ni = 0\\nfor obj in objects:\\n    print(i, \\\"/\\\", obj, \\\"\\\\t len=\\\", len(df[obj].unique()), \\\":\\\", df[obj].unique())\\n    i = i + 1\";\n",
       "                var nbb_formatted_code = \"### x\\u00e9t c\\u00e1c bi\\u1ebfn c\\u00f3 dtype l\\u00e0 object\\ni = 0\\nfor obj in objects:\\n    print(i, \\\"/\\\", obj, \\\"\\\\t len=\\\", len(df[obj].unique()), \\\":\\\", df[obj].unique())\\n    i = i + 1\";\n",
       "                var nbb_cells = Jupyter.notebook.get_cells();\n",
       "                for (var i = 0; i < nbb_cells.length; ++i) {\n",
       "                    if (nbb_cells[i].input_prompt_number == nbb_cell_id) {\n",
       "                        if (nbb_cells[i].get_text() == nbb_unformatted_code) {\n",
       "                             nbb_cells[i].set_text(nbb_formatted_code);\n",
       "                        }\n",
       "                        break;\n",
       "                    }\n",
       "                }\n",
       "            }, 500);\n",
       "            "
      ],
      "text/plain": [
       "<IPython.core.display.Javascript object>"
      ]
     },
     "metadata": {},
     "output_type": "display_data"
    }
   ],
   "source": [
    "### xét các biến có dtype là object\n",
    "i = 0\n",
    "for obj in objects:\n",
    "    print(i, \"/\", obj, \"\\t len=\", len(df[obj].unique()), \":\", df[obj].unique())\n",
    "    i = i + 1"
   ]
  },
  {
   "cell_type": "code",
   "execution_count": 19,
   "id": "b364b6d0",
   "metadata": {},
   "outputs": [
    {
     "name": "stdout",
     "output_type": "stream",
     "text": [
      "0 / mcg \t len = 78 \n",
      "1 / gvh \t len = 63 \n",
      "2 / lip \t len = 2 [0.48 1.  ]\n",
      "3 / chg \t len = 2 [0.5 1. ]\n",
      "4 / aac \t len = 59 \n",
      "5 / alm1 \t len = 82 \n",
      "6 / alm2 \t len = 77 \n"
     ]
    },
    {
     "data": {
      "application/javascript": [
       "\n",
       "            setTimeout(function() {\n",
       "                var nbb_cell_id = 19;\n",
       "                var nbb_unformatted_code = \"### x\\u00e9t c\\u00e1c bi\\u1ebfn c\\u00f3 dtype != object\\ni = 0\\nfor obj in numbers:\\n    print(\\n        i,\\n        \\\"/\\\",\\n        obj,\\n        \\\"\\\\t len =\\\",\\n        len(df[obj].unique()),\\n        df[obj].unique() if len(df[obj].unique()) < 20 else \\\"\\\",\\n    )\\n    i = i + 1\";\n",
       "                var nbb_formatted_code = \"### x\\u00e9t c\\u00e1c bi\\u1ebfn c\\u00f3 dtype != object\\ni = 0\\nfor obj in numbers:\\n    print(\\n        i,\\n        \\\"/\\\",\\n        obj,\\n        \\\"\\\\t len =\\\",\\n        len(df[obj].unique()),\\n        df[obj].unique() if len(df[obj].unique()) < 20 else \\\"\\\",\\n    )\\n    i = i + 1\";\n",
       "                var nbb_cells = Jupyter.notebook.get_cells();\n",
       "                for (var i = 0; i < nbb_cells.length; ++i) {\n",
       "                    if (nbb_cells[i].input_prompt_number == nbb_cell_id) {\n",
       "                        if (nbb_cells[i].get_text() == nbb_unformatted_code) {\n",
       "                             nbb_cells[i].set_text(nbb_formatted_code);\n",
       "                        }\n",
       "                        break;\n",
       "                    }\n",
       "                }\n",
       "            }, 500);\n",
       "            "
      ],
      "text/plain": [
       "<IPython.core.display.Javascript object>"
      ]
     },
     "metadata": {},
     "output_type": "display_data"
    }
   ],
   "source": [
    "### xét các biến có dtype != object\n",
    "i = 0\n",
    "for obj in numbers:\n",
    "    print(\n",
    "        i,\n",
    "        \"/\",\n",
    "        obj,\n",
    "        \"\\t len =\",\n",
    "        len(df[obj].unique()),\n",
    "        df[obj].unique() if len(df[obj].unique()) < 20 else \"\",\n",
    "    )\n",
    "    i = i + 1"
   ]
  },
  {
   "cell_type": "markdown",
   "id": "dfd3c972",
   "metadata": {},
   "source": [
    "### <p style=\"color:blue\">Nhận xét</p>"
   ]
  },
  {
   "cell_type": "code",
   "execution_count": 20,
   "id": "439c05d5",
   "metadata": {},
   "outputs": [
    {
     "data": {
      "text/plain": [
       "'\\nTừ kết quả trên, ta thấy:\\ncategorical variables: binaryClass, lip, chg\\ncontinuous variable: mcg, gvh, aac, alm1, alm2\\n'"
      ]
     },
     "execution_count": 20,
     "metadata": {},
     "output_type": "execute_result"
    },
    {
     "data": {
      "application/javascript": [
       "\n",
       "            setTimeout(function() {\n",
       "                var nbb_cell_id = 20;\n",
       "                var nbb_unformatted_code = \"\\\"\\\"\\\"\\nT\\u1eeb k\\u1ebft qu\\u1ea3 tr\\u00ean, ta th\\u1ea5y:\\ncategorical variables: binaryClass, lip, chg\\ncontinuous variable: mcg, gvh, aac, alm1, alm2\\n\\\"\\\"\\\"\";\n",
       "                var nbb_formatted_code = \"\\\"\\\"\\\"\\nT\\u1eeb k\\u1ebft qu\\u1ea3 tr\\u00ean, ta th\\u1ea5y:\\ncategorical variables: binaryClass, lip, chg\\ncontinuous variable: mcg, gvh, aac, alm1, alm2\\n\\\"\\\"\\\"\";\n",
       "                var nbb_cells = Jupyter.notebook.get_cells();\n",
       "                for (var i = 0; i < nbb_cells.length; ++i) {\n",
       "                    if (nbb_cells[i].input_prompt_number == nbb_cell_id) {\n",
       "                        if (nbb_cells[i].get_text() == nbb_unformatted_code) {\n",
       "                             nbb_cells[i].set_text(nbb_formatted_code);\n",
       "                        }\n",
       "                        break;\n",
       "                    }\n",
       "                }\n",
       "            }, 500);\n",
       "            "
      ],
      "text/plain": [
       "<IPython.core.display.Javascript object>"
      ]
     },
     "metadata": {},
     "output_type": "display_data"
    }
   ],
   "source": [
    "\"\"\"\n",
    "Từ kết quả trên, ta thấy:\n",
    "categorical variables: binaryClass, lip, chg\n",
    "continuous variable: mcg, gvh, aac, alm1, alm2\n",
    "\"\"\""
   ]
  },
  {
   "cell_type": "markdown",
   "id": "4ab98dad",
   "metadata": {},
   "source": [
    "## Phân tích đơn biến\n"
   ]
  },
  {
   "cell_type": "markdown",
   "id": "4530658c",
   "metadata": {},
   "source": [
    "### Continuous Variable"
   ]
  },
  {
   "cell_type": "code",
   "execution_count": 21,
   "id": "d897413d",
   "metadata": {},
   "outputs": [
    {
     "data": {
      "application/javascript": [
       "\n",
       "            setTimeout(function() {\n",
       "                var nbb_cell_id = 21;\n",
       "                var nbb_unformatted_code = \"def continuous_univariate_analysis(f):\\n    print(\\\"1\\\\ Describe: \\\\n\\\", f.describe(), \\\"\\\\n\\\")\\n    print(\\\"2\\\\ Meadian: \\\", f.median())\\n    print(\\\"3\\\\ Mode: \\\", f.mode)\\n    print(\\\"4\\\\ Range: \\\", f.values.ptp())\\n    print(\\\"5\\\\ Variance: \\\", f.var())\\n    print(\\\"6\\\\ S\\u1ed1 NaN: \\\", f.isnull().sum())\\n    print(\\\"7\\\\ \\\\tQ1 = \\\", np.quantile(f, 0.25))\\n    print(\\\"   \\\\tQ3 = \\\", np.quantile(f, 0.75))\\n    print(\\\"   \\\\tIQR = \\\", iqr(f))\\n\\n    print(\\\"8\\\\ Skew: \\\", f.skew())\\n    if f.skew() > 0:\\n        print(\\\"Ph\\u00e2n ph\\u1ed1i l\\u1ec7ch ph\\u1ea3i\\\")\\n    elif f.skew() == 0:\\n        print(\\\"Ph\\u00e2n ph\\u1ed1i \\u0111\\u1ed1i x\\u1ee9ng\\\")\\n    else:\\n        print(\\\"Ph\\u00e2n ph\\u1ed1i l\\u1ec7ch tr\\u00e1i\\\")\\n\\n    print(\\\"9\\\\ Kurtosis: \\\", f.kurtosis())\\n    if f.kurtosis() > 0:\\n        print(\\\"Ph\\u00e2n ph\\u1ed1i nh\\u1ecdn h\\u01a1n pp chu\\u1ea9n\\\")\\n    elif f.kurtosis() == 0:\\n        print(\\\"Ph\\u00e2n ph\\u1ed1i \\u0111\\u1ed1i x\\u1ee9ng\\\")\\n    else:\\n        print(\\\"Ph\\u00e2n ph\\u1ed1i b\\u1eb9t h\\u01a1n pp chu\\u1ea9n\\\")\";\n",
       "                var nbb_formatted_code = \"def continuous_univariate_analysis(f):\\n    print(\\\"1\\\\ Describe: \\\\n\\\", f.describe(), \\\"\\\\n\\\")\\n    print(\\\"2\\\\ Meadian: \\\", f.median())\\n    print(\\\"3\\\\ Mode: \\\", f.mode)\\n    print(\\\"4\\\\ Range: \\\", f.values.ptp())\\n    print(\\\"5\\\\ Variance: \\\", f.var())\\n    print(\\\"6\\\\ S\\u1ed1 NaN: \\\", f.isnull().sum())\\n    print(\\\"7\\\\ \\\\tQ1 = \\\", np.quantile(f, 0.25))\\n    print(\\\"   \\\\tQ3 = \\\", np.quantile(f, 0.75))\\n    print(\\\"   \\\\tIQR = \\\", iqr(f))\\n\\n    print(\\\"8\\\\ Skew: \\\", f.skew())\\n    if f.skew() > 0:\\n        print(\\\"Ph\\u00e2n ph\\u1ed1i l\\u1ec7ch ph\\u1ea3i\\\")\\n    elif f.skew() == 0:\\n        print(\\\"Ph\\u00e2n ph\\u1ed1i \\u0111\\u1ed1i x\\u1ee9ng\\\")\\n    else:\\n        print(\\\"Ph\\u00e2n ph\\u1ed1i l\\u1ec7ch tr\\u00e1i\\\")\\n\\n    print(\\\"9\\\\ Kurtosis: \\\", f.kurtosis())\\n    if f.kurtosis() > 0:\\n        print(\\\"Ph\\u00e2n ph\\u1ed1i nh\\u1ecdn h\\u01a1n pp chu\\u1ea9n\\\")\\n    elif f.kurtosis() == 0:\\n        print(\\\"Ph\\u00e2n ph\\u1ed1i \\u0111\\u1ed1i x\\u1ee9ng\\\")\\n    else:\\n        print(\\\"Ph\\u00e2n ph\\u1ed1i b\\u1eb9t h\\u01a1n pp chu\\u1ea9n\\\")\";\n",
       "                var nbb_cells = Jupyter.notebook.get_cells();\n",
       "                for (var i = 0; i < nbb_cells.length; ++i) {\n",
       "                    if (nbb_cells[i].input_prompt_number == nbb_cell_id) {\n",
       "                        if (nbb_cells[i].get_text() == nbb_unformatted_code) {\n",
       "                             nbb_cells[i].set_text(nbb_formatted_code);\n",
       "                        }\n",
       "                        break;\n",
       "                    }\n",
       "                }\n",
       "            }, 500);\n",
       "            "
      ],
      "text/plain": [
       "<IPython.core.display.Javascript object>"
      ]
     },
     "metadata": {},
     "output_type": "display_data"
    }
   ],
   "source": [
    "def continuous_univariate_analysis(f):\n",
    "    print(\"1\\ Describe: \\n\", f.describe(), \"\\n\")\n",
    "    print(\"2\\ Meadian: \", f.median())\n",
    "    print(\"3\\ Mode: \", f.mode)\n",
    "    print(\"4\\ Range: \", f.values.ptp())\n",
    "    print(\"5\\ Variance: \", f.var())\n",
    "    print(\"6\\ Số NaN: \", f.isnull().sum())\n",
    "    print(\"7\\ \\tQ1 = \", np.quantile(f, 0.25))\n",
    "    print(\"   \\tQ3 = \", np.quantile(f, 0.75))\n",
    "    print(\"   \\tIQR = \", iqr(f))\n",
    "\n",
    "    print(\"8\\ Skew: \", f.skew())\n",
    "    if f.skew() > 0:\n",
    "        print(\"Phân phối lệch phải\")\n",
    "    elif f.skew() == 0:\n",
    "        print(\"Phân phối đối xứng\")\n",
    "    else:\n",
    "        print(\"Phân phối lệch trái\")\n",
    "\n",
    "    print(\"9\\ Kurtosis: \", f.kurtosis())\n",
    "    if f.kurtosis() > 0:\n",
    "        print(\"Phân phối nhọn hơn pp chuẩn\")\n",
    "    elif f.kurtosis() == 0:\n",
    "        print(\"Phân phối đối xứng\")\n",
    "    else:\n",
    "        print(\"Phân phối bẹt hơn pp chuẩn\")"
   ]
  },
  {
   "cell_type": "code",
   "execution_count": 22,
   "id": "71610fbc",
   "metadata": {},
   "outputs": [
    {
     "data": {
      "application/javascript": [
       "\n",
       "            setTimeout(function() {\n",
       "                var nbb_cell_id = 22;\n",
       "                var nbb_unformatted_code = \"def visualize_histogram(f):\\n    # Histogram\\n    plt.subplot(1, 2, 1)\\n    sns.distplot(f)\\n\\n    plt.subplot(1, 2, 2)\\n    plt.hist(f)\\n    plt.show()\";\n",
       "                var nbb_formatted_code = \"def visualize_histogram(f):\\n    # Histogram\\n    plt.subplot(1, 2, 1)\\n    sns.distplot(f)\\n\\n    plt.subplot(1, 2, 2)\\n    plt.hist(f)\\n    plt.show()\";\n",
       "                var nbb_cells = Jupyter.notebook.get_cells();\n",
       "                for (var i = 0; i < nbb_cells.length; ++i) {\n",
       "                    if (nbb_cells[i].input_prompt_number == nbb_cell_id) {\n",
       "                        if (nbb_cells[i].get_text() == nbb_unformatted_code) {\n",
       "                             nbb_cells[i].set_text(nbb_formatted_code);\n",
       "                        }\n",
       "                        break;\n",
       "                    }\n",
       "                }\n",
       "            }, 500);\n",
       "            "
      ],
      "text/plain": [
       "<IPython.core.display.Javascript object>"
      ]
     },
     "metadata": {},
     "output_type": "display_data"
    }
   ],
   "source": [
    "def visualize_histogram(f):\n",
    "    # Histogram\n",
    "    plt.subplot(1, 2, 1)\n",
    "    sns.distplot(f)\n",
    "\n",
    "    plt.subplot(1, 2, 2)\n",
    "    plt.hist(f)\n",
    "    plt.show()"
   ]
  },
  {
   "cell_type": "code",
   "execution_count": 23,
   "id": "5443a6b8",
   "metadata": {},
   "outputs": [
    {
     "data": {
      "application/javascript": [
       "\n",
       "            setTimeout(function() {\n",
       "                var nbb_cell_id = 23;\n",
       "                var nbb_unformatted_code = \"def visualize_boxplot(f):\\n    plt.boxplot(f)\\n    plt.show()\";\n",
       "                var nbb_formatted_code = \"def visualize_boxplot(f):\\n    plt.boxplot(f)\\n    plt.show()\";\n",
       "                var nbb_cells = Jupyter.notebook.get_cells();\n",
       "                for (var i = 0; i < nbb_cells.length; ++i) {\n",
       "                    if (nbb_cells[i].input_prompt_number == nbb_cell_id) {\n",
       "                        if (nbb_cells[i].get_text() == nbb_unformatted_code) {\n",
       "                             nbb_cells[i].set_text(nbb_formatted_code);\n",
       "                        }\n",
       "                        break;\n",
       "                    }\n",
       "                }\n",
       "            }, 500);\n",
       "            "
      ],
      "text/plain": [
       "<IPython.core.display.Javascript object>"
      ]
     },
     "metadata": {},
     "output_type": "display_data"
    }
   ],
   "source": [
    "def visualize_boxplot(f):\n",
    "    plt.boxplot(f)\n",
    "    plt.show()"
   ]
  },
  {
   "cell_type": "code",
   "execution_count": 24,
   "id": "b38e64e6",
   "metadata": {},
   "outputs": [
    {
     "data": {
      "application/javascript": [
       "\n",
       "            setTimeout(function() {\n",
       "                var nbb_cell_id = 24;\n",
       "                var nbb_unformatted_code = \"def find_outliers(f):\\n    Q1 = np.quantile(f, 0.25)\\n    Q3 = np.quantile(f, 0.75)\\n    IQR = Q3 - Q1\\n    \\n    # s\\u1ed1 l\\u01b0\\u1ee3ng outliers\\n    num_outliers = len(f[(f > Q3 + 1.5 * IQR) | (f < Q1 - 1.5 * IQR)])\\n    \\n    # t\\u1ec9 l\\u1ec7 outliers so v\\u1edbi m\\u1eabu\\n    ratio = (num_outliers / f.shape[0])\\n                       \\n    print('S\\u1ed1 l\\u01b0\\u1ee3ng outliers: ', num_outliers)\\n    print('T\\u1ec9 l\\u1ec7 outliers so v\\u1edbi m\\u1eabu', ratio)\";\n",
       "                var nbb_formatted_code = \"def find_outliers(f):\\n    Q1 = np.quantile(f, 0.25)\\n    Q3 = np.quantile(f, 0.75)\\n    IQR = Q3 - Q1\\n\\n    # s\\u1ed1 l\\u01b0\\u1ee3ng outliers\\n    num_outliers = len(f[(f > Q3 + 1.5 * IQR) | (f < Q1 - 1.5 * IQR)])\\n\\n    # t\\u1ec9 l\\u1ec7 outliers so v\\u1edbi m\\u1eabu\\n    ratio = num_outliers / f.shape[0]\\n\\n    print(\\\"S\\u1ed1 l\\u01b0\\u1ee3ng outliers: \\\", num_outliers)\\n    print(\\\"T\\u1ec9 l\\u1ec7 outliers so v\\u1edbi m\\u1eabu\\\", ratio)\";\n",
       "                var nbb_cells = Jupyter.notebook.get_cells();\n",
       "                for (var i = 0; i < nbb_cells.length; ++i) {\n",
       "                    if (nbb_cells[i].input_prompt_number == nbb_cell_id) {\n",
       "                        if (nbb_cells[i].get_text() == nbb_unformatted_code) {\n",
       "                             nbb_cells[i].set_text(nbb_formatted_code);\n",
       "                        }\n",
       "                        break;\n",
       "                    }\n",
       "                }\n",
       "            }, 500);\n",
       "            "
      ],
      "text/plain": [
       "<IPython.core.display.Javascript object>"
      ]
     },
     "metadata": {},
     "output_type": "display_data"
    }
   ],
   "source": [
    "def find_outliers(f):\n",
    "    Q1 = np.quantile(f, 0.25)\n",
    "    Q3 = np.quantile(f, 0.75)\n",
    "    IQR = Q3 - Q1\n",
    "    \n",
    "    # số lượng outliers\n",
    "    num_outliers = len(f[(f > Q3 + 1.5 * IQR) | (f < Q1 - 1.5 * IQR)])\n",
    "    \n",
    "    # tỉ lệ outliers so với mẫu\n",
    "    ratio = (num_outliers / f.shape[0])\n",
    "                       \n",
    "    print('Số lượng outliers: ', num_outliers)\n",
    "    print('Tỉ lệ outliers so với mẫu', ratio)\n"
   ]
  },
  {
   "cell_type": "code",
   "execution_count": 25,
   "id": "c40bbfeb",
   "metadata": {},
   "outputs": [
    {
     "name": "stdout",
     "output_type": "stream",
     "text": [
      "mcg\n",
      "1\\ Describe: \n",
      " count    336.000000\n",
      "mean       0.500060\n",
      "std        0.194634\n",
      "min        0.000000\n",
      "25%        0.340000\n",
      "50%        0.500000\n",
      "75%        0.662500\n",
      "max        0.890000\n",
      "Name: mcg, dtype: float64 \n",
      "\n",
      "2\\ Meadian:  0.5\n",
      "3\\ Mode:  <bound method Series.mode of 0      0.49\n",
      "1      0.07\n",
      "2      0.56\n",
      "3      0.59\n",
      "4      0.23\n",
      "       ... \n",
      "331    0.74\n",
      "332    0.71\n",
      "333    0.61\n",
      "334    0.59\n",
      "335    0.74\n",
      "Name: mcg, Length: 336, dtype: float64>\n",
      "4\\ Range:  0.89\n",
      "5\\ Variance:  0.03788238450604122\n",
      "6\\ Số NaN:  0\n",
      "7\\ \tQ1 =  0.34\n",
      "   \tQ3 =  0.6625000000000001\n",
      "   \tIQR =  0.32250000000000006\n",
      "8\\ Skew:  -0.16595568511332393\n",
      "Phân phối lệch trái\n",
      "9\\ Kurtosis:  -0.8591940665311686\n",
      "Phân phối bẹt hơn pp chuẩn\n"
     ]
    },
    {
     "data": {
      "image/png": "[encoded data removed]",
      "text/plain": [
       "<Figure size 432x288 with 2 Axes>"
      ]
     },
     "metadata": {
      "needs_background": "light"
     },
     "output_type": "display_data"
    },
    {
     "data": {
      "image/png": "[encoded data removed]",
      "text/plain": [
       "<Figure size 432x288 with 1 Axes>"
      ]
     },
     "metadata": {
      "needs_background": "light"
     },
     "output_type": "display_data"
    },
    {
     "name": "stdout",
     "output_type": "stream",
     "text": [
      "Số lượng outliers:  0\n",
      "Tỉ lệ outliers so với mẫu 0.0\n",
      "\n",
      "====================================================\n",
      "\n",
      "\n",
      "gvh\n",
      "1\\ Describe: \n",
      " count    336.000000\n",
      "mean       0.500000\n",
      "std        0.148157\n",
      "min        0.160000\n",
      "25%        0.400000\n",
      "50%        0.470000\n",
      "75%        0.570000\n",
      "max        1.000000\n",
      "Name: gvh, dtype: float64 \n",
      "\n",
      "2\\ Meadian:  0.47\n",
      "3\\ Mode:  <bound method Series.mode of 0      0.29\n",
      "1      0.40\n",
      "2      0.40\n",
      "3      0.49\n",
      "4      0.32\n",
      "       ... \n",
      "331    0.56\n",
      "332    0.57\n",
      "333    0.60\n",
      "334    0.61\n",
      "335    0.74\n",
      "Name: gvh, Length: 336, dtype: float64>\n",
      "4\\ Range:  0.84\n",
      "5\\ Variance:  0.021950447761194033\n",
      "6\\ Số NaN:  0\n",
      "7\\ \tQ1 =  0.4\n",
      "   \tQ3 =  0.57\n",
      "   \tIQR =  0.16999999999999993\n",
      "8\\ Skew:  0.7751892955910441\n",
      "Phân phối lệch phải\n",
      "9\\ Kurtosis:  0.2594151075222868\n",
      "Phân phối nhọn hơn pp chuẩn\n"
     ]
    },
    {
     "data": {
      "image/png": "[encoded data removed]",
      "text/plain": [
       "<Figure size 432x288 with 2 Axes>"
      ]
     },
     "metadata": {
      "needs_background": "light"
     },
     "output_type": "display_data"
    },
    {
     "data": {
      "image/png": "[encoded data removed]",
      "text/plain": [
       "<Figure size 432x288 with 1 Axes>"
      ]
     },
     "metadata": {
      "needs_background": "light"
     },
     "output_type": "display_data"
    },
    {
     "name": "stdout",
     "output_type": "stream",
     "text": [
      "Số lượng outliers:  13\n",
      "Tỉ lệ outliers so với mẫu 0.03869047619047619\n",
      "\n",
      "====================================================\n",
      "\n",
      "\n",
      "aac\n",
      "1\\ Describe: \n",
      " count    336.000000\n",
      "mean       0.500030\n",
      "std        0.122376\n",
      "min        0.000000\n",
      "25%        0.420000\n",
      "50%        0.495000\n",
      "75%        0.570000\n",
      "max        0.880000\n",
      "Name: aac, dtype: float64 \n",
      "\n",
      "2\\ Meadian:  0.495\n",
      "3\\ Mode:  <bound method Series.mode of 0      0.56\n",
      "1      0.54\n",
      "2      0.49\n",
      "3      0.52\n",
      "4      0.55\n",
      "       ... \n",
      "331    0.47\n",
      "332    0.48\n",
      "333    0.44\n",
      "334    0.42\n",
      "335    0.31\n",
      "Name: aac, Length: 336, dtype: float64>\n",
      "4\\ Range:  0.88\n",
      "5\\ Variance:  0.014975820007107319\n",
      "6\\ Số NaN:  0\n",
      "7\\ \tQ1 =  0.42\n",
      "   \tQ3 =  0.57\n",
      "   \tIQR =  0.14999999999999997\n",
      "8\\ Skew:  0.06286669592022825\n",
      "Phân phối lệch phải\n",
      "9\\ Kurtosis:  1.3355539471649007\n",
      "Phân phối nhọn hơn pp chuẩn\n"
     ]
    },
    {
     "data": {
      "image/png": "[encoded data removed]",
      "text/plain": [
       "<Figure size 432x288 with 2 Axes>"
      ]
     },
     "metadata": {
      "needs_background": "light"
     },
     "output_type": "display_data"
    },
    {
     "data": {
      "image/png": "[encoded data removed]",
      "text/plain": [
       "<Figure size 432x288 with 1 Axes>"
      ]
     },
     "metadata": {
      "needs_background": "light"
     },
     "output_type": "display_data"
    },
    {
     "name": "stdout",
     "output_type": "stream",
     "text": [
      "Số lượng outliers:  9\n",
      "Tỉ lệ outliers so với mẫu 0.026785714285714284\n",
      "\n",
      "====================================================\n",
      "\n",
      "\n",
      "alm1\n",
      "1\\ Describe: \n",
      " count    336.000000\n",
      "mean       0.500179\n",
      "std        0.215751\n",
      "min        0.030000\n",
      "25%        0.330000\n",
      "50%        0.455000\n",
      "75%        0.710000\n",
      "max        1.000000\n",
      "Name: alm1, dtype: float64 \n",
      "\n",
      "2\\ Meadian:  0.455\n",
      "3\\ Mode:  <bound method Series.mode of 0      0.24\n",
      "1      0.35\n",
      "2      0.37\n",
      "3      0.45\n",
      "4      0.25\n",
      "       ... \n",
      "331    0.68\n",
      "332    0.35\n",
      "333    0.39\n",
      "334    0.42\n",
      "335    0.53\n",
      "Name: alm1, Length: 336, dtype: float64>\n",
      "4\\ Range:  0.97\n",
      "5\\ Variance:  0.046548624733475485\n",
      "6\\ Số NaN:  0\n",
      "7\\ \tQ1 =  0.33\n",
      "   \tQ3 =  0.71\n",
      "   \tIQR =  0.37999999999999995\n",
      "8\\ Skew:  0.2625362351224812\n",
      "Phân phối lệch phải\n",
      "9\\ Kurtosis:  -1.0447542888959191\n",
      "Phân phối bẹt hơn pp chuẩn\n"
     ]
    },
    {
     "data": {
      "image/png": "[encoded data removed]",
      "text/plain": [
       "<Figure size 432x288 with 2 Axes>"
      ]
     },
     "metadata": {
      "needs_background": "light"
     },
     "output_type": "display_data"
    },
    {
     "data": {
      "image/png": "[encoded data removed]",
      "text/plain": [
       "<Figure size 432x288 with 1 Axes>"
      ]
     },
     "metadata": {
      "needs_background": "light"
     },
     "output_type": "display_data"
    },
    {
     "name": "stdout",
     "output_type": "stream",
     "text": [
      "Số lượng outliers:  0\n",
      "Tỉ lệ outliers so với mẫu 0.0\n",
      "\n",
      "====================================================\n",
      "\n",
      "\n",
      "alm2\n",
      "1\\ Describe: \n",
      " count    336.000000\n",
      "mean       0.499732\n",
      "std        0.209411\n",
      "min        0.000000\n",
      "25%        0.350000\n",
      "50%        0.430000\n",
      "75%        0.710000\n",
      "max        0.990000\n",
      "Name: alm2, dtype: float64 \n",
      "\n",
      "2\\ Meadian:  0.43\n",
      "3\\ Mode:  <bound method Series.mode of 0      0.35\n",
      "1      0.44\n",
      "2      0.46\n",
      "3      0.36\n",
      "4      0.35\n",
      "       ... \n",
      "331    0.30\n",
      "332    0.32\n",
      "333    0.38\n",
      "334    0.37\n",
      "335    0.52\n",
      "Name: alm2, Length: 336, dtype: float64>\n",
      "4\\ Range:  0.99\n",
      "5\\ Variance:  0.04385276385927506\n",
      "6\\ Số NaN:  0\n",
      "7\\ \tQ1 =  0.35\n",
      "   \tQ3 =  0.71\n",
      "   \tIQR =  0.36\n",
      "8\\ Skew:  0.414220056197848\n",
      "Phân phối lệch phải\n",
      "9\\ Kurtosis:  -0.9382139689565911\n",
      "Phân phối bẹt hơn pp chuẩn\n"
     ]
    },
    {
     "data": {
      "image/png": "[encoded data removed]",
      "text/plain": [
       "<Figure size 432x288 with 2 Axes>"
      ]
     },
     "metadata": {
      "needs_background": "light"
     },
     "output_type": "display_data"
    },
    {
     "data": {
      "image/png": "[encoded data removed]",
      "text/plain": [
       "<Figure size 432x288 with 1 Axes>"
      ]
     },
     "metadata": {
      "needs_background": "light"
     },
     "output_type": "display_data"
    },
    {
     "name": "stdout",
     "output_type": "stream",
     "text": [
      "Số lượng outliers:  0\n",
      "Tỉ lệ outliers so với mẫu 0.0\n",
      "\n",
      "====================================================\n",
      "\n",
      "\n"
     ]
    },
    {
     "data": {
      "application/javascript": [
       "\n",
       "            setTimeout(function() {\n",
       "                var nbb_cell_id = 25;\n",
       "                var nbb_unformatted_code = \"df_continuous = df[[\\\"mcg\\\", \\\"gvh\\\", \\\"aac\\\", \\\"alm1\\\", \\\"alm2\\\"]]\\nfor i in df_continuous:\\n    print(i)\\n    continuous_univariate_analysis(df[i])\\n    visualize_histogram(df[i])\\n    visualize_boxplot(df[i])\\n    find_outliers(df[i])\\n    print(\\\"\\\\n====================================================\\\\n\\\\n\\\")\";\n",
       "                var nbb_formatted_code = \"df_continuous = df[[\\\"mcg\\\", \\\"gvh\\\", \\\"aac\\\", \\\"alm1\\\", \\\"alm2\\\"]]\\nfor i in df_continuous:\\n    print(i)\\n    continuous_univariate_analysis(df[i])\\n    visualize_histogram(df[i])\\n    visualize_boxplot(df[i])\\n    find_outliers(df[i])\\n    print(\\\"\\\\n====================================================\\\\n\\\\n\\\")\";\n",
       "                var nbb_cells = Jupyter.notebook.get_cells();\n",
       "                for (var i = 0; i < nbb_cells.length; ++i) {\n",
       "                    if (nbb_cells[i].input_prompt_number == nbb_cell_id) {\n",
       "                        if (nbb_cells[i].get_text() == nbb_unformatted_code) {\n",
       "                             nbb_cells[i].set_text(nbb_formatted_code);\n",
       "                        }\n",
       "                        break;\n",
       "                    }\n",
       "                }\n",
       "            }, 500);\n",
       "            "
      ],
      "text/plain": [
       "<IPython.core.display.Javascript object>"
      ]
     },
     "metadata": {},
     "output_type": "display_data"
    }
   ],
   "source": [
    "df_continuous = df[[\"mcg\", \"gvh\", \"aac\", \"alm1\", \"alm2\"]]\n",
    "for i in df_continuous:\n",
    "    print(i)\n",
    "    continuous_univariate_analysis(df[i])\n",
    "    visualize_histogram(df[i])\n",
    "    visualize_boxplot(df[i])\n",
    "    find_outliers(df[i])\n",
    "    print(\"\\n====================================================\\n\\n\")"
   ]
  },
  {
   "cell_type": "markdown",
   "id": "41fb0e69",
   "metadata": {},
   "source": [
    "### <p style=\"color:blue\">Nhận xét</p>"
   ]
  },
  {
   "cell_type": "code",
   "execution_count": 26,
   "id": "a5f341ce",
   "metadata": {},
   "outputs": [
    {
     "data": {
      "text/plain": [
       "'\\ncác features đều không có null\\ngvh, aac tồn tại các outliers. Tuy nhiên, đây là các đặc trưng của dataset nên chúng ta sẽ giữ lại\\n'"
      ]
     },
     "execution_count": 26,
     "metadata": {},
     "output_type": "execute_result"
    },
    {
     "data": {
      "application/javascript": [
       "\n",
       "            setTimeout(function() {\n",
       "                var nbb_cell_id = 26;\n",
       "                var nbb_unformatted_code = \"\\\"\\\"\\\"\\nc\\u00e1c features \\u0111\\u1ec1u kh\\u00f4ng c\\u00f3 null\\ngvh, aac t\\u1ed3n t\\u1ea1i c\\u00e1c outliers. Tuy nhi\\u00ean, \\u0111\\u00e2y l\\u00e0 c\\u00e1c \\u0111\\u1eb7c tr\\u01b0ng c\\u1ee7a dataset n\\u00ean ch\\u00fang ta s\\u1ebd gi\\u1eef l\\u1ea1i\\n\\\"\\\"\\\"\";\n",
       "                var nbb_formatted_code = \"\\\"\\\"\\\"\\nc\\u00e1c features \\u0111\\u1ec1u kh\\u00f4ng c\\u00f3 null\\ngvh, aac t\\u1ed3n t\\u1ea1i c\\u00e1c outliers. Tuy nhi\\u00ean, \\u0111\\u00e2y l\\u00e0 c\\u00e1c \\u0111\\u1eb7c tr\\u01b0ng c\\u1ee7a dataset n\\u00ean ch\\u00fang ta s\\u1ebd gi\\u1eef l\\u1ea1i\\n\\\"\\\"\\\"\";\n",
       "                var nbb_cells = Jupyter.notebook.get_cells();\n",
       "                for (var i = 0; i < nbb_cells.length; ++i) {\n",
       "                    if (nbb_cells[i].input_prompt_number == nbb_cell_id) {\n",
       "                        if (nbb_cells[i].get_text() == nbb_unformatted_code) {\n",
       "                             nbb_cells[i].set_text(nbb_formatted_code);\n",
       "                        }\n",
       "                        break;\n",
       "                    }\n",
       "                }\n",
       "            }, 500);\n",
       "            "
      ],
      "text/plain": [
       "<IPython.core.display.Javascript object>"
      ]
     },
     "metadata": {},
     "output_type": "display_data"
    }
   ],
   "source": [
    "\"\"\"\n",
    "các features đều không có null\n",
    "gvh, aac tồn tại các outliers. Tuy nhiên, đây là các đặc trưng của dataset nên chúng ta sẽ giữ lại\n",
    "\"\"\""
   ]
  },
  {
   "cell_type": "markdown",
   "id": "0708bea2",
   "metadata": {},
   "source": [
    "### Categorical Variable"
   ]
  },
  {
   "cell_type": "code",
   "execution_count": 27,
   "id": "35a2783c",
   "metadata": {},
   "outputs": [
    {
     "data": {
      "application/javascript": [
       "\n",
       "            setTimeout(function() {\n",
       "                var nbb_cell_id = 27;\n",
       "                var nbb_unformatted_code = \"def categorical_univariate_variable(f):\\n    print(\\\"1\\\\ M\\u1eadt \\u0111\\u1ed9 ph\\u00e2n ph\\u1ed1i: \\\\n\\\", f.value_counts())\\n    print(\\\"2\\\\ S\\u1ed1 gi\\u00e1 tr\\u1ecb NaN: \\\\n\\\", f.isnull().sum())\\n    print(\\\"\\\\n\\\\n3\\\\ T\\u1ec9 l\\u1ec7 m\\u1eadt \\u0111\\u1ed9 ph\\u00e2n ph\\u1ed1i:\\\\n\\\", f.value_counts() / len(f))\\n    f.value_counts().plot.bar()\\n    plt.show()\";\n",
       "                var nbb_formatted_code = \"def categorical_univariate_variable(f):\\n    print(\\\"1\\\\ M\\u1eadt \\u0111\\u1ed9 ph\\u00e2n ph\\u1ed1i: \\\\n\\\", f.value_counts())\\n    print(\\\"2\\\\ S\\u1ed1 gi\\u00e1 tr\\u1ecb NaN: \\\\n\\\", f.isnull().sum())\\n    print(\\\"\\\\n\\\\n3\\\\ T\\u1ec9 l\\u1ec7 m\\u1eadt \\u0111\\u1ed9 ph\\u00e2n ph\\u1ed1i:\\\\n\\\", f.value_counts() / len(f))\\n    f.value_counts().plot.bar()\\n    plt.show()\";\n",
       "                var nbb_cells = Jupyter.notebook.get_cells();\n",
       "                for (var i = 0; i < nbb_cells.length; ++i) {\n",
       "                    if (nbb_cells[i].input_prompt_number == nbb_cell_id) {\n",
       "                        if (nbb_cells[i].get_text() == nbb_unformatted_code) {\n",
       "                             nbb_cells[i].set_text(nbb_formatted_code);\n",
       "                        }\n",
       "                        break;\n",
       "                    }\n",
       "                }\n",
       "            }, 500);\n",
       "            "
      ],
      "text/plain": [
       "<IPython.core.display.Javascript object>"
      ]
     },
     "metadata": {},
     "output_type": "display_data"
    }
   ],
   "source": [
    "def categorical_univariate_variable(f):\n",
    "    print(\"1\\ Mật độ phân phối: \\n\", f.value_counts())\n",
    "    print(\"2\\ Số giá trị NaN: \\n\", f.isnull().sum())\n",
    "    print(\"\\n\\n3\\ Tỉ lệ mật độ phân phối:\\n\", f.value_counts() / len(f))\n",
    "    f.value_counts().plot.bar()\n",
    "    plt.show()"
   ]
  },
  {
   "cell_type": "code",
   "execution_count": 28,
   "id": "743bbece",
   "metadata": {},
   "outputs": [
    {
     "name": "stdout",
     "output_type": "stream",
     "text": [
      "binaryClass\n",
      "1\\ Mật độ phân phối: \n",
      " N    193\n",
      "P    143\n",
      "Name: binaryClass, dtype: int64\n",
      "2\\ Số giá trị NaN: \n",
      " 0\n",
      "\n",
      "\n",
      "3\\ Tỉ lệ mật độ phân phối:\n",
      " N    0.574405\n",
      "P    0.425595\n",
      "Name: binaryClass, dtype: float64\n"
     ]
    },
    {
     "data": {
      "image/png": "[encoded data removed]",
      "text/plain": [
       "<Figure size 432x288 with 1 Axes>"
      ]
     },
     "metadata": {
      "needs_background": "light"
     },
     "output_type": "display_data"
    },
    {
     "name": "stdout",
     "output_type": "stream",
     "text": [
      "\n",
      "====================================================\n",
      "\n",
      "\n",
      "lip\n",
      "1\\ Mật độ phân phối: \n",
      " 0.48    326\n",
      "1.00     10\n",
      "Name: lip, dtype: int64\n",
      "2\\ Số giá trị NaN: \n",
      " 0\n",
      "\n",
      "\n",
      "3\\ Tỉ lệ mật độ phân phối:\n",
      " 0.48    0.970238\n",
      "1.00    0.029762\n",
      "Name: lip, dtype: float64\n"
     ]
    },
    {
     "data": {
      "image/png": "[encoded data removed]",
      "text/plain": [
       "<Figure size 432x288 with 1 Axes>"
      ]
     },
     "metadata": {
      "needs_background": "light"
     },
     "output_type": "display_data"
    },
    {
     "name": "stdout",
     "output_type": "stream",
     "text": [
      "\n",
      "====================================================\n",
      "\n",
      "\n",
      "chg\n",
      "1\\ Mật độ phân phối: \n",
      " 0.5    335\n",
      "1.0      1\n",
      "Name: chg, dtype: int64\n",
      "2\\ Số giá trị NaN: \n",
      " 0\n",
      "\n",
      "\n",
      "3\\ Tỉ lệ mật độ phân phối:\n",
      " 0.5    0.997024\n",
      "1.0    0.002976\n",
      "Name: chg, dtype: float64\n"
     ]
    },
    {
     "data": {
      "image/png": "[encoded data removed]",
      "text/plain": [
       "<Figure size 432x288 with 1 Axes>"
      ]
     },
     "metadata": {
      "needs_background": "light"
     },
     "output_type": "display_data"
    },
    {
     "name": "stdout",
     "output_type": "stream",
     "text": [
      "\n",
      "====================================================\n",
      "\n",
      "\n"
     ]
    },
    {
     "data": {
      "application/javascript": [
       "\n",
       "            setTimeout(function() {\n",
       "                var nbb_cell_id = 28;\n",
       "                var nbb_unformatted_code = \"df_cate = df[[\\\"binaryClass\\\", \\\"lip\\\", \\\"chg\\\"]]\\nfor i in df_cate:\\n    print(i)\\n    categorical_univariate_variable(df[i])\\n    print(\\\"\\\\n====================================================\\\\n\\\\n\\\")\";\n",
       "                var nbb_formatted_code = \"df_cate = df[[\\\"binaryClass\\\", \\\"lip\\\", \\\"chg\\\"]]\\nfor i in df_cate:\\n    print(i)\\n    categorical_univariate_variable(df[i])\\n    print(\\\"\\\\n====================================================\\\\n\\\\n\\\")\";\n",
       "                var nbb_cells = Jupyter.notebook.get_cells();\n",
       "                for (var i = 0; i < nbb_cells.length; ++i) {\n",
       "                    if (nbb_cells[i].input_prompt_number == nbb_cell_id) {\n",
       "                        if (nbb_cells[i].get_text() == nbb_unformatted_code) {\n",
       "                             nbb_cells[i].set_text(nbb_formatted_code);\n",
       "                        }\n",
       "                        break;\n",
       "                    }\n",
       "                }\n",
       "            }, 500);\n",
       "            "
      ],
      "text/plain": [
       "<IPython.core.display.Javascript object>"
      ]
     },
     "metadata": {},
     "output_type": "display_data"
    }
   ],
   "source": [
    "df_cate = df[[\"binaryClass\", \"lip\", \"chg\"]]\n",
    "for i in df_cate:\n",
    "    print(i)\n",
    "    categorical_univariate_variable(df[i])\n",
    "    print(\"\\n====================================================\\n\\n\")"
   ]
  },
  {
   "cell_type": "markdown",
   "id": "0c9c2fde",
   "metadata": {},
   "source": [
    "## Phân tích đa biến"
   ]
  },
  {
   "cell_type": "markdown",
   "id": "54a847b5",
   "metadata": {},
   "source": [
    "### Continuous - Continuous"
   ]
  },
  {
   "cell_type": "code",
   "execution_count": 29,
   "id": "3c170aad",
   "metadata": {},
   "outputs": [
    {
     "data": {
      "text/html": [
       "<div>\n",
       "<style scoped>\n",
       "    .dataframe tbody tr th:only-of-type {\n",
       "        vertical-align: middle;\n",
       "    }\n",
       "\n",
       "    .dataframe tbody tr th {\n",
       "        vertical-align: top;\n",
       "    }\n",
       "\n",
       "    .dataframe thead th {\n",
       "        text-align: right;\n",
       "    }\n",
       "</style>\n",
       "<table border=\"1\" class=\"dataframe\">\n",
       "  <thead>\n",
       "    <tr style=\"text-align: right;\">\n",
       "      <th></th>\n",
       "      <th>mcg</th>\n",
       "      <th>gvh</th>\n",
       "      <th>aac</th>\n",
       "      <th>alm1</th>\n",
       "      <th>alm2</th>\n",
       "    </tr>\n",
       "  </thead>\n",
       "  <tbody>\n",
       "    <tr>\n",
       "      <th>mcg</th>\n",
       "      <td>1.000000</td>\n",
       "      <td>0.454805</td>\n",
       "      <td>0.220699</td>\n",
       "      <td>0.396979</td>\n",
       "      <td>0.167086</td>\n",
       "    </tr>\n",
       "    <tr>\n",
       "      <th>gvh</th>\n",
       "      <td>0.454805</td>\n",
       "      <td>1.000000</td>\n",
       "      <td>0.069824</td>\n",
       "      <td>0.173492</td>\n",
       "      <td>-0.120199</td>\n",
       "    </tr>\n",
       "    <tr>\n",
       "      <th>aac</th>\n",
       "      <td>0.220699</td>\n",
       "      <td>0.069824</td>\n",
       "      <td>1.000000</td>\n",
       "      <td>0.279482</td>\n",
       "      <td>0.252675</td>\n",
       "    </tr>\n",
       "    <tr>\n",
       "      <th>alm1</th>\n",
       "      <td>0.396979</td>\n",
       "      <td>0.173492</td>\n",
       "      <td>0.279482</td>\n",
       "      <td>1.000000</td>\n",
       "      <td>0.809324</td>\n",
       "    </tr>\n",
       "    <tr>\n",
       "      <th>alm2</th>\n",
       "      <td>0.167086</td>\n",
       "      <td>-0.120199</td>\n",
       "      <td>0.252675</td>\n",
       "      <td>0.809324</td>\n",
       "      <td>1.000000</td>\n",
       "    </tr>\n",
       "  </tbody>\n",
       "</table>\n",
       "</div>"
      ],
      "text/plain": [
       "           mcg       gvh       aac      alm1      alm2\n",
       "mcg   1.000000  0.454805  0.220699  0.396979  0.167086\n",
       "gvh   0.454805  1.000000  0.069824  0.173492 -0.120199\n",
       "aac   0.220699  0.069824  1.000000  0.279482  0.252675\n",
       "alm1  0.396979  0.173492  0.279482  1.000000  0.809324\n",
       "alm2  0.167086 -0.120199  0.252675  0.809324  1.000000"
      ]
     },
     "execution_count": 29,
     "metadata": {},
     "output_type": "execute_result"
    },
    {
     "data": {
      "application/javascript": [
       "\n",
       "            setTimeout(function() {\n",
       "                var nbb_cell_id = 29;\n",
       "                var nbb_unformatted_code = \"df_corr = df_continuous.corr()\\ndf_corr\";\n",
       "                var nbb_formatted_code = \"df_corr = df_continuous.corr()\\ndf_corr\";\n",
       "                var nbb_cells = Jupyter.notebook.get_cells();\n",
       "                for (var i = 0; i < nbb_cells.length; ++i) {\n",
       "                    if (nbb_cells[i].input_prompt_number == nbb_cell_id) {\n",
       "                        if (nbb_cells[i].get_text() == nbb_unformatted_code) {\n",
       "                             nbb_cells[i].set_text(nbb_formatted_code);\n",
       "                        }\n",
       "                        break;\n",
       "                    }\n",
       "                }\n",
       "            }, 500);\n",
       "            "
      ],
      "text/plain": [
       "<IPython.core.display.Javascript object>"
      ]
     },
     "metadata": {},
     "output_type": "display_data"
    }
   ],
   "source": [
    "df_corr = df_continuous.corr()\n",
    "df_corr"
   ]
  },
  {
   "cell_type": "code",
   "execution_count": 30,
   "id": "3a568419",
   "metadata": {},
   "outputs": [
    {
     "data": {
      "image/png": "[encoded data removed]",
      "text/plain": [
       "<Figure size 720x576 with 2 Axes>"
      ]
     },
     "metadata": {
      "needs_background": "light"
     },
     "output_type": "display_data"
    },
    {
     "data": {
      "application/javascript": [
       "\n",
       "            setTimeout(function() {\n",
       "                var nbb_cell_id = 30;\n",
       "                var nbb_unformatted_code = \"plt.figure(figsize=(10, 8))\\nsns.heatmap(df_corr, annot=True)\\nplt.show()\";\n",
       "                var nbb_formatted_code = \"plt.figure(figsize=(10, 8))\\nsns.heatmap(df_corr, annot=True)\\nplt.show()\";\n",
       "                var nbb_cells = Jupyter.notebook.get_cells();\n",
       "                for (var i = 0; i < nbb_cells.length; ++i) {\n",
       "                    if (nbb_cells[i].input_prompt_number == nbb_cell_id) {\n",
       "                        if (nbb_cells[i].get_text() == nbb_unformatted_code) {\n",
       "                             nbb_cells[i].set_text(nbb_formatted_code);\n",
       "                        }\n",
       "                        break;\n",
       "                    }\n",
       "                }\n",
       "            }, 500);\n",
       "            "
      ],
      "text/plain": [
       "<IPython.core.display.Javascript object>"
      ]
     },
     "metadata": {},
     "output_type": "display_data"
    }
   ],
   "source": [
    "plt.figure(figsize=(10, 8))\n",
    "sns.heatmap(df_corr, annot=True)\n",
    "plt.show()"
   ]
  },
  {
   "cell_type": "markdown",
   "id": "819e8b65",
   "metadata": {},
   "source": [
    "### <p style=\"color:blue\">Nhận xét</p>"
   ]
  },
  {
   "cell_type": "code",
   "execution_count": 31,
   "id": "cbc1ea5b",
   "metadata": {},
   "outputs": [
    {
     "data": {
      "text/plain": [
       "'\\nmcg có tương quan với gvh, alm1\\ngvh có tương quan với mcg\\naac hoàn toàn độc lập với các biến khác\\nalm1 có tương quan với mcg và tương quan mạnh với alm2\\nalm2 tương quan mạnh với alm1\\n'"
      ]
     },
     "execution_count": 31,
     "metadata": {},
     "output_type": "execute_result"
    },
    {
     "data": {
      "application/javascript": [
       "\n",
       "            setTimeout(function() {\n",
       "                var nbb_cell_id = 31;\n",
       "                var nbb_unformatted_code = \"\\\"\\\"\\\"\\nmcg c\\u00f3 t\\u01b0\\u01a1ng quan v\\u1edbi gvh, alm1\\ngvh c\\u00f3 t\\u01b0\\u01a1ng quan v\\u1edbi mcg\\naac ho\\u00e0n to\\u00e0n \\u0111\\u1ed9c l\\u1eadp v\\u1edbi c\\u00e1c bi\\u1ebfn kh\\u00e1c\\nalm1 c\\u00f3 t\\u01b0\\u01a1ng quan v\\u1edbi mcg v\\u00e0 t\\u01b0\\u01a1ng quan m\\u1ea1nh v\\u1edbi alm2\\nalm2 t\\u01b0\\u01a1ng quan m\\u1ea1nh v\\u1edbi alm1\\n\\\"\\\"\\\"\";\n",
       "                var nbb_formatted_code = \"\\\"\\\"\\\"\\nmcg c\\u00f3 t\\u01b0\\u01a1ng quan v\\u1edbi gvh, alm1\\ngvh c\\u00f3 t\\u01b0\\u01a1ng quan v\\u1edbi mcg\\naac ho\\u00e0n to\\u00e0n \\u0111\\u1ed9c l\\u1eadp v\\u1edbi c\\u00e1c bi\\u1ebfn kh\\u00e1c\\nalm1 c\\u00f3 t\\u01b0\\u01a1ng quan v\\u1edbi mcg v\\u00e0 t\\u01b0\\u01a1ng quan m\\u1ea1nh v\\u1edbi alm2\\nalm2 t\\u01b0\\u01a1ng quan m\\u1ea1nh v\\u1edbi alm1\\n\\\"\\\"\\\"\";\n",
       "                var nbb_cells = Jupyter.notebook.get_cells();\n",
       "                for (var i = 0; i < nbb_cells.length; ++i) {\n",
       "                    if (nbb_cells[i].input_prompt_number == nbb_cell_id) {\n",
       "                        if (nbb_cells[i].get_text() == nbb_unformatted_code) {\n",
       "                             nbb_cells[i].set_text(nbb_formatted_code);\n",
       "                        }\n",
       "                        break;\n",
       "                    }\n",
       "                }\n",
       "            }, 500);\n",
       "            "
      ],
      "text/plain": [
       "<IPython.core.display.Javascript object>"
      ]
     },
     "metadata": {},
     "output_type": "display_data"
    }
   ],
   "source": [
    "\"\"\"\n",
    "mcg có tương quan với gvh, alm1\n",
    "gvh có tương quan với mcg\n",
    "aac hoàn toàn độc lập với các biến khác\n",
    "alm1 có tương quan với mcg và tương quan mạnh với alm2\n",
    "alm2 tương quan mạnh với alm1\n",
    "\"\"\""
   ]
  },
  {
   "cell_type": "markdown",
   "id": "91585002",
   "metadata": {},
   "source": [
    "### Categorical - Continuous"
   ]
  },
  {
   "cell_type": "code",
   "execution_count": 32,
   "id": "2644ac48",
   "metadata": {},
   "outputs": [
    {
     "data": {
      "text/html": [
       "<div>\n",
       "<style scoped>\n",
       "    .dataframe tbody tr th:only-of-type {\n",
       "        vertical-align: middle;\n",
       "    }\n",
       "\n",
       "    .dataframe tbody tr th {\n",
       "        vertical-align: top;\n",
       "    }\n",
       "\n",
       "    .dataframe thead th {\n",
       "        text-align: right;\n",
       "    }\n",
       "</style>\n",
       "<table border=\"1\" class=\"dataframe\">\n",
       "  <thead>\n",
       "    <tr style=\"text-align: right;\">\n",
       "      <th></th>\n",
       "      <th>df</th>\n",
       "      <th>sum_sq</th>\n",
       "      <th>mean_sq</th>\n",
       "      <th>F</th>\n",
       "      <th>PR(&gt;F)</th>\n",
       "    </tr>\n",
       "  </thead>\n",
       "  <tbody>\n",
       "    <tr>\n",
       "      <th>C(binaryClass)</th>\n",
       "      <td>1.0</td>\n",
       "      <td>4.638092</td>\n",
       "      <td>4.638092</td>\n",
       "      <td>192.377684</td>\n",
       "      <td>7.329591e-35</td>\n",
       "    </tr>\n",
       "    <tr>\n",
       "      <th>Residual</th>\n",
       "      <td>334.0</td>\n",
       "      <td>8.052507</td>\n",
       "      <td>0.024109</td>\n",
       "      <td>NaN</td>\n",
       "      <td>NaN</td>\n",
       "    </tr>\n",
       "  </tbody>\n",
       "</table>\n",
       "</div>"
      ],
      "text/plain": [
       "                   df    sum_sq   mean_sq           F        PR(>F)\n",
       "C(binaryClass)    1.0  4.638092  4.638092  192.377684  7.329591e-35\n",
       "Residual        334.0  8.052507  0.024109         NaN           NaN"
      ]
     },
     "execution_count": 32,
     "metadata": {},
     "output_type": "execute_result"
    },
    {
     "data": {
      "application/javascript": [
       "\n",
       "            setTimeout(function() {\n",
       "                var nbb_cell_id = 32;\n",
       "                var nbb_unformatted_code = \"model = ols(\\n    \\\"mcg ~ C(binaryClass)\\\",\\n    data=df,\\n).fit()\\nsm.stats.anova_lm(model)\";\n",
       "                var nbb_formatted_code = \"model = ols(\\n    \\\"mcg ~ C(binaryClass)\\\",\\n    data=df,\\n).fit()\\nsm.stats.anova_lm(model)\";\n",
       "                var nbb_cells = Jupyter.notebook.get_cells();\n",
       "                for (var i = 0; i < nbb_cells.length; ++i) {\n",
       "                    if (nbb_cells[i].input_prompt_number == nbb_cell_id) {\n",
       "                        if (nbb_cells[i].get_text() == nbb_unformatted_code) {\n",
       "                             nbb_cells[i].set_text(nbb_formatted_code);\n",
       "                        }\n",
       "                        break;\n",
       "                    }\n",
       "                }\n",
       "            }, 500);\n",
       "            "
      ],
      "text/plain": [
       "<IPython.core.display.Javascript object>"
      ]
     },
     "metadata": {},
     "output_type": "display_data"
    }
   ],
   "source": [
    "model = ols(\n",
    "    \"mcg ~ C(binaryClass)\",\n",
    "    data=df,\n",
    ").fit()\n",
    "sm.stats.anova_lm(model)"
   ]
  },
  {
   "cell_type": "code",
   "execution_count": 33,
   "id": "a91ec0d6",
   "metadata": {},
   "outputs": [
    {
     "data": {
      "text/html": [
       "<div>\n",
       "<style scoped>\n",
       "    .dataframe tbody tr th:only-of-type {\n",
       "        vertical-align: middle;\n",
       "    }\n",
       "\n",
       "    .dataframe tbody tr th {\n",
       "        vertical-align: top;\n",
       "    }\n",
       "\n",
       "    .dataframe thead th {\n",
       "        text-align: right;\n",
       "    }\n",
       "</style>\n",
       "<table border=\"1\" class=\"dataframe\">\n",
       "  <thead>\n",
       "    <tr style=\"text-align: right;\">\n",
       "      <th></th>\n",
       "      <th>df</th>\n",
       "      <th>sum_sq</th>\n",
       "      <th>mean_sq</th>\n",
       "      <th>F</th>\n",
       "      <th>PR(&gt;F)</th>\n",
       "    </tr>\n",
       "  </thead>\n",
       "  <tbody>\n",
       "    <tr>\n",
       "      <th>C(binaryClass)</th>\n",
       "      <td>1.0</td>\n",
       "      <td>2.029076</td>\n",
       "      <td>2.029076</td>\n",
       "      <td>127.285943</td>\n",
       "      <td>3.152401e-25</td>\n",
       "    </tr>\n",
       "    <tr>\n",
       "      <th>Residual</th>\n",
       "      <td>334.0</td>\n",
       "      <td>5.324324</td>\n",
       "      <td>0.015941</td>\n",
       "      <td>NaN</td>\n",
       "      <td>NaN</td>\n",
       "    </tr>\n",
       "  </tbody>\n",
       "</table>\n",
       "</div>"
      ],
      "text/plain": [
       "                   df    sum_sq   mean_sq           F        PR(>F)\n",
       "C(binaryClass)    1.0  2.029076  2.029076  127.285943  3.152401e-25\n",
       "Residual        334.0  5.324324  0.015941         NaN           NaN"
      ]
     },
     "execution_count": 33,
     "metadata": {},
     "output_type": "execute_result"
    },
    {
     "data": {
      "application/javascript": [
       "\n",
       "            setTimeout(function() {\n",
       "                var nbb_cell_id = 33;\n",
       "                var nbb_unformatted_code = \"model = ols(\\n    \\\"gvh ~ C(binaryClass)\\\",\\n    data=df,\\n).fit()\\nsm.stats.anova_lm(model)\";\n",
       "                var nbb_formatted_code = \"model = ols(\\n    \\\"gvh ~ C(binaryClass)\\\",\\n    data=df,\\n).fit()\\nsm.stats.anova_lm(model)\";\n",
       "                var nbb_cells = Jupyter.notebook.get_cells();\n",
       "                for (var i = 0; i < nbb_cells.length; ++i) {\n",
       "                    if (nbb_cells[i].input_prompt_number == nbb_cell_id) {\n",
       "                        if (nbb_cells[i].get_text() == nbb_unformatted_code) {\n",
       "                             nbb_cells[i].set_text(nbb_formatted_code);\n",
       "                        }\n",
       "                        break;\n",
       "                    }\n",
       "                }\n",
       "            }, 500);\n",
       "            "
      ],
      "text/plain": [
       "<IPython.core.display.Javascript object>"
      ]
     },
     "metadata": {},
     "output_type": "display_data"
    }
   ],
   "source": [
    "model = ols(\n",
    "    \"gvh ~ C(binaryClass)\",\n",
    "    data=df,\n",
    ").fit()\n",
    "sm.stats.anova_lm(model)"
   ]
  },
  {
   "cell_type": "code",
   "execution_count": 34,
   "id": "cb8e00e4",
   "metadata": {},
   "outputs": [
    {
     "data": {
      "text/html": [
       "<div>\n",
       "<style scoped>\n",
       "    .dataframe tbody tr th:only-of-type {\n",
       "        vertical-align: middle;\n",
       "    }\n",
       "\n",
       "    .dataframe tbody tr th {\n",
       "        vertical-align: top;\n",
       "    }\n",
       "\n",
       "    .dataframe thead th {\n",
       "        text-align: right;\n",
       "    }\n",
       "</style>\n",
       "<table border=\"1\" class=\"dataframe\">\n",
       "  <thead>\n",
       "    <tr style=\"text-align: right;\">\n",
       "      <th></th>\n",
       "      <th>df</th>\n",
       "      <th>sum_sq</th>\n",
       "      <th>mean_sq</th>\n",
       "      <th>F</th>\n",
       "      <th>PR(&gt;F)</th>\n",
       "    </tr>\n",
       "  </thead>\n",
       "  <tbody>\n",
       "    <tr>\n",
       "      <th>C(binaryClass)</th>\n",
       "      <td>1.0</td>\n",
       "      <td>0.516625</td>\n",
       "      <td>0.516625</td>\n",
       "      <td>38.34273</td>\n",
       "      <td>1.741640e-09</td>\n",
       "    </tr>\n",
       "    <tr>\n",
       "      <th>Residual</th>\n",
       "      <td>334.0</td>\n",
       "      <td>4.500275</td>\n",
       "      <td>0.013474</td>\n",
       "      <td>NaN</td>\n",
       "      <td>NaN</td>\n",
       "    </tr>\n",
       "  </tbody>\n",
       "</table>\n",
       "</div>"
      ],
      "text/plain": [
       "                   df    sum_sq   mean_sq         F        PR(>F)\n",
       "C(binaryClass)    1.0  0.516625  0.516625  38.34273  1.741640e-09\n",
       "Residual        334.0  4.500275  0.013474       NaN           NaN"
      ]
     },
     "execution_count": 34,
     "metadata": {},
     "output_type": "execute_result"
    },
    {
     "data": {
      "application/javascript": [
       "\n",
       "            setTimeout(function() {\n",
       "                var nbb_cell_id = 34;\n",
       "                var nbb_unformatted_code = \"model = ols(\\n    \\\"aac ~ C(binaryClass)\\\",\\n    data=df,\\n).fit()\\nsm.stats.anova_lm(model)\";\n",
       "                var nbb_formatted_code = \"model = ols(\\n    \\\"aac ~ C(binaryClass)\\\",\\n    data=df,\\n).fit()\\nsm.stats.anova_lm(model)\";\n",
       "                var nbb_cells = Jupyter.notebook.get_cells();\n",
       "                for (var i = 0; i < nbb_cells.length; ++i) {\n",
       "                    if (nbb_cells[i].input_prompt_number == nbb_cell_id) {\n",
       "                        if (nbb_cells[i].get_text() == nbb_unformatted_code) {\n",
       "                             nbb_cells[i].set_text(nbb_formatted_code);\n",
       "                        }\n",
       "                        break;\n",
       "                    }\n",
       "                }\n",
       "            }, 500);\n",
       "            "
      ],
      "text/plain": [
       "<IPython.core.display.Javascript object>"
      ]
     },
     "metadata": {},
     "output_type": "display_data"
    }
   ],
   "source": [
    "model = ols(\n",
    "    \"aac ~ C(binaryClass)\",\n",
    "    data=df,\n",
    ").fit()\n",
    "sm.stats.anova_lm(model)"
   ]
  },
  {
   "cell_type": "code",
   "execution_count": 35,
   "id": "5086b526",
   "metadata": {},
   "outputs": [
    {
     "data": {
      "text/html": [
       "<div>\n",
       "<style scoped>\n",
       "    .dataframe tbody tr th:only-of-type {\n",
       "        vertical-align: middle;\n",
       "    }\n",
       "\n",
       "    .dataframe tbody tr th {\n",
       "        vertical-align: top;\n",
       "    }\n",
       "\n",
       "    .dataframe thead th {\n",
       "        text-align: right;\n",
       "    }\n",
       "</style>\n",
       "<table border=\"1\" class=\"dataframe\">\n",
       "  <thead>\n",
       "    <tr style=\"text-align: right;\">\n",
       "      <th></th>\n",
       "      <th>df</th>\n",
       "      <th>sum_sq</th>\n",
       "      <th>mean_sq</th>\n",
       "      <th>F</th>\n",
       "      <th>PR(&gt;F)</th>\n",
       "    </tr>\n",
       "  </thead>\n",
       "  <tbody>\n",
       "    <tr>\n",
       "      <th>C(binaryClass)</th>\n",
       "      <td>1.0</td>\n",
       "      <td>8.754249</td>\n",
       "      <td>8.754249</td>\n",
       "      <td>427.502274</td>\n",
       "      <td>9.787524e-62</td>\n",
       "    </tr>\n",
       "    <tr>\n",
       "      <th>Residual</th>\n",
       "      <td>334.0</td>\n",
       "      <td>6.839540</td>\n",
       "      <td>0.020478</td>\n",
       "      <td>NaN</td>\n",
       "      <td>NaN</td>\n",
       "    </tr>\n",
       "  </tbody>\n",
       "</table>\n",
       "</div>"
      ],
      "text/plain": [
       "                   df    sum_sq   mean_sq           F        PR(>F)\n",
       "C(binaryClass)    1.0  8.754249  8.754249  427.502274  9.787524e-62\n",
       "Residual        334.0  6.839540  0.020478         NaN           NaN"
      ]
     },
     "execution_count": 35,
     "metadata": {},
     "output_type": "execute_result"
    },
    {
     "data": {
      "application/javascript": [
       "\n",
       "            setTimeout(function() {\n",
       "                var nbb_cell_id = 35;\n",
       "                var nbb_unformatted_code = \"model = ols(\\n    \\\"alm1 ~ C(binaryClass)\\\",\\n    data=df,\\n).fit()\\nsm.stats.anova_lm(model)\";\n",
       "                var nbb_formatted_code = \"model = ols(\\n    \\\"alm1 ~ C(binaryClass)\\\",\\n    data=df,\\n).fit()\\nsm.stats.anova_lm(model)\";\n",
       "                var nbb_cells = Jupyter.notebook.get_cells();\n",
       "                for (var i = 0; i < nbb_cells.length; ++i) {\n",
       "                    if (nbb_cells[i].input_prompt_number == nbb_cell_id) {\n",
       "                        if (nbb_cells[i].get_text() == nbb_unformatted_code) {\n",
       "                             nbb_cells[i].set_text(nbb_formatted_code);\n",
       "                        }\n",
       "                        break;\n",
       "                    }\n",
       "                }\n",
       "            }, 500);\n",
       "            "
      ],
      "text/plain": [
       "<IPython.core.display.Javascript object>"
      ]
     },
     "metadata": {},
     "output_type": "display_data"
    }
   ],
   "source": [
    "model = ols(\n",
    "    \"alm1 ~ C(binaryClass)\",\n",
    "    data=df,\n",
    ").fit()\n",
    "sm.stats.anova_lm(model)"
   ]
  },
  {
   "cell_type": "code",
   "execution_count": 36,
   "id": "596aada5",
   "metadata": {},
   "outputs": [
    {
     "data": {
      "text/html": [
       "<div>\n",
       "<style scoped>\n",
       "    .dataframe tbody tr th:only-of-type {\n",
       "        vertical-align: middle;\n",
       "    }\n",
       "\n",
       "    .dataframe tbody tr th {\n",
       "        vertical-align: top;\n",
       "    }\n",
       "\n",
       "    .dataframe thead th {\n",
       "        text-align: right;\n",
       "    }\n",
       "</style>\n",
       "<table border=\"1\" class=\"dataframe\">\n",
       "  <thead>\n",
       "    <tr style=\"text-align: right;\">\n",
       "      <th></th>\n",
       "      <th>df</th>\n",
       "      <th>sum_sq</th>\n",
       "      <th>mean_sq</th>\n",
       "      <th>F</th>\n",
       "      <th>PR(&gt;F)</th>\n",
       "    </tr>\n",
       "  </thead>\n",
       "  <tbody>\n",
       "    <tr>\n",
       "      <th>C(binaryClass)</th>\n",
       "      <td>1.0</td>\n",
       "      <td>2.717977</td>\n",
       "      <td>2.717977</td>\n",
       "      <td>75.822858</td>\n",
       "      <td>1.454517e-16</td>\n",
       "    </tr>\n",
       "    <tr>\n",
       "      <th>Residual</th>\n",
       "      <td>334.0</td>\n",
       "      <td>11.972699</td>\n",
       "      <td>0.035846</td>\n",
       "      <td>NaN</td>\n",
       "      <td>NaN</td>\n",
       "    </tr>\n",
       "  </tbody>\n",
       "</table>\n",
       "</div>"
      ],
      "text/plain": [
       "                   df     sum_sq   mean_sq          F        PR(>F)\n",
       "C(binaryClass)    1.0   2.717977  2.717977  75.822858  1.454517e-16\n",
       "Residual        334.0  11.972699  0.035846        NaN           NaN"
      ]
     },
     "execution_count": 36,
     "metadata": {},
     "output_type": "execute_result"
    },
    {
     "data": {
      "application/javascript": [
       "\n",
       "            setTimeout(function() {\n",
       "                var nbb_cell_id = 36;\n",
       "                var nbb_unformatted_code = \"model = ols(\\n    \\\"alm2 ~ C(binaryClass)\\\",\\n    data=df,\\n).fit()\\nsm.stats.anova_lm(model)\";\n",
       "                var nbb_formatted_code = \"model = ols(\\n    \\\"alm2 ~ C(binaryClass)\\\",\\n    data=df,\\n).fit()\\nsm.stats.anova_lm(model)\";\n",
       "                var nbb_cells = Jupyter.notebook.get_cells();\n",
       "                for (var i = 0; i < nbb_cells.length; ++i) {\n",
       "                    if (nbb_cells[i].input_prompt_number == nbb_cell_id) {\n",
       "                        if (nbb_cells[i].get_text() == nbb_unformatted_code) {\n",
       "                             nbb_cells[i].set_text(nbb_formatted_code);\n",
       "                        }\n",
       "                        break;\n",
       "                    }\n",
       "                }\n",
       "            }, 500);\n",
       "            "
      ],
      "text/plain": [
       "<IPython.core.display.Javascript object>"
      ]
     },
     "metadata": {},
     "output_type": "display_data"
    }
   ],
   "source": [
    "model = ols(\n",
    "    \"alm2 ~ C(binaryClass)\",\n",
    "    data=df,\n",
    ").fit()\n",
    "sm.stats.anova_lm(model)"
   ]
  },
  {
   "cell_type": "markdown",
   "id": "7dacddd6",
   "metadata": {},
   "source": [
    "### Category & Category"
   ]
  },
  {
   "cell_type": "code",
   "execution_count": 37,
   "id": "da0a8fc2",
   "metadata": {},
   "outputs": [
    {
     "data": {
      "application/javascript": [
       "\n",
       "            setTimeout(function() {\n",
       "                var nbb_cell_id = 37;\n",
       "                var nbb_unformatted_code = \"def cate_cate(dataset, f1, f2):\\n    table = pd.crosstab(f1, f2)\\n    table.plot.bar(stacked = True)\\n    plt.show()\\n    \\n    stat, p_value, dof, expected = chi2_contingency(table)\\n    #so s\\u00e1nh p-value\\n    proba = 0.95\\n    alpha = 1 - proba \\n    \\n    print('Statistic: ', stat)\\n    print('p-value: ', p_value)\\n    print('Dof: ', dof)\\n    if p_value <= alpha:\\n        print('Dependent (reject H0)')\\n    else:\\n        print('Independent (fail to H0)')\";\n",
       "                var nbb_formatted_code = \"def cate_cate(dataset, f1, f2):\\n    table = pd.crosstab(f1, f2)\\n    table.plot.bar(stacked=True)\\n    plt.show()\\n\\n    stat, p_value, dof, expected = chi2_contingency(table)\\n    # so s\\u00e1nh p-value\\n    proba = 0.95\\n    alpha = 1 - proba\\n\\n    print(\\\"Statistic: \\\", stat)\\n    print(\\\"p-value: \\\", p_value)\\n    print(\\\"Dof: \\\", dof)\\n    if p_value <= alpha:\\n        print(\\\"Dependent (reject H0)\\\")\\n    else:\\n        print(\\\"Independent (fail to H0)\\\")\";\n",
       "                var nbb_cells = Jupyter.notebook.get_cells();\n",
       "                for (var i = 0; i < nbb_cells.length; ++i) {\n",
       "                    if (nbb_cells[i].input_prompt_number == nbb_cell_id) {\n",
       "                        if (nbb_cells[i].get_text() == nbb_unformatted_code) {\n",
       "                             nbb_cells[i].set_text(nbb_formatted_code);\n",
       "                        }\n",
       "                        break;\n",
       "                    }\n",
       "                }\n",
       "            }, 500);\n",
       "            "
      ],
      "text/plain": [
       "<IPython.core.display.Javascript object>"
      ]
     },
     "metadata": {},
     "output_type": "display_data"
    }
   ],
   "source": [
    "def cate_cate(dataset, f1, f2):\n",
    "    table = pd.crosstab(f1, f2)\n",
    "    table.plot.bar(stacked = True)\n",
    "    plt.show()\n",
    "    \n",
    "    stat, p_value, dof, expected = chi2_contingency(table)\n",
    "    #so sánh p-value\n",
    "    proba = 0.95\n",
    "    alpha = 1 - proba \n",
    "    \n",
    "    print('Statistic: ', stat)\n",
    "    print('p-value: ', p_value)\n",
    "    print('Dof: ', dof)\n",
    "    if p_value <= alpha:\n",
    "        print('Dependent (reject H0)')\n",
    "    else:\n",
    "        print('Independent (fail to H0)')\n"
   ]
  },
  {
   "cell_type": "code",
   "execution_count": 38,
   "id": "9513594b",
   "metadata": {},
   "outputs": [
    {
     "name": "stdout",
     "output_type": "stream",
     "text": [
      "binaryClass & lip\n"
     ]
    },
    {
     "data": {
      "image/png": "[encoded data removed]",
      "text/plain": [
       "<Figure size 432x288 with 1 Axes>"
      ]
     },
     "metadata": {
      "needs_background": "light"
     },
     "output_type": "display_data"
    },
    {
     "name": "stdout",
     "output_type": "stream",
     "text": [
      "Statistic:  5.947672417223263\n",
      "p-value:  0.014736731919114052\n",
      "Dof:  1\n",
      "Dependent (reject H0)\n",
      "\n",
      "\n",
      "binaryClass & chg\n"
     ]
    },
    {
     "data": {
      "image/png": "[encoded data removed]",
      "text/plain": [
       "<Figure size 432x288 with 1 Axes>"
      ]
     },
     "metadata": {
      "needs_background": "light"
     },
     "output_type": "display_data"
    },
    {
     "name": "stdout",
     "output_type": "stream",
     "text": [
      "Statistic:  0.0\n",
      "p-value:  1.0\n",
      "Dof:  1\n",
      "Independent (fail to H0)\n",
      "\n",
      "\n",
      "lip & lip\n"
     ]
    },
    {
     "data": {
      "image/png": "[encoded data removed]",
      "text/plain": [
       "<Figure size 432x288 with 1 Axes>"
      ]
     },
     "metadata": {
      "needs_background": "light"
     },
     "output_type": "display_data"
    },
    {
     "name": "stdout",
     "output_type": "stream",
     "text": [
      "Statistic:  302.2616492905266\n",
      "p-value:  1.0593518435263783e-67\n",
      "Dof:  1\n",
      "Dependent (reject H0)\n",
      "\n",
      "\n",
      "lip & chg\n"
     ]
    },
    {
     "data": {
      "image/png": "[encoded data removed]",
      "text/plain": [
       "<Figure size 432x288 with 1 Axes>"
      ]
     },
     "metadata": {
      "needs_background": "light"
     },
     "output_type": "display_data"
    },
    {
     "name": "stdout",
     "output_type": "stream",
     "text": [
      "Statistic:  7.680527424228551\n",
      "p-value:  0.005581985130089062\n",
      "Dof:  1\n",
      "Dependent (reject H0)\n",
      "\n",
      "\n"
     ]
    },
    {
     "data": {
      "application/javascript": [
       "\n",
       "            setTimeout(function() {\n",
       "                var nbb_cell_id = 38;\n",
       "                var nbb_unformatted_code = \"lst_cat = [\\\"binaryClass\\\", \\\"lip\\\", \\\"chg\\\"]\\n\\nfor i in range(len(lst_cat) - 1):\\n    for j in range(1, len(lst_cat)):\\n        print(lst_cat[i], \\\"&\\\", lst_cat[j])\\n        cate_cate(df, df[lst_cat[i]], df[lst_cat[j]])\\n        print(\\\"\\\\n\\\")\";\n",
       "                var nbb_formatted_code = \"lst_cat = [\\\"binaryClass\\\", \\\"lip\\\", \\\"chg\\\"]\\n\\nfor i in range(len(lst_cat) - 1):\\n    for j in range(1, len(lst_cat)):\\n        print(lst_cat[i], \\\"&\\\", lst_cat[j])\\n        cate_cate(df, df[lst_cat[i]], df[lst_cat[j]])\\n        print(\\\"\\\\n\\\")\";\n",
       "                var nbb_cells = Jupyter.notebook.get_cells();\n",
       "                for (var i = 0; i < nbb_cells.length; ++i) {\n",
       "                    if (nbb_cells[i].input_prompt_number == nbb_cell_id) {\n",
       "                        if (nbb_cells[i].get_text() == nbb_unformatted_code) {\n",
       "                             nbb_cells[i].set_text(nbb_formatted_code);\n",
       "                        }\n",
       "                        break;\n",
       "                    }\n",
       "                }\n",
       "            }, 500);\n",
       "            "
      ],
      "text/plain": [
       "<IPython.core.display.Javascript object>"
      ]
     },
     "metadata": {},
     "output_type": "display_data"
    }
   ],
   "source": [
    "lst_cat = [\"binaryClass\", \"lip\", \"chg\"]\n",
    "\n",
    "for i in range(len(lst_cat) - 1):\n",
    "    for j in range(1, len(lst_cat)):\n",
    "        print(lst_cat[i], \"&\", lst_cat[j])\n",
    "        cate_cate(df, df[lst_cat[i]], df[lst_cat[j]])\n",
    "        print(\"\\n\")"
   ]
  },
  {
   "cell_type": "markdown",
   "id": "b01b3aaa",
   "metadata": {},
   "source": [
    "### Phân tích tổng quát bằng ProfileReport"
   ]
  },
  {
   "cell_type": "code",
   "execution_count": 39,
   "id": "8ccad82f",
   "metadata": {},
   "outputs": [
    {
     "data": {
      "application/javascript": [
       "\n",
       "            setTimeout(function() {\n",
       "                var nbb_cell_id = 39;\n",
       "                var nbb_unformatted_code = \"from pandas_profiling import ProfileReport\\n\\ndata_profile = ProfileReport(df)\";\n",
       "                var nbb_formatted_code = \"from pandas_profiling import ProfileReport\\n\\ndata_profile = ProfileReport(df)\";\n",
       "                var nbb_cells = Jupyter.notebook.get_cells();\n",
       "                for (var i = 0; i < nbb_cells.length; ++i) {\n",
       "                    if (nbb_cells[i].input_prompt_number == nbb_cell_id) {\n",
       "                        if (nbb_cells[i].get_text() == nbb_unformatted_code) {\n",
       "                             nbb_cells[i].set_text(nbb_formatted_code);\n",
       "                        }\n",
       "                        break;\n",
       "                    }\n",
       "                }\n",
       "            }, 500);\n",
       "            "
      ],
      "text/plain": [
       "<IPython.core.display.Javascript object>"
      ]
     },
     "metadata": {},
     "output_type": "display_data"
    }
   ],
   "source": [
    "from pandas_profiling import ProfileReport\n",
    "\n",
    "data_profile = ProfileReport(df)"
   ]
  },
  {
   "cell_type": "code",
   "execution_count": 40,
   "id": "b341d687",
   "metadata": {},
   "outputs": [
    {
     "data": {
      "application/vnd.jupyter.widget-view+json": {
       "model_id": "8bfa9a57f65f45ccb299c0c0208a00e4",
       "version_major": 2,
       "version_minor": 0
      },
      "text/plain": [
       "Summarize dataset:   0%|          | 0/5 [00:00<?, ?it/s]"
      ]
     },
     "metadata": {},
     "output_type": "display_data"
    },
    {
     "data": {
      "application/vnd.jupyter.widget-view+json": {
       "model_id": "479195bf19c143008056124ffc2e27a2",
       "version_major": 2,
       "version_minor": 0
      },
      "text/plain": [
       "Generate report structure:   0%|          | 0/1 [00:00<?, ?it/s]"
      ]
     },
     "metadata": {},
     "output_type": "display_data"
    },
    {
     "data": {
      "application/vnd.jupyter.widget-view+json": {
       "model_id": "1e49300111314df8b855b6e012a34471",
       "version_major": 2,
       "version_minor": 0
      },
      "text/plain": [
       "Render HTML:   0%|          | 0/1 [00:00<?, ?it/s]"
      ]
     },
     "metadata": {},
     "output_type": "display_data"
    },
    {
     "data": {
      "application/vnd.jupyter.widget-view+json": {
       "model_id": "9b335869ff5e47e5af67d18cd0fcce33",
       "version_major": 2,
       "version_minor": 0
      },
      "text/plain": [
       "Export report to file:   0%|          | 0/1 [00:00<?, ?it/s]"
      ]
     },
     "metadata": {},
     "output_type": "display_data"
    },
    {
     "data": {
      "application/javascript": [
       "\n",
       "            setTimeout(function() {\n",
       "                var nbb_cell_id = 40;\n",
       "                var nbb_unformatted_code = \"data_profile.to_file(\\\"Ecoli.html\\\")\";\n",
       "                var nbb_formatted_code = \"data_profile.to_file(\\\"Ecoli.html\\\")\";\n",
       "                var nbb_cells = Jupyter.notebook.get_cells();\n",
       "                for (var i = 0; i < nbb_cells.length; ++i) {\n",
       "                    if (nbb_cells[i].input_prompt_number == nbb_cell_id) {\n",
       "                        if (nbb_cells[i].get_text() == nbb_unformatted_code) {\n",
       "                             nbb_cells[i].set_text(nbb_formatted_code);\n",
       "                        }\n",
       "                        break;\n",
       "                    }\n",
       "                }\n",
       "            }, 500);\n",
       "            "
      ],
      "text/plain": [
       "<IPython.core.display.Javascript object>"
      ]
     },
     "metadata": {},
     "output_type": "display_data"
    }
   ],
   "source": [
    "data_profile.to_file(\"Ecoli.html\")"
   ]
  },
  {
   "cell_type": "markdown",
   "id": "4662c205",
   "metadata": {},
   "source": [
    "### <p style=\"color:blue\">Note</p>"
   ]
  },
  {
   "cell_type": "code",
   "execution_count": 63,
   "id": "af890259",
   "metadata": {},
   "outputs": [
    {
     "data": {
      "text/plain": [
       "'\\nvì sử dụng ProfileReport sẽ tốn dung lượng của file nên em comment lại.\\nNếu thầy sửa dụng thì bỏ comment và chạy lại giúp em ạ.\\nEm có export kết quả của ProfileReport ra file HTML ạ.\\n'"
      ]
     },
     "execution_count": 63,
     "metadata": {},
     "output_type": "execute_result"
    },
    {
     "data": {
      "application/javascript": [
       "\n",
       "            setTimeout(function() {\n",
       "                var nbb_cell_id = 63;\n",
       "                var nbb_unformatted_code = \"\\\"\\\"\\\"\\nv\\u00ec s\\u1eed d\\u1ee5ng ProfileReport s\\u1ebd t\\u1ed1n dung l\\u01b0\\u1ee3ng c\\u1ee7a file n\\u00ean em comment l\\u1ea1i.\\nN\\u1ebfu th\\u1ea7y s\\u1eeda d\\u1ee5ng th\\u00ec b\\u1ecf comment v\\u00e0 ch\\u1ea1y l\\u1ea1i gi\\u00fap em \\u1ea1.\\nEm c\\u00f3 export k\\u1ebft qu\\u1ea3 c\\u1ee7a ProfileReport ra file HTML \\u1ea1.\\n\\\"\\\"\\\"\";\n",
       "                var nbb_formatted_code = \"\\\"\\\"\\\"\\nv\\u00ec s\\u1eed d\\u1ee5ng ProfileReport s\\u1ebd t\\u1ed1n dung l\\u01b0\\u1ee3ng c\\u1ee7a file n\\u00ean em comment l\\u1ea1i.\\nN\\u1ebfu th\\u1ea7y s\\u1eeda d\\u1ee5ng th\\u00ec b\\u1ecf comment v\\u00e0 ch\\u1ea1y l\\u1ea1i gi\\u00fap em \\u1ea1.\\nEm c\\u00f3 export k\\u1ebft qu\\u1ea3 c\\u1ee7a ProfileReport ra file HTML \\u1ea1.\\n\\\"\\\"\\\"\";\n",
       "                var nbb_cells = Jupyter.notebook.get_cells();\n",
       "                for (var i = 0; i < nbb_cells.length; ++i) {\n",
       "                    if (nbb_cells[i].input_prompt_number == nbb_cell_id) {\n",
       "                        if (nbb_cells[i].get_text() == nbb_unformatted_code) {\n",
       "                             nbb_cells[i].set_text(nbb_formatted_code);\n",
       "                        }\n",
       "                        break;\n",
       "                    }\n",
       "                }\n",
       "            }, 500);\n",
       "            "
      ],
      "text/plain": [
       "<IPython.core.display.Javascript object>"
      ]
     },
     "metadata": {},
     "output_type": "display_data"
    }
   ],
   "source": [
    "\"\"\"\n",
    "vì sử dụng ProfileReport sẽ tốn dung lượng của file nên em comment lại.\n",
    "Nếu thầy có sử dụng thì bỏ comment và chạy lại giúp em ạ.\n",
    "Em có export kết quả của ProfileReport ra file HTML ạ.\n",
    "\"\"\"\n",
    "#data_profile"
   ]
  },
  {
   "cell_type": "code",
   "execution_count": 44,
   "id": "96464500",
   "metadata": {},
   "outputs": [
    {
     "data": {
      "text/plain": [
       "0"
      ]
     },
     "execution_count": 44,
     "metadata": {},
     "output_type": "execute_result"
    },
    {
     "data": {
      "application/javascript": [
       "\n",
       "            setTimeout(function() {\n",
       "                var nbb_cell_id = 44;\n",
       "                var nbb_unformatted_code = \"df.duplicated().sum()\";\n",
       "                var nbb_formatted_code = \"df.duplicated().sum()\";\n",
       "                var nbb_cells = Jupyter.notebook.get_cells();\n",
       "                for (var i = 0; i < nbb_cells.length; ++i) {\n",
       "                    if (nbb_cells[i].input_prompt_number == nbb_cell_id) {\n",
       "                        if (nbb_cells[i].get_text() == nbb_unformatted_code) {\n",
       "                             nbb_cells[i].set_text(nbb_formatted_code);\n",
       "                        }\n",
       "                        break;\n",
       "                    }\n",
       "                }\n",
       "            }, 500);\n",
       "            "
      ],
      "text/plain": [
       "<IPython.core.display.Javascript object>"
      ]
     },
     "metadata": {},
     "output_type": "display_data"
    }
   ],
   "source": [
    "df.duplicated().sum()"
   ]
  },
  {
   "cell_type": "code",
   "execution_count": 45,
   "id": "0f8398d4",
   "metadata": {},
   "outputs": [
    {
     "data": {
      "text/plain": [
       "'\\ndataset ko có giá trị duplicated\\n'"
      ]
     },
     "execution_count": 45,
     "metadata": {},
     "output_type": "execute_result"
    },
    {
     "data": {
      "application/javascript": [
       "\n",
       "            setTimeout(function() {\n",
       "                var nbb_cell_id = 45;\n",
       "                var nbb_unformatted_code = \"'''\\ndataset ko c\\u00f3 gi\\u00e1 tr\\u1ecb duplicated\\n'''\";\n",
       "                var nbb_formatted_code = \"\\\"\\\"\\\"\\ndataset ko c\\u00f3 gi\\u00e1 tr\\u1ecb duplicated\\n\\\"\\\"\\\"\";\n",
       "                var nbb_cells = Jupyter.notebook.get_cells();\n",
       "                for (var i = 0; i < nbb_cells.length; ++i) {\n",
       "                    if (nbb_cells[i].input_prompt_number == nbb_cell_id) {\n",
       "                        if (nbb_cells[i].get_text() == nbb_unformatted_code) {\n",
       "                             nbb_cells[i].set_text(nbb_formatted_code);\n",
       "                        }\n",
       "                        break;\n",
       "                    }\n",
       "                }\n",
       "            }, 500);\n",
       "            "
      ],
      "text/plain": [
       "<IPython.core.display.Javascript object>"
      ]
     },
     "metadata": {},
     "output_type": "display_data"
    }
   ],
   "source": [
    "\"\"\"\n",
    "dataset ko có giá trị duplicated\n",
    "\"\"\""
   ]
  },
  {
   "cell_type": "markdown",
   "id": "a3705a81",
   "metadata": {},
   "source": [
    "## Chuẩn hóa dữ liệu"
   ]
  },
  {
   "cell_type": "code",
   "execution_count": 46,
   "id": "5845d8d6",
   "metadata": {},
   "outputs": [
    {
     "data": {
      "application/javascript": [
       "\n",
       "            setTimeout(function() {\n",
       "                var nbb_cell_id = 46;\n",
       "                var nbb_unformatted_code = \"df_new = df.copy()\\ndf_new.binaryClass.replace([\\\"N\\\", \\\"P\\\"], [0, 1], inplace=True)\";\n",
       "                var nbb_formatted_code = \"df_new = df.copy()\\ndf_new.binaryClass.replace([\\\"N\\\", \\\"P\\\"], [0, 1], inplace=True)\";\n",
       "                var nbb_cells = Jupyter.notebook.get_cells();\n",
       "                for (var i = 0; i < nbb_cells.length; ++i) {\n",
       "                    if (nbb_cells[i].input_prompt_number == nbb_cell_id) {\n",
       "                        if (nbb_cells[i].get_text() == nbb_unformatted_code) {\n",
       "                             nbb_cells[i].set_text(nbb_formatted_code);\n",
       "                        }\n",
       "                        break;\n",
       "                    }\n",
       "                }\n",
       "            }, 500);\n",
       "            "
      ],
      "text/plain": [
       "<IPython.core.display.Javascript object>"
      ]
     },
     "metadata": {},
     "output_type": "display_data"
    }
   ],
   "source": [
    "df_new = df.copy()\n",
    "df_new.binaryClass.replace([\"N\", \"P\"], [0, 1], inplace=True)"
   ]
  },
  {
   "cell_type": "code",
   "execution_count": 47,
   "id": "14fc9474",
   "metadata": {},
   "outputs": [
    {
     "data": {
      "text/plain": [
       "N    193\n",
       "P    143\n",
       "Name: binaryClass, dtype: int64"
      ]
     },
     "execution_count": 47,
     "metadata": {},
     "output_type": "execute_result"
    },
    {
     "data": {
      "application/javascript": [
       "\n",
       "            setTimeout(function() {\n",
       "                var nbb_cell_id = 47;\n",
       "                var nbb_unformatted_code = \"df.binaryClass.value_counts()\";\n",
       "                var nbb_formatted_code = \"df.binaryClass.value_counts()\";\n",
       "                var nbb_cells = Jupyter.notebook.get_cells();\n",
       "                for (var i = 0; i < nbb_cells.length; ++i) {\n",
       "                    if (nbb_cells[i].input_prompt_number == nbb_cell_id) {\n",
       "                        if (nbb_cells[i].get_text() == nbb_unformatted_code) {\n",
       "                             nbb_cells[i].set_text(nbb_formatted_code);\n",
       "                        }\n",
       "                        break;\n",
       "                    }\n",
       "                }\n",
       "            }, 500);\n",
       "            "
      ],
      "text/plain": [
       "<IPython.core.display.Javascript object>"
      ]
     },
     "metadata": {},
     "output_type": "display_data"
    }
   ],
   "source": [
    "df.binaryClass.value_counts()"
   ]
  },
  {
   "cell_type": "code",
   "execution_count": 48,
   "id": "73f6c4b8",
   "metadata": {},
   "outputs": [
    {
     "data": {
      "text/plain": [
       "0    193\n",
       "1    143\n",
       "Name: binaryClass, dtype: int64"
      ]
     },
     "execution_count": 48,
     "metadata": {},
     "output_type": "execute_result"
    },
    {
     "data": {
      "application/javascript": [
       "\n",
       "            setTimeout(function() {\n",
       "                var nbb_cell_id = 48;\n",
       "                var nbb_unformatted_code = \"df_new.binaryClass.value_counts()\";\n",
       "                var nbb_formatted_code = \"df_new.binaryClass.value_counts()\";\n",
       "                var nbb_cells = Jupyter.notebook.get_cells();\n",
       "                for (var i = 0; i < nbb_cells.length; ++i) {\n",
       "                    if (nbb_cells[i].input_prompt_number == nbb_cell_id) {\n",
       "                        if (nbb_cells[i].get_text() == nbb_unformatted_code) {\n",
       "                             nbb_cells[i].set_text(nbb_formatted_code);\n",
       "                        }\n",
       "                        break;\n",
       "                    }\n",
       "                }\n",
       "            }, 500);\n",
       "            "
      ],
      "text/plain": [
       "<IPython.core.display.Javascript object>"
      ]
     },
     "metadata": {},
     "output_type": "display_data"
    }
   ],
   "source": [
    "df_new.binaryClass.value_counts()"
   ]
  },
  {
   "cell_type": "code",
   "execution_count": 49,
   "id": "f345cc5c",
   "metadata": {},
   "outputs": [
    {
     "data": {
      "application/javascript": [
       "\n",
       "            setTimeout(function() {\n",
       "                var nbb_cell_id = 49;\n",
       "                var nbb_unformatted_code = \"X1 = df_new.drop(columns=[\\\"binaryClass\\\"])\\ny = df.binaryClass\";\n",
       "                var nbb_formatted_code = \"X1 = df_new.drop(columns=[\\\"binaryClass\\\"])\\ny = df.binaryClass\";\n",
       "                var nbb_cells = Jupyter.notebook.get_cells();\n",
       "                for (var i = 0; i < nbb_cells.length; ++i) {\n",
       "                    if (nbb_cells[i].input_prompt_number == nbb_cell_id) {\n",
       "                        if (nbb_cells[i].get_text() == nbb_unformatted_code) {\n",
       "                             nbb_cells[i].set_text(nbb_formatted_code);\n",
       "                        }\n",
       "                        break;\n",
       "                    }\n",
       "                }\n",
       "            }, 500);\n",
       "            "
      ],
      "text/plain": [
       "<IPython.core.display.Javascript object>"
      ]
     },
     "metadata": {},
     "output_type": "display_data"
    }
   ],
   "source": [
    "X1 = df_new.drop(columns=[\"binaryClass\"])\n",
    "y = df.binaryClass"
   ]
  },
  {
   "cell_type": "code",
   "execution_count": 50,
   "id": "ae49ee82",
   "metadata": {},
   "outputs": [
    {
     "data": {
      "application/javascript": [
       "\n",
       "            setTimeout(function() {\n",
       "                var nbb_cell_id = 50;\n",
       "                var nbb_unformatted_code = \"from sklearn.preprocessing import StandardScaler\";\n",
       "                var nbb_formatted_code = \"from sklearn.preprocessing import StandardScaler\";\n",
       "                var nbb_cells = Jupyter.notebook.get_cells();\n",
       "                for (var i = 0; i < nbb_cells.length; ++i) {\n",
       "                    if (nbb_cells[i].input_prompt_number == nbb_cell_id) {\n",
       "                        if (nbb_cells[i].get_text() == nbb_unformatted_code) {\n",
       "                             nbb_cells[i].set_text(nbb_formatted_code);\n",
       "                        }\n",
       "                        break;\n",
       "                    }\n",
       "                }\n",
       "            }, 500);\n",
       "            "
      ],
      "text/plain": [
       "<IPython.core.display.Javascript object>"
      ]
     },
     "metadata": {},
     "output_type": "display_data"
    }
   ],
   "source": [
    "from sklearn.preprocessing import StandardScaler"
   ]
  },
  {
   "cell_type": "code",
   "execution_count": 51,
   "id": "06923538",
   "metadata": {},
   "outputs": [
    {
     "data": {
      "application/javascript": [
       "\n",
       "            setTimeout(function() {\n",
       "                var nbb_cell_id = 51;\n",
       "                var nbb_unformatted_code = \"X = StandardScaler().fit_transform(X1)\\nX = pd.DataFrame(X, columns=X1.columns)\";\n",
       "                var nbb_formatted_code = \"X = StandardScaler().fit_transform(X1)\\nX = pd.DataFrame(X, columns=X1.columns)\";\n",
       "                var nbb_cells = Jupyter.notebook.get_cells();\n",
       "                for (var i = 0; i < nbb_cells.length; ++i) {\n",
       "                    if (nbb_cells[i].input_prompt_number == nbb_cell_id) {\n",
       "                        if (nbb_cells[i].get_text() == nbb_unformatted_code) {\n",
       "                             nbb_cells[i].set_text(nbb_formatted_code);\n",
       "                        }\n",
       "                        break;\n",
       "                    }\n",
       "                }\n",
       "            }, 500);\n",
       "            "
      ],
      "text/plain": [
       "<IPython.core.display.Javascript object>"
      ]
     },
     "metadata": {},
     "output_type": "display_data"
    }
   ],
   "source": [
    "X = StandardScaler().fit_transform(X1)\n",
    "X = pd.DataFrame(X, columns=X1.columns)"
   ]
  },
  {
   "cell_type": "markdown",
   "id": "38cc4bc1",
   "metadata": {},
   "source": [
    "### Chia tập train và test"
   ]
  },
  {
   "cell_type": "code",
   "execution_count": 52,
   "id": "7f3fc021",
   "metadata": {},
   "outputs": [
    {
     "data": {
      "application/javascript": [
       "\n",
       "            setTimeout(function() {\n",
       "                var nbb_cell_id = 52;\n",
       "                var nbb_unformatted_code = \"# generate random integer values\\nfrom random import seed\\nfrom random import randint\\nfrom statistics import mean\";\n",
       "                var nbb_formatted_code = \"# generate random integer values\\nfrom random import seed\\nfrom random import randint\\nfrom statistics import mean\";\n",
       "                var nbb_cells = Jupyter.notebook.get_cells();\n",
       "                for (var i = 0; i < nbb_cells.length; ++i) {\n",
       "                    if (nbb_cells[i].input_prompt_number == nbb_cell_id) {\n",
       "                        if (nbb_cells[i].get_text() == nbb_unformatted_code) {\n",
       "                             nbb_cells[i].set_text(nbb_formatted_code);\n",
       "                        }\n",
       "                        break;\n",
       "                    }\n",
       "                }\n",
       "            }, 500);\n",
       "            "
      ],
      "text/plain": [
       "<IPython.core.display.Javascript object>"
      ]
     },
     "metadata": {},
     "output_type": "display_data"
    }
   ],
   "source": [
    "# generate random integer values\n",
    "from random import seed\n",
    "from random import randint\n",
    "from statistics import mean"
   ]
  },
  {
   "cell_type": "code",
   "execution_count": 53,
   "id": "35c07781",
   "metadata": {},
   "outputs": [
    {
     "data": {
      "text/plain": [
       "'\\nTa chọn [ 0.8 : 0.2 ],\\nThật vậy, vì dataset chỉ có 337 records thì tỉ lệ này khá ổn .\\n'"
      ]
     },
     "execution_count": 53,
     "metadata": {},
     "output_type": "execute_result"
    },
    {
     "data": {
      "application/javascript": [
       "\n",
       "            setTimeout(function() {\n",
       "                var nbb_cell_id = 53;\n",
       "                var nbb_unformatted_code = \"\\\"\\\"\\\"\\nTa ch\\u1ecdn [ 0.8 : 0.2 ],\\nTh\\u1eadt v\\u1eady, v\\u00ec dataset ch\\u1ec9 c\\u00f3 337 records th\\u00ec t\\u1ec9 l\\u1ec7 n\\u00e0y kh\\u00e1 \\u1ed5n .\\n\\\"\\\"\\\"\";\n",
       "                var nbb_formatted_code = \"\\\"\\\"\\\"\\nTa ch\\u1ecdn [ 0.8 : 0.2 ],\\nTh\\u1eadt v\\u1eady, v\\u00ec dataset ch\\u1ec9 c\\u00f3 337 records th\\u00ec t\\u1ec9 l\\u1ec7 n\\u00e0y kh\\u00e1 \\u1ed5n .\\n\\\"\\\"\\\"\";\n",
       "                var nbb_cells = Jupyter.notebook.get_cells();\n",
       "                for (var i = 0; i < nbb_cells.length; ++i) {\n",
       "                    if (nbb_cells[i].input_prompt_number == nbb_cell_id) {\n",
       "                        if (nbb_cells[i].get_text() == nbb_unformatted_code) {\n",
       "                             nbb_cells[i].set_text(nbb_formatted_code);\n",
       "                        }\n",
       "                        break;\n",
       "                    }\n",
       "                }\n",
       "            }, 500);\n",
       "            "
      ],
      "text/plain": [
       "<IPython.core.display.Javascript object>"
      ]
     },
     "metadata": {},
     "output_type": "display_data"
    }
   ],
   "source": [
    "\"\"\"\n",
    "Ta chọn [ 0.8 : 0.2 ],\n",
    "Thật vậy, vì dataset chỉ có 337 records thì tỉ lệ này khá ổn .\n",
    "\"\"\""
   ]
  },
  {
   "cell_type": "code",
   "execution_count": 54,
   "id": "5bcaefe1",
   "metadata": {},
   "outputs": [
    {
     "data": {
      "application/javascript": [
       "\n",
       "            setTimeout(function() {\n",
       "                var nbb_cell_id = 54;\n",
       "                var nbb_unformatted_code = \"X_train, X_test, y_train, y_test = train_test_split(\\n    X, y, test_size=0.2, random_state=42\\n)\";\n",
       "                var nbb_formatted_code = \"X_train, X_test, y_train, y_test = train_test_split(\\n    X, y, test_size=0.2, random_state=42\\n)\";\n",
       "                var nbb_cells = Jupyter.notebook.get_cells();\n",
       "                for (var i = 0; i < nbb_cells.length; ++i) {\n",
       "                    if (nbb_cells[i].input_prompt_number == nbb_cell_id) {\n",
       "                        if (nbb_cells[i].get_text() == nbb_unformatted_code) {\n",
       "                             nbb_cells[i].set_text(nbb_formatted_code);\n",
       "                        }\n",
       "                        break;\n",
       "                    }\n",
       "                }\n",
       "            }, 500);\n",
       "            "
      ],
      "text/plain": [
       "<IPython.core.display.Javascript object>"
      ]
     },
     "metadata": {},
     "output_type": "display_data"
    }
   ],
   "source": [
    "X_train, X_test, y_train, y_test = train_test_split(\n",
    "    X, y, test_size=0.2, random_state=42\n",
    ")"
   ]
  },
  {
   "cell_type": "markdown",
   "id": "c6305791",
   "metadata": {},
   "source": [
    "## Áp dụng thuật toán machine learning\n",
    "#### Vì là classification, ta sẽ xét các thuật toán sau\n",
    "- Logistic Regression\n",
    "- KNN\n",
    "- Decision Tree\n",
    "- Random Forest\n",
    "- Suport Vector Machine SVM (SVC)\n",
    "- XGBoost"
   ]
  },
  {
   "cell_type": "code",
   "execution_count": 55,
   "id": "98a9b539",
   "metadata": {},
   "outputs": [
    {
     "data": {
      "application/javascript": [
       "\n",
       "            setTimeout(function() {\n",
       "                var nbb_cell_id = 55;\n",
       "                var nbb_unformatted_code = \"from sklearn.metrics import confusion_matrix, accuracy_score, classification_report\\n\\n# h\\u00e0m \\u0111\\u00e1nh gi\\u00e1\\ndef evaluate(model, X_train, X_test, y_train, y_test):\\n    yhat_test = model.predict(X_test)\\n    yhat_train = model.predict(X_train)\\n\\n    print(\\\"***TRAINIG RESULTS***: \\\\n==================================================\\\")\\n    clf_report = pd.DataFrame(\\n        classification_report(y_train, yhat_train, output_dict=True)\\n    )\\n    print(\\\"Confusion matrix: \\\\n\\\", confusion_matrix(y_train, yhat_train))\\n    print(\\\"Train Accuracy Score:\\\", accuracy_score(y_train, yhat_train))\\n    print(\\\"Classification Report: \\\\n\\\", classification_report(y_train, yhat_train))\\n\\n    print(\\\"***TEST RESULTS***: \\\\n===================================================\\\")\\n    print(\\\"Test Accuracy:\\\", accuracy_score(y_test, yhat_test))\\n    clf_report = pd.DataFrame(\\n        classification_report(y_test, yhat_test, output_dict=True)\\n    )\\n    print(\\\"Confusion matrix: \\\\n\\\", confusion_matrix(y_test, yhat_test))\\n    print(\\\"Test Accuracy Score:\\\", accuracy_score(y_test, yhat_test))\\n    print(\\\"Classification Report: \\\\n\\\", classification_report(y_test, yhat_test))\";\n",
       "                var nbb_formatted_code = \"from sklearn.metrics import confusion_matrix, accuracy_score, classification_report\\n\\n# h\\u00e0m \\u0111\\u00e1nh gi\\u00e1\\ndef evaluate(model, X_train, X_test, y_train, y_test):\\n    yhat_test = model.predict(X_test)\\n    yhat_train = model.predict(X_train)\\n\\n    print(\\\"***TRAINIG RESULTS***: \\\\n==================================================\\\")\\n    clf_report = pd.DataFrame(\\n        classification_report(y_train, yhat_train, output_dict=True)\\n    )\\n    print(\\\"Confusion matrix: \\\\n\\\", confusion_matrix(y_train, yhat_train))\\n    print(\\\"Train Accuracy Score:\\\", accuracy_score(y_train, yhat_train))\\n    print(\\\"Classification Report: \\\\n\\\", classification_report(y_train, yhat_train))\\n\\n    print(\\\"***TEST RESULTS***: \\\\n===================================================\\\")\\n    print(\\\"Test Accuracy:\\\", accuracy_score(y_test, yhat_test))\\n    clf_report = pd.DataFrame(\\n        classification_report(y_test, yhat_test, output_dict=True)\\n    )\\n    print(\\\"Confusion matrix: \\\\n\\\", confusion_matrix(y_test, yhat_test))\\n    print(\\\"Test Accuracy Score:\\\", accuracy_score(y_test, yhat_test))\\n    print(\\\"Classification Report: \\\\n\\\", classification_report(y_test, yhat_test))\";\n",
       "                var nbb_cells = Jupyter.notebook.get_cells();\n",
       "                for (var i = 0; i < nbb_cells.length; ++i) {\n",
       "                    if (nbb_cells[i].input_prompt_number == nbb_cell_id) {\n",
       "                        if (nbb_cells[i].get_text() == nbb_unformatted_code) {\n",
       "                             nbb_cells[i].set_text(nbb_formatted_code);\n",
       "                        }\n",
       "                        break;\n",
       "                    }\n",
       "                }\n",
       "            }, 500);\n",
       "            "
      ],
      "text/plain": [
       "<IPython.core.display.Javascript object>"
      ]
     },
     "metadata": {},
     "output_type": "display_data"
    }
   ],
   "source": [
    "from sklearn.metrics import confusion_matrix, accuracy_score, classification_report\n",
    "\n",
    "# hàm đánh giá\n",
    "def evaluate(model, X_train, X_test, y_train, y_test):\n",
    "    yhat_test = model.predict(X_test)\n",
    "    yhat_train = model.predict(X_train)\n",
    "\n",
    "    print(\"***TRAINIG RESULTS***: \\n==================================================\")\n",
    "    clf_report = pd.DataFrame(\n",
    "        classification_report(y_train, yhat_train, output_dict=True)\n",
    "    )\n",
    "    print(\"Confusion matrix: \\n\", confusion_matrix(y_train, yhat_train))\n",
    "    print(\"Train Accuracy Score:\", accuracy_score(y_train, yhat_train))\n",
    "    print(\"Classification Report: \\n\", classification_report(y_train, yhat_train))\n",
    "\n",
    "    print(\"***TEST RESULTS***: \\n===================================================\")\n",
    "    print(\"Test Accuracy:\", accuracy_score(y_test, yhat_test))\n",
    "    clf_report = pd.DataFrame(\n",
    "        classification_report(y_test, yhat_test, output_dict=True)\n",
    "    )\n",
    "    print(\"Confusion matrix: \\n\", confusion_matrix(y_test, yhat_test))\n",
    "    print(\"Test Accuracy Score:\", accuracy_score(y_test, yhat_test))\n",
    "    print(\"Classification Report: \\n\", classification_report(y_test, yhat_test))"
   ]
  },
  {
   "cell_type": "code",
   "execution_count": 60,
   "id": "1f954c0c",
   "metadata": {},
   "outputs": [
    {
     "data": {
      "application/javascript": [
       "\n",
       "            setTimeout(function() {\n",
       "                var nbb_cell_id = 60;\n",
       "                var nbb_unformatted_code = \"models = [\\n    svm.SVC(kernel=\\\"linear\\\"),\\n    LogisticRegression(),\\n    KNeighborsClassifier(n_neighbors=5),\\n    DecisionTreeClassifier(),\\n    RandomForestClassifier(n_estimators=100),\\n]\\nCV = 10\\ncv_df = pd.DataFrame(index=range(CV * len(models)))\\ncv_entries = []\\n\\nfor model in models:\\n    start = time.time()\\n    model_name = model.__class__.__name__\\n    model1 = model.fit(X_train, y_train)\\n    y_pred = model1.predict(X_test)\\n    accuracies = accuracy_score(y_test, y_pred)\\n    end = time.time()\\n    cv_entries.append([model_name, accuracies.mean(), abs(end - start)])\\n\\ncv_df1 = pd.DataFrame(cv_entries, columns=[\\\"model_name\\\", \\\"accuracy\\\", \\\"run_time\\\"])\";\n",
       "                var nbb_formatted_code = \"models = [\\n    svm.SVC(kernel=\\\"linear\\\"),\\n    LogisticRegression(),\\n    KNeighborsClassifier(n_neighbors=5),\\n    DecisionTreeClassifier(),\\n    RandomForestClassifier(n_estimators=100),\\n]\\nCV = 10\\ncv_df = pd.DataFrame(index=range(CV * len(models)))\\ncv_entries = []\\n\\nfor model in models:\\n    start = time.time()\\n    model_name = model.__class__.__name__\\n    model1 = model.fit(X_train, y_train)\\n    y_pred = model1.predict(X_test)\\n    accuracies = accuracy_score(y_test, y_pred)\\n    end = time.time()\\n    cv_entries.append([model_name, accuracies.mean(), abs(end - start)])\\n\\ncv_df1 = pd.DataFrame(cv_entries, columns=[\\\"model_name\\\", \\\"accuracy\\\", \\\"run_time\\\"])\";\n",
       "                var nbb_cells = Jupyter.notebook.get_cells();\n",
       "                for (var i = 0; i < nbb_cells.length; ++i) {\n",
       "                    if (nbb_cells[i].input_prompt_number == nbb_cell_id) {\n",
       "                        if (nbb_cells[i].get_text() == nbb_unformatted_code) {\n",
       "                             nbb_cells[i].set_text(nbb_formatted_code);\n",
       "                        }\n",
       "                        break;\n",
       "                    }\n",
       "                }\n",
       "            }, 500);\n",
       "            "
      ],
      "text/plain": [
       "<IPython.core.display.Javascript object>"
      ]
     },
     "metadata": {},
     "output_type": "display_data"
    }
   ],
   "source": [
    "# tổng quan các model\n",
    "\n",
    "models = [\n",
    "    svm.SVC(kernel=\"linear\"),\n",
    "    LogisticRegression(),\n",
    "    KNeighborsClassifier(n_neighbors=5),\n",
    "    DecisionTreeClassifier(),\n",
    "    RandomForestClassifier(n_estimators=100),\n",
    "]\n",
    "CV = 10\n",
    "cv_df = pd.DataFrame(index=range(CV * len(models)))\n",
    "cv_entries = []\n",
    "\n",
    "for model in models:\n",
    "    start = time.time()\n",
    "    model_name = model.__class__.__name__\n",
    "    model1 = model.fit(X_train, y_train)\n",
    "    y_pred = model1.predict(X_test)\n",
    "    accuracies = accuracy_score(y_test, y_pred)\n",
    "    end = time.time()\n",
    "    cv_entries.append([model_name, accuracies.mean(), abs(end - start)])\n",
    "\n",
    "cv_df1 = pd.DataFrame(cv_entries, columns=[\"model_name\", \"accuracy\", \"run_time\"])"
   ]
  },
  {
   "cell_type": "code",
   "execution_count": 61,
   "id": "fd337293",
   "metadata": {},
   "outputs": [
    {
     "data": {
      "text/html": [
       "<div>\n",
       "<style scoped>\n",
       "    .dataframe tbody tr th:only-of-type {\n",
       "        vertical-align: middle;\n",
       "    }\n",
       "\n",
       "    .dataframe tbody tr th {\n",
       "        vertical-align: top;\n",
       "    }\n",
       "\n",
       "    .dataframe thead th {\n",
       "        text-align: right;\n",
       "    }\n",
       "</style>\n",
       "<table border=\"1\" class=\"dataframe\">\n",
       "  <thead>\n",
       "    <tr style=\"text-align: right;\">\n",
       "      <th></th>\n",
       "      <th>model_name</th>\n",
       "      <th>accuracy</th>\n",
       "      <th>run_time</th>\n",
       "    </tr>\n",
       "  </thead>\n",
       "  <tbody>\n",
       "    <tr>\n",
       "      <th>0</th>\n",
       "      <td>SVC</td>\n",
       "      <td>0.941176</td>\n",
       "      <td>0.004987</td>\n",
       "    </tr>\n",
       "    <tr>\n",
       "      <th>1</th>\n",
       "      <td>LogisticRegression</td>\n",
       "      <td>0.941176</td>\n",
       "      <td>0.006981</td>\n",
       "    </tr>\n",
       "    <tr>\n",
       "      <th>2</th>\n",
       "      <td>KNeighborsClassifier</td>\n",
       "      <td>0.955882</td>\n",
       "      <td>0.005985</td>\n",
       "    </tr>\n",
       "    <tr>\n",
       "      <th>3</th>\n",
       "      <td>DecisionTreeClassifier</td>\n",
       "      <td>0.926471</td>\n",
       "      <td>0.002992</td>\n",
       "    </tr>\n",
       "    <tr>\n",
       "      <th>4</th>\n",
       "      <td>RandomForestClassifier</td>\n",
       "      <td>0.941176</td>\n",
       "      <td>0.112698</td>\n",
       "    </tr>\n",
       "  </tbody>\n",
       "</table>\n",
       "</div>"
      ],
      "text/plain": [
       "               model_name  accuracy  run_time\n",
       "0                     SVC  0.941176  0.004987\n",
       "1      LogisticRegression  0.941176  0.006981\n",
       "2    KNeighborsClassifier  0.955882  0.005985\n",
       "3  DecisionTreeClassifier  0.926471  0.002992\n",
       "4  RandomForestClassifier  0.941176  0.112698"
      ]
     },
     "execution_count": 61,
     "metadata": {},
     "output_type": "execute_result"
    },
    {
     "data": {
      "application/javascript": [
       "\n",
       "            setTimeout(function() {\n",
       "                var nbb_cell_id = 61;\n",
       "                var nbb_unformatted_code = \"cv_df1\";\n",
       "                var nbb_formatted_code = \"cv_df1\";\n",
       "                var nbb_cells = Jupyter.notebook.get_cells();\n",
       "                for (var i = 0; i < nbb_cells.length; ++i) {\n",
       "                    if (nbb_cells[i].input_prompt_number == nbb_cell_id) {\n",
       "                        if (nbb_cells[i].get_text() == nbb_unformatted_code) {\n",
       "                             nbb_cells[i].set_text(nbb_formatted_code);\n",
       "                        }\n",
       "                        break;\n",
       "                    }\n",
       "                }\n",
       "            }, 500);\n",
       "            "
      ],
      "text/plain": [
       "<IPython.core.display.Javascript object>"
      ]
     },
     "metadata": {},
     "output_type": "display_data"
    }
   ],
   "source": [
    "cv_df1"
   ]
  },
  {
   "cell_type": "code",
   "execution_count": 145,
   "id": "25492277",
   "metadata": {},
   "outputs": [
    {
     "data": {
      "text/plain": [
       "'\\nSau khi nhìn nhận tổng quan, ta xây dựng các model để kiểm chứng cũng như là tìm ra model tốt nhất có thể để sử dụng\\n'"
      ]
     },
     "execution_count": 145,
     "metadata": {},
     "output_type": "execute_result"
    },
    {
     "data": {
      "application/javascript": [
       "\n",
       "            setTimeout(function() {\n",
       "                var nbb_cell_id = 145;\n",
       "                var nbb_unformatted_code = \"\\\"\\\"\\\"\\nSau khi nh\\u00ecn nh\\u1eadn t\\u1ed5ng quan, ta x\\u00e2y d\\u1ef1ng c\\u00e1c model \\u0111\\u1ec3 ki\\u1ec3m ch\\u1ee9ng c\\u0169ng nh\\u01b0 l\\u00e0 t\\u00ecm ra model t\\u1ed1t nh\\u1ea5t c\\u00f3 th\\u1ec3 \\u0111\\u1ec3 s\\u1eed d\\u1ee5ng\\n\\\"\\\"\\\"\";\n",
       "                var nbb_formatted_code = \"\\\"\\\"\\\"\\nSau khi nh\\u00ecn nh\\u1eadn t\\u1ed5ng quan, ta x\\u00e2y d\\u1ef1ng c\\u00e1c model \\u0111\\u1ec3 ki\\u1ec3m ch\\u1ee9ng c\\u0169ng nh\\u01b0 l\\u00e0 t\\u00ecm ra model t\\u1ed1t nh\\u1ea5t c\\u00f3 th\\u1ec3 \\u0111\\u1ec3 s\\u1eed d\\u1ee5ng\\n\\\"\\\"\\\"\";\n",
       "                var nbb_cells = Jupyter.notebook.get_cells();\n",
       "                for (var i = 0; i < nbb_cells.length; ++i) {\n",
       "                    if (nbb_cells[i].input_prompt_number == nbb_cell_id) {\n",
       "                        if (nbb_cells[i].get_text() == nbb_unformatted_code) {\n",
       "                             nbb_cells[i].set_text(nbb_formatted_code);\n",
       "                        }\n",
       "                        break;\n",
       "                    }\n",
       "                }\n",
       "            }, 500);\n",
       "            "
      ],
      "text/plain": [
       "<IPython.core.display.Javascript object>"
      ]
     },
     "metadata": {},
     "output_type": "display_data"
    }
   ],
   "source": [
    "\"\"\"\n",
    "Sau khi nhìn nhận tổng quan, ta xây dựng các model để kiểm chứng cũng như là tìm ra model tốt nhất có thể để sử dụng\n",
    "\"\"\""
   ]
  },
  {
   "cell_type": "markdown",
   "id": "6d5e2bff",
   "metadata": {},
   "source": [
    "### Logistic Regression"
   ]
  },
  {
   "cell_type": "code",
   "execution_count": 75,
   "id": "2c312abb",
   "metadata": {},
   "outputs": [
    {
     "data": {
      "application/javascript": [
       "\n",
       "            setTimeout(function() {\n",
       "                var nbb_cell_id = 75;\n",
       "                var nbb_unformatted_code = \"from sklearn import model_selection\\nfrom sklearn.model_selection import KFold\\nfrom sklearn.model_selection import cross_val_score\";\n",
       "                var nbb_formatted_code = \"from sklearn import model_selection\\nfrom sklearn.model_selection import KFold\\nfrom sklearn.model_selection import cross_val_score\";\n",
       "                var nbb_cells = Jupyter.notebook.get_cells();\n",
       "                for (var i = 0; i < nbb_cells.length; ++i) {\n",
       "                    if (nbb_cells[i].input_prompt_number == nbb_cell_id) {\n",
       "                        if (nbb_cells[i].get_text() == nbb_unformatted_code) {\n",
       "                             nbb_cells[i].set_text(nbb_formatted_code);\n",
       "                        }\n",
       "                        break;\n",
       "                    }\n",
       "                }\n",
       "            }, 500);\n",
       "            "
      ],
      "text/plain": [
       "<IPython.core.display.Javascript object>"
      ]
     },
     "metadata": {},
     "output_type": "display_data"
    }
   ],
   "source": [
    "from sklearn import model_selection\n",
    "from sklearn.model_selection import KFold\n",
    "from sklearn.model_selection import cross_val_score"
   ]
  },
  {
   "cell_type": "code",
   "execution_count": 76,
   "id": "bb31b393",
   "metadata": {},
   "outputs": [
    {
     "name": "stdout",
     "output_type": "stream",
     "text": [
      "Accuracy: 94.06% - std: 4.37%\n"
     ]
    },
    {
     "data": {
      "application/javascript": [
       "\n",
       "            setTimeout(function() {\n",
       "                var nbb_cell_id = 76;\n",
       "                var nbb_unformatted_code = \"model_k = LogisticRegression()\\nkfold = KFold(n_splits=10)\\nresults = cross_val_score(model_k, X, y, cv=kfold)\\nprint(\\\"Accuracy: %.2f%% - std: %.2f%%\\\" % (results.mean() * 100, results.std() * 100))\";\n",
       "                var nbb_formatted_code = \"model_k = LogisticRegression()\\nkfold = KFold(n_splits=10)\\nresults = cross_val_score(model_k, X, y, cv=kfold)\\nprint(\\\"Accuracy: %.2f%% - std: %.2f%%\\\" % (results.mean() * 100, results.std() * 100))\";\n",
       "                var nbb_cells = Jupyter.notebook.get_cells();\n",
       "                for (var i = 0; i < nbb_cells.length; ++i) {\n",
       "                    if (nbb_cells[i].input_prompt_number == nbb_cell_id) {\n",
       "                        if (nbb_cells[i].get_text() == nbb_unformatted_code) {\n",
       "                             nbb_cells[i].set_text(nbb_formatted_code);\n",
       "                        }\n",
       "                        break;\n",
       "                    }\n",
       "                }\n",
       "            }, 500);\n",
       "            "
      ],
      "text/plain": [
       "<IPython.core.display.Javascript object>"
      ]
     },
     "metadata": {},
     "output_type": "display_data"
    }
   ],
   "source": [
    "model_k = LogisticRegression()\n",
    "kfold = KFold(n_splits=10)\n",
    "results = cross_val_score(model_k, X, y, cv=kfold)\n",
    "print(\"Accuracy: %.2f%% - std: %.2f%%\" % (results.mean() * 100, results.std() * 100))"
   ]
  },
  {
   "cell_type": "code",
   "execution_count": 77,
   "id": "b343e613",
   "metadata": {
    "scrolled": true
   },
   "outputs": [
    {
     "data": {
      "text/plain": [
       "array([0.97058824, 0.88235294, 0.85294118, 1.        , 0.97058824,\n",
       "       0.94117647, 0.96969697, 0.96969697, 0.93939394, 0.90909091])"
      ]
     },
     "execution_count": 77,
     "metadata": {},
     "output_type": "execute_result"
    },
    {
     "data": {
      "application/javascript": [
       "\n",
       "            setTimeout(function() {\n",
       "                var nbb_cell_id = 77;\n",
       "                var nbb_unformatted_code = \"results\";\n",
       "                var nbb_formatted_code = \"results\";\n",
       "                var nbb_cells = Jupyter.notebook.get_cells();\n",
       "                for (var i = 0; i < nbb_cells.length; ++i) {\n",
       "                    if (nbb_cells[i].input_prompt_number == nbb_cell_id) {\n",
       "                        if (nbb_cells[i].get_text() == nbb_unformatted_code) {\n",
       "                             nbb_cells[i].set_text(nbb_formatted_code);\n",
       "                        }\n",
       "                        break;\n",
       "                    }\n",
       "                }\n",
       "            }, 500);\n",
       "            "
      ],
      "text/plain": [
       "<IPython.core.display.Javascript object>"
      ]
     },
     "metadata": {},
     "output_type": "display_data"
    }
   ],
   "source": [
    "results"
   ]
  },
  {
   "cell_type": "markdown",
   "id": "79504179",
   "metadata": {},
   "source": [
    "### <p style=\"color:blue\">Nhận xét</p>"
   ]
  },
  {
   "cell_type": "code",
   "execution_count": 78,
   "id": "dd8ac0fd",
   "metadata": {},
   "outputs": [
    {
     "data": {
      "text/plain": [
       "'\\nVới kết quả trên, ta nhận thấy model có tính ổn định tốt.\\n=> có thể chọn model\\n'"
      ]
     },
     "execution_count": 78,
     "metadata": {},
     "output_type": "execute_result"
    },
    {
     "data": {
      "application/javascript": [
       "\n",
       "            setTimeout(function() {\n",
       "                var nbb_cell_id = 78;\n",
       "                var nbb_unformatted_code = \"\\\"\\\"\\\"\\nV\\u1edbi k\\u1ebft qu\\u1ea3 tr\\u00ean, ta nh\\u1eadn th\\u1ea5y model c\\u00f3 t\\u00ednh \\u1ed5n \\u0111\\u1ecbnh t\\u1ed1t.\\n=> c\\u00f3 th\\u1ec3 ch\\u1ecdn model\\n\\\"\\\"\\\"\";\n",
       "                var nbb_formatted_code = \"\\\"\\\"\\\"\\nV\\u1edbi k\\u1ebft qu\\u1ea3 tr\\u00ean, ta nh\\u1eadn th\\u1ea5y model c\\u00f3 t\\u00ednh \\u1ed5n \\u0111\\u1ecbnh t\\u1ed1t.\\n=> c\\u00f3 th\\u1ec3 ch\\u1ecdn model\\n\\\"\\\"\\\"\";\n",
       "                var nbb_cells = Jupyter.notebook.get_cells();\n",
       "                for (var i = 0; i < nbb_cells.length; ++i) {\n",
       "                    if (nbb_cells[i].input_prompt_number == nbb_cell_id) {\n",
       "                        if (nbb_cells[i].get_text() == nbb_unformatted_code) {\n",
       "                             nbb_cells[i].set_text(nbb_formatted_code);\n",
       "                        }\n",
       "                        break;\n",
       "                    }\n",
       "                }\n",
       "            }, 500);\n",
       "            "
      ],
      "text/plain": [
       "<IPython.core.display.Javascript object>"
      ]
     },
     "metadata": {},
     "output_type": "display_data"
    }
   ],
   "source": [
    "\"\"\"\n",
    "Với kết quả trên, ta nhận thấy model có tính ổn định tốt.\n",
    "=> có thể chọn model\n",
    "\"\"\""
   ]
  },
  {
   "cell_type": "markdown",
   "id": "29064aa1",
   "metadata": {},
   "source": [
    "#### Grid Search "
   ]
  },
  {
   "cell_type": "code",
   "execution_count": 79,
   "id": "40d571c0",
   "metadata": {},
   "outputs": [
    {
     "data": {
      "application/javascript": [
       "\n",
       "            setTimeout(function() {\n",
       "                var nbb_cell_id = 79;\n",
       "                var nbb_unformatted_code = \"from sklearn.model_selection import GridSearchCV\";\n",
       "                var nbb_formatted_code = \"from sklearn.model_selection import GridSearchCV\";\n",
       "                var nbb_cells = Jupyter.notebook.get_cells();\n",
       "                for (var i = 0; i < nbb_cells.length; ++i) {\n",
       "                    if (nbb_cells[i].input_prompt_number == nbb_cell_id) {\n",
       "                        if (nbb_cells[i].get_text() == nbb_unformatted_code) {\n",
       "                             nbb_cells[i].set_text(nbb_formatted_code);\n",
       "                        }\n",
       "                        break;\n",
       "                    }\n",
       "                }\n",
       "            }, 500);\n",
       "            "
      ],
      "text/plain": [
       "<IPython.core.display.Javascript object>"
      ]
     },
     "metadata": {},
     "output_type": "display_data"
    }
   ],
   "source": [
    "from sklearn.model_selection import GridSearchCV"
   ]
  },
  {
   "cell_type": "code",
   "execution_count": 80,
   "id": "8022da6b",
   "metadata": {},
   "outputs": [
    {
     "data": {
      "application/javascript": [
       "\n",
       "            setTimeout(function() {\n",
       "                var nbb_cell_id = 80;\n",
       "                var nbb_unformatted_code = \"param_grid = {\\\"penalty\\\": [\\\"l1\\\", \\\"l2\\\"], \\\"C\\\": [0.001, 0.009, 0.01, 0.09, 1, 5, 10, 25]}\";\n",
       "                var nbb_formatted_code = \"param_grid = {\\\"penalty\\\": [\\\"l1\\\", \\\"l2\\\"], \\\"C\\\": [0.001, 0.009, 0.01, 0.09, 1, 5, 10, 25]}\";\n",
       "                var nbb_cells = Jupyter.notebook.get_cells();\n",
       "                for (var i = 0; i < nbb_cells.length; ++i) {\n",
       "                    if (nbb_cells[i].input_prompt_number == nbb_cell_id) {\n",
       "                        if (nbb_cells[i].get_text() == nbb_unformatted_code) {\n",
       "                             nbb_cells[i].set_text(nbb_formatted_code);\n",
       "                        }\n",
       "                        break;\n",
       "                    }\n",
       "                }\n",
       "            }, 500);\n",
       "            "
      ],
      "text/plain": [
       "<IPython.core.display.Javascript object>"
      ]
     },
     "metadata": {},
     "output_type": "display_data"
    }
   ],
   "source": [
    "param_grid = {\"penalty\": [\"l1\", \"l2\"], \"C\": [0.001, 0.009, 0.01, 0.09, 1, 5, 10, 25]}"
   ]
  },
  {
   "cell_type": "code",
   "execution_count": 81,
   "id": "fb48b6e3",
   "metadata": {},
   "outputs": [
    {
     "name": "stdout",
     "output_type": "stream",
     "text": [
      "{'C': 10, 'penalty': 'l2'}\n",
      "run time:  0.26030421257019043\n"
     ]
    },
    {
     "data": {
      "application/javascript": [
       "\n",
       "            setTimeout(function() {\n",
       "                var nbb_cell_id = 81;\n",
       "                var nbb_unformatted_code = \"start = time.time()\\nlg_model = GridSearchCV(estimator=LogisticRegression(), param_grid=param_grid, cv=5)\\nlg_model.fit(X_train, y_train)\\nprint(lg_model.best_params_)\\nend = time.time()\\nprint(\\\"run time: \\\", end - start)\";\n",
       "                var nbb_formatted_code = \"start = time.time()\\nlg_model = GridSearchCV(estimator=LogisticRegression(), param_grid=param_grid, cv=5)\\nlg_model.fit(X_train, y_train)\\nprint(lg_model.best_params_)\\nend = time.time()\\nprint(\\\"run time: \\\", end - start)\";\n",
       "                var nbb_cells = Jupyter.notebook.get_cells();\n",
       "                for (var i = 0; i < nbb_cells.length; ++i) {\n",
       "                    if (nbb_cells[i].input_prompt_number == nbb_cell_id) {\n",
       "                        if (nbb_cells[i].get_text() == nbb_unformatted_code) {\n",
       "                             nbb_cells[i].set_text(nbb_formatted_code);\n",
       "                        }\n",
       "                        break;\n",
       "                    }\n",
       "                }\n",
       "            }, 500);\n",
       "            "
      ],
      "text/plain": [
       "<IPython.core.display.Javascript object>"
      ]
     },
     "metadata": {},
     "output_type": "display_data"
    }
   ],
   "source": [
    "start = time.time()\n",
    "lg_model = GridSearchCV(estimator=LogisticRegression(), param_grid=param_grid, cv=5)\n",
    "lg_model.fit(X_train, y_train)\n",
    "print(lg_model.best_params_)\n",
    "end = time.time()\n",
    "print(\"run time: \", end - start)"
   ]
  },
  {
   "cell_type": "code",
   "execution_count": 82,
   "id": "0fc68a76",
   "metadata": {},
   "outputs": [
    {
     "data": {
      "text/plain": [
       "\"\\nvậy, {'C': 10, 'penalty': 'l2'} là các tham số tốt nhất đối với logistic regression\\n\""
      ]
     },
     "execution_count": 82,
     "metadata": {},
     "output_type": "execute_result"
    },
    {
     "data": {
      "application/javascript": [
       "\n",
       "            setTimeout(function() {\n",
       "                var nbb_cell_id = 82;\n",
       "                var nbb_unformatted_code = \"\\\"\\\"\\\"\\nv\\u1eady, {'C': 10, 'penalty': 'l2'} l\\u00e0 c\\u00e1c tham s\\u1ed1 t\\u1ed1t nh\\u1ea5t \\u0111\\u1ed1i v\\u1edbi logistic regression\\n\\\"\\\"\\\"\";\n",
       "                var nbb_formatted_code = \"\\\"\\\"\\\"\\nv\\u1eady, {'C': 10, 'penalty': 'l2'} l\\u00e0 c\\u00e1c tham s\\u1ed1 t\\u1ed1t nh\\u1ea5t \\u0111\\u1ed1i v\\u1edbi logistic regression\\n\\\"\\\"\\\"\";\n",
       "                var nbb_cells = Jupyter.notebook.get_cells();\n",
       "                for (var i = 0; i < nbb_cells.length; ++i) {\n",
       "                    if (nbb_cells[i].input_prompt_number == nbb_cell_id) {\n",
       "                        if (nbb_cells[i].get_text() == nbb_unformatted_code) {\n",
       "                             nbb_cells[i].set_text(nbb_formatted_code);\n",
       "                        }\n",
       "                        break;\n",
       "                    }\n",
       "                }\n",
       "            }, 500);\n",
       "            "
      ],
      "text/plain": [
       "<IPython.core.display.Javascript object>"
      ]
     },
     "metadata": {},
     "output_type": "display_data"
    }
   ],
   "source": [
    "\"\"\"\n",
    "vậy, {'C': 10, 'penalty': 'l2'} là các tham số tốt nhất đối với logistic regression\n",
    "\"\"\""
   ]
  },
  {
   "cell_type": "code",
   "execution_count": 83,
   "id": "14f8cc28",
   "metadata": {},
   "outputs": [
    {
     "name": "stdout",
     "output_type": "stream",
     "text": [
      "***TRAINIG RESULTS***: \n",
      "==================================================\n",
      "Confusion matrix: \n",
      " [[155   2]\n",
      " [  3 108]]\n",
      "Train Accuracy Score: 0.9813432835820896\n",
      "Classification Report: \n",
      "               precision    recall  f1-score   support\n",
      "\n",
      "           N       0.98      0.99      0.98       157\n",
      "           P       0.98      0.97      0.98       111\n",
      "\n",
      "    accuracy                           0.98       268\n",
      "   macro avg       0.98      0.98      0.98       268\n",
      "weighted avg       0.98      0.98      0.98       268\n",
      "\n",
      "***TEST RESULTS***: \n",
      "===================================================\n",
      "Test Accuracy: 0.9264705882352942\n",
      "Confusion matrix: \n",
      " [[33  3]\n",
      " [ 2 30]]\n",
      "Test Accuracy Score: 0.9264705882352942\n",
      "Classification Report: \n",
      "               precision    recall  f1-score   support\n",
      "\n",
      "           N       0.94      0.92      0.93        36\n",
      "           P       0.91      0.94      0.92        32\n",
      "\n",
      "    accuracy                           0.93        68\n",
      "   macro avg       0.93      0.93      0.93        68\n",
      "weighted avg       0.93      0.93      0.93        68\n",
      "\n"
     ]
    },
    {
     "data": {
      "application/javascript": [
       "\n",
       "            setTimeout(function() {\n",
       "                var nbb_cell_id = 83;\n",
       "                var nbb_unformatted_code = \"evaluate(lg_model, X_train, X_test, y_train, y_test)\";\n",
       "                var nbb_formatted_code = \"evaluate(lg_model, X_train, X_test, y_train, y_test)\";\n",
       "                var nbb_cells = Jupyter.notebook.get_cells();\n",
       "                for (var i = 0; i < nbb_cells.length; ++i) {\n",
       "                    if (nbb_cells[i].input_prompt_number == nbb_cell_id) {\n",
       "                        if (nbb_cells[i].get_text() == nbb_unformatted_code) {\n",
       "                             nbb_cells[i].set_text(nbb_formatted_code);\n",
       "                        }\n",
       "                        break;\n",
       "                    }\n",
       "                }\n",
       "            }, 500);\n",
       "            "
      ],
      "text/plain": [
       "<IPython.core.display.Javascript object>"
      ]
     },
     "metadata": {},
     "output_type": "display_data"
    }
   ],
   "source": [
    "evaluate(lg_model, X_train, X_test, y_train, y_test)"
   ]
  },
  {
   "cell_type": "code",
   "execution_count": 88,
   "id": "b146c227",
   "metadata": {},
   "outputs": [
    {
     "data": {
      "text/plain": [
       "'\\nmodel có các điểm số cao:\\naccuracy, precision    recall  f1-score của cả train và test đều cao\\n=> model phù hợp với dataset\\n'"
      ]
     },
     "execution_count": 88,
     "metadata": {},
     "output_type": "execute_result"
    },
    {
     "data": {
      "application/javascript": [
       "\n",
       "            setTimeout(function() {\n",
       "                var nbb_cell_id = 88;\n",
       "                var nbb_unformatted_code = \"'''\\nmodel c\\u00f3 c\\u00e1c \\u0111i\\u1ec3m s\\u1ed1 cao:\\naccuracy, precision    recall  f1-score c\\u1ee7a c\\u1ea3 train v\\u00e0 test \\u0111\\u1ec1u cao\\n=> model ph\\u00f9 h\\u1ee3p v\\u1edbi dataset\\n'''\";\n",
       "                var nbb_formatted_code = \"\\\"\\\"\\\"\\nmodel c\\u00f3 c\\u00e1c \\u0111i\\u1ec3m s\\u1ed1 cao:\\naccuracy, precision    recall  f1-score c\\u1ee7a c\\u1ea3 train v\\u00e0 test \\u0111\\u1ec1u cao\\n=> model ph\\u00f9 h\\u1ee3p v\\u1edbi dataset\\n\\\"\\\"\\\"\";\n",
       "                var nbb_cells = Jupyter.notebook.get_cells();\n",
       "                for (var i = 0; i < nbb_cells.length; ++i) {\n",
       "                    if (nbb_cells[i].input_prompt_number == nbb_cell_id) {\n",
       "                        if (nbb_cells[i].get_text() == nbb_unformatted_code) {\n",
       "                             nbb_cells[i].set_text(nbb_formatted_code);\n",
       "                        }\n",
       "                        break;\n",
       "                    }\n",
       "                }\n",
       "            }, 500);\n",
       "            "
      ],
      "text/plain": [
       "<IPython.core.display.Javascript object>"
      ]
     },
     "metadata": {},
     "output_type": "display_data"
    }
   ],
   "source": [
    "\"\"\"\n",
    "model có các điểm số cao:\n",
    "accuracy, precision    recall  f1-score của cả train và test đều cao\n",
    "=> model phù hợp với dataset\n",
    "\"\"\""
   ]
  },
  {
   "cell_type": "code",
   "execution_count": 89,
   "id": "aaf0bc39",
   "metadata": {},
   "outputs": [
    {
     "data": {
      "text/html": [
       "<div>\n",
       "<style scoped>\n",
       "    .dataframe tbody tr th:only-of-type {\n",
       "        vertical-align: middle;\n",
       "    }\n",
       "\n",
       "    .dataframe tbody tr th {\n",
       "        vertical-align: top;\n",
       "    }\n",
       "\n",
       "    .dataframe thead th {\n",
       "        text-align: right;\n",
       "    }\n",
       "</style>\n",
       "<table border=\"1\" class=\"dataframe\">\n",
       "  <thead>\n",
       "    <tr style=\"text-align: right;\">\n",
       "      <th></th>\n",
       "      <th>features</th>\n",
       "      <th>score</th>\n",
       "    </tr>\n",
       "  </thead>\n",
       "  <tbody>\n",
       "    <tr>\n",
       "      <th>5</th>\n",
       "      <td>alm1</td>\n",
       "      <td>427.502274</td>\n",
       "    </tr>\n",
       "    <tr>\n",
       "      <th>0</th>\n",
       "      <td>mcg</td>\n",
       "      <td>192.377684</td>\n",
       "    </tr>\n",
       "    <tr>\n",
       "      <th>1</th>\n",
       "      <td>gvh</td>\n",
       "      <td>127.285943</td>\n",
       "    </tr>\n",
       "    <tr>\n",
       "      <th>6</th>\n",
       "      <td>alm2</td>\n",
       "      <td>75.822858</td>\n",
       "    </tr>\n",
       "    <tr>\n",
       "      <th>4</th>\n",
       "      <td>aac</td>\n",
       "      <td>38.342730</td>\n",
       "    </tr>\n",
       "    <tr>\n",
       "      <th>2</th>\n",
       "      <td>lip</td>\n",
       "      <td>7.767695</td>\n",
       "    </tr>\n",
       "    <tr>\n",
       "      <th>3</th>\n",
       "      <td>chg</td>\n",
       "      <td>0.740358</td>\n",
       "    </tr>\n",
       "  </tbody>\n",
       "</table>\n",
       "</div>"
      ],
      "text/plain": [
       "  features       score\n",
       "5     alm1  427.502274\n",
       "0      mcg  192.377684\n",
       "1      gvh  127.285943\n",
       "6     alm2   75.822858\n",
       "4      aac   38.342730\n",
       "2      lip    7.767695\n",
       "3      chg    0.740358"
      ]
     },
     "execution_count": 89,
     "metadata": {},
     "output_type": "execute_result"
    },
    {
     "data": {
      "application/javascript": [
       "\n",
       "            setTimeout(function() {\n",
       "                var nbb_cell_id = 89;\n",
       "                var nbb_unformatted_code = \"from sklearn.feature_selection import SelectKBest\\nfrom sklearn.feature_selection import f_classif\\n\\n## select k best\\nselect = SelectKBest(score_func=f_classif, k=\\\"all\\\")\\nfeature_score = select.fit(X, y)\\n\\ndf_scores = pd.DataFrame({\\\"features\\\": X.columns, \\\"score\\\": feature_score.scores_})\\ndf_scores.sort_values(by=\\\"score\\\", ascending=False)\";\n",
       "                var nbb_formatted_code = \"from sklearn.feature_selection import SelectKBest\\nfrom sklearn.feature_selection import f_classif\\n\\n## select k best\\nselect = SelectKBest(score_func=f_classif, k=\\\"all\\\")\\nfeature_score = select.fit(X, y)\\n\\ndf_scores = pd.DataFrame({\\\"features\\\": X.columns, \\\"score\\\": feature_score.scores_})\\ndf_scores.sort_values(by=\\\"score\\\", ascending=False)\";\n",
       "                var nbb_cells = Jupyter.notebook.get_cells();\n",
       "                for (var i = 0; i < nbb_cells.length; ++i) {\n",
       "                    if (nbb_cells[i].input_prompt_number == nbb_cell_id) {\n",
       "                        if (nbb_cells[i].get_text() == nbb_unformatted_code) {\n",
       "                             nbb_cells[i].set_text(nbb_formatted_code);\n",
       "                        }\n",
       "                        break;\n",
       "                    }\n",
       "                }\n",
       "            }, 500);\n",
       "            "
      ],
      "text/plain": [
       "<IPython.core.display.Javascript object>"
      ]
     },
     "metadata": {},
     "output_type": "display_data"
    }
   ],
   "source": [
    "from sklearn.feature_selection import SelectKBest\n",
    "from sklearn.feature_selection import f_classif\n",
    "\n",
    "## select k best\n",
    "select = SelectKBest(score_func=f_classif, k=\"all\")\n",
    "feature_score = select.fit(X, y)\n",
    "\n",
    "df_scores = pd.DataFrame({\"features\": X.columns, \"score\": feature_score.scores_})\n",
    "df_scores.sort_values(by=\"score\", ascending=False)"
   ]
  },
  {
   "cell_type": "code",
   "execution_count": 90,
   "id": "c4fe3e20",
   "metadata": {},
   "outputs": [
    {
     "data": {
      "text/plain": [
       "'\\n=> các features quan trọng: alm1, mcg, gvh, alm2, aac, lip\\n'"
      ]
     },
     "execution_count": 90,
     "metadata": {},
     "output_type": "execute_result"
    },
    {
     "data": {
      "application/javascript": [
       "\n",
       "            setTimeout(function() {\n",
       "                var nbb_cell_id = 90;\n",
       "                var nbb_unformatted_code = \"'''\\n=> c\\u00e1c features quan tr\\u1ecdng: alm1, mcg, gvh, alm2, aac, lip\\n'''\";\n",
       "                var nbb_formatted_code = \"\\\"\\\"\\\"\\n=> c\\u00e1c features quan tr\\u1ecdng: alm1, mcg, gvh, alm2, aac, lip\\n\\\"\\\"\\\"\";\n",
       "                var nbb_cells = Jupyter.notebook.get_cells();\n",
       "                for (var i = 0; i < nbb_cells.length; ++i) {\n",
       "                    if (nbb_cells[i].input_prompt_number == nbb_cell_id) {\n",
       "                        if (nbb_cells[i].get_text() == nbb_unformatted_code) {\n",
       "                             nbb_cells[i].set_text(nbb_formatted_code);\n",
       "                        }\n",
       "                        break;\n",
       "                    }\n",
       "                }\n",
       "            }, 500);\n",
       "            "
      ],
      "text/plain": [
       "<IPython.core.display.Javascript object>"
      ]
     },
     "metadata": {},
     "output_type": "display_data"
    }
   ],
   "source": [
    "'''\n",
    "=> các features quan trọng: alm1, mcg, gvh, alm2, aac, lip\n",
    "'''\n"
   ]
  },
  {
   "cell_type": "markdown",
   "id": "82c7cc3c",
   "metadata": {},
   "source": [
    "### Build thử model với các thuộc tính quan trọng\n",
    "- alm1, mcg, gvh, alm2, aac, lip"
   ]
  },
  {
   "cell_type": "code",
   "execution_count": 91,
   "id": "cfa0e370",
   "metadata": {},
   "outputs": [
    {
     "data": {
      "application/javascript": [
       "\n",
       "            setTimeout(function() {\n",
       "                var nbb_cell_id = 91;\n",
       "                var nbb_unformatted_code = \"X_new = df[[\\\"alm1\\\", \\\"mcg\\\", \\\"gvh\\\", \\\"alm2\\\", \\\"aac\\\", \\\"lip\\\"]]\";\n",
       "                var nbb_formatted_code = \"X_new = df[[\\\"alm1\\\", \\\"mcg\\\", \\\"gvh\\\", \\\"alm2\\\", \\\"aac\\\", \\\"lip\\\"]]\";\n",
       "                var nbb_cells = Jupyter.notebook.get_cells();\n",
       "                for (var i = 0; i < nbb_cells.length; ++i) {\n",
       "                    if (nbb_cells[i].input_prompt_number == nbb_cell_id) {\n",
       "                        if (nbb_cells[i].get_text() == nbb_unformatted_code) {\n",
       "                             nbb_cells[i].set_text(nbb_formatted_code);\n",
       "                        }\n",
       "                        break;\n",
       "                    }\n",
       "                }\n",
       "            }, 500);\n",
       "            "
      ],
      "text/plain": [
       "<IPython.core.display.Javascript object>"
      ]
     },
     "metadata": {},
     "output_type": "display_data"
    }
   ],
   "source": [
    "X_new = df[[\"alm1\", \"mcg\", \"gvh\", \"alm2\", \"aac\", \"lip\"]]"
   ]
  },
  {
   "cell_type": "code",
   "execution_count": 92,
   "id": "39805850",
   "metadata": {},
   "outputs": [
    {
     "data": {
      "application/javascript": [
       "\n",
       "            setTimeout(function() {\n",
       "                var nbb_cell_id = 92;\n",
       "                var nbb_unformatted_code = \"X_new_train, X_new_test, y_train, y_test = train_test_split(\\n    X_new, y, test_size=0.2, random_state=42\\n)\";\n",
       "                var nbb_formatted_code = \"X_new_train, X_new_test, y_train, y_test = train_test_split(\\n    X_new, y, test_size=0.2, random_state=42\\n)\";\n",
       "                var nbb_cells = Jupyter.notebook.get_cells();\n",
       "                for (var i = 0; i < nbb_cells.length; ++i) {\n",
       "                    if (nbb_cells[i].input_prompt_number == nbb_cell_id) {\n",
       "                        if (nbb_cells[i].get_text() == nbb_unformatted_code) {\n",
       "                             nbb_cells[i].set_text(nbb_formatted_code);\n",
       "                        }\n",
       "                        break;\n",
       "                    }\n",
       "                }\n",
       "            }, 500);\n",
       "            "
      ],
      "text/plain": [
       "<IPython.core.display.Javascript object>"
      ]
     },
     "metadata": {},
     "output_type": "display_data"
    }
   ],
   "source": [
    "X_new_train, X_new_test, y_train, y_test = train_test_split(\n",
    "    X_new, y, test_size=0.2, random_state=42\n",
    ")"
   ]
  },
  {
   "cell_type": "code",
   "execution_count": 93,
   "id": "67bf9cde",
   "metadata": {},
   "outputs": [
    {
     "name": "stdout",
     "output_type": "stream",
     "text": [
      "run time:  0.0069468021392822266\n"
     ]
    },
    {
     "data": {
      "application/javascript": [
       "\n",
       "            setTimeout(function() {\n",
       "                var nbb_cell_id = 93;\n",
       "                var nbb_unformatted_code = \"start = time.time()\\nmodel_lg2 = LogisticRegression(C=10, penalty=\\\"l2\\\").fit(X_new_train, y_train)\\nend = time.time()\\nrun_time = end - start\\nprint(\\\"run time: \\\", run_time)\";\n",
       "                var nbb_formatted_code = \"start = time.time()\\nmodel_lg2 = LogisticRegression(C=10, penalty=\\\"l2\\\").fit(X_new_train, y_train)\\nend = time.time()\\nrun_time = end - start\\nprint(\\\"run time: \\\", run_time)\";\n",
       "                var nbb_cells = Jupyter.notebook.get_cells();\n",
       "                for (var i = 0; i < nbb_cells.length; ++i) {\n",
       "                    if (nbb_cells[i].input_prompt_number == nbb_cell_id) {\n",
       "                        if (nbb_cells[i].get_text() == nbb_unformatted_code) {\n",
       "                             nbb_cells[i].set_text(nbb_formatted_code);\n",
       "                        }\n",
       "                        break;\n",
       "                    }\n",
       "                }\n",
       "            }, 500);\n",
       "            "
      ],
      "text/plain": [
       "<IPython.core.display.Javascript object>"
      ]
     },
     "metadata": {},
     "output_type": "display_data"
    }
   ],
   "source": [
    "start = time.time()\n",
    "model_lg2 = LogisticRegression(C=10, penalty=\"l2\").fit(X_new_train, y_train)\n",
    "end = time.time()\n",
    "run_time = end - start\n",
    "print(\"run time: \", run_time)"
   ]
  },
  {
   "cell_type": "code",
   "execution_count": 96,
   "id": "06e37cbe",
   "metadata": {},
   "outputs": [
    {
     "name": "stdout",
     "output_type": "stream",
     "text": [
      "***TRAINIG RESULTS***: \n",
      "==================================================\n",
      "Confusion matrix: \n",
      " [[153   4]\n",
      " [  5 106]]\n",
      "Train Accuracy Score: 0.9664179104477612\n",
      "Classification Report: \n",
      "               precision    recall  f1-score   support\n",
      "\n",
      "           N       0.97      0.97      0.97       157\n",
      "           P       0.96      0.95      0.96       111\n",
      "\n",
      "    accuracy                           0.97       268\n",
      "   macro avg       0.97      0.96      0.97       268\n",
      "weighted avg       0.97      0.97      0.97       268\n",
      "\n",
      "***TEST RESULTS***: \n",
      "===================================================\n",
      "Test Accuracy: 0.9411764705882353\n",
      "Confusion matrix: \n",
      " [[34  2]\n",
      " [ 2 30]]\n",
      "Test Accuracy Score: 0.9411764705882353\n",
      "Classification Report: \n",
      "               precision    recall  f1-score   support\n",
      "\n",
      "           N       0.94      0.94      0.94        36\n",
      "           P       0.94      0.94      0.94        32\n",
      "\n",
      "    accuracy                           0.94        68\n",
      "   macro avg       0.94      0.94      0.94        68\n",
      "weighted avg       0.94      0.94      0.94        68\n",
      "\n"
     ]
    },
    {
     "data": {
      "application/javascript": [
       "\n",
       "            setTimeout(function() {\n",
       "                var nbb_cell_id = 96;\n",
       "                var nbb_unformatted_code = \"evaluate(model_lg2, X_new_train, X_new_test, y_train, y_test)\";\n",
       "                var nbb_formatted_code = \"evaluate(model_lg2, X_new_train, X_new_test, y_train, y_test)\";\n",
       "                var nbb_cells = Jupyter.notebook.get_cells();\n",
       "                for (var i = 0; i < nbb_cells.length; ++i) {\n",
       "                    if (nbb_cells[i].input_prompt_number == nbb_cell_id) {\n",
       "                        if (nbb_cells[i].get_text() == nbb_unformatted_code) {\n",
       "                             nbb_cells[i].set_text(nbb_formatted_code);\n",
       "                        }\n",
       "                        break;\n",
       "                    }\n",
       "                }\n",
       "            }, 500);\n",
       "            "
      ],
      "text/plain": [
       "<IPython.core.display.Javascript object>"
      ]
     },
     "metadata": {},
     "output_type": "display_data"
    }
   ],
   "source": [
    "evaluate(model_lg2, X_new_train, X_new_test, y_train, y_test)"
   ]
  },
  {
   "cell_type": "markdown",
   "id": "aa74f317",
   "metadata": {},
   "source": [
    "### <p style=\"color:blue\">Nhận xét</p>"
   ]
  },
  {
   "cell_type": "code",
   "execution_count": 97,
   "id": "36982d0c",
   "metadata": {},
   "outputs": [
    {
     "data": {
      "text/plain": [
       "'\\n=> sau khi bỏ thuộc tính ko quan trọng, model vẫn giữ được điểm cao\\n\\n'"
      ]
     },
     "execution_count": 97,
     "metadata": {},
     "output_type": "execute_result"
    },
    {
     "data": {
      "application/javascript": [
       "\n",
       "            setTimeout(function() {\n",
       "                var nbb_cell_id = 97;\n",
       "                var nbb_unformatted_code = \"\\\"\\\"\\\"\\n=> sau khi b\\u1ecf thu\\u1ed9c t\\u00ednh ko quan tr\\u1ecdng, model v\\u1eabn gi\\u1eef \\u0111\\u01b0\\u1ee3c \\u0111i\\u1ec3m cao\\n\\n\\\"\\\"\\\"\";\n",
       "                var nbb_formatted_code = \"\\\"\\\"\\\"\\n=> sau khi b\\u1ecf thu\\u1ed9c t\\u00ednh ko quan tr\\u1ecdng, model v\\u1eabn gi\\u1eef \\u0111\\u01b0\\u1ee3c \\u0111i\\u1ec3m cao\\n\\n\\\"\\\"\\\"\";\n",
       "                var nbb_cells = Jupyter.notebook.get_cells();\n",
       "                for (var i = 0; i < nbb_cells.length; ++i) {\n",
       "                    if (nbb_cells[i].input_prompt_number == nbb_cell_id) {\n",
       "                        if (nbb_cells[i].get_text() == nbb_unformatted_code) {\n",
       "                             nbb_cells[i].set_text(nbb_formatted_code);\n",
       "                        }\n",
       "                        break;\n",
       "                    }\n",
       "                }\n",
       "            }, 500);\n",
       "            "
      ],
      "text/plain": [
       "<IPython.core.display.Javascript object>"
      ]
     },
     "metadata": {},
     "output_type": "display_data"
    }
   ],
   "source": [
    "\"\"\"\n",
    "=> sau khi bỏ thuộc tính ko quan trọng, model vẫn giữ được điểm cao\n",
    "\n",
    "\"\"\""
   ]
  },
  {
   "cell_type": "code",
   "execution_count": 98,
   "id": "90504abf",
   "metadata": {},
   "outputs": [
    {
     "data": {
      "application/javascript": [
       "\n",
       "            setTimeout(function() {\n",
       "                var nbb_cell_id = 98;\n",
       "                var nbb_unformatted_code = \"# data frame d\\u00f9ng \\u0111\\u1ec3 \\u0111\\u00e1nh gi\\u00e1 model\\ndf_evaluate = pd.DataFrame(columns=[\\\"Name\\\", \\\"Score\\\", \\\"Run_Time\\\"])\";\n",
       "                var nbb_formatted_code = \"# data frame d\\u00f9ng \\u0111\\u1ec3 \\u0111\\u00e1nh gi\\u00e1 model\\ndf_evaluate = pd.DataFrame(columns=[\\\"Name\\\", \\\"Score\\\", \\\"Run_Time\\\"])\";\n",
       "                var nbb_cells = Jupyter.notebook.get_cells();\n",
       "                for (var i = 0; i < nbb_cells.length; ++i) {\n",
       "                    if (nbb_cells[i].input_prompt_number == nbb_cell_id) {\n",
       "                        if (nbb_cells[i].get_text() == nbb_unformatted_code) {\n",
       "                             nbb_cells[i].set_text(nbb_formatted_code);\n",
       "                        }\n",
       "                        break;\n",
       "                    }\n",
       "                }\n",
       "            }, 500);\n",
       "            "
      ],
      "text/plain": [
       "<IPython.core.display.Javascript object>"
      ]
     },
     "metadata": {},
     "output_type": "display_data"
    }
   ],
   "source": [
    "# data frame dùng để đánh giá model\n",
    "df_evaluate = pd.DataFrame(columns=[\"Name\", \"Score\", \"Run_Time\"])"
   ]
  },
  {
   "cell_type": "code",
   "execution_count": 99,
   "id": "87445745",
   "metadata": {},
   "outputs": [
    {
     "data": {
      "application/javascript": [
       "\n",
       "            setTimeout(function() {\n",
       "                var nbb_cell_id = 99;\n",
       "                var nbb_unformatted_code = \"coss_score = cross_val_score(model_lg2, X, y, scoring=\\\"accuracy\\\", cv=10)\\ndf_evaluate = df_evaluate.append(\\n    {\\\"Name\\\": \\\"LogisticRegression\\\", \\\"Score\\\": coss_score.mean(), \\\"Run_Time\\\": run_time},\\n    ignore_index=True,\\n)\";\n",
       "                var nbb_formatted_code = \"coss_score = cross_val_score(model_lg2, X, y, scoring=\\\"accuracy\\\", cv=10)\\ndf_evaluate = df_evaluate.append(\\n    {\\\"Name\\\": \\\"LogisticRegression\\\", \\\"Score\\\": coss_score.mean(), \\\"Run_Time\\\": run_time},\\n    ignore_index=True,\\n)\";\n",
       "                var nbb_cells = Jupyter.notebook.get_cells();\n",
       "                for (var i = 0; i < nbb_cells.length; ++i) {\n",
       "                    if (nbb_cells[i].input_prompt_number == nbb_cell_id) {\n",
       "                        if (nbb_cells[i].get_text() == nbb_unformatted_code) {\n",
       "                             nbb_cells[i].set_text(nbb_formatted_code);\n",
       "                        }\n",
       "                        break;\n",
       "                    }\n",
       "                }\n",
       "            }, 500);\n",
       "            "
      ],
      "text/plain": [
       "<IPython.core.display.Javascript object>"
      ]
     },
     "metadata": {},
     "output_type": "display_data"
    }
   ],
   "source": [
    "coss_score = cross_val_score(model_lg2, X, y, scoring=\"accuracy\", cv=10)\n",
    "df_evaluate = df_evaluate.append(\n",
    "    {\"Name\": \"LogisticRegression\", \"Score\": coss_score.mean(), \"Run_Time\": run_time},\n",
    "    ignore_index=True,\n",
    ")"
   ]
  },
  {
   "cell_type": "markdown",
   "id": "0a5d709e",
   "metadata": {},
   "source": [
    "### AdaBoost"
   ]
  },
  {
   "cell_type": "code",
   "execution_count": 100,
   "id": "5136924a",
   "metadata": {},
   "outputs": [
    {
     "data": {
      "application/javascript": [
       "\n",
       "            setTimeout(function() {\n",
       "                var nbb_cell_id = 100;\n",
       "                var nbb_unformatted_code = \"from sklearn.ensemble import AdaBoostClassifier\\n\\nboosting = AdaBoostClassifier(\\n    n_estimators=100, base_estimator=model_lg2, learning_rate=1\\n)\";\n",
       "                var nbb_formatted_code = \"from sklearn.ensemble import AdaBoostClassifier\\n\\nboosting = AdaBoostClassifier(\\n    n_estimators=100, base_estimator=model_lg2, learning_rate=1\\n)\";\n",
       "                var nbb_cells = Jupyter.notebook.get_cells();\n",
       "                for (var i = 0; i < nbb_cells.length; ++i) {\n",
       "                    if (nbb_cells[i].input_prompt_number == nbb_cell_id) {\n",
       "                        if (nbb_cells[i].get_text() == nbb_unformatted_code) {\n",
       "                             nbb_cells[i].set_text(nbb_formatted_code);\n",
       "                        }\n",
       "                        break;\n",
       "                    }\n",
       "                }\n",
       "            }, 500);\n",
       "            "
      ],
      "text/plain": [
       "<IPython.core.display.Javascript object>"
      ]
     },
     "metadata": {},
     "output_type": "display_data"
    }
   ],
   "source": [
    "from sklearn.ensemble import AdaBoostClassifier\n",
    "\n",
    "boosting = AdaBoostClassifier(\n",
    "    n_estimators=100, base_estimator=model_lg2, learning_rate=1\n",
    ")"
   ]
  },
  {
   "cell_type": "code",
   "execution_count": 101,
   "id": "de72af5d",
   "metadata": {},
   "outputs": [
    {
     "data": {
      "text/plain": [
       "AdaBoostClassifier(base_estimator=LogisticRegression(C=10), learning_rate=1,\n",
       "                   n_estimators=100)"
      ]
     },
     "execution_count": 101,
     "metadata": {},
     "output_type": "execute_result"
    },
    {
     "data": {
      "application/javascript": [
       "\n",
       "            setTimeout(function() {\n",
       "                var nbb_cell_id = 101;\n",
       "                var nbb_unformatted_code = \"# Train model\\nboosting.fit(X_new_train, y_train)\";\n",
       "                var nbb_formatted_code = \"# Train model\\nboosting.fit(X_new_train, y_train)\";\n",
       "                var nbb_cells = Jupyter.notebook.get_cells();\n",
       "                for (var i = 0; i < nbb_cells.length; ++i) {\n",
       "                    if (nbb_cells[i].input_prompt_number == nbb_cell_id) {\n",
       "                        if (nbb_cells[i].get_text() == nbb_unformatted_code) {\n",
       "                             nbb_cells[i].set_text(nbb_formatted_code);\n",
       "                        }\n",
       "                        break;\n",
       "                    }\n",
       "                }\n",
       "            }, 500);\n",
       "            "
      ],
      "text/plain": [
       "<IPython.core.display.Javascript object>"
      ]
     },
     "metadata": {},
     "output_type": "display_data"
    }
   ],
   "source": [
    "# Train model\n",
    "boosting.fit(X_new_train, y_train)"
   ]
  },
  {
   "cell_type": "code",
   "execution_count": 103,
   "id": "5c433c4c",
   "metadata": {},
   "outputs": [
    {
     "name": "stdout",
     "output_type": "stream",
     "text": [
      "***TRAINIG RESULTS***: \n",
      "==================================================\n",
      "Confusion matrix: \n",
      " [[155   2]\n",
      " [  6 105]]\n",
      "Train Accuracy Score: 0.9701492537313433\n",
      "Classification Report: \n",
      "               precision    recall  f1-score   support\n",
      "\n",
      "           N       0.96      0.99      0.97       157\n",
      "           P       0.98      0.95      0.96       111\n",
      "\n",
      "    accuracy                           0.97       268\n",
      "   macro avg       0.97      0.97      0.97       268\n",
      "weighted avg       0.97      0.97      0.97       268\n",
      "\n",
      "***TEST RESULTS***: \n",
      "===================================================\n",
      "Test Accuracy: 0.9411764705882353\n",
      "Confusion matrix: \n",
      " [[34  2]\n",
      " [ 2 30]]\n",
      "Test Accuracy Score: 0.9411764705882353\n",
      "Classification Report: \n",
      "               precision    recall  f1-score   support\n",
      "\n",
      "           N       0.94      0.94      0.94        36\n",
      "           P       0.94      0.94      0.94        32\n",
      "\n",
      "    accuracy                           0.94        68\n",
      "   macro avg       0.94      0.94      0.94        68\n",
      "weighted avg       0.94      0.94      0.94        68\n",
      "\n"
     ]
    },
    {
     "data": {
      "application/javascript": [
       "\n",
       "            setTimeout(function() {\n",
       "                var nbb_cell_id = 103;\n",
       "                var nbb_unformatted_code = \"evaluate(boosting, X_new_train, X_new_test, y_train, y_test)\";\n",
       "                var nbb_formatted_code = \"evaluate(boosting, X_new_train, X_new_test, y_train, y_test)\";\n",
       "                var nbb_cells = Jupyter.notebook.get_cells();\n",
       "                for (var i = 0; i < nbb_cells.length; ++i) {\n",
       "                    if (nbb_cells[i].input_prompt_number == nbb_cell_id) {\n",
       "                        if (nbb_cells[i].get_text() == nbb_unformatted_code) {\n",
       "                             nbb_cells[i].set_text(nbb_formatted_code);\n",
       "                        }\n",
       "                        break;\n",
       "                    }\n",
       "                }\n",
       "            }, 500);\n",
       "            "
      ],
      "text/plain": [
       "<IPython.core.display.Javascript object>"
      ]
     },
     "metadata": {},
     "output_type": "display_data"
    }
   ],
   "source": [
    "evaluate(boosting, X_new_train, X_new_test, y_train, y_test)"
   ]
  },
  {
   "cell_type": "code",
   "execution_count": 104,
   "id": "6d91d029",
   "metadata": {},
   "outputs": [
    {
     "data": {
      "text/plain": [
       "'\\nVì model đã có điểm cao nên dù dùng adaBoost cũng chỉ tăng được ít điểm.\\n\\n'"
      ]
     },
     "execution_count": 104,
     "metadata": {},
     "output_type": "execute_result"
    },
    {
     "data": {
      "application/javascript": [
       "\n",
       "            setTimeout(function() {\n",
       "                var nbb_cell_id = 104;\n",
       "                var nbb_unformatted_code = \"\\\"\\\"\\\"\\nV\\u00ec model \\u0111\\u00e3 c\\u00f3 \\u0111i\\u1ec3m cao n\\u00ean d\\u00f9 d\\u00f9ng adaBoost c\\u0169ng ch\\u1ec9 t\\u0103ng \\u0111\\u01b0\\u1ee3c \\u00edt \\u0111i\\u1ec3m.\\n\\n\\\"\\\"\\\"\";\n",
       "                var nbb_formatted_code = \"\\\"\\\"\\\"\\nV\\u00ec model \\u0111\\u00e3 c\\u00f3 \\u0111i\\u1ec3m cao n\\u00ean d\\u00f9 d\\u00f9ng adaBoost c\\u0169ng ch\\u1ec9 t\\u0103ng \\u0111\\u01b0\\u1ee3c \\u00edt \\u0111i\\u1ec3m.\\n\\n\\\"\\\"\\\"\";\n",
       "                var nbb_cells = Jupyter.notebook.get_cells();\n",
       "                for (var i = 0; i < nbb_cells.length; ++i) {\n",
       "                    if (nbb_cells[i].input_prompt_number == nbb_cell_id) {\n",
       "                        if (nbb_cells[i].get_text() == nbb_unformatted_code) {\n",
       "                             nbb_cells[i].set_text(nbb_formatted_code);\n",
       "                        }\n",
       "                        break;\n",
       "                    }\n",
       "                }\n",
       "            }, 500);\n",
       "            "
      ],
      "text/plain": [
       "<IPython.core.display.Javascript object>"
      ]
     },
     "metadata": {},
     "output_type": "display_data"
    }
   ],
   "source": [
    "\"\"\"\n",
    "Vì model đã có điểm cao nên dù dùng adaBoost cũng chỉ tăng được ít điểm.\n",
    "\n",
    "\"\"\""
   ]
  },
  {
   "cell_type": "markdown",
   "id": "5506aa57",
   "metadata": {},
   "source": [
    "### Decision Tree"
   ]
  },
  {
   "cell_type": "code",
   "execution_count": 105,
   "id": "b8d53c44",
   "metadata": {},
   "outputs": [
    {
     "name": "stdout",
     "output_type": "stream",
     "text": [
      "{'criterion': 'gini', 'max_depth': 4}\n",
      "run time:  0.502316951751709\n"
     ]
    },
    {
     "data": {
      "application/javascript": [
       "\n",
       "            setTimeout(function() {\n",
       "                var nbb_cell_id = 105;\n",
       "                var nbb_unformatted_code = \"tree_param = {\\n    \\\"criterion\\\": [\\\"gini\\\", \\\"entropy\\\"],\\n    \\\"max_depth\\\": [4, 5, 6, 7, 8, 9, 10, 11, 12, 15, 20, 30, 40, 50, 70, 90, 120, 150],\\n}\\nstart = time.time()\\ndc_model = GridSearchCV(DecisionTreeClassifier(), tree_param, cv=5)\\ndc_model.fit(X_train, y_train)\\nprint(dc_model.best_params_)\\nend = time.time()\\nprint(\\\"run time: \\\", end - start)\";\n",
       "                var nbb_formatted_code = \"tree_param = {\\n    \\\"criterion\\\": [\\\"gini\\\", \\\"entropy\\\"],\\n    \\\"max_depth\\\": [4, 5, 6, 7, 8, 9, 10, 11, 12, 15, 20, 30, 40, 50, 70, 90, 120, 150],\\n}\\nstart = time.time()\\ndc_model = GridSearchCV(DecisionTreeClassifier(), tree_param, cv=5)\\ndc_model.fit(X_train, y_train)\\nprint(dc_model.best_params_)\\nend = time.time()\\nprint(\\\"run time: \\\", end - start)\";\n",
       "                var nbb_cells = Jupyter.notebook.get_cells();\n",
       "                for (var i = 0; i < nbb_cells.length; ++i) {\n",
       "                    if (nbb_cells[i].input_prompt_number == nbb_cell_id) {\n",
       "                        if (nbb_cells[i].get_text() == nbb_unformatted_code) {\n",
       "                             nbb_cells[i].set_text(nbb_formatted_code);\n",
       "                        }\n",
       "                        break;\n",
       "                    }\n",
       "                }\n",
       "            }, 500);\n",
       "            "
      ],
      "text/plain": [
       "<IPython.core.display.Javascript object>"
      ]
     },
     "metadata": {},
     "output_type": "display_data"
    }
   ],
   "source": [
    "tree_param = {\n",
    "    \"criterion\": [\"gini\", \"entropy\"],\n",
    "    \"max_depth\": [4, 5, 6, 7, 8, 9, 10, 11, 12, 15, 20, 30, 40, 50, 70, 90, 120, 150],\n",
    "}\n",
    "start = time.time()\n",
    "dc_model = GridSearchCV(DecisionTreeClassifier(), tree_param, cv=5)\n",
    "dc_model.fit(X_train, y_train)\n",
    "print(dc_model.best_params_)\n",
    "end = time.time()\n",
    "print(\"run time: \", end - start)"
   ]
  },
  {
   "cell_type": "code",
   "execution_count": 108,
   "id": "1298a0c0",
   "metadata": {},
   "outputs": [
    {
     "data": {
      "text/plain": [
       "\"\\n=> best param của Decision Tree là criterion': 'gini', 'max_depth': 4}\\n\""
      ]
     },
     "execution_count": 108,
     "metadata": {},
     "output_type": "execute_result"
    },
    {
     "data": {
      "application/javascript": [
       "\n",
       "            setTimeout(function() {\n",
       "                var nbb_cell_id = 108;\n",
       "                var nbb_unformatted_code = \"\\\"\\\"\\\"\\n=> best param c\\u1ee7a Decision Tree l\\u00e0 criterion': 'gini', 'max_depth': 4}\\n\\\"\\\"\\\"\";\n",
       "                var nbb_formatted_code = \"\\\"\\\"\\\"\\n=> best param c\\u1ee7a Decision Tree l\\u00e0 criterion': 'gini', 'max_depth': 4}\\n\\\"\\\"\\\"\";\n",
       "                var nbb_cells = Jupyter.notebook.get_cells();\n",
       "                for (var i = 0; i < nbb_cells.length; ++i) {\n",
       "                    if (nbb_cells[i].input_prompt_number == nbb_cell_id) {\n",
       "                        if (nbb_cells[i].get_text() == nbb_unformatted_code) {\n",
       "                             nbb_cells[i].set_text(nbb_formatted_code);\n",
       "                        }\n",
       "                        break;\n",
       "                    }\n",
       "                }\n",
       "            }, 500);\n",
       "            "
      ],
      "text/plain": [
       "<IPython.core.display.Javascript object>"
      ]
     },
     "metadata": {},
     "output_type": "display_data"
    }
   ],
   "source": [
    "\"\"\"\n",
    "=> best param của Decision Tree là criterion': 'gini', 'max_depth': 4}\n",
    "\"\"\""
   ]
  },
  {
   "cell_type": "code",
   "execution_count": 116,
   "id": "c4e48bd9",
   "metadata": {},
   "outputs": [
    {
     "name": "stdout",
     "output_type": "stream",
     "text": [
      "***TRAINIG RESULTS***: \n",
      "==================================================\n",
      "Confusion matrix: \n",
      " [[157   0]\n",
      " [  0 111]]\n",
      "Train Accuracy Score: 1.0\n",
      "Classification Report: \n",
      "               precision    recall  f1-score   support\n",
      "\n",
      "           N       1.00      1.00      1.00       157\n",
      "           P       1.00      1.00      1.00       111\n",
      "\n",
      "    accuracy                           1.00       268\n",
      "   macro avg       1.00      1.00      1.00       268\n",
      "weighted avg       1.00      1.00      1.00       268\n",
      "\n",
      "***TEST RESULTS***: \n",
      "===================================================\n",
      "Test Accuracy: 0.9264705882352942\n",
      "Confusion matrix: \n",
      " [[33  3]\n",
      " [ 2 30]]\n",
      "Test Accuracy Score: 0.9264705882352942\n",
      "Classification Report: \n",
      "               precision    recall  f1-score   support\n",
      "\n",
      "           N       0.94      0.92      0.93        36\n",
      "           P       0.91      0.94      0.92        32\n",
      "\n",
      "    accuracy                           0.93        68\n",
      "   macro avg       0.93      0.93      0.93        68\n",
      "weighted avg       0.93      0.93      0.93        68\n",
      "\n"
     ]
    },
    {
     "data": {
      "application/javascript": [
       "\n",
       "            setTimeout(function() {\n",
       "                var nbb_cell_id = 116;\n",
       "                var nbb_unformatted_code = \"evaluate(dc_model, X_train, X_test, y_train, y_test)\";\n",
       "                var nbb_formatted_code = \"evaluate(dc_model, X_train, X_test, y_train, y_test)\";\n",
       "                var nbb_cells = Jupyter.notebook.get_cells();\n",
       "                for (var i = 0; i < nbb_cells.length; ++i) {\n",
       "                    if (nbb_cells[i].input_prompt_number == nbb_cell_id) {\n",
       "                        if (nbb_cells[i].get_text() == nbb_unformatted_code) {\n",
       "                             nbb_cells[i].set_text(nbb_formatted_code);\n",
       "                        }\n",
       "                        break;\n",
       "                    }\n",
       "                }\n",
       "            }, 500);\n",
       "            "
      ],
      "text/plain": [
       "<IPython.core.display.Javascript object>"
      ]
     },
     "metadata": {},
     "output_type": "display_data"
    }
   ],
   "source": [
    "evaluate(dc_model, X_train, X_test, y_train, y_test)"
   ]
  },
  {
   "cell_type": "markdown",
   "id": "9583bb7c",
   "metadata": {},
   "source": [
    "### <p style=\"color:blue\">Nhận xét</p>"
   ]
  },
  {
   "cell_type": "code",
   "execution_count": 107,
   "id": "39128635",
   "metadata": {},
   "outputs": [
    {
     "data": {
      "text/plain": [
       "'\\nmodel có các điểm số cao:\\naccuracy, precision    recall  f1-score của cả train và test đều cao\\n=> model phù hợp với dataset\\n'"
      ]
     },
     "execution_count": 107,
     "metadata": {},
     "output_type": "execute_result"
    },
    {
     "data": {
      "application/javascript": [
       "\n",
       "            setTimeout(function() {\n",
       "                var nbb_cell_id = 107;\n",
       "                var nbb_unformatted_code = \"'''\\nmodel c\\u00f3 c\\u00e1c \\u0111i\\u1ec3m s\\u1ed1 cao:\\naccuracy, precision    recall  f1-score c\\u1ee7a c\\u1ea3 train v\\u00e0 test \\u0111\\u1ec1u cao\\n=> model ph\\u00f9 h\\u1ee3p v\\u1edbi dataset\\n'''\";\n",
       "                var nbb_formatted_code = \"\\\"\\\"\\\"\\nmodel c\\u00f3 c\\u00e1c \\u0111i\\u1ec3m s\\u1ed1 cao:\\naccuracy, precision    recall  f1-score c\\u1ee7a c\\u1ea3 train v\\u00e0 test \\u0111\\u1ec1u cao\\n=> model ph\\u00f9 h\\u1ee3p v\\u1edbi dataset\\n\\\"\\\"\\\"\";\n",
       "                var nbb_cells = Jupyter.notebook.get_cells();\n",
       "                for (var i = 0; i < nbb_cells.length; ++i) {\n",
       "                    if (nbb_cells[i].input_prompt_number == nbb_cell_id) {\n",
       "                        if (nbb_cells[i].get_text() == nbb_unformatted_code) {\n",
       "                             nbb_cells[i].set_text(nbb_formatted_code);\n",
       "                        }\n",
       "                        break;\n",
       "                    }\n",
       "                }\n",
       "            }, 500);\n",
       "            "
      ],
      "text/plain": [
       "<IPython.core.display.Javascript object>"
      ]
     },
     "metadata": {},
     "output_type": "display_data"
    }
   ],
   "source": [
    "'''\n",
    "model có các điểm số cao:\n",
    "accuracy, precision    recall  f1-score của cả train và test đều cao\n",
    "=> model phù hợp với dataset\n",
    "'''\n"
   ]
  },
  {
   "cell_type": "code",
   "execution_count": null,
   "id": "bf58f3be",
   "metadata": {},
   "outputs": [],
   "source": [
    "model_k = DecisionTreeClassifier()  \n",
    "kfold = KFold(n_splits=10)  \n",
    "results = cross_val_score(\n",
    "    model_k, X, y, cv=kfold  \n",
    ")  \n",
    "print(\"Accuracy: %.2f%% - std: %.2f%%\" % (results.mean() * 100, results.std() * 100))"
   ]
  },
  {
   "cell_type": "code",
   "execution_count": 109,
   "id": "34371258",
   "metadata": {},
   "outputs": [
    {
     "name": "stdout",
     "output_type": "stream",
     "text": [
      "run time:  0.0019621849060058594\n"
     ]
    },
    {
     "data": {
      "application/javascript": [
       "\n",
       "            setTimeout(function() {\n",
       "                var nbb_cell_id = 109;\n",
       "                var nbb_unformatted_code = \"start = time.time()\\ndsc2_model = DecisionTreeClassifier(criterion= 'gini', max_depth= 4).fit(\\n    X_new_train, y_train\\n)\\nend = time.time()\\nrun_time = end - start\\nprint(\\\"run time: \\\", run_time)\";\n",
       "                var nbb_formatted_code = \"start = time.time()\\ndsc2_model = DecisionTreeClassifier(criterion=\\\"gini\\\", max_depth=4).fit(\\n    X_new_train, y_train\\n)\\nend = time.time()\\nrun_time = end - start\\nprint(\\\"run time: \\\", run_time)\";\n",
       "                var nbb_cells = Jupyter.notebook.get_cells();\n",
       "                for (var i = 0; i < nbb_cells.length; ++i) {\n",
       "                    if (nbb_cells[i].input_prompt_number == nbb_cell_id) {\n",
       "                        if (nbb_cells[i].get_text() == nbb_unformatted_code) {\n",
       "                             nbb_cells[i].set_text(nbb_formatted_code);\n",
       "                        }\n",
       "                        break;\n",
       "                    }\n",
       "                }\n",
       "            }, 500);\n",
       "            "
      ],
      "text/plain": [
       "<IPython.core.display.Javascript object>"
      ]
     },
     "metadata": {},
     "output_type": "display_data"
    }
   ],
   "source": [
    "start = time.time()\n",
    "dsc2_model = DecisionTreeClassifier(criterion=\"gini\", max_depth=4).fit(\n",
    "    X_new_train, y_train\n",
    ")\n",
    "end = time.time()\n",
    "run_time = end - start\n",
    "print(\"run time: \", run_time)"
   ]
  },
  {
   "cell_type": "code",
   "execution_count": 111,
   "id": "91478a11",
   "metadata": {},
   "outputs": [
    {
     "data": {
      "text/html": [
       "<div>\n",
       "<style scoped>\n",
       "    .dataframe tbody tr th:only-of-type {\n",
       "        vertical-align: middle;\n",
       "    }\n",
       "\n",
       "    .dataframe tbody tr th {\n",
       "        vertical-align: top;\n",
       "    }\n",
       "\n",
       "    .dataframe thead th {\n",
       "        text-align: right;\n",
       "    }\n",
       "</style>\n",
       "<table border=\"1\" class=\"dataframe\">\n",
       "  <thead>\n",
       "    <tr style=\"text-align: right;\">\n",
       "      <th></th>\n",
       "      <th>Name</th>\n",
       "      <th>Score</th>\n",
       "      <th>Run_Time</th>\n",
       "    </tr>\n",
       "  </thead>\n",
       "  <tbody>\n",
       "    <tr>\n",
       "      <th>0</th>\n",
       "      <td>LogisticRegression</td>\n",
       "      <td>0.964260</td>\n",
       "      <td>0.006947</td>\n",
       "    </tr>\n",
       "    <tr>\n",
       "      <th>1</th>\n",
       "      <td>Decision Tree</td>\n",
       "      <td>0.925134</td>\n",
       "      <td>0.001962</td>\n",
       "    </tr>\n",
       "  </tbody>\n",
       "</table>\n",
       "</div>"
      ],
      "text/plain": [
       "                 Name     Score  Run_Time\n",
       "0  LogisticRegression  0.964260  0.006947\n",
       "1       Decision Tree  0.925134  0.001962"
      ]
     },
     "execution_count": 111,
     "metadata": {},
     "output_type": "execute_result"
    },
    {
     "data": {
      "application/javascript": [
       "\n",
       "            setTimeout(function() {\n",
       "                var nbb_cell_id = 111;\n",
       "                var nbb_unformatted_code = \"coss_score = cross_val_score(dsc2_model, X, y, scoring=\\\"accuracy\\\", cv=10)\\ndf_evaluate = df_evaluate.append(\\n    {\\\"Name\\\": \\\"Decision Tree\\\", \\\"Score\\\": coss_score.mean(), \\\"Run_Time\\\": run_time},\\n    ignore_index=True,\\n)\\ndf_evaluate\";\n",
       "                var nbb_formatted_code = \"coss_score = cross_val_score(dsc2_model, X, y, scoring=\\\"accuracy\\\", cv=10)\\ndf_evaluate = df_evaluate.append(\\n    {\\\"Name\\\": \\\"Decision Tree\\\", \\\"Score\\\": coss_score.mean(), \\\"Run_Time\\\": run_time},\\n    ignore_index=True,\\n)\\ndf_evaluate\";\n",
       "                var nbb_cells = Jupyter.notebook.get_cells();\n",
       "                for (var i = 0; i < nbb_cells.length; ++i) {\n",
       "                    if (nbb_cells[i].input_prompt_number == nbb_cell_id) {\n",
       "                        if (nbb_cells[i].get_text() == nbb_unformatted_code) {\n",
       "                             nbb_cells[i].set_text(nbb_formatted_code);\n",
       "                        }\n",
       "                        break;\n",
       "                    }\n",
       "                }\n",
       "            }, 500);\n",
       "            "
      ],
      "text/plain": [
       "<IPython.core.display.Javascript object>"
      ]
     },
     "metadata": {},
     "output_type": "display_data"
    }
   ],
   "source": [
    "coss_score = cross_val_score(dsc2_model, X, y, scoring=\"accuracy\", cv=10)\n",
    "df_evaluate = df_evaluate.append(\n",
    "    {\"Name\": \"Decision Tree\", \"Score\": coss_score.mean(), \"Run_Time\": run_time},\n",
    "    ignore_index=True,\n",
    ")\n",
    "df_evaluate"
   ]
  },
  {
   "cell_type": "markdown",
   "id": "55e4534d",
   "metadata": {},
   "source": [
    "### KNN"
   ]
  },
  {
   "cell_type": "code",
   "execution_count": 112,
   "id": "f0b0f8f7",
   "metadata": {},
   "outputs": [
    {
     "data": {
      "application/javascript": [
       "\n",
       "            setTimeout(function() {\n",
       "                var nbb_cell_id = 112;\n",
       "                var nbb_unformatted_code = \"from sklearn.neighbors import KNeighborsClassifier\";\n",
       "                var nbb_formatted_code = \"from sklearn.neighbors import KNeighborsClassifier\";\n",
       "                var nbb_cells = Jupyter.notebook.get_cells();\n",
       "                for (var i = 0; i < nbb_cells.length; ++i) {\n",
       "                    if (nbb_cells[i].input_prompt_number == nbb_cell_id) {\n",
       "                        if (nbb_cells[i].get_text() == nbb_unformatted_code) {\n",
       "                             nbb_cells[i].set_text(nbb_formatted_code);\n",
       "                        }\n",
       "                        break;\n",
       "                    }\n",
       "                }\n",
       "            }, 500);\n",
       "            "
      ],
      "text/plain": [
       "<IPython.core.display.Javascript object>"
      ]
     },
     "metadata": {},
     "output_type": "display_data"
    }
   ],
   "source": [
    "from sklearn.neighbors import KNeighborsClassifier"
   ]
  },
  {
   "cell_type": "code",
   "execution_count": 126,
   "id": "32d93aef",
   "metadata": {},
   "outputs": [
    {
     "name": "stdout",
     "output_type": "stream",
     "text": [
      "k =  2 : Accuracy is  0.9264705882352942\n",
      "k =  3 : Accuracy is  0.9411764705882353\n",
      "k =  4 : Accuracy is  0.9411764705882353\n",
      "k =  5 : Accuracy is  0.9558823529411765\n",
      "k =  6 : Accuracy is  0.9411764705882353\n",
      "k =  7 : Accuracy is  0.9411764705882353\n"
     ]
    },
    {
     "data": {
      "application/javascript": [
       "\n",
       "            setTimeout(function() {\n",
       "                var nbb_cell_id = 126;\n",
       "                var nbb_unformatted_code = \"list_k = []\\nlist_acc = []\\nfor K_value in range(2,int((y_train.shape[0]**0.5)/2)):\\n    #for K_value in range(2,10):\\n    list_k.append(K_value)\\n    neigh = KNeighborsClassifier(n_neighbors = K_value)\\n    neigh.fit(X_train, y_train)\\n    y_pred = neigh.predict(X_test)\\n    acc = accuracy_score(y_test,y_pred)*100\\n    list_acc.append(acc)\\n    print(\\\"k = \\\", K_value,\\\": Accuracy is \\\", accuracy_score(y_test,y_pred))\";\n",
       "                var nbb_formatted_code = \"list_k = []\\nlist_acc = []\\nfor K_value in range(2, int((y_train.shape[0] ** 0.5) / 2)):\\n    # for K_value in range(2,10):\\n    list_k.append(K_value)\\n    neigh = KNeighborsClassifier(n_neighbors=K_value)\\n    neigh.fit(X_train, y_train)\\n    y_pred = neigh.predict(X_test)\\n    acc = accuracy_score(y_test, y_pred) * 100\\n    list_acc.append(acc)\\n    print(\\\"k = \\\", K_value, \\\": Accuracy is \\\", accuracy_score(y_test, y_pred))\";\n",
       "                var nbb_cells = Jupyter.notebook.get_cells();\n",
       "                for (var i = 0; i < nbb_cells.length; ++i) {\n",
       "                    if (nbb_cells[i].input_prompt_number == nbb_cell_id) {\n",
       "                        if (nbb_cells[i].get_text() == nbb_unformatted_code) {\n",
       "                             nbb_cells[i].set_text(nbb_formatted_code);\n",
       "                        }\n",
       "                        break;\n",
       "                    }\n",
       "                }\n",
       "            }, 500);\n",
       "            "
      ],
      "text/plain": [
       "<IPython.core.display.Javascript object>"
      ]
     },
     "metadata": {},
     "output_type": "display_data"
    }
   ],
   "source": [
    "# list_k = []\n",
    "# list_acc = []\n",
    "# for K_value in range(2, int((y_train.shape[0] ** 0.5) / 2)):\n",
    "#     # for K_value in range(2,10):\n",
    "#     list_k.append(K_value)\n",
    "#     neigh = KNeighborsClassifier(n_neighbors=K_value)\n",
    "#     neigh.fit(X_train, y_train)\n",
    "#     y_pred = neigh.predict(X_test)\n",
    "#     acc = accuracy_score(y_test, y_pred) * 100\n",
    "#     list_acc.append(acc)\n",
    "#     print(\"k = \", K_value, \": Accuracy is \", accuracy_score(y_test, y_pred))"
   ]
  },
  {
   "cell_type": "code",
   "execution_count": 119,
   "id": "762d72d0",
   "metadata": {},
   "outputs": [
    {
     "name": "stdout",
     "output_type": "stream",
     "text": [
      "{'n_neighbors': 3, 'weights': 'uniform'}\n",
      "run time:  0.5204682350158691\n"
     ]
    },
    {
     "data": {
      "application/javascript": [
       "\n",
       "            setTimeout(function() {\n",
       "                var nbb_cell_id = 119;\n",
       "                var nbb_unformatted_code = \"params = {\\n    \\\"weights\\\": [\\\"uniform\\\", \\\"distance\\\"],\\n    \\\"n_neighbors\\\": list(range(3, 29, 2)),\\n}\\nstart = time.time()\\nknn_model = GridSearchCV(KNeighborsClassifier(), params, cv=5)\\nknn_model.fit(X_train, y_train)\\nprint(knn_model.best_params_)\\nend = time.time()\\nprint(\\\"run time: \\\", end - start)\";\n",
       "                var nbb_formatted_code = \"params = {\\n    \\\"weights\\\": [\\\"uniform\\\", \\\"distance\\\"],\\n    \\\"n_neighbors\\\": list(range(3, 29, 2)),\\n}\\nstart = time.time()\\nknn_model = GridSearchCV(KNeighborsClassifier(), params, cv=5)\\nknn_model.fit(X_train, y_train)\\nprint(knn_model.best_params_)\\nend = time.time()\\nprint(\\\"run time: \\\", end - start)\";\n",
       "                var nbb_cells = Jupyter.notebook.get_cells();\n",
       "                for (var i = 0; i < nbb_cells.length; ++i) {\n",
       "                    if (nbb_cells[i].input_prompt_number == nbb_cell_id) {\n",
       "                        if (nbb_cells[i].get_text() == nbb_unformatted_code) {\n",
       "                             nbb_cells[i].set_text(nbb_formatted_code);\n",
       "                        }\n",
       "                        break;\n",
       "                    }\n",
       "                }\n",
       "            }, 500);\n",
       "            "
      ],
      "text/plain": [
       "<IPython.core.display.Javascript object>"
      ]
     },
     "metadata": {},
     "output_type": "display_data"
    }
   ],
   "source": [
    "params = {\n",
    "    \"weights\": [\"uniform\", \"distance\"],\n",
    "    \"n_neighbors\": list(range(3, 29, 2)),\n",
    "}\n",
    "start = time.time()\n",
    "knn_model = GridSearchCV(KNeighborsClassifier(), params, cv=5)\n",
    "knn_model.fit(X_train, y_train)\n",
    "print(knn_model.best_params_)\n",
    "end = time.time()\n",
    "print(\"run time: \", end - start)"
   ]
  },
  {
   "cell_type": "code",
   "execution_count": 120,
   "id": "cbaa72c1",
   "metadata": {},
   "outputs": [
    {
     "data": {
      "text/plain": [
       "'\\nVậy, k = 3 thì KNN cho ra kết quả tốt nhất.\\n\\n'"
      ]
     },
     "execution_count": 120,
     "metadata": {},
     "output_type": "execute_result"
    },
    {
     "data": {
      "application/javascript": [
       "\n",
       "            setTimeout(function() {\n",
       "                var nbb_cell_id = 120;\n",
       "                var nbb_unformatted_code = \"\\\"\\\"\\\"\\nV\\u1eady, k = 3 th\\u00ec KNN cho ra k\\u1ebft qu\\u1ea3 t\\u1ed1t nh\\u1ea5t.\\n\\n\\\"\\\"\\\"\";\n",
       "                var nbb_formatted_code = \"\\\"\\\"\\\"\\nV\\u1eady, k = 3 th\\u00ec KNN cho ra k\\u1ebft qu\\u1ea3 t\\u1ed1t nh\\u1ea5t.\\n\\n\\\"\\\"\\\"\";\n",
       "                var nbb_cells = Jupyter.notebook.get_cells();\n",
       "                for (var i = 0; i < nbb_cells.length; ++i) {\n",
       "                    if (nbb_cells[i].input_prompt_number == nbb_cell_id) {\n",
       "                        if (nbb_cells[i].get_text() == nbb_unformatted_code) {\n",
       "                             nbb_cells[i].set_text(nbb_formatted_code);\n",
       "                        }\n",
       "                        break;\n",
       "                    }\n",
       "                }\n",
       "            }, 500);\n",
       "            "
      ],
      "text/plain": [
       "<IPython.core.display.Javascript object>"
      ]
     },
     "metadata": {},
     "output_type": "display_data"
    }
   ],
   "source": [
    "\"\"\"\n",
    "Vậy, k = 3 thì KNN cho ra kết quả tốt nhất.\n",
    "\n",
    "\"\"\""
   ]
  },
  {
   "cell_type": "code",
   "execution_count": 121,
   "id": "b6b959dc",
   "metadata": {},
   "outputs": [
    {
     "name": "stdout",
     "output_type": "stream",
     "text": [
      "***TRAINIG RESULTS***: \n",
      "==================================================\n",
      "Confusion matrix: \n",
      " [[155   2]\n",
      " [  1 110]]\n",
      "Train Accuracy Score: 0.9888059701492538\n",
      "Classification Report: \n",
      "               precision    recall  f1-score   support\n",
      "\n",
      "           N       0.99      0.99      0.99       157\n",
      "           P       0.98      0.99      0.99       111\n",
      "\n",
      "    accuracy                           0.99       268\n",
      "   macro avg       0.99      0.99      0.99       268\n",
      "weighted avg       0.99      0.99      0.99       268\n",
      "\n",
      "***TEST RESULTS***: \n",
      "===================================================\n",
      "Test Accuracy: 0.9558823529411765\n",
      "Confusion matrix: \n",
      " [[33  3]\n",
      " [ 0 32]]\n",
      "Test Accuracy Score: 0.9558823529411765\n",
      "Classification Report: \n",
      "               precision    recall  f1-score   support\n",
      "\n",
      "           N       1.00      0.92      0.96        36\n",
      "           P       0.91      1.00      0.96        32\n",
      "\n",
      "    accuracy                           0.96        68\n",
      "   macro avg       0.96      0.96      0.96        68\n",
      "weighted avg       0.96      0.96      0.96        68\n",
      "\n"
     ]
    },
    {
     "data": {
      "application/javascript": [
       "\n",
       "            setTimeout(function() {\n",
       "                var nbb_cell_id = 121;\n",
       "                var nbb_unformatted_code = \"evaluate(knn_model, X_train, X_test, y_train, y_test)\";\n",
       "                var nbb_formatted_code = \"evaluate(knn_model, X_train, X_test, y_train, y_test)\";\n",
       "                var nbb_cells = Jupyter.notebook.get_cells();\n",
       "                for (var i = 0; i < nbb_cells.length; ++i) {\n",
       "                    if (nbb_cells[i].input_prompt_number == nbb_cell_id) {\n",
       "                        if (nbb_cells[i].get_text() == nbb_unformatted_code) {\n",
       "                             nbb_cells[i].set_text(nbb_formatted_code);\n",
       "                        }\n",
       "                        break;\n",
       "                    }\n",
       "                }\n",
       "            }, 500);\n",
       "            "
      ],
      "text/plain": [
       "<IPython.core.display.Javascript object>"
      ]
     },
     "metadata": {},
     "output_type": "display_data"
    }
   ],
   "source": [
    "evaluate(knn_model, X_train, X_test, y_train, y_test)"
   ]
  },
  {
   "cell_type": "markdown",
   "id": "49300258",
   "metadata": {},
   "source": [
    "### <p style=\"color:blue\">Nhận xét</p>"
   ]
  },
  {
   "cell_type": "code",
   "execution_count": 131,
   "id": "cf7c2eee",
   "metadata": {},
   "outputs": [
    {
     "data": {
      "text/plain": [
       "'\\nKết quả tốt, \\nAccuracy, precision, recall, f1-score đều cao\\n=> model có thể sử dụng\\n'"
      ]
     },
     "execution_count": 131,
     "metadata": {},
     "output_type": "execute_result"
    },
    {
     "data": {
      "application/javascript": [
       "\n",
       "            setTimeout(function() {\n",
       "                var nbb_cell_id = 131;\n",
       "                var nbb_unformatted_code = \"'''\\nK\\u1ebft qu\\u1ea3 t\\u1ed1t, \\nAccuracy, precision, recall, f1-score \\u0111\\u1ec1u cao\\n=> model c\\u00f3 th\\u1ec3 s\\u1eed d\\u1ee5ng\\n'''\";\n",
       "                var nbb_formatted_code = \"\\\"\\\"\\\"\\nK\\u1ebft qu\\u1ea3 t\\u1ed1t, \\nAccuracy, precision, recall, f1-score \\u0111\\u1ec1u cao\\n=> model c\\u00f3 th\\u1ec3 s\\u1eed d\\u1ee5ng\\n\\\"\\\"\\\"\";\n",
       "                var nbb_cells = Jupyter.notebook.get_cells();\n",
       "                for (var i = 0; i < nbb_cells.length; ++i) {\n",
       "                    if (nbb_cells[i].input_prompt_number == nbb_cell_id) {\n",
       "                        if (nbb_cells[i].get_text() == nbb_unformatted_code) {\n",
       "                             nbb_cells[i].set_text(nbb_formatted_code);\n",
       "                        }\n",
       "                        break;\n",
       "                    }\n",
       "                }\n",
       "            }, 500);\n",
       "            "
      ],
      "text/plain": [
       "<IPython.core.display.Javascript object>"
      ]
     },
     "metadata": {},
     "output_type": "display_data"
    }
   ],
   "source": [
    "\"\"\"\n",
    "Kết quả tốt, \n",
    "Accuracy, precision, recall, f1-score đều cao\n",
    "=> model có thể sử dụng\n",
    "\"\"\""
   ]
  },
  {
   "cell_type": "code",
   "execution_count": 122,
   "id": "9648a872",
   "metadata": {},
   "outputs": [
    {
     "name": "stdout",
     "output_type": "stream",
     "text": [
      "run time:  0.0019948482513427734\n"
     ]
    },
    {
     "data": {
      "application/javascript": [
       "\n",
       "            setTimeout(function() {\n",
       "                var nbb_cell_id = 122;\n",
       "                var nbb_unformatted_code = \"start = time.time()\\nknn2_model = KNeighborsClassifier(n_neighbors=3, weights=\\\"uniform\\\").fit(\\n    X_new_train, y_train\\n)\\nend = time.time()\\nrun_time = end - start\\nprint(\\\"run time: \\\", run_time)\";\n",
       "                var nbb_formatted_code = \"start = time.time()\\nknn2_model = KNeighborsClassifier(n_neighbors=3, weights=\\\"uniform\\\").fit(\\n    X_new_train, y_train\\n)\\nend = time.time()\\nrun_time = end - start\\nprint(\\\"run time: \\\", run_time)\";\n",
       "                var nbb_cells = Jupyter.notebook.get_cells();\n",
       "                for (var i = 0; i < nbb_cells.length; ++i) {\n",
       "                    if (nbb_cells[i].input_prompt_number == nbb_cell_id) {\n",
       "                        if (nbb_cells[i].get_text() == nbb_unformatted_code) {\n",
       "                             nbb_cells[i].set_text(nbb_formatted_code);\n",
       "                        }\n",
       "                        break;\n",
       "                    }\n",
       "                }\n",
       "            }, 500);\n",
       "            "
      ],
      "text/plain": [
       "<IPython.core.display.Javascript object>"
      ]
     },
     "metadata": {},
     "output_type": "display_data"
    }
   ],
   "source": [
    "start = time.time()\n",
    "knn2_model = KNeighborsClassifier(n_neighbors=3, weights=\"uniform\").fit(\n",
    "    X_new_train, y_train\n",
    ")\n",
    "end = time.time()\n",
    "run_time = end - start\n",
    "print(\"run time: \", run_time)"
   ]
  },
  {
   "cell_type": "code",
   "execution_count": 123,
   "id": "6b196cf7",
   "metadata": {},
   "outputs": [
    {
     "data": {
      "application/javascript": [
       "\n",
       "            setTimeout(function() {\n",
       "                var nbb_cell_id = 123;\n",
       "                var nbb_unformatted_code = \"coss_score = cross_val_score(knn2_model, X, y, scoring=\\\"accuracy\\\", cv=10)\\ndf_evaluate = df_evaluate.append(\\n    {\\\"Name\\\": \\\"KNN\\\", \\\"Score\\\": coss_score.mean(), \\\"Run_Time\\\": run_time},\\n    ignore_index=True,\\n)\";\n",
       "                var nbb_formatted_code = \"coss_score = cross_val_score(knn2_model, X, y, scoring=\\\"accuracy\\\", cv=10)\\ndf_evaluate = df_evaluate.append(\\n    {\\\"Name\\\": \\\"KNN\\\", \\\"Score\\\": coss_score.mean(), \\\"Run_Time\\\": run_time},\\n    ignore_index=True,\\n)\";\n",
       "                var nbb_cells = Jupyter.notebook.get_cells();\n",
       "                for (var i = 0; i < nbb_cells.length; ++i) {\n",
       "                    if (nbb_cells[i].input_prompt_number == nbb_cell_id) {\n",
       "                        if (nbb_cells[i].get_text() == nbb_unformatted_code) {\n",
       "                             nbb_cells[i].set_text(nbb_formatted_code);\n",
       "                        }\n",
       "                        break;\n",
       "                    }\n",
       "                }\n",
       "            }, 500);\n",
       "            "
      ],
      "text/plain": [
       "<IPython.core.display.Javascript object>"
      ]
     },
     "metadata": {},
     "output_type": "display_data"
    }
   ],
   "source": [
    "coss_score = cross_val_score(knn2_model, X, y, scoring=\"accuracy\", cv=10)\n",
    "df_evaluate = df_evaluate.append(\n",
    "    {\"Name\": \"KNN\", \"Score\": coss_score.mean(), \"Run_Time\": run_time},\n",
    "    ignore_index=True,\n",
    ")"
   ]
  },
  {
   "cell_type": "code",
   "execution_count": 124,
   "id": "c4b98ce8",
   "metadata": {},
   "outputs": [
    {
     "data": {
      "text/html": [
       "<div>\n",
       "<style scoped>\n",
       "    .dataframe tbody tr th:only-of-type {\n",
       "        vertical-align: middle;\n",
       "    }\n",
       "\n",
       "    .dataframe tbody tr th {\n",
       "        vertical-align: top;\n",
       "    }\n",
       "\n",
       "    .dataframe thead th {\n",
       "        text-align: right;\n",
       "    }\n",
       "</style>\n",
       "<table border=\"1\" class=\"dataframe\">\n",
       "  <thead>\n",
       "    <tr style=\"text-align: right;\">\n",
       "      <th></th>\n",
       "      <th>Name</th>\n",
       "      <th>Score</th>\n",
       "      <th>Run_Time</th>\n",
       "    </tr>\n",
       "  </thead>\n",
       "  <tbody>\n",
       "    <tr>\n",
       "      <th>0</th>\n",
       "      <td>LogisticRegression</td>\n",
       "      <td>0.964260</td>\n",
       "      <td>0.006947</td>\n",
       "    </tr>\n",
       "    <tr>\n",
       "      <th>1</th>\n",
       "      <td>Decision Tree</td>\n",
       "      <td>0.925134</td>\n",
       "      <td>0.001962</td>\n",
       "    </tr>\n",
       "    <tr>\n",
       "      <th>2</th>\n",
       "      <td>KNN</td>\n",
       "      <td>0.964171</td>\n",
       "      <td>0.001995</td>\n",
       "    </tr>\n",
       "  </tbody>\n",
       "</table>\n",
       "</div>"
      ],
      "text/plain": [
       "                 Name     Score  Run_Time\n",
       "0  LogisticRegression  0.964260  0.006947\n",
       "1       Decision Tree  0.925134  0.001962\n",
       "2                 KNN  0.964171  0.001995"
      ]
     },
     "execution_count": 124,
     "metadata": {},
     "output_type": "execute_result"
    },
    {
     "data": {
      "application/javascript": [
       "\n",
       "            setTimeout(function() {\n",
       "                var nbb_cell_id = 124;\n",
       "                var nbb_unformatted_code = \"df_evaluate\";\n",
       "                var nbb_formatted_code = \"df_evaluate\";\n",
       "                var nbb_cells = Jupyter.notebook.get_cells();\n",
       "                for (var i = 0; i < nbb_cells.length; ++i) {\n",
       "                    if (nbb_cells[i].input_prompt_number == nbb_cell_id) {\n",
       "                        if (nbb_cells[i].get_text() == nbb_unformatted_code) {\n",
       "                             nbb_cells[i].set_text(nbb_formatted_code);\n",
       "                        }\n",
       "                        break;\n",
       "                    }\n",
       "                }\n",
       "            }, 500);\n",
       "            "
      ],
      "text/plain": [
       "<IPython.core.display.Javascript object>"
      ]
     },
     "metadata": {},
     "output_type": "display_data"
    }
   ],
   "source": [
    "df_evaluate"
   ]
  },
  {
   "cell_type": "markdown",
   "id": "203dcc5c",
   "metadata": {},
   "source": [
    "### Random Forest"
   ]
  },
  {
   "cell_type": "code",
   "execution_count": 146,
   "id": "ae1f63e2",
   "metadata": {},
   "outputs": [
    {
     "name": "stdout",
     "output_type": "stream",
     "text": [
      "{'max_features': 'auto', 'min_samples_split': 3, 'n_estimators': 50, 'random_state': 1}\n",
      "run time:  29.682843923568726\n"
     ]
    },
    {
     "data": {
      "application/javascript": [
       "\n",
       "            setTimeout(function() {\n",
       "                var nbb_cell_id = 146;\n",
       "                var nbb_unformatted_code = \"param_grid = {\\n    \\\"n_estimators\\\": [20, 25, 50],\\n    \\\"max_features\\\": [\\\"auto\\\", \\\"sqrt\\\", \\\"log2\\\"],\\n    \\\"min_samples_split\\\": [2, 3, 4, 5, 6, 7, 8, 9, 10],\\n    \\\"random_state\\\": [1, 42],\\n}\\nstart = time.time()\\nrf_model = GridSearchCV(RandomForestClassifier(), param_grid, cv=5)\\nrf_model.fit(X_train, y_train)\\nprint(rf_model.best_params_)\\nend = time.time()\\nprint(\\\"run time: \\\", end - start)\";\n",
       "                var nbb_formatted_code = \"param_grid = {\\n    \\\"n_estimators\\\": [20, 25, 50],\\n    \\\"max_features\\\": [\\\"auto\\\", \\\"sqrt\\\", \\\"log2\\\"],\\n    \\\"min_samples_split\\\": [2, 3, 4, 5, 6, 7, 8, 9, 10],\\n    \\\"random_state\\\": [1, 42],\\n}\\nstart = time.time()\\nrf_model = GridSearchCV(RandomForestClassifier(), param_grid, cv=5)\\nrf_model.fit(X_train, y_train)\\nprint(rf_model.best_params_)\\nend = time.time()\\nprint(\\\"run time: \\\", end - start)\";\n",
       "                var nbb_cells = Jupyter.notebook.get_cells();\n",
       "                for (var i = 0; i < nbb_cells.length; ++i) {\n",
       "                    if (nbb_cells[i].input_prompt_number == nbb_cell_id) {\n",
       "                        if (nbb_cells[i].get_text() == nbb_unformatted_code) {\n",
       "                             nbb_cells[i].set_text(nbb_formatted_code);\n",
       "                        }\n",
       "                        break;\n",
       "                    }\n",
       "                }\n",
       "            }, 500);\n",
       "            "
      ],
      "text/plain": [
       "<IPython.core.display.Javascript object>"
      ]
     },
     "metadata": {},
     "output_type": "display_data"
    }
   ],
   "source": [
    "param_grid = {\n",
    "'bootstrap': [True, False],\n",
    " 'max_depth': [10, 20, 30, 40, 50, 60, 70, 80, 90, 100, None],\n",
    " 'max_features': ['auto', 'sqrt'],\n",
    " 'min_samples_leaf': [1, 2, 4],\n",
    " 'min_samples_split': [2, 5, 10],\n",
    " 'n_estimators': [200, 400, 600, 800, 1000, 1200, 1400, 1600, 1800, 2000]\n",
    "}\n",
    "start = time.time()\n",
    "rf_model = GridSearchCV(RandomForestClassifier(), param_grid, cv=5)\n",
    "rf_model.fit(X_train, y_train)\n",
    "print(rf_model.best_params_)\n",
    "end = time.time()\n",
    "print(\"run time: \", end - start)"
   ]
  },
  {
   "cell_type": "code",
   "execution_count": 125,
   "id": "756e270e",
   "metadata": {},
   "outputs": [
    {
     "data": {
      "text/plain": [
       "\"\\nThuật toán chạy khá lâu bàn chất RandomForest phức tạp và thuật toán này có nhiều tham số, \\nVới các tham số như param_grid, thời gian chạy là hơn 29s\\n=> nếu nhiều tham số hơn nữa thì thời gian chạy còn lâu hơn.\\n\\nĐối với các tập tham số trên thì best prams là\\n'max_features': 'auto', 'min_samples_split': 3, 'n_estimators': 50, 'random_state': 1 \\n\""
      ]
     },
     "execution_count": 125,
     "metadata": {},
     "output_type": "execute_result"
    },
    {
     "data": {
      "application/javascript": [
       "\n",
       "            setTimeout(function() {\n",
       "                var nbb_cell_id = 125;\n",
       "                var nbb_unformatted_code = \"\\\"\\\"\\\"\\nThu\\u1eadt to\\u00e1n ch\\u1ea1y kh\\u00e1 l\\u00e2u b\\u00e0n ch\\u1ea5t RandomForest ph\\u1ee9c t\\u1ea1p v\\u00e0 thu\\u1eadt to\\u00e1n n\\u00e0y c\\u00f3 nhi\\u1ec1u tham s\\u1ed1, \\nV\\u1edbi c\\u00e1c tham s\\u1ed1 nh\\u01b0 param_grid, th\\u1eddi gian ch\\u1ea1y l\\u00e0 h\\u01a1n 29s\\n=> n\\u1ebfu nhi\\u1ec1u tham s\\u1ed1 h\\u01a1n n\\u1eefa th\\u00ec th\\u1eddi gian ch\\u1ea1y c\\u00f2n l\\u00e2u h\\u01a1n.\\n\\n\\u0110\\u1ed1i v\\u1edbi c\\u00e1c t\\u1eadp tham s\\u1ed1 tr\\u00ean th\\u00ec best prams l\\u00e0\\n'max_features': 'auto', 'min_samples_split': 3, 'n_estimators': 50, 'random_state': 1 \\n\\\"\\\"\\\"\";\n",
       "                var nbb_formatted_code = \"\\\"\\\"\\\"\\nThu\\u1eadt to\\u00e1n ch\\u1ea1y kh\\u00e1 l\\u00e2u b\\u00e0n ch\\u1ea5t RandomForest ph\\u1ee9c t\\u1ea1p v\\u00e0 thu\\u1eadt to\\u00e1n n\\u00e0y c\\u00f3 nhi\\u1ec1u tham s\\u1ed1, \\nV\\u1edbi c\\u00e1c tham s\\u1ed1 nh\\u01b0 param_grid, th\\u1eddi gian ch\\u1ea1y l\\u00e0 h\\u01a1n 29s\\n=> n\\u1ebfu nhi\\u1ec1u tham s\\u1ed1 h\\u01a1n n\\u1eefa th\\u00ec th\\u1eddi gian ch\\u1ea1y c\\u00f2n l\\u00e2u h\\u01a1n.\\n\\n\\u0110\\u1ed1i v\\u1edbi c\\u00e1c t\\u1eadp tham s\\u1ed1 tr\\u00ean th\\u00ec best prams l\\u00e0\\n'max_features': 'auto', 'min_samples_split': 3, 'n_estimators': 50, 'random_state': 1 \\n\\\"\\\"\\\"\";\n",
       "                var nbb_cells = Jupyter.notebook.get_cells();\n",
       "                for (var i = 0; i < nbb_cells.length; ++i) {\n",
       "                    if (nbb_cells[i].input_prompt_number == nbb_cell_id) {\n",
       "                        if (nbb_cells[i].get_text() == nbb_unformatted_code) {\n",
       "                             nbb_cells[i].set_text(nbb_formatted_code);\n",
       "                        }\n",
       "                        break;\n",
       "                    }\n",
       "                }\n",
       "            }, 500);\n",
       "            "
      ],
      "text/plain": [
       "<IPython.core.display.Javascript object>"
      ]
     },
     "metadata": {},
     "output_type": "display_data"
    }
   ],
   "source": [
    "\"\"\"\n",
    "Thuật toán chạy khá lâu bàn chất RandomForest phức tạp và thuật toán này có nhiều tham số, \n",
    "Với các tham số như param_grid, thời gian chạy là hơn 29s\n",
    "=> nếu nhiều tham số hơn nữa thì thời gian chạy còn lâu hơn.\n",
    "\n",
    "Đối với các tập tham số trên thì best prams là\n",
    "'max_features': 'auto', 'min_samples_split': 3, 'n_estimators': 50, 'random_state': 1 \n",
    "\"\"\""
   ]
  },
  {
   "cell_type": "code",
   "execution_count": 136,
   "id": "66dc1dc8",
   "metadata": {},
   "outputs": [
    {
     "name": "stdout",
     "output_type": "stream",
     "text": [
      "***TRAINIG RESULTS***: \n",
      "==================================================\n",
      "Confusion matrix: \n",
      " [[156   1]\n",
      " [  0 111]]\n",
      "Train Accuracy Score: 0.996268656716418\n",
      "Classification Report: \n",
      "               precision    recall  f1-score   support\n",
      "\n",
      "           N       1.00      0.99      1.00       157\n",
      "           P       0.99      1.00      1.00       111\n",
      "\n",
      "    accuracy                           1.00       268\n",
      "   macro avg       1.00      1.00      1.00       268\n",
      "weighted avg       1.00      1.00      1.00       268\n",
      "\n",
      "***TEST RESULTS***: \n",
      "===================================================\n",
      "Test Accuracy: 0.9264705882352942\n",
      "Confusion matrix: \n",
      " [[33  3]\n",
      " [ 2 30]]\n",
      "Test Accuracy Score: 0.9264705882352942\n",
      "Classification Report: \n",
      "               precision    recall  f1-score   support\n",
      "\n",
      "           N       0.94      0.92      0.93        36\n",
      "           P       0.91      0.94      0.92        32\n",
      "\n",
      "    accuracy                           0.93        68\n",
      "   macro avg       0.93      0.93      0.93        68\n",
      "weighted avg       0.93      0.93      0.93        68\n",
      "\n"
     ]
    },
    {
     "data": {
      "application/javascript": [
       "\n",
       "            setTimeout(function() {\n",
       "                var nbb_cell_id = 136;\n",
       "                var nbb_unformatted_code = \"evaluate(rf_model, X_train, X_test, y_train, y_test)\";\n",
       "                var nbb_formatted_code = \"evaluate(rf_model, X_train, X_test, y_train, y_test)\";\n",
       "                var nbb_cells = Jupyter.notebook.get_cells();\n",
       "                for (var i = 0; i < nbb_cells.length; ++i) {\n",
       "                    if (nbb_cells[i].input_prompt_number == nbb_cell_id) {\n",
       "                        if (nbb_cells[i].get_text() == nbb_unformatted_code) {\n",
       "                             nbb_cells[i].set_text(nbb_formatted_code);\n",
       "                        }\n",
       "                        break;\n",
       "                    }\n",
       "                }\n",
       "            }, 500);\n",
       "            "
      ],
      "text/plain": [
       "<IPython.core.display.Javascript object>"
      ]
     },
     "metadata": {},
     "output_type": "display_data"
    }
   ],
   "source": [
    "evaluate(rf_model, X_train, X_test, y_train, y_test)"
   ]
  },
  {
   "cell_type": "markdown",
   "id": "feab0b6c",
   "metadata": {},
   "source": [
    "### <p style=\"color:blue\">Nhận xét</p>"
   ]
  },
  {
   "cell_type": "code",
   "execution_count": 126,
   "id": "e99b5489",
   "metadata": {},
   "outputs": [
    {
     "data": {
      "text/plain": [
       "'\\nKết quả tốt, \\nAccuracy, precision, recall, f1-score đều cao\\n=> model có thể sử dụng\\n'"
      ]
     },
     "execution_count": 126,
     "metadata": {},
     "output_type": "execute_result"
    },
    {
     "data": {
      "application/javascript": [
       "\n",
       "            setTimeout(function() {\n",
       "                var nbb_cell_id = 126;\n",
       "                var nbb_unformatted_code = \"\\\"\\\"\\\"\\nK\\u1ebft qu\\u1ea3 t\\u1ed1t, \\nAccuracy, precision, recall, f1-score \\u0111\\u1ec1u cao\\n=> model c\\u00f3 th\\u1ec3 s\\u1eed d\\u1ee5ng\\n\\\"\\\"\\\"\";\n",
       "                var nbb_formatted_code = \"\\\"\\\"\\\"\\nK\\u1ebft qu\\u1ea3 t\\u1ed1t, \\nAccuracy, precision, recall, f1-score \\u0111\\u1ec1u cao\\n=> model c\\u00f3 th\\u1ec3 s\\u1eed d\\u1ee5ng\\n\\\"\\\"\\\"\";\n",
       "                var nbb_cells = Jupyter.notebook.get_cells();\n",
       "                for (var i = 0; i < nbb_cells.length; ++i) {\n",
       "                    if (nbb_cells[i].input_prompt_number == nbb_cell_id) {\n",
       "                        if (nbb_cells[i].get_text() == nbb_unformatted_code) {\n",
       "                             nbb_cells[i].set_text(nbb_formatted_code);\n",
       "                        }\n",
       "                        break;\n",
       "                    }\n",
       "                }\n",
       "            }, 500);\n",
       "            "
      ],
      "text/plain": [
       "<IPython.core.display.Javascript object>"
      ]
     },
     "metadata": {},
     "output_type": "display_data"
    }
   ],
   "source": [
    "\"\"\"\n",
    "Kết quả tốt, \n",
    "Accuracy, precision, recall, f1-score đều cao\n",
    "=> model có thể sử dụng\n",
    "\"\"\""
   ]
  },
  {
   "cell_type": "code",
   "execution_count": 127,
   "id": "11cf03bf",
   "metadata": {},
   "outputs": [
    {
     "name": "stdout",
     "output_type": "stream",
     "text": [
      "run time:  0.05187511444091797\n"
     ]
    },
    {
     "data": {
      "application/javascript": [
       "\n",
       "            setTimeout(function() {\n",
       "                var nbb_cell_id = 127;\n",
       "                var nbb_unformatted_code = \"start = time.time()\\nrf2_model = RandomForestClassifier(\\n    max_features=\\\"auto\\\", min_samples_split=3, n_estimators=50, random_state=1\\n).fit(X_new_train, y_train)\\nend = time.time()\\nrun_time = end - start\\nprint(\\\"run time: \\\", run_time)\";\n",
       "                var nbb_formatted_code = \"start = time.time()\\nrf2_model = RandomForestClassifier(\\n    max_features=\\\"auto\\\", min_samples_split=3, n_estimators=50, random_state=1\\n).fit(X_new_train, y_train)\\nend = time.time()\\nrun_time = end - start\\nprint(\\\"run time: \\\", run_time)\";\n",
       "                var nbb_cells = Jupyter.notebook.get_cells();\n",
       "                for (var i = 0; i < nbb_cells.length; ++i) {\n",
       "                    if (nbb_cells[i].input_prompt_number == nbb_cell_id) {\n",
       "                        if (nbb_cells[i].get_text() == nbb_unformatted_code) {\n",
       "                             nbb_cells[i].set_text(nbb_formatted_code);\n",
       "                        }\n",
       "                        break;\n",
       "                    }\n",
       "                }\n",
       "            }, 500);\n",
       "            "
      ],
      "text/plain": [
       "<IPython.core.display.Javascript object>"
      ]
     },
     "metadata": {},
     "output_type": "display_data"
    }
   ],
   "source": [
    "start = time.time()\n",
    "rf2_model = RandomForestClassifier(\n",
    "    max_features=\"auto\", min_samples_split=3, n_estimators=50, random_state=1\n",
    ").fit(X_new_train, y_train)\n",
    "end = time.time()\n",
    "run_time = end - start\n",
    "print(\"run time: \", run_time)"
   ]
  },
  {
   "cell_type": "code",
   "execution_count": 128,
   "id": "82b5ec50",
   "metadata": {},
   "outputs": [
    {
     "data": {
      "text/html": [
       "<div>\n",
       "<style scoped>\n",
       "    .dataframe tbody tr th:only-of-type {\n",
       "        vertical-align: middle;\n",
       "    }\n",
       "\n",
       "    .dataframe tbody tr th {\n",
       "        vertical-align: top;\n",
       "    }\n",
       "\n",
       "    .dataframe thead th {\n",
       "        text-align: right;\n",
       "    }\n",
       "</style>\n",
       "<table border=\"1\" class=\"dataframe\">\n",
       "  <thead>\n",
       "    <tr style=\"text-align: right;\">\n",
       "      <th></th>\n",
       "      <th>Name</th>\n",
       "      <th>Score</th>\n",
       "      <th>Run_Time</th>\n",
       "    </tr>\n",
       "  </thead>\n",
       "  <tbody>\n",
       "    <tr>\n",
       "      <th>0</th>\n",
       "      <td>LogisticRegression</td>\n",
       "      <td>0.964260</td>\n",
       "      <td>0.006947</td>\n",
       "    </tr>\n",
       "    <tr>\n",
       "      <th>1</th>\n",
       "      <td>Decision Tree</td>\n",
       "      <td>0.925134</td>\n",
       "      <td>0.001962</td>\n",
       "    </tr>\n",
       "    <tr>\n",
       "      <th>2</th>\n",
       "      <td>KNN</td>\n",
       "      <td>0.964171</td>\n",
       "      <td>0.001995</td>\n",
       "    </tr>\n",
       "    <tr>\n",
       "      <th>3</th>\n",
       "      <td>Random Forest</td>\n",
       "      <td>0.955080</td>\n",
       "      <td>0.051875</td>\n",
       "    </tr>\n",
       "  </tbody>\n",
       "</table>\n",
       "</div>"
      ],
      "text/plain": [
       "                 Name     Score  Run_Time\n",
       "0  LogisticRegression  0.964260  0.006947\n",
       "1       Decision Tree  0.925134  0.001962\n",
       "2                 KNN  0.964171  0.001995\n",
       "3       Random Forest  0.955080  0.051875"
      ]
     },
     "execution_count": 128,
     "metadata": {},
     "output_type": "execute_result"
    },
    {
     "data": {
      "application/javascript": [
       "\n",
       "            setTimeout(function() {\n",
       "                var nbb_cell_id = 128;\n",
       "                var nbb_unformatted_code = \"coss_score = cross_val_score(rf2_model, X, y, scoring=\\\"accuracy\\\", cv=10)\\ndf_evaluate = df_evaluate.append(\\n    {\\\"Name\\\": \\\"Random Forest\\\", \\\"Score\\\": coss_score.mean(), \\\"Run_Time\\\": run_time},\\n    ignore_index=True,\\n)\\ndf_evaluate\";\n",
       "                var nbb_formatted_code = \"coss_score = cross_val_score(rf2_model, X, y, scoring=\\\"accuracy\\\", cv=10)\\ndf_evaluate = df_evaluate.append(\\n    {\\\"Name\\\": \\\"Random Forest\\\", \\\"Score\\\": coss_score.mean(), \\\"Run_Time\\\": run_time},\\n    ignore_index=True,\\n)\\ndf_evaluate\";\n",
       "                var nbb_cells = Jupyter.notebook.get_cells();\n",
       "                for (var i = 0; i < nbb_cells.length; ++i) {\n",
       "                    if (nbb_cells[i].input_prompt_number == nbb_cell_id) {\n",
       "                        if (nbb_cells[i].get_text() == nbb_unformatted_code) {\n",
       "                             nbb_cells[i].set_text(nbb_formatted_code);\n",
       "                        }\n",
       "                        break;\n",
       "                    }\n",
       "                }\n",
       "            }, 500);\n",
       "            "
      ],
      "text/plain": [
       "<IPython.core.display.Javascript object>"
      ]
     },
     "metadata": {},
     "output_type": "display_data"
    }
   ],
   "source": [
    "coss_score = cross_val_score(rf2_model, X, y, scoring=\"accuracy\", cv=10)\n",
    "df_evaluate = df_evaluate.append(\n",
    "    {\"Name\": \"Random Forest\", \"Score\": coss_score.mean(), \"Run_Time\": run_time},\n",
    "    ignore_index=True,\n",
    ")\n",
    "df_evaluate"
   ]
  },
  {
   "cell_type": "markdown",
   "id": "957a63ec",
   "metadata": {},
   "source": [
    "### SVM"
   ]
  },
  {
   "cell_type": "code",
   "execution_count": 187,
   "id": "acfa1855",
   "metadata": {},
   "outputs": [
    {
     "name": "stdout",
     "output_type": "stream",
     "text": [
      "{'C': 1000, 'gamma': 1, 'kernel': 'linear'}\n",
      "run time:  1.8428294658660889\n"
     ]
    },
    {
     "data": {
      "application/javascript": [
       "\n",
       "            setTimeout(function() {\n",
       "                var nbb_cell_id = 187;\n",
       "                var nbb_unformatted_code = \"parameters = {\\n    \\\"C\\\": [0.1, 1, 10, 100, 1000],\\n    \\\"gamma\\\": [1, 0.1, 0.01, 0.001, 0.0001],\\n    \\\"kernel\\\": [\\\"rbf\\\", \\\"polynomial\\\", \\\"sigmoid\\\", \\\"linear\\\"],\\n}\\n\\nstart = time.time()\\nsvc_model = GridSearchCV(svm.SVC(), parameters, cv=5)\\nsvc_model.fit(X_train, y_train)\\nprint(svc_model.best_params_)\\nend = time.time()\\nprint(\\\"run time: \\\", end - start)\";\n",
       "                var nbb_formatted_code = \"parameters = {\\n    \\\"C\\\": [0.1, 1, 10, 100, 1000],\\n    \\\"gamma\\\": [1, 0.1, 0.01, 0.001, 0.0001],\\n    \\\"kernel\\\": [\\\"rbf\\\", \\\"polynomial\\\", \\\"sigmoid\\\", \\\"linear\\\"],\\n}\\n\\nstart = time.time()\\nsvc_model = GridSearchCV(svm.SVC(), parameters, cv=5)\\nsvc_model.fit(X_train, y_train)\\nprint(svc_model.best_params_)\\nend = time.time()\\nprint(\\\"run time: \\\", end - start)\";\n",
       "                var nbb_cells = Jupyter.notebook.get_cells();\n",
       "                for (var i = 0; i < nbb_cells.length; ++i) {\n",
       "                    if (nbb_cells[i].input_prompt_number == nbb_cell_id) {\n",
       "                        if (nbb_cells[i].get_text() == nbb_unformatted_code) {\n",
       "                             nbb_cells[i].set_text(nbb_formatted_code);\n",
       "                        }\n",
       "                        break;\n",
       "                    }\n",
       "                }\n",
       "            }, 500);\n",
       "            "
      ],
      "text/plain": [
       "<IPython.core.display.Javascript object>"
      ]
     },
     "metadata": {},
     "output_type": "display_data"
    }
   ],
   "source": [
    "parameters = {\n",
    "    \"C\": [0.1, 1, 10, 100, 1000],\n",
    "    \"gamma\": [1, 0.1, 0.01, 0.001, 0.0001],\n",
    "    \"kernel\": [\"rbf\", \"polynomial\", \"sigmoid\", \"linear\"],\n",
    "}\n",
    "\n",
    "start = time.time()\n",
    "svc_model = GridSearchCV(svm.SVC(), parameters, cv=5)\n",
    "svc_model.fit(X_train, y_train)\n",
    "print(svc_model.best_params_)\n",
    "end = time.time()\n",
    "print(\"run time: \", end - start)"
   ]
  },
  {
   "cell_type": "code",
   "execution_count": 129,
   "id": "a799f45d",
   "metadata": {},
   "outputs": [
    {
     "data": {
      "text/plain": [
       "\"\\nvậy 'C': 1000, 'gamma': 1, 'kernel': 'linear' là best prams của vector suport machine\\n\""
      ]
     },
     "execution_count": 129,
     "metadata": {},
     "output_type": "execute_result"
    },
    {
     "data": {
      "application/javascript": [
       "\n",
       "            setTimeout(function() {\n",
       "                var nbb_cell_id = 129;\n",
       "                var nbb_unformatted_code = \"\\\"\\\"\\\"\\nv\\u1eady 'C': 1000, 'gamma': 1, 'kernel': 'linear' l\\u00e0 best prams c\\u1ee7a vector suport machine\\n\\\"\\\"\\\"\";\n",
       "                var nbb_formatted_code = \"\\\"\\\"\\\"\\nv\\u1eady 'C': 1000, 'gamma': 1, 'kernel': 'linear' l\\u00e0 best prams c\\u1ee7a vector suport machine\\n\\\"\\\"\\\"\";\n",
       "                var nbb_cells = Jupyter.notebook.get_cells();\n",
       "                for (var i = 0; i < nbb_cells.length; ++i) {\n",
       "                    if (nbb_cells[i].input_prompt_number == nbb_cell_id) {\n",
       "                        if (nbb_cells[i].get_text() == nbb_unformatted_code) {\n",
       "                             nbb_cells[i].set_text(nbb_formatted_code);\n",
       "                        }\n",
       "                        break;\n",
       "                    }\n",
       "                }\n",
       "            }, 500);\n",
       "            "
      ],
      "text/plain": [
       "<IPython.core.display.Javascript object>"
      ]
     },
     "metadata": {},
     "output_type": "display_data"
    }
   ],
   "source": [
    "\"\"\"\n",
    "vậy 'C': 1000, 'gamma': 1, 'kernel': 'linear' là best prams của vector suport machine\n",
    "\"\"\""
   ]
  },
  {
   "cell_type": "code",
   "execution_count": 188,
   "id": "340e8134",
   "metadata": {},
   "outputs": [
    {
     "name": "stdout",
     "output_type": "stream",
     "text": [
      "***TRAINIG RESULTS***: \n",
      "==================================================\n",
      "Confusion matrix: \n",
      " [[156   1]\n",
      " [  3 108]]\n",
      "Train Accuracy Score: 0.9850746268656716\n",
      "Classification Report: \n",
      "               precision    recall  f1-score   support\n",
      "\n",
      "           N       0.98      0.99      0.99       157\n",
      "           P       0.99      0.97      0.98       111\n",
      "\n",
      "    accuracy                           0.99       268\n",
      "   macro avg       0.99      0.98      0.98       268\n",
      "weighted avg       0.99      0.99      0.99       268\n",
      "\n",
      "***TEST RESULTS***: \n",
      "===================================================\n",
      "Test Accuracy: 0.9411764705882353\n",
      "Confusion matrix: \n",
      " [[33  3]\n",
      " [ 1 31]]\n",
      "Test Accuracy Score: 0.9411764705882353\n",
      "Classification Report: \n",
      "               precision    recall  f1-score   support\n",
      "\n",
      "           N       0.97      0.92      0.94        36\n",
      "           P       0.91      0.97      0.94        32\n",
      "\n",
      "    accuracy                           0.94        68\n",
      "   macro avg       0.94      0.94      0.94        68\n",
      "weighted avg       0.94      0.94      0.94        68\n",
      "\n"
     ]
    },
    {
     "data": {
      "application/javascript": [
       "\n",
       "            setTimeout(function() {\n",
       "                var nbb_cell_id = 188;\n",
       "                var nbb_unformatted_code = \"evaluate(svc_model, X_train, X_test, y_train, y_test)\";\n",
       "                var nbb_formatted_code = \"evaluate(svc_model, X_train, X_test, y_train, y_test)\";\n",
       "                var nbb_cells = Jupyter.notebook.get_cells();\n",
       "                for (var i = 0; i < nbb_cells.length; ++i) {\n",
       "                    if (nbb_cells[i].input_prompt_number == nbb_cell_id) {\n",
       "                        if (nbb_cells[i].get_text() == nbb_unformatted_code) {\n",
       "                             nbb_cells[i].set_text(nbb_formatted_code);\n",
       "                        }\n",
       "                        break;\n",
       "                    }\n",
       "                }\n",
       "            }, 500);\n",
       "            "
      ],
      "text/plain": [
       "<IPython.core.display.Javascript object>"
      ]
     },
     "metadata": {},
     "output_type": "display_data"
    }
   ],
   "source": [
    "evaluate(svc_model, X_train, X_test, y_train, y_test)"
   ]
  },
  {
   "cell_type": "markdown",
   "id": "ffadd4c6",
   "metadata": {},
   "source": [
    "### <p style=\"color:blue\">Nhận xét</p>"
   ]
  },
  {
   "cell_type": "code",
   "execution_count": 130,
   "id": "803c5f25",
   "metadata": {},
   "outputs": [
    {
     "data": {
      "text/plain": [
       "'\\nKết quả tốt, \\nAccuracy, precision, recall, f1-score đều cao\\n=> model có thể sử dụng\\n'"
      ]
     },
     "execution_count": 130,
     "metadata": {},
     "output_type": "execute_result"
    },
    {
     "data": {
      "application/javascript": [
       "\n",
       "            setTimeout(function() {\n",
       "                var nbb_cell_id = 130;\n",
       "                var nbb_unformatted_code = \"\\\"\\\"\\\"\\nK\\u1ebft qu\\u1ea3 t\\u1ed1t, \\nAccuracy, precision, recall, f1-score \\u0111\\u1ec1u cao\\n=> model c\\u00f3 th\\u1ec3 s\\u1eed d\\u1ee5ng\\n\\\"\\\"\\\"\";\n",
       "                var nbb_formatted_code = \"\\\"\\\"\\\"\\nK\\u1ebft qu\\u1ea3 t\\u1ed1t, \\nAccuracy, precision, recall, f1-score \\u0111\\u1ec1u cao\\n=> model c\\u00f3 th\\u1ec3 s\\u1eed d\\u1ee5ng\\n\\\"\\\"\\\"\";\n",
       "                var nbb_cells = Jupyter.notebook.get_cells();\n",
       "                for (var i = 0; i < nbb_cells.length; ++i) {\n",
       "                    if (nbb_cells[i].input_prompt_number == nbb_cell_id) {\n",
       "                        if (nbb_cells[i].get_text() == nbb_unformatted_code) {\n",
       "                             nbb_cells[i].set_text(nbb_formatted_code);\n",
       "                        }\n",
       "                        break;\n",
       "                    }\n",
       "                }\n",
       "            }, 500);\n",
       "            "
      ],
      "text/plain": [
       "<IPython.core.display.Javascript object>"
      ]
     },
     "metadata": {},
     "output_type": "display_data"
    }
   ],
   "source": [
    "\"\"\"\n",
    "Kết quả tốt, \n",
    "Accuracy, precision, recall, f1-score đều cao\n",
    "=> model có thể sử dụng\n",
    "\"\"\""
   ]
  },
  {
   "cell_type": "code",
   "execution_count": 131,
   "id": "5e81bfff",
   "metadata": {},
   "outputs": [
    {
     "name": "stdout",
     "output_type": "stream",
     "text": [
      "run time:  0.0019927024841308594\n"
     ]
    },
    {
     "data": {
      "application/javascript": [
       "\n",
       "            setTimeout(function() {\n",
       "                var nbb_cell_id = 131;\n",
       "                var nbb_unformatted_code = \"start = time.time()\\nsvc2_model = svm.SVC(C=1000, gamma=1, kernel=\\\"linear\\\").fit(X_new_train, y_train)\\nend = time.time()\\nrun_time = end - start\\nprint(\\\"run time: \\\", run_time)\";\n",
       "                var nbb_formatted_code = \"start = time.time()\\nsvc2_model = svm.SVC(C=1000, gamma=1, kernel=\\\"linear\\\").fit(X_new_train, y_train)\\nend = time.time()\\nrun_time = end - start\\nprint(\\\"run time: \\\", run_time)\";\n",
       "                var nbb_cells = Jupyter.notebook.get_cells();\n",
       "                for (var i = 0; i < nbb_cells.length; ++i) {\n",
       "                    if (nbb_cells[i].input_prompt_number == nbb_cell_id) {\n",
       "                        if (nbb_cells[i].get_text() == nbb_unformatted_code) {\n",
       "                             nbb_cells[i].set_text(nbb_formatted_code);\n",
       "                        }\n",
       "                        break;\n",
       "                    }\n",
       "                }\n",
       "            }, 500);\n",
       "            "
      ],
      "text/plain": [
       "<IPython.core.display.Javascript object>"
      ]
     },
     "metadata": {},
     "output_type": "display_data"
    }
   ],
   "source": [
    "start = time.time()\n",
    "svc2_model = svm.SVC(C=1000, gamma=1, kernel=\"linear\").fit(X_new_train, y_train)\n",
    "end = time.time()\n",
    "run_time = end - start\n",
    "print(\"run time: \", run_time)"
   ]
  },
  {
   "cell_type": "code",
   "execution_count": 132,
   "id": "f817883b",
   "metadata": {},
   "outputs": [
    {
     "data": {
      "text/html": [
       "<div>\n",
       "<style scoped>\n",
       "    .dataframe tbody tr th:only-of-type {\n",
       "        vertical-align: middle;\n",
       "    }\n",
       "\n",
       "    .dataframe tbody tr th {\n",
       "        vertical-align: top;\n",
       "    }\n",
       "\n",
       "    .dataframe thead th {\n",
       "        text-align: right;\n",
       "    }\n",
       "</style>\n",
       "<table border=\"1\" class=\"dataframe\">\n",
       "  <thead>\n",
       "    <tr style=\"text-align: right;\">\n",
       "      <th></th>\n",
       "      <th>Name</th>\n",
       "      <th>Score</th>\n",
       "      <th>Run_Time</th>\n",
       "    </tr>\n",
       "  </thead>\n",
       "  <tbody>\n",
       "    <tr>\n",
       "      <th>0</th>\n",
       "      <td>LogisticRegression</td>\n",
       "      <td>0.964260</td>\n",
       "      <td>0.006947</td>\n",
       "    </tr>\n",
       "    <tr>\n",
       "      <th>1</th>\n",
       "      <td>Decision Tree</td>\n",
       "      <td>0.925134</td>\n",
       "      <td>0.001962</td>\n",
       "    </tr>\n",
       "    <tr>\n",
       "      <th>2</th>\n",
       "      <td>KNN</td>\n",
       "      <td>0.964171</td>\n",
       "      <td>0.001995</td>\n",
       "    </tr>\n",
       "    <tr>\n",
       "      <th>3</th>\n",
       "      <td>Random Forest</td>\n",
       "      <td>0.955080</td>\n",
       "      <td>0.051875</td>\n",
       "    </tr>\n",
       "    <tr>\n",
       "      <th>4</th>\n",
       "      <td>SVC</td>\n",
       "      <td>0.958378</td>\n",
       "      <td>0.001993</td>\n",
       "    </tr>\n",
       "  </tbody>\n",
       "</table>\n",
       "</div>"
      ],
      "text/plain": [
       "                 Name     Score  Run_Time\n",
       "0  LogisticRegression  0.964260  0.006947\n",
       "1       Decision Tree  0.925134  0.001962\n",
       "2                 KNN  0.964171  0.001995\n",
       "3       Random Forest  0.955080  0.051875\n",
       "4                 SVC  0.958378  0.001993"
      ]
     },
     "execution_count": 132,
     "metadata": {},
     "output_type": "execute_result"
    },
    {
     "data": {
      "application/javascript": [
       "\n",
       "            setTimeout(function() {\n",
       "                var nbb_cell_id = 132;\n",
       "                var nbb_unformatted_code = \"coss_score = cross_val_score(svc2_model, X, y, scoring=\\\"accuracy\\\", cv=10)\\ndf_evaluate = df_evaluate.append(\\n    {\\\"Name\\\": \\\"SVC\\\", \\\"Score\\\": coss_score.mean(), \\\"Run_Time\\\": run_time},\\n    ignore_index=True,\\n)\\ndf_evaluate\";\n",
       "                var nbb_formatted_code = \"coss_score = cross_val_score(svc2_model, X, y, scoring=\\\"accuracy\\\", cv=10)\\ndf_evaluate = df_evaluate.append(\\n    {\\\"Name\\\": \\\"SVC\\\", \\\"Score\\\": coss_score.mean(), \\\"Run_Time\\\": run_time},\\n    ignore_index=True,\\n)\\ndf_evaluate\";\n",
       "                var nbb_cells = Jupyter.notebook.get_cells();\n",
       "                for (var i = 0; i < nbb_cells.length; ++i) {\n",
       "                    if (nbb_cells[i].input_prompt_number == nbb_cell_id) {\n",
       "                        if (nbb_cells[i].get_text() == nbb_unformatted_code) {\n",
       "                             nbb_cells[i].set_text(nbb_formatted_code);\n",
       "                        }\n",
       "                        break;\n",
       "                    }\n",
       "                }\n",
       "            }, 500);\n",
       "            "
      ],
      "text/plain": [
       "<IPython.core.display.Javascript object>"
      ]
     },
     "metadata": {},
     "output_type": "display_data"
    }
   ],
   "source": [
    "coss_score = cross_val_score(svc2_model, X, y, scoring=\"accuracy\", cv=10)\n",
    "df_evaluate = df_evaluate.append(\n",
    "    {\"Name\": \"SVC\", \"Score\": coss_score.mean(), \"Run_Time\": run_time},\n",
    "    ignore_index=True,\n",
    ")\n",
    "df_evaluate"
   ]
  },
  {
   "cell_type": "markdown",
   "id": "5c77c0dd",
   "metadata": {},
   "source": [
    "### XGBOOST"
   ]
  },
  {
   "cell_type": "code",
   "execution_count": 133,
   "id": "9a134c9e",
   "metadata": {},
   "outputs": [
    {
     "data": {
      "application/javascript": [
       "\n",
       "            setTimeout(function() {\n",
       "                var nbb_cell_id = 133;\n",
       "                var nbb_unformatted_code = \"import xgboost as xgb\\nn_estimators = [50, 100]\\nmax_depth = [2, 3, 5]\\n# booster = ['gbtree', 'gblinear']\\nbase_score = [0.2, 0.25, 0.5]\\nlearning_rate = [0.05, 0.1, 0.5]\\nmin_child_weight = [1, 2, 3]\\nsubsample = [0.5, 0.75]\\ncolsample_bytree = [0.5, 0.75]\\ncolsample_bynode = [0.5, 0.75]\\ncolsample_bylevel = [0.5, 0.75]\";\n",
       "                var nbb_formatted_code = \"import xgboost as xgb\\n\\nn_estimators = [50, 100]\\nmax_depth = [2, 3, 5]\\n# booster = ['gbtree', 'gblinear']\\nbase_score = [0.2, 0.25, 0.5]\\nlearning_rate = [0.05, 0.1, 0.5]\\nmin_child_weight = [1, 2, 3]\\nsubsample = [0.5, 0.75]\\ncolsample_bytree = [0.5, 0.75]\\ncolsample_bynode = [0.5, 0.75]\\ncolsample_bylevel = [0.5, 0.75]\";\n",
       "                var nbb_cells = Jupyter.notebook.get_cells();\n",
       "                for (var i = 0; i < nbb_cells.length; ++i) {\n",
       "                    if (nbb_cells[i].input_prompt_number == nbb_cell_id) {\n",
       "                        if (nbb_cells[i].get_text() == nbb_unformatted_code) {\n",
       "                             nbb_cells[i].set_text(nbb_formatted_code);\n",
       "                        }\n",
       "                        break;\n",
       "                    }\n",
       "                }\n",
       "            }, 500);\n",
       "            "
      ],
      "text/plain": [
       "<IPython.core.display.Javascript object>"
      ]
     },
     "metadata": {},
     "output_type": "display_data"
    }
   ],
   "source": [
    "import xgboost as xgb\n",
    "\n",
    "n_estimators = [50, 100]\n",
    "max_depth = [2, 3, 5]\n",
    "# booster = ['gbtree', 'gblinear']\n",
    "base_score = [0.2, 0.25, 0.5]\n",
    "learning_rate = [0.05, 0.1, 0.5]\n",
    "min_child_weight = [1, 2, 3]\n",
    "subsample = [0.5, 0.75]\n",
    "colsample_bytree = [0.5, 0.75]\n",
    "colsample_bynode = [0.5, 0.75]\n",
    "colsample_bylevel = [0.5, 0.75]"
   ]
  },
  {
   "cell_type": "code",
   "execution_count": 200,
   "id": "d3ef1a83",
   "metadata": {},
   "outputs": [
    {
     "name": "stdout",
     "output_type": "stream",
     "text": [
      "Fitting 3 folds for each of 432 candidates, totalling 1296 fits\n",
      "[14:33:44] WARNING: C:/Users/Administrator/workspace/xgboost-win64_release_1.5.1/src/learner.cc:1115: Starting in XGBoost 1.3.0, the default evaluation metric used with the objective 'binary:logistic' was changed from 'error' to 'logloss'. Explicitly set eval_metric if you'd like to restore the old behavior.\n",
      "{'base_score': 0.2, 'learning_rate': 0.05, 'max_depth': 2, 'min_child_weight': 1, 'n_estimators': 50, 'subsample': 0.5}\n",
      "run time:  32.64081144332886\n"
     ]
    },
    {
     "data": {
      "application/javascript": [
       "\n",
       "            setTimeout(function() {\n",
       "                var nbb_cell_id = 200;\n",
       "                var nbb_unformatted_code = \"params_grid = {\\n    \\\"n_estimators\\\": n_estimators,\\n    \\\"max_depth\\\": max_depth,\\n    \\\"learning_rate\\\": learning_rate,\\n    \\\"min_child_weight\\\": min_child_weight,\\n    \\\"base_score\\\": base_score,\\n    \\\"subsample\\\": subsample,\\n\\n}\\n\\nstart = time.time()\\nxgb_model = GridSearchCV(\\n    xgb.XGBClassifier(), params_grid, cv=3, scoring=\\\"f1\\\", n_jobs=-1, verbose=1\\n)\\nxgb_model.fit(X_train, y_train)\\nprint(xgb_model.best_params_)\\nend = time.time()\\nprint(\\\"run time: \\\", end - start)\";\n",
       "                var nbb_formatted_code = \"params_grid = {\\n    \\\"n_estimators\\\": n_estimators,\\n    \\\"max_depth\\\": max_depth,\\n    \\\"learning_rate\\\": learning_rate,\\n    \\\"min_child_weight\\\": min_child_weight,\\n    \\\"base_score\\\": base_score,\\n    \\\"subsample\\\": subsample,\\n}\\n\\nstart = time.time()\\nxgb_model = GridSearchCV(\\n    xgb.XGBClassifier(), params_grid, cv=3, scoring=\\\"f1\\\", n_jobs=-1, verbose=1\\n)\\nxgb_model.fit(X_train, y_train)\\nprint(xgb_model.best_params_)\\nend = time.time()\\nprint(\\\"run time: \\\", end - start)\";\n",
       "                var nbb_cells = Jupyter.notebook.get_cells();\n",
       "                for (var i = 0; i < nbb_cells.length; ++i) {\n",
       "                    if (nbb_cells[i].input_prompt_number == nbb_cell_id) {\n",
       "                        if (nbb_cells[i].get_text() == nbb_unformatted_code) {\n",
       "                             nbb_cells[i].set_text(nbb_formatted_code);\n",
       "                        }\n",
       "                        break;\n",
       "                    }\n",
       "                }\n",
       "            }, 500);\n",
       "            "
      ],
      "text/plain": [
       "<IPython.core.display.Javascript object>"
      ]
     },
     "metadata": {},
     "output_type": "display_data"
    }
   ],
   "source": [
    "params_grid = {\n",
    "    \"n_estimators\": n_estimators,\n",
    "    \"max_depth\": max_depth,\n",
    "    \"learning_rate\": learning_rate,\n",
    "    \"min_child_weight\": min_child_weight,\n",
    "    \"base_score\": base_score,\n",
    "    \"subsample\": subsample,\n",
    "}\n",
    "\n",
    "start = time.time()\n",
    "xgb_model = GridSearchCV(\n",
    "    xgb.XGBClassifier(), params_grid, cv=3, scoring=\"f1\", n_jobs=-1, verbose=1\n",
    ")\n",
    "xgb_model.fit(X_train, y_train)\n",
    "print(xgb_model.best_params_)\n",
    "end = time.time()\n",
    "print(\"run time: \", end - start)"
   ]
  },
  {
   "cell_type": "code",
   "execution_count": 134,
   "id": "8937a7fc",
   "metadata": {},
   "outputs": [
    {
     "data": {
      "text/plain": [
       "\"\\nXGBoost có nhiều tham số phức tạp nên thời gian chạy lâu nếu sử dụng vét cạn nhiều giá trị với các parms của nó\\n\\nTrong tập prams kia, XGBoost tốt nhất khi \\n'base_score': 0.2, 'learning_rate': 0.05, 'max_depth': 2, \\n'min_child_weight': 1, 'n_estimators': 50, 'subsample': 0.5\\n\""
      ]
     },
     "execution_count": 134,
     "metadata": {},
     "output_type": "execute_result"
    },
    {
     "data": {
      "application/javascript": [
       "\n",
       "            setTimeout(function() {\n",
       "                var nbb_cell_id = 134;\n",
       "                var nbb_unformatted_code = \"\\\"\\\"\\\"\\nXGBoost c\\u00f3 nhi\\u1ec1u tham s\\u1ed1 ph\\u1ee9c t\\u1ea1p n\\u00ean th\\u1eddi gian ch\\u1ea1y l\\u00e2u n\\u1ebfu s\\u1eed d\\u1ee5ng v\\u00e9t c\\u1ea1n nhi\\u1ec1u gi\\u00e1 tr\\u1ecb v\\u1edbi c\\u00e1c parms c\\u1ee7a n\\u00f3\\n\\nTrong t\\u1eadp prams kia, XGBoost t\\u1ed1t nh\\u1ea5t khi \\n'base_score': 0.2, 'learning_rate': 0.05, 'max_depth': 2, \\n'min_child_weight': 1, 'n_estimators': 50, 'subsample': 0.5\\n\\\"\\\"\\\"\";\n",
       "                var nbb_formatted_code = \"\\\"\\\"\\\"\\nXGBoost c\\u00f3 nhi\\u1ec1u tham s\\u1ed1 ph\\u1ee9c t\\u1ea1p n\\u00ean th\\u1eddi gian ch\\u1ea1y l\\u00e2u n\\u1ebfu s\\u1eed d\\u1ee5ng v\\u00e9t c\\u1ea1n nhi\\u1ec1u gi\\u00e1 tr\\u1ecb v\\u1edbi c\\u00e1c parms c\\u1ee7a n\\u00f3\\n\\nTrong t\\u1eadp prams kia, XGBoost t\\u1ed1t nh\\u1ea5t khi \\n'base_score': 0.2, 'learning_rate': 0.05, 'max_depth': 2, \\n'min_child_weight': 1, 'n_estimators': 50, 'subsample': 0.5\\n\\\"\\\"\\\"\";\n",
       "                var nbb_cells = Jupyter.notebook.get_cells();\n",
       "                for (var i = 0; i < nbb_cells.length; ++i) {\n",
       "                    if (nbb_cells[i].input_prompt_number == nbb_cell_id) {\n",
       "                        if (nbb_cells[i].get_text() == nbb_unformatted_code) {\n",
       "                             nbb_cells[i].set_text(nbb_formatted_code);\n",
       "                        }\n",
       "                        break;\n",
       "                    }\n",
       "                }\n",
       "            }, 500);\n",
       "            "
      ],
      "text/plain": [
       "<IPython.core.display.Javascript object>"
      ]
     },
     "metadata": {},
     "output_type": "display_data"
    }
   ],
   "source": [
    "\"\"\"\n",
    "XGBoost có nhiều tham số phức tạp nên thời gian chạy lâu nếu sử dụng vét cạn nhiều giá trị với các parms của nó\n",
    "\n",
    "Trong tập prams kia, XGBoost tốt nhất khi \n",
    "'base_score': 0.2, 'learning_rate': 0.05, 'max_depth': 2, \n",
    "'min_child_weight': 1, 'n_estimators': 50, 'subsample': 0.5\n",
    "\"\"\""
   ]
  },
  {
   "cell_type": "code",
   "execution_count": 203,
   "id": "8609f095",
   "metadata": {},
   "outputs": [
    {
     "name": "stdout",
     "output_type": "stream",
     "text": [
      "***TRAINIG RESULTS***: \n",
      "==================================================\n",
      "Confusion matrix: \n",
      " [[155   2]\n",
      " [  2 109]]\n",
      "Train Accuracy Score: 0.9850746268656716\n",
      "Classification Report: \n",
      "               precision    recall  f1-score   support\n",
      "\n",
      "           N       0.99      0.99      0.99       157\n",
      "           P       0.98      0.98      0.98       111\n",
      "\n",
      "    accuracy                           0.99       268\n",
      "   macro avg       0.98      0.98      0.98       268\n",
      "weighted avg       0.99      0.99      0.99       268\n",
      "\n",
      "***TEST RESULTS***: \n",
      "===================================================\n",
      "Test Accuracy: 0.9117647058823529\n",
      "Confusion matrix: \n",
      " [[33  3]\n",
      " [ 3 29]]\n",
      "Test Accuracy Score: 0.9117647058823529\n",
      "Classification Report: \n",
      "               precision    recall  f1-score   support\n",
      "\n",
      "           N       0.92      0.92      0.92        36\n",
      "           P       0.91      0.91      0.91        32\n",
      "\n",
      "    accuracy                           0.91        68\n",
      "   macro avg       0.91      0.91      0.91        68\n",
      "weighted avg       0.91      0.91      0.91        68\n",
      "\n"
     ]
    },
    {
     "data": {
      "application/javascript": [
       "\n",
       "            setTimeout(function() {\n",
       "                var nbb_cell_id = 203;\n",
       "                var nbb_unformatted_code = \"evaluate(xgb_model, X_train, X_test, y_train, y_test)\";\n",
       "                var nbb_formatted_code = \"evaluate(xgb_model, X_train, X_test, y_train, y_test)\";\n",
       "                var nbb_cells = Jupyter.notebook.get_cells();\n",
       "                for (var i = 0; i < nbb_cells.length; ++i) {\n",
       "                    if (nbb_cells[i].input_prompt_number == nbb_cell_id) {\n",
       "                        if (nbb_cells[i].get_text() == nbb_unformatted_code) {\n",
       "                             nbb_cells[i].set_text(nbb_formatted_code);\n",
       "                        }\n",
       "                        break;\n",
       "                    }\n",
       "                }\n",
       "            }, 500);\n",
       "            "
      ],
      "text/plain": [
       "<IPython.core.display.Javascript object>"
      ]
     },
     "metadata": {},
     "output_type": "display_data"
    }
   ],
   "source": [
    "evaluate(xgb_model, X_train, X_test, y_train, y_test)"
   ]
  },
  {
   "cell_type": "markdown",
   "id": "fd6bc46a",
   "metadata": {},
   "source": [
    "### <p style=\"color:blue\">Nhận xét</p>"
   ]
  },
  {
   "cell_type": "code",
   "execution_count": 135,
   "id": "6f99ff31",
   "metadata": {},
   "outputs": [
    {
     "data": {
      "text/plain": [
       "'\\nkết quả đạt được tốt,\\nAccuracy, precision, recall, f1-score đều cao\\n=> model có thể sử dụng\\n'"
      ]
     },
     "execution_count": 135,
     "metadata": {},
     "output_type": "execute_result"
    },
    {
     "data": {
      "application/javascript": [
       "\n",
       "            setTimeout(function() {\n",
       "                var nbb_cell_id = 135;\n",
       "                var nbb_unformatted_code = \"\\\"\\\"\\\"\\nk\\u1ebft qu\\u1ea3 \\u0111\\u1ea1t \\u0111\\u01b0\\u1ee3c t\\u1ed1t,\\nAccuracy, precision, recall, f1-score \\u0111\\u1ec1u cao\\n=> model c\\u00f3 th\\u1ec3 s\\u1eed d\\u1ee5ng\\n\\\"\\\"\\\"\";\n",
       "                var nbb_formatted_code = \"\\\"\\\"\\\"\\nk\\u1ebft qu\\u1ea3 \\u0111\\u1ea1t \\u0111\\u01b0\\u1ee3c t\\u1ed1t,\\nAccuracy, precision, recall, f1-score \\u0111\\u1ec1u cao\\n=> model c\\u00f3 th\\u1ec3 s\\u1eed d\\u1ee5ng\\n\\\"\\\"\\\"\";\n",
       "                var nbb_cells = Jupyter.notebook.get_cells();\n",
       "                for (var i = 0; i < nbb_cells.length; ++i) {\n",
       "                    if (nbb_cells[i].input_prompt_number == nbb_cell_id) {\n",
       "                        if (nbb_cells[i].get_text() == nbb_unformatted_code) {\n",
       "                             nbb_cells[i].set_text(nbb_formatted_code);\n",
       "                        }\n",
       "                        break;\n",
       "                    }\n",
       "                }\n",
       "            }, 500);\n",
       "            "
      ],
      "text/plain": [
       "<IPython.core.display.Javascript object>"
      ]
     },
     "metadata": {},
     "output_type": "display_data"
    }
   ],
   "source": [
    "\"\"\"\n",
    "kết quả đạt được tốt,\n",
    "Accuracy, precision, recall, f1-score đều cao\n",
    "=> model có thể sử dụng\n",
    "\"\"\""
   ]
  },
  {
   "cell_type": "code",
   "execution_count": 136,
   "id": "52606e73",
   "metadata": {},
   "outputs": [
    {
     "name": "stdout",
     "output_type": "stream",
     "text": [
      "run time:  0.7164888381958008\n"
     ]
    },
    {
     "data": {
      "application/javascript": [
       "\n",
       "            setTimeout(function() {\n",
       "                var nbb_cell_id = 136;\n",
       "                var nbb_unformatted_code = \"start = time.time()\\nxgb2_model = xgb.XGBClassifier(\\n    base_score=0.2,\\n    learning_rat=0.05,\\n    max_depth=2,\\n    min_child_weight=1,\\n    n_estimators=50,\\n    subsample=0.5,\\n    verbosity=0,\\n).fit(X_new_train, y_train)\\nend = time.time()\\nrun_time = end - start\\nprint(\\\"run time: \\\", run_time)\";\n",
       "                var nbb_formatted_code = \"start = time.time()\\nxgb2_model = xgb.XGBClassifier(\\n    base_score=0.2,\\n    learning_rat=0.05,\\n    max_depth=2,\\n    min_child_weight=1,\\n    n_estimators=50,\\n    subsample=0.5,\\n    verbosity=0,\\n).fit(X_new_train, y_train)\\nend = time.time()\\nrun_time = end - start\\nprint(\\\"run time: \\\", run_time)\";\n",
       "                var nbb_cells = Jupyter.notebook.get_cells();\n",
       "                for (var i = 0; i < nbb_cells.length; ++i) {\n",
       "                    if (nbb_cells[i].input_prompt_number == nbb_cell_id) {\n",
       "                        if (nbb_cells[i].get_text() == nbb_unformatted_code) {\n",
       "                             nbb_cells[i].set_text(nbb_formatted_code);\n",
       "                        }\n",
       "                        break;\n",
       "                    }\n",
       "                }\n",
       "            }, 500);\n",
       "            "
      ],
      "text/plain": [
       "<IPython.core.display.Javascript object>"
      ]
     },
     "metadata": {},
     "output_type": "display_data"
    }
   ],
   "source": [
    "start = time.time()\n",
    "xgb2_model = xgb.XGBClassifier(\n",
    "    base_score=0.2,\n",
    "    learning_rat=0.05,\n",
    "    max_depth=2,\n",
    "    min_child_weight=1,\n",
    "    n_estimators=50,\n",
    "    subsample=0.5,\n",
    "    verbosity=0,\n",
    ").fit(X_new_train, y_train)\n",
    "end = time.time()\n",
    "run_time = end - start\n",
    "print(\"run time: \", run_time)"
   ]
  },
  {
   "cell_type": "code",
   "execution_count": 137,
   "id": "68381163",
   "metadata": {},
   "outputs": [
    {
     "data": {
      "application/javascript": [
       "\n",
       "            setTimeout(function() {\n",
       "                var nbb_cell_id = 137;\n",
       "                var nbb_unformatted_code = \"coss_score = cross_val_score(xgb2_model, X, y, scoring=\\\"accuracy\\\", cv=10)\\ndf_evaluate = df_evaluate.append(\\n    {\\\"Name\\\": \\\"XGBoost\\\", \\\"Score\\\": coss_score.mean(), \\\"Run_Time\\\": run_time},\\n    ignore_index=True,\\n)\";\n",
       "                var nbb_formatted_code = \"coss_score = cross_val_score(xgb2_model, X, y, scoring=\\\"accuracy\\\", cv=10)\\ndf_evaluate = df_evaluate.append(\\n    {\\\"Name\\\": \\\"XGBoost\\\", \\\"Score\\\": coss_score.mean(), \\\"Run_Time\\\": run_time},\\n    ignore_index=True,\\n)\";\n",
       "                var nbb_cells = Jupyter.notebook.get_cells();\n",
       "                for (var i = 0; i < nbb_cells.length; ++i) {\n",
       "                    if (nbb_cells[i].input_prompt_number == nbb_cell_id) {\n",
       "                        if (nbb_cells[i].get_text() == nbb_unformatted_code) {\n",
       "                             nbb_cells[i].set_text(nbb_formatted_code);\n",
       "                        }\n",
       "                        break;\n",
       "                    }\n",
       "                }\n",
       "            }, 500);\n",
       "            "
      ],
      "text/plain": [
       "<IPython.core.display.Javascript object>"
      ]
     },
     "metadata": {},
     "output_type": "display_data"
    }
   ],
   "source": [
    "coss_score = cross_val_score(xgb2_model, X, y, scoring=\"accuracy\", cv=10)\n",
    "df_evaluate = df_evaluate.append(\n",
    "    {\"Name\": \"XGBoost\", \"Score\": coss_score.mean(), \"Run_Time\": run_time},\n",
    "    ignore_index=True,\n",
    ")"
   ]
  },
  {
   "cell_type": "code",
   "execution_count": 140,
   "id": "c201d646",
   "metadata": {},
   "outputs": [
    {
     "data": {
      "text/html": [
       "<div>\n",
       "<style scoped>\n",
       "    .dataframe tbody tr th:only-of-type {\n",
       "        vertical-align: middle;\n",
       "    }\n",
       "\n",
       "    .dataframe tbody tr th {\n",
       "        vertical-align: top;\n",
       "    }\n",
       "\n",
       "    .dataframe thead th {\n",
       "        text-align: right;\n",
       "    }\n",
       "</style>\n",
       "<table border=\"1\" class=\"dataframe\">\n",
       "  <thead>\n",
       "    <tr style=\"text-align: right;\">\n",
       "      <th></th>\n",
       "      <th>Name</th>\n",
       "      <th>Score</th>\n",
       "      <th>Run_Time</th>\n",
       "    </tr>\n",
       "  </thead>\n",
       "  <tbody>\n",
       "    <tr>\n",
       "      <th>0</th>\n",
       "      <td>LogisticRegression</td>\n",
       "      <td>0.964260</td>\n",
       "      <td>0.006947</td>\n",
       "    </tr>\n",
       "    <tr>\n",
       "      <th>2</th>\n",
       "      <td>KNN</td>\n",
       "      <td>0.964171</td>\n",
       "      <td>0.001995</td>\n",
       "    </tr>\n",
       "    <tr>\n",
       "      <th>4</th>\n",
       "      <td>SVC</td>\n",
       "      <td>0.958378</td>\n",
       "      <td>0.001993</td>\n",
       "    </tr>\n",
       "    <tr>\n",
       "      <th>3</th>\n",
       "      <td>Random Forest</td>\n",
       "      <td>0.955080</td>\n",
       "      <td>0.051875</td>\n",
       "    </tr>\n",
       "    <tr>\n",
       "      <th>5</th>\n",
       "      <td>XGBoost</td>\n",
       "      <td>0.952228</td>\n",
       "      <td>0.716489</td>\n",
       "    </tr>\n",
       "    <tr>\n",
       "      <th>1</th>\n",
       "      <td>Decision Tree</td>\n",
       "      <td>0.925134</td>\n",
       "      <td>0.001962</td>\n",
       "    </tr>\n",
       "  </tbody>\n",
       "</table>\n",
       "</div>"
      ],
      "text/plain": [
       "                 Name     Score  Run_Time\n",
       "0  LogisticRegression  0.964260  0.006947\n",
       "2                 KNN  0.964171  0.001995\n",
       "4                 SVC  0.958378  0.001993\n",
       "3       Random Forest  0.955080  0.051875\n",
       "5             XGBoost  0.952228  0.716489\n",
       "1       Decision Tree  0.925134  0.001962"
      ]
     },
     "execution_count": 140,
     "metadata": {},
     "output_type": "execute_result"
    },
    {
     "data": {
      "application/javascript": [
       "\n",
       "            setTimeout(function() {\n",
       "                var nbb_cell_id = 140;\n",
       "                var nbb_unformatted_code = \"df_evaluate_all = df_evaluate.sort_values(by=\\\"Score\\\", ascending=False).copy()\\ndf_evaluate_all\";\n",
       "                var nbb_formatted_code = \"df_evaluate_all = df_evaluate.sort_values(by=\\\"Score\\\", ascending=False).copy()\\ndf_evaluate_all\";\n",
       "                var nbb_cells = Jupyter.notebook.get_cells();\n",
       "                for (var i = 0; i < nbb_cells.length; ++i) {\n",
       "                    if (nbb_cells[i].input_prompt_number == nbb_cell_id) {\n",
       "                        if (nbb_cells[i].get_text() == nbb_unformatted_code) {\n",
       "                             nbb_cells[i].set_text(nbb_formatted_code);\n",
       "                        }\n",
       "                        break;\n",
       "                    }\n",
       "                }\n",
       "            }, 500);\n",
       "            "
      ],
      "text/plain": [
       "<IPython.core.display.Javascript object>"
      ]
     },
     "metadata": {},
     "output_type": "display_data"
    }
   ],
   "source": [
    "df_evaluate_all = df_evaluate.sort_values(by=\"Score\", ascending=False).copy()\n",
    "df_evaluate_all"
   ]
  },
  {
   "cell_type": "markdown",
   "id": "8b6548c2",
   "metadata": {},
   "source": [
    "## <p style=\"color:blue\">KẾT LUẬN</p>"
   ]
  },
  {
   "cell_type": "code",
   "execution_count": 141,
   "id": "5c4af59d",
   "metadata": {},
   "outputs": [
    {
     "data": {
      "text/plain": [
       "'\\n=> từ kết quả trên, ta thấy tất cả các thuật toán đều đạt được kết quả cao,\\nta có thể chọn thuật toán nào cũng đáp ứng tốt với dataset\\nTuy nhiên, SVC cho score cao và runtime thấp nhất.\\n\\nVD: ở đây, em chọn KNN với score cao, tốc độ train nhanh.\\n'"
      ]
     },
     "execution_count": 141,
     "metadata": {},
     "output_type": "execute_result"
    },
    {
     "data": {
      "application/javascript": [
       "\n",
       "            setTimeout(function() {\n",
       "                var nbb_cell_id = 141;\n",
       "                var nbb_unformatted_code = \"\\\"\\\"\\\"\\n=> t\\u1eeb k\\u1ebft qu\\u1ea3 tr\\u00ean, ta th\\u1ea5y t\\u1ea5t c\\u1ea3 c\\u00e1c thu\\u1eadt to\\u00e1n \\u0111\\u1ec1u \\u0111\\u1ea1t \\u0111\\u01b0\\u1ee3c k\\u1ebft qu\\u1ea3 cao,\\nta c\\u00f3 th\\u1ec3 ch\\u1ecdn thu\\u1eadt to\\u00e1n n\\u00e0o c\\u0169ng \\u0111\\u00e1p \\u1ee9ng t\\u1ed1t v\\u1edbi dataset\\nTuy nhi\\u00ean, SVC cho score cao v\\u00e0 runtime th\\u1ea5p nh\\u1ea5t.\\n\\nVD: \\u1edf \\u0111\\u00e2y, em ch\\u1ecdn KNN v\\u1edbi score cao, t\\u1ed1c \\u0111\\u1ed9 train nhanh.\\n\\\"\\\"\\\"\";\n",
       "                var nbb_formatted_code = \"\\\"\\\"\\\"\\n=> t\\u1eeb k\\u1ebft qu\\u1ea3 tr\\u00ean, ta th\\u1ea5y t\\u1ea5t c\\u1ea3 c\\u00e1c thu\\u1eadt to\\u00e1n \\u0111\\u1ec1u \\u0111\\u1ea1t \\u0111\\u01b0\\u1ee3c k\\u1ebft qu\\u1ea3 cao,\\nta c\\u00f3 th\\u1ec3 ch\\u1ecdn thu\\u1eadt to\\u00e1n n\\u00e0o c\\u0169ng \\u0111\\u00e1p \\u1ee9ng t\\u1ed1t v\\u1edbi dataset\\nTuy nhi\\u00ean, SVC cho score cao v\\u00e0 runtime th\\u1ea5p nh\\u1ea5t.\\n\\nVD: \\u1edf \\u0111\\u00e2y, em ch\\u1ecdn KNN v\\u1edbi score cao, t\\u1ed1c \\u0111\\u1ed9 train nhanh.\\n\\\"\\\"\\\"\";\n",
       "                var nbb_cells = Jupyter.notebook.get_cells();\n",
       "                for (var i = 0; i < nbb_cells.length; ++i) {\n",
       "                    if (nbb_cells[i].input_prompt_number == nbb_cell_id) {\n",
       "                        if (nbb_cells[i].get_text() == nbb_unformatted_code) {\n",
       "                             nbb_cells[i].set_text(nbb_formatted_code);\n",
       "                        }\n",
       "                        break;\n",
       "                    }\n",
       "                }\n",
       "            }, 500);\n",
       "            "
      ],
      "text/plain": [
       "<IPython.core.display.Javascript object>"
      ]
     },
     "metadata": {},
     "output_type": "display_data"
    }
   ],
   "source": [
    "\"\"\"\n",
    "=> từ kết quả trên, ta thấy tất cả các thuật toán đều đạt được kết quả cao,\n",
    "ta có thể chọn thuật toán nào cũng đáp ứng tốt với dataset\n",
    "Tuy nhiên, SVC cho score cao và runtime thấp nhất.\n",
    "\n",
    "VD: ở đây, em chọn KNN với score cao, tốc độ train nhanh.\n",
    "\"\"\""
   ]
  },
  {
   "cell_type": "markdown",
   "id": "7751cde4",
   "metadata": {},
   "source": [
    "### Lưu model"
   ]
  },
  {
   "cell_type": "code",
   "execution_count": 143,
   "id": "4d80e6a5",
   "metadata": {},
   "outputs": [
    {
     "data": {
      "application/javascript": [
       "\n",
       "            setTimeout(function() {\n",
       "                var nbb_cell_id = 143;\n",
       "                var nbb_unformatted_code = \"import pickle\\n\\nwith open(\\\"knn_model_ecoli\\\", \\\"wb\\\") as file:\\n    pickle.dump(knn2_model, file)\";\n",
       "                var nbb_formatted_code = \"import pickle\\n\\nwith open(\\\"knn_model_ecoli\\\", \\\"wb\\\") as file:\\n    pickle.dump(knn2_model, file)\";\n",
       "                var nbb_cells = Jupyter.notebook.get_cells();\n",
       "                for (var i = 0; i < nbb_cells.length; ++i) {\n",
       "                    if (nbb_cells[i].input_prompt_number == nbb_cell_id) {\n",
       "                        if (nbb_cells[i].get_text() == nbb_unformatted_code) {\n",
       "                             nbb_cells[i].set_text(nbb_formatted_code);\n",
       "                        }\n",
       "                        break;\n",
       "                    }\n",
       "                }\n",
       "            }, 500);\n",
       "            "
      ],
      "text/plain": [
       "<IPython.core.display.Javascript object>"
      ]
     },
     "metadata": {},
     "output_type": "display_data"
    }
   ],
   "source": [
    "import pickle\n",
    "\n",
    "with open(\"knn_model_ecoli\", \"wb\") as file:\n",
    "    pickle.dump(knn2_model, file)"
   ]
  },
  {
   "cell_type": "code",
   "execution_count": 144,
   "id": "7f6d974e",
   "metadata": {},
   "outputs": [
    {
     "data": {
      "application/javascript": [
       "\n",
       "            setTimeout(function() {\n",
       "                var nbb_cell_id = 144;\n",
       "                var nbb_unformatted_code = \"# s\\u1eed d\\u1ee5ng (\\u0111\\u1ecdc model)\\nwith open(\\\"knn_model_ecoli\\\", 'rb') as file:\\n    model_ecoli = pickle.load(file)\";\n",
       "                var nbb_formatted_code = \"# s\\u1eed d\\u1ee5ng (\\u0111\\u1ecdc model)\\nwith open(\\\"knn_model_ecoli\\\", \\\"rb\\\") as file:\\n    model_ecoli = pickle.load(file)\";\n",
       "                var nbb_cells = Jupyter.notebook.get_cells();\n",
       "                for (var i = 0; i < nbb_cells.length; ++i) {\n",
       "                    if (nbb_cells[i].input_prompt_number == nbb_cell_id) {\n",
       "                        if (nbb_cells[i].get_text() == nbb_unformatted_code) {\n",
       "                             nbb_cells[i].set_text(nbb_formatted_code);\n",
       "                        }\n",
       "                        break;\n",
       "                    }\n",
       "                }\n",
       "            }, 500);\n",
       "            "
      ],
      "text/plain": [
       "<IPython.core.display.Javascript object>"
      ]
     },
     "metadata": {},
     "output_type": "display_data"
    }
   ],
   "source": [
    "# sử dụng (đọc model)\n",
    "with open(\"knn_model_ecoli\", \"rb\") as file:\n",
    "    model_ecoli = pickle.load(file)"
   ]
  },
  {
   "cell_type": "code",
   "execution_count": null,
   "id": "8f667383",
   "metadata": {},
   "outputs": [],
   "source": []
  }
 ],
 "metadata": {
  "kernelspec": {
   "display_name": "Python 3 (ipykernel)",
   "language": "python",
   "name": "python3"
  },
  "language_info": {
   "codemirror_mode": {
    "name": "ipython",
    "version": 3
   },
   "file_extension": ".py",
   "mimetype": "text/x-python",
   "name": "python",
   "nbconvert_exporter": "python",
   "pygments_lexer": "ipython3",
   "version": "3.9.7"
  }
 },
 "nbformat": 4,
 "nbformat_minor": 5
}
