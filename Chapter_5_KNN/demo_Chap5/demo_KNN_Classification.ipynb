{
 "cells": [
  {
   "cell_type": "code",
   "execution_count": 2,
   "id": "b45fd37a",
   "metadata": {},
   "outputs": [],
   "source": [
    "import pandas as pd\n",
    "import numpy as np\n",
    "import matplotlib.pyplot as plt\n",
    "import seaborn as sns"
   ]
  },
  {
   "cell_type": "code",
   "execution_count": 3,
   "id": "8f9e7cad",
   "metadata": {},
   "outputs": [],
   "source": [
    "df = pd.read_excel('data/Iris.xls')"
   ]
  },
  {
   "cell_type": "code",
   "execution_count": 4,
   "id": "4dd91f23",
   "metadata": {},
   "outputs": [
    {
     "name": "stdout",
     "output_type": "stream",
     "text": [
      "<class 'pandas.core.frame.DataFrame'>\n",
      "RangeIndex: 150 entries, 0 to 149\n",
      "Data columns (total 5 columns):\n",
      " #   Column       Non-Null Count  Dtype  \n",
      "---  ------       --------------  -----  \n",
      " 0   sepallength  150 non-null    float64\n",
      " 1   sepalwidth   150 non-null    float64\n",
      " 2   petallength  150 non-null    float64\n",
      " 3   petalwidth   150 non-null    float64\n",
      " 4   iris         150 non-null    object \n",
      "dtypes: float64(4), object(1)\n",
      "memory usage: 6.0+ KB\n"
     ]
    }
   ],
   "source": [
    "df.info()"
   ]
  },
  {
   "cell_type": "code",
   "execution_count": 5,
   "id": "43ed0ac2",
   "metadata": {},
   "outputs": [],
   "source": [
    "df2 = sns.load_dataset('iris')"
   ]
  },
  {
   "cell_type": "code",
   "execution_count": 6,
   "id": "f643ae12",
   "metadata": {},
   "outputs": [
    {
     "name": "stdout",
     "output_type": "stream",
     "text": [
      "<class 'pandas.core.frame.DataFrame'>\n",
      "RangeIndex: 150 entries, 0 to 149\n",
      "Data columns (total 5 columns):\n",
      " #   Column        Non-Null Count  Dtype  \n",
      "---  ------        --------------  -----  \n",
      " 0   sepal_length  150 non-null    float64\n",
      " 1   sepal_width   150 non-null    float64\n",
      " 2   petal_length  150 non-null    float64\n",
      " 3   petal_width   150 non-null    float64\n",
      " 4   species       150 non-null    object \n",
      "dtypes: float64(4), object(1)\n",
      "memory usage: 6.0+ KB\n"
     ]
    }
   ],
   "source": [
    "df2.info()"
   ]
  },
  {
   "cell_type": "code",
   "execution_count": 7,
   "id": "94482137",
   "metadata": {},
   "outputs": [
    {
     "data": {
      "text/plain": [
       "Iris-versicolor    50\n",
       "Iris-setosa        50\n",
       "Iris-virginica     50\n",
       "Name: iris, dtype: int64"
      ]
     },
     "execution_count": 7,
     "metadata": {},
     "output_type": "execute_result"
    }
   ],
   "source": [
    "# kiểm tra tình trạng mất cân bằng giữa các lớp\n",
    "df['iris'].value_counts()"
   ]
  },
  {
   "cell_type": "code",
   "execution_count": 9,
   "id": "1b3abd32",
   "metadata": {},
   "outputs": [
    {
     "data": {
      "image/png": "[encoded data removed]",
      "text/plain": [
       "<Figure size 576x360 with 1 Axes>"
      ]
     },
     "metadata": {
      "needs_background": "light"
     },
     "output_type": "display_data"
    }
   ],
   "source": [
    "#trực quan hóa các điểm dữ liệu\n",
    "plt.figure(figsize=(8, 5))\n",
    "sns.scatterplot(data=df, x='petallength', y='petalwidth', hue='iris', palette='Set1')\n",
    "plt.show()"
   ]
  },
  {
   "cell_type": "code",
   "execution_count": 11,
   "id": "f76285c9",
   "metadata": {},
   "outputs": [],
   "source": [
    "# biến đổi thuộc tính phân loại --> sang kiểu số\n",
    "# sử dụng LabelEncoder\n",
    "from sklearn.preprocessing import LabelEncoder"
   ]
  },
  {
   "cell_type": "code",
   "execution_count": 12,
   "id": "397ff77f",
   "metadata": {},
   "outputs": [],
   "source": [
    "#khởi tạo model Encoder\n",
    "encoder = LabelEncoder()"
   ]
  },
  {
   "cell_type": "code",
   "execution_count": 13,
   "id": "2884c899",
   "metadata": {},
   "outputs": [],
   "source": [
    "#biến đổi cột iris\n",
    "df['species_num'] = encoder.fit_transform(df['iris'])"
   ]
  },
  {
   "cell_type": "code",
   "execution_count": 15,
   "id": "0b1499a7",
   "metadata": {},
   "outputs": [
    {
     "data": {
      "text/html": [
       "<div>\n",
       "<style scoped>\n",
       "    .dataframe tbody tr th:only-of-type {\n",
       "        vertical-align: middle;\n",
       "    }\n",
       "\n",
       "    .dataframe tbody tr th {\n",
       "        vertical-align: top;\n",
       "    }\n",
       "\n",
       "    .dataframe thead th {\n",
       "        text-align: right;\n",
       "    }\n",
       "</style>\n",
       "<table border=\"1\" class=\"dataframe\">\n",
       "  <thead>\n",
       "    <tr style=\"text-align: right;\">\n",
       "      <th></th>\n",
       "      <th>sepallength</th>\n",
       "      <th>sepalwidth</th>\n",
       "      <th>petallength</th>\n",
       "      <th>petalwidth</th>\n",
       "      <th>iris</th>\n",
       "      <th>species_num</th>\n",
       "    </tr>\n",
       "  </thead>\n",
       "  <tbody>\n",
       "    <tr>\n",
       "      <th>0</th>\n",
       "      <td>5.1</td>\n",
       "      <td>3.5</td>\n",
       "      <td>1.4</td>\n",
       "      <td>0.2</td>\n",
       "      <td>Iris-setosa</td>\n",
       "      <td>0</td>\n",
       "    </tr>\n",
       "    <tr>\n",
       "      <th>1</th>\n",
       "      <td>4.9</td>\n",
       "      <td>3.0</td>\n",
       "      <td>1.4</td>\n",
       "      <td>0.2</td>\n",
       "      <td>Iris-setosa</td>\n",
       "      <td>0</td>\n",
       "    </tr>\n",
       "    <tr>\n",
       "      <th>2</th>\n",
       "      <td>4.7</td>\n",
       "      <td>3.2</td>\n",
       "      <td>1.3</td>\n",
       "      <td>0.2</td>\n",
       "      <td>Iris-setosa</td>\n",
       "      <td>0</td>\n",
       "    </tr>\n",
       "    <tr>\n",
       "      <th>3</th>\n",
       "      <td>4.6</td>\n",
       "      <td>3.1</td>\n",
       "      <td>1.5</td>\n",
       "      <td>0.2</td>\n",
       "      <td>Iris-setosa</td>\n",
       "      <td>0</td>\n",
       "    </tr>\n",
       "    <tr>\n",
       "      <th>4</th>\n",
       "      <td>5.0</td>\n",
       "      <td>3.6</td>\n",
       "      <td>1.4</td>\n",
       "      <td>0.2</td>\n",
       "      <td>Iris-setosa</td>\n",
       "      <td>0</td>\n",
       "    </tr>\n",
       "  </tbody>\n",
       "</table>\n",
       "</div>"
      ],
      "text/plain": [
       "   sepallength  sepalwidth  petallength  petalwidth         iris  species_num\n",
       "0          5.1         3.5          1.4         0.2  Iris-setosa            0\n",
       "1          4.9         3.0          1.4         0.2  Iris-setosa            0\n",
       "2          4.7         3.2          1.3         0.2  Iris-setosa            0\n",
       "3          4.6         3.1          1.5         0.2  Iris-setosa            0\n",
       "4          5.0         3.6          1.4         0.2  Iris-setosa            0"
      ]
     },
     "execution_count": 15,
     "metadata": {},
     "output_type": "execute_result"
    }
   ],
   "source": [
    "df.head()"
   ]
  },
  {
   "cell_type": "code",
   "execution_count": 16,
   "id": "2f21dd04",
   "metadata": {},
   "outputs": [
    {
     "data": {
      "text/plain": [
       "2    50\n",
       "1    50\n",
       "0    50\n",
       "Name: species_num, dtype: int64"
      ]
     },
     "execution_count": 16,
     "metadata": {},
     "output_type": "execute_result"
    }
   ],
   "source": [
    "df['species_num'].value_counts()"
   ]
  },
  {
   "cell_type": "code",
   "execution_count": 18,
   "id": "c87349a7",
   "metadata": {},
   "outputs": [],
   "source": [
    "# chọn thuật toán KNeighborsClassifier\n",
    "from sklearn.neighbors import KNeighborsClassifier\n",
    "from sklearn.model_selection import train_test_split"
   ]
  },
  {
   "cell_type": "code",
   "execution_count": 17,
   "id": "2637fef6",
   "metadata": {},
   "outputs": [],
   "source": [
    "# chuẩn bị dữ liệu\n",
    "X = df.drop(columns=['iris', 'species_num'])\n",
    "y = df['species_num']"
   ]
  },
  {
   "cell_type": "code",
   "execution_count": 19,
   "id": "c43907ed",
   "metadata": {},
   "outputs": [],
   "source": [
    "# tách dữ liệu train và test\n",
    "X_train, X_test, y_train, y_test = train_test_split(X, y, test_size=0.2, random_state=42)"
   ]
  },
  {
   "cell_type": "code",
   "execution_count": 20,
   "id": "378c92e5",
   "metadata": {},
   "outputs": [],
   "source": [
    "# lựa chọn giá trị k phù hợp\n",
    "from sklearn.metrics import accuracy_score"
   ]
  },
  {
   "cell_type": "code",
   "execution_count": 22,
   "id": "a13426c2",
   "metadata": {},
   "outputs": [
    {
     "name": "stdout",
     "output_type": "stream",
     "text": [
      "K = 2 - Accuracy: 100.0 %\n",
      "K = 3 - Accuracy: 100.0 %\n",
      "K = 4 - Accuracy: 100.0 %\n",
      "K = 5 - Accuracy: 100.0 %\n",
      "K = 6 - Accuracy: 100.0 %\n",
      "K = 7 - Accuracy: 96.66666666666667 %\n",
      "K = 8 - Accuracy: 100.0 %\n"
     ]
    }
   ],
   "source": [
    "lst_k = [] #danh sách các giá trị k\n",
    "lst_accuracy = [] #danh sách các độ chính xác tương ứng với các giá trị k\n",
    "for k in range(2, 9):\n",
    "    lst_k.append(k)\n",
    "    knn = KNeighborsClassifier(n_neighbors = k)\n",
    "    knn.fit(X_train, y_train)\n",
    "    yhat_test = knn.predict(X_test)\n",
    "    accuracy = accuracy_score(y_true = y_test, y_pred=yhat_test) * 100\n",
    "    lst_accuracy.append(accuracy)\n",
    "    \n",
    "    print('K =', k,'- Accuracy:', accuracy,'%')"
   ]
  },
  {
   "cell_type": "code",
   "execution_count": 25,
   "id": "6d8efad2",
   "metadata": {},
   "outputs": [
    {
     "name": "stdout",
     "output_type": "stream",
     "text": [
      "Giá trị K phù hợp nhất là 2 với accuracy là 100.0\n"
     ]
    }
   ],
   "source": [
    "vitri = lst_accuracy.index(max(lst_accuracy))\n",
    "k_best = lst_k[vitri]\n",
    "print('Giá trị K phù hợp nhất là', k_best,'với accuracy là', lst_accuracy[vitri])"
   ]
  },
  {
   "cell_type": "code",
   "execution_count": 26,
   "id": "23afea25",
   "metadata": {},
   "outputs": [
    {
     "data": {
      "image/png": "[encoded data removed]",
      "text/plain": [
       "<Figure size 432x360 with 1 Axes>"
      ]
     },
     "metadata": {
      "needs_background": "light"
     },
     "output_type": "display_data"
    }
   ],
   "source": [
    "# trực quan kết quả theo k\n",
    "plt.figure(figsize=(6,5))\n",
    "plt.plot(lst_k, lst_accuracy)\n",
    "plt.xlabel('Number of Neighbors K')\n",
    "plt.ylabel('Test Accuracy')\n",
    "plt.show()"
   ]
  },
  {
   "cell_type": "code",
   "execution_count": 27,
   "id": "6cae18de",
   "metadata": {},
   "outputs": [
    {
     "name": "stdout",
     "output_type": "stream",
     "text": [
      "K = 2 - Accuracy: 100.0 % - R2 train: 0.9666666666666667 - R2 test: 1.0 - Diff: 0.033333333333333326\n",
      "K = 3 - Accuracy: 100.0 % - R2 train: 0.95 - R2 test: 1.0 - Diff: 0.050000000000000044\n",
      "K = 4 - Accuracy: 100.0 % - R2 train: 0.9583333333333334 - R2 test: 1.0 - Diff: 0.04166666666666663\n",
      "K = 5 - Accuracy: 100.0 % - R2 train: 0.9666666666666667 - R2 test: 1.0 - Diff: 0.033333333333333326\n",
      "K = 6 - Accuracy: 100.0 % - R2 train: 0.9666666666666667 - R2 test: 1.0 - Diff: 0.033333333333333326\n",
      "K = 7 - Accuracy: 96.66666666666667 % - R2 train: 0.975 - R2 test: 0.9666666666666667 - Diff: 0.008333333333333304\n",
      "K = 8 - Accuracy: 100.0 % - R2 train: 0.9583333333333334 - R2 test: 1.0 - Diff: 0.04166666666666663\n"
     ]
    }
   ],
   "source": [
    "lst_k = [] #danh sách các giá trị k\n",
    "lst_accuracy = [] #danh sách các độ chính xác tương ứng với các giá trị k\n",
    "lst_score_train = [] #danh sách các score trên dữ liệu train\n",
    "lst_score_test = [] #danh sách các score trên dữ liệu test\n",
    "lst_diff_train_test = [] #danh sách các độ lệch giữa score train và score test\n",
    "for k in range(2, 9):\n",
    "    lst_k.append(k)\n",
    "    knn = KNeighborsClassifier(n_neighbors = k)\n",
    "    knn.fit(X_train, y_train)\n",
    "    yhat_test = knn.predict(X_test)\n",
    "    accuracy = accuracy_score(y_true = y_test, y_pred=yhat_test) * 100\n",
    "    lst_accuracy.append(accuracy)\n",
    "    \n",
    "    r2_train = knn.score(X_train, y_train)\n",
    "    r2_test = knn.score(X_test, y_test)\n",
    "    diff = np.abs(r2_train - r2_test)\n",
    "    lst_score_train.append(r2_train)\n",
    "    lst_score_test.append(r2_test)\n",
    "    lst_diff_train_test.append(diff)\n",
    "    \n",
    "    print('K =', k,'- Accuracy:', accuracy,'% - R2 train:', r2_train,'- R2 test:', r2_test,\n",
    "          '- Diff:', diff)"
   ]
  },
  {
   "cell_type": "code",
   "execution_count": 29,
   "id": "0eebbba4",
   "metadata": {},
   "outputs": [
    {
     "data": {
      "image/png": "[encoded data removed]",
      "text/plain": [
       "<Figure size 432x360 with 2 Axes>"
      ]
     },
     "metadata": {
      "needs_background": "light"
     },
     "output_type": "display_data"
    }
   ],
   "source": [
    "# trực quan kết quả theo k\n",
    "fig, ax = plt.subplots(figsize=(6,5))\n",
    "ax.plot(lst_k, lst_accuracy)\n",
    "ax.set_xlabel('Number of Neighbors K')\n",
    "ax.set_ylabel('Test Accuracy')\n",
    "\n",
    "ax2 = ax.twinx()\n",
    "ax2.plot(lst_k, lst_diff_train_test, color='red', linestyle='dashed')\n",
    "ax2.set_ylabel('Train-Test Diff', color='red')\n",
    "plt.show()"
   ]
  },
  {
   "cell_type": "code",
   "execution_count": 30,
   "id": "0fb47a92",
   "metadata": {},
   "outputs": [],
   "source": [
    "# sau khi chọn k=2 => áp dụng model với k đã chọn\n",
    "model = KNeighborsClassifier(n_neighbors=2)"
   ]
  },
  {
   "cell_type": "code",
   "execution_count": 31,
   "id": "de8d9530",
   "metadata": {},
   "outputs": [
    {
     "data": {
      "text/plain": [
       "KNeighborsClassifier(n_neighbors=2)"
      ]
     },
     "execution_count": 31,
     "metadata": {},
     "output_type": "execute_result"
    }
   ],
   "source": [
    "model.fit(X_train, y_train)"
   ]
  },
  {
   "cell_type": "code",
   "execution_count": 32,
   "id": "1d1e1672",
   "metadata": {},
   "outputs": [
    {
     "name": "stdout",
     "output_type": "stream",
     "text": [
      "Trainning R^2 score: 0.9666666666666667\n",
      "Testing R^2 score: 1.0\n"
     ]
    }
   ],
   "source": [
    "#kiểm tra độ chính xác\n",
    "print('Trainning R^2 score:', model.score(X_train, y_train))\n",
    "print('Testing R^2 score:', model.score(X_test, y_test))"
   ]
  },
  {
   "cell_type": "code",
   "execution_count": 33,
   "id": "ca936115",
   "metadata": {},
   "outputs": [],
   "source": [
    "yhat_test = model.predict(X_test)"
   ]
  },
  {
   "cell_type": "code",
   "execution_count": 35,
   "id": "497439d0",
   "metadata": {},
   "outputs": [
    {
     "data": {
      "text/html": [
       "<div>\n",
       "<style scoped>\n",
       "    .dataframe tbody tr th:only-of-type {\n",
       "        vertical-align: middle;\n",
       "    }\n",
       "\n",
       "    .dataframe tbody tr th {\n",
       "        vertical-align: top;\n",
       "    }\n",
       "\n",
       "    .dataframe thead th {\n",
       "        text-align: right;\n",
       "    }\n",
       "</style>\n",
       "<table border=\"1\" class=\"dataframe\">\n",
       "  <thead>\n",
       "    <tr style=\"text-align: right;\">\n",
       "      <th></th>\n",
       "      <th>Actual</th>\n",
       "      <th>Prediction</th>\n",
       "    </tr>\n",
       "  </thead>\n",
       "  <tbody>\n",
       "    <tr>\n",
       "      <th>73</th>\n",
       "      <td>1</td>\n",
       "      <td>1</td>\n",
       "    </tr>\n",
       "    <tr>\n",
       "      <th>18</th>\n",
       "      <td>0</td>\n",
       "      <td>0</td>\n",
       "    </tr>\n",
       "    <tr>\n",
       "      <th>118</th>\n",
       "      <td>2</td>\n",
       "      <td>2</td>\n",
       "    </tr>\n",
       "    <tr>\n",
       "      <th>78</th>\n",
       "      <td>1</td>\n",
       "      <td>1</td>\n",
       "    </tr>\n",
       "    <tr>\n",
       "      <th>76</th>\n",
       "      <td>1</td>\n",
       "      <td>1</td>\n",
       "    </tr>\n",
       "    <tr>\n",
       "      <th>31</th>\n",
       "      <td>0</td>\n",
       "      <td>0</td>\n",
       "    </tr>\n",
       "    <tr>\n",
       "      <th>64</th>\n",
       "      <td>1</td>\n",
       "      <td>1</td>\n",
       "    </tr>\n",
       "    <tr>\n",
       "      <th>141</th>\n",
       "      <td>2</td>\n",
       "      <td>2</td>\n",
       "    </tr>\n",
       "    <tr>\n",
       "      <th>68</th>\n",
       "      <td>1</td>\n",
       "      <td>1</td>\n",
       "    </tr>\n",
       "    <tr>\n",
       "      <th>82</th>\n",
       "      <td>1</td>\n",
       "      <td>1</td>\n",
       "    </tr>\n",
       "  </tbody>\n",
       "</table>\n",
       "</div>"
      ],
      "text/plain": [
       "     Actual  Prediction\n",
       "73        1           1\n",
       "18        0           0\n",
       "118       2           2\n",
       "78        1           1\n",
       "76        1           1\n",
       "31        0           0\n",
       "64        1           1\n",
       "141       2           2\n",
       "68        1           1\n",
       "82        1           1"
      ]
     },
     "execution_count": 35,
     "metadata": {},
     "output_type": "execute_result"
    }
   ],
   "source": [
    "df_test = pd.DataFrame({\n",
    "    'Actual': y_test,\n",
    "    'Prediction': yhat_test\n",
    "})\n",
    "df_test.head(10)"
   ]
  },
  {
   "cell_type": "code",
   "execution_count": 38,
   "id": "e12d944e",
   "metadata": {},
   "outputs": [
    {
     "data": {
      "text/plain": [
       "array([0, 2])"
      ]
     },
     "execution_count": 38,
     "metadata": {},
     "output_type": "execute_result"
    }
   ],
   "source": [
    "# kiểm tra trên dữ liệu new\n",
    "# sepallength\tsepalwidth\tpetallength\tpetalwidth\n",
    "X_new = np.array([[4.8, 3.3, 1.6, 0.24], [7.0, 2.4, 6.8, 2.5]])\n",
    "y_new = model.predict(X_new)\n",
    "y_new"
   ]
  },
  {
   "cell_type": "code",
   "execution_count": 39,
   "id": "fb78be4e",
   "metadata": {},
   "outputs": [
    {
     "data": {
      "image/png": "[encoded data removed]",
      "text/plain": [
       "<Figure size 576x360 with 1 Axes>"
      ]
     },
     "metadata": {
      "needs_background": "light"
     },
     "output_type": "display_data"
    }
   ],
   "source": [
    "#trực quan hóa các điểm dữ liệu\n",
    "plt.figure(figsize=(8, 5))\n",
    "sns.scatterplot(data=df, x='petallength', y='petalwidth', hue='iris', palette='Set1')\n",
    "plt.scatter(X_new[:, 2], y_new, color='k', marker='s')\n",
    "plt.show()"
   ]
  },
  {
   "cell_type": "code",
   "execution_count": 40,
   "id": "3b56c9bc",
   "metadata": {},
   "outputs": [],
   "source": [
    "# tính precision, recall, f-score\n",
    "from sklearn.metrics import precision_score, recall_score, f1_score, confusion_matrix"
   ]
  },
  {
   "cell_type": "code",
   "execution_count": 41,
   "id": "effa36d2",
   "metadata": {},
   "outputs": [
    {
     "name": "stdout",
     "output_type": "stream",
     "text": [
      "Confusion matrix:\n",
      "[[10  0  0]\n",
      " [ 0  9  0]\n",
      " [ 0  0 11]]\n"
     ]
    }
   ],
   "source": [
    "print('Confusion matrix:')\n",
    "print(confusion_matrix(y_test, yhat_test))"
   ]
  },
  {
   "cell_type": "code",
   "execution_count": 43,
   "id": "6df3f9b5",
   "metadata": {},
   "outputs": [
    {
     "name": "stdout",
     "output_type": "stream",
     "text": [
      "F1-score: 1.0\n",
      "Precision score: 1.0\n",
      "Recall score: 1.0\n"
     ]
    }
   ],
   "source": [
    "f_score = f1_score(y_test, yhat_test, average='micro')\n",
    "precision = precision_score(y_test, yhat_test, average='micro')\n",
    "recall = recall_score(y_test, yhat_test, average='micro')\n",
    "\n",
    "print('F1-score:', f_score)\n",
    "print('Precision score:', precision)\n",
    "print('Recall score:', recall)"
   ]
  },
  {
   "cell_type": "code",
   "execution_count": null,
   "id": "91dd3d46",
   "metadata": {},
   "outputs": [],
   "source": []
  }
 ],
 "metadata": {
  "kernelspec": {
   "display_name": "Python 3",
   "language": "python",
   "name": "python3"
  },
  "language_info": {
   "codemirror_mode": {
    "name": "ipython",
    "version": 3
   },
   "file_extension": ".py",
   "mimetype": "text/x-python",
   "name": "python",
   "nbconvert_exporter": "python",
   "pygments_lexer": "ipython3",
   "version": "3.6.8"
  }
 },
 "nbformat": 4,
 "nbformat_minor": 5
}
