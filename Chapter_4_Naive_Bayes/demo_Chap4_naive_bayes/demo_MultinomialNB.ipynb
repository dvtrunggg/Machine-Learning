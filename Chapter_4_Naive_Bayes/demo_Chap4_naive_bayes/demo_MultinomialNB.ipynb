{
 "cells": [
  {
   "cell_type": "code",
   "execution_count": 1,
   "id": "c08a0fe5",
   "metadata": {},
   "outputs": [],
   "source": [
    "import numpy as np\n",
    "import pandas as pd"
   ]
  },
  {
   "cell_type": "code",
   "execution_count": 6,
   "id": "689f521f",
   "metadata": {},
   "outputs": [
    {
     "data": {
      "text/plain": [
       "array(['I love Vietnam. Vietnam!', 'Vietnam is best',\n",
       "       'Hochiminh is the biggest city of Vietnam'], dtype='<U40')"
      ]
     },
     "execution_count": 6,
     "metadata": {},
     "output_type": "execute_result"
    }
   ],
   "source": [
    "text = np.array([\n",
    "    'I love Vietnam. Vietnam!',\n",
    "    'Vietnam is best',\n",
    "    'Hochiminh is the biggest city of Vietnam'\n",
    "])\n",
    "text"
   ]
  },
  {
   "cell_type": "code",
   "execution_count": 7,
   "id": "04adfaad",
   "metadata": {},
   "outputs": [],
   "source": [
    "y = np.array([0, 0, 1]) #target"
   ]
  },
  {
   "cell_type": "code",
   "execution_count": 8,
   "id": "3c90e9ea",
   "metadata": {},
   "outputs": [],
   "source": [
    "#create bag of words\n",
    "from sklearn.feature_extraction.text import CountVectorizer"
   ]
  },
  {
   "cell_type": "code",
   "execution_count": 9,
   "id": "3d191cf3",
   "metadata": {},
   "outputs": [],
   "source": [
    "#khởi tạo CountVectorizer model\n",
    "count = CountVectorizer()"
   ]
  },
  {
   "cell_type": "code",
   "execution_count": 10,
   "id": "51b03120",
   "metadata": {},
   "outputs": [
    {
     "data": {
      "text/plain": [
       "CountVectorizer()"
      ]
     },
     "execution_count": 10,
     "metadata": {},
     "output_type": "execute_result"
    }
   ],
   "source": [
    "# huấn luyện CountVectorizer model\n",
    "count.fit(text)"
   ]
  },
  {
   "cell_type": "code",
   "execution_count": 11,
   "id": "4402876f",
   "metadata": {},
   "outputs": [
    {
     "data": {
      "text/plain": [
       "<3x9 sparse matrix of type '<class 'numpy.int64'>'\n",
       "\twith 12 stored elements in Compressed Sparse Row format>"
      ]
     },
     "execution_count": 11,
     "metadata": {},
     "output_type": "execute_result"
    }
   ],
   "source": [
    "# biến đổi text -> bag of words\n",
    "bag_of_words = count.transform(text)\n",
    "bag_of_words"
   ]
  },
  {
   "cell_type": "code",
   "execution_count": 12,
   "id": "da06e220",
   "metadata": {},
   "outputs": [
    {
     "data": {
      "text/plain": [
       "array([[0, 0, 0, 0, 0, 1, 0, 0, 2],\n",
       "       [1, 0, 0, 0, 1, 0, 0, 0, 1],\n",
       "       [0, 1, 1, 1, 1, 0, 1, 1, 1]], dtype=int64)"
      ]
     },
     "execution_count": 12,
     "metadata": {},
     "output_type": "execute_result"
    }
   ],
   "source": [
    "X = bag_of_words.toarray()\n",
    "X"
   ]
  },
  {
   "cell_type": "code",
   "execution_count": 14,
   "id": "9d83650e",
   "metadata": {},
   "outputs": [],
   "source": [
    "from sklearn.naive_bayes import MultinomialNB"
   ]
  },
  {
   "cell_type": "code",
   "execution_count": 15,
   "id": "6f542e13",
   "metadata": {},
   "outputs": [],
   "source": [
    "model = MultinomialNB()"
   ]
  },
  {
   "cell_type": "code",
   "execution_count": 16,
   "id": "03c8aea3",
   "metadata": {},
   "outputs": [
    {
     "data": {
      "text/plain": [
       "MultinomialNB()"
      ]
     },
     "execution_count": 16,
     "metadata": {},
     "output_type": "execute_result"
    }
   ],
   "source": [
    "model.fit(X, y)"
   ]
  },
  {
   "cell_type": "code",
   "execution_count": 17,
   "id": "3e67feaa",
   "metadata": {},
   "outputs": [
    {
     "name": "stdout",
     "output_type": "stream",
     "text": [
      "model accuracy: 100.0 %\n"
     ]
    }
   ],
   "source": [
    "# kiểm tra độ chính xác trên train\n",
    "print('model accuracy:', model.score(X, y) * 100, '%')"
   ]
  },
  {
   "cell_type": "code",
   "execution_count": 18,
   "id": "3de0436f",
   "metadata": {},
   "outputs": [],
   "source": [
    "# kiểm tra trên dữ liệu mới\n",
    "text_test = np.array(['Vietnam is beautiful country',\n",
    "                      'I live in Hochiminh city'])"
   ]
  },
  {
   "cell_type": "code",
   "execution_count": 20,
   "id": "71d18128",
   "metadata": {},
   "outputs": [
    {
     "data": {
      "text/plain": [
       "array([[0, 0, 0, 0, 1, 0, 0, 0, 1],\n",
       "       [0, 0, 1, 1, 0, 0, 0, 0, 0]], dtype=int64)"
      ]
     },
     "execution_count": 20,
     "metadata": {},
     "output_type": "execute_result"
    }
   ],
   "source": [
    "# tạo bag of words\n",
    "X_test = count.transform(text_test).toarray()\n",
    "X_test"
   ]
  },
  {
   "cell_type": "code",
   "execution_count": 21,
   "id": "31d3327f",
   "metadata": {},
   "outputs": [
    {
     "data": {
      "text/plain": [
       "array([0, 1])"
      ]
     },
     "execution_count": 21,
     "metadata": {},
     "output_type": "execute_result"
    }
   ],
   "source": [
    "y_predict = model.predict(X_test)\n",
    "y_predict"
   ]
  },
  {
   "cell_type": "code",
   "execution_count": null,
   "id": "2708e978",
   "metadata": {},
   "outputs": [],
   "source": []
  },
  {
   "cell_type": "code",
   "execution_count": null,
   "id": "0048991b",
   "metadata": {},
   "outputs": [],
   "source": []
  },
  {
   "cell_type": "markdown",
   "id": "30c4fa0a",
   "metadata": {},
   "source": [
    "## Lưu lại model\n",
    "### sử dụng thư viện pickle"
   ]
  },
  {
   "cell_type": "code",
   "execution_count": 22,
   "id": "bbcd46ad",
   "metadata": {},
   "outputs": [],
   "source": [
    "import pickle"
   ]
  },
  {
   "cell_type": "code",
   "execution_count": 23,
   "id": "4b6561e7",
   "metadata": {},
   "outputs": [],
   "source": [
    "# lưu model MultinomialNB\n",
    "filename1 = 'naive_model.pkl'\n",
    "with open(filename1, 'wb') as f:\n",
    "    pickle.dump(model, f)"
   ]
  },
  {
   "cell_type": "code",
   "execution_count": 24,
   "id": "13a4e17e",
   "metadata": {},
   "outputs": [],
   "source": [
    "# lưu CountVectorizer model\n",
    "filename2 = 'count_model.pkl'\n",
    "with open(filename2, 'wb') as f:\n",
    "    pickle.dump(count, f)"
   ]
  },
  {
   "cell_type": "code",
   "execution_count": null,
   "id": "a9657b8e",
   "metadata": {},
   "outputs": [],
   "source": []
  },
  {
   "cell_type": "markdown",
   "id": "eb4548ee",
   "metadata": {},
   "source": [
    "## Load model để sử dụng"
   ]
  },
  {
   "cell_type": "code",
   "execution_count": 25,
   "id": "5e04c317",
   "metadata": {},
   "outputs": [],
   "source": [
    "# đọc model MultinomialNB\n",
    "filename1 = 'naive_model.pkl'\n",
    "with open(filename1, 'rb') as f:\n",
    "    naive_model = pickle.load(f)"
   ]
  },
  {
   "cell_type": "code",
   "execution_count": 26,
   "id": "32040540",
   "metadata": {},
   "outputs": [],
   "source": [
    "# đọc Countvectorizer model\n",
    "filename2 = 'count_model.pkl'\n",
    "with open(filename2, 'rb') as f:\n",
    "    count_model = pickle.load(f)"
   ]
  },
  {
   "cell_type": "code",
   "execution_count": 33,
   "id": "2d55b2f5",
   "metadata": {},
   "outputs": [],
   "source": [
    "text_new = np.array(['Hochiminh city in my heart',\n",
    "                     \"Hanoi is capital of Vietnam\"])"
   ]
  },
  {
   "cell_type": "code",
   "execution_count": 34,
   "id": "a6813f88",
   "metadata": {},
   "outputs": [
    {
     "data": {
      "text/plain": [
       "array([[0, 0, 1, 1, 0, 0, 0, 0, 0],\n",
       "       [0, 0, 0, 0, 1, 0, 1, 0, 1]], dtype=int64)"
      ]
     },
     "execution_count": 34,
     "metadata": {},
     "output_type": "execute_result"
    }
   ],
   "source": [
    "# tạo bag of words\n",
    "X_new = count_model.transform(text_new).toarray()\n",
    "X_new"
   ]
  },
  {
   "cell_type": "code",
   "execution_count": 35,
   "id": "c961a32c",
   "metadata": {},
   "outputs": [
    {
     "data": {
      "text/plain": [
       "array([1, 0])"
      ]
     },
     "execution_count": 35,
     "metadata": {},
     "output_type": "execute_result"
    }
   ],
   "source": [
    "y_new = naive_model.predict(X_new)\n",
    "y_new"
   ]
  },
  {
   "cell_type": "code",
   "execution_count": null,
   "id": "c287772f",
   "metadata": {},
   "outputs": [],
   "source": []
  }
 ],
 "metadata": {
  "kernelspec": {
   "display_name": "Python 3",
   "language": "python",
   "name": "python3"
  },
  "language_info": {
   "codemirror_mode": {
    "name": "ipython",
    "version": 3
   },
   "file_extension": ".py",
   "mimetype": "text/x-python",
   "name": "python",
   "nbconvert_exporter": "python",
   "pygments_lexer": "ipython3",
   "version": "3.6.8"
  }
 },
 "nbformat": 4,
 "nbformat_minor": 5
}
