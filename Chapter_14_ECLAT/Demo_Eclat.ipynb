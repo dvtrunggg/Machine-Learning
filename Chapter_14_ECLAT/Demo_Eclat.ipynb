{
 "cells": [
  {
   "cell_type": "code",
   "execution_count": 38,
   "id": "848b0ebe",
   "metadata": {
    "ExecuteTime": {
     "end_time": "2022-01-26T14:07:58.702299Z",
     "start_time": "2022-01-26T14:07:58.680356Z"
    }
   },
   "outputs": [
    {
     "name": "stdout",
     "output_type": "stream",
     "text": [
      "The nb_black extension is already loaded. To reload it, use:\n",
      "  %reload_ext nb_black\n"
     ]
    },
    {
     "data": {
      "application/javascript": [
       "\n",
       "            setTimeout(function() {\n",
       "                var nbb_cell_id = 38;\n",
       "                var nbb_unformatted_code = \"import sys\\nfrom collections import defaultdict\\nimport random\\nimport numpy as np\\nimport matplotlib.pyplot as plt\\n%load_ext nb_black\";\n",
       "                var nbb_formatted_code = \"import sys\\nfrom collections import defaultdict\\nimport random\\nimport numpy as np\\nimport matplotlib.pyplot as plt\\n\\n%load_ext nb_black\";\n",
       "                var nbb_cells = Jupyter.notebook.get_cells();\n",
       "                for (var i = 0; i < nbb_cells.length; ++i) {\n",
       "                    if (nbb_cells[i].input_prompt_number == nbb_cell_id) {\n",
       "                        if (nbb_cells[i].get_text() == nbb_unformatted_code) {\n",
       "                             nbb_cells[i].set_text(nbb_formatted_code);\n",
       "                        }\n",
       "                        break;\n",
       "                    }\n",
       "                }\n",
       "            }, 500);\n",
       "            "
      ],
      "text/plain": [
       "<IPython.core.display.Javascript object>"
      ]
     },
     "metadata": {},
     "output_type": "display_data"
    }
   ],
   "source": [
    "import sys\n",
    "from collections import defaultdict\n",
    "import random\n",
    "import numpy as np\n",
    "import matplotlib.pyplot as plt\n",
    "\n",
    "%load_ext nb_black"
   ]
  },
  {
   "cell_type": "code",
   "execution_count": 27,
   "id": "35965ddc",
   "metadata": {
    "ExecuteTime": {
     "end_time": "2022-01-26T14:05:22.826969Z",
     "start_time": "2022-01-26T14:05:22.802032Z"
    }
   },
   "outputs": [
    {
     "data": {
      "application/javascript": [
       "\n",
       "            setTimeout(function() {\n",
       "                var nbb_cell_id = 27;\n",
       "                var nbb_unformatted_code = \"\\ndef tidlists(transactions):\\n    tl = defaultdict(set)\\n    for tid, t in enumerate(transactions):\\n        for item in t:\\n            tl[item].add(tid)\\n    return list(tl.items())\\n\\nclass IntersectAll:\\n    def __and__(self, other):\\n        return other\\nIntersectAll = IntersectAll()\\n\\ndef eclat(items, minsup=0, minlen=1):\\n    frequent_itemsets = {(): IntersectAll}\\n    def recurse(items, prefix):\\n        while len(items) > 0:\\n            item, item_tidlist = items.pop()\\n            l = prefix + (item,)  # l is the (ordered) tuple of items we are looking for\\n            new_tidlist = frequent_itemsets[prefix] & item_tidlist\\n            if len(new_tidlist) >= minsup:  # add frequent_itemsets to the new frequent_itemsets\\n                frequent_itemsets[l] = new_tidlist\\n            \\n            # define the new l-conditional database\\n            new_items = []\\n            for new_item, _item_tidlist in items:\\n                new_item_tidlist = _item_tidlist & item_tidlist\\n                if len(new_item_tidlist) >= minsup:\\n                    new_items.append((new_item, new_item_tidlist))\\n            \\n            # recurse, with l as prefix\\n            recurse(new_items, l)\\n    \\n    recurse(items.copy(), ())\\n    return {k: len(v) for k, v in frequent_itemsets.items() if len(k) >= minlen}\";\n",
       "                var nbb_formatted_code = \"def tidlists(transactions):\\n    tl = defaultdict(set)\\n    for tid, t in enumerate(transactions):\\n        for item in t:\\n            tl[item].add(tid)\\n    return list(tl.items())\\n\\n\\nclass IntersectAll:\\n    def __and__(self, other):\\n        return other\\n\\n\\nIntersectAll = IntersectAll()\\n\\n\\ndef eclat(items, minsup=0, minlen=1):\\n    frequent_itemsets = {(): IntersectAll}\\n\\n    def recurse(items, prefix):\\n        while len(items) > 0:\\n            item, item_tidlist = items.pop()\\n            l = prefix + (item,)  # l is the (ordered) tuple of items we are looking for\\n            new_tidlist = frequent_itemsets[prefix] & item_tidlist\\n            if (\\n                len(new_tidlist) >= minsup\\n            ):  # add frequent_itemsets to the new frequent_itemsets\\n                frequent_itemsets[l] = new_tidlist\\n\\n            # define the new l-conditional database\\n            new_items = []\\n            for new_item, _item_tidlist in items:\\n                new_item_tidlist = _item_tidlist & item_tidlist\\n                if len(new_item_tidlist) >= minsup:\\n                    new_items.append((new_item, new_item_tidlist))\\n\\n            # recurse, with l as prefix\\n            recurse(new_items, l)\\n\\n    recurse(items.copy(), ())\\n    return {k: len(v) for k, v in frequent_itemsets.items() if len(k) >= minlen}\";\n",
       "                var nbb_cells = Jupyter.notebook.get_cells();\n",
       "                for (var i = 0; i < nbb_cells.length; ++i) {\n",
       "                    if (nbb_cells[i].input_prompt_number == nbb_cell_id) {\n",
       "                        if (nbb_cells[i].get_text() == nbb_unformatted_code) {\n",
       "                             nbb_cells[i].set_text(nbb_formatted_code);\n",
       "                        }\n",
       "                        break;\n",
       "                    }\n",
       "                }\n",
       "            }, 500);\n",
       "            "
      ],
      "text/plain": [
       "<IPython.core.display.Javascript object>"
      ]
     },
     "metadata": {},
     "output_type": "display_data"
    }
   ],
   "source": [
    "\n",
    "def tidlists(transactions):\n",
    "    tl = defaultdict(set)\n",
    "    for tid, t in enumerate(transactions):\n",
    "        for item in t:\n",
    "            tl[item].add(tid)\n",
    "    return list(tl.items())\n",
    "\n",
    "class IntersectAll:\n",
    "    def __and__(self, other):\n",
    "        return other\n",
    "IntersectAll = IntersectAll()\n",
    "\n",
    "def eclat(items, minsup=0, minlen=1):\n",
    "    frequent_itemsets = {(): IntersectAll}\n",
    "    def recurse(items, prefix):\n",
    "        while len(items) > 0:\n",
    "            item, item_tidlist = items.pop()\n",
    "            l = prefix + (item,)  # l is the (ordered) tuple of items we are looking for\n",
    "            new_tidlist = frequent_itemsets[prefix] & item_tidlist\n",
    "            if len(new_tidlist) >= minsup:  # add frequent_itemsets to the new frequent_itemsets\n",
    "                frequent_itemsets[l] = new_tidlist\n",
    "            \n",
    "            # define the new l-conditional database\n",
    "            new_items = []\n",
    "            for new_item, _item_tidlist in items:\n",
    "                new_item_tidlist = _item_tidlist & item_tidlist\n",
    "                if len(new_item_tidlist) >= minsup:\n",
    "                    new_items.append((new_item, new_item_tidlist))\n",
    "            \n",
    "            # recurse, with l as prefix\n",
    "            recurse(new_items, l)\n",
    "    \n",
    "    recurse(items.copy(), ())\n",
    "    return {k: len(v) for k, v in frequent_itemsets.items() if len(k) >= minlen}\n"
   ]
  },
  {
   "cell_type": "code",
   "execution_count": 28,
   "id": "211e24f4",
   "metadata": {
    "ExecuteTime": {
     "end_time": "2022-01-26T14:05:22.997660Z",
     "start_time": "2022-01-26T14:05:22.972727Z"
    }
   },
   "outputs": [
    {
     "data": {
      "application/javascript": [
       "\n",
       "            setTimeout(function() {\n",
       "                var nbb_cell_id = 28;\n",
       "                var nbb_unformatted_code = \"# t\\u1ea1o danh s\\u00e1ch l\\u01b0u c\\u00e1c giao d\\u1ecbch (transaction)\\ndataset = [\\n    [\\\"Eggs\\\", \\\"Milk\\\", \\\"Onion\\\", \\\"Nutmeg\\\", \\\"Kidney Beans\\\", \\\"Yogurt\\\"],\\n    [\\\"Dill\\\", \\\"Onion\\\", \\\"Nutmeg\\\", \\\"Eggs\\\", \\\"Yogurt\\\"],\\n    [\\\"Milk\\\", \\\"Apple\\\", \\\"Kidney Beans\\\", \\\"Eggs\\\"],\\n    [\\\"Milk\\\", \\\"Unicorn\\\", \\\"Corn\\\", \\\"Kidney Beans\\\", \\\"Yogurt\\\"],\\n    [\\\"Corn\\\", \\\"Onion\\\", \\\"Kidney Beans\\\", \\\"Ice cream\\\", \\\"Eggs\\\"],\\n    [\\\"Orange\\\", \\\"Corn\\\", \\\"Eggs\\\", \\\"Yogurt\\\"],\\n    [\\\"Milk\\\", \\\"Apple\\\", \\\"Orange\\\", \\\"Eggs\\\"],\\n    [\\\"Corn\\\", \\\"Coke\\\", \\\"Kidney Beans\\\", \\\"Ice cream\\\"],\\n    [\\\"Dill\\\", \\\"Onion\\\", \\\"Nutmeg\\\"],\\n    [\\\"Coke\\\", \\\"Apple\\\", \\\"Ice cream\\\"],\\n]\";\n",
       "                var nbb_formatted_code = \"# t\\u1ea1o danh s\\u00e1ch l\\u01b0u c\\u00e1c giao d\\u1ecbch (transaction)\\ndataset = [\\n    [\\\"Eggs\\\", \\\"Milk\\\", \\\"Onion\\\", \\\"Nutmeg\\\", \\\"Kidney Beans\\\", \\\"Yogurt\\\"],\\n    [\\\"Dill\\\", \\\"Onion\\\", \\\"Nutmeg\\\", \\\"Eggs\\\", \\\"Yogurt\\\"],\\n    [\\\"Milk\\\", \\\"Apple\\\", \\\"Kidney Beans\\\", \\\"Eggs\\\"],\\n    [\\\"Milk\\\", \\\"Unicorn\\\", \\\"Corn\\\", \\\"Kidney Beans\\\", \\\"Yogurt\\\"],\\n    [\\\"Corn\\\", \\\"Onion\\\", \\\"Kidney Beans\\\", \\\"Ice cream\\\", \\\"Eggs\\\"],\\n    [\\\"Orange\\\", \\\"Corn\\\", \\\"Eggs\\\", \\\"Yogurt\\\"],\\n    [\\\"Milk\\\", \\\"Apple\\\", \\\"Orange\\\", \\\"Eggs\\\"],\\n    [\\\"Corn\\\", \\\"Coke\\\", \\\"Kidney Beans\\\", \\\"Ice cream\\\"],\\n    [\\\"Dill\\\", \\\"Onion\\\", \\\"Nutmeg\\\"],\\n    [\\\"Coke\\\", \\\"Apple\\\", \\\"Ice cream\\\"],\\n]\";\n",
       "                var nbb_cells = Jupyter.notebook.get_cells();\n",
       "                for (var i = 0; i < nbb_cells.length; ++i) {\n",
       "                    if (nbb_cells[i].input_prompt_number == nbb_cell_id) {\n",
       "                        if (nbb_cells[i].get_text() == nbb_unformatted_code) {\n",
       "                             nbb_cells[i].set_text(nbb_formatted_code);\n",
       "                        }\n",
       "                        break;\n",
       "                    }\n",
       "                }\n",
       "            }, 500);\n",
       "            "
      ],
      "text/plain": [
       "<IPython.core.display.Javascript object>"
      ]
     },
     "metadata": {},
     "output_type": "display_data"
    }
   ],
   "source": [
    "# tạo danh sách lưu các giao dịch (transaction)\n",
    "dataset = [\n",
    "    [\"Eggs\", \"Milk\", \"Onion\", \"Nutmeg\", \"Kidney Beans\", \"Yogurt\"],\n",
    "    [\"Dill\", \"Onion\", \"Nutmeg\", \"Eggs\", \"Yogurt\"],\n",
    "    [\"Milk\", \"Apple\", \"Kidney Beans\", \"Eggs\"],\n",
    "    [\"Milk\", \"Unicorn\", \"Corn\", \"Kidney Beans\", \"Yogurt\"],\n",
    "    [\"Corn\", \"Onion\", \"Kidney Beans\", \"Ice cream\", \"Eggs\"],\n",
    "    [\"Orange\", \"Corn\", \"Eggs\", \"Yogurt\"],\n",
    "    [\"Milk\", \"Apple\", \"Orange\", \"Eggs\"],\n",
    "    [\"Corn\", \"Coke\", \"Kidney Beans\", \"Ice cream\"],\n",
    "    [\"Dill\", \"Onion\", \"Nutmeg\"],\n",
    "    [\"Coke\", \"Apple\", \"Ice cream\"],\n",
    "]"
   ]
  },
  {
   "cell_type": "code",
   "execution_count": 29,
   "id": "c7e432fb",
   "metadata": {
    "ExecuteTime": {
     "end_time": "2022-01-26T14:05:23.169231Z",
     "start_time": "2022-01-26T14:05:23.149284Z"
    }
   },
   "outputs": [
    {
     "data": {
      "text/plain": [
       "[('Eggs', {0, 1, 2, 4, 5, 6}),\n",
       " ('Milk', {0, 2, 3, 6}),\n",
       " ('Onion', {0, 1, 4, 8}),\n",
       " ('Nutmeg', {0, 1, 8}),\n",
       " ('Kidney Beans', {0, 2, 3, 4, 7}),\n",
       " ('Yogurt', {0, 1, 3, 5}),\n",
       " ('Dill', {1, 8}),\n",
       " ('Apple', {2, 6, 9}),\n",
       " ('Unicorn', {3}),\n",
       " ('Corn', {3, 4, 5, 7}),\n",
       " ('Ice cream', {4, 7, 9}),\n",
       " ('Orange', {5, 6}),\n",
       " ('Coke', {7, 9})]"
      ]
     },
     "execution_count": 29,
     "metadata": {},
     "output_type": "execute_result"
    },
    {
     "data": {
      "application/javascript": [
       "\n",
       "            setTimeout(function() {\n",
       "                var nbb_cell_id = 29;\n",
       "                var nbb_unformatted_code = \"tid_list = tidlists(dataset)\\ntid_list\";\n",
       "                var nbb_formatted_code = \"tid_list = tidlists(dataset)\\ntid_list\";\n",
       "                var nbb_cells = Jupyter.notebook.get_cells();\n",
       "                for (var i = 0; i < nbb_cells.length; ++i) {\n",
       "                    if (nbb_cells[i].input_prompt_number == nbb_cell_id) {\n",
       "                        if (nbb_cells[i].get_text() == nbb_unformatted_code) {\n",
       "                             nbb_cells[i].set_text(nbb_formatted_code);\n",
       "                        }\n",
       "                        break;\n",
       "                    }\n",
       "                }\n",
       "            }, 500);\n",
       "            "
      ],
      "text/plain": [
       "<IPython.core.display.Javascript object>"
      ]
     },
     "metadata": {},
     "output_type": "display_data"
    }
   ],
   "source": [
    "tid_list = tidlists(dataset)\n",
    "tid_list"
   ]
  },
  {
   "cell_type": "code",
   "execution_count": 30,
   "id": "d1fd4f85",
   "metadata": {
    "ExecuteTime": {
     "end_time": "2022-01-26T14:05:23.354531Z",
     "start_time": "2022-01-26T14:05:23.331627Z"
    }
   },
   "outputs": [
    {
     "data": {
      "text/plain": [
       "{('Coke', 'Ice cream'): 2,\n",
       " ('Orange', 'Eggs'): 2,\n",
       " ('Ice cream', 'Corn'): 2,\n",
       " ('Ice cream', 'Corn', 'Kidney Beans'): 2,\n",
       " ('Ice cream', 'Kidney Beans'): 2,\n",
       " ('Corn', 'Yogurt'): 2,\n",
       " ('Corn', 'Kidney Beans'): 3,\n",
       " ('Corn', 'Eggs'): 2,\n",
       " ('Apple', 'Milk'): 2,\n",
       " ('Apple', 'Milk', 'Eggs'): 2,\n",
       " ('Apple', 'Eggs'): 2,\n",
       " ('Dill', 'Nutmeg'): 2,\n",
       " ('Dill', 'Nutmeg', 'Onion'): 2,\n",
       " ('Dill', 'Onion'): 2,\n",
       " ('Yogurt', 'Kidney Beans'): 2,\n",
       " ('Yogurt', 'Kidney Beans', 'Milk'): 2,\n",
       " ('Yogurt', 'Nutmeg'): 2,\n",
       " ('Yogurt', 'Nutmeg', 'Onion'): 2,\n",
       " ('Yogurt', 'Nutmeg', 'Onion', 'Eggs'): 2,\n",
       " ('Yogurt', 'Nutmeg', 'Eggs'): 2,\n",
       " ('Yogurt', 'Onion'): 2,\n",
       " ('Yogurt', 'Onion', 'Eggs'): 2,\n",
       " ('Yogurt', 'Milk'): 2,\n",
       " ('Yogurt', 'Eggs'): 3,\n",
       " ('Kidney Beans', 'Onion'): 2,\n",
       " ('Kidney Beans', 'Onion', 'Eggs'): 2,\n",
       " ('Kidney Beans', 'Milk'): 3,\n",
       " ('Kidney Beans', 'Milk', 'Eggs'): 2,\n",
       " ('Kidney Beans', 'Eggs'): 3,\n",
       " ('Nutmeg', 'Onion'): 3,\n",
       " ('Nutmeg', 'Onion', 'Eggs'): 2,\n",
       " ('Nutmeg', 'Eggs'): 2,\n",
       " ('Onion', 'Eggs'): 3,\n",
       " ('Milk', 'Eggs'): 3}"
      ]
     },
     "execution_count": 30,
     "metadata": {},
     "output_type": "execute_result"
    },
    {
     "data": {
      "application/javascript": [
       "\n",
       "            setTimeout(function() {\n",
       "                var nbb_cell_id = 30;\n",
       "                var nbb_unformatted_code = \"# minsup=2 ch\\u1ec9 x\\u00e9t s\\u1ea3n ph\\u1ea9m c\\u00f3 \\u00edt nh\\u1ea5t 2 giao d\\u1ecbch tr\\u1edf l\\u00ean\\n# minlen=2: ch\\u1ec9 x\\u00e9t 2 s\\u1ea3n ph\\u1ea9m li\\u00ean quan\\n\\nresult = eclat(tid_list, minsup=2, minlen=2)\\nresult\";\n",
       "                var nbb_formatted_code = \"# minsup=2 ch\\u1ec9 x\\u00e9t s\\u1ea3n ph\\u1ea9m c\\u00f3 \\u00edt nh\\u1ea5t 2 giao d\\u1ecbch tr\\u1edf l\\u00ean\\n# minlen=2: ch\\u1ec9 x\\u00e9t 2 s\\u1ea3n ph\\u1ea9m li\\u00ean quan\\n\\nresult = eclat(tid_list, minsup=2, minlen=2)\\nresult\";\n",
       "                var nbb_cells = Jupyter.notebook.get_cells();\n",
       "                for (var i = 0; i < nbb_cells.length; ++i) {\n",
       "                    if (nbb_cells[i].input_prompt_number == nbb_cell_id) {\n",
       "                        if (nbb_cells[i].get_text() == nbb_unformatted_code) {\n",
       "                             nbb_cells[i].set_text(nbb_formatted_code);\n",
       "                        }\n",
       "                        break;\n",
       "                    }\n",
       "                }\n",
       "            }, 500);\n",
       "            "
      ],
      "text/plain": [
       "<IPython.core.display.Javascript object>"
      ]
     },
     "metadata": {},
     "output_type": "display_data"
    }
   ],
   "source": [
    "# minsup=2 chỉ xét sản phẩm có ít nhất 2 giao dịch trở lên\n",
    "# minlen=2: chỉ xét 2 sản phẩm liên quan\n",
    "\n",
    "result = eclat(tid_list, minsup=2, minlen=2)\n",
    "result"
   ]
  },
  {
   "cell_type": "code",
   "execution_count": 31,
   "id": "8636df6f",
   "metadata": {
    "ExecuteTime": {
     "end_time": "2022-01-26T14:05:32.878817Z",
     "start_time": "2022-01-26T14:05:32.867813Z"
    }
   },
   "outputs": [
    {
     "data": {
      "text/plain": [
       "'\\nminlen=2 => mỗi dòng sẽ có 1 nhóm gồm 2 sản phẩm\\n'"
      ]
     },
     "execution_count": 31,
     "metadata": {},
     "output_type": "execute_result"
    },
    {
     "data": {
      "application/javascript": [
       "\n",
       "            setTimeout(function() {\n",
       "                var nbb_cell_id = 31;\n",
       "                var nbb_unformatted_code = \"\\\"\\\"\\\"\\nminlen=2 => m\\u1ed7i d\\u00f2ng s\\u1ebd c\\u00f3 1 nh\\u00f3m g\\u1ed3m 2 s\\u1ea3n ph\\u1ea9m\\n\\\"\\\"\\\"\";\n",
       "                var nbb_formatted_code = \"\\\"\\\"\\\"\\nminlen=2 => m\\u1ed7i d\\u00f2ng s\\u1ebd c\\u00f3 1 nh\\u00f3m g\\u1ed3m 2 s\\u1ea3n ph\\u1ea9m\\n\\\"\\\"\\\"\";\n",
       "                var nbb_cells = Jupyter.notebook.get_cells();\n",
       "                for (var i = 0; i < nbb_cells.length; ++i) {\n",
       "                    if (nbb_cells[i].input_prompt_number == nbb_cell_id) {\n",
       "                        if (nbb_cells[i].get_text() == nbb_unformatted_code) {\n",
       "                             nbb_cells[i].set_text(nbb_formatted_code);\n",
       "                        }\n",
       "                        break;\n",
       "                    }\n",
       "                }\n",
       "            }, 500);\n",
       "            "
      ],
      "text/plain": [
       "<IPython.core.display.Javascript object>"
      ]
     },
     "metadata": {},
     "output_type": "display_data"
    }
   ],
   "source": [
    "\"\"\"\n",
    "minlen=2 => mỗi dòng sẽ có 1 nhóm gồm 2 sản phẩm\n",
    "\"\"\""
   ]
  },
  {
   "cell_type": "code",
   "execution_count": 32,
   "id": "7f10004a",
   "metadata": {
    "ExecuteTime": {
     "end_time": "2022-01-26T14:05:33.080852Z",
     "start_time": "2022-01-26T14:05:33.071876Z"
    }
   },
   "outputs": [
    {
     "data": {
      "text/plain": [
       "dict"
      ]
     },
     "execution_count": 32,
     "metadata": {},
     "output_type": "execute_result"
    },
    {
     "data": {
      "application/javascript": [
       "\n",
       "            setTimeout(function() {\n",
       "                var nbb_cell_id = 32;\n",
       "                var nbb_unformatted_code = \"type(result)\";\n",
       "                var nbb_formatted_code = \"type(result)\";\n",
       "                var nbb_cells = Jupyter.notebook.get_cells();\n",
       "                for (var i = 0; i < nbb_cells.length; ++i) {\n",
       "                    if (nbb_cells[i].input_prompt_number == nbb_cell_id) {\n",
       "                        if (nbb_cells[i].get_text() == nbb_unformatted_code) {\n",
       "                             nbb_cells[i].set_text(nbb_formatted_code);\n",
       "                        }\n",
       "                        break;\n",
       "                    }\n",
       "                }\n",
       "            }, 500);\n",
       "            "
      ],
      "text/plain": [
       "<IPython.core.display.Javascript object>"
      ]
     },
     "metadata": {},
     "output_type": "display_data"
    }
   ],
   "source": [
    "type(result)"
   ]
  },
  {
   "cell_type": "code",
   "execution_count": 33,
   "id": "ffd01383",
   "metadata": {
    "ExecuteTime": {
     "end_time": "2022-01-26T14:05:39.529451Z",
     "start_time": "2022-01-26T14:05:39.509473Z"
    }
   },
   "outputs": [
    {
     "data": {
      "text/plain": [
       "{('Coke', 'Ice cream'): 2,\n",
       " ('Orange', 'Eggs'): 2,\n",
       " ('Ice cream', 'Corn'): 2,\n",
       " ('Ice cream', 'Corn', 'Kidney Beans'): 2,\n",
       " ('Ice cream', 'Kidney Beans'): 2,\n",
       " ('Corn', 'Yogurt'): 2,\n",
       " ('Corn', 'Kidney Beans'): 3,\n",
       " ('Corn', 'Eggs'): 2,\n",
       " ('Apple', 'Milk'): 2,\n",
       " ('Apple', 'Milk', 'Eggs'): 2,\n",
       " ('Apple', 'Eggs'): 2,\n",
       " ('Dill', 'Nutmeg'): 2,\n",
       " ('Dill', 'Nutmeg', 'Onion'): 2,\n",
       " ('Dill', 'Onion'): 2,\n",
       " ('Yogurt', 'Kidney Beans'): 2,\n",
       " ('Yogurt', 'Kidney Beans', 'Milk'): 2,\n",
       " ('Yogurt', 'Nutmeg'): 2,\n",
       " ('Yogurt', 'Nutmeg', 'Onion'): 2,\n",
       " ('Yogurt', 'Nutmeg', 'Onion', 'Eggs'): 2,\n",
       " ('Yogurt', 'Nutmeg', 'Eggs'): 2,\n",
       " ('Yogurt', 'Onion'): 2,\n",
       " ('Yogurt', 'Onion', 'Eggs'): 2,\n",
       " ('Yogurt', 'Milk'): 2,\n",
       " ('Yogurt', 'Eggs'): 3,\n",
       " ('Kidney Beans', 'Onion'): 2,\n",
       " ('Kidney Beans', 'Onion', 'Eggs'): 2,\n",
       " ('Kidney Beans', 'Milk'): 3,\n",
       " ('Kidney Beans', 'Milk', 'Eggs'): 2,\n",
       " ('Kidney Beans', 'Eggs'): 3,\n",
       " ('Nutmeg', 'Onion'): 3,\n",
       " ('Nutmeg', 'Onion', 'Eggs'): 2,\n",
       " ('Nutmeg', 'Eggs'): 2,\n",
       " ('Onion', 'Eggs'): 3,\n",
       " ('Milk', 'Eggs'): 3}"
      ]
     },
     "execution_count": 33,
     "metadata": {},
     "output_type": "execute_result"
    },
    {
     "data": {
      "application/javascript": [
       "\n",
       "            setTimeout(function() {\n",
       "                var nbb_cell_id = 33;\n",
       "                var nbb_unformatted_code = \"# t\\u00ednh confidence v\\u00e0 lift d\\u1ef1a v\\u00e0o support\\nresult\";\n",
       "                var nbb_formatted_code = \"# t\\u00ednh confidence v\\u00e0 lift d\\u1ef1a v\\u00e0o support\\nresult\";\n",
       "                var nbb_cells = Jupyter.notebook.get_cells();\n",
       "                for (var i = 0; i < nbb_cells.length; ++i) {\n",
       "                    if (nbb_cells[i].input_prompt_number == nbb_cell_id) {\n",
       "                        if (nbb_cells[i].get_text() == nbb_unformatted_code) {\n",
       "                             nbb_cells[i].set_text(nbb_formatted_code);\n",
       "                        }\n",
       "                        break;\n",
       "                    }\n",
       "                }\n",
       "            }, 500);\n",
       "            "
      ],
      "text/plain": [
       "<IPython.core.display.Javascript object>"
      ]
     },
     "metadata": {},
     "output_type": "display_data"
    }
   ],
   "source": [
    "# tính confidence và lift dựa vào support\n",
    "result"
   ]
  },
  {
   "cell_type": "code",
   "execution_count": 13,
   "id": "6c13837c",
   "metadata": {},
   "outputs": [
    {
     "name": "stdout",
     "output_type": "stream",
     "text": [
      "('Apple', 'Milk') : 2\n",
      "('Apple', 'Milk', 'Eggs') : 2\n",
      "('Yogurt', 'Kidney Beans', 'Milk') : 2\n",
      "('Yogurt', 'Milk') : 2\n",
      "('Kidney Beans', 'Milk') : 3\n",
      "('Kidney Beans', 'Milk', 'Eggs') : 2\n",
      "('Milk', 'Eggs') : 3\n"
     ]
    },
    {
     "data": {
      "application/javascript": [
       "\n",
       "            setTimeout(function() {\n",
       "                var nbb_cell_id = 13;\n",
       "                var nbb_unformatted_code = \"# \\\"ki\\u1ec3m tra c\\u00f3 giao d\\u1ecbch n\\u00e0o c\\u00f3 Milk hay kh\\u00f4ng? n\\u1ebfu c\\u00f3 th\\u00ec n\\u00f3 k\\u1ebft h\\u1ee3p v\\u1edbi sp n\\u00e0o?\\\"\\nfor key, value in result.items():\\n    if 'Milk' in key:\\n        print(key, ':', value)\";\n",
       "                var nbb_formatted_code = \"# \\\"ki\\u1ec3m tra c\\u00f3 giao d\\u1ecbch n\\u00e0o c\\u00f3 Milk hay kh\\u00f4ng? n\\u1ebfu c\\u00f3 th\\u00ec n\\u00f3 k\\u1ebft h\\u1ee3p v\\u1edbi sp n\\u00e0o?\\\"\\nfor key, value in result.items():\\n    if \\\"Milk\\\" in key:\\n        print(key, \\\":\\\", value)\";\n",
       "                var nbb_cells = Jupyter.notebook.get_cells();\n",
       "                for (var i = 0; i < nbb_cells.length; ++i) {\n",
       "                    if (nbb_cells[i].input_prompt_number == nbb_cell_id) {\n",
       "                        if (nbb_cells[i].get_text() == nbb_unformatted_code) {\n",
       "                             nbb_cells[i].set_text(nbb_formatted_code);\n",
       "                        }\n",
       "                        break;\n",
       "                    }\n",
       "                }\n",
       "            }, 500);\n",
       "            "
      ],
      "text/plain": [
       "<IPython.core.display.Javascript object>"
      ]
     },
     "metadata": {},
     "output_type": "display_data"
    }
   ],
   "source": [
    "# \"kiểm tra có giao dịch nào có Milk hay không? nếu có thì nó kết hợp với sp nào?\"\n",
    "for key, value in result.items():\n",
    "    if \"Milk\" in key:\n",
    "        print(key, \":\", value)"
   ]
  },
  {
   "cell_type": "code",
   "execution_count": 35,
   "id": "5158bb07",
   "metadata": {
    "ExecuteTime": {
     "end_time": "2022-01-26T14:06:36.412590Z",
     "start_time": "2022-01-26T14:06:36.396633Z"
    }
   },
   "outputs": [
    {
     "data": {
      "application/javascript": [
       "\n",
       "            setTimeout(function() {\n",
       "                var nbb_cell_id = 35;\n",
       "                var nbb_unformatted_code = \"# c\\u00e1c giao d\\u1ecbch c\\u00f3 milk\\n#=> milk c\\u00f3 th\\u1ec3 k\\u1ebft h\\u1ee3p v\\u1edbi Apple, Apple & Eggs , ....\";\n",
       "                var nbb_formatted_code = \"# c\\u00e1c giao d\\u1ecbch c\\u00f3 milk\\n# => milk c\\u00f3 th\\u1ec3 k\\u1ebft h\\u1ee3p v\\u1edbi Apple, Apple & Eggs , ....\";\n",
       "                var nbb_cells = Jupyter.notebook.get_cells();\n",
       "                for (var i = 0; i < nbb_cells.length; ++i) {\n",
       "                    if (nbb_cells[i].input_prompt_number == nbb_cell_id) {\n",
       "                        if (nbb_cells[i].get_text() == nbb_unformatted_code) {\n",
       "                             nbb_cells[i].set_text(nbb_formatted_code);\n",
       "                        }\n",
       "                        break;\n",
       "                    }\n",
       "                }\n",
       "            }, 500);\n",
       "            "
      ],
      "text/plain": [
       "<IPython.core.display.Javascript object>"
      ]
     },
     "metadata": {},
     "output_type": "display_data"
    }
   ],
   "source": [
    "# các giao dịch có milk\n",
    "# => milk có thể kết hợp với Apple, Apple & Eggs , ...."
   ]
  },
  {
   "cell_type": "code",
   "execution_count": 16,
   "id": "90e93a18",
   "metadata": {},
   "outputs": [
    {
     "data": {
      "application/javascript": [
       "\n",
       "            setTimeout(function() {\n",
       "                var nbb_cell_id = 16;\n",
       "                var nbb_unformatted_code = \"import numpy as np\";\n",
       "                var nbb_formatted_code = \"import numpy as np\";\n",
       "                var nbb_cells = Jupyter.notebook.get_cells();\n",
       "                for (var i = 0; i < nbb_cells.length; ++i) {\n",
       "                    if (nbb_cells[i].input_prompt_number == nbb_cell_id) {\n",
       "                        if (nbb_cells[i].get_text() == nbb_unformatted_code) {\n",
       "                             nbb_cells[i].set_text(nbb_formatted_code);\n",
       "                        }\n",
       "                        break;\n",
       "                    }\n",
       "                }\n",
       "            }, 500);\n",
       "            "
      ],
      "text/plain": [
       "<IPython.core.display.Javascript object>"
      ]
     },
     "metadata": {},
     "output_type": "display_data"
    }
   ],
   "source": [
    "import numpy as np"
   ]
  },
  {
   "cell_type": "code",
   "execution_count": 36,
   "id": "a7fc4183",
   "metadata": {
    "ExecuteTime": {
     "end_time": "2022-01-26T14:06:59.227979Z",
     "start_time": "2022-01-26T14:06:59.218032Z"
    }
   },
   "outputs": [
    {
     "data": {
      "application/javascript": [
       "\n",
       "            setTimeout(function() {\n",
       "                var nbb_cell_id = 36;\n",
       "                var nbb_unformatted_code = \"items = result.keys()\\nsuports = result.values()\\nlist_items = []\\nfor item in items:\\n    list_items.append(', '.join(item))\";\n",
       "                var nbb_formatted_code = \"items = result.keys()\\nsuports = result.values()\\nlist_items = []\\nfor item in items:\\n    list_items.append(\\\", \\\".join(item))\";\n",
       "                var nbb_cells = Jupyter.notebook.get_cells();\n",
       "                for (var i = 0; i < nbb_cells.length; ++i) {\n",
       "                    if (nbb_cells[i].input_prompt_number == nbb_cell_id) {\n",
       "                        if (nbb_cells[i].get_text() == nbb_unformatted_code) {\n",
       "                             nbb_cells[i].set_text(nbb_formatted_code);\n",
       "                        }\n",
       "                        break;\n",
       "                    }\n",
       "                }\n",
       "            }, 500);\n",
       "            "
      ],
      "text/plain": [
       "<IPython.core.display.Javascript object>"
      ]
     },
     "metadata": {},
     "output_type": "display_data"
    }
   ],
   "source": [
    "items = result.keys()\n",
    "suports = result.values()\n",
    "list_items = []\n",
    "for item in items:\n",
    "    list_items.append(\", \".join(item))"
   ]
  },
  {
   "cell_type": "code",
   "execution_count": 37,
   "id": "cba02fb3",
   "metadata": {
    "ExecuteTime": {
     "end_time": "2022-01-26T14:07:25.696702Z",
     "start_time": "2022-01-26T14:07:25.679757Z"
    }
   },
   "outputs": [
    {
     "data": {
      "text/plain": [
       "['Coke, Ice cream',\n",
       " 'Orange, Eggs',\n",
       " 'Ice cream, Corn',\n",
       " 'Ice cream, Corn, Kidney Beans',\n",
       " 'Ice cream, Kidney Beans',\n",
       " 'Corn, Yogurt',\n",
       " 'Corn, Kidney Beans',\n",
       " 'Corn, Eggs',\n",
       " 'Apple, Milk',\n",
       " 'Apple, Milk, Eggs',\n",
       " 'Apple, Eggs',\n",
       " 'Dill, Nutmeg',\n",
       " 'Dill, Nutmeg, Onion',\n",
       " 'Dill, Onion',\n",
       " 'Yogurt, Kidney Beans',\n",
       " 'Yogurt, Kidney Beans, Milk',\n",
       " 'Yogurt, Nutmeg',\n",
       " 'Yogurt, Nutmeg, Onion',\n",
       " 'Yogurt, Nutmeg, Onion, Eggs',\n",
       " 'Yogurt, Nutmeg, Eggs',\n",
       " 'Yogurt, Onion',\n",
       " 'Yogurt, Onion, Eggs',\n",
       " 'Yogurt, Milk',\n",
       " 'Yogurt, Eggs',\n",
       " 'Kidney Beans, Onion',\n",
       " 'Kidney Beans, Onion, Eggs',\n",
       " 'Kidney Beans, Milk',\n",
       " 'Kidney Beans, Milk, Eggs',\n",
       " 'Kidney Beans, Eggs',\n",
       " 'Nutmeg, Onion',\n",
       " 'Nutmeg, Onion, Eggs',\n",
       " 'Nutmeg, Eggs',\n",
       " 'Onion, Eggs',\n",
       " 'Milk, Eggs']"
      ]
     },
     "execution_count": 37,
     "metadata": {},
     "output_type": "execute_result"
    },
    {
     "data": {
      "application/javascript": [
       "\n",
       "            setTimeout(function() {\n",
       "                var nbb_cell_id = 37;\n",
       "                var nbb_unformatted_code = \"list_items\";\n",
       "                var nbb_formatted_code = \"list_items\";\n",
       "                var nbb_cells = Jupyter.notebook.get_cells();\n",
       "                for (var i = 0; i < nbb_cells.length; ++i) {\n",
       "                    if (nbb_cells[i].input_prompt_number == nbb_cell_id) {\n",
       "                        if (nbb_cells[i].get_text() == nbb_unformatted_code) {\n",
       "                             nbb_cells[i].set_text(nbb_formatted_code);\n",
       "                        }\n",
       "                        break;\n",
       "                    }\n",
       "                }\n",
       "            }, 500);\n",
       "            "
      ],
      "text/plain": [
       "<IPython.core.display.Javascript object>"
      ]
     },
     "metadata": {},
     "output_type": "display_data"
    }
   ],
   "source": [
    "list_items"
   ]
  },
  {
   "cell_type": "code",
   "execution_count": 40,
   "id": "24670bf8",
   "metadata": {
    "ExecuteTime": {
     "end_time": "2022-01-26T14:08:19.909611Z",
     "start_time": "2022-01-26T14:08:19.167596Z"
    }
   },
   "outputs": [
    {
     "data": {
      "image/png": "[encoded data removed]",
      "text/plain": [
       "<Figure size 1296x720 with 1 Axes>"
      ]
     },
     "metadata": {
      "needs_background": "light"
     },
     "output_type": "display_data"
    },
    {
     "data": {
      "application/javascript": [
       "\n",
       "            setTimeout(function() {\n",
       "                var nbb_cell_id = 40;\n",
       "                var nbb_unformatted_code = \"plt.figure(figsize=(18, 10))\\n\\narr_support = np.array(list(suports))\\nlist_mau = np.empty((arr_support.shape[0],), dtype=str)\\nlist_mau[arr_support <= 2] = \\\"green\\\"\\nlist_mau[arr_support > 2] = \\\"red\\\"\\n\\nplt.bar(list_items, suports, color=list_mau)\\nplt.xlabel(\\\"Itemsets\\\", color=\\\"red\\\", fontsize=15)\\nplt.ylabel(\\\"Support\\\", color=\\\"red\\\", fontsize=15)\\nplt.title(\\\"Association items with support\\\", color=\\\"red\\\", fontsize=20)\\nplt.xticks(rotation=85)\\nplt.show()\";\n",
       "                var nbb_formatted_code = \"plt.figure(figsize=(18, 10))\\n\\narr_support = np.array(list(suports))\\nlist_mau = np.empty((arr_support.shape[0],), dtype=str)\\nlist_mau[arr_support <= 2] = \\\"green\\\"\\nlist_mau[arr_support > 2] = \\\"red\\\"\\n\\nplt.bar(list_items, suports, color=list_mau)\\nplt.xlabel(\\\"Itemsets\\\", color=\\\"red\\\", fontsize=15)\\nplt.ylabel(\\\"Support\\\", color=\\\"red\\\", fontsize=15)\\nplt.title(\\\"Association items with support\\\", color=\\\"red\\\", fontsize=20)\\nplt.xticks(rotation=85)\\nplt.show()\";\n",
       "                var nbb_cells = Jupyter.notebook.get_cells();\n",
       "                for (var i = 0; i < nbb_cells.length; ++i) {\n",
       "                    if (nbb_cells[i].input_prompt_number == nbb_cell_id) {\n",
       "                        if (nbb_cells[i].get_text() == nbb_unformatted_code) {\n",
       "                             nbb_cells[i].set_text(nbb_formatted_code);\n",
       "                        }\n",
       "                        break;\n",
       "                    }\n",
       "                }\n",
       "            }, 500);\n",
       "            "
      ],
      "text/plain": [
       "<IPython.core.display.Javascript object>"
      ]
     },
     "metadata": {},
     "output_type": "display_data"
    }
   ],
   "source": [
    "plt.figure(figsize=(18, 10))\n",
    "\n",
    "arr_support = np.array(list(suports))\n",
    "list_mau = np.empty((arr_support.shape[0],), dtype=str)\n",
    "list_mau[arr_support <= 2] = \"green\"\n",
    "list_mau[arr_support > 2] = \"red\"\n",
    "\n",
    "plt.bar(list_items, suports, color=list_mau)\n",
    "plt.xlabel(\"Itemsets\", color=\"red\", fontsize=15)\n",
    "plt.ylabel(\"Support\", color=\"red\", fontsize=15)\n",
    "plt.title(\"Association items with support\", color=\"red\", fontsize=20)\n",
    "plt.xticks(rotation=85)\n",
    "plt.show()"
   ]
  },
  {
   "cell_type": "code",
   "execution_count": 42,
   "id": "5b6b2162",
   "metadata": {
    "ExecuteTime": {
     "end_time": "2022-01-26T14:11:02.628252Z",
     "start_time": "2022-01-26T14:11:02.615290Z"
    }
   },
   "outputs": [
    {
     "data": {
      "text/plain": [
       "'\\n=> các giao dịch màu đỏ (support = 3) cho thấy các sản phẩm này kết hợp với nhau sẽ dc mua nhiều hơn\\n'"
      ]
     },
     "execution_count": 42,
     "metadata": {},
     "output_type": "execute_result"
    },
    {
     "data": {
      "application/javascript": [
       "\n",
       "            setTimeout(function() {\n",
       "                var nbb_cell_id = 42;\n",
       "                var nbb_unformatted_code = \"'''\\n=> c\\u00e1c giao d\\u1ecbch m\\u00e0u \\u0111\\u1ecf (support = 3) cho th\\u1ea5y c\\u00e1c s\\u1ea3n ph\\u1ea9m n\\u00e0y k\\u1ebft h\\u1ee3p v\\u1edbi nhau s\\u1ebd dc mua nhi\\u1ec1u h\\u01a1n\\n'''\";\n",
       "                var nbb_formatted_code = \"\\\"\\\"\\\"\\n=> c\\u00e1c giao d\\u1ecbch m\\u00e0u \\u0111\\u1ecf (support = 3) cho th\\u1ea5y c\\u00e1c s\\u1ea3n ph\\u1ea9m n\\u00e0y k\\u1ebft h\\u1ee3p v\\u1edbi nhau s\\u1ebd dc mua nhi\\u1ec1u h\\u01a1n\\n\\\"\\\"\\\"\";\n",
       "                var nbb_cells = Jupyter.notebook.get_cells();\n",
       "                for (var i = 0; i < nbb_cells.length; ++i) {\n",
       "                    if (nbb_cells[i].input_prompt_number == nbb_cell_id) {\n",
       "                        if (nbb_cells[i].get_text() == nbb_unformatted_code) {\n",
       "                             nbb_cells[i].set_text(nbb_formatted_code);\n",
       "                        }\n",
       "                        break;\n",
       "                    }\n",
       "                }\n",
       "            }, 500);\n",
       "            "
      ],
      "text/plain": [
       "<IPython.core.display.Javascript object>"
      ]
     },
     "metadata": {},
     "output_type": "display_data"
    }
   ],
   "source": [
    "\"\"\"\n",
    "=> các giao dịch màu đỏ (support = 3) cho thấy các sản phẩm này kết hợp với nhau sẽ dc mua nhiều hơn\n",
    "\"\"\""
   ]
  },
  {
   "cell_type": "code",
   "execution_count": 41,
   "id": "c3dd73be",
   "metadata": {
    "ExecuteTime": {
     "end_time": "2022-01-26T14:08:37.823500Z",
     "start_time": "2022-01-26T14:08:37.808570Z"
    }
   },
   "outputs": [
    {
     "data": {
      "text/plain": [
       "array(34)"
      ]
     },
     "execution_count": 41,
     "metadata": {},
     "output_type": "execute_result"
    },
    {
     "data": {
      "application/javascript": [
       "\n",
       "            setTimeout(function() {\n",
       "                var nbb_cell_id = 41;\n",
       "                var nbb_unformatted_code = \"np.array(len(suports))\";\n",
       "                var nbb_formatted_code = \"np.array(len(suports))\";\n",
       "                var nbb_cells = Jupyter.notebook.get_cells();\n",
       "                for (var i = 0; i < nbb_cells.length; ++i) {\n",
       "                    if (nbb_cells[i].input_prompt_number == nbb_cell_id) {\n",
       "                        if (nbb_cells[i].get_text() == nbb_unformatted_code) {\n",
       "                             nbb_cells[i].set_text(nbb_formatted_code);\n",
       "                        }\n",
       "                        break;\n",
       "                    }\n",
       "                }\n",
       "            }, 500);\n",
       "            "
      ],
      "text/plain": [
       "<IPython.core.display.Javascript object>"
      ]
     },
     "metadata": {},
     "output_type": "display_data"
    }
   ],
   "source": [
    "np.array(len(suports))"
   ]
  },
  {
   "cell_type": "code",
   "execution_count": 43,
   "id": "ce7647e1",
   "metadata": {
    "ExecuteTime": {
     "end_time": "2022-01-26T14:11:57.012508Z",
     "start_time": "2022-01-26T14:11:56.993557Z"
    }
   },
   "outputs": [
    {
     "data": {
      "text/plain": [
       "array(['g', 'g', 'g', 'g', 'g', 'g', 'r', 'g', 'g', 'g', 'g', 'g', 'g',\n",
       "       'g', 'g', 'g', 'g', 'g', 'g', 'g', 'g', 'g', 'g', 'r', 'g', 'g',\n",
       "       'r', 'g', 'r', 'r', 'g', 'g', 'r', 'r'], dtype='<U1')"
      ]
     },
     "execution_count": 43,
     "metadata": {},
     "output_type": "execute_result"
    },
    {
     "data": {
      "application/javascript": [
       "\n",
       "            setTimeout(function() {\n",
       "                var nbb_cell_id = 43;\n",
       "                var nbb_unformatted_code = \"np.empty((len(suports),), dtype=str)\\nlist_mau = np.empty((len(suports),), dtype=str)\\nlist_mau[np.array(list(suports)) <= 2] = 'green'\\nlist_mau[np.array(list(suports)) > 2] = 'red'\\nlist_mau\";\n",
       "                var nbb_formatted_code = \"np.empty((len(suports),), dtype=str)\\nlist_mau = np.empty((len(suports),), dtype=str)\\nlist_mau[np.array(list(suports)) <= 2] = \\\"green\\\"\\nlist_mau[np.array(list(suports)) > 2] = \\\"red\\\"\\nlist_mau\";\n",
       "                var nbb_cells = Jupyter.notebook.get_cells();\n",
       "                for (var i = 0; i < nbb_cells.length; ++i) {\n",
       "                    if (nbb_cells[i].input_prompt_number == nbb_cell_id) {\n",
       "                        if (nbb_cells[i].get_text() == nbb_unformatted_code) {\n",
       "                             nbb_cells[i].set_text(nbb_formatted_code);\n",
       "                        }\n",
       "                        break;\n",
       "                    }\n",
       "                }\n",
       "            }, 500);\n",
       "            "
      ],
      "text/plain": [
       "<IPython.core.display.Javascript object>"
      ]
     },
     "metadata": {},
     "output_type": "display_data"
    }
   ],
   "source": [
    "np.empty((len(suports),), dtype=str)\n",
    "list_mau = np.empty((len(suports),), dtype=str)\n",
    "list_mau[np.array(list(suports)) <= 2] = \"green\"\n",
    "list_mau[np.array(list(suports)) > 2] = \"red\"\n",
    "list_mau"
   ]
  },
  {
   "cell_type": "code",
   "execution_count": null,
   "id": "2e288972",
   "metadata": {},
   "outputs": [],
   "source": []
  }
 ],
 "metadata": {
  "kernelspec": {
   "display_name": "Python 3 (ipykernel)",
   "language": "python",
   "name": "python3"
  },
  "language_info": {
   "codemirror_mode": {
    "name": "ipython",
    "version": 3
   },
   "file_extension": ".py",
   "mimetype": "text/x-python",
   "name": "python",
   "nbconvert_exporter": "python",
   "pygments_lexer": "ipython3",
   "version": "3.9.7"
  }
 },
 "nbformat": 4,
 "nbformat_minor": 5
}
